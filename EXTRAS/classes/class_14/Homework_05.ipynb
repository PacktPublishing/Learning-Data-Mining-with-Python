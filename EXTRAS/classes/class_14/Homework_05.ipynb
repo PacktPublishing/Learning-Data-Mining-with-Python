{
 "cells": [
  {
   "cell_type": "markdown",
   "id": "unsigned-intelligence",
   "metadata": {},
   "source": [
    "# Homework 05\n",
    "I. Take the airline opinion dataset (`airline_tweets.csv`) that was the subject of the Class 12  \n",
    "II. Divide the dataset into Train/Test: 80/20 percent fix the randomness!  \n",
    "III. Compare the different Methods:  \n",
    "\n",
    "  1. TextBlob\n",
    "  2. Microsoft Azure!!!\n",
    "  3. a train your own model with Sklearn algorithm, compare on the same subset!\n",
    "    * try different algorithms (https://scikit-learn.org/stable/auto_examples/classification/plot_classifier_comparison.html , play with parameters they offer) \n",
    "  3. * b try to train your model on completely new datasets LABELED (https://www.kaggle.com/datasets?search=sentiment&sort=votes&tags=13302-Classification&page=3)\n",
    "    * maybe improve your cleaning algorithm\n",
    "\n",
    "IV. Compare the results in the table  \n",
    "V. Write conclusions, \n",
    "   * how woud you detect sentences showing: hatred/racism/sexism, in Twitter (for example)\n",
    "   * which method would you choose to clasify opinions on Amazon products: positive/negative "
   ]
  },
  {
   "cell_type": "markdown",
   "id": "failing-postcard",
   "metadata": {},
   "source": [
    "*Three students who get the best results I invite for lunch to La Palma restaurant - in front of UdeA*"
   ]
  },
  {
   "cell_type": "markdown",
   "id": "together-publisher",
   "metadata": {},
   "source": [
    "# Create Twitter Developer account (it may take some days...)"
   ]
  },
  {
   "cell_type": "markdown",
   "id": "amateur-layer",
   "metadata": {},
   "source": [
    "# RUTA N\n",
    "https://mail.google.com/mail/u/0/#inbox/FMfcgzGqQSLWQSJSNBCnvFxcTxjPsRJB"
   ]
  },
  {
   "cell_type": "code",
   "execution_count": null,
   "id": "impressive-independence",
   "metadata": {},
   "outputs": [],
   "source": []
  }
 ],
 "metadata": {
  "kernelspec": {
   "display_name": "Python 3",
   "language": "python",
   "name": "python3"
  },
  "language_info": {
   "codemirror_mode": {
    "name": "ipython",
    "version": 3
   },
   "file_extension": ".py",
   "mimetype": "text/x-python",
   "name": "python",
   "nbconvert_exporter": "python",
   "pygments_lexer": "ipython3",
   "version": "3.7.2"
  }
 },
 "nbformat": 4,
 "nbformat_minor": 5
}
