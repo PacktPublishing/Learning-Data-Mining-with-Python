{
 "cells": [
  {
   "cell_type": "markdown",
   "id": "failing-reunion",
   "metadata": {},
   "source": [
    "# Introduction to Json files"
   ]
  },
  {
   "cell_type": "markdown",
   "id": "experienced-tractor",
   "metadata": {},
   "source": [
    "JSON stands for ‘JavaScript Object Notation’, as it was derived from the JavaScript programming language.\n",
    "\n",
    "It's a predictable, open-standard, language-independent format in which we exchange information with servers. Obviously, this makes using JSON beneficial for everyone involved. That's why the JSON format became widely popular. For instance, as we already mentioned, when we send a request to an API, data is often returned as a JSON. Another example is the payload data of a POST request which is also written in JSON.\n",
    "\n",
    "The JSON format relies on 3 key concepts:\n",
    "\n",
    "*    it should be easy for humans to read, write and understand;\n",
    "*    easy for programs to process and generate, regardless of the programming language;\n",
    "*    and, finally: written in plain text.\n"
   ]
  },
  {
   "cell_type": "markdown",
   "id": "worldwide-china",
   "metadata": {},
   "source": [
    "The usefulness of JSON lies in the fact that it's versatile and relatively concise. What's more, it's faster than other similar file formats, while it's already widely used for web-related applications, making it easy to find mature programming libraries for it. Moreover, JSON is very intuitive, and many text editors have built-in functionality for viewing such files in an easy-to-read way. Furthermore, it's easy to create and edit JSON files yourself using a text editor, while programmatically, it's a walk in the park. "
   ]
  },
  {
   "cell_type": "markdown",
   "id": "collaborative-battle",
   "metadata": {},
   "source": [
    "# The structure of a JSON object is as follows:\n",
    "\n",
    "*    The data are in name/value pairs using colons :.\n",
    "*    Data objects are separated by commas.\n",
    "*    Curly braces {} hold the objects.\n",
    "*    Square brackets [] can be used to indicate an array that contains a group of objects.\n",
    "*    Each data element is enclosed with quotes \"\" if it is a character, or without quotes if it is a numeric value."
   ]
  },
  {
   "cell_type": "markdown",
   "id": "worthy-november",
   "metadata": {},
   "source": [
    "# JSON Data Structures\n",
    "\n",
    "JSON can store any of the following data types:\n",
    "\n",
    "*    strings\n",
    "*    numbers\n",
    "*    objects (JSON object)\n",
    "*    arrays\n",
    "*    booleans (TRUE / FALSE)\n",
    "*    null"
   ]
  },
  {
   "cell_type": "markdown",
   "id": "future-pointer",
   "metadata": {},
   "source": [
    "## Example 1 of a name/value pair using a colon:"
   ]
  },
  {
   "cell_type": "code",
   "execution_count": 29,
   "id": "introductory-classics",
   "metadata": {},
   "outputs": [
    {
     "data": {
      "text/plain": [
       "{'name': 'John'}"
      ]
     },
     "execution_count": 29,
     "metadata": {},
     "output_type": "execute_result"
    }
   ],
   "source": [
    "{ \"name\":\"John\"}"
   ]
  },
  {
   "cell_type": "markdown",
   "id": "tropical-registration",
   "metadata": {},
   "source": [
    "## Example 2"
   ]
  },
  {
   "cell_type": "code",
   "execution_count": 30,
   "id": "handled-entity",
   "metadata": {},
   "outputs": [
    {
     "data": {
      "text/plain": [
       "{'name': 'John', 'age': 30, 'city': 'New York'}"
      ]
     },
     "execution_count": 30,
     "metadata": {},
     "output_type": "execute_result"
    }
   ],
   "source": [
    "{ \"name\":\"John\", \"age\":30, \"city\":\"New York\"}"
   ]
  },
  {
   "cell_type": "markdown",
   "id": "packed-graphics",
   "metadata": {},
   "source": [
    "## Example 3 Object student (OOP)"
   ]
  },
  {
   "cell_type": "code",
   "execution_count": 34,
   "id": "prompt-placement",
   "metadata": {},
   "outputs": [
    {
     "data": {
      "text/plain": [
       "{'student': [{'id': '01', 'name': 'Tom', 'lastname': 'Price'},\n",
       "  {'id': '02', 'name': 'Nick', 'lastname': 'Thameson'}]}"
      ]
     },
     "execution_count": 34,
     "metadata": {},
     "output_type": "execute_result"
    }
   ],
   "source": [
    "{\n",
    "  \"student\": [ \n",
    "\t\n",
    "     { \n",
    "        \"id\":\"01\", \n",
    "        \"name\": \"Tom\", \n",
    "        \"lastname\": \"Price\" \n",
    "     }, \n",
    "\t\n",
    "     { \n",
    "        \"id\":\"02\", \n",
    "        \"name\": \"Nick\", \n",
    "        \"lastname\": \"Thameson\" \n",
    "     } \n",
    "  ]   \n",
    "}"
   ]
  },
  {
   "cell_type": "markdown",
   "id": "nutritional-threat",
   "metadata": {},
   "source": [
    "# JSON vs XML – What’s the difference?\n",
    "\n",
    "Another commonly used standard for data transfer to and from servers is the XML format.\n",
    "\n",
    "So, what are the main similarities and differences between JSON and XML?\n",
    "\n",
    "Well, they both come in a human-readable form and can represent the same objects and information. However, JSON is less verbose than XML, as it uses fewer words in a simpler format to convey the same information. It is also far easier to translate into code. XML needs specialized, slow parsers that incorporate it into your program. And that is its main disadvantage.\n",
    "\n",
    "That’s why JSON is slowly replacing XML in AJAX calls and other client-server interactions."
   ]
  },
  {
   "cell_type": "code",
   "execution_count": null,
   "id": "future-mainstream",
   "metadata": {},
   "outputs": [],
   "source": [
    "<?xml version=\"1.0\" encoding=\"UTF-8\" ?>\n",
    "<root>\n",
    "\t<student>\n",
    "\t\t<id>01</id>\n",
    "\t\t<name>Tom</name>\n",
    "\t\t<lastname>Price</lastname>\n",
    "\t</student>\n",
    "\t<student>\n",
    "\t\t<id>02</id>\n",
    "\t\t<name>Nick</name>\n",
    "\t\t<lastname>Thameson</lastname>\n",
    "\t</student>\n",
    "</root>"
   ]
  },
  {
   "cell_type": "markdown",
   "id": "latest-reward",
   "metadata": {},
   "source": [
    "# How to open it..."
   ]
  },
  {
   "cell_type": "markdown",
   "id": "adjustable-wells",
   "metadata": {},
   "source": [
    "* apart from various tools the simplest one is any browser like Firefox... for example"
   ]
  },
  {
   "cell_type": "markdown",
   "id": "relative-wayne",
   "metadata": {},
   "source": [
    "# Difference between JSON and Python Dictionary\n",
    "JSON is a pure string written in a convention format, which does not have any characteristics of data structure. ... Python's dictionary key can be any hash object, and JSON can only be a string. The Python dict string uses single quotation marks, and JSON enforces double quotation marks. You can nest tuple in Python dict."
   ]
  },
  {
   "cell_type": "markdown",
   "id": "ruled-efficiency",
   "metadata": {},
   "source": [
    "# Converting from JSON to Dictionary"
   ]
  },
  {
   "cell_type": "code",
   "execution_count": 24,
   "id": "split-cowboy",
   "metadata": {},
   "outputs": [
    {
     "name": "stdout",
     "output_type": "stream",
     "text": [
      "30\n"
     ]
    }
   ],
   "source": [
    "import json\n",
    "\n",
    "# some JSON:\n",
    "x =  '{ \"name\":\"John\", \"age\":30, \"city\":\"New York\"}'\n",
    "\n",
    "# parse x:\n",
    "y = json.loads(x)\n",
    "\n",
    "# the result is a Python dictionary:\n",
    "print(y[\"age\"]) "
   ]
  },
  {
   "cell_type": "markdown",
   "id": "korean-bride",
   "metadata": {},
   "source": [
    "# COnverting Dictionary to JSON"
   ]
  },
  {
   "cell_type": "code",
   "execution_count": 25,
   "id": "residential-albert",
   "metadata": {},
   "outputs": [
    {
     "name": "stdout",
     "output_type": "stream",
     "text": [
      "{\"name\": \"John\", \"age\": 30, \"city\": \"New York\"}\n"
     ]
    }
   ],
   "source": [
    "import json\n",
    "\n",
    "# a Python object (dict):\n",
    "x = {\n",
    "  \"name\": \"John\",\n",
    "  \"age\": 30,\n",
    "  \"city\": \"New York\"\n",
    "}\n",
    "\n",
    "# convert into JSON:\n",
    "y = json.dumps(x)\n",
    "\n",
    "# the result is a JSON string:\n",
    "print(y) "
   ]
  },
  {
   "cell_type": "markdown",
   "id": "accepting-motel",
   "metadata": {},
   "source": [
    "# Where can you find JSON\n",
    "* API outputs!\n",
    "* Twitter Facebook save all their objects as JSON files\n",
    "* Jupyter notebook is JSON file!"
   ]
  },
  {
   "cell_type": "markdown",
   "id": "liable-carnival",
   "metadata": {},
   "source": [
    "# Twitter json object"
   ]
  },
  {
   "cell_type": "markdown",
   "id": "middle-steps",
   "metadata": {},
   "source": [
    "http://www.slaw.ca/wp-content/uploads/2011/11/map-of-a-tweet-copy.pdf  \n",
    "https://developer.twitter.com/en/docs/twitter-api/v1/data-dictionary/object-model/tweet"
   ]
  },
  {
   "cell_type": "code",
   "execution_count": null,
   "id": "systematic-thomas",
   "metadata": {},
   "outputs": [],
   "source": []
  }
 ],
 "metadata": {
  "kernelspec": {
   "display_name": "Python 3",
   "language": "python",
   "name": "python3"
  },
  "language_info": {
   "codemirror_mode": {
    "name": "ipython",
    "version": 3
   },
   "file_extension": ".py",
   "mimetype": "text/x-python",
   "name": "python",
   "nbconvert_exporter": "python",
   "pygments_lexer": "ipython3",
   "version": "3.7.2"
  }
 },
 "nbformat": 4,
 "nbformat_minor": 5
}
