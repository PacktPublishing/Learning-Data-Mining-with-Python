{
 "cells": [
  {
   "cell_type": "markdown",
   "id": "handed-archives",
   "metadata": {
    "cell_id": "00000-775485ed-39e4-4b12-832b-382cd06c1f60",
    "deepnote_cell_height": 519.5,
    "deepnote_cell_type": "markdown"
   },
   "source": [
    " # 2. Cadenas\n",
    "   #### [Definición y ejemplos](#definicion)\n",
    "   #### [Funciones predeterminadas](#funciones_predeterminadas)   \n",
    "   #### [Indexación](#indexacion)\n",
    "   #### [Inmutabilidad](#immutability)\n",
    "   #### [Concatenación](#concatenacion)\n",
    "   #### [Métodos sobre las cadenas y la función `dir()`](#metodos)\n",
    "   #### [Operadores de comparación y operadores lógicos](#logical_operators)\n",
    "   #### [Expresiones condicionales, `if, else, elseif`](#conditional_statements)\n",
    "   #### [Loops: `for` y `while`](#loops_cadenas)\n",
    "   #### [Funciones personales](#funciones_personales)"
   ]
  },
  {
   "cell_type": "markdown",
   "id": "monthly-ireland",
   "metadata": {
    "cell_id": "836a3fd6f9ef4e5a95513f9ee96ae88b",
    "deepnote_cell_height": 223.1999969482422,
    "deepnote_cell_type": "markdown",
    "tags": []
   },
   "source": [
    "***Las cadenas, en inglés strings (a veces asociadas con el texto) también son importantes en la ciencia de datos. La base de datos de cualquier banco está llena no solo de números, sino también de cadenas en forma de comentarios que, por ejemplo, el empleado escribió sobre un cliente. El correo electrónico y el número de teléfono también son ejemplos de una cadena. Incluso si los datos que nos interesan son números, a menudo vienen ocultos dentro de cadenas. Por esta razón, el uso de cadenas también es esencial en la ciencia de datos.***  \n",
    "\n",
    "***Una vez más, los métodos y funciones simples y obvios a primera vista pueden ser muy potentes y permitir la creación de grandes aplicaciones.***"
   ]
  },
  {
   "cell_type": "markdown",
   "id": "inappropriate-overhead",
   "metadata": {
    "cell_id": "00001-118888ef-7ad5-48ce-9351-d4fb92f6ef7a",
    "deepnote_cell_height": 212,
    "deepnote_cell_type": "markdown"
   },
   "source": [
    "<a id=\"definicion\"></a>   \n",
    "## Definición y ejemplos\n",
    "\n",
    "Las cadenas de letras ya aparecieron en la clase sobre Números, como los mensajes de texto, cuando se presentaron resultados de algunas operaciones. \n",
    "Las cadenas en inglés se llaman strings, abreviado muchas veces como tipo `str`.\n",
    "Las cadenas pueden ser expresadas de distintas formas: pueden estar encerradas en comillas simples ('...') o dobles (\"...\") con el mismo resultado. Abajo se presentan ejemplos de cadenas de letras (caracteres):"
   ]
  },
  {
   "cell_type": "code",
   "execution_count": null,
   "id": "biological-stress",
   "metadata": {
    "cell_id": "00002-c0d6aecf-2bb7-437b-88ea-7f644ef42d84",
    "deepnote_cell_height": 135,
    "deepnote_cell_type": "code",
    "deepnote_to_be_reexecuted": false,
    "execution_millis": 28,
    "execution_start": 1652738016585,
    "source_hash": "84b05fa0"
   },
   "outputs": [],
   "source": [
    "cadena_1='a'                        # una letra entre comillas es tipo cadena\n",
    "cadena_2='A'                        # Python diferencia el tamaño de letras\n",
    "cadena_3='7'                        # un número entre comillas es también un tipo de cadena \n",
    "cadena_4=\"Yo dije, que 'Si!'\"       # texto con comillas simples entre comillas dobles es cadena "
   ]
  },
  {
   "cell_type": "markdown",
   "id": "eastern-windows",
   "metadata": {
    "cell_id": "00003-496a8c35-1af4-41ac-9b90-a7c96fed42c8",
    "deepnote_cell_height": 144.8000030517578,
    "deepnote_cell_type": "markdown"
   },
   "source": [
    "<a id=\"funciones_predeterminadas\"></a>   \n",
    "## Funciones predeterminadas\n",
    "\n",
    "Las funciones predeterminadas que se usan frecuentemente sobre las cadenas son `print()`, `type()`, `int()`, `float()`, `isinstance()` y `len()`."
   ]
  },
  {
   "cell_type": "code",
   "execution_count": null,
   "id": "configured-implementation",
   "metadata": {
    "cell_id": "00004-563bc79e-2c6a-4dd3-99b7-2fad811ac56d",
    "deepnote_cell_height": 112.19999694824219,
    "deepnote_cell_type": "code",
    "deepnote_to_be_reexecuted": false,
    "execution_millis": 3,
    "execution_start": 1652738016614,
    "source_hash": "62474f60"
   },
   "outputs": [
    {
     "name": "stdout",
     "output_type": "stream",
     "text": [
      "Yo dije, que 'Si!'\n"
     ]
    }
   ],
   "source": [
    "print(cadena_4)     # imprimiendo valor de variable cadena_4"
   ]
  },
  {
   "cell_type": "code",
   "execution_count": null,
   "id": "controversial-chase",
   "metadata": {
    "cell_id": "00005-6a29cbf2-950c-45a5-b6d9-3df4a68f99fe",
    "deepnote_cell_height": 130.1999969482422,
    "deepnote_cell_type": "code",
    "deepnote_to_be_reexecuted": false,
    "execution_millis": 3,
    "execution_start": 1652738016614,
    "source_hash": "d6fd61a3"
   },
   "outputs": [
    {
     "name": "stdout",
     "output_type": "stream",
     "text": [
      "<class 'str'>\n"
     ]
    }
   ],
   "source": [
    "print(type(cadena_3)) # imprimiendo tipo de variable cadena_3\n",
    "                      # cadena_3 es tipo str (string)"
   ]
  },
  {
   "cell_type": "code",
   "execution_count": null,
   "id": "attractive-ceiling",
   "metadata": {
    "cell_id": "00006-d3749787-ac76-4343-8887-7c00ef8adc37",
    "deepnote_cell_height": 168.39999389648438,
    "deepnote_cell_type": "code",
    "deepnote_to_be_reexecuted": false,
    "execution_millis": 6,
    "execution_start": 1652738016615,
    "source_hash": "d504a92f"
   },
   "outputs": [
    {
     "name": "stdout",
     "output_type": "stream",
     "text": [
      "7\n",
      "<class 'int'>\n"
     ]
    }
   ],
   "source": [
    "int_3=int(cadena_3)  # convirtiendo cadena '7' a número entero 7 usando int(cadena_3)  \n",
    "print(int_3)\n",
    "print(type(int_3))"
   ]
  },
  {
   "cell_type": "code",
   "execution_count": null,
   "id": "unavailable-andorra",
   "metadata": {
    "cell_id": "00007-7a1ebb6a-6dcc-4611-9946-2e846da40080",
    "deepnote_cell_height": 168.39999389648438,
    "deepnote_cell_type": "code",
    "deepnote_to_be_reexecuted": false,
    "execution_millis": 6,
    "execution_start": 1652738016622,
    "source_hash": "3adf3b6"
   },
   "outputs": [
    {
     "name": "stdout",
     "output_type": "stream",
     "text": [
      "7.0\n",
      "<class 'float'>\n"
     ]
    }
   ],
   "source": [
    "float_3=float(cadena_3) # convirtiendo '7' a 7.0 usando float(cadena_3)\n",
    "print(float_3)\n",
    "print(type(float_3))"
   ]
  },
  {
   "cell_type": "code",
   "execution_count": null,
   "id": "positive-combination",
   "metadata": {
    "cell_id": "00008-5cb3075b-6dd6-450d-8ca1-3bb127d8fd5e",
    "deepnote_cell_height": 118,
    "deepnote_cell_type": "code",
    "deepnote_output_heights": [
     21
    ],
    "deepnote_to_be_reexecuted": false,
    "execution_millis": 5,
    "execution_start": 1652738016668,
    "source_hash": "6e35c794"
   },
   "outputs": [
    {
     "data": {
      "text/plain": [
       "True"
      ]
     },
     "execution_count": 6,
     "metadata": {},
     "output_type": "execute_result"
    }
   ],
   "source": [
    "isinstance(cadena_2,str) # verificando si cadena_2 es tipo string"
   ]
  },
  {
   "cell_type": "markdown",
   "id": "ultimate-construction",
   "metadata": {
    "cell_id": "00009-34e898fe-b8e7-4dfc-b35d-7574f621ee00",
    "deepnote_cell_height": 74.80000305175781,
    "deepnote_cell_type": "markdown"
   },
   "source": [
    "Para calcular la longitud de una cadena se utiliza la función `len()`. Esta función devuelve un entero que es la suma de todos los caracteres entre comillas, incluyendo espacios."
   ]
  },
  {
   "cell_type": "code",
   "execution_count": null,
   "id": "lovely-bryan",
   "metadata": {
    "cell_id": "00010-2987ee2a-0a90-43c1-b4b7-801ec5ee768f",
    "deepnote_cell_height": 112.19999694824219,
    "deepnote_cell_type": "code",
    "deepnote_to_be_reexecuted": false,
    "execution_millis": 4,
    "execution_start": 1652738016669,
    "source_hash": "1a5318dc"
   },
   "outputs": [
    {
     "name": "stdout",
     "output_type": "stream",
     "text": [
      "1\n"
     ]
    }
   ],
   "source": [
    "print(len(cadena_1)) # "
   ]
  },
  {
   "cell_type": "code",
   "execution_count": null,
   "id": "finished-hurricane",
   "metadata": {
    "cell_id": "00011-9689685f-a647-4a32-97f9-b158637b5274",
    "deepnote_cell_height": 112.19999694824219,
    "deepnote_cell_type": "code",
    "deepnote_to_be_reexecuted": false,
    "execution_millis": 4,
    "execution_start": 1652738016669,
    "source_hash": "800b3d08"
   },
   "outputs": [
    {
     "name": "stdout",
     "output_type": "stream",
     "text": [
      "18\n"
     ]
    }
   ],
   "source": [
    "print(len(cadena_4))"
   ]
  },
  {
   "cell_type": "markdown",
   "id": "faced-reply",
   "metadata": {
    "cell_id": "00012-af857aa6-2991-45e7-bc5e-b76ab59481ac",
    "deepnote_cell_height": 270.79998779296875,
    "deepnote_cell_type": "markdown"
   },
   "source": [
    "<a id=\"indexacion\"></a>   \n",
    "## Indexación\n",
    "\n",
    "Cada carácter de una cadena tiene una posición, este es su índice. Los índices en Python comienzan siempre con 0. No hay un tipo de dato diferente para los caracteres; un carácter es simplemente una cadena de longitud uno. Para hacer referencia a un carácter, se utiliza el nombre de la cadena seguido de un cuadrado de corchetes `[]`, y se pone el índice entre corchetes. Indexacion se usa frecuentemente para extraer parte de una cadena o pegar con otra.\n",
    "\n",
    "Los índices son siempre números enteros. En caso de que un número de índice no sea un número entero el interpretador produce error (\"string indices must be integers\")."
   ]
  },
  {
   "cell_type": "code",
   "execution_count": null,
   "id": "closing-present",
   "metadata": {
    "cell_id": "00013-28ca33a1-7d1e-4168-84ba-41cabddf2da4",
    "deepnote_cell_height": 425,
    "deepnote_cell_type": "code",
    "deepnote_output_heights": [
     274
    ],
    "deepnote_to_be_reexecuted": false,
    "execution_millis": 1429,
    "execution_start": 1652973756523,
    "is_code_hidden": false,
    "owner_user_id": "4f3012fa-1f82-4d9b-b3d9-c29add1a6592",
    "source_hash": "8cf39126"
   },
   "outputs": [
    {
     "data": {
      "image/png": "[encoded data removed]",
      "text/plain": [
       "<Figure size 720x360 with 1 Axes>"
      ]
     },
     "metadata": {
      "image/png": {
       "height": 272,
       "width": 572
      },
      "needs_background": "light"
     },
     "output_type": "display_data"
    }
   ],
   "source": [
    "import matplotlib.pyplot as plt\n",
    "fig,ax=plt.subplots(1,1,figsize=(10,5))\n",
    "ax.imshow(plt.imread('imgs/indexacion_21_I.png'))\n",
    "ax.set_axis_off()"
   ]
  },
  {
   "cell_type": "code",
   "execution_count": null,
   "id": "empirical-bottom",
   "metadata": {
    "cell_id": "00014-8875098d-633b-4a8b-9ba5-a56d3ed8ea85",
    "deepnote_cell_height": 81,
    "deepnote_cell_type": "code",
    "deepnote_to_be_reexecuted": false,
    "execution_millis": 3,
    "execution_start": 1652738018278,
    "source_hash": "e48ccaa9"
   },
   "outputs": [],
   "source": [
    "palabra='Python'"
   ]
  },
  {
   "cell_type": "code",
   "execution_count": null,
   "id": "minus-blond",
   "metadata": {
    "cell_id": "00015-7c3b0084-af7f-4fbb-b6d3-29871764342d",
    "deepnote_cell_height": 118,
    "deepnote_cell_type": "code",
    "deepnote_output_heights": [
     21
    ],
    "deepnote_to_be_reexecuted": false,
    "execution_millis": 250093,
    "execution_start": 1652738018328,
    "source_hash": "10ecbfee"
   },
   "outputs": [
    {
     "data": {
      "text/plain": [
       "'P'"
      ]
     },
     "execution_count": 11,
     "metadata": {},
     "output_type": "execute_result"
    }
   ],
   "source": [
    "palabra[0]"
   ]
  },
  {
   "cell_type": "code",
   "execution_count": null,
   "id": "experimental-addiction",
   "metadata": {
    "cell_id": "00016-cf30aca2-75a1-457d-98eb-612b40427b2b",
    "deepnote_cell_height": 118,
    "deepnote_cell_type": "code",
    "deepnote_output_heights": [
     21
    ],
    "deepnote_to_be_reexecuted": false,
    "execution_millis": 10,
    "execution_start": 1652738018329,
    "source_hash": "e1749c15"
   },
   "outputs": [
    {
     "data": {
      "text/plain": [
       "'y'"
      ]
     },
     "execution_count": 12,
     "metadata": {},
     "output_type": "execute_result"
    }
   ],
   "source": [
    "palabra[1]"
   ]
  },
  {
   "cell_type": "code",
   "execution_count": null,
   "id": "subtle-specific",
   "metadata": {
    "cell_id": "00017-ea045482-ab7c-4695-a2e4-d91a96f33a0a",
    "deepnote_cell_height": 118,
    "deepnote_cell_type": "code",
    "deepnote_output_heights": [
     21
    ],
    "deepnote_to_be_reexecuted": false,
    "execution_millis": 9,
    "execution_start": 1652738018330,
    "source_hash": "eb720572"
   },
   "outputs": [
    {
     "data": {
      "text/plain": [
       "'Py'"
      ]
     },
     "execution_count": 13,
     "metadata": {},
     "output_type": "execute_result"
    }
   ],
   "source": [
    "palabra[0:2]"
   ]
  },
  {
   "cell_type": "markdown",
   "id": "aerial-afternoon",
   "metadata": {
    "cell_id": "00018-780ee033-e1b8-44aa-aaf5-8fb1d45c9ded",
    "deepnote_cell_height": 74.80000305175781,
    "deepnote_cell_type": "markdown"
   },
   "source": [
    "Los índices quizás sean números negativos. Para empezar a contar desde la derecha observe el siguiente esquema:"
   ]
  },
  {
   "cell_type": "code",
   "execution_count": null,
   "id": "corrected-delhi",
   "metadata": {
    "cell_id": "00019-7f853e4a-d134-4e00-b15d-4ba28d443928",
    "deepnote_cell_height": 439,
    "deepnote_cell_type": "code",
    "deepnote_output_heights": [
     288
    ],
    "deepnote_to_be_reexecuted": false,
    "execution_millis": 157,
    "execution_start": 1652973767447,
    "is_code_hidden": false,
    "source_hash": "bc838452"
   },
   "outputs": [
    {
     "data": {
      "image/png": "[encoded data removed]",
      "text/plain": [
       "<Figure size 720x360 with 1 Axes>"
      ]
     },
     "metadata": {
      "image/png": {
       "height": 286,
       "width": 559
      },
      "needs_background": "light"
     },
     "output_type": "display_data"
    }
   ],
   "source": [
    "import matplotlib.pyplot as plt\n",
    "fig,ax=plt.subplots(1,1,figsize=(10,5))\n",
    "ax.imshow(plt.imread('imgs/indexacion_2_I.png'))\n",
    "ax.set_axis_off()"
   ]
  },
  {
   "cell_type": "code",
   "execution_count": null,
   "id": "ranging-cookie",
   "metadata": {
    "cell_id": "00020-cca189d3-5e8e-4f5f-94e1-3f6a8fba668a",
    "deepnote_cell_height": 118,
    "deepnote_cell_type": "code",
    "deepnote_output_heights": [
     21
    ],
    "deepnote_to_be_reexecuted": false,
    "execution_millis": 17,
    "execution_start": 1652738018499,
    "source_hash": "6dd628e"
   },
   "outputs": [
    {
     "data": {
      "text/plain": [
       "'Py'"
      ]
     },
     "execution_count": 15,
     "metadata": {},
     "output_type": "execute_result"
    }
   ],
   "source": [
    "palabra[-6:-4]"
   ]
  },
  {
   "cell_type": "code",
   "execution_count": null,
   "id": "informative-absorption",
   "metadata": {
    "cell_id": "00021-230a2072-11f6-4fb7-b4e1-016aac24e2d1",
    "deepnote_cell_height": 118,
    "deepnote_cell_type": "code",
    "deepnote_output_heights": [
     21
    ],
    "deepnote_to_be_reexecuted": false,
    "execution_millis": 31,
    "execution_start": 1652738018523,
    "source_hash": "a67ecb04"
   },
   "outputs": [
    {
     "data": {
      "text/plain": [
       "'Python'"
      ]
     },
     "execution_count": 16,
     "metadata": {},
     "output_type": "execute_result"
    }
   ],
   "source": [
    "palabra[-6:6]"
   ]
  },
  {
   "cell_type": "markdown",
   "id": "compatible-amino",
   "metadata": {
    "cell_id": "00022-81dfe902-cbdd-4573-861a-530d57be5f3c",
    "deepnote_cell_height": 74.80000305175781,
    "deepnote_cell_type": "markdown"
   },
   "source": [
    "Los índices de las rebanadas tienen valores por defecto útiles; el valor por defecto para el primer índice es cero, el valor por defecto para el segundo índice es la longitud de la cadena a rebanar. [2]"
   ]
  },
  {
   "cell_type": "code",
   "execution_count": null,
   "id": "orange-income",
   "metadata": {
    "cell_id": "00023-788c8f06-10af-4d7f-95df-a9be79ea04ab",
    "deepnote_cell_height": 118,
    "deepnote_cell_type": "code",
    "deepnote_output_heights": [
     21
    ],
    "deepnote_to_be_reexecuted": false,
    "execution_millis": 4,
    "execution_start": 1652738018576,
    "source_hash": "ef46a1e2"
   },
   "outputs": [
    {
     "data": {
      "text/plain": [
       "'Py'"
      ]
     },
     "execution_count": 17,
     "metadata": {},
     "output_type": "execute_result"
    }
   ],
   "source": [
    "palabra[:2]"
   ]
  },
  {
   "cell_type": "code",
   "execution_count": null,
   "id": "promotional-representative",
   "metadata": {
    "cell_id": "00024-b55cc77c-a74f-43d8-bc94-9c67202791f6",
    "deepnote_cell_height": 118,
    "deepnote_cell_type": "code",
    "deepnote_output_heights": [
     21
    ],
    "deepnote_to_be_reexecuted": false,
    "execution_millis": 249709,
    "execution_start": 1652738018579,
    "source_hash": "18b8da73"
   },
   "outputs": [
    {
     "data": {
      "text/plain": [
       "'ython'"
      ]
     },
     "execution_count": 18,
     "metadata": {},
     "output_type": "execute_result"
    }
   ],
   "source": [
    "palabra[1:]"
   ]
  },
  {
   "cell_type": "code",
   "execution_count": null,
   "id": "parallel-blast",
   "metadata": {
    "cell_id": "00025-03404435-2563-4cdb-82fa-a110701a2612",
    "deepnote_cell_height": 118,
    "deepnote_cell_type": "code",
    "deepnote_output_heights": [
     21
    ],
    "deepnote_to_be_reexecuted": false,
    "execution_millis": 6,
    "execution_start": 1652738018591,
    "source_hash": "f157c6f2"
   },
   "outputs": [
    {
     "data": {
      "text/plain": [
       "'Pytho'"
      ]
     },
     "execution_count": 19,
     "metadata": {},
     "output_type": "execute_result"
    }
   ],
   "source": [
    "palabra[:-1]"
   ]
  },
  {
   "cell_type": "markdown",
   "id": "informative-sound",
   "metadata": {
    "cell_id": "d9ef3aa4df4940c19ae9d11f529bc6ab",
    "deepnote_cell_height": 70,
    "deepnote_cell_type": "markdown",
    "tags": []
   },
   "source": [
    "## Variables iterables"
   ]
  },
  {
   "cell_type": "markdown",
   "id": "natural-smith",
   "metadata": {
    "cell_id": "b1ffa623e3824922af8940474ae3395e",
    "deepnote_cell_height": 52.399993896484375,
    "deepnote_cell_type": "markdown",
    "tags": []
   },
   "source": [
    "Hay una diferencia muy importante entre, por ejemplo, "
   ]
  },
  {
   "cell_type": "code",
   "execution_count": null,
   "id": "posted-vanilla",
   "metadata": {
    "cell_id": "fd5009d9b23c4b5c8521397c756a7b56",
    "deepnote_cell_height": 99,
    "deepnote_cell_type": "code",
    "deepnote_to_be_reexecuted": false,
    "execution_millis": 6,
    "execution_start": 1652738018601,
    "source_hash": "aa665db7",
    "tags": []
   },
   "outputs": [],
   "source": [
    "variable1='12'  \n",
    "variable2= 12 "
   ]
  },
  {
   "cell_type": "markdown",
   "id": "atomic-literature",
   "metadata": {
    "cell_id": "7d32385258804156b50b9647947d6a9f",
    "deepnote_cell_height": 74.80000305175781,
    "deepnote_cell_type": "markdown",
    "tags": []
   },
   "source": [
    "La `variable1` es una cadena con dos elementos pegados entre sí, pero podemos acceder a cada uno de ellos por separado:"
   ]
  },
  {
   "cell_type": "code",
   "execution_count": null,
   "id": "romance-distribution",
   "metadata": {
    "cell_id": "e919fbddbcf44b029f50bf78e15b4fe2",
    "deepnote_cell_height": 150.39999389648438,
    "deepnote_cell_type": "code",
    "deepnote_to_be_reexecuted": false,
    "execution_millis": 249669,
    "execution_start": 1652738018618,
    "source_hash": "41ead286",
    "tags": []
   },
   "outputs": [
    {
     "name": "stdout",
     "output_type": "stream",
     "text": [
      "1\n",
      "2\n"
     ]
    }
   ],
   "source": [
    "print(variable1[0])\n",
    "print(variable1[1])"
   ]
  },
  {
   "cell_type": "markdown",
   "id": "velvet-despite",
   "metadata": {
    "cell_id": "acf363844dbe45708217b8b99a3d45f6",
    "deepnote_cell_height": 74.80000305175781,
    "deepnote_cell_type": "markdown",
    "tags": []
   },
   "source": [
    "Pero no podemos hacer lo mismo con la `variable2`. Debido a que es un `número`, NO SON dos dígitos pegados entre sí a los que podemos acceder por separado:"
   ]
  },
  {
   "cell_type": "code",
   "execution_count": null,
   "id": "adverse-printer",
   "metadata": {
    "cell_id": "f9c53684739b413c84fcfb67bf50cda3",
    "deepnote_cell_height": 162.1999969482422,
    "deepnote_cell_type": "code",
    "deepnote_to_be_reexecuted": false,
    "execution_millis": 25,
    "execution_start": 1652738103954,
    "source_hash": "d48ae264",
    "tags": []
   },
   "outputs": [
    {
     "ename": "TypeError",
     "evalue": "'int' object is not subscriptable",
     "output_type": "error",
     "traceback": [
      "\u001b[0;31m---------------------------------------------------------------------------\u001b[0m",
      "\u001b[0;31mTypeError\u001b[0m                                 Traceback (most recent call last)",
      "\u001b[0;32m<ipython-input-24-f74abb7372a2>\u001b[0m in \u001b[0;36m<module>\u001b[0;34m\u001b[0m\n\u001b[0;32m----> 1\u001b[0;31m \u001b[0mprint\u001b[0m\u001b[0;34m(\u001b[0m\u001b[0mvariable2\u001b[0m\u001b[0;34m[\u001b[0m\u001b[0;36m0\u001b[0m\u001b[0;34m]\u001b[0m\u001b[0;34m)\u001b[0m\u001b[0;34m\u001b[0m\u001b[0;34m\u001b[0m\u001b[0m\n\u001b[0m\u001b[1;32m      2\u001b[0m \u001b[0mprint\u001b[0m\u001b[0;34m(\u001b[0m\u001b[0mvariable2\u001b[0m\u001b[0;34m[\u001b[0m\u001b[0;36m1\u001b[0m\u001b[0;34m]\u001b[0m\u001b[0;34m)\u001b[0m\u001b[0;34m\u001b[0m\u001b[0;34m\u001b[0m\u001b[0m\n",
      "\u001b[0;31mTypeError\u001b[0m: 'int' object is not subscriptable"
     ]
    }
   ],
   "source": [
    "print(variable2[0])\n",
    "print(variable2[1])"
   ]
  },
  {
   "cell_type": "markdown",
   "id": "living-typing",
   "metadata": {
    "cell_id": "3bb9aeeefe5c4715b5e965f04d65520b",
    "deepnote_cell_height": 74.80000305175781,
    "deepnote_cell_type": "markdown",
    "tags": []
   },
   "source": [
    "Si podemos acceder a cada uno de los elementos por separado de una variable dada, la llamamos  variable: `iterable` o `subscriptable`!"
   ]
  },
  {
   "cell_type": "markdown",
   "id": "fewer-provider",
   "metadata": {
    "cell_id": "f9c6cb3ce311417eb148e4c938207097",
    "deepnote_cell_height": 74.80000305175781,
    "deepnote_cell_type": "markdown",
    "tags": []
   },
   "source": [
    "Así que los números no son iterables. Pero iterables son cadenas, listas, tuplas, dicionarios, array numpy. Y podemos usar loops (bucles) para acceder a cada elemento de dicha variable. "
   ]
  },
  {
   "cell_type": "markdown",
   "id": "mysterious-dodge",
   "metadata": {
    "cell_id": "00026-f5802442-d6a7-467b-aaf4-c0cda7309897",
    "deepnote_cell_height": 167.1999969482422,
    "deepnote_cell_type": "markdown"
   },
   "source": [
    "<a id=\"immutability\"></a>   \n",
    "## 3. Inmutabilidad\n",
    "\n",
    "Las cadenas de Python no se pueden modificar, son inmutables. Por eso, asignar a una posición indexada de la cadena resulta en un error. Por ejemplo, para cambiar una letra de mayúscula a minúscula en la palabra \"Python\" no se puede simplemente reemplazar las letras."
   ]
  },
  {
   "cell_type": "code",
   "execution_count": null,
   "id": "continuing-appeal",
   "metadata": {
    "cell_id": "00027-a22be6b7-4c09-4164-92a8-8d6921ef0823",
    "deepnote_cell_height": 225,
    "deepnote_cell_type": "code",
    "deepnote_to_be_reexecuted": false,
    "execution_millis": 3,
    "execution_start": 1652738115917,
    "source_hash": "c966c777"
   },
   "outputs": [],
   "source": [
    "palabra='Python'\n",
    "# palabra[0]='p'\n",
    "#---------------------------------------------------------------------------\n",
    "#TypeError                                 Traceback (most recent call last)\n",
    "#<ipython-input-42-855cf32116e2> in <module>\n",
    "#      1 palabra='Python'\n",
    "#----> 2 palabra[0]='p'#\n",
    "\n",
    "#TypeError: 'str' object does not support item assignment"
   ]
  },
  {
   "cell_type": "markdown",
   "id": "twenty-palestine",
   "metadata": {
    "cell_id": "00028-80921ae8-32fe-421e-a28f-d160c25de637",
    "deepnote_cell_height": 159.1999969482422,
    "deepnote_cell_type": "markdown"
   },
   "source": [
    "<a id=\"concatenacion\"></a>   \n",
    "### Concatenación de las cadenas\n",
    "Las cadenas se pueden concatenar (pegar juntas) con el operador `+` y se pueden repetir con `*`.  \n",
    "Usando el ejemplo anterior para obtener la palabra \"python\", usando palabra Python uno puede usar concatenación."
   ]
  },
  {
   "cell_type": "code",
   "execution_count": null,
   "id": "wicked-packing",
   "metadata": {
    "cell_id": "00029-b890404c-b67c-4167-9f1b-c64f360ed5fb",
    "deepnote_cell_height": 81,
    "deepnote_cell_type": "code",
    "deepnote_to_be_reexecuted": false,
    "execution_millis": 1,
    "execution_start": 1652738115934,
    "source_hash": "e48ccaa9"
   },
   "outputs": [],
   "source": [
    "palabra='Python'"
   ]
  },
  {
   "cell_type": "code",
   "execution_count": null,
   "id": "bulgarian-shade",
   "metadata": {
    "cell_id": "00030-33e851a8-9683-462e-8f24-5351be42b3b5",
    "deepnote_cell_height": 118,
    "deepnote_cell_type": "code",
    "deepnote_output_heights": [
     21
    ],
    "deepnote_to_be_reexecuted": false,
    "execution_millis": 5,
    "execution_start": 1652738115947,
    "source_hash": "ec8471b9"
   },
   "outputs": [
    {
     "data": {
      "text/plain": [
       "'python'"
      ]
     },
     "execution_count": 27,
     "metadata": {},
     "output_type": "execute_result"
    }
   ],
   "source": [
    "'p' + palabra[1:] # concatenación de una cadena 'p' y otra cadena 'python'"
   ]
  },
  {
   "cell_type": "code",
   "execution_count": null,
   "id": "genuine-notion",
   "metadata": {
    "cell_id": "00031-02641cad-0234-4271-a0ab-1daf760d1019",
    "deepnote_cell_height": 130.1999969482422,
    "deepnote_cell_type": "code",
    "deepnote_to_be_reexecuted": false,
    "execution_millis": 4,
    "execution_start": 1652738115956,
    "source_hash": "5bc27731"
   },
   "outputs": [
    {
     "name": "stdout",
     "output_type": "stream",
     "text": [
      "python\n"
     ]
    }
   ],
   "source": [
    "nueva_palabra='p' + palabra[1:] # resultado de concatenación se puede guardar en otra variable\n",
    "print(nueva_palabra)"
   ]
  },
  {
   "cell_type": "code",
   "execution_count": null,
   "id": "moved-probe",
   "metadata": {
    "cell_id": "00032-8762702c-514e-4a5d-a618-9448faed384f",
    "deepnote_cell_height": 184.1999969482422,
    "deepnote_cell_type": "code",
    "deepnote_to_be_reexecuted": false,
    "execution_millis": 2,
    "execution_start": 1652738115964,
    "source_hash": "12a18418"
   },
   "outputs": [
    {
     "name": "stdout",
     "output_type": "stream",
     "text": [
      "Palabra Python tiene 6 letras.\n"
     ]
    }
   ],
   "source": [
    "# las cadenas se puede juntar solamente con las cadenas, por eso\n",
    "# para concatenar un número con cadena uno necesita primero convertir\n",
    "# el número a cadena\n",
    "sentencia='Palabra Python tiene ' + str(len(palabra)) + ' letras.' \n",
    "print(sentencia)"
   ]
  },
  {
   "cell_type": "code",
   "execution_count": null,
   "id": "adjusted-disney",
   "metadata": {
    "cell_id": "00033-93c0bb0e-048b-4dda-83ea-0efe4438c24b",
    "deepnote_cell_height": 118,
    "deepnote_cell_type": "code",
    "deepnote_output_heights": [
     21
    ],
    "deepnote_to_be_reexecuted": false,
    "execution_millis": 28,
    "execution_start": 1652738115973,
    "source_hash": "85c353b6"
   },
   "outputs": [
    {
     "data": {
      "text/plain": [
       "'PythonPythonPythonPythonPython'"
      ]
     },
     "execution_count": 30,
     "metadata": {},
     "output_type": "execute_result"
    }
   ],
   "source": [
    "'Python'*5 # las cadenas se puede multiplicar, lo que resulta en repeticion en la cadena"
   ]
  },
  {
   "cell_type": "code",
   "execution_count": null,
   "id": "pleased-proposition",
   "metadata": {
    "cell_id": "00034-46dc1fed-f1e9-4c22-bc9f-6a579210534a",
    "deepnote_cell_height": 118,
    "deepnote_cell_type": "code",
    "deepnote_output_heights": [
     21
    ],
    "deepnote_to_be_reexecuted": false,
    "execution_millis": 0,
    "execution_start": 1652738115997,
    "source_hash": "6cb38bb8"
   },
   "outputs": [
    {
     "data": {
      "text/plain": [
       "'33333'"
      ]
     },
     "execution_count": 31,
     "metadata": {},
     "output_type": "execute_result"
    }
   ],
   "source": [
    "'3'*5 # recuerde que en número entero comillas es una cadena"
   ]
  },
  {
   "cell_type": "markdown",
   "id": "hybrid-option",
   "metadata": {
    "cell_id": "00035-de7aa6a4-f362-42e6-bc54-9542b1689002",
    "deepnote_cell_height": 181.60000610351562,
    "deepnote_cell_type": "markdown"
   },
   "source": [
    "<a id=\"metodos\"></a>   \n",
    "### Los métodos y las funciones dir() y help()\n",
    "\n",
    "Las cadenas tienen comandos especiales llamados métodos. Los métodos tienen una sintaxis especial. Primero, comienza con una cadena (a menudo una variable que representa una cadena). Luego, se agrega un punto después de la cadena. Finalmente, se agrega el nombre del método con cualquier parámetro. Los parámetros son valores que utilizará el método."
   ]
  },
  {
   "cell_type": "code",
   "execution_count": null,
   "id": "attended-decade",
   "metadata": {
    "cell_id": "00036-a879a09f-93d0-4c05-a116-e8113fd6ebd5",
    "deepnote_cell_height": 358,
    "deepnote_cell_type": "code",
    "deepnote_output_heights": [
     207
    ],
    "deepnote_to_be_reexecuted": false,
    "execution_millis": 176,
    "execution_start": 1652973803019,
    "is_code_hidden": false,
    "source_hash": "4ad46abe"
   },
   "outputs": [
    {
     "data": {
      "image/png": "[encoded data removed]",
      "text/plain": [
       "<Figure size 720x360 with 1 Axes>"
      ]
     },
     "metadata": {
      "image/png": {
       "height": 205,
       "width": 572
      },
      "needs_background": "light"
     },
     "output_type": "display_data"
    }
   ],
   "source": [
    "import matplotlib.pyplot as plt\n",
    "fig,ax=plt.subplots(1,1,figsize=(10,5))\n",
    "ax.imshow(plt.imread('imgs/metodos_ejemplo_I.png'))\n",
    "ax.set_axis_off()"
   ]
  },
  {
   "cell_type": "markdown",
   "id": "hollow-province",
   "metadata": {
    "cell_id": "00037-5ca5c3f3-35ec-4beb-871b-7d8b9f95c7f0",
    "deepnote_cell_height": 218.8000030517578,
    "deepnote_cell_type": "markdown"
   },
   "source": [
    "Un método en Python es algo similar a una función, excepto que está asociado con un objeto o una clase. Los métodos en python son muy similares a las funciones, excepto por dos diferencias principales. El método se utiliza implícitamente para un objeto para el que se llama. La sintaxis también es diferente.\n",
    "\n",
    "* En el caso de una función, el objeto pasa como argumento a función en corchetes (objeto)\n",
    "* El método se aplica a un objeto usando la anotación del punto: objeto.metodo()\n",
    "\n",
    "Para obtener la lista de métodos de un objeto se usa la función `dir()`."
   ]
  },
  {
   "cell_type": "code",
   "execution_count": null,
   "id": "twenty-minimum",
   "metadata": {
    "cell_id": "00038-cdb986fc-322e-479a-85da-6648726ccf7e",
    "deepnote_cell_height": 81,
    "deepnote_cell_type": "code",
    "deepnote_to_be_reexecuted": false,
    "execution_millis": 8,
    "execution_start": 1652738116216,
    "source_hash": "c8943a9c"
   },
   "outputs": [],
   "source": [
    "cadena_1 = 'Es 5 de la tarde. Buen tiempo para ir a la playa.'"
   ]
  },
  {
   "cell_type": "code",
   "execution_count": null,
   "id": "magnetic-secondary",
   "metadata": {
    "cell_id": "00039-5c198c01-cabc-476a-99f0-941db3d6fb4e",
    "deepnote_cell_height": 112.19999694824219,
    "deepnote_cell_type": "code",
    "deepnote_to_be_reexecuted": false,
    "execution_millis": 359596729,
    "execution_start": 1652738116256,
    "source_hash": "bdcb06d9"
   },
   "outputs": [
    {
     "name": "stdout",
     "output_type": "stream",
     "text": [
      "['__add__', '__class__', '__contains__', '__delattr__', '__dir__', '__doc__', '__eq__', '__format__', '__ge__', '__getattribute__', '__getitem__', '__getnewargs__', '__gt__', '__hash__', '__init__', '__init_subclass__', '__iter__', '__le__', '__len__', '__lt__', '__mod__', '__mul__', '__ne__', '__new__', '__reduce__', '__reduce_ex__', '__repr__', '__rmod__', '__rmul__', '__setattr__', '__sizeof__', '__str__', '__subclasshook__', 'capitalize', 'casefold', 'center', 'count', 'encode', 'endswith', 'expandtabs', 'find', 'format', 'format_map', 'index', 'isalnum', 'isalpha', 'isascii', 'isdecimal', 'isdigit', 'isidentifier', 'islower', 'isnumeric', 'isprintable', 'isspace', 'istitle', 'isupper', 'join', 'ljust', 'lower', 'lstrip', 'maketrans', 'partition', 'replace', 'rfind', 'rindex', 'rjust', 'rpartition', 'rsplit', 'rstrip', 'split', 'splitlines', 'startswith', 'strip', 'swapcase', 'title', 'translate', 'upper', 'zfill']\n"
     ]
    }
   ],
   "source": [
    "print(dir(cadena_1))"
   ]
  },
  {
   "cell_type": "markdown",
   "id": "vocal-campus",
   "metadata": {
    "cell_id": "00040-2ff3a8ce-a7d4-4cb5-bf18-a297e36f58fa",
    "deepnote_cell_height": 156,
    "deepnote_cell_type": "markdown"
   },
   "source": [
    "Para encontrar documentación más detallada sobre los métodos de string (cadenas), se puede listar también usando la función `help(str)`. O, en este link: https://www.tutorialspoint.com/python-string-methods.\n",
    "\n",
    "Como ejemplos se muestran los siguiente métodos: `count, find, rfind, replace, islower, isupper, lower, upper, split, rsplit`"
   ]
  },
  {
   "cell_type": "code",
   "execution_count": null,
   "id": "comparative-reduction",
   "metadata": {
    "cell_id": "00041-23a66d64-0451-47ac-a90b-22b1743e5df0",
    "deepnote_cell_height": 81,
    "deepnote_cell_type": "code",
    "deepnote_to_be_reexecuted": false,
    "execution_millis": 359596713,
    "execution_start": 1652738116257,
    "source_hash": "fc73f2db"
   },
   "outputs": [],
   "source": [
    "#help(str)"
   ]
  },
  {
   "cell_type": "code",
   "execution_count": null,
   "id": "brown-monthly",
   "metadata": {
    "cell_id": "00042-e7506b3a-1ee6-49d9-a159-4255ef0d543d",
    "deepnote_cell_height": 112.19999694824219,
    "deepnote_cell_type": "code",
    "deepnote_to_be_reexecuted": false,
    "execution_millis": 2,
    "execution_start": 1652738116258,
    "source_hash": "921224a1"
   },
   "outputs": [
    {
     "name": "stdout",
     "output_type": "stream",
     "text": [
      "Es 5 de la tarde. Buen tiempo para ir a la playa.\n"
     ]
    }
   ],
   "source": [
    "print(cadena_1)"
   ]
  },
  {
   "cell_type": "markdown",
   "id": "extended-listing",
   "metadata": {
    "cell_id": "bbb4a7c969f64929abcdf078146543d5",
    "deepnote_cell_height": 124.80000305175781,
    "deepnote_cell_type": "markdown",
    "tags": []
   },
   "source": [
    "##### Método: `isalnum()` \n",
    "Devuelve `True` si todos los caracteres de la cadena son alfanuméricos (a,A,9...).\n",
    "\n",
    "Se utiliza para contar cuántas veces aparece una cadena determinada en un texto. Por ejemplo:"
   ]
  },
  {
   "cell_type": "code",
   "execution_count": null,
   "id": "downtown-vocabulary",
   "metadata": {
    "cell_id": "4f4c41c94fcb4a6cb75a62cfa2792d09",
    "deepnote_cell_height": 188.60000610351562,
    "deepnote_cell_type": "code",
    "deepnote_to_be_reexecuted": false,
    "execution_millis": 359596641,
    "execution_start": 1652738116281,
    "source_hash": "147b8185",
    "tags": []
   },
   "outputs": [
    {
     "name": "stdout",
     "output_type": "stream",
     "text": [
      "True\n",
      "True\n",
      "False\n"
     ]
    }
   ],
   "source": [
    "print(cadena_1[3].isalnum())\n",
    "print(cadena_1[:2].isalnum())\n",
    "print(cadena_1[2].isalnum())"
   ]
  },
  {
   "cell_type": "markdown",
   "id": "contemporary-communications",
   "metadata": {
    "cell_id": "de673bde446c4e509109f93a9b471a87",
    "deepnote_cell_height": 74.80000305175781,
    "deepnote_cell_type": "markdown",
    "tags": []
   },
   "source": [
    "Otros métodos similares son: comprobar si el carácter es una letra: `isalpha()` o comprobar si el carácter es un dígito `isnum()`"
   ]
  },
  {
   "cell_type": "markdown",
   "id": "adult-stopping",
   "metadata": {
    "cell_id": "00043-d2647410-ba8e-4e89-90f5-d4ba37bfb7cf",
    "deepnote_cell_height": 88.39999389648438,
    "deepnote_cell_type": "markdown"
   },
   "source": [
    "\n",
    "##### Método: `count`\n",
    "\n",
    "Se utiliza para contar cuántas veces aparece una cadena determinada en un texto.\n"
   ]
  },
  {
   "cell_type": "code",
   "execution_count": null,
   "id": "operating-castle",
   "metadata": {
    "cell_id": "00044-25607bff-c1d5-4f81-9671-eb67025a8567",
    "deepnote_cell_height": 136,
    "deepnote_cell_type": "code",
    "deepnote_output_heights": [
     21
    ],
    "deepnote_to_be_reexecuted": false,
    "execution_millis": 1,
    "execution_start": 1652738116281,
    "source_hash": "3f6d287c"
   },
   "outputs": [
    {
     "data": {
      "text/plain": [
       "8"
      ]
     },
     "execution_count": 38,
     "metadata": {},
     "output_type": "execute_result"
    }
   ],
   "source": [
    "# count - devuelve número de ocurrencias de una cadena en la otra\n",
    "cadena_1.count('a') # cuántas 'a' hay en la cadena_1"
   ]
  },
  {
   "cell_type": "code",
   "execution_count": null,
   "id": "fourth-opposition",
   "metadata": {
    "cell_id": "00045-ba02e59d-9458-4e99-a8af-26f5ed068e7c",
    "deepnote_cell_height": 258.3999938964844,
    "deepnote_cell_type": "code",
    "deepnote_to_be_reexecuted": false,
    "execution_millis": 1,
    "execution_start": 1652738116282,
    "source_hash": "f07cf6f3"
   },
   "outputs": [
    {
     "name": "stdout",
     "output_type": "stream",
     "text": [
      "Hay 8 ocurencias de cadena \"a\" en la cadena_1.\n",
      "Hay 1 ocurencias de cadena \"tarde\" en la cadena_1.\n"
     ]
    }
   ],
   "source": [
    "# o más completo usando formateo de texto:\n",
    "# count - devuelve número de ocurencias de una cadena en la otra\n",
    "count_cad_a = cadena_1.count('a') # cuantas 'a' hay en la cadena_1\n",
    "print(f'Hay {count_cad_a} ocurencias de cadena \"a\" en la cadena_1.')\n",
    "\n",
    "count_cad_tarde = cadena_1.count('tarde') # cuantas 'tarde' hay en la cadena_1\n",
    "print(f'Hay {count_cad_tarde} ocurencias de cadena \"tarde\" en la cadena_1.')\n"
   ]
  },
  {
   "cell_type": "markdown",
   "id": "active-minutes",
   "metadata": {
    "cell_id": "fea3951a2bc64e1d937b6b27e7494730",
    "deepnote_cell_height": 74.80000305175781,
    "deepnote_cell_type": "markdown",
    "tags": []
   },
   "source": [
    "El formateo usando prefijo `f` no solo funciona con la función `print()`. El formateo con el prefijo `f` permite crear otras cadenas. Por ejemplo:"
   ]
  },
  {
   "cell_type": "code",
   "execution_count": null,
   "id": "essential-integration",
   "metadata": {
    "cell_id": "3b3c6334beb0420d804de1ae8e45075f",
    "deepnote_cell_height": 130.1999969482422,
    "deepnote_cell_type": "code",
    "deepnote_to_be_reexecuted": false,
    "execution_millis": 5,
    "execution_start": 1652738116307,
    "source_hash": "ac1da57c",
    "tags": []
   },
   "outputs": [
    {
     "name": "stdout",
     "output_type": "stream",
     "text": [
      "Hay 8 ocurencias de cadena \"a\" y 1 ocurencia de cadena \"tarde\" en la cadena_1.\n"
     ]
    }
   ],
   "source": [
    "mensaje=f'Hay {count_cad_a} ocurencias de cadena \"a\" y {count_cad_tarde} ocurencia de cadena \"tarde\" en la cadena_1.'\n",
    "print(mensaje)"
   ]
  },
  {
   "cell_type": "markdown",
   "id": "religious-korean",
   "metadata": {
    "cell_id": "00046-a56c093a-bbaa-4858-8391-3bc366eaa122",
    "deepnote_cell_height": 110.80000305175781,
    "deepnote_cell_type": "markdown"
   },
   "source": [
    "##### Método: `find` & `rfind`\n",
    "\n",
    "Se utiliza para buscar la posición de una cadena concreta en la cadena principal y devolver la posición si la cadena existe en la cadena principal."
   ]
  },
  {
   "cell_type": "code",
   "execution_count": null,
   "id": "cheap-numbers",
   "metadata": {
    "cell_id": "00047-45ae8b2d-afce-4944-b7d6-e191dd5b6833",
    "deepnote_cell_height": 166.1999969482422,
    "deepnote_cell_type": "code",
    "deepnote_to_be_reexecuted": false,
    "execution_millis": 5,
    "execution_start": 1652738116308,
    "source_hash": "1cb11bfc"
   },
   "outputs": [
    {
     "name": "stdout",
     "output_type": "stream",
     "text": [
      "Cadena \"Es \" comienza en indice 0.\n"
     ]
    }
   ],
   "source": [
    "# find - devuelve el índice de primera ocurencia de una cadena en otra. Contando de lado izquierdo\n",
    "# rfind - devuelve el índice de primera ocurrencia de una cadena en otra. Contando de lado derecho\n",
    "find_cad = cadena_1.find('Es ') \n",
    "print(f'Cadena \"Es \" comienza en indice {find_cad}.')"
   ]
  },
  {
   "cell_type": "code",
   "execution_count": null,
   "id": "circular-suicide",
   "metadata": {
    "cell_id": "00048-5b444401-cee6-4ca3-81ff-55c4265c40ac",
    "deepnote_cell_height": 332.6000061035156,
    "deepnote_cell_type": "code",
    "deepnote_to_be_reexecuted": false,
    "execution_millis": 359596692,
    "execution_start": 1652738116340,
    "source_hash": "11cc641c"
   },
   "outputs": [
    {
     "name": "stdout",
     "output_type": "stream",
     "text": [
      "5 de la tarde. Buen tiempo para ir a la playa.\n",
      " de la tarde. Buen tiempo para ir a la playa.\n",
      "5\n"
     ]
    }
   ],
   "source": [
    "# find - extración de valor\n",
    "# Este índice se puede usar para extraer algunas informaciones de la cadena:\n",
    "# Por ejemplo si nos interesa el valor hora: 4 en esta cadena se puede hacer:\n",
    "pos_hora_ini = cadena_1.find('Es ') + len('Es ') \n",
    "print(cadena_1[pos_hora_ini:])\n",
    "\n",
    "pos_hora_fin = cadena_1.find(' de la tarde')\n",
    "print(cadena_1[pos_hora_fin:])\n",
    "\n",
    "hora=cadena_1[pos_hora_ini:pos_hora_fin]\n",
    "print(hora)"
   ]
  },
  {
   "cell_type": "code",
   "execution_count": null,
   "id": "advised-child",
   "metadata": {
    "cell_id": "00049-a2fee707-e453-41dd-9944-88bf1d131085",
    "deepnote_cell_height": 294.3999938964844,
    "deepnote_cell_type": "code",
    "deepnote_to_be_reexecuted": false,
    "execution_millis": 12,
    "execution_start": 1652738116341,
    "source_hash": "66336d58"
   },
   "outputs": [
    {
     "name": "stdout",
     "output_type": "stream",
     "text": [
      "2\n",
      "7\n"
     ]
    }
   ],
   "source": [
    "# find - extración de valor - cont.\n",
    "# Si ahora la misma cadena tiene diferente valor de hora, \n",
    "# la extración de valor se puede hacer con mismos índices \n",
    "cadena_2= 'Es 2 de la tarde. Buen tiempo para ir al mar.'\n",
    "hora=cadena_2[pos_hora_ini:pos_hora_fin]\n",
    "print(hora)\n",
    "\n",
    "cadena_2= 'Es 7 de la tarde. Buen tiempo para ir al mar.'\n",
    "hora=cadena_2[pos_hora_ini:pos_hora_fin]\n",
    "print(hora)"
   ]
  },
  {
   "cell_type": "markdown",
   "id": "ultimate-valuable",
   "metadata": {
    "cell_id": "00050-d3c8d181-de06-42d6-a3d2-5da7647a215d",
    "deepnote_cell_height": 133.6999969482422,
    "deepnote_cell_type": "markdown"
   },
   "source": [
    "#### Método: `replace`\n",
    "\n",
    "Se utiliza para reemplazar cualquier parte en específico de los datos de una cadena por otra cadena si se encuentra la coincidencia. Puede tomar tres argumentos: dos argumentos son obligatorios y un argumento es opcional.\n"
   ]
  },
  {
   "cell_type": "code",
   "execution_count": null,
   "id": "unexpected-graduate",
   "metadata": {
    "cell_id": "00051-d9e621a4-0450-4d72-a167-d148a9645a9e",
    "deepnote_cell_height": 240.39999389648438,
    "deepnote_cell_type": "code",
    "deepnote_to_be_reexecuted": false,
    "execution_millis": 76,
    "execution_start": 1652738116351,
    "source_hash": "ea72a343"
   },
   "outputs": [
    {
     "name": "stdout",
     "output_type": "stream",
     "text": [
      "Es 5 de la tarde. Buen tiempo para ir a la playa.\n",
      "Es 5 de la tarde. Mal tiempo para ir a la playa.\n"
     ]
    }
   ],
   "source": [
    "# El método replace sobre una cadena se usa para cambiar\n",
    "# la parte de la cadena con otra cadena, ejemplo: \n",
    "cadena_1.replace('Buen','Mal')            # cambiamos palabra Buen por Mal en cadena_1\n",
    "cadena_2 = cadena_1.replace('Buen','Mal') # para usar nueva cadena se tiene que guardar \n",
    "                                          # el resultado de este metodo en otra cadena\n",
    "print(cadena_1)    \n",
    "print(cadena_2)    "
   ]
  },
  {
   "cell_type": "markdown",
   "id": "toxic-scientist",
   "metadata": {
    "cell_id": "00052-37e2711a-48fd-46c4-b46f-5d4a827962f0",
    "deepnote_cell_height": 110.80000305175781,
    "deepnote_cell_type": "markdown"
   },
   "source": [
    "##### Método: `islower`, `isupper`\n",
    "`islower` Se usa para verificar si todos los caracteres en la cadena son minúsculas. \n",
    "`isupper` Se usa para verificar si todos los caracteres en la cadena son mayúsculas."
   ]
  },
  {
   "cell_type": "code",
   "execution_count": null,
   "id": "optional-provider",
   "metadata": {
    "cell_id": "00053-4bb9312d-fa90-44d0-8e0c-315bc325add2",
    "deepnote_cell_height": 226.8000030517578,
    "deepnote_cell_type": "code",
    "deepnote_to_be_reexecuted": false,
    "execution_millis": 38,
    "execution_start": 1652738116389,
    "source_hash": "1a7138b1"
   },
   "outputs": [
    {
     "name": "stdout",
     "output_type": "stream",
     "text": [
      "Es 5 de la tarde. Mal tiempo para ir a la playa.\n",
      "False\n",
      "de la tarde. \n",
      "True\n"
     ]
    }
   ],
   "source": [
    "print(cadena_2)\n",
    "print(cadena_2.islower())       # False: porque en esta cadena hay letras mayúsculas\n",
    "print(cadena_2[5:18]) \n",
    "print(cadena_2[5:18].islower()) # True: en esta parte de la cadena_2 todas las letras son minúsculas"
   ]
  },
  {
   "cell_type": "code",
   "execution_count": null,
   "id": "complex-expert",
   "metadata": {
    "cell_id": "00054-93e84341-55c5-4778-ace0-8a5375f19d77",
    "deepnote_cell_height": 244.8000030517578,
    "deepnote_cell_type": "code",
    "deepnote_to_be_reexecuted": false,
    "execution_millis": 359596708,
    "execution_start": 1652738116405,
    "source_hash": "a09345d1"
   },
   "outputs": [
    {
     "name": "stdout",
     "output_type": "stream",
     "text": [
      "Es 5 de la tarde. Mal tiempo para ir a la playa.\n",
      "False\n",
      "de la tarde. \n",
      "True\n"
     ]
    }
   ],
   "source": [
    "# De forma similar, para verificar si todos los caracteres son mayúsculas se puede usar método isupper\n",
    "print(cadena_2)\n",
    "print(cadena_2.isupper())       # False: porque en esta cadena hay letras minúsculas\n",
    "print(cadena_2[5:18]) \n",
    "print(cadena_2[0].isupper()) # True: Primera letra de cadena_2 es mayúscula"
   ]
  },
  {
   "cell_type": "markdown",
   "id": "initial-plant",
   "metadata": {
    "cell_id": "00055-a16ae12e-8b28-44f5-ac41-c7bf1c4d26dc",
    "deepnote_cell_height": 110.80000305175781,
    "deepnote_cell_type": "markdown"
   },
   "source": [
    "##### Método: `lower`, `upper`\n",
    "\n",
    "`lower()` Se usa para cambiar las letras de mayúscula a minúscula.   \n",
    "`upper()` Se usa para cambiar las letras de minúscula a mayúscula.  "
   ]
  },
  {
   "cell_type": "code",
   "execution_count": null,
   "id": "immune-oriental",
   "metadata": {
    "cell_id": "00056-be3dc389-1b3b-4317-b155-a14bc5e28be6",
    "deepnote_cell_height": 188.60000610351562,
    "deepnote_cell_type": "code",
    "deepnote_to_be_reexecuted": false,
    "execution_millis": 359596723,
    "execution_start": 1652738116430,
    "source_hash": "1686124b"
   },
   "outputs": [
    {
     "name": "stdout",
     "output_type": "stream",
     "text": [
      "Es 5 de la tarde. Buen tiempo para ir a la playa.\n",
      "es 5 de la tarde. buen tiempo para ir a la playa.\n",
      "ES 5 DE LA TARDE. BUEN TIEMPO PARA IR A LA PLAYA.\n"
     ]
    }
   ],
   "source": [
    "print(cadena_1)\n",
    "print(cadena_1.lower())\n",
    "print(cadena_1.upper())"
   ]
  },
  {
   "cell_type": "markdown",
   "id": "durable-aaron",
   "metadata": {
    "cell_id": "00057-c235a996-6108-4c1e-adfd-3429dbdf660e",
    "deepnote_cell_height": 74.80000305175781,
    "deepnote_cell_type": "markdown"
   },
   "source": [
    "Este método es particularmente útil si uno necesita contar la ocurrencia de palabras en un string, pero si las palabras existen en minúscula o mayúscula exclusivamente en el texto. Por ejemplo:"
   ]
  },
  {
   "cell_type": "code",
   "execution_count": null,
   "id": "bearing-necklace",
   "metadata": {
    "cell_id": "00058-4c68f3d8-5264-4a05-ab6a-f8e5b3b4a4cb",
    "deepnote_cell_height": 431.3999938964844,
    "deepnote_cell_type": "code",
    "deepnote_to_be_reexecuted": false,
    "execution_millis": 31,
    "execution_start": 1652738116442,
    "source_hash": "f6aef912"
   },
   "outputs": [
    {
     "name": "stdout",
     "output_type": "stream",
     "text": [
      "'TOM!', grito ella. Pero Tom no respondio porque ya era lejos y no la escucho\n",
      "\n",
      "1\n",
      "2\n",
      "\n",
      "Usando metodo count(), nombre Tom aparece 1 veces\n",
      "Usando metodo .upper().count(), nombre TOM aparece 2 veces\n"
     ]
    }
   ],
   "source": [
    "dialogo_1=\"'TOM!', grito ella. Pero Tom no respondio porque ya era lejos y no la escucho\"\n",
    "print(dialogo_1)\n",
    "print()\n",
    "# Cuántas veces aparece carácter Tom en este diálogo? \n",
    "# Claramente 2, pero usando solamente metodo .count() parece que solo una vez\n",
    "print(dialogo_1.count('Tom'))\n",
    "\n",
    "# Para conseguir el resultado corecto se puede, primero, convertir todas las letras a mayúscula y después count nombre 'TOM'\n",
    "print(dialogo_1.upper().count('TOM'))\n",
    "print()\n",
    "print(f\"Usando metodo count(), nombre Tom aparece {dialogo_1.count('Tom')} veces\")\n",
    "print(f\"Usando metodo .upper().count(), nombre TOM aparece {dialogo_1.upper().count('TOM')} veces\")"
   ]
  },
  {
   "cell_type": "markdown",
   "id": "sporting-macedonia",
   "metadata": {
    "cell_id": "00059-7d2a5910-4b06-42c4-ab64-e2f671b34994",
    "deepnote_cell_height": 110.80000305175781,
    "deepnote_cell_type": "markdown"
   },
   "source": [
    "##### Método: `split`\n",
    "\n",
    "Este método se utiliza para dividir cualquier dato de cadena basado en cualquier separador o delimitador en particular. Puede tomar dos argumentos y ambos son opcionales."
   ]
  },
  {
   "cell_type": "code",
   "execution_count": null,
   "id": "english-suite",
   "metadata": {
    "cell_id": "00060-5e6dcafc-1437-43c5-aaf5-15adb1252a26",
    "deepnote_cell_height": 262.79998779296875,
    "deepnote_cell_type": "code",
    "deepnote_to_be_reexecuted": false,
    "execution_millis": 359596788,
    "execution_start": 1652738116475,
    "source_hash": "9f9db261"
   },
   "outputs": [
    {
     "name": "stdout",
     "output_type": "stream",
     "text": [
      "Es 5 de la tarde. Buen tiempo para ir a la playa.\n",
      "['Es', '5', 'de', 'la', 'tarde.', 'Buen', 'tiempo', 'para', 'ir', 'a', 'la', 'playa.']\n",
      "\n",
      "['Es 5 de la tarde', ' Buen tiempo para ir a la playa', '']\n"
     ]
    }
   ],
   "source": [
    "# El método split es muy útil para dividir la cadena en palabras \n",
    "print(cadena_1)\n",
    "print(cadena_1.split(' '))\n",
    "print()\n",
    "#El método split es muy útil para dividir la cadena en oraciones \n",
    "print(cadena_1.split('.'))"
   ]
  },
  {
   "cell_type": "markdown",
   "id": "controlled-closing",
   "metadata": {
    "cell_id": "00061-c70dcf12-c14b-479e-b4fa-5be298acb808",
    "deepnote_cell_height": 94,
    "deepnote_cell_type": "markdown"
   },
   "source": [
    "### La lista es otro tipo de variable (clase) y es el tema de la próxima clase."
   ]
  },
  {
   "cell_type": "markdown",
   "id": "postal-fusion",
   "metadata": {
    "cell_id": "00062-cbdb3f8e-5d97-46fa-a2a4-737ab91da80c",
    "deepnote_cell_height": 524.7999877929688,
    "deepnote_cell_type": "markdown"
   },
   "source": [
    "<a id=\"logical_operators\"></a>\n",
    "##  Operadores de comparación y operadores lógicos\n",
    "Como en los números, los operadores de comparación se utilizan para comparar dos cadenas y dar un resultado de `True` o `False` (Boolean).\n",
    "\n",
    "    Simbolo:  Significado:    \n",
    "\n",
    "    ==        igual          \n",
    "    !=        no equal       \n",
    "    >         major          \n",
    "    <         menor         \n",
    "    >=        major o igual \n",
    "    <=        menor o igual \n",
    "    in        si x esta presente en y\n",
    "    \n",
    "Los operadores de comparación se pueden usar en conjunto con los operadores lógicos:\n",
    "\n",
    "    and       ambos expersiones son verdad: True\n",
    "    or        por lo menos una expersion es verdad: True  \n",
    "    not       expresion no es verdad: not True"
   ]
  },
  {
   "cell_type": "code",
   "execution_count": null,
   "id": "naval-position",
   "metadata": {
    "cell_id": "00063-152b4385-98e1-46ab-ac19-b4b8f767bbba",
    "deepnote_cell_height": 186.39999389648438,
    "deepnote_cell_type": "code",
    "deepnote_to_be_reexecuted": false,
    "execution_millis": 359596742,
    "execution_start": 1652738116476,
    "source_hash": "e2e46dcb"
   },
   "outputs": [
    {
     "name": "stdout",
     "output_type": "stream",
     "text": [
      "False\n",
      "True\n"
     ]
    }
   ],
   "source": [
    "cad_1 = 'Bueno'\n",
    "cad_2 = 'bueno'\n",
    "print(cad_1==cad_2) # Python diferencia caso minúscula y mayúscula (bueno y Bueno son diferentes)\n",
    "print(cad_1!=cad_2)"
   ]
  },
  {
   "cell_type": "markdown",
   "id": "threaded-duration",
   "metadata": {
    "cell_id": "00064-d258bc04-ca7e-4c8b-91ae-a0f6a21c3c83",
    "deepnote_cell_height": 52.399993896484375,
    "deepnote_cell_type": "markdown"
   },
   "source": [
    "El operador `in` permite verificar si una cadena entera está presente en otra cadena. Por ejemplo:"
   ]
  },
  {
   "cell_type": "code",
   "execution_count": null,
   "id": "located-crest",
   "metadata": {
    "cell_id": "00065-7595ed3e-87d7-4d95-a978-2540b4c5a740",
    "deepnote_cell_height": 188.60000610351562,
    "deepnote_cell_type": "code",
    "deepnote_to_be_reexecuted": false,
    "execution_millis": 76,
    "execution_start": 1652738116478,
    "source_hash": "1e1c0440"
   },
   "outputs": [
    {
     "name": "stdout",
     "output_type": "stream",
     "text": [
      "True\n",
      "False\n",
      "True\n"
     ]
    }
   ],
   "source": [
    "print('b' in 'block')   # carácter 'b' está presente en cadena 'block'\n",
    "print('B' in 'block')   # carácter 'B' no está presente en cadena 'block'\n",
    "print('ueno' in cad_2)  # cadena 'ueno' esta presente en variable cad_2 ('bueno')"
   ]
  },
  {
   "cell_type": "markdown",
   "id": "insured-science",
   "metadata": {
    "cell_id": "00066-6975eaa4-db8c-43b9-945b-ba496220e68e",
    "deepnote_cell_height": 84,
    "deepnote_cell_type": "markdown"
   },
   "source": [
    "<a id=\"conditional_statements\"></a>\n",
    "## Expresiones condicionales, if, else, elseif"
   ]
  },
  {
   "cell_type": "markdown",
   "id": "acting-cleaner",
   "metadata": {
    "cell_id": "00067-53855722-35bd-4c87-bef6-015a235bda8c",
    "deepnote_cell_height": 192,
    "deepnote_cell_type": "markdown"
   },
   "source": [
    "La estructura de la expresión condicional tipo: `if - else`, funciona igual que en el caso de los números:\n",
    "\n",
    "     if (comparación de cadenas):  \n",
    "        ejecutar aquí si resultado es True  \n",
    "     else:  \n",
    "        ejecutar aquí si resultado es False  "
   ]
  },
  {
   "cell_type": "code",
   "execution_count": null,
   "id": "smart-andrews",
   "metadata": {
    "cell_id": "00068-4946a3ae-892d-4f09-848e-c93d6b350f1a",
    "deepnote_cell_height": 238.1999969482422,
    "deepnote_cell_type": "code",
    "deepnote_to_be_reexecuted": false,
    "execution_millis": 70,
    "execution_start": 1652738116484,
    "source_hash": "eead2c6f"
   },
   "outputs": [
    {
     "name": "stdout",
     "output_type": "stream",
     "text": [
      "las cadenas son iguales\n"
     ]
    }
   ],
   "source": [
    "# Tomando la decisión dependiendo de si las cadenas son iguales o diferentes:\n",
    "cad_1 = 'Bueno'\n",
    "cad_2 = 'bueno'\n",
    "\n",
    "if (cad_1==cad_1):\n",
    "    print('las cadenas son iguales')\n",
    "else:\n",
    "    print('las cadenas son diferentes')"
   ]
  },
  {
   "cell_type": "code",
   "execution_count": null,
   "id": "undefined-circulation",
   "metadata": {
    "cell_id": "00069-4323064e-4d14-426e-ad5e-c49b2c8d1af0",
    "deepnote_cell_height": 238.1999969482422,
    "deepnote_cell_type": "code",
    "deepnote_to_be_reexecuted": false,
    "execution_millis": 359596715,
    "execution_start": 1652738116485,
    "source_hash": "1804972e"
   },
   "outputs": [
    {
     "name": "stdout",
     "output_type": "stream",
     "text": [
      "las palabras son iguales\n"
     ]
    }
   ],
   "source": [
    "# Usando upper para comparar las cadenas independientemente de caso de las letras\n",
    "cad_1 = 'Bueno'\n",
    "cad_2 = 'bueno'\n",
    "\n",
    "if (cad_1.upper()==cad_1.upper()):\n",
    "    print('las palabras son iguales')\n",
    "else:\n",
    "    print('las palabras son diferentes')"
   ]
  },
  {
   "cell_type": "code",
   "execution_count": null,
   "id": "actual-century",
   "metadata": {
    "cell_id": "00070-21fd5a04-a4d6-4d6d-a108-864eb714e9d4",
    "deepnote_cell_height": 184.1999969482422,
    "deepnote_cell_type": "code",
    "deepnote_to_be_reexecuted": false,
    "execution_millis": 359596769,
    "execution_start": 1652738116555,
    "source_hash": "2c70e9f"
   },
   "outputs": [
    {
     "name": "stdout",
     "output_type": "stream",
     "text": [
      "primera letra de cadena es minuscula\n"
     ]
    }
   ],
   "source": [
    "# Para verificar si cadena comienza con letra mayúscula\n",
    "if (cad_1.isupper()==True):\n",
    "    print('primera letra de cadena es majuscula')\n",
    "else:\n",
    "    print('primera letra de cadena es minuscula')"
   ]
  },
  {
   "cell_type": "code",
   "execution_count": null,
   "id": "fourth-ambassador",
   "metadata": {
    "cell_id": "00071-170a7f23-73e4-4711-be64-ab29721f131c",
    "deepnote_cell_height": 330.3999938964844,
    "deepnote_cell_type": "code",
    "deepnote_to_be_reexecuted": false,
    "execution_millis": 359596762,
    "execution_start": 1652738116556,
    "source_hash": "761ff687"
   },
   "outputs": [
    {
     "name": "stdout",
     "output_type": "stream",
     "text": [
      "las cadenas tienen mismo numero de caracteres\n",
      "...pero nos son las mismas palabras\n"
     ]
    }
   ],
   "source": [
    "# Usando if-else incrementado:\n",
    "# Comparando dos cadenas basado en nÚmero de los caracteres\n",
    "# y verificando si son las mismas palabras\n",
    "cad_1 = 'Bueno'\n",
    "cad_2 = 'Sueno'\n",
    "\n",
    "if (len(cad_1))!=(len(cad_2)):\n",
    "    print('las cadenas tienen diferente numero de caracteres')\n",
    "else:\n",
    "    print('las cadenas tienen mismo numero de caracteres')\n",
    "    if cad_1.upper()!=cad_2.upper():\n",
    "        print('...pero nos son las mismas palabras')"
   ]
  },
  {
   "cell_type": "markdown",
   "id": "accepting-shopping",
   "metadata": {
    "cell_id": "00072-49acda5d-3481-415e-b48b-6a71ed27df70",
    "deepnote_cell_height": 137.8000030517578,
    "deepnote_cell_type": "markdown"
   },
   "source": [
    "<a id=\"loops_cadenas\"></a>   \n",
    "### Loops: `for` y `while`\n",
    "\n",
    "Iterar sobre una cadena le permite trabajar con cada carácter de una cadena individualmente. Se comienza con el carácter en el índice 0 y se desplaza hasta el final de la cadena."
   ]
  },
  {
   "cell_type": "code",
   "execution_count": null,
   "id": "detected-uganda",
   "metadata": {
    "cell_id": "00073-2ebdb466-ae07-483f-8095-54cf9b08d28c",
    "deepnote_cell_height": 398,
    "deepnote_cell_type": "code",
    "deepnote_output_heights": [
     247
    ],
    "deepnote_to_be_reexecuted": false,
    "execution_millis": 153,
    "execution_start": 1652973819984,
    "is_code_hidden": false,
    "source_hash": "38334b69"
   },
   "outputs": [
    {
     "data": {
      "image/png": "[encoded data removed]",
      "text/plain": [
       "<Figure size 720x360 with 1 Axes>"
      ]
     },
     "metadata": {
      "image/png": {
       "height": 245,
       "width": 572
      },
      "needs_background": "light"
     },
     "output_type": "display_data"
    }
   ],
   "source": [
    "import matplotlib.pyplot as plt\n",
    "fig,ax=plt.subplots(1,1,figsize=(10,5))\n",
    "ax.imshow(plt.imread('imgs/iteracion_I.png'))\n",
    "ax.set_axis_off()"
   ]
  },
  {
   "cell_type": "code",
   "execution_count": null,
   "id": "opponent-today",
   "metadata": {
    "cell_id": "00074-d614ac72-9981-431d-bd84-efe9d4327763",
    "deepnote_cell_height": 249.1999969482422,
    "deepnote_cell_type": "code",
    "deepnote_to_be_reexecuted": false,
    "execution_millis": 1,
    "execution_start": 1652738116736,
    "owner_user_id": "10217cb7-e807-45af-be75-488a79b03a41",
    "source_hash": "f20f1285"
   },
   "outputs": [
    {
     "name": "stdout",
     "output_type": "stream",
     "text": [
      "p\n",
      "y\n",
      "t\n",
      "h\n",
      "o\n",
      "n\n"
     ]
    }
   ],
   "source": [
    "cadena_3='python'\n",
    "for i in cadena_3:\n",
    "    print(i)"
   ]
  },
  {
   "cell_type": "code",
   "execution_count": null,
   "id": "subtle-debut",
   "metadata": {
    "cell_id": "00075-f01c4231-fcfc-459c-b880-7cd64d1b8880",
    "deepnote_cell_height": 285.20001220703125,
    "deepnote_cell_type": "code",
    "deepnote_to_be_reexecuted": false,
    "execution_millis": 15,
    "execution_start": 1652738116737,
    "source_hash": "decc4aaa"
   },
   "outputs": [
    {
     "name": "stdout",
     "output_type": "stream",
     "text": [
      "p -> P\n",
      "y -> Y\n",
      "t -> T\n",
      "h -> H\n",
      "o -> O\n",
      "n -> N\n"
     ]
    }
   ],
   "source": [
    "# Sobre cada elemento (carácter) de la cadena se puede aplicar cualquier método de lista.\n",
    "# Por ejemplo cambiar las cadenas de minúscula a mayúscula\n",
    "cadena_3='python'\n",
    "for i in cadena_3:\n",
    "    print(f'{i} -> {i.upper()}')"
   ]
  },
  {
   "cell_type": "code",
   "execution_count": null,
   "id": "antique-arlington",
   "metadata": {
    "cell_id": "00076-8e5852c3-b81d-4774-8060-c86fbb876c85",
    "deepnote_cell_height": 285.20001220703125,
    "deepnote_cell_type": "code",
    "deepnote_to_be_reexecuted": false,
    "execution_millis": 1,
    "execution_start": 1652738116744,
    "source_hash": "817620f8"
   },
   "outputs": [
    {
     "name": "stdout",
     "output_type": "stream",
     "text": [
      "False\n",
      "True\n",
      "False\n",
      "False\n",
      "True\n",
      "False\n"
     ]
    }
   ],
   "source": [
    "# Usando **for** en operador **in** para verificar si un carácter es vocal o no\n",
    "\n",
    "vocales='aeiouy'   # cadena de vocales\n",
    "for i in cadena_3:\n",
    "    print(i in vocales )"
   ]
  },
  {
   "cell_type": "code",
   "execution_count": null,
   "id": "elegant-insert",
   "metadata": {
    "cell_id": "00077-2c5fd8b7-1b5a-44b4-b888-b3c69f741378",
    "deepnote_cell_height": 238.1999969482422,
    "deepnote_cell_type": "code",
    "deepnote_to_be_reexecuted": false,
    "execution_millis": 3,
    "execution_start": 1652738116750,
    "source_hash": "56ebde6c"
   },
   "outputs": [
    {
     "name": "stdout",
     "output_type": "stream",
     "text": [
      "2\n"
     ]
    }
   ],
   "source": [
    "# Usando **for** En operador **in** para contar número de vocales en una cadena\n",
    "# Se puede modificar el código anterior para contar el nuúero de vocales en una cadena (cadena_3)\n",
    "vocales='aeiouy'         # cadena de vocales\n",
    "contador=0    # contador de vocales en cadena (inicialmente es 0)\n",
    "for i in cadena_3:       # verificando si letra está presente en la cadena vocales\n",
    "    if i in vocales:     # si es True\n",
    "        contador=contador+1 \n",
    "print(contador)        "
   ]
  },
  {
   "cell_type": "markdown",
   "id": "behavioral-course",
   "metadata": {
    "cell_id": "00078-c6b857ce-cdff-4084-9679-c814454eb08e",
    "deepnote_cell_height": 199,
    "deepnote_cell_type": "markdown"
   },
   "source": [
    "En el ejemplo anterior el incremento fue realizado usando:\n",
    "* contador = contador + 1\n",
    "Pero existe una abreviación:\n",
    "* contador += 1\n",
    "Las dos formas de incrementación realizan la misma operación."
   ]
  },
  {
   "cell_type": "markdown",
   "id": "innovative-guard",
   "metadata": {
    "cell_id": "00079-42113462-021b-4a36-bf04-a8134482b8a3",
    "deepnote_cell_height": 74.80000305175781,
    "deepnote_cell_type": "markdown"
   },
   "source": [
    "La iteración de cadenas se realiza más frecuentemente usando `for`. Sin embargo, `while` tambien se puede usar."
   ]
  },
  {
   "cell_type": "code",
   "execution_count": null,
   "id": "fifty-cornell",
   "metadata": {
    "cell_id": "00080-77b22612-36b5-46a3-a073-de595feef4ae",
    "deepnote_cell_height": 285.20001220703125,
    "deepnote_cell_type": "code",
    "deepnote_to_be_reexecuted": false,
    "execution_millis": 4,
    "execution_start": 1652738116755,
    "source_hash": "9c853288"
   },
   "outputs": [
    {
     "name": "stdout",
     "output_type": "stream",
     "text": [
      "p\n",
      "y\n",
      "t\n",
      "h\n",
      "o\n",
      "n\n"
     ]
    }
   ],
   "source": [
    "num_cad_3 = len(cadena_3)\n",
    "i = 0\n",
    "while i < num_cad_3:\n",
    "    print(cadena_3[i])\n",
    "    i = i + 1"
   ]
  },
  {
   "cell_type": "markdown",
   "id": "valued-scroll",
   "metadata": {
    "cell_id": "00081-28c5d857-2b9c-40e1-b476-5a5d5a0625ce",
    "deepnote_cell_height": 284.3999938964844,
    "deepnote_cell_type": "markdown"
   },
   "source": [
    "<a id=\"funciones_personales\"></a>   \n",
    "## Funciones definidas por el usuario\n",
    "\n",
    "La estructura de funciones definidas por el usuario es idéntica al caso de los números:\n",
    "\n",
    "    def nombre_de_funcion(argumento o argumentos separados con coma):  \n",
    "        declaracion\n",
    "        return\n",
    "        \n",
    "En el ejemplo anterior se presentó una manera para contar vocales en una cadena particular.\n",
    "Construir una función sería más útil ya que una vez construida puede aceptar cualquier cadena. "
   ]
  },
  {
   "cell_type": "code",
   "execution_count": null,
   "id": "distributed-complexity",
   "metadata": {
    "cell_id": "00082-3efa0071-6210-4fc5-b532-75fdae74a980",
    "deepnote_cell_height": 243,
    "deepnote_cell_type": "code",
    "deepnote_to_be_reexecuted": false,
    "execution_millis": 6,
    "execution_start": 1652738116783,
    "source_hash": "cdd1dc8"
   },
   "outputs": [],
   "source": [
    "# esta función recibe un argumento tipo str \n",
    "# y devuelve número de vocales\n",
    "\n",
    "def contar_vocales(cadena_arg_1):\n",
    "    vocales='aáeéiíoóuy'        # cadena de vocales\n",
    "    contador=0                  # contador de vocales en cadena (inicialmente es 0)\n",
    "    for i in cadena_arg_1:         # verificando si la letra está presente en la cadena vocales\n",
    "        if i in vocales:        # si es True\n",
    "            contador += 1       # incrementar contador si la letra está presente en la cadena\n",
    "    return contador             # devuelve valor final de contador"
   ]
  },
  {
   "cell_type": "code",
   "execution_count": null,
   "id": "forty-continent",
   "metadata": {
    "cell_id": "00083-d8bcead4-e056-4fc3-83e8-1d72ca380af5",
    "deepnote_cell_height": 130.1999969482422,
    "deepnote_cell_type": "code",
    "deepnote_to_be_reexecuted": false,
    "execution_millis": 4,
    "execution_start": 1652738116785,
    "source_hash": "85b2dd43"
   },
   "outputs": [
    {
     "name": "stdout",
     "output_type": "stream",
     "text": [
      " Numero de vocales en esta cadena es 2\n"
     ]
    }
   ],
   "source": [
    "resultado = contar_vocales(cadena_3)\n",
    "print(f' Numero de vocales en esta cadena es {resultado}')"
   ]
  },
  {
   "cell_type": "markdown",
   "id": "romantic-advice",
   "metadata": {
    "cell_id": "00084-9610aefb-f0d3-45a3-ac20-8ed89f83dd8d",
    "deepnote_cell_height": 52.399993896484375,
    "deepnote_cell_type": "markdown"
   },
   "source": [
    "En el caso de una cadena muy larga, las líneas se pueden separar usando el operador: `\\`"
   ]
  },
  {
   "cell_type": "code",
   "execution_count": null,
   "id": "bottom-worker",
   "metadata": {
    "cell_id": "00085-28103685-b960-47fb-a883-c2f8d037b93f",
    "deepnote_cell_height": 207,
    "deepnote_cell_type": "code",
    "deepnote_to_be_reexecuted": false,
    "execution_millis": 0,
    "execution_start": 1652738116786,
    "source_hash": "77002102"
   },
   "outputs": [],
   "source": [
    "libro_Alicia=\"Realmente  el  gran  dilema  era  ¿qué?  Alicia  miró  a  su \\\n",
    "alrededor  hacia  las  flores  y  hojas  de  hierba,  pero  no  vio \\\n",
    "nada  que  tuviera  aspecto  de  ser  la  cosa  adecuada  para \\\n",
    "ser  comida  o  bebida  en  esas  circunstancias.  Allí  cerca  se \\\n",
    "erguía  una  gran  seta,  casi  de  la  misma  altura  que  Alicia. \\\n",
    "Y,  cuando  hubo  mirado  debajo  de  ella,  y  a  ambos  lados, \\\n",
    "y  detrás,  se  le  ocurrió  que  lo  mejor  sería  mirar  y  ver  lo \\\n",
    "que había encima. \""
   ]
  },
  {
   "cell_type": "code",
   "execution_count": null,
   "id": "institutional-lingerie",
   "metadata": {
    "cell_id": "00086-5e67d62a-3c68-43fc-ad84-da581dae6385",
    "deepnote_cell_height": 130.1999969482422,
    "deepnote_cell_type": "code",
    "deepnote_to_be_reexecuted": false,
    "execution_millis": 7,
    "execution_start": 1652738116788,
    "source_hash": "973798e7"
   },
   "outputs": [
    {
     "name": "stdout",
     "output_type": "stream",
     "text": [
      " Numero de vocales en esta cadena es 158\n"
     ]
    }
   ],
   "source": [
    "resultado = contar_vocales(libro_Alicia)\n",
    "print(f' Numero de vocales en esta cadena es {resultado}')"
   ]
  },
  {
   "cell_type": "markdown",
   "id": "seasonal-render",
   "metadata": {
    "cell_id": "00087-ea17de67-af6f-4d37-8821-b826dc86fbdf",
    "deepnote_cell_height": 52.399993896484375,
    "deepnote_cell_type": "markdown"
   },
   "source": [
    "Este es otro ejemplo de función con las cadenas:"
   ]
  },
  {
   "cell_type": "code",
   "execution_count": null,
   "id": "virtual-trick",
   "metadata": {
    "cell_id": "00088-36cd203d-1810-4d77-8b1a-baa39b24fc01",
    "deepnote_cell_height": 225,
    "deepnote_cell_type": "code",
    "deepnote_to_be_reexecuted": false,
    "execution_millis": 8,
    "execution_start": 1652738123043,
    "source_hash": "e9ea989a"
   },
   "outputs": [],
   "source": [
    "# Esta función recibe un argumento tipo str (cadena)\n",
    "# y devuelve dos variables que coresponden a dos mitades de esta cadena\n",
    "\n",
    "def dividir_cadena(cadena_arg_1):\n",
    "    len_cadena=len(cadena_arg_1)\n",
    "    if len_cadena%2==0:\n",
    "        mitad1=cadena_arg_1[0:int(len_cadena/2)]\n",
    "        mitad2=cadena_arg_1[int(len_cadena/2):]\n",
    "    return mitad1,mitad2   "
   ]
  },
  {
   "cell_type": "code",
   "execution_count": null,
   "id": "quantitative-swedish",
   "metadata": {
    "cell_id": "00089-31d769ec-2643-47a1-b6e1-d06ecbbb3a78",
    "deepnote_cell_height": 148.1999969482422,
    "deepnote_cell_type": "code",
    "deepnote_to_be_reexecuted": false,
    "execution_millis": 7,
    "execution_start": 1652738123052,
    "source_hash": "cad1e386"
   },
   "outputs": [
    {
     "name": "stdout",
     "output_type": "stream",
     "text": [
      "La primera mitad de esta cadena es 'compu' y segunda mitad es 'tador'.\n"
     ]
    }
   ],
   "source": [
    "cadena_para_dividir='computador'\n",
    "mitad1,mitad2=dividir_cadena(cadena_para_dividir)\n",
    "print(f\"La primera mitad de esta cadena es '{mitad1}' y segunda mitad es '{mitad2}'.\")"
   ]
  }
 ],
 "metadata": {
  "deepnote": {},
  "deepnote_execution_queue": [],
  "deepnote_notebook_id": "1a24321c-4ded-41f2-9719-bc89174ab1da",
  "kernelspec": {
   "display_name": "Python 3",
   "language": "python",
   "name": "python3"
  },
  "language_info": {
   "codemirror_mode": {
    "name": "ipython",
    "version": 3
   },
   "file_extension": ".py",
   "mimetype": "text/x-python",
   "name": "python",
   "nbconvert_exporter": "python",
   "pygments_lexer": "ipython3",
   "version": "3.7.2"
  }
 },
 "nbformat": 4,
 "nbformat_minor": 5
}
