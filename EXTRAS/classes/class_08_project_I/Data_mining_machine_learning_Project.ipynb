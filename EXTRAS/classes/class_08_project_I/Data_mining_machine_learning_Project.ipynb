{
 "cells": [
  {
   "cell_type": "markdown",
   "id": "marine-flight",
   "metadata": {},
   "source": [
    "* If you cant use colab use deepnote\n",
    "* vocabulary and phrases here: https://github.com/mhemmg/Learning-Data-Mining-with-Python/tree/master/EXTRAS/english (study it and memorize some! vocabulary and sentences)\n",
    "* please go through the example in class 07 folder\n",
    "* who wants to go to industry?\n",
    "* groups? please be fair (at least and at most one person who knows ML ) # vocab\n",
    "* the impact of features on ML "
   ]
  },
  {
   "cell_type": "markdown",
   "id": "wrapped-combine",
   "metadata": {},
   "source": [
    "# Finally... the project is about:\n",
    "(https://www.cv-library.co.uk/remote-data-science-jobs-in-g1-1lf?q=remote+data+science&us=1)\n",
    "* solving a real problem, real company (job offer advertised on internet)\n",
    "* requires data mining, machine learning, natural language processing, and of course analytical thinking (you can do it all!)\n",
    "* and you will do it"
   ]
  },
  {
   "cell_type": "markdown",
   "id": "entertaining-alpha",
   "metadata": {},
   "source": [
    "#### and this is how the position was advertised couple of years ago in the UK's job listing site: \n",
    "https://github.com/mhemmg/Learning-Data-Mining-with-Python/blob/master/EXTRAS/classes/class_08/Big_Data_Engineer.pdf\n",
    "* study the vocabulary (they will be repeated in other similar positions)\n",
    "* notice that this is an open position without restriction to experience or education background\n",
    "* Physicists are welcome! (everywhere actually)\n",
    "* notice some keywords: \"unstructured data\", \"data mining\", machine learning\n",
    "* looks like the requirements are long but they are basically about one thing\n",
    "* the key point is \"support business decisions\" (using data science)\n",
    "* when we reach the part of creating CVs we will go through this in more details"
   ]
  },
  {
   "cell_type": "markdown",
   "id": "existing-patrol",
   "metadata": {},
   "source": [
    "* A company like: https://www.cmsltd.co.uk/ needs data scientist to support their company.\n",
    "* they do maintenance of supermarkets like: **Sainsbury's** (similar to Exito, Carulla ...), they have HUNDREDS of large supermarkets in ENGLAND that they maintaine\n",
    "* maintain means: sends engineers to fix things (like lights, air conditions, or fridges)"
   ]
  },
  {
   "cell_type": "markdown",
   "id": "brilliant-depression",
   "metadata": {},
   "source": [
    "![](imgs/sainsburry_supermarket.jpg)"
   ]
  },
  {
   "cell_type": "markdown",
   "id": "bulgarian-substitute",
   "metadata": {},
   "source": [
    "![](imgs/sainsburry_map.jpg)"
   ]
  },
  {
   "cell_type": "markdown",
   "id": "metallic-humanitarian",
   "metadata": {},
   "source": [
    "![](imgs/sainsburry_fridge_cabinet.jpg)\n"
   ]
  },
  {
   "cell_type": "markdown",
   "id": "third-placement",
   "metadata": {},
   "source": [
    "* they realized that their data is growing, is unstructured, complex and beyond simple reporting (look at the graph from the last class)\n",
    "* they are unable to understand what is happending and why it is happening\n",
    "* now they want to know how to improve the decisions withing the company ...etc"
   ]
  },
  {
   "cell_type": "markdown",
   "id": "entitled-excess",
   "metadata": {},
   "source": [
    "### the dataset contains THREE YEARS of recorded incidents (\"alarms\") of broken fridges with some specific infos:\n",
    "* when the `fridge` breaks down this is reported in the computer system and the CMS company sends an ingeneer to fix it and they it asks the Supermarket to pay for the service (maybe its a good business in Colombia ;)\n",
    "* the original file has 150MB\n",
    "* 600.000 records from 2012-2015"
   ]
  },
  {
   "cell_type": "markdown",
   "id": "starting-physiology",
   "metadata": {},
   "source": [
    "# Link to data:\n"
   ]
  },
  {
   "cell_type": "markdown",
   "id": "integral-absolute",
   "metadata": {},
   "source": [
    "# Lets look at the data\n",
    "```\n",
    "Work Order Number                                           12939001 (like a factura, work done was stored as a number)\n",
    "Site Number                                                    A0052 (each store that company maintains has a number)\n",
    "Site Type                                                SUPERMARKET (type of store: Supermarket(big)/Convenience(small))\n",
    "Date Created                                        02/02/2012 09:45 (date and time that the alarm occured)\n",
    "Date Completed                                      02/02/2012 21:10 (date and time that the alarm was silenced)\n",
    "Provider Name                                CMS   Solutions Limited (name of the maintenance company)\n",
    "WO Current Status                                                EOL (I dont remember)\n",
    "Asset Category                                         REFRIGERATION (type of asset, they also fix aircond, light etc)\n",
    "Problem Type Name            Fixture Critical Over Temperature Alarm (type of alarm)\n",
    "Requested By                              Urgent Refrigeration Alarm (priority of the alarm)\n",
    "WO Priority                                             Standard SLA (for accountancy of the company)\n",
    "Manufacturer                                                LINDE AG  (manufacturer of the asset that made the alarm)\n",
    "(https://sc01.alicdn.com/kf/UT8ew22XwtXXXagOFbXL/3981007/UT8ew22XwtXXXagOFbXL.jpg\n",
    "Asset In-Service Date                               23/05/2012 05:00 (when the machine was first connected)\n",
    "Level 1 Organization Name                                 Region S01 (the company divied the country into regions)\n",
    "Site Zipcode                                                 CR0 4XT (postal code of the store - helps to locate it)\n",
    "https://www.google.com/maps/@51.3756756,-0.11846,3a,75y,122.15h,79.1t/data=!3m7!1e1!3m5!1sYhEzMjJw16Uk9m909X-gKQ!2e0!6shttps:%2F%2Fstreetviewpixels-pa.googleapis.com%2Fv1%2Fthumbnail%3Fpanoid%3DYhEzMjJw16Uk9m909X-gKQ%26cb_client%3Dmaps_sv.tactile.gps%26w%3D203%26h%3D100%26yaw%3D219.408%26pitch%3D0%26thumbfov%3D100!7i16384!8i8192\n",
    "Sales Sq. Ft.                                                48409.0 (the size of the stor in square feet)\n",
    "Asset Barcode                                            SSL00319496 (number of the assed (fridge), a label)\n",
    "Client Product Name                                              NaN (dont remember)\n",
    "Asset Type                                          REMOTE MULTIDECK (fridge can be open, closed, cabinet etc)\n",
    "(https://sc01.alicdn.com/kf/UT8ew22XwtXXXagOFbXL/3981007/UT8ew22XwtXXXagOFbXL.jpg\n",
    "Asset Status                                                Inactive (is the asset active today -time of generating dataset)\n",
    "Name: 9, dtype: object\n",
    "```"
   ]
  },
  {
   "cell_type": "markdown",
   "id": "promotional-wheel",
   "metadata": {},
   "source": [
    "# The questions are:\n",
    "* If the company has details (data, logs etc) on all the \"alarms\" in the year 2012 - 2015, it wants to predicts how many alarms in each store in each month will happen in 2016 ??? \n",
    "* why?\n",
    "* which shops has largest smallest number of alarms (maybe normalize per size of the shop)\n",
    "* what data would you suggest the manager to collect to make the dataser more complete\n",
    "* report and ask questions"
   ]
  },
  {
   "cell_type": "markdown",
   "id": "olympic-contact",
   "metadata": {},
   "source": [
    "* for any consultations my office # is 6-335 "
   ]
  },
  {
   "cell_type": "code",
   "execution_count": null,
   "id": "binding-exhaust",
   "metadata": {},
   "outputs": [],
   "source": []
  }
 ],
 "metadata": {
  "deepnote": {},
  "deepnote_execution_queue": [],
  "deepnote_notebook_id": "d86a4b5c-01bd-41a9-85c6-a24add4f0638",
  "kernelspec": {
   "display_name": "Python 3",
   "language": "python",
   "name": "python3"
  },
  "language_info": {
   "codemirror_mode": {
    "name": "ipython",
    "version": 3
   },
   "file_extension": ".py",
   "mimetype": "text/x-python",
   "name": "python",
   "nbconvert_exporter": "python",
   "pygments_lexer": "ipython3",
   "version": "3.7.2"
  }
 },
 "nbformat": 4,
 "nbformat_minor": 5
}
