{
 "cells": [
  {
   "cell_type": "markdown",
   "id": "wrapped-combine",
   "metadata": {},
   "source": [
    "# Finally... the project is about:\n",
    "Predicting number of \"alarms\" of fridges in supermarkets..."
   ]
  },
  {
   "cell_type": "markdown",
   "id": "entertaining-alpha",
   "metadata": {},
   "source": [
    "#### and this is how the position was advertised: "
   ]
  },
  {
   "cell_type": "markdown",
   "id": "existing-patrol",
   "metadata": {},
   "source": [
    "* A company like: https://www.cmsltd.co.uk/\n",
    "* they do maintenance of supermarkets like: **Sainsbury's** (similar to Exito, Carulla ...), they have HUNDREDS of large supermarkets in ENGLAND that they maintaine\n",
    "* maintain means: sends engineers to fix things (like lights, air conditions, or fridges)"
   ]
  },
  {
   "cell_type": "markdown",
   "id": "brilliant-depression",
   "metadata": {},
   "source": [
    "![](imgs/sainsburry_supermarket.jpg)"
   ]
  },
  {
   "cell_type": "markdown",
   "id": "bulgarian-substitute",
   "metadata": {},
   "source": [
    "![](imgs/sainsburry_map.jpg)"
   ]
  },
  {
   "cell_type": "markdown",
   "id": "metallic-humanitarian",
   "metadata": {},
   "source": [
    "![](imgs/sainsburry_fridge_cabinet.jpg)\n"
   ]
  },
  {
   "cell_type": "markdown",
   "id": "statutory-moldova",
   "metadata": {},
   "source": [
    "* when the `fridge` breaks down this is reported in the computer system and the CMS company sends an ingeneer to fix it and they it asks the Supermarket to pay for the service (maybe its a good business in Colombia ;)"
   ]
  },
  {
   "cell_type": "markdown",
   "id": "entitled-excess",
   "metadata": {},
   "source": [
    "### the dataset contains THREE YEARS of recorder incidents (\"alarms\") of broken fridges with some specific infos:\n",
    "* name of the supermarket\n",
    "* model of the fridge\n",
    "* time and date\n",
    "* what happened\n",
    "* name of the engineer who fixed it "
   ]
  },
  {
   "cell_type": "markdown",
   "id": "promotional-wheel",
   "metadata": {},
   "source": [
    "# If the company has all the \"alarms\" in the year 2015,2066,2077 it wants to predicts how many alarms in each store in each month will happen in 2018???"
   ]
  }
 ],
 "metadata": {
  "deepnote": {},
  "deepnote_execution_queue": [],
  "deepnote_notebook_id": "d86a4b5c-01bd-41a9-85c6-a24add4f0638",
  "kernelspec": {
   "display_name": "Python 3",
   "language": "python",
   "name": "python3"
  },
  "language_info": {
   "codemirror_mode": {
    "name": "ipython",
    "version": 3
   },
   "file_extension": ".py",
   "mimetype": "text/x-python",
   "name": "python",
   "nbconvert_exporter": "python",
   "pygments_lexer": "ipython3",
   "version": "3.7.2"
  }
 },
 "nbformat": 4,
 "nbformat_minor": 5
}
