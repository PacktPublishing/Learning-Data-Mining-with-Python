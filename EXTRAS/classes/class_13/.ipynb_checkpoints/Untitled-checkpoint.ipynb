{
 "cells": [
  {
   "cell_type": "markdown",
   "id": "dress-mozambique",
   "metadata": {},
   "source": [
    "# Start working on your CV\n",
    "* Spanish version\n",
    "* it will be an iterative process\n",
    "* not easy\n",
    "* choose the best looking template and make the LaTeX version! (the best look)\n",
    "* every class we can sacrifice for some improvements...\n",
    "* remember there is not one universal CV. CV is trimmed, profiled for a particular job\n",
    "* make two or three versions of your CV (Big Data analyst, Researcher etc...)\n",
    "* make your CV impressibe but without lying or bragging :) not easy, huh\n",
    "* if you want to get a job in computing/Big data dont write that you are physicist but write: \"graduated in computational Physics\" Lie? (yes but a small one) If someone asks you say, that the University course was PROFILED on emphasis on Computational part of Physics - which is true. I sure you have examples...  \n",
    "* what does impressive mean? Lets imagine we have two classes using Azure one about NLP and the second on Parallel programming (Hadoop). Make sure that similar sentences appear in your CV:\n",
    "  \"Good knowledge and experience in Cloud Computing\" (you avoid excelent but good is neutral and interpretable) or/and\n",
    "  \"Experience in Microsoft Azure cloud computing: Natural Language Processing and Map Reduce\"   \"Write two years experience...\" : if you start today and the interview is in two years and you do something meantime... its two years. If someone at the interview asks: \"not commercial but I was part of many great proyects at the university when we worked using Azure \" etc.  \n",
    "* if you apply for a specific job position and they in the specification ask for Azure, make sure that in your CV there is word Azure, because they have software that scans for key words * choose a template that has resume (5 sentences) at the beginning.  \n",
    "* make sure there are no errors in the CV!!!!!!!\n",
    "* actually you can already put in your CV Google Cloud Computing... Colab!\n",
    "* remember that when you will be interview it will be either a mananger or HR, so you will know more than them. So if you say I use Google Cloud computing Colab to deploy Tensorflow applications - its true and sound impressive\n",
    "* max three pages\n",
    "* easy to orientate in the text - clarity\n",
    "* when its good make an English version (I can help - lots of experience ;)\n",
    "* apply for fun for jobs or internships, get experience!:\n",
    "* https://www.linkedin.com/jobs/view/3225630683/?eBP=JOB_SEARCH_ORGANIC&recommendedFlavor=ACTIVELY_HIRING_COMPANY&refId=5tl56eqHoPJgmUedGYtr5Q%3D%3D&trackingId=DMif10KZv90j0adcMkPVIw%3D%3D&trk=flagship3_search_srp_jobs\n",
    "\n"
   ]
  },
  {
   "cell_type": "code",
   "execution_count": null,
   "id": "immune-ethnic",
   "metadata": {},
   "outputs": [],
   "source": []
  }
 ],
 "metadata": {
  "kernelspec": {
   "display_name": "Python 3",
   "language": "python",
   "name": "python3"
  },
  "language_info": {
   "codemirror_mode": {
    "name": "ipython",
    "version": 3
   },
   "file_extension": ".py",
   "mimetype": "text/x-python",
   "name": "python",
   "nbconvert_exporter": "python",
   "pygments_lexer": "ipython3",
   "version": "3.7.2"
  }
 },
 "nbformat": 4,
 "nbformat_minor": 5
}
