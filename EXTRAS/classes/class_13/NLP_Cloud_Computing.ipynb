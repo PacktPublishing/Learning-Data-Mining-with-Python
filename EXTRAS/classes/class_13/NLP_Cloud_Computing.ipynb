{
 "cells": [
  {
   "cell_type": "markdown",
   "id": "based-stevens",
   "metadata": {},
   "source": [
    "# Good news\n",
    "* Im happy to announce that UdeA students have access (free: yes and no) to Microsoft Azure Cloud Computing service!!!!"
   ]
  },
  {
   "cell_type": "markdown",
   "id": "moral-provincial",
   "metadata": {},
   "source": [
    "Buen día estimado equipo UDEA,\n",
    "\n",
    "\n",
    "De acuerdo con nuestra última sesión realicé la validación y como beneficio para estudiantes Microsoft ofrece 100 USD al año en crédito de Azure y acceso a los servicios gratuitos de Azure para los alumnos sin necesidad de una tarjeta de crédito. Adicionalmente puede hacer uso de Azure Dev Tools, es una herramienta donde Microsoft proporciona acceso a determinados servicios de desarrollo de software sin costo alguno.\n",
    "\n",
    "Adicionalmente, quisiera comentarles que me estoy moviendo de rol, por lo cual en las oportunidades de Azure y Data & AI los seguirá acompañando el especialista @Leandro Ruviere. De antemano muchas gracias por todo su apoyo en todos los proyectos y actividades que trabajamos. "
   ]
  },
  {
   "cell_type": "markdown",
   "id": "suffering-woman",
   "metadata": {},
   "source": [
    "# Why is it a \"good news\" that you can learn using Microsoft Azure?\n",
    "\n",
    "Three main reasons:\n",
    "\n",
    "  * feel priviledged, normally you would need a credit card\n",
    "  * you get for free 100USD but you could use your friends accounts if you run out of money\n",
    "  * it is often cheaper to work with cloud computing than buying your own servers\n",
    "    * scalability\n",
    "    * maintenance (hardware, software administrador)\n",
    "    * easy to deploy\n",
    "  * you can write in your CV knowledge and experience on using Cloud Computing!!! (Azure, you can try by yourself AWS and please let me know how do they compare)\n",
    "    * many modern companies ask for such experience (HADOOP / MAP REDUCE, which I would like to introduce as well)\n",
    "    * Excelent for Big Data analysis "
   ]
  },
  {
   "cell_type": "markdown",
   "id": "specialized-arthur",
   "metadata": {},
   "source": [
    "# Cloud computing the biggest competitors (same as usual)\n",
    "* AWS vs. Azure vs. Google Cloud\n",
    "* https://cloudkeeda.com/aws-vs-azure-vs-google-cloud/\n",
    "* https://www.coursera.org/articles/aws-vs-azure-vs-google-cloud\n",
    "* after knowing one well it will not be difficult to switch to different one"
   ]
  },
  {
   "cell_type": "markdown",
   "id": "independent-economics",
   "metadata": {},
   "source": [
    "# Sentiment analysis with Microsoft Azure"
   ]
  },
  {
   "cell_type": "markdown",
   "id": "photographic-letter",
   "metadata": {},
   "source": [
    "## Create an account:"
   ]
  },
  {
   "cell_type": "markdown",
   "id": "forbidden-execution",
   "metadata": {},
   "source": [
    "...\"Links con información que puede ser de valor para ustedes\" (Links from the Microsoft Colombia representative) https://azureforeducation.microsoft.com/devtools, https://docs.microsoft.com/es-es/azure/education-hub/azure-dev-tools-teaching/program-faq, https://docs.microsoft.com/es-es/azure/education-hub/azure-dev-tools-teaching/about-program."
   ]
  },
  {
   "cell_type": "markdown",
   "id": "black-treatment",
   "metadata": {},
   "source": [
    "https://docs.microsoft.com/en-us/azure/cognitive-services/language-service/language-studio\n",
    "https://docs.microsoft.com/en-us/azure/cognitive-services/language-service/sentiment-opinion-mining/quickstart?pivots=programming-language-python"
   ]
  },
  {
   "cell_type": "markdown",
   "id": "square-killing",
   "metadata": {},
   "source": [
    "* you must first have hotmail/outlook account\n",
    "* the link it to university of Antioquia account"
   ]
  },
  {
   "cell_type": "markdown",
   "id": "novel-there",
   "metadata": {},
   "source": [
    "<img src=\"imgs/azure0.png\" width=\"900\" /> \n",
    "<img src=\"imgs/azure1.png\" width=\"900\" /> \n",
    "<img src=\"imgs/azure2.png\" width=\"900\" /> \n",
    "<img src=\"imgs/azure3.png\" width=\"900\" /> "
   ]
  },
  {
   "cell_type": "markdown",
   "id": "adjacent-contents",
   "metadata": {},
   "source": [
    "# sentiment analysis with AZURE:"
   ]
  },
  {
   "cell_type": "markdown",
   "id": "selective-stewart",
   "metadata": {},
   "source": [
    "#### authentication"
   ]
  },
  {
   "cell_type": "code",
   "execution_count": 2,
   "id": "great-favor",
   "metadata": {},
   "outputs": [],
   "source": [
    "key = \"**********************************\" # long key\n",
    "endpoint = \"*********************************\" # long endpoint\n",
    "\n",
    "from azure.ai.textanalytics import TextAnalyticsClient\n",
    "from azure.core.credentials import AzureKeyCredential\n",
    "\n",
    "# Authenticate the client using your key and endpoint \n",
    "def authenticate_client():\n",
    "    ta_credential = AzureKeyCredential(key)\n",
    "    text_analytics_client = TextAnalyticsClient(\n",
    "            endpoint=endpoint, \n",
    "            credential=ta_credential)\n",
    "    return text_analytics_client\n",
    "\n",
    "client = authenticate_client()"
   ]
  },
  {
   "cell_type": "markdown",
   "id": "charged-thompson",
   "metadata": {},
   "source": [
    "# sentences to analyse"
   ]
  },
  {
   "cell_type": "code",
   "execution_count": 8,
   "id": "married-edition",
   "metadata": {},
   "outputs": [],
   "source": [
    "documents = [\"The food and service were unacceptable. The concierge was nice, however.\"]"
   ]
  },
  {
   "cell_type": "markdown",
   "id": "published-approach",
   "metadata": {},
   "source": [
    "# function to evaluate the sentiment"
   ]
  },
  {
   "cell_type": "code",
   "execution_count": 9,
   "id": "former-place",
   "metadata": {},
   "outputs": [],
   "source": [
    "# Example method for detecting sentiment and opinions in text \n",
    "def sentiment_analysis_with_opinion_mining_example(client, documents):\n",
    "\n",
    "    result = client.analyze_sentiment(documents, show_opinion_mining=True)\n",
    "    doc_result = [doc for doc in result if not doc.is_error]\n",
    "\n",
    "    positive_reviews = [doc for doc in doc_result if doc.sentiment == \"positive\"]\n",
    "    negative_reviews = [doc for doc in doc_result if doc.sentiment == \"negative\"]\n",
    "\n",
    "    positive_mined_opinions = []\n",
    "    mixed_mined_opinions = []\n",
    "    negative_mined_opinions = []\n",
    "\n",
    "    for document in doc_result:\n",
    "        print(\"Document Sentiment: {}\".format(document.sentiment))\n",
    "        print(\"Overall scores: positive={0:.2f}; neutral={1:.2f}; negative={2:.2f} \\n\".format(\n",
    "            document.confidence_scores.positive,\n",
    "            document.confidence_scores.neutral,\n",
    "            document.confidence_scores.negative,\n",
    "        ))\n",
    "        for sentence in document.sentences:\n",
    "            print(\"Sentence: {}\".format(sentence.text))\n",
    "            print(\"Sentence sentiment: {}\".format(sentence.sentiment))\n",
    "            print(\"Sentence score:\\nPositive={0:.2f}\\nNeutral={1:.2f}\\nNegative={2:.2f}\\n\".format(\n",
    "                sentence.confidence_scores.positive,\n",
    "                sentence.confidence_scores.neutral,\n",
    "                sentence.confidence_scores.negative,\n",
    "            ))\n",
    "            for mined_opinion in sentence.mined_opinions:\n",
    "                target = mined_opinion.target\n",
    "                print(\"......'{}' target '{}'\".format(target.sentiment, target.text))\n",
    "                print(\"......Target score:\\n......Positive={0:.2f}\\n......Negative={1:.2f}\\n\".format(\n",
    "                    target.confidence_scores.positive,\n",
    "                    target.confidence_scores.negative,\n",
    "                ))\n",
    "                for assessment in mined_opinion.assessments:\n",
    "                    print(\"......'{}' assessment '{}'\".format(assessment.sentiment, assessment.text))\n",
    "                    print(\"......Assessment score:\\n......Positive={0:.2f}\\n......Negative={1:.2f}\\n\".format(\n",
    "                        assessment.confidence_scores.positive,\n",
    "                        assessment.confidence_scores.negative,\n",
    "                    ))\n",
    "            print(\"\\n\")\n",
    "        print(\"\\n\")\n",
    "          "
   ]
  },
  {
   "cell_type": "markdown",
   "id": "excess-specialist",
   "metadata": {},
   "source": [
    "# getting results:"
   ]
  },
  {
   "cell_type": "code",
   "execution_count": 13,
   "id": "alleged-floor",
   "metadata": {},
   "outputs": [
    {
     "name": "stdout",
     "output_type": "stream",
     "text": [
      "Document Sentiment: mixed\n",
      "Overall scores: positive=0.49; neutral=0.00; negative=0.50 \n",
      "\n",
      "Sentence: The food and service were unacceptable. \n",
      "Sentence sentiment: negative\n",
      "Sentence score:\n",
      "Positive=0.00\n",
      "Neutral=0.00\n",
      "Negative=0.99\n",
      "\n",
      "......'negative' target 'food'\n",
      "......Target score:\n",
      "......Positive=0.00\n",
      "......Negative=1.00\n",
      "\n",
      "......'negative' assessment 'unacceptable'\n",
      "......Assessment score:\n",
      "......Positive=0.00\n",
      "......Negative=1.00\n",
      "\n",
      "......'negative' target 'service'\n",
      "......Target score:\n",
      "......Positive=0.00\n",
      "......Negative=1.00\n",
      "\n",
      "......'negative' assessment 'unacceptable'\n",
      "......Assessment score:\n",
      "......Positive=0.00\n",
      "......Negative=1.00\n",
      "\n",
      "\n",
      "\n",
      "Sentence: The concierge was nice, however\n",
      "Sentence sentiment: positive\n",
      "Sentence score:\n",
      "Positive=0.98\n",
      "Neutral=0.00\n",
      "Negative=0.01\n",
      "\n",
      "......'positive' target 'concierge'\n",
      "......Target score:\n",
      "......Positive=1.00\n",
      "......Negative=0.00\n",
      "\n",
      "......'positive' assessment 'nice'\n",
      "......Assessment score:\n",
      "......Positive=1.00\n",
      "......Negative=0.00\n",
      "\n",
      "\n",
      "\n",
      "\n",
      "\n",
      "Document Sentiment: positive\n",
      "Overall scores: positive=1.00; neutral=0.00; negative=0.00 \n",
      "\n",
      "Sentence: I had a great flight\n",
      "Sentence sentiment: positive\n",
      "Sentence score:\n",
      "Positive=1.00\n",
      "Neutral=0.00\n",
      "Negative=0.00\n",
      "\n",
      "......'positive' target 'flight'\n",
      "......Target score:\n",
      "......Positive=1.00\n",
      "......Negative=0.00\n",
      "\n",
      "......'positive' assessment 'great'\n",
      "......Assessment score:\n",
      "......Positive=1.00\n",
      "......Negative=0.00\n",
      "\n",
      "\n",
      "\n",
      "\n",
      "\n",
      "Document Sentiment: negative\n",
      "Overall scores: positive=0.02; neutral=0.00; negative=0.98 \n",
      "\n",
      "Sentence: The trip was nightmare\n",
      "Sentence sentiment: negative\n",
      "Sentence score:\n",
      "Positive=0.02\n",
      "Neutral=0.00\n",
      "Negative=0.98\n",
      "\n",
      "......'negative' target 'trip'\n",
      "......Target score:\n",
      "......Positive=0.00\n",
      "......Negative=1.00\n",
      "\n",
      "......'negative' assessment 'nightmare'\n",
      "......Assessment score:\n",
      "......Positive=0.00\n",
      "......Negative=1.00\n",
      "\n",
      "\n",
      "\n",
      "\n",
      "\n"
     ]
    }
   ],
   "source": [
    "documents = [\"The food and service were unacceptable. The concierge was nice, however\", \n",
    "             \"I had a great flight\", \n",
    "             \"The trip was nightmare\"]\n",
    "\n",
    "sentiment_analysis_with_opinion_mining_example(client, documents)"
   ]
  },
  {
   "cell_type": "markdown",
   "id": "distant-refrigerator",
   "metadata": {},
   "source": [
    "# Try the sentiment analysis on the last dataset and compare with the two other methods, \n",
    "* pretrained sentiment analysis TextBlob\n",
    "* model trained by yourself using Scikit-Learn"
   ]
  },
  {
   "cell_type": "code",
   "execution_count": null,
   "id": "arabic-campaign",
   "metadata": {},
   "outputs": [],
   "source": []
  }
 ],
 "metadata": {
  "kernelspec": {
   "display_name": "Python 3",
   "language": "python",
   "name": "python3"
  },
  "language_info": {
   "codemirror_mode": {
    "name": "ipython",
    "version": 3
   },
   "file_extension": ".py",
   "mimetype": "text/x-python",
   "name": "python",
   "nbconvert_exporter": "python",
   "pygments_lexer": "ipython3",
   "version": "3.7.2"
  }
 },
 "nbformat": 4,
 "nbformat_minor": 5
}
