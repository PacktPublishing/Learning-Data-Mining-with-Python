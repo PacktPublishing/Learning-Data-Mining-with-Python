{
 "cells": [
  {
   "cell_type": "markdown",
   "id": "perfect-anatomy",
   "metadata": {},
   "source": [
    "# There are mainly two ways to extract data from a website:\n",
    "\n",
    "* Use the API of the website (if it exists). For example, Wikipedia or Facebook. Faceboo has the Facebook Graph API which allows retrieval of data posted on Facebook.\n",
    "* Access the HTML of the webpage and extract useful information/data from it. This technique is called web scraping or web harvesting or web data extraction."
   ]
  },
  {
   "cell_type": "markdown",
   "id": "periodic-frequency",
   "metadata": {},
   "source": [
    "# API\n",
    "The acronym API stands for Application Programming Interface and it is a device such as a server that is used to send and retrieve data using programming code. Most commonly this technology is used to retrieve data from a source and display it to a software application and it’s users.\n",
    "\n",
    "APIs work in the same way as a browser when you visit a webpage, a request for information is sent to a server and the server responds. The only difference is the type of data that the server responds with, for APIs the data is of the type JSON.\n",
    "\n",
    "JSON stands for JavaScript Object Notation, which is the standard data notation for APIs in most software languages.\n",
    "(we will work on JSON later on this course)"
   ]
  },
  {
   "cell_type": "markdown",
   "id": "american-fancy",
   "metadata": {},
   "source": [
    "#### Example of Wikipedia API"
   ]
  },
  {
   "cell_type": "code",
   "execution_count": 1,
   "id": "confused-acceptance",
   "metadata": {},
   "outputs": [
    {
     "name": "stdout",
     "output_type": "stream",
     "text": [
      "['Coronavirus', 'COVID-19 pandemic', 'COVID-19', 'COVID-19 pandemic in the United States', 'COVID-19 pandemic by country and territory', 'SARS-CoV-2', 'COVID-19 pandemic on cruise ships', 'Coronavirus (film)', 'COVID-19 pandemic in Algeria', 'Novel coronavirus']\n"
     ]
    }
   ],
   "source": [
    "import wikipedia\n",
    "print(wikipedia.search(\"Coronavirus\"))"
   ]
  },
  {
   "cell_type": "code",
   "execution_count": 2,
   "id": "streaming-phoenix",
   "metadata": {},
   "outputs": [
    {
     "name": "stdout",
     "output_type": "stream",
     "text": [
      "Coronaviruses are a group of related RNA viruses that cause diseases in mammals and birds. In humans and birds, they cause respiratory tract infections that can range from mild to lethal. Mild illnesses in humans include some cases of the common cold (which is also caused by other viruses, predominantly rhinoviruses), while more lethal varieties can cause SARS, MERS and COVID-19, which is causing an ongoing pandemic. In cows and pigs they cause diarrhea, while in mice they cause hepatitis and encephalomyelitis.\n",
      "Coronaviruses constitute the subfamily Orthocoronavirinae, in the family Coronaviridae, order Nidovirales and realm Riboviria. They are enveloped viruses with a positive-sense single-stranded RNA genome and a nucleocapsid of helical symmetry. The genome size of coronaviruses ranges from approximately 26 to 32 kilobases, one of the largest among RNA viruses. They have characteristic club-shaped spikes that project from their surface, which in electron micrographs create an image reminiscent of the solar corona, from which their name derives.\n",
      "\n",
      "\n",
      "== Etymology ==\n",
      "The name \"coronavirus\" is derived from Latin corona, meaning \"crown\" or \"wreath\", itself a borrowing from Greek κορώνη korṓnē, \"garland, wreath\". The name was coined by June Almeida and David Tyrrell who first observed and studied human coronaviruses. The word was first used in print in 1968 by an informal group of virologists in the journal Nature to designate the new family of viruses. The name refers to the characteristic appearance of virions (the infective form of the virus) by electron microscopy, which have a fringe of large, bulbous surface projections creating an image reminiscent of the solar corona or halo. This morphology is created by the viral spike peplomers, which are proteins on the surface of the virus.The scientific name Coronavirus was accepted as a genus name by the International Committee for the Nomenclature of Viruses (later renamed International Committee on Taxonomy of Viruses) in 1971. As the number of new species increased, the genus was split into four genera, namely Alphacoronavirus, Betacoronavirus, Deltacoronavirus, and Gammacoronavirus in 2009. The common name coronavirus is used to refer to any member of the subfamily Orthocoronavirinae. As of 2020, 45 species are officially recognised.\n",
      "\n",
      "\n",
      "== History ==\n",
      "\n",
      "The earliest reports of a coronavirus infection in animals occurred in the late 1920s, when an acute respiratory infection of domesticated chickens emerged in North America. Arthur Schalk and M.C. Hawn in 1931 made the first detailed report which described a new respiratory infection of chickens in North Dakota. The infection of new-born chicks was characterized by gasping and listlessness with high mortality rates of 40–90%. Leland David Bushnell and Carl Alfred Brandly isolated the virus that caused the infection in 1933. The virus was then known as infectious bronchitis virus (IBV). Charles D. Hudson and Fred Robert Beaudette cultivated the virus for the first time in 1937. The specimen came to be known as the Beaudette strain. In the late 1940s, two more animal coronaviruses, JHM that causes brain disease (murine encephalitis) and mouse hepatitis virus (MHV) that causes hepatitis in mice were discovered. It was not realized at the time that these three different viruses were related.Human coronaviruses were discovered in the 1960s using two different methods in the United Kingdom and the United States. E.C. Kendall, Malcolm Bynoe, and David Tyrrell working at the Common Cold Unit of the British Medical Research Council collected a unique common cold virus designated B814 in 1961. The virus could not be cultivated using standard techniques which had successfully cultivated rhinoviruses, adenoviruses and other known common cold viruses. In 1965, Tyrrell and Bynoe successfully cultivated the novel virus by serially passing it through organ culture of human embryonic trachea. The new cultivating method was introduced to the lab by Bertil Hoorn. The isolated virus when intranasally inoculated into volunteers caused a cold and was inactivated by ether which indicated it had a lipid envelope. Dorothy Hamre and John Procknow at the University of Chicago isolated a novel cold from medical students in 1962. They isolated and grew the virus in kidney tissue culture, designating it 229E. The novel virus caused a cold in volunteers and, like B814, was inactivated by ether.\n",
      "\n",
      "Scottish virologist June Almeida at St Thomas' Hospital in London, collaborating with Tyrrell, compared the structures of IBV, B814 and 229E in 1967. Using electron microscopy the three viruses were shown to be morphologically related by their general shape and distinctive club-like spikes. A research group at the National Institute of Health the same year was able to isolate another member of this new group of viruses using organ culture and named one of the samples OC43 (OC for organ culture). Like B814, 229E, and IBV, the novel cold virus OC43 had distinctive club-like spikes when observed with the electron microscope.The IBV-like novel cold viruses were soon shown to be also morphologically related to the mouse hepatitis virus. This new group of viruses were named coronaviruses after their distinctive morphological appearance. Human coronavirus 229E and human coronavirus OC43 continued to be studied in subsequent decades. The coronavirus strain B814 was lost. It is not known which present human coronavirus it was. Other human coronaviruses have since been identified, including SARS-CoV in 2003, HCoV NL63 in 2003, HCoV HKU1 in 2004, MERS-CoV in 2013, and SARS-CoV-2 in 2019. There have also been a large number of animal coronaviruses identified since the 1960s.\n",
      "\n",
      "\n",
      "== Microbiology ==\n",
      "\n",
      "\n",
      "=== Structure ===\n",
      "\n",
      "Coronaviruses are large, roughly spherical particles with unique surface projections. Their size is highly variable with average diameters of 80 to 120 nm. Extreme sizes are known from 50 to 200 nm in diameter. The total molecular mass is on average 40,000 kDa. They are enclosed in an envelope embedded with a number of protein molecules. The lipid bilayer envelope, membrane proteins, and nucleocapsid protect the virus when it is outside the host cell.The viral envelope is made up of a lipid bilayer in which the membrane (M), envelope (E) and spike (S) structural proteins are anchored. The molar ratio of E:S:M in the lipid bilayer is approximately 1:20:300.  The E and M protein are the structural proteins that combined with the lipid bilayer to shape the viral envelope and maintain its size. S proteins are needed for interaction with the host cells. But human coronavirus NL63 is peculiar in that its M protein has the binding site for the host cell, and not its S protein. The diameter of the envelope is 85 nm. The envelope of the virus in electron micrographs appears as a distinct pair of electron-dense shells (shells that are relatively opaque to the electron beam used to scan the virus particle).The M protein is the main structural protein of the envelope that provides the overall shape and is a type III membrane protein. It consists of 218 to 263 Amino acid residues and forms a layer 7.8 nm thick. It has three domains, a short N-terminal ectodomain, a triple-spanning transmembrane domain, and a C-terminal endodomain. The C-terminal domain forms a matrix-like lattice that adds to the extra-thickness of the envelope. Different species can have either N- or O-linked glycans in their protein amino-terminal domain. The M protein is crucial during the assembly, budding, envelope formation, and pathogenesis stages of the virus lifecycle.The E proteins are minor structural proteins and highly variable in different species. There are only about 20 copies of the E protein molecule in a coronavirus particle. They are 8.4 to 12 kDa in size and are composed of 76 to 109 amino acids. They are integral proteins (i.e. embedded in the lipid layer) and have two domains namely a transmembrane domain and an extramembrane C-terminal domain. They are almost fully α-helical, with a single α-helical transmembrane domain, and form pentameric (five-molecular) ion channels in the lipid bilayer. They are responsible for virion assembly, intracellular trafficking and morphogenesis (budding).\n",
      "\n",
      "The spikes are the most distinguishing feature of coronaviruses and are responsible for the corona- or halo-like surface. On average a coronavirus particle has 74 surface spikes. Each spike is about 20 nm long and is composed of a trimer of the S protein. The S protein is in turn composed of an S1 and S2 subunit. The homotrimeric S protein is a class I fusion protein which mediates the receptor binding and membrane fusion between the virus and host cell. The S1 subunit forms the head of the spike and has the receptor-binding domain (RBD). The S2 subunit forms the stem which anchors the spike in the viral envelope and on protease activation enables fusion. The two subunits remain noncovalently linked as they are exposed on the viral surface until they attach to the host cell membrane. In a functionally active state, three S1 are attached to two S2 subunits. The subunit complex is split into individual subunits when the virus binds and fuses with the host cell under the action of proteases such as cathepsin family and transmembrane protease serine 2 (TMPRSS2) of the host cell.\n",
      "\n",
      "S1 proteins are the most critical components in terms of infection. They are also the most variable components as they are responsible for host cell specificity. They possess two major domains named N-terminal domain (S1-NTD) and C-terminal domain (S1-CTD), both of which serve as the receptor-binding domains. The NTDs recognize and bind sugars on the surface of the host cell. An exception is the MHV NTD that binds to a protein receptor carcinoembryonic antigen-related cell adhesion molecule 1 (CEACAM1). S1-CTDs are responsible for recognizing different protein receptors such as angiotensin-converting enzyme 2 (ACE2), aminopeptidase N (APN), and dipeptidyl peptidase 4 (DPP4).A subset of coronaviruses (specifically the members of betacoronavirus subgroup A) also has a shorter spike-like surface protein called hemagglutinin esterase (HE). The HE proteins occur as homodimers composed of about 400 amino acid residues and are 40 to 50 kDa in size. They appear as tiny surface projections of 5 to 7 nm long embedded in between the spikes. They help in the attachment to and detachment from the host cell.Inside the envelope, there is the nucleocapsid, which is formed from multiple copies of the nucleocapsid (N) protein, which are bound to the positive-sense single-stranded RNA genome in a continuous Beads-on-a-string type conformation. N protein is a phosphoprotein of 43 to 50 kDa in size, and is divided into three conserved domains. The majority of the protein is made up of domains 1 and 2, which are typically rich in arginines and lysines. Domain 3 has a short carboxy terminal end and has a net negative charge due to excess of acidic over basic amino acid residues.\n",
      "\n",
      "\n",
      "=== Genome ===\n",
      "\n",
      "Coronaviruses contain a positive-sense, single-stranded RNA genome. The genome size for coronaviruses ranges from 26.4 to 31.7 kilobases. The genome size is one of the largest among RNA viruses. The genome has a 5′ methylated cap and a 3′ polyadenylated tail.The genome organization for a coronavirus is 5′-leader-UTR-replicase (ORF1ab)-spike (S)-envelope (E)-membrane (M)-nucleocapsid (N)-3′UTR-poly (A) tail. The open reading frames 1a and 1b, which occupy the first two-thirds of the genome, encode the replicase polyprotein (pp1ab). The replicase polyprotein self cleaves to form 16 nonstructural proteins (nsp1–nsp16).The later reading frames encode the four major structural proteins: spike, envelope, membrane, and nucleocapsid. Interspersed between these reading frames are the reading frames for the accessory proteins. The number of accessory proteins and their function is unique depending on the specific coronavirus.\n",
      "\n",
      "\n",
      "=== Replication cycle ===\n",
      "\n",
      "\n",
      "==== Cell entry ====\n",
      "\n",
      "Infection begins when the viral spike protein attaches to its complementary host cell receptor. After attachment, a protease of the host cell cleaves and activates the receptor-attached spike protein. Depending on the host cell protease available, cleavage and activation allows the virus to enter the host cell by endocytosis or direct fusion of the viral envelope with the host membrane.\n",
      "\n",
      "\n",
      "==== Genome translation ====\n",
      "On entry into the host cell, the virus particle is uncoated, and its genome enters the cell cytoplasm. The coronavirus RNA genome has a 5′ methylated cap and a 3′ polyadenylated tail, which allows it to act like a messenger RNA and be directly translated by the host cell's ribosomes. The host ribosomes translate the initial overlapping open reading frames ORF1a and ORF1b of the virus genome into two large overlapping polyproteins, pp1a and pp1ab.The larger polyprotein pp1ab is a result of a -1 ribosomal frameshift caused by a slippery sequence (UUUAAAC) and a downstream RNA pseudoknot at the end of open reading frame ORF1a. The ribosomal frameshift allows for the continuous translation of ORF1a followed by ORF1b.The polyproteins have their own proteases,  PLpro (nsp3) and 3CLpro (nsp5), which cleave the polyproteins at different specific sites. The cleavage of polyprotein pp1ab yields 16 nonstructural proteins (nsp1 to nsp16). Product proteins include various replication  proteins such as RNA-dependent RNA polymerase (nsp12), RNA helicase (nsp13), and exoribonuclease (nsp14).\n",
      "\n",
      "\n",
      "==== Replicase-transcriptase ====\n",
      "\n",
      "A number of the nonstructural proteins coalesce to form a multi-protein replicase-transcriptase complex (RTC). The main replicase-transcriptase protein is the RNA-dependent RNA polymerase (RdRp). It is directly involved in the replication and transcription of RNA from an RNA strand. The other nonstructural proteins in the complex assist in the replication and transcription process. The exoribonuclease nonstructural protein, for instance, provides extra fidelity to replication by providing a proofreading function which the RNA-dependent RNA polymerase lacks.Replication – One of the main functions of the complex is to replicate the viral genome. RdRp directly mediates the synthesis of negative-sense genomic RNA from the positive-sense genomic RNA. This is followed by the replication of positive-sense genomic RNA from the negative-sense genomic RNA.\n",
      "\n",
      "Transcription – The other important function of the complex is to transcribe the viral genome. RdRp directly mediates the synthesis of negative-sense subgenomic RNA molecules from the positive-sense genomic RNA. This process is followed by the transcription of these negative-sense subgenomic RNA molecules to their corresponding positive-sense mRNAs. The subgenomic mRNAs form a \"nested set\" which have a common 5'-head and partially duplicate 3'-end.Recombination – The replicase-transcriptase complex is also capable of genetic recombination when at least two viral genomes are present in the same infected cell.  RNA recombination appears to be a major driving force in determining genetic variability within a coronavirus species, the capability of a coronavirus species to jump from one host to another and, infrequently, in determining the emergence of novel coronaviruses.  The exact mechanism of recombination in coronaviruses is unclear, but likely involves template switching during genome replication.\n",
      "\n",
      "\n",
      "==== Assembly and release ====\n",
      "The replicated positive-sense genomic RNA becomes the genome of the progeny viruses. The mRNAs are gene transcripts of the last third of the virus genome after the initial overlapping reading frame. These mRNAs are translated by the host's ribosomes into the structural proteins and many accessory proteins. RNA translation occurs inside the endoplasmic reticulum. The viral structural proteins S, E, and M move along the secretory pathway into the Golgi intermediate compartment. There, the M proteins direct most protein-protein interactions required for the assembly of viruses following its binding to the nucleocapsid. Progeny viruses are then released from the host cell by exocytosis through secretory vesicles. Once released the viruses can infect other host cells.\n",
      "\n",
      "\n",
      "=== Transmission ===\n",
      "Infected carriers are able to shed viruses into the environment. The interaction of the coronavirus spike protein with its complementary cell receptor is central in determining the tissue tropism, infectivity, and species range of the released virus. Coronaviruses mainly target epithelial cells. They are transmitted from one host to another host, depending on the coronavirus species, by either an aerosol, fomite, or fecal-oral route.Human coronaviruses infect the epithelial cells of the respiratory tract, while animal coronaviruses generally infect the epithelial cells of the digestive tract. SARS coronavirus, for example, infects the human epithelial cells of the lungs via an aerosol route by binding to the angiotensin-converting enzyme 2 (ACE2) receptor. Transmissible gastroenteritis coronavirus (TGEV) infects the pig epithelial cells of the digestive tract via a fecal-oral route by binding to the Alanine aminopeptidase (APN) receptor.\n",
      "\n",
      "\n",
      "== Classification ==\n",
      "\n",
      "Coronaviruses form the subfamily Orthocoronavirinae, which is one of two sub-families in the family Coronaviridae, order Nidovirales, and realm Riboviria. They are divided into the four genera: Alphacoronavirus, Betacoronavirus, Gammacoronavirus and Deltacoronavirus. Alphacoronaviruses and betacoronaviruses infect mammals, while gammacoronaviruses and deltacoronaviruses primarily infect birds.\n",
      "\n",
      "Genus: Alphacoronavirus;Species: Alphacoronavirus 1 (TGEV, Feline coronavirus, Canine coronavirus), Human coronavirus 229E, Human coronavirus NL63, Miniopterus bat coronavirus 1, Miniopterus bat coronavirus HKU8, Porcine epidemic diarrhea virus, Rhinolophus bat coronavirus HKU2, Scotophilus bat coronavirus 512\n",
      "Genus Betacoronavirus;Species: Betacoronavirus 1 (Bovine Coronavirus, Human coronavirus OC43), Hedgehog coronavirus 1, Human coronavirus HKU1, Middle East respiratory syndrome-related coronavirus, Murine coronavirus, Pipistrellus bat coronavirus HKU5, Rousettus bat coronavirus HKU9, Severe acute respiratory syndrome–related coronavirus (SARS-CoV, SARS-CoV-2), Tylonycteris bat coronavirus HKU4\n",
      "Genus Gammacoronavirus;Species: Avian coronavirus, Beluga whale coronavirus SW1\n",
      "Genus Deltacoronavirus\n",
      "Species: Bulbul coronavirus HKU11, Porcine coronavirus HKU15\n",
      "\n",
      "\n",
      "== Origin ==\n",
      "\n",
      "The most recent common ancestor (MRCA) of all coronaviruses is estimated to have existed as recently as 8000 BCE, although some models place the common ancestor as far back as 55 million years or more, implying long term coevolution with bat and avian species. The most recent common ancestor of the alphacoronavirus line has been placed at about 2400 BCE, of the betacoronavirus line at 3300 BCE, of the gammacoronavirus line at 2800 BCE, and the deltacoronavirus line at about 3000 BCE. Bats and birds, as warm-blooded flying vertebrates, are an ideal natural reservoir for the coronavirus gene pool (with bats the reservoir for alphacoronaviruses and betacoronavirus – and birds the reservoir for gammacoronaviruses and deltacoronaviruses). The large number and global range of bat and avian species that host viruses have enabled extensive evolution and dissemination of coronaviruses.Many human coronaviruses have their origin in bats. The human coronavirus NL63 shared a common ancestor with a bat coronavirus (ARCoV.2) between 1190 and 1449 CE. The human coronavirus 229E shared a common ancestor with a bat coronavirus (GhanaGrp1 Bt CoV) between 1686 and 1800 CE. More recently, alpaca coronavirus and human coronavirus 229E diverged sometime before 1960. MERS-CoV emerged in humans from bats through the intermediate host of camels. MERS-CoV, although related to several bat coronavirus species, appears to have diverged from these several centuries ago. The most closely related bat coronavirus and SARS-CoV diverged in 1986. The ancestors of SARS-CoV first infected leaf-nose bats of the genus Hipposideridae; subsequently, they spread to horseshoe bats in the species Rhinolophidae, then to Asian palm civets, and finally to humans.Unlike other betacoronaviruses, bovine coronavirus of the species Betacoronavirus 1 and subgenus Embecovirus is thought to have originated in rodents and not in bats. In the 1790s, equine coronavirus diverged from the bovine coronavirus after a cross-species jump. Later in the 1890s, human coronavirus OC43 diverged from bovine coronavirus after another cross-species spillover event. It is speculated that the flu pandemic of 1890 may have been caused by this spillover event, and not by the influenza virus, because of the related timing, neurological symptoms, and unknown causative agent of the pandemic. Besides causing respiratory infections, human coronavirus OC43 is also suspected of playing a role in neurological diseases. In the 1950s, the human coronavirus OC43 began to diverge into its present genotypes. Phylogenetically, mouse hepatitis virus (Murine coronavirus), which infects the mouse's liver and central nervous system, is related to human coronavirus OC43 and bovine coronavirus. Human coronavirus HKU1, like the aforementioned viruses, also has its origins in rodents.\n",
      "\n",
      "\n",
      "== Infection in humans ==\n",
      "\n",
      "Coronaviruses vary significantly in risk factor. Some can kill more than 30% of those infected, such as MERS-CoV, and some are relatively harmless, such as the common cold. Coronaviruses can cause colds with major symptoms, such as fever, and a sore throat from swollen adenoids. Coronaviruses can cause pneumonia (either direct viral pneumonia or secondary bacterial pneumonia) and bronchitis (either direct viral bronchitis or secondary bacterial bronchitis). The human coronavirus discovered in 2003, SARS-CoV, which causes severe acute respiratory syndrome (SARS), has a unique pathogenesis because it causes both upper and lower respiratory tract infections.Six species of human coronaviruses are known, with one species subdivided into two different strains, making seven strains of human coronaviruses altogether.\n",
      "\n",
      "Four human coronaviruses produce symptoms that are generally mild, even though it is contended they might have been more aggressive in the past:\n",
      "Human coronavirus OC43 (HCoV-OC43), β-CoV\n",
      "Human coronavirus HKU1 (HCoV-HKU1), β-CoV\n",
      "Human coronavirus 229E (HCoV-229E), α-CoV\n",
      "Human coronavirus NL63 (HCoV-NL63), α-CoV–Three human coronaviruses produce potentially severe symptoms:\n",
      "\n",
      "Severe acute respiratory syndrome coronavirus (SARS-CoV), β-CoV (identified in 2003)\n",
      "Middle East respiratory syndrome-related coronavirus (MERS-CoV), β-CoV (identified in 2012)\n",
      "Severe acute respiratory syndrome coronavirus 2 (SARS-CoV-2), β-CoV (identified in 2019)These cause the diseases commonly called SARS, MERS, and COVID-19 respectively.\n",
      "\n",
      "\n",
      "=== Common cold ===\n",
      "\n",
      "Although the common cold is usually caused by rhinoviruses, in about 15% of cases the cause is a coronavirus. The human coronaviruses HCoV-OC43, HCoV-HKU1, HCoV-229E, and HCoV-NL63 continually circulate in the human population in adults and children worldwide and produce the generally mild symptoms of the common cold. The four mild coronaviruses have a seasonal incidence occurring in the winter months in temperate climates.  There is no preponderance in any season in tropical climates.\n",
      "\n",
      "\n",
      "=== Severe acute respiratory syndrome (SARS) ===\n",
      "\n",
      "In 2003, following the outbreak of severe acute respiratory syndrome (SARS) which had begun the prior year in Asia, and secondary cases elsewhere in the world, the World Health Organization (WHO) issued a press release stating that a novel coronavirus identified by several laboratories was the causative agent for SARS. The virus was officially named the SARS coronavirus (SARS-CoV). More than 8,000 people from 29 countries and territories were infected, and at least 774 died.\n",
      "\n",
      "\n",
      "=== Middle East respiratory syndrome (MERS) ===\n",
      "\n",
      "In September 2012, a new type of coronavirus was identified, initially called Novel Coronavirus 2012, and now officially named Middle East respiratory syndrome coronavirus (MERS-CoV). The World Health Organization issued a global alert soon after. The WHO update on 28 September 2012 said the virus did not seem to pass easily from person to person. However, on 12 May 2013, a case of human-to-human transmission in France was confirmed by the French Ministry of Social Affairs and Health. In addition, cases of human-to-human transmission were reported by the Ministry of Health in Tunisia. Two confirmed cases involved people who seemed to have caught the disease from their late father, who became ill after a visit to Qatar and Saudi Arabia. Despite this, it appears the virus had trouble spreading from human to human, as most individuals who are infected do not transmit the virus. By 30 October 2013, there were 124 cases and 52 deaths in Saudi Arabia.After the Dutch Erasmus Medical Centre sequenced the virus, the virus was given a new name, Human Coronavirus–Erasmus Medical Centre (HCoV-EMC). The final name for the virus is Middle East respiratory syndrome coronavirus (MERS-CoV). The only U.S. cases (both survived) were recorded in May 2014.In May 2015, an outbreak of MERS-CoV occurred in the Republic of Korea, when a man who had traveled to the Middle East, visited four hospitals in the Seoul area to treat his illness. This caused one of the largest outbreaks of MERS-CoV outside the Middle East. As of December 2019, 2,468 cases of MERS-CoV infection had been confirmed by laboratory tests, 851 of which were fatal, a mortality rate of approximately 34.5%.\n",
      "\n",
      "\n",
      "=== Coronavirus disease 2019 (COVID-19) ===\n",
      "\n",
      "In December 2019, a pneumonia outbreak was reported in Wuhan, China. On 31 December 2019, the outbreak was traced to a novel strain of coronavirus, which was given the interim name 2019-nCoV by the World Health Organization, later renamed SARS-CoV-2 by the International Committee on Taxonomy of Viruses.\n",
      "As of 19 July 2022, there have been at least 6,371,262 confirmed deaths and more than 563,421,090 confirmed cases in the COVID-19 pandemic. The Wuhan strain has been identified as a new strain of Betacoronavirus from group 2B with approximately 70% genetic similarity to the SARS-CoV. The virus has a 96% similarity to a bat coronavirus, so it is widely suspected to originate from bats as well.\n",
      "\n",
      "\n",
      "=== Coronavirus HuPn-2018 ===\n",
      "\n",
      "During a surveillance study of archived samples of Malaysian viral pneumonia patients, virologists identified a strain of canine coronavirus which has infected humans in 2018.\n",
      "\n",
      "\n",
      "== Infection in animals ==\n",
      "Coronaviruses have been recognized as causing pathological conditions in veterinary medicine since the 1930s.  They infect a range of animals including swine, cattle, horses, camels, cats, dogs, rodents, birds and bats.  The majority of animal related coronaviruses infect the intestinal tract and are transmitted by a fecal-oral route. Significant research efforts have been focused on elucidating the viral pathogenesis of these animal coronaviruses, especially by virologists interested in veterinary and zoonotic diseases.\n",
      "\n",
      "\n",
      "=== Farm animals ===\n",
      "Coronaviruses infect domesticated birds. Infectious bronchitis virus (IBV), a type of coronavirus, causes avian infectious bronchitis. The virus is of concern to the poultry industry because of the high mortality from infection, its rapid spread, and its effect on production. The virus affects both meat production and egg production and causes substantial economic loss. In chickens, infectious bronchitis virus targets not only the respiratory tract but also the urogenital tract. The virus can spread to different organs throughout the chicken. The virus is transmitted by aerosol and food contaminated by feces. Different vaccines against IBV exist and have helped to limit the spread of the virus and its variants. Infectious bronchitis virus is one of a number of strains of the species Avian coronavirus. Another strain of avian coronavirus is turkey coronavirus (TCV) which causes enteritis in turkeys.Coronaviruses also affect other branches of animal husbandry such as pig farming and the Cattle raising. Swine acute diarrhea syndrome coronavirus (SADS-CoV), which is related to bat coronavirus HKU2, causes diarrhea in pigs. Porcine epidemic diarrhea virus (PEDV) is a coronavirus that has recently emerged and similarly causes diarrhea in pigs. Transmissible gastroenteritis virus (TGEV), which is a member of the species Alphacoronavirus 1, is another coronavirus that causes diarrhea in young pigs. In the cattle industry bovine coronavirus (BCV), which is a member of the species Betacoronavirus 1 and related to HCoV-OC43, is responsible for severe profuse enteritis in young calves.\n",
      "\n",
      "\n",
      "=== Domestic pets ===\n",
      "Coronaviruses infect domestic pets such as cats, dogs, and ferrets. There are two forms of feline coronavirus which are both members of the species Alphacoronavirus 1. Feline enteric coronavirus is a pathogen of minor clinical significance, but spontaneous mutation of this virus can result in feline infectious peritonitis (FIP), a disease with high mortality. There are two different coronaviruses that infect dogs. Canine coronavirus (CCoV), which is a member of the species Alphacoronavirus 1, causes mild gastrointestinal disease. Canine respiratory coronavirus (CRCoV), which is a member of the species Betacoronavirus 1 and related to HCoV-OC43, cause respiratory disease. Similarly, there are two types of coronavirus that infect ferrets. Ferret enteric coronavirus causes a gastrointestinal syndrome known as epizootic catarrhal enteritis (ECE), and a more lethal systemic version of the virus (like FIP in cats) known as ferret systemic coronavirus (FSC).\n",
      "\n",
      "\n",
      "=== Laboratory animals ===\n",
      "Coronaviruses infect laboratory animals. Mouse hepatitis virus (MHV), which is a member of the species Murine coronavirus, causes an epidemic murine illness with high mortality, especially among colonies of laboratory mice.  Prior to the discovery of SARS-CoV, MHV was the best-studied coronavirus both in vivo and in vitro as well as at the molecular level.  Some strains of MHV cause a progressive demyelinating encephalitis in mice which has been used as a murine model for multiple sclerosis. Sialodacryoadenitis virus (SDAV), which is a strain of the species Murine coronavirus, is highly infectious coronavirus of laboratory rats, which can be transmitted between individuals by direct contact and indirectly by aerosol.  Rabbit enteric coronavirus causes acute gastrointestinal disease and diarrhea in young European rabbits.  Mortality rates are high.\n",
      "\n",
      "\n",
      "== Prevention and treatment ==\n",
      "A number of vaccines using different methods have been developed against human coronavirus SARS-CoV-2. Antiviral targets against human coronaviruses have also been identified such as viral proteases, polymerases, and entry proteins. Drugs are in development which target these proteins and the different steps of viral replication.Vaccines are available for animal coronaviruses IBV, TGEV, and Canine CoV, although their effectiveness is limited. In the case of outbreaks of highly contagious animal coronaviruses, such as PEDV, measures such as destruction of entire herds of pigs may be used to prevent transmission to other herds.\n",
      "\n",
      "\n",
      "== See also ==\n",
      "Coronavirus diseases\n",
      "Zoonosis\n",
      "\n",
      "\n",
      "== References ==\n",
      "\n",
      "\n",
      "== Further reading ==\n"
     ]
    }
   ],
   "source": [
    "# article entire content\n",
    "print(wikipedia.page(\"Coronavirus\").content)"
   ]
  },
  {
   "cell_type": "code",
   "execution_count": 3,
   "id": "original-pixel",
   "metadata": {},
   "outputs": [
    {
     "name": "stdout",
     "output_type": "stream",
     "text": [
      "Coronaviruses are a group of related RNA viruses that cause diseases in mammals and birds. In humans and birds, they cause respiratory tract infections that can range from mild to lethal. Mild illnesses in humans include some cases of the common cold (which is also caused by other viruses, predominantly rhinoviruses), while more lethal varieties can cause SARS, MERS and COVID-19, which is causing an ongoing pandemic. In cows and pigs they cause diarrhea, while in mice they cause hepatitis and encephalomyelitis.\n",
      "Coronaviruses constitute the subfamily Orthocoronavirinae, in the family Coronaviridae, order Nidovirales and realm Riboviria. They are enveloped viruses with a positive-sense single-stranded RNA genome and a nucleocapsid of helical symmetry. The genome size of coronaviruses ranges from approximately 26 to 32 kilobases, one of the largest among RNA viruses. They have characteristic club-shaped spikes that project from their surface, which in electron micrographs create an image reminiscent of the solar corona, from which their name derives.\n"
     ]
    }
   ],
   "source": [
    "# article summary\n",
    "print(wikipedia.summary(\"Coronavirus\"))"
   ]
  },
  {
   "cell_type": "markdown",
   "id": "stone-devices",
   "metadata": {},
   "source": [
    "#### But not all sites provide API, \n",
    "so we actually have to extract the information from the site reading its HTML code! (kind of a brute method but ... it works)\n",
    "# Web scrapping / Web crawling"
   ]
  },
  {
   "cell_type": "markdown",
   "id": "conditional-definition",
   "metadata": {},
   "source": [
    "#### What is Web Scraping?\n",
    "\n",
    "Web Scraping refers to the extraction of data from a website or webpage. Usually, this data is extracted on to a new file format. For example, data from a website can be extracted to Pandas or an excel spreadsheet.\n",
    "\n",
    "#### What is Web Crawling?\n",
    "\n",
    "Web Crawling refers to the process of using bots (or spiders) to read and store all of the content on a website for archiving or indexing purposes."
   ]
  },
  {
   "cell_type": "markdown",
   "id": "vocational-rebound",
   "metadata": {},
   "source": [
    "#### Why Web-scraping? (its not always legal - thats why no API)\n",
    "\n",
    "* Web-scraping provides one of the great tools to automate most of the things a human does while browsing. Web-scraping is used in an enterprise in a variety of ways. \n",
    "\n",
    "\n",
    "* Web scraping various hotel data from travel portals with HTML. People do web scraping for hotel websites because it contains tons of data related to the prices, reviews, ratings, people who have rated the hotel, etc. These professionals use several lines of code on HTML, and they get the data within a matter of time.\n",
    "\n",
    "* Scraping data from social media. A study by Oberlo found that around 3.78 billion people use social media in 2021. This amounts to approximately 48% of the total population. This number will likely reach up to 4.41 billion by the year 2025. Hence social media is the best place for web scraping as data on almost everyone is available here. The codes used for different social media platforms are different, but they can be easily run, and the professional will get huge amounts of data.\n",
    "\n",
    "* Scraping data from Yahoo Finance by the use of Python. Python is one of the frequently used and well-known coding languages. Hence it only makes sense that it is time experts will use it for web scraping. They have found a way for web scraping from Yahoo Finance. Since the stock market is one of the biggest repositories of data, as it is used by almost everyone remotely interested in studying the market and deciding which stocks to buy and when. Getting access to the current and past trends is a crucial milestone, as it will give the scrapers an exact idea of how the market performs. For this, scrapers have used Python.\n",
    "    \n",
    "* Scraping job recruiting data. Like social media, the job recruitment industry has also gained a lot of attention with the advancement of the internet. It has also become a major scraping point for experts. Experts scrape data from the job listings from private and company websites and use it to their advantage. The most common web scraping solution for job recruitment data is JobsPikr. It is an autonomous tool that gets you listed using filters you set.\n",
    "    \n",
    "* Scraping for insights about various industries. That is the best idea for web scraping. Experts use web scraping for building massive databases and then draw insights related to their specific industry. These experts then sell these data to people interested in these industries. For example, a company will scrape information related to the oil industry, the oil prices, stock prices, and then this data will be sold to oil companies, and they will earn a profit.\n",
    "\n",
    "* Scraping data from comparison websites. You can find numerous websites that give you access to compare and research the prices. These comparisons are made between two different retailers for the same product. Experts scrape data by scraping competitor product prices, specifications, performance, and pricing of the products daily. This helps them give an accurate comparison to their users when they search for it.\n",
    "\n",
    "* Social media sentiment analysis. With the recent boom of social media and the internet, web scraping sentiment analysis has risen. For example, if you have ever tweeted about an episode of Chernobyl (a series from HBO about the nuclear disaster at Chernobyl), there is a chance it might have been scraped and analyzed by HBO. This way of web scraping helps them understand how the show is received on social media. However, this was an example of a company web scraping. Web scraping can also be done by individuals, such as politicians on social media, and get an idea of how they are perceived.\n",
    "\n",
    "* Scraping is used to get information about the traffic, its size, sources, etc. Analyzing the traffic size, sources, and how many times a visitor stays on the website is done by web scraping. In this process, the entire domains are analyzed, and the scraper will estimate the traffic. You can also understand the traffic source by scraping the top five countries that have the most visits and the top five domains used by them.\n",
    "\n",
    "* Web scraping for content creation. To ensure they retain their visibility, companies need to post huge amounts of high-quality and relevant content. By having regular content, they can create a trustworthy and visible brand. The marketing and advertising experts scrape the internet. They get plenty of new ideas for content, and they need not brainstorm for ideas. This helps them create new content and attract more visitors, thereby increasing their sales and revenue."
   ]
  },
  {
   "cell_type": "markdown",
   "id": "qualified-belle",
   "metadata": {},
   "source": [
    "#### HTML\n",
    "\n",
    "HyperText Markup Language (HTML) is the foundation of the web. This markup language uses tags to tell the browser how to display the content when we access a URL.\n",
    "\n",
    "If we go to our homepage and right click + inspect object or press ctrl/command + shift + c to access the inspector tool, we’ll be able to see the HTML source code of the page."
   ]
  },
  {
   "cell_type": "markdown",
   "id": "naval-bachelor",
   "metadata": {},
   "source": [
    "Here are a few of the most common tags:\n",
    "\n",
    "* div –  it specifies an area or section on a page. Divs are mostly used to organize the page’s content\n",
    "* h1 to 6 – defines headings. \n",
    "* p – tells the browser the content is a paragraph.\n",
    "* a –  tells the browser the text or element is a link to another page. This tag is used alongside an href property that contains the target URL of the link\n"
   ]
  },
  {
   "cell_type": "markdown",
   "id": "cross-mechanics",
   "metadata": {},
   "source": [
    "#### Here are the main element of the HTML website\n",
    "https://developer.mozilla.org/en-US/docs/Web/HTML/Element\n",
    "* but you dont have to be the web developer to scrap the pages"
   ]
  },
  {
   "cell_type": "markdown",
   "id": "stuffed-russia",
   "metadata": {},
   "source": [
    "# Tags and attributes:\n",
    "\n",
    "* `<body>` is a tag\n",
    "* `<a...>` is a tag\n",
    "* `<p...>` is a tag\n",
    "* `<p ... id=\"title\">` `id` is an attribute of a tag `<p>`"
   ]
  },
  {
   "cell_type": "markdown",
   "id": "qualified-captain",
   "metadata": {},
   "source": [
    "### Example"
   ]
  },
  {
   "cell_type": "markdown",
   "id": "naval-twins",
   "metadata": {},
   "source": [
    "* this jupyter notebook\n",
    "* file:///home/michal/index.html\n",
    "* any website\n",
    "* https://www.amazon.com/Best-Sellers-Books/zgbs/books/"
   ]
  },
  {
   "cell_type": "markdown",
   "id": "environmental-transcript",
   "metadata": {},
   "source": [
    "# Python tool for web scrapping\n",
    "* Scrapy \n",
    "* Selenium \n",
    "* **Beautiful Soup**\n",
    "* any of them + RegEx"
   ]
  },
  {
   "cell_type": "markdown",
   "id": "constitutional-complement",
   "metadata": {},
   "source": [
    "* All of the three web scraping libraries are all open-source and completely free to use. With this, money is not a deciding factor. Each of them has a community of developers supporting its development. So which of them should you make use of?\n",
    "\n",
    "* This depends on the project requirements. If a project is complex, Scrapy is the tool for the job. This is because it is a framework designed for handling complex web scraping tasks. It even allows you to extend its functionality.\n",
    "\n",
    "* For smaller projects, BeautifulSoup is the library of choice. You just have to install the requests module and your preferred HTML parser (HTML.parser is installed by default). Selenium comes handy when you are handling Javascript featured website."
   ]
  },
  {
   "cell_type": "markdown",
   "id": "royal-explorer",
   "metadata": {},
   "source": [
    "Web Scrapping (Beautiful Soup)\n",
    "* famous New York Times Art installation in Manhattan: https://vimeo.com/1850342 (scrapping news from the NYT magazine)\n",
    "* Alexander Harrowell uses Beautiful Soup to track the business activities of an arms merchant. ()https://yorksranter.wordpress.com/2008/07/06/the-viktorfeed-documentation/\n",
    "* Jiabao Lin's DXY-COVID-19-Crawler uses Beautiful Soup to scrape a Chinese medical site for information about COVID-19, making it easier for researchers to track the spread of the virus. (Source: \"How open source software is fighting COVID-19\") (https://blog.tidelift.com/how-open-source-software-is-fighting-covid-19)\n",
    "* The Lawrence Journal-World uses Beautiful Soup to gather statewide election results. (https://www2.ljworld.com/)"
   ]
  },
  {
   "cell_type": "markdown",
   "id": "global-nightmare",
   "metadata": {},
   "source": [
    "#### Beautiful soup\n",
    "\n",
    "* A library is **needed** to make a request to the website because it can’t able to make a request to a particular server. To overcome this issue It takes the help of the most popular library named `Requests` or `urlib2`. these libraries will help us to make our request to the server.\n",
    "* After downloading the HTML, XML data into our local Machine, Beautiful Soup require an External parser to parse the downloaded data. The most famous parsers are — lxml’s XML parser, lxml’s HTML parser, HTML5lib, html.parser.\n",
    "    \n",
    "Beautiful Soup provides simple methods for navigating, searching, and modifying a parse tree in HTML, XML files.\n",
    "It transforms a complex HTML document into a tree of Python objects. It also automatically converts the document to Unicode, so you don’t have to think about encodings. This tool not only helps you scrape but also to clean the data. Beautiful Soup supports the HTML parser included in Python’s standard library, but it also supports several third-party Python parsers like lxml or hml5lib.\n",
    "* pip3 install bs4 # (in case of linux, install packages as a user not a root)"
   ]
  },
  {
   "cell_type": "markdown",
   "id": "processed-washer",
   "metadata": {},
   "source": [
    "# With Beautiful Soup we can access:\n",
    "* the entire tag using `select`,`find_all`\n",
    "* tags within tags using `select`,`find_all`\n",
    "* attribute of a tag using `attr.get('...')`"
   ]
  },
  {
   "cell_type": "markdown",
   "id": "literary-vintage",
   "metadata": {},
   "source": [
    "#### some useful links:\n",
    "https://www.crummy.com/software/BeautifulSoup/bs4/doc/\n",
    "* again, like in RegEx its a tool with many options...\n",
    "* install pip3 instal bs4 (as a user)"
   ]
  },
  {
   "cell_type": "code",
   "execution_count": 5,
   "id": "indie-traffic",
   "metadata": {},
   "outputs": [],
   "source": [
    "from bs4 import BeautifulSoup\n",
    "import re"
   ]
  },
  {
   "cell_type": "markdown",
   "id": "worst-shadow",
   "metadata": {},
   "source": [
    "Before extracting the content from the document, you have to parse the HTML document. To do so you have to pass the data and the html.parser as an argument to the BeautifulSoup() method."
   ]
  },
  {
   "cell_type": "code",
   "execution_count": 37,
   "id": "creative-school",
   "metadata": {},
   "outputs": [],
   "source": [
    "data = \"\"\"\n",
    "<html>\n",
    "<head>\n",
    "<title>Data Science Learner</title>\n",
    "</head>\n",
    "\n",
    "<body>\n",
    "<p class=\"title\"> id=\"title\" <b>Data Science Learner Links</b></p>\n",
    "<p class=\"links\">Links\n",
    "<a href=\"http://example.com/dsl1\" class=\"element\" id=\"link1\">1</a>\n",
    "<a href=\"http://example.com/dsl2\" class=\"element\" id=\"link2\">2</a>\n",
    "<a href=\"http://example.com/dsl3\" class=\"avatar\" id=\"link3\">3</a>\n",
    "<p> line ends</p>\n",
    "</body>\n",
    "</htm>\n",
    "\n",
    "\"\"\""
   ]
  },
  {
   "cell_type": "code",
   "execution_count": 38,
   "id": "prescribed-kazakhstan",
   "metadata": {},
   "outputs": [],
   "source": [
    "soup = BeautifulSoup(data, \"html.parser\")"
   ]
  },
  {
   "cell_type": "markdown",
   "id": "approved-interview",
   "metadata": {},
   "source": [
    "#### parsing is basically to resolve (a sentence) into its component parts and describe their syntactic roles. \n",
    "* According to wikipedia, Parsing or syntactic analysis is the process of analysing a string of symbols, either in natural language or in computer languages, according to the rules of a formal grammar. The term parsing comes from Latin pars (orationis), meaning part (of speech).\n",
    "* Browsers have a built in way of reading (referred to as parsing) HTML tags and rendering that in the browser. HTML files are just text files, files that you can read and open with a text editor.\n",
    "* The tags are enclosed in starting and ending `<>` like `<body>` or `<h1>`."
   ]
  },
  {
   "cell_type": "code",
   "execution_count": 7,
   "id": "danish-crazy",
   "metadata": {},
   "outputs": [],
   "source": [
    "# prettify - to make the html code easier to read:\n",
    "# print(soup.prettify())"
   ]
  },
  {
   "cell_type": "markdown",
   "id": "baking-witness",
   "metadata": {},
   "source": [
    "extract the content from the HTML document using the beautifulsoup select() method. Inside the select() method you have to find the CSS like class name or id to get the content from that class."
   ]
  },
  {
   "cell_type": "code",
   "execution_count": 8,
   "id": "hundred-boating",
   "metadata": {},
   "outputs": [
    {
     "data": {
      "text/plain": [
       "[<head>\n",
       " <title>Data Science Learner</title>\n",
       " </head>]"
      ]
     },
     "execution_count": 8,
     "metadata": {},
     "output_type": "execute_result"
    }
   ],
   "source": [
    "soup.select(\"head\") # returns a list"
   ]
  },
  {
   "cell_type": "markdown",
   "id": "emerging-bronze",
   "metadata": {},
   "source": [
    "suppose I want to get the title inside this head class then I will use the below code."
   ]
  },
  {
   "cell_type": "code",
   "execution_count": 9,
   "id": "composite-thirty",
   "metadata": {},
   "outputs": [
    {
     "data": {
      "text/plain": [
       "[<title>Data Science Learner</title>]"
      ]
     },
     "execution_count": 9,
     "metadata": {},
     "output_type": "execute_result"
    }
   ],
   "source": [
    "soup.select(\"head title\")\n",
    "#soup.select(\"head > title\")"
   ]
  },
  {
   "cell_type": "markdown",
   "id": "adaptive-hamilton",
   "metadata": {},
   "source": [
    "`select` returns list of all found elements so we can access each of them using indexing"
   ]
  },
  {
   "cell_type": "code",
   "execution_count": 10,
   "id": "trained-friendship",
   "metadata": {},
   "outputs": [
    {
     "data": {
      "text/plain": [
       "'Data Science Learner'"
      ]
     },
     "execution_count": 10,
     "metadata": {},
     "output_type": "execute_result"
    }
   ],
   "source": [
    "# we can get a text that is embraced by the head tag using `get_text()`\n",
    "soup.select(\"head title\")[0].get_text()"
   ]
  },
  {
   "cell_type": "code",
   "execution_count": 11,
   "id": "royal-generator",
   "metadata": {},
   "outputs": [
    {
     "data": {
      "text/plain": [
       "'Data Science Learner'"
      ]
     },
     "execution_count": 11,
     "metadata": {},
     "output_type": "execute_result"
    }
   ],
   "source": [
    "# we can get a text that is embraced by the head tag using `regex`\n",
    "regex=r'<title>(.*)</title>'\n",
    "re.findall(regex,str(soup.select(\"head title\")[0]))[0]"
   ]
  },
  {
   "cell_type": "code",
   "execution_count": 12,
   "id": "african-edgar",
   "metadata": {},
   "outputs": [
    {
     "data": {
      "text/plain": [
       "[<p class=\"title\"> id=\"title\" <b>Data Science Learner Links</b></p>,\n",
       " <p class=\"links\">Links\n",
       " <a class=\"element\" href=\"http://example.com/dsl1\" id=\"link1\">1</a>\n",
       " <a class=\"element\" href=\"http://example.com/dsl2\" id=\"link2\">2</a>\n",
       " <a class=\"avatar\" href=\"http://example.com/dsl3\" id=\"link3\">3</a>\n",
       " <p> line ends</p>\n",
       " </p>,\n",
       " <p> line ends</p>]"
      ]
     },
     "execution_count": 12,
     "metadata": {},
     "output_type": "execute_result"
    }
   ],
   "source": [
    "# find all <p> tags \n",
    "soup.select(\"p\")"
   ]
  },
  {
   "cell_type": "code",
   "execution_count": 13,
   "id": "undefined-carter",
   "metadata": {},
   "outputs": [
    {
     "name": "stdout",
     "output_type": "stream",
     "text": [
      "3\n"
     ]
    }
   ],
   "source": [
    "print(len(soup.select(\"p\")))"
   ]
  },
  {
   "cell_type": "code",
   "execution_count": 14,
   "id": "blind-jimmy",
   "metadata": {},
   "outputs": [
    {
     "data": {
      "text/plain": [
       "[<a class=\"element\" href=\"http://example.com/dsl1\" id=\"link1\">1</a>,\n",
       " <a class=\"element\" href=\"http://example.com/dsl2\" id=\"link2\">2</a>,\n",
       " <a class=\"avatar\" href=\"http://example.com/dsl3\" id=\"link3\">3</a>]"
      ]
     },
     "execution_count": 14,
     "metadata": {},
     "output_type": "execute_result"
    }
   ],
   "source": [
    "# find all <a> tags inside <p> tags\n",
    "soup.select(\"p a\")"
   ]
  },
  {
   "cell_type": "code",
   "execution_count": 15,
   "id": "cheap-invalid",
   "metadata": {},
   "outputs": [
    {
     "data": {
      "text/plain": [
       "[<a class=\"element\" href=\"http://example.com/dsl1\" id=\"link1\">1</a>,\n",
       " <a class=\"element\" href=\"http://example.com/dsl2\" id=\"link2\">2</a>]"
      ]
     },
     "execution_count": 15,
     "metadata": {},
     "output_type": "execute_result"
    }
   ],
   "source": [
    "# find all <a> tags inside <p> tags and the <a> tag must be of class=\"element\"\n",
    "soup.select(\"p a.element\")"
   ]
  },
  {
   "cell_type": "code",
   "execution_count": 16,
   "id": "swiss-figure",
   "metadata": {},
   "outputs": [
    {
     "data": {
      "text/plain": [
       "[<a class=\"element\" href=\"http://example.com/dsl1\" id=\"link1\">1</a>]"
      ]
     },
     "execution_count": 16,
     "metadata": {},
     "output_type": "execute_result"
    }
   ],
   "source": [
    "# find all <a> tags inside <p> tags and the <a> tag must have attribute id=\"link\"\n",
    "soup.select(\"p a[id=link1]\")"
   ]
  },
  {
   "cell_type": "code",
   "execution_count": 17,
   "id": "noble-haiti",
   "metadata": {},
   "outputs": [
    {
     "data": {
      "text/plain": [
       "[<p class=\"title\"> id=\"title\" <b>Data Science Learner Links</b></p>]"
      ]
     },
     "execution_count": 17,
     "metadata": {},
     "output_type": "execute_result"
    }
   ],
   "source": [
    "# find all <p> tags that have with particular class: `class=\"title\"`\n",
    "soup.select(\"p.title\")"
   ]
  },
  {
   "cell_type": "code",
   "execution_count": 18,
   "id": "large-basic",
   "metadata": {},
   "outputs": [
    {
     "data": {
      "text/plain": [
       "[<p class=\"links\">Links\n",
       " <a class=\"element\" href=\"http://example.com/dsl1\" id=\"link1\">1</a>\n",
       " <a class=\"element\" href=\"http://example.com/dsl2\" id=\"link2\">2</a>\n",
       " <a class=\"avatar\" href=\"http://example.com/dsl3\" id=\"link3\">3</a>\n",
       " <p> line ends</p>\n",
       " </p>]"
      ]
     },
     "execution_count": 18,
     "metadata": {},
     "output_type": "execute_result"
    }
   ],
   "source": [
    "# find all <p> tags that have with particular class: `class=\"links\"`\n",
    "soup.select(\"p.links\")"
   ]
  },
  {
   "cell_type": "code",
   "execution_count": 19,
   "id": "portable-pathology",
   "metadata": {},
   "outputs": [
    {
     "data": {
      "text/plain": [
       "[<a class=\"element\" href=\"http://example.com/dsl1\" id=\"link1\">1</a>,\n",
       " <a class=\"element\" href=\"http://example.com/dsl2\" id=\"link2\">2</a>,\n",
       " <a class=\"avatar\" href=\"http://example.com/dsl3\" id=\"link3\">3</a>]"
      ]
     },
     "execution_count": 19,
     "metadata": {},
     "output_type": "execute_result"
    }
   ],
   "source": [
    "soup.select(\"p.links a\")"
   ]
  },
  {
   "cell_type": "markdown",
   "id": "clear-trinity",
   "metadata": {},
   "source": [
    "* `select` is a one option to extract (select) all the tags that we want\n",
    "* `find_all` is another option to select tags \n",
    "  * find by TAG name\n",
    "  * find by attribute\n",
    "  * find by class \n"
   ]
  },
  {
   "cell_type": "code",
   "execution_count": 20,
   "id": "revolutionary-uzbekistan",
   "metadata": {},
   "outputs": [
    {
     "data": {
      "text/plain": [
       "[<a class=\"element\" href=\"http://example.com/dsl1\" id=\"link1\">1</a>]"
      ]
     },
     "execution_count": 20,
     "metadata": {},
     "output_type": "execute_result"
    }
   ],
   "source": [
    "#find all by attribute: id=\"link\":\n",
    "soup.find_all(id=\"link1\")"
   ]
  },
  {
   "cell_type": "code",
   "execution_count": 21,
   "id": "inner-bahamas",
   "metadata": {},
   "outputs": [
    {
     "data": {
      "text/plain": [
       "[<a class=\"element\" href=\"http://example.com/dsl1\" id=\"link1\">1</a>,\n",
       " <a class=\"element\" href=\"http://example.com/dsl2\" id=\"link2\">2</a>]"
      ]
     },
     "execution_count": 21,
     "metadata": {},
     "output_type": "execute_result"
    }
   ],
   "source": [
    "#find all tags by class=\"element\":\n",
    "soup.find_all(class_=\"element\")\n",
    "#Notice how we have to use class_ rather than class as it is a reserved word in Python."
   ]
  },
  {
   "cell_type": "code",
   "execution_count": 22,
   "id": "native-detector",
   "metadata": {},
   "outputs": [
    {
     "data": {
      "text/plain": [
       "[<a class=\"element\" href=\"http://example.com/dsl2\" id=\"link2\">2</a>]"
      ]
     },
     "execution_count": 22,
     "metadata": {},
     "output_type": "execute_result"
    }
   ],
   "source": [
    "#find all tags with href that matches a regex!\n",
    "# use re.compile before using it\n",
    "import re\n",
    "regex=re.compile(r'http.*2')\n",
    "soup.find_all(href=regex)"
   ]
  },
  {
   "cell_type": "code",
   "execution_count": 23,
   "id": "interim-detection",
   "metadata": {},
   "outputs": [
    {
     "data": {
      "text/plain": [
       "[<a class=\"element\" href=\"http://example.com/dsl2\" id=\"link2\">2</a>]"
      ]
     },
     "execution_count": 23,
     "metadata": {},
     "output_type": "execute_result"
    }
   ],
   "source": [
    "#find all tags <a> with href that matches a regex!\n",
    "# use re.compile before using it\n",
    "import re\n",
    "regex=re.compile(r'http.*2')\n",
    "soup.find_all('a', {'href': regex})"
   ]
  },
  {
   "cell_type": "markdown",
   "id": "according-brown",
   "metadata": {},
   "source": [
    "### lets look at tag `<p>` with class \"links\""
   ]
  },
  {
   "cell_type": "code",
   "execution_count": 24,
   "id": "peripheral-moldova",
   "metadata": {},
   "outputs": [
    {
     "data": {
      "text/plain": [
       "[<p class=\"links\">Links\n",
       " <a class=\"element\" href=\"http://example.com/dsl1\" id=\"link1\">1</a>\n",
       " <a class=\"element\" href=\"http://example.com/dsl2\" id=\"link2\">2</a>\n",
       " <a class=\"avatar\" href=\"http://example.com/dsl3\" id=\"link3\">3</a>\n",
       " <p> line ends</p>\n",
       " </p>]"
      ]
     },
     "execution_count": 24,
     "metadata": {},
     "output_type": "execute_result"
    }
   ],
   "source": [
    "soup.select(\"p.links\")"
   ]
  },
  {
   "cell_type": "markdown",
   "id": "requested-layout",
   "metadata": {},
   "source": [
    "### lets say from there we want only links from tag `<a>` with class \"element\""
   ]
  },
  {
   "cell_type": "code",
   "execution_count": 25,
   "id": "secret-salon",
   "metadata": {},
   "outputs": [
    {
     "data": {
      "text/plain": [
       "[<a class=\"element\" href=\"http://example.com/dsl1\" id=\"link1\">1</a>,\n",
       " <a class=\"element\" href=\"http://example.com/dsl2\" id=\"link2\">2</a>]"
      ]
     },
     "execution_count": 25,
     "metadata": {},
     "output_type": "execute_result"
    }
   ],
   "source": [
    "soup.select(\"p.links a.element\")"
   ]
  },
  {
   "cell_type": "markdown",
   "id": "independent-suggestion",
   "metadata": {},
   "source": [
    "#### so we can get the links using `attrs.get`"
   ]
  },
  {
   "cell_type": "code",
   "execution_count": 26,
   "id": "instant-track",
   "metadata": {},
   "outputs": [
    {
     "name": "stdout",
     "output_type": "stream",
     "text": [
      "['http://example.com/dsl1', 'http://example.com/dsl2']\n"
     ]
    }
   ],
   "source": [
    "# we can use list comprehension\n",
    "links = [a.attrs.get('href') for a in soup.select('a.element')]\n",
    "print(links)"
   ]
  },
  {
   "cell_type": "markdown",
   "id": "compliant-hartford",
   "metadata": {},
   "source": [
    "* `select` vs `find_all`\n",
    "  * do the same job.\n",
    "  * I prefer `select`"
   ]
  },
  {
   "cell_type": "markdown",
   "id": "loose-allergy",
   "metadata": {},
   "source": [
    "### This looks nice and easy in a string like above `data` string. But things will get messy if we import the entire page. For this we will use `request`"
   ]
  },
  {
   "cell_type": "markdown",
   "id": "official-scanner",
   "metadata": {},
   "source": [
    "### every well built website has a structure but every structure can be different. So we have to open the website and look and understand its content!!"
   ]
  },
  {
   "cell_type": "markdown",
   "id": "educational-century",
   "metadata": {},
   "source": [
    "* Request the content (source code) of a specific URL from the server\n",
    "* Download the content that is returned\n",
    "* Identify the elements of the page that are part of the table we want\n",
    "* Extract and (if necessary) reformat those elements into a dataset we can analyze or use in whatever way we require."
   ]
  },
  {
   "cell_type": "markdown",
   "id": "amateur-russell",
   "metadata": {},
   "source": [
    "# Example 1"
   ]
  },
  {
   "cell_type": "markdown",
   "id": "consistent-justice",
   "metadata": {},
   "source": [
    "### Currency exchange rates extraction using RegEx\n",
    "https://www.x-rates.com/table/?from=USD&amount=1"
   ]
  },
  {
   "cell_type": "code",
   "execution_count": 27,
   "id": "considerable-attitude",
   "metadata": {},
   "outputs": [],
   "source": [
    "import pandas as pd\n",
    "import requests\n",
    "from bs4 import BeautifulSoup"
   ]
  },
  {
   "cell_type": "code",
   "execution_count": 28,
   "id": "tough-composition",
   "metadata": {},
   "outputs": [
    {
     "name": "stdout",
     "output_type": "stream",
     "text": [
      "b'<!DOCTYPE html>\\n<html>\\n    <head>\\n        <meta http-equiv=\"Content-Type\" content=\"text/html; charset=utf-8\"/>\\n<meta name=\"format-detection\" content=\"telephone=no\"/>\\n<meta name=\"description\" content=\"This currency rates table lets you compare an amount in US Dollar to all other currencies.\"/>\\n<meta name=\"keywords\" content=\"USD EUR, currency exchange table, exchange rate table, convert, euro, american dollar, british pound, canadian dollar, australian dollar, x-rates\"/>\\n<link rel=\"canonical\" href=\"https://www.x-rates.com/table/?from=USD&amount=1\"/>\\n\\t\\t\\t<script type=\\'text/javascript\\'>\\n\\t\\t\\t\\tvar e9AdSlots  = { \\n\\t\\t\\t\\t  output_lb : {site:\\'ExchangeRates\\', adSpace:\\'Homepage\\', size:\\'728x90,468x60\\', noAd: \\'1\\'},\\noutput_rs : {site:\\'ExchangeRates\\', adSpace:\\'Homepage\\', size:\\'300x250,300x600,160x600\\', noAd: \\'1\\'},\\nros_ls : {site:\\'XEInternal\\', adSpace:\\'HRROS\\', size:\\'300x250\\', rsize: \\'238x230\\', noAd: \\'1\\', async: false},\\nros_ms : {site:\\'XEInternal\\', adSpace:\\'HRROS\\', size:\\'468x60\\', rsize: \\'300x90\\', noAd: \\'1\\', async: false}\\n\\t\\t\\t\\t};\\t\\t\\t\\n\\t\\t\\t</script>\\t\\t<link rel=\\'stylesheet\\' href=\\'/themes/x-rates/t_css/output_resp.2e.css\\' type=\\'text/css\\' /><script src=\\'/themes/x-rates/t_js/output.1e.js\\' type=\\'text/javascript\\'></script>            <script>\\n                if (!gdprIsCookieTagAllowed(\"tag_GoogleAnalytics\")) {\\n                            window[\\'ga-disable-UA-851277-2\\'] = true;\\n                }\\n\\n                (function(i,s,o,g,r,a,m){i[\\'GoogleAnalyticsObject\\']=r;i[r]=i[r]||function(){\\n                (i[r].q=i[r].q||[]).push(arguments)},i[r].l=1*new Date();a=s.createElement(o),\\n                m=s.getElementsByTagName(o)[0];a.async=1;a.src=g;m.parentNode.insertBefore(a,m)\\n                })(window,document,\\'script\\',\\'//www.google-analytics.com/analytics.js\\',\\'ga\\');\\n                ga(\\'create\\', \\'UA-851277-2\\', \\'auto\\');\\n                ga(\\'require\\', \\'displayfeatures\\');\\n                ga(\\'send\\', \\'pageview\\');;\\n                \\n            </script><script type=\"text/javascript\">\\n    var converterToolExcludeArgs = {ratestable: [\\'to\\'],historicallookup: [\\'to\\']};\\n</script>\\n        <title>Currency Exchange Table (US Dollar - USD) - X-Rates</title>\\n        <!--[if IE]><script src=\"http://html5shiv.googlecode.com/svn/trunk/html5.js\"></script><![endif]-->\\n    </head>\\n\\n    <body>\\n                <div id=\"skip\"><a href=\"#content\">Skip to Main Content</a></div>\\n        <header>\\n            \\t<div class=\"navbar clearfix\">\\t\\n\\t<div class=\"navbar-inner\">\\t\\t                \\n\\t\\t<div class=\"wrapper clearfix\">\\n\\t\\t\\t<a href=\\'https://www.x-rates.com/\\' class=\\'brand\\'><img alt=\\'xrates logo\\' src=\\'/themes/x-rates/images/xrates_sm_tm.png\\' border=\\'0\\'/></a>\\n\\t\\t\\t<div id=\"headerTri\"></div>  \\n\\t\\t\\t<!--[if !IE 8]><!-->\\n\\t\\t\\t\\t<a class=\"navtoggle\" id=\"navtoggle\">\\n\\t\\t\\t\\t\\t<div class=\"nav-icon\"></div>\\n\\t\\t\\t\\t</a>\\t\\t\\t\\n\\t\\t\\t <!--<![endif]-->\\n\\t\\t\\t<nav class=\"nav-collapse\">\\n\\t\\t\\t\\t<ul class=\\'nav\\'><li><a href=\\'https://www.x-rates.com/\\' rel=\\'homepage\\'>Home</a></li>\\n<li><a href=\\'https://www.x-rates.com/calculator/\\' onclick=\"submitConverterArgs(this)\" rel=\\'currencycalculator\\'>Currency Calculator</a></li>\\n<li><a href=\\'https://www.x-rates.com/graph/\\' onclick=\"submitConverterArgs(this)\" rel=\\'currencygraph\\'>Graphs</a></li>\\n<li class=\\'selected\\'><a href=\\'https://www.x-rates.com/table/\\' onclick=\"submitConverterArgs(this)\" rel=\\'ratestable\\'>Rates Table</a></li>\\n<li><a href=\\'https://www.x-rates.com/average/\\' onclick=\"submitConverterWithExtraArgs(this)\" rel=\\'monthlyaverage\\'>Monthly Average</a></li>\\n<li><a href=\\'https://www.x-rates.com/historical/\\' onclick=\"submitConverterWithExtraArgs(this)\" rel=\\'historicallookup\\'>Historic Lookup</a></li>\\n</ul>\\t\\t\\t\\t\\t\\n\\t\\t\\t</nav>   \\n\\t\\t\\t\\t\\t\\t\\t\\n\\t\\t</div>\\n\\n\\t</div>\\n\\t</div>\\n\\t\\t<script type=\"text/javascript\">\\n      \\t\\t$(document).ready(function() {\\t\\n      \\t\\t\\t$(\"#navtoggle\").click(function() {\\n\\t\\t\\t$(\"header .nav-collapse\").slideToggle(300);\\n\\t\\t\\t $(\".nav-icon\").toggleClass(\"open\");   \\n      \\t\\t\\t});\\n      \\t\\t\\n      \\t\\t});\\n    \\t</script>\\n\\n        </header>\\n                <div class=\"wrapper\">\\n\\n            <div class=\"grid clearfix\"  ontouchstart=\"void(0);\">\\n\\n                \\t\\n\\t\\t<div class=\"grid clearfix\" id=\"ads-group\">\\n\\t\\t<div class=\"grid__cell\">\\n\\t\\t     <div class=\"home-logo\" >\\n\\t               \\t <a href=\\'https://www.x-rates.com/\\'><img class=\\'main-logo\\' alt=\\'xrates logo\\' src=\\'/themes/x-rates/images/xrates_lg_tm.png\\' border=\\'0\\'/></a>\\n\\t                </div>\\n\\t                <div class=\"home-ad\"  id=\"output_lb\" >\\n\\t               \\t \\t\\t<script type=\"text/javascript\">\\n\\t\\t\\t\\t\\t\\te9AdSlots[\\'output_lb\\'][\\'mobileAd\\'] = \"<a href=\\'http://www.xe.com/xecurrencydata/?WT.mc_id=XDF-300x50-RROS-ADL-XX-V01-130901\\'><img alt=\\'Ad\\' src=\\'/themes/x-rates/images/ads/728x90_dfs.png\\' border=\\'0\\'/></a>\";\\n\\t\\t\\te9AdSlots[\\'output_lb\\'][\\'desktopAd\\'] = \"<a href=\\'http://www.xe.com/xecurrencydata/?WT.mc_id=XDF-728x90-RROS-ADL-XX-V01-130901\\'><img alt=\\'Ad\\' src=\\'/themes/x-rates/images/ads/728x90_dfs.png\\' border=\\'0\\'/></a>\";\\n\\t\\t\\te9AdSlots[\\'output_lb\\'][\\'mobileThreshold\\'] = 767;\\t\\t\\t\\n\\t\\t\\tenqueueAd(\\'output_lb\\');\\n\\t\\t</script>\\n\\t\\t<noscript>\\n\\t\\t\\t<div align=\"center\"><a href=\\'http://www.xe.com/xecurrencydata/?WT.mc_id=XDF-728x90-RROS-ADL-XX-V01-130901\\'><img alt=\\'Ad\\' src=\\'/themes/x-rates/images/ads/728x90_dfs.png\\' border=\\'0\\'/></a></div>\\n\\t\\t</noscript>\\n\\t                </div>\\n\\t                </div>\\n\\t           \\n\\t\\t</div>\\n\\t                \\n\\t\\t<div class=\"grid-cell breadcrumb\" id=\"breadcrumb\">\\n\\t\\t\\t<a href=\\'https://www.x-rates.com/\\'>Home</a> &gt; US Dollar Exchange Rates Table\\n\\t\\t</div>\\n                <div class=\"grid__cell main\" id=\"content\" >\\n                    \\t\\t <div class=\"grid\">\\n\\t                <div class=\"grid__cell\" >\\t\\t\\t\\n\\t\\t\\t\\t\\t\\t<div class=\"col2 pull-right module bottomMargin\">\\n\\t\\t\\t\\n\\t\\t\\t\\n\\t\\t\\t\\t\\t<div class=\\'moduleContent\\'>\\n\\t\\t\\t\\t\\t<h1 class=\"basicH1 ratestableH1\">\\n\\t\\t\\t\\t\\t<span class=\"OutputHeader\">US Dollar Exchange Rates Table</span>\\n\\t\\t<a href=\\'#converter\\' class=\\'backToConverterButton\\'>Converter</a>\\n\\t\\t<span class=\"OutputArgs\"></span>\\t\\n\\t\\t</h1>\\n\\t\\t\\t\\t\\t<span class=\\'ratesTablePopu\\'>Top 10</span>\\n\\t\\t<span class=\"ratesTimestamp\">Jul 19, 2022 18:28 UTC</span>\\n<table class=\"ratesTable\" cellpadding=0 cellspacing=0>\\n \\t<thead>\\n \\t\\t\\t<tr>\\n\\t\\t<th class=\\'rtHeader rtHeaderCurr\\'>US Dollar</th>\\n\\t\\t<th class=\\'rtHeader rtHeaderValues\\'>1.00 USD</th>\\n\\t\\t<th class=\\'rtHeader rtHeaderValues\\'>inv. 1.00 USD</th>\\n\\t</tr>\\n \\t</thead>\\n\\t<tbody>\\n\\t\\t\\n\\t \\t\\t\\t\\t<tr>\\n\\t\\t\\t\\t\\t\\t<td>Euro</td>\\n\\t\\t\\t\\t\\t\\t<td class=\\'rtRates\\'><a href=\\'https://www.x-rates.com/graph/?from=USD&amp;to=EUR\\'>0.977311</a></td>\\n\\t\\t\\t\\t\\t\\t<td class=\\'rtRates\\'><a href=\\'https://www.x-rates.com/graph/?from=EUR&amp;to=USD\\'>1.023216</a></td> \\t\\t\\t\\t\\n\\t \\t\\t\\t\\t</tr>\\n\\t \\t\\t\\t\\t<tr>\\n\\t\\t\\t\\t\\t\\t<td>British Pound</td>\\n\\t\\t\\t\\t\\t\\t<td class=\\'rtRates\\'><a href=\\'https://www.x-rates.com/graph/?from=USD&amp;to=GBP\\'>0.834024</a></td>\\n\\t\\t\\t\\t\\t\\t<td class=\\'rtRates\\'><a href=\\'https://www.x-rates.com/graph/?from=GBP&amp;to=USD\\'>1.199006</a></td> \\t\\t\\t\\t\\n\\t \\t\\t\\t\\t</tr>\\n\\t \\t\\t\\t\\t<tr>\\n\\t\\t\\t\\t\\t\\t<td>Indian Rupee</td>\\n\\t\\t\\t\\t\\t\\t<td class=\\'rtRates\\'><a href=\\'https://www.x-rates.com/graph/?from=USD&amp;to=INR\\'>79.875374</a></td>\\n\\t\\t\\t\\t\\t\\t<td class=\\'rtRates\\'><a href=\\'https://www.x-rates.com/graph/?from=INR&amp;to=USD\\'>0.012520</a></td> \\t\\t\\t\\t\\n\\t \\t\\t\\t\\t</tr>\\n\\t \\t\\t\\t\\t<tr>\\n\\t\\t\\t\\t\\t\\t<td>Australian Dollar</td>\\n\\t\\t\\t\\t\\t\\t<td class=\\'rtRates\\'><a href=\\'https://www.x-rates.com/graph/?from=USD&amp;to=AUD\\'>1.449801</a></td>\\n\\t\\t\\t\\t\\t\\t<td class=\\'rtRates\\'><a href=\\'https://www.x-rates.com/graph/?from=AUD&amp;to=USD\\'>0.689750</a></td> \\t\\t\\t\\t\\n\\t \\t\\t\\t\\t</tr>\\n\\t \\t\\t\\t\\t<tr>\\n\\t\\t\\t\\t\\t\\t<td>Canadian Dollar</td>\\n\\t\\t\\t\\t\\t\\t<td class=\\'rtRates\\'><a href=\\'https://www.x-rates.com/graph/?from=USD&amp;to=CAD\\'>1.289322</a></td>\\n\\t\\t\\t\\t\\t\\t<td class=\\'rtRates\\'><a href=\\'https://www.x-rates.com/graph/?from=CAD&amp;to=USD\\'>0.775601</a></td> \\t\\t\\t\\t\\n\\t \\t\\t\\t\\t</tr>\\n\\t \\t\\t\\t\\t<tr>\\n\\t\\t\\t\\t\\t\\t<td>Singapore Dollar</td>\\n\\t\\t\\t\\t\\t\\t<td class=\\'rtRates\\'><a href=\\'https://www.x-rates.com/graph/?from=USD&amp;to=SGD\\'>1.391884</a></td>\\n\\t\\t\\t\\t\\t\\t<td class=\\'rtRates\\'><a href=\\'https://www.x-rates.com/graph/?from=SGD&amp;to=USD\\'>0.718450</a></td> \\t\\t\\t\\t\\n\\t \\t\\t\\t\\t</tr>\\n\\t \\t\\t\\t\\t<tr>\\n\\t\\t\\t\\t\\t\\t<td>Swiss Franc</td>\\n\\t\\t\\t\\t\\t\\t<td class=\\'rtRates\\'><a href=\\'https://www.x-rates.com/graph/?from=USD&amp;to=CHF\\'>0.968996</a></td>\\n\\t\\t\\t\\t\\t\\t<td class=\\'rtRates\\'><a href=\\'https://www.x-rates.com/graph/?from=CHF&amp;to=USD\\'>1.031996</a></td> \\t\\t\\t\\t\\n\\t \\t\\t\\t\\t</tr>\\n\\t \\t\\t\\t\\t<tr>\\n\\t\\t\\t\\t\\t\\t<td>Malaysian Ringgit</td>\\n\\t\\t\\t\\t\\t\\t<td class=\\'rtRates\\'><a href=\\'https://www.x-rates.com/graph/?from=USD&amp;to=MYR\\'>4.450184</a></td>\\n\\t\\t\\t\\t\\t\\t<td class=\\'rtRates\\'><a href=\\'https://www.x-rates.com/graph/?from=MYR&amp;to=USD\\'>0.224710</a></td> \\t\\t\\t\\t\\n\\t \\t\\t\\t\\t</tr>\\n\\t \\t\\t\\t\\t<tr>\\n\\t\\t\\t\\t\\t\\t<td>Japanese Yen</td>\\n\\t\\t\\t\\t\\t\\t<td class=\\'rtRates\\'><a href=\\'https://www.x-rates.com/graph/?from=USD&amp;to=JPY\\'>138.211403</a></td>\\n\\t\\t\\t\\t\\t\\t<td class=\\'rtRates\\'><a href=\\'https://www.x-rates.com/graph/?from=JPY&amp;to=USD\\'>0.007235</a></td> \\t\\t\\t\\t\\n\\t \\t\\t\\t\\t</tr>\\n\\t \\t\\t\\t\\t<tr>\\n\\t\\t\\t\\t\\t\\t<td>Chinese Yuan Renminbi</td>\\n\\t\\t\\t\\t\\t\\t<td class=\\'rtRates\\'><a href=\\'https://www.x-rates.com/graph/?from=USD&amp;to=CNY\\'>6.744590</a></td>\\n\\t\\t\\t\\t\\t\\t<td class=\\'rtRates\\'><a href=\\'https://www.x-rates.com/graph/?from=CNY&amp;to=USD\\'>0.148267</a></td> \\t\\t\\t\\t\\n\\t \\t\\t\\t\\t</tr>\\n\\t</tbody>\\n</table>\\n\\t\\t\\t<span class=\\'ratesTableAlpha\\'>Alphabetical order</span>\\n\\t\\t\\t<span class=\"ratesTimestamp\">Jul 19, 2022 18:28 UTC</span>\\n<table class=\"tablesorter ratesTable\" cellpadding=0 cellspacing=0>\\n \\t<thead>\\n \\t\\t\\t<tr>\\n\\t\\t<th class=\\'rtHeader rtHeaderCurr\\'>US Dollar</th>\\n\\t\\t<th class=\\'rtHeader rtHeaderValues\\'>1.00 USD</th>\\n\\t\\t<th class=\\'rtHeader rtHeaderValues\\'>inv. 1.00 USD</th>\\n\\t</tr>\\n \\t</thead>\\n\\t<tbody>\\n\\t\\t\\n\\t \\t\\t\\t\\t<tr>\\n\\t\\t\\t\\t\\t\\t<td>Argentine Peso</td>\\n\\t\\t\\t\\t\\t\\t<td class=\\'rtRates\\'><a href=\\'https://www.x-rates.com/graph/?from=USD&amp;to=ARS\\'>129.145464</a></td>\\n\\t\\t\\t\\t\\t\\t<td class=\\'rtRates\\'><a href=\\'https://www.x-rates.com/graph/?from=ARS&amp;to=USD\\'>0.007743</a></td> \\t\\t\\t\\t\\n\\t \\t\\t\\t\\t</tr>\\n\\t \\t\\t\\t\\t<tr>\\n\\t\\t\\t\\t\\t\\t<td>Australian Dollar</td>\\n\\t\\t\\t\\t\\t\\t<td class=\\'rtRates\\'><a href=\\'https://www.x-rates.com/graph/?from=USD&amp;to=AUD\\'>1.449801</a></td>\\n\\t\\t\\t\\t\\t\\t<td class=\\'rtRates\\'><a href=\\'https://www.x-rates.com/graph/?from=AUD&amp;to=USD\\'>0.689750</a></td> \\t\\t\\t\\t\\n\\t \\t\\t\\t\\t</tr>\\n\\t \\t\\t\\t\\t<tr>\\n\\t\\t\\t\\t\\t\\t<td>Bahraini Dinar</td>\\n\\t\\t\\t\\t\\t\\t<td class=\\'rtRates\\'><a href=\\'https://www.x-rates.com/graph/?from=USD&amp;to=BHD\\'>0.376000</a></td>\\n\\t\\t\\t\\t\\t\\t<td class=\\'rtRates\\'><a href=\\'https://www.x-rates.com/graph/?from=BHD&amp;to=USD\\'>2.659574</a></td> \\t\\t\\t\\t\\n\\t \\t\\t\\t\\t</tr>\\n\\t \\t\\t\\t\\t<tr>\\n\\t\\t\\t\\t\\t\\t<td>Botswana Pula</td>\\n\\t\\t\\t\\t\\t\\t<td class=\\'rtRates\\'><a href=\\'https://www.x-rates.com/graph/?from=USD&amp;to=BWP\\'>12.744567</a></td>\\n\\t\\t\\t\\t\\t\\t<td class=\\'rtRates\\'><a href=\\'https://www.x-rates.com/graph/?from=BWP&amp;to=USD\\'>0.078465</a></td> \\t\\t\\t\\t\\n\\t \\t\\t\\t\\t</tr>\\n\\t \\t\\t\\t\\t<tr>\\n\\t\\t\\t\\t\\t\\t<td>Brazilian Real</td>\\n\\t\\t\\t\\t\\t\\t<td class=\\'rtRates\\'><a href=\\'https://www.x-rates.com/graph/?from=USD&amp;to=BRL\\'>5.387638</a></td>\\n\\t\\t\\t\\t\\t\\t<td class=\\'rtRates\\'><a href=\\'https://www.x-rates.com/graph/?from=BRL&amp;to=USD\\'>0.185610</a></td> \\t\\t\\t\\t\\n\\t \\t\\t\\t\\t</tr>\\n\\t \\t\\t\\t\\t<tr>\\n\\t\\t\\t\\t\\t\\t<td>Bruneian Dollar</td>\\n\\t\\t\\t\\t\\t\\t<td class=\\'rtRates\\'><a href=\\'https://www.x-rates.com/graph/?from=USD&amp;to=BND\\'>1.391884</a></td>\\n\\t\\t\\t\\t\\t\\t<td class=\\'rtRates\\'><a href=\\'https://www.x-rates.com/graph/?from=BND&amp;to=USD\\'>0.718450</a></td> \\t\\t\\t\\t\\n\\t \\t\\t\\t\\t</tr>\\n\\t \\t\\t\\t\\t<tr>\\n\\t\\t\\t\\t\\t\\t<td>Bulgarian Lev</td>\\n\\t\\t\\t\\t\\t\\t<td class=\\'rtRates\\'><a href=\\'https://www.x-rates.com/graph/?from=USD&amp;to=BGN\\'>1.911454</a></td>\\n\\t\\t\\t\\t\\t\\t<td class=\\'rtRates\\'><a href=\\'https://www.x-rates.com/graph/?from=BGN&amp;to=USD\\'>0.523162</a></td> \\t\\t\\t\\t\\n\\t \\t\\t\\t\\t</tr>\\n\\t \\t\\t\\t\\t<tr>\\n\\t\\t\\t\\t\\t\\t<td>Canadian Dollar</td>\\n\\t\\t\\t\\t\\t\\t<td class=\\'rtRates\\'><a href=\\'https://www.x-rates.com/graph/?from=USD&amp;to=CAD\\'>1.289322</a></td>\\n\\t\\t\\t\\t\\t\\t<td class=\\'rtRates\\'><a href=\\'https://www.x-rates.com/graph/?from=CAD&amp;to=USD\\'>0.775601</a></td> \\t\\t\\t\\t\\n\\t \\t\\t\\t\\t</tr>\\n\\t \\t\\t\\t\\t<tr>\\n\\t\\t\\t\\t\\t\\t<td>Chilean Peso</td>\\n\\t\\t\\t\\t\\t\\t<td class=\\'rtRates\\'><a href=\\'https://www.x-rates.com/graph/?from=USD&amp;to=CLP\\'>925.835176</a></td>\\n\\t\\t\\t\\t\\t\\t<td class=\\'rtRates\\'><a href=\\'https://www.x-rates.com/graph/?from=CLP&amp;to=USD\\'>0.001080</a></td> \\t\\t\\t\\t\\n\\t \\t\\t\\t\\t</tr>\\n\\t \\t\\t\\t\\t<tr>\\n\\t\\t\\t\\t\\t\\t<td>Chinese Yuan Renminbi</td>\\n\\t\\t\\t\\t\\t\\t<td class=\\'rtRates\\'><a href=\\'https://www.x-rates.com/graph/?from=USD&amp;to=CNY\\'>6.744590</a></td>\\n\\t\\t\\t\\t\\t\\t<td class=\\'rtRates\\'><a href=\\'https://www.x-rates.com/graph/?from=CNY&amp;to=USD\\'>0.148267</a></td> \\t\\t\\t\\t\\n\\t \\t\\t\\t\\t</tr>\\n\\t \\t\\t\\t\\t<tr>\\n\\t\\t\\t\\t\\t\\t<td>Colombian Peso</td>\\n\\t\\t\\t\\t\\t\\t<td class=\\'rtRates\\'><a href=\\'https://www.x-rates.com/graph/?from=USD&amp;to=COP\\'>4316.107651</a></td>\\n\\t\\t\\t\\t\\t\\t<td class=\\'rtRates\\'><a href=\\'https://www.x-rates.com/graph/?from=COP&amp;to=USD\\'>0.000232</a></td> \\t\\t\\t\\t\\n\\t \\t\\t\\t\\t</tr>\\n\\t \\t\\t\\t\\t<tr>\\n\\t\\t\\t\\t\\t\\t<td>Croatian Kuna</td>\\n\\t\\t\\t\\t\\t\\t<td class=\\'rtRates\\'><a href=\\'https://www.x-rates.com/graph/?from=USD&amp;to=HRK\\'>7.339493</a></td>\\n\\t\\t\\t\\t\\t\\t<td class=\\'rtRates\\'><a href=\\'https://www.x-rates.com/graph/?from=HRK&amp;to=USD\\'>0.136249</a></td> \\t\\t\\t\\t\\n\\t \\t\\t\\t\\t</tr>\\n\\t \\t\\t\\t\\t<tr>\\n\\t\\t\\t\\t\\t\\t<td>Czech Koruna</td>\\n\\t\\t\\t\\t\\t\\t<td class=\\'rtRates\\'><a href=\\'https://www.x-rates.com/graph/?from=USD&amp;to=CZK\\'>23.948223</a></td>\\n\\t\\t\\t\\t\\t\\t<td class=\\'rtRates\\'><a href=\\'https://www.x-rates.com/graph/?from=CZK&amp;to=USD\\'>0.041757</a></td> \\t\\t\\t\\t\\n\\t \\t\\t\\t\\t</tr>\\n\\t \\t\\t\\t\\t<tr>\\n\\t\\t\\t\\t\\t\\t<td>Danish Krone</td>\\n\\t\\t\\t\\t\\t\\t<td class=\\'rtRates\\'><a href=\\'https://www.x-rates.com/graph/?from=USD&amp;to=DKK\\'>7.275762</a></td>\\n\\t\\t\\t\\t\\t\\t<td class=\\'rtRates\\'><a href=\\'https://www.x-rates.com/graph/?from=DKK&amp;to=USD\\'>0.137443</a></td> \\t\\t\\t\\t\\n\\t \\t\\t\\t\\t</tr>\\n\\t \\t\\t\\t\\t<tr>\\n\\t\\t\\t\\t\\t\\t<td>Euro</td>\\n\\t\\t\\t\\t\\t\\t<td class=\\'rtRates\\'><a href=\\'https://www.x-rates.com/graph/?from=USD&amp;to=EUR\\'>0.977311</a></td>\\n\\t\\t\\t\\t\\t\\t<td class=\\'rtRates\\'><a href=\\'https://www.x-rates.com/graph/?from=EUR&amp;to=USD\\'>1.023216</a></td> \\t\\t\\t\\t\\n\\t \\t\\t\\t\\t</tr>\\n\\t \\t\\t\\t\\t<tr>\\n\\t\\t\\t\\t\\t\\t<td>Hong Kong Dollar</td>\\n\\t\\t\\t\\t\\t\\t<td class=\\'rtRates\\'><a href=\\'https://www.x-rates.com/graph/?from=USD&amp;to=HKD\\'>7.850041</a></td>\\n\\t\\t\\t\\t\\t\\t<td class=\\'rtRates\\'><a href=\\'https://www.x-rates.com/graph/?from=HKD&amp;to=USD\\'>0.127388</a></td> \\t\\t\\t\\t\\n\\t \\t\\t\\t\\t</tr>\\n\\t \\t\\t\\t\\t<tr>\\n\\t\\t\\t\\t\\t\\t<td>Hungarian Forint</td>\\n\\t\\t\\t\\t\\t\\t<td class=\\'rtRates\\'><a href=\\'https://www.x-rates.com/graph/?from=USD&amp;to=HUF\\'>388.646825</a></td>\\n\\t\\t\\t\\t\\t\\t<td class=\\'rtRates\\'><a href=\\'https://www.x-rates.com/graph/?from=HUF&amp;to=USD\\'>0.002573</a></td> \\t\\t\\t\\t\\n\\t \\t\\t\\t\\t</tr>\\n\\t \\t\\t\\t\\t<tr>\\n\\t\\t\\t\\t\\t\\t<td>Icelandic Krona</td>\\n\\t\\t\\t\\t\\t\\t<td class=\\'rtRates\\'><a href=\\'https://www.x-rates.com/graph/?from=USD&amp;to=ISK\\'>135.866953</a></td>\\n\\t\\t\\t\\t\\t\\t<td class=\\'rtRates\\'><a href=\\'https://www.x-rates.com/graph/?from=ISK&amp;to=USD\\'>0.007360</a></td> \\t\\t\\t\\t\\n\\t \\t\\t\\t\\t</tr>\\n\\t \\t\\t\\t\\t<tr>\\n\\t\\t\\t\\t\\t\\t<td>Indian Rupee</td>\\n\\t\\t\\t\\t\\t\\t<td class=\\'rtRates\\'><a href=\\'https://www.x-rates.com/graph/?from=USD&amp;to=INR\\'>79.875374</a></td>\\n\\t\\t\\t\\t\\t\\t<td class=\\'rtRates\\'><a href=\\'https://www.x-rates.com/graph/?from=INR&amp;to=USD\\'>0.012520</a></td> \\t\\t\\t\\t\\n\\t \\t\\t\\t\\t</tr>\\n\\t \\t\\t\\t\\t<tr>\\n\\t\\t\\t\\t\\t\\t<td>Indonesian Rupiah</td>\\n\\t\\t\\t\\t\\t\\t<td class=\\'rtRates\\'><a href=\\'https://www.x-rates.com/graph/?from=USD&amp;to=IDR\\'>14964.217005</a></td>\\n\\t\\t\\t\\t\\t\\t<td class=\\'rtRates\\'><a href=\\'https://www.x-rates.com/graph/?from=IDR&amp;to=USD\\'>0.000067</a></td> \\t\\t\\t\\t\\n\\t \\t\\t\\t\\t</tr>\\n\\t \\t\\t\\t\\t<tr>\\n\\t\\t\\t\\t\\t\\t<td>Iranian Rial</td>\\n\\t\\t\\t\\t\\t\\t<td class=\\'rtRates\\'><a href=\\'https://www.x-rates.com/graph/?from=USD&amp;to=IRR\\'>42202.338064</a></td>\\n\\t\\t\\t\\t\\t\\t<td class=\\'rtRates\\'><a href=\\'https://www.x-rates.com/graph/?from=IRR&amp;to=USD\\'>0.000024</a></td> \\t\\t\\t\\t\\n\\t \\t\\t\\t\\t</tr>\\n\\t \\t\\t\\t\\t<tr>\\n\\t\\t\\t\\t\\t\\t<td>Israeli Shekel</td>\\n\\t\\t\\t\\t\\t\\t<td class=\\'rtRates\\'><a href=\\'https://www.x-rates.com/graph/?from=USD&amp;to=ILS\\'>3.439843</a></td>\\n\\t\\t\\t\\t\\t\\t<td class=\\'rtRates\\'><a href=\\'https://www.x-rates.com/graph/?from=ILS&amp;to=USD\\'>0.290711</a></td> \\t\\t\\t\\t\\n\\t \\t\\t\\t\\t</tr>\\n\\t \\t\\t\\t\\t<tr>\\n\\t\\t\\t\\t\\t\\t<td>Japanese Yen</td>\\n\\t\\t\\t\\t\\t\\t<td class=\\'rtRates\\'><a href=\\'https://www.x-rates.com/graph/?from=USD&amp;to=JPY\\'>138.211403</a></td>\\n\\t\\t\\t\\t\\t\\t<td class=\\'rtRates\\'><a href=\\'https://www.x-rates.com/graph/?from=JPY&amp;to=USD\\'>0.007235</a></td> \\t\\t\\t\\t\\n\\t \\t\\t\\t\\t</tr>\\n\\t \\t\\t\\t\\t<tr>\\n\\t\\t\\t\\t\\t\\t<td>Kazakhstani Tenge</td>\\n\\t\\t\\t\\t\\t\\t<td class=\\'rtRates\\'><a href=\\'https://www.x-rates.com/graph/?from=USD&amp;to=KZT\\'>479.988557</a></td>\\n\\t\\t\\t\\t\\t\\t<td class=\\'rtRates\\'><a href=\\'https://www.x-rates.com/graph/?from=KZT&amp;to=USD\\'>0.002083</a></td> \\t\\t\\t\\t\\n\\t \\t\\t\\t\\t</tr>\\n\\t \\t\\t\\t\\t<tr>\\n\\t\\t\\t\\t\\t\\t<td>South Korean Won</td>\\n\\t\\t\\t\\t\\t\\t<td class=\\'rtRates\\'><a href=\\'https://www.x-rates.com/graph/?from=USD&amp;to=KRW\\'>1305.706119</a></td>\\n\\t\\t\\t\\t\\t\\t<td class=\\'rtRates\\'><a href=\\'https://www.x-rates.com/graph/?from=KRW&amp;to=USD\\'>0.000766</a></td> \\t\\t\\t\\t\\n\\t \\t\\t\\t\\t</tr>\\n\\t \\t\\t\\t\\t<tr>\\n\\t\\t\\t\\t\\t\\t<td>Kuwaiti Dinar</td>\\n\\t\\t\\t\\t\\t\\t<td class=\\'rtRates\\'><a href=\\'https://www.x-rates.com/graph/?from=USD&amp;to=KWD\\'>0.307702</a></td>\\n\\t\\t\\t\\t\\t\\t<td class=\\'rtRates\\'><a href=\\'https://www.x-rates.com/graph/?from=KWD&amp;to=USD\\'>3.249898</a></td> \\t\\t\\t\\t\\n\\t \\t\\t\\t\\t</tr>\\n\\t \\t\\t\\t\\t<tr>\\n\\t\\t\\t\\t\\t\\t<td>Libyan Dinar</td>\\n\\t\\t\\t\\t\\t\\t<td class=\\'rtRates\\'><a href=\\'https://www.x-rates.com/graph/?from=USD&amp;to=LYD\\'>4.879588</a></td>\\n\\t\\t\\t\\t\\t\\t<td class=\\'rtRates\\'><a href=\\'https://www.x-rates.com/graph/?from=LYD&amp;to=USD\\'>0.204935</a></td> \\t\\t\\t\\t\\n\\t \\t\\t\\t\\t</tr>\\n\\t \\t\\t\\t\\t<tr>\\n\\t\\t\\t\\t\\t\\t<td>Malaysian Ringgit</td>\\n\\t\\t\\t\\t\\t\\t<td class=\\'rtRates\\'><a href=\\'https://www.x-rates.com/graph/?from=USD&amp;to=MYR\\'>4.450184</a></td>\\n\\t\\t\\t\\t\\t\\t<td class=\\'rtRates\\'><a href=\\'https://www.x-rates.com/graph/?from=MYR&amp;to=USD\\'>0.224710</a></td> \\t\\t\\t\\t\\n\\t \\t\\t\\t\\t</tr>\\n\\t \\t\\t\\t\\t<tr>\\n\\t\\t\\t\\t\\t\\t<td>Mauritian Rupee</td>\\n\\t\\t\\t\\t\\t\\t<td class=\\'rtRates\\'><a href=\\'https://www.x-rates.com/graph/?from=USD&amp;to=MUR\\'>45.589865</a></td>\\n\\t\\t\\t\\t\\t\\t<td class=\\'rtRates\\'><a href=\\'https://www.x-rates.com/graph/?from=MUR&amp;to=USD\\'>0.021935</a></td> \\t\\t\\t\\t\\n\\t \\t\\t\\t\\t</tr>\\n\\t \\t\\t\\t\\t<tr>\\n\\t\\t\\t\\t\\t\\t<td>Mexican Peso</td>\\n\\t\\t\\t\\t\\t\\t<td class=\\'rtRates\\'><a href=\\'https://www.x-rates.com/graph/?from=USD&amp;to=MXN\\'>20.492128</a></td>\\n\\t\\t\\t\\t\\t\\t<td class=\\'rtRates\\'><a href=\\'https://www.x-rates.com/graph/?from=MXN&amp;to=USD\\'>0.048799</a></td> \\t\\t\\t\\t\\n\\t \\t\\t\\t\\t</tr>\\n\\t \\t\\t\\t\\t<tr>\\n\\t\\t\\t\\t\\t\\t<td>Nepalese Rupee</td>\\n\\t\\t\\t\\t\\t\\t<td class=\\'rtRates\\'><a href=\\'https://www.x-rates.com/graph/?from=USD&amp;to=NPR\\'>127.860506</a></td>\\n\\t\\t\\t\\t\\t\\t<td class=\\'rtRates\\'><a href=\\'https://www.x-rates.com/graph/?from=NPR&amp;to=USD\\'>0.007821</a></td> \\t\\t\\t\\t\\n\\t \\t\\t\\t\\t</tr>\\n\\t \\t\\t\\t\\t<tr>\\n\\t\\t\\t\\t\\t\\t<td>New Zealand Dollar</td>\\n\\t\\t\\t\\t\\t\\t<td class=\\'rtRates\\'><a href=\\'https://www.x-rates.com/graph/?from=USD&amp;to=NZD\\'>1.606861</a></td>\\n\\t\\t\\t\\t\\t\\t<td class=\\'rtRates\\'><a href=\\'https://www.x-rates.com/graph/?from=NZD&amp;to=USD\\'>0.622332</a></td> \\t\\t\\t\\t\\n\\t \\t\\t\\t\\t</tr>\\n\\t \\t\\t\\t\\t<tr>\\n\\t\\t\\t\\t\\t\\t<td>Norwegian Krone</td>\\n\\t\\t\\t\\t\\t\\t<td class=\\'rtRates\\'><a href=\\'https://www.x-rates.com/graph/?from=USD&amp;to=NOK\\'>9.912067</a></td>\\n\\t\\t\\t\\t\\t\\t<td class=\\'rtRates\\'><a href=\\'https://www.x-rates.com/graph/?from=NOK&amp;to=USD\\'>0.100887</a></td> \\t\\t\\t\\t\\n\\t \\t\\t\\t\\t</tr>\\n\\t \\t\\t\\t\\t<tr>\\n\\t\\t\\t\\t\\t\\t<td>Omani Rial</td>\\n\\t\\t\\t\\t\\t\\t<td class=\\'rtRates\\'><a href=\\'https://www.x-rates.com/graph/?from=USD&amp;to=OMR\\'>0.384500</a></td>\\n\\t\\t\\t\\t\\t\\t<td class=\\'rtRates\\'><a href=\\'https://www.x-rates.com/graph/?from=OMR&amp;to=USD\\'>2.600780</a></td> \\t\\t\\t\\t\\n\\t \\t\\t\\t\\t</tr>\\n\\t \\t\\t\\t\\t<tr>\\n\\t\\t\\t\\t\\t\\t<td>Pakistani Rupee</td>\\n\\t\\t\\t\\t\\t\\t<td class=\\'rtRates\\'><a href=\\'https://www.x-rates.com/graph/?from=USD&amp;to=PKR\\'>221.910829</a></td>\\n\\t\\t\\t\\t\\t\\t<td class=\\'rtRates\\'><a href=\\'https://www.x-rates.com/graph/?from=PKR&amp;to=USD\\'>0.004506</a></td> \\t\\t\\t\\t\\n\\t \\t\\t\\t\\t</tr>\\n\\t \\t\\t\\t\\t<tr>\\n\\t\\t\\t\\t\\t\\t<td>Philippine Peso</td>\\n\\t\\t\\t\\t\\t\\t<td class=\\'rtRates\\'><a href=\\'https://www.x-rates.com/graph/?from=USD&amp;to=PHP\\'>56.159256</a></td>\\n\\t\\t\\t\\t\\t\\t<td class=\\'rtRates\\'><a href=\\'https://www.x-rates.com/graph/?from=PHP&amp;to=USD\\'>0.017807</a></td> \\t\\t\\t\\t\\n\\t \\t\\t\\t\\t</tr>\\n\\t \\t\\t\\t\\t<tr>\\n\\t\\t\\t\\t\\t\\t<td>Polish Zloty</td>\\n\\t\\t\\t\\t\\t\\t<td class=\\'rtRates\\'><a href=\\'https://www.x-rates.com/graph/?from=USD&amp;to=PLN\\'>4.646517</a></td>\\n\\t\\t\\t\\t\\t\\t<td class=\\'rtRates\\'><a href=\\'https://www.x-rates.com/graph/?from=PLN&amp;to=USD\\'>0.215215</a></td> \\t\\t\\t\\t\\n\\t \\t\\t\\t\\t</tr>\\n\\t \\t\\t\\t\\t<tr>\\n\\t\\t\\t\\t\\t\\t<td>Qatari Riyal</td>\\n\\t\\t\\t\\t\\t\\t<td class=\\'rtRates\\'><a href=\\'https://www.x-rates.com/graph/?from=USD&amp;to=QAR\\'>3.640000</a></td>\\n\\t\\t\\t\\t\\t\\t<td class=\\'rtRates\\'><a href=\\'https://www.x-rates.com/graph/?from=QAR&amp;to=USD\\'>0.274725</a></td> \\t\\t\\t\\t\\n\\t \\t\\t\\t\\t</tr>\\n\\t \\t\\t\\t\\t<tr>\\n\\t\\t\\t\\t\\t\\t<td>Romanian New Leu</td>\\n\\t\\t\\t\\t\\t\\t<td class=\\'rtRates\\'><a href=\\'https://www.x-rates.com/graph/?from=USD&amp;to=RON\\'>4.829044</a></td>\\n\\t\\t\\t\\t\\t\\t<td class=\\'rtRates\\'><a href=\\'https://www.x-rates.com/graph/?from=RON&amp;to=USD\\'>0.207080</a></td> \\t\\t\\t\\t\\n\\t \\t\\t\\t\\t</tr>\\n\\t \\t\\t\\t\\t<tr>\\n\\t\\t\\t\\t\\t\\t<td>Russian Ruble</td>\\n\\t\\t\\t\\t\\t\\t<td class=\\'rtRates\\'><a href=\\'https://www.x-rates.com/graph/?from=USD&amp;to=RUB\\'>56.480801</a></td>\\n\\t\\t\\t\\t\\t\\t<td class=\\'rtRates\\'><a href=\\'https://www.x-rates.com/graph/?from=RUB&amp;to=USD\\'>0.017705</a></td> \\t\\t\\t\\t\\n\\t \\t\\t\\t\\t</tr>\\n\\t \\t\\t\\t\\t<tr>\\n\\t\\t\\t\\t\\t\\t<td>Saudi Arabian Riyal</td>\\n\\t\\t\\t\\t\\t\\t<td class=\\'rtRates\\'><a href=\\'https://www.x-rates.com/graph/?from=USD&amp;to=SAR\\'>3.750000</a></td>\\n\\t\\t\\t\\t\\t\\t<td class=\\'rtRates\\'><a href=\\'https://www.x-rates.com/graph/?from=SAR&amp;to=USD\\'>0.266667</a></td> \\t\\t\\t\\t\\n\\t \\t\\t\\t\\t</tr>\\n\\t \\t\\t\\t\\t<tr>\\n\\t\\t\\t\\t\\t\\t<td>Singapore Dollar</td>\\n\\t\\t\\t\\t\\t\\t<td class=\\'rtRates\\'><a href=\\'https://www.x-rates.com/graph/?from=USD&amp;to=SGD\\'>1.391884</a></td>\\n\\t\\t\\t\\t\\t\\t<td class=\\'rtRates\\'><a href=\\'https://www.x-rates.com/graph/?from=SGD&amp;to=USD\\'>0.718450</a></td> \\t\\t\\t\\t\\n\\t \\t\\t\\t\\t</tr>\\n\\t \\t\\t\\t\\t<tr>\\n\\t\\t\\t\\t\\t\\t<td>South African Rand</td>\\n\\t\\t\\t\\t\\t\\t<td class=\\'rtRates\\'><a href=\\'https://www.x-rates.com/graph/?from=USD&amp;to=ZAR\\'>17.078213</a></td>\\n\\t\\t\\t\\t\\t\\t<td class=\\'rtRates\\'><a href=\\'https://www.x-rates.com/graph/?from=ZAR&amp;to=USD\\'>0.058554</a></td> \\t\\t\\t\\t\\n\\t \\t\\t\\t\\t</tr>\\n\\t \\t\\t\\t\\t<tr>\\n\\t\\t\\t\\t\\t\\t<td>Sri Lankan Rupee</td>\\n\\t\\t\\t\\t\\t\\t<td class=\\'rtRates\\'><a href=\\'https://www.x-rates.com/graph/?from=USD&amp;to=LKR\\'>360.897751</a></td>\\n\\t\\t\\t\\t\\t\\t<td class=\\'rtRates\\'><a href=\\'https://www.x-rates.com/graph/?from=LKR&amp;to=USD\\'>0.002771</a></td> \\t\\t\\t\\t\\n\\t \\t\\t\\t\\t</tr>\\n\\t \\t\\t\\t\\t<tr>\\n\\t\\t\\t\\t\\t\\t<td>Swedish Krona</td>\\n\\t\\t\\t\\t\\t\\t<td class=\\'rtRates\\'><a href=\\'https://www.x-rates.com/graph/?from=USD&amp;to=SEK\\'>10.225152</a></td>\\n\\t\\t\\t\\t\\t\\t<td class=\\'rtRates\\'><a href=\\'https://www.x-rates.com/graph/?from=SEK&amp;to=USD\\'>0.097798</a></td> \\t\\t\\t\\t\\n\\t \\t\\t\\t\\t</tr>\\n\\t \\t\\t\\t\\t<tr>\\n\\t\\t\\t\\t\\t\\t<td>Swiss Franc</td>\\n\\t\\t\\t\\t\\t\\t<td class=\\'rtRates\\'><a href=\\'https://www.x-rates.com/graph/?from=USD&amp;to=CHF\\'>0.968996</a></td>\\n\\t\\t\\t\\t\\t\\t<td class=\\'rtRates\\'><a href=\\'https://www.x-rates.com/graph/?from=CHF&amp;to=USD\\'>1.031996</a></td> \\t\\t\\t\\t\\n\\t \\t\\t\\t\\t</tr>\\n\\t \\t\\t\\t\\t<tr>\\n\\t\\t\\t\\t\\t\\t<td>Taiwan New Dollar</td>\\n\\t\\t\\t\\t\\t\\t<td class=\\'rtRates\\'><a href=\\'https://www.x-rates.com/graph/?from=USD&amp;to=TWD\\'>29.848866</a></td>\\n\\t\\t\\t\\t\\t\\t<td class=\\'rtRates\\'><a href=\\'https://www.x-rates.com/graph/?from=TWD&amp;to=USD\\'>0.033502</a></td> \\t\\t\\t\\t\\n\\t \\t\\t\\t\\t</tr>\\n\\t \\t\\t\\t\\t<tr>\\n\\t\\t\\t\\t\\t\\t<td>Thai Baht</td>\\n\\t\\t\\t\\t\\t\\t<td class=\\'rtRates\\'><a href=\\'https://www.x-rates.com/graph/?from=USD&amp;to=THB\\'>36.623864</a></td>\\n\\t\\t\\t\\t\\t\\t<td class=\\'rtRates\\'><a href=\\'https://www.x-rates.com/graph/?from=THB&amp;to=USD\\'>0.027305</a></td> \\t\\t\\t\\t\\n\\t \\t\\t\\t\\t</tr>\\n\\t \\t\\t\\t\\t<tr>\\n\\t\\t\\t\\t\\t\\t<td>Trinidadian Dollar</td>\\n\\t\\t\\t\\t\\t\\t<td class=\\'rtRates\\'><a href=\\'https://www.x-rates.com/graph/?from=USD&amp;to=TTD\\'>6.784432</a></td>\\n\\t\\t\\t\\t\\t\\t<td class=\\'rtRates\\'><a href=\\'https://www.x-rates.com/graph/?from=TTD&amp;to=USD\\'>0.147396</a></td> \\t\\t\\t\\t\\n\\t \\t\\t\\t\\t</tr>\\n\\t \\t\\t\\t\\t<tr>\\n\\t\\t\\t\\t\\t\\t<td>Turkish Lira</td>\\n\\t\\t\\t\\t\\t\\t<td class=\\'rtRates\\'><a href=\\'https://www.x-rates.com/graph/?from=USD&amp;to=TRY\\'>17.550216</a></td>\\n\\t\\t\\t\\t\\t\\t<td class=\\'rtRates\\'><a href=\\'https://www.x-rates.com/graph/?from=TRY&amp;to=USD\\'>0.056979</a></td> \\t\\t\\t\\t\\n\\t \\t\\t\\t\\t</tr>\\n\\t \\t\\t\\t\\t<tr>\\n\\t\\t\\t\\t\\t\\t<td>Emirati Dirham</td>\\n\\t\\t\\t\\t\\t\\t<td class=\\'rtRates\\'><a href=\\'https://www.x-rates.com/graph/?from=USD&amp;to=AED\\'>3.672500</a></td>\\n\\t\\t\\t\\t\\t\\t<td class=\\'rtRates\\'><a href=\\'https://www.x-rates.com/graph/?from=AED&amp;to=USD\\'>0.272294</a></td> \\t\\t\\t\\t\\n\\t \\t\\t\\t\\t</tr>\\n\\t \\t\\t\\t\\t<tr>\\n\\t\\t\\t\\t\\t\\t<td>British Pound</td>\\n\\t\\t\\t\\t\\t\\t<td class=\\'rtRates\\'><a href=\\'https://www.x-rates.com/graph/?from=USD&amp;to=GBP\\'>0.834024</a></td>\\n\\t\\t\\t\\t\\t\\t<td class=\\'rtRates\\'><a href=\\'https://www.x-rates.com/graph/?from=GBP&amp;to=USD\\'>1.199006</a></td> \\t\\t\\t\\t\\n\\t \\t\\t\\t\\t</tr>\\n\\t \\t\\t\\t\\t<tr>\\n\\t\\t\\t\\t\\t\\t<td>Venezuelan Bolivar</td>\\n\\t\\t\\t\\t\\t\\t<td class=\\'rtRates\\'><a href=\\'https://www.x-rates.com/graph/?from=USD&amp;to=VEF\\'>567289.049496</a></td>\\n\\t\\t\\t\\t\\t\\t<td class=\\'rtRates\\'><a href=\\'https://www.x-rates.com/graph/?from=VEF&amp;to=USD\\'>0.000002</a></td> \\t\\t\\t\\t\\n\\t \\t\\t\\t\\t</tr>\\n\\t</tbody>\\n</table>\\n\\t\\t<script type=\"text/javascript\">\\n\\t\\t\\t$(function() {\\n\\t\\t\\t\\t$(\".tablesorter\").tablesorter({\\n\\t\\t\\t\\t\\tsortList: [[0,0]] \\n\\t\\t\\t    });\\n\\t\\t    }); \\n\\t\\t</script> \\t\\n\\t\\t</div>\\n\\t\\t\\t\\t\\t<div class=\"moduleFooter\">\\n\\t\\t\\t<span id=\"ratesTableTimestamp\">Jul 19, 2022 18:28 UTC</span>\\n\\t\\t</div>\\n\\t\\t</div>\\t\\t\\t\\t<div class=\"col1 pull-left\">\\n\\t\\t\\t\\n\\t\\t\\t\\n\\t\\t\\t\\t\\t<div class=\\'moduleContent bottomMargin\\'>\\n\\t\\t\\t\\n\\t\\t\\t\\t\\t<div class=\"converterFields\">\\n\\t\\t\\t<a name=\\'converter\\'></a>\\n\\t\\t\\t<div class=\"converterSteps\"><span>1.</span> Configure Converter</div>\\n\\t\\t\\t<div class=\"converterAmountWrapper\">\\n\\t\\t\\t\\t<label for=\"amount\" class=\"sr-only\">amount</label>\\n\\t\\t\\t\\t<input type=\"text\" name=\"amount\" id=\"amount\" class=\"converterAmount\" onfocus=\"if(this.value == \\'1\\') this.value=\\'\\';\" onblur=\"if(this.value == \\'\\') this.value=\\'1\\' ;\" value=\"1\" maxlength=\"50\" tabindex=\"1\"/>\\n\\t\\t\\t\\t<a href=\\'https://www.x-rates.com/table/\\' onclick=\"submitConverterArgs(this)\" class=\\'amountFieldArrow\\' rel=\\'ratestable\\'>&nbsp;<span class=\"contentArrow\">&#9658;</span></a>\\n\\t\\t\\t</div>\\n\\t\\t\\t\\t\\t\\t<div>\\n\\t\\t\\t\\t<div id=\"fromInput\">\\n\\t\\t\\t\\t\\t<select class=\"ccDbx\" name=\"from\" id=\"from\" size=\"1\" tabindex=\"2\">\\n\\t\\t\\t\\t\\t\\t<option value=\\'AUD\\'>AUD - Australian Dollar</option>\\n<option value=\\'CAD\\'>CAD - Canadian Dollar</option>\\n<option value=\\'CHF\\'>CHF - Swiss Franc</option>\\n<option value=\\'CNY\\'>CNY - Chinese Yuan Renminbi</option>\\n<option value=\\'DKK\\'>DKK - Danish Krone</option>\\n<option value=\\'EUR\\'>EUR - Euro</option>\\n<option value=\\'GBP\\'>GBP - British Pound</option>\\n<option value=\\'HKD\\'>HKD - Hong Kong Dollar</option>\\n<option value=\\'HUF\\'>HUF - Hungarian Forint</option>\\n<option value=\\'INR\\'>INR - Indian Rupee</option>\\n<option value=\\'JPY\\'>JPY - Japanese Yen</option>\\n<option value=\\'MXN\\'>MXN - Mexican Peso</option>\\n<option value=\\'MYR\\'>MYR - Malaysian Ringgit</option>\\n<option value=\\'NOK\\'>NOK - Norwegian Krone</option>\\n<option value=\\'NZD\\'>NZD - New Zealand Dollar</option>\\n<option value=\\'PHP\\'>PHP - Philippine Peso</option>\\n<option value=\\'RUB\\'>RUB - Russian Ruble</option>\\n<option value=\\'SEK\\'>SEK - Swedish Krona</option>\\n<option value=\\'SGD\\'>SGD - Singapore Dollar</option>\\n<option value=\\'THB\\'>THB - Thai Baht</option>\\n<option value=\\'TRY\\'>TRY - Turkish Lira</option>\\n<option value=\\'USD\\' selected=\"selected\">USD - US Dollar</option>\\n<option value=\\'ZAR\\'>ZAR - South African Rand</option>\\n\\n\\t\\t\\t\\t\\t</select>\\n\\t\\t\\t\\t\\t<script type=\"text/javascript\">\\n\\t\\t\\t\\t\\t\\t$(\"#fromInput\").html(\"<input type=\\'text\\' id=\\'from\\' class=\\'converterCurrencyFrom\\' tabindex=\\'2\\' value=\\'\\'/><input type=\\'hidden\\' name=\\'from\\' id=\\'from_var\\' value=\\'USD\\'/>\");\\n\\t\\t\\t\\t\\t\\toptions.customizeCurrency = null;\\noptions.allowObsolete = true;\\noptions.obsoleteTitle = \"currency.obsolete.title\";\\noptions.expiringTitle = \"currency.expiring.title\";\\noptions.cacheLength = currenciesArray.length;\\noptions.selectLast = true;\\noptions.resultsClass = \\'ac_results\\';\\noptions.filterOutList = null;\\nvar recentListCookie = $.cookie(\\'fromCurrencies\\');\\nvar fromRecentList = recentListCookie != null? recentListCookie.split(\\',\\') : \\'USD,EUR,GBP,INR,AUD,CAD,SGD\\'.split(\\',\\');\\noptions.recentList = fromRecentList;\\noptions.searchHelp = \"Type to search ...\";\\noptions.recentListTitle = \"Recent\";\\noptions.allListTitle = \"All Currencies\";\\noptions.nothingToDisplayTip = \"\";\\noptions.inputTip = \"\";\\noptions.allListTitleDetail = \"\";\\n$(\\'#from\\').autocomplete(allCurrenciesArray, options).result(currencyArgsCheckTrigger);\\nsetUCCInputValue($(\\'#from\\'), \\'USD\\');\\n\\n\\t\\t\\t\\t\\t</script>\\n\\t\\t\\t\\t</div>\\n\\t\\t\\t</div>\\n\\t\\t\\t<a href=\\'#\\' onclick=\"return false\" class=\\'converterInverseButton\\'><span class=\\'inverseArrow exclude\\'>\\xe2\\x86\\x94</span></a>\\n\\t\\t\\t\\t\\t\\t<div>\\n\\t\\t\\t\\t<div id=\"toInput\">\\n\\t\\t\\t\\t\\t<select class=\"ccDbx\" name=\"to\" id=\"to\" size=\"1\" tabindex=\"3\">\\n\\t\\t\\t\\t\\t\\t<option value=\\'AUD\\'>AUD - Australian Dollar</option>\\n<option value=\\'CAD\\'>CAD - Canadian Dollar</option>\\n<option value=\\'CHF\\'>CHF - Swiss Franc</option>\\n<option value=\\'CNY\\'>CNY - Chinese Yuan Renminbi</option>\\n<option value=\\'DKK\\'>DKK - Danish Krone</option>\\n<option value=\\'EUR\\' selected=\"selected\">EUR - Euro</option>\\n<option value=\\'GBP\\'>GBP - British Pound</option>\\n<option value=\\'HKD\\'>HKD - Hong Kong Dollar</option>\\n<option value=\\'HUF\\'>HUF - Hungarian Forint</option>\\n<option value=\\'INR\\'>INR - Indian Rupee</option>\\n<option value=\\'JPY\\'>JPY - Japanese Yen</option>\\n<option value=\\'MXN\\'>MXN - Mexican Peso</option>\\n<option value=\\'MYR\\'>MYR - Malaysian Ringgit</option>\\n<option value=\\'NOK\\'>NOK - Norwegian Krone</option>\\n<option value=\\'NZD\\'>NZD - New Zealand Dollar</option>\\n<option value=\\'PHP\\'>PHP - Philippine Peso</option>\\n<option value=\\'RUB\\'>RUB - Russian Ruble</option>\\n<option value=\\'SEK\\'>SEK - Swedish Krona</option>\\n<option value=\\'SGD\\'>SGD - Singapore Dollar</option>\\n<option value=\\'THB\\'>THB - Thai Baht</option>\\n<option value=\\'TRY\\'>TRY - Turkish Lira</option>\\n<option value=\\'USD\\'>USD - US Dollar</option>\\n<option value=\\'ZAR\\'>ZAR - South African Rand</option>\\n\\n\\t\\t\\t\\t\\t</select>\\n\\t\\t\\t\\t\\t<script type=\"text/javascript\">\\n\\t\\t\\t\\t\\t\\t$(\"#toInput\").html(\"<input type=\\'text\\' id=\\'to\\' class=\\'converterCurrencyTo exclude\\' tabindex=\\'3\\' value=\\'\\'/><input type=\\'hidden\\' name=\\'to\\' id=\\'to_var\\' value=\\'EUR\\'/>\");\\n\\t\\t\\t\\t\\t\\toptions.allowObsolete = true;\\noptions.obsoleteTitle = \"currency.obsolete.title\";\\noptions.expiringTitle = \"currency.expiring.title\";\\noptions.filterOutList = null;\\nvar recentListCookie = $.cookie(\\'toCurrencies\\');\\nvar toRecentList = recentListCookie != null? recentListCookie.split(\\',\\') : \\'USD,EUR,GBP,INR,AUD,CAD,SGD\\'.split(\\',\\');\\noptions.recentList = toRecentList;\\noptions.searchHelp = \"Type to search ...\";\\noptions.recentListTitle = \"Recent\";\\noptions.allListTitle = \"All Currencies\";\\noptions.nothingToDisplayTip = \"\";\\noptions.allListTitleDetail = \"\";\\n$(\\'#to\\').autocomplete(allCurrenciesArray, options).result(onUCCSelect);\\n\\n\\t\\t\\t\\t\\t</script>\\n\\t\\t\\t\\t</div>\\n\\t\\t\\t</div>\\t\\t\\t\\t\\t\\t<script type=\"text/javascript\">\\n\\t\\t\\t\\t\\t\\t\\tsetUCCInputValue($(\\'#to\\'), extractCurrencyCode($(\\'#from\\')) != options.recentList[0] ? options.recentList[0] : options.recentList[1]);\\n\\t\\t\\t\\t\\t\\t</script>\\n\\t\\t</div>\\n\\t\\t\\t\\t<script type=\\'text/javascript\\'>\\n\\t\\t\\t$(function() \\n\\t\\t\\t{\\n\\t\\t\\t\\t$(\\'#amount\\').bind(\\'blur keyup\\', function(e) {\\n\\t\\t\\t\\t    if(e.type === \\'keyup\\' && e.keyCode !== 10 && e.keyCode !== 13) return;\\n\\t\\t\\t\\t    converterArgsCheckTrigger(\\'ratestable\\');\\n\\t\\t\\t\\t});\\n\\t\\t\\t});\\n\\t\\t</script>\\t\\t<div class=\"converterResult bottomMargin\">\\n\\t\\t\\t\\n\\t\\t\\t<ul class=\"converterButtons5Set\">\\n\\t\\t\\t\\t\\t\\t\\t\\t<li class=\"li-currencycalculator\">\\n\\t\\t\\t\\t\\t<span class=\"actionArrow\">&#9658;</span><a href=\\'https://www.x-rates.com/calculator/\\' onclick=\"submitConverterArgs(this)\" rel=\\'currencycalculator\\'><span class=\"converterButtonsSmallTooltip\">Currency Calculator</span><span class=\"activeArrow pull-right\">&#9658;</span></a>\\n\\t\\t\\t\\t</li>\\t\\t\\t\\t<li class=\"li-currencygraph\">\\n\\t\\t\\t\\t\\t<span class=\"actionArrow\">&#9658;</span><a href=\\'https://www.x-rates.com/graph/\\' onclick=\"submitConverterArgs(this)\" rel=\\'currencygraph\\'><span class=\"converterButtonsSmallTooltip\">Graphs</span><span class=\"activeArrow pull-right\">&#9658;</span></a>\\n\\t\\t\\t\\t</li>\\t\\t\\t\\t<li class=\"li-ratestable selected\">\\n\\t\\t\\t\\t\\t<span class=\"actionArrow\">&#9658;</span><a href=\\'https://www.x-rates.com/table/\\' onclick=\"submitConverterArgs(this)\" rel=\\'ratestable\\'><span class=\"converterButtonsSmallTooltip\">Rates Table</span><span class=\"activeArrow pull-right\">&#9658;</span></a>\\n\\t\\t\\t\\t</li>\\t\\t\\t\\t<li class=\"li-monthlyaverage\">\\n\\t\\t\\t\\t\\t<span class=\"actionArrow\">&#9658;</span><a href=\\'https://www.x-rates.com/average/\\' onclick=\"submitConverterWithExtraArgs(this)\" rel=\\'monthlyaverage\\'><span class=\"converterButtonsSmallTooltip\">Monthly Average</span></a>\\t\\t<div id=\"monthlyaverageTip\" class=\"converterLinkTooltip\">\\r\\n\\t\\t\\t<form id=\"monthlyaverageForm\" action=\"https://www.x-rates.com/average/\" onSubmit=\"submitConverterWithExtraArgs(this,\\'monthlyaverage\\');return false;\">\\r\\n\\t\\t\\t\\t          \\t<label for=\"averageYear\" class=\"sr-only\">averageYear</label>\\n\\t\\t<select id=\"averageYear\" name=\"year\" class=\"monthlyaveragedropdown\" onChange=\"submitConverterWithExtraArgs(this,\\'monthlyaverage\\',\\'https://www.x-rates.com/average/\\')\">\\r\\n\\t\\t\\t<option value=\\'2022\\' selected=\"selected\">2022</option>\\n<option value=\\'2021\\'>2021</option>\\n<option value=\\'2020\\'>2020</option>\\n<option value=\\'2019\\'>2019</option>\\n<option value=\\'2018\\'>2018</option>\\n<option value=\\'2017\\'>2017</option>\\n<option value=\\'2016\\'>2016</option>\\n<option value=\\'2015\\'>2015</option>\\n<option value=\\'2014\\'>2014</option>\\n<option value=\\'2013\\'>2013</option>\\n<option value=\\'2012\\'>2012</option>\\n\\r\\n\\t\\t</select>\\r\\n\\t\\t<input type=\"submit\" value=\"Go!\" class=\"goButton\">\\r\\n\\t\\t\\t</form>\\r\\n\\t\\t</div>\\n\\t\\t\\t\\t</li>\\t\\t\\t\\t<li class=\"li-historicallookup\">\\n\\t\\t\\t\\t\\t<span class=\"actionArrow\">&#9658;</span><a href=\\'https://www.x-rates.com/historical/\\' onclick=\"submitConverterWithExtraArgs(this)\" rel=\\'historicallookup\\'><span class=\"converterButtonsSmallTooltip\">Historic Lookup</span></a>\\t\\t<div id=\"historicallookupTip\" class=\"converterLinkTooltip\">\\r\\n\\t\\t\\t<form id=\"historicallookupForm\" action=\"https://www.x-rates.com/historical/\" onSubmit=\"submitConverterWithExtraArgs(this,\\'historicallookup\\');return false;\">\\r\\n\\t\\t\\t\\t\\t\\t<label for=\"historialDate\" class=\"sr-only\">historical date</label>\\n\\t\\t<input type=\"text\" value=\"2022-07-19\" name=\"date\" id=\"historicalDate\">\\n\\t\\t<input type=\"submit\" value=\"Go!\" class=\"goButton\">\\r\\n\\t\\t\\t</form>\\r\\n\\t\\t</div>\\n\\t\\t\\t\\t</li>\\n\\t\\t\\t</ul>\\n\\t\\t</div>\\n\\t\\t\\n\\n\\t\\t</div>\\n\\t\\t\\t\\n\\t\\t</div>\\t\\t\\t\\t<div class=\"col1 xeLeftAd\">\\n\\t\\t\\t\\n\\t\\t\\t\\n\\t\\t\\t\\t\\t<div class=\\'moduleContent bottomMargin\\'>\\n\\t\\t\\t\\n\\t\\t\\t<div id=\\'ros_ls\\'>\\t\\t<script type=\"text/javascript\">\\n\\t\\t\\t\\n\\t\\t\\tenqueueAd(\\'ros_ls\\');\\n\\t\\t</script>\\n\\t\\t<noscript>\\n\\t\\t\\t<div align=\"center\"></div>\\n\\t\\t</noscript></div>\\n\\t\\t</div>\\n\\t\\t\\t\\n\\t\\t</div>\\t\\t\\t\\t<div class=\"col2 pull-right\">\\n\\t\\t\\t\\n\\t\\t\\t\\n\\t\\t\\t\\t<div class=\"dwnldIconBx\">\\n\\t\\t<span class=\"dwnldIcon\">&#9660;</span>\\n\\t\\t\\tFor commercial-grade data, get the <a href=\\'http://www.xe.com/xecurrencydata/\\' target=\"_blank\">XE Currency Data API</a>.\\n\\t\\t\\n\\t</div>\\t\\n\\t\\t\\t\\n\\t\\t</div>\\t\\t\\t\\t<div class=\"col2 pull-right xeMiddleAd\">\\n\\t\\t\\t\\n\\t\\t\\t\\n\\t\\t\\t<div id=\\'ros_ms\\'>\\t\\t<script type=\"text/javascript\">\\n\\t\\t\\t\\n\\t\\t\\tenqueueAd(\\'ros_ms\\');\\n\\t\\t</script>\\n\\t\\t<noscript>\\n\\t\\t\\t<div align=\"center\"></div>\\n\\t\\t</noscript></div>\\n\\t\\t\\t\\n\\t\\t</div>\\t\\t\\n\\t\\t\\t</div>\\n\\t\\t</div>\\t\\t <div class=\"grid\">\\n\\t                <div class=\"grid__cell\" >\\t\\t\\t\\n\\t\\t\\t\\t\\t\\t<div class=\"module bottomMargin\">\\n\\t\\t\\t\\t\\t<h2>\\t\\t<span class=\\'ratestableH2\\'>Change Currency Table base currency</span></h2>\\n\\t\\t\\t\\n\\t\\t\\t\\t\\t<div class=\\'moduleContent\\'>\\n\\t\\t\\t\\n\\t\\t\\t<ul class=\\'currencyList ratestable\\'><li><a href=\\'https://www.x-rates.com/table/?from=ARS\\' onclick=\"submitConverterArgs(this)\" rel=\\'ratestable\\'>Argentine Peso</a></li>\\n<li><a href=\\'https://www.x-rates.com/table/?from=AUD\\' onclick=\"submitConverterArgs(this)\" rel=\\'ratestable\\'>Australian Dollar</a></li>\\n<li><a href=\\'https://www.x-rates.com/table/?from=BHD\\' onclick=\"submitConverterArgs(this)\" rel=\\'ratestable\\'>Bahraini Dinar</a></li>\\n<li><a href=\\'https://www.x-rates.com/table/?from=BWP\\' onclick=\"submitConverterArgs(this)\" rel=\\'ratestable\\'>Botswana Pula</a></li>\\n<li><a href=\\'https://www.x-rates.com/table/?from=BRL\\' onclick=\"submitConverterArgs(this)\" rel=\\'ratestable\\'>Brazilian Real</a></li>\\n<li><a href=\\'https://www.x-rates.com/table/?from=BND\\' onclick=\"submitConverterArgs(this)\" rel=\\'ratestable\\'>Bruneian Dollar</a></li>\\n<li><a href=\\'https://www.x-rates.com/table/?from=BGN\\' onclick=\"submitConverterArgs(this)\" rel=\\'ratestable\\'>Bulgarian Lev</a></li>\\n<li><a href=\\'https://www.x-rates.com/table/?from=CAD\\' onclick=\"submitConverterArgs(this)\" rel=\\'ratestable\\'>Canadian Dollar</a></li>\\n<li><a href=\\'https://www.x-rates.com/table/?from=CLP\\' onclick=\"submitConverterArgs(this)\" rel=\\'ratestable\\'>Chilean Peso</a></li>\\n<li><a href=\\'https://www.x-rates.com/table/?from=CNY\\' onclick=\"submitConverterArgs(this)\" rel=\\'ratestable\\'>Chinese Yuan Renminbi</a></li>\\n<li><a href=\\'https://www.x-rates.com/table/?from=COP\\' onclick=\"submitConverterArgs(this)\" rel=\\'ratestable\\'>Colombian Peso</a></li>\\n<li><a href=\\'https://www.x-rates.com/table/?from=HRK\\' onclick=\"submitConverterArgs(this)\" rel=\\'ratestable\\'>Croatian Kuna</a></li>\\n<li><a href=\\'https://www.x-rates.com/table/?from=CZK\\' onclick=\"submitConverterArgs(this)\" rel=\\'ratestable\\'>Czech Koruna</a></li>\\n<li><a href=\\'https://www.x-rates.com/table/?from=DKK\\' onclick=\"submitConverterArgs(this)\" rel=\\'ratestable\\'>Danish Krone</a></li>\\n<li><a href=\\'https://www.x-rates.com/table/?from=EUR\\' onclick=\"submitConverterArgs(this)\" rel=\\'ratestable\\'>Euro</a></li>\\n<li><a href=\\'https://www.x-rates.com/table/?from=HKD\\' onclick=\"submitConverterArgs(this)\" rel=\\'ratestable\\'>Hong Kong Dollar</a></li>\\n<li><a href=\\'https://www.x-rates.com/table/?from=HUF\\' onclick=\"submitConverterArgs(this)\" rel=\\'ratestable\\'>Hungarian Forint</a></li>\\n<li><a href=\\'https://www.x-rates.com/table/?from=ISK\\' onclick=\"submitConverterArgs(this)\" rel=\\'ratestable\\'>Icelandic Krona</a></li>\\n<li><a href=\\'https://www.x-rates.com/table/?from=INR\\' onclick=\"submitConverterArgs(this)\" rel=\\'ratestable\\'>Indian Rupee</a></li>\\n<li><a href=\\'https://www.x-rates.com/table/?from=IDR\\' onclick=\"submitConverterArgs(this)\" rel=\\'ratestable\\'>Indonesian Rupiah</a></li>\\n<li><a href=\\'https://www.x-rates.com/table/?from=IRR\\' onclick=\"submitConverterArgs(this)\" rel=\\'ratestable\\'>Iranian Rial</a></li>\\n<li><a href=\\'https://www.x-rates.com/table/?from=ILS\\' onclick=\"submitConverterArgs(this)\" rel=\\'ratestable\\'>Israeli Shekel</a></li>\\n<li><a href=\\'https://www.x-rates.com/table/?from=JPY\\' onclick=\"submitConverterArgs(this)\" rel=\\'ratestable\\'>Japanese Yen</a></li>\\n<li><a href=\\'https://www.x-rates.com/table/?from=KZT\\' onclick=\"submitConverterArgs(this)\" rel=\\'ratestable\\'>Kazakhstani Tenge</a></li>\\n<li><a href=\\'https://www.x-rates.com/table/?from=KRW\\' onclick=\"submitConverterArgs(this)\" rel=\\'ratestable\\'>South Korean Won</a></li>\\n<li><a href=\\'https://www.x-rates.com/table/?from=KWD\\' onclick=\"submitConverterArgs(this)\" rel=\\'ratestable\\'>Kuwaiti Dinar</a></li>\\n<li><a href=\\'https://www.x-rates.com/table/?from=LYD\\' onclick=\"submitConverterArgs(this)\" rel=\\'ratestable\\'>Libyan Dinar</a></li>\\n<li><a href=\\'https://www.x-rates.com/table/?from=MYR\\' onclick=\"submitConverterArgs(this)\" rel=\\'ratestable\\'>Malaysian Ringgit</a></li>\\n<li><a href=\\'https://www.x-rates.com/table/?from=MUR\\' onclick=\"submitConverterArgs(this)\" rel=\\'ratestable\\'>Mauritian Rupee</a></li>\\n<li><a href=\\'https://www.x-rates.com/table/?from=MXN\\' onclick=\"submitConverterArgs(this)\" rel=\\'ratestable\\'>Mexican Peso</a></li>\\n<li><a href=\\'https://www.x-rates.com/table/?from=NPR\\' onclick=\"submitConverterArgs(this)\" rel=\\'ratestable\\'>Nepalese Rupee</a></li>\\n<li><a href=\\'https://www.x-rates.com/table/?from=NZD\\' onclick=\"submitConverterArgs(this)\" rel=\\'ratestable\\'>New Zealand Dollar</a></li>\\n<li><a href=\\'https://www.x-rates.com/table/?from=NOK\\' onclick=\"submitConverterArgs(this)\" rel=\\'ratestable\\'>Norwegian Krone</a></li>\\n<li><a href=\\'https://www.x-rates.com/table/?from=OMR\\' onclick=\"submitConverterArgs(this)\" rel=\\'ratestable\\'>Omani Rial</a></li>\\n<li><a href=\\'https://www.x-rates.com/table/?from=PKR\\' onclick=\"submitConverterArgs(this)\" rel=\\'ratestable\\'>Pakistani Rupee</a></li>\\n<li><a href=\\'https://www.x-rates.com/table/?from=PHP\\' onclick=\"submitConverterArgs(this)\" rel=\\'ratestable\\'>Philippine Peso</a></li>\\n<li><a href=\\'https://www.x-rates.com/table/?from=PLN\\' onclick=\"submitConverterArgs(this)\" rel=\\'ratestable\\'>Polish Zloty</a></li>\\n<li><a href=\\'https://www.x-rates.com/table/?from=QAR\\' onclick=\"submitConverterArgs(this)\" rel=\\'ratestable\\'>Qatari Riyal</a></li>\\n<li><a href=\\'https://www.x-rates.com/table/?from=RON\\' onclick=\"submitConverterArgs(this)\" rel=\\'ratestable\\'>Romanian New Leu</a></li>\\n<li><a href=\\'https://www.x-rates.com/table/?from=RUB\\' onclick=\"submitConverterArgs(this)\" rel=\\'ratestable\\'>Russian Ruble</a></li>\\n<li><a href=\\'https://www.x-rates.com/table/?from=SAR\\' onclick=\"submitConverterArgs(this)\" rel=\\'ratestable\\'>Saudi Arabian Riyal</a></li>\\n<li><a href=\\'https://www.x-rates.com/table/?from=SGD\\' onclick=\"submitConverterArgs(this)\" rel=\\'ratestable\\'>Singapore Dollar</a></li>\\n<li><a href=\\'https://www.x-rates.com/table/?from=ZAR\\' onclick=\"submitConverterArgs(this)\" rel=\\'ratestable\\'>South African Rand</a></li>\\n<li><a href=\\'https://www.x-rates.com/table/?from=LKR\\' onclick=\"submitConverterArgs(this)\" rel=\\'ratestable\\'>Sri Lankan Rupee</a></li>\\n<li><a href=\\'https://www.x-rates.com/table/?from=SEK\\' onclick=\"submitConverterArgs(this)\" rel=\\'ratestable\\'>Swedish Krona</a></li>\\n<li><a href=\\'https://www.x-rates.com/table/?from=CHF\\' onclick=\"submitConverterArgs(this)\" rel=\\'ratestable\\'>Swiss Franc</a></li>\\n<li><a href=\\'https://www.x-rates.com/table/?from=TWD\\' onclick=\"submitConverterArgs(this)\" rel=\\'ratestable\\'>Taiwan New Dollar</a></li>\\n<li><a href=\\'https://www.x-rates.com/table/?from=THB\\' onclick=\"submitConverterArgs(this)\" rel=\\'ratestable\\'>Thai Baht</a></li>\\n<li><a href=\\'https://www.x-rates.com/table/?from=TTD\\' onclick=\"submitConverterArgs(this)\" rel=\\'ratestable\\'>Trinidadian Dollar</a></li>\\n<li><a href=\\'https://www.x-rates.com/table/?from=TRY\\' onclick=\"submitConverterArgs(this)\" rel=\\'ratestable\\'>Turkish Lira</a></li>\\n<li><a href=\\'https://www.x-rates.com/table/?from=AED\\' onclick=\"submitConverterArgs(this)\" rel=\\'ratestable\\'>Emirati Dirham</a></li>\\n<li><a href=\\'https://www.x-rates.com/table/?from=GBP\\' onclick=\"submitConverterArgs(this)\" rel=\\'ratestable\\'>British Pound</a></li>\\n<li><a href=\\'https://www.x-rates.com/table/?from=USD\\' onclick=\"submitConverterArgs(this)\" class=\\'selected\\' rel=\\'ratestable\\'>US Dollar</a></li>\\n<li><a href=\\'https://www.x-rates.com/table/?from=VEF\\' onclick=\"submitConverterArgs(this)\" rel=\\'ratestable\\'>Venezuelan Bolivar</a></li>\\n</ul>\\n\\t\\t</div>\\n\\t\\t\\t\\n\\t\\t</div>\\t\\t\\n\\t\\t\\t</div>\\n\\t\\t</div>                </div>\\n\\n                <div class=\"grid__cell sidebar\">\\n                    \\t\\t <div class=\"grid\">\\n\\t                <div class=\"grid__cell\" >\\t\\t\\t\\n\\t\\t\\t\\t\\t\\t<div class=\"module bottomMargin\">\\n\\t\\t\\t\\n\\t\\t\\t\\n\\t\\t\\t\\t\\t<div class=\\'moduleContent\\'>\\n\\t\\t\\t\\n\\t\\t\\t\\t\\t<h4 class=\"ratesChangetableHdr\">Percent Change in the Last 24 Hours</h4>\\n\\t\\t<ul id=\\'ratesTrends\\' class=\\'currencyPairUL\\'>\\n\\t\\t\\t<li>EUR/USD<span class=\\'up\\'>+0.78592%</span></li><li class=\"left-border\">USD/JPY<span class=\\'up\\'>+0.09195%</span></li><li class=\"clear-left\">GBP/USD<span class=\\'up\\'>+0.29284%</span></li><li class=\"left-border\">USD/CHF<span class=\\'down\\'>-0.85318%</span></li><li class=\"clear-left\">USD/CAD<span class=\\'down\\'>-0.54616%</span></li><li class=\"left-border\">EUR/JPY<span class=\\'up\\'>+0.87858%</span></li><li class=\"clear-left\">AUD/USD<span class=\\'up\\'>+1.17290%</span></li><li class=\"left-border\">CNY/USD<span class=\\'down\\'>-0.02372%</span></li>\\n\\t\\t</ul>\\n\\t\\t<script type=\"text/javascript\">\\n\\t\\t\\tif(typeof(registerAfterRefreshFunction) == \"function\")\\n\\t\\t\\t{\\n\\t\\t\\t\\tregisterRefreshFunctions(\\n\\t\\t\\t\\t\\tfunction(responseText){updateContents([\\'#ratesTrends\\', \\'#ratesTrendsTimestamp\\'], responseText); $(\\'#ratesTrends\\').fadeTo(300,1);}, \\n\\t\\t\\t\\t\\tfunction(){refreshFadeOut(\\'#ratesTrends\\');});\\n\\t\\t\\t}\\n\\t\\t</script>\\t\\t\\n\\t\\t</div>\\n\\t\\t\\t\\t\\t<div class=\"moduleFooter\">\\n\\t\\t\\t<span id=\"ratesTrendsTimestamp\">Jul 19, 2022 18:28 UTC</span>\\n\\t\\t</div>\\n\\t\\t</div>\\t\\t\\n\\t\\t\\t</div>\\n\\t\\t</div>\\t\\t <div class=\"grid\">\\n\\t                <div class=\"grid__cell\" >\\t\\t\\t\\n\\t\\t\\t\\t\\t\\t<div class=\"module bottomMargin\">\\n\\t\\t\\t\\n\\t\\t\\t\\n\\t\\t\\t\\t\\t<div class=\\'moduleContent\\'>\\n\\t\\t\\t\\n\\t\\t\\t\\t\\t<div id=\"output_rs\" class=\\'rightsideAd\\'>\\n\\t\\t\\t\\t\\t<script type=\"text/javascript\">\\n\\t\\t\\t\\t\\t\\te9AdSlots[\\'output_rs\\'][\\'mobileAd\\'] = \"<a href=\\'http://www.xe.com/xecurrencydata/?WT.mc_id=XDF-300x250-RROS-ADL-XX-V01-130901\\'><img alt=\\'Ad\\' src=\\'/themes/x-rates/images/ads/300x250_dfs.png\\' border=\\'0\\'/></a>\";\\n\\t\\t\\te9AdSlots[\\'output_rs\\'][\\'desktopAd\\'] = \"<a href=\\'http://www.xe.com/xecurrencydata/?WT.mc_id=XDF-300x250-RROS-ADL-XX-V01-130901\\'><img alt=\\'Ad\\' src=\\'/themes/x-rates/images/ads/300x250_dfs.png\\' border=\\'0\\'/></a>\";\\n\\t\\t\\te9AdSlots[\\'output_rs\\'][\\'mobileThreshold\\'] = 850;\\t\\t\\t\\n\\t\\t\\tenqueueAd(\\'output_rs\\');\\n\\t\\t</script>\\n\\t\\t<noscript>\\n\\t\\t\\t<div align=\"center\"><a href=\\'http://www.xe.com/xecurrencydata/?WT.mc_id=XDF-300x250-RROS-ADL-XX-V01-130901\\'><img alt=\\'Ad\\' src=\\'/themes/x-rates/images/ads/300x250_dfs.png\\' border=\\'0\\'/></a></div>\\n\\t\\t</noscript>\\n\\t\\t</div>\\n\\t\\t</div>\\n\\t\\t\\t\\t\\t<div class=\"moduleFooter\">\\n\\t\\t\\tAD\\n\\t\\t</div>\\n\\t\\t</div>\\t\\t\\n\\t\\t\\t</div>\\n\\t\\t</div>\\t\\t <div class=\"grid\">\\n\\t                <div class=\"grid__cell\" >\\t\\t\\t\\n\\t\\t\\t\\t\\t\\t<div class=\"module bottomMargin\">\\n\\t\\t\\t\\t\\t<h2>Useful Links</h2>\\n\\t\\t\\t\\n\\t\\t\\t\\t\\t<div class=\\'moduleContent\\'>\\n\\t\\t\\t\\n\\t\\t\\t<ul class=\\'module\\'><li><a href=\\'https://www.x-rates.com/euro/\\' rel=\\'euroInfo\\'>Euro Information</a></li>\\n<li><a href=\\'https://www.x-rates.com/faq/\\' rel=\\'faq\\'>FAQ</a></li>\\n<li><a href=\\'https://www.x-rates.com/feedback/\\' rel=\\'feedback\\'>Feedback</a></li>\\n</ul>\\n\\t\\t</div>\\n\\t\\t\\t\\n\\t\\t</div>\\t\\t\\n\\t\\t\\t</div>\\n\\t\\t</div>                </div>\\n\\n            </div>\\n        </div>\\n\\n        <footer>\\n            \\t\\t<div class=\"navbar clearfix\">\\n\\t\\t\\t<div class=\"navbar-inner\">\\n\\t\\t\\t\\t<div class=\"wrapper clearfix\">\\t\\t\\t\\n\\t\\t\\t\\t\\t<nav class=\"nav-collapse\">\\n\\t\\t\\t\\t\\t\\t<ul class=\\'nav\\'><li><a href=\\'https://www.x-rates.com/terms/\\' rel=\\'termsofservice\\'>Terms of Service</a></li>\\n<li><a href=\\'https://www.x-rates.com/privacy/\\' rel=\\'privacy\\'>Privacy</a></li>\\n<li><a href=\\'https://www.x-rates.com/cookiepolicy/\\' rel=\\'cookie_policy\\'>Cookie Policy</a></li>\\n<li><a href=\\'https://www.x-rates.com/advertise/\\' rel=\\'advertise\\'>Advertise on X-Rates</a></li>\\n<li><a href=\\'https://www.x-rates.com/feedback/\\' rel=\\'feedback\\'>Feedback</a></li>\\n<li><a href=\\'https://www.x-rates.com/faq/\\' rel=\\'faq\\'>FAQ</a></li>\\n</ul>\\n\\t\\t\\t\\t\\t</nav>\\n\\t\\t\\t\\t\\t<div id=\"footerTri\"></div>\\n\\t\\t\\t\\t\\t<div class=\"footer-decor\"></div>\\n\\t\\t\\t\\t</div>\\n\\t\\t\\t</div>\\n\\t\\t</div>\\n\\t\\t<div class=\"copyright\">\\n\\t\\t\\t&copy; X-Rates 2022\\n\\t\\t</div>        </footer>\\n\\n                    <script type=\"text/javascript\">\\n            var utag_data = {\\n              isGeoEurope : \"\" // geo ip from xe platform\\n            }\\n            </script>\\n            \\n            <!-- Loading script asynchronously -->\\n            <script type=\"text/javascript\">\\n                (function(a,b,c,d){\\n                a=\\'//tags.tiqcdn.com/utag/xe/xrates/prod/utag.js\\';\\n                b=document;c=\\'script\\';d=b.createElement(c);d.src=a;d.type=\\'text/java\\'+c;d.async=true;\\n                a=b.getElementsByTagName(c)[0];a.parentNode.insertBefore(d,a);\\n                })();\\n            </script>\\n    </body>\\n\\n</html>\\n'\n"
     ]
    }
   ],
   "source": [
    "# Requests library is one of the integral part of Python for making HTTP requests to a specified URL\n",
    "page  = requests.get(\"https://www.x-rates.com/table/?from=USD&amount=1\")\n",
    "print(page.content)"
   ]
  },
  {
   "cell_type": "code",
   "execution_count": 29,
   "id": "organic-usage",
   "metadata": {},
   "outputs": [
    {
     "name": "stdout",
     "output_type": "stream",
     "text": [
      "200\n"
     ]
    }
   ],
   "source": [
    "print(page.status_code)\n",
    "# A status_code of 200 means that the page downloaded successfully."
   ]
  },
  {
   "cell_type": "code",
   "execution_count": 30,
   "id": "optional-delicious",
   "metadata": {},
   "outputs": [],
   "source": [
    "soup = BeautifulSoup(page.content, 'html.parser')"
   ]
  },
  {
   "cell_type": "code",
   "execution_count": 31,
   "id": "sharing-minute",
   "metadata": {},
   "outputs": [],
   "source": [
    "#print(soup.prettify())"
   ]
  },
  {
   "cell_type": "code",
   "execution_count": 32,
   "id": "romantic-argument",
   "metadata": {},
   "outputs": [
    {
     "name": "stdout",
     "output_type": "stream",
     "text": [
      "<td class=\"rtRates\"><a href=\"https://www.x-rates.com/graph/?from=USD&amp;to=EUR\">0.977311</a></td>\n",
      "<td class=\"rtRates\"><a href=\"https://www.x-rates.com/graph/?from=EUR&amp;to=USD\">1.023216</a></td>\n",
      "<td class=\"rtRates\"><a href=\"https://www.x-rates.com/graph/?from=USD&amp;to=GBP\">0.834024</a></td>\n",
      "<td class=\"rtRates\"><a href=\"https://www.x-rates.com/graph/?from=GBP&amp;to=USD\">1.199006</a></td>\n",
      "<td class=\"rtRates\"><a href=\"https://www.x-rates.com/graph/?from=USD&amp;to=INR\">79.875374</a></td>\n",
      "<td class=\"rtRates\"><a href=\"https://www.x-rates.com/graph/?from=INR&amp;to=USD\">0.012520</a></td>\n",
      "<td class=\"rtRates\"><a href=\"https://www.x-rates.com/graph/?from=USD&amp;to=AUD\">1.449801</a></td>\n",
      "<td class=\"rtRates\"><a href=\"https://www.x-rates.com/graph/?from=AUD&amp;to=USD\">0.689750</a></td>\n",
      "<td class=\"rtRates\"><a href=\"https://www.x-rates.com/graph/?from=USD&amp;to=CAD\">1.289322</a></td>\n",
      "<td class=\"rtRates\"><a href=\"https://www.x-rates.com/graph/?from=CAD&amp;to=USD\">0.775601</a></td>\n",
      "<td class=\"rtRates\"><a href=\"https://www.x-rates.com/graph/?from=USD&amp;to=SGD\">1.391884</a></td>\n",
      "<td class=\"rtRates\"><a href=\"https://www.x-rates.com/graph/?from=SGD&amp;to=USD\">0.718450</a></td>\n",
      "<td class=\"rtRates\"><a href=\"https://www.x-rates.com/graph/?from=USD&amp;to=CHF\">0.968996</a></td>\n",
      "<td class=\"rtRates\"><a href=\"https://www.x-rates.com/graph/?from=CHF&amp;to=USD\">1.031996</a></td>\n",
      "<td class=\"rtRates\"><a href=\"https://www.x-rates.com/graph/?from=USD&amp;to=MYR\">4.450184</a></td>\n",
      "<td class=\"rtRates\"><a href=\"https://www.x-rates.com/graph/?from=MYR&amp;to=USD\">0.224710</a></td>\n",
      "<td class=\"rtRates\"><a href=\"https://www.x-rates.com/graph/?from=USD&amp;to=JPY\">138.211403</a></td>\n",
      "<td class=\"rtRates\"><a href=\"https://www.x-rates.com/graph/?from=JPY&amp;to=USD\">0.007235</a></td>\n",
      "<td class=\"rtRates\"><a href=\"https://www.x-rates.com/graph/?from=USD&amp;to=CNY\">6.744590</a></td>\n",
      "<td class=\"rtRates\"><a href=\"https://www.x-rates.com/graph/?from=CNY&amp;to=USD\">0.148267</a></td>\n",
      "<td class=\"rtRates\"><a href=\"https://www.x-rates.com/graph/?from=USD&amp;to=ARS\">129.145464</a></td>\n",
      "<td class=\"rtRates\"><a href=\"https://www.x-rates.com/graph/?from=ARS&amp;to=USD\">0.007743</a></td>\n",
      "<td class=\"rtRates\"><a href=\"https://www.x-rates.com/graph/?from=USD&amp;to=AUD\">1.449801</a></td>\n",
      "<td class=\"rtRates\"><a href=\"https://www.x-rates.com/graph/?from=AUD&amp;to=USD\">0.689750</a></td>\n",
      "<td class=\"rtRates\"><a href=\"https://www.x-rates.com/graph/?from=USD&amp;to=BHD\">0.376000</a></td>\n",
      "<td class=\"rtRates\"><a href=\"https://www.x-rates.com/graph/?from=BHD&amp;to=USD\">2.659574</a></td>\n",
      "<td class=\"rtRates\"><a href=\"https://www.x-rates.com/graph/?from=USD&amp;to=BWP\">12.744567</a></td>\n",
      "<td class=\"rtRates\"><a href=\"https://www.x-rates.com/graph/?from=BWP&amp;to=USD\">0.078465</a></td>\n",
      "<td class=\"rtRates\"><a href=\"https://www.x-rates.com/graph/?from=USD&amp;to=BRL\">5.387638</a></td>\n",
      "<td class=\"rtRates\"><a href=\"https://www.x-rates.com/graph/?from=BRL&amp;to=USD\">0.185610</a></td>\n",
      "<td class=\"rtRates\"><a href=\"https://www.x-rates.com/graph/?from=USD&amp;to=BND\">1.391884</a></td>\n",
      "<td class=\"rtRates\"><a href=\"https://www.x-rates.com/graph/?from=BND&amp;to=USD\">0.718450</a></td>\n",
      "<td class=\"rtRates\"><a href=\"https://www.x-rates.com/graph/?from=USD&amp;to=BGN\">1.911454</a></td>\n",
      "<td class=\"rtRates\"><a href=\"https://www.x-rates.com/graph/?from=BGN&amp;to=USD\">0.523162</a></td>\n",
      "<td class=\"rtRates\"><a href=\"https://www.x-rates.com/graph/?from=USD&amp;to=CAD\">1.289322</a></td>\n",
      "<td class=\"rtRates\"><a href=\"https://www.x-rates.com/graph/?from=CAD&amp;to=USD\">0.775601</a></td>\n",
      "<td class=\"rtRates\"><a href=\"https://www.x-rates.com/graph/?from=USD&amp;to=CLP\">925.835176</a></td>\n",
      "<td class=\"rtRates\"><a href=\"https://www.x-rates.com/graph/?from=CLP&amp;to=USD\">0.001080</a></td>\n",
      "<td class=\"rtRates\"><a href=\"https://www.x-rates.com/graph/?from=USD&amp;to=CNY\">6.744590</a></td>\n",
      "<td class=\"rtRates\"><a href=\"https://www.x-rates.com/graph/?from=CNY&amp;to=USD\">0.148267</a></td>\n",
      "<td class=\"rtRates\"><a href=\"https://www.x-rates.com/graph/?from=USD&amp;to=COP\">4316.107651</a></td>\n",
      "<td class=\"rtRates\"><a href=\"https://www.x-rates.com/graph/?from=COP&amp;to=USD\">0.000232</a></td>\n",
      "<td class=\"rtRates\"><a href=\"https://www.x-rates.com/graph/?from=USD&amp;to=HRK\">7.339493</a></td>\n",
      "<td class=\"rtRates\"><a href=\"https://www.x-rates.com/graph/?from=HRK&amp;to=USD\">0.136249</a></td>\n",
      "<td class=\"rtRates\"><a href=\"https://www.x-rates.com/graph/?from=USD&amp;to=CZK\">23.948223</a></td>\n",
      "<td class=\"rtRates\"><a href=\"https://www.x-rates.com/graph/?from=CZK&amp;to=USD\">0.041757</a></td>\n",
      "<td class=\"rtRates\"><a href=\"https://www.x-rates.com/graph/?from=USD&amp;to=DKK\">7.275762</a></td>\n",
      "<td class=\"rtRates\"><a href=\"https://www.x-rates.com/graph/?from=DKK&amp;to=USD\">0.137443</a></td>\n",
      "<td class=\"rtRates\"><a href=\"https://www.x-rates.com/graph/?from=USD&amp;to=EUR\">0.977311</a></td>\n",
      "<td class=\"rtRates\"><a href=\"https://www.x-rates.com/graph/?from=EUR&amp;to=USD\">1.023216</a></td>\n",
      "<td class=\"rtRates\"><a href=\"https://www.x-rates.com/graph/?from=USD&amp;to=HKD\">7.850041</a></td>\n",
      "<td class=\"rtRates\"><a href=\"https://www.x-rates.com/graph/?from=HKD&amp;to=USD\">0.127388</a></td>\n",
      "<td class=\"rtRates\"><a href=\"https://www.x-rates.com/graph/?from=USD&amp;to=HUF\">388.646825</a></td>\n",
      "<td class=\"rtRates\"><a href=\"https://www.x-rates.com/graph/?from=HUF&amp;to=USD\">0.002573</a></td>\n",
      "<td class=\"rtRates\"><a href=\"https://www.x-rates.com/graph/?from=USD&amp;to=ISK\">135.866953</a></td>\n",
      "<td class=\"rtRates\"><a href=\"https://www.x-rates.com/graph/?from=ISK&amp;to=USD\">0.007360</a></td>\n",
      "<td class=\"rtRates\"><a href=\"https://www.x-rates.com/graph/?from=USD&amp;to=INR\">79.875374</a></td>\n",
      "<td class=\"rtRates\"><a href=\"https://www.x-rates.com/graph/?from=INR&amp;to=USD\">0.012520</a></td>\n",
      "<td class=\"rtRates\"><a href=\"https://www.x-rates.com/graph/?from=USD&amp;to=IDR\">14964.217005</a></td>\n",
      "<td class=\"rtRates\"><a href=\"https://www.x-rates.com/graph/?from=IDR&amp;to=USD\">0.000067</a></td>\n",
      "<td class=\"rtRates\"><a href=\"https://www.x-rates.com/graph/?from=USD&amp;to=IRR\">42202.338064</a></td>\n",
      "<td class=\"rtRates\"><a href=\"https://www.x-rates.com/graph/?from=IRR&amp;to=USD\">0.000024</a></td>\n",
      "<td class=\"rtRates\"><a href=\"https://www.x-rates.com/graph/?from=USD&amp;to=ILS\">3.439843</a></td>\n",
      "<td class=\"rtRates\"><a href=\"https://www.x-rates.com/graph/?from=ILS&amp;to=USD\">0.290711</a></td>\n",
      "<td class=\"rtRates\"><a href=\"https://www.x-rates.com/graph/?from=USD&amp;to=JPY\">138.211403</a></td>\n",
      "<td class=\"rtRates\"><a href=\"https://www.x-rates.com/graph/?from=JPY&amp;to=USD\">0.007235</a></td>\n",
      "<td class=\"rtRates\"><a href=\"https://www.x-rates.com/graph/?from=USD&amp;to=KZT\">479.988557</a></td>\n",
      "<td class=\"rtRates\"><a href=\"https://www.x-rates.com/graph/?from=KZT&amp;to=USD\">0.002083</a></td>\n",
      "<td class=\"rtRates\"><a href=\"https://www.x-rates.com/graph/?from=USD&amp;to=KRW\">1305.706119</a></td>\n",
      "<td class=\"rtRates\"><a href=\"https://www.x-rates.com/graph/?from=KRW&amp;to=USD\">0.000766</a></td>\n",
      "<td class=\"rtRates\"><a href=\"https://www.x-rates.com/graph/?from=USD&amp;to=KWD\">0.307702</a></td>\n",
      "<td class=\"rtRates\"><a href=\"https://www.x-rates.com/graph/?from=KWD&amp;to=USD\">3.249898</a></td>\n",
      "<td class=\"rtRates\"><a href=\"https://www.x-rates.com/graph/?from=USD&amp;to=LYD\">4.879588</a></td>\n",
      "<td class=\"rtRates\"><a href=\"https://www.x-rates.com/graph/?from=LYD&amp;to=USD\">0.204935</a></td>\n",
      "<td class=\"rtRates\"><a href=\"https://www.x-rates.com/graph/?from=USD&amp;to=MYR\">4.450184</a></td>\n",
      "<td class=\"rtRates\"><a href=\"https://www.x-rates.com/graph/?from=MYR&amp;to=USD\">0.224710</a></td>\n",
      "<td class=\"rtRates\"><a href=\"https://www.x-rates.com/graph/?from=USD&amp;to=MUR\">45.589865</a></td>\n",
      "<td class=\"rtRates\"><a href=\"https://www.x-rates.com/graph/?from=MUR&amp;to=USD\">0.021935</a></td>\n",
      "<td class=\"rtRates\"><a href=\"https://www.x-rates.com/graph/?from=USD&amp;to=MXN\">20.492128</a></td>\n",
      "<td class=\"rtRates\"><a href=\"https://www.x-rates.com/graph/?from=MXN&amp;to=USD\">0.048799</a></td>\n",
      "<td class=\"rtRates\"><a href=\"https://www.x-rates.com/graph/?from=USD&amp;to=NPR\">127.860506</a></td>\n",
      "<td class=\"rtRates\"><a href=\"https://www.x-rates.com/graph/?from=NPR&amp;to=USD\">0.007821</a></td>\n",
      "<td class=\"rtRates\"><a href=\"https://www.x-rates.com/graph/?from=USD&amp;to=NZD\">1.606861</a></td>\n",
      "<td class=\"rtRates\"><a href=\"https://www.x-rates.com/graph/?from=NZD&amp;to=USD\">0.622332</a></td>\n",
      "<td class=\"rtRates\"><a href=\"https://www.x-rates.com/graph/?from=USD&amp;to=NOK\">9.912067</a></td>\n",
      "<td class=\"rtRates\"><a href=\"https://www.x-rates.com/graph/?from=NOK&amp;to=USD\">0.100887</a></td>\n",
      "<td class=\"rtRates\"><a href=\"https://www.x-rates.com/graph/?from=USD&amp;to=OMR\">0.384500</a></td>\n",
      "<td class=\"rtRates\"><a href=\"https://www.x-rates.com/graph/?from=OMR&amp;to=USD\">2.600780</a></td>\n",
      "<td class=\"rtRates\"><a href=\"https://www.x-rates.com/graph/?from=USD&amp;to=PKR\">221.910829</a></td>\n",
      "<td class=\"rtRates\"><a href=\"https://www.x-rates.com/graph/?from=PKR&amp;to=USD\">0.004506</a></td>\n",
      "<td class=\"rtRates\"><a href=\"https://www.x-rates.com/graph/?from=USD&amp;to=PHP\">56.159256</a></td>\n",
      "<td class=\"rtRates\"><a href=\"https://www.x-rates.com/graph/?from=PHP&amp;to=USD\">0.017807</a></td>\n",
      "<td class=\"rtRates\"><a href=\"https://www.x-rates.com/graph/?from=USD&amp;to=PLN\">4.646517</a></td>\n",
      "<td class=\"rtRates\"><a href=\"https://www.x-rates.com/graph/?from=PLN&amp;to=USD\">0.215215</a></td>\n",
      "<td class=\"rtRates\"><a href=\"https://www.x-rates.com/graph/?from=USD&amp;to=QAR\">3.640000</a></td>\n",
      "<td class=\"rtRates\"><a href=\"https://www.x-rates.com/graph/?from=QAR&amp;to=USD\">0.274725</a></td>\n",
      "<td class=\"rtRates\"><a href=\"https://www.x-rates.com/graph/?from=USD&amp;to=RON\">4.829044</a></td>\n",
      "<td class=\"rtRates\"><a href=\"https://www.x-rates.com/graph/?from=RON&amp;to=USD\">0.207080</a></td>\n",
      "<td class=\"rtRates\"><a href=\"https://www.x-rates.com/graph/?from=USD&amp;to=RUB\">56.480801</a></td>\n",
      "<td class=\"rtRates\"><a href=\"https://www.x-rates.com/graph/?from=RUB&amp;to=USD\">0.017705</a></td>\n",
      "<td class=\"rtRates\"><a href=\"https://www.x-rates.com/graph/?from=USD&amp;to=SAR\">3.750000</a></td>\n",
      "<td class=\"rtRates\"><a href=\"https://www.x-rates.com/graph/?from=SAR&amp;to=USD\">0.266667</a></td>\n",
      "<td class=\"rtRates\"><a href=\"https://www.x-rates.com/graph/?from=USD&amp;to=SGD\">1.391884</a></td>\n",
      "<td class=\"rtRates\"><a href=\"https://www.x-rates.com/graph/?from=SGD&amp;to=USD\">0.718450</a></td>\n",
      "<td class=\"rtRates\"><a href=\"https://www.x-rates.com/graph/?from=USD&amp;to=ZAR\">17.078213</a></td>\n",
      "<td class=\"rtRates\"><a href=\"https://www.x-rates.com/graph/?from=ZAR&amp;to=USD\">0.058554</a></td>\n",
      "<td class=\"rtRates\"><a href=\"https://www.x-rates.com/graph/?from=USD&amp;to=LKR\">360.897751</a></td>\n",
      "<td class=\"rtRates\"><a href=\"https://www.x-rates.com/graph/?from=LKR&amp;to=USD\">0.002771</a></td>\n",
      "<td class=\"rtRates\"><a href=\"https://www.x-rates.com/graph/?from=USD&amp;to=SEK\">10.225152</a></td>\n",
      "<td class=\"rtRates\"><a href=\"https://www.x-rates.com/graph/?from=SEK&amp;to=USD\">0.097798</a></td>\n",
      "<td class=\"rtRates\"><a href=\"https://www.x-rates.com/graph/?from=USD&amp;to=CHF\">0.968996</a></td>\n",
      "<td class=\"rtRates\"><a href=\"https://www.x-rates.com/graph/?from=CHF&amp;to=USD\">1.031996</a></td>\n",
      "<td class=\"rtRates\"><a href=\"https://www.x-rates.com/graph/?from=USD&amp;to=TWD\">29.848866</a></td>\n",
      "<td class=\"rtRates\"><a href=\"https://www.x-rates.com/graph/?from=TWD&amp;to=USD\">0.033502</a></td>\n",
      "<td class=\"rtRates\"><a href=\"https://www.x-rates.com/graph/?from=USD&amp;to=THB\">36.623864</a></td>\n",
      "<td class=\"rtRates\"><a href=\"https://www.x-rates.com/graph/?from=THB&amp;to=USD\">0.027305</a></td>\n",
      "<td class=\"rtRates\"><a href=\"https://www.x-rates.com/graph/?from=USD&amp;to=TTD\">6.784432</a></td>\n",
      "<td class=\"rtRates\"><a href=\"https://www.x-rates.com/graph/?from=TTD&amp;to=USD\">0.147396</a></td>\n",
      "<td class=\"rtRates\"><a href=\"https://www.x-rates.com/graph/?from=USD&amp;to=TRY\">17.550216</a></td>\n",
      "<td class=\"rtRates\"><a href=\"https://www.x-rates.com/graph/?from=TRY&amp;to=USD\">0.056979</a></td>\n",
      "<td class=\"rtRates\"><a href=\"https://www.x-rates.com/graph/?from=USD&amp;to=AED\">3.672500</a></td>\n",
      "<td class=\"rtRates\"><a href=\"https://www.x-rates.com/graph/?from=AED&amp;to=USD\">0.272294</a></td>\n",
      "<td class=\"rtRates\"><a href=\"https://www.x-rates.com/graph/?from=USD&amp;to=GBP\">0.834024</a></td>\n",
      "<td class=\"rtRates\"><a href=\"https://www.x-rates.com/graph/?from=GBP&amp;to=USD\">1.199006</a></td>\n",
      "<td class=\"rtRates\"><a href=\"https://www.x-rates.com/graph/?from=USD&amp;to=VEF\">567289.049496</a></td>\n",
      "<td class=\"rtRates\"><a href=\"https://www.x-rates.com/graph/?from=VEF&amp;to=USD\">0.000002</a></td>\n"
     ]
    }
   ],
   "source": [
    "stock_picks = soup.select('table td.rtRates')\n",
    "for pick in stock_picks:\n",
    "    print(str(pick))"
   ]
  },
  {
   "cell_type": "code",
   "execution_count": 33,
   "id": "possible-mayor",
   "metadata": {},
   "outputs": [
    {
     "name": "stdout",
     "output_type": "stream",
     "text": [
      "[('USD', 'EUR', '0.977311')]\n",
      "[('EUR', 'USD', '1.023216')]\n",
      "[('USD', 'GBP', '0.834024')]\n",
      "[('GBP', 'USD', '1.199006')]\n",
      "[('USD', 'INR', '79.875374')]\n",
      "[('INR', 'USD', '0.012520')]\n",
      "[('USD', 'AUD', '1.449801')]\n",
      "[('AUD', 'USD', '0.689750')]\n",
      "[('USD', 'CAD', '1.289322')]\n",
      "[('CAD', 'USD', '0.775601')]\n",
      "[('USD', 'SGD', '1.391884')]\n",
      "[('SGD', 'USD', '0.718450')]\n",
      "[('USD', 'CHF', '0.968996')]\n",
      "[('CHF', 'USD', '1.031996')]\n",
      "[('USD', 'MYR', '4.450184')]\n",
      "[('MYR', 'USD', '0.224710')]\n",
      "[('USD', 'JPY', '138.211403')]\n",
      "[('JPY', 'USD', '0.007235')]\n",
      "[('USD', 'CNY', '6.744590')]\n",
      "[('CNY', 'USD', '0.148267')]\n",
      "[('USD', 'ARS', '129.145464')]\n",
      "[('ARS', 'USD', '0.007743')]\n",
      "[('USD', 'AUD', '1.449801')]\n",
      "[('AUD', 'USD', '0.689750')]\n",
      "[('USD', 'BHD', '0.376000')]\n",
      "[('BHD', 'USD', '2.659574')]\n",
      "[('USD', 'BWP', '12.744567')]\n",
      "[('BWP', 'USD', '0.078465')]\n",
      "[('USD', 'BRL', '5.387638')]\n",
      "[('BRL', 'USD', '0.185610')]\n",
      "[('USD', 'BND', '1.391884')]\n",
      "[('BND', 'USD', '0.718450')]\n",
      "[('USD', 'BGN', '1.911454')]\n",
      "[('BGN', 'USD', '0.523162')]\n",
      "[('USD', 'CAD', '1.289322')]\n",
      "[('CAD', 'USD', '0.775601')]\n",
      "[('USD', 'CLP', '925.835176')]\n",
      "[('CLP', 'USD', '0.001080')]\n",
      "[('USD', 'CNY', '6.744590')]\n",
      "[('CNY', 'USD', '0.148267')]\n",
      "[('USD', 'COP', '4316.107651')]\n",
      "[('COP', 'USD', '0.000232')]\n",
      "[('USD', 'HRK', '7.339493')]\n",
      "[('HRK', 'USD', '0.136249')]\n",
      "[('USD', 'CZK', '23.948223')]\n",
      "[('CZK', 'USD', '0.041757')]\n",
      "[('USD', 'DKK', '7.275762')]\n",
      "[('DKK', 'USD', '0.137443')]\n",
      "[('USD', 'EUR', '0.977311')]\n",
      "[('EUR', 'USD', '1.023216')]\n",
      "[('USD', 'HKD', '7.850041')]\n",
      "[('HKD', 'USD', '0.127388')]\n",
      "[('USD', 'HUF', '388.646825')]\n",
      "[('HUF', 'USD', '0.002573')]\n",
      "[('USD', 'ISK', '135.866953')]\n",
      "[('ISK', 'USD', '0.007360')]\n",
      "[('USD', 'INR', '79.875374')]\n",
      "[('INR', 'USD', '0.012520')]\n",
      "[('USD', 'IDR', '14964.217005')]\n",
      "[('IDR', 'USD', '0.000067')]\n",
      "[('USD', 'IRR', '42202.338064')]\n",
      "[('IRR', 'USD', '0.000024')]\n",
      "[('USD', 'ILS', '3.439843')]\n",
      "[('ILS', 'USD', '0.290711')]\n",
      "[('USD', 'JPY', '138.211403')]\n",
      "[('JPY', 'USD', '0.007235')]\n",
      "[('USD', 'KZT', '479.988557')]\n",
      "[('KZT', 'USD', '0.002083')]\n",
      "[('USD', 'KRW', '1305.706119')]\n",
      "[('KRW', 'USD', '0.000766')]\n",
      "[('USD', 'KWD', '0.307702')]\n",
      "[('KWD', 'USD', '3.249898')]\n",
      "[('USD', 'LYD', '4.879588')]\n",
      "[('LYD', 'USD', '0.204935')]\n",
      "[('USD', 'MYR', '4.450184')]\n",
      "[('MYR', 'USD', '0.224710')]\n",
      "[('USD', 'MUR', '45.589865')]\n",
      "[('MUR', 'USD', '0.021935')]\n",
      "[('USD', 'MXN', '20.492128')]\n",
      "[('MXN', 'USD', '0.048799')]\n",
      "[('USD', 'NPR', '127.860506')]\n",
      "[('NPR', 'USD', '0.007821')]\n",
      "[('USD', 'NZD', '1.606861')]\n",
      "[('NZD', 'USD', '0.622332')]\n",
      "[('USD', 'NOK', '9.912067')]\n",
      "[('NOK', 'USD', '0.100887')]\n",
      "[('USD', 'OMR', '0.384500')]\n",
      "[('OMR', 'USD', '2.600780')]\n",
      "[('USD', 'PKR', '221.910829')]\n",
      "[('PKR', 'USD', '0.004506')]\n",
      "[('USD', 'PHP', '56.159256')]\n",
      "[('PHP', 'USD', '0.017807')]\n",
      "[('USD', 'PLN', '4.646517')]\n",
      "[('PLN', 'USD', '0.215215')]\n",
      "[('USD', 'QAR', '3.640000')]\n",
      "[('QAR', 'USD', '0.274725')]\n",
      "[('USD', 'RON', '4.829044')]\n",
      "[('RON', 'USD', '0.207080')]\n",
      "[('USD', 'RUB', '56.480801')]\n",
      "[('RUB', 'USD', '0.017705')]\n",
      "[('USD', 'SAR', '3.750000')]\n",
      "[('SAR', 'USD', '0.266667')]\n",
      "[('USD', 'SGD', '1.391884')]\n",
      "[('SGD', 'USD', '0.718450')]\n",
      "[('USD', 'ZAR', '17.078213')]\n",
      "[('ZAR', 'USD', '0.058554')]\n",
      "[('USD', 'LKR', '360.897751')]\n",
      "[('LKR', 'USD', '0.002771')]\n",
      "[('USD', 'SEK', '10.225152')]\n",
      "[('SEK', 'USD', '0.097798')]\n",
      "[('USD', 'CHF', '0.968996')]\n",
      "[('CHF', 'USD', '1.031996')]\n",
      "[('USD', 'TWD', '29.848866')]\n",
      "[('TWD', 'USD', '0.033502')]\n",
      "[('USD', 'THB', '36.623864')]\n",
      "[('THB', 'USD', '0.027305')]\n",
      "[('USD', 'TTD', '6.784432')]\n",
      "[('TTD', 'USD', '0.147396')]\n",
      "[('USD', 'TRY', '17.550216')]\n",
      "[('TRY', 'USD', '0.056979')]\n",
      "[('USD', 'AED', '3.672500')]\n",
      "[('AED', 'USD', '0.272294')]\n",
      "[('USD', 'GBP', '0.834024')]\n",
      "[('GBP', 'USD', '1.199006')]\n",
      "[('USD', 'VEF', '567289.049496')]\n",
      "[('VEF', 'USD', '0.000002')]\n"
     ]
    }
   ],
   "source": [
    "import re\n",
    "regex=r'.*from=(\\w{3}).*to=(\\w{3}).*>(\\d+.\\d+).*'\n",
    "for pick in stock_picks:\n",
    "    print(re.findall(regex,str(pick)))"
   ]
  },
  {
   "cell_type": "code",
   "execution_count": null,
   "id": "coastal-saturn",
   "metadata": {},
   "outputs": [],
   "source": []
  }
 ],
 "metadata": {
  "kernelspec": {
   "display_name": "Python 3 (ipykernel)",
   "language": "python",
   "name": "python3"
  },
  "language_info": {
   "codemirror_mode": {
    "name": "ipython",
    "version": 3
   },
   "file_extension": ".py",
   "mimetype": "text/x-python",
   "name": "python",
   "nbconvert_exporter": "python",
   "pygments_lexer": "ipython3",
   "version": "3.8.10"
  }
 },
 "nbformat": 4,
 "nbformat_minor": 5
}
