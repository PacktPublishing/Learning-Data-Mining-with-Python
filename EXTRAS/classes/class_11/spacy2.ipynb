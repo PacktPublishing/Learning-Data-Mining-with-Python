{
 "cells": [
  {
   "cell_type": "markdown",
   "id": "explicit-intake",
   "metadata": {},
   "source": [
    "# SPACY - continuation (English)"
   ]
  },
  {
   "cell_type": "code",
   "execution_count": 1,
   "id": "eleven-county",
   "metadata": {},
   "outputs": [
    {
     "name": "stdout",
     "output_type": "stream",
     "text": [
      "\u001b[38;5;2m✔ Download and installation successful\u001b[0m\n",
      "You can now load the package via spacy.load('es_core_news_sm')\n",
      "None\n"
     ]
    }
   ],
   "source": [
    "import spacy\n",
    "from spacy.cli import download\n",
    "print(download('es_core_news_sm'))"
   ]
  },
  {
   "cell_type": "code",
   "execution_count": 2,
   "id": "graphic-cabin",
   "metadata": {},
   "outputs": [
    {
     "name": "stdout",
     "output_type": "stream",
     "text": [
      "\u001b[38;5;2m✔ Download and installation successful\u001b[0m\n",
      "You can now load the package via spacy.load('en_core_web_sm')\n",
      "None\n"
     ]
    }
   ],
   "source": [
    "#pip install spacy\n",
    "\n",
    "import spacy\n",
    "from spacy.cli import download\n",
    "print(download('en_core_web_sm'))"
   ]
  },
  {
   "cell_type": "code",
   "execution_count": 3,
   "id": "occasional-cosmetic",
   "metadata": {},
   "outputs": [],
   "source": [
    "import spacy\n",
    "nlp = spacy.load('en_core_web_sm')"
   ]
  },
  {
   "cell_type": "markdown",
   "id": "written-thomas",
   "metadata": {},
   "source": [
    "# Sentence Detection\n",
    "\n",
    "Sentence Detection is the process of locating the start and end of sentences in a given text. This allows you to you divide a text into linguistically meaningful units. You’ll use these units when you’re processing your text to perform tasks such as part of speech tagging and entity extraction."
   ]
  },
  {
   "cell_type": "code",
   "execution_count": 4,
   "id": "hybrid-boating",
   "metadata": {},
   "outputs": [],
   "source": [
    "about_text = ('Gus Proto is a Python developer currently'\n",
    "               ' working for a London-based Fintech'\n",
    "               ' company. He is interested in learning'\n",
    "               ' Natural Language Processing.')"
   ]
  },
  {
   "cell_type": "code",
   "execution_count": 5,
   "id": "short-qatar",
   "metadata": {},
   "outputs": [
    {
     "name": "stdout",
     "output_type": "stream",
     "text": [
      "2\n",
      "[Gus Proto is a Python developer currently working for a London-based Fintech company., He is interested in learning Natural Language Processing.]\n"
     ]
    }
   ],
   "source": [
    "text_doc=nlp(about_text)\n",
    "list_sents=list(text_doc.sents)\n",
    "print(len(list_sents))\n",
    "print((list_sents))"
   ]
  },
  {
   "cell_type": "markdown",
   "id": "helpful-surrey",
   "metadata": {},
   "source": [
    "# Tokenization in spaCy\n",
    "\n",
    "Tokenization is the next step after sentence detection. It allows you to identify the basic units in your text. These basic units are called tokens. Tokenization is useful because it breaks a text into meaningful units. These units are used for further analysis, like part of speech tagging."
   ]
  },
  {
   "cell_type": "code",
   "execution_count": 6,
   "id": "chief-georgia",
   "metadata": {},
   "outputs": [
    {
     "name": "stdout",
     "output_type": "stream",
     "text": [
      "['This', 'tutorial', 'is', 'about', 'Natural', 'Language', 'Processing', 'in', 'Spacy', '.']\n"
     ]
    }
   ],
   "source": [
    "introduction_text = ('This tutorial is about Natural Language Processing in Spacy.')\n",
    "# we must create DOC object - a container\n",
    "introduction_doc = nlp(introduction_text)\n",
    "print ([token.text for token in introduction_doc])"
   ]
  },
  {
   "cell_type": "code",
   "execution_count": 7,
   "id": "brave-valentine",
   "metadata": {},
   "outputs": [
    {
     "name": "stdout",
     "output_type": "stream",
     "text": [
      "['This', 'tutorial', 'is', 'about', 'Natural', 'Language', 'Processing', 'in', 'Spacy', '.', '\\n']\n"
     ]
    }
   ],
   "source": [
    "file_name = 'introduction.txt'\n",
    "introduction_file_text = open(file_name).read()\n",
    "introduction_doc = nlp(introduction_file_text)\n",
    "result=[token.text for token in introduction_doc]\n",
    "print(result)"
   ]
  },
  {
   "cell_type": "code",
   "execution_count": 8,
   "id": "annual-samuel",
   "metadata": {},
   "outputs": [
    {
     "name": "stdout",
     "output_type": "stream",
     "text": [
      "Gus 0\n",
      "Proto 4\n",
      "is 10\n",
      "a 13\n",
      "Python 15\n",
      "developer 22\n",
      "currently 32\n",
      "working 42\n",
      "for 50\n",
      "a 54\n",
      "London 56\n",
      "- 62\n",
      "based 63\n",
      "Fintech 69\n",
      "company 77\n",
      ". 84\n",
      "He 86\n",
      "is 89\n",
      "interested 92\n",
      "in 103\n",
      "learning 106\n",
      "Natural 115\n",
      "Language 123\n",
      "Processing 132\n",
      ". 142\n"
     ]
    }
   ],
   "source": [
    "for token in text_doc:\n",
    "    print(token, token.idx)"
   ]
  },
  {
   "cell_type": "markdown",
   "id": "cognitive-signal",
   "metadata": {},
   "source": [
    "# Token attributes\n",
    "*    `token.idx` - returns a position of the token\n",
    "*    `is_alpha` - detects if the token consists of alphabetic characters or not.\n",
    "*    `is_punct` - detects if the token is a punctuation symbol or not.\n",
    "*    `is_space` - detects if the token is a space or not.\n",
    "*    `shape_` - prints out the shape of the word.\n",
    "*    `is_stop` - detects if the token is a stop word or not  \n",
    "\n",
    "https://spacy.io/api/token#attributes"
   ]
  },
  {
   "cell_type": "code",
   "execution_count": 9,
   "id": "cellular-singer",
   "metadata": {},
   "outputs": [
    {
     "name": "stdout",
     "output_type": "stream",
     "text": [
      "Gus False\n",
      "Proto False\n",
      "is True\n",
      "a True\n",
      "Python False\n",
      "developer False\n",
      "currently False\n",
      "working False\n",
      "for True\n",
      "a True\n",
      "London False\n",
      "- False\n",
      "based False\n",
      "Fintech False\n",
      "company False\n",
      ". False\n",
      "He True\n",
      "is True\n",
      "interested False\n",
      "in True\n",
      "learning False\n",
      "Natural False\n",
      "Language False\n",
      "Processing False\n",
      ". False\n"
     ]
    }
   ],
   "source": [
    "for token in text_doc:\n",
    "#     print (token, token.idx)\n",
    "#    print (token, token.is_lower)\n",
    "#    print (token, token.lower_)\n",
    "#    print (token, token.is_alpha)\n",
    "#     print (token, token.is_punct)\n",
    "#     print (token, token.is_space)    \n",
    "#     print (token, token.shape_)     \n",
    "     print (token, token.is_stop)       "
   ]
  },
  {
   "cell_type": "markdown",
   "id": "neutral-innocent",
   "metadata": {},
   "source": [
    "# Stop Words\n",
    "\n",
    "Stop words are the most common words in a language. In the English language, some examples of stop words are the, are, but, and they. Most sentences need to contain stop words in order to be full sentences that make sense."
   ]
  },
  {
   "cell_type": "markdown",
   "id": "powered-correlation",
   "metadata": {},
   "source": [
    "## english"
   ]
  },
  {
   "cell_type": "code",
   "execution_count": 10,
   "id": "entitled-egypt",
   "metadata": {},
   "outputs": [
    {
     "name": "stdout",
     "output_type": "stream",
     "text": [
      "326\n",
      "\n",
      "ours\n",
      "whereas\n",
      "done\n",
      "everything\n",
      "very\n",
      "these\n",
      "even\n",
      "last\n",
      "beside\n",
      "off\n"
     ]
    }
   ],
   "source": [
    "import spacy\n",
    "nlp = spacy.load(\"en_core_web_sm\")\n",
    "spacy_stopwords_en = spacy.lang.en.stop_words.STOP_WORDS\n",
    "print(len(spacy_stopwords_en))\n",
    "print()\n",
    "for stop_word in list(spacy_stopwords_en)[:10]:\n",
    "     print(stop_word)"
   ]
  },
  {
   "cell_type": "markdown",
   "id": "tested-athletics",
   "metadata": {},
   "source": [
    "# spanish"
   ]
  },
  {
   "cell_type": "code",
   "execution_count": 11,
   "id": "preliminary-assault",
   "metadata": {},
   "outputs": [
    {
     "name": "stdout",
     "output_type": "stream",
     "text": [
      "551\n",
      "\n",
      "valor\n",
      "sola\n",
      "un\n",
      "algunas\n",
      "estais\n",
      "trabaja\n",
      "conseguimos\n",
      "largo\n",
      "bajo\n",
      "pasada\n"
     ]
    }
   ],
   "source": [
    "import spacy\n",
    "nlp = spacy.load('es_core_news_sm')\n",
    "spacy_stopwords_es = spacy.lang.es.stop_words.STOP_WORDS\n",
    "print(len(spacy_stopwords_es))\n",
    "print()\n",
    "for stop_word in list(spacy_stopwords_es)[:10]:\n",
    "     print(stop_word)"
   ]
  },
  {
   "cell_type": "markdown",
   "id": "developing-illustration",
   "metadata": {},
   "source": [
    "## back to english"
   ]
  },
  {
   "cell_type": "code",
   "execution_count": 12,
   "id": "square-folder",
   "metadata": {},
   "outputs": [
    {
     "name": "stdout",
     "output_type": "stream",
     "text": [
      "Gus\n",
      "Proto\n",
      "Python\n",
      "developer\n",
      "currently\n",
      "working\n",
      "London\n",
      "-\n",
      "based\n",
      "Fintech\n",
      "company\n",
      ".\n",
      "interested\n",
      "learning\n",
      "Natural\n",
      "Language\n",
      "Processing\n",
      ".\n"
     ]
    }
   ],
   "source": [
    "for token in text_doc:\n",
    "     if not token.is_stop:\n",
    "         print(token)"
   ]
  },
  {
   "cell_type": "code",
   "execution_count": 13,
   "id": "mature-broadway",
   "metadata": {},
   "outputs": [
    {
     "name": "stdout",
     "output_type": "stream",
     "text": [
      "Gus\n",
      "Proto\n",
      "Python\n",
      "developer\n",
      "currently\n",
      "working\n",
      "London\n",
      "-\n",
      "based\n",
      "Fintech\n",
      "company\n",
      ".\n",
      "He\n",
      "interested\n",
      "learning\n",
      "Natural\n",
      "Language\n",
      "Processing\n",
      ".\n"
     ]
    }
   ],
   "source": [
    "list_spacy_stopwords_en = list(spacy_stopwords_en)\n",
    "for token in text_doc:\n",
    "#    if token not in list_spacy_stopwords_en[0:10]:\n",
    "    if token.text not in list_spacy_stopwords_en:\n",
    "        print(token)"
   ]
  },
  {
   "cell_type": "markdown",
   "id": "optimum-bidding",
   "metadata": {},
   "source": [
    "# Lemmatization\n",
    "\n",
    "Lemmatization is the process of reducing inflected forms of a word while still ensuring that the reduced form belongs to the language. This reduced form or root word is called a lemma.\n",
    "\n",
    "\n",
    "    comienza -> comenzar\n",
    "    comenzarán -> comenzar\n",
    "    clases -> clase\n",
    "\n",
    "# Stemming\n",
    "\n",
    "There is another way to reduce the number of tokens. This process consists of simply trimming the words to reduce them to a common base:\n",
    "\n",
    "    comienza -> comienz\n",
    "    comenzarán -> comenz\n",
    "    clases -> clas\n",
    "\n",
    "\n",
    "These two techniques are considered mutually exclusive, since you either apply one or apply the other, never both. But which is the most recommended?\n",
    "\n",
    "In general, lemmatization is always preferred, since it is a good compromise between reducing the amount of tokens and preserving a little more the original composition of these. Stemming being more aggressive tends to lead to a greater loss of information.\n",
    "\n",
    "In other words\n",
    "* Stemming drops the end of the word to retain a stable root. It is fast, but sometimes the results are difficult to interpret.\n",
    "* Lemmatization is smarter and takes into account the meaning of the word."
   ]
  },
  {
   "cell_type": "code",
   "execution_count": 14,
   "id": "aboriginal-senior",
   "metadata": {},
   "outputs": [
    {
     "name": "stdout",
     "output_type": "stream",
     "text": [
      "Gus Gus\n",
      "is be\n",
      "helping helping\n",
      "organize organize\n",
      "a a\n",
      "developerconference developerconference\n",
      "on on\n",
      "Applications application\n",
      "of of\n",
      "Natural Natural\n",
      "Language Language\n",
      "Processing Processing\n",
      ". .\n",
      "He he\n",
      "keeps keep\n",
      "organizing organize\n",
      "local local\n",
      "Python Python\n",
      "meetups meetup\n",
      "and and\n",
      "several several\n",
      "internal internal\n",
      "talks talk\n",
      "at at\n",
      "his his\n",
      "workplace workplace\n",
      ". .\n"
     ]
    }
   ],
   "source": [
    "import spacy\n",
    "nlp = spacy.load(\"en_core_web_sm\")\n",
    "conference_help_text = ('Gus is helping organize a developer'\n",
    "     'conference on Applications of Natural Language'\n",
    "     ' Processing. He keeps organizing local Python meetups'\n",
    "     ' and several internal talks at his workplace.')\n",
    "conference_help_doc = nlp(conference_help_text)\n",
    "for token in conference_help_doc:\n",
    "     print (token, token.lemma_)"
   ]
  },
  {
   "cell_type": "code",
   "execution_count": 15,
   "id": "scenic-updating",
   "metadata": {},
   "outputs": [
    {
     "name": "stdout",
     "output_type": "stream",
     "text": [
      "\n",
      " \n",
      "\n",
      "The the\n",
      "crew crew\n",
      "of of\n",
      "the the\n",
      "USS USS\n",
      "Discovery Discovery\n",
      "discovered discover\n",
      "many many\n",
      "discoveries discovery\n",
      ". .\n",
      "\n",
      " \n",
      "\n",
      "Discovering Discovering\n",
      "is be\n",
      "what what\n",
      "explorers explorer\n",
      "do do\n",
      ". .\n"
     ]
    }
   ],
   "source": [
    "string = \"\"\"\n",
    "The crew of the USS Discovery discovered many discoveries.\n",
    "Discovering is what explorers do.\"\"\"\n",
    "conference_help_doc = nlp(string)\n",
    "for token in conference_help_doc:\n",
    "     print (token, token.lemma_)"
   ]
  },
  {
   "cell_type": "markdown",
   "id": "departmental-baptist",
   "metadata": {},
   "source": [
    "# Word Frequency"
   ]
  },
  {
   "cell_type": "code",
   "execution_count": 16,
   "id": "amateur-jewelry",
   "metadata": {},
   "outputs": [],
   "source": [
    "from collections import Counter\n",
    "complete_text = ('Gus Proto is a Python developer currently '\n",
    "'working for a London-based Fintech company. He is'\n",
    "' interested in learning Natural Language Processing.'\n",
    "' There is a developer conference happening on 21 July'\n",
    "' 2019 in London. It is titled \"Applications of Natural'\n",
    "' Language Processing\". There is a helpline number '\n",
    "' available at +1-1234567891. Gus is helping organize it.'\n",
    "' He keeps organizing local Python meetups and several'\n",
    "' internal talks at his workplace. Gus is also presenting'\n",
    "' a talk. The talk will introduce the reader about \"Use'\n",
    "' cases of Natural Language Processing in Fintech\".'\n",
    "' Apart from his work, he is very passionate about music.'\n",
    "' Gus is learning to play the Piano. He has enrolled '\n",
    "' himself in the weekend batch of Great Piano Academy.'\n",
    "' Great Piano Academy is situated in Mayfair or the City'\n",
    "' of London and has world-class piano instructors.')\n",
    "\n",
    "complete_doc = nlp(complete_text)"
   ]
  },
  {
   "cell_type": "code",
   "execution_count": 17,
   "id": "responsible-firmware",
   "metadata": {},
   "outputs": [],
   "source": [
    "words = [token.text for token in complete_doc if not token.is_stop and not token.is_punct and not token.is_space]"
   ]
  },
  {
   "cell_type": "code",
   "execution_count": 18,
   "id": "textile-causing",
   "metadata": {},
   "outputs": [
    {
     "name": "stdout",
     "output_type": "stream",
     "text": [
      "80\n",
      "['Gus', 'Proto', 'Python', 'developer', 'currently', 'working', 'London', 'based', 'Fintech', 'company', 'interested', 'learning', 'Natural', 'Language', 'Processing', 'developer', 'conference', 'happening', '21', 'July', '2019', 'London', 'titled', 'Applications', 'Natural', 'Language', 'Processing', 'helpline', 'number', 'available', '+1', '1234567891', 'Gus', 'helping', 'organize', 'keeps', 'organizing', 'local', 'Python', 'meetups', 'internal', 'talks', 'workplace', 'Gus', 'presenting', 'talk', 'talk', 'introduce', 'reader', 'Use', 'cases', 'Natural', 'Language', 'Processing', 'Fintech', 'Apart', 'work', 'passionate', 'music', 'Gus', 'learning', 'play', 'Piano', 'enrolled', 'weekend', 'batch', 'Great', 'Piano', 'Academy', 'Great', 'Piano', 'Academy', 'situated', 'Mayfair', 'City', 'London', 'world', 'class', 'piano', 'instructors']\n"
     ]
    }
   ],
   "source": [
    "print(len(words))\n",
    "print(words)"
   ]
  },
  {
   "cell_type": "code",
   "execution_count": 19,
   "id": "incident-findings",
   "metadata": {},
   "outputs": [
    {
     "data": {
      "text/plain": [
       "Counter({'Gus': 4,\n",
       "         'Proto': 1,\n",
       "         'Python': 2,\n",
       "         'developer': 2,\n",
       "         'currently': 1,\n",
       "         'working': 1,\n",
       "         'London': 3,\n",
       "         'based': 1,\n",
       "         'Fintech': 2,\n",
       "         'company': 1,\n",
       "         'interested': 1,\n",
       "         'learning': 2,\n",
       "         'Natural': 3,\n",
       "         'Language': 3,\n",
       "         'Processing': 3,\n",
       "         'conference': 1,\n",
       "         'happening': 1,\n",
       "         '21': 1,\n",
       "         'July': 1,\n",
       "         '2019': 1,\n",
       "         'titled': 1,\n",
       "         'Applications': 1,\n",
       "         'helpline': 1,\n",
       "         'number': 1,\n",
       "         'available': 1,\n",
       "         '+1': 1,\n",
       "         '1234567891': 1,\n",
       "         'helping': 1,\n",
       "         'organize': 1,\n",
       "         'keeps': 1,\n",
       "         'organizing': 1,\n",
       "         'local': 1,\n",
       "         'meetups': 1,\n",
       "         'internal': 1,\n",
       "         'talks': 1,\n",
       "         'workplace': 1,\n",
       "         'presenting': 1,\n",
       "         'talk': 2,\n",
       "         'introduce': 1,\n",
       "         'reader': 1,\n",
       "         'Use': 1,\n",
       "         'cases': 1,\n",
       "         'Apart': 1,\n",
       "         'work': 1,\n",
       "         'passionate': 1,\n",
       "         'music': 1,\n",
       "         'play': 1,\n",
       "         'Piano': 3,\n",
       "         'enrolled': 1,\n",
       "         'weekend': 1,\n",
       "         'batch': 1,\n",
       "         'Great': 2,\n",
       "         'Academy': 2,\n",
       "         'situated': 1,\n",
       "         'Mayfair': 1,\n",
       "         'City': 1,\n",
       "         'world': 1,\n",
       "         'class': 1,\n",
       "         'piano': 1,\n",
       "         'instructors': 1})"
      ]
     },
     "execution_count": 19,
     "metadata": {},
     "output_type": "execute_result"
    }
   ],
   "source": [
    "word_freq = Counter(words)\n",
    "word_freq"
   ]
  },
  {
   "cell_type": "code",
   "execution_count": 20,
   "id": "silent-flood",
   "metadata": {},
   "outputs": [
    {
     "data": {
      "text/plain": [
       "[('Gus', 4), ('London', 3), ('Natural', 3), ('Language', 3), ('Processing', 3)]"
      ]
     },
     "execution_count": 20,
     "metadata": {},
     "output_type": "execute_result"
    }
   ],
   "source": [
    "word_freq.most_common(5)"
   ]
  },
  {
   "cell_type": "code",
   "execution_count": 21,
   "id": "twelve-quarterly",
   "metadata": {},
   "outputs": [
    {
     "data": {
      "text/plain": [
       "dict_items([('Gus', 4), ('Proto', 1), ('Python', 2), ('developer', 2), ('currently', 1), ('working', 1), ('London', 3), ('based', 1), ('Fintech', 2), ('company', 1), ('interested', 1), ('learning', 2), ('Natural', 3), ('Language', 3), ('Processing', 3), ('conference', 1), ('happening', 1), ('21', 1), ('July', 1), ('2019', 1), ('titled', 1), ('Applications', 1), ('helpline', 1), ('number', 1), ('available', 1), ('+1', 1), ('1234567891', 1), ('helping', 1), ('organize', 1), ('keeps', 1), ('organizing', 1), ('local', 1), ('meetups', 1), ('internal', 1), ('talks', 1), ('workplace', 1), ('presenting', 1), ('talk', 2), ('introduce', 1), ('reader', 1), ('Use', 1), ('cases', 1), ('Apart', 1), ('work', 1), ('passionate', 1), ('music', 1), ('play', 1), ('Piano', 3), ('enrolled', 1), ('weekend', 1), ('batch', 1), ('Great', 2), ('Academy', 2), ('situated', 1), ('Mayfair', 1), ('City', 1), ('world', 1), ('class', 1), ('piano', 1), ('instructors', 1)])"
      ]
     },
     "execution_count": 21,
     "metadata": {},
     "output_type": "execute_result"
    }
   ],
   "source": [
    "word_freq.items()"
   ]
  },
  {
   "cell_type": "code",
   "execution_count": 22,
   "id": "beneficial-helping",
   "metadata": {},
   "outputs": [
    {
     "data": {
      "text/plain": [
       "['Proto',\n",
       " 'currently',\n",
       " 'working',\n",
       " 'based',\n",
       " 'company',\n",
       " 'interested',\n",
       " 'conference',\n",
       " 'happening',\n",
       " '21',\n",
       " 'July',\n",
       " '2019',\n",
       " 'titled',\n",
       " 'Applications',\n",
       " 'helpline',\n",
       " 'number',\n",
       " 'available',\n",
       " '+1',\n",
       " '1234567891',\n",
       " 'helping',\n",
       " 'organize',\n",
       " 'keeps',\n",
       " 'organizing',\n",
       " 'local',\n",
       " 'meetups',\n",
       " 'internal',\n",
       " 'talks',\n",
       " 'workplace',\n",
       " 'presenting',\n",
       " 'introduce',\n",
       " 'reader',\n",
       " 'Use',\n",
       " 'cases',\n",
       " 'Apart',\n",
       " 'work',\n",
       " 'passionate',\n",
       " 'music',\n",
       " 'play',\n",
       " 'enrolled',\n",
       " 'weekend',\n",
       " 'batch',\n",
       " 'situated',\n",
       " 'Mayfair',\n",
       " 'City',\n",
       " 'world',\n",
       " 'class',\n",
       " 'piano',\n",
       " 'instructors']"
      ]
     },
     "execution_count": 22,
     "metadata": {},
     "output_type": "execute_result"
    }
   ],
   "source": [
    "[word for (word, freq) in word_freq.items() if freq == 1]"
   ]
  },
  {
   "cell_type": "markdown",
   "id": "protected-perth",
   "metadata": {},
   "source": [
    "# Part of Speech Tagging"
   ]
  },
  {
   "cell_type": "markdown",
   "id": "straight-glance",
   "metadata": {},
   "source": [
    "\n",
    "    Noun\n",
    "    Pronoun\n",
    "    Adjective\n",
    "    Verb\n",
    "    Adverb\n",
    "    Preposition\n",
    "    Conjunction\n",
    "    Interjection\n"
   ]
  },
  {
   "cell_type": "code",
   "execution_count": 23,
   "id": "black-minneapolis",
   "metadata": {},
   "outputs": [
    {
     "name": "stdout",
     "output_type": "stream",
     "text": [
      "Gus PROPN\n",
      "Proto PROPN\n",
      "is AUX\n",
      "a DET\n",
      "Python PROPN\n",
      "developer NOUN\n",
      "currently ADV\n",
      "working VERB\n",
      "for ADP\n",
      "a DET\n",
      "London PROPN\n",
      "- PUNCT\n",
      "based VERB\n",
      "Fintech PROPN\n",
      "company NOUN\n",
      ". PUNCT\n",
      "He PRON\n",
      "is AUX\n",
      "interested ADJ\n",
      "in ADP\n",
      "learning VERB\n",
      "Natural PROPN\n",
      "Language PROPN\n",
      "Processing PROPN\n",
      ". PUNCT\n",
      "There PRON\n",
      "is VERB\n",
      "a DET\n",
      "developer NOUN\n",
      "conference NOUN\n",
      "happening VERB\n",
      "on ADP\n",
      "21 NUM\n",
      "July PROPN\n",
      "2019 NUM\n",
      "in ADP\n",
      "London PROPN\n",
      ". PUNCT\n",
      "It PRON\n",
      "is AUX\n",
      "titled VERB\n",
      "\" PUNCT\n",
      "Applications NOUN\n",
      "of ADP\n",
      "Natural PROPN\n",
      "Language PROPN\n",
      "Processing PROPN\n",
      "\" PUNCT\n",
      ". PUNCT\n",
      "There PRON\n",
      "is VERB\n",
      "a DET\n",
      "helpline ADJ\n",
      "number NOUN\n",
      "  SPACE\n",
      "available ADJ\n",
      "at ADP\n",
      "+1 PROPN\n",
      "- PUNCT\n",
      "1234567891 NUM\n",
      ". PUNCT\n",
      "Gus PROPN\n",
      "is AUX\n",
      "helping VERB\n",
      "organize VERB\n",
      "it PRON\n",
      ". PUNCT\n",
      "He PRON\n",
      "keeps VERB\n",
      "organizing VERB\n",
      "local ADJ\n",
      "Python PROPN\n",
      "meetups NOUN\n",
      "and CCONJ\n",
      "several ADJ\n",
      "internal ADJ\n",
      "talks NOUN\n",
      "at ADP\n",
      "his PRON\n",
      "workplace NOUN\n",
      ". PUNCT\n",
      "Gus PROPN\n",
      "is AUX\n",
      "also ADV\n",
      "presenting VERB\n",
      "a DET\n",
      "talk NOUN\n",
      ". PUNCT\n",
      "The DET\n",
      "talk NOUN\n",
      "will AUX\n",
      "introduce VERB\n",
      "the DET\n",
      "reader NOUN\n",
      "about ADP\n",
      "\" PUNCT\n",
      "Use VERB\n",
      "cases NOUN\n",
      "of ADP\n",
      "Natural PROPN\n",
      "Language PROPN\n",
      "Processing PROPN\n",
      "in ADP\n",
      "Fintech PROPN\n",
      "\" PUNCT\n",
      ". PUNCT\n",
      "Apart ADV\n",
      "from ADP\n",
      "his PRON\n",
      "work NOUN\n",
      ", PUNCT\n",
      "he PRON\n",
      "is AUX\n",
      "very ADV\n",
      "passionate ADJ\n",
      "about ADP\n",
      "music NOUN\n",
      ". PUNCT\n",
      "Gus PROPN\n",
      "is AUX\n",
      "learning VERB\n",
      "to PART\n",
      "play VERB\n",
      "the DET\n",
      "Piano PROPN\n",
      ". PUNCT\n",
      "He PRON\n",
      "has AUX\n",
      "enrolled VERB\n",
      "  SPACE\n",
      "himself PRON\n",
      "in ADP\n",
      "the DET\n",
      "weekend NOUN\n",
      "batch NOUN\n",
      "of ADP\n",
      "Great PROPN\n",
      "Piano PROPN\n",
      "Academy PROPN\n",
      ". PUNCT\n",
      "Great PROPN\n",
      "Piano PROPN\n",
      "Academy PROPN\n",
      "is AUX\n",
      "situated VERB\n",
      "in ADP\n",
      "Mayfair PROPN\n",
      "or CCONJ\n",
      "the DET\n",
      "City PROPN\n",
      "of ADP\n",
      "London PROPN\n",
      "and CCONJ\n",
      "has VERB\n",
      "world NOUN\n",
      "- PUNCT\n",
      "class NOUN\n",
      "piano NOUN\n",
      "instructors NOUN\n",
      ". PUNCT\n"
     ]
    }
   ],
   "source": [
    "for token in complete_doc:\n",
    "     print (token, token.pos_)"
   ]
  },
  {
   "cell_type": "markdown",
   "id": "portable-specification",
   "metadata": {},
   "source": [
    "## extracting adjectives only"
   ]
  },
  {
   "cell_type": "code",
   "execution_count": 24,
   "id": "revised-maldives",
   "metadata": {},
   "outputs": [
    {
     "name": "stdout",
     "output_type": "stream",
     "text": [
      "interested\n",
      "helpline\n",
      "available\n",
      "local\n",
      "several\n",
      "internal\n",
      "passionate\n"
     ]
    }
   ],
   "source": [
    "for token in complete_doc:\n",
    "     if token.pos_==\"ADJ\":\n",
    "         print (token)"
   ]
  },
  {
   "cell_type": "markdown",
   "id": "appropriate-prince",
   "metadata": {},
   "source": [
    "# Named Entity Recognition\n",
    "Named Entity Recognition (NER) is the process of locating named entities in unstructured text and then classifying them into pre-defined categories, such as person names, organizations, locations, monetary values, percentages, time expressions, and so on."
   ]
  },
  {
   "cell_type": "code",
   "execution_count": 25,
   "id": "attractive-kruger",
   "metadata": {},
   "outputs": [
    {
     "name": "stdout",
     "output_type": "stream",
     "text": [
      "(Great Piano Academy, Mayfair, the City of \n",
      "                    , London, 12, August 2022)\n",
      "Great Piano Academy ORG\n",
      "Mayfair LOC\n",
      "the City of \n",
      "                     GPE\n",
      "London GPE\n",
      "12 CARDINAL\n",
      "August 2022 DATE\n"
     ]
    }
   ],
   "source": [
    "piano_class_text = (\"\"\"Great Piano Academy is situated in Mayfair or the City of \n",
    "                    London and has world-class piano instructors. 12 August 2022\"\"\")\n",
    "piano_class_doc = nlp(piano_class_text)\n",
    "print(piano_class_doc.ents)\n",
    "for ent in piano_class_doc.ents:\n",
    "     print(ent.text, ent.label_)"
   ]
  },
  {
   "cell_type": "code",
   "execution_count": 26,
   "id": "shared-canvas",
   "metadata": {},
   "outputs": [
    {
     "data": {
      "text/html": [
       "<span class=\"tex2jax_ignore\"><div class=\"entities\" style=\"line-height: 2.5; direction: ltr\">\n",
       "<mark class=\"entity\" style=\"background: #7aecec; padding: 0.45em 0.6em; margin: 0 0.25em; line-height: 1; border-radius: 0.35em;\">\n",
       "    Great Piano Academy\n",
       "    <span style=\"font-size: 0.8em; font-weight: bold; line-height: 1; border-radius: 0.35em; vertical-align: middle; margin-left: 0.5rem\">ORG</span>\n",
       "</mark>\n",
       " is situated in \n",
       "<mark class=\"entity\" style=\"background: #ff9561; padding: 0.45em 0.6em; margin: 0 0.25em; line-height: 1; border-radius: 0.35em;\">\n",
       "    Mayfair\n",
       "    <span style=\"font-size: 0.8em; font-weight: bold; line-height: 1; border-radius: 0.35em; vertical-align: middle; margin-left: 0.5rem\">LOC</span>\n",
       "</mark>\n",
       " or \n",
       "<mark class=\"entity\" style=\"background: #feca74; padding: 0.45em 0.6em; margin: 0 0.25em; line-height: 1; border-radius: 0.35em;\">\n",
       "    the City of \n",
       "                    \n",
       "    <span style=\"font-size: 0.8em; font-weight: bold; line-height: 1; border-radius: 0.35em; vertical-align: middle; margin-left: 0.5rem\">GPE</span>\n",
       "</mark>\n",
       "\n",
       "<mark class=\"entity\" style=\"background: #feca74; padding: 0.45em 0.6em; margin: 0 0.25em; line-height: 1; border-radius: 0.35em;\">\n",
       "    London\n",
       "    <span style=\"font-size: 0.8em; font-weight: bold; line-height: 1; border-radius: 0.35em; vertical-align: middle; margin-left: 0.5rem\">GPE</span>\n",
       "</mark>\n",
       " and has world-class piano instructors. \n",
       "<mark class=\"entity\" style=\"background: #e4e7d2; padding: 0.45em 0.6em; margin: 0 0.25em; line-height: 1; border-radius: 0.35em;\">\n",
       "    12\n",
       "    <span style=\"font-size: 0.8em; font-weight: bold; line-height: 1; border-radius: 0.35em; vertical-align: middle; margin-left: 0.5rem\">CARDINAL</span>\n",
       "</mark>\n",
       " \n",
       "<mark class=\"entity\" style=\"background: #bfe1d9; padding: 0.45em 0.6em; margin: 0 0.25em; line-height: 1; border-radius: 0.35em;\">\n",
       "    August 2022\n",
       "    <span style=\"font-size: 0.8em; font-weight: bold; line-height: 1; border-radius: 0.35em; vertical-align: middle; margin-left: 0.5rem\">DATE</span>\n",
       "</mark>\n",
       "</div></span>"
      ],
      "text/plain": [
       "<IPython.core.display.HTML object>"
      ]
     },
     "metadata": {},
     "output_type": "display_data"
    }
   ],
   "source": [
    "from spacy import displacy\n",
    "displacy.render(piano_class_doc, style='ent',jupyter = True)"
   ]
  },
  {
   "cell_type": "markdown",
   "id": "opposite-feature",
   "metadata": {},
   "source": [
    "# Why would we want to \"reduce\" the amount of information through these transformations?\n",
    "\n",
    "The idea behind the elimination of stopwords, symbols, lemmatization or stemming lies in reducing the number of unique elements in our dataset, with the aim of increasing the performance of our algorithm in two ways:\n",
    "\n",
    "* Eliminating stopwords helps us eliminate common words that have little discriminative value between texts. Likewise, for many problems we do not need to know the tense in which a verb was written, or whether the word was \"corrupt\" or \"corruption\"; with base shapes the algorithm can “learn” a general idea.\n",
    "\n",
    "* This same idea can be applied for very rare tokens within our text… we could remove tokens that do not appear more than $X$ number of times, suspecting that they were perhaps misspellings or unimportant words.\n"
   ]
  },
  {
   "cell_type": "markdown",
   "id": "frozen-issue",
   "metadata": {},
   "source": [
    "# The order of cleaning the text"
   ]
  },
  {
   "cell_type": "markdown",
   "id": "constitutional-princeton",
   "metadata": {},
   "source": [
    "It is common that after tokenizing the text, the steps are applied in the order presented:\n",
    "\n",
    "* cleaning:\n",
    "  * Conversion to lowercase\n",
    "  * Removal special characters, RT @:, website links, multiple spaces, stopwords and punctuation symbols (replacing with space)\n",
    "* tokenization and saving tokens longer than 1 character\n",
    "* Lemmatization or stemming"
   ]
  },
  {
   "cell_type": "code",
   "execution_count": 27,
   "id": "tight-protein",
   "metadata": {},
   "outputs": [],
   "source": [
    "def limpiar_texto(texto):\n",
    "    \n",
    "    nuevo_texto =texto\n",
    "    return nuevo_texto \n"
   ]
  },
  {
   "cell_type": "code",
   "execution_count": 28,
   "id": "polyphonic-endorsement",
   "metadata": {},
   "outputs": [
    {
     "name": "stdout",
     "output_type": "stream",
     "text": [
      "RT @LondonEconomics: Hi guys the last meeting was a complete nonsense see the video here https://t.co/rnHPgyhx4Z @cienciadedatos #textmining\n",
      "RT @LondonEconomics: Hi guys the last meeting was a complete nonsense see the video here https://t.co/rnHPgyhx4Z @cienciadedatos #textmining\n"
     ]
    }
   ],
   "source": [
    "import re\n",
    "test = r\"RT @LondonEconomics: Hi guys the last meeting was a complete nonsense see the video here https://t.co/rnHPgyhx4Z @cienciadedatos #textmining\"\n",
    "print(test)\n",
    "print(limpiar_texto(test))"
   ]
  },
  {
   "cell_type": "markdown",
   "id": "noble-metallic",
   "metadata": {},
   "source": [
    "# Word Vector Representation\n",
    "\n",
    "When we’re looking at words alone, it’s difficult for a machine to understand connections that a human would understand immediately. Engine and car, for example, have what might seem like an obvious connection (cars run using engines), but that link is not so obvious to a computer.\n",
    "\n",
    "Thankfully, there’s a way we can represent words that captures more of these sorts of connections. A word vector is a numeric representation of a word that commuicates its relationship to other words.\n",
    "\n",
    "Each word is interpreted as a unique and lenghty array of numbers. You can think of these numbers as being something like GPS coordinates. GPS coordinates consist of two numbers (latitude and longitude), and if we saw two sets GPS coordinates that were numberically close to each other (like 43,-70, and 44,-70), we would know that those two locations were relatively close together. Word vectors work similarly, although there are a lot more than two coordinates assigned to each word, so they’re much harder for a human to eyeball.\n",
    "\n",
    "Using spaCy‘s en_core_web_sm model, let’s take a look at the length of a vector for a single word, and what that vector looks like using .vector and .shape."
   ]
  },
  {
   "cell_type": "code",
   "execution_count": 29,
   "id": "institutional-hayes",
   "metadata": {},
   "outputs": [
    {
     "name": "stdout",
     "output_type": "stream",
     "text": [
      "\u001b[38;5;2m✔ Download and installation successful\u001b[0m\n",
      "You can now load the package via spacy.load('en_core_web_sm')\n",
      "None\n"
     ]
    }
   ],
   "source": [
    "import spacy\n",
    "from spacy.cli import download\n",
    "print(download('en_core_web_sm'))\n",
    "nlp = spacy.load(\"en_core_web_sm\")"
   ]
  },
  {
   "cell_type": "code",
   "execution_count": 30,
   "id": "virtual-killing",
   "metadata": {},
   "outputs": [
    {
     "name": "stdout",
     "output_type": "stream",
     "text": [
      "(96,)\n",
      "[-0.70611125 -1.4329455   0.24227941  0.6598132  -0.20285606 -0.3363567\n",
      " -1.4245116  -0.11146422 -0.56221646  0.3003068  -0.19000328 -0.08635545\n",
      "  1.3099948   1.379954    0.02685246  1.5109322  -0.733334    0.80945534\n",
      "  0.29014212 -0.2684864  -0.7413073  -0.7534003   1.52542    -0.61603916\n",
      "  0.3729881   0.31268534 -0.68583065 -0.75191927  0.58086497 -1.0955321\n",
      "  0.86638093 -1.9158285  -0.05129784 -0.20604798  0.2827754  -2.019856\n",
      " -0.0126412   0.3666329  -1.2550778   1.6548673  -0.85672385 -0.9216615\n",
      "  0.2952034   0.01230198 -0.42903078 -0.4966709  -0.25612807 -1.3058071\n",
      "  1.8100011   0.51152885  0.03403987  0.70565414  0.42585516 -0.8349808\n",
      "  0.5538808   0.57170147 -1.101404    0.33620203  0.07782254  0.5464119\n",
      " -0.06026481 -0.5734616   0.6843033  -1.0217375  -0.11573818 -0.93082213\n",
      " -0.85589534  0.5505712   1.3896189  -0.5574837   0.19777809  0.3153283\n",
      " -0.37644464  0.38533548  0.02513826 -0.293028   -0.23319107  0.8843169\n",
      "  0.61514205 -1.189681    1.3120099   0.49911803 -0.060248    0.5434863\n",
      " -0.26821092  1.2935734  -0.36863634  0.14278814 -0.09635624 -0.03814635\n",
      " -0.12483558 -0.31109205 -0.5967629  -0.41767922  0.87455094  0.20538166]\n"
     ]
    }
   ],
   "source": [
    "mango = nlp(u'mango')\n",
    "print(mango.vector.shape)\n",
    "print(mango.vector)"
   ]
  },
  {
   "cell_type": "markdown",
   "id": "julian-daniel",
   "metadata": {},
   "source": [
    "There’s no way that a human could look at that array and identify it as meaning “mango,” but representing the word this way works well for machines, because it allows us to represent both the word’s meaning and its “proximity” to other similar words using the coordinates in the array."
   ]
  },
  {
   "cell_type": "markdown",
   "id": "polish-cambridge",
   "metadata": {},
   "source": [
    "# Sentiment analysis\n",
    "\n",
    "Sentiment analysis, as fascinating as it is, is not without its flaws. Human language is nuanced and often far from straightforward. Machines might struggle to identify the emotions behind an individual piece of text despite their extensive grasp of past data. Some situations where sentiment analysis might fail are:\n",
    "\n",
    "    Sarcasm, jokes, irony. These things generally don’t follow a fixed set of rules, so they might not be correctly classified by sentiment analytics systems.\n",
    "    Nuance. Words can have multiple meanings and connotations, which are entirely subject to the context they occur in.\n",
    "    Multipolarity. When the given text is positive in some parts and negative in others.\n",
    "    Negation detection. It can be challenging for the machine because the function and the scope of the word ‘not’ in a sentence is not definite; moreover, suffixes and prefixes such as ‘non-,’ ‘dis-,’ ‘-less’ etc. can change the meaning of a text.\n",
    "\n",
    "\n",
    "## Sentiment analysis using Python NLP models\n",
    "####  using pretrained models\n",
    "* textblob\n",
    "\n",
    "* nlkt has vader\n",
    "https://neptune.ai/blog/sentiment-analysis-python-textblob-vs-vader-vs-flair\n",
    "\n",
    "* spacy has also build-in textblob\n",
    "https://spacy.io/universe/project/spacy-textblob"
   ]
  },
  {
   "cell_type": "markdown",
   "id": "numeric-geology",
   "metadata": {},
   "source": [
    "# TextBlob\n",
    "https://textblob.readthedocs.io/en/dev/\n",
    "\n",
    "https://www.quora.com/What-is-polarity-and-subjectivity-in-sentiment-analysis?share=1\n",
    "\n",
    "TextBlob returns polarity and subjectivity of a sentence. Polarity lies between [-1,1], -1 defines a negative sentiment and 1 defines a positive sentiment. Negation words reverse the polarity. TextBlob has semantic labels that help with fine-grained analysis. For example — emoticons, exclamation mark, emojis, etc. Subjectivity lies between [0,1]. Subjectivity quantifies the amount of personal opinion and factual information contained in the text. The higher subjectivity means that the text contains personal opinion rather than factual information. TextBlob has one more parameter — intensity. TextBlob calculates subjectivity by looking at the ‘intensity’. Intensity determines if a word modifies the next word. For English, adverbs are used as modifiers (‘very good’).\n",
    "\n",
    "```\n",
    " Each word in the lexicon has scores for:\n",
    " 1)     polarity: negative vs. positive    (-1.0 => +1.0)\n",
    " 2) subjectivity: objective vs. subjective (+0.0 => +1.0)\n",
    " 3)    intensity: modifies next word?      (x0.5 => x2.0)\n",
    "``` "
   ]
  },
  {
   "cell_type": "markdown",
   "id": "electric-mapping",
   "metadata": {},
   "source": [
    "### TextBlob simple analysis"
   ]
  },
  {
   "cell_type": "code",
   "execution_count": 31,
   "id": "marine-dining",
   "metadata": {},
   "outputs": [
    {
     "ename": "NameError",
     "evalue": "name 'TextBlob' is not defined",
     "output_type": "error",
     "traceback": [
      "\u001b[0;31m---------------------------------------------------------------------------\u001b[0m",
      "\u001b[0;31mNameError\u001b[0m                                 Traceback (most recent call last)",
      "\u001b[0;32m<ipython-input-31-7401e62d52be>\u001b[0m in \u001b[0;36m<module>\u001b[0;34m\u001b[0m\n\u001b[1;32m      1\u001b[0m \u001b[0;31m# we can do a simple things like analysing a single word\u001b[0m\u001b[0;34m\u001b[0m\u001b[0;34m\u001b[0m\u001b[0;34m\u001b[0m\u001b[0m\n\u001b[0;32m----> 2\u001b[0;31m \u001b[0mTextBlob\u001b[0m\u001b[0;34m(\u001b[0m\u001b[0;34m\"great\"\u001b[0m\u001b[0;34m)\u001b[0m\u001b[0;34m.\u001b[0m\u001b[0msentiment\u001b[0m\u001b[0;34m\u001b[0m\u001b[0;34m\u001b[0m\u001b[0m\n\u001b[0m\u001b[1;32m      3\u001b[0m \u001b[0;31m## Sentiment(polarity=0.8, subjectivity=0.75)\u001b[0m\u001b[0;34m\u001b[0m\u001b[0;34m\u001b[0m\u001b[0;34m\u001b[0m\u001b[0m\n",
      "\u001b[0;31mNameError\u001b[0m: name 'TextBlob' is not defined"
     ]
    }
   ],
   "source": [
    "# we can do a simple things like analysing a single word\n",
    "TextBlob(\"great\").sentiment\n",
    "## Sentiment(polarity=0.8, subjectivity=0.75)"
   ]
  },
  {
   "cell_type": "code",
   "execution_count": null,
   "id": "fitted-connectivity",
   "metadata": {},
   "outputs": [],
   "source": [
    "TextBlob(\"not great\").sentiment\n",
    "## Sentiment(polarity=-0.4, subjectivity=0.75)"
   ]
  },
  {
   "cell_type": "code",
   "execution_count": null,
   "id": "considerable-compiler",
   "metadata": {},
   "outputs": [],
   "source": [
    "TextBlob(\"very great\").sentiment\n",
    "## Sentiment(polarity=1.0, subjectivity=0.9750000000000001)"
   ]
  },
  {
   "cell_type": "code",
   "execution_count": null,
   "id": "numerical-antique",
   "metadata": {},
   "outputs": [],
   "source": [
    "res = TextBlob(\"This movie is amazingly directed\")\n",
    "print(res.sentiment.polarity)\n",
    "print(res.sentiment.subjectivity)\n",
    "print(res.sentiment_assessments.assessments)"
   ]
  },
  {
   "cell_type": "markdown",
   "id": "smoking-remains",
   "metadata": {},
   "source": [
    "### TextBlob more advanced analysis"
   ]
  },
  {
   "cell_type": "code",
   "execution_count": null,
   "id": "affected-submission",
   "metadata": {},
   "outputs": [],
   "source": [
    "from textblob import TextBlob\n",
    "\n",
    "test = r\"RT @LondonEconomics: Hi guys I hated the last meeting, it was a complete shit see the video here https://t.co/rnHPgyhx4Z @cienciadedatos #textmining\"\n",
    "#test = r\"RT @LondonEconomics: Hi guys I loved the last meeting, was great, see the video here https://t.co/rnHPgyhx4Z @cienciadedatos #textmining\"\n",
    "\n",
    "text=limpiar_tokenizar(test)\n",
    "\n",
    "res = TextBlob(text)\n",
    "print(res.sentiment.polarity)\n",
    "print(res.sentiment.subjectivity)\n",
    "print(res.sentiment_assessments.assessments)"
   ]
  },
  {
   "cell_type": "code",
   "execution_count": null,
   "id": "rocky-classics",
   "metadata": {},
   "outputs": [],
   "source": [
    "import spacy\n",
    "from spacytextblob.spacytextblob import SpacyTextBlob\n",
    "\n",
    "nlp = spacy.load('en_core_web_sm')\n",
    "nlp.add_pipe('spacytextblob')\n",
    "text = 'I had a really horrible day. It was the worst day ever! But every now and then I have a really good day that makes me happy.'\n",
    "doc = nlp(text)\n",
    "print(doc._.blob.polarity )"
   ]
  },
  {
   "cell_type": "code",
   "execution_count": null,
   "id": "sustained-complex",
   "metadata": {},
   "outputs": [],
   "source": [
    "doc._.blob.polarity                            # Polarity: -0.125\n",
    "doc._.blob.subjectivity                        # Subjectivity: 0.9\n",
    "doc._.blob.sentiment_assessments.assessments   # Assessments: [(['really', 'horrible'], -1.0, 1.0, None), (['worst', '!'], -1.0, 1.0, None), (['really', 'good'], 0.7, 0.6000000000000001, None), (['happy'], 0.8, 1.0, None)]\n",
    "doc._.blob.ngrams()  "
   ]
  },
  {
   "cell_type": "code",
   "execution_count": null,
   "id": "polyphonic-racing",
   "metadata": {},
   "outputs": [],
   "source": [
    "from transformers import pipeline\n",
    "sentiment_pipeline = pipeline(\"sentiment-analysis\")\n",
    "data = [\"I love you\", \"I hate you\"]\n",
    "sentiment_pipeline(data)"
   ]
  },
  {
   "cell_type": "markdown",
   "id": "naval-violation",
   "metadata": {},
   "source": [
    "# Sentiments in Spanish... ?\n",
    "https://huggingface.co/finiteautomata/beto-sentiment-analysis"
   ]
  },
  {
   "cell_type": "markdown",
   "id": "copyrighted-insured",
   "metadata": {},
   "source": [
    "#### sentiment-analysis-spanish\n",
    "https://pypi.org/project/sentiment-analysis-spanish/"
   ]
  },
  {
   "cell_type": "markdown",
   "id": "preliminary-directory",
   "metadata": {},
   "source": [
    "The function sentiment(text) returns a number between 0 and 1. This is the probability of string variable text of being \"positive\". Low probabilities mean that the text is negative (numbers close to 0), high probabilities (numbers close to 1) mean that the text is positive. The space in between corespond to neutral texts."
   ]
  },
  {
   "cell_type": "code",
   "execution_count": null,
   "id": "hydraulic-supervision",
   "metadata": {},
   "outputs": [],
   "source": [
    "from sentiment_analysis_spanish import sentiment_analysis\n",
    "sentiment = sentiment_analysis.SentimentAnalysisSpanish()\n",
    "print(sentiment.sentiment(\"me gusta la tombola es genial\"))"
   ]
  },
  {
   "cell_type": "code",
   "execution_count": null,
   "id": "rocky-addiction",
   "metadata": {},
   "outputs": [],
   "source": [
    "sentiment = sentiment_analysis.SentimentAnalysisSpanish()\n",
    "print(sentiment.sentiment(\"me parece terrible esto que me estás diciendo\"))"
   ]
  },
  {
   "cell_type": "code",
   "execution_count": null,
   "id": "growing-brain",
   "metadata": {},
   "outputs": [],
   "source": []
  }
 ],
 "metadata": {
  "kernelspec": {
   "display_name": "Python 3",
   "language": "python",
   "name": "python3"
  },
  "language_info": {
   "codemirror_mode": {
    "name": "ipython",
    "version": 3
   },
   "file_extension": ".py",
   "mimetype": "text/x-python",
   "name": "python",
   "nbconvert_exporter": "python",
   "pygments_lexer": "ipython3",
   "version": "3.7.2"
  }
 },
 "nbformat": 4,
 "nbformat_minor": 5
}
