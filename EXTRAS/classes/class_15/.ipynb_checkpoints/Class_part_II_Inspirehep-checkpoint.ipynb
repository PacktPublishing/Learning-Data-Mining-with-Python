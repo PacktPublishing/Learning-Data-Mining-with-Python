{
 "cells": [
  {
   "cell_type": "markdown",
   "metadata": {
    "tags": []
   },
   "source": [
    "# lets look at the website: `www.inspirehep.net` which is for the  High Energy Physics Community\n",
    "\n",
    "  * inspirehep.net\n",
    "  * inspirehep.net/api\n",
    "  * we can access the data of the website using standard HTML way or API:"
   ]
  },
  {
   "cell_type": "markdown",
   "metadata": {},
   "source": [
    "* go to https://inspirehep.net\n",
    "* if your in literature section type: laser and `enter`\n",
    "* copy link the link and paste it to new tab\n",
    "* add `api` between: `https://inspirehep.net/api/.......`"
   ]
  },
  {
   "cell_type": "code",
   "execution_count": 2,
   "metadata": {
    "id": "Ro0n_APROG4i",
    "tags": []
   },
   "outputs": [],
   "source": [
    "c='Austria'"
   ]
  },
  {
   "cell_type": "code",
   "execution_count": 3,
   "metadata": {
    "id": "zb33N224OK4i"
   },
   "outputs": [],
   "source": [
    "import requests"
   ]
  },
  {
   "cell_type": "code",
   "execution_count": 4,
   "metadata": {
    "id": "qmhfuEW4OMRy"
   },
   "outputs": [],
   "source": [
    "institution_link=requests.get('https://inspirehep.net/api/institutions?q=Austria')"
   ]
  },
  {
   "cell_type": "markdown",
   "metadata": {},
   "source": [
    "Paste this into Firefox:\n",
    "\n",
    "* in one tab: https://inspirehep.net/api/institutions?q=Austria\n",
    "* in the second tab: https://inspirehep.net/institutions?q=Austria\n",
    "\n",
    "And understand that the web is just reading the JSON file!!!"
   ]
  },
  {
   "cell_type": "code",
   "execution_count": 5,
   "metadata": {
    "colab": {
     "base_uri": "https://localhost:8080/"
    },
    "id": "03js1VY7Pwl5",
    "outputId": "6e336ab2-bd0e-404f-bf70-b6af8334d784"
   },
   "outputs": [
    {
     "data": {
      "text/plain": [
       "200"
      ]
     },
     "execution_count": 5,
     "metadata": {},
     "output_type": "execute_result"
    }
   ],
   "source": [
    "institution_link.status_code"
   ]
  },
  {
   "cell_type": "code",
   "execution_count": 6,
   "metadata": {
    "id": "ht2J9LOrQCaC"
   },
   "outputs": [
    {
     "data": {
      "text/plain": [
       "{'hits': [{'id': '912282',\n",
       "   'updated': '2021-06-25T15:56:02.412237+00:00',\n",
       "   'links': {'json': 'https://inspirehep.net/api/institutions/912282?format=json'},\n",
       "   'metadata': {'addresses': [{'country_code': 'AT',\n",
       "      'postal_address': ['Austria'],\n",
       "      'country': 'Austria'}],\n",
       "    'number_of_papers': 147,\n",
       "    'self': {'$ref': 'https://inspirehep.net/api/institutions/912282'},\n",
       "    '$schema': 'https://inspirehep.net/schemas/records/institutions.json',\n",
       "    'legacy_ICN': 'Unlisted, AT',\n",
       "    'control_number': 912282,\n",
       "    'legacy_version': '20130819034837.0',\n",
       "    'legacy_creation_date': '2010-07-09',\n",
       "    'external_system_identifiers': [{'value': 'INST-113433',\n",
       "      'schema': 'SPIRES'}]},\n",
       "   'created': '2010-07-09T00:00:00+00:00'},\n",
       "  {'id': '906322',\n",
       "   'updated': '2021-06-25T22:08:17.801006+00:00',\n",
       "   'links': {'json': 'https://inspirehep.net/api/institutions/906322?format=json'},\n",
       "   'metadata': {'addresses': [{'cities': ['Weiz'],\n",
       "      'country_code': 'AT',\n",
       "      'postal_address': ['ELIN Energieanwendung GMBH', 'A-8160 Weiz, Austria'],\n",
       "      'country': 'Austria'}],\n",
       "    'number_of_papers': 5,\n",
       "    'self': {'$ref': 'https://inspirehep.net/api/institutions/906322'},\n",
       "    '$schema': 'https://inspirehep.net/schemas/records/institutions.json',\n",
       "    'legacy_ICN': 'ELIN, Weiz',\n",
       "    'control_number': 906322,\n",
       "    'legacy_version': '20130819034309.0',\n",
       "    'legacy_creation_date': '1993-04-02',\n",
       "    'external_system_identifiers': [{'value': 'INST-45730',\n",
       "      'schema': 'SPIRES'}]},\n",
       "   'created': '1993-04-02T00:00:00+00:00'},\n",
       "  {'id': '904184',\n",
       "   'updated': '2021-06-25T15:56:57.856641+00:00',\n",
       "   'links': {'json': 'https://inspirehep.net/api/institutions/904184?format=json'},\n",
       "   'metadata': {'addresses': [{'cities': ['Seibersdorf'],\n",
       "      'country_code': 'AT',\n",
       "      'postal_address': ['Austrian Research Center',\n",
       "       'Seibersdorf LTD.',\n",
       "       'A-2444 Seibersdorf AUSTRIA'],\n",
       "      'country': 'Austria'}],\n",
       "    'number_of_papers': 35,\n",
       "    'self': {'$ref': 'https://inspirehep.net/api/institutions/904184'},\n",
       "    '$schema': 'https://inspirehep.net/schemas/records/institutions.json',\n",
       "    'legacy_ICN': 'Seibersdorf, Reaktorzentrum',\n",
       "    'extra_words': ['Physics Institute, Research Center',\n",
       "     'Res. Ctr.',\n",
       "     'limited',\n",
       "     'centre',\n",
       "     'phys',\n",
       "     'inst'],\n",
       "    'control_number': 904184,\n",
       "    'legacy_version': '20161012160116.0',\n",
       "    'legacy_creation_date': '1989-07-27',\n",
       "    'external_system_identifiers': [{'value': 'INST-20001',\n",
       "      'schema': 'SPIRES'}]},\n",
       "   'created': '1989-07-27T00:00:00+00:00'},\n",
       "  {'id': '906854',\n",
       "   'updated': '2021-06-26T01:17:56.924487+00:00',\n",
       "   'links': {'json': 'https://inspirehep.net/api/institutions/906854?format=json'},\n",
       "   'metadata': {'addresses': [{'cities': ['Graz'],\n",
       "      'country_code': 'AT',\n",
       "      'postal_address': ['Joanneum Research',\n",
       "       'Anstalt fur Tieftemperaturforschung',\n",
       "       'A-8010 Graz, Austria'],\n",
       "      'country': 'Austria'}],\n",
       "    'number_of_papers': 5,\n",
       "    'self': {'$ref': 'https://inspirehep.net/api/institutions/906854'},\n",
       "    '$schema': 'https://inspirehep.net/schemas/records/institutions.json',\n",
       "    'legacy_ICN': 'Joanneum Research, Graz',\n",
       "    'control_number': 906854,\n",
       "    'legacy_version': '20130819034355.0',\n",
       "    'legacy_creation_date': '1995-04-25',\n",
       "    'external_system_identifiers': [{'value': 'INST-51560',\n",
       "      'schema': 'SPIRES'}]},\n",
       "   'created': '1995-04-25T00:00:00+00:00'},\n",
       "  {'id': '911923',\n",
       "   'updated': '2021-06-25T15:55:58.007146+00:00',\n",
       "   'links': {'json': 'https://inspirehep.net/api/institutions/911923?format=json'},\n",
       "   'metadata': {'addresses': [{'cities': ['Seibersdorf'],\n",
       "      'country_code': 'AT',\n",
       "      'postal_address': ['Austrian Inst. of Technology GmbH',\n",
       "       'A-2444 Seibersdorf, Austria'],\n",
       "      'country': 'Austria'}],\n",
       "    'number_of_papers': 7,\n",
       "    'self': {'$ref': 'https://inspirehep.net/api/institutions/911923'},\n",
       "    'urls': [{'value': 'http://www.ait.ac.at/'}],\n",
       "    '$schema': 'https://inspirehep.net/schemas/records/institutions.json',\n",
       "    'legacy_ICN': 'Austrian Inst. Tech., Seibersdorf',\n",
       "    'extra_words': ['AIT', 'Institute, Technol'],\n",
       "    'control_number': 911923,\n",
       "    'legacy_version': '20161012160533.0',\n",
       "    'legacy_creation_date': '2010-03-08',\n",
       "    'external_system_identifiers': [{'value': 'INST-108740',\n",
       "      'schema': 'SPIRES'}]},\n",
       "   'created': '2010-03-08T00:00:00+00:00'},\n",
       "  {'id': '2137098',\n",
       "   'updated': '2022-08-18T09:31:43.447818+00:00',\n",
       "   'links': {'json': 'https://inspirehep.net/api/institutions/2137098?format=json'},\n",
       "   'metadata': {'addresses': [{'cities': ['Wiener Neustadt'],\n",
       "      'postal_code': '2700',\n",
       "      'country_code': 'AT',\n",
       "      'postal_address': ['Marie Curie-Strasse 5'],\n",
       "      'country': 'Austria'}],\n",
       "    'number_of_papers': 1,\n",
       "    'ICN': ['MedAustron'],\n",
       "    'self': {'$ref': 'https://inspirehep.net/api/institutions/2137098'},\n",
       "    'urls': [{'value': 'https://www.medaustron.at/'}],\n",
       "    '$schema': 'https://inspirehep.net/api/schemas/records/institutions.json',\n",
       "    'legacy_ICN': 'MedAustron',\n",
       "    'control_number': 2137098,\n",
       "    'institution_type': ['Research Center'],\n",
       "    'external_system_identifiers': [{'value': 'https://ror.org/056nqp360',\n",
       "      'schema': 'ROR'}]},\n",
       "   'created': '2022-08-18T09:27:25.897794+00:00'},\n",
       "  {'id': '904725',\n",
       "   'updated': '2021-06-26T06:29:29.643214+00:00',\n",
       "   'links': {'json': 'https://inspirehep.net/api/institutions/904725?format=json'},\n",
       "   'metadata': {'addresses': [{'cities': ['Graz'],\n",
       "      'country_code': 'AT',\n",
       "      'postal_address': ['Tech. Univ. Graz',\n",
       "       'Inst. fur Theor. Physik',\n",
       "       'PetersGasse 16',\n",
       "       'A-8010 Graz, AUSTRIA'],\n",
       "      'country': 'Austria'}],\n",
       "    'number_of_papers': 108,\n",
       "    'self': {'$ref': 'https://inspirehep.net/api/institutions/904725'},\n",
       "    'urls': [{'value': 'http://www.tugraz.at/'}],\n",
       "    '$schema': 'https://inspirehep.net/schemas/records/institutions.json',\n",
       "    'legacy_ICN': 'Graz, Tech. U.',\n",
       "    'extra_words': ['TUG, Erzherzog-Johann Univ.',\n",
       "     'Universitaet, University',\n",
       "     'institute',\n",
       "     'physics',\n",
       "     'phys',\n",
       "     'TUG/ITP'],\n",
       "    'control_number': 904725,\n",
       "    'legacy_version': '20161012160126.0',\n",
       "    'institution_type': ['University'],\n",
       "    'legacy_creation_date': '1989-07-27',\n",
       "    'external_system_identifiers': [{'value': 'INST-27162',\n",
       "      'schema': 'SPIRES'}]},\n",
       "   'created': '1989-07-27T00:00:00+00:00'},\n",
       "  {'id': '1241079',\n",
       "   'updated': '2021-06-26T05:17:33.053206+00:00',\n",
       "   'links': {'json': 'https://inspirehep.net/api/institutions/1241079?format=json'},\n",
       "   'metadata': {'addresses': [{'cities': ['Vienna'],\n",
       "      'latitude': 48.2248956,\n",
       "      'longitude': 16.356965,\n",
       "      'country_code': 'AT',\n",
       "      'postal_address': ['European Centre for Parallel Computing',\n",
       "       'Nordbergstrasse 15/C/3',\n",
       "       'A-1090 Vienna, Austria'],\n",
       "      'country': 'Austria'}],\n",
       "    'number_of_papers': 0,\n",
       "    'self': {'$ref': 'https://inspirehep.net/api/institutions/1241079'},\n",
       "    'urls': [{'value': 'http://www.vcpc.univie.ac.at/'}],\n",
       "    '$schema': 'https://inspirehep.net/schemas/records/institutions.json',\n",
       "    'legacy_ICN': 'VCPC, Vienna',\n",
       "    'extra_words': ['Ctr., Center, Comput.'],\n",
       "    'control_number': 1241079,\n",
       "    'legacy_version': '20161019033501.0',\n",
       "    'legacy_creation_date': '2005-05-31',\n",
       "    'external_system_identifiers': [{'value': 'INST-90433',\n",
       "      'schema': 'SPIRES'}]},\n",
       "   'created': '2005-05-31T00:00:00+00:00'},\n",
       "  {'id': '903791',\n",
       "   'updated': '2021-06-26T04:27:20.571514+00:00',\n",
       "   'links': {'json': 'https://inspirehep.net/api/institutions/903791?format=json'},\n",
       "   'metadata': {'addresses': [{'cities': ['Vienna'],\n",
       "      'country_code': 'AT',\n",
       "      'postal_address': ['Inst. fur Radiumforschung',\n",
       "       'und Kernphysik',\n",
       "       'Boltzmanngasse 3',\n",
       "       'A-1090 Vienna, Austria'],\n",
       "      'country': 'Austria'}],\n",
       "    'number_of_papers': 9,\n",
       "    'self': {'$ref': 'https://inspirehep.net/api/institutions/903791'},\n",
       "    '$schema': 'https://inspirehep.net/schemas/records/institutions.json',\n",
       "    'inactive': True,\n",
       "    'legacy_ICN': 'Vienna, Inst. Radium. Kernphys.',\n",
       "    'extra_words': ['Institut fur Radiumforschung und K',\n",
       "     'Wien',\n",
       "     'Stefan Meyer Institut fur subatoma',\n",
       "     'institute'],\n",
       "    'control_number': 903791,\n",
       "    'legacy_version': '20161012160107.0',\n",
       "    'legacy_creation_date': '1994-08-11',\n",
       "    'external_system_identifiers': [{'value': 'INST-15490',\n",
       "      'schema': 'SPIRES'}]},\n",
       "   'created': '1994-08-11T00:00:00+00:00'},\n",
       "  {'id': '908873',\n",
       "   'updated': '2021-06-26T01:21:01.312343+00:00',\n",
       "   'links': {'json': 'https://inspirehep.net/api/institutions/908873?format=json'},\n",
       "   'metadata': {'addresses': [{'cities': ['Wiender Neustadt'],\n",
       "      'country_code': 'AT',\n",
       "      'postal_address': ['Fachhochschule fur Wirtschaft und',\n",
       "       'Technik',\n",
       "       'Johann Gutenberg Strasse 3',\n",
       "       'A-2700 Wiener Neustadt',\n",
       "       'AUSTRIA'],\n",
       "      'country': 'Austria'}],\n",
       "    'number_of_papers': 90,\n",
       "    'self': {'$ref': 'https://inspirehep.net/api/institutions/908873'},\n",
       "    'urls': [{'value': 'http://www.fhwn.ac.at/'}],\n",
       "    '$schema': 'https://inspirehep.net/schemas/records/institutions.json',\n",
       "    'legacy_ICN': 'Fachhochsch., Wiener Neustadt',\n",
       "    'control_number': 908873,\n",
       "    'legacy_version': '20130819034638.0',\n",
       "    'legacy_creation_date': '2002-08-05',\n",
       "    'external_system_identifiers': [{'value': 'INST-75442',\n",
       "      'schema': 'SPIRES'}]},\n",
       "   'created': '2002-08-05T00:00:00+00:00'}],\n",
       " 'total': 44}"
      ]
     },
     "execution_count": 6,
     "metadata": {},
     "output_type": "execute_result"
    }
   ],
   "source": [
    "institution_link.json().get('hits')"
   ]
  },
  {
   "cell_type": "code",
   "execution_count": 17,
   "metadata": {},
   "outputs": [],
   "source": [
    "#institution_link.json().get('hits').get('hits')\n",
    "# the output is very long, try yourself"
   ]
  },
  {
   "cell_type": "code",
   "execution_count": 8,
   "metadata": {},
   "outputs": [
    {
     "name": "stdout",
     "output_type": "stream",
     "text": [
      "Unlisted, AT\n",
      "ELIN, Weiz\n",
      "Seibersdorf, Reaktorzentrum\n",
      "Joanneum Research, Graz\n",
      "Austrian Inst. Tech., Seibersdorf\n",
      "MedAustron\n",
      "Graz, Tech. U.\n",
      "VCPC, Vienna\n",
      "Vienna, Inst. Radium. Kernphys.\n",
      "Fachhochsch., Wiener Neustadt\n"
     ]
    }
   ],
   "source": [
    "for institution in institution_link.json().get('hits').get('hits'):\n",
    "    print(institution.get('metadata').get('legacy_ICN'))"
   ]
  },
  {
   "cell_type": "markdown",
   "metadata": {},
   "source": [
    "#### better list comprehension"
   ]
  },
  {
   "cell_type": "code",
   "execution_count": 9,
   "metadata": {
    "colab": {
     "base_uri": "https://localhost:8080/"
    },
    "id": "CwCD4ZfNPzDA",
    "outputId": "ea325faa-0d19-4579-85f9-cba32b4ff2ce"
   },
   "outputs": [
    {
     "data": {
      "text/plain": [
       "['Unlisted, AT',\n",
       " 'ELIN, Weiz',\n",
       " 'Seibersdorf, Reaktorzentrum',\n",
       " 'Joanneum Research, Graz',\n",
       " 'Austrian Inst. Tech., Seibersdorf',\n",
       " 'MedAustron',\n",
       " 'Graz, Tech. U.',\n",
       " 'VCPC, Vienna',\n",
       " 'Vienna, Inst. Radium. Kernphys.',\n",
       " 'Fachhochsch., Wiener Neustadt']"
      ]
     },
     "execution_count": 9,
     "metadata": {},
     "output_type": "execute_result"
    }
   ],
   "source": [
    "[institution.get('metadata').get('legacy_ICN') for institution in institution_link.json().get('hits').get('hits')]"
   ]
  },
  {
   "cell_type": "code",
   "execution_count": 10,
   "metadata": {
    "colab": {
     "base_uri": "https://localhost:8080/"
    },
    "id": "KoCSv6q9P1Ch",
    "outputId": "f444ec56-427a-4b2a-ae8e-f6b522979d1d"
   },
   "outputs": [
    {
     "data": {
      "text/plain": [
       "{'id': '2137098',\n",
       " 'updated': '2022-08-18T09:31:43.447818+00:00',\n",
       " 'links': {'json': 'https://inspirehep.net/api/institutions/2137098?format=json'},\n",
       " 'metadata': {'addresses': [{'cities': ['Wiener Neustadt'],\n",
       "    'postal_code': '2700',\n",
       "    'country_code': 'AT',\n",
       "    'postal_address': ['Marie Curie-Strasse 5'],\n",
       "    'country': 'Austria'}],\n",
       "  'number_of_papers': 1,\n",
       "  'ICN': ['MedAustron'],\n",
       "  'self': {'$ref': 'https://inspirehep.net/api/institutions/2137098'},\n",
       "  'urls': [{'value': 'https://www.medaustron.at/'}],\n",
       "  '$schema': 'https://inspirehep.net/api/schemas/records/institutions.json',\n",
       "  'legacy_ICN': 'MedAustron',\n",
       "  'control_number': 2137098,\n",
       "  'institution_type': ['Research Center'],\n",
       "  'external_system_identifiers': [{'value': 'https://ror.org/056nqp360',\n",
       "    'schema': 'ROR'}]},\n",
       " 'created': '2022-08-18T09:27:25.897794+00:00'}"
      ]
     },
     "execution_count": 10,
     "metadata": {},
     "output_type": "execute_result"
    }
   ],
   "source": [
    "institution_link.json().get('hits').get('hits')[5]"
   ]
  },
  {
   "cell_type": "code",
   "execution_count": 11,
   "metadata": {
    "id": "A_T5Gg-dQsBR"
   },
   "outputs": [],
   "source": [
    "legacy_ICN=[d.get('metadata').get('legacy_ICN') for d in institution_link.json().get('hits').get('hits')][2]"
   ]
  },
  {
   "cell_type": "code",
   "execution_count": 12,
   "metadata": {
    "colab": {
     "base_uri": "https://localhost:8080/",
     "height": 35
    },
    "id": "vmKfqoHsTVPR",
    "outputId": "bfb77117-f706-43e3-a934-7a022981e30e"
   },
   "outputs": [
    {
     "data": {
      "text/plain": [
       "'Seibersdorf, Reaktorzentrum'"
      ]
     },
     "execution_count": 12,
     "metadata": {},
     "output_type": "execute_result"
    }
   ],
   "source": [
    "legacy_ICN"
   ]
  },
  {
   "cell_type": "markdown",
   "metadata": {},
   "source": [
    "# Now we can use this field `legacy_ICN` to construct another link!!! that will take us to the literature part of the depository\n",
    "*below we add some extra paremeters like: list only documents that have betwee 1 and 10 authors"
   ]
  },
  {
   "cell_type": "code",
   "execution_count": 13,
   "metadata": {
    "colab": {
     "base_uri": "https://localhost:8080/",
     "height": 35
    },
    "id": "lxacrwVTQ2Mi",
    "outputId": "696ccc83-555b-4cf6-fde2-092d3ea1e275"
   },
   "outputs": [
    {
     "data": {
      "text/plain": [
       "'https://inspirehep.net/api/literature?sort=mostrecent&page=1&q=aff+Seibersdorf,+Reaktorzentrum+and+ac+1->+10'"
      ]
     },
     "execution_count": 13,
     "metadata": {},
     "output_type": "execute_result"
    }
   ],
   "source": [
    "literature_link=f\"https://inspirehep.net/api/literature?sort=mostrecent&page=1&q=aff+{legacy_ICN.replace(' ','+')}+and+ac+1->+10\"\n",
    "literature_link"
   ]
  },
  {
   "cell_type": "code",
   "execution_count": 14,
   "metadata": {
    "id": "7-gOLVnURat5"
   },
   "outputs": [],
   "source": [
    "literature_link=requests.get(literature_link)"
   ]
  },
  {
   "cell_type": "code",
   "execution_count": 15,
   "metadata": {
    "colab": {
     "base_uri": "https://localhost:8080/"
    },
    "id": "ettBfhVHRjJ6",
    "outputId": "5e5ccb4a-b92c-4d40-df02-17040109d860"
   },
   "outputs": [
    {
     "data": {
      "text/plain": [
       "200"
      ]
     },
     "execution_count": 15,
     "metadata": {},
     "output_type": "execute_result"
    }
   ],
   "source": [
    "literature_link.status_code"
   ]
  },
  {
   "cell_type": "code",
   "execution_count": 18,
   "metadata": {},
   "outputs": [],
   "source": [
    "#literature_link.json().get('hits').get('hits')\n",
    "# the output is very long, try yourself"
   ]
  },
  {
   "cell_type": "markdown",
   "metadata": {},
   "source": [
    "# From the last JSON we can get link to the author!!! and extract his private information: \n",
    "\n",
    "```\n",
    "'authors': [{'raw_affiliations': [{'value': 'Austrian Academy of Sciences (AT)'}],\n",
    "     'full_name_unicode_normalized': 'hoch, michael',\n",
    "     'full_name': 'Hoch, Michael',\n",
    "     'record': {'$ref': 'https://inspirehep.net/api/authors/1005850'},\n",
    "```     \n",
    "\n",
    "\n",
    "and following that link we can get authors data like address, telephone number or email"
   ]
  },
  {
   "cell_type": "code",
   "execution_count": null,
   "metadata": {},
   "outputs": [],
   "source": []
  },
  {
   "cell_type": "markdown",
   "metadata": {},
   "source": [
    "# HOMEWORK"
   ]
  },
  {
   "cell_type": "markdown",
   "metadata": {},
   "source": [
    "1)  En un notebook de jupyter desarrolle los siguientes pasos\n",
    "\n",
    "```\n",
    "Descargue el JSON con la lista de paises del siguiente link:\n",
    "https://datahub.io/core/country-list/r/data.json\n",
    "y escoja aleatoriamente un país de Europa \n",
    "(Ejemplo que es abajo usa Colombia pero con pais de europa es mas facil)\n",
    "\n",
    "Use los diferentes API endpoints de inspire-hep \n",
    "https://inspirehep.net/ \n",
    "\n",
    "Para extraer la lista de investigadores de una institución de ese país  en esa base de datos. \n",
    "\n",
    "\n",
    "Para ello:\n",
    "\n",
    "A) Use el API de institutions para extraer la lista de instituciones del país, por ejemplo: colombia (mejor si es Europa, por completo de datos )\n",
    "https://inspirehep.net/api/institutions?q=colombia\n",
    "\n",
    "\n",
    "Para la primera institución con\n",
    "\n",
    "number_of_papers > 0\n",
    "\n",
    "\n",
    "Obtenga el valor\n",
    "\n",
    "legacy_ICN:\n",
    "\n",
    "\n",
    "Por ejemplo: \n",
    "Colombia, U. Natl.\n",
    "\n",
    "\n",
    "Si ninguna institución satisface la condición number_of_papers > 0, escoja de nuevo otro país aleatorio y repita el proceso\n",
    "\n",
    "B) Con el API de literatura obtenga el JSON con los artículos de menos de 10 autores usando el \"legacy_ICN\" de la siguiente manera\n",
    "\n",
    "https://inspirehep.net/api/literature?sort=mostrecent&page=1&q=aff+Colombia,+U.+Natl.+and+ac+1->+10\n",
    "\n",
    "\n",
    "aff: usa el valor de legacy_ICN\n",
    "and: es un operador lógico\n",
    "ac: establece los autores entre 1 y 10\n",
    "\n",
    "C) Para al menos un artículo de esa institución, extraiga el URL del perfil de cada autor de esa institución que se encuentra dentro del campo \"authors\" en \"record\" y luego en \"$ref\". Por ejemplo\n",
    "\n",
    "https://inspirehep.net/api/authors/1010271\n",
    "\n",
    "\n",
    "D) Con cada uno de los datos del resultado del API para cada perfil construya una tabla con los siguientes columnas (puede que alguno de los datos no esté disponible): \n",
    "Nombre Completo\n",
    "Correo electrónico\n",
    "posición más reciente (la primera  que aparece en la lista \"positions\" del JSON) con su correspondiente:\n",
    "rango \n",
    "institución \n",
    "fecha de inicio \n",
    "fecha de finalización\n",
    "```"
   ]
  },
  {
   "cell_type": "code",
   "execution_count": null,
   "metadata": {},
   "outputs": [],
   "source": []
  },
  {
   "cell_type": "code",
   "execution_count": null,
   "metadata": {},
   "outputs": [],
   "source": []
  }
 ],
 "metadata": {
  "colab": {
   "provenance": []
  },
  "kernelspec": {
   "display_name": "Python 3",
   "language": "python",
   "name": "python3"
  },
  "language_info": {
   "codemirror_mode": {
    "name": "ipython",
    "version": 3
   },
   "file_extension": ".py",
   "mimetype": "text/x-python",
   "name": "python",
   "nbconvert_exporter": "python",
   "pygments_lexer": "ipython3",
   "version": "3.7.2"
  }
 },
 "nbformat": 4,
 "nbformat_minor": 4
}
