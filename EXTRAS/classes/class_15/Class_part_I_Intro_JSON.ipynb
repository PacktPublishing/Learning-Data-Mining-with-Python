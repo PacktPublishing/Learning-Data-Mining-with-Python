{
 "cells": [
  {
   "cell_type": "markdown",
   "id": "0f9e04f9-50ed-4719-a50b-c5c80f27dd2a",
   "metadata": {},
   "source": [
    "* who is good in writing projects?\n",
    "* alarms predicting project - presentations"
   ]
  },
  {
   "cell_type": "markdown",
   "id": "failing-reunion",
   "metadata": {},
   "source": [
    "# We are left with three topics:\n",
    "* JSON file: 1 class (cool stuff)\n",
    "* reading PDFs: 1 class (cool stuff)\n",
    "* parallel computing: 1 class (very cool stuff) (MAP-REDUCE)"
   ]
  },
  {
   "cell_type": "markdown",
   "id": "38540664-8be1-473b-92b3-d90de330a8fd",
   "metadata": {
    "tags": []
   },
   "source": [
    " # Introduction to Json files"
   ]
  },
  {
   "cell_type": "markdown",
   "id": "e00f3cc8-96ae-4bdc-8863-9bff867db324",
   "metadata": {},
   "source": [
    "JSON set new standards for data storage and organization - its a new programming paradygm that every data scientist must know."
   ]
  },
  {
   "cell_type": "markdown",
   "id": "experienced-tractor",
   "metadata": {},
   "source": [
    "JSON stands for ‘JavaScript Object Notation’, as it was derived from the JavaScript programming language.\n",
    "\n",
    "It's a predictable, open-standard, language-independent format in which we exchange information with servers. Obviously, this makes using JSON beneficial for everyone involved. That's why the JSON format became widely popular. For instance, as we already mentioned, when we send a request to an API, data is often returned as a JSON. Another example is the payload data of a POST request which is also written in JSON.\n",
    "\n",
    "The JSON format relies on 3 key concepts:\n",
    "\n",
    "*    it should be easy for humans to read, write and understand;\n",
    "*    easy for programs to process and generate, regardless of the programming language;\n",
    "*    and, finally: written in plain text.\n"
   ]
  },
  {
   "cell_type": "markdown",
   "id": "worldwide-china",
   "metadata": {},
   "source": [
    "The usefulness of JSON lies in the fact that \n",
    "* it's versatile and relatively concise. \n",
    "* it's faster than other similar file formats, \n",
    "* widely used for web-related applications, making it easy to find mature programming libraries for it. \n",
    "* JSON is very intuitive, and many text editors have built-in functionality for viewing such files in an easy-to-read way. \n",
    "* it's easy to create and edit JSON files yourself using a text editor, while programmatically, it's a walk in the park. "
   ]
  },
  {
   "cell_type": "markdown",
   "id": "collaborative-battle",
   "metadata": {},
   "source": [
    "# The structure of a JSON object is as follows:\n",
    "\n",
    "*    The data are in name/value pairs using colons (remember python dictionaries?):.\n",
    "*    Data objects are separated by commas.\n",
    "*    Curly braces {} hold the objects.\n",
    "*    Square brackets [] can be used to indicate an array that contains a group of objects.\n",
    "*    Each data element is enclosed with quotes \"\" if it is a character, or without quotes if it is a numeric value."
   ]
  },
  {
   "cell_type": "markdown",
   "id": "worthy-november",
   "metadata": {},
   "source": [
    "# JSON Data Structures\n",
    "\n",
    "JSON can store any of the following data types:\n",
    "\n",
    "*    strings\n",
    "*    numbers\n",
    "*    objects (JSON object)\n",
    "*    arrays\n",
    "*    booleans (TRUE / FALSE)\n",
    "*    null"
   ]
  },
  {
   "cell_type": "markdown",
   "id": "fantastic-logan",
   "metadata": {},
   "source": [
    "# Niveles do complexidad de objetos:\n",
    "* lets imagine Excel table:"
   ]
  },
  {
   "cell_type": "markdown",
   "id": "finite-drunk",
   "metadata": {},
   "source": [
    "#### List - two empty columns"
   ]
  },
  {
   "cell_type": "code",
   "execution_count": 84,
   "id": "dress-shock",
   "metadata": {},
   "outputs": [
    {
     "data": {
      "text/plain": [
       "['A', 'B']"
      ]
     },
     "execution_count": 84,
     "metadata": {},
     "output_type": "execute_result"
    }
   ],
   "source": [
    "['A','B']"
   ]
  },
  {
   "cell_type": "markdown",
   "id": "superior-aaron",
   "metadata": {},
   "source": [
    "#### Dictionary - two columns with two values"
   ]
  },
  {
   "cell_type": "code",
   "execution_count": 90,
   "id": "strategic-order",
   "metadata": {},
   "outputs": [
    {
     "data": {
      "text/plain": [
       "{'A': 1, 'B': 2}"
      ]
     },
     "execution_count": 90,
     "metadata": {},
     "output_type": "execute_result"
    }
   ],
   "source": [
    "{'A':1,'B':2}"
   ]
  },
  {
   "cell_type": "markdown",
   "id": "threatened-tribe",
   "metadata": {},
   "source": [
    "#### List of dictionaries - two columns with two rows"
   ]
  },
  {
   "cell_type": "code",
   "execution_count": 92,
   "id": "protected-backup",
   "metadata": {},
   "outputs": [
    {
     "data": {
      "text/plain": [
       "[{'A': 1, 'B': 2}, {'A': 3, 'B': 4}]"
      ]
     },
     "execution_count": 92,
     "metadata": {},
     "output_type": "execute_result"
    }
   ],
   "source": [
    "# imagine two columns with two rows\n",
    "[{'A':1,'B':2},\n",
    " {'A':3,'B':4}\n",
    "]"
   ]
  },
  {
   "cell_type": "code",
   "execution_count": 96,
   "id": "chicken-economics",
   "metadata": {},
   "outputs": [
    {
     "data": {
      "text/html": [
       "<div>\n",
       "<style scoped>\n",
       "    .dataframe tbody tr th:only-of-type {\n",
       "        vertical-align: middle;\n",
       "    }\n",
       "\n",
       "    .dataframe tbody tr th {\n",
       "        vertical-align: top;\n",
       "    }\n",
       "\n",
       "    .dataframe thead th {\n",
       "        text-align: right;\n",
       "    }\n",
       "</style>\n",
       "<table border=\"1\" class=\"dataframe\">\n",
       "  <thead>\n",
       "    <tr style=\"text-align: right;\">\n",
       "      <th></th>\n",
       "      <th>A</th>\n",
       "      <th>B</th>\n",
       "    </tr>\n",
       "  </thead>\n",
       "  <tbody>\n",
       "    <tr>\n",
       "      <th>0</th>\n",
       "      <td>1</td>\n",
       "      <td>2</td>\n",
       "    </tr>\n",
       "    <tr>\n",
       "      <th>1</th>\n",
       "      <td>3</td>\n",
       "      <td>4</td>\n",
       "    </tr>\n",
       "  </tbody>\n",
       "</table>\n",
       "</div>"
      ],
      "text/plain": [
       "   A  B\n",
       "0  1  2\n",
       "1  3  4"
      ]
     },
     "execution_count": 96,
     "metadata": {},
     "output_type": "execute_result"
    }
   ],
   "source": [
    "import pandas as pd\n",
    "df=pd.DataFrame([{'A':1,'B':2}, {'A':3,'B':4}])\n",
    "df"
   ]
  },
  {
   "cell_type": "markdown",
   "id": "580e28ff-5a95-4be4-882f-fce086b5b2c4",
   "metadata": {},
   "source": [
    "Netsted list of dictionaries:"
   ]
  },
  {
   "cell_type": "code",
   "execution_count": 97,
   "id": "a381d2ab-e57a-4311-8957-b536361b117c",
   "metadata": {},
   "outputs": [
    {
     "data": {
      "text/plain": [
       "[{'A': 1, 'B': [{'D': 5}]}, {'A': 3, 'B': [{'D': 6}]}]"
      ]
     },
     "execution_count": 97,
     "metadata": {},
     "output_type": "execute_result"
    }
   ],
   "source": [
    "[{'A':1,'B':[{'D':5}]},\n",
    " {'A':3,'B':[{'D':6}]}\n",
    "]"
   ]
  },
  {
   "cell_type": "code",
   "execution_count": 98,
   "id": "e6d18b30-c48b-4015-aab5-304f15f68ac8",
   "metadata": {},
   "outputs": [
    {
     "data": {
      "text/html": [
       "<div>\n",
       "<style scoped>\n",
       "    .dataframe tbody tr th:only-of-type {\n",
       "        vertical-align: middle;\n",
       "    }\n",
       "\n",
       "    .dataframe tbody tr th {\n",
       "        vertical-align: top;\n",
       "    }\n",
       "\n",
       "    .dataframe thead th {\n",
       "        text-align: right;\n",
       "    }\n",
       "</style>\n",
       "<table border=\"1\" class=\"dataframe\">\n",
       "  <thead>\n",
       "    <tr style=\"text-align: right;\">\n",
       "      <th></th>\n",
       "      <th>A</th>\n",
       "      <th>B</th>\n",
       "    </tr>\n",
       "  </thead>\n",
       "  <tbody>\n",
       "    <tr>\n",
       "      <th>0</th>\n",
       "      <td>1</td>\n",
       "      <td>[{'D': 5}]</td>\n",
       "    </tr>\n",
       "    <tr>\n",
       "      <th>1</th>\n",
       "      <td>3</td>\n",
       "      <td>[{'D': 6}]</td>\n",
       "    </tr>\n",
       "  </tbody>\n",
       "</table>\n",
       "</div>"
      ],
      "text/plain": [
       "   A           B\n",
       "0  1  [{'D': 5}]\n",
       "1  3  [{'D': 6}]"
      ]
     },
     "execution_count": 98,
     "metadata": {},
     "output_type": "execute_result"
    }
   ],
   "source": [
    "df=pd.DataFrame([{'A': 1, 'B': [{'D': 5}]}, {'A': 3, 'B': [{'D': 6}]}])\n",
    "df"
   ]
  },
  {
   "cell_type": "markdown",
   "id": "limiting-destination",
   "metadata": {},
   "source": [
    "Nested table - columns with columns and rows\n",
    "#### now it starts getting complicated - Pandas works with flat structures\n",
    "* so what do we do if have complex nested lists or dictionaries like:"
   ]
  },
  {
   "cell_type": "markdown",
   "id": "b1d20fe4-c3e4-4ba2-b2ef-c0a76f4ca739",
   "metadata": {},
   "source": [
    "#### At this point 2D Pandas table stops being easy to read..."
   ]
  },
  {
   "cell_type": "markdown",
   "id": "fa422a19-d97f-4d07-8bdb-9246978b8bfb",
   "metadata": {},
   "source": [
    "#### How can we visualize it to be better readable\n",
    "\n",
    "(This will work on JupyterLab)"
   ]
  },
  {
   "cell_type": "code",
   "execution_count": 102,
   "id": "infectious-politics",
   "metadata": {},
   "outputs": [
    {
     "data": {
      "application/json": [
       {
        "A": 1,
        "B": [
         {
          "D": 5
         }
        ]
       },
       {
        "A": 3,
        "B": [
         {
          "D": 6
         }
        ]
       }
      ],
      "text/plain": [
       "<IPython.core.display.JSON object>"
      ]
     },
     "execution_count": 102,
     "metadata": {
      "application/json": {
       "expanded": false,
       "root": "root"
      }
     },
     "output_type": "execute_result"
    }
   ],
   "source": [
    "# works on JupyterLab\n",
    "from IPython.display import JSON\n",
    "\n",
    "JSON([{'A':1,'B':[{'D':5}]},\n",
    " {'A':3,'B':[{'D':6}]}\n",
    "])\n"
   ]
  },
  {
   "cell_type": "markdown",
   "id": "civic-springer",
   "metadata": {},
   "source": [
    "#### More meaningful example: address book"
   ]
  },
  {
   "cell_type": "markdown",
   "id": "future-pointer",
   "metadata": {},
   "source": [
    "## Example 1 of a name/value pair using a colon:"
   ]
  },
  {
   "cell_type": "code",
   "execution_count": 103,
   "id": "introductory-classics",
   "metadata": {},
   "outputs": [
    {
     "data": {
      "text/plain": [
       "{'name': 'John'}"
      ]
     },
     "execution_count": 103,
     "metadata": {},
     "output_type": "execute_result"
    }
   ],
   "source": [
    "{ \"name\":\"John\"}"
   ]
  },
  {
   "cell_type": "markdown",
   "id": "tropical-registration",
   "metadata": {},
   "source": [
    "## Example 2"
   ]
  },
  {
   "cell_type": "code",
   "execution_count": 104,
   "id": "handled-entity",
   "metadata": {},
   "outputs": [
    {
     "data": {
      "text/plain": [
       "{'name': 'John', 'age': 30, 'city': 'New York'}"
      ]
     },
     "execution_count": 104,
     "metadata": {},
     "output_type": "execute_result"
    }
   ],
   "source": [
    "{ \"name\":\"John\", \"age\":30, \"city\":\"New York\"}"
   ]
  },
  {
   "cell_type": "markdown",
   "id": "packed-graphics",
   "metadata": {},
   "source": [
    "## Example 3 Object student (OOP)"
   ]
  },
  {
   "cell_type": "code",
   "execution_count": 105,
   "id": "prompt-placement",
   "metadata": {},
   "outputs": [
    {
     "data": {
      "text/plain": [
       "{'student': [{'id': '01', 'name': 'Tom', 'lastname': 'Price'},\n",
       "  {'id': '02', 'name': 'Nick', 'lastname': 'Thameson'}]}"
      ]
     },
     "execution_count": 105,
     "metadata": {},
     "output_type": "execute_result"
    }
   ],
   "source": [
    "{\n",
    "  \"student\": [ \n",
    "\t\n",
    "     { \n",
    "        \"id\":\"01\", \n",
    "        \"name\": \"Tom\", \n",
    "        \"lastname\": \"Price\" \n",
    "     }, \n",
    "\t\n",
    "     { \n",
    "        \"id\":\"02\", \n",
    "        \"name\": \"Nick\", \n",
    "        \"lastname\": \"Thameson\" \n",
    "     } \n",
    "  ]   \n",
    "}"
   ]
  },
  {
   "cell_type": "markdown",
   "id": "eeff07e7-e5d5-4623-9ad5-087e81681d69",
   "metadata": {},
   "source": [
    "#### we could visualize it with Ipython but there is a better tool: Firefox!\n",
    "* lets save the above code into a .json file and open it with Firefox"
   ]
  },
  {
   "cell_type": "markdown",
   "id": "solar-draft",
   "metadata": {},
   "source": [
    "# JSON vs XML – What’s the difference?\n",
    "\n",
    "Another commonly used standard for data transfer to and from servers is the XML format.\n",
    "\n",
    "So, what are the main similarities and differences between JSON and XML?\n",
    "\n",
    "*  both come in a human-readable form and can represent the same objects and information. \n",
    "* However, JSON is less verbose than XML, as it uses fewer words in a simpler format to convey the same information. \n",
    "* JSON is also far easier to translate into code. XML needs specialized, slow parsers that incorporate it into your program. And that is its main disadvantage.\n",
    "* That’s why JSON is slowly replacing XML in AJAX calls and other client-server interactions."
   ]
  },
  {
   "cell_type": "code",
   "execution_count": null,
   "id": "owned-cincinnati",
   "metadata": {},
   "outputs": [],
   "source": [
    "<?xml version=\"1.0\" encoding=\"UTF-8\" ?>\n",
    "<root>\n",
    "\t<student>\n",
    "\t\t<id>01</id>\n",
    "\t\t<name>Tom</name>\n",
    "\t\t<lastname>Price</lastname>\n",
    "\t</student>\n",
    "\t<student>\n",
    "\t\t<id>02</id>\n",
    "\t\t<name>Nick</name>\n",
    "\t\t<lastname>Thameson</lastname>\n",
    "\t</student>\n",
    "</root>"
   ]
  },
  {
   "cell_type": "markdown",
   "id": "relative-wayne",
   "metadata": {},
   "source": [
    "# Difference between JSON and Python Dictionary\n",
    "* not that much!!! very similar JSON can also be accessed using key-value pairs\n",
    "* JSON is a pure string written in a convention format, which does not have any characteristics of data structure. ... \n",
    "* The Python dict string uses single quotation marks, and JSON enforces double quotation marks. You can nest tuple in Python dict."
   ]
  },
  {
   "cell_type": "markdown",
   "id": "ruled-efficiency",
   "metadata": {
    "tags": []
   },
   "source": [
    "# Converting from JSON to Dictionary"
   ]
  },
  {
   "cell_type": "code",
   "execution_count": 15,
   "id": "split-cowboy",
   "metadata": {},
   "outputs": [
    {
     "name": "stdout",
     "output_type": "stream",
     "text": [
      "30\n"
     ]
    }
   ],
   "source": [
    "import json\n",
    "\n",
    "# some JSON: (string)\n",
    "x =  '{ \"name\":\"John\", \"age\":30, \"city\":\"New York\"}'\n",
    "\n",
    "# parse x:\n",
    "y = json.loads(x)\n",
    "\n",
    "# the result is a Python dictionary:\n",
    "print(y[\"age\"]) "
   ]
  },
  {
   "cell_type": "markdown",
   "id": "korean-bride",
   "metadata": {},
   "source": [
    "# Converting Dictionary to JSON"
   ]
  },
  {
   "cell_type": "code",
   "execution_count": 106,
   "id": "residential-albert",
   "metadata": {},
   "outputs": [
    {
     "name": "stdout",
     "output_type": "stream",
     "text": [
      "{\"name\": \"John\", \"age\": 30, \"city\": \"New York\"}\n",
      "\n"
     ]
    }
   ],
   "source": [
    "import json\n",
    "\n",
    "# a Python object (dict):\n",
    "x = {\n",
    "  \"name\": \"John\",\n",
    "  \"age\": 30,\n",
    "  \"city\": \"New York\"\n",
    "}\n",
    "\n",
    "# convert into JSON:\n",
    "y = json.dumps(x)\n",
    "\n",
    "# the result is a JSON string (that we can save into a file):\n",
    "print(y) \n",
    "print()"
   ]
  },
  {
   "cell_type": "markdown",
   "id": "expensive-count",
   "metadata": {},
   "source": [
    "# Loading JSON to Python\n",
    "* flattening the file"
   ]
  },
  {
   "cell_type": "code",
   "execution_count": null,
   "id": "together-corps",
   "metadata": {},
   "outputs": [],
   "source": [
    "!ls"
   ]
  },
  {
   "cell_type": "markdown",
   "id": "closed-passenger",
   "metadata": {},
   "source": [
    "## To dictionary"
   ]
  },
  {
   "cell_type": "code",
   "execution_count": 107,
   "id": "compressed-invite",
   "metadata": {},
   "outputs": [
    {
     "name": "stdout",
     "output_type": "stream",
     "text": [
      "<class 'dict'>\n"
     ]
    }
   ],
   "source": [
    "import json\n",
    "  \n",
    "# Opening JSON file\n",
    "f = open('example_2.json')\n",
    "  \n",
    "# returns JSON object as \n",
    "# a dictionary\n",
    "data = json.load(f)\n",
    "print(type(data))"
   ]
  },
  {
   "cell_type": "code",
   "execution_count": 111,
   "id": "9186dd05-2dec-4e23-bbdf-8c06ccdc4c22",
   "metadata": {},
   "outputs": [
    {
     "name": "stdout",
     "output_type": "stream",
     "text": [
      "dict_keys(['quiz'])\n",
      "{'sport': {'q1': {'question': 'Which one is correct team name in NBA?', 'options': ['New York Bulls', 'Los Angeles Kings', 'Golden State Warriros', 'Huston Rocket'], 'answer': 'Huston Rocket'}}, 'maths': {'q1': {'question': '5 + 7 = ?', 'options': ['10', '11', '12', '13'], 'answer': '12'}, 'q2': {'question': '12 - 8 = ?', 'options': ['1', '2', '3', '4'], 'answer': '4'}}}\n"
     ]
    }
   ],
   "source": [
    "print(data.keys())\n",
    "print(data['quiz'])"
   ]
  },
  {
   "cell_type": "markdown",
   "id": "321ca0a3-683c-4fa2-b584-933949b6384c",
   "metadata": {},
   "source": [
    "#### we can access the key-value pair using two methods:\n",
    "* classic one data['key_name']\n",
    "* better one data.get('key_name')"
   ]
  },
  {
   "cell_type": "code",
   "execution_count": 112,
   "id": "eab25256-a828-4497-8d9d-f5b5e6a00ffd",
   "metadata": {},
   "outputs": [
    {
     "data": {
      "text/plain": [
       "{'sport': {'q1': {'question': 'Which one is correct team name in NBA?',\n",
       "   'options': ['New York Bulls',\n",
       "    'Los Angeles Kings',\n",
       "    'Golden State Warriros',\n",
       "    'Huston Rocket'],\n",
       "   'answer': 'Huston Rocket'}},\n",
       " 'maths': {'q1': {'question': '5 + 7 = ?',\n",
       "   'options': ['10', '11', '12', '13'],\n",
       "   'answer': '12'},\n",
       "  'q2': {'question': '12 - 8 = ?',\n",
       "   'options': ['1', '2', '3', '4'],\n",
       "   'answer': '4'}}}"
      ]
     },
     "execution_count": 112,
     "metadata": {},
     "output_type": "execute_result"
    }
   ],
   "source": [
    "data['quiz']"
   ]
  },
  {
   "cell_type": "code",
   "execution_count": 113,
   "id": "a81c415a-a569-4f6b-8501-66ddfb96ee06",
   "metadata": {},
   "outputs": [
    {
     "data": {
      "text/plain": [
       "{'sport': {'q1': {'question': 'Which one is correct team name in NBA?',\n",
       "   'options': ['New York Bulls',\n",
       "    'Los Angeles Kings',\n",
       "    'Golden State Warriros',\n",
       "    'Huston Rocket'],\n",
       "   'answer': 'Huston Rocket'}},\n",
       " 'maths': {'q1': {'question': '5 + 7 = ?',\n",
       "   'options': ['10', '11', '12', '13'],\n",
       "   'answer': '12'},\n",
       "  'q2': {'question': '12 - 8 = ?',\n",
       "   'options': ['1', '2', '3', '4'],\n",
       "   'answer': '4'}}}"
      ]
     },
     "execution_count": 113,
     "metadata": {},
     "output_type": "execute_result"
    }
   ],
   "source": [
    "data.get('quiz')"
   ]
  },
  {
   "cell_type": "markdown",
   "id": "5e51b308-e73d-4b91-a959-1f73d0752dc7",
   "metadata": {},
   "source": [
    "* the last one is better because if the key doesnt exist there is not error"
   ]
  },
  {
   "cell_type": "code",
   "execution_count": 114,
   "id": "8e34f1bc-dd05-42da-a336-990b2cbb9eb2",
   "metadata": {},
   "outputs": [
    {
     "ename": "KeyError",
     "evalue": "'quizzz'",
     "output_type": "error",
     "traceback": [
      "\u001b[0;31m---------------------------------------------------------------------------\u001b[0m",
      "\u001b[0;31mKeyError\u001b[0m                                  Traceback (most recent call last)",
      "\u001b[0;32m<ipython-input-114-be5f0d6daa15>\u001b[0m in \u001b[0;36m<module>\u001b[0;34m\u001b[0m\n\u001b[0;32m----> 1\u001b[0;31m \u001b[0mprint\u001b[0m\u001b[0;34m(\u001b[0m\u001b[0mdata\u001b[0m\u001b[0;34m[\u001b[0m\u001b[0;34m'quizzz'\u001b[0m\u001b[0;34m]\u001b[0m\u001b[0;34m)\u001b[0m\u001b[0;34m\u001b[0m\u001b[0;34m\u001b[0m\u001b[0m\n\u001b[0m",
      "\u001b[0;31mKeyError\u001b[0m: 'quizzz'"
     ]
    }
   ],
   "source": [
    "print(data['quizzz'])"
   ]
  },
  {
   "cell_type": "code",
   "execution_count": 115,
   "id": "5a8307a2-c3e2-49d0-8da2-3423e5c08737",
   "metadata": {},
   "outputs": [
    {
     "name": "stdout",
     "output_type": "stream",
     "text": [
      "None\n"
     ]
    }
   ],
   "source": [
    "print(data.get('quizzz'))"
   ]
  },
  {
   "cell_type": "markdown",
   "id": "passive-victim",
   "metadata": {},
   "source": [
    "## to pandas"
   ]
  },
  {
   "cell_type": "code",
   "execution_count": 118,
   "id": "2515eea7-c615-4520-81d1-4a3a4593b6a8",
   "metadata": {},
   "outputs": [
    {
     "data": {
      "text/html": [
       "<div>\n",
       "<style scoped>\n",
       "    .dataframe tbody tr th:only-of-type {\n",
       "        vertical-align: middle;\n",
       "    }\n",
       "\n",
       "    .dataframe tbody tr th {\n",
       "        vertical-align: top;\n",
       "    }\n",
       "\n",
       "    .dataframe thead th {\n",
       "        text-align: right;\n",
       "    }\n",
       "</style>\n",
       "<table border=\"1\" class=\"dataframe\">\n",
       "  <thead>\n",
       "    <tr style=\"text-align: right;\">\n",
       "      <th></th>\n",
       "      <th>quiz</th>\n",
       "    </tr>\n",
       "  </thead>\n",
       "  <tbody>\n",
       "    <tr>\n",
       "      <th>maths</th>\n",
       "      <td>{'q1': {'question': '5 + 7 = ?', 'options': ['...</td>\n",
       "    </tr>\n",
       "    <tr>\n",
       "      <th>sport</th>\n",
       "      <td>{'q1': {'question': 'Which one is correct team...</td>\n",
       "    </tr>\n",
       "  </tbody>\n",
       "</table>\n",
       "</div>"
      ],
      "text/plain": [
       "                                                    quiz\n",
       "maths  {'q1': {'question': '5 + 7 = ?', 'options': ['...\n",
       "sport  {'q1': {'question': 'Which one is correct team..."
      ]
     },
     "execution_count": 118,
     "metadata": {},
     "output_type": "execute_result"
    }
   ],
   "source": [
    "import pandas as pd\n",
    "df = pd.read_json('example_2.json', orient='values')\n",
    "df"
   ]
  },
  {
   "cell_type": "code",
   "execution_count": 119,
   "id": "beginning-fancy",
   "metadata": {},
   "outputs": [
    {
     "data": {
      "text/html": [
       "<div>\n",
       "<style scoped>\n",
       "    .dataframe tbody tr th:only-of-type {\n",
       "        vertical-align: middle;\n",
       "    }\n",
       "\n",
       "    .dataframe tbody tr th {\n",
       "        vertical-align: top;\n",
       "    }\n",
       "\n",
       "    .dataframe thead th {\n",
       "        text-align: right;\n",
       "    }\n",
       "</style>\n",
       "<table border=\"1\" class=\"dataframe\">\n",
       "  <thead>\n",
       "    <tr style=\"text-align: right;\">\n",
       "      <th></th>\n",
       "      <th>sport</th>\n",
       "      <th>maths</th>\n",
       "    </tr>\n",
       "  </thead>\n",
       "  <tbody>\n",
       "    <tr>\n",
       "      <th>quiz</th>\n",
       "      <td>{'q1': {'question': 'Which one is correct team...</td>\n",
       "      <td>{'q1': {'question': '5 + 7 = ?', 'options': ['...</td>\n",
       "    </tr>\n",
       "  </tbody>\n",
       "</table>\n",
       "</div>"
      ],
      "text/plain": [
       "                                                  sport  \\\n",
       "quiz  {'q1': {'question': 'Which one is correct team...   \n",
       "\n",
       "                                                  maths  \n",
       "quiz  {'q1': {'question': '5 + 7 = ?', 'options': ['...  "
      ]
     },
     "execution_count": 119,
     "metadata": {},
     "output_type": "execute_result"
    }
   ],
   "source": [
    "import pandas as pd\n",
    "df = pd.read_json('example_2.json', orient='index')\n",
    "df"
   ]
  },
  {
   "cell_type": "markdown",
   "id": "accepting-motel",
   "metadata": {},
   "source": [
    "# Where can you find JSON\n",
    "* API outputs!\n",
    "* Twitter Facebook save all their objects as JSON files\n",
    "* Jupyter notebook is JSON file!"
   ]
  },
  {
   "cell_type": "markdown",
   "id": "liable-carnival",
   "metadata": {},
   "source": [
    "# Twitter json object"
   ]
  },
  {
   "cell_type": "markdown",
   "id": "middle-steps",
   "metadata": {},
   "source": [
    "http://www.slaw.ca/wp-content/uploads/2011/11/map-of-a-tweet-copy.pdf  \n",
    "https://developer.twitter.com/en/docs/twitter-api/v1/data-dictionary/object-model/tweet"
   ]
  },
  {
   "cell_type": "code",
   "execution_count": 18,
   "id": "systematic-thomas",
   "metadata": {},
   "outputs": [
    {
     "name": "stdout",
     "output_type": "stream",
     "text": [
      "--2022-09-14 12:38:18--  https://gist.githubusercontent.com/hrp/900964/raw/2bbee4c296e6b54877b537144be89f19beff75f4/twitter.json\n",
      "Resolving gist.githubusercontent.com (gist.githubusercontent.com)... 185.199.111.133, 185.199.108.133, 185.199.109.133, ...\n",
      "Connecting to gist.githubusercontent.com (gist.githubusercontent.com)|185.199.111.133|:443... connected.\n",
      "HTTP request sent, awaiting response... 200 OK\n",
      "Length: 6017 (5.9K) [text/plain]\n",
      "Saving to: 'twitter.json.1'\n",
      "\n",
      "twitter.json.1      100%[===================>]   5.88K  --.-KB/s    in 0.001s  \n",
      "\n",
      "2022-09-14 12:38:18 (8.44 MB/s) - 'twitter.json.1' saved [6017/6017]\n",
      "\n"
     ]
    }
   ],
   "source": [
    "! wget https://gist.githubusercontent.com/hrp/900964/raw/2bbee4c296e6b54877b537144be89f19beff75f4/twitter.json"
   ]
  },
  {
   "cell_type": "markdown",
   "id": "6bcb474f-ae4e-4cf3-9ed9-28f9942ac8c3",
   "metadata": {},
   "source": [
    "# There is more about JSON"
   ]
  },
  {
   "cell_type": "markdown",
   "id": "2c2fb08b-417b-427b-a28f-81e4c9089907",
   "metadata": {},
   "source": [
    "### Many modern pages are written now written using JSON:\n",
    "* backend is JSON \n",
    "* front end is JSON converted to the website using JavaScript\n",
    "* examples: \n",
    "  * https://reactjs.org/https://reactjs.org/\n",
    "  * https://angularjs.org/https://angularjs.org/\n",
    "* people are needed to do this stuff!!! (beside learn docker)\n",
    "* see how this works in practice in the next notebook"
   ]
  },
  {
   "cell_type": "code",
   "execution_count": null,
   "id": "4beb3301-94eb-4b6e-8a9c-dcf5a892fdb5",
   "metadata": {},
   "outputs": [],
   "source": []
  }
 ],
 "metadata": {
  "kernelspec": {
   "display_name": "Python 3",
   "language": "python",
   "name": "python3"
  },
  "language_info": {
   "codemirror_mode": {
    "name": "ipython",
    "version": 3
   },
   "file_extension": ".py",
   "mimetype": "text/x-python",
   "name": "python",
   "nbconvert_exporter": "python",
   "pygments_lexer": "ipython3",
   "version": "3.7.2"
  }
 },
 "nbformat": 4,
 "nbformat_minor": 5
}
