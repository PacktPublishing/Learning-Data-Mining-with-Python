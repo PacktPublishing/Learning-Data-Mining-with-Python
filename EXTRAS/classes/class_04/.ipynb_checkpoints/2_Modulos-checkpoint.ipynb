{
 "cells": [
  {
   "cell_type": "markdown",
   "id": "chief-renaissance",
   "metadata": {
    "cell_id": "00021-e548f3ce-6707-46e7-8ed1-fddc7b8aad19",
    "deepnote_cell_height": 124.23333740234375,
    "deepnote_cell_type": "markdown"
   },
   "source": [
    "<a id=\"standard_modules\"></a>\n",
    "## Módulos de la Biblioteca Estándar de Python (re, os, time, calendar, math)"
   ]
  },
  {
   "cell_type": "markdown",
   "id": "spatial-cream",
   "metadata": {
    "cell_id": "00022-7fecc9d6-82c1-4182-8fa9-c4bcf68d3758",
    "deepnote_cell_height": 75.03334045410156,
    "deepnote_cell_type": "markdown"
   },
   "source": [
    "Aunque los paquetes de terceros como NumPy, Matplotlib, Pandas, y demás, deben instalarse por separado, Python incluye una biblioteca de módulos estándar. "
   ]
  },
  {
   "cell_type": "markdown",
   "id": "changed-boutique",
   "metadata": {
    "cell_id": "135f0f3c47c94dde9b0cea57306f983e",
    "deepnote_cell_height": 97.43333435058594,
    "deepnote_cell_type": "markdown",
    "tags": []
   },
   "source": [
    "No es necesario recordar o entender todas las bibliotecas en Python, pero vale la pena ser consciente de ellas. Antes de escribir una nueva rutina compleja, es bueno verificar si dicha rutina no ha sido ya escrita y se encuentra disponible como un módulo."
   ]
  },
  {
   "cell_type": "markdown",
   "id": "substantial-cycling",
   "metadata": {
    "cell_id": "9c2420ee16d0414ba2d2937cf0b00b4d",
    "deepnote_cell_height": 360.6333312988281,
    "deepnote_cell_type": "markdown",
    "tags": []
   },
   "source": [
    "## re (RegEx)\n",
    "(Regular Expressions - Expresiones Regulares)\n",
    "\n",
    "Los datos no siempre están listos para ser utilizados para el aprendizaje automático. A menudo, los datos deben extraerse de conjuntos de datos muy diversos y \"sucios\". Por ejemplo, los números (unidades físicas o números de teléfono) o los correos electrónicos se pueden ocultar en el texto largo y deben encontrarse y extraerse.\n",
    "\n",
    "Module `re` no es fácil de aprender..., pero es muy poderoso en la ciencia de datos y se utiliza  para el propósito mencionado anteriormente. Por ejemplo, nosotros, como humanos, somos buenos para reconocer patrones. Es intuitivo decir que 304-359-3348 es un número de teléfono, pero 1000.000.000 no lo es. Las expresiones regulares son descripciones de un patrón de texto. Por ejemplo, un `\\d` en un regex de Python significa un carácter de dígito, en otras palabras, cualquier número único de 0 a 9. Para encontrar cualquier número en el formato anterior se puede usar el regex tipo: `\\d\\d\\d-\\d\\d\\d-\\d\\d\\d\\d` para hacer coincidir una cadena de tres números, un guion, tres números más, otro guión y cuatro números. Cualquier otra cosa no coincidiría con este patrón de regex."
   ]
  },
  {
   "cell_type": "markdown",
   "id": "agreed-supply",
   "metadata": {
    "cell_id": "0b5d2d3d6e0944dea385b6870d7bb6ec",
    "deepnote_cell_height": 178.63333129882812,
    "deepnote_cell_type": "markdown",
    "tags": []
   },
   "source": [
    "`re` tiene muchos métodos y guías más completas los explican todos con detalle (https://www.w3schools.com/python/python_regex.asp, https://docs.python.org/3/howto/regex.html), pero el método más común es `re.findall()`."
   ]
  },
  {
   "cell_type": "markdown",
   "id": "empty-klein",
   "metadata": {},
   "source": [
    "# ALL (most) pattern elements\n",
    "\n",
    "* `\\d` - matches any digit from 0 a 9.\n",
    "* `\\d{3}` means three digits\n",
    "* `\\d{2,3}` means minimum two and maximum three digits\n",
    "* `\\d{2,}` means at least two digits\n",
    "* `\\d+` means any number of repeating digits\n",
    "* `\\D` - matches any NON digit \n",
    "* `\\S` - matches string DOES NOT contain a white space character\n",
    "* `.` - matches any character (except newline character)\n",
    "* `\\s` matches space ONLY (or just put space)\n",
    "* `\\w` - matches any alfanumeric character. Equivalent to [a-zA-Z0-9].\n",
    "* `\\w{3}` means three letters or digits\n",
    "* `\\w{2,3}` means minimum two letters or digits and maximum three letters or digits\n",
    "* `\\w{2,}` means at least two letters or digits\n",
    "* `\\.` - matches a dot\n",
    "* `\\g<1>` refers to a group number (used more oftern for `re.sub`)\n",
    "* `\\b` matches a word boundary.\n",
    "* `(?i)` means case insensive \n",
    "* `$` end of the string\n",
    "* `^` beginning of string\n",
    "\n",
    "* `*` zero or more occurences\n",
    "* `+` one or more occurences\n",
    "* `^` for example [^abc] means anything EXCEPT those three letters\n",
    "* `(....)`\tCapturing group\n",
    "* `(?:....)`\tNon-Capturing group\n",
    "\n",
    "https://re-thought.com/python-regular-expressions/"
   ]
  },
  {
   "cell_type": "markdown",
   "id": "precise-radar",
   "metadata": {},
   "source": [
    "# The re module offers a set of functions that allows us to search a string for a match:\n",
    "* `re.findall()` \tReturns a list containing all matches\n",
    "* `re.sub()` \tReplaces one or many matches with a string\n",
    "* `re.search()` \tReturns a Match object if there is a match anywhere in the string\n",
    "* `re.split()` \tReturns a list where the string has been split at each match"
   ]
  },
  {
   "cell_type": "markdown",
   "id": "civilian-growing",
   "metadata": {},
   "source": [
    "# `re.findall(<regex>, <cadena>, flags=0)` \n",
    "devuelve una LISTA de cadenas que contiene todas las coincidencias. Por ejemplo, imagine un comentario que un empleado de un banco escribió sobre un número de teléfono de un cliente:"
   ]
  },
  {
   "cell_type": "code",
   "execution_count": 1,
   "id": "agreed-reproduction",
   "metadata": {
    "cell_id": "3a8ce897be3f4d4da2f1661a6d46e0b9",
    "deepnote_cell_height": 81.23333740234375,
    "deepnote_cell_type": "code",
    "deepnote_to_be_reexecuted": false,
    "execution_millis": 2591846753,
    "execution_start": 1653573121223,
    "source_hash": "46be7666",
    "tags": []
   },
   "outputs": [],
   "source": [
    "bank_comment='Sr. James García tiene varios números. El numero principal es 304-359-3348, pero dijo que despues de 5pm y antes de 7am usa este 315-309-3308, En caso de emergencia se puede llamar a su esposa María al 305-605-5001.'"
   ]
  },
  {
   "cell_type": "markdown",
   "id": "beginning-handling",
   "metadata": {
    "cell_id": "1a5f7b5655cd430085026b97ddc8f55c",
    "deepnote_cell_height": 52.633331298828125,
    "deepnote_cell_type": "markdown",
    "tags": []
   },
   "source": [
    "Para extraer solo los números de este texto e ignorar cualquier otra cosa, se puede obtener el patrón de los dígitos."
   ]
  },
  {
   "cell_type": "code",
   "execution_count": 2,
   "id": "buried-boxing",
   "metadata": {
    "cell_id": "d1f6a7c1db1c41e5bb8b59ededed593b",
    "deepnote_cell_height": 136.35000610351562,
    "deepnote_cell_type": "code",
    "deepnote_output_heights": [
     21
    ],
    "deepnote_to_be_reexecuted": false,
    "execution_millis": 2591846347,
    "execution_start": 1653573121339,
    "source_hash": "8d10baaa",
    "tags": []
   },
   "outputs": [
    {
     "data": {
      "text/plain": [
       "['304-359-3348', '315-309-3308', '305-605-5001']"
      ]
     },
     "execution_count": 2,
     "metadata": {},
     "output_type": "execute_result"
    }
   ],
   "source": [
    "import re\n",
    "re.findall(r\"\\d\\d\\d-\\d\\d\\d-\\d\\d\\d\\d\", bank_comment)"
   ]
  },
  {
   "cell_type": "markdown",
   "id": "experimental-sweet",
   "metadata": {
    "cell_id": "b81f25ae48d44f3a85308e356312db54",
    "deepnote_cell_height": 52.633331298828125,
    "deepnote_cell_type": "markdown",
    "tags": []
   },
   "source": [
    "*Es un buen hábito poner la letra `r` al frente de `\"regex\"`, eso significa el texto \"crudo\", sin formateo."
   ]
  },
  {
   "cell_type": "markdown",
   "id": "disciplinary-commons",
   "metadata": {
    "cell_id": "09ec9459524f44e1a534af179dad6fb2",
    "deepnote_cell_height": 151.39999389648438,
    "deepnote_cell_type": "markdown",
    "tags": []
   },
   "source": [
    "* {} - corchetes rizados\n",
    "\n",
    "Para no escribir tantos `\\d` en regex se puede usar `{}` donde se pone el número de dígitos. Entonces la expresión regular regex: `\\d\\d\\d-\\d\\d\\d-\\d\\d\\d\\d` para el mismo patrón también se puede definir como `\\d{3}-\\d{3}-\\d{4}`.   \n",
    "\n",
    "`\\d{n,m}` significaría al menos `n` y a lo más `m` repeticiones del patrón que se le deja. "
   ]
  },
  {
   "cell_type": "code",
   "execution_count": 3,
   "id": "obvious-merit",
   "metadata": {
    "cell_id": "16ac4774119345069e2e3bcf07083d50",
    "deepnote_cell_height": 118.35000610351562,
    "deepnote_cell_type": "code",
    "deepnote_output_heights": [
     21
    ],
    "deepnote_to_be_reexecuted": false,
    "execution_millis": 2591846380,
    "execution_start": 1653573121429,
    "source_hash": "3f619073",
    "tags": []
   },
   "outputs": [
    {
     "data": {
      "text/plain": [
       "['304-359-3348', '315-309-3308', '305-605-5001']"
      ]
     },
     "execution_count": 3,
     "metadata": {},
     "output_type": "execute_result"
    }
   ],
   "source": [
    "re.findall(r\"\\d{3}-\\d{3}-\\d{4}\", bank_comment)"
   ]
  },
  {
   "cell_type": "markdown",
   "id": "banner-silence",
   "metadata": {
    "cell_id": "5005a135dcb14bcf9970043da3a4731f",
    "deepnote_cell_height": 115,
    "deepnote_cell_type": "markdown",
    "tags": []
   },
   "source": [
    "* [] - Los corchetes especifican un conjunto de dígitos o caracteres que desea que coincidan.\n",
    "\n",
    "Este RegEx [123456789]{2, 4} coincide con al menos dos dígitos, pero no más de cuatro dígitos de conjunto '1-9' (excluyendo '0')."
   ]
  },
  {
   "cell_type": "markdown",
   "id": "assumed-classroom",
   "metadata": {
    "cell_id": "421f50c11ae7496e9e58e4608be2dfaa",
    "deepnote_cell_height": 75.03334045410156,
    "deepnote_cell_type": "markdown",
    "tags": []
   },
   "source": [
    "En el ejemplo regex del número de teléfono`\\d` podría significar cualquier dígito numérico, pero hay \n",
    "muchas de estas clases de caracteres taquigráficos, lo más comunes son:"
   ]
  },
  {
   "cell_type": "markdown",
   "id": "collective-wholesale",
   "metadata": {
    "cell_id": "983672859aa74574b342a4f9c0da3c9d",
    "deepnote_cell_height": 193.63333129882812,
    "deepnote_cell_type": "markdown",
    "tags": []
   },
   "source": [
    "* `\\d` - Coincide con CUALQUIER DÍGITO decimal, equivalente a cualquier número individual de 0 a 9.\n",
    "\n",
    "* `\\S` - Coincide con CUALQUIER CARÁCTER que no sea un espacio, tabulación o nueva línea.\n",
    "\n",
    "* `\\w` - Coincide con CUALQUIER CARÁCTER ALFANUMÉRICO (dígitos y alfabetos) o el carácter de subrayado. Equivalente a [a-zA-Z0-9_] (sin guion).\n",
    "* `\\s` - Coincide SOLAMENTE con espacio ` `.\n",
    "\n",
    "* `\\.` - Coincide SOLAMENTE con un punto `.`"
   ]
  },
  {
   "cell_type": "markdown",
   "id": "prescription-kidney",
   "metadata": {
    "cell_id": "a65531b575b24f988dc651fd42ff3ce9",
    "deepnote_cell_height": 115,
    "deepnote_cell_type": "markdown",
    "tags": []
   },
   "source": [
    "* MetaCaracteres \n",
    "Para definir expresiones regulares se utilizan metacaracteres. Por ejemplo, `\\` y `?` son metacaracteres. Los metacaracteres son caracteres que son interpretados de manera especial por un motor RegEx. Por ejemplo:\n"
   ]
  },
  {
   "cell_type": "markdown",
   "id": "surprised-breakfast",
   "metadata": {
    "cell_id": "e3147e203ba647849f22b66984302c06",
    "deepnote_cell_height": 118.56666564941406,
    "deepnote_cell_type": "markdown",
    "tags": []
   },
   "source": [
    "* `()` - paréntesis () se utiliza para agrupar subpatrones. Por ejemplo, (a|b|c)xz coincide con cualquier cadena que coincida con 'a' o 'b' o 'c' seguida de xz.\n",
    "* `+` - el símbolo que más coincide con una o más apariciones del patrón que se le deja."
   ]
  },
  {
   "cell_type": "markdown",
   "id": "controlled-breeding",
   "metadata": {
    "cell_id": "2592319d81be4cb3ba8f954e961079e7",
    "deepnote_cell_height": 155.53334045410156,
    "deepnote_cell_type": "markdown",
    "tags": []
   },
   "source": [
    "Entonces\n",
    "* `\\d+` significaría cualquier número de repeticiones de dígitos [0-9] \n",
    "* `\\w+` significaría cualquier número de repeticiones del carácter alfanumérico  \n",
    "* `\\S+` significaría cualquier número de repeticiones de cualquier carácter excepto el espacio ` `"
   ]
  },
  {
   "cell_type": "code",
   "execution_count": 4,
   "id": "operating-ghost",
   "metadata": {
    "cell_id": "ecc39fdc12f448c090f1a7a86e7304f5",
    "deepnote_cell_height": 136.35000610351562,
    "deepnote_cell_type": "code",
    "deepnote_output_heights": [
     21
    ],
    "deepnote_to_be_reexecuted": false,
    "execution_millis": 2591846416,
    "execution_start": 1653573121538,
    "source_hash": "18b1eb33",
    "tags": []
   },
   "outputs": [
    {
     "data": {
      "text/plain": [
       "['304-359-3348', '315-309-3308', '305-605-5001']"
      ]
     },
     "execution_count": 4,
     "metadata": {},
     "output_type": "execute_result"
    }
   ],
   "source": [
    "re.findall(r\"\\d+-\\d+-\\d+\", bank_comment)\n",
    "#buscar patrón: cualquier número de dígitos hasta el guion, luego cualquier número de dígitos hasta el guion, luego cualquier número de dígitos"
   ]
  },
  {
   "cell_type": "markdown",
   "id": "duplicate-journey",
   "metadata": {
    "cell_id": "94cdbd8eaa28415f97167026e8e5dea9",
    "deepnote_cell_height": 75.03334045410156,
    "deepnote_cell_type": "markdown",
    "tags": []
   },
   "source": [
    "Un ejemplo más:  Para extraer los horarios del comentario 'bank_comment' ('5pm') que escribió el empleado del banco podemos utilizar el siguiente regex: "
   ]
  },
  {
   "cell_type": "code",
   "execution_count": 5,
   "id": "lesbian-subcommittee",
   "metadata": {
    "cell_id": "8974f4baa1474959a1b75072b735fa4f",
    "deepnote_cell_height": 136.35000610351562,
    "deepnote_cell_type": "code",
    "deepnote_output_heights": [
     21
    ],
    "deepnote_to_be_reexecuted": false,
    "execution_millis": 1293858668,
    "execution_start": 1653573121538,
    "owner_user_id": "10217cb7-e807-45af-be75-488a79b03a41",
    "source_hash": "969f35ce",
    "tags": []
   },
   "outputs": [
    {
     "data": {
      "text/plain": [
       "['5pm', '7am']"
      ]
     },
     "execution_count": 5,
     "metadata": {},
     "output_type": "execute_result"
    }
   ],
   "source": [
    "re.findall(r'\\d{1}pm|\\d{1}am', bank_comment,flags=re.I)\n",
    "#buscar patrón: un dígito después dos letras 'pm' o un dígito después letras 'am'"
   ]
  },
  {
   "cell_type": "markdown",
   "id": "ideal-parallel",
   "metadata": {
    "cell_id": "95d76dfed3bf4226bb6136120f109831",
    "deepnote_cell_height": 52.633331298828125,
    "deepnote_cell_type": "markdown",
    "tags": []
   },
   "source": [
    "Donde se usa `|` como un operador (am `o` pm) y `flags=re.I`. Aquí `re.I` significa ignorar el caso de las letras."
   ]
  },
  {
   "cell_type": "markdown",
   "id": "oriental-block",
   "metadata": {},
   "source": [
    "* `(....)`\tCapturing group\n",
    "* `(?:....)`\tCapturing group"
   ]
  },
  {
   "cell_type": "code",
   "execution_count": 25,
   "id": "continued-kentucky",
   "metadata": {},
   "outputs": [
    {
     "data": {
      "text/plain": [
       "['200', '500']"
      ]
     },
     "execution_count": 25,
     "metadata": {},
     "output_type": "execute_result"
    }
   ],
   "source": [
    "text1=r\"Jack owes me USD200, and Mary owes me USD500.\"\n",
    "re.findall(r'USD(\\d+)',text1)"
   ]
  },
  {
   "cell_type": "code",
   "execution_count": 46,
   "id": "popular-refrigerator",
   "metadata": {},
   "outputs": [
    {
     "data": {
      "text/plain": [
       "['1234567890']"
      ]
     },
     "execution_count": 46,
     "metadata": {},
     "output_type": "execute_result"
    }
   ],
   "source": [
    "buried_phone_number = 'You are the 987 th caller in line for 1234567890. Please continue to hold .'\n",
    "re.findall(r'\\d{10}', buried_phone_number)"
   ]
  },
  {
   "cell_type": "code",
   "execution_count": 47,
   "id": "peaceful-spelling",
   "metadata": {},
   "outputs": [
    {
     "data": {
      "text/plain": [
       "['123']"
      ]
     },
     "execution_count": 47,
     "metadata": {},
     "output_type": "execute_result"
    }
   ],
   "source": [
    "# extract only three first digits from the matched 10 digits number\n",
    "# using capturing group\n",
    "re.findall(r'(\\d{3})\\d{7}', buried_phone_number)"
   ]
  },
  {
   "cell_type": "code",
   "execution_count": 70,
   "id": "urban-holiday",
   "metadata": {},
   "outputs": [
    {
     "data": {
      "text/plain": [
       "['123']"
      ]
     },
     "execution_count": 70,
     "metadata": {},
     "output_type": "execute_result"
    }
   ],
   "source": [
    "# extract only three first digits from the matched 10 digits number\n",
    "# using non capturing group - very similar\n",
    "re.findall(r'(\\d{3})(?:\\d{7})', buried_phone_number)"
   ]
  },
  {
   "cell_type": "markdown",
   "id": "optimum-grounds",
   "metadata": {},
   "source": [
    "* `\\s` means space\n",
    "* `space ( )` means space"
   ]
  },
  {
   "cell_type": "code",
   "execution_count": 9,
   "id": "first-motivation",
   "metadata": {},
   "outputs": [
    {
     "data": {
      "text/plain": [
       "['USD 200', 'USD 500']"
      ]
     },
     "execution_count": 9,
     "metadata": {},
     "output_type": "execute_result"
    }
   ],
   "source": [
    "text1=r\"Jack owes me USD 200, and Mary owes me USD 500.\"\n",
    "re.findall(r'USD \\d+',text1)"
   ]
  },
  {
   "cell_type": "markdown",
   "id": "minute-rugby",
   "metadata": {},
   "source": [
    "* Match any sequence of characters not containing some characters [...]\n",
    "* `^` for example [^abc] means anything EXCEPT those three letters"
   ]
  },
  {
   "cell_type": "code",
   "execution_count": 10,
   "id": "finished-tower",
   "metadata": {},
   "outputs": [
    {
     "data": {
      "text/plain": [
       "['adr_marquez@email.co', 'dr_marquez@email.co', 'marquez@hotmail.com']"
      ]
     },
     "execution_count": 10,
     "metadata": {},
     "output_type": "execute_result"
    }
   ],
   "source": [
    "# what happens if someone puts , at the end of the email: \n",
    "emails3='Dr Juan Marquez usa correos: adr_marquez@email.co, dr_marquez@email.co ,marquez@hotmail.com'\n",
    "re.findall(r\"[^,\\s]+@[^,\\s]+\", emails3)"
   ]
  },
  {
   "cell_type": "markdown",
   "id": "friendly-filing",
   "metadata": {},
   "source": [
    "#### Extracting numbers between sequence"
   ]
  },
  {
   "cell_type": "code",
   "execution_count": 11,
   "id": "cutting-interaction",
   "metadata": {},
   "outputs": [],
   "source": [
    "signal='PING www.google.com (142.250.219.164) 56(84) bytes of data\\\n",
    "64 bytes from gru06s63-in-f4.1e100.net (142.250.219.164): icmp_seq=1 ttl=119 time=18.7 ms'"
   ]
  },
  {
   "cell_type": "code",
   "execution_count": 12,
   "id": "anonymous-consent",
   "metadata": {},
   "outputs": [
    {
     "data": {
      "text/plain": [
       "['time=18.7']"
      ]
     },
     "execution_count": 12,
     "metadata": {},
     "output_type": "execute_result"
    }
   ],
   "source": [
    "re.findall('time=\\d+.\\d+',signal)"
   ]
  },
  {
   "cell_type": "code",
   "execution_count": 13,
   "id": "federal-violation",
   "metadata": {},
   "outputs": [
    {
     "data": {
      "text/plain": [
       "['18.7']"
      ]
     },
     "execution_count": 13,
     "metadata": {},
     "output_type": "execute_result"
    }
   ],
   "source": [
    "re.findall('time=(\\d+.\\d+)',signal)"
   ]
  },
  {
   "cell_type": "markdown",
   "id": "weighted-brick",
   "metadata": {},
   "source": [
    "#### Example: Extracting names"
   ]
  },
  {
   "cell_type": "markdown",
   "id": "above-frederick",
   "metadata": {},
   "source": [
    "* \\b matches a word boundary.\n",
    "* (?i) means case insensive\n",
    "*  ^ matches the beginning of a STRING.\n",
    "* $ matches the end of a STRING."
   ]
  },
  {
   "cell_type": "code",
   "execution_count": 14,
   "id": "collect-technician",
   "metadata": {},
   "outputs": [],
   "source": [
    "text=\"Tom. Let's talk about him. He often forgets to capitalize tom, his name. Oh, and don't match tomorrow.\""
   ]
  },
  {
   "cell_type": "code",
   "execution_count": 15,
   "id": "higher-detroit",
   "metadata": {},
   "outputs": [
    {
     "data": {
      "text/plain": [
       "['Tom']"
      ]
     },
     "execution_count": 15,
     "metadata": {},
     "output_type": "execute_result"
    }
   ],
   "source": [
    "re.findall(r\"\\b[T]om\\b\", text)"
   ]
  },
  {
   "cell_type": "code",
   "execution_count": 16,
   "id": "emerging-diana",
   "metadata": {},
   "outputs": [
    {
     "data": {
      "text/plain": [
       "['Tom', 'tom']"
      ]
     },
     "execution_count": 16,
     "metadata": {},
     "output_type": "execute_result"
    }
   ],
   "source": [
    "# ignore case\n",
    "re.findall(r\"\\b[T]om\\b\", text, flags=re.I)"
   ]
  },
  {
   "cell_type": "markdown",
   "id": "optimum-monitoring",
   "metadata": {},
   "source": [
    "#### find all sequence that are at the end of the the string\n",
    "* `$` end of the string\n",
    "* `^` beginning of string\n",
    "* `.` any character (except newline character)\n",
    "* `*` zero or more occurences\n",
    "* `+` one or more occurences\n",
    "* `\\(` parentheses"
   ]
  },
  {
   "cell_type": "code",
   "execution_count": 56,
   "id": "antique-heavy",
   "metadata": {},
   "outputs": [
    {
     "data": {
      "text/plain": [
       "['planet']"
      ]
     },
     "execution_count": 56,
     "metadata": {},
     "output_type": "execute_result"
    }
   ],
   "source": [
    "# find string that ends with: planet \n",
    "txt = \"beautiful planet, my planet\"\n",
    "re.findall(\"planet$\", txt)"
   ]
  },
  {
   "cell_type": "markdown",
   "id": "neither-progress",
   "metadata": {},
   "source": [
    "# re.sub() - `re.sub(<regex>, <replace>, <string>, count=0, flags=0)` \n",
    "El método devuelve una cadena donde las ocurrencias coincidentes se reemplazan con el contenido de la variable de reemplazo."
   ]
  },
  {
   "cell_type": "code",
   "execution_count": 18,
   "id": "accurate-newman",
   "metadata": {},
   "outputs": [
    {
     "name": "stdout",
     "output_type": "stream",
     "text": [
      "I would like some pie.\n",
      "I would like some pie.\n"
     ]
    }
   ],
   "source": [
    "print('I would like some vegetables.'.replace('vegetables', 'pie'))\n",
    "print(re.sub('vegetables', 'pie', 'I would like some vegetables.'))"
   ]
  },
  {
   "cell_type": "code",
   "execution_count": 69,
   "id": "ambient-planning",
   "metadata": {},
   "outputs": [
    {
     "name": "stdout",
     "output_type": "stream",
     "text": [
      "string method: replace\n",
      "I would like some pie, pie, and pie.\n",
      "\n",
      "regex method: sub\n",
      "I would like some pie, pie, and pie.\n"
     ]
    }
   ],
   "source": [
    "veggie_request = 'I would like some vegetables, vitamins, and water.'\n",
    "\n",
    "print('string method: replace')\n",
    "print(veggie_request.replace('vegetables', 'pie').replace('vitamins', 'pie').replace('water', 'pie'))\n",
    "\n",
    "print()\n",
    "print('regex method: sub')\n",
    "print(re.sub('vegetables|vitamins|water', 'pie', veggie_request))"
   ]
  },
  {
   "cell_type": "markdown",
   "id": "understood-place",
   "metadata": {},
   "source": [
    "#### clear messy phone number "
   ]
  },
  {
   "cell_type": "code",
   "execution_count": 20,
   "id": "concerned-quantity",
   "metadata": {},
   "outputs": [
    {
     "name": "stdout",
     "output_type": "stream",
     "text": [
      "1234567890\n"
     ]
    }
   ],
   "source": [
    "# substitute \\D - any non digit number with empty string\n",
    "messy_phone_number = '(123) 456-7890'\n",
    "print(re.sub(r'\\D', '', messy_phone_number))"
   ]
  },
  {
   "cell_type": "code",
   "execution_count": 21,
   "id": "different-webcam",
   "metadata": {},
   "outputs": [
    {
     "name": "stdout",
     "output_type": "stream",
     "text": [
      "1234567890\n"
     ]
    }
   ],
   "source": [
    "# [-.() ]\n",
    "print(re.sub(r'[-.() ]', '', messy_phone_number))"
   ]
  },
  {
   "cell_type": "markdown",
   "id": "answering-tribute",
   "metadata": {},
   "source": [
    "* `\\g<1>` refers to a group number"
   ]
  },
  {
   "cell_type": "code",
   "execution_count": 22,
   "id": "relevant-writer",
   "metadata": {},
   "outputs": [
    {
     "name": "stdout",
     "output_type": "stream",
     "text": [
      "00573152754106\n"
     ]
    }
   ],
   "source": [
    "# replace (0055) with (0057)\n",
    "some_number = r\"00553152754106\"\n",
    "pattern=r'(\\d{4})(\\d{10})'\n",
    "print(re.sub(pattern, r\"0057\\g<2>\", some_number))"
   ]
  },
  {
   "cell_type": "code",
   "execution_count": 23,
   "id": "soviet-postcard",
   "metadata": {},
   "outputs": [
    {
     "name": "stdout",
     "output_type": "stream",
     "text": [
      "00573152754106\n"
     ]
    }
   ],
   "source": [
    "# replace (0055) with (0057)\n",
    "some_number = r\"(0055)3152754106\"\n",
    "pattern=r'(\\(\\d{4}\\))(\\d{10})'\n",
    "print(re.sub(pattern, r\"0057\\g<2>\", some_number))"
   ]
  },
  {
   "cell_type": "markdown",
   "id": "exciting-batch",
   "metadata": {},
   "source": [
    "# IF condition in RegEx"
   ]
  },
  {
   "cell_type": "code",
   "execution_count": 24,
   "id": "consecutive-nitrogen",
   "metadata": {},
   "outputs": [],
   "source": [
    "text = \"this this that\"\n",
    "m = re.sub(r\"(this)|(that)\", lambda x: \"ONE\" if x.group() == \"this\" else \"TWO\", text)"
   ]
  }
 ],
 "metadata": {
  "deepnote": {},
  "deepnote_execution_queue": [],
  "deepnote_notebook_id": "29e58cfb-e4b2-4e0f-bdde-7de31b33e0a8",
  "kernelspec": {
   "display_name": "Python 3",
   "language": "python",
   "name": "python3"
  },
  "language_info": {
   "codemirror_mode": {
    "name": "ipython",
    "version": 3
   },
   "file_extension": ".py",
   "mimetype": "text/x-python",
   "name": "python",
   "nbconvert_exporter": "python",
   "pygments_lexer": "ipython3",
   "version": "3.7.2"
  }
 },
 "nbformat": 4,
 "nbformat_minor": 5
}
