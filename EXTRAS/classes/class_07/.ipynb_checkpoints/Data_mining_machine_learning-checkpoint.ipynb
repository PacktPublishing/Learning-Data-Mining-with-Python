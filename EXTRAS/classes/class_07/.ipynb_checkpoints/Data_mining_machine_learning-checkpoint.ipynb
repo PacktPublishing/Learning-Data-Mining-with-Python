{
 "cells": [
  {
   "cell_type": "markdown",
   "id": "played-flexibility",
   "metadata": {
    "cell_id": "49049bde-fdc6-4235-ba67-f9ce5ef7fb8b",
    "deepnote_cell_height": 82,
    "deepnote_cell_type": "markdown"
   },
   "source": [
    "# Data mining & Machine Learning (cheat-sheet)"
   ]
  },
  {
   "cell_type": "markdown",
   "id": "environmental-screening",
   "metadata": {
    "cell_id": "00001-ad4a066b-2aad-45a5-9c0c-cd145fec749e",
    "deepnote_cell_height": 249,
    "deepnote_cell_type": "markdown"
   },
   "source": [
    "#### The course evaluation structure\n",
    "* material (strings methods, pandas, regex, web-scrapping)\n",
    "* Exercises\n",
    "* Project I (in groups of 3) - please send me an email with your team members\n",
    "* material (NLP, OCR data extraction, JSON, parallel+newtork programmin)\n",
    "* Exercises\n",
    "* Project II (personal or group of 2)\n",
    "\n",
    "*we have arrived to the first project (half of the course)"
   ]
  },
  {
   "cell_type": "markdown",
   "id": "industrial-allen",
   "metadata": {
    "cell_id": "00002-9cf64fed-002c-49e7-946f-6d93218a05e1",
    "deepnote_cell_height": 401,
    "deepnote_cell_type": "markdown"
   },
   "source": [
    "* until now you have done some simple but I hope interesting exercises (and usefull too)\n",
    "* now is time for some project\n",
    "* so, today's class is to prepare you for Project I\n",
    "* how much time do you need for this project (month)? (in parallel you will also need to do some simple exercises as before)\n",
    "* for some exceptional results I will email the operational manager of the company (hope he will not kill me that I gave you the data)\n",
    "* the project in fact may easily take a year to be completed (or never :) but I want you to have a feeling of it.\n",
    "* **focus on the data, what data you wish to have, understand the problem, organize the data and prepare for a Machine Learning Algorithm**\n",
    "* I want you to work in groups for the knowledge exchange - discussion etc (learn something from a collegue about machine learning but some basics of ML are here too)\n",
    "* before the problem is presented... a bit of theory of ML, bacause you need to know what do you need the data for\n",
    "* the project is business related"
   ]
  },
  {
   "cell_type": "markdown",
   "id": "short-champagne",
   "metadata": {},
   "source": [
    "#### importance of data and ML in business (and science too)"
   ]
  },
  {
   "cell_type": "markdown",
   "id": "owned-sigma",
   "metadata": {},
   "source": [
    "![](imgs/CD_for_business.png)"
   ]
  },
  {
   "cell_type": "markdown",
   "id": "likely-mexico",
   "metadata": {
    "cell_id": "00006-5f21e95d-0e29-4e49-8999-2642f78b1581",
    "deepnote_cell_height": 124,
    "deepnote_cell_type": "markdown"
   },
   "source": [
    "   <a id=\"progr_vs_ml\"></a>\n",
    "## Is data important in machine learning and vice-versa?"
   ]
  },
  {
   "cell_type": "markdown",
   "id": "informed-roulette",
   "metadata": {
    "cell_id": "00004-7470afb9-c0f9-4846-a293-b7585fe9936e",
    "deepnote_cell_height": 70,
    "deepnote_cell_type": "markdown"
   },
   "source": [
    "![](imgs/MD_ML_relationship.jpg)"
   ]
  },
  {
   "cell_type": "markdown",
   "id": "buried-template",
   "metadata": {
    "cell_id": "00005-defd3ebb-8771-42a4-a32b-9e2ce9dc575e",
    "deepnote_cell_height": 52,
    "deepnote_cell_type": "markdown"
   },
   "source": [
    "https://jakevdp.github.io/PythonDataScienceHandbook/"
   ]
  },
  {
   "cell_type": "markdown",
   "id": "distributed-mozambique",
   "metadata": {
    "cell_id": "00006-b07a6e94-a1bd-457f-8dd4-5964bf2ed961",
    "deepnote_cell_height": 149,
    "deepnote_cell_type": "markdown"
   },
   "source": [
    "#### it works both ways: \n",
    "  * machine learning can be used to data mine (finding relationship or importance of a feature is also data mining - extracting important infomation from data)\n",
    "  * data mine can be used for machine learning (machine learning needs lot of data to work better)"
   ]
  },
  {
   "cell_type": "markdown",
   "id": "endless-refrigerator",
   "metadata": {
    "cell_id": "00025-f60fa9bb-3d9b-47e0-bf68-db26e6721155",
    "deepnote_cell_height": 78,
    "deepnote_cell_type": "markdown"
   },
   "source": [
    "# Difference between traditional programming and machine learning, and its consequence."
   ]
  },
  {
   "cell_type": "markdown",
   "id": "victorian-helicopter",
   "metadata": {
    "cell_id": "00007-5d399eb7-c184-4e2e-98de-59d10b77b9a2",
    "deepnote_cell_height": 110,
    "deepnote_cell_type": "markdown"
   },
   "source": [
    "#### Traditional Programming\n",
    "\n",
    "Traditional programming is a manual process, which means that a person (programmer) creates the program, the person has to manually formulate or code rules"
   ]
  },
  {
   "cell_type": "markdown",
   "id": "aboriginal-patrol",
   "metadata": {
    "cell_id": "817c608df7ca40eb9355c3a0bf9a29d5",
    "deepnote_cell_height": 70,
    "deepnote_cell_type": "markdown",
    "tags": []
   },
   "source": [
    "![](imgs/tradicional_programming.png)"
   ]
  },
  {
   "cell_type": "markdown",
   "id": "described-trademark",
   "metadata": {
    "cell_id": "00009-d5851942-f00d-487b-8285-b2d5d3b0842e",
    "deepnote_cell_height": 74,
    "deepnote_cell_type": "markdown"
   },
   "source": [
    "Not much data is needed here because the relationship (program/algorithm) is known, and for each input output can be obtained easily. "
   ]
  },
  {
   "cell_type": "markdown",
   "id": "thorough-isolation",
   "metadata": {
    "cell_id": "00011-530a6118-16e1-4c95-947c-61bdd5d35480",
    "deepnote_cell_height": 212,
    "deepnote_cell_type": "markdown"
   },
   "source": [
    "#### Machine learning programming\n",
    "On the other hand, in machine learning, the algorithm automatically formulates the rules from the data.\n",
    "\n",
    "So, unlike traditional programming, machine learning is an automated process. You can increase the value of your built-in analytics in many areas, including data preparation, natural language interfaces, automatic outlier detection, recommendations, and causality and significance detection. All of these features help speed up user insights and reduce decision bias."
   ]
  },
  {
   "cell_type": "markdown",
   "id": "outstanding-prison",
   "metadata": {
    "cell_id": "c9a391e97035469da0185d537210f8fd",
    "deepnote_cell_height": 70,
    "deepnote_cell_type": "markdown",
    "tags": []
   },
   "source": [
    "![](imgs/machine_learning_new.png)"
   ]
  },
  {
   "cell_type": "markdown",
   "id": "noted-batman",
   "metadata": {
    "cell_id": "00013-00fe4e02-40f0-45ab-b4b9-d13786447489",
    "deepnote_cell_height": 52,
    "deepnote_cell_type": "markdown"
   },
   "source": [
    "A lot of data is needed here because you are looking for the relationship between input and output."
   ]
  },
  {
   "cell_type": "markdown",
   "id": "environmental-karaoke",
   "metadata": {
    "cell_id": "00014-c994e06f-e919-4a6e-8ab9-15635d41b272",
    "deepnote_cell_height": 190,
    "deepnote_cell_type": "markdown"
   },
   "source": [
    "### Example. Convert Celsius to Fahrenheit using traditional and machine learning approach.\n",
    "* In ***traditional programming*** you can write a function that takes input in celsius and returns output in fahrenheit using the formula F = C*1.8 + 32F = C * 1.8 + 32F = C∗1.8 + 32 Note that the program was explicitly given the instructions to execute."
   ]
  },
  {
   "cell_type": "markdown",
   "id": "romance-spanish",
   "metadata": {
    "cell_id": "da35642e6b744dbbb9bd9a0de4450003",
    "deepnote_cell_height": 70,
    "deepnote_cell_type": "markdown",
    "tags": []
   },
   "source": [
    "![](imgs/trad_C_to_F.png)"
   ]
  },
  {
   "cell_type": "markdown",
   "id": "loved-marking",
   "metadata": {
    "cell_id": "00017-6c48b4fc-9377-478d-9015-78fc065960e0",
    "deepnote_cell_height": 91,
    "deepnote_cell_type": "markdown"
   },
   "source": [
    "* With the ***machine learning*** approach, the input and output are known and the relationship between the input and output is learned by the model."
   ]
  },
  {
   "cell_type": "markdown",
   "id": "delayed-breach",
   "metadata": {
    "cell_id": "8f2193e3a52d4508a05dabe287f102f3",
    "deepnote_cell_height": 70,
    "deepnote_cell_type": "markdown",
    "tags": []
   },
   "source": [
    "![](imgs/ml_C_to_F.png)"
   ]
  },
  {
   "cell_type": "markdown",
   "id": "continued-wholesale",
   "metadata": {},
   "source": [
    "# There are several areas of data mining and machine learning that are most common nowadays:\n",
    "\n",
    "*    Predictive Modelling. Regression and classification algorithms for supervised learning (prediction), metrics for evaluating model performance.\n",
    "*    Clustering. Methods to group data without a label into clusters: K-Means, selecting cluster numbers based objective metrics.\n",
    "*    Dimensionality Reduction. Methods to reduce the dimensionality of data and attributes of those methods: PCA and LDA.\n",
    "*    Feature Importance. Methods to find the most important feature in a dataset: permutation importance, SHAP values, Partial Dependence Plots.\n",
    "*    Data Transformation. Methods to transform the data for greater predictive power, for easier analysis, or to uncover hidden relationships and patterns: standardization, normalization, box-cox transformations."
   ]
  },
  {
   "cell_type": "markdown",
   "id": "subjective-privilege",
   "metadata": {},
   "source": [
    "# Most common algorithms of ML:"
   ]
  },
  {
   "cell_type": "markdown",
   "id": "talented-sister",
   "metadata": {},
   "source": [
    "![](imgs/ML_algorithms.png)"
   ]
  },
  {
   "cell_type": "markdown",
   "id": "familiar-morris",
   "metadata": {},
   "source": [
    "* This project will be related to supervised regression algorithm"
   ]
  },
  {
   "cell_type": "markdown",
   "id": "broken-firmware",
   "metadata": {},
   "source": [
    "# Independently of what algorithm we use, the ML needs data!!!\n",
    "* look again at the Celsius to Fahrenheit conversion\n",
    "* so the more data (correct data) you give to the ML the more precise coefficients it will find"
   ]
  },
  {
   "cell_type": "markdown",
   "id": "desperate-storage",
   "metadata": {
    "cell_id": "00009-e96dece1-4552-419b-b04b-5abb96ed4a51",
    "deepnote_cell_height": 154,
    "deepnote_cell_type": "markdown"
   },
   "source": [
    "#### Data is the most important and is a \"must-have\" food for machine learning. \n",
    "It can be any fact, text, symbols, images, videos, etc., but in unprocessed form. When the data is processed, it is known as information. Machine learning without data is nothing but a bare machine with no soul and no mind. This data makes machines do such amazing tasks, which we have not thought of a few years back in history."
   ]
  },
  {
   "cell_type": "markdown",
   "id": "arbitrary-lightning",
   "metadata": {
    "cell_id": "00010-ba1c4a75-2621-44ec-a7da-a4003f264f6f",
    "deepnote_cell_height": 70,
    "deepnote_cell_type": "markdown"
   },
   "source": [
    "![](imgs/ML_performance.png)"
   ]
  },
  {
   "cell_type": "markdown",
   "id": "affiliated-lightning",
   "metadata": {
    "cell_id": "00011-c3a5e753-0bf6-4bf2-b5af-2296f65ec2aa",
    "deepnote_cell_height": 216,
    "deepnote_cell_type": "markdown"
   },
   "source": [
    "* guess a person I have on my mind\n",
    "* male/famale\n",
    "* approximate localization in the class room\n",
    "* height\n",
    "* hair color\n",
    "* clothes  \n",
    "... with more information is easier to guess"
   ]
  },
  {
   "cell_type": "markdown",
   "id": "corresponding-drove",
   "metadata": {
    "cell_id": "00012-57504a2c-cc60-422d-95dc-f99bd935554f",
    "deepnote_cell_height": 298,
    "deepnote_cell_type": "markdown"
   },
   "source": [
    "#### To “teach the machine”...\n",
    "you wish information. As an example, if you would like to train a neural web for predicting the winner of a football match, you can’t merely look at who won the game last year. You will wish for a lot of information -  maximum amount you’ll be able to get. \n",
    "* You want each stat for each player ideally for his or her entire career, \n",
    "* a place where the game will take place, \n",
    "* the altitude etc... A lot of information you’ve got, a lot of the neural web will learn from the same details. \n",
    "Thus essentially, data mining and data processing are one of the earliest steps toward machine learning. You mine the info, then organize, normalize, etc."
   ]
  },
  {
   "cell_type": "markdown",
   "id": "surprising-grove",
   "metadata": {},
   "source": [
    "# Two step process of Data Mining -> Machine Learning work flow"
   ]
  },
  {
   "cell_type": "markdown",
   "id": "virgin-short",
   "metadata": {
    "cell_id": "00013-8735f93a-cd0d-411e-ace3-17c9a75dea9c",
    "deepnote_cell_height": 546,
    "deepnote_cell_type": "markdown"
   },
   "source": [
    "### Part I Preparing data for machine learning:\n",
    "* close the computer and think\n",
    "* collect the data !!!!, this is one of the most important steps, to make sure they are complete, that there are no missing features that influence the price of the house.\n",
    "* That the data have no errors, typographical error values, large extraordinary values or small extraordinary values (outliers).\n",
    "* That the rows are not repeated.\n",
    "* That the columns are not repeated.\n",
    "* That there are no empty values in the columns.\n",
    "* That there is no strong correlation between the data in the columns (if there is a column with the size of the house in m^2 and another column with the size of the house in ft^2, then one is redundant).\n",
    "* Which variables are categorical and which are continuous.\n",
    "* scale variables to have the same order of magnitude\n",
    "* convert categorical values to numerical (label encoding or one-hot encoding)\n",
    "* Finally, it is not possible to perform all these operations blindfolded, to understand the data you must visualize it, order it and group it.\n",
    "* close the computer and think"
   ]
  },
  {
   "cell_type": "markdown",
   "id": "resistant-visit",
   "metadata": {},
   "source": [
    "### example part I analysis  is in the folder "
   ]
  },
  {
   "cell_type": "markdown",
   "id": "independent-birth",
   "metadata": {},
   "source": [
    "### * collect the data is the key part\n",
    "lets imagine you want to predict the price of a house (I know we have seen this hundreds of times, but its a good very intuitive example :) What informations (inputs - `features`) you would like to have in order to predict the price of a house (output - `target`) ?\n",
    "* how mnownrs"
   ]
  },
  {
   "cell_type": "markdown",
   "id": "binary-accent",
   "metadata": {},
   "source": [
    "## All of this is basically Pandas presented as an example in this folder\n"
   ]
  },
  {
   "cell_type": "markdown",
   "id": "buried-sacramento",
   "metadata": {
    "cell_id": "00014-4f5fe927-b818-4a7d-9886-10b5e6dd6e67",
    "deepnote_cell_height": 94,
    "deepnote_cell_type": "markdown"
   },
   "source": [
    "### one thing that is not presented well is converting categorical variables into numerical ones\n",
    "#### machine learning has preference - numerical data over other types of data (like strings etc)"
   ]
  },
  {
   "cell_type": "markdown",
   "id": "spectacular-karma",
   "metadata": {
    "cell_id": "00015-45e39b76-8ab8-43f5-800c-edf700c96a45",
    "deepnote_cell_height": 70,
    "deepnote_cell_type": "markdown"
   },
   "source": [
    "![](imgs/data_for_machine.png)"
   ]
  },
  {
   "cell_type": "markdown",
   "id": "incoming-bahrain",
   "metadata": {
    "cell_id": "00016-adace38f-ea10-4f40-9e10-c22b6d0827c9",
    "deepnote_cell_height": 178,
    "deepnote_cell_type": "markdown"
   },
   "source": [
    "### it is often useful to convert non-numerical data into numerical data\n",
    "#### remember converting A(automatic) / M(manual) into 1/0 or 0/1\n",
    "#### btw, was it surprising that M consumes less gasoline than A?"
   ]
  },
  {
   "cell_type": "markdown",
   "id": "cross-alert",
   "metadata": {
    "cell_id": "00017-55de0b79-ed1f-4158-8f7c-b0ff6da06fd6",
    "deepnote_cell_height": 82,
    "deepnote_cell_type": "markdown"
   },
   "source": [
    "# One-hot encoding"
   ]
  },
  {
   "cell_type": "markdown",
   "id": "novel-beginning",
   "metadata": {
    "cell_id": "00018-8dec04f2-5dc7-438e-9a4e-f75a01090ff4",
    "deepnote_cell_height": 70,
    "deepnote_cell_type": "markdown"
   },
   "source": [
    "![](imgs/one_hot_encoding.png)"
   ]
  },
  {
   "cell_type": "code",
   "execution_count": 1,
   "id": "legendary-provider",
   "metadata": {
    "cell_id": "00019-eb0f1d55-1233-42ee-ac68-6353ef00400e",
    "deepnote_cell_height": 270,
    "deepnote_cell_type": "code",
    "deepnote_output_heights": [
     119
    ]
   },
   "outputs": [],
   "source": [
    "link='https://raw.githubusercontent.com/mhemmg/datasets/master/drugset/drug200.csv'\n",
    "import pandas as pd\n",
    "my_data = pd.read_csv(link, delimiter=\",\")\n",
    "my_data.head(3)"
   ]
  },
  {
   "cell_type": "code",
   "execution_count": 2,
   "id": "confidential-insured",
   "metadata": {
    "cell_id": "00020-252663ac-0e9b-4346-8e73-72a4a5c4dcf5",
    "deepnote_cell_height": 342,
    "deepnote_cell_type": "code",
    "deepnote_output_heights": [
     119
    ]
   },
   "outputs": [
    {
     "data": {
      "text/html": [
       "<div>\n",
       "<style scoped>\n",
       "    .dataframe tbody tr th:only-of-type {\n",
       "        vertical-align: middle;\n",
       "    }\n",
       "\n",
       "    .dataframe tbody tr th {\n",
       "        vertical-align: top;\n",
       "    }\n",
       "\n",
       "    .dataframe thead th {\n",
       "        text-align: right;\n",
       "    }\n",
       "</style>\n",
       "<table border=\"1\" class=\"dataframe\">\n",
       "  <thead>\n",
       "    <tr style=\"text-align: right;\">\n",
       "      <th></th>\n",
       "      <th>Age</th>\n",
       "      <th>BP</th>\n",
       "      <th>Cholesterol</th>\n",
       "      <th>Na_to_K</th>\n",
       "      <th>Drug</th>\n",
       "      <th>Sex_F</th>\n",
       "      <th>Sex_M</th>\n",
       "    </tr>\n",
       "  </thead>\n",
       "  <tbody>\n",
       "    <tr>\n",
       "      <th>0</th>\n",
       "      <td>23</td>\n",
       "      <td>HIGH</td>\n",
       "      <td>HIGH</td>\n",
       "      <td>25.355</td>\n",
       "      <td>drugY</td>\n",
       "      <td>1</td>\n",
       "      <td>0</td>\n",
       "    </tr>\n",
       "    <tr>\n",
       "      <th>1</th>\n",
       "      <td>47</td>\n",
       "      <td>LOW</td>\n",
       "      <td>HIGH</td>\n",
       "      <td>13.093</td>\n",
       "      <td>drugC</td>\n",
       "      <td>0</td>\n",
       "      <td>1</td>\n",
       "    </tr>\n",
       "    <tr>\n",
       "      <th>2</th>\n",
       "      <td>47</td>\n",
       "      <td>LOW</td>\n",
       "      <td>HIGH</td>\n",
       "      <td>10.114</td>\n",
       "      <td>drugC</td>\n",
       "      <td>0</td>\n",
       "      <td>1</td>\n",
       "    </tr>\n",
       "  </tbody>\n",
       "</table>\n",
       "</div>"
      ],
      "text/plain": [
       "   Age    BP Cholesterol  Na_to_K   Drug  Sex_F  Sex_M\n",
       "0   23  HIGH        HIGH   25.355  drugY      1      0\n",
       "1   47   LOW        HIGH   13.093  drugC      0      1\n",
       "2   47   LOW        HIGH   10.114  drugC      0      1"
      ]
     },
     "execution_count": 2,
     "metadata": {},
     "output_type": "execute_result"
    }
   ],
   "source": [
    "link='https://raw.githubusercontent.com/mhemmg/datasets/master/drugset/drug200.csv'\n",
    "import pandas as pd\n",
    "my_data = pd.read_csv(link, delimiter=\",\")\n",
    "\n",
    "df_dummy = pd.get_dummies(my_data.Sex, prefix='Sex')\n",
    "df_concat = pd.concat([my_data, df_dummy], axis=1)\n",
    "df_concat.drop(['Sex'],axis=1,inplace=True)\n",
    "df_concat.head(3)"
   ]
  },
  {
   "cell_type": "markdown",
   "id": "independent-portfolio",
   "metadata": {},
   "source": [
    "* question: imagin you're predicting price of a house using large dataset... can you convert number of bedrooms into one-hot encoding? "
   ]
  },
  {
   "cell_type": "markdown",
   "id": "wired-latter",
   "metadata": {
    "cell_id": "00021-1e007f64-41ff-49d3-9921-2007aa556450",
    "deepnote_cell_height": 82,
    "deepnote_cell_type": "markdown"
   },
   "source": [
    "# Label encoding"
   ]
  },
  {
   "cell_type": "markdown",
   "id": "simple-pencil",
   "metadata": {
    "cell_id": "00022-28a01467-fff6-414d-8cd7-bcc729193cab",
    "deepnote_cell_height": 70,
    "deepnote_cell_type": "markdown"
   },
   "source": [
    "![](imgs/label_encoding.png)"
   ]
  },
  {
   "cell_type": "code",
   "execution_count": 3,
   "id": "attached-sender",
   "metadata": {
    "cell_id": "00023-dec5a102-ba11-44a7-9c5e-ef69ae679448",
    "deepnote_cell_height": 360,
    "deepnote_cell_type": "code",
    "deepnote_output_heights": [
     119
    ]
   },
   "outputs": [
    {
     "data": {
      "text/html": [
       "<div>\n",
       "<style scoped>\n",
       "    .dataframe tbody tr th:only-of-type {\n",
       "        vertical-align: middle;\n",
       "    }\n",
       "\n",
       "    .dataframe tbody tr th {\n",
       "        vertical-align: top;\n",
       "    }\n",
       "\n",
       "    .dataframe thead th {\n",
       "        text-align: right;\n",
       "    }\n",
       "</style>\n",
       "<table border=\"1\" class=\"dataframe\">\n",
       "  <thead>\n",
       "    <tr style=\"text-align: right;\">\n",
       "      <th></th>\n",
       "      <th>Age</th>\n",
       "      <th>BP</th>\n",
       "      <th>Cholesterol</th>\n",
       "      <th>Na_to_K</th>\n",
       "      <th>Drug</th>\n",
       "      <th>Sex_Cat</th>\n",
       "    </tr>\n",
       "  </thead>\n",
       "  <tbody>\n",
       "    <tr>\n",
       "      <th>0</th>\n",
       "      <td>23</td>\n",
       "      <td>HIGH</td>\n",
       "      <td>HIGH</td>\n",
       "      <td>25.355</td>\n",
       "      <td>drugY</td>\n",
       "      <td>0</td>\n",
       "    </tr>\n",
       "    <tr>\n",
       "      <th>1</th>\n",
       "      <td>47</td>\n",
       "      <td>LOW</td>\n",
       "      <td>HIGH</td>\n",
       "      <td>13.093</td>\n",
       "      <td>drugC</td>\n",
       "      <td>1</td>\n",
       "    </tr>\n",
       "    <tr>\n",
       "      <th>2</th>\n",
       "      <td>47</td>\n",
       "      <td>LOW</td>\n",
       "      <td>HIGH</td>\n",
       "      <td>10.114</td>\n",
       "      <td>drugC</td>\n",
       "      <td>1</td>\n",
       "    </tr>\n",
       "  </tbody>\n",
       "</table>\n",
       "</div>"
      ],
      "text/plain": [
       "   Age    BP Cholesterol  Na_to_K   Drug  Sex_Cat\n",
       "0   23  HIGH        HIGH   25.355  drugY        0\n",
       "1   47   LOW        HIGH   13.093  drugC        1\n",
       "2   47   LOW        HIGH   10.114  drugC        1"
      ]
     },
     "execution_count": 3,
     "metadata": {},
     "output_type": "execute_result"
    }
   ],
   "source": [
    "link='https://raw.githubusercontent.com/mhemmg/datasets/master/drugset/drug200.csv'\n",
    "import pandas as pd\n",
    "my_data = pd.read_csv(link, delimiter=\",\")\n",
    "\n",
    "from sklearn.preprocessing import LabelEncoder\n",
    "labelencoder = LabelEncoder()\n",
    "my_data['Sex_Cat'] = labelencoder.fit_transform(my_data['Sex'])\n",
    "my_data.drop(['Sex'],axis=1,inplace=True)\n",
    "my_data.head(3)"
   ]
  },
  {
   "cell_type": "markdown",
   "id": "recreational-recipient",
   "metadata": {
    "cell_id": "00024-010476a2-a52d-434a-9776-3294c72ed154",
    "deepnote_cell_height": 326,
    "deepnote_cell_type": "markdown"
   },
   "source": [
    "# But do you think machine learning prefers one-hot encoding or label encoding??\n",
    "answer:\n",
    "<font color='white'>The problem here is since there are different numbers in the same column, the model will misunderstand the data to be in some kind of order, 0 < 1.\n",
    "\n",
    "The model may derive a correlation like as the country number increases the population increases but this clearly may not be the scenario in some other data or the prediction set. \n",
    " Seems its better to use One Hot Encoder</font>"
   ]
  },
  {
   "cell_type": "markdown",
   "id": "regular-medium",
   "metadata": {},
   "source": [
    "#### Important\n",
    "In machine learning the input data is usually stored in a variable called `X_data` and the output data in `y_data`. Having `X_data` and `y_data` the machine learning algorithm will try to find the relationship between the input and the output - what is called machine learning. That is why data (quality and quantity) are so important in this discipline."
   ]
  },
  {
   "cell_type": "markdown",
   "id": "bound-genre",
   "metadata": {
    "cell_id": "00037-c558637f-dd0c-4ef7-a4a8-e8f12b1a4673",
    "deepnote_cell_height": 446,
    "deepnote_cell_type": "markdown"
   },
   "source": [
    "# real life example: a bank based on historical data wants to predict if the customer will pay his load back or not. How is the data organized, what  is input what is output (and the ML will try to find the correlation between those two)"
   ]
  },
  {
   "cell_type": "markdown",
   "id": "crucial-answer",
   "metadata": {
    "cell_id": "00038-a3f68be8-0353-443f-b1ed-556e66ae7f42",
    "deepnote_cell_height": 70,
    "deepnote_cell_type": "markdown"
   },
   "source": [
    "![](imgs/machine_learning_data_input_output.png)"
   ]
  },
  {
   "cell_type": "markdown",
   "id": "loaded-public",
   "metadata": {
    "cell_id": "00039-3f8886a3-e5e5-4ecd-9d4c-7df41f57002d",
    "deepnote_cell_height": 94,
    "deepnote_cell_type": "markdown"
   },
   "source": [
    "* X_data=input\n",
    "* y_data=output"
   ]
  },
  {
   "cell_type": "markdown",
   "id": "hawaiian-brighton",
   "metadata": {
    "cell_id": "00040-e9fa597b-aaae-4204-8894-53ba7aea7089",
    "deepnote_cell_height": 134,
    "deepnote_cell_type": "markdown"
   },
   "source": [
    "# Part II: Machine Learning (with Scikit-Learn for now, no NN)"
   ]
  },
  {
   "cell_type": "markdown",
   "id": "iraqi-coverage",
   "metadata": {},
   "source": [
    "## Once the data is ready we do the following steps:\n",
    "* standarize / normalize the data\n",
    "* split the data into train / test set\n",
    "* modeling (fitting the data)\n",
    "* testing model's performance"
   ]
  },
  {
   "cell_type": "markdown",
   "id": "junior-alfred",
   "metadata": {},
   "source": [
    "### split the data into train / test set\n",
    "* to really test how well the model has been train we have to ask him to predict same values based on values that he DID NOT SEE during training.\n",
    "* so to train the ML we only use a larger part of the data called X_train and y_train (X_features and y_targets)"
   ]
  },
  {
   "cell_type": "markdown",
   "id": "ahead-drinking",
   "metadata": {},
   "source": [
    "![](imgs/test_train_split.png)\n",
    "\n",
    "```from sklearn.model_selection import train_test_split\n",
    "X_train,X_test,y_train,y_test = train_test_split(X,y,test_size=0.3)```"
   ]
  },
  {
   "cell_type": "markdown",
   "id": "frozen-indie",
   "metadata": {},
   "source": [
    "### standarize / normalize the data"
   ]
  },
  {
   "cell_type": "markdown",
   "id": "organized-relative",
   "metadata": {},
   "source": [
    "* the machine learning searches for coefficients (related to the features) and the set of coefficients to find must create an output that is as close to the target as possible\n",
    "* its like linear regression y=a*x +b (where x is for example size of the house and y is its price)\n",
    "* this kind of problem is called minimization problem - the ML algorithm is trying to find a and b such that $a*x +b$ will be as close to y as possible\n",
    "* but if the problem is multidimensional (size of the house and number of rooms) the minimization has to deal with different dimensions (size of house is in $ft^2 $ $ \\sim$ 10000 and number of rooms $\\sim$ 5)"
   ]
  },
  {
   "cell_type": "markdown",
   "id": "connected-operator",
   "metadata": {},
   "source": [
    "![](imgs/gd_asymmetry.png)"
   ]
  },
  {
   "cell_type": "markdown",
   "id": "engaged-assignment",
   "metadata": {},
   "source": [
    "```\n",
    "from sklearn.preprocessing import StandardScaler\n",
    "scaler=StandardScaler()\n",
    "X_train=scaler.fit_transform(X_train)\n",
    "X_test=scaler.transform(X_test)\n",
    "```"
   ]
  },
  {
   "cell_type": "markdown",
   "id": "prerequisite-fortune",
   "metadata": {},
   "source": [
    "### modeling (fitting the data)"
   ]
  },
  {
   "cell_type": "markdown",
   "id": "permanent-shelf",
   "metadata": {},
   "source": [
    "# https://scikit-learn.org/stable/modules/classes.html#module-sklearn.linear_model"
   ]
  },
  {
   "cell_type": "markdown",
   "id": "strategic-ebony",
   "metadata": {},
   "source": [
    "![](imgs/sklearn_fit.png)"
   ]
  },
  {
   "cell_type": "markdown",
   "id": "attempted-valve",
   "metadata": {},
   "source": [
    "### testing model's performance"
   ]
  },
  {
   "cell_type": "markdown",
   "id": "planned-census",
   "metadata": {},
   "source": [
    "```\n",
    "print(f'R2: {model.score(X_test, y_test):.2f}')\n",
    "```"
   ]
  },
  {
   "cell_type": "markdown",
   "id": "brown-music",
   "metadata": {},
   "source": [
    "# A full example of a machine learning implementation (house price prediction based on various characteristics) is in the class folder  "
   ]
  },
  {
   "cell_type": "markdown",
   "id": "hourly-gasoline",
   "metadata": {},
   "source": [
    "1. EDA I (Exploratory Data Analysis I)\n",
    "  * exploring cleaning the data from empty values and NaN\n",
    "  * visualization techniques\n",
    "2. EDA II (Exploratory Data Analysis II)\n",
    "  * removing outliers\n",
    "  * checking the correlation\n",
    "3. Machine Learning example with Scikit-Learn\n",
    "  * more features provides with better prediction\n",
    "  * interpretation of the results R2\n",
    "  * importance of features\n",
    "  \n",
    "(Im not saying that for the followig project you need to do what was for the price prediciton) - just for reference\n",
    "* its a lot of material so you are divided into groups (at least one person knows ML) and the idea is that those who know more of ML can share and explain some concepts to the other collegues"
   ]
  },
  {
   "cell_type": "markdown",
   "id": "accepting-meditation",
   "metadata": {},
   "source": [
    "# Please review the example above by yourself and dont hesitate to contact me if you have any doubts (this course is not about machine learning so you have rights to be confused about this material)\n",
    "- lets only look at one detail in the Scikit-Learn implementation."
   ]
  },
  {
   "cell_type": "code",
   "execution_count": null,
   "id": "suitable-uniform",
   "metadata": {},
   "outputs": [],
   "source": []
  }
 ],
 "metadata": {
  "deepnote": {},
  "deepnote_execution_queue": [],
  "deepnote_notebook_id": "d86a4b5c-01bd-41a9-85c6-a24add4f0638",
  "kernelspec": {
   "display_name": "Python 3",
   "language": "python",
   "name": "python3"
  },
  "language_info": {
   "codemirror_mode": {
    "name": "ipython",
    "version": 3
   },
   "file_extension": ".py",
   "mimetype": "text/x-python",
   "name": "python",
   "nbconvert_exporter": "python",
   "pygments_lexer": "ipython3",
   "version": "3.7.2"
  }
 },
 "nbformat": 4,
 "nbformat_minor": 5
}
