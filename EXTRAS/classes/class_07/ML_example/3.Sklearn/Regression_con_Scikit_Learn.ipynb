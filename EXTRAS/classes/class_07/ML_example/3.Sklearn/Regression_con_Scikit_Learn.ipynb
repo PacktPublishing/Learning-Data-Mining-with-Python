{
 "cells": [
  {
   "cell_type": "markdown",
   "id": "disturbed-malaysia",
   "metadata": {
    "cell_id": "a3cc40ef-8c5e-400e-be93-76478e506e6e",
    "deepnote_cell_height": 344.7833251953125,
    "deepnote_cell_type": "markdown"
   },
   "source": [
    "# 3. Regresión con Scikit-Learn"
   ]
  },
  {
   "cell_type": "markdown",
   "id": "ecological-fetish",
   "metadata": {
    "cell_id": "00004-21c8c664-bfa9-4be0-9bca-5206d6bdb7ae",
    "deepnote_cell_height": 84.23333740234375,
    "deepnote_cell_type": "markdown"
   },
   "source": [
    "   <a id=\"split_train_test\"></a>  \n",
    "## Dividir datos en subconjuntos usando Scikit-Learn"
   ]
  },
  {
   "cell_type": "markdown",
   "id": "boolean-munich",
   "metadata": {
    "cell_id": "00005-bde306bf-9c2e-424b-ae06-326b1b447b50",
    "deepnote_cell_height": 340.33331298828125,
    "deepnote_cell_type": "markdown"
   },
   "source": [
    "Dividir los datos en conjuntos de `X_train`, `y_train` y validación es una tarea repetitiva; deberá realizar la división cada vez que ejecute sus modelos de aprendizaje automático. Scikit-learn tiene una función `train_test_split()` incorporada que permite dividir los datos en conjuntos de datos más pequeños.\n",
    "\n",
    "Generalmente, esta función recibe tres parámetros importantes:\n",
    "\n",
    "* `arrays` - los datos que se quieren dividir. \n",
    "* `test_size` - el tamaño del conjunto de prueba es la proporción de los datos originales que se quieren usar como conjunto de prueba. \n",
    "* `random_state` - inicializa la \"semilla\" para la función aleatoria utilizada para dividir el conjunto de datos (es util si se quieren comparar diferentes algoritmos y se desea dar a los métodos la misma \"oportunidad\").\n",
    "\n",
    "Luego, la función `train_test_split()` devuelve los conjuntos de datos divididos. \n",
    "\n",
    "El uso de esta función con los datos de precios de la vivienda se explicará a partir del siguiente ejemplo. "
   ]
  },
  {
   "cell_type": "markdown",
   "id": "mysterious-question",
   "metadata": {
    "cell_id": "00006-1053871f-f145-4bf5-afc2-b937164451a5",
    "deepnote_cell_height": 52.633331298828125,
    "deepnote_cell_type": "markdown"
   },
   "source": [
    "En primer lugar. como siempre, se importan las bibliotecas y los datos:"
   ]
  },
  {
   "cell_type": "code",
   "execution_count": 1,
   "id": "military-torture",
   "metadata": {
    "cell_id": "00007-f093b0bd-d92f-424e-894f-02d40b82c979",
    "deepnote_cell_height": 117.23333740234375,
    "deepnote_cell_type": "code",
    "deepnote_to_be_reexecuted": false,
    "execution_millis": 739,
    "execution_start": 1656175854110,
    "source_hash": "8ca6a091"
   },
   "outputs": [],
   "source": [
    "import pandas as pd\n",
    "import numpy as np\n",
    "import matplotlib.pyplot as plt"
   ]
  },
  {
   "cell_type": "code",
   "execution_count": 2,
   "id": "willing-safety",
   "metadata": {
    "cell_id": "00008-63510dd0-87ab-41dc-ad26-5ce73146c483",
    "deepnote_cell_height": 81.23333740234375,
    "deepnote_cell_type": "code",
    "deepnote_to_be_reexecuted": false,
    "execution_millis": 61,
    "execution_start": 1656175854852,
    "source_hash": "9e758bdb"
   },
   "outputs": [],
   "source": [
    "df=pd.read_csv('data/kc_house_data_final.csv',sep=',')"
   ]
  },
  {
   "cell_type": "code",
   "execution_count": 3,
   "id": "smaller-monthly",
   "metadata": {
    "cell_id": "e7645621bac64f49a9081da26c76c113",
    "deepnote_cell_height": 195.35000610351562,
    "deepnote_cell_type": "code",
    "deepnote_output_heights": [
     98
    ],
    "deepnote_to_be_reexecuted": false,
    "execution_millis": 460,
    "execution_start": 1656175854918,
    "source_hash": "25d43fa0",
    "tags": []
   },
   "outputs": [
    {
     "data": {
      "text/plain": [
       "Index(['date', 'price', 'bedrooms', 'bathrooms', 'sqft_living', 'sqft_lot',\n",
       "       'floors', 'waterfront', 'view', 'condition', 'grade', 'sqft_basement',\n",
       "       'yr_built', 'year_renovated', 'zipcode', 'lat', 'long', 'sqft_living15',\n",
       "       'sqft_lot15', 'city', 'year', 'month', 'day'],\n",
       "      dtype='object')"
      ]
     },
     "execution_count": 3,
     "metadata": {},
     "output_type": "execute_result"
    }
   ],
   "source": [
    "df.columns"
   ]
  },
  {
   "cell_type": "markdown",
   "id": "ignored-comment",
   "metadata": {
    "cell_id": "00009-67a0c716-6e0a-4cd4-8892-06eaf976a11a",
    "deepnote_cell_height": 119.83332824707031,
    "deepnote_cell_type": "markdown"
   },
   "source": [
    "Se puede comenzar con un caso simple y usar solo una característica (tamaño de la casa: `df['sqft_living']`) y el objetivo (precio de la vivienda: `df['price']`). Es común en el aprendizaje automático usar la letra mayúscula `X` para asignar las características y la letra minúscula `y` para asignar el objetivo (tenga en cuenta que se usan corchetes dobles (solo para seguir el formato que requiere scikit-learn))."
   ]
  },
  {
   "cell_type": "code",
   "execution_count": 4,
   "id": "related-observer",
   "metadata": {
    "cell_id": "00010-b557b43f-772a-487c-ba31-47d5dc2763fe",
    "deepnote_cell_height": 99.23333740234375,
    "deepnote_cell_type": "code",
    "deepnote_to_be_reexecuted": false,
    "execution_millis": 2,
    "execution_start": 1656175854934,
    "source_hash": "b33fd972"
   },
   "outputs": [],
   "source": [
    "X = df[['sqft_living']].to_numpy()\n",
    "y = df[['price']].to_numpy()"
   ]
  },
  {
   "cell_type": "markdown",
   "id": "introductory-retreat",
   "metadata": {
    "cell_id": "00011-c9b7fa21-cd78-4462-9a60-dfebfedc0959",
    "deepnote_cell_height": 52.633331298828125,
    "deepnote_cell_type": "markdown"
   },
   "source": [
    "Se verifica la dimensión de cada variable (ambas tienen que tener el mismo número de filas) "
   ]
  },
  {
   "cell_type": "code",
   "execution_count": 5,
   "id": "abroad-freeze",
   "metadata": {
    "cell_id": "00012-62205b5e-e950-41c9-bbfb-19d49e08a632",
    "deepnote_cell_height": 118.35000610351562,
    "deepnote_cell_type": "code",
    "deepnote_output_heights": [
     21
    ],
    "deepnote_to_be_reexecuted": false,
    "execution_millis": 450,
    "execution_start": 1656175854940,
    "source_hash": "83f8c40"
   },
   "outputs": [
    {
     "data": {
      "text/plain": [
       "(21537, 1)"
      ]
     },
     "execution_count": 5,
     "metadata": {},
     "output_type": "execute_result"
    }
   ],
   "source": [
    "X.shape"
   ]
  },
  {
   "cell_type": "code",
   "execution_count": 6,
   "id": "coated-cannon",
   "metadata": {
    "cell_id": "00013-fc93a98b-0550-416f-bca1-afe1d4e74830",
    "deepnote_cell_height": 118.35000610351562,
    "deepnote_cell_type": "code",
    "deepnote_output_heights": [
     21
    ],
    "deepnote_to_be_reexecuted": false,
    "execution_millis": 408,
    "execution_start": 1656175854985,
    "source_hash": "57b8ea20"
   },
   "outputs": [
    {
     "data": {
      "text/plain": [
       "(21537, 1)"
      ]
     },
     "execution_count": 6,
     "metadata": {},
     "output_type": "execute_result"
    }
   ],
   "source": [
    "y.shape"
   ]
  },
  {
   "cell_type": "markdown",
   "id": "varied-runner",
   "metadata": {
    "cell_id": "00014-7112df4a-7a04-4c61-b65c-56fb267ee504",
    "deepnote_cell_height": 142.23333740234375,
    "deepnote_cell_type": "markdown"
   },
   "source": [
    "Ahora, se dividen las filas de los datos `X` y `Y` en cuatro subconjuntos llamados `X_train`, `X_test` y `y_train`, `y_test`. Con el parámetro `test_size=0.2` se hace que el 20 % de los datos totales estén en subconjunto para pruebas: `X_test` y `y_test` y 80 % de los datos totales estén en subconjunto para entrenamiento `X_train` y `y_train`. El tamaño del subconjunto de prueba siempre es más pequeño que el tamaño del subconjunto de entrenamiento, y suele estar entre el 10 % y el 30 % de los datos totales."
   ]
  },
  {
   "cell_type": "code",
   "execution_count": 7,
   "id": "alpha-mayor",
   "metadata": {
    "cell_id": "00015-b4d758aa-45b6-400a-95d3-0f65bb217df3",
    "deepnote_cell_height": 81.23333740234375,
    "deepnote_cell_type": "code",
    "deepnote_to_be_reexecuted": false,
    "execution_millis": 810,
    "execution_start": 1656175854987,
    "source_hash": "746a4dbc"
   },
   "outputs": [],
   "source": [
    "from sklearn.model_selection import train_test_split"
   ]
  },
  {
   "cell_type": "code",
   "execution_count": 8,
   "id": "casual-option",
   "metadata": {
    "cell_id": "00016-bfe87fd6-54f8-400c-a248-761c05b8bcd9",
    "deepnote_cell_height": 81.23333740234375,
    "deepnote_cell_type": "code",
    "deepnote_to_be_reexecuted": false,
    "execution_millis": 3,
    "execution_start": 1656175855806,
    "source_hash": "50299e5a"
   },
   "outputs": [],
   "source": [
    "X_train, X_test, y_train, y_test = train_test_split(X, y, random_state=13, test_size=0.2)"
   ]
  },
  {
   "cell_type": "code",
   "execution_count": 9,
   "id": "earlier-spiritual",
   "metadata": {
    "cell_id": "29b0ed5e69aa4f7b9c49f9dde3d09463",
    "deepnote_cell_height": 150.98333740234375,
    "deepnote_cell_type": "code",
    "deepnote_to_be_reexecuted": false,
    "execution_millis": 40,
    "execution_start": 1656175855845,
    "source_hash": "a2ce52af",
    "tags": []
   },
   "outputs": [
    {
     "name": "stdout",
     "output_type": "stream",
     "text": [
      "(17229, 1)\n",
      "(17229, 1)\n"
     ]
    }
   ],
   "source": [
    "print(X_train.shape)\n",
    "print(y_train.shape)"
   ]
  },
  {
   "cell_type": "code",
   "execution_count": 10,
   "id": "prompt-wonder",
   "metadata": {
    "cell_id": "754fbe954bf54e129c27b2adafb6aea6",
    "deepnote_cell_height": 150.98333740234375,
    "deepnote_cell_type": "code",
    "deepnote_to_be_reexecuted": false,
    "execution_millis": 0,
    "execution_start": 1656175855846,
    "source_hash": "9ea34673",
    "tags": []
   },
   "outputs": [
    {
     "name": "stdout",
     "output_type": "stream",
     "text": [
      "(4308, 1)\n",
      "(4308, 1)\n"
     ]
    }
   ],
   "source": [
    "print(X_test.shape)\n",
    "print(y_test.shape)"
   ]
  },
  {
   "cell_type": "code",
   "execution_count": 11,
   "id": "distinguished-kernel",
   "metadata": {
    "cell_id": "97122b6f301648679049918e8b59c84f",
    "deepnote_cell_height": 118.35000610351562,
    "deepnote_cell_type": "code",
    "deepnote_output_heights": [
     21
    ],
    "deepnote_to_be_reexecuted": false,
    "execution_millis": 38,
    "execution_start": 1656175855847,
    "source_hash": "2baa5560",
    "tags": []
   },
   "outputs": [
    {
     "data": {
      "text/plain": [
       "0.20002785903329154"
      ]
     },
     "execution_count": 11,
     "metadata": {},
     "output_type": "execute_result"
    }
   ],
   "source": [
    "X_test.shape[0]/X.shape[0]"
   ]
  },
  {
   "cell_type": "markdown",
   "id": "configured-criterion",
   "metadata": {
    "cell_id": "3dea49fc1d3e4de4ae9cb36cf08bbfef",
    "deepnote_cell_height": 84.23333740234375,
    "deepnote_cell_type": "markdown",
    "tags": []
   },
   "source": [
    "<a id=\"scaling_normalization\"></a>  \n",
    "## Escalado y normalización de datos\n"
   ]
  },
  {
   "cell_type": "markdown",
   "id": "turkish-aspect",
   "metadata": {
    "cell_id": "6635b930672448ee80d6209cd81caa52",
    "deepnote_cell_height": 486.8666687011719,
    "deepnote_cell_type": "markdown",
    "tags": []
   },
   "source": [
    "La estandarización es un método útil para escalar variables independientes, de modo que tenga una distribución con 0 valor medio y varianza igual a 1. \n",
    "\n",
    "La fórmula matemática para la estandarización, como se menciona en el ejercicio, es la siguiente:\n",
    "\n",
    "$$ x_{nuevo}=\\frac{x_{i} - \\mu}{\\sigma} $$\n",
    "\n",
    "Explicación: tome cada elemento de una matriz en una columna dada y reste de ese elemento un valor medio de todos los elementos de esa columna y el resultado divídalo por la desviación estándar de todos los elementos de esa columna. Se debe hacer la misma operación con todos los elementos de todas las columnas.\n",
    "\n",
    "Pero en lugar de escribir su propio código, se pueden usar los métodos Scikit-Learn que proporcionan una mayor flexibilidad.\n",
    "\n",
    "Estandarización es una buena opción si los puntos de sus datos no están distribuidos normalmente, es decir, no siguen la distribución gaussiana.\n"
   ]
  },
  {
   "cell_type": "markdown",
   "id": "vietnamese-revision",
   "metadata": {
    "cell_id": "d84c3ceffe0a4399b578d02057d829f7",
    "deepnote_cell_height": 97.43333435058594,
    "deepnote_cell_type": "markdown",
    "tags": []
   },
   "source": [
    "En consecuencia, la estandarización es importante si se tienen muchas características o al menos dos. Ahora se está viendo el problema unidimensional porque se está teniendo en cuenta solo el tamaño de la casa; sin embargo, se estandarizará este valor solo para ver cómo funciona."
   ]
  },
  {
   "cell_type": "markdown",
   "id": "joint-switch",
   "metadata": {
    "cell_id": "904a1ef4770049069c9a6615c8f56438",
    "deepnote_cell_height": 119.83332824707031,
    "deepnote_cell_type": "markdown",
    "tags": []
   },
   "source": [
    "Hay varios escaladores en la biblioteca Scikit Learn (StandardScaler, MinMaxScaler, MaxAbsScaler, RobustScaler), pero el más común es el StandardScaler o Escalador Estándar (https://scikit-learn.org/stable/modules/generated/sklearn.preprocessing.StandardScaler.html#sklearn.preprocessing.StandardScaler) que se refiere a la fórmula anterior. Para escalar el conjunto de datos en sentido columna, simplemente, se puede usar:"
   ]
  },
  {
   "cell_type": "code",
   "execution_count": 12,
   "id": "subjective-yeast",
   "metadata": {
    "cell_id": "48b46174d0ee40a9b6fca06f38e4ec10",
    "deepnote_cell_height": 153.23333740234375,
    "deepnote_cell_type": "code",
    "deepnote_to_be_reexecuted": false,
    "execution_millis": 19,
    "execution_start": 1656175855868,
    "source_hash": "d1046472",
    "tags": []
   },
   "outputs": [],
   "source": [
    "from sklearn.preprocessing import StandardScaler\n",
    "scaler=StandardScaler()\n",
    "X_train=scaler.fit_transform(X_train)\n",
    "X_test=scaler.transform(X_test)\n",
    "#X=(X-X.mean())/(X.std())"
   ]
  },
  {
   "cell_type": "markdown",
   "id": "supposed-object",
   "metadata": {
    "cell_id": "c62de4b1099045fea86ec7657d5da72e",
    "deepnote_cell_height": 210.03334045410156,
    "deepnote_cell_type": "markdown",
    "tags": []
   },
   "source": [
    "* `scaler=StandardScaler()`: inicialmente cree un objeto `scaler` de la función `StandardScaler()`.\n",
    "\n",
    "* `X_train=scaler.fit_transform(X_train)` utilice `fit_transform()` junto con el objeto asignado para transformar los datos y estandarizarlos.`fit_transform()`: hace el proceso en dos pasos: `fit`: encuentra el valor medio y la desviación estándar del conjunto de datos X_train, `transform`: resta la media (encontrada) de cada valor de la columna dada y divide el resultado por la desviación estándar. Este proceso se llama transformación.\n",
    "\n",
    "* `X_test=scaler.transform(X_test)` el mismo proceso debe aplicarse a los datos `X_test` con la diferencia de que no se vuelve a hacer el `fit`, sino que se usan los medios y la desviación estándar del conjunto de datos `X_train`."
   ]
  },
  {
   "cell_type": "markdown",
   "id": "thirty-conjunction",
   "metadata": {
    "cell_id": "edcc4891cdf14144b81894164163555a",
    "deepnote_cell_height": 52.633331298828125,
    "deepnote_cell_type": "markdown",
    "tags": []
   },
   "source": [
    "Después de la estandarización se puede ver que los datos tienen media 0 y desviación estándar =1:"
   ]
  },
  {
   "cell_type": "code",
   "execution_count": 13,
   "id": "physical-chemistry",
   "metadata": {
    "cell_id": "bba9e888e7a1476b82fded1adbb472c7",
    "deepnote_cell_height": 291.3500061035156,
    "deepnote_cell_type": "code",
    "deepnote_output_heights": [
     194
    ],
    "deepnote_to_be_reexecuted": false,
    "execution_millis": 2658759714,
    "execution_start": 1656175855868,
    "source_hash": "4e5391b3",
    "tags": []
   },
   "outputs": [
    {
     "data": {
      "text/plain": [
       "array([[ 1.20673884e-01],\n",
       "       [ 4.95240891e-01],\n",
       "       [-9.96596488e-02],\n",
       "       [ 8.69807897e-01],\n",
       "       [-1.01404381e+00],\n",
       "       [-3.97109919e-01],\n",
       "       [-5.09558862e-04],\n",
       "       [-2.75926475e-01],\n",
       "       [ 1.45369176e+00],\n",
       "       [-9.36927075e-01]])"
      ]
     },
     "execution_count": 13,
     "metadata": {},
     "output_type": "execute_result"
    }
   ],
   "source": [
    "X_train[0:10]"
   ]
  },
  {
   "cell_type": "code",
   "execution_count": 14,
   "id": "olive-cheese",
   "metadata": {
    "cell_id": "a682f6632dc947e9b652e62815728ccb",
    "deepnote_cell_height": 150.98333740234375,
    "deepnote_cell_type": "code",
    "deepnote_to_be_reexecuted": false,
    "execution_millis": 4,
    "execution_start": 1656175855888,
    "source_hash": "1228e5d",
    "tags": []
   },
   "outputs": [
    {
     "name": "stdout",
     "output_type": "stream",
     "text": [
      "-6.68105654380035e-17\n",
      "1.0\n"
     ]
    }
   ],
   "source": [
    "print(np.mean(X_train))\n",
    "print(np.std(X_train))"
   ]
  },
  {
   "cell_type": "markdown",
   "id": "cleared-language",
   "metadata": {
    "cell_id": "9e407bda9b234a15894e2d3d4d6c283a",
    "deepnote_cell_height": 52.633331298828125,
    "deepnote_cell_type": "markdown",
    "tags": []
   },
   "source": [
    "Y puede visualizarse con seaborn:"
   ]
  },
  {
   "cell_type": "code",
   "execution_count": 15,
   "id": "sufficient-sheet",
   "metadata": {
    "cell_id": "7ffe5c66776c4d6e95b65a177f636349",
    "deepnote_cell_height": 488.23333740234375,
    "deepnote_cell_type": "code",
    "deepnote_output_heights": [
     null,
     21,
     254
    ],
    "deepnote_to_be_reexecuted": false,
    "execution_millis": 488,
    "execution_start": 1656175855891,
    "source_hash": "20814b98",
    "tags": []
   },
   "outputs": [
    {
     "name": "stderr",
     "output_type": "stream",
     "text": [
      "/home/michal/.local/lib/python3.7/site-packages/seaborn/distributions.py:2619: FutureWarning: `distplot` is a deprecated function and will be removed in a future version. Please adapt your code to use either `displot` (a figure-level function with similar flexibility) or `histplot` (an axes-level function for histograms).\n",
      "  warnings.warn(msg, FutureWarning)\n"
     ]
    },
    {
     "data": {
      "text/plain": [
       "<AxesSubplot:ylabel='Density'>"
      ]
     },
     "execution_count": 15,
     "metadata": {},
     "output_type": "execute_result"
    },
    {
     "data": {
      "image/png": "[encoded data removed]",
      "text/plain": [
       "<Figure size 432x288 with 1 Axes>"
      ]
     },
     "metadata": {
      "needs_background": "light"
     },
     "output_type": "display_data"
    }
   ],
   "source": [
    "import seaborn as sns\n",
    "sns.distplot(X_train[:,0])"
   ]
  },
  {
   "cell_type": "markdown",
   "id": "adaptive-attendance",
   "metadata": {
    "cell_id": "00020-b28c1ead-33b2-4fce-8d30-301cef895107",
    "deepnote_cell_height": 125.44999694824219,
    "deepnote_cell_type": "markdown"
   },
   "source": [
    "   <a id=\"univariate_regression\"></a>  \n",
    "## Scikit-Learn para el problema de regresión univariante - método: `LinearRegression`"
   ]
  },
  {
   "cell_type": "markdown",
   "id": "molecular-young",
   "metadata": {
    "cell_id": "00021-385b6a76-5774-4f8c-bbc0-c45437aa436e",
    "deepnote_cell_height": 75.03334045410156,
    "deepnote_cell_type": "markdown"
   },
   "source": [
    "Luego de tener los datos divididos y estandarizados, se puede usar scikit learn para realizar el ajuste. Lo que se hace es importar el módulo `LinearRegression` del modelo lineal de scikit-learn."
   ]
  },
  {
   "cell_type": "code",
   "execution_count": 16,
   "id": "rising-preserve",
   "metadata": {
    "cell_id": "00022-eef47de7-7bc4-4521-b3f2-62299f86f3b0",
    "deepnote_cell_height": 81.23333740234375,
    "deepnote_cell_type": "code",
    "deepnote_to_be_reexecuted": false,
    "execution_millis": 394,
    "execution_start": 1656175856381,
    "source_hash": "9527aab5"
   },
   "outputs": [],
   "source": [
    "from sklearn.linear_model import LinearRegression"
   ]
  },
  {
   "cell_type": "markdown",
   "id": "current-tension",
   "metadata": {
    "cell_id": "00023-c3273ebd-a5a5-4305-8cc9-48a2440e4e2a",
    "deepnote_cell_height": 52.633331298828125,
    "deepnote_cell_type": "markdown"
   },
   "source": [
    "Se intancia el objeto `linear_model`, que permitirá hacer el ajuste, verificar la precisión y comprobar la bondad del ajuste"
   ]
  },
  {
   "cell_type": "code",
   "execution_count": 17,
   "id": "front-alexandria",
   "metadata": {
    "cell_id": "00024-c1b6ef63-e697-4cf0-b32b-59573253099d",
    "deepnote_cell_height": 81.23333740234375,
    "deepnote_cell_type": "code",
    "deepnote_to_be_reexecuted": false,
    "execution_millis": 0,
    "execution_start": 1656175856776,
    "source_hash": "26d698d5"
   },
   "outputs": [],
   "source": [
    "linear_model = LinearRegression()"
   ]
  },
  {
   "cell_type": "markdown",
   "id": "complimentary-southeast",
   "metadata": {
    "cell_id": "00025-b6c20747-16a0-4582-9cd2-96ae47ad44ee",
    "deepnote_cell_height": 75.03334045410156,
    "deepnote_cell_type": "markdown"
   },
   "source": [
    "El entrenamiento del modelo se realiza simplemente usando el método `fit` y pasando el par de datos de entrenamiento `X_train` y `y_train`"
   ]
  },
  {
   "cell_type": "code",
   "execution_count": 18,
   "id": "secret-agriculture",
   "metadata": {
    "cell_id": "00026-ca60a2c9-773c-43b5-b87d-19f753db2145",
    "deepnote_cell_height": 118.35000610351562,
    "deepnote_cell_type": "code",
    "deepnote_output_heights": [
     21
    ],
    "deepnote_to_be_reexecuted": false,
    "execution_millis": 12,
    "execution_start": 1656175856776,
    "source_hash": "84b8bc70"
   },
   "outputs": [
    {
     "data": {
      "text/plain": [
       "LinearRegression()"
      ]
     },
     "execution_count": 18,
     "metadata": {},
     "output_type": "execute_result"
    }
   ],
   "source": [
    "linear_model.fit(X_train, y_train)"
   ]
  },
  {
   "cell_type": "markdown",
   "id": "grateful-index",
   "metadata": {
    "cell_id": "00027-21b5ea73-ebef-4a90-8f67-1d9886ed6275",
    "deepnote_cell_height": 133.9166717529297,
    "deepnote_cell_type": "markdown"
   },
   "source": [
    "Una vez que finaliza el entrenamiento, se puede usar el otro par de subconjuntos de datos que no participaron en el proceso de entrenamiento `X_test` e `y_test` para verificar imparcialmente qué tan bien ha aprendido el modelo. Para ello, se usa el método `score`. \n",
    "\n",
    "`score` devuelve el coeficiente de determinación $R^2$ de la predicción (introducido en el capítulo 1 de este Módulo)."
   ]
  },
  {
   "cell_type": "code",
   "execution_count": 19,
   "id": "synthetic-battle",
   "metadata": {
    "cell_id": "00028-3da1e22c-947e-4ed4-a4b1-629223149c4d",
    "deepnote_cell_height": 112.66667175292969,
    "deepnote_cell_type": "code",
    "deepnote_to_be_reexecuted": false,
    "execution_millis": 11,
    "execution_start": 1656175856777,
    "source_hash": "4b7a1c16"
   },
   "outputs": [
    {
     "name": "stdout",
     "output_type": "stream",
     "text": [
      "R2: 0.50\n"
     ]
    }
   ],
   "source": [
    "print(f'R2: {linear_model.score(X_test, y_test):.2f}')"
   ]
  },
  {
   "cell_type": "markdown",
   "id": "smooth-landing",
   "metadata": {
    "cell_id": "00029-1affbe17-1365-4833-8e99-31c87a8fb1a3",
    "deepnote_cell_height": 52.633331298828125,
    "deepnote_cell_type": "markdown"
   },
   "source": [
    "En realidad, scikit-learn tiene todas las métricas cuyos valores pueden obtenerse importando la función que sea de interés."
   ]
  },
  {
   "cell_type": "code",
   "execution_count": 20,
   "id": "stupid-paper",
   "metadata": {
    "cell_id": "00030-9e835616-e14a-4fb8-8e19-0a5d48f2048b",
    "deepnote_cell_height": 81.23333740234375,
    "deepnote_cell_type": "code",
    "deepnote_to_be_reexecuted": false,
    "execution_millis": 0,
    "execution_start": 1656175856778,
    "source_hash": "a9cca887"
   },
   "outputs": [],
   "source": [
    "from sklearn.metrics import r2_score, mean_absolute_error, mean_squared_error"
   ]
  },
  {
   "cell_type": "markdown",
   "id": "clear-publisher",
   "metadata": {
    "cell_id": "00031-5076309c-8994-402a-b92b-4e13a1af2e0d",
    "deepnote_cell_height": 75.03334045410156,
    "deepnote_cell_type": "markdown"
   },
   "source": [
    "Primero, se predecirán los precios de las casas para cada tamaño de casa en el subconjunto de prueba y comparar con los resultados verdaderos:"
   ]
  },
  {
   "cell_type": "code",
   "execution_count": 21,
   "id": "chemical-defendant",
   "metadata": {
    "cell_id": "00032-8664a5d2-15ba-4358-8706-a89c34f883a3",
    "deepnote_cell_height": 171.23333740234375,
    "deepnote_cell_type": "code",
    "deepnote_to_be_reexecuted": false,
    "execution_millis": 1,
    "execution_start": 1656175856778,
    "source_hash": "33b73590"
   },
   "outputs": [],
   "source": [
    "y_pred =  linear_model.predict(X_test)\n",
    "\n",
    "r2_linreg = r2_score(y_test, y_pred)\n",
    "MAE_linreg = mean_absolute_error(y_test, y_pred)\n",
    "MSE_linreg = mean_squared_error(y_test, y_pred)\n",
    "RMSE_linreg = np.sqrt(MSE_linreg)"
   ]
  },
  {
   "cell_type": "code",
   "execution_count": 22,
   "id": "blind-photographer",
   "metadata": {
    "cell_id": "00033-3c82907f-788e-4cfd-b651-c0f4cb8eb263",
    "deepnote_cell_height": 265.933349609375,
    "deepnote_cell_type": "code",
    "deepnote_to_be_reexecuted": false,
    "execution_millis": 9,
    "execution_start": 1656175856779,
    "source_hash": "e41ed988"
   },
   "outputs": [
    {
     "name": "stdout",
     "output_type": "stream",
     "text": [
      "\n",
      "MAE :   172064.42\n",
      "MSE :   64792017501.34\n",
      "RMSE:   254542.76\n",
      "R2  :   0.50\n"
     ]
    }
   ],
   "source": [
    "print(\"\")\n",
    "print(f'MAE :   {MAE_linreg:.2f}')\n",
    "print(f'MSE :   {MSE_linreg:.2f}')\n",
    "print(f\"RMSE:   {RMSE_linreg:.2f}\")\n",
    "print(f\"R2  :   {r2_linreg:.2f}\")"
   ]
  },
  {
   "cell_type": "markdown",
   "id": "described-liquid",
   "metadata": {
    "cell_id": "00034-2b9ce708-41bd-4837-8b58-466d5350f3fe",
    "deepnote_cell_height": 52.633331298828125,
    "deepnote_cell_type": "markdown"
   },
   "source": [
    "Ahora se pronosticará el precio de la casa con el tamaño de 4000 pies cuadrados"
   ]
  },
  {
   "cell_type": "markdown",
   "id": "developmental-floor",
   "metadata": {
    "cell_id": "da81795869b24c37ae73302bf69a52c0",
    "deepnote_cell_height": 263.9666748046875,
    "deepnote_cell_type": "markdown",
    "tags": []
   },
   "source": [
    "Antes, es importante recordar dos cosas:\n",
    "\n",
    "* El modelo fue entrenado usando valores escalados para que no se pudiera, simplemente, poner el valor `4000` pies cuadrados, sino que primero deba escalarse usando el escalador.\n",
    "* Los datos que se escalaron originalmente `X_train` tenían dimensión (17229, 1), por lo que para estandarizar el valor de `4000` se debe convertir en una matriz con un solo valor, cuya forma en la que la última dimensión debe ser igual de `X_train`. Así que antes de escalar el valor `4000` debe convertirse a una matriz numpy que tenga una fila y una columna. Si a esa variable se le nombra `una_casa_particular`, entonces `una_casa_particular.shape` debe volver: (1,1) (si se quisiera escalar 10 casas la forma tiene que ser (10,1), si se quiere escalar 20 casas debe ser (20,1)), lo que significa preservar la última dimensión porque el escalador lo requiere."
   ]
  },
  {
   "cell_type": "code",
   "execution_count": 23,
   "id": "dramatic-fifty",
   "metadata": {
    "cell_id": "90e5d3cf1a224f5892655cfbd183dbb9",
    "deepnote_cell_height": 168.98333740234375,
    "deepnote_cell_type": "code",
    "deepnote_to_be_reexecuted": false,
    "execution_millis": 0,
    "execution_start": 1656175856780,
    "source_hash": "81a66829",
    "tags": []
   },
   "outputs": [
    {
     "name": "stdout",
     "output_type": "stream",
     "text": [
      "(1, 1)\n",
      "2\n"
     ]
    }
   ],
   "source": [
    "una_casa_particular=np.array([[4000]])\n",
    "print(una_casa_particular.shape)\n",
    "print(una_casa_particular.ndim)"
   ]
  },
  {
   "cell_type": "code",
   "execution_count": 24,
   "id": "limited-spice",
   "metadata": {
    "cell_id": "f53a282c8d5a4c068b9f905ef36a12bf",
    "deepnote_cell_height": 81.23333740234375,
    "deepnote_cell_type": "code",
    "deepnote_to_be_reexecuted": false,
    "execution_millis": 8,
    "execution_start": 1656175856780,
    "source_hash": "8d48bcc5",
    "tags": []
   },
   "outputs": [],
   "source": [
    "una_casa_particular_escalada=scaler.transform(una_casa_particular)"
   ]
  },
  {
   "cell_type": "markdown",
   "id": "foreign-newsletter",
   "metadata": {
    "cell_id": "e5811e6970e0481dae82e696b3049128",
    "deepnote_cell_height": 75.03334045410156,
    "deepnote_cell_type": "markdown",
    "tags": []
   },
   "source": [
    "Ahora se puede usar el método `predict` a partir del modelo entrenado:\n",
    "(el valor previsto estará en USD porque solo se escalaron las características `X`, no los objetivos `y`)"
   ]
  },
  {
   "cell_type": "code",
   "execution_count": 25,
   "id": "adequate-practitioner",
   "metadata": {
    "cell_id": "00035-24c145d1-66b5-400c-884f-6acc961b89aa",
    "deepnote_cell_height": 118.35000610351562,
    "deepnote_cell_type": "code",
    "deepnote_output_heights": [
     21
    ],
    "deepnote_to_be_reexecuted": false,
    "execution_millis": 7,
    "execution_start": 1656175856781,
    "source_hash": "613b0487"
   },
   "outputs": [
    {
     "data": {
      "text/plain": [
       "array([[1081656.44623207]])"
      ]
     },
     "execution_count": 25,
     "metadata": {},
     "output_type": "execute_result"
    }
   ],
   "source": [
    "linear_model.predict(una_casa_particular_escalada)"
   ]
  },
  {
   "cell_type": "markdown",
   "id": "hundred-military",
   "metadata": {
    "cell_id": "00036-48763d3f-72e7-4480-907b-6d56f9060213",
    "deepnote_cell_height": 75.03334045410156,
    "deepnote_cell_type": "markdown"
   },
   "source": [
    "También es posible visulizar el ajuste porque el modelo permite el acceso a los valores interceptados y dependientes para esta simple regresión lineal."
   ]
  },
  {
   "cell_type": "code",
   "execution_count": 26,
   "id": "collective-spring",
   "metadata": {
    "cell_id": "00037-2ce4f235-c387-4b06-98b2-b143782d2da1",
    "deepnote_cell_height": 150.98333740234375,
    "deepnote_cell_type": "code",
    "deepnote_to_be_reexecuted": false,
    "execution_millis": 6,
    "execution_start": 1656175856782,
    "source_hash": "5298bc0e"
   },
   "outputs": [
    {
     "name": "stdout",
     "output_type": "stream",
     "text": [
      "Intercept: [537325.33878925]\n",
      "Coefficients: [[256070.37369648]]\n"
     ]
    }
   ],
   "source": [
    "print('Intercept: {}'.format(linear_model.intercept_))\n",
    "print('Coefficients: {}'.format(linear_model.coef_))"
   ]
  },
  {
   "cell_type": "code",
   "execution_count": 27,
   "id": "entire-hacker",
   "metadata": {
    "cell_id": "00038-d8b9eb00-e2a3-463a-8a2c-f62ba393d634",
    "deepnote_cell_height": 731.4666748046875,
    "deepnote_cell_type": "code",
    "deepnote_output_heights": [
     21,
     384
    ],
    "deepnote_to_be_reexecuted": false,
    "execution_millis": 277,
    "execution_start": 1656175856782,
    "source_hash": "cd728fc6"
   },
   "outputs": [
    {
     "data": {
      "text/plain": [
       "<matplotlib.legend.Legend at 0x7fbc84e3d8d0>"
      ]
     },
     "execution_count": 27,
     "metadata": {},
     "output_type": "execute_result"
    },
    {
     "data": {
      "image/png": "[encoded data removed]",
      "text/plain": [
       "<Figure size 576x432 with 1 Axes>"
      ]
     },
     "metadata": {
      "needs_background": "light"
     },
     "output_type": "display_data"
    }
   ],
   "source": [
    "fig,ax=plt.subplots(1,1,figsize=(8,6))\n",
    "\n",
    "\n",
    "x_new=np.linspace(np.min(X_train),np.max(X_train),100)\n",
    "y_new=linear_model.intercept_ + x_new* linear_model.coef_[0]\n",
    "\n",
    "ax.scatter(X_train,y_train, label='training data',s=0.1)\n",
    "ax.plot(x_new,y_new,'-k', label='ajuste',lw=2)\n",
    "ax.set_xlabel('tamano de la casa')\n",
    "ax.set_ylabel('precio de la casa')\n",
    "ax.grid(True)\n",
    "ax.legend()"
   ]
  },
  {
   "cell_type": "markdown",
   "id": "effective-spank",
   "metadata": {
    "cell_id": "00039-8bf86252-fd4c-4c4e-a275-82fdf5054457",
    "deepnote_cell_height": 75.11666870117188,
    "deepnote_cell_type": "markdown"
   },
   "source": [
    "El resultado $R^2=0.5$ no es muy bueno y se puede mejorar usando más características (es obvio que  el precio de la casa no depende solo de su tamaño). "
   ]
  },
  {
   "cell_type": "markdown",
   "id": "serial-spectrum",
   "metadata": {
    "cell_id": "dc78a65089874ff09bf1bbbea9ace818",
    "deepnote_cell_height": 75.03334045410156,
    "deepnote_cell_type": "markdown",
    "tags": []
   },
   "source": [
    "Se visualizan algunos de los precios que se han predicho y se comparan con valores reales. Para ello, se utilizarán diccionario y módulo `tabulate` para imprimirlo en un formato agradable:"
   ]
  },
  {
   "cell_type": "code",
   "execution_count": 28,
   "id": "colonial-partnership",
   "metadata": {
    "cell_id": "624c0fb5b72b48568f45e2595fc81087",
    "deepnote_cell_height": 757.63330078125,
    "deepnote_cell_type": "code",
    "deepnote_to_be_reexecuted": false,
    "execution_millis": 12,
    "execution_start": 1656175857063,
    "source_hash": "fa6b3677",
    "tags": []
   },
   "outputs": [
    {
     "name": "stdout",
     "output_type": "stream",
     "text": [
      "╒════════════════════╤═══════════════════════╕\n",
      "│   Price True (USD) │   Price Predict (USD) │\n",
      "╞════════════════════╪═══════════════════════╡\n",
      "│             180000 │                514626 │\n",
      "├────────────────────┼───────────────────────┤\n",
      "│             538000 │                517448 │\n",
      "├────────────────────┼───────────────────────┤\n",
      "│             514000 │                212775 │\n",
      "├────────────────────┼───────────────────────┤\n",
      "│             415000 │                768803 │\n",
      "├────────────────────┼───────────────────────┤\n",
      "│             315000 │                432816 │\n",
      "├────────────────────┼───────────────────────┤\n",
      "│             443000 │                297406 │\n",
      "├────────────────────┼───────────────────────┤\n",
      "│             249000 │                266375 │\n",
      "├────────────────────┼───────────────────────┤\n",
      "│             499950 │                466669 │\n",
      "├────────────────────┼───────────────────────┤\n",
      "│             130000 │                173280 │\n",
      "├────────────────────┼───────────────────────┤\n",
      "│             570000 │                624647 │\n",
      "╘════════════════════╧═══════════════════════╛\n"
     ]
    }
   ],
   "source": [
    "from tabulate import tabulate\n",
    "np.random.seed(123)\n",
    "random=np.random.randint(len(y_test), size=10)\n",
    "random_True=[]\n",
    "random_pred=[]\n",
    "for i in random:\n",
    "    random_True.append(y_test[i])\n",
    "    random_pred.append(y_pred[i])\n",
    "\n",
    "dict={\"Price True (USD)\":random_True, \"Price Predict (USD)\":random_pred}\n",
    "\n",
    "print(tabulate(dict, headers='keys', tablefmt='fancy_grid')) "
   ]
  },
  {
   "cell_type": "markdown",
   "id": "sublime-vacation",
   "metadata": {
    "cell_id": "18ffa53a0be045ff8deb49f5d65b7bf0",
    "deepnote_cell_height": 52.71665954589844,
    "deepnote_cell_type": "markdown",
    "tags": []
   },
   "source": [
    "Se visualiza $R^2$ trazando el valor real del precio frente al precio previsto (`y_test` vs. `y_pred`)."
   ]
  },
  {
   "cell_type": "code",
   "execution_count": 29,
   "id": "third-forestry",
   "metadata": {
    "cell_id": "187586ea2af64deab4f2770ebecebe45",
    "deepnote_cell_height": 768.4666748046875,
    "deepnote_cell_type": "code",
    "deepnote_output_heights": [
     21,
     385
    ],
    "deepnote_to_be_reexecuted": false,
    "execution_millis": 1033,
    "execution_start": 1656175857088,
    "source_hash": "42a2511f",
    "tags": []
   },
   "outputs": [
    {
     "data": {
      "text/plain": [
       "<matplotlib.legend.Legend at 0x7fbc8148eb00>"
      ]
     },
     "execution_count": 29,
     "metadata": {},
     "output_type": "execute_result"
    },
    {
     "data": {
      "image/png": "[encoded data removed]",
      "text/plain": [
       "<Figure size 576x432 with 1 Axes>"
      ]
     },
     "metadata": {
      "needs_background": "light"
     },
     "output_type": "display_data"
    }
   ],
   "source": [
    "fig,ax=plt.subplots(1,1,figsize=(8,6))\n",
    "\n",
    "x_ref=np.linspace(0,np.max(y_pred),100)\n",
    "y_ref=np.linspace(0,np.max(y_pred),100)\n",
    "ax.plot(x_ref,y_ref,'--r' ,label='predicción perfecta')\n",
    "\n",
    "ax.scatter(y_pred,y_test, label='training data',s=0.5)\n",
    "\n",
    "ax.set_xlabel('y_pred')\n",
    "ax.set_ylabel('y_test')\n",
    "ax.set_xlim(0,np.max(y_pred))\n",
    "ax.set_ylim(0,np.max(y_pred))\n",
    "ax.grid(True)\n",
    "ax.legend()"
   ]
  },
  {
   "cell_type": "markdown",
   "id": "aware-poker",
   "metadata": {
    "cell_id": "9187f12843844e6fb063f0e6a1eef0a8",
    "deepnote_cell_height": 75.03334045410156,
    "deepnote_cell_type": "markdown",
    "tags": []
   },
   "source": [
    "Puede verse una gran dispersión de los puntos que se relaciona con el error que cometimos durante nuestra predicción. Si nuestra predicción fuera perfecta, se observaría una línea recta entre `y_test` e `y_pred`"
   ]
  },
  {
   "cell_type": "markdown",
   "id": "ready-observer",
   "metadata": {
    "cell_id": "00040-4e86b0d8-42ea-418b-8bcc-08ad9a791859",
    "deepnote_cell_height": 125.44999694824219,
    "deepnote_cell_type": "markdown"
   },
   "source": [
    "   <a id=\"multivariate_regression\"></a>  \n",
    "## Scikit-Learn para el problema de regresión multivariante - método: `LinearRegression`"
   ]
  },
  {
   "cell_type": "markdown",
   "id": "small-caution",
   "metadata": {
    "cell_id": "00041-b79d0d21-0563-433d-813a-6315f276bcef",
    "deepnote_cell_height": 75.03334045410156,
    "deepnote_cell_type": "markdown"
   },
   "source": [
    "Se usan todas las columnas (características como: 'dormitorios', 'baños', 'sqft_living', 'sqft_lot', 'pisos', 'frente al mar', 'vista', 'condición'... etc) de nuestro conjunto de datos y se repite el procedimiento:"
   ]
  },
  {
   "cell_type": "code",
   "execution_count": 30,
   "id": "unexpected-habitat",
   "metadata": {
    "cell_id": "8472ea61e6514948a3ac615d1bf2d27f",
    "deepnote_cell_height": 395.4666748046875,
    "deepnote_cell_type": "code",
    "deepnote_to_be_reexecuted": false,
    "execution_millis": 727,
    "execution_start": 1656175857397,
    "source_hash": "c085b6ba",
    "tags": []
   },
   "outputs": [
    {
     "data": {
      "text/html": [
       "<div>\n",
       "<style scoped>\n",
       "    .dataframe tbody tr th:only-of-type {\n",
       "        vertical-align: middle;\n",
       "    }\n",
       "\n",
       "    .dataframe tbody tr th {\n",
       "        vertical-align: top;\n",
       "    }\n",
       "\n",
       "    .dataframe thead th {\n",
       "        text-align: right;\n",
       "    }\n",
       "</style>\n",
       "<table border=\"1\" class=\"dataframe\">\n",
       "  <thead>\n",
       "    <tr style=\"text-align: right;\">\n",
       "      <th></th>\n",
       "      <th>date</th>\n",
       "      <th>price</th>\n",
       "      <th>bedrooms</th>\n",
       "      <th>bathrooms</th>\n",
       "      <th>sqft_living</th>\n",
       "      <th>sqft_lot</th>\n",
       "      <th>floors</th>\n",
       "      <th>waterfront</th>\n",
       "      <th>view</th>\n",
       "      <th>condition</th>\n",
       "      <th>...</th>\n",
       "      <th>year_renovated</th>\n",
       "      <th>zipcode</th>\n",
       "      <th>lat</th>\n",
       "      <th>long</th>\n",
       "      <th>sqft_living15</th>\n",
       "      <th>sqft_lot15</th>\n",
       "      <th>city</th>\n",
       "      <th>year</th>\n",
       "      <th>month</th>\n",
       "      <th>day</th>\n",
       "    </tr>\n",
       "  </thead>\n",
       "  <tbody>\n",
       "    <tr>\n",
       "      <th>0</th>\n",
       "      <td>2014-10-13</td>\n",
       "      <td>221900.0</td>\n",
       "      <td>3</td>\n",
       "      <td>1.00</td>\n",
       "      <td>1180</td>\n",
       "      <td>5650.0</td>\n",
       "      <td>1.0</td>\n",
       "      <td>0</td>\n",
       "      <td>0</td>\n",
       "      <td>3</td>\n",
       "      <td>...</td>\n",
       "      <td>0</td>\n",
       "      <td>98178</td>\n",
       "      <td>47.5112</td>\n",
       "      <td>-122.257</td>\n",
       "      <td>1340</td>\n",
       "      <td>5650</td>\n",
       "      <td>Seattle</td>\n",
       "      <td>2014</td>\n",
       "      <td>10</td>\n",
       "      <td>13</td>\n",
       "    </tr>\n",
       "    <tr>\n",
       "      <th>1</th>\n",
       "      <td>2014-12-09</td>\n",
       "      <td>538000.0</td>\n",
       "      <td>3</td>\n",
       "      <td>2.25</td>\n",
       "      <td>2570</td>\n",
       "      <td>7242.0</td>\n",
       "      <td>2.0</td>\n",
       "      <td>0</td>\n",
       "      <td>0</td>\n",
       "      <td>3</td>\n",
       "      <td>...</td>\n",
       "      <td>1991</td>\n",
       "      <td>98125</td>\n",
       "      <td>47.7210</td>\n",
       "      <td>-122.319</td>\n",
       "      <td>1690</td>\n",
       "      <td>7639</td>\n",
       "      <td>Seattle</td>\n",
       "      <td>2014</td>\n",
       "      <td>12</td>\n",
       "      <td>9</td>\n",
       "    </tr>\n",
       "    <tr>\n",
       "      <th>2</th>\n",
       "      <td>2015-02-25</td>\n",
       "      <td>180000.0</td>\n",
       "      <td>2</td>\n",
       "      <td>1.00</td>\n",
       "      <td>770</td>\n",
       "      <td>10000.0</td>\n",
       "      <td>1.0</td>\n",
       "      <td>0</td>\n",
       "      <td>0</td>\n",
       "      <td>3</td>\n",
       "      <td>...</td>\n",
       "      <td>0</td>\n",
       "      <td>98028</td>\n",
       "      <td>47.7379</td>\n",
       "      <td>-122.233</td>\n",
       "      <td>2720</td>\n",
       "      <td>8062</td>\n",
       "      <td>Kenmore</td>\n",
       "      <td>2015</td>\n",
       "      <td>2</td>\n",
       "      <td>25</td>\n",
       "    </tr>\n",
       "    <tr>\n",
       "      <th>3</th>\n",
       "      <td>2014-12-09</td>\n",
       "      <td>604000.0</td>\n",
       "      <td>4</td>\n",
       "      <td>3.00</td>\n",
       "      <td>1960</td>\n",
       "      <td>5000.0</td>\n",
       "      <td>1.0</td>\n",
       "      <td>0</td>\n",
       "      <td>0</td>\n",
       "      <td>5</td>\n",
       "      <td>...</td>\n",
       "      <td>0</td>\n",
       "      <td>98136</td>\n",
       "      <td>47.5208</td>\n",
       "      <td>-122.393</td>\n",
       "      <td>1360</td>\n",
       "      <td>5000</td>\n",
       "      <td>Seattle</td>\n",
       "      <td>2014</td>\n",
       "      <td>12</td>\n",
       "      <td>9</td>\n",
       "    </tr>\n",
       "    <tr>\n",
       "      <th>4</th>\n",
       "      <td>2015-02-18</td>\n",
       "      <td>510000.0</td>\n",
       "      <td>3</td>\n",
       "      <td>2.00</td>\n",
       "      <td>1680</td>\n",
       "      <td>8080.0</td>\n",
       "      <td>1.0</td>\n",
       "      <td>0</td>\n",
       "      <td>0</td>\n",
       "      <td>3</td>\n",
       "      <td>...</td>\n",
       "      <td>0</td>\n",
       "      <td>98074</td>\n",
       "      <td>47.6168</td>\n",
       "      <td>-122.045</td>\n",
       "      <td>1800</td>\n",
       "      <td>7503</td>\n",
       "      <td>Sammamish</td>\n",
       "      <td>2015</td>\n",
       "      <td>2</td>\n",
       "      <td>18</td>\n",
       "    </tr>\n",
       "  </tbody>\n",
       "</table>\n",
       "<p>5 rows × 23 columns</p>\n",
       "</div>"
      ],
      "text/plain": [
       "         date     price  bedrooms  bathrooms  sqft_living  sqft_lot  floors  \\\n",
       "0  2014-10-13  221900.0         3       1.00         1180    5650.0     1.0   \n",
       "1  2014-12-09  538000.0         3       2.25         2570    7242.0     2.0   \n",
       "2  2015-02-25  180000.0         2       1.00          770   10000.0     1.0   \n",
       "3  2014-12-09  604000.0         4       3.00         1960    5000.0     1.0   \n",
       "4  2015-02-18  510000.0         3       2.00         1680    8080.0     1.0   \n",
       "\n",
       "   waterfront  view  condition  ...  year_renovated  zipcode      lat  \\\n",
       "0           0     0          3  ...               0    98178  47.5112   \n",
       "1           0     0          3  ...            1991    98125  47.7210   \n",
       "2           0     0          3  ...               0    98028  47.7379   \n",
       "3           0     0          5  ...               0    98136  47.5208   \n",
       "4           0     0          3  ...               0    98074  47.6168   \n",
       "\n",
       "      long  sqft_living15  sqft_lot15       city  year  month day  \n",
       "0 -122.257           1340        5650    Seattle  2014     10  13  \n",
       "1 -122.319           1690        7639    Seattle  2014     12   9  \n",
       "2 -122.233           2720        8062    Kenmore  2015      2  25  \n",
       "3 -122.393           1360        5000    Seattle  2014     12   9  \n",
       "4 -122.045           1800        7503  Sammamish  2015      2  18  \n",
       "\n",
       "[5 rows x 23 columns]"
      ]
     },
     "execution_count": 30,
     "metadata": {},
     "output_type": "execute_result"
    }
   ],
   "source": [
    "df.head()"
   ]
  },
  {
   "cell_type": "code",
   "execution_count": 31,
   "id": "casual-quantity",
   "metadata": {
    "cell_id": "00042-ad4f75b4-f05f-422e-8694-b7d6370ef52f",
    "deepnote_cell_height": 477.23333740234375,
    "deepnote_cell_type": "code",
    "deepnote_to_be_reexecuted": false,
    "execution_millis": 4,
    "execution_start": 1656175857474,
    "source_hash": "7a887ce"
   },
   "outputs": [],
   "source": [
    "X = df[['bedrooms', \n",
    "        'bathrooms', \n",
    "        'sqft_living', \n",
    "        'sqft_lot', \n",
    "        'floors',                                 \n",
    "        'waterfront', \n",
    "        'view', \n",
    "        'condition', \n",
    "        'grade', \n",
    "        'sqft_basement',\n",
    "        'yr_built',\n",
    "        'year_renovated',\n",
    "        'zipcode',\n",
    "        'lat', \n",
    "        'long',\n",
    "        'sqft_living15', \n",
    "        'sqft_lot15',\n",
    "        'year',\n",
    "        'month',\n",
    "        'day'\n",
    "         ]].to_numpy()\n",
    "\n",
    "y = df[['price']].to_numpy()"
   ]
  },
  {
   "cell_type": "code",
   "execution_count": 32,
   "id": "empty-heath",
   "metadata": {
    "cell_id": "00043-6341fcec-3f5f-4752-953a-f5aca35d8ddb",
    "deepnote_cell_height": 81.23333740234375,
    "deepnote_cell_type": "code",
    "deepnote_to_be_reexecuted": false,
    "execution_millis": 10,
    "execution_start": 1656175857482,
    "source_hash": "f450ee63"
   },
   "outputs": [],
   "source": [
    "X_train, X_test, y_train, y_test = train_test_split(X, y, random_state=1275, test_size=0.2)"
   ]
  },
  {
   "cell_type": "code",
   "execution_count": 33,
   "id": "corrected-iceland",
   "metadata": {
    "cell_id": "b017f012ee61417990cb11c3a0e6b5a4",
    "deepnote_cell_height": 135.23333740234375,
    "deepnote_cell_type": "code",
    "deepnote_to_be_reexecuted": false,
    "execution_millis": 8,
    "execution_start": 1656175857502,
    "source_hash": "58f125a9",
    "tags": []
   },
   "outputs": [],
   "source": [
    "from sklearn.preprocessing import StandardScaler\n",
    "scaler=StandardScaler()\n",
    "X_train=scaler.fit_transform(X_train)\n",
    "X_test=scaler.transform(X_test)"
   ]
  },
  {
   "cell_type": "code",
   "execution_count": 34,
   "id": "dressed-causing",
   "metadata": {
    "cell_id": "48d9d62486ca4a898b754f5df85cfc2a",
    "deepnote_cell_height": 81.23333740234375,
    "deepnote_cell_type": "code",
    "deepnote_to_be_reexecuted": false,
    "execution_millis": 1,
    "execution_start": 1656175857516,
    "source_hash": "9527aab5",
    "tags": []
   },
   "outputs": [],
   "source": [
    "from sklearn.linear_model import LinearRegression"
   ]
  },
  {
   "cell_type": "code",
   "execution_count": 35,
   "id": "together-siemens",
   "metadata": {
    "cell_id": "00044-4faf69e7-995e-42be-9740-86149a8da3ca",
    "deepnote_cell_height": 136.35000610351562,
    "deepnote_cell_type": "code",
    "deepnote_output_heights": [
     21
    ],
    "deepnote_to_be_reexecuted": false,
    "execution_millis": 600,
    "execution_start": 1656175857526,
    "source_hash": "c189e39f"
   },
   "outputs": [
    {
     "data": {
      "text/plain": [
       "LinearRegression()"
      ]
     },
     "execution_count": 35,
     "metadata": {},
     "output_type": "execute_result"
    }
   ],
   "source": [
    "linear_model_multi = LinearRegression()\n",
    "linear_model_multi.fit(X_train, y_train)"
   ]
  },
  {
   "cell_type": "code",
   "execution_count": 36,
   "id": "aquatic-confidentiality",
   "metadata": {
    "cell_id": "00045-52717b4c-344b-4e23-a0e7-1c678698df2a",
    "deepnote_cell_height": 171.23333740234375,
    "deepnote_cell_type": "code",
    "deepnote_to_be_reexecuted": false,
    "execution_millis": 60,
    "execution_start": 1656175857544,
    "source_hash": "fda77bc5"
   },
   "outputs": [],
   "source": [
    "y_pred =  linear_model_multi.predict(X_test)\n",
    "\n",
    "r2_linreg = r2_score(y_test, y_pred)\n",
    "MAE_linreg = mean_absolute_error(y_test, y_pred)\n",
    "MSE_linreg = mean_squared_error(y_test, y_pred)\n",
    "RMSE_linreg = np.sqrt(MSE_linreg)"
   ]
  },
  {
   "cell_type": "code",
   "execution_count": 37,
   "id": "corrected-contractor",
   "metadata": {
    "cell_id": "00046-a757e3f9-8d48-4808-8efd-1e8240b89fd5",
    "deepnote_cell_height": 265.933349609375,
    "deepnote_cell_type": "code",
    "deepnote_to_be_reexecuted": false,
    "execution_millis": 528,
    "execution_start": 1656175857605,
    "source_hash": "e41ed988"
   },
   "outputs": [
    {
     "name": "stdout",
     "output_type": "stream",
     "text": [
      "\n",
      "MAE :   121274.02\n",
      "MSE :   34081316608.80\n",
      "RMSE:   184611.26\n",
      "R2  :   0.74\n"
     ]
    }
   ],
   "source": [
    "print(\"\")\n",
    "print(f'MAE :   {MAE_linreg:.2f}')\n",
    "print(f'MSE :   {MSE_linreg:.2f}')\n",
    "print(f\"RMSE:   {RMSE_linreg:.2f}\")\n",
    "print(f\"R2  :   {r2_linreg:.2f}\")"
   ]
  },
  {
   "cell_type": "markdown",
   "id": "composite-joining",
   "metadata": {
    "cell_id": "00047-f13646e0-f5d1-468e-9a63-72b6d1e04804",
    "deepnote_cell_height": 134,
    "deepnote_cell_type": "markdown"
   },
   "source": [
    "El resultado $R^2$ es claramente mejor: $0.74$, pero realmente qué significa este valor y cómo se puede comparar con resultado anterior $R^2=0.5$. La respuesta es, posiblemente, que falta intuicion de sentido de $R^2$.\n",
    "\n",
    "La explicación intuitiva del valor del R-Squared se puede ver con más claridad cuando se trazan los valores predichos del objetivo (`y_pred`) versus los valores verdaderos del objetivo (`y_test`) "
   ]
  },
  {
   "cell_type": "code",
   "execution_count": 38,
   "id": "artificial-welsh",
   "metadata": {
    "cell_id": "00048-6e897dcd-5c82-44b7-a7ef-0a667e5d862f",
    "deepnote_cell_height": 768.4666748046875,
    "deepnote_cell_type": "code",
    "deepnote_output_heights": [
     21,
     385
    ],
    "deepnote_to_be_reexecuted": false,
    "execution_millis": 524,
    "execution_start": 1656175857642,
    "source_hash": "42a2511f"
   },
   "outputs": [
    {
     "data": {
      "text/plain": [
       "<matplotlib.legend.Legend at 0x7fbc8139a7f0>"
      ]
     },
     "execution_count": 38,
     "metadata": {},
     "output_type": "execute_result"
    },
    {
     "data": {
      "image/png": "[encoded data removed]",
      "text/plain": [
       "<Figure size 576x432 with 1 Axes>"
      ]
     },
     "metadata": {
      "needs_background": "light"
     },
     "output_type": "display_data"
    }
   ],
   "source": [
    "fig,ax=plt.subplots(1,1,figsize=(8,6))\n",
    "\n",
    "x_ref=np.linspace(0,np.max(y_pred),100)\n",
    "y_ref=np.linspace(0,np.max(y_pred),100)\n",
    "ax.plot(x_ref,y_ref,'--r' ,label='predicción perfecta')\n",
    "\n",
    "ax.scatter(y_pred,y_test, label='training data',s=0.5)\n",
    "\n",
    "ax.set_xlabel('y_pred')\n",
    "ax.set_ylabel('y_test')\n",
    "ax.set_xlim(0,np.max(y_pred))\n",
    "ax.set_ylim(0,np.max(y_pred))\n",
    "ax.grid(True)\n",
    "ax.legend()"
   ]
  },
  {
   "cell_type": "markdown",
   "id": "alert-premium",
   "metadata": {
    "cell_id": "00049-f04f6eea-f8fa-452c-8bea-bd7364f5e440",
    "deepnote_cell_height": 192.88333129882812,
    "deepnote_cell_type": "markdown"
   },
   "source": [
    "$R^2$ se puede interpretar como la correlación al cuadrado entre los valores predichos de la variable dependiente (`y_pred`) y los valores reales de la variable dependiente (`y_test`) (cuadrado de la correlación entre los valores reales y los previstos).\n",
    "\n",
    "Si se pudiera observar una línea perfectamente recta a partir de la relación entre `y_pred` y `y_test` eso significaría $R^2=1$ y, por lo tanto, una correlación perfecta - predicación del modelo sin error. \n",
    "\n",
    "No obstante, usando más características de la casa, este modelo $R^2=0.72$, que es mucho mejor, se puede mejorar aún más."
   ]
  },
  {
   "cell_type": "markdown",
   "id": "dependent-dealer",
   "metadata": {
    "cell_id": "00050-74744ee8-49e4-4653-b99d-66a104f08132",
    "deepnote_cell_height": 125.44999694824219,
    "deepnote_cell_type": "markdown"
   },
   "source": [
    "   <a id=\"multivariate_regression_gbr\"></a>  \n",
    "## Scikit-Learn para el problema de regresión multivariante - método: `RandomForestRegressor`"
   ]
  },
  {
   "cell_type": "markdown",
   "id": "hungarian-healing",
   "metadata": {
    "cell_id": "608482fb828f4e19b23a884defad16cb",
    "deepnote_cell_height": 142.23333740234375,
    "deepnote_cell_type": "markdown",
    "tags": []
   },
   "source": [
    "Los modelos de regresión lineal que hemos utilizado para predecir los precios de las viviendas (lineal univariado, lineal multivariante y Ridge) no pueden mejorar significativamente la precisión del resultado, así que se deben utilizar métodos diferentes y más sofisticados. Por esta razón, en el próximo curso se abordarán otros conceptos, tales como Decision Trees (Árboles de Decisión), Random Forest (Bosque Aleatorio) y  Redes Neuronales, que son, curiosamente, una de las técnicas de aprendizaje automático más poderosas disponibles."
   ]
  },
  {
   "cell_type": "markdown",
   "id": "favorite-legend",
   "metadata": {
    "cell_id": "fc7eaab458c3430e9c3aead366b4b825",
    "deepnote_cell_height": 75.03334045410156,
    "deepnote_cell_type": "markdown",
    "tags": []
   },
   "source": [
    "Solo para motivarlos, se mostrará la mejora que puede hacerse utilizando otros métodos de machine learning, por ejemplo Random Forest Regresor."
   ]
  },
  {
   "cell_type": "code",
   "execution_count": 39,
   "id": "common-somerset",
   "metadata": {
    "cell_id": "23c122c5e2764507890f55575128cb60",
    "deepnote_cell_height": 81.23333740234375,
    "deepnote_cell_type": "code",
    "deepnote_to_be_reexecuted": false,
    "execution_millis": 168,
    "execution_start": 1656175858364,
    "source_hash": "aea345bb",
    "tags": []
   },
   "outputs": [],
   "source": [
    "from sklearn.ensemble import RandomForestRegressor"
   ]
  },
  {
   "cell_type": "code",
   "execution_count": 40,
   "id": "accompanied-family",
   "metadata": {
    "cell_id": "5b3df0d812064ea5b7331c07f93427ab",
    "deepnote_cell_height": 81.23333740234375,
    "deepnote_cell_type": "code",
    "deepnote_to_be_reexecuted": false,
    "execution_millis": 0,
    "execution_start": 1656175858533,
    "source_hash": "50299e5a",
    "tags": []
   },
   "outputs": [],
   "source": [
    "X_train, X_test, y_train, y_test = train_test_split(X, y, random_state=13, test_size=0.2)"
   ]
  },
  {
   "cell_type": "code",
   "execution_count": 41,
   "id": "played-dancing",
   "metadata": {
    "cell_id": "abf0d60a80ae4ffb9503fe5a16b0be29",
    "deepnote_cell_height": 153.23333740234375,
    "deepnote_cell_type": "code",
    "deepnote_to_be_reexecuted": false,
    "execution_millis": 3,
    "execution_start": 1656175858533,
    "source_hash": "a2bc2e41",
    "tags": []
   },
   "outputs": [],
   "source": [
    "from sklearn.preprocessing import StandardScaler,MinMaxScaler,MaxAbsScaler,RobustScaler\n",
    "scaler=StandardScaler()\n",
    "\n",
    "X_train=scaler.fit_transform(X_train)\n",
    "X_test=scaler.transform(X_test)"
   ]
  },
  {
   "cell_type": "code",
   "execution_count": 42,
   "id": "ecological-cassette",
   "metadata": {
    "cell_id": "15517d9d541a46668001bdde74ae3dcb",
    "deepnote_cell_height": 203.23333740234375,
    "deepnote_cell_type": "code",
    "deepnote_output_heights": [
     null,
     21
    ],
    "deepnote_to_be_reexecuted": false,
    "execution_millis": 17436,
    "execution_start": 1656175858537,
    "source_hash": "7443f3d7",
    "tags": []
   },
   "outputs": [
    {
     "name": "stderr",
     "output_type": "stream",
     "text": [
      "/usr/lib64/python3.7/site-packages/ipykernel_launcher.py:2: DataConversionWarning: A column-vector y was passed when a 1d array was expected. Please change the shape of y to (n_samples,), for example using ravel().\n",
      "  \n"
     ]
    },
    {
     "data": {
      "text/plain": [
       "RandomForestRegressor()"
      ]
     },
     "execution_count": 42,
     "metadata": {},
     "output_type": "execute_result"
    }
   ],
   "source": [
    "tree_model = RandomForestRegressor()\n",
    "tree_model.fit(X_train, y_train)"
   ]
  },
  {
   "cell_type": "code",
   "execution_count": 43,
   "id": "martial-serial",
   "metadata": {
    "cell_id": "6afd996b37824120addbcecf134d5fcb",
    "deepnote_cell_height": 171.23333740234375,
    "deepnote_cell_type": "code",
    "deepnote_to_be_reexecuted": false,
    "execution_millis": 132,
    "execution_start": 1656175875965,
    "source_hash": "2c76d13c",
    "tags": []
   },
   "outputs": [],
   "source": [
    "y_pred =  tree_model.predict(X_test)\n",
    "\n",
    "r2_linreg = r2_score(y_test, y_pred)\n",
    "MAE_linreg = mean_absolute_error(y_test, y_pred)\n",
    "MSE_linreg = mean_squared_error(y_test, y_pred)\n",
    "RMSE_linreg = np.sqrt(MSE_linreg)"
   ]
  },
  {
   "cell_type": "code",
   "execution_count": 44,
   "id": "wound-vintage",
   "metadata": {
    "cell_id": "2e6b8ef2c4704800ab2c01189cf7bcac",
    "deepnote_cell_height": 266.23333740234375,
    "deepnote_cell_type": "code",
    "deepnote_to_be_reexecuted": false,
    "execution_millis": 7,
    "execution_start": 1656175876098,
    "source_hash": "e41ed988",
    "tags": []
   },
   "outputs": [
    {
     "name": "stdout",
     "output_type": "stream",
     "text": [
      "\n",
      "MAE :   68948.96\n",
      "MSE :   16240853830.07\n",
      "RMSE:   127439.61\n",
      "R2  :   0.88\n"
     ]
    }
   ],
   "source": [
    "print(\"\")\n",
    "print(f'MAE :   {MAE_linreg:.2f}')\n",
    "print(f'MSE :   {MSE_linreg:.2f}')\n",
    "print(f\"RMSE:   {RMSE_linreg:.2f}\")\n",
    "print(f\"R2  :   {r2_linreg:.2f}\")"
   ]
  },
  {
   "cell_type": "markdown",
   "id": "conditional-bedroom",
   "metadata": {
    "cell_id": "7e6400d2c7d64dfda6b71b2882f81ed4",
    "deepnote_cell_height": 75.11666870117188,
    "deepnote_cell_type": "markdown",
    "tags": []
   },
   "source": [
    "El resultado $R^2=0.88$ es ya excelente y, claramente, visualiza la relación entre `y_pred` y `y_test`, donde se puede observar casi la relación linear entre las dos variables."
   ]
  },
  {
   "cell_type": "code",
   "execution_count": 45,
   "id": "living-classics",
   "metadata": {
    "cell_id": "5f3cb90f45de45f7863e19ab9940c58f",
    "deepnote_cell_height": 750.4666748046875,
    "deepnote_cell_type": "code",
    "deepnote_output_heights": [
     21,
     385
    ],
    "deepnote_to_be_reexecuted": false,
    "execution_millis": 244,
    "execution_start": 1656175876110,
    "source_hash": "3a75e0f9",
    "tags": []
   },
   "outputs": [
    {
     "data": {
      "text/plain": [
       "<matplotlib.legend.Legend at 0x7fbc7f3854e0>"
      ]
     },
     "execution_count": 45,
     "metadata": {},
     "output_type": "execute_result"
    },
    {
     "data": {
      "image/png": "[encoded data removed]",
      "text/plain": [
       "<Figure size 576x432 with 1 Axes>"
      ]
     },
     "metadata": {
      "needs_background": "light"
     },
     "output_type": "display_data"
    }
   ],
   "source": [
    "fig,ax=plt.subplots(1,1,figsize=(8,6))\n",
    "\n",
    "x_ref=np.linspace(0,np.max(y_pred),100)\n",
    "y_ref=np.linspace(0,np.max(y_pred),100)\n",
    "ax.plot(x_ref,y_ref,'--r' ,label='predicción perfecta')\n",
    "\n",
    "ax.scatter(y_pred,y_test, label='training data',s=0.5)\n",
    "ax.set_xlabel('y_pred')\n",
    "ax.set_ylabel('y_test')\n",
    "ax.set_xlim(np.min(y_pred),np.max(y_pred))\n",
    "ax.set_ylim(np.min(y_pred),np.max(y_pred))\n",
    "ax.grid(True)\n",
    "ax.legend()"
   ]
  },
  {
   "cell_type": "markdown",
   "id": "hazardous-ordinance",
   "metadata": {
    "cell_id": "bab15b4beb8245f48f59b14e1011e3f6",
    "deepnote_cell_height": 52.633331298828125,
    "deepnote_cell_type": "markdown",
    "tags": []
   },
   "source": [
    "Observe que la incertidumbre de las predicciones aumenta a medida que aumenta el precio de la casa."
   ]
  },
  {
   "cell_type": "markdown",
   "id": "flying-burns",
   "metadata": {
    "cell_id": "f2d16a4242874ba5b1283d39e1b7b9f1",
    "deepnote_cell_height": 119.83332824707031,
    "deepnote_cell_type": "markdown",
    "owner_user_id": "10217cb7-e807-45af-be75-488a79b03a41",
    "tags": []
   },
   "source": [
    "Scikit-learn tiene muchos otros métodos y parámetros de optimización. La lista completa de métodos de aprendizaje automático scikit-learn se puede encontrar en este enlace: https://scikit-learn.org/stable/modules/classes.html. Como en este Modulo se abordó un problema de regresión, puede aplicarse cualquier método de la lista que tenga un nombre 'regressor' en ella."
   ]
  },
  {
   "cell_type": "markdown",
   "id": "polish-remains",
   "metadata": {},
   "source": [
    "# The importance of each feature for the ML model"
   ]
  },
  {
   "cell_type": "markdown",
   "id": "friendly-moisture",
   "metadata": {},
   "source": [
    "### `eli5` (https://pypi.org/project/eli5/)  \n",
    "* ELI5 is a Python package which helps to debug machine learning classifiers and explain their predictions.\n",
    "* we can use this package to see which features are most important"
   ]
  },
  {
   "cell_type": "code",
   "execution_count": 46,
   "id": "wooden-fundamental",
   "metadata": {},
   "outputs": [],
   "source": [
    "Xcols = ['bedrooms', \n",
    "        'bathrooms', \n",
    "        'sqft_living', \n",
    "        'sqft_lot', \n",
    "        'floors',                                 \n",
    "        'waterfront', \n",
    "        'view', \n",
    "        'condition', \n",
    "        'grade', \n",
    "        'sqft_basement',\n",
    "        'yr_built',\n",
    "        'year_renovated',\n",
    "        'zipcode',\n",
    "        'lat', \n",
    "        'long',\n",
    "        'sqft_living15', \n",
    "        'sqft_lot15',\n",
    "        'year',\n",
    "        'month',\n",
    "        'day'\n",
    "         ]"
   ]
  },
  {
   "cell_type": "code",
   "execution_count": 50,
   "id": "roman-document",
   "metadata": {},
   "outputs": [
    {
     "data": {
      "text/html": [
       "\n",
       "    <style>\n",
       "    table.eli5-weights tr:hover {\n",
       "        filter: brightness(85%);\n",
       "    }\n",
       "</style>\n",
       "\n",
       "\n",
       "\n",
       "    \n",
       "\n",
       "    \n",
       "\n",
       "    \n",
       "\n",
       "    \n",
       "\n",
       "    \n",
       "\n",
       "    \n",
       "\n",
       "\n",
       "    \n",
       "\n",
       "    \n",
       "\n",
       "    \n",
       "\n",
       "    \n",
       "\n",
       "    \n",
       "\n",
       "    \n",
       "\n",
       "\n",
       "    \n",
       "\n",
       "    \n",
       "\n",
       "    \n",
       "\n",
       "    \n",
       "\n",
       "    \n",
       "        <table class=\"eli5-weights eli5-feature-importances\" style=\"border-collapse: collapse; border: none; margin-top: 0em; table-layout: auto;\">\n",
       "    <thead>\n",
       "    <tr style=\"border: none;\">\n",
       "        <th style=\"padding: 0 1em 0 0.5em; text-align: right; border: none;\">Weight</th>\n",
       "        <th style=\"padding: 0 0.5em 0 0.5em; text-align: left; border: none;\">Feature</th>\n",
       "    </tr>\n",
       "    </thead>\n",
       "    <tbody>\n",
       "    \n",
       "        <tr style=\"background-color: hsl(120, 100.00%, 80.00%); border: none;\">\n",
       "            <td style=\"padding: 0 1em 0 0.5em; text-align: right; border: none;\">\n",
       "                0.4291\n",
       "                \n",
       "                    &plusmn; 0.0075\n",
       "                \n",
       "            </td>\n",
       "            <td style=\"padding: 0 0.5em 0 0.5em; text-align: left; border: none;\">\n",
       "                lat\n",
       "            </td>\n",
       "        </tr>\n",
       "    \n",
       "        <tr style=\"background-color: hsl(120, 100.00%, 80.99%); border: none;\">\n",
       "            <td style=\"padding: 0 1em 0 0.5em; text-align: right; border: none;\">\n",
       "                0.3992\n",
       "                \n",
       "                    &plusmn; 0.0090\n",
       "                \n",
       "            </td>\n",
       "            <td style=\"padding: 0 0.5em 0 0.5em; text-align: left; border: none;\">\n",
       "                sqft_living\n",
       "            </td>\n",
       "        </tr>\n",
       "    \n",
       "        <tr style=\"background-color: hsl(120, 100.00%, 84.22%); border: none;\">\n",
       "            <td style=\"padding: 0 1em 0 0.5em; text-align: right; border: none;\">\n",
       "                0.3058\n",
       "                \n",
       "                    &plusmn; 0.0110\n",
       "                \n",
       "            </td>\n",
       "            <td style=\"padding: 0 0.5em 0 0.5em; text-align: left; border: none;\">\n",
       "                grade\n",
       "            </td>\n",
       "        </tr>\n",
       "    \n",
       "        <tr style=\"background-color: hsl(120, 100.00%, 88.08%); border: none;\">\n",
       "            <td style=\"padding: 0 1em 0 0.5em; text-align: right; border: none;\">\n",
       "                0.2048\n",
       "                \n",
       "                    &plusmn; 0.0086\n",
       "                \n",
       "            </td>\n",
       "            <td style=\"padding: 0 0.5em 0 0.5em; text-align: left; border: none;\">\n",
       "                long\n",
       "            </td>\n",
       "        </tr>\n",
       "    \n",
       "        <tr style=\"background-color: hsl(120, 100.00%, 95.61%); border: none;\">\n",
       "            <td style=\"padding: 0 1em 0 0.5em; text-align: right; border: none;\">\n",
       "                0.0492\n",
       "                \n",
       "                    &plusmn; 0.0017\n",
       "                \n",
       "            </td>\n",
       "            <td style=\"padding: 0 0.5em 0 0.5em; text-align: left; border: none;\">\n",
       "                sqft_living15\n",
       "            </td>\n",
       "        </tr>\n",
       "    \n",
       "        <tr style=\"background-color: hsl(120, 100.00%, 95.93%); border: none;\">\n",
       "            <td style=\"padding: 0 1em 0 0.5em; text-align: right; border: none;\">\n",
       "                0.0441\n",
       "                \n",
       "                    &plusmn; 0.0013\n",
       "                \n",
       "            </td>\n",
       "            <td style=\"padding: 0 0.5em 0 0.5em; text-align: left; border: none;\">\n",
       "                yr_built\n",
       "            </td>\n",
       "        </tr>\n",
       "    \n",
       "        <tr style=\"background-color: hsl(120, 100.00%, 96.27%); border: none;\">\n",
       "            <td style=\"padding: 0 1em 0 0.5em; text-align: right; border: none;\">\n",
       "                0.0390\n",
       "                \n",
       "                    &plusmn; 0.0029\n",
       "                \n",
       "            </td>\n",
       "            <td style=\"padding: 0 0.5em 0 0.5em; text-align: left; border: none;\">\n",
       "                waterfront\n",
       "            </td>\n",
       "        </tr>\n",
       "    \n",
       "        <tr style=\"background-color: hsl(120, 100.00%, 97.87%); border: none;\">\n",
       "            <td style=\"padding: 0 1em 0 0.5em; text-align: right; border: none;\">\n",
       "                0.0175\n",
       "                \n",
       "                    &plusmn; 0.0005\n",
       "                \n",
       "            </td>\n",
       "            <td style=\"padding: 0 0.5em 0 0.5em; text-align: left; border: none;\">\n",
       "                zipcode\n",
       "            </td>\n",
       "        </tr>\n",
       "    \n",
       "        <tr style=\"background-color: hsl(120, 100.00%, 98.04%); border: none;\">\n",
       "            <td style=\"padding: 0 1em 0 0.5em; text-align: right; border: none;\">\n",
       "                0.0155\n",
       "                \n",
       "                    &plusmn; 0.0004\n",
       "                \n",
       "            </td>\n",
       "            <td style=\"padding: 0 0.5em 0 0.5em; text-align: left; border: none;\">\n",
       "                sqft_lot\n",
       "            </td>\n",
       "        </tr>\n",
       "    \n",
       "        <tr style=\"background-color: hsl(120, 100.00%, 98.31%); border: none;\">\n",
       "            <td style=\"padding: 0 1em 0 0.5em; text-align: right; border: none;\">\n",
       "                0.0126\n",
       "                \n",
       "                    &plusmn; 0.0004\n",
       "                \n",
       "            </td>\n",
       "            <td style=\"padding: 0 0.5em 0 0.5em; text-align: left; border: none;\">\n",
       "                sqft_lot15\n",
       "            </td>\n",
       "        </tr>\n",
       "    \n",
       "        <tr style=\"background-color: hsl(120, 100.00%, 98.39%); border: none;\">\n",
       "            <td style=\"padding: 0 1em 0 0.5em; text-align: right; border: none;\">\n",
       "                0.0117\n",
       "                \n",
       "                    &plusmn; 0.0005\n",
       "                \n",
       "            </td>\n",
       "            <td style=\"padding: 0 0.5em 0 0.5em; text-align: left; border: none;\">\n",
       "                view\n",
       "            </td>\n",
       "        </tr>\n",
       "    \n",
       "        <tr style=\"background-color: hsl(120, 100.00%, 98.97%); border: none;\">\n",
       "            <td style=\"padding: 0 1em 0 0.5em; text-align: right; border: none;\">\n",
       "                0.0062\n",
       "                \n",
       "                    &plusmn; 0.0001\n",
       "                \n",
       "            </td>\n",
       "            <td style=\"padding: 0 0.5em 0 0.5em; text-align: left; border: none;\">\n",
       "                bathrooms\n",
       "            </td>\n",
       "        </tr>\n",
       "    \n",
       "        <tr style=\"background-color: hsl(120, 100.00%, 98.97%); border: none;\">\n",
       "            <td style=\"padding: 0 1em 0 0.5em; text-align: right; border: none;\">\n",
       "                0.0062\n",
       "                \n",
       "                    &plusmn; 0.0004\n",
       "                \n",
       "            </td>\n",
       "            <td style=\"padding: 0 0.5em 0 0.5em; text-align: left; border: none;\">\n",
       "                sqft_basement\n",
       "            </td>\n",
       "        </tr>\n",
       "    \n",
       "        <tr style=\"background-color: hsl(120, 100.00%, 99.08%); border: none;\">\n",
       "            <td style=\"padding: 0 1em 0 0.5em; text-align: right; border: none;\">\n",
       "                0.0053\n",
       "                \n",
       "                    &plusmn; 0.0001\n",
       "                \n",
       "            </td>\n",
       "            <td style=\"padding: 0 0.5em 0 0.5em; text-align: left; border: none;\">\n",
       "                day\n",
       "            </td>\n",
       "        </tr>\n",
       "    \n",
       "        <tr style=\"background-color: hsl(120, 100.00%, 99.22%); border: none;\">\n",
       "            <td style=\"padding: 0 1em 0 0.5em; text-align: right; border: none;\">\n",
       "                0.0042\n",
       "                \n",
       "                    &plusmn; 0.0001\n",
       "                \n",
       "            </td>\n",
       "            <td style=\"padding: 0 0.5em 0 0.5em; text-align: left; border: none;\">\n",
       "                month\n",
       "            </td>\n",
       "        </tr>\n",
       "    \n",
       "        <tr style=\"background-color: hsl(120, 100.00%, 99.39%); border: none;\">\n",
       "            <td style=\"padding: 0 1em 0 0.5em; text-align: right; border: none;\">\n",
       "                0.0029\n",
       "                \n",
       "                    &plusmn; 0.0001\n",
       "                \n",
       "            </td>\n",
       "            <td style=\"padding: 0 0.5em 0 0.5em; text-align: left; border: none;\">\n",
       "                condition\n",
       "            </td>\n",
       "        </tr>\n",
       "    \n",
       "        <tr style=\"background-color: hsl(120, 100.00%, 99.48%); border: none;\">\n",
       "            <td style=\"padding: 0 1em 0 0.5em; text-align: right; border: none;\">\n",
       "                0.0023\n",
       "                \n",
       "                    &plusmn; 0.0001\n",
       "                \n",
       "            </td>\n",
       "            <td style=\"padding: 0 0.5em 0 0.5em; text-align: left; border: none;\">\n",
       "                bedrooms\n",
       "            </td>\n",
       "        </tr>\n",
       "    \n",
       "        <tr style=\"background-color: hsl(120, 100.00%, 99.59%); border: none;\">\n",
       "            <td style=\"padding: 0 1em 0 0.5em; text-align: right; border: none;\">\n",
       "                0.0017\n",
       "                \n",
       "                    &plusmn; 0.0001\n",
       "                \n",
       "            </td>\n",
       "            <td style=\"padding: 0 0.5em 0 0.5em; text-align: left; border: none;\">\n",
       "                floors\n",
       "            </td>\n",
       "        </tr>\n",
       "    \n",
       "        <tr style=\"background-color: hsl(120, 100.00%, 99.62%); border: none;\">\n",
       "            <td style=\"padding: 0 1em 0 0.5em; text-align: right; border: none;\">\n",
       "                0.0015\n",
       "                \n",
       "                    &plusmn; 0.0001\n",
       "                \n",
       "            </td>\n",
       "            <td style=\"padding: 0 0.5em 0 0.5em; text-align: left; border: none;\">\n",
       "                year\n",
       "            </td>\n",
       "        </tr>\n",
       "    \n",
       "        <tr style=\"background-color: hsl(120, 100.00%, 99.64%); border: none;\">\n",
       "            <td style=\"padding: 0 1em 0 0.5em; text-align: right; border: none;\">\n",
       "                0.0014\n",
       "                \n",
       "                    &plusmn; 0.0001\n",
       "                \n",
       "            </td>\n",
       "            <td style=\"padding: 0 0.5em 0 0.5em; text-align: left; border: none;\">\n",
       "                year_renovated\n",
       "            </td>\n",
       "        </tr>\n",
       "    \n",
       "    \n",
       "    </tbody>\n",
       "</table>\n",
       "    \n",
       "\n",
       "    \n",
       "\n",
       "\n",
       "    \n",
       "\n",
       "    \n",
       "\n",
       "    \n",
       "\n",
       "    \n",
       "\n",
       "    \n",
       "\n",
       "    \n",
       "\n",
       "\n",
       "\n"
      ],
      "text/plain": [
       "<IPython.core.display.HTML object>"
      ]
     },
     "execution_count": 50,
     "metadata": {},
     "output_type": "execute_result"
    }
   ],
   "source": [
    "import eli5\n",
    "from eli5.sklearn import PermutationImportance\n",
    "model = PermutationImportance(tree_model)\n",
    "model.fit(X,y)\n",
    "eli5.show_weights(model, feature_names = Xcols)"
   ]
  },
  {
   "cell_type": "code",
   "execution_count": null,
   "id": "verified-strand",
   "metadata": {},
   "outputs": [],
   "source": []
  },
  {
   "cell_type": "code",
   "execution_count": null,
   "id": "eastern-brave",
   "metadata": {},
   "outputs": [],
   "source": []
  },
  {
   "cell_type": "code",
   "execution_count": 52,
   "id": "normal-collins",
   "metadata": {},
   "outputs": [
    {
     "data": {
      "text/html": [
       "\n",
       "    <style>\n",
       "    table.eli5-weights tr:hover {\n",
       "        filter: brightness(85%);\n",
       "    }\n",
       "</style>\n",
       "\n",
       "\n",
       "\n",
       "    \n",
       "\n",
       "    \n",
       "\n",
       "    \n",
       "\n",
       "    \n",
       "\n",
       "    \n",
       "\n",
       "    \n",
       "\n",
       "\n",
       "    \n",
       "\n",
       "    \n",
       "\n",
       "    \n",
       "\n",
       "    \n",
       "\n",
       "    \n",
       "\n",
       "    \n",
       "\n",
       "\n",
       "    \n",
       "\n",
       "    \n",
       "\n",
       "    \n",
       "\n",
       "    \n",
       "\n",
       "    \n",
       "\n",
       "    \n",
       "\n",
       "\n",
       "    \n",
       "\n",
       "    \n",
       "\n",
       "    \n",
       "\n",
       "    \n",
       "\n",
       "    \n",
       "\n",
       "    \n",
       "\n",
       "\n",
       "\n",
       "\n",
       "    <div style=\"background-color: #fdd; padding: 0.5em;\">\n",
       "        Error: estimator <class 'sklearn.ensemble._forest.RandomForestRegressor'> is not supported\n",
       "    </div>\n"
      ],
      "text/plain": [
       "<IPython.core.display.HTML object>"
      ]
     },
     "execution_count": 52,
     "metadata": {},
     "output_type": "execute_result"
    }
   ],
   "source": [
    "#!pip3 install eli5\n",
    "Xcols = ['bedrooms', \n",
    "        'bathrooms', \n",
    "        'sqft_living', \n",
    "        'sqft_lot', \n",
    "        'floors',                                 \n",
    "        'waterfront', \n",
    "        'view', \n",
    "        'condition', \n",
    "        'grade', \n",
    "        'sqft_basement',\n",
    "        'yr_built',\n",
    "        'year_renovated',\n",
    "        'zipcode',\n",
    "        'lat', \n",
    "        'long',\n",
    "        'sqft_living15', \n",
    "        'sqft_lot15',\n",
    "        'year',\n",
    "        'month',\n",
    "        'day'\n",
    "         ]\n",
    "\n",
    "import eli5\n",
    "from eli5.sklearn import PermutationImportance\n",
    "model = PermutationImportance(tree_model)\n",
    "model.fit(X,y)\n",
    "#eli5.show_weights(RandomForestRegressor, feature_names = Xcols)"
   ]
  },
  {
   "cell_type": "code",
   "execution_count": null,
   "id": "8c6ee294",
   "metadata": {},
   "outputs": [],
   "source": []
  }
 ],
 "metadata": {
  "deepnote": {},
  "deepnote_execution_queue": [],
  "deepnote_notebook_id": "a656cd44-1583-46e2-acff-a111b74c0305",
  "kernelspec": {
   "display_name": "Python 3",
   "language": "python",
   "name": "python3"
  },
  "language_info": {
   "codemirror_mode": {
    "name": "ipython",
    "version": 3
   },
   "file_extension": ".py",
   "mimetype": "text/x-python",
   "name": "python",
   "nbconvert_exporter": "python",
   "pygments_lexer": "ipython3",
   "version": "3.7.2"
  }
 },
 "nbformat": 4,
 "nbformat_minor": 5
}
