{
 "cells": [
  {
   "cell_type": "markdown",
   "id": "bridal-connecticut",
   "metadata": {},
   "source": [
    "# Theory of information and Shannon Entropy\n",
    "#### Example - Decision Trees\n",
    "* Imagine a dataset"
   ]
  },
  {
   "cell_type": "markdown",
   "id": "fixed-nation",
   "metadata": {},
   "source": [
    "https://adami.natsci.msu.edu/blog/2014/6/25/whose-entropy-is-it-anyway-part-1-boltzmann-shannon-and-gibbs-\n",
    "\n",
    "Boltzmann\n",
    "$$ S = k ln \\Omega $$\n",
    "* $\\Omega$ number of microstates\n",
    "\n",
    "* but  $$\\Omega \\propto N^N$$ \n",
    "\n",
    "so\n",
    "\n",
    "$$ S = k N ln N $$\n",
    "\n",
    "$$ E(S) = \\sum_{i=1}^{n} -p_i log_{2}p_i$$\n"
   ]
  },
  {
   "cell_type": "markdown",
   "id": "electric-charlotte",
   "metadata": {},
   "source": [
    "![img](imgs/DATA_TABLE.png)"
   ]
  },
  {
   "cell_type": "markdown",
   "id": "chemical-flood",
   "metadata": {},
   "source": [
    "* Age: Young, Middle-Age, Senior (ranges chosen arbitrarily - for simplicity) \n",
    "* Sex: M or F \n",
    "* Blood Pressure: HIGH or NORMAL or LOW  \n",
    "* Level of Cholesterol: NORMAL or HIGH\n",
    "* Drug: Prescription drug to which the patient responded:  drug A, drug B "
   ]
  },
  {
   "cell_type": "markdown",
   "id": "connected-authority",
   "metadata": {},
   "source": [
    "Decision trees are build by splitting the training set into distinct nodes containing one category of the data. The nodes can be further splitted with the new data categories taking a form of an upside-down tree. "
   ]
  },
  {
   "cell_type": "markdown",
   "id": "incomplete-maker",
   "metadata": {},
   "source": [
    "In this particular case of the drug response dataset the decision tree is a patient clasiffier: depending on a previous patients characteristics they responded to different drugs. The goal would be to take a new patient and following the tree structure assign him to a right drug."
   ]
  },
  {
   "cell_type": "markdown",
   "id": "certain-intention",
   "metadata": {},
   "source": [
    "Lets draw a decision tree for this problem"
   ]
  },
  {
   "cell_type": "markdown",
   "id": "statistical-train",
   "metadata": {},
   "source": [
    "![img](imgs/first_attempt_tree.png)"
   ]
  },
  {
   "cell_type": "markdown",
   "id": "southern-pollution",
   "metadata": {},
   "source": [
    "If for example the new patient is middle age then drug B would be appropriate one (bacause all middle age patients independetly of age sex and cholesterol responded iqually well to the drug B, but if he is young AND female drug A would be better and in case if he is MALE drug B is better. So decision trees are branching decisions based on characteristics."
   ]
  },
  {
   "cell_type": "markdown",
   "id": "accompanied-classroom",
   "metadata": {},
   "source": [
    "And such tree would actually make sense because the level of cholesterol would be more significant to older people and sex would be more significant to young people."
   ]
  },
  {
   "cell_type": "markdown",
   "id": "stretch-draft",
   "metadata": {},
   "source": [
    "There are in principle three different types of nodes of the decision trees (levels of splitting): \n",
    "\n",
    "* Root node: First node in the path from which all decisions initially started from.\n",
    "* Decision nodes: Nodes that have 1 node above and split into decision or leaf nodes\n",
    "* Leaf nodes: Nodes that do not split further. They are the nodes that produce the prediction.\n",
    "\n",
    "\n",
    "* Maximum depth: maximum number of branches between the top and the lower end"
   ]
  },
  {
   "cell_type": "markdown",
   "id": "lasting-syria",
   "metadata": {},
   "source": [
    "![img](imgs/decision_tree.png)"
   ]
  },
  {
   "cell_type": "markdown",
   "id": "anonymous-specification",
   "metadata": {},
   "source": [
    "In the decision tree above, the AGE is the root node and the splitting is perfect. But what would happen if cholesterol or sex was the root node? Lets compare"
   ]
  },
  {
   "cell_type": "markdown",
   "id": "general-backing",
   "metadata": {},
   "source": [
    "![img](imgs/cholesterol_first_attribute.png)"
   ]
  },
  {
   "cell_type": "markdown",
   "id": "boring-banks",
   "metadata": {},
   "source": [
    "So, ff we split the patients based on the cholesterol level we can see that,\n",
    "\n",
    "* for patients with high cholesterol three people responded to drug A and five responded to drug B, so if new patient comes and has high cholesterol we would probably prescribe drug B, but there is large uncertainty of the election.\n",
    "\n",
    "* for patients with normal cholesterol two people responded to drug A and four responded to drug B, so if new patient comes and has normal cholesterol we would probably prescribe drug B and the uncertainty is lower."
   ]
  },
  {
   "cell_type": "markdown",
   "id": "incorporate-candidate",
   "metadata": {},
   "source": [
    "![img](imgs/sex_first_attribute.png)"
   ]
  },
  {
   "cell_type": "markdown",
   "id": "heavy-investment",
   "metadata": {},
   "source": [
    "And if we split the patients based on sex we can see that,\n",
    "\n",
    "* for female patients one person responded to drug A and seven responded to drug B, so for the new female patientwe would probably prescribe drug B, and the uncertainty is much smaller than before.\n",
    "\n",
    "* for male patients four person responded to drug A and two responded to drug B, so for the new male patient would probably prescribe drug A."
   ]
  },
  {
   "cell_type": "markdown",
   "id": "designed-tracker",
   "metadata": {},
   "source": [
    "So, it seems that sex is a better feature for the initial split, because the leaf trees seem purer than in the case of the cholesterol. In fact we could further split the same tree to obtain even more pure leaves. And that is the whole idea behind decision trees - obtain maximum purity on the leaf nodes. "
   ]
  },
  {
   "cell_type": "markdown",
   "id": "executed-beijing",
   "metadata": {},
   "source": [
    "![img](imgs/sex_first_attribute_chol_sec.png)"
   ]
  },
  {
   "cell_type": "markdown",
   "id": "considerable-description",
   "metadata": {},
   "source": [
    "Hence the order of the features that constitute the decision trees is crucial part because it determines the results! In other words, depending on whether the SEX is on top of the tree or the CHOLESTEROL is on top of the tree we get purer leaf nodes. \n",
    "\n",
    "So what is the best order of the splitting the tree features? What is the cuantitave way of saying which feature gives purer result? \n",
    "\n",
    "There is such a quantity and it is called Entropy. "
   ]
  },
  {
   "cell_type": "markdown",
   "id": "legitimate-revolution",
   "metadata": {},
   "source": [
    "$$ E(S) = \\sum_{i=1}^{n} -p_i log_{2}p_i$$\n",
    "\n",
    "is called shannon entropy"
   ]
  },
  {
   "cell_type": "markdown",
   "id": "forbidden-abortion",
   "metadata": {},
   "source": [
    "The equation reads as: the entropy of a set “S” is defined as the summation of the probability “p” of an outcome “i”, which goes from 1 … n, times the logarithm (of base 2) of that probability “p” of the outcome “i”."
   ]
  },
  {
   "cell_type": "markdown",
   "id": "communist-hollow",
   "metadata": {},
   "source": [
    "In case of only two possible outcomes - drug A and drug B the sum contains only two elements:"
   ]
  },
  {
   "cell_type": "markdown",
   "id": "crazy-plumbing",
   "metadata": {},
   "source": [
    "$$ E(S) = -p(drug A) \\times log_{2} (p(drug A)) - p(drug B) \\times log_{2}(p(drug B))$$"
   ]
  },
  {
   "cell_type": "markdown",
   "id": "literary-carter",
   "metadata": {},
   "source": [
    "calculating the probabilities is easy:\n",
    "\n",
    "p(drug A)= $\\frac{number \\ of \\ patients \\ that \\ responded \\ to \\ drug A}{total \\ number \\ of \\ patients}$\n",
    "\n",
    "p(drug B)= $\\frac{number \\ of \\ patients \\ that \\ responded \\ to \\ drug B}{total \\ number \\ of \\ patients}$"
   ]
  },
  {
   "cell_type": "markdown",
   "id": "middle-graham",
   "metadata": {},
   "source": [
    "From the above it s clear that the value of probability will always be between 0 to 1. And so the entropy\n",
    "."
   ]
  },
  {
   "cell_type": "markdown",
   "id": "exempt-spouse",
   "metadata": {},
   "source": [
    "Lets take for example a situation when in a group of 10 patients 3 responded to drug A an 7 to drug B.  Lets calculate the entropy of such situation:"
   ]
  },
  {
   "cell_type": "markdown",
   "id": "invisible-cycle",
   "metadata": {},
   "source": [
    "$$ - \\left(\\frac{3}{10}\\right) \\times log_2\\left(\\frac{3}{10}\\right) - \\left(\\frac{7}{10}\\right)\\times log_2 \\left(\\frac{7}{10}\\right) \\approx 0.88$$"
   ]
  },
  {
   "cell_type": "markdown",
   "id": "exterior-dynamics",
   "metadata": {},
   "source": [
    "The entropy here is approximately 0.88. This is considered a high entropy - a high level of disorder (meaning low level of purity)."
   ]
  },
  {
   "cell_type": "markdown",
   "id": "removable-surprise",
   "metadata": {},
   "source": [
    "Entropy is a measure of disorder or uncertainty and the goal of machine learning models and Data Scientists in general is to reduce uncertainty. Because the lower the uncertainty the higher is the knowledge required to make the decision."
   ]
  },
  {
   "cell_type": "markdown",
   "id": "strange-twenty",
   "metadata": {},
   "source": [
    "* If the entropy of the mixuture of two groups is 1.0 means that the mixture contains EQUAL amount of one group and the second group (50/50) or in terms of probability 0.5.\n",
    "\n",
    "* If the entropy of the mixuture of two groups is 0.0 means that the mixture contains ONLY one OR the other group. probability of one group is 0.0 or 1.0"
   ]
  },
  {
   "cell_type": "markdown",
   "id": "excellent-quarter",
   "metadata": {},
   "source": [
    "![img](imgs/entropy01.png)"
   ]
  },
  {
   "cell_type": "markdown",
   "id": "robust-hybrid",
   "metadata": {},
   "source": [
    "The value of entropy vs probability can be visualized as following:"
   ]
  },
  {
   "cell_type": "markdown",
   "id": "round-wrapping",
   "metadata": {},
   "source": [
    "![img](imgs/entropy_diagram.png)\n",
    "\n",
    "The entropy is minimum if the mixture is pure and is maximum if the mixture is (50/50) "
   ]
  },
  {
   "cell_type": "markdown",
   "id": "challenging-parcel",
   "metadata": {},
   "source": [
    "It is clear that the goal is to obtain purest leaf nodes (minimum entropy) but one must also remember that the root node should have as hight entropy as possible because we want to have the dataset containing equal parts of each group (equal part of patients that responded to drug A and drug B). "
   ]
  },
  {
   "cell_type": "markdown",
   "id": "parental-karaoke",
   "metadata": {},
   "source": [
    "Lets repeat the calculation and compare the enropy before and after splitting our medical dataset using two characteristics as a root node:"
   ]
  },
  {
   "cell_type": "markdown",
   "id": "olympic-serbia",
   "metadata": {},
   "source": [
    "![img](imgs/entropy_comparison_sex_chol.png)"
   ]
  },
  {
   "cell_type": "markdown",
   "id": "hybrid-prescription",
   "metadata": {},
   "source": [
    "Now we know that the sex is better root node than cholesterol but we would like to have another cuantity that will tell us HOW MUCH better. That cuantity is called Information Gain (IG) and is the metric to measure the reduction of this disorder in our target variable/class.  The formula is the follwing:\n"
   ]
  },
  {
   "cell_type": "markdown",
   "id": "tight-collect",
   "metadata": {},
   "source": [
    "$$ IG(S,X) = E(S) - \\sum \\frac{S_v}{S} E(S_v)$$"
   ]
  },
  {
   "cell_type": "markdown",
   "id": "senior-petroleum",
   "metadata": {},
   "source": [
    "Which is basically the Entropy before split minus weighted entropy after the split. Why weighted, because after splitting there will be two new classes. Lets calculate the IG for the two cases:"
   ]
  },
  {
   "cell_type": "markdown",
   "id": "liked-simple",
   "metadata": {},
   "source": [
    "![img](imgs/entropy_comparison_sex_chol_IG.png)"
   ]
  },
  {
   "cell_type": "markdown",
   "id": "protected-nursery",
   "metadata": {},
   "source": [
    "Now is clear that SEX is better atrribute than Cholesterol. The next step would be to choose another decision node and repeat the calculation for each characterisic."
   ]
  },
  {
   "cell_type": "markdown",
   "id": "organized-longer",
   "metadata": {},
   "source": [
    "Obviously such procedure must be implemented numerically as doing the calculations by hand would be very tedious. Lets use Scikit-Learn Decision Trees and apply it to the medical dataset step by step and interpret the results afterwards."
   ]
  },
  {
   "cell_type": "markdown",
   "id": "directed-thirty",
   "metadata": {},
   "source": [
    "Again, the best way to understand the theory is to put it in practice. Lets then look at a particular example. (https://www.kaggle.com/datasets/7f7bebbb020855aa344d19f2ce710e0128ec750263fc868840aa835eaf4cec05, https://www.analyticsvidhya.com/blog/2021/02/machine-learning-101-decision-tree-algorithm-for-classification/)"
   ]
  },
  {
   "cell_type": "code",
   "execution_count": 1,
   "id": "acknowledged-student",
   "metadata": {},
   "outputs": [],
   "source": [
    "import pandas as pd\n",
    "#drugset = pd.read_csv(\"https://raw.githubusercontent.com/mhemmg/datasets/master/drugset/drug200.csv\", delimiter=\",\")\n",
    "#drugset.to_csv('drugset.csv',index=False)\n",
    "drugset = pd.read_csv(\"drugset.csv\", delimiter=\",\")\n",
    "drugset['Age2']=drugset['Age'].copy(deep=True)"
   ]
  },
  {
   "cell_type": "markdown",
   "id": "graduate-classification",
   "metadata": {},
   "source": [
    "* Age: NUMBER \n",
    "* Sex: M or F \n",
    "* Blood Pressure: HIGH or NORMAL or LOW  \n",
    "* Level of Cholesterol: NORMAL or HIGH\n",
    "* Ratio of concentration of sodium to potassium in the blood. \n",
    "* Drug: Prescription drug to which the patient responded:  drugA, drugB, drugC. "
   ]
  },
  {
   "cell_type": "code",
   "execution_count": 2,
   "id": "treated-saint",
   "metadata": {},
   "outputs": [],
   "source": [
    "drugset.loc[drugset['Age2']<=30,'Age']='Young'\n",
    "drugset.loc[drugset['Age2']>30,'Age']='Middle Age'\n",
    "drugset.loc[drugset['Age2']>60,'Age']='Senior'\n",
    "drugset.drop('Age2',axis=1,inplace=True)\n",
    "drugset.head()\n",
    "drugset.to_csv('drugset_demo.csv',index=False)"
   ]
  },
  {
   "cell_type": "code",
   "execution_count": 3,
   "id": "dietary-zimbabwe",
   "metadata": {},
   "outputs": [
    {
     "data": {
      "text/html": [
       "<div>\n",
       "<style scoped>\n",
       "    .dataframe tbody tr th:only-of-type {\n",
       "        vertical-align: middle;\n",
       "    }\n",
       "\n",
       "    .dataframe tbody tr th {\n",
       "        vertical-align: top;\n",
       "    }\n",
       "\n",
       "    .dataframe thead th {\n",
       "        text-align: right;\n",
       "    }\n",
       "</style>\n",
       "<table border=\"1\" class=\"dataframe\">\n",
       "  <thead>\n",
       "    <tr style=\"text-align: right;\">\n",
       "      <th></th>\n",
       "      <th>Age</th>\n",
       "      <th>Sex</th>\n",
       "      <th>BP</th>\n",
       "      <th>Cholesterol</th>\n",
       "      <th>Na_to_K</th>\n",
       "      <th>Drug</th>\n",
       "    </tr>\n",
       "  </thead>\n",
       "  <tbody>\n",
       "    <tr>\n",
       "      <th>0</th>\n",
       "      <td>Young</td>\n",
       "      <td>F</td>\n",
       "      <td>HIGH</td>\n",
       "      <td>HIGH</td>\n",
       "      <td>25.355</td>\n",
       "      <td>drugY</td>\n",
       "    </tr>\n",
       "    <tr>\n",
       "      <th>1</th>\n",
       "      <td>Middle Age</td>\n",
       "      <td>M</td>\n",
       "      <td>LOW</td>\n",
       "      <td>HIGH</td>\n",
       "      <td>13.093</td>\n",
       "      <td>drugC</td>\n",
       "    </tr>\n",
       "    <tr>\n",
       "      <th>2</th>\n",
       "      <td>Middle Age</td>\n",
       "      <td>M</td>\n",
       "      <td>LOW</td>\n",
       "      <td>HIGH</td>\n",
       "      <td>10.114</td>\n",
       "      <td>drugC</td>\n",
       "    </tr>\n",
       "    <tr>\n",
       "      <th>3</th>\n",
       "      <td>Young</td>\n",
       "      <td>F</td>\n",
       "      <td>NORMAL</td>\n",
       "      <td>HIGH</td>\n",
       "      <td>7.798</td>\n",
       "      <td>drugX</td>\n",
       "    </tr>\n",
       "    <tr>\n",
       "      <th>4</th>\n",
       "      <td>Senior</td>\n",
       "      <td>F</td>\n",
       "      <td>LOW</td>\n",
       "      <td>HIGH</td>\n",
       "      <td>18.043</td>\n",
       "      <td>drugY</td>\n",
       "    </tr>\n",
       "  </tbody>\n",
       "</table>\n",
       "</div>"
      ],
      "text/plain": [
       "          Age Sex      BP Cholesterol  Na_to_K   Drug\n",
       "0       Young   F    HIGH        HIGH   25.355  drugY\n",
       "1  Middle Age   M     LOW        HIGH   13.093  drugC\n",
       "2  Middle Age   M     LOW        HIGH   10.114  drugC\n",
       "3       Young   F  NORMAL        HIGH    7.798  drugX\n",
       "4      Senior   F     LOW        HIGH   18.043  drugY"
      ]
     },
     "execution_count": 3,
     "metadata": {},
     "output_type": "execute_result"
    }
   ],
   "source": [
    "import pandas as pd\n",
    "drugset = pd.read_csv(\"drugset_demo.csv\", delimiter=\",\")\n",
    "drugset.head(5)"
   ]
  },
  {
   "cell_type": "markdown",
   "id": "organic-syntax",
   "metadata": {},
   "source": []
  },
  {
   "cell_type": "code",
   "execution_count": 4,
   "id": "executed-convergence",
   "metadata": {},
   "outputs": [],
   "source": [
    "import numpy as np\n",
    "import pandas as pd"
   ]
  },
  {
   "cell_type": "code",
   "execution_count": 5,
   "id": "patent-negative",
   "metadata": {},
   "outputs": [],
   "source": [
    "#drugset = pd.read_csv(\"https://raw.githubusercontent.com/mhemmg/datasets/master/drugset/drug200.csv\", delimiter=\",\")"
   ]
  },
  {
   "cell_type": "code",
   "execution_count": 6,
   "id": "likely-database",
   "metadata": {},
   "outputs": [],
   "source": [
    "#drugset = pd.read_csv(\"https://cf-courses-data.s3.us.cloud-object-storage.appdomain.cloud/IBMDeveloperSkillsNetwork-ML0101EN-SkillsNetwork/labs/Module%203/data/drug200.csv\")"
   ]
  },
  {
   "cell_type": "code",
   "execution_count": 7,
   "id": "ongoing-arabic",
   "metadata": {},
   "outputs": [
    {
     "data": {
      "text/html": [
       "<div>\n",
       "<style scoped>\n",
       "    .dataframe tbody tr th:only-of-type {\n",
       "        vertical-align: middle;\n",
       "    }\n",
       "\n",
       "    .dataframe tbody tr th {\n",
       "        vertical-align: top;\n",
       "    }\n",
       "\n",
       "    .dataframe thead th {\n",
       "        text-align: right;\n",
       "    }\n",
       "</style>\n",
       "<table border=\"1\" class=\"dataframe\">\n",
       "  <thead>\n",
       "    <tr style=\"text-align: right;\">\n",
       "      <th></th>\n",
       "      <th>Age</th>\n",
       "      <th>Sex</th>\n",
       "      <th>BP</th>\n",
       "      <th>Cholesterol</th>\n",
       "      <th>Na_to_K</th>\n",
       "      <th>Drug</th>\n",
       "    </tr>\n",
       "  </thead>\n",
       "  <tbody>\n",
       "    <tr>\n",
       "      <th>0</th>\n",
       "      <td>23</td>\n",
       "      <td>F</td>\n",
       "      <td>HIGH</td>\n",
       "      <td>HIGH</td>\n",
       "      <td>25.355</td>\n",
       "      <td>drugY</td>\n",
       "    </tr>\n",
       "    <tr>\n",
       "      <th>1</th>\n",
       "      <td>47</td>\n",
       "      <td>M</td>\n",
       "      <td>LOW</td>\n",
       "      <td>HIGH</td>\n",
       "      <td>13.093</td>\n",
       "      <td>drugC</td>\n",
       "    </tr>\n",
       "    <tr>\n",
       "      <th>2</th>\n",
       "      <td>47</td>\n",
       "      <td>M</td>\n",
       "      <td>LOW</td>\n",
       "      <td>HIGH</td>\n",
       "      <td>10.114</td>\n",
       "      <td>drugC</td>\n",
       "    </tr>\n",
       "    <tr>\n",
       "      <th>3</th>\n",
       "      <td>28</td>\n",
       "      <td>F</td>\n",
       "      <td>NORMAL</td>\n",
       "      <td>HIGH</td>\n",
       "      <td>7.798</td>\n",
       "      <td>drugX</td>\n",
       "    </tr>\n",
       "    <tr>\n",
       "      <th>4</th>\n",
       "      <td>61</td>\n",
       "      <td>F</td>\n",
       "      <td>LOW</td>\n",
       "      <td>HIGH</td>\n",
       "      <td>18.043</td>\n",
       "      <td>drugY</td>\n",
       "    </tr>\n",
       "  </tbody>\n",
       "</table>\n",
       "</div>"
      ],
      "text/plain": [
       "   Age Sex      BP Cholesterol  Na_to_K   Drug\n",
       "0   23   F    HIGH        HIGH   25.355  drugY\n",
       "1   47   M     LOW        HIGH   13.093  drugC\n",
       "2   47   M     LOW        HIGH   10.114  drugC\n",
       "3   28   F  NORMAL        HIGH    7.798  drugX\n",
       "4   61   F     LOW        HIGH   18.043  drugY"
      ]
     },
     "execution_count": 7,
     "metadata": {},
     "output_type": "execute_result"
    }
   ],
   "source": [
    "drugset = pd.read_csv(\"drugset.csv\", delimiter=\",\")\n",
    "drugset.head()"
   ]
  },
  {
   "cell_type": "code",
   "execution_count": 8,
   "id": "silent-greenhouse",
   "metadata": {},
   "outputs": [],
   "source": [
    "X = drugset[['Age', 'Sex', 'BP', 'Cholesterol', 'Na_to_K']].to_numpy()"
   ]
  },
  {
   "cell_type": "code",
   "execution_count": 9,
   "id": "applied-roberts",
   "metadata": {},
   "outputs": [],
   "source": [
    "y = drugset[['Drug']].to_numpy()"
   ]
  },
  {
   "cell_type": "code",
   "execution_count": 10,
   "id": "pregnant-malpractice",
   "metadata": {},
   "outputs": [],
   "source": [
    "#X[:,1]=np.where(X[:,1]=='F',0,1)"
   ]
  },
  {
   "cell_type": "code",
   "execution_count": 11,
   "id": "nervous-virus",
   "metadata": {},
   "outputs": [],
   "source": [
    "from sklearn import preprocessing\n",
    "le_sex = preprocessing.LabelEncoder()\n",
    "le_sex.fit(['F','M'])\n",
    "X[:,1] = le_sex.transform(X[:,1]) \n",
    "\n",
    "\n",
    "le_BP = preprocessing.LabelEncoder()\n",
    "le_BP.fit([ 'LOW', 'NORMAL', 'HIGH'])\n",
    "X[:,2] = le_BP.transform(X[:,2])\n",
    "\n",
    "\n",
    "le_Chol = preprocessing.LabelEncoder()\n",
    "le_Chol.fit([ 'NORMAL', 'HIGH'])\n",
    "X[:,3] = le_Chol.transform(X[:,3]) \n"
   ]
  },
  {
   "cell_type": "code",
   "execution_count": 12,
   "id": "aggregate-disposal",
   "metadata": {},
   "outputs": [
    {
     "data": {
      "text/plain": [
       "array([[23, 0, 0, 0, 25.355],\n",
       "       [47, 1, 1, 0, 13.093],\n",
       "       [47, 1, 1, 0, 10.114],\n",
       "       [28, 0, 2, 0, 7.797999999999999],\n",
       "       [61, 0, 1, 0, 18.043]], dtype=object)"
      ]
     },
     "execution_count": 12,
     "metadata": {},
     "output_type": "execute_result"
    }
   ],
   "source": [
    "X[0:5]"
   ]
  },
  {
   "cell_type": "code",
   "execution_count": 13,
   "id": "accomplished-threshold",
   "metadata": {},
   "outputs": [
    {
     "data": {
      "text/plain": [
       "array([['drugY'],\n",
       "       ['drugC'],\n",
       "       ['drugC'],\n",
       "       ['drugX'],\n",
       "       ['drugY']], dtype=object)"
      ]
     },
     "execution_count": 13,
     "metadata": {},
     "output_type": "execute_result"
    }
   ],
   "source": [
    "y[0:5]"
   ]
  },
  {
   "cell_type": "code",
   "execution_count": 14,
   "id": "wooden-mining",
   "metadata": {},
   "outputs": [],
   "source": [
    "from sklearn.model_selection import train_test_split"
   ]
  },
  {
   "cell_type": "code",
   "execution_count": 15,
   "id": "divided-solid",
   "metadata": {},
   "outputs": [],
   "source": [
    "X_train, X_test, y_train, y_test = train_test_split(X, y, test_size=0.3, random_state=3)"
   ]
  },
  {
   "cell_type": "code",
   "execution_count": 16,
   "id": "played-opinion",
   "metadata": {},
   "outputs": [],
   "source": [
    "from sklearn.tree import DecisionTreeClassifier"
   ]
  },
  {
   "cell_type": "code",
   "execution_count": 17,
   "id": "statewide-bottle",
   "metadata": {},
   "outputs": [
    {
     "data": {
      "text/plain": [
       "DecisionTreeClassifier(criterion='entropy', max_depth=4)"
      ]
     },
     "execution_count": 17,
     "metadata": {},
     "output_type": "execute_result"
    }
   ],
   "source": [
    "drugTree = DecisionTreeClassifier(criterion=\"entropy\", max_depth = 4)\n",
    "drugTree # it shows the default parameters"
   ]
  },
  {
   "cell_type": "code",
   "execution_count": 18,
   "id": "advised-jenny",
   "metadata": {},
   "outputs": [
    {
     "data": {
      "text/plain": [
       "DecisionTreeClassifier(criterion='entropy', max_depth=4)"
      ]
     },
     "execution_count": 18,
     "metadata": {},
     "output_type": "execute_result"
    }
   ],
   "source": [
    "drugTree.fit(X_train,y_train)"
   ]
  },
  {
   "cell_type": "code",
   "execution_count": 19,
   "id": "double-burlington",
   "metadata": {},
   "outputs": [],
   "source": [
    "predTree = drugTree.predict(X_test)"
   ]
  },
  {
   "cell_type": "code",
   "execution_count": 20,
   "id": "polyphonic-continent",
   "metadata": {},
   "outputs": [
    {
     "name": "stdout",
     "output_type": "stream",
     "text": [
      "['drugY' 'drugX' 'drugX' 'drugX' 'drugX']\n",
      "['drugY' 'drugX' 'drugX' 'drugX' 'drugX']\n"
     ]
    }
   ],
   "source": [
    "print (predTree [0:5])\n",
    "print (y_test [0:5].T[0])"
   ]
  },
  {
   "cell_type": "code",
   "execution_count": 21,
   "id": "entire-interface",
   "metadata": {},
   "outputs": [
    {
     "name": "stdout",
     "output_type": "stream",
     "text": [
      "DecisionTrees's Accuracy:  0.9833333333333333\n"
     ]
    }
   ],
   "source": [
    "from sklearn import metrics\n",
    "import matplotlib.pyplot as plt\n",
    "print(\"DecisionTrees's Accuracy: \", metrics.accuracy_score(y_test, predTree))"
   ]
  },
  {
   "cell_type": "code",
   "execution_count": 22,
   "id": "global-folder",
   "metadata": {},
   "outputs": [
    {
     "data": {
      "text/plain": [
       "[Text(418.5, 587.0880000000001, 'Na_to_K <= 14.615\\nentropy = 1.929\\nsamples = 140\\nvalue = [16, 11, 11, 33, 69]\\nclass = drugY'),\n",
       " Text(334.8, 456.624, 'BP <= 0.5\\nentropy = 1.832\\nsamples = 71\\nvalue = [16, 11, 11, 33, 0]\\nclass = drugX'),\n",
       " Text(167.4, 326.1600000000001, 'Age <= 50.5\\nentropy = 0.975\\nsamples = 27\\nvalue = [16, 11, 0, 0, 0]\\nclass = drugA'),\n",
       " Text(83.7, 195.69600000000003, 'entropy = 0.0\\nsamples = 16\\nvalue = [16, 0, 0, 0, 0]\\nclass = drugA'),\n",
       " Text(251.10000000000002, 195.69600000000003, 'entropy = 0.0\\nsamples = 11\\nvalue = [0, 11, 0, 0, 0]\\nclass = drugB'),\n",
       " Text(502.20000000000005, 326.1600000000001, 'Cholesterol <= 0.5\\nentropy = 0.811\\nsamples = 44\\nvalue = [0, 0, 11, 33, 0]\\nclass = drugX'),\n",
       " Text(418.5, 195.69600000000003, 'BP <= 1.5\\nentropy = 0.998\\nsamples = 21\\nvalue = [0, 0, 11, 10, 0]\\nclass = drugC'),\n",
       " Text(334.8, 65.23200000000008, 'entropy = 0.0\\nsamples = 11\\nvalue = [0, 0, 11, 0, 0]\\nclass = drugC'),\n",
       " Text(502.20000000000005, 65.23200000000008, 'entropy = 0.0\\nsamples = 10\\nvalue = [0, 0, 0, 10, 0]\\nclass = drugX'),\n",
       " Text(585.9, 195.69600000000003, 'entropy = 0.0\\nsamples = 23\\nvalue = [0, 0, 0, 23, 0]\\nclass = drugX'),\n",
       " Text(502.20000000000005, 456.624, 'entropy = 0.0\\nsamples = 69\\nvalue = [0, 0, 0, 0, 69]\\nclass = drugY')]"
      ]
     },
     "execution_count": 22,
     "metadata": {},
     "output_type": "execute_result"
    },
    {
     "data": {
      "image/png": "[encoded data removed]",
      "text/plain": [
       "<Figure size 864x864 with 1 Axes>"
      ]
     },
     "metadata": {
      "needs_background": "light"
     },
     "output_type": "display_data"
    }
   ],
   "source": [
    "from sklearn import tree\n",
    "import matplotlib.pyplot as plt\n",
    "featureNames = drugset.columns[0:5]\n",
    "fig, ax = plt.subplots(figsize=(12,12))\n",
    "tree.plot_tree(drugTree, feature_names=featureNames, class_names= np.unique(y_train), filled=True)"
   ]
  },
  {
   "cell_type": "code",
   "execution_count": 23,
   "id": "humanitarian-words",
   "metadata": {},
   "outputs": [
    {
     "data": {
      "text/plain": [
       "array([0.09749785, 0.        , 0.3295848 , 0.05454991, 0.51836744])"
      ]
     },
     "execution_count": 23,
     "metadata": {},
     "output_type": "execute_result"
    }
   ],
   "source": [
    "drugTree.feature_importances_"
   ]
  },
  {
   "cell_type": "code",
   "execution_count": 24,
   "id": "competent-genius",
   "metadata": {},
   "outputs": [
    {
     "data": {
      "text/plain": [
       "Index(['Age', 'Sex', 'BP', 'Cholesterol', 'Na_to_K'], dtype='object')"
      ]
     },
     "execution_count": 24,
     "metadata": {},
     "output_type": "execute_result"
    }
   ],
   "source": [
    "featureNames"
   ]
  },
  {
   "cell_type": "code",
   "execution_count": 25,
   "id": "speaking-formula",
   "metadata": {},
   "outputs": [
    {
     "data": {
      "text/plain": [
       "([<matplotlib.axis.YTick at 0x7ffb2455b7b8>,\n",
       "  <matplotlib.axis.YTick at 0x7ffb09103128>,\n",
       "  <matplotlib.axis.YTick at 0x7ffb0d275320>,\n",
       "  <matplotlib.axis.YTick at 0x7ffb0075fcc0>,\n",
       "  <matplotlib.axis.YTick at 0x7ffb006ef320>],\n",
       " [Text(0, 0, 'Sex'),\n",
       "  Text(0, 1, 'Cholesterol'),\n",
       "  Text(0, 2, 'Age'),\n",
       "  Text(0, 3, 'BP'),\n",
       "  Text(0, 4, 'Na_to_K')])"
      ]
     },
     "execution_count": 25,
     "metadata": {},
     "output_type": "execute_result"
    },
    {
     "data": {
      "image/png": "[encoded data removed]",
      "text/plain": [
       "<Figure size 720x720 with 1 Axes>"
      ]
     },
     "metadata": {
      "needs_background": "light"
     },
     "output_type": "display_data"
    }
   ],
   "source": [
    "fig, ax = plt.subplots(figsize=(10,10))\n",
    "\n",
    "importances = drugTree.feature_importances_\n",
    "sorted_indices = np.argsort(importances) # reversing order \n",
    "#sorted_indices = np.argsort(importances)[::-1] # reversing order \n",
    "\n",
    "plt.barh(range(len(featureNames)), importances[sorted_indices])\n",
    "plt.xlabel('feature importance')\n",
    "plt.ylabel('feature name')\n",
    "plt.yticks(range(5), featureNames[sorted_indices])"
   ]
  },
  {
   "cell_type": "markdown",
   "id": "amazing-billion",
   "metadata": {},
   "source": [
    "This seems like a typical classification problem, because the output are discrete values of drugsA,B,C. But recall that using decision trees were able (with great accuracy) to predict a price of the house which is a regression problem because the value of the price is a continous variable."
   ]
  },
  {
   "cell_type": "markdown",
   "id": "psychological-japan",
   "metadata": {},
   "source": []
  },
  {
   "cell_type": "code",
   "execution_count": null,
   "id": "inner-trading",
   "metadata": {},
   "outputs": [],
   "source": []
  }
 ],
 "metadata": {
  "kernelspec": {
   "display_name": "Python 3",
   "language": "python",
   "name": "python3"
  },
  "language_info": {
   "codemirror_mode": {
    "name": "ipython",
    "version": 3
   },
   "file_extension": ".py",
   "mimetype": "text/x-python",
   "name": "python",
   "nbconvert_exporter": "python",
   "pygments_lexer": "ipython3",
   "version": "3.7.2"
  }
 },
 "nbformat": 4,
 "nbformat_minor": 5
}
