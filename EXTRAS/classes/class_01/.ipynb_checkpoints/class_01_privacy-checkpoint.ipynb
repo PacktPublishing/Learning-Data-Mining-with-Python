{
 "cells": [
  {
   "cell_type": "markdown",
   "id": "tough-skating",
   "metadata": {},
   "source": [
    "# Mineria de datos"
   ]
  },
  {
   "cell_type": "markdown",
   "id": "stone-hopkins",
   "metadata": {},
   "source": [
    "#### English / Spanish ?\n",
    "* lets vote\n",
    "* advantages - many"
   ]
  },
  {
   "cell_type": "markdown",
   "id": "extended-smart",
   "metadata": {},
   "source": [
    "#### Contents of the course:"
   ]
  },
  {
   "cell_type": "markdown",
   "id": "little-antibody",
   "metadata": {},
   "source": [
    "1. Core skills: basic Python, Pandas and Matplotlib for data science:\n",
    "\n",
    "* Python datatypes - recap\n",
    "* strings and data extraction\n",
    "* working with files using Python (path, join, os, fnmatch)\n",
    "* numpy, scipy, scikit library\n",
    "* Pandas DataFrames, reading and writing!, groupby, merge pivot tables\n",
    "* matplotlib visualization techniques\n",
    "\n",
    "2. Text search, classification and natural language processing\n",
    "\n",
    "* string methods\n",
    "* regular expressions RE\n",
    "* Natural Language Took-Kit (NLTK) - Python toolkit\n",
    "* Support Vector Machines\n",
    "* Naive Bayes\n",
    "\n",
    "3. Optical Character Recognition in Python (OCR)\n",
    "\n",
    "* Pillow\n",
    "* Tesseract\n",
    "* OpenCV\n",
    "\n",
    "4. Local File Systems (handling large CSV files and other formats on the PC)\n",
    "\n",
    "* large CSV and Pandas\n",
    "* JSON\n",
    "* HDFS\n",
    "* DASK and parallel computing\n",
    "\n",
    "5. Distributed File Systems (examples)\n",
    "* Hadoop\n",
    "* Pig\n",
    "* PySpark"
   ]
  },
  {
   "cell_type": "markdown",
   "id": "center-generator",
   "metadata": {},
   "source": [
    "#### The system of evaluation\n",
    "* homeworks\n",
    "* oral exam at the end"
   ]
  },
  {
   "cell_type": "markdown",
   "id": "crazy-consistency",
   "metadata": {},
   "source": [
    "#### Overwiew of the 4 electivas:\n",
    "* aprendizaje estadistico\n",
    "* modelado de datos con redes neuronales\n",
    "* mineria de datos\n",
    "* data science communication"
   ]
  },
  {
   "cell_type": "markdown",
   "id": "continuing-dylan",
   "metadata": {},
   "source": [
    "#### Comparison of Data mining (3) and Machine learning (1,2)"
   ]
  },
  {
   "cell_type": "markdown",
   "id": "vulnerable-african",
   "metadata": {},
   "source": [
    "#### Data Mining\n",
    "\n",
    "Data mining is the process of discovering meaningful new correlations, patterns, and trends by sifting through a large amount of data stored in repositories, using pattern recognition technologies as well as statistical and mathematical techniques."
   ]
  },
  {
   "cell_type": "markdown",
   "id": "affecting-equipment",
   "metadata": {},
   "source": [
    "#### Machine Learning\n",
    "\n",
    "Machine learning is an approach that makes complex algorithms for huge data processing and supports results to its users. It uses complex programs that can understand through experience and create predictions.\n",
    "\n",
    "The algorithms are improved by themselves by frequent input of training information. The main objective of machine learning is to learn data and build models from data that can be understood and used by humans."
   ]
  },
  {
   "cell_type": "markdown",
   "id": "analyzed-emperor",
   "metadata": {},
   "source": [
    "#### ...well, there is no clear boundary between those two\n",
    "* one can extract useful information from images using neural networks\n",
    "* data mining, very often, also requires complex algorithms"
   ]
  },
  {
   "cell_type": "markdown",
   "id": "separated-leone",
   "metadata": {},
   "source": [
    "# data science, data mining, data analysis is great but can be deadly!"
   ]
  },
  {
   "cell_type": "markdown",
   "id": "departmental-letters",
   "metadata": {},
   "source": [
    "#### The dangers of big data and data mining, discussion\n",
    "* dont get paranoic, but be AWARE!"
   ]
  },
  {
   "cell_type": "markdown",
   "id": "brazilian-consent",
   "metadata": {},
   "source": [
    "#### Is privacy important?\n",
    "* https://teachprivacy.com/10-reasons-privacy-matters/  \n",
    "* https://blog.visva.com/why-is-privacy-important/\n",
    "* in some countries you get loan based on your internet activities\n",
    "* your insurance can be changed if you say that you have depression to a friend\n",
    "* you can be a capucho but now the algorithms can identify you by the way you run or walk...\n",
    "* you drive car with the phone that way you drive and records speed - this can be used also for insurance company \n",
    "* what if you want to be a politician one day - if everything is recorded you can be safe\n",
    "* at the border to the US you might be asked to reveal your Twitter, Facebook and Instagram and Whatsapp accounts. If you were just wearing a scarf on your head for fun, you may be refused entry without them justyfing it. https://www.socioviz.net/\n",
    "* we are loosing control of what is recorded and if it will be ever deleted\n",
    "* https://vimeo.com/nothingtohide"
   ]
  },
  {
   "cell_type": "markdown",
   "id": "accepting-newark",
   "metadata": {},
   "source": [
    "#### Cambridge analytica\n",
    "* https://www.bbc.com/news/blogs-trending-40792078\n",
    "* https://www.newsweek.com/trump-cambridge-analytica-explain-852903\n",
    "* https://cambridgefacts.com/the-data-cambridge-analytica-used-on-the-donald-trump-campaign/"
   ]
  },
  {
   "cell_type": "markdown",
   "id": "undefined-manufacturer",
   "metadata": {},
   "source": [
    "NSA and Snowden:\n",
    "* https://www.bbc.com/news/world-us-canada-23123964"
   ]
  },
  {
   "cell_type": "markdown",
   "id": "clinical-weekend",
   "metadata": {},
   "source": [
    "#### Google... say no more \n",
    "* nothing is for free\n",
    "* part of Alphabet (involving military research)\n",
    "* https://www.ftc.gov/news-events/news/press-releases/2019/09/google-youtube-will-pay-record-170-million-alleged-violations-childrens-privacy-law\n",
    "* https://secureblitz.com/google-fined-for-youtube-child-privacy-violation/\n",
    "* https://www.findlaw.com/legalblogs/consumer-protection/youtube-google-fined-for-child-privacy-violations/\n",
    "* google until recently was recording geo position of everybody, but people complained and now is not by default: \n",
    "https://myactivity.google.com/myactivity"
   ]
  },
  {
   "cell_type": "markdown",
   "id": "valued-shame",
   "metadata": {},
   "source": [
    "#### Facebook, Whatsapp, Instagram\n",
    "* one company that harvests human-data\n",
    "* too much to talk about"
   ]
  },
  {
   "cell_type": "markdown",
   "id": "unavailable-blake",
   "metadata": {},
   "source": [
    "#### The power of data mining, example:\n",
    "https://guides.library.uq.edu.au/research-techniques/text-mining-analysis/examples-of-text-analysis\n",
    "\n",
    "we will go back and see many examples... but lets have a short discussion about dangers that bring big data y data mining.\n"
   ]
  },
  {
   "cell_type": "markdown",
   "id": "delayed-tribune",
   "metadata": {},
   "source": [
    "#### It may seem just crazy that 4-5 private companies has so much data about everybody on the planet. "
   ]
  },
  {
   "cell_type": "markdown",
   "id": "democratic-academy",
   "metadata": {},
   "source": [
    "#### Alternatives for private stuff:"
   ]
  },
  {
   "cell_type": "markdown",
   "id": "spare-scott",
   "metadata": {},
   "source": [
    "* to google browse engine: www.duckduckgo.com, www.qwant.com\n",
    "* to gmail and hotmail: protonmail.com tutanota.com, Mailbox.org\n",
    "https://www.lifewire.com/best-secure-email-services-4136763\n",
    "* to whatsapp: signal and telegram\n",
    "* browsing safely: TOR! https://www.torproject.org/download/"
   ]
  },
  {
   "cell_type": "markdown",
   "id": "forty-glossary",
   "metadata": {},
   "source": [
    "Nobody is safe, so watch what your are saying and to whom:\n",
    "Android and iPhone hacks using Whatsapp and iMessage:\n",
    "\n",
    "* https://www.bbc.com/news/technology-57881364\n",
    "* https://www.theguardian.com/news/video/2021/jul/19/pegasus-the-spyware-technology-that-threatens-democracy-video\n",
    "* used agains anty-polytical activists around the world (Mexico, Arabic countries)"
   ]
  }
 ],
 "metadata": {
  "kernelspec": {
   "display_name": "Python 3",
   "language": "python",
   "name": "python3"
  },
  "language_info": {
   "codemirror_mode": {
    "name": "ipython",
    "version": 3
   },
   "file_extension": ".py",
   "mimetype": "text/x-python",
   "name": "python",
   "nbconvert_exporter": "python",
   "pygments_lexer": "ipython3",
   "version": "3.7.2"
  }
 },
 "nbformat": 4,
 "nbformat_minor": 5
}
