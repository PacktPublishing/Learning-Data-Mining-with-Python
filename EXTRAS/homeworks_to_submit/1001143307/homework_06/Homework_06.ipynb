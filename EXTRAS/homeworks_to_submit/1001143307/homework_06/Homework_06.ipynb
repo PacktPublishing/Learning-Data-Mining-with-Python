{
  "nbformat": 4,
  "nbformat_minor": 0,
  "metadata": {
    "colab": {
      "provenance": []
    },
    "kernelspec": {
      "name": "python3",
      "display_name": "Python 3"
    },
    "language_info": {
      "name": "python"
    }
  },
  "cells": [
    {
      "cell_type": "code",
      "execution_count": 111,
      "metadata": {
        "id": "-g2UdiYG83oV"
      },
      "outputs": [],
      "source": [
        "import json\n",
        "import requests\n",
        "import pandas as pd\n",
        "import random"
      ]
    },
    {
      "cell_type": "code",
      "source": [
        "url = \"https://datahub.io/core/country-list/r/data.json\""
      ],
      "metadata": {
        "id": "Dn8dDQLo8_pG"
      },
      "execution_count": 2,
      "outputs": []
    },
    {
      "cell_type": "code",
      "source": [
        "countries = requests.get(url)\n",
        "countries.status_code"
      ],
      "metadata": {
        "colab": {
          "base_uri": "https://localhost:8080/"
        },
        "id": "lREPeotd9E67",
        "outputId": "d71aa4d7-ea1d-4a4e-dc55-9ee4a9df0994"
      },
      "execution_count": 3,
      "outputs": [
        {
          "output_type": "execute_result",
          "data": {
            "text/plain": [
              "200"
            ]
          },
          "metadata": {},
          "execution_count": 3
        }
      ]
    },
    {
      "cell_type": "code",
      "source": [
        "list_ = countries.json()\n",
        "countries_list = [d['Name'] for d in list_]"
      ],
      "metadata": {
        "id": "JoKvUzZl9SGZ"
      },
      "execution_count": 4,
      "outputs": []
    },
    {
      "cell_type": "code",
      "source": [
        "country = random.choice(countries_list)\n",
        "country"
      ],
      "metadata": {
        "id": "oxOKRzQ3ApOH"
      },
      "execution_count": null,
      "outputs": []
    },
    {
      "cell_type": "code",
      "source": [
        "country = \"Hungary\""
      ],
      "metadata": {
        "id": "c534cm03vP6t"
      },
      "execution_count": 128,
      "outputs": []
    },
    {
      "cell_type": "code",
      "source": [
        "api_url = f\"https://inspirehep.net/api/institutions?q={country}\""
      ],
      "metadata": {
        "id": "On3H2cpu_6wo"
      },
      "execution_count": 129,
      "outputs": []
    },
    {
      "cell_type": "code",
      "source": [
        "inst_link = requests.get(api_url)"
      ],
      "metadata": {
        "id": "yvn20hYgRuP6"
      },
      "execution_count": 130,
      "outputs": []
    },
    {
      "cell_type": "code",
      "source": [
        "legacy_ICN = [\n",
        "    inst.get('metadata').get('legacy_ICN') for inst in inst_link.json().get('hits').get('hits')\n",
        "    if inst.get('metadata').get('number_of_papers') > 0\n",
        "]"
      ],
      "metadata": {
        "id": "0XVCMsoQSOCe"
      },
      "execution_count": 131,
      "outputs": []
    },
    {
      "cell_type": "code",
      "source": [
        "first_inst = legacy_ICN[0]\n",
        "# Replacing the spaces \" \" with \"+\"\n",
        "first_inst = first_inst.replace(\" \", '+')"
      ],
      "metadata": {
        "id": "1qGIEMyK9WB-"
      },
      "execution_count": 132,
      "outputs": []
    },
    {
      "cell_type": "code",
      "source": [
        "articles_url = f\"https://inspirehep.net/api/literature?sort=mostrecent&page=1&q=aff+{first_inst}+and+ac+1->+10\""
      ],
      "metadata": {
        "id": "OYGVParoQgf6"
      },
      "execution_count": 133,
      "outputs": []
    },
    {
      "cell_type": "code",
      "source": [
        "articles_url"
      ],
      "metadata": {
        "colab": {
          "base_uri": "https://localhost:8080/",
          "height": 36
        },
        "id": "0JDpdSIB0rye",
        "outputId": "f1b9cd25-744a-4735-cc89-83f5a6a69160"
      },
      "execution_count": 134,
      "outputs": [
        {
          "output_type": "execute_result",
          "data": {
            "text/plain": [
              "'https://inspirehep.net/api/literature?sort=mostrecent&page=1&q=aff+Baja+Observ.,+Hungary+and+ac+1->+10'"
            ],
            "application/vnd.google.colaboratory.intrinsic+json": {
              "type": "string"
            }
          },
          "metadata": {},
          "execution_count": 134
        }
      ]
    },
    {
      "cell_type": "code",
      "source": [
        "articles = requests.get(articles_url)"
      ],
      "metadata": {
        "id": "ZHmR58mWxq5X"
      },
      "execution_count": 135,
      "outputs": []
    },
    {
      "cell_type": "code",
      "source": [
        "# The first one of the articles json\n",
        "art1 = articles.json().get('hits').get('hits')[0].get('metadata')"
      ],
      "metadata": {
        "id": "topyH9p8xsu9"
      },
      "execution_count": 136,
      "outputs": []
    },
    {
      "cell_type": "code",
      "source": [
        "links_authors = [author.get('record').get('$ref') for author in art1.get('authors')]"
      ],
      "metadata": {
        "id": "EnQtag4sy_h6"
      },
      "execution_count": 137,
      "outputs": []
    },
    {
      "cell_type": "code",
      "source": [
        "links_authors"
      ],
      "metadata": {
        "colab": {
          "base_uri": "https://localhost:8080/"
        },
        "id": "2PHVp38_1UnT",
        "outputId": "5b7ab88d-bc50-40ac-addd-5842f3d94bdf"
      },
      "execution_count": 138,
      "outputs": [
        {
          "output_type": "execute_result",
          "data": {
            "text/plain": [
              "['https://inspirehep.net/api/authors/2234871',\n",
              " 'https://inspirehep.net/api/authors/2089437',\n",
              " 'https://inspirehep.net/api/authors/2216197',\n",
              " 'https://inspirehep.net/api/authors/2337176',\n",
              " 'https://inspirehep.net/api/authors/2268586',\n",
              " 'https://inspirehep.net/api/authors/2337179']"
            ]
          },
          "metadata": {},
          "execution_count": 138
        }
      ]
    },
    {
      "cell_type": "code",
      "source": [
        "def filter_name(info):\n",
        "  try:\n",
        "    return info.get('name').get('value') \n",
        "  except:\n",
        "    return None\n",
        "\n",
        "def filter_email(info):\n",
        "  try:\n",
        "    return info.get('email_addresses')[0].get('value')\n",
        "  except:\n",
        "    return None\n",
        "\n",
        "def filter_position(info):\n",
        "  try:\n",
        "    return info.get('positions')[0].get('rank')\n",
        "  except:\n",
        "    return None\n",
        "\n",
        "def filter_institution(info):\n",
        "  try:\n",
        "    return info.get('positions')[0].get('institution')\n",
        "  except:\n",
        "    return None\n",
        "\n",
        "def filter_start(info):\n",
        "  try:\n",
        "    return info.get('positions')[0].get('start_date')\n",
        "  except:\n",
        "    return None\n",
        "\n",
        "def filter_end(info):\n",
        "  try:\n",
        "    return info.get('positions')[0].get('end_date')\n",
        "  except:\n",
        "    return None\n"
      ],
      "metadata": {
        "id": "4-QoDfkA9vXR"
      },
      "execution_count": 159,
      "outputs": []
    },
    {
      "cell_type": "code",
      "source": [
        "def make_df(links_authors):\n",
        "  json_authors = [requests.get(aut).json().get('metadata') for aut in links_authors]\n",
        "\n",
        "  names = [filter_name(info) for info in json_authors]\n",
        "  emails = [filter_email(info)  for info in json_authors]\n",
        "  actual_positions = [filter_position(info)  for info in json_authors]\n",
        "  institutions = [filter_institution(info)  for info in json_authors]\n",
        "  start_dates = [filter_start(info) for info in json_authors]\n",
        "  end_dates = [filter_end(info)  for info in json_authors]\n",
        "\n",
        "  dicc = {\n",
        "      'Name': names,\n",
        "      'Email': emails,\n",
        "      'Actual_position': actual_positions,\n",
        "      'Institution': institutions,\n",
        "      'Start_date': start_dates,\n",
        "      'End_date': end_dates\n",
        "  }\n",
        "\n",
        "  df = pd.DataFrame(dicc)\n",
        "\n",
        "  return df\n"
      ],
      "metadata": {
        "id": "6R8ofaIC1edb"
      },
      "execution_count": 163,
      "outputs": []
    },
    {
      "cell_type": "code",
      "source": [
        "df = make_df(links_authors)"
      ],
      "metadata": {
        "id": "WF6ZyIzB-ih4"
      },
      "execution_count": 164,
      "outputs": []
    },
    {
      "cell_type": "code",
      "source": [
        "df"
      ],
      "metadata": {
        "colab": {
          "base_uri": "https://localhost:8080/",
          "height": 237
        },
        "id": "AwrHnsnH_ByD",
        "outputId": "9dd1d4eb-9c6b-4699-96f6-50c813a81e76"
      },
      "execution_count": 165,
      "outputs": [
        {
          "output_type": "execute_result",
          "data": {
            "text/plain": [
              "             Name Email Actual_position Institution Start_date End_date\n",
              "0  Csizmadia, Sz.  None            None        None       None     None\n",
              "1       Nagy, Zs.  None            None        None       None     None\n",
              "2   Borkovits, T.  None            None        None       None     None\n",
              "3     Hegedus, T.  None            None        None       None     None\n",
              "4      Biro, I.B.  None            None        None       None     None\n",
              "5      Kiss, Z.T.  None            None        None       None     None"
            ],
            "text/html": [
              "\n",
              "  <div id=\"df-0973b69f-4eec-41ff-acdc-1bd92f4674bc\">\n",
              "    <div class=\"colab-df-container\">\n",
              "      <div>\n",
              "<style scoped>\n",
              "    .dataframe tbody tr th:only-of-type {\n",
              "        vertical-align: middle;\n",
              "    }\n",
              "\n",
              "    .dataframe tbody tr th {\n",
              "        vertical-align: top;\n",
              "    }\n",
              "\n",
              "    .dataframe thead th {\n",
              "        text-align: right;\n",
              "    }\n",
              "</style>\n",
              "<table border=\"1\" class=\"dataframe\">\n",
              "  <thead>\n",
              "    <tr style=\"text-align: right;\">\n",
              "      <th></th>\n",
              "      <th>Name</th>\n",
              "      <th>Email</th>\n",
              "      <th>Actual_position</th>\n",
              "      <th>Institution</th>\n",
              "      <th>Start_date</th>\n",
              "      <th>End_date</th>\n",
              "    </tr>\n",
              "  </thead>\n",
              "  <tbody>\n",
              "    <tr>\n",
              "      <th>0</th>\n",
              "      <td>Csizmadia, Sz.</td>\n",
              "      <td>None</td>\n",
              "      <td>None</td>\n",
              "      <td>None</td>\n",
              "      <td>None</td>\n",
              "      <td>None</td>\n",
              "    </tr>\n",
              "    <tr>\n",
              "      <th>1</th>\n",
              "      <td>Nagy, Zs.</td>\n",
              "      <td>None</td>\n",
              "      <td>None</td>\n",
              "      <td>None</td>\n",
              "      <td>None</td>\n",
              "      <td>None</td>\n",
              "    </tr>\n",
              "    <tr>\n",
              "      <th>2</th>\n",
              "      <td>Borkovits, T.</td>\n",
              "      <td>None</td>\n",
              "      <td>None</td>\n",
              "      <td>None</td>\n",
              "      <td>None</td>\n",
              "      <td>None</td>\n",
              "    </tr>\n",
              "    <tr>\n",
              "      <th>3</th>\n",
              "      <td>Hegedus, T.</td>\n",
              "      <td>None</td>\n",
              "      <td>None</td>\n",
              "      <td>None</td>\n",
              "      <td>None</td>\n",
              "      <td>None</td>\n",
              "    </tr>\n",
              "    <tr>\n",
              "      <th>4</th>\n",
              "      <td>Biro, I.B.</td>\n",
              "      <td>None</td>\n",
              "      <td>None</td>\n",
              "      <td>None</td>\n",
              "      <td>None</td>\n",
              "      <td>None</td>\n",
              "    </tr>\n",
              "    <tr>\n",
              "      <th>5</th>\n",
              "      <td>Kiss, Z.T.</td>\n",
              "      <td>None</td>\n",
              "      <td>None</td>\n",
              "      <td>None</td>\n",
              "      <td>None</td>\n",
              "      <td>None</td>\n",
              "    </tr>\n",
              "  </tbody>\n",
              "</table>\n",
              "</div>\n",
              "      <button class=\"colab-df-convert\" onclick=\"convertToInteractive('df-0973b69f-4eec-41ff-acdc-1bd92f4674bc')\"\n",
              "              title=\"Convert this dataframe to an interactive table.\"\n",
              "              style=\"display:none;\">\n",
              "        \n",
              "  <svg xmlns=\"http://www.w3.org/2000/svg\" height=\"24px\"viewBox=\"0 0 24 24\"\n",
              "       width=\"24px\">\n",
              "    <path d=\"M0 0h24v24H0V0z\" fill=\"none\"/>\n",
              "    <path d=\"M18.56 5.44l.94 2.06.94-2.06 2.06-.94-2.06-.94-.94-2.06-.94 2.06-2.06.94zm-11 1L8.5 8.5l.94-2.06 2.06-.94-2.06-.94L8.5 2.5l-.94 2.06-2.06.94zm10 10l.94 2.06.94-2.06 2.06-.94-2.06-.94-.94-2.06-.94 2.06-2.06.94z\"/><path d=\"M17.41 7.96l-1.37-1.37c-.4-.4-.92-.59-1.43-.59-.52 0-1.04.2-1.43.59L10.3 9.45l-7.72 7.72c-.78.78-.78 2.05 0 2.83L4 21.41c.39.39.9.59 1.41.59.51 0 1.02-.2 1.41-.59l7.78-7.78 2.81-2.81c.8-.78.8-2.07 0-2.86zM5.41 20L4 18.59l7.72-7.72 1.47 1.35L5.41 20z\"/>\n",
              "  </svg>\n",
              "      </button>\n",
              "      \n",
              "  <style>\n",
              "    .colab-df-container {\n",
              "      display:flex;\n",
              "      flex-wrap:wrap;\n",
              "      gap: 12px;\n",
              "    }\n",
              "\n",
              "    .colab-df-convert {\n",
              "      background-color: #E8F0FE;\n",
              "      border: none;\n",
              "      border-radius: 50%;\n",
              "      cursor: pointer;\n",
              "      display: none;\n",
              "      fill: #1967D2;\n",
              "      height: 32px;\n",
              "      padding: 0 0 0 0;\n",
              "      width: 32px;\n",
              "    }\n",
              "\n",
              "    .colab-df-convert:hover {\n",
              "      background-color: #E2EBFA;\n",
              "      box-shadow: 0px 1px 2px rgba(60, 64, 67, 0.3), 0px 1px 3px 1px rgba(60, 64, 67, 0.15);\n",
              "      fill: #174EA6;\n",
              "    }\n",
              "\n",
              "    [theme=dark] .colab-df-convert {\n",
              "      background-color: #3B4455;\n",
              "      fill: #D2E3FC;\n",
              "    }\n",
              "\n",
              "    [theme=dark] .colab-df-convert:hover {\n",
              "      background-color: #434B5C;\n",
              "      box-shadow: 0px 1px 3px 1px rgba(0, 0, 0, 0.15);\n",
              "      filter: drop-shadow(0px 1px 2px rgba(0, 0, 0, 0.3));\n",
              "      fill: #FFFFFF;\n",
              "    }\n",
              "  </style>\n",
              "\n",
              "      <script>\n",
              "        const buttonEl =\n",
              "          document.querySelector('#df-0973b69f-4eec-41ff-acdc-1bd92f4674bc button.colab-df-convert');\n",
              "        buttonEl.style.display =\n",
              "          google.colab.kernel.accessAllowed ? 'block' : 'none';\n",
              "\n",
              "        async function convertToInteractive(key) {\n",
              "          const element = document.querySelector('#df-0973b69f-4eec-41ff-acdc-1bd92f4674bc');\n",
              "          const dataTable =\n",
              "            await google.colab.kernel.invokeFunction('convertToInteractive',\n",
              "                                                     [key], {});\n",
              "          if (!dataTable) return;\n",
              "\n",
              "          const docLinkHtml = 'Like what you see? Visit the ' +\n",
              "            '<a target=\"_blank\" href=https://colab.research.google.com/notebooks/data_table.ipynb>data table notebook</a>'\n",
              "            + ' to learn more about interactive tables.';\n",
              "          element.innerHTML = '';\n",
              "          dataTable['output_type'] = 'display_data';\n",
              "          await google.colab.output.renderOutput(dataTable, element);\n",
              "          const docLink = document.createElement('div');\n",
              "          docLink.innerHTML = docLinkHtml;\n",
              "          element.appendChild(docLink);\n",
              "        }\n",
              "      </script>\n",
              "    </div>\n",
              "  </div>\n",
              "  "
            ]
          },
          "metadata": {},
          "execution_count": 165
        }
      ]
    },
    {
      "cell_type": "markdown",
      "source": [
        "## Second country"
      ],
      "metadata": {
        "id": "rR2fKREtAGp8"
      }
    },
    {
      "cell_type": "code",
      "source": [
        "country = random.choice(countries_list)\n",
        "country"
      ],
      "metadata": {
        "colab": {
          "base_uri": "https://localhost:8080/",
          "height": 36
        },
        "id": "_9n2MAZ-_CUN",
        "outputId": "6526ccd0-683c-4669-f4ae-c1c46340b27a"
      },
      "execution_count": 167,
      "outputs": [
        {
          "output_type": "execute_result",
          "data": {
            "text/plain": [
              "'Switzerland'"
            ],
            "application/vnd.google.colaboratory.intrinsic+json": {
              "type": "string"
            }
          },
          "metadata": {},
          "execution_count": 167
        }
      ]
    },
    {
      "cell_type": "code",
      "source": [
        "country = \"Switzerland\"\n",
        "api_url = f\"https://inspirehep.net/api/institutions?q={country}\"\n",
        "inst_link = requests.get(api_url)\n",
        "legacy_ICN = [\n",
        "    inst.get('metadata').get('legacy_ICN') for inst in inst_link.json().get('hits').get('hits')\n",
        "    if inst.get('metadata').get('number_of_papers') > 0\n",
        "]\n",
        "first_inst = legacy_ICN[0]\n",
        "# Replacing the spaces \" \" with \"+\"\n",
        "first_inst = first_inst.replace(\" \", '+')\n",
        "articles_url = f\"https://inspirehep.net/api/literature?sort=mostrecent&page=1&q=aff+{first_inst}+and+ac+1->+10\"\n",
        "articles = requests.get(articles_url)\n",
        "# The first one of the articles json\n",
        "art1 = articles.json().get('hits').get('hits')[0].get('metadata')\n",
        "links_authors = [author.get('record').get('$ref') for author in art1.get('authors')]\n",
        "\n",
        "df2 = make_df(links_authors)"
      ],
      "metadata": {
        "id": "VsqjBf5a_I9_"
      },
      "execution_count": 168,
      "outputs": []
    },
    {
      "cell_type": "code",
      "source": [
        "df2"
      ],
      "metadata": {
        "colab": {
          "base_uri": "https://localhost:8080/",
          "height": 300
        },
        "id": "ZDPbqM0A_qrA",
        "outputId": "c9acd1ed-daad-4764-f41f-ba17dd492936"
      },
      "execution_count": 169,
      "outputs": [
        {
          "output_type": "execute_result",
          "data": {
            "text/plain": [
              "                   Name                        Email Actual_position  \\\n",
              "0        Cornu, Cynthia                         None            None   \n",
              "1  Deldicque, Christian                         None            None   \n",
              "2        Gladki, Maciej                         None            None   \n",
              "3  Holzner, Andre Georg  andre.georg.holzner@cern.ch            None   \n",
              "4      Perrenoud, J.-L.                         None            None   \n",
              "5          Reis, Thomas       thomas.reis@stfc.ac.uk          JUNIOR   \n",
              "6       Sakulin, Hannes       Hannes.Sakulin@cern.ch            None   \n",
              "7   Vougioukas, Michail                         None            None   \n",
              "\n",
              "     Institution Start_date End_date  \n",
              "0           None       None     None  \n",
              "1           None       None     None  \n",
              "2           None       None     None  \n",
              "3  UC, San Diego       2010     None  \n",
              "4           None       None     None  \n",
              "5     Rutherford       2018     None  \n",
              "6           CERN       None     None  \n",
              "7           None       None     None  "
            ],
            "text/html": [
              "\n",
              "  <div id=\"df-70f72328-949c-4cb9-a929-9757c539a8d4\">\n",
              "    <div class=\"colab-df-container\">\n",
              "      <div>\n",
              "<style scoped>\n",
              "    .dataframe tbody tr th:only-of-type {\n",
              "        vertical-align: middle;\n",
              "    }\n",
              "\n",
              "    .dataframe tbody tr th {\n",
              "        vertical-align: top;\n",
              "    }\n",
              "\n",
              "    .dataframe thead th {\n",
              "        text-align: right;\n",
              "    }\n",
              "</style>\n",
              "<table border=\"1\" class=\"dataframe\">\n",
              "  <thead>\n",
              "    <tr style=\"text-align: right;\">\n",
              "      <th></th>\n",
              "      <th>Name</th>\n",
              "      <th>Email</th>\n",
              "      <th>Actual_position</th>\n",
              "      <th>Institution</th>\n",
              "      <th>Start_date</th>\n",
              "      <th>End_date</th>\n",
              "    </tr>\n",
              "  </thead>\n",
              "  <tbody>\n",
              "    <tr>\n",
              "      <th>0</th>\n",
              "      <td>Cornu, Cynthia</td>\n",
              "      <td>None</td>\n",
              "      <td>None</td>\n",
              "      <td>None</td>\n",
              "      <td>None</td>\n",
              "      <td>None</td>\n",
              "    </tr>\n",
              "    <tr>\n",
              "      <th>1</th>\n",
              "      <td>Deldicque, Christian</td>\n",
              "      <td>None</td>\n",
              "      <td>None</td>\n",
              "      <td>None</td>\n",
              "      <td>None</td>\n",
              "      <td>None</td>\n",
              "    </tr>\n",
              "    <tr>\n",
              "      <th>2</th>\n",
              "      <td>Gladki, Maciej</td>\n",
              "      <td>None</td>\n",
              "      <td>None</td>\n",
              "      <td>None</td>\n",
              "      <td>None</td>\n",
              "      <td>None</td>\n",
              "    </tr>\n",
              "    <tr>\n",
              "      <th>3</th>\n",
              "      <td>Holzner, Andre Georg</td>\n",
              "      <td>andre.georg.holzner@cern.ch</td>\n",
              "      <td>None</td>\n",
              "      <td>UC, San Diego</td>\n",
              "      <td>2010</td>\n",
              "      <td>None</td>\n",
              "    </tr>\n",
              "    <tr>\n",
              "      <th>4</th>\n",
              "      <td>Perrenoud, J.-L.</td>\n",
              "      <td>None</td>\n",
              "      <td>None</td>\n",
              "      <td>None</td>\n",
              "      <td>None</td>\n",
              "      <td>None</td>\n",
              "    </tr>\n",
              "    <tr>\n",
              "      <th>5</th>\n",
              "      <td>Reis, Thomas</td>\n",
              "      <td>thomas.reis@stfc.ac.uk</td>\n",
              "      <td>JUNIOR</td>\n",
              "      <td>Rutherford</td>\n",
              "      <td>2018</td>\n",
              "      <td>None</td>\n",
              "    </tr>\n",
              "    <tr>\n",
              "      <th>6</th>\n",
              "      <td>Sakulin, Hannes</td>\n",
              "      <td>Hannes.Sakulin@cern.ch</td>\n",
              "      <td>None</td>\n",
              "      <td>CERN</td>\n",
              "      <td>None</td>\n",
              "      <td>None</td>\n",
              "    </tr>\n",
              "    <tr>\n",
              "      <th>7</th>\n",
              "      <td>Vougioukas, Michail</td>\n",
              "      <td>None</td>\n",
              "      <td>None</td>\n",
              "      <td>None</td>\n",
              "      <td>None</td>\n",
              "      <td>None</td>\n",
              "    </tr>\n",
              "  </tbody>\n",
              "</table>\n",
              "</div>\n",
              "      <button class=\"colab-df-convert\" onclick=\"convertToInteractive('df-70f72328-949c-4cb9-a929-9757c539a8d4')\"\n",
              "              title=\"Convert this dataframe to an interactive table.\"\n",
              "              style=\"display:none;\">\n",
              "        \n",
              "  <svg xmlns=\"http://www.w3.org/2000/svg\" height=\"24px\"viewBox=\"0 0 24 24\"\n",
              "       width=\"24px\">\n",
              "    <path d=\"M0 0h24v24H0V0z\" fill=\"none\"/>\n",
              "    <path d=\"M18.56 5.44l.94 2.06.94-2.06 2.06-.94-2.06-.94-.94-2.06-.94 2.06-2.06.94zm-11 1L8.5 8.5l.94-2.06 2.06-.94-2.06-.94L8.5 2.5l-.94 2.06-2.06.94zm10 10l.94 2.06.94-2.06 2.06-.94-2.06-.94-.94-2.06-.94 2.06-2.06.94z\"/><path d=\"M17.41 7.96l-1.37-1.37c-.4-.4-.92-.59-1.43-.59-.52 0-1.04.2-1.43.59L10.3 9.45l-7.72 7.72c-.78.78-.78 2.05 0 2.83L4 21.41c.39.39.9.59 1.41.59.51 0 1.02-.2 1.41-.59l7.78-7.78 2.81-2.81c.8-.78.8-2.07 0-2.86zM5.41 20L4 18.59l7.72-7.72 1.47 1.35L5.41 20z\"/>\n",
              "  </svg>\n",
              "      </button>\n",
              "      \n",
              "  <style>\n",
              "    .colab-df-container {\n",
              "      display:flex;\n",
              "      flex-wrap:wrap;\n",
              "      gap: 12px;\n",
              "    }\n",
              "\n",
              "    .colab-df-convert {\n",
              "      background-color: #E8F0FE;\n",
              "      border: none;\n",
              "      border-radius: 50%;\n",
              "      cursor: pointer;\n",
              "      display: none;\n",
              "      fill: #1967D2;\n",
              "      height: 32px;\n",
              "      padding: 0 0 0 0;\n",
              "      width: 32px;\n",
              "    }\n",
              "\n",
              "    .colab-df-convert:hover {\n",
              "      background-color: #E2EBFA;\n",
              "      box-shadow: 0px 1px 2px rgba(60, 64, 67, 0.3), 0px 1px 3px 1px rgba(60, 64, 67, 0.15);\n",
              "      fill: #174EA6;\n",
              "    }\n",
              "\n",
              "    [theme=dark] .colab-df-convert {\n",
              "      background-color: #3B4455;\n",
              "      fill: #D2E3FC;\n",
              "    }\n",
              "\n",
              "    [theme=dark] .colab-df-convert:hover {\n",
              "      background-color: #434B5C;\n",
              "      box-shadow: 0px 1px 3px 1px rgba(0, 0, 0, 0.15);\n",
              "      filter: drop-shadow(0px 1px 2px rgba(0, 0, 0, 0.3));\n",
              "      fill: #FFFFFF;\n",
              "    }\n",
              "  </style>\n",
              "\n",
              "      <script>\n",
              "        const buttonEl =\n",
              "          document.querySelector('#df-70f72328-949c-4cb9-a929-9757c539a8d4 button.colab-df-convert');\n",
              "        buttonEl.style.display =\n",
              "          google.colab.kernel.accessAllowed ? 'block' : 'none';\n",
              "\n",
              "        async function convertToInteractive(key) {\n",
              "          const element = document.querySelector('#df-70f72328-949c-4cb9-a929-9757c539a8d4');\n",
              "          const dataTable =\n",
              "            await google.colab.kernel.invokeFunction('convertToInteractive',\n",
              "                                                     [key], {});\n",
              "          if (!dataTable) return;\n",
              "\n",
              "          const docLinkHtml = 'Like what you see? Visit the ' +\n",
              "            '<a target=\"_blank\" href=https://colab.research.google.com/notebooks/data_table.ipynb>data table notebook</a>'\n",
              "            + ' to learn more about interactive tables.';\n",
              "          element.innerHTML = '';\n",
              "          dataTable['output_type'] = 'display_data';\n",
              "          await google.colab.output.renderOutput(dataTable, element);\n",
              "          const docLink = document.createElement('div');\n",
              "          docLink.innerHTML = docLinkHtml;\n",
              "          element.appendChild(docLink);\n",
              "        }\n",
              "      </script>\n",
              "    </div>\n",
              "  </div>\n",
              "  "
            ]
          },
          "metadata": {},
          "execution_count": 169
        }
      ]
    },
    {
      "cell_type": "code",
      "source": [],
      "metadata": {
        "id": "OfENIbdo_2Pd"
      },
      "execution_count": null,
      "outputs": []
    }
  ]
}