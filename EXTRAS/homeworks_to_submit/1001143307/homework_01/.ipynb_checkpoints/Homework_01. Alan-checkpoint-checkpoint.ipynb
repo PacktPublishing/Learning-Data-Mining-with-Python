{
 "cells": [
  {
   "cell_type": "markdown",
   "id": "a4dab1ae",
   "metadata": {},
   "source": [
    "<h3> Alan Stiven Camacho Restrepo  1001143307</h3>"
   ]
  },
  {
   "cell_type": "code",
   "execution_count": 1,
   "id": "17069b80",
   "metadata": {},
   "outputs": [],
   "source": [
    "from urllib.request import urlopen\n",
    "book = urlopen(\"https://www.gutenberg.org/files/76/76-0.txt\").read().decode('utf-8')"
   ]
  },
  {
   "cell_type": "markdown",
   "id": "859ac9c2",
   "metadata": {},
   "source": [
    "**a)** Analice el libro contando la aparición de tres nombres de personajes principales: Jim, Tom, Huck a través de los capítulos del libro."
   ]
  },
  {
   "cell_type": "code",
   "execution_count": 2,
   "id": "79dbf373",
   "metadata": {},
   "outputs": [],
   "source": [
    "'''\n",
    "index_chap1 es la posición donde aparece el comienzo del capitulo 1 en el libro.\n",
    "\n",
    "Para luego poner el texto anterior a ese capitulo 1 en mayuscula y de ahí en adelante en minuscula\n",
    "\n",
    "'''\n",
    "index_chap1 = book.find(\"CHAPTER I.\\r\\n\")\n",
    "\n",
    "book = book[:index_chap1].upper() + book[index_chap1:].lower()"
   ]
  },
  {
   "cell_type": "code",
   "execution_count": 3,
   "id": "8e5d116a",
   "metadata": {},
   "outputs": [],
   "source": [
    "'''\n",
    "se reemplazan los signos de puntuación en el libro por espacios para poder identificar más fácil los nombres\n",
    "acompañados de estos signos.\n",
    "\n",
    "Por ejemplo:   Tom! --> Tom \n",
    "               jim? --> jim \n",
    "               tommorrow --> tommorow\n",
    "\n",
    "'''\n",
    "\n",
    "signos = [',',';','.',':','!','?',')','(']\n",
    "for sgn in signos:\n",
    "    book = book.replace(sgn,\" \")"
   ]
  },
  {
   "cell_type": "code",
   "execution_count": 4,
   "id": "2780a683",
   "metadata": {},
   "outputs": [],
   "source": [
    "'''\n",
    "Se genera una lista separando el texto por medio de la palabra chapter en minuscula, por tanto el texto anterior \n",
    "al comienzo del capitulo 1 queda en el primer indice de la lista ya que está en mayuscula.\n",
    "Por tanto, se elimina ese primer elemento para quedar solamente con los textos de los capitulos del libro\n",
    "\n",
    "'''\n",
    "\n",
    "book_list = book.split('chapter')\n",
    "book_list.pop(0)\n",
    "names = ['jim','tom','huck']"
   ]
  },
  {
   "cell_type": "code",
   "execution_count": 5,
   "id": "a0e4ccfb",
   "metadata": {},
   "outputs": [],
   "source": [
    "'''\n",
    "Se generan tres listas donde se hace el conteo de cada nombre en cada capitulo \n",
    "y se agrega en su incio el nombre del personaje\n",
    "\n",
    "'''\n",
    "\n",
    "jim_count = [chapter.count(names[0]) for chapter in book_list]\n",
    "jim_count.insert(0,names[0].capitalize())\n",
    "\n",
    "tom_count = [chapter.count(names[1]) for chapter in book_list]\n",
    "tom_count.insert(0,names[1].capitalize())\n",
    "\n",
    "huck_count = [chapter.count(names[2]) for chapter in book_list]\n",
    "huck_count.insert(0,names[2].capitalize())"
   ]
  },
  {
   "cell_type": "markdown",
   "id": "b9101583",
   "metadata": {},
   "source": [
    "**b)** Guarde sus resultados en un formato Pandas DataFrame para que se vea de la siguiente manera:"
   ]
  },
  {
   "cell_type": "code",
   "execution_count": 6,
   "id": "fa4ab961",
   "metadata": {},
   "outputs": [],
   "source": [
    "import pandas as pd\n",
    "import numpy as np\n",
    "import matplotlib.pyplot as plt "
   ]
  },
  {
   "cell_type": "code",
   "execution_count": 7,
   "id": "544efd55",
   "metadata": {},
   "outputs": [],
   "source": [
    "columns = [f'chapter_{i+1}' for i in range(len(book_list))]\n",
    "columns.insert(0,'name')"
   ]
  },
  {
   "cell_type": "code",
   "execution_count": 8,
   "id": "a8c088f2",
   "metadata": {},
   "outputs": [],
   "source": [
    "df = pd.DataFrame({0:tom_count,1:jim_count,2:huck_count})"
   ]
  },
  {
   "cell_type": "code",
   "execution_count": 9,
   "id": "3c935369",
   "metadata": {},
   "outputs": [],
   "source": [
    "data = df.T\n",
    "data.columns = columns"
   ]
  },
  {
   "cell_type": "code",
   "execution_count": 10,
   "id": "8168eb5b",
   "metadata": {},
   "outputs": [],
   "source": [
    "data.rename(columns={'chapter_43':'chapter_the_last'},inplace=True)"
   ]
  },
  {
   "cell_type": "code",
   "execution_count": 11,
   "id": "4cfa7189",
   "metadata": {},
   "outputs": [
    {
     "data": {
      "text/plain": [
       "Index(['name', 'chapter_1', 'chapter_2', 'chapter_3', 'chapter_4', 'chapter_5',\n",
       "       'chapter_6', 'chapter_7', 'chapter_8', 'chapter_9', 'chapter_10',\n",
       "       'chapter_11', 'chapter_12', 'chapter_13', 'chapter_14', 'chapter_15',\n",
       "       'chapter_16', 'chapter_17', 'chapter_18', 'chapter_19', 'chapter_20',\n",
       "       'chapter_21', 'chapter_22', 'chapter_23', 'chapter_24', 'chapter_25',\n",
       "       'chapter_26', 'chapter_27', 'chapter_28', 'chapter_29', 'chapter_30',\n",
       "       'chapter_31', 'chapter_32', 'chapter_33', 'chapter_34', 'chapter_35',\n",
       "       'chapter_36', 'chapter_37', 'chapter_38', 'chapter_39', 'chapter_40',\n",
       "       'chapter_41', 'chapter_42', 'chapter_the_last'],\n",
       "      dtype='object')"
      ]
     },
     "execution_count": 11,
     "metadata": {},
     "output_type": "execute_result"
    }
   ],
   "source": [
    "data.columns"
   ]
  },
  {
   "cell_type": "markdown",
   "id": "715433a4",
   "metadata": {},
   "source": [
    "**c)** Exporte la tabla a un archivo CSV."
   ]
  },
  {
   "cell_type": "code",
   "execution_count": 12,
   "id": "9b60d464",
   "metadata": {},
   "outputs": [],
   "source": [
    "data.to_csv('count_names.csv',index=False)"
   ]
  },
  {
   "cell_type": "markdown",
   "id": "8c14e427",
   "metadata": {},
   "source": [
    "**d)** Importe el archivo CSV guardado usando Pandas y haga un gráfico de la ocurrencia acumulada (cumsum) de los caracteres."
   ]
  },
  {
   "cell_type": "code",
   "execution_count": 13,
   "id": "cc659ebd",
   "metadata": {},
   "outputs": [],
   "source": [
    "df = pd.read_csv('count_names.csv')"
   ]
  },
  {
   "cell_type": "code",
   "execution_count": 14,
   "id": "88cbd08d",
   "metadata": {},
   "outputs": [
    {
     "data": {
      "text/html": [
       "<div>\n",
       "<style scoped>\n",
       "    .dataframe tbody tr th:only-of-type {\n",
       "        vertical-align: middle;\n",
       "    }\n",
       "\n",
       "    .dataframe tbody tr th {\n",
       "        vertical-align: top;\n",
       "    }\n",
       "\n",
       "    .dataframe thead th {\n",
       "        text-align: right;\n",
       "    }\n",
       "</style>\n",
       "<table border=\"1\" class=\"dataframe\">\n",
       "  <thead>\n",
       "    <tr style=\"text-align: right;\">\n",
       "      <th></th>\n",
       "      <th>name</th>\n",
       "      <th>chapter_1</th>\n",
       "      <th>chapter_2</th>\n",
       "      <th>chapter_3</th>\n",
       "      <th>chapter_4</th>\n",
       "      <th>chapter_5</th>\n",
       "      <th>chapter_6</th>\n",
       "      <th>chapter_7</th>\n",
       "      <th>chapter_8</th>\n",
       "      <th>chapter_9</th>\n",
       "      <th>...</th>\n",
       "      <th>chapter_34</th>\n",
       "      <th>chapter_35</th>\n",
       "      <th>chapter_36</th>\n",
       "      <th>chapter_37</th>\n",
       "      <th>chapter_38</th>\n",
       "      <th>chapter_39</th>\n",
       "      <th>chapter_40</th>\n",
       "      <th>chapter_41</th>\n",
       "      <th>chapter_42</th>\n",
       "      <th>chapter_the_last</th>\n",
       "    </tr>\n",
       "  </thead>\n",
       "  <tbody>\n",
       "    <tr>\n",
       "      <th>0</th>\n",
       "      <td>Tom</td>\n",
       "      <td>6</td>\n",
       "      <td>24</td>\n",
       "      <td>5</td>\n",
       "      <td>1</td>\n",
       "      <td>0</td>\n",
       "      <td>2</td>\n",
       "      <td>5</td>\n",
       "      <td>2</td>\n",
       "      <td>1</td>\n",
       "      <td>...</td>\n",
       "      <td>15</td>\n",
       "      <td>18</td>\n",
       "      <td>19</td>\n",
       "      <td>11</td>\n",
       "      <td>32</td>\n",
       "      <td>12</td>\n",
       "      <td>11</td>\n",
       "      <td>9</td>\n",
       "      <td>32</td>\n",
       "      <td>6</td>\n",
       "    </tr>\n",
       "    <tr>\n",
       "      <th>1</th>\n",
       "      <td>Jim</td>\n",
       "      <td>0</td>\n",
       "      <td>16</td>\n",
       "      <td>0</td>\n",
       "      <td>8</td>\n",
       "      <td>0</td>\n",
       "      <td>0</td>\n",
       "      <td>0</td>\n",
       "      <td>22</td>\n",
       "      <td>11</td>\n",
       "      <td>...</td>\n",
       "      <td>17</td>\n",
       "      <td>18</td>\n",
       "      <td>24</td>\n",
       "      <td>4</td>\n",
       "      <td>27</td>\n",
       "      <td>10</td>\n",
       "      <td>13</td>\n",
       "      <td>0</td>\n",
       "      <td>12</td>\n",
       "      <td>6</td>\n",
       "    </tr>\n",
       "    <tr>\n",
       "      <th>2</th>\n",
       "      <td>Huck</td>\n",
       "      <td>3</td>\n",
       "      <td>2</td>\n",
       "      <td>3</td>\n",
       "      <td>1</td>\n",
       "      <td>0</td>\n",
       "      <td>2</td>\n",
       "      <td>0</td>\n",
       "      <td>6</td>\n",
       "      <td>1</td>\n",
       "      <td>...</td>\n",
       "      <td>6</td>\n",
       "      <td>9</td>\n",
       "      <td>2</td>\n",
       "      <td>0</td>\n",
       "      <td>3</td>\n",
       "      <td>1</td>\n",
       "      <td>3</td>\n",
       "      <td>1</td>\n",
       "      <td>2</td>\n",
       "      <td>5</td>\n",
       "    </tr>\n",
       "  </tbody>\n",
       "</table>\n",
       "<p>3 rows × 44 columns</p>\n",
       "</div>"
      ],
      "text/plain": [
       "   name  chapter_1  chapter_2  chapter_3  chapter_4  chapter_5  chapter_6  \\\n",
       "0   Tom          6         24          5          1          0          2   \n",
       "1   Jim          0         16          0          8          0          0   \n",
       "2  Huck          3          2          3          1          0          2   \n",
       "\n",
       "   chapter_7  chapter_8  chapter_9  ...  chapter_34  chapter_35  chapter_36  \\\n",
       "0          5          2          1  ...          15          18          19   \n",
       "1          0         22         11  ...          17          18          24   \n",
       "2          0          6          1  ...           6           9           2   \n",
       "\n",
       "   chapter_37  chapter_38  chapter_39  chapter_40  chapter_41  chapter_42  \\\n",
       "0          11          32          12          11           9          32   \n",
       "1           4          27          10          13           0          12   \n",
       "2           0           3           1           3           1           2   \n",
       "\n",
       "   chapter_the_last  \n",
       "0                 6  \n",
       "1                 6  \n",
       "2                 5  \n",
       "\n",
       "[3 rows x 44 columns]"
      ]
     },
     "execution_count": 14,
     "metadata": {},
     "output_type": "execute_result"
    }
   ],
   "source": [
    "df"
   ]
  },
  {
   "cell_type": "code",
   "execution_count": 15,
   "id": "b8539e66",
   "metadata": {},
   "outputs": [],
   "source": [
    "#df.loc[0,'chapter_1':]\n",
    "dicc_cumulative = {'cumulative_tom':df.iloc[0,1:].cumsum(),\n",
    "                    'cumulative_jim': df.iloc[1,1:].cumsum(),\n",
    "                    'cumulative_huck': df.iloc[2,1:].cumsum()}\n",
    "\n",
    "cum_data = pd.DataFrame(dicc_cumulative)"
   ]
  },
  {
   "cell_type": "code",
   "execution_count": 16,
   "id": "0e90b9c1",
   "metadata": {},
   "outputs": [
    {
     "name": "stderr",
     "output_type": "stream",
     "text": [
      "/usr/lib64/python3.7/site-packages/pandas/plotting/_matplotlib/core.py:1182: UserWarning: FixedFormatter should only be used together with FixedLocator\n",
      "  ax.set_xticklabels(xticklabels)\n"
     ]
    },
    {
     "data": {
      "text/plain": [
       "<Figure size 1440x1440 with 0 Axes>"
      ]
     },
     "metadata": {},
     "output_type": "display_data"
    },
    {
     "data": {
      "image/png": "[encoded data removed]",
      "text/plain": [
       "<Figure size 432x288 with 1 Axes>"
      ]
     },
     "metadata": {
      "needs_background": "light"
     },
     "output_type": "display_data"
    }
   ],
   "source": [
    "plt.figure(figsize=(20, 20))\n",
    "cum_data.plot()\n",
    "plt.show()"
   ]
  },
  {
   "cell_type": "markdown",
   "id": "2519275b",
   "metadata": {},
   "source": [
    "A través de la gráfica de las sumas acumuladas de los nombres a través de todos los capitulos, se puede observar que:\n",
    "- Jim es el nombre que más ocurrencias tiene en el libro, entonces se puede deducir que es el personaje de dicho libro.\n",
    "- Entre Tom y Huck se observa un comportamiento casi similar hasta aproximadamente el capitulo 30, luego de ese capitulo empieza a mencionarse más el nombre de Tom. \n",
    "- Huck es el nombre menos mencionado a través de todo el libro.  "
   ]
  },
  {
   "cell_type": "code",
   "execution_count": null,
   "id": "ea0cb0e8",
   "metadata": {},
   "outputs": [],
   "source": []
  },
  {
   "cell_type": "code",
   "execution_count": null,
   "id": "36ad9622",
   "metadata": {},
   "outputs": [],
   "source": []
  }
 ],
 "metadata": {
  "kernelspec": {
   "display_name": "Python 3",
   "language": "python",
   "name": "python3"
  },
  "language_info": {
   "codemirror_mode": {
    "name": "ipython",
    "version": 3
   },
   "file_extension": ".py",
   "mimetype": "text/x-python",
   "name": "python",
   "nbconvert_exporter": "python",
   "pygments_lexer": "ipython3",
   "version": "3.7.2"
  }
 },
 "nbformat": 4,
 "nbformat_minor": 5
}
