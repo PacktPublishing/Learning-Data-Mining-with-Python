{
 "cells": [
  {
   "cell_type": "code",
   "execution_count": 143,
   "metadata": {
    "cell_id": "6118de4886d54bf0a6b7dc7c36e4eac9",
    "deepnote_cell_type": "code",
    "deepnote_to_be_reexecuted": false,
    "execution_millis": 3,
    "execution_start": 1666299163635,
    "source_hash": "d38f4cad",
    "tags": []
   },
   "outputs": [],
   "source": [
    "from IPython.display import JSON\n",
    "import pandas as pd\n",
    "import requests"
   ]
  },
  {
   "cell_type": "code",
   "execution_count": 67,
   "metadata": {
    "cell_id": "bc676b29cd634157ab5953385746461a",
    "deepnote_cell_type": "code",
    "deepnote_to_be_reexecuted": false,
    "execution_millis": 374,
    "execution_start": 1666295675482,
    "source_hash": "f4a79755",
    "tags": []
   },
   "outputs": [
    {
     "data": {
      "text/plain": [
       "200"
      ]
     },
     "execution_count": 67,
     "metadata": {},
     "output_type": "execute_result"
    }
   ],
   "source": [
    "institution_link=requests.get('https://inspirehep.net/api/institutions?q=Italy')\n",
    "institution_link.status_code"
   ]
  },
  {
   "cell_type": "code",
   "execution_count": 68,
   "metadata": {
    "cell_id": "9ee19343122e4c9d80045e6eb55aba03",
    "deepnote_cell_type": "code",
    "deepnote_to_be_reexecuted": false,
    "execution_millis": 728,
    "execution_start": 1666295705853,
    "source_hash": "22155210",
    "tags": []
   },
   "outputs": [
    {
     "data": {
      "text/plain": [
       "{'hits': [{'id': '907547',\n",
       "   'links': {'json': 'https://inspirehep.net/api/institutions/907547?format=json'},\n",
       "   'updated': '2021-06-25T15:56:55.955130+00:00',\n",
       "   'metadata': {'number_of_papers': 240,\n",
       "    'addresses': [{'cities': ['Rome'],\n",
       "      'latitude': 41.8977003,\n",
       "      'longitude': 12.5097274,\n",
       "      'postal_code': '00185',\n",
       "      'country_code': 'IT',\n",
       "      'postal_address': ['Piazzale Aldo Moro, 7', 'I-00185, Roma'],\n",
       "      'country': 'Italy'}],\n",
       "    'ICN': ['CNR, Italy'],\n",
       "    'self': {'$ref': 'https://inspirehep.net/api/institutions/907547'},\n",
       "    'urls': [{'value': 'http://www.cnr.it'}],\n",
       "    '$schema': 'https://inspirehep.net/schemas/records/institutions.json',\n",
       "    'legacy_ICN': 'CNR, Italy',\n",
       "    'extra_words': ['Nat., naz., res., cons., counc.'],\n",
       "    'name_variants': [{'value': 'National Research Council'}],\n",
       "    'control_number': 907547,\n",
       "    'legacy_version': '20161021230224.0',\n",
       "    'deleted_records': [{'$ref': 'https://inspirehep.net/api/institutions/945542'}],\n",
       "    'institution_type': ['Research Center'],\n",
       "    'legacy_creation_date': '1998-09-09',\n",
       "    'institution_hierarchy': [{'name': 'Consiglio Nazionale delle Ricerche',\n",
       "      'acronym': 'CNR'}],\n",
       "    'external_system_identifiers': [{'value': 'INST-59072',\n",
       "      'schema': 'SPIRES'}]},\n",
       "   'created': '1998-09-09T00:00:00+00:00'},\n",
       "  {'id': '922207',\n",
       "   'links': {'json': 'https://inspirehep.net/api/institutions/922207?format=json'},\n",
       "   'updated': '2021-06-26T06:58:50.273309+00:00',\n",
       "   'metadata': {'number_of_papers': 326,\n",
       "    'addresses': [{'cities': ['Rome', 'Frascati'],\n",
       "      'latitude': 41.8232973,\n",
       "      'longitude': 12.6733009,\n",
       "      'postal_code': '00044',\n",
       "      'country_code': 'IT',\n",
       "      'postal_address': ['Via Enrico Fermi, 40', 'I-00044 Frascati'],\n",
       "      'country': 'Italy'}],\n",
       "    'ICN': ['INFN, Italy'],\n",
       "    'self': {'$ref': 'https://inspirehep.net/api/institutions/922207'},\n",
       "    'urls': [{'value': 'http://www.infn.it'}],\n",
       "    '$schema': 'https://inspirehep.net/schemas/records/institutions.json',\n",
       "    'legacy_ICN': 'INFN, Italy',\n",
       "    'extra_words': ['Nat., inst., Nucl. Phys., Ist., Naz. Fis.'],\n",
       "    'name_variants': [{'value': 'National Institute of Nuclear Physics'}],\n",
       "    'control_number': 922207,\n",
       "    'legacy_version': '20210304155345.0',\n",
       "    'related_records': [{'record': {'$ref': 'https://inspirehep.net/api/institutions/912022'},\n",
       "      'curated_relation': True,\n",
       "      'relation_freetext': 'obsolete'},\n",
       "     {'record': {'$ref': 'https://inspirehep.net/api/institutions/910190'},\n",
       "      'curated_relation': True,\n",
       "      'relation_freetext': 'obsolete'}],\n",
       "    'institution_type': ['Research Center'],\n",
       "    'legacy_creation_date': '2011-08-05',\n",
       "    'institution_hierarchy': [{'name': 'Istituto Nazionale di Fisica Nucleare',\n",
       "      'acronym': 'INFN'}]},\n",
       "   'created': '2011-08-05T00:00:00+00:00'},\n",
       "  {'id': '945540',\n",
       "   'links': {'json': 'https://inspirehep.net/api/institutions/945540?format=json'},\n",
       "   'updated': '2021-06-26T02:19:09.944105+00:00',\n",
       "   'metadata': {'number_of_papers': 2,\n",
       "    'addresses': [{'cities': ['Genoa'],\n",
       "      'latitude': 44.4259391,\n",
       "      'longitude': 8.8748765,\n",
       "      'postal_code': '16152',\n",
       "      'country_code': 'IT',\n",
       "      'postal_address': ['Corso Perrone, 24', 'I-16152 Genova'],\n",
       "      'country': 'Italy'}],\n",
       "    'ICN': ['INFM, Italy'],\n",
       "    'self': {'$ref': 'https://inspirehep.net/api/institutions/945540'},\n",
       "    'urls': [{'value': 'http:www.infm.it'}],\n",
       "    '$schema': 'https://inspirehep.net/schemas/records/institutions.json',\n",
       "    'legacy_ICN': 'INFM, Italy (main)',\n",
       "    'extra_words': ['Nat., Inst., Mat., Mater., Phys.'],\n",
       "    'public_notes': [{'value': 'INFM operates within the CNR Materials and Devices Department, working closely with CNISM'}],\n",
       "    'name_variants': [{'value': 'National Institute for Material Physics'}],\n",
       "    'control_number': 945540,\n",
       "    'legacy_version': '20161021230226.0',\n",
       "    'related_records': [{'record': {'$ref': 'https://inspirehep.net/api/institutions/907547'},\n",
       "      'relation': 'parent',\n",
       "      'curated_relation': True}],\n",
       "    'institution_type': ['Research Center'],\n",
       "    'legacy_creation_date': '2011-11-14',\n",
       "    'institution_hierarchy': [{'name': 'Istituto Nazionale per la Fisica de la Materia',\n",
       "      'acronym': 'INFM'}]},\n",
       "   'created': '2011-11-14T00:00:00+00:00'},\n",
       "  {'id': '912187',\n",
       "   'links': {'json': 'https://inspirehep.net/api/institutions/912187?format=json'},\n",
       "   'updated': '2021-06-26T10:47:37.687282+00:00',\n",
       "   'metadata': {'number_of_papers': 331,\n",
       "    'addresses': [{'country_code': 'IT',\n",
       "      'postal_address': ['Italy'],\n",
       "      'country': 'Italy'}],\n",
       "    'self': {'$ref': 'https://inspirehep.net/api/institutions/912187'},\n",
       "    '$schema': 'https://inspirehep.net/schemas/records/institutions.json',\n",
       "    'legacy_ICN': 'Unlisted, IT',\n",
       "    'control_number': 912187,\n",
       "    'legacy_version': '20130819034831.0',\n",
       "    'legacy_creation_date': '2010-07-09',\n",
       "    'external_system_identifiers': [{'value': 'INST-112488',\n",
       "      'schema': 'SPIRES'}]},\n",
       "   'created': '2010-07-09T00:00:00+00:00'},\n",
       "  {'id': '1082391',\n",
       "   'links': {'json': 'https://inspirehep.net/api/institutions/1082391?format=json'},\n",
       "   'updated': '2021-06-26T02:04:43.586305+00:00',\n",
       "   'metadata': {'number_of_papers': 0,\n",
       "    'addresses': [{'cities': ['Geneva'],\n",
       "      'latitude': 46.1655214,\n",
       "      'longitude': 6.116018,\n",
       "      'postal_code': '1228',\n",
       "      'country_code': 'CH',\n",
       "      'postal_address': ['39, Chemin du Champ des Filles, Plan-Les-Ouates',\n",
       "       'CH-1228 Geneve'],\n",
       "      'country': 'Switzerland'}],\n",
       "    'ICN': ['STMicroelectronics, Geneva'],\n",
       "    'self': {'$ref': 'https://inspirehep.net/api/institutions/1082391'},\n",
       "    '$schema': 'https://inspirehep.net/schemas/records/institutions.json',\n",
       "    'legacy_ICN': 'STMicroelectronics, Geneva',\n",
       "    'control_number': 1082391,\n",
       "    'legacy_version': '20161023033453.0',\n",
       "    'historical_data': ['was formed in June 1987 by the merger of semiconductor companies SGS Microelettronica of Italy and SGS-Thomson'],\n",
       "    'institution_type': ['Company'],\n",
       "    'legacy_creation_date': '2011-12-21',\n",
       "    'institution_hierarchy': [{'name': 'STMicroelectronics'}]},\n",
       "   'created': '2011-12-21T00:00:00+00:00'},\n",
       "  {'id': '911408',\n",
       "   'links': {'json': 'https://inspirehep.net/api/institutions/911408?format=json'},\n",
       "   'updated': '2021-06-25T22:44:25.900948+00:00',\n",
       "   'metadata': {'number_of_papers': 48,\n",
       "    'addresses': [{'cities': ['Prato'],\n",
       "      'latitude': 43.8777049,\n",
       "      'longitude': 11.102228,\n",
       "      'postal_code': '59100',\n",
       "      'country_code': 'IT',\n",
       "      'postal_address': ['Via di Galceti 74', 'I-Prato'],\n",
       "      'country': 'Italy'}],\n",
       "    'ICN': ['IITPM, Prato'],\n",
       "    'self': {'$ref': 'https://inspirehep.net/api/institutions/911408'},\n",
       "    'urls': [{'value': 'http://www.iitpm.org'}],\n",
       "    '$schema': 'https://inspirehep.net/schemas/records/institutions.json',\n",
       "    'legacy_ICN': 'PRATO, Italy',\n",
       "    'control_number': 911408,\n",
       "    'legacy_version': '20210302094533.0',\n",
       "    'related_records': [{'record': {'$ref': 'https://inspirehep.net/api/institutions/912455'},\n",
       "      'curated_relation': True,\n",
       "      'relation_freetext': 'obsolete'}],\n",
       "    'institution_type': ['Research Center'],\n",
       "    'legacy_creation_date': '2008-12-03',\n",
       "    'institution_hierarchy': [{'name': 'Einstein-Galilei International Institute for Theoretical Physics and Mathematics',\n",
       "      'acronym': 'IITPM'}],\n",
       "    'external_system_identifiers': [{'value': 'INST-103403',\n",
       "      'schema': 'SPIRES'}]},\n",
       "   'created': '2008-12-03T00:00:00+00:00'},\n",
       "  {'id': '906347',\n",
       "   'links': {'json': 'https://inspirehep.net/api/institutions/906347?format=json'},\n",
       "   'updated': '2021-06-25T15:57:04.423933+00:00',\n",
       "   'metadata': {'number_of_papers': 1,\n",
       "    'addresses': [{'cities': ['Cagliari'],\n",
       "      'country_code': 'IT',\n",
       "      'postal_address': ['IBM Corp.', 'Cagliari, Italy'],\n",
       "      'country': 'Italy'}],\n",
       "    'self': {'$ref': 'https://inspirehep.net/api/institutions/906347'},\n",
       "    '$schema': 'https://inspirehep.net/schemas/records/institutions.json',\n",
       "    'legacy_ICN': 'IBM, Cagliari',\n",
       "    'extra_words': ['International Business Machines', 'I'],\n",
       "    'control_number': 906347,\n",
       "    'legacy_version': '20130819034312.0',\n",
       "    'legacy_creation_date': '1993-04-02',\n",
       "    'external_system_identifiers': [{'value': 'INST-46027',\n",
       "      'schema': 'SPIRES'}]},\n",
       "   'created': '1993-04-02T00:00:00+00:00'},\n",
       "  {'id': '906707',\n",
       "   'links': {'json': 'https://inspirehep.net/api/institutions/906707?format=json'},\n",
       "   'updated': '2021-06-26T01:17:44.732982+00:00',\n",
       "   'metadata': {'number_of_papers': 2,\n",
       "    'addresses': [{'cities': ['Trieste'],\n",
       "      'country_code': 'IT',\n",
       "      'postal_address': ['Alcatel Siette', 'Trieste, Italy'],\n",
       "      'country': 'Italy'}],\n",
       "    'self': {'$ref': 'https://inspirehep.net/api/institutions/906707'},\n",
       "    '$schema': 'https://inspirehep.net/schemas/records/institutions.json',\n",
       "    'legacy_ICN': 'Alcatel Siette, Trieste',\n",
       "    'extra_words': ['I'],\n",
       "    'control_number': 906707,\n",
       "    'legacy_version': '20130819034343.0',\n",
       "    'legacy_creation_date': '1994-08-10',\n",
       "    'external_system_identifiers': [{'value': 'INST-49980',\n",
       "      'schema': 'SPIRES'}]},\n",
       "   'created': '1994-08-10T00:00:00+00:00'},\n",
       "  {'id': '907355',\n",
       "   'links': {'json': 'https://inspirehep.net/api/institutions/907355?format=json'},\n",
       "   'updated': '2021-06-25T15:56:57.362666+00:00',\n",
       "   'metadata': {'number_of_papers': 8,\n",
       "    'addresses': [{'cities': ['Matera'],\n",
       "      'country_code': 'IT',\n",
       "      'postal_address': ['ASI-CGS', 'Matera, Italy'],\n",
       "      'country': 'Italy'}],\n",
       "    'self': {'$ref': 'https://inspirehep.net/api/institutions/907355'},\n",
       "    '$schema': 'https://inspirehep.net/schemas/records/institutions.json',\n",
       "    'legacy_ICN': 'ASI-CGS, Matera',\n",
       "    'extra_words': ['I'],\n",
       "    'control_number': 907355,\n",
       "    'legacy_version': '20130819034439.0',\n",
       "    'legacy_creation_date': '1997-05-15',\n",
       "    'external_system_identifiers': [{'value': 'INST-56995',\n",
       "      'schema': 'SPIRES'}]},\n",
       "   'created': '1997-05-15T00:00:00+00:00'},\n",
       "  {'id': '907578',\n",
       "   'links': {'json': 'https://inspirehep.net/api/institutions/907578?format=json'},\n",
       "   'updated': '2021-06-26T01:50:04.349417+00:00',\n",
       "   'metadata': {'number_of_papers': 2,\n",
       "    'addresses': [{'cities': ['Lucca'],\n",
       "      'country_code': 'IT',\n",
       "      'postal_address': ['GCTP Renaio', 'Lucca, Italy'],\n",
       "      'country': 'Italy'}],\n",
       "    'self': {'$ref': 'https://inspirehep.net/api/institutions/907578'},\n",
       "    '$schema': 'https://inspirehep.net/schemas/records/institutions.json',\n",
       "    'legacy_ICN': 'GCTP Renaio, Lucca',\n",
       "    'extra_words': ['I'],\n",
       "    'control_number': 907578,\n",
       "    'legacy_version': '20130819034456.0',\n",
       "    'legacy_creation_date': '1998-11-23',\n",
       "    'external_system_identifiers': [{'value': 'INST-59412',\n",
       "      'schema': 'SPIRES'}]},\n",
       "   'created': '1998-11-23T00:00:00+00:00'}],\n",
       " 'total': 499}"
      ]
     },
     "execution_count": 68,
     "metadata": {},
     "output_type": "execute_result"
    }
   ],
   "source": [
    "institution_link.json().get('hits')"
   ]
  },
  {
   "cell_type": "code",
   "execution_count": 69,
   "metadata": {
    "cell_id": "f1ab54d9a7d441448f0a7c72101e6184",
    "deepnote_cell_type": "code",
    "deepnote_to_be_reexecuted": false,
    "execution_millis": 3,
    "execution_start": 1666295708540,
    "source_hash": "cb5599c6",
    "tags": []
   },
   "outputs": [
    {
     "name": "stdout",
     "output_type": "stream",
     "text": [
      "240\n",
      "326\n",
      "2\n",
      "331\n",
      "0\n",
      "48\n",
      "1\n",
      "2\n",
      "8\n",
      "2\n"
     ]
    }
   ],
   "source": [
    "#Extraer el número de papers\n",
    "m=institution_link.json().get('hits').get('hits')\n",
    "for i in range(len(m)):\n",
    "    Npaper=institution_link.json().get('hits').get('hits')[i].get('metadata').get('number_of_papers')\n",
    "    print(Npaper)"
   ]
  },
  {
   "cell_type": "code",
   "execution_count": 70,
   "metadata": {
    "cell_id": "b5ecfa361ac4408596939e51af435d6a",
    "deepnote_cell_type": "code",
    "deepnote_to_be_reexecuted": false,
    "execution_millis": 3,
    "execution_start": 1666295713327,
    "source_hash": "eca667e3",
    "tags": []
   },
   "outputs": [
    {
     "name": "stdout",
     "output_type": "stream",
     "text": [
      "number_of_paper: 240\n",
      "index 0\n",
      "***********************\n",
      "legacy_INC: CNR, Italy\n"
     ]
    }
   ],
   "source": [
    "#Extraer el legacy\n",
    "m=institution_link.json().get('hits').get('hits')\n",
    "j=0\n",
    "for i in range(len(m)):\n",
    "    Npaper=institution_link.json().get('hits').get('hits')[i].get('metadata').get('number_of_papers')\n",
    "    print('number_of_paper:', Npaper)\n",
    "    if Npaper > 0:\n",
    "        j=i\n",
    "        break\n",
    "print('index',j)\n",
    "\n",
    "legacy= institution_link.json().get('hits').get('hits')[j].get('metadata').get('legacy_ICN')\n",
    "\n",
    "print('***********************')\n",
    "print('legacy_INC:', legacy)\n"
   ]
  },
  {
   "cell_type": "code",
   "execution_count": 71,
   "metadata": {
    "cell_id": "ad4281095f5a46dd9d1eaa3dbfa8e42a",
    "deepnote_cell_type": "code",
    "deepnote_to_be_reexecuted": false,
    "execution_millis": 4,
    "execution_start": 1666295714983,
    "source_hash": "c39cdc8",
    "tags": []
   },
   "outputs": [
    {
     "data": {
      "text/plain": [
       "'https://inspirehep.net/api/literature?sort=mostrecent&page=1&q=aff+CNR,+Italy+and+ac+1->+10'"
      ]
     },
     "execution_count": 71,
     "metadata": {},
     "output_type": "execute_result"
    }
   ],
   "source": [
    "#Obteniendo el JSON\n",
    "literature_link=f\"https://inspirehep.net/api/literature?sort=mostrecent&page=1&q=aff+{legacy.replace(' ','+')}+and+ac+1->+10\"\n",
    "literature_link"
   ]
  },
  {
   "cell_type": "code",
   "execution_count": 72,
   "metadata": {
    "cell_id": "a262dd609ca54a429527a1ffe49310f8",
    "deepnote_cell_type": "code",
    "deepnote_to_be_reexecuted": false,
    "execution_millis": 1028,
    "execution_start": 1666295717252,
    "source_hash": "55614585",
    "tags": []
   },
   "outputs": [
    {
     "data": {
      "text/plain": [
       "200"
      ]
     },
     "execution_count": 72,
     "metadata": {},
     "output_type": "execute_result"
    }
   ],
   "source": [
    "literature_link=requests.get(literature_link)\n",
    "literature_link.status_code"
   ]
  },
  {
   "cell_type": "code",
   "execution_count": 87,
   "metadata": {
    "cell_id": "caf7b02a9214453eab9601514a4e8511",
    "deepnote_cell_type": "code",
    "deepnote_to_be_reexecuted": false,
    "execution_millis": 20,
    "execution_start": 1666296618941,
    "source_hash": "f70de5ea",
    "tags": []
   },
   "outputs": [
    {
     "data": {
      "text/plain": [
       "[{'raw_affiliations': [{'value': 'ICAR-CNR Via P. Bucci, 8/9 C, Rende, Italy'}],\n",
       "  'full_name_unicode_normalized': 'mastroianni, carlo',\n",
       "  'last_name': 'Mastroianni',\n",
       "  'affiliations': [{'curated_relation': True,\n",
       "    'record': {'$ref': 'https://inspirehep.net/api/institutions/907547'},\n",
       "    'value': 'CNR, Italy'}],\n",
       "  'bai': 'C.Mastroianni.1',\n",
       "  'uuid': 'c00176d4-368b-4aaf-9aee-95e37868a54d',\n",
       "  'full_name': 'Mastroianni, Carlo',\n",
       "  'record': {'$ref': 'https://inspirehep.net/api/authors/2082758'},\n",
       "  'ids': [{'schema': 'INSPIRE BAI', 'value': 'C.Mastroianni.1'}],\n",
       "  'signature_block': 'MASTRANc',\n",
       "  'first_name': 'Carlo',\n",
       "  'recid': 2082758},\n",
       " {'raw_affiliations': [{'value': 'ICAR-CNR Via P. Bucci, 8/9 C, Rende, Italy'}],\n",
       "  'full_name_unicode_normalized': 'scarcello, luigi',\n",
       "  'last_name': 'Scarcello',\n",
       "  'affiliations': [{'curated_relation': True,\n",
       "    'record': {'$ref': 'https://inspirehep.net/api/institutions/907547'},\n",
       "    'value': 'CNR, Italy'}],\n",
       "  'bai': 'L.Scarcello.1',\n",
       "  'uuid': '199f1b9a-ea81-4a6c-a3b6-ab7af2c5210d',\n",
       "  'full_name': 'Scarcello, Luigi',\n",
       "  'record': {'$ref': 'https://inspirehep.net/api/authors/2149805'},\n",
       "  'ids': [{'schema': 'INSPIRE BAI', 'value': 'L.Scarcello.1'}],\n",
       "  'signature_block': 'SCARCALl',\n",
       "  'first_name': 'Luigi',\n",
       "  'recid': 2149805},\n",
       " {'raw_affiliations': [{'value': 'Dipartimento di Fisica, Universit`a della Calabria Via P. Bucci, Rende, Italy'},\n",
       "   {'value': 'ICAR-CNR Via P. Bucci, 8/9 C, Rende, Italy'},\n",
       "   {'value': 'INFN, gruppo collegato di Cosenza, Rende, Italy'}],\n",
       "  'full_name_unicode_normalized': 'settino, jacopo',\n",
       "  'last_name': 'Settino',\n",
       "  'affiliations': [{'curated_relation': True,\n",
       "    'record': {'$ref': 'https://inspirehep.net/api/institutions/903615'},\n",
       "    'value': 'Calabria U.'},\n",
       "   {'curated_relation': True,\n",
       "    'record': {'$ref': 'https://inspirehep.net/api/institutions/907547'},\n",
       "    'value': 'CNR, Italy'},\n",
       "   {'curated_relation': True,\n",
       "    'record': {'$ref': 'https://inspirehep.net/api/institutions/922207'},\n",
       "    'value': 'INFN, Italy'}],\n",
       "  'bai': 'J.Settino.1',\n",
       "  'uuid': '14b44dc3-39d6-47d2-8ce0-25e2322db854',\n",
       "  'full_name': 'Settino, Jacopo',\n",
       "  'record': {'$ref': 'https://inspirehep.net/api/authors/2149806'},\n",
       "  'ids': [{'schema': 'INSPIRE BAI', 'value': 'J.Settino.1'}],\n",
       "  'signature_block': 'SATANj',\n",
       "  'first_name': 'Jacopo',\n",
       "  'recid': 2149806}]"
      ]
     },
     "execution_count": 87,
     "metadata": {},
     "output_type": "execute_result"
    }
   ],
   "source": [
    "#Extraer el nombre y el link del perfil\n",
    "literature_link.json().get('hits').get('hits')[1].get('metadata').get('authors')"
   ]
  },
  {
   "cell_type": "code",
   "execution_count": 122,
   "metadata": {
    "cell_id": "fc5ca96c63274a8a9245ed0ddd28e287",
    "deepnote_cell_type": "code",
    "deepnote_to_be_reexecuted": false,
    "execution_millis": 3,
    "execution_start": 1666297665294,
    "source_hash": "29c75de9",
    "tags": []
   },
   "outputs": [
    {
     "name": "stdout",
     "output_type": "stream",
     "text": [
      "mastroianni, carlo\n",
      "https://inspirehep.net/api/authors/2082758\n"
     ]
    }
   ],
   "source": [
    "LyA=literature_link.json().get('hits').get('hits')[1].get('metadata').get('authors')\n",
    "AutorName=LyA[0].get('full_name_unicode_normalized')\n",
    "LinkPerfil=LyA[0].get('record').get('$ref')\n",
    "\n",
    "print(AutorName)\n",
    "print(LinkPerfil)"
   ]
  },
  {
   "cell_type": "code",
   "execution_count": 132,
   "metadata": {
    "cell_id": "66984eb5633e41f8b4d3bf821704062d",
    "deepnote_cell_type": "code",
    "deepnote_to_be_reexecuted": false,
    "execution_millis": 3,
    "execution_start": 1666298328931,
    "source_hash": "17b9631f",
    "tags": []
   },
   "outputs": [
    {
     "name": "stdout",
     "output_type": "stream",
     "text": [
      "['mastroianni, carlo', 'scarcello, luigi', 'settino, jacopo']\n",
      "['https://inspirehep.net/api/authors/2082758', 'https://inspirehep.net/api/authors/2149805', 'https://inspirehep.net/api/authors/2149806']\n"
     ]
    }
   ],
   "source": [
    "AutorNames=[LyA[i].get('full_name_unicode_normalized') for i in range(len(LyA))]\n",
    "LinkPerfils=[LyA[i].get('record').get('$ref') for i in range(len(LyA))]\n",
    "print(AutorNames)\n",
    "print(LinkPerfils)"
   ]
  },
  {
   "cell_type": "code",
   "execution_count": 142,
   "metadata": {
    "cell_id": "7e548f3900e24bc097fb4745aadd4542",
    "deepnote_cell_type": "code",
    "deepnote_to_be_reexecuted": false,
    "execution_millis": 711,
    "execution_start": 1666299001558,
    "source_hash": "e5a40413",
    "tags": []
   },
   "outputs": [
    {
     "data": {
      "text/plain": [
       "{'mastroianni, carlo': 'https://inspirehep.net/api/authors/2082758',\n",
       " 'scarcello, luigi': 'https://inspirehep.net/api/authors/2149805',\n",
       " 'settino, jacopo': 'https://inspirehep.net/api/authors/2149806'}"
      ]
     },
     "execution_count": 142,
     "metadata": {},
     "output_type": "execute_result"
    }
   ],
   "source": [
    "d={}\n",
    "for i in range(len(LyA)):\n",
    "    d[AutorNames[i]]=LinkPerfils[i]\n",
    "d"
   ]
  },
  {
   "cell_type": "code",
   "execution_count": 150,
   "metadata": {
    "cell_id": "76b8d0f9b0cf4c96a0ea953565d56dee",
    "deepnote_cell_type": "code",
    "deepnote_to_be_reexecuted": false,
    "execution_millis": 2,
    "execution_start": 1666300069034,
    "source_hash": "a3d47c31",
    "tags": []
   },
   "outputs": [
    {
     "data": {
      "application/vnd.deepnote.dataframe.v3+json": {
       "column_count": 2,
       "columns": [
        {
         "dtype": "object",
         "name": "Autor",
         "stats": {
          "categories": [
           {
            "count": 1,
            "name": "mastroianni, carlo"
           },
           {
            "count": 1,
            "name": "scarcello, luigi"
           },
           {
            "count": 1,
            "name": "settino, jacopo"
           }
          ],
          "nan_count": 0,
          "unique_count": 3
         }
        },
        {
         "dtype": "object",
         "name": "Link",
         "stats": {
          "categories": [
           {
            "count": 1,
            "name": "https://inspirehep.net/api/authors/2082758"
           },
           {
            "count": 1,
            "name": "https://inspirehep.net/api/authors/2149805"
           },
           {
            "count": 1,
            "name": "https://inspirehep.net/api/authors/2149806"
           }
          ],
          "nan_count": 0,
          "unique_count": 3
         }
        },
        {
         "dtype": "int64",
         "name": "_deepnote_index_column"
        }
       ],
       "row_count": 3,
       "rows": [
        {
         "Autor": "mastroianni, carlo",
         "Link": "https://inspirehep.net/api/authors/2082758",
         "_deepnote_index_column": "0"
        },
        {
         "Autor": "scarcello, luigi",
         "Link": "https://inspirehep.net/api/authors/2149805",
         "_deepnote_index_column": "1"
        },
        {
         "Autor": "settino, jacopo",
         "Link": "https://inspirehep.net/api/authors/2149806",
         "_deepnote_index_column": "2"
        }
       ]
      },
      "text/html": [
       "<div>\n",
       "<style scoped>\n",
       "    .dataframe tbody tr th:only-of-type {\n",
       "        vertical-align: middle;\n",
       "    }\n",
       "\n",
       "    .dataframe tbody tr th {\n",
       "        vertical-align: top;\n",
       "    }\n",
       "\n",
       "    .dataframe thead th {\n",
       "        text-align: right;\n",
       "    }\n",
       "</style>\n",
       "<table border=\"1\" class=\"dataframe\">\n",
       "  <thead>\n",
       "    <tr style=\"text-align: right;\">\n",
       "      <th></th>\n",
       "      <th>Autor</th>\n",
       "      <th>Link</th>\n",
       "    </tr>\n",
       "  </thead>\n",
       "  <tbody>\n",
       "    <tr>\n",
       "      <th>0</th>\n",
       "      <td>mastroianni, carlo</td>\n",
       "      <td>https://inspirehep.net/api/authors/2082758</td>\n",
       "    </tr>\n",
       "    <tr>\n",
       "      <th>1</th>\n",
       "      <td>scarcello, luigi</td>\n",
       "      <td>https://inspirehep.net/api/authors/2149805</td>\n",
       "    </tr>\n",
       "    <tr>\n",
       "      <th>2</th>\n",
       "      <td>settino, jacopo</td>\n",
       "      <td>https://inspirehep.net/api/authors/2149806</td>\n",
       "    </tr>\n",
       "  </tbody>\n",
       "</table>\n",
       "</div>"
      ],
      "text/plain": [
       "                Autor                                        Link\n",
       "0  mastroianni, carlo  https://inspirehep.net/api/authors/2082758\n",
       "1    scarcello, luigi  https://inspirehep.net/api/authors/2149805\n",
       "2     settino, jacopo  https://inspirehep.net/api/authors/2149806"
      ]
     },
     "execution_count": 150,
     "metadata": {},
     "output_type": "execute_result"
    }
   ],
   "source": [
    "#Tabla\n",
    "df=pd.DataFrame([{'Autor':AutorNames[0],'Link':LinkPerfils[0]}, \n",
    "{'Autor':AutorNames[1],'Link':LinkPerfils[1]},\n",
    "{'Autor':AutorNames[2],'Link':LinkPerfils[2]}])\n",
    "df"
   ]
  },
  {
   "cell_type": "code",
   "execution_count": null,
   "metadata": {
    "cell_id": "4152ea309f0c4132a19eba5ce49f09ad",
    "deepnote_cell_type": "code",
    "tags": []
   },
   "outputs": [],
   "source": []
  },
  {
   "cell_type": "markdown",
   "metadata": {
    "created_in_deepnote_cell": true,
    "deepnote_cell_type": "markdown",
    "tags": []
   },
   "source": [
    "<a style='text-decoration:none;line-height:16px;display:flex;color:#5B5B62;padding:10px;justify-content:end;' href='https://deepnote.com?utm_source=created-in-deepnote-cell&projectId=27151cdc-7909-4bcf-b43a-2b2b8fd9cb9f' target=\"_blank\">\n",
    "<img alt='Created in deepnote.com' style='display:inline;max-height:16px;margin:0px;margin-right:7.5px;' src='data:image/svg+xml;base64,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' > </img>\n",
    "Created in <span style='font-weight:600;margin-left:4px;'>Deepnote</span></a>"
   ]
  }
 ],
 "metadata": {
  "deepnote": {},
  "deepnote_execution_queue": [],
  "deepnote_notebook_id": "f42808e9937345e48fd812cc82319fe5",
  "deepnote_persisted_session": {
   "createdAt": "2022-10-20T03:31:40.229Z"
  },
  "kernelspec": {
   "display_name": "Python 3",
   "language": "python",
   "name": "python3"
  },
  "language_info": {
   "codemirror_mode": {
    "name": "ipython",
    "version": 3
   },
   "file_extension": ".py",
   "mimetype": "text/x-python",
   "name": "python",
   "nbconvert_exporter": "python",
   "pygments_lexer": "ipython3",
   "version": "3.7.2"
  }
 },
 "nbformat": 4,
 "nbformat_minor": 1
}
