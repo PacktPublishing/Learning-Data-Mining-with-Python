{
 "cells": [
  {
   "cell_type": "markdown",
   "metadata": {
    "id": "nRQ2nt5yB5q1"
   },
   "source": [
    "# **Samuel Vasco Gonzalez CC.1152223665**\n",
    "\n",
    "### Comparison of diferents models for NLP such as TextBlob, Text Analytics of Microsoft Azure, my own model with Sklearn and Transformers RoBerta of Hugging Face."
   ]
  },
  {
   "cell_type": "code",
   "execution_count": null,
   "metadata": {
    "colab": {
     "base_uri": "https://localhost:8080/"
    },
    "executionInfo": {
     "elapsed": 12216,
     "status": "ok",
     "timestamp": 1666560521638,
     "user": {
      "displayName": "Samuel Vasco",
      "userId": "17483000358453084899"
     },
     "user_tz": 300
    },
    "id": "_f1lO22X96Ba",
    "outputId": "20454240-13fc-4324-f630-e10f80ad2fea"
   },
   "outputs": [
    {
     "name": "stdout",
     "output_type": "stream",
     "text": [
      "Looking in indexes: https://pypi.org/simple, https://us-python.pkg.dev/colab-wheels/public/simple/\n",
      "Collecting azure-ai-textanalytics==5.2.0\n",
      "  Downloading azure_ai_textanalytics-5.2.0-py3-none-any.whl (239 kB)\n",
      "\u001b[K     |████████████████████████████████| 239 kB 9.1 MB/s \n",
      "\u001b[?25hRequirement already satisfied: typing-extensions>=4.0.1 in /usr/local/lib/python3.7/dist-packages (from azure-ai-textanalytics==5.2.0) (4.1.1)\n",
      "Collecting azure-core<2.0.0,>=1.24.0\n",
      "  Downloading azure_core-1.26.0-py3-none-any.whl (178 kB)\n",
      "\u001b[K     |████████████████████████████████| 178 kB 33.5 MB/s \n",
      "\u001b[?25hCollecting azure-common~=1.1\n",
      "  Downloading azure_common-1.1.28-py2.py3-none-any.whl (14 kB)\n",
      "Collecting msrest>=0.7.0\n",
      "  Downloading msrest-0.7.1-py3-none-any.whl (85 kB)\n",
      "\u001b[K     |████████████████████████████████| 85 kB 2.6 MB/s \n",
      "\u001b[?25hRequirement already satisfied: requests>=2.18.4 in /usr/local/lib/python3.7/dist-packages (from azure-core<2.0.0,>=1.24.0->azure-ai-textanalytics==5.2.0) (2.23.0)\n",
      "Requirement already satisfied: six>=1.11.0 in /usr/local/lib/python3.7/dist-packages (from azure-core<2.0.0,>=1.24.0->azure-ai-textanalytics==5.2.0) (1.15.0)\n",
      "Requirement already satisfied: requests-oauthlib>=0.5.0 in /usr/local/lib/python3.7/dist-packages (from msrest>=0.7.0->azure-ai-textanalytics==5.2.0) (1.3.1)\n",
      "Requirement already satisfied: certifi>=2017.4.17 in /usr/local/lib/python3.7/dist-packages (from msrest>=0.7.0->azure-ai-textanalytics==5.2.0) (2022.9.24)\n",
      "Collecting isodate>=0.6.0\n",
      "  Downloading isodate-0.6.1-py2.py3-none-any.whl (41 kB)\n",
      "\u001b[K     |████████████████████████████████| 41 kB 676 kB/s \n",
      "\u001b[?25hRequirement already satisfied: urllib3!=1.25.0,!=1.25.1,<1.26,>=1.21.1 in /usr/local/lib/python3.7/dist-packages (from requests>=2.18.4->azure-core<2.0.0,>=1.24.0->azure-ai-textanalytics==5.2.0) (1.24.3)\n",
      "Requirement already satisfied: idna<3,>=2.5 in /usr/local/lib/python3.7/dist-packages (from requests>=2.18.4->azure-core<2.0.0,>=1.24.0->azure-ai-textanalytics==5.2.0) (2.10)\n",
      "Requirement already satisfied: chardet<4,>=3.0.2 in /usr/local/lib/python3.7/dist-packages (from requests>=2.18.4->azure-core<2.0.0,>=1.24.0->azure-ai-textanalytics==5.2.0) (3.0.4)\n",
      "Requirement already satisfied: oauthlib>=3.0.0 in /usr/local/lib/python3.7/dist-packages (from requests-oauthlib>=0.5.0->msrest>=0.7.0->azure-ai-textanalytics==5.2.0) (3.2.1)\n",
      "Installing collected packages: isodate, azure-core, msrest, azure-common, azure-ai-textanalytics\n",
      "Successfully installed azure-ai-textanalytics-5.2.0 azure-common-1.1.28 azure-core-1.26.0 isodate-0.6.1 msrest-0.7.1\n"
     ]
    }
   ],
   "source": [
    "!pip install azure-ai-textanalytics==5.2.0"
   ]
  },
  {
   "cell_type": "code",
   "execution_count": null,
   "metadata": {
    "id": "VICfCKYeTRqi"
   },
   "outputs": [],
   "source": [
    "import pandas as pd\n",
    "import numpy as np\n",
    "import re\n",
    "import spacy \n",
    "from nltk.corpus import stopwords\n",
    "from nltk.corpus import stopwords\n",
    "from textblob import TextBlob\n",
    "from sklearn.feature_extraction.text import TfidfVectorizer\n",
    "from sklearn.model_selection import train_test_split\n",
    "from sklearn.ensemble import RandomForestClassifier, GradientBoostingClassifier, AdaBoostClassifier\n",
    "from sklearn.neural_network import MLPClassifier\n",
    "from sklearn.svm import LinearSVC\n",
    "from sklearn.metrics import accuracy_score"
   ]
  },
  {
   "cell_type": "code",
   "execution_count": null,
   "metadata": {
    "colab": {
     "base_uri": "https://localhost:8080/"
    },
    "executionInfo": {
     "elapsed": 18,
     "status": "ok",
     "timestamp": 1666560533551,
     "user": {
      "displayName": "Samuel Vasco",
      "userId": "17483000358453084899"
     },
     "user_tz": 300
    },
    "id": "K5mTMScIGVBz",
    "outputId": "4c4a04b7-44eb-4acc-d082-bdf928157dc7"
   },
   "outputs": [
    {
     "name": "stderr",
     "output_type": "stream",
     "text": [
      "[nltk_data] Downloading package stopwords to /root/nltk_data...\n",
      "[nltk_data]   Unzipping corpora/stopwords.zip.\n"
     ]
    },
    {
     "data": {
      "text/plain": [
       "True"
      ]
     },
     "execution_count": 6,
     "metadata": {},
     "output_type": "execute_result"
    }
   ],
   "source": [
    "import nltk\n",
    "nltk.download('stopwords')"
   ]
  },
  {
   "cell_type": "markdown",
   "metadata": {
    "id": "1x3BQnWoVuvT"
   },
   "source": [
    "# Airline Tweets"
   ]
  },
  {
   "cell_type": "code",
   "execution_count": null,
   "metadata": {
    "colab": {
     "base_uri": "https://localhost:8080/",
     "height": 423
    },
    "executionInfo": {
     "elapsed": 642,
     "status": "ok",
     "timestamp": 1666560534177,
     "user": {
      "displayName": "Samuel Vasco",
      "userId": "17483000358453084899"
     },
     "user_tz": 300
    },
    "id": "6cHCubOyVRsb",
    "outputId": "69704da2-336b-4884-bcac-9d55ac83f929"
   },
   "outputs": [
    {
     "data": {
      "text/html": [
       "\n",
       "  <div id=\"df-dbfa327b-0c6e-4ba4-8e41-655c457ecaeb\">\n",
       "    <div class=\"colab-df-container\">\n",
       "      <div>\n",
       "<style scoped>\n",
       "    .dataframe tbody tr th:only-of-type {\n",
       "        vertical-align: middle;\n",
       "    }\n",
       "\n",
       "    .dataframe tbody tr th {\n",
       "        vertical-align: top;\n",
       "    }\n",
       "\n",
       "    .dataframe thead th {\n",
       "        text-align: right;\n",
       "    }\n",
       "</style>\n",
       "<table border=\"1\" class=\"dataframe\">\n",
       "  <thead>\n",
       "    <tr style=\"text-align: right;\">\n",
       "      <th></th>\n",
       "      <th>text</th>\n",
       "      <th>airline_sentiment</th>\n",
       "    </tr>\n",
       "  </thead>\n",
       "  <tbody>\n",
       "    <tr>\n",
       "      <th>0</th>\n",
       "      <td>@VirginAmerica What @dhepburn said.</td>\n",
       "      <td>neutral</td>\n",
       "    </tr>\n",
       "    <tr>\n",
       "      <th>1</th>\n",
       "      <td>@VirginAmerica plus you've added commercials t...</td>\n",
       "      <td>positive</td>\n",
       "    </tr>\n",
       "    <tr>\n",
       "      <th>2</th>\n",
       "      <td>@VirginAmerica I didn't today... Must mean I n...</td>\n",
       "      <td>neutral</td>\n",
       "    </tr>\n",
       "    <tr>\n",
       "      <th>3</th>\n",
       "      <td>@VirginAmerica it's really aggressive to blast...</td>\n",
       "      <td>negative</td>\n",
       "    </tr>\n",
       "    <tr>\n",
       "      <th>4</th>\n",
       "      <td>@VirginAmerica and it's a really big bad thing...</td>\n",
       "      <td>negative</td>\n",
       "    </tr>\n",
       "    <tr>\n",
       "      <th>...</th>\n",
       "      <td>...</td>\n",
       "      <td>...</td>\n",
       "    </tr>\n",
       "    <tr>\n",
       "      <th>14635</th>\n",
       "      <td>@AmericanAir thank you we got on a different f...</td>\n",
       "      <td>positive</td>\n",
       "    </tr>\n",
       "    <tr>\n",
       "      <th>14636</th>\n",
       "      <td>@AmericanAir leaving over 20 minutes Late Flig...</td>\n",
       "      <td>negative</td>\n",
       "    </tr>\n",
       "    <tr>\n",
       "      <th>14637</th>\n",
       "      <td>@AmericanAir Please bring American Airlines to...</td>\n",
       "      <td>neutral</td>\n",
       "    </tr>\n",
       "    <tr>\n",
       "      <th>14638</th>\n",
       "      <td>@AmericanAir you have my money, you change my ...</td>\n",
       "      <td>negative</td>\n",
       "    </tr>\n",
       "    <tr>\n",
       "      <th>14639</th>\n",
       "      <td>@AmericanAir we have 8 ppl so we need 2 know h...</td>\n",
       "      <td>neutral</td>\n",
       "    </tr>\n",
       "  </tbody>\n",
       "</table>\n",
       "<p>14640 rows × 2 columns</p>\n",
       "</div>\n",
       "      <button class=\"colab-df-convert\" onclick=\"convertToInteractive('df-dbfa327b-0c6e-4ba4-8e41-655c457ecaeb')\"\n",
       "              title=\"Convert this dataframe to an interactive table.\"\n",
       "              style=\"display:none;\">\n",
       "        \n",
       "  <svg xmlns=\"http://www.w3.org/2000/svg\" height=\"24px\"viewBox=\"0 0 24 24\"\n",
       "       width=\"24px\">\n",
       "    <path d=\"M0 0h24v24H0V0z\" fill=\"none\"/>\n",
       "    <path d=\"M18.56 5.44l.94 2.06.94-2.06 2.06-.94-2.06-.94-.94-2.06-.94 2.06-2.06.94zm-11 1L8.5 8.5l.94-2.06 2.06-.94-2.06-.94L8.5 2.5l-.94 2.06-2.06.94zm10 10l.94 2.06.94-2.06 2.06-.94-2.06-.94-.94-2.06-.94 2.06-2.06.94z\"/><path d=\"M17.41 7.96l-1.37-1.37c-.4-.4-.92-.59-1.43-.59-.52 0-1.04.2-1.43.59L10.3 9.45l-7.72 7.72c-.78.78-.78 2.05 0 2.83L4 21.41c.39.39.9.59 1.41.59.51 0 1.02-.2 1.41-.59l7.78-7.78 2.81-2.81c.8-.78.8-2.07 0-2.86zM5.41 20L4 18.59l7.72-7.72 1.47 1.35L5.41 20z\"/>\n",
       "  </svg>\n",
       "      </button>\n",
       "      \n",
       "  <style>\n",
       "    .colab-df-container {\n",
       "      display:flex;\n",
       "      flex-wrap:wrap;\n",
       "      gap: 12px;\n",
       "    }\n",
       "\n",
       "    .colab-df-convert {\n",
       "      background-color: #E8F0FE;\n",
       "      border: none;\n",
       "      border-radius: 50%;\n",
       "      cursor: pointer;\n",
       "      display: none;\n",
       "      fill: #1967D2;\n",
       "      height: 32px;\n",
       "      padding: 0 0 0 0;\n",
       "      width: 32px;\n",
       "    }\n",
       "\n",
       "    .colab-df-convert:hover {\n",
       "      background-color: #E2EBFA;\n",
       "      box-shadow: 0px 1px 2px rgba(60, 64, 67, 0.3), 0px 1px 3px 1px rgba(60, 64, 67, 0.15);\n",
       "      fill: #174EA6;\n",
       "    }\n",
       "\n",
       "    [theme=dark] .colab-df-convert {\n",
       "      background-color: #3B4455;\n",
       "      fill: #D2E3FC;\n",
       "    }\n",
       "\n",
       "    [theme=dark] .colab-df-convert:hover {\n",
       "      background-color: #434B5C;\n",
       "      box-shadow: 0px 1px 3px 1px rgba(0, 0, 0, 0.15);\n",
       "      filter: drop-shadow(0px 1px 2px rgba(0, 0, 0, 0.3));\n",
       "      fill: #FFFFFF;\n",
       "    }\n",
       "  </style>\n",
       "\n",
       "      <script>\n",
       "        const buttonEl =\n",
       "          document.querySelector('#df-dbfa327b-0c6e-4ba4-8e41-655c457ecaeb button.colab-df-convert');\n",
       "        buttonEl.style.display =\n",
       "          google.colab.kernel.accessAllowed ? 'block' : 'none';\n",
       "\n",
       "        async function convertToInteractive(key) {\n",
       "          const element = document.querySelector('#df-dbfa327b-0c6e-4ba4-8e41-655c457ecaeb');\n",
       "          const dataTable =\n",
       "            await google.colab.kernel.invokeFunction('convertToInteractive',\n",
       "                                                     [key], {});\n",
       "          if (!dataTable) return;\n",
       "\n",
       "          const docLinkHtml = 'Like what you see? Visit the ' +\n",
       "            '<a target=\"_blank\" href=https://colab.research.google.com/notebooks/data_table.ipynb>data table notebook</a>'\n",
       "            + ' to learn more about interactive tables.';\n",
       "          element.innerHTML = '';\n",
       "          dataTable['output_type'] = 'display_data';\n",
       "          await google.colab.output.renderOutput(dataTable, element);\n",
       "          const docLink = document.createElement('div');\n",
       "          docLink.innerHTML = docLinkHtml;\n",
       "          element.appendChild(docLink);\n",
       "        }\n",
       "      </script>\n",
       "    </div>\n",
       "  </div>\n",
       "  "
      ],
      "text/plain": [
       "                                                    text airline_sentiment\n",
       "0                    @VirginAmerica What @dhepburn said.           neutral\n",
       "1      @VirginAmerica plus you've added commercials t...          positive\n",
       "2      @VirginAmerica I didn't today... Must mean I n...           neutral\n",
       "3      @VirginAmerica it's really aggressive to blast...          negative\n",
       "4      @VirginAmerica and it's a really big bad thing...          negative\n",
       "...                                                  ...               ...\n",
       "14635  @AmericanAir thank you we got on a different f...          positive\n",
       "14636  @AmericanAir leaving over 20 minutes Late Flig...          negative\n",
       "14637  @AmericanAir Please bring American Airlines to...           neutral\n",
       "14638  @AmericanAir you have my money, you change my ...          negative\n",
       "14639  @AmericanAir we have 8 ppl so we need 2 know h...           neutral\n",
       "\n",
       "[14640 rows x 2 columns]"
      ]
     },
     "execution_count": 7,
     "metadata": {},
     "output_type": "execute_result"
    }
   ],
   "source": [
    "data_source_url = \"https://raw.githubusercontent.com/mhemmg/datasets/master/nlp/airline_tweets.csv\"\n",
    "airline_tweets = pd.read_csv(data_source_url)\n",
    "airline_tweets=airline_tweets[[\"text\", \"airline_sentiment\"]]\n",
    "airline_tweets"
   ]
  },
  {
   "cell_type": "markdown",
   "metadata": {
    "id": "DmMgeBQaV8Uz"
   },
   "source": [
    "* Se cuentan las entradas de valores NaN y se eliminan las filas con NaN."
   ]
  },
  {
   "cell_type": "code",
   "execution_count": null,
   "metadata": {
    "colab": {
     "base_uri": "https://localhost:8080/"
    },
    "executionInfo": {
     "elapsed": 226,
     "status": "ok",
     "timestamp": 1666560534400,
     "user": {
      "displayName": "Samuel Vasco",
      "userId": "17483000358453084899"
     },
     "user_tz": 300
    },
    "id": "FFF6OfTjV3Qz",
    "outputId": "3c9a4cc1-71aa-49ad-e1d7-631d2e061790"
   },
   "outputs": [
    {
     "name": "stdout",
     "output_type": "stream",
     "text": [
      "Presencia NaN: False\n",
      "Total de valores NaN: 0\n"
     ]
    }
   ],
   "source": [
    "check_for_any_nan= airline_tweets.isna().any().any()\n",
    "total_nan_values = airline_tweets.isna().sum().sum()\n",
    "\n",
    "print(\"Presencia NaN: \"+str(check_for_any_nan))\n",
    "print (\"Total de valores NaN: \"+str(total_nan_values))"
   ]
  },
  {
   "cell_type": "markdown",
   "metadata": {
    "id": "qM7h8J_0ZIOM"
   },
   "source": [
    "* Se cuentan las filas repetidas y se eliminan."
   ]
  },
  {
   "cell_type": "code",
   "execution_count": null,
   "metadata": {
    "colab": {
     "base_uri": "https://localhost:8080/"
    },
    "executionInfo": {
     "elapsed": 19,
     "status": "ok",
     "timestamp": 1666560534400,
     "user": {
      "displayName": "Samuel Vasco",
      "userId": "17483000358453084899"
     },
     "user_tz": 300
    },
    "id": "yW_gU3c3ZJNV",
    "outputId": "491a2213-b31c-43f6-8264-4e2c64d861c2"
   },
   "outputs": [
    {
     "data": {
      "text/plain": [
       "188"
      ]
     },
     "execution_count": 9,
     "metadata": {},
     "output_type": "execute_result"
    }
   ],
   "source": [
    "airline_tweets.duplicated().sum() #numero de filas repetidas"
   ]
  },
  {
   "cell_type": "code",
   "execution_count": null,
   "metadata": {
    "id": "pKJv5SZZZTSL"
   },
   "outputs": [],
   "source": [
    "airline_tweets.drop_duplicates(inplace=True) #eliminacion de filas repetidas"
   ]
  },
  {
   "cell_type": "code",
   "execution_count": null,
   "metadata": {
    "colab": {
     "base_uri": "https://localhost:8080/"
    },
    "executionInfo": {
     "elapsed": 18,
     "status": "ok",
     "timestamp": 1666560534401,
     "user": {
      "displayName": "Samuel Vasco",
      "userId": "17483000358453084899"
     },
     "user_tz": 300
    },
    "id": "DNFIlAcxZYKM",
    "outputId": "32e45ba2-e475-415b-a802-2d35594376a6"
   },
   "outputs": [
    {
     "data": {
      "text/plain": [
       "(14452, 2)"
      ]
     },
     "execution_count": 11,
     "metadata": {},
     "output_type": "execute_result"
    }
   ],
   "source": [
    "airline_tweets.shape"
   ]
  },
  {
   "cell_type": "markdown",
   "metadata": {
    "id": "17iyEQCWlv6E"
   },
   "source": [
    "# Identifying columns that will constitute features and data (features and labels)"
   ]
  },
  {
   "cell_type": "code",
   "execution_count": null,
   "metadata": {
    "colab": {
     "base_uri": "https://localhost:8080/"
    },
    "executionInfo": {
     "elapsed": 17,
     "status": "ok",
     "timestamp": 1666560534401,
     "user": {
      "displayName": "Samuel Vasco",
      "userId": "17483000358453084899"
     },
     "user_tz": 300
    },
    "id": "Kdto_KDMZaX8",
    "outputId": "1267eedf-95c2-456f-e1a5-3e7f814cfcaa"
   },
   "outputs": [
    {
     "data": {
      "text/plain": [
       "array(['@VirginAmerica What @dhepburn said.',\n",
       "       \"@VirginAmerica plus you've added commercials to the experience... tacky.\",\n",
       "       \"@VirginAmerica I didn't today... Must mean I need to take another trip!\",\n",
       "       '@VirginAmerica it\\'s really aggressive to blast obnoxious \"entertainment\" in your guests\\' faces &amp; they have little recourse',\n",
       "       \"@VirginAmerica and it's a really big bad thing about it\",\n",
       "       \"@VirginAmerica seriously would pay $30 a flight for seats that didn't have this playing.\\nit's really the only bad thing about flying VA\",\n",
       "       '@VirginAmerica yes, nearly every time I fly VX this “ear worm” won’t go away :)',\n",
       "       '@VirginAmerica Really missed a prime opportunity for Men Without Hats parody, there. https://t.co/mWpG7grEZP',\n",
       "       \"@virginamerica Well, I didn't…but NOW I DO! :-D\",\n",
       "       \"@VirginAmerica it was amazing, and arrived an hour early. You're too good to me.\",\n",
       "       '@VirginAmerica did you know that suicide is the second leading cause of death among teens 10-24',\n",
       "       '@VirginAmerica I &lt;3 pretty graphics. so much better than minimal iconography. :D',\n",
       "       \"@VirginAmerica This is such a great deal! Already thinking about my 2nd trip to @Australia &amp; I haven't even gone on my 1st trip yet! ;p\",\n",
       "       \"@VirginAmerica @virginmedia I'm flying your #fabulous #Seductive skies again! U take all the #stress away from travel http://t.co/ahlXHhKiyn\",\n",
       "       '@VirginAmerica Thanks!',\n",
       "       '@VirginAmerica SFO-PDX schedule is still MIA.',\n",
       "       \"@VirginAmerica So excited for my first cross country flight LAX to MCO I've heard nothing but great things about Virgin America. #29DaysToGo\",\n",
       "       \"@VirginAmerica  I flew from NYC to SFO last week and couldn't fully sit in my seat due to two large gentleman on either side of me. HELP!\",\n",
       "       'I ❤️ flying @VirginAmerica. ☺️👍',\n",
       "       '@VirginAmerica you know what would be amazingly awesome? BOS-FLL PLEASE!!!!!!! I want to fly with only you.'],\n",
       "      dtype=object)"
      ]
     },
     "execution_count": 12,
     "metadata": {},
     "output_type": "execute_result"
    }
   ],
   "source": [
    "features = airline_tweets[\"text\"].values\n",
    "features[:20]"
   ]
  },
  {
   "cell_type": "code",
   "execution_count": null,
   "metadata": {
    "colab": {
     "base_uri": "https://localhost:8080/"
    },
    "executionInfo": {
     "elapsed": 14,
     "status": "ok",
     "timestamp": 1666560534401,
     "user": {
      "displayName": "Samuel Vasco",
      "userId": "17483000358453084899"
     },
     "user_tz": 300
    },
    "id": "y9lOA4efljnf",
    "outputId": "78a14695-e2a2-4dcb-d522-f564665d7b2b"
   },
   "outputs": [
    {
     "data": {
      "text/plain": [
       "array(['neutral', 'positive', 'neutral', ..., 'neutral', 'negative',\n",
       "       'neutral'], dtype=object)"
      ]
     },
     "execution_count": 13,
     "metadata": {},
     "output_type": "execute_result"
    }
   ],
   "source": [
    "labels = airline_tweets[\"airline_sentiment\"].values\n",
    "labels"
   ]
  },
  {
   "cell_type": "markdown",
   "metadata": {
    "id": "SDsaXSoZlzkd"
   },
   "source": [
    "# Cleaning and pre-procesed tweets."
   ]
  },
  {
   "cell_type": "markdown",
   "metadata": {
    "id": "8gIxU-hRnwlG"
   },
   "source": [
    "### English Stop Words"
   ]
  },
  {
   "cell_type": "code",
   "execution_count": null,
   "metadata": {
    "colab": {
     "base_uri": "https://localhost:8080/"
    },
    "executionInfo": {
     "elapsed": 1024,
     "status": "ok",
     "timestamp": 1666560535413,
     "user": {
      "displayName": "Samuel Vasco",
      "userId": "17483000358453084899"
     },
     "user_tz": 300
    },
    "id": "_7QLeET-lz8d",
    "outputId": "6994a745-132b-40cf-ad0a-b4700478f24a"
   },
   "outputs": [
    {
     "data": {
      "text/plain": [
       "(326,\n",
       " {\"'d\",\n",
       "  \"'ll\",\n",
       "  \"'m\",\n",
       "  \"'re\",\n",
       "  \"'s\",\n",
       "  \"'ve\",\n",
       "  'a',\n",
       "  'about',\n",
       "  'above',\n",
       "  'across',\n",
       "  'after',\n",
       "  'afterwards',\n",
       "  'again',\n",
       "  'against',\n",
       "  'all',\n",
       "  'almost',\n",
       "  'alone',\n",
       "  'along',\n",
       "  'already',\n",
       "  'also',\n",
       "  'although',\n",
       "  'always',\n",
       "  'am',\n",
       "  'among',\n",
       "  'amongst',\n",
       "  'amount',\n",
       "  'an',\n",
       "  'and',\n",
       "  'another',\n",
       "  'any',\n",
       "  'anyhow',\n",
       "  'anyone',\n",
       "  'anything',\n",
       "  'anyway',\n",
       "  'anywhere',\n",
       "  'are',\n",
       "  'around',\n",
       "  'as',\n",
       "  'at',\n",
       "  'back',\n",
       "  'be',\n",
       "  'became',\n",
       "  'because',\n",
       "  'become',\n",
       "  'becomes',\n",
       "  'becoming',\n",
       "  'been',\n",
       "  'before',\n",
       "  'beforehand',\n",
       "  'behind',\n",
       "  'being',\n",
       "  'below',\n",
       "  'beside',\n",
       "  'besides',\n",
       "  'between',\n",
       "  'beyond',\n",
       "  'both',\n",
       "  'bottom',\n",
       "  'but',\n",
       "  'by',\n",
       "  'ca',\n",
       "  'call',\n",
       "  'can',\n",
       "  'cannot',\n",
       "  'could',\n",
       "  'did',\n",
       "  'do',\n",
       "  'does',\n",
       "  'doing',\n",
       "  'done',\n",
       "  'down',\n",
       "  'due',\n",
       "  'during',\n",
       "  'each',\n",
       "  'eight',\n",
       "  'either',\n",
       "  'eleven',\n",
       "  'else',\n",
       "  'elsewhere',\n",
       "  'empty',\n",
       "  'enough',\n",
       "  'even',\n",
       "  'ever',\n",
       "  'every',\n",
       "  'everyone',\n",
       "  'everything',\n",
       "  'everywhere',\n",
       "  'except',\n",
       "  'few',\n",
       "  'fifteen',\n",
       "  'fifty',\n",
       "  'first',\n",
       "  'five',\n",
       "  'for',\n",
       "  'former',\n",
       "  'formerly',\n",
       "  'forty',\n",
       "  'four',\n",
       "  'from',\n",
       "  'front',\n",
       "  'full',\n",
       "  'further',\n",
       "  'get',\n",
       "  'give',\n",
       "  'go',\n",
       "  'had',\n",
       "  'has',\n",
       "  'have',\n",
       "  'he',\n",
       "  'hence',\n",
       "  'her',\n",
       "  'here',\n",
       "  'hereafter',\n",
       "  'hereby',\n",
       "  'herein',\n",
       "  'hereupon',\n",
       "  'hers',\n",
       "  'herself',\n",
       "  'him',\n",
       "  'himself',\n",
       "  'his',\n",
       "  'how',\n",
       "  'however',\n",
       "  'hundred',\n",
       "  'i',\n",
       "  'if',\n",
       "  'in',\n",
       "  'indeed',\n",
       "  'into',\n",
       "  'is',\n",
       "  'it',\n",
       "  'its',\n",
       "  'itself',\n",
       "  'just',\n",
       "  'keep',\n",
       "  'last',\n",
       "  'latter',\n",
       "  'latterly',\n",
       "  'least',\n",
       "  'less',\n",
       "  'made',\n",
       "  'make',\n",
       "  'many',\n",
       "  'may',\n",
       "  'me',\n",
       "  'meanwhile',\n",
       "  'might',\n",
       "  'mine',\n",
       "  'more',\n",
       "  'moreover',\n",
       "  'most',\n",
       "  'mostly',\n",
       "  'move',\n",
       "  'much',\n",
       "  'must',\n",
       "  'my',\n",
       "  'myself',\n",
       "  \"n't\",\n",
       "  'name',\n",
       "  'namely',\n",
       "  'neither',\n",
       "  'never',\n",
       "  'nevertheless',\n",
       "  'next',\n",
       "  'nine',\n",
       "  'no',\n",
       "  'nobody',\n",
       "  'none',\n",
       "  'noone',\n",
       "  'nor',\n",
       "  'not',\n",
       "  'nothing',\n",
       "  'now',\n",
       "  'nowhere',\n",
       "  'n‘t',\n",
       "  'n’t',\n",
       "  'of',\n",
       "  'off',\n",
       "  'often',\n",
       "  'on',\n",
       "  'once',\n",
       "  'one',\n",
       "  'only',\n",
       "  'onto',\n",
       "  'or',\n",
       "  'other',\n",
       "  'others',\n",
       "  'otherwise',\n",
       "  'our',\n",
       "  'ours',\n",
       "  'ourselves',\n",
       "  'out',\n",
       "  'over',\n",
       "  'own',\n",
       "  'part',\n",
       "  'per',\n",
       "  'perhaps',\n",
       "  'please',\n",
       "  'put',\n",
       "  'quite',\n",
       "  'rather',\n",
       "  're',\n",
       "  'really',\n",
       "  'regarding',\n",
       "  'same',\n",
       "  'say',\n",
       "  'see',\n",
       "  'seem',\n",
       "  'seemed',\n",
       "  'seeming',\n",
       "  'seems',\n",
       "  'serious',\n",
       "  'several',\n",
       "  'she',\n",
       "  'should',\n",
       "  'show',\n",
       "  'side',\n",
       "  'since',\n",
       "  'six',\n",
       "  'sixty',\n",
       "  'so',\n",
       "  'some',\n",
       "  'somehow',\n",
       "  'someone',\n",
       "  'something',\n",
       "  'sometime',\n",
       "  'sometimes',\n",
       "  'somewhere',\n",
       "  'still',\n",
       "  'such',\n",
       "  'take',\n",
       "  'ten',\n",
       "  'than',\n",
       "  'that',\n",
       "  'the',\n",
       "  'their',\n",
       "  'them',\n",
       "  'themselves',\n",
       "  'then',\n",
       "  'thence',\n",
       "  'there',\n",
       "  'thereafter',\n",
       "  'thereby',\n",
       "  'therefore',\n",
       "  'therein',\n",
       "  'thereupon',\n",
       "  'these',\n",
       "  'they',\n",
       "  'third',\n",
       "  'this',\n",
       "  'those',\n",
       "  'though',\n",
       "  'three',\n",
       "  'through',\n",
       "  'throughout',\n",
       "  'thru',\n",
       "  'thus',\n",
       "  'to',\n",
       "  'together',\n",
       "  'too',\n",
       "  'top',\n",
       "  'toward',\n",
       "  'towards',\n",
       "  'twelve',\n",
       "  'twenty',\n",
       "  'two',\n",
       "  'under',\n",
       "  'unless',\n",
       "  'until',\n",
       "  'up',\n",
       "  'upon',\n",
       "  'us',\n",
       "  'used',\n",
       "  'using',\n",
       "  'various',\n",
       "  'very',\n",
       "  'via',\n",
       "  'was',\n",
       "  'we',\n",
       "  'well',\n",
       "  'were',\n",
       "  'what',\n",
       "  'whatever',\n",
       "  'when',\n",
       "  'whence',\n",
       "  'whenever',\n",
       "  'where',\n",
       "  'whereafter',\n",
       "  'whereas',\n",
       "  'whereby',\n",
       "  'wherein',\n",
       "  'whereupon',\n",
       "  'wherever',\n",
       "  'whether',\n",
       "  'which',\n",
       "  'while',\n",
       "  'whither',\n",
       "  'who',\n",
       "  'whoever',\n",
       "  'whole',\n",
       "  'whom',\n",
       "  'whose',\n",
       "  'why',\n",
       "  'will',\n",
       "  'with',\n",
       "  'within',\n",
       "  'without',\n",
       "  'would',\n",
       "  'yet',\n",
       "  'you',\n",
       "  'your',\n",
       "  'yours',\n",
       "  'yourself',\n",
       "  'yourselves',\n",
       "  '‘d',\n",
       "  '‘ll',\n",
       "  '‘m',\n",
       "  '‘re',\n",
       "  '‘s',\n",
       "  '‘ve',\n",
       "  '’d',\n",
       "  '’ll',\n",
       "  '’m',\n",
       "  '’re',\n",
       "  '’s',\n",
       "  '’ve'})"
      ]
     },
     "execution_count": 14,
     "metadata": {},
     "output_type": "execute_result"
    }
   ],
   "source": [
    "nlp = spacy.load(\"en_core_web_sm\")\n",
    "spacy_stopwords_en = spacy.lang.en.stop_words.STOP_WORDS\n",
    "len(spacy_stopwords_en), spacy_stopwords_en"
   ]
  },
  {
   "cell_type": "code",
   "execution_count": null,
   "metadata": {
    "colab": {
     "base_uri": "https://localhost:8080/"
    },
    "executionInfo": {
     "elapsed": 6,
     "status": "ok",
     "timestamp": 1666560535413,
     "user": {
      "displayName": "Samuel Vasco",
      "userId": "17483000358453084899"
     },
     "user_tz": 300
    },
    "id": "OkE08mtU_o0K",
    "outputId": "a78e1cd6-1087-40e4-9e31-3d178741e339"
   },
   "outputs": [
    {
     "name": "stdout",
     "output_type": "stream",
     "text": [
      "@virginamerica\n",
      ",\n",
      "didn't\n",
      "…\n",
      "!\n",
      ":-D\n",
      " @virginamerica , didn't … ! :-D\n"
     ]
    }
   ],
   "source": [
    "\n",
    "text_doc=nlp(\"@virginamerica Well, I didn't…but NOW I DO! :-D\")\n",
    "new_text=\"\"\n",
    "for token in text_doc:\n",
    "     if not token.is_stop:\n",
    "       print(token)\n",
    "       new_text=new_text+\" \"+str(token)\n",
    "print(new_text)"
   ]
  },
  {
   "cell_type": "markdown",
   "metadata": {
    "id": "G4t1ehkU02i4"
   },
   "source": [
    "## Function for clean tweets"
   ]
  },
  {
   "cell_type": "code",
   "execution_count": null,
   "metadata": {
    "colab": {
     "base_uri": "https://localhost:8080/"
    },
    "executionInfo": {
     "elapsed": 151460,
     "status": "ok",
     "timestamp": 1666560686871,
     "user": {
      "displayName": "Samuel Vasco",
      "userId": "17483000358453084899"
     },
     "user_tz": 300
    },
    "id": "hDb9_yXrn8Cf",
    "outputId": "4cd1a152-0971-49f7-ebb2-a7da9320b02a"
   },
   "outputs": [
    {
     "data": {
      "text/plain": [
       "[' said ',\n",
       " ' plus added commercials experience tacky ',\n",
       " ' today mean need trip ',\n",
       " ' aggressive blast obnoxious entertainment guests faces amp little recourse',\n",
       " ' big bad thing',\n",
       " ' seriously pay flight seats playing bad thing flying va',\n",
       " ' yes nearly time fly vx ear worm wo away ',\n",
       " ' missed prime opportunity men hats parody ',\n",
       " ' didn ',\n",
       " ' amazing arrived hour early good ',\n",
       " ' know suicide second leading cause death teens ',\n",
       " ' lt pretty graphics better minimal iconography ',\n",
       " ' great deal thinking nd trip amp gone st trip ',\n",
       " ' flying fabulous seductive skies stress away travel ',\n",
       " ' thanks ',\n",
       " ' sfo pdx schedule mia ',\n",
       " ' excited cross country flight lax mco heard great things virgin america daystogo',\n",
       " ' flew nyc sfo week fully sit seat large gentleman help ',\n",
       " ' flying ',\n",
       " ' know amazingly awesome bos fll want fly ']"
      ]
     },
     "execution_count": 16,
     "metadata": {},
     "output_type": "execute_result"
    }
   ],
   "source": [
    "def limpiar_texto(texto):\n",
    "  \n",
    "  texto_clear=[]\n",
    "  \n",
    "  for text in texto: \n",
    "    #convert to lower case\n",
    "    nuevo_texto = text.lower()\n",
    "\n",
    "    #eliminating stop words per each tweet\n",
    "    text_doc=nlp(nuevo_texto)\n",
    "    nuevo_texto=\"\"\n",
    "    for token in text_doc:\n",
    "      if not token.is_stop:\n",
    "        nuevo_texto=nuevo_texto+\" \"+str(token)\n",
    "\n",
    "    #nuevo_texto = re.sub(r\"\\!|\\@\\S+|\\@|\\#\\S+|\\$\\S+|\\%\\S+|\\^\\S+|\\&\\S+|\\*\\S+|\\?|\\,|\\.|\\-|http\\S+|\\:|\\(|\\)|\\;|\\/\",\" \",nuevo_texto)\n",
    "    #removing tweet\n",
    "    nuevo_texto = re.sub(r\"\\@\\S+\",\" \",nuevo_texto)\n",
    "\n",
    "    #removing retweet\n",
    "    nuevo_texto = re.sub(r\"rt \\@\\S+:\",\" \",nuevo_texto)\n",
    "\n",
    "    #removing links\n",
    "    nuevo_texto = re.sub(r\"http\\S+\",\" \",nuevo_texto)\n",
    "\n",
    "    #removing numbers\n",
    "    nuevo_texto = re.sub(r\"\\d+\",\" \",nuevo_texto)\n",
    "\n",
    "    #removing special characters\n",
    "    nuevo_texto = re.sub(r\"[^A-Za-z0-9]\",\" \",nuevo_texto)\n",
    "\n",
    "    #removing any single alphanumeric character\n",
    "    nuevo_texto = re.sub(r\"\\s+\\w\\s+\",\" \",nuevo_texto)\n",
    "\n",
    "    #removing single character from the start or the end\n",
    "    nuevo_texto = re.sub(r\"^[a-zA-Z]\\s+|\\s+[a-zA-Z]$\",\" \",nuevo_texto)\n",
    "    \n",
    "    #substituting multiple spaces with single space\n",
    "    nuevo_texto = re.sub(r'\\s+', ' ', nuevo_texto, flags=re.I)\n",
    "\n",
    "    texto_clear.append(nuevo_texto)\n",
    "    \n",
    "  return texto_clear\n",
    "\n",
    "features_clear=limpiar_texto(features)\n",
    "features_clear[:20]"
   ]
  },
  {
   "cell_type": "code",
   "execution_count": null,
   "metadata": {
    "colab": {
     "base_uri": "https://localhost:8080/",
     "height": 423
    },
    "executionInfo": {
     "elapsed": 16,
     "status": "ok",
     "timestamp": 1666560686872,
     "user": {
      "displayName": "Samuel Vasco",
      "userId": "17483000358453084899"
     },
     "user_tz": 300
    },
    "id": "WVi_muki4D8a",
    "outputId": "7ad90791-271f-46d5-9680-2a5d866317a1"
   },
   "outputs": [
    {
     "data": {
      "text/html": [
       "\n",
       "  <div id=\"df-3d4343c0-6300-4429-bd47-10f720d34b9b\">\n",
       "    <div class=\"colab-df-container\">\n",
       "      <div>\n",
       "<style scoped>\n",
       "    .dataframe tbody tr th:only-of-type {\n",
       "        vertical-align: middle;\n",
       "    }\n",
       "\n",
       "    .dataframe tbody tr th {\n",
       "        vertical-align: top;\n",
       "    }\n",
       "\n",
       "    .dataframe thead th {\n",
       "        text-align: right;\n",
       "    }\n",
       "</style>\n",
       "<table border=\"1\" class=\"dataframe\">\n",
       "  <thead>\n",
       "    <tr style=\"text-align: right;\">\n",
       "      <th></th>\n",
       "      <th>text</th>\n",
       "      <th>airline_sentiment</th>\n",
       "      <th>processed_Text</th>\n",
       "    </tr>\n",
       "  </thead>\n",
       "  <tbody>\n",
       "    <tr>\n",
       "      <th>0</th>\n",
       "      <td>@VirginAmerica What @dhepburn said.</td>\n",
       "      <td>neutral</td>\n",
       "      <td>said</td>\n",
       "    </tr>\n",
       "    <tr>\n",
       "      <th>1</th>\n",
       "      <td>@VirginAmerica plus you've added commercials t...</td>\n",
       "      <td>positive</td>\n",
       "      <td>plus added commercials experience tacky</td>\n",
       "    </tr>\n",
       "    <tr>\n",
       "      <th>2</th>\n",
       "      <td>@VirginAmerica I didn't today... Must mean I n...</td>\n",
       "      <td>neutral</td>\n",
       "      <td>today mean need trip</td>\n",
       "    </tr>\n",
       "    <tr>\n",
       "      <th>3</th>\n",
       "      <td>@VirginAmerica it's really aggressive to blast...</td>\n",
       "      <td>negative</td>\n",
       "      <td>aggressive blast obnoxious entertainment gues...</td>\n",
       "    </tr>\n",
       "    <tr>\n",
       "      <th>4</th>\n",
       "      <td>@VirginAmerica and it's a really big bad thing...</td>\n",
       "      <td>negative</td>\n",
       "      <td>big bad thing</td>\n",
       "    </tr>\n",
       "    <tr>\n",
       "      <th>...</th>\n",
       "      <td>...</td>\n",
       "      <td>...</td>\n",
       "      <td>...</td>\n",
       "    </tr>\n",
       "    <tr>\n",
       "      <th>14635</th>\n",
       "      <td>@AmericanAir thank you we got on a different f...</td>\n",
       "      <td>positive</td>\n",
       "      <td>thank got different flight chicago</td>\n",
       "    </tr>\n",
       "    <tr>\n",
       "      <th>14636</th>\n",
       "      <td>@AmericanAir leaving over 20 minutes Late Flig...</td>\n",
       "      <td>negative</td>\n",
       "      <td>leaving minutes late flight warnings communic...</td>\n",
       "    </tr>\n",
       "    <tr>\n",
       "      <th>14637</th>\n",
       "      <td>@AmericanAir Please bring American Airlines to...</td>\n",
       "      <td>neutral</td>\n",
       "      <td>bring american airlines blackberry</td>\n",
       "    </tr>\n",
       "    <tr>\n",
       "      <th>14638</th>\n",
       "      <td>@AmericanAir you have my money, you change my ...</td>\n",
       "      <td>negative</td>\n",
       "      <td>money change flight answer phones suggestions...</td>\n",
       "    </tr>\n",
       "    <tr>\n",
       "      <th>14639</th>\n",
       "      <td>@AmericanAir we have 8 ppl so we need 2 know h...</td>\n",
       "      <td>neutral</td>\n",
       "      <td>ppl need know seats flight plz standby people...</td>\n",
       "    </tr>\n",
       "  </tbody>\n",
       "</table>\n",
       "<p>14452 rows × 3 columns</p>\n",
       "</div>\n",
       "      <button class=\"colab-df-convert\" onclick=\"convertToInteractive('df-3d4343c0-6300-4429-bd47-10f720d34b9b')\"\n",
       "              title=\"Convert this dataframe to an interactive table.\"\n",
       "              style=\"display:none;\">\n",
       "        \n",
       "  <svg xmlns=\"http://www.w3.org/2000/svg\" height=\"24px\"viewBox=\"0 0 24 24\"\n",
       "       width=\"24px\">\n",
       "    <path d=\"M0 0h24v24H0V0z\" fill=\"none\"/>\n",
       "    <path d=\"M18.56 5.44l.94 2.06.94-2.06 2.06-.94-2.06-.94-.94-2.06-.94 2.06-2.06.94zm-11 1L8.5 8.5l.94-2.06 2.06-.94-2.06-.94L8.5 2.5l-.94 2.06-2.06.94zm10 10l.94 2.06.94-2.06 2.06-.94-2.06-.94-.94-2.06-.94 2.06-2.06.94z\"/><path d=\"M17.41 7.96l-1.37-1.37c-.4-.4-.92-.59-1.43-.59-.52 0-1.04.2-1.43.59L10.3 9.45l-7.72 7.72c-.78.78-.78 2.05 0 2.83L4 21.41c.39.39.9.59 1.41.59.51 0 1.02-.2 1.41-.59l7.78-7.78 2.81-2.81c.8-.78.8-2.07 0-2.86zM5.41 20L4 18.59l7.72-7.72 1.47 1.35L5.41 20z\"/>\n",
       "  </svg>\n",
       "      </button>\n",
       "      \n",
       "  <style>\n",
       "    .colab-df-container {\n",
       "      display:flex;\n",
       "      flex-wrap:wrap;\n",
       "      gap: 12px;\n",
       "    }\n",
       "\n",
       "    .colab-df-convert {\n",
       "      background-color: #E8F0FE;\n",
       "      border: none;\n",
       "      border-radius: 50%;\n",
       "      cursor: pointer;\n",
       "      display: none;\n",
       "      fill: #1967D2;\n",
       "      height: 32px;\n",
       "      padding: 0 0 0 0;\n",
       "      width: 32px;\n",
       "    }\n",
       "\n",
       "    .colab-df-convert:hover {\n",
       "      background-color: #E2EBFA;\n",
       "      box-shadow: 0px 1px 2px rgba(60, 64, 67, 0.3), 0px 1px 3px 1px rgba(60, 64, 67, 0.15);\n",
       "      fill: #174EA6;\n",
       "    }\n",
       "\n",
       "    [theme=dark] .colab-df-convert {\n",
       "      background-color: #3B4455;\n",
       "      fill: #D2E3FC;\n",
       "    }\n",
       "\n",
       "    [theme=dark] .colab-df-convert:hover {\n",
       "      background-color: #434B5C;\n",
       "      box-shadow: 0px 1px 3px 1px rgba(0, 0, 0, 0.15);\n",
       "      filter: drop-shadow(0px 1px 2px rgba(0, 0, 0, 0.3));\n",
       "      fill: #FFFFFF;\n",
       "    }\n",
       "  </style>\n",
       "\n",
       "      <script>\n",
       "        const buttonEl =\n",
       "          document.querySelector('#df-3d4343c0-6300-4429-bd47-10f720d34b9b button.colab-df-convert');\n",
       "        buttonEl.style.display =\n",
       "          google.colab.kernel.accessAllowed ? 'block' : 'none';\n",
       "\n",
       "        async function convertToInteractive(key) {\n",
       "          const element = document.querySelector('#df-3d4343c0-6300-4429-bd47-10f720d34b9b');\n",
       "          const dataTable =\n",
       "            await google.colab.kernel.invokeFunction('convertToInteractive',\n",
       "                                                     [key], {});\n",
       "          if (!dataTable) return;\n",
       "\n",
       "          const docLinkHtml = 'Like what you see? Visit the ' +\n",
       "            '<a target=\"_blank\" href=https://colab.research.google.com/notebooks/data_table.ipynb>data table notebook</a>'\n",
       "            + ' to learn more about interactive tables.';\n",
       "          element.innerHTML = '';\n",
       "          dataTable['output_type'] = 'display_data';\n",
       "          await google.colab.output.renderOutput(dataTable, element);\n",
       "          const docLink = document.createElement('div');\n",
       "          docLink.innerHTML = docLinkHtml;\n",
       "          element.appendChild(docLink);\n",
       "        }\n",
       "      </script>\n",
       "    </div>\n",
       "  </div>\n",
       "  "
      ],
      "text/plain": [
       "                                                    text airline_sentiment  \\\n",
       "0                    @VirginAmerica What @dhepburn said.           neutral   \n",
       "1      @VirginAmerica plus you've added commercials t...          positive   \n",
       "2      @VirginAmerica I didn't today... Must mean I n...           neutral   \n",
       "3      @VirginAmerica it's really aggressive to blast...          negative   \n",
       "4      @VirginAmerica and it's a really big bad thing...          negative   \n",
       "...                                                  ...               ...   \n",
       "14635  @AmericanAir thank you we got on a different f...          positive   \n",
       "14636  @AmericanAir leaving over 20 minutes Late Flig...          negative   \n",
       "14637  @AmericanAir Please bring American Airlines to...           neutral   \n",
       "14638  @AmericanAir you have my money, you change my ...          negative   \n",
       "14639  @AmericanAir we have 8 ppl so we need 2 know h...           neutral   \n",
       "\n",
       "                                          processed_Text  \n",
       "0                                                  said   \n",
       "1               plus added commercials experience tacky   \n",
       "2                                  today mean need trip   \n",
       "3       aggressive blast obnoxious entertainment gues...  \n",
       "4                                          big bad thing  \n",
       "...                                                  ...  \n",
       "14635                thank got different flight chicago   \n",
       "14636   leaving minutes late flight warnings communic...  \n",
       "14637                bring american airlines blackberry   \n",
       "14638   money change flight answer phones suggestions...  \n",
       "14639   ppl need know seats flight plz standby people...  \n",
       "\n",
       "[14452 rows x 3 columns]"
      ]
     },
     "execution_count": 17,
     "metadata": {},
     "output_type": "execute_result"
    }
   ],
   "source": [
    "airline_tweets['processed_Text']=features_clear\n",
    "airline_tweets"
   ]
  },
  {
   "cell_type": "markdown",
   "metadata": {
    "id": "eAFeWcLGVaG5"
   },
   "source": [
    "Inspecting tweets after text preprocessing, some tweets were left empty \" \""
   ]
  },
  {
   "cell_type": "code",
   "execution_count": null,
   "metadata": {
    "colab": {
     "base_uri": "https://localhost:8080/",
     "height": 1000
    },
    "executionInfo": {
     "elapsed": 14,
     "status": "ok",
     "timestamp": 1666560686872,
     "user": {
      "displayName": "Samuel Vasco",
      "userId": "17483000358453084899"
     },
     "user_tz": 300
    },
    "id": "7eTOnIrUTXJp",
    "outputId": "2dc41d6b-ac0d-4d11-ba55-64a5ae7e1487"
   },
   "outputs": [
    {
     "data": {
      "text/html": [
       "\n",
       "  <div id=\"df-e1079a44-69f3-4de3-989b-d831c72d41b0\">\n",
       "    <div class=\"colab-df-container\">\n",
       "      <div>\n",
       "<style scoped>\n",
       "    .dataframe tbody tr th:only-of-type {\n",
       "        vertical-align: middle;\n",
       "    }\n",
       "\n",
       "    .dataframe tbody tr th {\n",
       "        vertical-align: top;\n",
       "    }\n",
       "\n",
       "    .dataframe thead th {\n",
       "        text-align: right;\n",
       "    }\n",
       "</style>\n",
       "<table border=\"1\" class=\"dataframe\">\n",
       "  <thead>\n",
       "    <tr style=\"text-align: right;\">\n",
       "      <th></th>\n",
       "      <th>text</th>\n",
       "      <th>airline_sentiment</th>\n",
       "      <th>processed_Text</th>\n",
       "    </tr>\n",
       "  </thead>\n",
       "  <tbody>\n",
       "    <tr>\n",
       "      <th>269</th>\n",
       "      <td>@VirginAmerica I see what you did there ;)</td>\n",
       "      <td>positive</td>\n",
       "      <td></td>\n",
       "    </tr>\n",
       "    <tr>\n",
       "      <th>669</th>\n",
       "      <td>@united Done and done</td>\n",
       "      <td>neutral</td>\n",
       "      <td></td>\n",
       "    </tr>\n",
       "    <tr>\n",
       "      <th>781</th>\n",
       "      <td>@united you too!</td>\n",
       "      <td>positive</td>\n",
       "      <td></td>\n",
       "    </tr>\n",
       "    <tr>\n",
       "      <th>988</th>\n",
       "      <td>@united done</td>\n",
       "      <td>neutral</td>\n",
       "      <td></td>\n",
       "    </tr>\n",
       "    <tr>\n",
       "      <th>1256</th>\n",
       "      <td>@united I already did.</td>\n",
       "      <td>neutral</td>\n",
       "      <td></td>\n",
       "    </tr>\n",
       "    <tr>\n",
       "      <th>1644</th>\n",
       "      <td>@united now this http://t.co/uygeW2Nosr</td>\n",
       "      <td>negative</td>\n",
       "      <td></td>\n",
       "    </tr>\n",
       "    <tr>\n",
       "      <th>2258</th>\n",
       "      <td>@united never again.</td>\n",
       "      <td>negative</td>\n",
       "      <td></td>\n",
       "    </tr>\n",
       "    <tr>\n",
       "      <th>2603</th>\n",
       "      <td>@united @SCVPools \\nPlease call me at 310-795-...</td>\n",
       "      <td>neutral</td>\n",
       "      <td></td>\n",
       "    </tr>\n",
       "    <tr>\n",
       "      <th>2607</th>\n",
       "      <td>@united no u don't</td>\n",
       "      <td>negative</td>\n",
       "      <td></td>\n",
       "    </tr>\n",
       "    <tr>\n",
       "      <th>3509</th>\n",
       "      <td>@united I have.</td>\n",
       "      <td>neutral</td>\n",
       "      <td></td>\n",
       "    </tr>\n",
       "    <tr>\n",
       "      <th>3987</th>\n",
       "      <td>@united @annricord both!</td>\n",
       "      <td>neutral</td>\n",
       "      <td></td>\n",
       "    </tr>\n",
       "    <tr>\n",
       "      <th>4402</th>\n",
       "      <td>@SouthwestAir done</td>\n",
       "      <td>neutral</td>\n",
       "      <td></td>\n",
       "    </tr>\n",
       "    <tr>\n",
       "      <th>4612</th>\n",
       "      <td>@SouthwestAir Why do you have to be 18 😭</td>\n",
       "      <td>neutral</td>\n",
       "      <td></td>\n",
       "    </tr>\n",
       "    <tr>\n",
       "      <th>4857</th>\n",
       "      <td>@SouthwestAir  how do you get one?</td>\n",
       "      <td>neutral</td>\n",
       "      <td></td>\n",
       "    </tr>\n",
       "    <tr>\n",
       "      <th>5306</th>\n",
       "      <td>@SouthwestAir What do you call that??!!</td>\n",
       "      <td>negative</td>\n",
       "      <td></td>\n",
       "    </tr>\n",
       "    <tr>\n",
       "      <th>5460</th>\n",
       "      <td>@SouthwestAir it was 3472</td>\n",
       "      <td>neutral</td>\n",
       "      <td></td>\n",
       "    </tr>\n",
       "    <tr>\n",
       "      <th>5488</th>\n",
       "      <td>@SouthwestAir @SwagglikeBean take me here</td>\n",
       "      <td>neutral</td>\n",
       "      <td></td>\n",
       "    </tr>\n",
       "    <tr>\n",
       "      <th>5575</th>\n",
       "      <td>@SouthwestAir go @franks105 go!</td>\n",
       "      <td>neutral</td>\n",
       "      <td></td>\n",
       "    </tr>\n",
       "    <tr>\n",
       "      <th>5576</th>\n",
       "      <td>@SouthwestAir please please please http://t.co...</td>\n",
       "      <td>neutral</td>\n",
       "      <td></td>\n",
       "    </tr>\n",
       "    <tr>\n",
       "      <th>5658</th>\n",
       "      <td>@SouthwestAir is that @MurraySawChuck</td>\n",
       "      <td>neutral</td>\n",
       "      <td></td>\n",
       "    </tr>\n",
       "    <tr>\n",
       "      <th>5677</th>\n",
       "      <td>@SouthwestAir I would.</td>\n",
       "      <td>neutral</td>\n",
       "      <td></td>\n",
       "    </tr>\n",
       "    <tr>\n",
       "      <th>6295</th>\n",
       "      <td>@SouthwestAir No I have not.</td>\n",
       "      <td>negative</td>\n",
       "      <td></td>\n",
       "    </tr>\n",
       "    <tr>\n",
       "      <th>6665</th>\n",
       "      <td>@SouthwestAir myself and 2 others</td>\n",
       "      <td>neutral</td>\n",
       "      <td></td>\n",
       "    </tr>\n",
       "    <tr>\n",
       "      <th>6897</th>\n",
       "      <td>@JetBlue or she ;)</td>\n",
       "      <td>neutral</td>\n",
       "      <td></td>\n",
       "    </tr>\n",
       "    <tr>\n",
       "      <th>6947</th>\n",
       "      <td>@JetBlue @BucketObolts Same</td>\n",
       "      <td>neutral</td>\n",
       "      <td></td>\n",
       "    </tr>\n",
       "    <tr>\n",
       "      <th>6999</th>\n",
       "      <td>@JetBlue Indeed. It was not 😉.</td>\n",
       "      <td>neutral</td>\n",
       "      <td></td>\n",
       "    </tr>\n",
       "    <tr>\n",
       "      <th>7120</th>\n",
       "      <td>Do less please @JetBlue</td>\n",
       "      <td>negative</td>\n",
       "      <td></td>\n",
       "    </tr>\n",
       "    <tr>\n",
       "      <th>7162</th>\n",
       "      <td>@JetBlue @BrandsSayingBae well here we go</td>\n",
       "      <td>positive</td>\n",
       "      <td></td>\n",
       "    </tr>\n",
       "    <tr>\n",
       "      <th>7167</th>\n",
       "      <td>@JetBlue ...really?</td>\n",
       "      <td>neutral</td>\n",
       "      <td></td>\n",
       "    </tr>\n",
       "    <tr>\n",
       "      <th>7528</th>\n",
       "      <td>@JetBlue don't I always?</td>\n",
       "      <td>neutral</td>\n",
       "      <td></td>\n",
       "    </tr>\n",
       "    <tr>\n",
       "      <th>7623</th>\n",
       "      <td>@JetBlue  will do.</td>\n",
       "      <td>neutral</td>\n",
       "      <td></td>\n",
       "    </tr>\n",
       "    <tr>\n",
       "      <th>8156</th>\n",
       "      <td>@JetBlue @cflanagian she's on to something</td>\n",
       "      <td>neutral</td>\n",
       "      <td></td>\n",
       "    </tr>\n",
       "    <tr>\n",
       "      <th>8482</th>\n",
       "      <td>@JetBlue ANYWHERE!! http://t.co/FeFHPmFPlE</td>\n",
       "      <td>neutral</td>\n",
       "      <td></td>\n",
       "    </tr>\n",
       "    <tr>\n",
       "      <th>8904</th>\n",
       "      <td>@JetBlue @vegecomgirl For me it’s not until 6/15.</td>\n",
       "      <td>neutral</td>\n",
       "      <td></td>\n",
       "    </tr>\n",
       "    <tr>\n",
       "      <th>9107</th>\n",
       "      <td>@USAirways can i please have someone call me 7...</td>\n",
       "      <td>neutral</td>\n",
       "      <td></td>\n",
       "    </tr>\n",
       "    <tr>\n",
       "      <th>9255</th>\n",
       "      <td>@USAirways should, but didn’t.</td>\n",
       "      <td>negative</td>\n",
       "      <td></td>\n",
       "    </tr>\n",
       "    <tr>\n",
       "      <th>9514</th>\n",
       "      <td>@USAirways no you call me.</td>\n",
       "      <td>negative</td>\n",
       "      <td></td>\n",
       "    </tr>\n",
       "    <tr>\n",
       "      <th>9585</th>\n",
       "      <td>@USAirways I will. Is it down or is just me?</td>\n",
       "      <td>negative</td>\n",
       "      <td></td>\n",
       "    </tr>\n",
       "    <tr>\n",
       "      <th>10697</th>\n",
       "      <td>@USAirways me too!</td>\n",
       "      <td>positive</td>\n",
       "      <td></td>\n",
       "    </tr>\n",
       "    <tr>\n",
       "      <th>10735</th>\n",
       "      <td>@USAirways them and @AmericanAir</td>\n",
       "      <td>negative</td>\n",
       "      <td></td>\n",
       "    </tr>\n",
       "    <tr>\n",
       "      <th>10776</th>\n",
       "      <td>@USAirways How do I get through?</td>\n",
       "      <td>negative</td>\n",
       "      <td></td>\n",
       "    </tr>\n",
       "    <tr>\n",
       "      <th>10904</th>\n",
       "      <td>@USAirways Done</td>\n",
       "      <td>neutral</td>\n",
       "      <td></td>\n",
       "    </tr>\n",
       "    <tr>\n",
       "      <th>11210</th>\n",
       "      <td>@USAirways that's it?!?!?</td>\n",
       "      <td>negative</td>\n",
       "      <td></td>\n",
       "    </tr>\n",
       "    <tr>\n",
       "      <th>11257</th>\n",
       "      <td>@USAirways Will do :)</td>\n",
       "      <td>positive</td>\n",
       "      <td></td>\n",
       "    </tr>\n",
       "    <tr>\n",
       "      <th>11261</th>\n",
       "      <td>@USAirways - done :)</td>\n",
       "      <td>positive</td>\n",
       "      <td></td>\n",
       "    </tr>\n",
       "    <tr>\n",
       "      <th>11282</th>\n",
       "      <td>@USAirways really!??</td>\n",
       "      <td>neutral</td>\n",
       "      <td></td>\n",
       "    </tr>\n",
       "    <tr>\n",
       "      <th>11286</th>\n",
       "      <td>@USAirways no your not!</td>\n",
       "      <td>negative</td>\n",
       "      <td></td>\n",
       "    </tr>\n",
       "    <tr>\n",
       "      <th>11608</th>\n",
       "      <td>@USAirways me too. Me too.</td>\n",
       "      <td>neutral</td>\n",
       "      <td></td>\n",
       "    </tr>\n",
       "    <tr>\n",
       "      <th>11771</th>\n",
       "      <td>@USAirways done</td>\n",
       "      <td>neutral</td>\n",
       "      <td></td>\n",
       "    </tr>\n",
       "    <tr>\n",
       "      <th>11905</th>\n",
       "      <td>@AmericanAir I did</td>\n",
       "      <td>neutral</td>\n",
       "      <td></td>\n",
       "    </tr>\n",
       "    <tr>\n",
       "      <th>12499</th>\n",
       "      <td>@AmericanAir nothing, you have done enough.</td>\n",
       "      <td>negative</td>\n",
       "      <td></td>\n",
       "    </tr>\n",
       "    <tr>\n",
       "      <th>12527</th>\n",
       "      <td>@AmericanAir done</td>\n",
       "      <td>neutral</td>\n",
       "      <td></td>\n",
       "    </tr>\n",
       "    <tr>\n",
       "      <th>12535</th>\n",
       "      <td>@AmericanAir *does = doesn't</td>\n",
       "      <td>negative</td>\n",
       "      <td></td>\n",
       "    </tr>\n",
       "    <tr>\n",
       "      <th>12671</th>\n",
       "      <td>Keep it up :) @AmericanAir</td>\n",
       "      <td>positive</td>\n",
       "      <td></td>\n",
       "    </tr>\n",
       "    <tr>\n",
       "      <th>12947</th>\n",
       "      <td>@AmericanAir it was 639</td>\n",
       "      <td>neutral</td>\n",
       "      <td></td>\n",
       "    </tr>\n",
       "    <tr>\n",
       "      <th>13143</th>\n",
       "      <td>@AmericanAir really</td>\n",
       "      <td>negative</td>\n",
       "      <td></td>\n",
       "    </tr>\n",
       "    <tr>\n",
       "      <th>13213</th>\n",
       "      <td>@AmericanAir done.</td>\n",
       "      <td>neutral</td>\n",
       "      <td></td>\n",
       "    </tr>\n",
       "    <tr>\n",
       "      <th>13346</th>\n",
       "      <td>@AmericanAir can you?</td>\n",
       "      <td>negative</td>\n",
       "      <td></td>\n",
       "    </tr>\n",
       "    <tr>\n",
       "      <th>13849</th>\n",
       "      <td>@AmericanAir anything you can do?</td>\n",
       "      <td>neutral</td>\n",
       "      <td></td>\n",
       "    </tr>\n",
       "    <tr>\n",
       "      <th>14196</th>\n",
       "      <td>@AmericanAir Here you go https://t.co/oM1vIEg74a</td>\n",
       "      <td>neutral</td>\n",
       "      <td></td>\n",
       "    </tr>\n",
       "  </tbody>\n",
       "</table>\n",
       "</div>\n",
       "      <button class=\"colab-df-convert\" onclick=\"convertToInteractive('df-e1079a44-69f3-4de3-989b-d831c72d41b0')\"\n",
       "              title=\"Convert this dataframe to an interactive table.\"\n",
       "              style=\"display:none;\">\n",
       "        \n",
       "  <svg xmlns=\"http://www.w3.org/2000/svg\" height=\"24px\"viewBox=\"0 0 24 24\"\n",
       "       width=\"24px\">\n",
       "    <path d=\"M0 0h24v24H0V0z\" fill=\"none\"/>\n",
       "    <path d=\"M18.56 5.44l.94 2.06.94-2.06 2.06-.94-2.06-.94-.94-2.06-.94 2.06-2.06.94zm-11 1L8.5 8.5l.94-2.06 2.06-.94-2.06-.94L8.5 2.5l-.94 2.06-2.06.94zm10 10l.94 2.06.94-2.06 2.06-.94-2.06-.94-.94-2.06-.94 2.06-2.06.94z\"/><path d=\"M17.41 7.96l-1.37-1.37c-.4-.4-.92-.59-1.43-.59-.52 0-1.04.2-1.43.59L10.3 9.45l-7.72 7.72c-.78.78-.78 2.05 0 2.83L4 21.41c.39.39.9.59 1.41.59.51 0 1.02-.2 1.41-.59l7.78-7.78 2.81-2.81c.8-.78.8-2.07 0-2.86zM5.41 20L4 18.59l7.72-7.72 1.47 1.35L5.41 20z\"/>\n",
       "  </svg>\n",
       "      </button>\n",
       "      \n",
       "  <style>\n",
       "    .colab-df-container {\n",
       "      display:flex;\n",
       "      flex-wrap:wrap;\n",
       "      gap: 12px;\n",
       "    }\n",
       "\n",
       "    .colab-df-convert {\n",
       "      background-color: #E8F0FE;\n",
       "      border: none;\n",
       "      border-radius: 50%;\n",
       "      cursor: pointer;\n",
       "      display: none;\n",
       "      fill: #1967D2;\n",
       "      height: 32px;\n",
       "      padding: 0 0 0 0;\n",
       "      width: 32px;\n",
       "    }\n",
       "\n",
       "    .colab-df-convert:hover {\n",
       "      background-color: #E2EBFA;\n",
       "      box-shadow: 0px 1px 2px rgba(60, 64, 67, 0.3), 0px 1px 3px 1px rgba(60, 64, 67, 0.15);\n",
       "      fill: #174EA6;\n",
       "    }\n",
       "\n",
       "    [theme=dark] .colab-df-convert {\n",
       "      background-color: #3B4455;\n",
       "      fill: #D2E3FC;\n",
       "    }\n",
       "\n",
       "    [theme=dark] .colab-df-convert:hover {\n",
       "      background-color: #434B5C;\n",
       "      box-shadow: 0px 1px 3px 1px rgba(0, 0, 0, 0.15);\n",
       "      filter: drop-shadow(0px 1px 2px rgba(0, 0, 0, 0.3));\n",
       "      fill: #FFFFFF;\n",
       "    }\n",
       "  </style>\n",
       "\n",
       "      <script>\n",
       "        const buttonEl =\n",
       "          document.querySelector('#df-e1079a44-69f3-4de3-989b-d831c72d41b0 button.colab-df-convert');\n",
       "        buttonEl.style.display =\n",
       "          google.colab.kernel.accessAllowed ? 'block' : 'none';\n",
       "\n",
       "        async function convertToInteractive(key) {\n",
       "          const element = document.querySelector('#df-e1079a44-69f3-4de3-989b-d831c72d41b0');\n",
       "          const dataTable =\n",
       "            await google.colab.kernel.invokeFunction('convertToInteractive',\n",
       "                                                     [key], {});\n",
       "          if (!dataTable) return;\n",
       "\n",
       "          const docLinkHtml = 'Like what you see? Visit the ' +\n",
       "            '<a target=\"_blank\" href=https://colab.research.google.com/notebooks/data_table.ipynb>data table notebook</a>'\n",
       "            + ' to learn more about interactive tables.';\n",
       "          element.innerHTML = '';\n",
       "          dataTable['output_type'] = 'display_data';\n",
       "          await google.colab.output.renderOutput(dataTable, element);\n",
       "          const docLink = document.createElement('div');\n",
       "          docLink.innerHTML = docLinkHtml;\n",
       "          element.appendChild(docLink);\n",
       "        }\n",
       "      </script>\n",
       "    </div>\n",
       "  </div>\n",
       "  "
      ],
      "text/plain": [
       "                                                    text airline_sentiment  \\\n",
       "269           @VirginAmerica I see what you did there ;)          positive   \n",
       "669                                @united Done and done           neutral   \n",
       "781                                     @united you too!          positive   \n",
       "988                                         @united done           neutral   \n",
       "1256                              @united I already did.           neutral   \n",
       "1644             @united now this http://t.co/uygeW2Nosr          negative   \n",
       "2258                                @united never again.          negative   \n",
       "2603   @united @SCVPools \\nPlease call me at 310-795-...           neutral   \n",
       "2607                                  @united no u don't          negative   \n",
       "3509                                     @united I have.           neutral   \n",
       "3987                            @united @annricord both!           neutral   \n",
       "4402                                  @SouthwestAir done           neutral   \n",
       "4612            @SouthwestAir Why do you have to be 18 😭           neutral   \n",
       "4857                  @SouthwestAir  how do you get one?           neutral   \n",
       "5306             @SouthwestAir What do you call that??!!          negative   \n",
       "5460                           @SouthwestAir it was 3472           neutral   \n",
       "5488           @SouthwestAir @SwagglikeBean take me here           neutral   \n",
       "5575                     @SouthwestAir go @franks105 go!           neutral   \n",
       "5576   @SouthwestAir please please please http://t.co...           neutral   \n",
       "5658               @SouthwestAir is that @MurraySawChuck           neutral   \n",
       "5677                              @SouthwestAir I would.           neutral   \n",
       "6295                        @SouthwestAir No I have not.          negative   \n",
       "6665                   @SouthwestAir myself and 2 others           neutral   \n",
       "6897                                  @JetBlue or she ;)           neutral   \n",
       "6947                         @JetBlue @BucketObolts Same           neutral   \n",
       "6999                      @JetBlue Indeed. It was not 😉.           neutral   \n",
       "7120                             Do less please @JetBlue          negative   \n",
       "7162           @JetBlue @BrandsSayingBae well here we go          positive   \n",
       "7167                                 @JetBlue ...really?           neutral   \n",
       "7528                            @JetBlue don't I always?           neutral   \n",
       "7623                                  @JetBlue  will do.           neutral   \n",
       "8156          @JetBlue @cflanagian she's on to something           neutral   \n",
       "8482          @JetBlue ANYWHERE!! http://t.co/FeFHPmFPlE           neutral   \n",
       "8904   @JetBlue @vegecomgirl For me it’s not until 6/15.           neutral   \n",
       "9107   @USAirways can i please have someone call me 7...           neutral   \n",
       "9255                      @USAirways should, but didn’t.          negative   \n",
       "9514                          @USAirways no you call me.          negative   \n",
       "9585        @USAirways I will. Is it down or is just me?          negative   \n",
       "10697                                 @USAirways me too!          positive   \n",
       "10735                   @USAirways them and @AmericanAir          negative   \n",
       "10776                   @USAirways How do I get through?          negative   \n",
       "10904                                    @USAirways Done           neutral   \n",
       "11210                          @USAirways that's it?!?!?          negative   \n",
       "11257                              @USAirways Will do :)          positive   \n",
       "11261                               @USAirways - done :)          positive   \n",
       "11282                               @USAirways really!??           neutral   \n",
       "11286                            @USAirways no your not!          negative   \n",
       "11608                         @USAirways me too. Me too.           neutral   \n",
       "11771                                    @USAirways done           neutral   \n",
       "11905                                 @AmericanAir I did           neutral   \n",
       "12499        @AmericanAir nothing, you have done enough.          negative   \n",
       "12527                                  @AmericanAir done           neutral   \n",
       "12535                       @AmericanAir *does = doesn't          negative   \n",
       "12671                         Keep it up :) @AmericanAir          positive   \n",
       "12947                            @AmericanAir it was 639           neutral   \n",
       "13143                                @AmericanAir really          negative   \n",
       "13213                                 @AmericanAir done.           neutral   \n",
       "13346                              @AmericanAir can you?          negative   \n",
       "13849                  @AmericanAir anything you can do?           neutral   \n",
       "14196   @AmericanAir Here you go https://t.co/oM1vIEg74a           neutral   \n",
       "\n",
       "      processed_Text  \n",
       "269                   \n",
       "669                   \n",
       "781                   \n",
       "988                   \n",
       "1256                  \n",
       "1644                  \n",
       "2258                  \n",
       "2603                  \n",
       "2607                  \n",
       "3509                  \n",
       "3987                  \n",
       "4402                  \n",
       "4612                  \n",
       "4857                  \n",
       "5306                  \n",
       "5460                  \n",
       "5488                  \n",
       "5575                  \n",
       "5576                  \n",
       "5658                  \n",
       "5677                  \n",
       "6295                  \n",
       "6665                  \n",
       "6897                  \n",
       "6947                  \n",
       "6999                  \n",
       "7120                  \n",
       "7162                  \n",
       "7167                  \n",
       "7528                  \n",
       "7623                  \n",
       "8156                  \n",
       "8482                  \n",
       "8904                  \n",
       "9107                  \n",
       "9255                  \n",
       "9514                  \n",
       "9585                  \n",
       "10697                 \n",
       "10735                 \n",
       "10776                 \n",
       "10904                 \n",
       "11210                 \n",
       "11257                 \n",
       "11261                 \n",
       "11282                 \n",
       "11286                 \n",
       "11608                 \n",
       "11771                 \n",
       "11905                 \n",
       "12499                 \n",
       "12527                 \n",
       "12535                 \n",
       "12671                 \n",
       "12947                 \n",
       "13143                 \n",
       "13213                 \n",
       "13346                 \n",
       "13849                 \n",
       "14196                 "
      ]
     },
     "execution_count": 18,
     "metadata": {},
     "output_type": "execute_result"
    }
   ],
   "source": [
    "airline_tweets[airline_tweets.processed_Text==' ']"
   ]
  },
  {
   "cell_type": "markdown",
   "metadata": {
    "id": "eV9_7syFWQWZ"
   },
   "source": [
    " In total was 60 tweets"
   ]
  },
  {
   "cell_type": "code",
   "execution_count": null,
   "metadata": {
    "colab": {
     "base_uri": "https://localhost:8080/"
    },
    "executionInfo": {
     "elapsed": 15,
     "status": "ok",
     "timestamp": 1666560686873,
     "user": {
      "displayName": "Samuel Vasco",
      "userId": "17483000358453084899"
     },
     "user_tz": 300
    },
    "id": "g33pqdYwS6X4",
    "outputId": "3324ba6c-5416-4228-d4d5-1d0273e640b5"
   },
   "outputs": [
    {
     "name": "stdout",
     "output_type": "stream",
     "text": [
      "Empty tweets:  60\n",
      "Empty tweets represents: 0.41516745087185164 % of the dataset\n"
     ]
    }
   ],
   "source": [
    "print(\"Empty tweets: \",airline_tweets[airline_tweets.processed_Text==' '].shape[0])\n",
    "print(\"Empty tweets represents:\", airline_tweets[airline_tweets.processed_Text==' '].shape[0]*100/len(airline_tweets), \"% of the dataset\")"
   ]
  },
  {
   "cell_type": "markdown",
   "metadata": {
    "id": "nfq35hpjXbHR"
   },
   "source": [
    "Thus we eliminate this 60 empty tweets that represents just less of 1% of the data."
   ]
  },
  {
   "cell_type": "code",
   "execution_count": null,
   "metadata": {
    "id": "xqRksRl9XvdJ"
   },
   "outputs": [],
   "source": [
    "airline_tweets.drop(airline_tweets[airline_tweets.processed_Text==' '].index, inplace = True)"
   ]
  },
  {
   "cell_type": "code",
   "execution_count": null,
   "metadata": {
    "colab": {
     "base_uri": "https://localhost:8080/",
     "height": 423
    },
    "executionInfo": {
     "elapsed": 11,
     "status": "ok",
     "timestamp": 1666560687235,
     "user": {
      "displayName": "Samuel Vasco",
      "userId": "17483000358453084899"
     },
     "user_tz": 300
    },
    "id": "xurDZK6yYqap",
    "outputId": "5b7c9eba-440f-4a99-f19c-79be31cb6d02"
   },
   "outputs": [
    {
     "data": {
      "text/html": [
       "\n",
       "  <div id=\"df-c64bf5d7-896a-4082-b054-2f43154aed76\">\n",
       "    <div class=\"colab-df-container\">\n",
       "      <div>\n",
       "<style scoped>\n",
       "    .dataframe tbody tr th:only-of-type {\n",
       "        vertical-align: middle;\n",
       "    }\n",
       "\n",
       "    .dataframe tbody tr th {\n",
       "        vertical-align: top;\n",
       "    }\n",
       "\n",
       "    .dataframe thead th {\n",
       "        text-align: right;\n",
       "    }\n",
       "</style>\n",
       "<table border=\"1\" class=\"dataframe\">\n",
       "  <thead>\n",
       "    <tr style=\"text-align: right;\">\n",
       "      <th></th>\n",
       "      <th>text</th>\n",
       "      <th>airline_sentiment</th>\n",
       "      <th>processed_Text</th>\n",
       "    </tr>\n",
       "  </thead>\n",
       "  <tbody>\n",
       "    <tr>\n",
       "      <th>0</th>\n",
       "      <td>@VirginAmerica What @dhepburn said.</td>\n",
       "      <td>neutral</td>\n",
       "      <td>said</td>\n",
       "    </tr>\n",
       "    <tr>\n",
       "      <th>1</th>\n",
       "      <td>@VirginAmerica plus you've added commercials t...</td>\n",
       "      <td>positive</td>\n",
       "      <td>plus added commercials experience tacky</td>\n",
       "    </tr>\n",
       "    <tr>\n",
       "      <th>2</th>\n",
       "      <td>@VirginAmerica I didn't today... Must mean I n...</td>\n",
       "      <td>neutral</td>\n",
       "      <td>today mean need trip</td>\n",
       "    </tr>\n",
       "    <tr>\n",
       "      <th>3</th>\n",
       "      <td>@VirginAmerica it's really aggressive to blast...</td>\n",
       "      <td>negative</td>\n",
       "      <td>aggressive blast obnoxious entertainment gues...</td>\n",
       "    </tr>\n",
       "    <tr>\n",
       "      <th>4</th>\n",
       "      <td>@VirginAmerica and it's a really big bad thing...</td>\n",
       "      <td>negative</td>\n",
       "      <td>big bad thing</td>\n",
       "    </tr>\n",
       "    <tr>\n",
       "      <th>...</th>\n",
       "      <td>...</td>\n",
       "      <td>...</td>\n",
       "      <td>...</td>\n",
       "    </tr>\n",
       "    <tr>\n",
       "      <th>14635</th>\n",
       "      <td>@AmericanAir thank you we got on a different f...</td>\n",
       "      <td>positive</td>\n",
       "      <td>thank got different flight chicago</td>\n",
       "    </tr>\n",
       "    <tr>\n",
       "      <th>14636</th>\n",
       "      <td>@AmericanAir leaving over 20 minutes Late Flig...</td>\n",
       "      <td>negative</td>\n",
       "      <td>leaving minutes late flight warnings communic...</td>\n",
       "    </tr>\n",
       "    <tr>\n",
       "      <th>14637</th>\n",
       "      <td>@AmericanAir Please bring American Airlines to...</td>\n",
       "      <td>neutral</td>\n",
       "      <td>bring american airlines blackberry</td>\n",
       "    </tr>\n",
       "    <tr>\n",
       "      <th>14638</th>\n",
       "      <td>@AmericanAir you have my money, you change my ...</td>\n",
       "      <td>negative</td>\n",
       "      <td>money change flight answer phones suggestions...</td>\n",
       "    </tr>\n",
       "    <tr>\n",
       "      <th>14639</th>\n",
       "      <td>@AmericanAir we have 8 ppl so we need 2 know h...</td>\n",
       "      <td>neutral</td>\n",
       "      <td>ppl need know seats flight plz standby people...</td>\n",
       "    </tr>\n",
       "  </tbody>\n",
       "</table>\n",
       "<p>14392 rows × 3 columns</p>\n",
       "</div>\n",
       "      <button class=\"colab-df-convert\" onclick=\"convertToInteractive('df-c64bf5d7-896a-4082-b054-2f43154aed76')\"\n",
       "              title=\"Convert this dataframe to an interactive table.\"\n",
       "              style=\"display:none;\">\n",
       "        \n",
       "  <svg xmlns=\"http://www.w3.org/2000/svg\" height=\"24px\"viewBox=\"0 0 24 24\"\n",
       "       width=\"24px\">\n",
       "    <path d=\"M0 0h24v24H0V0z\" fill=\"none\"/>\n",
       "    <path d=\"M18.56 5.44l.94 2.06.94-2.06 2.06-.94-2.06-.94-.94-2.06-.94 2.06-2.06.94zm-11 1L8.5 8.5l.94-2.06 2.06-.94-2.06-.94L8.5 2.5l-.94 2.06-2.06.94zm10 10l.94 2.06.94-2.06 2.06-.94-2.06-.94-.94-2.06-.94 2.06-2.06.94z\"/><path d=\"M17.41 7.96l-1.37-1.37c-.4-.4-.92-.59-1.43-.59-.52 0-1.04.2-1.43.59L10.3 9.45l-7.72 7.72c-.78.78-.78 2.05 0 2.83L4 21.41c.39.39.9.59 1.41.59.51 0 1.02-.2 1.41-.59l7.78-7.78 2.81-2.81c.8-.78.8-2.07 0-2.86zM5.41 20L4 18.59l7.72-7.72 1.47 1.35L5.41 20z\"/>\n",
       "  </svg>\n",
       "      </button>\n",
       "      \n",
       "  <style>\n",
       "    .colab-df-container {\n",
       "      display:flex;\n",
       "      flex-wrap:wrap;\n",
       "      gap: 12px;\n",
       "    }\n",
       "\n",
       "    .colab-df-convert {\n",
       "      background-color: #E8F0FE;\n",
       "      border: none;\n",
       "      border-radius: 50%;\n",
       "      cursor: pointer;\n",
       "      display: none;\n",
       "      fill: #1967D2;\n",
       "      height: 32px;\n",
       "      padding: 0 0 0 0;\n",
       "      width: 32px;\n",
       "    }\n",
       "\n",
       "    .colab-df-convert:hover {\n",
       "      background-color: #E2EBFA;\n",
       "      box-shadow: 0px 1px 2px rgba(60, 64, 67, 0.3), 0px 1px 3px 1px rgba(60, 64, 67, 0.15);\n",
       "      fill: #174EA6;\n",
       "    }\n",
       "\n",
       "    [theme=dark] .colab-df-convert {\n",
       "      background-color: #3B4455;\n",
       "      fill: #D2E3FC;\n",
       "    }\n",
       "\n",
       "    [theme=dark] .colab-df-convert:hover {\n",
       "      background-color: #434B5C;\n",
       "      box-shadow: 0px 1px 3px 1px rgba(0, 0, 0, 0.15);\n",
       "      filter: drop-shadow(0px 1px 2px rgba(0, 0, 0, 0.3));\n",
       "      fill: #FFFFFF;\n",
       "    }\n",
       "  </style>\n",
       "\n",
       "      <script>\n",
       "        const buttonEl =\n",
       "          document.querySelector('#df-c64bf5d7-896a-4082-b054-2f43154aed76 button.colab-df-convert');\n",
       "        buttonEl.style.display =\n",
       "          google.colab.kernel.accessAllowed ? 'block' : 'none';\n",
       "\n",
       "        async function convertToInteractive(key) {\n",
       "          const element = document.querySelector('#df-c64bf5d7-896a-4082-b054-2f43154aed76');\n",
       "          const dataTable =\n",
       "            await google.colab.kernel.invokeFunction('convertToInteractive',\n",
       "                                                     [key], {});\n",
       "          if (!dataTable) return;\n",
       "\n",
       "          const docLinkHtml = 'Like what you see? Visit the ' +\n",
       "            '<a target=\"_blank\" href=https://colab.research.google.com/notebooks/data_table.ipynb>data table notebook</a>'\n",
       "            + ' to learn more about interactive tables.';\n",
       "          element.innerHTML = '';\n",
       "          dataTable['output_type'] = 'display_data';\n",
       "          await google.colab.output.renderOutput(dataTable, element);\n",
       "          const docLink = document.createElement('div');\n",
       "          docLink.innerHTML = docLinkHtml;\n",
       "          element.appendChild(docLink);\n",
       "        }\n",
       "      </script>\n",
       "    </div>\n",
       "  </div>\n",
       "  "
      ],
      "text/plain": [
       "                                                    text airline_sentiment  \\\n",
       "0                    @VirginAmerica What @dhepburn said.           neutral   \n",
       "1      @VirginAmerica plus you've added commercials t...          positive   \n",
       "2      @VirginAmerica I didn't today... Must mean I n...           neutral   \n",
       "3      @VirginAmerica it's really aggressive to blast...          negative   \n",
       "4      @VirginAmerica and it's a really big bad thing...          negative   \n",
       "...                                                  ...               ...   \n",
       "14635  @AmericanAir thank you we got on a different f...          positive   \n",
       "14636  @AmericanAir leaving over 20 minutes Late Flig...          negative   \n",
       "14637  @AmericanAir Please bring American Airlines to...           neutral   \n",
       "14638  @AmericanAir you have my money, you change my ...          negative   \n",
       "14639  @AmericanAir we have 8 ppl so we need 2 know h...           neutral   \n",
       "\n",
       "                                          processed_Text  \n",
       "0                                                  said   \n",
       "1               plus added commercials experience tacky   \n",
       "2                                  today mean need trip   \n",
       "3       aggressive blast obnoxious entertainment gues...  \n",
       "4                                          big bad thing  \n",
       "...                                                  ...  \n",
       "14635                thank got different flight chicago   \n",
       "14636   leaving minutes late flight warnings communic...  \n",
       "14637                bring american airlines blackberry   \n",
       "14638   money change flight answer phones suggestions...  \n",
       "14639   ppl need know seats flight plz standby people...  \n",
       "\n",
       "[14392 rows x 3 columns]"
      ]
     },
     "execution_count": 21,
     "metadata": {},
     "output_type": "execute_result"
    }
   ],
   "source": [
    "airline_tweets"
   ]
  },
  {
   "cell_type": "markdown",
   "metadata": {
    "id": "mYJ2SOysY1Hx"
   },
   "source": [
    "Variables after to all preprocessed tweets."
   ]
  },
  {
   "cell_type": "code",
   "execution_count": null,
   "metadata": {
    "id": "dzuzuhZOYtFZ"
   },
   "outputs": [],
   "source": [
    "features = airline_tweets[\"text\"].values\n",
    "features_clear = airline_tweets[\"processed_Text\"].values\n",
    "labels = airline_tweets[\"airline_sentiment\"].values"
   ]
  },
  {
   "cell_type": "markdown",
   "metadata": {
    "id": "WlWJrpRPHjIG"
   },
   "source": [
    "# Model NLP TextBlob \n"
   ]
  },
  {
   "cell_type": "code",
   "execution_count": null,
   "metadata": {
    "id": "PeBUtUU_rIJ9"
   },
   "outputs": [],
   "source": [
    "def Text_Blob(tweets):\n",
    "   sentiments = []\n",
    "   def Sentiment(array):\n",
    "     array = np.r_[array]\n",
    "     \n",
    "     def Masc(val):\n",
    "       new_val=\"neutral\"\n",
    "       if val < 0:\n",
    "         new_val = \"negative\"\n",
    "       elif val > 0:\n",
    "         new_val = \"positive\"\n",
    "       return new_val\n",
    "     \n",
    "     return np.vectorize(Masc)(array)\n",
    "     \n",
    "   for text in tweets:\n",
    "     res = TextBlob(text)\n",
    "     sentiments.append(res.sentiment.polarity)\n",
    "   return Sentiment(sentiments)"
   ]
  },
  {
   "cell_type": "markdown",
   "metadata": {
    "id": "mYVaWB4_shf1"
   },
   "source": [
    "## TextBlob Without cleaning tweets"
   ]
  },
  {
   "cell_type": "code",
   "execution_count": null,
   "metadata": {
    "colab": {
     "base_uri": "https://localhost:8080/"
    },
    "executionInfo": {
     "elapsed": 4616,
     "status": "ok",
     "timestamp": 1666555102578,
     "user": {
      "displayName": "Samuel Vasco",
      "userId": "17483000358453084899"
     },
     "user_tz": 300
    },
    "id": "KU10AhbD25Ne",
    "outputId": "954e8b85-3235-4311-ba63-e79766a74397"
   },
   "outputs": [
    {
     "name": "stdout",
     "output_type": "stream",
     "text": [
      "0.46352140077821014\n"
     ]
    }
   ],
   "source": [
    "TextBlob_Classifier = Text_Blob(features)\n",
    "\n",
    "print(accuracy_score(labels, TextBlob_Classifier))"
   ]
  },
  {
   "cell_type": "markdown",
   "metadata": {
    "id": "eOYoJnCb589_"
   },
   "source": [
    "## TextBlob With cleaning tweets"
   ]
  },
  {
   "cell_type": "code",
   "execution_count": null,
   "metadata": {
    "colab": {
     "base_uri": "https://localhost:8080/"
    },
    "executionInfo": {
     "elapsed": 2766,
     "status": "ok",
     "timestamp": 1666555106292,
     "user": {
      "displayName": "Samuel Vasco",
      "userId": "17483000358453084899"
     },
     "user_tz": 300
    },
    "id": "P2KKcE8o4tMX",
    "outputId": "b11d493f-ee08-437a-c7a2-1c15c6d914a5"
   },
   "outputs": [
    {
     "name": "stdout",
     "output_type": "stream",
     "text": [
      "0.44385769872151193\n"
     ]
    }
   ],
   "source": [
    "TextBlob_Classifier = Text_Blob(features_clear)\n",
    "\n",
    "print(accuracy_score(labels, TextBlob_Classifier))"
   ]
  },
  {
   "cell_type": "markdown",
   "metadata": {
    "id": "8mj8g9PF6vQ2"
   },
   "source": [
    "# Model NLP Microsoft Azure"
   ]
  },
  {
   "cell_type": "markdown",
   "metadata": {
    "id": "bEsXkYmR-aUJ"
   },
   "source": [
    "### Authentication"
   ]
  },
  {
   "cell_type": "code",
   "execution_count": null,
   "metadata": {
    "id": "HSEtcUvA66JO"
   },
   "outputs": [],
   "source": [
    "key = \"5caa673abe6d4a7f8bfe8f6549eb4d4c\" # long key\n",
    "endpoint = \"https://samuvg.cognitiveservices.azure.com/\" # long endpoint\n",
    "\n",
    "from azure.ai.textanalytics import TextAnalyticsClient\n",
    "from azure.core.credentials import AzureKeyCredential\n",
    "\n",
    "# Authenticate the client using your key and endpoint \n",
    "def authenticate_client():\n",
    "    ta_credential = AzureKeyCredential(key)\n",
    "    text_analytics_client = TextAnalyticsClient(\n",
    "            endpoint=endpoint, \n",
    "            credential=ta_credential)\n",
    "    return text_analytics_client\n",
    "\n",
    "client = authenticate_client()"
   ]
  },
  {
   "cell_type": "code",
   "execution_count": null,
   "metadata": {
    "id": "UBfs5sN2Arhq"
   },
   "outputs": [],
   "source": [
    "def Sentiment_Azure(tweet):\n",
    "  sentiments = []\n",
    "  for i in range(len(tweet)):\n",
    "    result = client.analyze_sentiment(tweet[i:i+1], show_opinion_mining=False)\n",
    "    sentiments.append(result[0].sentiment)\n",
    "  return sentiments"
   ]
  },
  {
   "cell_type": "markdown",
   "metadata": {
    "id": "pswEDSwZOASs"
   },
   "source": [
    "#### We will use just 500 tweets random for test the model of Text Analytics for sentiment analysis with Microsoft Azure, because the tier paid used is free and this have the constraint of 5000 calls.  "
   ]
  },
  {
   "cell_type": "code",
   "execution_count": null,
   "metadata": {
    "colab": {
     "base_uri": "https://localhost:8080/"
    },
    "executionInfo": {
     "elapsed": 323,
     "status": "ok",
     "timestamp": 1666555676392,
     "user": {
      "displayName": "Samuel Vasco",
      "userId": "17483000358453084899"
     },
     "user_tz": 300
    },
    "id": "gewn5iQlMy6E",
    "outputId": "23bef9b0-c1c2-4136-8d3f-7fa75c98e43a"
   },
   "outputs": [
    {
     "data": {
      "text/plain": [
       "(500, 500)"
      ]
     },
     "execution_count": 67,
     "metadata": {},
     "output_type": "execute_result"
    }
   ],
   "source": [
    "Random_Tweets=np.random.randint(0, len(features_clear), 500)\n",
    "len(features_clear[Random_Tweets]), len(labels[Random_Tweets])"
   ]
  },
  {
   "cell_type": "markdown",
   "metadata": {
    "id": "ik1Vb8JHdaki"
   },
   "source": [
    "## Sentiment Analysis Microsoft Azure without cleaning tweets"
   ]
  },
  {
   "cell_type": "code",
   "execution_count": null,
   "metadata": {
    "colab": {
     "base_uri": "https://localhost:8080/"
    },
    "executionInfo": {
     "elapsed": 117399,
     "status": "ok",
     "timestamp": 1666555878477,
     "user": {
      "displayName": "Samuel Vasco",
      "userId": "17483000358453084899"
     },
     "user_tz": 300
    },
    "id": "4TqZmV2fdeIC",
    "outputId": "0d60f900-3b66-4aaa-d9ad-49af1fc70980"
   },
   "outputs": [
    {
     "name": "stdout",
     "output_type": "stream",
     "text": [
      "0.582\n"
     ]
    }
   ],
   "source": [
    "SentimentAzure = Sentiment_Azure(features[Random_Tweets])\n",
    "\n",
    "print(accuracy_score(labels[Random_Tweets], SentimentAzure))"
   ]
  },
  {
   "cell_type": "markdown",
   "metadata": {
    "id": "3OtzMwVcC4-6"
   },
   "source": [
    "## Sentiment Analysis Microsoft Azure with cleaning tweets"
   ]
  },
  {
   "cell_type": "code",
   "execution_count": null,
   "metadata": {
    "colab": {
     "base_uri": "https://localhost:8080/"
    },
    "executionInfo": {
     "elapsed": 113868,
     "status": "ok",
     "timestamp": 1666555992336,
     "user": {
      "displayName": "Samuel Vasco",
      "userId": "17483000358453084899"
     },
     "user_tz": 300
    },
    "id": "CpNFziPQCBey",
    "outputId": "88b45b19-4d33-4f43-d94f-6fab03c94db2"
   },
   "outputs": [
    {
     "name": "stdout",
     "output_type": "stream",
     "text": [
      "0.518\n"
     ]
    }
   ],
   "source": [
    "SentimentAzure = Sentiment_Azure(features_clear[Random_Tweets])\n",
    "\n",
    "print(accuracy_score(labels[Random_Tweets], SentimentAzure))"
   ]
  },
  {
   "cell_type": "markdown",
   "metadata": {
    "id": "SaOaDdTpH0dr"
   },
   "source": [
    "# Training my own NLP Model with Sklearn algorithm"
   ]
  },
  {
   "cell_type": "markdown",
   "metadata": {
    "id": "bBGtE5a1Envb"
   },
   "source": [
    "### Vectorization"
   ]
  },
  {
   "cell_type": "markdown",
   "metadata": {
    "id": "cSqzNJX9HoMr"
   },
   "source": [
    "We convert the data into the numeric form."
   ]
  },
  {
   "cell_type": "code",
   "execution_count": null,
   "metadata": {
    "id": "Ki7bFe0BCf6b"
   },
   "outputs": [],
   "source": [
    "vectorizer = TfidfVectorizer() #max_features=2500, min_df=7, max_df=0.8,stop_words=stopwords.words('english')\n",
    "\n",
    "#without cleaning tweets\n",
    "X1 = vectorizer.fit_transform(features).toarray()\n",
    "\n",
    "#with cleaning tweets\n",
    "X2 = vectorizer.fit_transform(features_clear).toarray()"
   ]
  },
  {
   "cell_type": "markdown",
   "metadata": {
    "id": "nkY17j9THC0S"
   },
   "source": [
    "### Dividing Data into Training and Test Sets"
   ]
  },
  {
   "cell_type": "markdown",
   "metadata": {
    "id": "YL0oayQBHvrT"
   },
   "source": [
    "The training set will be used to train the algorithm while the test set will be used to evaluate the performance of the machine learning model."
   ]
  },
  {
   "cell_type": "code",
   "execution_count": null,
   "metadata": {
    "id": "UdAIJa2ZGgvz"
   },
   "outputs": [],
   "source": [
    "X_train1, X_test1, y_train1, y_test1 = train_test_split(X1, labels, test_size=0.2, random_state=0)\n",
    "X_train2, X_test2, y_train2, y_test2 = train_test_split(X2, labels, test_size=0.2, random_state=0)"
   ]
  },
  {
   "cell_type": "markdown",
   "metadata": {
    "id": "OS7N_nKjH6uy"
   },
   "source": [
    "## Random Forest Classifier without cleaning tweets"
   ]
  },
  {
   "cell_type": "code",
   "execution_count": null,
   "metadata": {
    "colab": {
     "base_uri": "https://localhost:8080/"
    },
    "executionInfo": {
     "elapsed": 194293,
     "status": "ok",
     "timestamp": 1666556351893,
     "user": {
      "displayName": "Samuel Vasco",
      "userId": "17483000358453084899"
     },
     "user_tz": 300
    },
    "id": "CtrXTcZfHwok",
    "outputId": "6a0df147-62b3-4882-98a2-96f6085b49df"
   },
   "outputs": [
    {
     "name": "stdout",
     "output_type": "stream",
     "text": [
      "0.7526919069121223\n"
     ]
    }
   ],
   "source": [
    "text_classifier1 = RandomForestClassifier(n_estimators=200, random_state=0)\n",
    "text_classifier1.fit(X_train1, y_train1)\n",
    "predictions = text_classifier1.predict(X_test1)\n",
    "print(accuracy_score(y_test1, predictions))"
   ]
  },
  {
   "cell_type": "markdown",
   "metadata": {
    "id": "Jo8MQF9sI2_7"
   },
   "source": [
    "## Random Forest Classifier with cleaning tweets"
   ]
  },
  {
   "cell_type": "code",
   "execution_count": null,
   "metadata": {
    "colab": {
     "base_uri": "https://localhost:8080/"
    },
    "executionInfo": {
     "elapsed": 282520,
     "status": "ok",
     "timestamp": 1666556634411,
     "user": {
      "displayName": "Samuel Vasco",
      "userId": "17483000358453084899"
     },
     "user_tz": 300
    },
    "id": "nmAmyFGAI6KE",
    "outputId": "d518d6d6-5961-44f6-bc92-79b0860991fe"
   },
   "outputs": [
    {
     "name": "stdout",
     "output_type": "stream",
     "text": [
      "0.7572073636679403\n"
     ]
    }
   ],
   "source": [
    "text_classifier2 = RandomForestClassifier(n_estimators=200, random_state=0)\n",
    "text_classifier2.fit(X_train2, y_train2)\n",
    "predictions = text_classifier2.predict(X_test2)\n",
    "print(accuracy_score(y_test2, predictions))"
   ]
  },
  {
   "cell_type": "markdown",
   "metadata": {
    "id": "lJl-VVQgNUQ8"
   },
   "source": [
    "It is better the model with tweets clean, thus the next models will be with cleaning tweets."
   ]
  },
  {
   "cell_type": "markdown",
   "metadata": {
    "id": "6-0JmTJzN679"
   },
   "source": [
    "## Multi Layer Perceptron Classifier"
   ]
  },
  {
   "cell_type": "code",
   "execution_count": null,
   "metadata": {
    "colab": {
     "base_uri": "https://localhost:8080/"
    },
    "executionInfo": {
     "elapsed": 712487,
     "status": "ok",
     "timestamp": 1666557346889,
     "user": {
      "displayName": "Samuel Vasco",
      "userId": "17483000358453084899"
     },
     "user_tz": 300
    },
    "id": "ddTNQwE8M_Zs",
    "outputId": "3a104bc1-512b-4c5a-b1f7-3d985283f14d"
   },
   "outputs": [
    {
     "name": "stdout",
     "output_type": "stream",
     "text": [
      "0.7127474817645015\n"
     ]
    }
   ],
   "source": [
    "text_classifier3 = MLPClassifier(hidden_layer_sizes=(100,), activation='relu', solver='adam', alpha=0.0001 )\n",
    "text_classifier3.fit(X_train2, y_train2)\n",
    "predictions = text_classifier3.predict(X_test2)\n",
    "print(accuracy_score(y_test2, predictions))"
   ]
  },
  {
   "cell_type": "markdown",
   "metadata": {
    "id": "4-qQOssxQ37M"
   },
   "source": [
    "## Linear Support Vector Classifier"
   ]
  },
  {
   "cell_type": "code",
   "execution_count": null,
   "metadata": {
    "colab": {
     "base_uri": "https://localhost:8080/"
    },
    "executionInfo": {
     "elapsed": 901,
     "status": "ok",
     "timestamp": 1666557347780,
     "user": {
      "displayName": "Samuel Vasco",
      "userId": "17483000358453084899"
     },
     "user_tz": 300
    },
    "id": "EwG6801gQyFk",
    "outputId": "e02a53ef-daaf-4f7b-b3b9-f81bbaabcd7f"
   },
   "outputs": [
    {
     "name": "stdout",
     "output_type": "stream",
     "text": [
      "0.7669329628343174\n"
     ]
    }
   ],
   "source": [
    "text_classifier4 = LinearSVC(random_state=0, tol=1e-6)\n",
    "text_classifier4.fit(X_train2, y_train2)\n",
    "predictions = text_classifier4.predict(X_test2)\n",
    "print(accuracy_score(y_test2, predictions))"
   ]
  },
  {
   "cell_type": "markdown",
   "metadata": {
    "id": "1_tPtSO5SsKl"
   },
   "source": [
    "## AdaBoost Classifier"
   ]
  },
  {
   "cell_type": "code",
   "execution_count": null,
   "metadata": {
    "colab": {
     "base_uri": "https://localhost:8080/"
    },
    "executionInfo": {
     "elapsed": 563072,
     "status": "ok",
     "timestamp": 1666557910851,
     "user": {
      "displayName": "Samuel Vasco",
      "userId": "17483000358453084899"
     },
     "user_tz": 300
    },
    "id": "aTpHNzecQ8L-",
    "outputId": "81553f49-893f-45d1-d3e2-05deac41b1f9"
   },
   "outputs": [
    {
     "name": "stdout",
     "output_type": "stream",
     "text": [
      "0.7266411948593261\n"
     ]
    }
   ],
   "source": [
    "text_classifier5 = AdaBoostClassifier(n_estimators=100, random_state=0)\n",
    "text_classifier5.fit(X_train2, y_train2)\n",
    "predictions = text_classifier5.predict(X_test2)\n",
    "print(accuracy_score(y_test2, predictions))"
   ]
  },
  {
   "cell_type": "markdown",
   "metadata": {
    "id": "q0K8SI5VltW4"
   },
   "source": [
    "### Proof of the model"
   ]
  },
  {
   "cell_type": "code",
   "execution_count": null,
   "metadata": {
    "colab": {
     "base_uri": "https://localhost:8080/",
     "height": 36
    },
    "executionInfo": {
     "elapsed": 318,
     "status": "ok",
     "timestamp": 1666558650387,
     "user": {
      "displayName": "Samuel Vasco",
      "userId": "17483000358453084899"
     },
     "user_tz": 300
    },
    "id": "BJOiBWRulwgg",
    "outputId": "817ef733-022d-4534-bc38-88c02b64d839"
   },
   "outputs": [
    {
     "data": {
      "application/vnd.google.colaboratory.intrinsic+json": {
       "type": "string"
      },
      "text/plain": [
       "'neutral'"
      ]
     },
     "execution_count": 86,
     "metadata": {},
     "output_type": "execute_result"
    }
   ],
   "source": [
    "test_features = limpiar_texto(['The trip was normal regular and common'])\n",
    "test_feature_vec = vectorizer.transform(test_features).toarray()\n",
    "predictions = text_classifier4.predict(test_feature_vec)\n",
    "predictions[0]"
   ]
  },
  {
   "cell_type": "code",
   "execution_count": null,
   "metadata": {
    "colab": {
     "base_uri": "https://localhost:8080/",
     "height": 36
    },
    "executionInfo": {
     "elapsed": 305,
     "status": "ok",
     "timestamp": 1666558674800,
     "user": {
      "displayName": "Samuel Vasco",
      "userId": "17483000358453084899"
     },
     "user_tz": 300
    },
    "id": "f7emHDksACYc",
    "outputId": "bb202c84-4183-412b-aed5-2fbd7f697e0b"
   },
   "outputs": [
    {
     "data": {
      "application/vnd.google.colaboratory.intrinsic+json": {
       "type": "string"
      },
      "text/plain": [
       "'negative'"
      ]
     },
     "execution_count": 87,
     "metadata": {},
     "output_type": "execute_result"
    }
   ],
   "source": [
    "test_features = limpiar_texto(['it wrongly loaded my return date'])\n",
    "test_feature_vec = vectorizer.transform(test_features).toarray()\n",
    "predictions = text_classifier4.predict(test_feature_vec)\n",
    "predictions[0]"
   ]
  },
  {
   "cell_type": "code",
   "execution_count": null,
   "metadata": {
    "colab": {
     "base_uri": "https://localhost:8080/",
     "height": 36
    },
    "executionInfo": {
     "elapsed": 332,
     "status": "ok",
     "timestamp": 1666558682581,
     "user": {
      "displayName": "Samuel Vasco",
      "userId": "17483000358453084899"
     },
     "user_tz": 300
    },
    "id": "bnn7KUZ1omVJ",
    "outputId": "b6d2cf50-f45b-4ec2-9502-ecd879bed561"
   },
   "outputs": [
    {
     "data": {
      "application/vnd.google.colaboratory.intrinsic+json": {
       "type": "string"
      },
      "text/plain": [
       "'positive'"
      ]
     },
     "execution_count": 88,
     "metadata": {},
     "output_type": "execute_result"
    }
   ],
   "source": [
    "test_features = limpiar_texto(['The trip was very great'])\n",
    "test_feature_vec = vectorizer.transform(test_features).toarray()\n",
    "predictions = text_classifier4.predict(test_feature_vec)\n",
    "predictions[0]"
   ]
  },
  {
   "cell_type": "markdown",
   "metadata": {
    "id": "6jxFG-PcR4MY"
   },
   "source": [
    "# Model NLP Hugging Face Transformers roberta"
   ]
  },
  {
   "cell_type": "code",
   "execution_count": null,
   "metadata": {
    "colab": {
     "base_uri": "https://localhost:8080/"
    },
    "executionInfo": {
     "elapsed": 20815,
     "status": "ok",
     "timestamp": 1666560485694,
     "user": {
      "displayName": "Samuel Vasco",
      "userId": "17483000358453084899"
     },
     "user_tz": 300
    },
    "id": "3o2vMqAspI6f",
    "outputId": "dcb2432c-c1b2-4f76-fbb6-9ef6d930149b"
   },
   "outputs": [
    {
     "name": "stdout",
     "output_type": "stream",
     "text": [
      "Looking in indexes: https://pypi.org/simple, https://us-python.pkg.dev/colab-wheels/public/simple/\n",
      "Collecting transformers\n",
      "  Downloading transformers-4.23.1-py3-none-any.whl (5.3 MB)\n",
      "\u001b[K     |████████████████████████████████| 5.3 MB 8.9 MB/s \n",
      "\u001b[?25hRequirement already satisfied: tqdm>=4.27 in /usr/local/lib/python3.7/dist-packages (from transformers) (4.64.1)\n",
      "Requirement already satisfied: filelock in /usr/local/lib/python3.7/dist-packages (from transformers) (3.8.0)\n",
      "Requirement already satisfied: importlib-metadata in /usr/local/lib/python3.7/dist-packages (from transformers) (4.13.0)\n",
      "Collecting huggingface-hub<1.0,>=0.10.0\n",
      "  Downloading huggingface_hub-0.10.1-py3-none-any.whl (163 kB)\n",
      "\u001b[K     |████████████████████████████████| 163 kB 59.7 MB/s \n",
      "\u001b[?25hRequirement already satisfied: packaging>=20.0 in /usr/local/lib/python3.7/dist-packages (from transformers) (21.3)\n",
      "Requirement already satisfied: requests in /usr/local/lib/python3.7/dist-packages (from transformers) (2.23.0)\n",
      "Requirement already satisfied: regex!=2019.12.17 in /usr/local/lib/python3.7/dist-packages (from transformers) (2022.6.2)\n",
      "Collecting tokenizers!=0.11.3,<0.14,>=0.11.1\n",
      "  Downloading tokenizers-0.13.1-cp37-cp37m-manylinux_2_17_x86_64.manylinux2014_x86_64.whl (7.6 MB)\n",
      "\u001b[K     |████████████████████████████████| 7.6 MB 35.0 MB/s \n",
      "\u001b[?25hRequirement already satisfied: numpy>=1.17 in /usr/local/lib/python3.7/dist-packages (from transformers) (1.21.6)\n",
      "Requirement already satisfied: pyyaml>=5.1 in /usr/local/lib/python3.7/dist-packages (from transformers) (6.0)\n",
      "Requirement already satisfied: typing-extensions>=3.7.4.3 in /usr/local/lib/python3.7/dist-packages (from huggingface-hub<1.0,>=0.10.0->transformers) (4.1.1)\n",
      "Requirement already satisfied: pyparsing!=3.0.5,>=2.0.2 in /usr/local/lib/python3.7/dist-packages (from packaging>=20.0->transformers) (3.0.9)\n",
      "Requirement already satisfied: zipp>=0.5 in /usr/local/lib/python3.7/dist-packages (from importlib-metadata->transformers) (3.9.0)\n",
      "Requirement already satisfied: chardet<4,>=3.0.2 in /usr/local/lib/python3.7/dist-packages (from requests->transformers) (3.0.4)\n",
      "Requirement already satisfied: urllib3!=1.25.0,!=1.25.1,<1.26,>=1.21.1 in /usr/local/lib/python3.7/dist-packages (from requests->transformers) (1.24.3)\n",
      "Requirement already satisfied: certifi>=2017.4.17 in /usr/local/lib/python3.7/dist-packages (from requests->transformers) (2022.9.24)\n",
      "Requirement already satisfied: idna<3,>=2.5 in /usr/local/lib/python3.7/dist-packages (from requests->transformers) (2.10)\n",
      "Installing collected packages: tokenizers, huggingface-hub, transformers\n",
      "Successfully installed huggingface-hub-0.10.1 tokenizers-0.13.1 transformers-4.23.1\n"
     ]
    }
   ],
   "source": [
    "!pip install transformers"
   ]
  },
  {
   "cell_type": "code",
   "execution_count": null,
   "metadata": {
    "id": "h-MbqiMJpHxT"
   },
   "outputs": [],
   "source": [
    "from transformers import AutoModelForSequenceClassification\n",
    "from transformers import TFAutoModelForSequenceClassification\n",
    "from transformers import AutoTokenizer\n",
    "from scipy.special import softmax\n",
    "import csv\n",
    "import urllib.request"
   ]
  },
  {
   "cell_type": "code",
   "execution_count": null,
   "metadata": {
    "colab": {
     "base_uri": "https://localhost:8080/",
     "height": 145,
     "referenced_widgets": [
      "29c5bbad904441dd8f9de0d9f9937af3",
      "ae41d3afce0a431da2ddb9f10ab3d295",
      "0203a1d1d58f4c32ab7b4795d0b5d4ab",
      "dae6b447584043b68d2af6ff82a82587",
      "4d6ffc4c8eb140c0ae1417394d9c0450",
      "66c1e41b80094ee2947f28ab16b2fd66",
      "f32cc5d057f54026b81d7cca0e3f286a",
      "c4973dddd2454f24b3dd3ef3f1624936",
      "51d06436a13b48c283e67c93fc1ce539",
      "ab975d44e24b44979de55c1ed64cce3d",
      "a86b290f3c724cea9bc156f83c90924c",
      "48b537cda6fc497ea0ccc04004b734aa",
      "298372164ca543a58a4286cd2c6261b2",
      "e12b64ac74f54eeab08db0e333b09525",
      "6ec5c16b8233433e8a282c59686b2d3d",
      "69ec0996dc30430f9bb3a74ccee5c29c",
      "ce8d27ee949e4355a8d525c02d164443",
      "c6c3ee4b330d4cd697e3569642f709ca",
      "9821d6a63f23441ea6ff3cb223087a2a",
      "45321eb328d14f38a2a4cfd62907e75a",
      "0d295fd759d34fabbf4a9422a786fe4d",
      "66491c31e98b47c6a0d02a2d7d31c7c5",
      "7393cabc231349bdaded597ab52f6ae0",
      "34c5bbf0edf54b6099b5c65715ba8fff",
      "5c2947604a1042ccba4c53d0366047e1",
      "5b7fec683e2b47e9a092e8d1f8f0096e",
      "740e7a239972477582de90eb814ff9e2",
      "c9476e6e7dca4fd9a8c6fe9d6c528f6a",
      "de1ec0188a1740afb4f488c6ac1499ff",
      "315496b8559b4b499a6b336c8bf5dade",
      "96310eb8ed1545b39af958fffab60798",
      "56b61490ec154192bb737c56cc1eea29",
      "08517e1ba3bf460da30b53db9deab44d",
      "63fdb5c2cc6248d5a47668c9a4cd851b",
      "198dc82e061f4ffe987d05ff04967470",
      "6d96d94889384fc7aaa44f1ccfe68028",
      "8c6362ecf6784e5fb7b3572607e17452",
      "a23b485702134c569546d6bba4c8bb2d",
      "b8425c21ced34fd39e7c268365e2f937",
      "52b5558fca3a497284529472a26a261f",
      "b6bc3225484c4a3a9305fefc60c0ead8",
      "b1683e706fc1472a98893b0776f987a6",
      "aa907315ebef4ac689284dec412c95f5",
      "a73438d1163541498047db489d959072"
     ]
    },
    "executionInfo": {
     "elapsed": 5040,
     "status": "ok",
     "timestamp": 1666560491730,
     "user": {
      "displayName": "Samuel Vasco",
      "userId": "17483000358453084899"
     },
     "user_tz": 300
    },
    "id": "gJQIcoxYR-rt",
    "outputId": "4f0faa75-17fe-4bc6-e574-43c4f1ce4184"
   },
   "outputs": [
    {
     "data": {
      "application/vnd.jupyter.widget-view+json": {
       "model_id": "29c5bbad904441dd8f9de0d9f9937af3",
       "version_major": 2,
       "version_minor": 0
      },
      "text/plain": [
       "Downloading:   0%|          | 0.00/747 [00:00<?, ?B/s]"
      ]
     },
     "metadata": {},
     "output_type": "display_data"
    },
    {
     "data": {
      "application/vnd.jupyter.widget-view+json": {
       "model_id": "48b537cda6fc497ea0ccc04004b734aa",
       "version_major": 2,
       "version_minor": 0
      },
      "text/plain": [
       "Downloading:   0%|          | 0.00/899k [00:00<?, ?B/s]"
      ]
     },
     "metadata": {},
     "output_type": "display_data"
    },
    {
     "data": {
      "application/vnd.jupyter.widget-view+json": {
       "model_id": "7393cabc231349bdaded597ab52f6ae0",
       "version_major": 2,
       "version_minor": 0
      },
      "text/plain": [
       "Downloading:   0%|          | 0.00/456k [00:00<?, ?B/s]"
      ]
     },
     "metadata": {},
     "output_type": "display_data"
    },
    {
     "data": {
      "application/vnd.jupyter.widget-view+json": {
       "model_id": "63fdb5c2cc6248d5a47668c9a4cd851b",
       "version_major": 2,
       "version_minor": 0
      },
      "text/plain": [
       "Downloading:   0%|          | 0.00/150 [00:00<?, ?B/s]"
      ]
     },
     "metadata": {},
     "output_type": "display_data"
    }
   ],
   "source": [
    "# Preprocess text (username and link placeholders)\n",
    "def preprocess(text):\n",
    "    new_text = []\n",
    " \n",
    " \n",
    "    for t in text.split(\" \"):\n",
    "        t = '@user' if t.startswith('@') and len(t) > 1 else t\n",
    "        t = 'http' if t.startswith('http') else t\n",
    "        new_text.append(t)\n",
    "    return \" \".join(new_text)\n",
    "\n",
    "# Tasks:\n",
    "# emoji, emotion, hate, irony, offensive, sentiment\n",
    "# stance/abortion, stance/atheism, stance/climate, stance/feminist, stance/hillary\n",
    "\n",
    "task='sentiment'\n",
    "MODEL = f\"cardiffnlp/twitter-roberta-base-{task}\"\n",
    "\n",
    "tokenizer = AutoTokenizer.from_pretrained(MODEL)\n",
    "\n",
    "# download label mapping\n",
    "labels=[]\n",
    "mapping_link = f\"https://raw.githubusercontent.com/cardiffnlp/tweeteval/main/datasets/{task}/mapping.txt\"\n",
    "with urllib.request.urlopen(mapping_link) as f:\n",
    "    html = f.read().decode('utf-8').split(\"\\n\")\n",
    "    csvreader = csv.reader(html, delimiter='\\t')\n",
    "labels = [row[1] for row in csvreader if len(row) > 1]\n",
    "\n"
   ]
  },
  {
   "cell_type": "code",
   "execution_count": null,
   "metadata": {
    "id": "BhX__NtZwiEV"
   },
   "outputs": [],
   "source": [
    "def Tweeter_Roberta(tweets, model):\n",
    "  sentiments = []\n",
    "  for tweet in tweets:\n",
    "    text = preprocess(tweet)\n",
    "    encoded_input = tokenizer(text, return_tensors='pt')\n",
    "    output = model(**encoded_input)\n",
    "    scores = output[0][0].detach().numpy()\n",
    "    scores = softmax(scores)\n",
    "\n",
    "    ranking = np.argsort(scores)\n",
    "    ranking = ranking[::-1]\n",
    "\n",
    "    sentiments.append(labels[ranking[0]])\n",
    "  return np.r_[sentiments]"
   ]
  },
  {
   "cell_type": "markdown",
   "metadata": {
    "id": "N5ZcCx0h125m"
   },
   "source": [
    "## Sentiment Analysis Hugging Face Tweeter Roberta without cleaning tweets"
   ]
  },
  {
   "cell_type": "code",
   "execution_count": null,
   "metadata": {
    "colab": {
     "base_uri": "https://localhost:8080/",
     "height": 67,
     "referenced_widgets": [
      "cb77d7f0a0fe49eaa3b77d1200459287",
      "93b9372110d34d39ae64f9db58f13db0",
      "17c7d5cea2c94f9fb6042b79433d46df",
      "33d2adc3b60a4567b580905d8b51f8ea",
      "cb687ebf461b44429dadb825142ac89f",
      "f83405b572bb4741a75ec9f740d6d9db",
      "0cdf18f9044140df8dfcff23c78efde1",
      "2ccc5bc243f24011807d69e9deb6dcb4",
      "b069be4b8e5b49c7b057179c0d48c027",
      "f72b765a1eee42d3b559ad082cd726e3",
      "66a9595329994542a71baf0ad36175c7"
     ]
    },
    "executionInfo": {
     "elapsed": 1845593,
     "status": "ok",
     "timestamp": 1666564057620,
     "user": {
      "displayName": "Samuel Vasco",
      "userId": "17483000358453084899"
     },
     "user_tz": 300
    },
    "id": "XtGd_OHf1j62",
    "outputId": "6472e5fe-b297-478c-d570-b8d67b9d4b55"
   },
   "outputs": [
    {
     "data": {
      "application/vnd.jupyter.widget-view+json": {
       "model_id": "cb77d7f0a0fe49eaa3b77d1200459287",
       "version_major": 2,
       "version_minor": 0
      },
      "text/plain": [
       "Downloading:   0%|          | 0.00/499M [00:00<?, ?B/s]"
      ]
     },
     "metadata": {},
     "output_type": "display_data"
    },
    {
     "name": "stdout",
     "output_type": "stream",
     "text": [
      "0.07851584213451918\n"
     ]
    }
   ],
   "source": [
    "# PT\n",
    "model = AutoModelForSequenceClassification.from_pretrained(MODEL)\n",
    "model.save_pretrained(MODEL)\n",
    "\n",
    "SentimentRoberta = Tweeter_Roberta(features, model)\n",
    "\n",
    "print(accuracy_score(labels, SentimentRoberta))"
   ]
  },
  {
   "cell_type": "markdown",
   "metadata": {
    "id": "28YZESAE2lp2"
   },
   "source": [
    "## Sentiment Analysis Hugging Face Tweeter Roberta with cleaning tweets"
   ]
  },
  {
   "cell_type": "code",
   "execution_count": null,
   "metadata": {
    "colab": {
     "base_uri": "https://localhost:8080/"
    },
    "executionInfo": {
     "elapsed": 1297046,
     "status": "ok",
     "timestamp": 1666565949898,
     "user": {
      "displayName": "Samuel Vasco",
      "userId": "17483000358453084899"
     },
     "user_tz": 300
    },
    "id": "b339WiaJ2viu",
    "outputId": "aea54727-3208-4270-dcab-3223d832850b"
   },
   "outputs": [
    {
     "name": "stdout",
     "output_type": "stream",
     "text": [
      "0.07698721511951084\n"
     ]
    }
   ],
   "source": [
    "# PT\n",
    "model = AutoModelForSequenceClassification.from_pretrained(MODEL)\n",
    "model.save_pretrained(MODEL)\n",
    "\n",
    "SentimentRoberta = Tweeter_Roberta(features_clear, model)\n",
    "\n",
    "print(accuracy_score(labels, SentimentRoberta))"
   ]
  },
  {
   "cell_type": "markdown",
   "metadata": {
    "id": "MgBm1JhF_NHd"
   },
   "source": [
    "# Conclusion \n",
    "\n",
    "After to look all results of accuracy_score for diferents models for NLP such as TextBlob, Text Analytics of Microsoft Azure, my own model with Sklearn and Transformers RoBerta of Hugging Face. The best Model was Linear Support Vector Classifier with $Accuracy\\_Score=0.77$  "
   ]
  },
  {
   "cell_type": "code",
   "execution_count": null,
   "metadata": {
    "id": "7XGjRBWlBYRd"
   },
   "outputs": [],
   "source": []
  }
 ],
 "metadata": {
  "colab": {
   "authorship_tag": "ABX9TyOnj3/WPLlIM5ZEBrrUufkb",
   "collapsed_sections": [
    "WlWJrpRPHjIG",
    "8mj8g9PF6vQ2",
    "6jxFG-PcR4MY"
   ],
   "provenance": []
  },
  "kernelspec": {
   "display_name": "Python 3",
   "language": "python",
   "name": "python3"
  },
  "language_info": {
   "codemirror_mode": {
    "name": "ipython",
    "version": 3
   },
   "file_extension": ".py",
   "mimetype": "text/x-python",
   "name": "python",
   "nbconvert_exporter": "python",
   "pygments_lexer": "ipython3",
   "version": "3.7.2"
  },
  "widgets": {
   "application/vnd.jupyter.widget-state+json": {
    "0203a1d1d58f4c32ab7b4795d0b5d4ab": {
     "model_module": "@jupyter-widgets/controls",
     "model_module_version": "1.5.0",
     "model_name": "FloatProgressModel",
     "state": {
      "_dom_classes": [],
      "_model_module": "@jupyter-widgets/controls",
      "_model_module_version": "1.5.0",
      "_model_name": "FloatProgressModel",
      "_view_count": null,
      "_view_module": "@jupyter-widgets/controls",
      "_view_module_version": "1.5.0",
      "_view_name": "ProgressView",
      "bar_style": "success",
      "description": "",
      "description_tooltip": null,
      "layout": "IPY_MODEL_c4973dddd2454f24b3dd3ef3f1624936",
      "max": 747,
      "min": 0,
      "orientation": "horizontal",
      "style": "IPY_MODEL_51d06436a13b48c283e67c93fc1ce539",
      "value": 747
     }
    },
    "08517e1ba3bf460da30b53db9deab44d": {
     "model_module": "@jupyter-widgets/controls",
     "model_module_version": "1.5.0",
     "model_name": "DescriptionStyleModel",
     "state": {
      "_model_module": "@jupyter-widgets/controls",
      "_model_module_version": "1.5.0",
      "_model_name": "DescriptionStyleModel",
      "_view_count": null,
      "_view_module": "@jupyter-widgets/base",
      "_view_module_version": "1.2.0",
      "_view_name": "StyleView",
      "description_width": ""
     }
    },
    "0cdf18f9044140df8dfcff23c78efde1": {
     "model_module": "@jupyter-widgets/controls",
     "model_module_version": "1.5.0",
     "model_name": "DescriptionStyleModel",
     "state": {
      "_model_module": "@jupyter-widgets/controls",
      "_model_module_version": "1.5.0",
      "_model_name": "DescriptionStyleModel",
      "_view_count": null,
      "_view_module": "@jupyter-widgets/base",
      "_view_module_version": "1.2.0",
      "_view_name": "StyleView",
      "description_width": ""
     }
    },
    "0d295fd759d34fabbf4a9422a786fe4d": {
     "model_module": "@jupyter-widgets/base",
     "model_module_version": "1.2.0",
     "model_name": "LayoutModel",
     "state": {
      "_model_module": "@jupyter-widgets/base",
      "_model_module_version": "1.2.0",
      "_model_name": "LayoutModel",
      "_view_count": null,
      "_view_module": "@jupyter-widgets/base",
      "_view_module_version": "1.2.0",
      "_view_name": "LayoutView",
      "align_content": null,
      "align_items": null,
      "align_self": null,
      "border": null,
      "bottom": null,
      "display": null,
      "flex": null,
      "flex_flow": null,
      "grid_area": null,
      "grid_auto_columns": null,
      "grid_auto_flow": null,
      "grid_auto_rows": null,
      "grid_column": null,
      "grid_gap": null,
      "grid_row": null,
      "grid_template_areas": null,
      "grid_template_columns": null,
      "grid_template_rows": null,
      "height": null,
      "justify_content": null,
      "justify_items": null,
      "left": null,
      "margin": null,
      "max_height": null,
      "max_width": null,
      "min_height": null,
      "min_width": null,
      "object_fit": null,
      "object_position": null,
      "order": null,
      "overflow": null,
      "overflow_x": null,
      "overflow_y": null,
      "padding": null,
      "right": null,
      "top": null,
      "visibility": null,
      "width": null
     }
    },
    "17c7d5cea2c94f9fb6042b79433d46df": {
     "model_module": "@jupyter-widgets/controls",
     "model_module_version": "1.5.0",
     "model_name": "FloatProgressModel",
     "state": {
      "_dom_classes": [],
      "_model_module": "@jupyter-widgets/controls",
      "_model_module_version": "1.5.0",
      "_model_name": "FloatProgressModel",
      "_view_count": null,
      "_view_module": "@jupyter-widgets/controls",
      "_view_module_version": "1.5.0",
      "_view_name": "ProgressView",
      "bar_style": "success",
      "description": "",
      "description_tooltip": null,
      "layout": "IPY_MODEL_2ccc5bc243f24011807d69e9deb6dcb4",
      "max": 498679497,
      "min": 0,
      "orientation": "horizontal",
      "style": "IPY_MODEL_b069be4b8e5b49c7b057179c0d48c027",
      "value": 498679497
     }
    },
    "198dc82e061f4ffe987d05ff04967470": {
     "model_module": "@jupyter-widgets/controls",
     "model_module_version": "1.5.0",
     "model_name": "HTMLModel",
     "state": {
      "_dom_classes": [],
      "_model_module": "@jupyter-widgets/controls",
      "_model_module_version": "1.5.0",
      "_model_name": "HTMLModel",
      "_view_count": null,
      "_view_module": "@jupyter-widgets/controls",
      "_view_module_version": "1.5.0",
      "_view_name": "HTMLView",
      "description": "",
      "description_tooltip": null,
      "layout": "IPY_MODEL_b8425c21ced34fd39e7c268365e2f937",
      "placeholder": "​",
      "style": "IPY_MODEL_52b5558fca3a497284529472a26a261f",
      "value": "Downloading: 100%"
     }
    },
    "298372164ca543a58a4286cd2c6261b2": {
     "model_module": "@jupyter-widgets/controls",
     "model_module_version": "1.5.0",
     "model_name": "HTMLModel",
     "state": {
      "_dom_classes": [],
      "_model_module": "@jupyter-widgets/controls",
      "_model_module_version": "1.5.0",
      "_model_name": "HTMLModel",
      "_view_count": null,
      "_view_module": "@jupyter-widgets/controls",
      "_view_module_version": "1.5.0",
      "_view_name": "HTMLView",
      "description": "",
      "description_tooltip": null,
      "layout": "IPY_MODEL_ce8d27ee949e4355a8d525c02d164443",
      "placeholder": "​",
      "style": "IPY_MODEL_c6c3ee4b330d4cd697e3569642f709ca",
      "value": "Downloading: 100%"
     }
    },
    "29c5bbad904441dd8f9de0d9f9937af3": {
     "model_module": "@jupyter-widgets/controls",
     "model_module_version": "1.5.0",
     "model_name": "HBoxModel",
     "state": {
      "_dom_classes": [],
      "_model_module": "@jupyter-widgets/controls",
      "_model_module_version": "1.5.0",
      "_model_name": "HBoxModel",
      "_view_count": null,
      "_view_module": "@jupyter-widgets/controls",
      "_view_module_version": "1.5.0",
      "_view_name": "HBoxView",
      "box_style": "",
      "children": [
       "IPY_MODEL_ae41d3afce0a431da2ddb9f10ab3d295",
       "IPY_MODEL_0203a1d1d58f4c32ab7b4795d0b5d4ab",
       "IPY_MODEL_dae6b447584043b68d2af6ff82a82587"
      ],
      "layout": "IPY_MODEL_4d6ffc4c8eb140c0ae1417394d9c0450"
     }
    },
    "2ccc5bc243f24011807d69e9deb6dcb4": {
     "model_module": "@jupyter-widgets/base",
     "model_module_version": "1.2.0",
     "model_name": "LayoutModel",
     "state": {
      "_model_module": "@jupyter-widgets/base",
      "_model_module_version": "1.2.0",
      "_model_name": "LayoutModel",
      "_view_count": null,
      "_view_module": "@jupyter-widgets/base",
      "_view_module_version": "1.2.0",
      "_view_name": "LayoutView",
      "align_content": null,
      "align_items": null,
      "align_self": null,
      "border": null,
      "bottom": null,
      "display": null,
      "flex": null,
      "flex_flow": null,
      "grid_area": null,
      "grid_auto_columns": null,
      "grid_auto_flow": null,
      "grid_auto_rows": null,
      "grid_column": null,
      "grid_gap": null,
      "grid_row": null,
      "grid_template_areas": null,
      "grid_template_columns": null,
      "grid_template_rows": null,
      "height": null,
      "justify_content": null,
      "justify_items": null,
      "left": null,
      "margin": null,
      "max_height": null,
      "max_width": null,
      "min_height": null,
      "min_width": null,
      "object_fit": null,
      "object_position": null,
      "order": null,
      "overflow": null,
      "overflow_x": null,
      "overflow_y": null,
      "padding": null,
      "right": null,
      "top": null,
      "visibility": null,
      "width": null
     }
    },
    "315496b8559b4b499a6b336c8bf5dade": {
     "model_module": "@jupyter-widgets/base",
     "model_module_version": "1.2.0",
     "model_name": "LayoutModel",
     "state": {
      "_model_module": "@jupyter-widgets/base",
      "_model_module_version": "1.2.0",
      "_model_name": "LayoutModel",
      "_view_count": null,
      "_view_module": "@jupyter-widgets/base",
      "_view_module_version": "1.2.0",
      "_view_name": "LayoutView",
      "align_content": null,
      "align_items": null,
      "align_self": null,
      "border": null,
      "bottom": null,
      "display": null,
      "flex": null,
      "flex_flow": null,
      "grid_area": null,
      "grid_auto_columns": null,
      "grid_auto_flow": null,
      "grid_auto_rows": null,
      "grid_column": null,
      "grid_gap": null,
      "grid_row": null,
      "grid_template_areas": null,
      "grid_template_columns": null,
      "grid_template_rows": null,
      "height": null,
      "justify_content": null,
      "justify_items": null,
      "left": null,
      "margin": null,
      "max_height": null,
      "max_width": null,
      "min_height": null,
      "min_width": null,
      "object_fit": null,
      "object_position": null,
      "order": null,
      "overflow": null,
      "overflow_x": null,
      "overflow_y": null,
      "padding": null,
      "right": null,
      "top": null,
      "visibility": null,
      "width": null
     }
    },
    "33d2adc3b60a4567b580905d8b51f8ea": {
     "model_module": "@jupyter-widgets/controls",
     "model_module_version": "1.5.0",
     "model_name": "HTMLModel",
     "state": {
      "_dom_classes": [],
      "_model_module": "@jupyter-widgets/controls",
      "_model_module_version": "1.5.0",
      "_model_name": "HTMLModel",
      "_view_count": null,
      "_view_module": "@jupyter-widgets/controls",
      "_view_module_version": "1.5.0",
      "_view_name": "HTMLView",
      "description": "",
      "description_tooltip": null,
      "layout": "IPY_MODEL_f72b765a1eee42d3b559ad082cd726e3",
      "placeholder": "​",
      "style": "IPY_MODEL_66a9595329994542a71baf0ad36175c7",
      "value": " 499M/499M [00:10&lt;00:00, 39.6MB/s]"
     }
    },
    "34c5bbf0edf54b6099b5c65715ba8fff": {
     "model_module": "@jupyter-widgets/controls",
     "model_module_version": "1.5.0",
     "model_name": "HTMLModel",
     "state": {
      "_dom_classes": [],
      "_model_module": "@jupyter-widgets/controls",
      "_model_module_version": "1.5.0",
      "_model_name": "HTMLModel",
      "_view_count": null,
      "_view_module": "@jupyter-widgets/controls",
      "_view_module_version": "1.5.0",
      "_view_name": "HTMLView",
      "description": "",
      "description_tooltip": null,
      "layout": "IPY_MODEL_c9476e6e7dca4fd9a8c6fe9d6c528f6a",
      "placeholder": "​",
      "style": "IPY_MODEL_de1ec0188a1740afb4f488c6ac1499ff",
      "value": "Downloading: 100%"
     }
    },
    "45321eb328d14f38a2a4cfd62907e75a": {
     "model_module": "@jupyter-widgets/controls",
     "model_module_version": "1.5.0",
     "model_name": "ProgressStyleModel",
     "state": {
      "_model_module": "@jupyter-widgets/controls",
      "_model_module_version": "1.5.0",
      "_model_name": "ProgressStyleModel",
      "_view_count": null,
      "_view_module": "@jupyter-widgets/base",
      "_view_module_version": "1.2.0",
      "_view_name": "StyleView",
      "bar_color": null,
      "description_width": ""
     }
    },
    "48b537cda6fc497ea0ccc04004b734aa": {
     "model_module": "@jupyter-widgets/controls",
     "model_module_version": "1.5.0",
     "model_name": "HBoxModel",
     "state": {
      "_dom_classes": [],
      "_model_module": "@jupyter-widgets/controls",
      "_model_module_version": "1.5.0",
      "_model_name": "HBoxModel",
      "_view_count": null,
      "_view_module": "@jupyter-widgets/controls",
      "_view_module_version": "1.5.0",
      "_view_name": "HBoxView",
      "box_style": "",
      "children": [
       "IPY_MODEL_298372164ca543a58a4286cd2c6261b2",
       "IPY_MODEL_e12b64ac74f54eeab08db0e333b09525",
       "IPY_MODEL_6ec5c16b8233433e8a282c59686b2d3d"
      ],
      "layout": "IPY_MODEL_69ec0996dc30430f9bb3a74ccee5c29c"
     }
    },
    "4d6ffc4c8eb140c0ae1417394d9c0450": {
     "model_module": "@jupyter-widgets/base",
     "model_module_version": "1.2.0",
     "model_name": "LayoutModel",
     "state": {
      "_model_module": "@jupyter-widgets/base",
      "_model_module_version": "1.2.0",
      "_model_name": "LayoutModel",
      "_view_count": null,
      "_view_module": "@jupyter-widgets/base",
      "_view_module_version": "1.2.0",
      "_view_name": "LayoutView",
      "align_content": null,
      "align_items": null,
      "align_self": null,
      "border": null,
      "bottom": null,
      "display": null,
      "flex": null,
      "flex_flow": null,
      "grid_area": null,
      "grid_auto_columns": null,
      "grid_auto_flow": null,
      "grid_auto_rows": null,
      "grid_column": null,
      "grid_gap": null,
      "grid_row": null,
      "grid_template_areas": null,
      "grid_template_columns": null,
      "grid_template_rows": null,
      "height": null,
      "justify_content": null,
      "justify_items": null,
      "left": null,
      "margin": null,
      "max_height": null,
      "max_width": null,
      "min_height": null,
      "min_width": null,
      "object_fit": null,
      "object_position": null,
      "order": null,
      "overflow": null,
      "overflow_x": null,
      "overflow_y": null,
      "padding": null,
      "right": null,
      "top": null,
      "visibility": null,
      "width": null
     }
    },
    "51d06436a13b48c283e67c93fc1ce539": {
     "model_module": "@jupyter-widgets/controls",
     "model_module_version": "1.5.0",
     "model_name": "ProgressStyleModel",
     "state": {
      "_model_module": "@jupyter-widgets/controls",
      "_model_module_version": "1.5.0",
      "_model_name": "ProgressStyleModel",
      "_view_count": null,
      "_view_module": "@jupyter-widgets/base",
      "_view_module_version": "1.2.0",
      "_view_name": "StyleView",
      "bar_color": null,
      "description_width": ""
     }
    },
    "52b5558fca3a497284529472a26a261f": {
     "model_module": "@jupyter-widgets/controls",
     "model_module_version": "1.5.0",
     "model_name": "DescriptionStyleModel",
     "state": {
      "_model_module": "@jupyter-widgets/controls",
      "_model_module_version": "1.5.0",
      "_model_name": "DescriptionStyleModel",
      "_view_count": null,
      "_view_module": "@jupyter-widgets/base",
      "_view_module_version": "1.2.0",
      "_view_name": "StyleView",
      "description_width": ""
     }
    },
    "56b61490ec154192bb737c56cc1eea29": {
     "model_module": "@jupyter-widgets/base",
     "model_module_version": "1.2.0",
     "model_name": "LayoutModel",
     "state": {
      "_model_module": "@jupyter-widgets/base",
      "_model_module_version": "1.2.0",
      "_model_name": "LayoutModel",
      "_view_count": null,
      "_view_module": "@jupyter-widgets/base",
      "_view_module_version": "1.2.0",
      "_view_name": "LayoutView",
      "align_content": null,
      "align_items": null,
      "align_self": null,
      "border": null,
      "bottom": null,
      "display": null,
      "flex": null,
      "flex_flow": null,
      "grid_area": null,
      "grid_auto_columns": null,
      "grid_auto_flow": null,
      "grid_auto_rows": null,
      "grid_column": null,
      "grid_gap": null,
      "grid_row": null,
      "grid_template_areas": null,
      "grid_template_columns": null,
      "grid_template_rows": null,
      "height": null,
      "justify_content": null,
      "justify_items": null,
      "left": null,
      "margin": null,
      "max_height": null,
      "max_width": null,
      "min_height": null,
      "min_width": null,
      "object_fit": null,
      "object_position": null,
      "order": null,
      "overflow": null,
      "overflow_x": null,
      "overflow_y": null,
      "padding": null,
      "right": null,
      "top": null,
      "visibility": null,
      "width": null
     }
    },
    "5b7fec683e2b47e9a092e8d1f8f0096e": {
     "model_module": "@jupyter-widgets/controls",
     "model_module_version": "1.5.0",
     "model_name": "HTMLModel",
     "state": {
      "_dom_classes": [],
      "_model_module": "@jupyter-widgets/controls",
      "_model_module_version": "1.5.0",
      "_model_name": "HTMLModel",
      "_view_count": null,
      "_view_module": "@jupyter-widgets/controls",
      "_view_module_version": "1.5.0",
      "_view_name": "HTMLView",
      "description": "",
      "description_tooltip": null,
      "layout": "IPY_MODEL_56b61490ec154192bb737c56cc1eea29",
      "placeholder": "​",
      "style": "IPY_MODEL_08517e1ba3bf460da30b53db9deab44d",
      "value": " 456k/456k [00:00&lt;00:00, 791kB/s]"
     }
    },
    "5c2947604a1042ccba4c53d0366047e1": {
     "model_module": "@jupyter-widgets/controls",
     "model_module_version": "1.5.0",
     "model_name": "FloatProgressModel",
     "state": {
      "_dom_classes": [],
      "_model_module": "@jupyter-widgets/controls",
      "_model_module_version": "1.5.0",
      "_model_name": "FloatProgressModel",
      "_view_count": null,
      "_view_module": "@jupyter-widgets/controls",
      "_view_module_version": "1.5.0",
      "_view_name": "ProgressView",
      "bar_style": "success",
      "description": "",
      "description_tooltip": null,
      "layout": "IPY_MODEL_315496b8559b4b499a6b336c8bf5dade",
      "max": 456318,
      "min": 0,
      "orientation": "horizontal",
      "style": "IPY_MODEL_96310eb8ed1545b39af958fffab60798",
      "value": 456318
     }
    },
    "63fdb5c2cc6248d5a47668c9a4cd851b": {
     "model_module": "@jupyter-widgets/controls",
     "model_module_version": "1.5.0",
     "model_name": "HBoxModel",
     "state": {
      "_dom_classes": [],
      "_model_module": "@jupyter-widgets/controls",
      "_model_module_version": "1.5.0",
      "_model_name": "HBoxModel",
      "_view_count": null,
      "_view_module": "@jupyter-widgets/controls",
      "_view_module_version": "1.5.0",
      "_view_name": "HBoxView",
      "box_style": "",
      "children": [
       "IPY_MODEL_198dc82e061f4ffe987d05ff04967470",
       "IPY_MODEL_6d96d94889384fc7aaa44f1ccfe68028",
       "IPY_MODEL_8c6362ecf6784e5fb7b3572607e17452"
      ],
      "layout": "IPY_MODEL_a23b485702134c569546d6bba4c8bb2d"
     }
    },
    "66491c31e98b47c6a0d02a2d7d31c7c5": {
     "model_module": "@jupyter-widgets/controls",
     "model_module_version": "1.5.0",
     "model_name": "DescriptionStyleModel",
     "state": {
      "_model_module": "@jupyter-widgets/controls",
      "_model_module_version": "1.5.0",
      "_model_name": "DescriptionStyleModel",
      "_view_count": null,
      "_view_module": "@jupyter-widgets/base",
      "_view_module_version": "1.2.0",
      "_view_name": "StyleView",
      "description_width": ""
     }
    },
    "66a9595329994542a71baf0ad36175c7": {
     "model_module": "@jupyter-widgets/controls",
     "model_module_version": "1.5.0",
     "model_name": "DescriptionStyleModel",
     "state": {
      "_model_module": "@jupyter-widgets/controls",
      "_model_module_version": "1.5.0",
      "_model_name": "DescriptionStyleModel",
      "_view_count": null,
      "_view_module": "@jupyter-widgets/base",
      "_view_module_version": "1.2.0",
      "_view_name": "StyleView",
      "description_width": ""
     }
    },
    "66c1e41b80094ee2947f28ab16b2fd66": {
     "model_module": "@jupyter-widgets/base",
     "model_module_version": "1.2.0",
     "model_name": "LayoutModel",
     "state": {
      "_model_module": "@jupyter-widgets/base",
      "_model_module_version": "1.2.0",
      "_model_name": "LayoutModel",
      "_view_count": null,
      "_view_module": "@jupyter-widgets/base",
      "_view_module_version": "1.2.0",
      "_view_name": "LayoutView",
      "align_content": null,
      "align_items": null,
      "align_self": null,
      "border": null,
      "bottom": null,
      "display": null,
      "flex": null,
      "flex_flow": null,
      "grid_area": null,
      "grid_auto_columns": null,
      "grid_auto_flow": null,
      "grid_auto_rows": null,
      "grid_column": null,
      "grid_gap": null,
      "grid_row": null,
      "grid_template_areas": null,
      "grid_template_columns": null,
      "grid_template_rows": null,
      "height": null,
      "justify_content": null,
      "justify_items": null,
      "left": null,
      "margin": null,
      "max_height": null,
      "max_width": null,
      "min_height": null,
      "min_width": null,
      "object_fit": null,
      "object_position": null,
      "order": null,
      "overflow": null,
      "overflow_x": null,
      "overflow_y": null,
      "padding": null,
      "right": null,
      "top": null,
      "visibility": null,
      "width": null
     }
    },
    "69ec0996dc30430f9bb3a74ccee5c29c": {
     "model_module": "@jupyter-widgets/base",
     "model_module_version": "1.2.0",
     "model_name": "LayoutModel",
     "state": {
      "_model_module": "@jupyter-widgets/base",
      "_model_module_version": "1.2.0",
      "_model_name": "LayoutModel",
      "_view_count": null,
      "_view_module": "@jupyter-widgets/base",
      "_view_module_version": "1.2.0",
      "_view_name": "LayoutView",
      "align_content": null,
      "align_items": null,
      "align_self": null,
      "border": null,
      "bottom": null,
      "display": null,
      "flex": null,
      "flex_flow": null,
      "grid_area": null,
      "grid_auto_columns": null,
      "grid_auto_flow": null,
      "grid_auto_rows": null,
      "grid_column": null,
      "grid_gap": null,
      "grid_row": null,
      "grid_template_areas": null,
      "grid_template_columns": null,
      "grid_template_rows": null,
      "height": null,
      "justify_content": null,
      "justify_items": null,
      "left": null,
      "margin": null,
      "max_height": null,
      "max_width": null,
      "min_height": null,
      "min_width": null,
      "object_fit": null,
      "object_position": null,
      "order": null,
      "overflow": null,
      "overflow_x": null,
      "overflow_y": null,
      "padding": null,
      "right": null,
      "top": null,
      "visibility": null,
      "width": null
     }
    },
    "6d96d94889384fc7aaa44f1ccfe68028": {
     "model_module": "@jupyter-widgets/controls",
     "model_module_version": "1.5.0",
     "model_name": "FloatProgressModel",
     "state": {
      "_dom_classes": [],
      "_model_module": "@jupyter-widgets/controls",
      "_model_module_version": "1.5.0",
      "_model_name": "FloatProgressModel",
      "_view_count": null,
      "_view_module": "@jupyter-widgets/controls",
      "_view_module_version": "1.5.0",
      "_view_name": "ProgressView",
      "bar_style": "success",
      "description": "",
      "description_tooltip": null,
      "layout": "IPY_MODEL_b6bc3225484c4a3a9305fefc60c0ead8",
      "max": 150,
      "min": 0,
      "orientation": "horizontal",
      "style": "IPY_MODEL_b1683e706fc1472a98893b0776f987a6",
      "value": 150
     }
    },
    "6ec5c16b8233433e8a282c59686b2d3d": {
     "model_module": "@jupyter-widgets/controls",
     "model_module_version": "1.5.0",
     "model_name": "HTMLModel",
     "state": {
      "_dom_classes": [],
      "_model_module": "@jupyter-widgets/controls",
      "_model_module_version": "1.5.0",
      "_model_name": "HTMLModel",
      "_view_count": null,
      "_view_module": "@jupyter-widgets/controls",
      "_view_module_version": "1.5.0",
      "_view_name": "HTMLView",
      "description": "",
      "description_tooltip": null,
      "layout": "IPY_MODEL_0d295fd759d34fabbf4a9422a786fe4d",
      "placeholder": "​",
      "style": "IPY_MODEL_66491c31e98b47c6a0d02a2d7d31c7c5",
      "value": " 899k/899k [00:00&lt;00:00, 1.68MB/s]"
     }
    },
    "7393cabc231349bdaded597ab52f6ae0": {
     "model_module": "@jupyter-widgets/controls",
     "model_module_version": "1.5.0",
     "model_name": "HBoxModel",
     "state": {
      "_dom_classes": [],
      "_model_module": "@jupyter-widgets/controls",
      "_model_module_version": "1.5.0",
      "_model_name": "HBoxModel",
      "_view_count": null,
      "_view_module": "@jupyter-widgets/controls",
      "_view_module_version": "1.5.0",
      "_view_name": "HBoxView",
      "box_style": "",
      "children": [
       "IPY_MODEL_34c5bbf0edf54b6099b5c65715ba8fff",
       "IPY_MODEL_5c2947604a1042ccba4c53d0366047e1",
       "IPY_MODEL_5b7fec683e2b47e9a092e8d1f8f0096e"
      ],
      "layout": "IPY_MODEL_740e7a239972477582de90eb814ff9e2"
     }
    },
    "740e7a239972477582de90eb814ff9e2": {
     "model_module": "@jupyter-widgets/base",
     "model_module_version": "1.2.0",
     "model_name": "LayoutModel",
     "state": {
      "_model_module": "@jupyter-widgets/base",
      "_model_module_version": "1.2.0",
      "_model_name": "LayoutModel",
      "_view_count": null,
      "_view_module": "@jupyter-widgets/base",
      "_view_module_version": "1.2.0",
      "_view_name": "LayoutView",
      "align_content": null,
      "align_items": null,
      "align_self": null,
      "border": null,
      "bottom": null,
      "display": null,
      "flex": null,
      "flex_flow": null,
      "grid_area": null,
      "grid_auto_columns": null,
      "grid_auto_flow": null,
      "grid_auto_rows": null,
      "grid_column": null,
      "grid_gap": null,
      "grid_row": null,
      "grid_template_areas": null,
      "grid_template_columns": null,
      "grid_template_rows": null,
      "height": null,
      "justify_content": null,
      "justify_items": null,
      "left": null,
      "margin": null,
      "max_height": null,
      "max_width": null,
      "min_height": null,
      "min_width": null,
      "object_fit": null,
      "object_position": null,
      "order": null,
      "overflow": null,
      "overflow_x": null,
      "overflow_y": null,
      "padding": null,
      "right": null,
      "top": null,
      "visibility": null,
      "width": null
     }
    },
    "8c6362ecf6784e5fb7b3572607e17452": {
     "model_module": "@jupyter-widgets/controls",
     "model_module_version": "1.5.0",
     "model_name": "HTMLModel",
     "state": {
      "_dom_classes": [],
      "_model_module": "@jupyter-widgets/controls",
      "_model_module_version": "1.5.0",
      "_model_name": "HTMLModel",
      "_view_count": null,
      "_view_module": "@jupyter-widgets/controls",
      "_view_module_version": "1.5.0",
      "_view_name": "HTMLView",
      "description": "",
      "description_tooltip": null,
      "layout": "IPY_MODEL_aa907315ebef4ac689284dec412c95f5",
      "placeholder": "​",
      "style": "IPY_MODEL_a73438d1163541498047db489d959072",
      "value": " 150/150 [00:00&lt;00:00, 862B/s]"
     }
    },
    "93b9372110d34d39ae64f9db58f13db0": {
     "model_module": "@jupyter-widgets/controls",
     "model_module_version": "1.5.0",
     "model_name": "HTMLModel",
     "state": {
      "_dom_classes": [],
      "_model_module": "@jupyter-widgets/controls",
      "_model_module_version": "1.5.0",
      "_model_name": "HTMLModel",
      "_view_count": null,
      "_view_module": "@jupyter-widgets/controls",
      "_view_module_version": "1.5.0",
      "_view_name": "HTMLView",
      "description": "",
      "description_tooltip": null,
      "layout": "IPY_MODEL_f83405b572bb4741a75ec9f740d6d9db",
      "placeholder": "​",
      "style": "IPY_MODEL_0cdf18f9044140df8dfcff23c78efde1",
      "value": "Downloading: 100%"
     }
    },
    "96310eb8ed1545b39af958fffab60798": {
     "model_module": "@jupyter-widgets/controls",
     "model_module_version": "1.5.0",
     "model_name": "ProgressStyleModel",
     "state": {
      "_model_module": "@jupyter-widgets/controls",
      "_model_module_version": "1.5.0",
      "_model_name": "ProgressStyleModel",
      "_view_count": null,
      "_view_module": "@jupyter-widgets/base",
      "_view_module_version": "1.2.0",
      "_view_name": "StyleView",
      "bar_color": null,
      "description_width": ""
     }
    },
    "9821d6a63f23441ea6ff3cb223087a2a": {
     "model_module": "@jupyter-widgets/base",
     "model_module_version": "1.2.0",
     "model_name": "LayoutModel",
     "state": {
      "_model_module": "@jupyter-widgets/base",
      "_model_module_version": "1.2.0",
      "_model_name": "LayoutModel",
      "_view_count": null,
      "_view_module": "@jupyter-widgets/base",
      "_view_module_version": "1.2.0",
      "_view_name": "LayoutView",
      "align_content": null,
      "align_items": null,
      "align_self": null,
      "border": null,
      "bottom": null,
      "display": null,
      "flex": null,
      "flex_flow": null,
      "grid_area": null,
      "grid_auto_columns": null,
      "grid_auto_flow": null,
      "grid_auto_rows": null,
      "grid_column": null,
      "grid_gap": null,
      "grid_row": null,
      "grid_template_areas": null,
      "grid_template_columns": null,
      "grid_template_rows": null,
      "height": null,
      "justify_content": null,
      "justify_items": null,
      "left": null,
      "margin": null,
      "max_height": null,
      "max_width": null,
      "min_height": null,
      "min_width": null,
      "object_fit": null,
      "object_position": null,
      "order": null,
      "overflow": null,
      "overflow_x": null,
      "overflow_y": null,
      "padding": null,
      "right": null,
      "top": null,
      "visibility": null,
      "width": null
     }
    },
    "a23b485702134c569546d6bba4c8bb2d": {
     "model_module": "@jupyter-widgets/base",
     "model_module_version": "1.2.0",
     "model_name": "LayoutModel",
     "state": {
      "_model_module": "@jupyter-widgets/base",
      "_model_module_version": "1.2.0",
      "_model_name": "LayoutModel",
      "_view_count": null,
      "_view_module": "@jupyter-widgets/base",
      "_view_module_version": "1.2.0",
      "_view_name": "LayoutView",
      "align_content": null,
      "align_items": null,
      "align_self": null,
      "border": null,
      "bottom": null,
      "display": null,
      "flex": null,
      "flex_flow": null,
      "grid_area": null,
      "grid_auto_columns": null,
      "grid_auto_flow": null,
      "grid_auto_rows": null,
      "grid_column": null,
      "grid_gap": null,
      "grid_row": null,
      "grid_template_areas": null,
      "grid_template_columns": null,
      "grid_template_rows": null,
      "height": null,
      "justify_content": null,
      "justify_items": null,
      "left": null,
      "margin": null,
      "max_height": null,
      "max_width": null,
      "min_height": null,
      "min_width": null,
      "object_fit": null,
      "object_position": null,
      "order": null,
      "overflow": null,
      "overflow_x": null,
      "overflow_y": null,
      "padding": null,
      "right": null,
      "top": null,
      "visibility": null,
      "width": null
     }
    },
    "a73438d1163541498047db489d959072": {
     "model_module": "@jupyter-widgets/controls",
     "model_module_version": "1.5.0",
     "model_name": "DescriptionStyleModel",
     "state": {
      "_model_module": "@jupyter-widgets/controls",
      "_model_module_version": "1.5.0",
      "_model_name": "DescriptionStyleModel",
      "_view_count": null,
      "_view_module": "@jupyter-widgets/base",
      "_view_module_version": "1.2.0",
      "_view_name": "StyleView",
      "description_width": ""
     }
    },
    "a86b290f3c724cea9bc156f83c90924c": {
     "model_module": "@jupyter-widgets/controls",
     "model_module_version": "1.5.0",
     "model_name": "DescriptionStyleModel",
     "state": {
      "_model_module": "@jupyter-widgets/controls",
      "_model_module_version": "1.5.0",
      "_model_name": "DescriptionStyleModel",
      "_view_count": null,
      "_view_module": "@jupyter-widgets/base",
      "_view_module_version": "1.2.0",
      "_view_name": "StyleView",
      "description_width": ""
     }
    },
    "aa907315ebef4ac689284dec412c95f5": {
     "model_module": "@jupyter-widgets/base",
     "model_module_version": "1.2.0",
     "model_name": "LayoutModel",
     "state": {
      "_model_module": "@jupyter-widgets/base",
      "_model_module_version": "1.2.0",
      "_model_name": "LayoutModel",
      "_view_count": null,
      "_view_module": "@jupyter-widgets/base",
      "_view_module_version": "1.2.0",
      "_view_name": "LayoutView",
      "align_content": null,
      "align_items": null,
      "align_self": null,
      "border": null,
      "bottom": null,
      "display": null,
      "flex": null,
      "flex_flow": null,
      "grid_area": null,
      "grid_auto_columns": null,
      "grid_auto_flow": null,
      "grid_auto_rows": null,
      "grid_column": null,
      "grid_gap": null,
      "grid_row": null,
      "grid_template_areas": null,
      "grid_template_columns": null,
      "grid_template_rows": null,
      "height": null,
      "justify_content": null,
      "justify_items": null,
      "left": null,
      "margin": null,
      "max_height": null,
      "max_width": null,
      "min_height": null,
      "min_width": null,
      "object_fit": null,
      "object_position": null,
      "order": null,
      "overflow": null,
      "overflow_x": null,
      "overflow_y": null,
      "padding": null,
      "right": null,
      "top": null,
      "visibility": null,
      "width": null
     }
    },
    "ab975d44e24b44979de55c1ed64cce3d": {
     "model_module": "@jupyter-widgets/base",
     "model_module_version": "1.2.0",
     "model_name": "LayoutModel",
     "state": {
      "_model_module": "@jupyter-widgets/base",
      "_model_module_version": "1.2.0",
      "_model_name": "LayoutModel",
      "_view_count": null,
      "_view_module": "@jupyter-widgets/base",
      "_view_module_version": "1.2.0",
      "_view_name": "LayoutView",
      "align_content": null,
      "align_items": null,
      "align_self": null,
      "border": null,
      "bottom": null,
      "display": null,
      "flex": null,
      "flex_flow": null,
      "grid_area": null,
      "grid_auto_columns": null,
      "grid_auto_flow": null,
      "grid_auto_rows": null,
      "grid_column": null,
      "grid_gap": null,
      "grid_row": null,
      "grid_template_areas": null,
      "grid_template_columns": null,
      "grid_template_rows": null,
      "height": null,
      "justify_content": null,
      "justify_items": null,
      "left": null,
      "margin": null,
      "max_height": null,
      "max_width": null,
      "min_height": null,
      "min_width": null,
      "object_fit": null,
      "object_position": null,
      "order": null,
      "overflow": null,
      "overflow_x": null,
      "overflow_y": null,
      "padding": null,
      "right": null,
      "top": null,
      "visibility": null,
      "width": null
     }
    },
    "ae41d3afce0a431da2ddb9f10ab3d295": {
     "model_module": "@jupyter-widgets/controls",
     "model_module_version": "1.5.0",
     "model_name": "HTMLModel",
     "state": {
      "_dom_classes": [],
      "_model_module": "@jupyter-widgets/controls",
      "_model_module_version": "1.5.0",
      "_model_name": "HTMLModel",
      "_view_count": null,
      "_view_module": "@jupyter-widgets/controls",
      "_view_module_version": "1.5.0",
      "_view_name": "HTMLView",
      "description": "",
      "description_tooltip": null,
      "layout": "IPY_MODEL_66c1e41b80094ee2947f28ab16b2fd66",
      "placeholder": "​",
      "style": "IPY_MODEL_f32cc5d057f54026b81d7cca0e3f286a",
      "value": "Downloading: 100%"
     }
    },
    "b069be4b8e5b49c7b057179c0d48c027": {
     "model_module": "@jupyter-widgets/controls",
     "model_module_version": "1.5.0",
     "model_name": "ProgressStyleModel",
     "state": {
      "_model_module": "@jupyter-widgets/controls",
      "_model_module_version": "1.5.0",
      "_model_name": "ProgressStyleModel",
      "_view_count": null,
      "_view_module": "@jupyter-widgets/base",
      "_view_module_version": "1.2.0",
      "_view_name": "StyleView",
      "bar_color": null,
      "description_width": ""
     }
    },
    "b1683e706fc1472a98893b0776f987a6": {
     "model_module": "@jupyter-widgets/controls",
     "model_module_version": "1.5.0",
     "model_name": "ProgressStyleModel",
     "state": {
      "_model_module": "@jupyter-widgets/controls",
      "_model_module_version": "1.5.0",
      "_model_name": "ProgressStyleModel",
      "_view_count": null,
      "_view_module": "@jupyter-widgets/base",
      "_view_module_version": "1.2.0",
      "_view_name": "StyleView",
      "bar_color": null,
      "description_width": ""
     }
    },
    "b6bc3225484c4a3a9305fefc60c0ead8": {
     "model_module": "@jupyter-widgets/base",
     "model_module_version": "1.2.0",
     "model_name": "LayoutModel",
     "state": {
      "_model_module": "@jupyter-widgets/base",
      "_model_module_version": "1.2.0",
      "_model_name": "LayoutModel",
      "_view_count": null,
      "_view_module": "@jupyter-widgets/base",
      "_view_module_version": "1.2.0",
      "_view_name": "LayoutView",
      "align_content": null,
      "align_items": null,
      "align_self": null,
      "border": null,
      "bottom": null,
      "display": null,
      "flex": null,
      "flex_flow": null,
      "grid_area": null,
      "grid_auto_columns": null,
      "grid_auto_flow": null,
      "grid_auto_rows": null,
      "grid_column": null,
      "grid_gap": null,
      "grid_row": null,
      "grid_template_areas": null,
      "grid_template_columns": null,
      "grid_template_rows": null,
      "height": null,
      "justify_content": null,
      "justify_items": null,
      "left": null,
      "margin": null,
      "max_height": null,
      "max_width": null,
      "min_height": null,
      "min_width": null,
      "object_fit": null,
      "object_position": null,
      "order": null,
      "overflow": null,
      "overflow_x": null,
      "overflow_y": null,
      "padding": null,
      "right": null,
      "top": null,
      "visibility": null,
      "width": null
     }
    },
    "b8425c21ced34fd39e7c268365e2f937": {
     "model_module": "@jupyter-widgets/base",
     "model_module_version": "1.2.0",
     "model_name": "LayoutModel",
     "state": {
      "_model_module": "@jupyter-widgets/base",
      "_model_module_version": "1.2.0",
      "_model_name": "LayoutModel",
      "_view_count": null,
      "_view_module": "@jupyter-widgets/base",
      "_view_module_version": "1.2.0",
      "_view_name": "LayoutView",
      "align_content": null,
      "align_items": null,
      "align_self": null,
      "border": null,
      "bottom": null,
      "display": null,
      "flex": null,
      "flex_flow": null,
      "grid_area": null,
      "grid_auto_columns": null,
      "grid_auto_flow": null,
      "grid_auto_rows": null,
      "grid_column": null,
      "grid_gap": null,
      "grid_row": null,
      "grid_template_areas": null,
      "grid_template_columns": null,
      "grid_template_rows": null,
      "height": null,
      "justify_content": null,
      "justify_items": null,
      "left": null,
      "margin": null,
      "max_height": null,
      "max_width": null,
      "min_height": null,
      "min_width": null,
      "object_fit": null,
      "object_position": null,
      "order": null,
      "overflow": null,
      "overflow_x": null,
      "overflow_y": null,
      "padding": null,
      "right": null,
      "top": null,
      "visibility": null,
      "width": null
     }
    },
    "c4973dddd2454f24b3dd3ef3f1624936": {
     "model_module": "@jupyter-widgets/base",
     "model_module_version": "1.2.0",
     "model_name": "LayoutModel",
     "state": {
      "_model_module": "@jupyter-widgets/base",
      "_model_module_version": "1.2.0",
      "_model_name": "LayoutModel",
      "_view_count": null,
      "_view_module": "@jupyter-widgets/base",
      "_view_module_version": "1.2.0",
      "_view_name": "LayoutView",
      "align_content": null,
      "align_items": null,
      "align_self": null,
      "border": null,
      "bottom": null,
      "display": null,
      "flex": null,
      "flex_flow": null,
      "grid_area": null,
      "grid_auto_columns": null,
      "grid_auto_flow": null,
      "grid_auto_rows": null,
      "grid_column": null,
      "grid_gap": null,
      "grid_row": null,
      "grid_template_areas": null,
      "grid_template_columns": null,
      "grid_template_rows": null,
      "height": null,
      "justify_content": null,
      "justify_items": null,
      "left": null,
      "margin": null,
      "max_height": null,
      "max_width": null,
      "min_height": null,
      "min_width": null,
      "object_fit": null,
      "object_position": null,
      "order": null,
      "overflow": null,
      "overflow_x": null,
      "overflow_y": null,
      "padding": null,
      "right": null,
      "top": null,
      "visibility": null,
      "width": null
     }
    },
    "c6c3ee4b330d4cd697e3569642f709ca": {
     "model_module": "@jupyter-widgets/controls",
     "model_module_version": "1.5.0",
     "model_name": "DescriptionStyleModel",
     "state": {
      "_model_module": "@jupyter-widgets/controls",
      "_model_module_version": "1.5.0",
      "_model_name": "DescriptionStyleModel",
      "_view_count": null,
      "_view_module": "@jupyter-widgets/base",
      "_view_module_version": "1.2.0",
      "_view_name": "StyleView",
      "description_width": ""
     }
    },
    "c9476e6e7dca4fd9a8c6fe9d6c528f6a": {
     "model_module": "@jupyter-widgets/base",
     "model_module_version": "1.2.0",
     "model_name": "LayoutModel",
     "state": {
      "_model_module": "@jupyter-widgets/base",
      "_model_module_version": "1.2.0",
      "_model_name": "LayoutModel",
      "_view_count": null,
      "_view_module": "@jupyter-widgets/base",
      "_view_module_version": "1.2.0",
      "_view_name": "LayoutView",
      "align_content": null,
      "align_items": null,
      "align_self": null,
      "border": null,
      "bottom": null,
      "display": null,
      "flex": null,
      "flex_flow": null,
      "grid_area": null,
      "grid_auto_columns": null,
      "grid_auto_flow": null,
      "grid_auto_rows": null,
      "grid_column": null,
      "grid_gap": null,
      "grid_row": null,
      "grid_template_areas": null,
      "grid_template_columns": null,
      "grid_template_rows": null,
      "height": null,
      "justify_content": null,
      "justify_items": null,
      "left": null,
      "margin": null,
      "max_height": null,
      "max_width": null,
      "min_height": null,
      "min_width": null,
      "object_fit": null,
      "object_position": null,
      "order": null,
      "overflow": null,
      "overflow_x": null,
      "overflow_y": null,
      "padding": null,
      "right": null,
      "top": null,
      "visibility": null,
      "width": null
     }
    },
    "cb687ebf461b44429dadb825142ac89f": {
     "model_module": "@jupyter-widgets/base",
     "model_module_version": "1.2.0",
     "model_name": "LayoutModel",
     "state": {
      "_model_module": "@jupyter-widgets/base",
      "_model_module_version": "1.2.0",
      "_model_name": "LayoutModel",
      "_view_count": null,
      "_view_module": "@jupyter-widgets/base",
      "_view_module_version": "1.2.0",
      "_view_name": "LayoutView",
      "align_content": null,
      "align_items": null,
      "align_self": null,
      "border": null,
      "bottom": null,
      "display": null,
      "flex": null,
      "flex_flow": null,
      "grid_area": null,
      "grid_auto_columns": null,
      "grid_auto_flow": null,
      "grid_auto_rows": null,
      "grid_column": null,
      "grid_gap": null,
      "grid_row": null,
      "grid_template_areas": null,
      "grid_template_columns": null,
      "grid_template_rows": null,
      "height": null,
      "justify_content": null,
      "justify_items": null,
      "left": null,
      "margin": null,
      "max_height": null,
      "max_width": null,
      "min_height": null,
      "min_width": null,
      "object_fit": null,
      "object_position": null,
      "order": null,
      "overflow": null,
      "overflow_x": null,
      "overflow_y": null,
      "padding": null,
      "right": null,
      "top": null,
      "visibility": null,
      "width": null
     }
    },
    "cb77d7f0a0fe49eaa3b77d1200459287": {
     "model_module": "@jupyter-widgets/controls",
     "model_module_version": "1.5.0",
     "model_name": "HBoxModel",
     "state": {
      "_dom_classes": [],
      "_model_module": "@jupyter-widgets/controls",
      "_model_module_version": "1.5.0",
      "_model_name": "HBoxModel",
      "_view_count": null,
      "_view_module": "@jupyter-widgets/controls",
      "_view_module_version": "1.5.0",
      "_view_name": "HBoxView",
      "box_style": "",
      "children": [
       "IPY_MODEL_93b9372110d34d39ae64f9db58f13db0",
       "IPY_MODEL_17c7d5cea2c94f9fb6042b79433d46df",
       "IPY_MODEL_33d2adc3b60a4567b580905d8b51f8ea"
      ],
      "layout": "IPY_MODEL_cb687ebf461b44429dadb825142ac89f"
     }
    },
    "ce8d27ee949e4355a8d525c02d164443": {
     "model_module": "@jupyter-widgets/base",
     "model_module_version": "1.2.0",
     "model_name": "LayoutModel",
     "state": {
      "_model_module": "@jupyter-widgets/base",
      "_model_module_version": "1.2.0",
      "_model_name": "LayoutModel",
      "_view_count": null,
      "_view_module": "@jupyter-widgets/base",
      "_view_module_version": "1.2.0",
      "_view_name": "LayoutView",
      "align_content": null,
      "align_items": null,
      "align_self": null,
      "border": null,
      "bottom": null,
      "display": null,
      "flex": null,
      "flex_flow": null,
      "grid_area": null,
      "grid_auto_columns": null,
      "grid_auto_flow": null,
      "grid_auto_rows": null,
      "grid_column": null,
      "grid_gap": null,
      "grid_row": null,
      "grid_template_areas": null,
      "grid_template_columns": null,
      "grid_template_rows": null,
      "height": null,
      "justify_content": null,
      "justify_items": null,
      "left": null,
      "margin": null,
      "max_height": null,
      "max_width": null,
      "min_height": null,
      "min_width": null,
      "object_fit": null,
      "object_position": null,
      "order": null,
      "overflow": null,
      "overflow_x": null,
      "overflow_y": null,
      "padding": null,
      "right": null,
      "top": null,
      "visibility": null,
      "width": null
     }
    },
    "dae6b447584043b68d2af6ff82a82587": {
     "model_module": "@jupyter-widgets/controls",
     "model_module_version": "1.5.0",
     "model_name": "HTMLModel",
     "state": {
      "_dom_classes": [],
      "_model_module": "@jupyter-widgets/controls",
      "_model_module_version": "1.5.0",
      "_model_name": "HTMLModel",
      "_view_count": null,
      "_view_module": "@jupyter-widgets/controls",
      "_view_module_version": "1.5.0",
      "_view_name": "HTMLView",
      "description": "",
      "description_tooltip": null,
      "layout": "IPY_MODEL_ab975d44e24b44979de55c1ed64cce3d",
      "placeholder": "​",
      "style": "IPY_MODEL_a86b290f3c724cea9bc156f83c90924c",
      "value": " 747/747 [00:00&lt;00:00, 12.0kB/s]"
     }
    },
    "de1ec0188a1740afb4f488c6ac1499ff": {
     "model_module": "@jupyter-widgets/controls",
     "model_module_version": "1.5.0",
     "model_name": "DescriptionStyleModel",
     "state": {
      "_model_module": "@jupyter-widgets/controls",
      "_model_module_version": "1.5.0",
      "_model_name": "DescriptionStyleModel",
      "_view_count": null,
      "_view_module": "@jupyter-widgets/base",
      "_view_module_version": "1.2.0",
      "_view_name": "StyleView",
      "description_width": ""
     }
    },
    "e12b64ac74f54eeab08db0e333b09525": {
     "model_module": "@jupyter-widgets/controls",
     "model_module_version": "1.5.0",
     "model_name": "FloatProgressModel",
     "state": {
      "_dom_classes": [],
      "_model_module": "@jupyter-widgets/controls",
      "_model_module_version": "1.5.0",
      "_model_name": "FloatProgressModel",
      "_view_count": null,
      "_view_module": "@jupyter-widgets/controls",
      "_view_module_version": "1.5.0",
      "_view_name": "ProgressView",
      "bar_style": "success",
      "description": "",
      "description_tooltip": null,
      "layout": "IPY_MODEL_9821d6a63f23441ea6ff3cb223087a2a",
      "max": 898822,
      "min": 0,
      "orientation": "horizontal",
      "style": "IPY_MODEL_45321eb328d14f38a2a4cfd62907e75a",
      "value": 898822
     }
    },
    "f32cc5d057f54026b81d7cca0e3f286a": {
     "model_module": "@jupyter-widgets/controls",
     "model_module_version": "1.5.0",
     "model_name": "DescriptionStyleModel",
     "state": {
      "_model_module": "@jupyter-widgets/controls",
      "_model_module_version": "1.5.0",
      "_model_name": "DescriptionStyleModel",
      "_view_count": null,
      "_view_module": "@jupyter-widgets/base",
      "_view_module_version": "1.2.0",
      "_view_name": "StyleView",
      "description_width": ""
     }
    },
    "f72b765a1eee42d3b559ad082cd726e3": {
     "model_module": "@jupyter-widgets/base",
     "model_module_version": "1.2.0",
     "model_name": "LayoutModel",
     "state": {
      "_model_module": "@jupyter-widgets/base",
      "_model_module_version": "1.2.0",
      "_model_name": "LayoutModel",
      "_view_count": null,
      "_view_module": "@jupyter-widgets/base",
      "_view_module_version": "1.2.0",
      "_view_name": "LayoutView",
      "align_content": null,
      "align_items": null,
      "align_self": null,
      "border": null,
      "bottom": null,
      "display": null,
      "flex": null,
      "flex_flow": null,
      "grid_area": null,
      "grid_auto_columns": null,
      "grid_auto_flow": null,
      "grid_auto_rows": null,
      "grid_column": null,
      "grid_gap": null,
      "grid_row": null,
      "grid_template_areas": null,
      "grid_template_columns": null,
      "grid_template_rows": null,
      "height": null,
      "justify_content": null,
      "justify_items": null,
      "left": null,
      "margin": null,
      "max_height": null,
      "max_width": null,
      "min_height": null,
      "min_width": null,
      "object_fit": null,
      "object_position": null,
      "order": null,
      "overflow": null,
      "overflow_x": null,
      "overflow_y": null,
      "padding": null,
      "right": null,
      "top": null,
      "visibility": null,
      "width": null
     }
    },
    "f83405b572bb4741a75ec9f740d6d9db": {
     "model_module": "@jupyter-widgets/base",
     "model_module_version": "1.2.0",
     "model_name": "LayoutModel",
     "state": {
      "_model_module": "@jupyter-widgets/base",
      "_model_module_version": "1.2.0",
      "_model_name": "LayoutModel",
      "_view_count": null,
      "_view_module": "@jupyter-widgets/base",
      "_view_module_version": "1.2.0",
      "_view_name": "LayoutView",
      "align_content": null,
      "align_items": null,
      "align_self": null,
      "border": null,
      "bottom": null,
      "display": null,
      "flex": null,
      "flex_flow": null,
      "grid_area": null,
      "grid_auto_columns": null,
      "grid_auto_flow": null,
      "grid_auto_rows": null,
      "grid_column": null,
      "grid_gap": null,
      "grid_row": null,
      "grid_template_areas": null,
      "grid_template_columns": null,
      "grid_template_rows": null,
      "height": null,
      "justify_content": null,
      "justify_items": null,
      "left": null,
      "margin": null,
      "max_height": null,
      "max_width": null,
      "min_height": null,
      "min_width": null,
      "object_fit": null,
      "object_position": null,
      "order": null,
      "overflow": null,
      "overflow_x": null,
      "overflow_y": null,
      "padding": null,
      "right": null,
      "top": null,
      "visibility": null,
      "width": null
     }
    }
   }
  }
 },
 "nbformat": 4,
 "nbformat_minor": 1
}
