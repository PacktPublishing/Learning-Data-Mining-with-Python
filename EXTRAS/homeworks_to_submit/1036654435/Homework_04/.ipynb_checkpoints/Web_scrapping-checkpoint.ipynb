{
 "cells": [
  {
   "cell_type": "code",
   "execution_count": 2,
   "metadata": {},
   "outputs": [],
   "source": [
    "import pandas as pd\n",
    "import requests\n",
    "import re\n",
    "from bs4 import BeautifulSoup"
   ]
  },
  {
   "cell_type": "markdown",
   "metadata": {},
   "source": [
    "### Exercise 1"
   ]
  },
  {
   "cell_type": "code",
   "execution_count": 243,
   "metadata": {},
   "outputs": [
    {
     "name": "stdout",
     "output_type": "stream",
     "text": [
      "1 page status:  200\n",
      "2 page status:  200\n",
      "3 page status:  200\n",
      "4 page status:  200\n",
      "5 page status:  200\n",
      "6 page status:  200\n",
      "7 page status:  200\n",
      "8 page status:  200\n",
      "9 page status:  200\n",
      "10 page status:  200\n",
      "11 page status:  200\n",
      "12 page status:  200\n",
      "13 page status:  200\n",
      "14 page status:  200\n",
      "15 page status:  200\n",
      "16 page status:  200\n",
      "17 page status:  200\n",
      "18 page status:  200\n",
      "19 page status:  200\n",
      "20 page status:  200\n",
      "21 page status:  200\n",
      "22 page status:  200\n",
      "23 page status:  200\n",
      "24 page status:  200\n",
      "25 page status:  200\n",
      "26 page status:  200\n",
      "27 page status:  200\n",
      "28 page status:  200\n",
      "29 page status:  200\n",
      "30 page status:  200\n",
      "31 page status:  200\n",
      "32 page status:  200\n",
      "33 page status:  200\n",
      "34 page status:  200\n",
      "35 page status:  200\n",
      "36 page status:  200\n",
      "37 page status:  200\n",
      "38 page status:  200\n",
      "39 page status:  200\n",
      "40 page status:  200\n",
      "41 page status:  200\n",
      "42 page status:  200\n",
      "43 page status:  200\n",
      "44 page status:  200\n",
      "45 page status:  200\n",
      "46 page status:  200\n",
      "47 page status:  200\n",
      "48 page status:  200\n",
      "49 page status:  200\n",
      "50 page status:  200\n"
     ]
    }
   ],
   "source": [
    "name = []\n",
    "price = [] \n",
    "for page in range(1,51):\n",
    "    pages = requests.get(\"https://books.toscrape.com/catalogue/page-{}.html\".format(page))\n",
    "    #print(\"https://books.toscrape.com/page-{}.html\".format(page))\n",
    "    print(f\"{page} page status: \",pages.status_code)\n",
    "    soup = BeautifulSoup(pages.content, 'html.parser')\n",
    "    names = soup.select(\"div h3\")\n",
    "    prices = soup.select(\"div p.price_color\")\n",
    "\n",
    "    re_name = r'title=(.*\\\")'\n",
    "    re_price = r'.*>£(\\d+.\\d+).*'\n",
    "\n",
    "    for pick in names:\n",
    "        dat1 = re.findall(re_name,str(pick))\n",
    "        name.append(dat1[0].split('\"')[1])\n",
    "    for pick in prices:\n",
    "        dat2 = re.findall(re_price,str(pick))\n",
    "        price.append(float(dat2[0]))\n"
   ]
  },
  {
   "cell_type": "code",
   "execution_count": 246,
   "metadata": {},
   "outputs": [],
   "source": [
    "d = {\"Book_names\":name,\"Book_prices [Euros]\":price}\n",
    "data = pd.DataFrame(d)"
   ]
  },
  {
   "cell_type": "code",
   "execution_count": 247,
   "metadata": {},
   "outputs": [
    {
     "data": {
      "text/html": [
       "<div>\n",
       "<style scoped>\n",
       "    .dataframe tbody tr th:only-of-type {\n",
       "        vertical-align: middle;\n",
       "    }\n",
       "\n",
       "    .dataframe tbody tr th {\n",
       "        vertical-align: top;\n",
       "    }\n",
       "\n",
       "    .dataframe thead th {\n",
       "        text-align: right;\n",
       "    }\n",
       "</style>\n",
       "<table border=\"1\" class=\"dataframe\">\n",
       "  <thead>\n",
       "    <tr style=\"text-align: right;\">\n",
       "      <th></th>\n",
       "      <th>Book_names</th>\n",
       "      <th>Book_prices [Euros]</th>\n",
       "    </tr>\n",
       "  </thead>\n",
       "  <tbody>\n",
       "    <tr>\n",
       "      <th>0</th>\n",
       "      <td>A Light in the Attic</td>\n",
       "      <td>51.77</td>\n",
       "    </tr>\n",
       "    <tr>\n",
       "      <th>1</th>\n",
       "      <td>Tipping the Velvet</td>\n",
       "      <td>53.74</td>\n",
       "    </tr>\n",
       "    <tr>\n",
       "      <th>2</th>\n",
       "      <td>Soumission</td>\n",
       "      <td>50.10</td>\n",
       "    </tr>\n",
       "    <tr>\n",
       "      <th>3</th>\n",
       "      <td>Sharp Objects</td>\n",
       "      <td>47.82</td>\n",
       "    </tr>\n",
       "    <tr>\n",
       "      <th>4</th>\n",
       "      <td>Sapiens: A Brief History of Humankind</td>\n",
       "      <td>54.23</td>\n",
       "    </tr>\n",
       "    <tr>\n",
       "      <th>...</th>\n",
       "      <td>...</td>\n",
       "      <td>...</td>\n",
       "    </tr>\n",
       "    <tr>\n",
       "      <th>995</th>\n",
       "      <td>Alice in Wonderland (Alice's Adventures in Won...</td>\n",
       "      <td>55.53</td>\n",
       "    </tr>\n",
       "    <tr>\n",
       "      <th>996</th>\n",
       "      <td>Ajin: Demi-Human, Volume 1 (Ajin: Demi-Human #1)</td>\n",
       "      <td>57.06</td>\n",
       "    </tr>\n",
       "    <tr>\n",
       "      <th>997</th>\n",
       "      <td>A Spy's Devotion (The Regency Spies of London #1)</td>\n",
       "      <td>16.97</td>\n",
       "    </tr>\n",
       "    <tr>\n",
       "      <th>998</th>\n",
       "      <td>1st to Die (Women's Murder Club #1)</td>\n",
       "      <td>53.98</td>\n",
       "    </tr>\n",
       "    <tr>\n",
       "      <th>999</th>\n",
       "      <td>1,000 Places to See Before You Die</td>\n",
       "      <td>26.08</td>\n",
       "    </tr>\n",
       "  </tbody>\n",
       "</table>\n",
       "<p>1000 rows × 2 columns</p>\n",
       "</div>"
      ],
      "text/plain": [
       "                                            Book_names  Book_prices [Euros]\n",
       "0                                 A Light in the Attic                51.77\n",
       "1                                   Tipping the Velvet                53.74\n",
       "2                                           Soumission                50.10\n",
       "3                                        Sharp Objects                47.82\n",
       "4                Sapiens: A Brief History of Humankind                54.23\n",
       "..                                                 ...                  ...\n",
       "995  Alice in Wonderland (Alice's Adventures in Won...                55.53\n",
       "996   Ajin: Demi-Human, Volume 1 (Ajin: Demi-Human #1)                57.06\n",
       "997  A Spy's Devotion (The Regency Spies of London #1)                16.97\n",
       "998                1st to Die (Women's Murder Club #1)                53.98\n",
       "999                 1,000 Places to See Before You Die                26.08\n",
       "\n",
       "[1000 rows x 2 columns]"
      ]
     },
     "execution_count": 247,
     "metadata": {},
     "output_type": "execute_result"
    }
   ],
   "source": [
    "data"
   ]
  },
  {
   "cell_type": "code",
   "execution_count": null,
   "metadata": {},
   "outputs": [],
   "source": []
  }
 ],
 "metadata": {
  "kernelspec": {
   "display_name": "Python 3",
   "language": "python",
   "name": "python3"
  },
  "language_info": {
   "codemirror_mode": {
    "name": "ipython",
    "version": 3
   },
   "file_extension": ".py",
   "mimetype": "text/x-python",
   "name": "python",
   "nbconvert_exporter": "python",
   "pygments_lexer": "ipython3",
   "version": "3.7.2"
  },
  "vscode": {
   "interpreter": {
    "hash": "49cb93f377a7abe7414b7b0f21fb3017538004a126cf690fb524202736b7fb92"
   }
  }
 },
 "nbformat": 4,
 "nbformat_minor": 2
}
