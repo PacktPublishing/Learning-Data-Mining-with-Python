{
 "cells": [
  {
   "cell_type": "code",
   "execution_count": 27,
   "metadata": {},
   "outputs": [],
   "source": [
    "from textblob import TextBlob # libreria principal para NLP\n",
    "import pandas as pd # importar csv\n",
    "import numpy as np # manipular arrays\n",
    "from sklearn.model_selection import train_test_split # datos de training y testing\n",
    "from textblob.classifiers import NaiveBayesClassifier # clasificador 1\n",
    "from textblob.classifiers import DecisionTreeClassifier # clasificador 2\n",
    "import psutil # lectura de ram y cpu"
   ]
  },
  {
   "cell_type": "code",
   "execution_count": 2,
   "metadata": {},
   "outputs": [
    {
     "data": {
      "text/html": [
       "<div>\n",
       "<style scoped>\n",
       "    .dataframe tbody tr th:only-of-type {\n",
       "        vertical-align: middle;\n",
       "    }\n",
       "\n",
       "    .dataframe tbody tr th {\n",
       "        vertical-align: top;\n",
       "    }\n",
       "\n",
       "    .dataframe thead th {\n",
       "        text-align: right;\n",
       "    }\n",
       "</style>\n",
       "<table border=\"1\" class=\"dataframe\">\n",
       "  <thead>\n",
       "    <tr style=\"text-align: right;\">\n",
       "      <th></th>\n",
       "      <th>labels</th>\n",
       "      <th>features</th>\n",
       "    </tr>\n",
       "  </thead>\n",
       "  <tbody>\n",
       "    <tr>\n",
       "      <th>0</th>\n",
       "      <td>neutral</td>\n",
       "      <td>what said</td>\n",
       "    </tr>\n",
       "    <tr>\n",
       "      <th>1</th>\n",
       "      <td>positive</td>\n",
       "      <td>plus you ve added commercials to the experien...</td>\n",
       "    </tr>\n",
       "    <tr>\n",
       "      <th>2</th>\n",
       "      <td>neutral</td>\n",
       "      <td>didn today must mean need to take another trip</td>\n",
       "    </tr>\n",
       "    <tr>\n",
       "      <th>3</th>\n",
       "      <td>negative</td>\n",
       "      <td>it really aggressive to blast obnoxious enter...</td>\n",
       "    </tr>\n",
       "    <tr>\n",
       "      <th>4</th>\n",
       "      <td>negative</td>\n",
       "      <td>and it a really big bad thing about it</td>\n",
       "    </tr>\n",
       "    <tr>\n",
       "      <th>...</th>\n",
       "      <td>...</td>\n",
       "      <td>...</td>\n",
       "    </tr>\n",
       "    <tr>\n",
       "      <th>14635</th>\n",
       "      <td>positive</td>\n",
       "      <td>thank you we got on different flight to chicago</td>\n",
       "    </tr>\n",
       "    <tr>\n",
       "      <th>14636</th>\n",
       "      <td>negative</td>\n",
       "      <td>leaving over minutes late flight no warnings ...</td>\n",
       "    </tr>\n",
       "    <tr>\n",
       "      <th>14637</th>\n",
       "      <td>neutral</td>\n",
       "      <td>please bring american airlines to blackberry</td>\n",
       "    </tr>\n",
       "    <tr>\n",
       "      <th>14638</th>\n",
       "      <td>negative</td>\n",
       "      <td>you have my money you change my flight and do...</td>\n",
       "    </tr>\n",
       "    <tr>\n",
       "      <th>14639</th>\n",
       "      <td>neutral</td>\n",
       "      <td>we have ppl so we need know how many seats ar...</td>\n",
       "    </tr>\n",
       "  </tbody>\n",
       "</table>\n",
       "<p>14640 rows × 2 columns</p>\n",
       "</div>"
      ],
      "text/plain": [
       "         labels                                           features\n",
       "0       neutral                                         what said \n",
       "1      positive   plus you ve added commercials to the experien...\n",
       "2       neutral    didn today must mean need to take another trip \n",
       "3      negative   it really aggressive to blast obnoxious enter...\n",
       "4      negative             and it a really big bad thing about it\n",
       "...         ...                                                ...\n",
       "14635  positive   thank you we got on different flight to chicago \n",
       "14636  negative   leaving over minutes late flight no warnings ...\n",
       "14637   neutral      please bring american airlines to blackberry \n",
       "14638  negative   you have my money you change my flight and do...\n",
       "14639   neutral   we have ppl so we need know how many seats ar...\n",
       "\n",
       "[14640 rows x 2 columns]"
      ]
     },
     "execution_count": 2,
     "metadata": {},
     "output_type": "execute_result"
    }
   ],
   "source": [
    "# Se selecciona los datos preparados.\n",
    "df = pd.read_csv(\"prepared_data.csv\")\n",
    "df"
   ]
  },
  {
   "cell_type": "code",
   "execution_count": 3,
   "metadata": {},
   "outputs": [
    {
     "name": "stderr",
     "output_type": "stream",
     "text": [
      "C:\\Users\\sergi\\AppData\\Local\\Temp\\ipykernel_16036\\3058638493.py:2: SettingWithCopyWarning: \n",
      "A value is trying to be set on a copy of a slice from a DataFrame.\n",
      "Try using .loc[row_indexer,col_indexer] = value instead\n",
      "\n",
      "See the caveats in the documentation: https://pandas.pydata.org/pandas-docs/stable/user_guide/indexing.html#returning-a-view-versus-a-copy\n",
      "  df.labels = df.labels.apply(lambda x:\n"
     ]
    }
   ],
   "source": [
    "''' \n",
    "Para realizar adecuadamente la clasificacion, se cambia positiva -> pos, negative -> neg\n",
    "Ademas se descarta los datos que sean neutrales.\n",
    "'''\n",
    "\n",
    "df = df[(df.labels == 'negative') | (df.labels == 'positive')]\n",
    "df.labels = df.labels.apply(lambda x: \n",
    "    'pos' if(x == 'positive') else 'neg'   \n",
    ");"
   ]
  },
  {
   "cell_type": "code",
   "execution_count": 4,
   "metadata": {},
   "outputs": [
    {
     "data": {
      "text/html": [
       "<div>\n",
       "<style scoped>\n",
       "    .dataframe tbody tr th:only-of-type {\n",
       "        vertical-align: middle;\n",
       "    }\n",
       "\n",
       "    .dataframe tbody tr th {\n",
       "        vertical-align: top;\n",
       "    }\n",
       "\n",
       "    .dataframe thead th {\n",
       "        text-align: right;\n",
       "    }\n",
       "</style>\n",
       "<table border=\"1\" class=\"dataframe\">\n",
       "  <thead>\n",
       "    <tr style=\"text-align: right;\">\n",
       "      <th></th>\n",
       "      <th>labels</th>\n",
       "      <th>features</th>\n",
       "    </tr>\n",
       "  </thead>\n",
       "  <tbody>\n",
       "    <tr>\n",
       "      <th>1</th>\n",
       "      <td>pos</td>\n",
       "      <td>plus you ve added commercials to the experien...</td>\n",
       "    </tr>\n",
       "    <tr>\n",
       "      <th>3</th>\n",
       "      <td>neg</td>\n",
       "      <td>it really aggressive to blast obnoxious enter...</td>\n",
       "    </tr>\n",
       "    <tr>\n",
       "      <th>4</th>\n",
       "      <td>neg</td>\n",
       "      <td>and it a really big bad thing about it</td>\n",
       "    </tr>\n",
       "    <tr>\n",
       "      <th>5</th>\n",
       "      <td>neg</td>\n",
       "      <td>seriously would pay flight for seats that did...</td>\n",
       "    </tr>\n",
       "    <tr>\n",
       "      <th>6</th>\n",
       "      <td>pos</td>\n",
       "      <td>yes nearly every time fly vx this ear worm wo...</td>\n",
       "    </tr>\n",
       "    <tr>\n",
       "      <th>...</th>\n",
       "      <td>...</td>\n",
       "      <td>...</td>\n",
       "    </tr>\n",
       "    <tr>\n",
       "      <th>14633</th>\n",
       "      <td>neg</td>\n",
       "      <td>my flight was cancelled flightled leaving tom...</td>\n",
       "    </tr>\n",
       "    <tr>\n",
       "      <th>14634</th>\n",
       "      <td>neg</td>\n",
       "      <td>right on cue with the delays</td>\n",
       "    </tr>\n",
       "    <tr>\n",
       "      <th>14635</th>\n",
       "      <td>pos</td>\n",
       "      <td>thank you we got on different flight to chicago</td>\n",
       "    </tr>\n",
       "    <tr>\n",
       "      <th>14636</th>\n",
       "      <td>neg</td>\n",
       "      <td>leaving over minutes late flight no warnings ...</td>\n",
       "    </tr>\n",
       "    <tr>\n",
       "      <th>14638</th>\n",
       "      <td>neg</td>\n",
       "      <td>you have my money you change my flight and do...</td>\n",
       "    </tr>\n",
       "  </tbody>\n",
       "</table>\n",
       "<p>11541 rows × 2 columns</p>\n",
       "</div>"
      ],
      "text/plain": [
       "      labels                                           features\n",
       "1        pos   plus you ve added commercials to the experien...\n",
       "3        neg   it really aggressive to blast obnoxious enter...\n",
       "4        neg             and it a really big bad thing about it\n",
       "5        neg   seriously would pay flight for seats that did...\n",
       "6        pos   yes nearly every time fly vx this ear worm wo...\n",
       "...      ...                                                ...\n",
       "14633    neg   my flight was cancelled flightled leaving tom...\n",
       "14634    neg                      right on cue with the delays \n",
       "14635    pos   thank you we got on different flight to chicago \n",
       "14636    neg   leaving over minutes late flight no warnings ...\n",
       "14638    neg   you have my money you change my flight and do...\n",
       "\n",
       "[11541 rows x 2 columns]"
      ]
     },
     "execution_count": 4,
     "metadata": {},
     "output_type": "execute_result"
    }
   ],
   "source": [
    "df"
   ]
  },
  {
   "cell_type": "code",
   "execution_count": 5,
   "metadata": {},
   "outputs": [
    {
     "data": {
      "text/plain": [
       "neg    9178\n",
       "pos    2363\n",
       "Name: labels, dtype: int64"
      ]
     },
     "execution_count": 5,
     "metadata": {},
     "output_type": "execute_result"
    }
   ],
   "source": [
    "''' \n",
    "Se observa un desbalance que impide realizar una buena clasificacion, por lo que se va a reducir los datos con etiqueta \"neg\", para tener mejor\n",
    "balance.\n",
    "'''\n",
    "df.labels.value_counts()"
   ]
  },
  {
   "cell_type": "code",
   "execution_count": 6,
   "metadata": {},
   "outputs": [],
   "source": [
    "df_neg = df[df.labels == 'neg']\n",
    "df_pos = df[df.labels == 'pos']\n",
    "df_new = pd.concat([df_pos,df_neg[:3000]])"
   ]
  },
  {
   "cell_type": "code",
   "execution_count": 7,
   "metadata": {},
   "outputs": [
    {
     "data": {
      "text/plain": [
       "neg    3000\n",
       "pos    2363\n",
       "Name: labels, dtype: int64"
      ]
     },
     "execution_count": 7,
     "metadata": {},
     "output_type": "execute_result"
    }
   ],
   "source": [
    "df_new.labels.value_counts()"
   ]
  },
  {
   "cell_type": "code",
   "execution_count": 8,
   "metadata": {},
   "outputs": [],
   "source": [
    "# Se crea las listas de testing y training\n",
    "X_train, X_test, y_train, y_test = train_test_split(df_new.features, df_new.labels, test_size=0.2, random_state=0)"
   ]
  },
  {
   "cell_type": "code",
   "execution_count": 11,
   "metadata": {},
   "outputs": [],
   "source": [
    "# barra de progreso\n",
    "def printProgressBar (iteration, total, prefix = '', suffix = '', decimals = 1, length = 100, fill = '█', printEnd = \"\\r\\n\"):\n",
    "    \"\"\"\n",
    "    Call in a loop to create terminal progress bar\n",
    "    @params:\n",
    "        iteration   - Required  : current iteration (Int)\n",
    "        total       - Required  : total iterations (Int)\n",
    "        prefix      - Optional  : prefix string (Str)\n",
    "        suffix      - Optional  : suffix string (Str)\n",
    "        decimals    - Optional  : positive number of decimals in percent complete (Int)\n",
    "        length      - Optional  : character length of bar (Int)\n",
    "        fill        - Optional  : bar fill character (Str)\n",
    "        printEnd    - Optional  : end character (e.g. \"\\r\", \"\\r\\n\") (Str)\n",
    "    \"\"\"\n",
    "    percent = (\"{0:.\" + str(decimals) + \"f}\").format(100 * (iteration / float(total)))\n",
    "    filledLength = int(length * iteration // total)\n",
    "    bar = fill * filledLength + '-' * (length - filledLength)\n",
    "    print(f'\\r{prefix} |{bar}| {percent}% {suffix}', end = printEnd)\n",
    "    # Print New Line on Complete\n",
    "    if iteration == total: \n",
    "        print()"
   ]
  },
  {
   "cell_type": "code",
   "execution_count": 29,
   "metadata": {},
   "outputs": [],
   "source": [
    "def txtblob_formatdata(x,y):\n",
    "    ''' \n",
    "    Funcion que permite generar listas con el formato requerido por Textblob para realizar la clasificacion: \n",
    "    el lemento tiene la siguiente sintaxis: [(feature),(target)]\n",
    "    '''\n",
    "    data = []\n",
    "    for i,j in enumerate(x):\n",
    "        #print(i,j)\n",
    "        data.append((j,y.tolist()[i]))\n",
    "    return data"
   ]
  },
  {
   "cell_type": "code",
   "execution_count": 13,
   "metadata": {},
   "outputs": [
    {
     "name": "stdout",
     "output_type": "stream",
     "text": [
      "Train lenght: 4290\n",
      "Test lenght: 1073\n"
     ]
    }
   ],
   "source": [
    "train = txtblob_formatdata(X_train,y_train)\n",
    "test = txtblob_formatdata(X_test,y_test)\n",
    "print(\"Train lenght:\",len(train))\n",
    "print(\"Test lenght:\",len(test))"
   ]
  },
  {
   "cell_type": "code",
   "execution_count": 14,
   "metadata": {},
   "outputs": [],
   "source": [
    "def batches(data_list,batch_sep):\n",
    "    ''' \n",
    "    Para optimizar la clasificacion, se realiza una separacion del dataset en paquetes.\n",
    "    '''\n",
    "    batches = []\n",
    "    batch_size = int(len(data_list)/batch_sep)\n",
    "    print(batch_sep,\"paquetes, cada uno tiene\",batch_size,\"datos.\")\n",
    "    for i in range(batch_sep):\n",
    "        data = data_list[i*batch_size:(i+1)*batch_size]\n",
    "        batches.append(data)\n",
    "    return batches"
   ]
  },
  {
   "cell_type": "code",
   "execution_count": 15,
   "metadata": {},
   "outputs": [
    {
     "name": "stdout",
     "output_type": "stream",
     "text": [
      "16 paquetes, cada uno tiene 268 datos.\n"
     ]
    }
   ],
   "source": [
    "batch_train = batches(train,16) # se obtuvo una lista de 16 paquetes cada uno con 268 features\n",
    "#batch_test = batches(test,16)"
   ]
  },
  {
   "cell_type": "code",
   "execution_count": 16,
   "metadata": {},
   "outputs": [
    {
     "name": "stdout",
     "output_type": "stream",
     "text": [
      " |██████----------------------------------------------------------------------------------------------| 6.7% \n",
      "The CPU usage is:  60.8\n",
      "RAM memory % used: 35.3\n",
      " |█████████████---------------------------------------------------------------------------------------| 13.3% \n",
      "The CPU usage is:  73.5\n",
      "RAM memory % used: 34.8\n",
      " |████████████████████--------------------------------------------------------------------------------| 20.0% \n",
      "The CPU usage is:  29.7\n",
      "RAM memory % used: 35.4\n",
      " |██████████████████████████--------------------------------------------------------------------------| 26.7% \n",
      "The CPU usage is:  24.1\n",
      "RAM memory % used: 36.0\n",
      " |█████████████████████████████████-------------------------------------------------------------------| 33.3% \n",
      "The CPU usage is:  23.6\n",
      "RAM memory % used: 36.7\n",
      " |████████████████████████████████████████------------------------------------------------------------| 40.0% \n",
      "The CPU usage is:  25.1\n",
      "RAM memory % used: 37.3\n",
      " |██████████████████████████████████████████████------------------------------------------------------| 46.7% \n",
      "The CPU usage is:  32.0\n",
      "RAM memory % used: 38.9\n",
      " |█████████████████████████████████████████████████████-----------------------------------------------| 53.3% \n",
      "The CPU usage is:  29.5\n",
      "RAM memory % used: 39.5\n",
      " |████████████████████████████████████████████████████████████----------------------------------------| 60.0% \n",
      "The CPU usage is:  27.6\n",
      "RAM memory % used: 40.9\n",
      " |██████████████████████████████████████████████████████████████████----------------------------------| 66.7% \n",
      "The CPU usage is:  27.4\n",
      "RAM memory % used: 42.2\n",
      " |█████████████████████████████████████████████████████████████████████████---------------------------| 73.3% \n",
      "The CPU usage is:  27.9\n",
      "RAM memory % used: 43.9\n",
      " |████████████████████████████████████████████████████████████████████████████████--------------------| 80.0% \n",
      "The CPU usage is:  27.9\n",
      "RAM memory % used: 45.4\n",
      " |██████████████████████████████████████████████████████████████████████████████████████--------------| 86.7% \n",
      "The CPU usage is:  26.8\n",
      "RAM memory % used: 50.4\n",
      " |█████████████████████████████████████████████████████████████████████████████████████████████-------| 93.3% \n",
      "The CPU usage is:  26.9\n",
      "RAM memory % used: 52.1\n",
      " |████████████████████████████████████████████████████████████████████████████████████████████████████| 100.0% \n",
      "\n",
      "The CPU usage is:  28.8\n",
      "RAM memory % used: 54.9\n"
     ]
    }
   ],
   "source": [
    "classifier = NaiveBayesClassifier(batch_train[0]) # se construye el clasificador con datos iniciales\n",
    "batch_sep = 15\n",
    "for i in range(batch_sep):\n",
    "    printProgressBar(i+1,batch_sep) # barra de progreso\n",
    "    print('The CPU usage is: ', psutil.cpu_percent()) # cpu usage\n",
    "    print('RAM memory % used:', psutil.virtual_memory()[2]) # ram usage\n",
    "    classifier.update(batch_train[i+1]) # añade datos nuevos contenidos en los paquetes construidos"
   ]
  },
  {
   "cell_type": "code",
   "execution_count": 21,
   "metadata": {},
   "outputs": [
    {
     "data": {
      "text/plain": [
       "<NaiveBayesClassifier trained on 4288 instances>"
      ]
     },
     "execution_count": 21,
     "metadata": {},
     "output_type": "execute_result"
    }
   ],
   "source": [
    "classifier # objetos entrenados"
   ]
  },
  {
   "cell_type": "code",
   "execution_count": 22,
   "metadata": {},
   "outputs": [
    {
     "name": "stdout",
     "output_type": "stream",
     "text": [
      "RAM memory % used: 55.5\n",
      "0.875116495806151\n"
     ]
    }
   ],
   "source": [
    "print('RAM memory % used:', psutil.virtual_memory()[2])\n",
    "print(classifier.accuracy(test)) # resultado de la clasificacion basado los datos de test construido anteriormente"
   ]
  },
  {
   "cell_type": "code",
   "execution_count": 23,
   "metadata": {},
   "outputs": [
    {
     "name": "stdout",
     "output_type": "stream",
     "text": [
      "Most Informative Features\n",
      "       contains(jetblue) = True              pos : neg    =     34.8 : 1.0\n",
      "         contains(thank) = True              pos : neg    =     19.4 : 1.0\n",
      "         contains(kudos) = True              pos : neg    =     18.0 : 1.0\n",
      "      contains(terrible) = True              neg : pos    =     17.8 : 1.0\n",
      "     contains(excellent) = True              pos : neg    =     17.2 : 1.0\n",
      "            contains(hr) = True              neg : pos    =     15.6 : 1.0\n",
      "         contains(until) = True              neg : pos    =     15.6 : 1.0\n",
      "        contains(online) = True              neg : pos    =     14.1 : 1.0\n",
      "         contains(hours) = True              neg : pos    =     13.8 : 1.0\n",
      "         contains(stuck) = True              neg : pos    =     13.5 : 1.0\n"
     ]
    }
   ],
   "source": [
    "classifier.show_informative_features() # listado de features informativos."
   ]
  },
  {
   "cell_type": "code",
   "execution_count": 25,
   "metadata": {},
   "outputs": [
    {
     "name": "stdout",
     "output_type": "stream",
     "text": [
      "pos\n"
     ]
    }
   ],
   "source": [
    "cl_test = TextBlob('this flight was awesome!',classifier=classifier) # prueba de clasificacion con texto creado\n",
    "print(cl_test.classify()) # resultado de prueba."
   ]
  },
  {
   "cell_type": "code",
   "execution_count": null,
   "metadata": {},
   "outputs": [],
   "source": []
  }
 ],
 "metadata": {
  "kernelspec": {
   "display_name": "Python 3",
   "language": "python",
   "name": "python3"
  },
  "language_info": {
   "codemirror_mode": {
    "name": "ipython",
    "version": 3
   },
   "file_extension": ".py",
   "mimetype": "text/x-python",
   "name": "python",
   "nbconvert_exporter": "python",
   "pygments_lexer": "ipython3",
   "version": "3.7.2"
  },
  "vscode": {
   "interpreter": {
    "hash": "88279d2366fe020547cde40dd65aa0e3aa662a6ec1f3ca12d88834876c85e1a6"
   }
  }
 },
 "nbformat": 4,
 "nbformat_minor": 2
}
