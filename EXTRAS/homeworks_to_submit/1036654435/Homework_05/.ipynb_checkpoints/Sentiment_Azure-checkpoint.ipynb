{
 "cells": [
  {
   "cell_type": "code",
   "execution_count": 97,
   "metadata": {},
   "outputs": [],
   "source": [
    "key = \"815b7cf3a0b548d78a2e911e4ea43ec8\" # long key\n",
    "endpoint = \"https://nlpudea.cognitiveservices.azure.com/\" # long endpoint\n",
    "\n",
    "from azure.ai.textanalytics import TextAnalyticsClient\n",
    "from azure.core.credentials import AzureKeyCredential\n",
    "\n",
    "# Authenticate the client using your key and endpoint \n",
    "def authenticate_client():\n",
    "    ta_credential = AzureKeyCredential(key)\n",
    "    text_analytics_client = TextAnalyticsClient(\n",
    "            endpoint=endpoint, \n",
    "            credential=ta_credential)\n",
    "    return text_analytics_client\n",
    "\n",
    "client = authenticate_client()"
   ]
  },
  {
   "cell_type": "code",
   "execution_count": 98,
   "metadata": {},
   "outputs": [],
   "source": [
    "# barra de progreso\n",
    "def printProgressBar (iteration, total, prefix = '', suffix = '', decimals = 1, length = 100, fill = '█', printEnd = \"\\r\\n\"):\n",
    "    \"\"\"\n",
    "    Call in a loop to create terminal progress bar\n",
    "    @params:\n",
    "        iteration   - Required  : current iteration (Int)\n",
    "        total       - Required  : total iterations (Int)\n",
    "        prefix      - Optional  : prefix string (Str)\n",
    "        suffix      - Optional  : suffix string (Str)\n",
    "        decimals    - Optional  : positive number of decimals in percent complete (Int)\n",
    "        length      - Optional  : character length of bar (Int)\n",
    "        fill        - Optional  : bar fill character (Str)\n",
    "        printEnd    - Optional  : end character (e.g. \"\\r\", \"\\r\\n\") (Str)\n",
    "    \"\"\"\n",
    "    percent = (\"{0:.\" + str(decimals) + \"f}\").format(100 * (iteration / float(total)))\n",
    "    filledLength = int(length * iteration // total)\n",
    "    bar = fill * filledLength + '-' * (length - filledLength)\n",
    "    print(f'\\r{prefix} |{bar}| {percent}% {suffix}', end = printEnd)\n",
    "    # Print New Line on Complete\n",
    "    if iteration == total: \n",
    "        print()"
   ]
  },
  {
   "cell_type": "code",
   "execution_count": 112,
   "metadata": {},
   "outputs": [],
   "source": [
    "# Example method for detecting sentiment and opinions in text \n",
    "def sentiment_analysis_with_opinion_mining_example(client, documents):\n",
    "\n",
    "    result = client.analyze_sentiment(documents, show_opinion_mining=True)\n",
    "    doc_result = [doc for doc in result if not doc.is_error]\n",
    "\n",
    "    positive_reviews = [doc for doc in doc_result if doc.sentiment == \"positive\"]\n",
    "    negative_reviews = [doc for doc in doc_result if doc.sentiment == \"negative\"]\n",
    "\n",
    "    positive_mined_opinions = []\n",
    "    mixed_mined_opinions = []\n",
    "    negative_mined_opinions = []\n",
    "\n",
    "    list_sentiment = []\n",
    "\n",
    "    for i,document in enumerate(doc_result):\n",
    "        '''\n",
    "        print(\"Document Sentiment: {}\".format(document.sentiment))\n",
    "        print(\"Overall scores: positive={0:.2f}; neutral={1:.2f}; negative={2:.2f} \\n\".format(\n",
    "            document.confidence_scores.positive,\n",
    "            document.confidence_scores.neutral,\n",
    "            document.confidence_scores.negative,\n",
    "        ))'''\n",
    "        for j,sentence in enumerate(document.sentences):\n",
    "            #print(j,\"\\n\")\n",
    "            #printProgressBar(j+1,len(document.sentences))\n",
    "            '''\n",
    "            print(\"Sentence: {}\".format(sentence.text))\n",
    "            print(\"Sentence sentiment: {}\".format(sentence.sentiment))'''\n",
    "            list_sentiment.append(str(sentence.sentiment))\n",
    "            '''print(\"Sentence score:\\nPositive={0:.2f}\\nNeutral={1:.2f}\\nNegative={2:.2f}\\n\".format(\n",
    "                sentence.confidence_scores.positive,\n",
    "                sentence.confidence_scores.neutral,\n",
    "                sentence.confidence_scores.negative,\n",
    "            ))'''\n",
    "            for mined_opinion in sentence.mined_opinions:\n",
    "                '''\n",
    "                target = mined_opinion.target\n",
    "                print(\"......'{}' target '{}'\".format(target.sentiment, target.text))\n",
    "                print(\"......Target score:\\n......Positive={0:.2f}\\n......Negative={1:.2f}\\n\".format(\n",
    "                    target.confidence_scores.positive,\n",
    "                    target.confidence_scores.negative,\n",
    "                ))'''\n",
    "                for assessment in mined_opinion.assessments:\n",
    "                    '''\n",
    "                    print(\"......'{}' assessment '{}'\".format(assessment.sentiment, assessment.text))\n",
    "                    print(\"......Assessment score:\\n......Positive={0:.2f}\\n......Negative={1:.2f}\\n\".format(\n",
    "                        assessment.confidence_scores.positive,\n",
    "                        assessment.confidence_scores.negative,\n",
    "                    ))'''\n",
    "            #print(\"\\n\")\n",
    "        #print(\"\\n\")\n",
    "\n",
    "    return list_sentiment\n",
    "          "
   ]
  },
  {
   "cell_type": "code",
   "execution_count": 37,
   "metadata": {},
   "outputs": [
    {
     "data": {
      "text/plain": [
       "14640"
      ]
     },
     "execution_count": 37,
     "metadata": {},
     "output_type": "execute_result"
    }
   ],
   "source": [
    "import pandas as pd\n",
    "df = pd.read_csv('prepared_data.csv')\n",
    "#df.head()\n",
    "\n",
    "documents = df.features.tolist()\n",
    "len(documents)"
   ]
  },
  {
   "cell_type": "code",
   "execution_count": 38,
   "metadata": {},
   "outputs": [
    {
     "name": "stdout",
     "output_type": "stream",
     "text": [
      "Size: 117176 Bytes\n"
     ]
    }
   ],
   "source": [
    "import sys\n",
    "print(\"Size:\",int(sys.getsizeof(documents)),\"Bytes\")"
   ]
  },
  {
   "cell_type": "markdown",
   "metadata": {},
   "source": [
    "El analisis no permite mas de 10 documentos por batch, ademas de que no se permite listas con un tamaño mayor a 1MB"
   ]
  },
  {
   "cell_type": "code",
   "execution_count": 39,
   "metadata": {},
   "outputs": [],
   "source": [
    "def batches(data_list,batch_sep):\n",
    "    ''' \n",
    "    Para optimizar la clasificacion, se realiza una separacion del dataset en paquetes.\n",
    "    '''\n",
    "    batches = []\n",
    "    batch_size = int(len(data_list)/batch_sep)\n",
    "    print(batch_sep,\"paquetes, cada uno tiene\",batch_size,\"datos.\")\n",
    "    for i in range(batch_sep):\n",
    "        data = data_list[i*batch_size:(i+1)*batch_size]\n",
    "        batches.append(data)\n",
    "    return batches"
   ]
  },
  {
   "cell_type": "code",
   "execution_count": 116,
   "metadata": {},
   "outputs": [
    {
     "name": "stdout",
     "output_type": "stream",
     "text": [
      "1464 paquetes, cada uno tiene 10 datos.\n",
      "[' what said ', ' plus you ve added commercials to the experience tacky ', ' didn today must mean need to take another trip ', ' it really aggressive to blast obnoxious entertainment in your guests faces amp they have little recourse', ' and it a really big bad thing about it', ' seriously would pay flight for seats that didn have this playing it really the only bad thing about flying va', ' yes nearly every time fly vx this ear worm won go away ', ' really missed prime opportunity for men without hats parody there grezp', ' well didn but now do d', ' it was amazing and arrived an hour early you re too good to me ']\n",
      "10\n"
     ]
    }
   ],
   "source": [
    "batch_prueba = batches(documents,1464)\n",
    "print(batch_prueba[0])\n",
    "print(len(batch_prueba[0]))\n",
    "\n",
    "sentiments_azure = []"
   ]
  },
  {
   "cell_type": "code",
   "execution_count": 113,
   "metadata": {},
   "outputs": [
    {
     "ename": "HttpResponseError",
     "evalue": "(403) Out of call volume quota for TextAnalytics F0 pricing tier. Please retry after 18 days. To increase your call volume switch to a paid tier.\nCode: 403\nMessage: Out of call volume quota for TextAnalytics F0 pricing tier. Please retry after 18 days. To increase your call volume switch to a paid tier.",
     "output_type": "error",
     "traceback": [
      "\u001b[1;31m---------------------------------------------------------------------------\u001b[0m",
      "\u001b[1;31mHttpResponseError\u001b[0m                         Traceback (most recent call last)",
      "File \u001b[1;32md:\\Anaconda\\lib\\site-packages\\azure\\ai\\textanalytics\\_text_analytics_client.py:991\u001b[0m, in \u001b[0;36mTextAnalyticsClient.analyze_sentiment\u001b[1;34m(self, documents, **kwargs)\u001b[0m\n\u001b[0;32m    988\u001b[0m     models \u001b[39m=\u001b[39m \u001b[39mself\u001b[39m\u001b[39m.\u001b[39m_client\u001b[39m.\u001b[39mmodels(api_version\u001b[39m=\u001b[39m\u001b[39mself\u001b[39m\u001b[39m.\u001b[39m_api_version)\n\u001b[0;32m    989\u001b[0m     \u001b[39mreturn\u001b[39;00m cast(\n\u001b[0;32m    990\u001b[0m         List[Union[AnalyzeSentimentResult, DocumentError]],\n\u001b[1;32m--> 991\u001b[0m         \u001b[39mself\u001b[39m\u001b[39m.\u001b[39m_client\u001b[39m.\u001b[39manalyze_text(\n\u001b[0;32m    992\u001b[0m             body\u001b[39m=\u001b[39mmodels\u001b[39m.\u001b[39mAnalyzeTextSentimentAnalysisInput(\n\u001b[0;32m    993\u001b[0m                 analysis_input\u001b[39m=\u001b[39m{\u001b[39m\"\u001b[39m\u001b[39mdocuments\u001b[39m\u001b[39m\"\u001b[39m: docs},\n\u001b[0;32m    994\u001b[0m                 parameters\u001b[39m=\u001b[39mmodels\u001b[39m.\u001b[39mSentimentAnalysisTaskParameters(\n\u001b[0;32m    995\u001b[0m                     logging_opt_out\u001b[39m=\u001b[39mdisable_service_logs,\n\u001b[0;32m    996\u001b[0m                     model_version\u001b[39m=\u001b[39mmodel_version,\n\u001b[0;32m    997\u001b[0m                     string_index_type\u001b[39m=\u001b[39mstring_index_type_compatibility(string_index_type),\n\u001b[0;32m    998\u001b[0m                     opinion_mining\u001b[39m=\u001b[39mshow_opinion_mining,\n\u001b[0;32m    999\u001b[0m                 )\n\u001b[0;32m   1000\u001b[0m             ),\n\u001b[0;32m   1001\u001b[0m             show_stats\u001b[39m=\u001b[39mshow_stats,\n\u001b[0;32m   1002\u001b[0m             \u001b[39mcls\u001b[39m\u001b[39m=\u001b[39mkwargs\u001b[39m.\u001b[39mpop(\u001b[39m\"\u001b[39m\u001b[39mcls\u001b[39m\u001b[39m\"\u001b[39m, sentiment_result),\n\u001b[0;32m   1003\u001b[0m             \u001b[39m*\u001b[39m\u001b[39m*\u001b[39mkwargs\n\u001b[0;32m   1004\u001b[0m         )\n\u001b[0;32m   1005\u001b[0m     )\n\u001b[0;32m   1007\u001b[0m \u001b[39m# api_versions 3.0, 3.1\u001b[39;00m\n",
      "File \u001b[1;32md:\\Anaconda\\lib\\site-packages\\azure\\ai\\textanalytics\\_generated\\_operations_mixin.py:109\u001b[0m, in \u001b[0;36mTextAnalyticsClientOperationsMixin.analyze_text\u001b[1;34m(self, body, show_stats, **kwargs)\u001b[0m\n\u001b[0;32m    108\u001b[0m mixin_instance\u001b[39m.\u001b[39m_deserialize \u001b[39m=\u001b[39m Deserializer(\u001b[39mself\u001b[39m\u001b[39m.\u001b[39m_models_dict(api_version))\n\u001b[1;32m--> 109\u001b[0m \u001b[39mreturn\u001b[39;00m mixin_instance\u001b[39m.\u001b[39manalyze_text(body, show_stats, \u001b[39m*\u001b[39m\u001b[39m*\u001b[39mkwargs)\n",
      "File \u001b[1;32md:\\Anaconda\\lib\\site-packages\\azure\\core\\tracing\\decorator.py:78\u001b[0m, in \u001b[0;36mdistributed_trace.<locals>.decorator.<locals>.wrapper_use_tracer\u001b[1;34m(*args, **kwargs)\u001b[0m\n\u001b[0;32m     77\u001b[0m \u001b[39mif\u001b[39;00m span_impl_type \u001b[39mis\u001b[39;00m \u001b[39mNone\u001b[39;00m:\n\u001b[1;32m---> 78\u001b[0m     \u001b[39mreturn\u001b[39;00m func(\u001b[39m*\u001b[39margs, \u001b[39m*\u001b[39m\u001b[39m*\u001b[39mkwargs)\n\u001b[0;32m     80\u001b[0m \u001b[39m# Merge span is parameter is set, but only if no explicit parent are passed\u001b[39;00m\n",
      "File \u001b[1;32md:\\Anaconda\\lib\\site-packages\\azure\\ai\\textanalytics\\_generated\\v2022_05_01\\operations\\_text_analytics_client_operations.py:290\u001b[0m, in \u001b[0;36mTextAnalyticsClientOperationsMixin.analyze_text\u001b[1;34m(self, body, show_stats, **kwargs)\u001b[0m\n\u001b[0;32m    288\u001b[0m request\u001b[39m.\u001b[39murl \u001b[39m=\u001b[39m \u001b[39mself\u001b[39m\u001b[39m.\u001b[39m_client\u001b[39m.\u001b[39mformat_url(request\u001b[39m.\u001b[39murl, \u001b[39m*\u001b[39m\u001b[39m*\u001b[39mpath_format_arguments)  \u001b[39m# type: ignore\u001b[39;00m\n\u001b[1;32m--> 290\u001b[0m pipeline_response \u001b[39m=\u001b[39m \u001b[39mself\u001b[39m\u001b[39m.\u001b[39m_client\u001b[39m.\u001b[39m_pipeline\u001b[39m.\u001b[39mrun(  \u001b[39m# type: ignore # pylint: disable=protected-access\u001b[39;00m\n\u001b[0;32m    291\u001b[0m     request,\n\u001b[0;32m    292\u001b[0m     stream\u001b[39m=\u001b[39m\u001b[39mFalse\u001b[39;00m,\n\u001b[0;32m    293\u001b[0m     \u001b[39m*\u001b[39m\u001b[39m*\u001b[39mkwargs\n\u001b[0;32m    294\u001b[0m )\n\u001b[0;32m    296\u001b[0m response \u001b[39m=\u001b[39m pipeline_response\u001b[39m.\u001b[39mhttp_response\n",
      "File \u001b[1;32md:\\Anaconda\\lib\\site-packages\\azure\\core\\pipeline\\_base.py:211\u001b[0m, in \u001b[0;36mPipeline.run\u001b[1;34m(self, request, **kwargs)\u001b[0m\n\u001b[0;32m    206\u001b[0m first_node \u001b[39m=\u001b[39m (\n\u001b[0;32m    207\u001b[0m     \u001b[39mself\u001b[39m\u001b[39m.\u001b[39m_impl_policies[\u001b[39m0\u001b[39m]\n\u001b[0;32m    208\u001b[0m     \u001b[39mif\u001b[39;00m \u001b[39mself\u001b[39m\u001b[39m.\u001b[39m_impl_policies\n\u001b[0;32m    209\u001b[0m     \u001b[39melse\u001b[39;00m _TransportRunner(\u001b[39mself\u001b[39m\u001b[39m.\u001b[39m_transport)\n\u001b[0;32m    210\u001b[0m )\n\u001b[1;32m--> 211\u001b[0m \u001b[39mreturn\u001b[39;00m first_node\u001b[39m.\u001b[39;49msend(pipeline_request)\n",
      "File \u001b[1;32md:\\Anaconda\\lib\\site-packages\\azure\\core\\pipeline\\_base.py:71\u001b[0m, in \u001b[0;36m_SansIOHTTPPolicyRunner.send\u001b[1;34m(self, request)\u001b[0m\n\u001b[0;32m     70\u001b[0m \u001b[39mtry\u001b[39;00m:\n\u001b[1;32m---> 71\u001b[0m     response \u001b[39m=\u001b[39m \u001b[39mself\u001b[39;49m\u001b[39m.\u001b[39;49mnext\u001b[39m.\u001b[39;49msend(request)\n\u001b[0;32m     72\u001b[0m \u001b[39mexcept\u001b[39;00m \u001b[39mException\u001b[39;00m:  \u001b[39m# pylint: disable=broad-except\u001b[39;00m\n",
      "File \u001b[1;32md:\\Anaconda\\lib\\site-packages\\azure\\core\\pipeline\\_base.py:71\u001b[0m, in \u001b[0;36m_SansIOHTTPPolicyRunner.send\u001b[1;34m(self, request)\u001b[0m\n\u001b[0;32m     70\u001b[0m \u001b[39mtry\u001b[39;00m:\n\u001b[1;32m---> 71\u001b[0m     response \u001b[39m=\u001b[39m \u001b[39mself\u001b[39;49m\u001b[39m.\u001b[39;49mnext\u001b[39m.\u001b[39;49msend(request)\n\u001b[0;32m     72\u001b[0m \u001b[39mexcept\u001b[39;00m \u001b[39mException\u001b[39;00m:  \u001b[39m# pylint: disable=broad-except\u001b[39;00m\n",
      "    \u001b[1;31m[... skipping similar frames: _SansIOHTTPPolicyRunner.send at line 71 (2 times)]\u001b[0m\n",
      "File \u001b[1;32md:\\Anaconda\\lib\\site-packages\\azure\\core\\pipeline\\_base.py:71\u001b[0m, in \u001b[0;36m_SansIOHTTPPolicyRunner.send\u001b[1;34m(self, request)\u001b[0m\n\u001b[0;32m     70\u001b[0m \u001b[39mtry\u001b[39;00m:\n\u001b[1;32m---> 71\u001b[0m     response \u001b[39m=\u001b[39m \u001b[39mself\u001b[39;49m\u001b[39m.\u001b[39;49mnext\u001b[39m.\u001b[39;49msend(request)\n\u001b[0;32m     72\u001b[0m \u001b[39mexcept\u001b[39;00m \u001b[39mException\u001b[39;00m:  \u001b[39m# pylint: disable=broad-except\u001b[39;00m\n",
      "File \u001b[1;32md:\\Anaconda\\lib\\site-packages\\azure\\core\\pipeline\\policies\\_redirect.py:158\u001b[0m, in \u001b[0;36mRedirectPolicy.send\u001b[1;34m(self, request)\u001b[0m\n\u001b[0;32m    157\u001b[0m \u001b[39mwhile\u001b[39;00m retryable:\n\u001b[1;32m--> 158\u001b[0m     response \u001b[39m=\u001b[39m \u001b[39mself\u001b[39;49m\u001b[39m.\u001b[39;49mnext\u001b[39m.\u001b[39;49msend(request)\n\u001b[0;32m    159\u001b[0m     redirect_location \u001b[39m=\u001b[39m \u001b[39mself\u001b[39m\u001b[39m.\u001b[39mget_redirect_location(response)\n",
      "File \u001b[1;32md:\\Anaconda\\lib\\site-packages\\azure\\core\\pipeline\\policies\\_retry.py:468\u001b[0m, in \u001b[0;36mRetryPolicy.send\u001b[1;34m(self, request)\u001b[0m\n\u001b[0;32m    467\u001b[0m             \u001b[39mcontinue\u001b[39;00m\n\u001b[1;32m--> 468\u001b[0m     \u001b[39mraise\u001b[39;00m err\n\u001b[0;32m    469\u001b[0m \u001b[39mfinally\u001b[39;00m:\n",
      "File \u001b[1;32md:\\Anaconda\\lib\\site-packages\\azure\\core\\pipeline\\policies\\_retry.py:446\u001b[0m, in \u001b[0;36mRetryPolicy.send\u001b[1;34m(self, request)\u001b[0m\n\u001b[0;32m    445\u001b[0m \u001b[39mself\u001b[39m\u001b[39m.\u001b[39m_configure_timeout(request, absolute_timeout, is_response_error)\n\u001b[1;32m--> 446\u001b[0m response \u001b[39m=\u001b[39m \u001b[39mself\u001b[39;49m\u001b[39m.\u001b[39;49mnext\u001b[39m.\u001b[39;49msend(request)\n\u001b[0;32m    447\u001b[0m \u001b[39mif\u001b[39;00m \u001b[39mself\u001b[39m\u001b[39m.\u001b[39mis_retry(retry_settings, response):\n",
      "File \u001b[1;32md:\\Anaconda\\lib\\site-packages\\azure\\core\\pipeline\\_base.py:71\u001b[0m, in \u001b[0;36m_SansIOHTTPPolicyRunner.send\u001b[1;34m(self, request)\u001b[0m\n\u001b[0;32m     70\u001b[0m \u001b[39mtry\u001b[39;00m:\n\u001b[1;32m---> 71\u001b[0m     response \u001b[39m=\u001b[39m \u001b[39mself\u001b[39;49m\u001b[39m.\u001b[39;49mnext\u001b[39m.\u001b[39;49msend(request)\n\u001b[0;32m     72\u001b[0m \u001b[39mexcept\u001b[39;00m \u001b[39mException\u001b[39;00m:  \u001b[39m# pylint: disable=broad-except\u001b[39;00m\n",
      "File \u001b[1;32md:\\Anaconda\\lib\\site-packages\\azure\\core\\pipeline\\_base.py:71\u001b[0m, in \u001b[0;36m_SansIOHTTPPolicyRunner.send\u001b[1;34m(self, request)\u001b[0m\n\u001b[0;32m     70\u001b[0m \u001b[39mtry\u001b[39;00m:\n\u001b[1;32m---> 71\u001b[0m     response \u001b[39m=\u001b[39m \u001b[39mself\u001b[39;49m\u001b[39m.\u001b[39;49mnext\u001b[39m.\u001b[39;49msend(request)\n\u001b[0;32m     72\u001b[0m \u001b[39mexcept\u001b[39;00m \u001b[39mException\u001b[39;00m:  \u001b[39m# pylint: disable=broad-except\u001b[39;00m\n",
      "File \u001b[1;32md:\\Anaconda\\lib\\site-packages\\azure\\core\\pipeline\\_base.py:76\u001b[0m, in \u001b[0;36m_SansIOHTTPPolicyRunner.send\u001b[1;34m(self, request)\u001b[0m\n\u001b[0;32m     75\u001b[0m \u001b[39melse\u001b[39;00m:\n\u001b[1;32m---> 76\u001b[0m     _await_result(\u001b[39mself\u001b[39;49m\u001b[39m.\u001b[39;49m_policy\u001b[39m.\u001b[39;49mon_response, request, response)\n\u001b[0;32m     77\u001b[0m \u001b[39mreturn\u001b[39;00m response\n",
      "File \u001b[1;32md:\\Anaconda\\lib\\site-packages\\azure\\core\\pipeline\\_tools.py:34\u001b[0m, in \u001b[0;36mawait_result\u001b[1;34m(func, *args, **kwargs)\u001b[0m\n\u001b[0;32m     33\u001b[0m \u001b[39m\"\"\"If func returns an awaitable, raise that this runner can't handle it.\"\"\"\u001b[39;00m\n\u001b[1;32m---> 34\u001b[0m result \u001b[39m=\u001b[39m func(\u001b[39m*\u001b[39margs, \u001b[39m*\u001b[39m\u001b[39m*\u001b[39mkwargs)\n\u001b[0;32m     35\u001b[0m \u001b[39mif\u001b[39;00m \u001b[39mhasattr\u001b[39m(result, \u001b[39m\"\u001b[39m\u001b[39m__await__\u001b[39m\u001b[39m\"\u001b[39m):\n",
      "File \u001b[1;32md:\\Anaconda\\lib\\site-packages\\azure\\ai\\textanalytics\\_policies.py:66\u001b[0m, in \u001b[0;36mQuotaExceededPolicy.on_response\u001b[1;34m(self, request, response)\u001b[0m\n\u001b[0;32m     64\u001b[0m \u001b[39mif\u001b[39;00m http_response\u001b[39m.\u001b[39mstatus_code \u001b[39m==\u001b[39m \u001b[39m403\u001b[39m \u001b[39mand\u001b[39;00m \\\n\u001b[0;32m     65\u001b[0m         \u001b[39m\"\u001b[39m\u001b[39mOut of call volume quota for TextAnalytics F0 pricing tier\u001b[39m\u001b[39m\"\u001b[39m \u001b[39min\u001b[39;00m http_response\u001b[39m.\u001b[39mtext():\n\u001b[1;32m---> 66\u001b[0m     \u001b[39mraise\u001b[39;00m HttpResponseError(http_response\u001b[39m.\u001b[39mtext(), response\u001b[39m=\u001b[39mhttp_response)\n",
      "\u001b[1;31mHttpResponseError\u001b[0m: (403) Out of call volume quota for TextAnalytics F0 pricing tier. Please retry after 18 days. To increase your call volume switch to a paid tier.\nCode: 403\nMessage: Out of call volume quota for TextAnalytics F0 pricing tier. Please retry after 18 days. To increase your call volume switch to a paid tier.",
      "\nThe above exception was the direct cause of the following exception:\n",
      "\u001b[1;31mHttpResponseError\u001b[0m                         Traceback (most recent call last)",
      "\u001b[1;32md:\\Cursos\\Mineria de datos\\Homework_05\\Sentiment_Azure.ipynb Celda 9\u001b[0m in \u001b[0;36m<cell line: 3>\u001b[1;34m()\u001b[0m\n\u001b[0;32m      <a href='vscode-notebook-cell:/d%3A/Cursos/Mineria%20de%20datos/Homework_05/Sentiment_Azure.ipynb#W3sZmlsZQ%3D%3D?line=1'>2</a>\u001b[0m L \u001b[39m=\u001b[39m \u001b[39mlen\u001b[39m(batch_prueba)\n\u001b[0;32m      <a href='vscode-notebook-cell:/d%3A/Cursos/Mineria%20de%20datos/Homework_05/Sentiment_Azure.ipynb#W3sZmlsZQ%3D%3D?line=2'>3</a>\u001b[0m \u001b[39mfor\u001b[39;00m i \u001b[39min\u001b[39;00m \u001b[39mrange\u001b[39m(\u001b[39m100\u001b[39m):\n\u001b[1;32m----> <a href='vscode-notebook-cell:/d%3A/Cursos/Mineria%20de%20datos/Homework_05/Sentiment_Azure.ipynb#W3sZmlsZQ%3D%3D?line=3'>4</a>\u001b[0m     l_temp \u001b[39m=\u001b[39m sentiment_analysis_with_opinion_mining_example(client, batch_prueba[i])\n\u001b[0;32m      <a href='vscode-notebook-cell:/d%3A/Cursos/Mineria%20de%20datos/Homework_05/Sentiment_Azure.ipynb#W3sZmlsZQ%3D%3D?line=4'>5</a>\u001b[0m     \u001b[39mfor\u001b[39;00m j \u001b[39min\u001b[39;00m \u001b[39mrange\u001b[39m(\u001b[39m10\u001b[39m):\n\u001b[0;32m      <a href='vscode-notebook-cell:/d%3A/Cursos/Mineria%20de%20datos/Homework_05/Sentiment_Azure.ipynb#W3sZmlsZQ%3D%3D?line=5'>6</a>\u001b[0m         sentiments_azure\u001b[39m.\u001b[39mappend(l_temp[j])\n",
      "\u001b[1;32md:\\Cursos\\Mineria de datos\\Homework_05\\Sentiment_Azure.ipynb Celda 9\u001b[0m in \u001b[0;36msentiment_analysis_with_opinion_mining_example\u001b[1;34m(client, documents)\u001b[0m\n\u001b[0;32m      <a href='vscode-notebook-cell:/d%3A/Cursos/Mineria%20de%20datos/Homework_05/Sentiment_Azure.ipynb#W3sZmlsZQ%3D%3D?line=1'>2</a>\u001b[0m \u001b[39mdef\u001b[39;00m \u001b[39msentiment_analysis_with_opinion_mining_example\u001b[39m(client, documents):\n\u001b[1;32m----> <a href='vscode-notebook-cell:/d%3A/Cursos/Mineria%20de%20datos/Homework_05/Sentiment_Azure.ipynb#W3sZmlsZQ%3D%3D?line=3'>4</a>\u001b[0m     result \u001b[39m=\u001b[39m client\u001b[39m.\u001b[39;49manalyze_sentiment(documents, show_opinion_mining\u001b[39m=\u001b[39;49m\u001b[39mTrue\u001b[39;49;00m)\n\u001b[0;32m      <a href='vscode-notebook-cell:/d%3A/Cursos/Mineria%20de%20datos/Homework_05/Sentiment_Azure.ipynb#W3sZmlsZQ%3D%3D?line=4'>5</a>\u001b[0m     doc_result \u001b[39m=\u001b[39m [doc \u001b[39mfor\u001b[39;00m doc \u001b[39min\u001b[39;00m result \u001b[39mif\u001b[39;00m \u001b[39mnot\u001b[39;00m doc\u001b[39m.\u001b[39mis_error]\n\u001b[0;32m      <a href='vscode-notebook-cell:/d%3A/Cursos/Mineria%20de%20datos/Homework_05/Sentiment_Azure.ipynb#W3sZmlsZQ%3D%3D?line=6'>7</a>\u001b[0m     positive_reviews \u001b[39m=\u001b[39m [doc \u001b[39mfor\u001b[39;00m doc \u001b[39min\u001b[39;00m doc_result \u001b[39mif\u001b[39;00m doc\u001b[39m.\u001b[39msentiment \u001b[39m==\u001b[39m \u001b[39m\"\u001b[39m\u001b[39mpositive\u001b[39m\u001b[39m\"\u001b[39m]\n",
      "File \u001b[1;32md:\\Anaconda\\lib\\site-packages\\azure\\core\\tracing\\decorator.py:78\u001b[0m, in \u001b[0;36mdistributed_trace.<locals>.decorator.<locals>.wrapper_use_tracer\u001b[1;34m(*args, **kwargs)\u001b[0m\n\u001b[0;32m     76\u001b[0m span_impl_type \u001b[39m=\u001b[39m settings\u001b[39m.\u001b[39mtracing_implementation()\n\u001b[0;32m     77\u001b[0m \u001b[39mif\u001b[39;00m span_impl_type \u001b[39mis\u001b[39;00m \u001b[39mNone\u001b[39;00m:\n\u001b[1;32m---> 78\u001b[0m     \u001b[39mreturn\u001b[39;00m func(\u001b[39m*\u001b[39margs, \u001b[39m*\u001b[39m\u001b[39m*\u001b[39mkwargs)\n\u001b[0;32m     80\u001b[0m \u001b[39m# Merge span is parameter is set, but only if no explicit parent are passed\u001b[39;00m\n\u001b[0;32m     81\u001b[0m \u001b[39mif\u001b[39;00m merge_span \u001b[39mand\u001b[39;00m \u001b[39mnot\u001b[39;00m passed_in_parent:\n",
      "File \u001b[1;32md:\\Anaconda\\lib\\site-packages\\azure\\ai\\textanalytics\\_validate.py:74\u001b[0m, in \u001b[0;36mvalidate_multiapi_args.<locals>.decorator.<locals>.wrapper\u001b[1;34m(*args, **kwargs)\u001b[0m\n\u001b[0;32m     72\u001b[0m \u001b[39m# the latest version is selected, we assume all features supported\u001b[39;00m\n\u001b[0;32m     73\u001b[0m \u001b[39mif\u001b[39;00m selected_api_version \u001b[39m==\u001b[39m VERSIONS_SUPPORTED[\u001b[39m-\u001b[39m\u001b[39m1\u001b[39m]:\n\u001b[1;32m---> 74\u001b[0m     \u001b[39mreturn\u001b[39;00m func(\u001b[39m*\u001b[39margs, \u001b[39m*\u001b[39m\u001b[39m*\u001b[39mkwargs)\n\u001b[0;32m     76\u001b[0m \u001b[39mif\u001b[39;00m version_method_added \u001b[39mand\u001b[39;00m version_method_added \u001b[39m!=\u001b[39m selected_api_version \u001b[39mand\u001b[39;00m \\\n\u001b[0;32m     77\u001b[0m         VERSIONS_SUPPORTED\u001b[39m.\u001b[39mindex(selected_api_version) \u001b[39m<\u001b[39m VERSIONS_SUPPORTED\u001b[39m.\u001b[39mindex(version_method_added):\n\u001b[0;32m     78\u001b[0m     \u001b[39mraise\u001b[39;00m \u001b[39mValueError\u001b[39;00m(\n\u001b[0;32m     79\u001b[0m         \u001b[39mf\u001b[39m\u001b[39m\"\u001b[39m\u001b[39m'\u001b[39m\u001b[39m{\u001b[39;00mclient\u001b[39m.\u001b[39m\u001b[39m__class__\u001b[39m\u001b[39m.\u001b[39m\u001b[39m__name__\u001b[39m\u001b[39m}\u001b[39;00m\u001b[39m.\u001b[39m\u001b[39m{\u001b[39;00mfunc\u001b[39m.\u001b[39m\u001b[39m__name__\u001b[39m\u001b[39m}\u001b[39;00m\u001b[39m'\u001b[39m\u001b[39m is not available in API version \u001b[39m\u001b[39m\"\u001b[39m\n\u001b[0;32m     80\u001b[0m         \u001b[39mf\u001b[39m\u001b[39m\"\u001b[39m\u001b[39m{\u001b[39;00mselected_api_version\u001b[39m}\u001b[39;00m\u001b[39m. Use service API version \u001b[39m\u001b[39m{\u001b[39;00mversion_method_added\u001b[39m}\u001b[39;00m\u001b[39m or newer.\u001b[39m\u001b[39m\"\u001b[39m\n\u001b[0;32m     81\u001b[0m     )\n",
      "File \u001b[1;32md:\\Anaconda\\lib\\site-packages\\azure\\ai\\textanalytics\\_text_analytics_client.py:1022\u001b[0m, in \u001b[0;36mTextAnalyticsClient.analyze_sentiment\u001b[1;34m(self, documents, **kwargs)\u001b[0m\n\u001b[0;32m   1008\u001b[0m     \u001b[39mreturn\u001b[39;00m cast(\n\u001b[0;32m   1009\u001b[0m         List[Union[AnalyzeSentimentResult, DocumentError]],\n\u001b[0;32m   1010\u001b[0m         \u001b[39mself\u001b[39m\u001b[39m.\u001b[39m_client\u001b[39m.\u001b[39msentiment(\n\u001b[1;32m   (...)\u001b[0m\n\u001b[0;32m   1019\u001b[0m         )\n\u001b[0;32m   1020\u001b[0m     )\n\u001b[0;32m   1021\u001b[0m \u001b[39mexcept\u001b[39;00m HttpResponseError \u001b[39mas\u001b[39;00m error:\n\u001b[1;32m-> 1022\u001b[0m     \u001b[39mreturn\u001b[39;00m process_http_response_error(error)\n",
      "File \u001b[1;32md:\\Anaconda\\lib\\site-packages\\azure\\ai\\textanalytics\\_response_handlers.py:60\u001b[0m, in \u001b[0;36mprocess_http_response_error\u001b[1;34m(error)\u001b[0m\n\u001b[0;32m     58\u001b[0m \u001b[39mif\u001b[39;00m error\u001b[39m.\u001b[39mstatus_code \u001b[39m==\u001b[39m \u001b[39m404\u001b[39m:\n\u001b[0;32m     59\u001b[0m     raise_error \u001b[39m=\u001b[39m ResourceNotFoundError\n\u001b[1;32m---> 60\u001b[0m \u001b[39mraise\u001b[39;00m raise_error(response\u001b[39m=\u001b[39merror\u001b[39m.\u001b[39mresponse, error_format\u001b[39m=\u001b[39mCSODataV4Format) \u001b[39mfrom\u001b[39;00m \u001b[39merror\u001b[39;00m\n",
      "\u001b[1;31mHttpResponseError\u001b[0m: (403) Out of call volume quota for TextAnalytics F0 pricing tier. Please retry after 18 days. To increase your call volume switch to a paid tier.\nCode: 403\nMessage: Out of call volume quota for TextAnalytics F0 pricing tier. Please retry after 18 days. To increase your call volume switch to a paid tier."
     ]
    }
   ],
   "source": [
    "\n",
    "L = len(batch_prueba)\n",
    "for i in range(100):\n",
    "    l_temp = sentiment_analysis_with_opinion_mining_example(client, batch_prueba[i])\n",
    "    for j in range(10):\n",
    "        sentiments_azure.append(l_temp[j])"
   ]
  },
  {
   "cell_type": "code",
   "execution_count": 114,
   "metadata": {},
   "outputs": [
    {
     "data": {
      "text/plain": [
       "620"
      ]
     },
     "execution_count": 114,
     "metadata": {},
     "output_type": "execute_result"
    }
   ],
   "source": [
    "len(sentiments_azure)"
   ]
  },
  {
   "cell_type": "code",
   "execution_count": 105,
   "metadata": {},
   "outputs": [],
   "source": [
    "df_labels = df.labels.tolist()[:4000]\n",
    "df_features = df.features.tolist()[:4000]\n",
    "\n",
    "df_new = pd.DataFrame({'labels':df_labels,'features':df_features})"
   ]
  },
  {
   "cell_type": "code",
   "execution_count": 106,
   "metadata": {},
   "outputs": [],
   "source": [
    "df_new['Azure_result'] = sentiments_azure"
   ]
  },
  {
   "cell_type": "code",
   "execution_count": 107,
   "metadata": {},
   "outputs": [
    {
     "data": {
      "text/html": [
       "<div>\n",
       "<style scoped>\n",
       "    .dataframe tbody tr th:only-of-type {\n",
       "        vertical-align: middle;\n",
       "    }\n",
       "\n",
       "    .dataframe tbody tr th {\n",
       "        vertical-align: top;\n",
       "    }\n",
       "\n",
       "    .dataframe thead th {\n",
       "        text-align: right;\n",
       "    }\n",
       "</style>\n",
       "<table border=\"1\" class=\"dataframe\">\n",
       "  <thead>\n",
       "    <tr style=\"text-align: right;\">\n",
       "      <th></th>\n",
       "      <th>labels</th>\n",
       "      <th>features</th>\n",
       "      <th>Azure_result</th>\n",
       "    </tr>\n",
       "  </thead>\n",
       "  <tbody>\n",
       "    <tr>\n",
       "      <th>0</th>\n",
       "      <td>neutral</td>\n",
       "      <td>what said</td>\n",
       "      <td>negative</td>\n",
       "    </tr>\n",
       "    <tr>\n",
       "      <th>1</th>\n",
       "      <td>positive</td>\n",
       "      <td>plus you ve added commercials to the experien...</td>\n",
       "      <td>negative</td>\n",
       "    </tr>\n",
       "    <tr>\n",
       "      <th>2</th>\n",
       "      <td>neutral</td>\n",
       "      <td>didn today must mean need to take another trip</td>\n",
       "      <td>neutral</td>\n",
       "    </tr>\n",
       "    <tr>\n",
       "      <th>3</th>\n",
       "      <td>negative</td>\n",
       "      <td>it really aggressive to blast obnoxious enter...</td>\n",
       "      <td>negative</td>\n",
       "    </tr>\n",
       "    <tr>\n",
       "      <th>4</th>\n",
       "      <td>negative</td>\n",
       "      <td>and it a really big bad thing about it</td>\n",
       "      <td>negative</td>\n",
       "    </tr>\n",
       "    <tr>\n",
       "      <th>...</th>\n",
       "      <td>...</td>\n",
       "      <td>...</td>\n",
       "      <td>...</td>\n",
       "    </tr>\n",
       "    <tr>\n",
       "      <th>3995</th>\n",
       "      <td>negative</td>\n",
       "      <td>am frequent user congrats only lost my bags o...</td>\n",
       "      <td>negative</td>\n",
       "    </tr>\n",
       "    <tr>\n",
       "      <th>3996</th>\n",
       "      <td>positive</td>\n",
       "      <td>sivi stewart at lax was fantastic tonight hel...</td>\n",
       "      <td>positive</td>\n",
       "    </tr>\n",
       "    <tr>\n",
       "      <th>3997</th>\n",
       "      <td>negative</td>\n",
       "      <td>yes though they have not located the bag yet ...</td>\n",
       "      <td>positive</td>\n",
       "    </tr>\n",
       "    <tr>\n",
       "      <th>3998</th>\n",
       "      <td>positive</td>\n",
       "      <td>got me home amid snow amp cancelled flightlat...</td>\n",
       "      <td>positive</td>\n",
       "    </tr>\n",
       "    <tr>\n",
       "      <th>3999</th>\n",
       "      <td>negative</td>\n",
       "      <td>my wife has been on the phone several times f...</td>\n",
       "      <td>negative</td>\n",
       "    </tr>\n",
       "  </tbody>\n",
       "</table>\n",
       "<p>4000 rows × 3 columns</p>\n",
       "</div>"
      ],
      "text/plain": [
       "        labels                                           features Azure_result\n",
       "0      neutral                                         what said      negative\n",
       "1     positive   plus you ve added commercials to the experien...     negative\n",
       "2      neutral    didn today must mean need to take another trip       neutral\n",
       "3     negative   it really aggressive to blast obnoxious enter...     negative\n",
       "4     negative             and it a really big bad thing about it     negative\n",
       "...        ...                                                ...          ...\n",
       "3995  negative   am frequent user congrats only lost my bags o...     negative\n",
       "3996  positive   sivi stewart at lax was fantastic tonight hel...     positive\n",
       "3997  negative   yes though they have not located the bag yet ...     positive\n",
       "3998  positive   got me home amid snow amp cancelled flightlat...     positive\n",
       "3999  negative   my wife has been on the phone several times f...     negative\n",
       "\n",
       "[4000 rows x 3 columns]"
      ]
     },
     "execution_count": 107,
     "metadata": {},
     "output_type": "execute_result"
    }
   ],
   "source": [
    "df_new"
   ]
  },
  {
   "cell_type": "code",
   "execution_count": 108,
   "metadata": {},
   "outputs": [
    {
     "data": {
      "text/plain": [
       "negative    2596\n",
       "neutral      801\n",
       "positive     603\n",
       "Name: labels, dtype: int64"
      ]
     },
     "execution_count": 108,
     "metadata": {},
     "output_type": "execute_result"
    }
   ],
   "source": [
    "df_new.labels.value_counts()"
   ]
  },
  {
   "cell_type": "code",
   "execution_count": 109,
   "metadata": {},
   "outputs": [
    {
     "data": {
      "text/plain": [
       "negative    1974\n",
       "positive    1115\n",
       "neutral      911\n",
       "Name: Azure_result, dtype: int64"
      ]
     },
     "execution_count": 109,
     "metadata": {},
     "output_type": "execute_result"
    }
   ],
   "source": [
    "df_new.Azure_result.value_counts()"
   ]
  },
  {
   "cell_type": "code",
   "execution_count": 111,
   "metadata": {},
   "outputs": [
    {
     "data": {
      "text/plain": [
       "Text(33.0, 0.5, 'Twitter True label')"
      ]
     },
     "execution_count": 111,
     "metadata": {},
     "output_type": "execute_result"
    },
    {
     "data": {
      "image/png": "[encoded data removed]",
      "text/plain": [
       "<Figure size 432x288 with 2 Axes>"
      ]
     },
     "metadata": {
      "needs_background": "light"
     },
     "output_type": "display_data"
    }
   ],
   "source": [
    "import matplotlib.pyplot as plt\n",
    "from sklearn.metrics import confusion_matrix\n",
    "import seaborn as sns\n",
    "\n",
    "categorias = ['negativo','neutral','positivo'] # y_predicted\n",
    "cf_matrix = confusion_matrix(df_new.labels, df_new.Azure_result)\n",
    "sns.heatmap(cf_matrix, annot=True,xticklabels=categorias,yticklabels=categorias)\n",
    "plt.xlabel(\"Azure prediction\")\n",
    "plt.ylabel(\"Twitter True label\")"
   ]
  },
  {
   "cell_type": "code",
   "execution_count": 110,
   "metadata": {},
   "outputs": [
    {
     "data": {
      "text/plain": [
       "0.685"
      ]
     },
     "execution_count": 110,
     "metadata": {},
     "output_type": "execute_result"
    }
   ],
   "source": [
    "from sklearn.metrics import accuracy_score\n",
    "accuracy_score(df_new.labels, df_new.Azure_result)"
   ]
  },
  {
   "cell_type": "code",
   "execution_count": null,
   "metadata": {},
   "outputs": [],
   "source": []
  }
 ],
 "metadata": {
  "kernelspec": {
   "display_name": "Python 3",
   "language": "python",
   "name": "python3"
  },
  "language_info": {
   "codemirror_mode": {
    "name": "ipython",
    "version": 3
   },
   "file_extension": ".py",
   "mimetype": "text/x-python",
   "name": "python",
   "nbconvert_exporter": "python",
   "pygments_lexer": "ipython3",
   "version": "3.7.2"
  },
  "vscode": {
   "interpreter": {
    "hash": "88279d2366fe020547cde40dd65aa0e3aa662a6ec1f3ca12d88834876c85e1a6"
   }
  }
 },
 "nbformat": 4,
 "nbformat_minor": 2
}
