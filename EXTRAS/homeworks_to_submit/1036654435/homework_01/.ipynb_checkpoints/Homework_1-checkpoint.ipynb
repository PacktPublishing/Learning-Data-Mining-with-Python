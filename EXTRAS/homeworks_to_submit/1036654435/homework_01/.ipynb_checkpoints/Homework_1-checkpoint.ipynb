{
 "cells": [
  {
   "cell_type": "markdown",
   "metadata": {},
   "source": [
    "# Homework 1\n",
    "### Realizado por: Sergio Duque Mejía, c.c: 1036654435"
   ]
  },
  {
   "cell_type": "code",
   "execution_count": 1,
   "metadata": {},
   "outputs": [],
   "source": [
    "# Libraries\n",
    "import numpy as np\n",
    "import pandas as pd\n",
    "from urllib.request import urlopen\n",
    "import matplotlib.pyplot as plt"
   ]
  },
  {
   "cell_type": "code",
   "execution_count": 2,
   "metadata": {},
   "outputs": [
    {
     "name": "stdout",
     "output_type": "stream",
     "text": [
      "<class 'str'>\n"
     ]
    }
   ],
   "source": [
    "# Descarga de libro.\n",
    "contents = urlopen(\"https://www.gutenberg.org/files/76/76-0.txt\").read().decode('utf-8')\n",
    "print(type(contents))"
   ]
  },
  {
   "cell_type": "code",
   "execution_count": 3,
   "metadata": {},
   "outputs": [],
   "source": [
    "# Capitulos del libro.\n",
    "chapters = [\"CHAPTER I.\\r\",\"CHAPTER II.\\r\",\"CHAPTER III.\\r\",\"CHAPTER IV.\\r\",\"CHAPTER V.\\r\",\"CHAPTER VI.\\r\",\"CHAPTER VII.\\r\",\"CHAPTER VIII.\\r\",\"CHAPTER IX.\\r\",\"CHAPTER X.\\r\",\n",
    "            \"CHAPTER XI.\\r\",\"CHAPTER XII.\\r\",\"CHAPTER XIII.\\r\",\"CHAPTER XIV.\\r\",\"CHAPTER XV.\\r\",\"CHAPTER XVI.\\r\",\"CHAPTER XVII.\\r\",\"CHAPTER XVIII.\\r\",\"CHAPTER XIX.\\r\",\"CHAPTER XX.\\r\",\n",
    "            \"CHAPTER XXI.\\r\",\"CHAPTER XXII.\\r\",\"CHAPTER XXIII.\\r\",\"CHAPTER XXIV.\\r\",\"CHAPTER XXV.\\r\",\"CHAPTER XXVI.\\r\",\"CHAPTER XXVII.\\r\",\"CHAPTER XXVIII.\\r\",\"CHAPTER XXIX.\\r\",\"CHAPTER XXX.\\r\",\n",
    "            \"CHAPTER XXXI.\\r\",\"CHAPTER XXXII.\\r\",\"CHAPTER XXXIII.\\r\",\"CHAPTER XXXIV.\\r\",\"CHAPTER XXXV.\\r\",\"CHAPTER XXXVI.\\r\",\"CHAPTER XXXVII.\\r\",\"CHAPTER XXXVIII.\\r\",\"CHAPTER XXXIX.\\r\",\"CHAPTER XL.\\r\",\n",
    "            \"CHAPTER XLI.\\r\",\"CHAPTER XLII.\\r\",\"CHAPTER THE LAST\\r\",\"THE END. YOURS TRULY, _HUCK FINN_.\\r\"]"
   ]
  },
  {
   "cell_type": "code",
   "execution_count": 4,
   "metadata": {},
   "outputs": [],
   "source": [
    "# Separa todo el texto basado en salto de linea (\"\\n\"), cada dato es un renglon.\n",
    "datalist = contents.split(\"\\n\")"
   ]
  },
  {
   "cell_type": "code",
   "execution_count": 5,
   "metadata": {},
   "outputs": [],
   "source": [
    "ch_text = [] # lista que permite guardar cada capitulo del texto\n",
    "try:\n",
    "    for i in range(len(chapters)): # en el rango de cada capitulo se hace un bucle.\n",
    "        ch_text.append(datalist[datalist.index(chapters[i]):datalist.index(chapters[i+1])]) # se define con .index la posicion en que aparece el chapter, por lo que\n",
    "        # permite extraer por ejemplo desde chapter 1 hasta chapter 2, esto seria todo el texto de chapter 1.\n",
    "except (IndexError): # Se usa esto por que aparece un error de indice debido a que se toma los chapters desde 0-43, pero la lista de capitulos contine 44 strings, tal que este ultimo es el final\n",
    "    # del capitulo final.\n",
    "    pass\n"
   ]
  },
  {
   "cell_type": "code",
   "execution_count": 6,
   "metadata": {},
   "outputs": [],
   "source": [
    "try: \n",
    "    while True:\n",
    "        for i in ch_text:\n",
    "            i.remove('\\r') # Se elimina a cada renglon el (\\r) que aparece al final de este.\n",
    "except ValueError: # evita errores a los renglones que no incluya.\n",
    "    pass"
   ]
  },
  {
   "cell_type": "code",
   "execution_count": 7,
   "metadata": {},
   "outputs": [],
   "source": [
    "def count_names(name): # Funcion que cuenta los nombres.\n",
    "    ch_count = [] # lista que cuenta cuantas veces aparece un nombre por capitulo.\n",
    "    for i in range(len(ch_text)):\n",
    "        temp = [] # almacena una lista de cada busqueda para luego sumarse. \n",
    "        for j in ch_text[i]:\n",
    "            low = j.lower() # para buscar los nombres se convierte en minusculas.\n",
    "            low = low.split('\\r')[0] # se separa de los (\\r)\n",
    "            temp.append(low.count(name)) # se almacena las coincidencias.\n",
    "            \n",
    "        ch_count.append(sum(temp)) # sumamos todas las coincidencias para tener el total de veces que se repite.\n",
    "    return ch_count"
   ]
  },
  {
   "cell_type": "code",
   "execution_count": 8,
   "metadata": {},
   "outputs": [],
   "source": [
    "names = ['tom','jim','huck'] # listado de nombres a buscar."
   ]
  },
  {
   "cell_type": "code",
   "execution_count": 9,
   "metadata": {},
   "outputs": [],
   "source": [
    "data_names = [] # conteo de nombres por capitulos.\n",
    "for i in names:\n",
    "    data_names.append(count_names(i)) # se almacena los nombres."
   ]
  },
  {
   "cell_type": "code",
   "execution_count": 10,
   "metadata": {},
   "outputs": [],
   "source": [
    "chp = []\n",
    "for i in chapters:\n",
    "    tm = i.replace(' ','_') # limpiamos el listado de chapters para que sean sin espacios.\n",
    "    tm = tm.replace('.','') # se elimina los puntos.\n",
    "    tm = tm.lower() # se cambian a minusculas.\n",
    "    chp.append(tm.split('\\r')[0]) # se separa los (\\r) pero se toma el primer dato que es el nombre del capitulo, ejemplo: [\"chapter_i\",\"\"] --> \"chapter_i\"\n",
    "chp = chp[:-1] # elimina el utimo valor que no es un capitulo."
   ]
  },
  {
   "cell_type": "code",
   "execution_count": 11,
   "metadata": {},
   "outputs": [],
   "source": [
    "dataset = pd.DataFrame(data=data_names,columns=chp) # construimos el dataframe\n",
    "dataset.insert(0,'name',[ i.capitalize() for i in names ]) # insertamos en la primera posicion los nombres capitalizados.\n"
   ]
  },
  {
   "cell_type": "code",
   "execution_count": 12,
   "metadata": {},
   "outputs": [
    {
     "data": {
      "text/html": [
       "<div>\n",
       "<style scoped>\n",
       "    .dataframe tbody tr th:only-of-type {\n",
       "        vertical-align: middle;\n",
       "    }\n",
       "\n",
       "    .dataframe tbody tr th {\n",
       "        vertical-align: top;\n",
       "    }\n",
       "\n",
       "    .dataframe thead th {\n",
       "        text-align: right;\n",
       "    }\n",
       "</style>\n",
       "<table border=\"1\" class=\"dataframe\">\n",
       "  <thead>\n",
       "    <tr style=\"text-align: right;\">\n",
       "      <th></th>\n",
       "      <th>name</th>\n",
       "      <th>chapter_i</th>\n",
       "      <th>chapter_ii</th>\n",
       "      <th>chapter_iii</th>\n",
       "      <th>chapter_iv</th>\n",
       "      <th>chapter_v</th>\n",
       "      <th>chapter_vi</th>\n",
       "      <th>chapter_vii</th>\n",
       "      <th>chapter_viii</th>\n",
       "      <th>chapter_ix</th>\n",
       "      <th>...</th>\n",
       "      <th>chapter_xxxiv</th>\n",
       "      <th>chapter_xxxv</th>\n",
       "      <th>chapter_xxxvi</th>\n",
       "      <th>chapter_xxxvii</th>\n",
       "      <th>chapter_xxxviii</th>\n",
       "      <th>chapter_xxxix</th>\n",
       "      <th>chapter_xl</th>\n",
       "      <th>chapter_xli</th>\n",
       "      <th>chapter_xlii</th>\n",
       "      <th>chapter_the_last</th>\n",
       "    </tr>\n",
       "  </thead>\n",
       "  <tbody>\n",
       "    <tr>\n",
       "      <th>0</th>\n",
       "      <td>Tom</td>\n",
       "      <td>6</td>\n",
       "      <td>24</td>\n",
       "      <td>5</td>\n",
       "      <td>1</td>\n",
       "      <td>0</td>\n",
       "      <td>2</td>\n",
       "      <td>5</td>\n",
       "      <td>2</td>\n",
       "      <td>1</td>\n",
       "      <td>...</td>\n",
       "      <td>15</td>\n",
       "      <td>18</td>\n",
       "      <td>19</td>\n",
       "      <td>11</td>\n",
       "      <td>32</td>\n",
       "      <td>12</td>\n",
       "      <td>11</td>\n",
       "      <td>9</td>\n",
       "      <td>32</td>\n",
       "      <td>6</td>\n",
       "    </tr>\n",
       "    <tr>\n",
       "      <th>1</th>\n",
       "      <td>Jim</td>\n",
       "      <td>0</td>\n",
       "      <td>16</td>\n",
       "      <td>0</td>\n",
       "      <td>8</td>\n",
       "      <td>0</td>\n",
       "      <td>0</td>\n",
       "      <td>0</td>\n",
       "      <td>22</td>\n",
       "      <td>11</td>\n",
       "      <td>...</td>\n",
       "      <td>17</td>\n",
       "      <td>18</td>\n",
       "      <td>24</td>\n",
       "      <td>4</td>\n",
       "      <td>27</td>\n",
       "      <td>10</td>\n",
       "      <td>13</td>\n",
       "      <td>0</td>\n",
       "      <td>12</td>\n",
       "      <td>6</td>\n",
       "    </tr>\n",
       "    <tr>\n",
       "      <th>2</th>\n",
       "      <td>Huck</td>\n",
       "      <td>3</td>\n",
       "      <td>2</td>\n",
       "      <td>3</td>\n",
       "      <td>1</td>\n",
       "      <td>0</td>\n",
       "      <td>2</td>\n",
       "      <td>0</td>\n",
       "      <td>6</td>\n",
       "      <td>1</td>\n",
       "      <td>...</td>\n",
       "      <td>6</td>\n",
       "      <td>9</td>\n",
       "      <td>2</td>\n",
       "      <td>0</td>\n",
       "      <td>3</td>\n",
       "      <td>1</td>\n",
       "      <td>3</td>\n",
       "      <td>1</td>\n",
       "      <td>2</td>\n",
       "      <td>3</td>\n",
       "    </tr>\n",
       "  </tbody>\n",
       "</table>\n",
       "<p>3 rows × 44 columns</p>\n",
       "</div>"
      ],
      "text/plain": [
       "   name  chapter_i  chapter_ii  chapter_iii  chapter_iv  chapter_v  \\\n",
       "0   Tom          6          24            5           1          0   \n",
       "1   Jim          0          16            0           8          0   \n",
       "2  Huck          3           2            3           1          0   \n",
       "\n",
       "   chapter_vi  chapter_vii  chapter_viii  chapter_ix  ...  chapter_xxxiv  \\\n",
       "0           2            5             2           1  ...             15   \n",
       "1           0            0            22          11  ...             17   \n",
       "2           2            0             6           1  ...              6   \n",
       "\n",
       "   chapter_xxxv  chapter_xxxvi  chapter_xxxvii  chapter_xxxviii  \\\n",
       "0            18             19              11               32   \n",
       "1            18             24               4               27   \n",
       "2             9              2               0                3   \n",
       "\n",
       "   chapter_xxxix  chapter_xl  chapter_xli  chapter_xlii  chapter_the_last  \n",
       "0             12          11            9            32                 6  \n",
       "1             10          13            0            12                 6  \n",
       "2              1           3            1             2                 3  \n",
       "\n",
       "[3 rows x 44 columns]"
      ]
     },
     "execution_count": 12,
     "metadata": {},
     "output_type": "execute_result"
    }
   ],
   "source": [
    "dataset.head() # se muestra los capitulos con sus datos respectivamente."
   ]
  },
  {
   "cell_type": "code",
   "execution_count": 13,
   "metadata": {},
   "outputs": [],
   "source": [
    "dataset.to_csv('characters_count.csv',index=None) # Almacenamos los datos en un archivo externo con formato .csv"
   ]
  },
  {
   "cell_type": "code",
   "execution_count": 14,
   "metadata": {},
   "outputs": [],
   "source": [
    "d = pd.read_csv('characters_count.csv') # Leemos los archivos csv."
   ]
  },
  {
   "cell_type": "code",
   "execution_count": 15,
   "metadata": {},
   "outputs": [],
   "source": [
    "def sumCum(data): # Funcion que permite hacer una suma acumulativa de los datos en el dataset\n",
    "    rst = [] # almacena los datos acumulativos\n",
    "    for i in range(3):\n",
    "        arr_temp = d.loc[i].to_numpy()[1:] # toma las filas correspondientes a cada nombre.\n",
    "        rst.append(np.cumsum(arr_temp)) # hace la suma acumulativa y lo guarda en rst.\n",
    "    return rst"
   ]
  },
  {
   "cell_type": "code",
   "execution_count": 16,
   "metadata": {},
   "outputs": [],
   "source": [
    "cumulative = sumCum(d) # almacena todos los datos acumulativos en una lista."
   ]
  },
  {
   "cell_type": "code",
   "execution_count": 17,
   "metadata": {},
   "outputs": [],
   "source": [
    "def graph(data,label): # funcion que grafica los datos acumulativos.\n",
    "    plt.figure(figsize=(10,8)) # tamaño del grafico\n",
    "    for i in range(len(data)):\n",
    "        plt.plot(range(len(data[i])),data[i],label=label[i]) # plot de linea\n",
    "        plt.plot(range(len(data[i])),data[i],\".\") # plot de puntos\n",
    "\n",
    "    plt.grid() # grid\n",
    "    plt.legend() # legenda asociada al label\n",
    "    plt.show() # show grafico"
   ]
  },
  {
   "cell_type": "code",
   "execution_count": 18,
   "metadata": {},
   "outputs": [
    {
     "data": {
      "image/png": "[encoded data removed]",
      "text/plain": [
       "<Figure size 720x576 with 1 Axes>"
      ]
     },
     "metadata": {
      "needs_background": "light"
     },
     "output_type": "display_data"
    }
   ],
   "source": [
    "# en label se almacena los nombres en mayusculas y se le suma un string \" - Suma Acumulativa\"\n",
    "graph(cumulative,[ names[i].capitalize() +\" - Suma Acumulativa\" for i in range(len(names)) ])"
   ]
  },
  {
   "cell_type": "markdown",
   "metadata": {},
   "source": [
    "### Conclusion\n",
    "Se observa que Jim fue el personaje mas nombrado en el libro, y huck fue el menos nombrado a pesar de que es el nombre principal del libro."
   ]
  },
  {
   "cell_type": "code",
   "execution_count": null,
   "metadata": {},
   "outputs": [],
   "source": []
  }
 ],
 "metadata": {
  "interpreter": {
   "hash": "49cb93f377a7abe7414b7b0f21fb3017538004a126cf690fb524202736b7fb92"
  },
  "kernelspec": {
   "display_name": "Python 3",
   "language": "python",
   "name": "python3"
  },
  "language_info": {
   "codemirror_mode": {
    "name": "ipython",
    "version": 3
   },
   "file_extension": ".py",
   "mimetype": "text/x-python",
   "name": "python",
   "nbconvert_exporter": "python",
   "pygments_lexer": "ipython3",
   "version": "3.7.2"
  }
 },
 "nbformat": 4,
 "nbformat_minor": 2
}
