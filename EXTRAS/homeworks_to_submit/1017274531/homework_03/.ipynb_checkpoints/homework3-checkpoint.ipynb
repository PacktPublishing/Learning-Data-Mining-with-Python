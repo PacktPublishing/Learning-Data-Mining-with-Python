{
 "cells": [
  {
   "cell_type": "markdown",
   "id": "16a0d76e",
   "metadata": {},
   "source": [
    "# Homework 3 analysis of CO2 emissions\n",
    "\n",
    "## Nicolás Echeveri Rojas"
   ]
  },
  {
   "cell_type": "code",
   "execution_count": 1,
   "id": "1c0a53d7",
   "metadata": {
    "ExecuteTime": {
     "end_time": "2022-07-29T04:07:40.010640Z",
     "start_time": "2022-07-29T04:07:39.261941Z"
    },
    "hide_input": false
   },
   "outputs": [],
   "source": [
    "import pandas as pd \n",
    "import numpy as np "
   ]
  },
  {
   "cell_type": "markdown",
   "id": "8354f467",
   "metadata": {},
   "source": [
    "## 1. Carga de datos"
   ]
  },
  {
   "cell_type": "code",
   "execution_count": 2,
   "id": "49fc430d",
   "metadata": {
    "ExecuteTime": {
     "end_time": "2022-07-29T04:07:41.229417Z",
     "start_time": "2022-07-29T04:07:40.014296Z"
    }
   },
   "outputs": [],
   "source": [
    "df0=pd.read_csv(\"https://raw.githubusercontent.com/mhemmg/datasets/master/car_emission/cars_CO2_emissions_D.csv\")\n",
    "country=pd.read_csv(\"https://raw.githubusercontent.com/mhemmg/datasets/master/car_emission/car_brands_countries.csv\")"
   ]
  },
  {
   "cell_type": "code",
   "execution_count": 3,
   "id": "1e890f5f",
   "metadata": {
    "ExecuteTime": {
     "end_time": "2022-07-29T04:07:41.284546Z",
     "start_time": "2022-07-29T04:07:41.232694Z"
    }
   },
   "outputs": [
    {
     "data": {
      "text/html": [
       "<div>\n",
       "<style scoped>\n",
       "    .dataframe tbody tr th:only-of-type {\n",
       "        vertical-align: middle;\n",
       "    }\n",
       "\n",
       "    .dataframe tbody tr th {\n",
       "        vertical-align: top;\n",
       "    }\n",
       "\n",
       "    .dataframe thead th {\n",
       "        text-align: right;\n",
       "    }\n",
       "</style>\n",
       "<table border=\"1\" class=\"dataframe\">\n",
       "  <thead>\n",
       "    <tr style=\"text-align: right;\">\n",
       "      <th></th>\n",
       "      <th>Make</th>\n",
       "      <th>Model</th>\n",
       "      <th>Vehicle Class</th>\n",
       "      <th>Engine Size(L)</th>\n",
       "      <th>Cylinders</th>\n",
       "      <th>Transmission</th>\n",
       "      <th>Fuel Type</th>\n",
       "      <th>Fuel Consumption City (L/100 km)</th>\n",
       "      <th>Fuel Consumption Hwy (L/100 km)</th>\n",
       "      <th>Fuel Consumption Comb (L/100 km)</th>\n",
       "      <th>Fuel Consumption Comb (mpg)</th>\n",
       "      <th>CO2 Emissions(g/km)</th>\n",
       "    </tr>\n",
       "  </thead>\n",
       "  <tbody>\n",
       "    <tr>\n",
       "      <th>0</th>\n",
       "      <td>ACURA</td>\n",
       "      <td>ILX</td>\n",
       "      <td>COMPACT</td>\n",
       "      <td>2.0</td>\n",
       "      <td>4.0</td>\n",
       "      <td>AS5</td>\n",
       "      <td>premium gasoline</td>\n",
       "      <td>9.9</td>\n",
       "      <td>6.7</td>\n",
       "      <td>8.5</td>\n",
       "      <td>33.0</td>\n",
       "      <td>196.0</td>\n",
       "    </tr>\n",
       "    <tr>\n",
       "      <th>1</th>\n",
       "      <td>ACURA</td>\n",
       "      <td>ILX</td>\n",
       "      <td>COMPACT</td>\n",
       "      <td>2.4</td>\n",
       "      <td>4.0</td>\n",
       "      <td>M6</td>\n",
       "      <td>premium gasoline</td>\n",
       "      <td>11.2</td>\n",
       "      <td>7.7</td>\n",
       "      <td>9.6</td>\n",
       "      <td>29.0</td>\n",
       "      <td>221.0</td>\n",
       "    </tr>\n",
       "  </tbody>\n",
       "</table>\n",
       "</div>"
      ],
      "text/plain": [
       "    Make Model Vehicle Class Engine Size(L)  Cylinders Transmission  \\\n",
       "0  ACURA   ILX       COMPACT            2.0        4.0          AS5   \n",
       "1  ACURA   ILX       COMPACT            2.4        4.0           M6   \n",
       "\n",
       "          Fuel Type  Fuel Consumption City (L/100 km)  \\\n",
       "0  premium gasoline                               9.9   \n",
       "1  premium gasoline                              11.2   \n",
       "\n",
       "   Fuel Consumption Hwy (L/100 km)  Fuel Consumption Comb (L/100 km)  \\\n",
       "0                              6.7                               8.5   \n",
       "1                              7.7                               9.6   \n",
       "\n",
       "   Fuel Consumption Comb (mpg)  CO2 Emissions(g/km)  \n",
       "0                         33.0                196.0  \n",
       "1                         29.0                221.0  "
      ]
     },
     "execution_count": 3,
     "metadata": {},
     "output_type": "execute_result"
    }
   ],
   "source": [
    "df0.head(2)"
   ]
  },
  {
   "cell_type": "code",
   "execution_count": 4,
   "id": "70f1035c",
   "metadata": {
    "ExecuteTime": {
     "end_time": "2022-07-29T04:07:41.324937Z",
     "start_time": "2022-07-29T04:07:41.291050Z"
    }
   },
   "outputs": [
    {
     "data": {
      "text/html": [
       "<div>\n",
       "<style scoped>\n",
       "    .dataframe tbody tr th:only-of-type {\n",
       "        vertical-align: middle;\n",
       "    }\n",
       "\n",
       "    .dataframe tbody tr th {\n",
       "        vertical-align: top;\n",
       "    }\n",
       "\n",
       "    .dataframe thead th {\n",
       "        text-align: right;\n",
       "    }\n",
       "</style>\n",
       "<table border=\"1\" class=\"dataframe\">\n",
       "  <thead>\n",
       "    <tr style=\"text-align: right;\">\n",
       "      <th></th>\n",
       "      <th>Make</th>\n",
       "      <th>Country</th>\n",
       "      <th>Continent</th>\n",
       "    </tr>\n",
       "  </thead>\n",
       "  <tbody>\n",
       "    <tr>\n",
       "      <th>0</th>\n",
       "      <td>ACURA</td>\n",
       "      <td>USA</td>\n",
       "      <td>America</td>\n",
       "    </tr>\n",
       "    <tr>\n",
       "      <th>1</th>\n",
       "      <td>ALFA ROMEO</td>\n",
       "      <td>Italy</td>\n",
       "      <td>Europe</td>\n",
       "    </tr>\n",
       "  </tbody>\n",
       "</table>\n",
       "</div>"
      ],
      "text/plain": [
       "         Make Country Continent\n",
       "0       ACURA     USA   America\n",
       "1  ALFA ROMEO   Italy    Europe"
      ]
     },
     "execution_count": 4,
     "metadata": {},
     "output_type": "execute_result"
    }
   ],
   "source": [
    "country.head(2)"
   ]
  },
  {
   "cell_type": "markdown",
   "id": "507f4ec5",
   "metadata": {},
   "source": [
    "#### a) Complete el conjunto de datos de la emisión de CO2 del automóvil con los datos sobre el origen de las marcas"
   ]
  },
  {
   "cell_type": "code",
   "execution_count": 5,
   "id": "5d4913c4",
   "metadata": {
    "ExecuteTime": {
     "end_time": "2022-07-29T04:07:41.345186Z",
     "start_time": "2022-07-29T04:07:41.328525Z"
    }
   },
   "outputs": [],
   "source": [
    "df=df0.merge(country, left_on='Make', right_on='Make', how='inner')"
   ]
  },
  {
   "cell_type": "markdown",
   "id": "2efece8a",
   "metadata": {},
   "source": [
    "#### b)  Del conjunto de datos dado imprima las primeras y las últimas diez filas"
   ]
  },
  {
   "cell_type": "code",
   "execution_count": 6,
   "id": "c1cacd0a",
   "metadata": {
    "ExecuteTime": {
     "end_time": "2022-07-29T04:07:41.377936Z",
     "start_time": "2022-07-29T04:07:41.349299Z"
    }
   },
   "outputs": [
    {
     "data": {
      "text/html": [
       "<div>\n",
       "<style scoped>\n",
       "    .dataframe tbody tr th:only-of-type {\n",
       "        vertical-align: middle;\n",
       "    }\n",
       "\n",
       "    .dataframe tbody tr th {\n",
       "        vertical-align: top;\n",
       "    }\n",
       "\n",
       "    .dataframe thead th {\n",
       "        text-align: right;\n",
       "    }\n",
       "</style>\n",
       "<table border=\"1\" class=\"dataframe\">\n",
       "  <thead>\n",
       "    <tr style=\"text-align: right;\">\n",
       "      <th></th>\n",
       "      <th>Make</th>\n",
       "      <th>Model</th>\n",
       "      <th>Vehicle Class</th>\n",
       "      <th>Engine Size(L)</th>\n",
       "      <th>Cylinders</th>\n",
       "      <th>Transmission</th>\n",
       "      <th>Fuel Type</th>\n",
       "      <th>Fuel Consumption City (L/100 km)</th>\n",
       "      <th>Fuel Consumption Hwy (L/100 km)</th>\n",
       "      <th>Fuel Consumption Comb (L/100 km)</th>\n",
       "      <th>Fuel Consumption Comb (mpg)</th>\n",
       "      <th>CO2 Emissions(g/km)</th>\n",
       "      <th>Country</th>\n",
       "      <th>Continent</th>\n",
       "    </tr>\n",
       "  </thead>\n",
       "  <tbody>\n",
       "    <tr>\n",
       "      <th>0</th>\n",
       "      <td>ACURA</td>\n",
       "      <td>ILX</td>\n",
       "      <td>COMPACT</td>\n",
       "      <td>2.0</td>\n",
       "      <td>4.0</td>\n",
       "      <td>AS5</td>\n",
       "      <td>premium gasoline</td>\n",
       "      <td>9.9</td>\n",
       "      <td>6.7</td>\n",
       "      <td>8.5</td>\n",
       "      <td>33.0</td>\n",
       "      <td>196.0</td>\n",
       "      <td>USA</td>\n",
       "      <td>America</td>\n",
       "    </tr>\n",
       "    <tr>\n",
       "      <th>1</th>\n",
       "      <td>ACURA</td>\n",
       "      <td>ILX</td>\n",
       "      <td>COMPACT</td>\n",
       "      <td>2.4</td>\n",
       "      <td>4.0</td>\n",
       "      <td>M6</td>\n",
       "      <td>premium gasoline</td>\n",
       "      <td>11.2</td>\n",
       "      <td>7.7</td>\n",
       "      <td>9.6</td>\n",
       "      <td>29.0</td>\n",
       "      <td>221.0</td>\n",
       "      <td>USA</td>\n",
       "      <td>America</td>\n",
       "    </tr>\n",
       "    <tr>\n",
       "      <th>2</th>\n",
       "      <td>ACURA</td>\n",
       "      <td>ILX HYBRID</td>\n",
       "      <td>COMPACT</td>\n",
       "      <td>1.5</td>\n",
       "      <td>4.0</td>\n",
       "      <td>AV7</td>\n",
       "      <td>premium gasoline</td>\n",
       "      <td>6.0</td>\n",
       "      <td>5.8</td>\n",
       "      <td>5.9</td>\n",
       "      <td>48.0</td>\n",
       "      <td>136.0</td>\n",
       "      <td>USA</td>\n",
       "      <td>America</td>\n",
       "    </tr>\n",
       "    <tr>\n",
       "      <th>3</th>\n",
       "      <td>ACURA</td>\n",
       "      <td>MDX 4WD</td>\n",
       "      <td>SUV - SMALL</td>\n",
       "      <td>3.5</td>\n",
       "      <td>6.0</td>\n",
       "      <td>AS6</td>\n",
       "      <td>premium gasoline</td>\n",
       "      <td>12.7</td>\n",
       "      <td>9.1</td>\n",
       "      <td>11.1</td>\n",
       "      <td>25.0</td>\n",
       "      <td>255.0</td>\n",
       "      <td>USA</td>\n",
       "      <td>America</td>\n",
       "    </tr>\n",
       "    <tr>\n",
       "      <th>4</th>\n",
       "      <td>ACURA</td>\n",
       "      <td>RDX AWD</td>\n",
       "      <td>SUV - SMALL</td>\n",
       "      <td>3.5</td>\n",
       "      <td>6.0</td>\n",
       "      <td>AS6</td>\n",
       "      <td>premium gasoline</td>\n",
       "      <td>12.1</td>\n",
       "      <td>8.7</td>\n",
       "      <td>10.6</td>\n",
       "      <td>27.0</td>\n",
       "      <td>244.0</td>\n",
       "      <td>USA</td>\n",
       "      <td>America</td>\n",
       "    </tr>\n",
       "    <tr>\n",
       "      <th>5</th>\n",
       "      <td>ACURA</td>\n",
       "      <td>RLX</td>\n",
       "      <td>MID-SIZE</td>\n",
       "      <td>3.5</td>\n",
       "      <td>6.0</td>\n",
       "      <td>AS6</td>\n",
       "      <td>premium gasoline</td>\n",
       "      <td>11.9</td>\n",
       "      <td>7.7</td>\n",
       "      <td>10.0</td>\n",
       "      <td>28.0</td>\n",
       "      <td>230.0</td>\n",
       "      <td>USA</td>\n",
       "      <td>America</td>\n",
       "    </tr>\n",
       "    <tr>\n",
       "      <th>6</th>\n",
       "      <td>ACURA</td>\n",
       "      <td>TL</td>\n",
       "      <td>MID-SIZE</td>\n",
       "      <td>3.5</td>\n",
       "      <td>6.0</td>\n",
       "      <td>AS6</td>\n",
       "      <td>premium gasoline</td>\n",
       "      <td>11.8</td>\n",
       "      <td>8.1</td>\n",
       "      <td>10.1</td>\n",
       "      <td>28.0</td>\n",
       "      <td>232.0</td>\n",
       "      <td>USA</td>\n",
       "      <td>America</td>\n",
       "    </tr>\n",
       "    <tr>\n",
       "      <th>7</th>\n",
       "      <td>ACURA</td>\n",
       "      <td>TL AWD</td>\n",
       "      <td>MID-SIZE</td>\n",
       "      <td>3.7</td>\n",
       "      <td>6.0</td>\n",
       "      <td>AS6</td>\n",
       "      <td>premium gasoline</td>\n",
       "      <td>12.8</td>\n",
       "      <td>9.0</td>\n",
       "      <td>11.1</td>\n",
       "      <td>25.0</td>\n",
       "      <td>255.0</td>\n",
       "      <td>USA</td>\n",
       "      <td>America</td>\n",
       "    </tr>\n",
       "    <tr>\n",
       "      <th>8</th>\n",
       "      <td>ACURA</td>\n",
       "      <td>TL AWD</td>\n",
       "      <td>MID-SIZE</td>\n",
       "      <td>3.7</td>\n",
       "      <td>6.0</td>\n",
       "      <td>M6</td>\n",
       "      <td>premium gasoline</td>\n",
       "      <td>13.4</td>\n",
       "      <td>9.5</td>\n",
       "      <td>11.6</td>\n",
       "      <td>24.0</td>\n",
       "      <td>267.0</td>\n",
       "      <td>USA</td>\n",
       "      <td>America</td>\n",
       "    </tr>\n",
       "    <tr>\n",
       "      <th>9</th>\n",
       "      <td>ACURA</td>\n",
       "      <td>TSX</td>\n",
       "      <td>COMPACT</td>\n",
       "      <td>2.4</td>\n",
       "      <td>4.0</td>\n",
       "      <td>AS5</td>\n",
       "      <td>premium gasoline</td>\n",
       "      <td>10.6</td>\n",
       "      <td>7.5</td>\n",
       "      <td>9.2</td>\n",
       "      <td>31.0</td>\n",
       "      <td>212.0</td>\n",
       "      <td>USA</td>\n",
       "      <td>America</td>\n",
       "    </tr>\n",
       "  </tbody>\n",
       "</table>\n",
       "</div>"
      ],
      "text/plain": [
       "    Make       Model Vehicle Class Engine Size(L)  Cylinders Transmission  \\\n",
       "0  ACURA         ILX       COMPACT            2.0        4.0          AS5   \n",
       "1  ACURA         ILX       COMPACT            2.4        4.0           M6   \n",
       "2  ACURA  ILX HYBRID       COMPACT            1.5        4.0          AV7   \n",
       "3  ACURA     MDX 4WD   SUV - SMALL            3.5        6.0          AS6   \n",
       "4  ACURA     RDX AWD   SUV - SMALL            3.5        6.0          AS6   \n",
       "5  ACURA         RLX      MID-SIZE            3.5        6.0          AS6   \n",
       "6  ACURA          TL      MID-SIZE            3.5        6.0          AS6   \n",
       "7  ACURA      TL AWD      MID-SIZE            3.7        6.0          AS6   \n",
       "8  ACURA      TL AWD      MID-SIZE            3.7        6.0           M6   \n",
       "9  ACURA         TSX       COMPACT            2.4        4.0          AS5   \n",
       "\n",
       "          Fuel Type  Fuel Consumption City (L/100 km)  \\\n",
       "0  premium gasoline                               9.9   \n",
       "1  premium gasoline                              11.2   \n",
       "2  premium gasoline                               6.0   \n",
       "3  premium gasoline                              12.7   \n",
       "4  premium gasoline                              12.1   \n",
       "5  premium gasoline                              11.9   \n",
       "6  premium gasoline                              11.8   \n",
       "7  premium gasoline                              12.8   \n",
       "8  premium gasoline                              13.4   \n",
       "9  premium gasoline                              10.6   \n",
       "\n",
       "   Fuel Consumption Hwy (L/100 km)  Fuel Consumption Comb (L/100 km)  \\\n",
       "0                              6.7                               8.5   \n",
       "1                              7.7                               9.6   \n",
       "2                              5.8                               5.9   \n",
       "3                              9.1                              11.1   \n",
       "4                              8.7                              10.6   \n",
       "5                              7.7                              10.0   \n",
       "6                              8.1                              10.1   \n",
       "7                              9.0                              11.1   \n",
       "8                              9.5                              11.6   \n",
       "9                              7.5                               9.2   \n",
       "\n",
       "   Fuel Consumption Comb (mpg)  CO2 Emissions(g/km) Country Continent  \n",
       "0                         33.0                196.0     USA   America  \n",
       "1                         29.0                221.0     USA   America  \n",
       "2                         48.0                136.0     USA   America  \n",
       "3                         25.0                255.0     USA   America  \n",
       "4                         27.0                244.0     USA   America  \n",
       "5                         28.0                230.0     USA   America  \n",
       "6                         28.0                232.0     USA   America  \n",
       "7                         25.0                255.0     USA   America  \n",
       "8                         24.0                267.0     USA   America  \n",
       "9                         31.0                212.0     USA   America  "
      ]
     },
     "execution_count": 6,
     "metadata": {},
     "output_type": "execute_result"
    }
   ],
   "source": [
    "df.head(10)"
   ]
  },
  {
   "cell_type": "code",
   "execution_count": 7,
   "id": "0212ee56",
   "metadata": {
    "ExecuteTime": {
     "end_time": "2022-07-29T04:07:41.428717Z",
     "start_time": "2022-07-29T04:07:41.381140Z"
    }
   },
   "outputs": [
    {
     "data": {
      "text/html": [
       "<div>\n",
       "<style scoped>\n",
       "    .dataframe tbody tr th:only-of-type {\n",
       "        vertical-align: middle;\n",
       "    }\n",
       "\n",
       "    .dataframe tbody tr th {\n",
       "        vertical-align: top;\n",
       "    }\n",
       "\n",
       "    .dataframe thead th {\n",
       "        text-align: right;\n",
       "    }\n",
       "</style>\n",
       "<table border=\"1\" class=\"dataframe\">\n",
       "  <thead>\n",
       "    <tr style=\"text-align: right;\">\n",
       "      <th></th>\n",
       "      <th>Make</th>\n",
       "      <th>Model</th>\n",
       "      <th>Vehicle Class</th>\n",
       "      <th>Engine Size(L)</th>\n",
       "      <th>Cylinders</th>\n",
       "      <th>Transmission</th>\n",
       "      <th>Fuel Type</th>\n",
       "      <th>Fuel Consumption City (L/100 km)</th>\n",
       "      <th>Fuel Consumption Hwy (L/100 km)</th>\n",
       "      <th>Fuel Consumption Comb (L/100 km)</th>\n",
       "      <th>Fuel Consumption Comb (mpg)</th>\n",
       "      <th>CO2 Emissions(g/km)</th>\n",
       "      <th>Country</th>\n",
       "      <th>Continent</th>\n",
       "    </tr>\n",
       "  </thead>\n",
       "  <tbody>\n",
       "    <tr>\n",
       "      <th>6267</th>\n",
       "      <td>GENESIS</td>\n",
       "      <td>G80 AWD</td>\n",
       "      <td>FULL-SIZE</td>\n",
       "      <td>5.0</td>\n",
       "      <td>8.0</td>\n",
       "      <td>AS8</td>\n",
       "      <td>premium gasoline</td>\n",
       "      <td>15.6</td>\n",
       "      <td>10.4</td>\n",
       "      <td>13.2</td>\n",
       "      <td>21.0</td>\n",
       "      <td>312.0</td>\n",
       "      <td>USA</td>\n",
       "      <td>America</td>\n",
       "    </tr>\n",
       "    <tr>\n",
       "      <th>6268</th>\n",
       "      <td>GENESIS</td>\n",
       "      <td>G70</td>\n",
       "      <td>COMPACT</td>\n",
       "      <td>2.0</td>\n",
       "      <td>4.0</td>\n",
       "      <td>M6</td>\n",
       "      <td>premium gasoline</td>\n",
       "      <td>12.8</td>\n",
       "      <td>8.5</td>\n",
       "      <td>10.9</td>\n",
       "      <td>26.0</td>\n",
       "      <td>255.0</td>\n",
       "      <td>USA</td>\n",
       "      <td>America</td>\n",
       "    </tr>\n",
       "    <tr>\n",
       "      <th>6269</th>\n",
       "      <td>GENESIS</td>\n",
       "      <td>G70 AWD</td>\n",
       "      <td>COMPACT</td>\n",
       "      <td>2.0</td>\n",
       "      <td>4.0</td>\n",
       "      <td>AS8</td>\n",
       "      <td>premium gasoline</td>\n",
       "      <td>11.5</td>\n",
       "      <td>8.7</td>\n",
       "      <td>10.3</td>\n",
       "      <td>27.0</td>\n",
       "      <td>241.0</td>\n",
       "      <td>USA</td>\n",
       "      <td>America</td>\n",
       "    </tr>\n",
       "    <tr>\n",
       "      <th>6270</th>\n",
       "      <td>GENESIS</td>\n",
       "      <td>G70 AWD</td>\n",
       "      <td>COMPACT</td>\n",
       "      <td>3.3</td>\n",
       "      <td>6.0</td>\n",
       "      <td>AS8</td>\n",
       "      <td>premium gasoline</td>\n",
       "      <td>13.3</td>\n",
       "      <td>9.5</td>\n",
       "      <td>11.6</td>\n",
       "      <td>24.0</td>\n",
       "      <td>274.0</td>\n",
       "      <td>USA</td>\n",
       "      <td>America</td>\n",
       "    </tr>\n",
       "    <tr>\n",
       "      <th>6271</th>\n",
       "      <td>GENESIS</td>\n",
       "      <td>G70 AWD</td>\n",
       "      <td>COMPACT</td>\n",
       "      <td>2.0</td>\n",
       "      <td>4.0</td>\n",
       "      <td>AS8</td>\n",
       "      <td>premium gasoline</td>\n",
       "      <td>11.4</td>\n",
       "      <td>8.6</td>\n",
       "      <td>10.2</td>\n",
       "      <td>28.0</td>\n",
       "      <td>238.0</td>\n",
       "      <td>USA</td>\n",
       "      <td>America</td>\n",
       "    </tr>\n",
       "    <tr>\n",
       "      <th>6272</th>\n",
       "      <td>GENESIS</td>\n",
       "      <td>G70 AWD</td>\n",
       "      <td>COMPACT</td>\n",
       "      <td>3.3</td>\n",
       "      <td>6.0</td>\n",
       "      <td>AS8</td>\n",
       "      <td>premium gasoline</td>\n",
       "      <td>14.1</td>\n",
       "      <td>9.5</td>\n",
       "      <td>12.0</td>\n",
       "      <td>24.0</td>\n",
       "      <td>284.0</td>\n",
       "      <td>USA</td>\n",
       "      <td>America</td>\n",
       "    </tr>\n",
       "    <tr>\n",
       "      <th>6273</th>\n",
       "      <td>GENESIS</td>\n",
       "      <td>G90 AWD</td>\n",
       "      <td>FULL-SIZE</td>\n",
       "      <td>3.3</td>\n",
       "      <td>6.0</td>\n",
       "      <td>AS8</td>\n",
       "      <td>premium gasoline</td>\n",
       "      <td>13.6</td>\n",
       "      <td>9.5</td>\n",
       "      <td>11.8</td>\n",
       "      <td>24.0</td>\n",
       "      <td>280.0</td>\n",
       "      <td>USA</td>\n",
       "      <td>America</td>\n",
       "    </tr>\n",
       "    <tr>\n",
       "      <th>6274</th>\n",
       "      <td>GENESIS</td>\n",
       "      <td>G90 AWD</td>\n",
       "      <td>FULL-SIZE</td>\n",
       "      <td>5.0</td>\n",
       "      <td>8.0</td>\n",
       "      <td>AS8</td>\n",
       "      <td>premium gasoline</td>\n",
       "      <td>15.4</td>\n",
       "      <td>10.2</td>\n",
       "      <td>13.1</td>\n",
       "      <td>22.0</td>\n",
       "      <td>311.0</td>\n",
       "      <td>USA</td>\n",
       "      <td>America</td>\n",
       "    </tr>\n",
       "    <tr>\n",
       "      <th>6275</th>\n",
       "      <td>BUGATTI</td>\n",
       "      <td>CHIRON</td>\n",
       "      <td>TWO-SEATER</td>\n",
       "      <td>8.0</td>\n",
       "      <td>16.0</td>\n",
       "      <td>AM7</td>\n",
       "      <td>premium gasoline</td>\n",
       "      <td>26.8</td>\n",
       "      <td>16.6</td>\n",
       "      <td>22.2</td>\n",
       "      <td>13.0</td>\n",
       "      <td>522.0</td>\n",
       "      <td>Italy</td>\n",
       "      <td>Europe</td>\n",
       "    </tr>\n",
       "    <tr>\n",
       "      <th>6276</th>\n",
       "      <td>BUGATTI</td>\n",
       "      <td>Chiron</td>\n",
       "      <td>TWO-SEATER</td>\n",
       "      <td>8.0</td>\n",
       "      <td>16.0</td>\n",
       "      <td>AM7</td>\n",
       "      <td>premium gasoline</td>\n",
       "      <td>26.8</td>\n",
       "      <td>16.6</td>\n",
       "      <td>22.2</td>\n",
       "      <td>13.0</td>\n",
       "      <td>522.0</td>\n",
       "      <td>Italy</td>\n",
       "      <td>Europe</td>\n",
       "    </tr>\n",
       "  </tbody>\n",
       "</table>\n",
       "</div>"
      ],
      "text/plain": [
       "         Make    Model Vehicle Class Engine Size(L)  Cylinders Transmission  \\\n",
       "6267  GENESIS  G80 AWD     FULL-SIZE            5.0        8.0          AS8   \n",
       "6268  GENESIS      G70       COMPACT            2.0        4.0           M6   \n",
       "6269  GENESIS  G70 AWD       COMPACT            2.0        4.0          AS8   \n",
       "6270  GENESIS  G70 AWD       COMPACT            3.3        6.0          AS8   \n",
       "6271  GENESIS  G70 AWD       COMPACT            2.0        4.0          AS8   \n",
       "6272  GENESIS  G70 AWD       COMPACT            3.3        6.0          AS8   \n",
       "6273  GENESIS  G90 AWD     FULL-SIZE            3.3        6.0          AS8   \n",
       "6274  GENESIS  G90 AWD     FULL-SIZE            5.0        8.0          AS8   \n",
       "6275  BUGATTI   CHIRON    TWO-SEATER            8.0       16.0          AM7   \n",
       "6276  BUGATTI   Chiron    TWO-SEATER            8.0       16.0          AM7   \n",
       "\n",
       "             Fuel Type  Fuel Consumption City (L/100 km)  \\\n",
       "6267  premium gasoline                              15.6   \n",
       "6268  premium gasoline                              12.8   \n",
       "6269  premium gasoline                              11.5   \n",
       "6270  premium gasoline                              13.3   \n",
       "6271  premium gasoline                              11.4   \n",
       "6272  premium gasoline                              14.1   \n",
       "6273  premium gasoline                              13.6   \n",
       "6274  premium gasoline                              15.4   \n",
       "6275  premium gasoline                              26.8   \n",
       "6276  premium gasoline                              26.8   \n",
       "\n",
       "      Fuel Consumption Hwy (L/100 km)  Fuel Consumption Comb (L/100 km)  \\\n",
       "6267                             10.4                              13.2   \n",
       "6268                              8.5                              10.9   \n",
       "6269                              8.7                              10.3   \n",
       "6270                              9.5                              11.6   \n",
       "6271                              8.6                              10.2   \n",
       "6272                              9.5                              12.0   \n",
       "6273                              9.5                              11.8   \n",
       "6274                             10.2                              13.1   \n",
       "6275                             16.6                              22.2   \n",
       "6276                             16.6                              22.2   \n",
       "\n",
       "      Fuel Consumption Comb (mpg)  CO2 Emissions(g/km) Country Continent  \n",
       "6267                         21.0                312.0     USA   America  \n",
       "6268                         26.0                255.0     USA   America  \n",
       "6269                         27.0                241.0     USA   America  \n",
       "6270                         24.0                274.0     USA   America  \n",
       "6271                         28.0                238.0     USA   America  \n",
       "6272                         24.0                284.0     USA   America  \n",
       "6273                         24.0                280.0     USA   America  \n",
       "6274                         22.0                311.0     USA   America  \n",
       "6275                         13.0                522.0   Italy    Europe  \n",
       "6276                         13.0                522.0   Italy    Europe  "
      ]
     },
     "execution_count": 7,
     "metadata": {},
     "output_type": "execute_result"
    }
   ],
   "source": [
    "df.tail(10)"
   ]
  },
  {
   "cell_type": "markdown",
   "id": "28a8d488",
   "metadata": {},
   "source": [
    "#### c) Muestre todos los nombres de las columnas del conjunto de datos."
   ]
  },
  {
   "cell_type": "code",
   "execution_count": 8,
   "id": "56cc42b6",
   "metadata": {
    "ExecuteTime": {
     "end_time": "2022-07-29T04:07:41.447429Z",
     "start_time": "2022-07-29T04:07:41.432802Z"
    }
   },
   "outputs": [
    {
     "data": {
      "text/plain": [
       "Index(['Make', 'Model', 'Vehicle Class', 'Engine Size(L)', 'Cylinders',\n",
       "       'Transmission', 'Fuel Type', 'Fuel Consumption City (L/100 km)',\n",
       "       'Fuel Consumption Hwy (L/100 km)', 'Fuel Consumption Comb (L/100 km)',\n",
       "       'Fuel Consumption Comb (mpg)', 'CO2 Emissions(g/km)', 'Country',\n",
       "       'Continent'],\n",
       "      dtype='object')"
      ]
     },
     "execution_count": 8,
     "metadata": {},
     "output_type": "execute_result"
    }
   ],
   "source": [
    "df.columns"
   ]
  },
  {
   "cell_type": "markdown",
   "id": "ca4e2272",
   "metadata": {},
   "source": [
    "#### d) Cuente el número de columnas y el número de filas."
   ]
  },
  {
   "cell_type": "code",
   "execution_count": 9,
   "id": "ff252287",
   "metadata": {
    "ExecuteTime": {
     "end_time": "2022-07-29T04:07:41.462561Z",
     "start_time": "2022-07-29T04:07:41.450574Z"
    }
   },
   "outputs": [
    {
     "name": "stdout",
     "output_type": "stream",
     "text": [
      "número de columnas 14 número de files 6277\n"
     ]
    }
   ],
   "source": [
    "print(\"número de columnas\", df.shape[1], \"número de files\", df.shape[0])"
   ]
  },
  {
   "cell_type": "markdown",
   "id": "6f65ce51",
   "metadata": {},
   "source": [
    "#### e) Reemplace todos los valores de columna que contengan \"?\" o valores vacíos con valores NaN."
   ]
  },
  {
   "cell_type": "code",
   "execution_count": 10,
   "id": "390f57b8",
   "metadata": {
    "ExecuteTime": {
     "end_time": "2022-07-29T04:07:41.512594Z",
     "start_time": "2022-07-29T04:07:41.468859Z"
    }
   },
   "outputs": [
    {
     "name": "stdout",
     "output_type": "stream",
     "text": [
      "<class 'pandas.core.frame.DataFrame'>\n",
      "Int64Index: 6277 entries, 0 to 6276\n",
      "Data columns (total 14 columns):\n",
      " #   Column                            Non-Null Count  Dtype  \n",
      "---  ------                            --------------  -----  \n",
      " 0   Make                              6277 non-null   object \n",
      " 1   Model                             6277 non-null   object \n",
      " 2   Vehicle Class                     6277 non-null   object \n",
      " 3   Engine Size(L)                    6277 non-null   object \n",
      " 4   Cylinders                         6277 non-null   float64\n",
      " 5   Transmission                      6277 non-null   object \n",
      " 6   Fuel Type                         6277 non-null   object \n",
      " 7   Fuel Consumption City (L/100 km)  6276 non-null   float64\n",
      " 8   Fuel Consumption Hwy (L/100 km)   6275 non-null   float64\n",
      " 9   Fuel Consumption Comb (L/100 km)  6277 non-null   float64\n",
      " 10  Fuel Consumption Comb (mpg)       6277 non-null   float64\n",
      " 11  CO2 Emissions(g/km)               6277 non-null   float64\n",
      " 12  Country                           6277 non-null   object \n",
      " 13  Continent                         6277 non-null   object \n",
      "dtypes: float64(6), object(8)\n",
      "memory usage: 735.6+ KB\n"
     ]
    }
   ],
   "source": [
    "df.info()"
   ]
  },
  {
   "cell_type": "markdown",
   "id": "733ccaf3",
   "metadata": {},
   "source": [
    "Se observa que engine size aunque posee valores numéricos fue cargada como tipo object, de tal manera que en este atributo existen valores anómalos"
   ]
  },
  {
   "cell_type": "code",
   "execution_count": 11,
   "id": "9f516f5a",
   "metadata": {
    "ExecuteTime": {
     "end_time": "2022-07-29T04:07:41.547186Z",
     "start_time": "2022-07-29T04:07:41.516377Z"
    }
   },
   "outputs": [
    {
     "data": {
      "text/html": [
       "<div>\n",
       "<style scoped>\n",
       "    .dataframe tbody tr th:only-of-type {\n",
       "        vertical-align: middle;\n",
       "    }\n",
       "\n",
       "    .dataframe tbody tr th {\n",
       "        vertical-align: top;\n",
       "    }\n",
       "\n",
       "    .dataframe thead th {\n",
       "        text-align: right;\n",
       "    }\n",
       "</style>\n",
       "<table border=\"1\" class=\"dataframe\">\n",
       "  <thead>\n",
       "    <tr style=\"text-align: right;\">\n",
       "      <th></th>\n",
       "      <th>Make</th>\n",
       "      <th>Model</th>\n",
       "      <th>Vehicle Class</th>\n",
       "      <th>Engine Size(L)</th>\n",
       "      <th>Cylinders</th>\n",
       "      <th>Transmission</th>\n",
       "      <th>Fuel Type</th>\n",
       "      <th>Fuel Consumption City (L/100 km)</th>\n",
       "      <th>Fuel Consumption Hwy (L/100 km)</th>\n",
       "      <th>Fuel Consumption Comb (L/100 km)</th>\n",
       "      <th>Fuel Consumption Comb (mpg)</th>\n",
       "      <th>CO2 Emissions(g/km)</th>\n",
       "      <th>Country</th>\n",
       "      <th>Continent</th>\n",
       "    </tr>\n",
       "  </thead>\n",
       "  <tbody>\n",
       "    <tr>\n",
       "      <th>1025</th>\n",
       "      <td>CADILLAC</td>\n",
       "      <td>SRX AWD</td>\n",
       "      <td>SUV - STANDARD</td>\n",
       "      <td>?</td>\n",
       "      <td>6.0</td>\n",
       "      <td>AS6</td>\n",
       "      <td>regular gasoline</td>\n",
       "      <td>14.8</td>\n",
       "      <td>10.4</td>\n",
       "      <td>12.8</td>\n",
       "      <td>22.0</td>\n",
       "      <td>294.0</td>\n",
       "      <td>USA</td>\n",
       "      <td>America</td>\n",
       "    </tr>\n",
       "  </tbody>\n",
       "</table>\n",
       "</div>"
      ],
      "text/plain": [
       "          Make    Model   Vehicle Class Engine Size(L)  Cylinders  \\\n",
       "1025  CADILLAC  SRX AWD  SUV - STANDARD              ?        6.0   \n",
       "\n",
       "     Transmission         Fuel Type  Fuel Consumption City (L/100 km)  \\\n",
       "1025          AS6  regular gasoline                              14.8   \n",
       "\n",
       "      Fuel Consumption Hwy (L/100 km)  Fuel Consumption Comb (L/100 km)  \\\n",
       "1025                             10.4                              12.8   \n",
       "\n",
       "      Fuel Consumption Comb (mpg)  CO2 Emissions(g/km) Country Continent  \n",
       "1025                         22.0                294.0     USA   America  "
      ]
     },
     "execution_count": 11,
     "metadata": {},
     "output_type": "execute_result"
    }
   ],
   "source": [
    "df[df['Engine Size(L)']=='?']"
   ]
  },
  {
   "cell_type": "code",
   "execution_count": 12,
   "id": "f2b1d86e",
   "metadata": {
    "ExecuteTime": {
     "end_time": "2022-07-29T04:07:41.578331Z",
     "start_time": "2022-07-29T04:07:41.550873Z"
    }
   },
   "outputs": [],
   "source": [
    "df.replace({'?':np.NAN},inplace=True)"
   ]
  },
  {
   "cell_type": "code",
   "execution_count": 13,
   "id": "688b5aad",
   "metadata": {
    "ExecuteTime": {
     "end_time": "2022-07-29T04:07:41.671195Z",
     "start_time": "2022-07-29T04:07:41.581785Z"
    }
   },
   "outputs": [],
   "source": [
    "df.replace(r'^\\s*$', np.nan, regex=True,inplace=True)"
   ]
  },
  {
   "cell_type": "markdown",
   "id": "9ab5a249",
   "metadata": {},
   "source": [
    "#### f) Cuente las entradas de valores NaN y elimine las filas con NaN."
   ]
  },
  {
   "cell_type": "code",
   "execution_count": 14,
   "id": "d0787bb8",
   "metadata": {
    "ExecuteTime": {
     "end_time": "2022-07-29T04:07:41.718808Z",
     "start_time": "2022-07-29T04:07:41.674961Z"
    }
   },
   "outputs": [
    {
     "data": {
      "text/html": [
       "<div>\n",
       "<style scoped>\n",
       "    .dataframe tbody tr th:only-of-type {\n",
       "        vertical-align: middle;\n",
       "    }\n",
       "\n",
       "    .dataframe tbody tr th {\n",
       "        vertical-align: top;\n",
       "    }\n",
       "\n",
       "    .dataframe thead th {\n",
       "        text-align: right;\n",
       "    }\n",
       "</style>\n",
       "<table border=\"1\" class=\"dataframe\">\n",
       "  <thead>\n",
       "    <tr style=\"text-align: right;\">\n",
       "      <th></th>\n",
       "      <th>Make</th>\n",
       "      <th>Model</th>\n",
       "      <th>Vehicle Class</th>\n",
       "      <th>Engine Size(L)</th>\n",
       "      <th>Cylinders</th>\n",
       "      <th>Transmission</th>\n",
       "      <th>Fuel Type</th>\n",
       "      <th>Fuel Consumption City (L/100 km)</th>\n",
       "      <th>Fuel Consumption Hwy (L/100 km)</th>\n",
       "      <th>Fuel Consumption Comb (L/100 km)</th>\n",
       "      <th>Fuel Consumption Comb (mpg)</th>\n",
       "      <th>CO2 Emissions(g/km)</th>\n",
       "      <th>Country</th>\n",
       "      <th>Continent</th>\n",
       "    </tr>\n",
       "  </thead>\n",
       "  <tbody>\n",
       "    <tr>\n",
       "      <th>46</th>\n",
       "      <td>ACURA</td>\n",
       "      <td>RDX AWD A-SPEC</td>\n",
       "      <td>SUV - SMALL</td>\n",
       "      <td>2.0</td>\n",
       "      <td>4.0</td>\n",
       "      <td>NaN</td>\n",
       "      <td>premium gasoline</td>\n",
       "      <td>11.3</td>\n",
       "      <td>9.1</td>\n",
       "      <td>10.3</td>\n",
       "      <td>27.0</td>\n",
       "      <td>242.0</td>\n",
       "      <td>USA</td>\n",
       "      <td>America</td>\n",
       "    </tr>\n",
       "    <tr>\n",
       "      <th>142</th>\n",
       "      <td>AUDI</td>\n",
       "      <td>RS 5</td>\n",
       "      <td>SUBCOMPACT</td>\n",
       "      <td>4.2</td>\n",
       "      <td>8.0</td>\n",
       "      <td>A7</td>\n",
       "      <td>premium gasoline</td>\n",
       "      <td>15.3</td>\n",
       "      <td>NaN</td>\n",
       "      <td>13.3</td>\n",
       "      <td>21.0</td>\n",
       "      <td>306.0</td>\n",
       "      <td>Germany</td>\n",
       "      <td>Europe</td>\n",
       "    </tr>\n",
       "    <tr>\n",
       "      <th>421</th>\n",
       "      <td>BMW</td>\n",
       "      <td>428i COUPE</td>\n",
       "      <td>COMPACT</td>\n",
       "      <td>2.0</td>\n",
       "      <td>4.0</td>\n",
       "      <td>A8</td>\n",
       "      <td>premium gasoline</td>\n",
       "      <td>NaN</td>\n",
       "      <td>6.5</td>\n",
       "      <td>8.4</td>\n",
       "      <td>34.0</td>\n",
       "      <td>193.0</td>\n",
       "      <td>Germany</td>\n",
       "      <td>Europe</td>\n",
       "    </tr>\n",
       "    <tr>\n",
       "      <th>458</th>\n",
       "      <td>BMW</td>\n",
       "      <td>X3 xDRIVE35i</td>\n",
       "      <td>SUV - SMALL</td>\n",
       "      <td>3.0</td>\n",
       "      <td>6.0</td>\n",
       "      <td>NaN</td>\n",
       "      <td>premium gasoline</td>\n",
       "      <td>12.6</td>\n",
       "      <td>9.1</td>\n",
       "      <td>11.0</td>\n",
       "      <td>26.0</td>\n",
       "      <td>253.0</td>\n",
       "      <td>Germany</td>\n",
       "      <td>Europe</td>\n",
       "    </tr>\n",
       "    <tr>\n",
       "      <th>836</th>\n",
       "      <td>BMW</td>\n",
       "      <td>X5 xDrive40i</td>\n",
       "      <td>SUV - STANDARD</td>\n",
       "      <td>3.0</td>\n",
       "      <td>6.0</td>\n",
       "      <td>AS8</td>\n",
       "      <td>premium gasoline</td>\n",
       "      <td>11.7</td>\n",
       "      <td>NaN</td>\n",
       "      <td>10.5</td>\n",
       "      <td>27.0</td>\n",
       "      <td>245.0</td>\n",
       "      <td>Germany</td>\n",
       "      <td>Europe</td>\n",
       "    </tr>\n",
       "    <tr>\n",
       "      <th>1025</th>\n",
       "      <td>CADILLAC</td>\n",
       "      <td>SRX AWD</td>\n",
       "      <td>SUV - STANDARD</td>\n",
       "      <td>NaN</td>\n",
       "      <td>6.0</td>\n",
       "      <td>AS6</td>\n",
       "      <td>regular gasoline</td>\n",
       "      <td>14.8</td>\n",
       "      <td>10.4</td>\n",
       "      <td>12.8</td>\n",
       "      <td>22.0</td>\n",
       "      <td>294.0</td>\n",
       "      <td>USA</td>\n",
       "      <td>America</td>\n",
       "    </tr>\n",
       "  </tbody>\n",
       "</table>\n",
       "</div>"
      ],
      "text/plain": [
       "          Make           Model   Vehicle Class Engine Size(L)  Cylinders  \\\n",
       "46       ACURA  RDX AWD A-SPEC     SUV - SMALL            2.0        4.0   \n",
       "142       AUDI            RS 5      SUBCOMPACT            4.2        8.0   \n",
       "421        BMW      428i COUPE         COMPACT            2.0        4.0   \n",
       "458        BMW    X3 xDRIVE35i     SUV - SMALL            3.0        6.0   \n",
       "836        BMW    X5 xDrive40i  SUV - STANDARD            3.0        6.0   \n",
       "1025  CADILLAC         SRX AWD  SUV - STANDARD            NaN        6.0   \n",
       "\n",
       "     Transmission         Fuel Type  Fuel Consumption City (L/100 km)  \\\n",
       "46            NaN  premium gasoline                              11.3   \n",
       "142            A7  premium gasoline                              15.3   \n",
       "421            A8  premium gasoline                               NaN   \n",
       "458           NaN  premium gasoline                              12.6   \n",
       "836           AS8  premium gasoline                              11.7   \n",
       "1025          AS6  regular gasoline                              14.8   \n",
       "\n",
       "      Fuel Consumption Hwy (L/100 km)  Fuel Consumption Comb (L/100 km)  \\\n",
       "46                                9.1                              10.3   \n",
       "142                               NaN                              13.3   \n",
       "421                               6.5                               8.4   \n",
       "458                               9.1                              11.0   \n",
       "836                               NaN                              10.5   \n",
       "1025                             10.4                              12.8   \n",
       "\n",
       "      Fuel Consumption Comb (mpg)  CO2 Emissions(g/km)  Country Continent  \n",
       "46                           27.0                242.0      USA   America  \n",
       "142                          21.0                306.0  Germany    Europe  \n",
       "421                          34.0                193.0  Germany    Europe  \n",
       "458                          26.0                253.0  Germany    Europe  \n",
       "836                          27.0                245.0  Germany    Europe  \n",
       "1025                         22.0                294.0      USA   America  "
      ]
     },
     "execution_count": 14,
     "metadata": {},
     "output_type": "execute_result"
    }
   ],
   "source": [
    "df[df.isna().any(axis=1)]\n",
    "#df.isna().any(axis=1) va observando si hay al menos un nan por cada columna y si es así arroja True en esa fila "
   ]
  },
  {
   "cell_type": "code",
   "execution_count": 15,
   "id": "8e0b3cc4",
   "metadata": {
    "ExecuteTime": {
     "end_time": "2022-07-29T04:07:41.751047Z",
     "start_time": "2022-07-29T04:07:41.722215Z"
    }
   },
   "outputs": [
    {
     "data": {
      "text/plain": [
       "Make                                0\n",
       "Model                               0\n",
       "Vehicle Class                       0\n",
       "Engine Size(L)                      1\n",
       "Cylinders                           0\n",
       "Transmission                        2\n",
       "Fuel Type                           0\n",
       "Fuel Consumption City (L/100 km)    1\n",
       "Fuel Consumption Hwy (L/100 km)     2\n",
       "Fuel Consumption Comb (L/100 km)    0\n",
       "Fuel Consumption Comb (mpg)         0\n",
       "CO2 Emissions(g/km)                 0\n",
       "Country                             0\n",
       "Continent                           0\n",
       "dtype: int64"
      ]
     },
     "execution_count": 15,
     "metadata": {},
     "output_type": "execute_result"
    }
   ],
   "source": [
    "df.isna().sum()"
   ]
  },
  {
   "cell_type": "code",
   "execution_count": 16,
   "id": "0c6c19d1",
   "metadata": {
    "ExecuteTime": {
     "end_time": "2022-07-29T04:07:41.790332Z",
     "start_time": "2022-07-29T04:07:41.755178Z"
    }
   },
   "outputs": [
    {
     "data": {
      "text/plain": [
       "6"
      ]
     },
     "execution_count": 16,
     "metadata": {},
     "output_type": "execute_result"
    }
   ],
   "source": [
    "df.isna().sum().sum()"
   ]
  },
  {
   "cell_type": "code",
   "execution_count": 17,
   "id": "4449fb3c",
   "metadata": {
    "ExecuteTime": {
     "end_time": "2022-07-29T04:07:41.806587Z",
     "start_time": "2022-07-29T04:07:41.794747Z"
    }
   },
   "outputs": [
    {
     "name": "stdout",
     "output_type": "stream",
     "text": [
      "el DataFrame antes de la eliminación de NaN posee dimensiones  (6277, 14)\n"
     ]
    }
   ],
   "source": [
    "print(\"el DataFrame antes de la eliminación de NaN posee dimensiones \",df.shape)"
   ]
  },
  {
   "cell_type": "code",
   "execution_count": 18,
   "id": "38e23cec",
   "metadata": {
    "ExecuteTime": {
     "end_time": "2022-07-29T04:07:41.840786Z",
     "start_time": "2022-07-29T04:07:41.809772Z"
    }
   },
   "outputs": [],
   "source": [
    "df.dropna(inplace=True)"
   ]
  },
  {
   "cell_type": "code",
   "execution_count": 19,
   "id": "7901030a",
   "metadata": {
    "ExecuteTime": {
     "end_time": "2022-07-29T04:07:41.863331Z",
     "start_time": "2022-07-29T04:07:41.844543Z"
    }
   },
   "outputs": [
    {
     "name": "stdout",
     "output_type": "stream",
     "text": [
      "el DataFrame después de la eliminación de NaN posee dimensiones  (6271, 14)\n"
     ]
    }
   ],
   "source": [
    "print(\"el DataFrame después de la eliminación de NaN posee dimensiones \",df.shape)"
   ]
  },
  {
   "cell_type": "markdown",
   "id": "5c716f20",
   "metadata": {},
   "source": [
    "#### g) Cuente las filas repetidas y elimínelas."
   ]
  },
  {
   "cell_type": "code",
   "execution_count": 20,
   "id": "3bdc0a98",
   "metadata": {
    "ExecuteTime": {
     "end_time": "2022-07-29T04:07:41.908908Z",
     "start_time": "2022-07-29T04:07:41.868882Z"
    }
   },
   "outputs": [],
   "source": [
    "dfDuplicates=df.groupby(df.columns.tolist(), as_index=False).size()"
   ]
  },
  {
   "cell_type": "code",
   "execution_count": 21,
   "id": "f713a491",
   "metadata": {
    "ExecuteTime": {
     "end_time": "2022-07-29T04:07:41.942603Z",
     "start_time": "2022-07-29T04:07:41.913184Z"
    }
   },
   "outputs": [
    {
     "data": {
      "text/html": [
       "<div>\n",
       "<style scoped>\n",
       "    .dataframe tbody tr th:only-of-type {\n",
       "        vertical-align: middle;\n",
       "    }\n",
       "\n",
       "    .dataframe tbody tr th {\n",
       "        vertical-align: top;\n",
       "    }\n",
       "\n",
       "    .dataframe thead th {\n",
       "        text-align: right;\n",
       "    }\n",
       "</style>\n",
       "<table border=\"1\" class=\"dataframe\">\n",
       "  <thead>\n",
       "    <tr style=\"text-align: right;\">\n",
       "      <th></th>\n",
       "      <th>Make</th>\n",
       "      <th>Model</th>\n",
       "      <th>Vehicle Class</th>\n",
       "      <th>Engine Size(L)</th>\n",
       "      <th>Cylinders</th>\n",
       "      <th>Transmission</th>\n",
       "      <th>Fuel Type</th>\n",
       "      <th>Fuel Consumption City (L/100 km)</th>\n",
       "      <th>Fuel Consumption Hwy (L/100 km)</th>\n",
       "      <th>Fuel Consumption Comb (L/100 km)</th>\n",
       "      <th>Fuel Consumption Comb (mpg)</th>\n",
       "      <th>CO2 Emissions(g/km)</th>\n",
       "      <th>Country</th>\n",
       "      <th>Continent</th>\n",
       "      <th>size</th>\n",
       "    </tr>\n",
       "  </thead>\n",
       "  <tbody>\n",
       "  </tbody>\n",
       "</table>\n",
       "</div>"
      ],
      "text/plain": [
       "Empty DataFrame\n",
       "Columns: [Make, Model, Vehicle Class, Engine Size(L), Cylinders, Transmission, Fuel Type, Fuel Consumption City (L/100 km), Fuel Consumption Hwy (L/100 km), Fuel Consumption Comb (L/100 km), Fuel Consumption Comb (mpg), CO2 Emissions(g/km), Country, Continent, size]\n",
       "Index: []"
      ]
     },
     "execution_count": 21,
     "metadata": {},
     "output_type": "execute_result"
    }
   ],
   "source": [
    "dfDuplicates[dfDuplicates['size']>1]"
   ]
  },
  {
   "cell_type": "code",
   "execution_count": 22,
   "id": "e38d7273",
   "metadata": {
    "ExecuteTime": {
     "end_time": "2022-07-29T04:07:41.973773Z",
     "start_time": "2022-07-29T04:07:41.947200Z"
    }
   },
   "outputs": [
    {
     "data": {
      "text/plain": [
       "(6271, 14)"
      ]
     },
     "execution_count": 22,
     "metadata": {},
     "output_type": "execute_result"
    }
   ],
   "source": [
    "df.drop_duplicates().shape"
   ]
  },
  {
   "cell_type": "markdown",
   "id": "3b609e67",
   "metadata": {},
   "source": [
    "Se observa que no existen valores duplicados en el Dataframe"
   ]
  },
  {
   "cell_type": "markdown",
   "id": "dc15f27e",
   "metadata": {},
   "source": [
    "## 2. Adición y cambio de las características"
   ]
  },
  {
   "cell_type": "markdown",
   "id": "e6e2f220",
   "metadata": {},
   "source": [
    "#### a) Cambie los nombres de la gasolina ('Fuel Type') a nombres más significativos (X = gasolina regular, Z = gasolina premium, D = diesel, E = etanol (E85), N = gas natural)."
   ]
  },
  {
   "cell_type": "code",
   "execution_count": 23,
   "id": "0cba298c",
   "metadata": {
    "ExecuteTime": {
     "end_time": "2022-07-29T04:07:41.989584Z",
     "start_time": "2022-07-29T04:07:41.977908Z"
    }
   },
   "outputs": [
    {
     "data": {
      "text/plain": [
       "array(['premium gasoline', 'diesel', 'regular gasoline', 'ethanol',\n",
       "       'natural gas'], dtype=object)"
      ]
     },
     "execution_count": 23,
     "metadata": {},
     "output_type": "execute_result"
    }
   ],
   "source": [
    "df['Fuel Type'].unique()"
   ]
  },
  {
   "cell_type": "markdown",
   "id": "935b426b",
   "metadata": {},
   "source": [
    "Se observa que ya están cambiados los nombres"
   ]
  },
  {
   "cell_type": "markdown",
   "id": "d5d9140a",
   "metadata": {},
   "source": [
    "#### b) Cree una nueva columna llamada 'Automatic / Manual' donde solo aparecerán valores de cadenas: A y M (extraiga dichos valores de la columna 'Transmission').\n",
    "\n"
   ]
  },
  {
   "cell_type": "code",
   "execution_count": 24,
   "id": "ea7e2831",
   "metadata": {
    "ExecuteTime": {
     "end_time": "2022-07-29T04:07:42.004977Z",
     "start_time": "2022-07-29T04:07:41.993256Z"
    }
   },
   "outputs": [],
   "source": [
    "df['Automatic/Manual']=df['Transmission'].apply(lambda x:x[0])"
   ]
  },
  {
   "cell_type": "code",
   "execution_count": 25,
   "id": "312ea851",
   "metadata": {
    "ExecuteTime": {
     "end_time": "2022-07-29T04:07:42.027171Z",
     "start_time": "2022-07-29T04:07:42.008685Z"
    }
   },
   "outputs": [],
   "source": [
    "df['A/M digital']=df['Automatic/Manual'].map({'A':0,'M':1})"
   ]
  },
  {
   "cell_type": "code",
   "execution_count": 26,
   "id": "d1ea1bdf",
   "metadata": {
    "ExecuteTime": {
     "end_time": "2022-07-29T04:07:42.064774Z",
     "start_time": "2022-07-29T04:07:42.032002Z"
    }
   },
   "outputs": [
    {
     "data": {
      "text/html": [
       "<div>\n",
       "<style scoped>\n",
       "    .dataframe tbody tr th:only-of-type {\n",
       "        vertical-align: middle;\n",
       "    }\n",
       "\n",
       "    .dataframe tbody tr th {\n",
       "        vertical-align: top;\n",
       "    }\n",
       "\n",
       "    .dataframe thead th {\n",
       "        text-align: right;\n",
       "    }\n",
       "</style>\n",
       "<table border=\"1\" class=\"dataframe\">\n",
       "  <thead>\n",
       "    <tr style=\"text-align: right;\">\n",
       "      <th></th>\n",
       "      <th>Make</th>\n",
       "      <th>Model</th>\n",
       "      <th>Vehicle Class</th>\n",
       "      <th>Engine Size(L)</th>\n",
       "      <th>Cylinders</th>\n",
       "      <th>Transmission</th>\n",
       "      <th>Fuel Type</th>\n",
       "      <th>Fuel Consumption City (L/100 km)</th>\n",
       "      <th>Fuel Consumption Hwy (L/100 km)</th>\n",
       "      <th>Fuel Consumption Comb (L/100 km)</th>\n",
       "      <th>Fuel Consumption Comb (mpg)</th>\n",
       "      <th>CO2 Emissions(g/km)</th>\n",
       "      <th>Country</th>\n",
       "      <th>Continent</th>\n",
       "      <th>Automatic/Manual</th>\n",
       "      <th>A/M digital</th>\n",
       "    </tr>\n",
       "  </thead>\n",
       "  <tbody>\n",
       "    <tr>\n",
       "      <th>0</th>\n",
       "      <td>ACURA</td>\n",
       "      <td>ILX</td>\n",
       "      <td>COMPACT</td>\n",
       "      <td>2.0</td>\n",
       "      <td>4.0</td>\n",
       "      <td>AS5</td>\n",
       "      <td>premium gasoline</td>\n",
       "      <td>9.9</td>\n",
       "      <td>6.7</td>\n",
       "      <td>8.5</td>\n",
       "      <td>33.0</td>\n",
       "      <td>196.0</td>\n",
       "      <td>USA</td>\n",
       "      <td>America</td>\n",
       "      <td>A</td>\n",
       "      <td>0</td>\n",
       "    </tr>\n",
       "    <tr>\n",
       "      <th>1</th>\n",
       "      <td>ACURA</td>\n",
       "      <td>ILX</td>\n",
       "      <td>COMPACT</td>\n",
       "      <td>2.4</td>\n",
       "      <td>4.0</td>\n",
       "      <td>M6</td>\n",
       "      <td>premium gasoline</td>\n",
       "      <td>11.2</td>\n",
       "      <td>7.7</td>\n",
       "      <td>9.6</td>\n",
       "      <td>29.0</td>\n",
       "      <td>221.0</td>\n",
       "      <td>USA</td>\n",
       "      <td>America</td>\n",
       "      <td>M</td>\n",
       "      <td>1</td>\n",
       "    </tr>\n",
       "    <tr>\n",
       "      <th>2</th>\n",
       "      <td>ACURA</td>\n",
       "      <td>ILX HYBRID</td>\n",
       "      <td>COMPACT</td>\n",
       "      <td>1.5</td>\n",
       "      <td>4.0</td>\n",
       "      <td>AV7</td>\n",
       "      <td>premium gasoline</td>\n",
       "      <td>6.0</td>\n",
       "      <td>5.8</td>\n",
       "      <td>5.9</td>\n",
       "      <td>48.0</td>\n",
       "      <td>136.0</td>\n",
       "      <td>USA</td>\n",
       "      <td>America</td>\n",
       "      <td>A</td>\n",
       "      <td>0</td>\n",
       "    </tr>\n",
       "  </tbody>\n",
       "</table>\n",
       "</div>"
      ],
      "text/plain": [
       "    Make       Model Vehicle Class Engine Size(L)  Cylinders Transmission  \\\n",
       "0  ACURA         ILX       COMPACT            2.0        4.0          AS5   \n",
       "1  ACURA         ILX       COMPACT            2.4        4.0           M6   \n",
       "2  ACURA  ILX HYBRID       COMPACT            1.5        4.0          AV7   \n",
       "\n",
       "          Fuel Type  Fuel Consumption City (L/100 km)  \\\n",
       "0  premium gasoline                               9.9   \n",
       "1  premium gasoline                              11.2   \n",
       "2  premium gasoline                               6.0   \n",
       "\n",
       "   Fuel Consumption Hwy (L/100 km)  Fuel Consumption Comb (L/100 km)  \\\n",
       "0                              6.7                               8.5   \n",
       "1                              7.7                               9.6   \n",
       "2                              5.8                               5.9   \n",
       "\n",
       "   Fuel Consumption Comb (mpg)  CO2 Emissions(g/km) Country Continent  \\\n",
       "0                         33.0                196.0     USA   America   \n",
       "1                         29.0                221.0     USA   America   \n",
       "2                         48.0                136.0     USA   America   \n",
       "\n",
       "  Automatic/Manual  A/M digital  \n",
       "0                A            0  \n",
       "1                M            1  \n",
       "2                A            0  "
      ]
     },
     "execution_count": 26,
     "metadata": {},
     "output_type": "execute_result"
    }
   ],
   "source": [
    "df.head(3)"
   ]
  },
  {
   "cell_type": "markdown",
   "id": "82ff656f",
   "metadata": {},
   "source": [
    "## 3. Extracción de información"
   ]
  },
  {
   "cell_type": "markdown",
   "id": "60020c9b",
   "metadata": {},
   "source": [
    "#### a) Cuente cuántas marcas de automóviles (\"Make\") están en el conjunto de datos."
   ]
  },
  {
   "cell_type": "code",
   "execution_count": 27,
   "id": "a9ea0ae4",
   "metadata": {
    "ExecuteTime": {
     "end_time": "2022-07-29T04:07:42.082472Z",
     "start_time": "2022-07-29T04:07:42.068776Z"
    }
   },
   "outputs": [
    {
     "data": {
      "text/plain": [
       "42"
      ]
     },
     "execution_count": 27,
     "metadata": {},
     "output_type": "execute_result"
    }
   ],
   "source": [
    "df['Make'].nunique()"
   ]
  },
  {
   "cell_type": "markdown",
   "id": "0a214a34",
   "metadata": {},
   "source": [
    "#### b) Cuente el total de carros por marca y muestre las primeras diez marcas más comunes."
   ]
  },
  {
   "cell_type": "code",
   "execution_count": 28,
   "id": "fed53cb8",
   "metadata": {
    "ExecuteTime": {
     "end_time": "2022-07-29T04:07:42.115557Z",
     "start_time": "2022-07-29T04:07:42.092094Z"
    }
   },
   "outputs": [
    {
     "data": {
      "text/plain": [
       "FORD             577\n",
       "CHEVROLET        515\n",
       "BMW              497\n",
       "MERCEDES-BENZ    364\n",
       "PORSCHE          296\n",
       "GMC              289\n",
       "TOYOTA           276\n",
       "AUDI             261\n",
       "NISSAN           213\n",
       "MINI             200\n",
       "Name: Make, dtype: int64"
      ]
     },
     "execution_count": 28,
     "metadata": {},
     "output_type": "execute_result"
    }
   ],
   "source": [
    "df['Make'].value_counts().head(10)"
   ]
  },
  {
   "cell_type": "markdown",
   "id": "d917e59d",
   "metadata": {},
   "source": [
    "#### c) Cuente el total de carros por marca y muestre las primeras diez marcas menos comunes"
   ]
  },
  {
   "cell_type": "code",
   "execution_count": 29,
   "id": "47e66e75",
   "metadata": {
    "ExecuteTime": {
     "end_time": "2022-07-29T04:07:42.131410Z",
     "start_time": "2022-07-29T04:07:42.119549Z"
    }
   },
   "outputs": [
    {
     "data": {
      "text/plain": [
       "BUGATTI          2\n",
       "SRT              2\n",
       "SMART            8\n",
       "GENESIS         14\n",
       "ALFA ROMEO      19\n",
       "SCION           21\n",
       "BENTLEY         35\n",
       "LAMBORGHINI     37\n",
       "ASTON MARTIN    39\n",
       "ROLLS-ROYCE     48\n",
       "Name: Make, dtype: int64"
      ]
     },
     "execution_count": 29,
     "metadata": {},
     "output_type": "execute_result"
    }
   ],
   "source": [
    "df['Make'].value_counts(ascending=True).head(10)"
   ]
  },
  {
   "cell_type": "markdown",
   "id": "699f05cb",
   "metadata": {},
   "source": [
    "#### d) Muestre la fila entera para un coche con la menor emisión de CO2."
   ]
  },
  {
   "cell_type": "code",
   "execution_count": 30,
   "id": "3d56cc7a",
   "metadata": {
    "ExecuteTime": {
     "end_time": "2022-07-29T04:07:42.158530Z",
     "start_time": "2022-07-29T04:07:42.134600Z"
    }
   },
   "outputs": [
    {
     "data": {
      "text/html": [
       "<div>\n",
       "<style scoped>\n",
       "    .dataframe tbody tr th:only-of-type {\n",
       "        vertical-align: middle;\n",
       "    }\n",
       "\n",
       "    .dataframe tbody tr th {\n",
       "        vertical-align: top;\n",
       "    }\n",
       "\n",
       "    .dataframe thead th {\n",
       "        text-align: right;\n",
       "    }\n",
       "</style>\n",
       "<table border=\"1\" class=\"dataframe\">\n",
       "  <thead>\n",
       "    <tr style=\"text-align: right;\">\n",
       "      <th></th>\n",
       "      <th>Make</th>\n",
       "      <th>Model</th>\n",
       "      <th>Vehicle Class</th>\n",
       "      <th>Engine Size(L)</th>\n",
       "      <th>Cylinders</th>\n",
       "      <th>Transmission</th>\n",
       "      <th>Fuel Type</th>\n",
       "      <th>Fuel Consumption City (L/100 km)</th>\n",
       "      <th>Fuel Consumption Hwy (L/100 km)</th>\n",
       "      <th>Fuel Consumption Comb (L/100 km)</th>\n",
       "      <th>Fuel Consumption Comb (mpg)</th>\n",
       "      <th>CO2 Emissions(g/km)</th>\n",
       "      <th>Country</th>\n",
       "      <th>Continent</th>\n",
       "      <th>Automatic/Manual</th>\n",
       "      <th>A/M digital</th>\n",
       "    </tr>\n",
       "  </thead>\n",
       "  <tbody>\n",
       "    <tr>\n",
       "      <th>3078</th>\n",
       "      <td>HYUNDAI</td>\n",
       "      <td>IONIQ BLUE</td>\n",
       "      <td>FULL-SIZE</td>\n",
       "      <td>1.6</td>\n",
       "      <td>4.0</td>\n",
       "      <td>AM6</td>\n",
       "      <td>regular gasoline</td>\n",
       "      <td>4.2</td>\n",
       "      <td>4.0</td>\n",
       "      <td>4.1</td>\n",
       "      <td>69.0</td>\n",
       "      <td>96.0</td>\n",
       "      <td>Korea</td>\n",
       "      <td>Asia</td>\n",
       "      <td>A</td>\n",
       "      <td>0</td>\n",
       "    </tr>\n",
       "  </tbody>\n",
       "</table>\n",
       "</div>"
      ],
      "text/plain": [
       "         Make       Model Vehicle Class Engine Size(L)  Cylinders  \\\n",
       "3078  HYUNDAI  IONIQ BLUE     FULL-SIZE            1.6        4.0   \n",
       "\n",
       "     Transmission         Fuel Type  Fuel Consumption City (L/100 km)  \\\n",
       "3078          AM6  regular gasoline                               4.2   \n",
       "\n",
       "      Fuel Consumption Hwy (L/100 km)  Fuel Consumption Comb (L/100 km)  \\\n",
       "3078                              4.0                               4.1   \n",
       "\n",
       "      Fuel Consumption Comb (mpg)  CO2 Emissions(g/km) Country Continent  \\\n",
       "3078                         69.0                 96.0   Korea      Asia   \n",
       "\n",
       "     Automatic/Manual  A/M digital  \n",
       "3078                A            0  "
      ]
     },
     "execution_count": 30,
     "metadata": {},
     "output_type": "execute_result"
    }
   ],
   "source": [
    "df.iloc[[df['CO2 Emissions(g/km)'].argmin()]]"
   ]
  },
  {
   "cell_type": "markdown",
   "id": "d72da568",
   "metadata": {},
   "source": [
    "#### e) Muestre la fila entera para un coche con la mayor emisión de CO2.\n",
    "\n"
   ]
  },
  {
   "cell_type": "code",
   "execution_count": 31,
   "id": "c6c76caa",
   "metadata": {
    "ExecuteTime": {
     "end_time": "2022-07-29T04:07:42.197678Z",
     "start_time": "2022-07-29T04:07:42.162722Z"
    }
   },
   "outputs": [
    {
     "data": {
      "text/html": [
       "<div>\n",
       "<style scoped>\n",
       "    .dataframe tbody tr th:only-of-type {\n",
       "        vertical-align: middle;\n",
       "    }\n",
       "\n",
       "    .dataframe tbody tr th {\n",
       "        vertical-align: top;\n",
       "    }\n",
       "\n",
       "    .dataframe thead th {\n",
       "        text-align: right;\n",
       "    }\n",
       "</style>\n",
       "<table border=\"1\" class=\"dataframe\">\n",
       "  <thead>\n",
       "    <tr style=\"text-align: right;\">\n",
       "      <th></th>\n",
       "      <th>Make</th>\n",
       "      <th>Model</th>\n",
       "      <th>Vehicle Class</th>\n",
       "      <th>Engine Size(L)</th>\n",
       "      <th>Cylinders</th>\n",
       "      <th>Transmission</th>\n",
       "      <th>Fuel Type</th>\n",
       "      <th>Fuel Consumption City (L/100 km)</th>\n",
       "      <th>Fuel Consumption Hwy (L/100 km)</th>\n",
       "      <th>Fuel Consumption Comb (L/100 km)</th>\n",
       "      <th>Fuel Consumption Comb (mpg)</th>\n",
       "      <th>CO2 Emissions(g/km)</th>\n",
       "      <th>Country</th>\n",
       "      <th>Continent</th>\n",
       "      <th>Automatic/Manual</th>\n",
       "      <th>A/M digital</th>\n",
       "    </tr>\n",
       "  </thead>\n",
       "  <tbody>\n",
       "    <tr>\n",
       "      <th>6275</th>\n",
       "      <td>BUGATTI</td>\n",
       "      <td>CHIRON</td>\n",
       "      <td>TWO-SEATER</td>\n",
       "      <td>8.0</td>\n",
       "      <td>16.0</td>\n",
       "      <td>AM7</td>\n",
       "      <td>premium gasoline</td>\n",
       "      <td>26.8</td>\n",
       "      <td>16.6</td>\n",
       "      <td>22.2</td>\n",
       "      <td>13.0</td>\n",
       "      <td>522.0</td>\n",
       "      <td>Italy</td>\n",
       "      <td>Europe</td>\n",
       "      <td>A</td>\n",
       "      <td>0</td>\n",
       "    </tr>\n",
       "  </tbody>\n",
       "</table>\n",
       "</div>"
      ],
      "text/plain": [
       "         Make   Model Vehicle Class Engine Size(L)  Cylinders Transmission  \\\n",
       "6275  BUGATTI  CHIRON    TWO-SEATER            8.0       16.0          AM7   \n",
       "\n",
       "             Fuel Type  Fuel Consumption City (L/100 km)  \\\n",
       "6275  premium gasoline                              26.8   \n",
       "\n",
       "      Fuel Consumption Hwy (L/100 km)  Fuel Consumption Comb (L/100 km)  \\\n",
       "6275                             16.6                              22.2   \n",
       "\n",
       "      Fuel Consumption Comb (mpg)  CO2 Emissions(g/km) Country Continent  \\\n",
       "6275                         13.0                522.0   Italy    Europe   \n",
       "\n",
       "     Automatic/Manual  A/M digital  \n",
       "6275                A            0  "
      ]
     },
     "execution_count": 31,
     "metadata": {},
     "output_type": "execute_result"
    }
   ],
   "source": [
    "df.iloc[[df['CO2 Emissions(g/km)'].argmax()]]"
   ]
  },
  {
   "cell_type": "markdown",
   "id": "b53024b4",
   "metadata": {
    "ExecuteTime": {
     "end_time": "2022-07-14T03:10:23.925175Z",
     "start_time": "2022-07-14T03:10:23.918271Z"
    }
   },
   "source": [
    "#### f) Encuentre la emisión media de C02 por marca.\n",
    "\n"
   ]
  },
  {
   "cell_type": "code",
   "execution_count": 32,
   "id": "b3560d5c",
   "metadata": {
    "ExecuteTime": {
     "end_time": "2022-07-29T04:07:42.232202Z",
     "start_time": "2022-07-29T04:07:42.202051Z"
    },
    "scrolled": true
   },
   "outputs": [
    {
     "data": {
      "text/html": [
       "<div>\n",
       "<style scoped>\n",
       "    .dataframe tbody tr th:only-of-type {\n",
       "        vertical-align: middle;\n",
       "    }\n",
       "\n",
       "    .dataframe tbody tr th {\n",
       "        vertical-align: top;\n",
       "    }\n",
       "\n",
       "    .dataframe thead th {\n",
       "        text-align: right;\n",
       "    }\n",
       "</style>\n",
       "<table border=\"1\" class=\"dataframe\">\n",
       "  <thead>\n",
       "    <tr style=\"text-align: right;\">\n",
       "      <th></th>\n",
       "      <th>Make</th>\n",
       "      <th>CO2 Emissions(g/km)</th>\n",
       "    </tr>\n",
       "  </thead>\n",
       "  <tbody>\n",
       "    <tr>\n",
       "      <th>0</th>\n",
       "      <td>ACURA</td>\n",
       "      <td>221.260000</td>\n",
       "    </tr>\n",
       "    <tr>\n",
       "      <th>1</th>\n",
       "      <td>ALFA ROMEO</td>\n",
       "      <td>231.315789</td>\n",
       "    </tr>\n",
       "    <tr>\n",
       "      <th>2</th>\n",
       "      <td>ASTON MARTIN</td>\n",
       "      <td>344.282051</td>\n",
       "    </tr>\n",
       "    <tr>\n",
       "      <th>3</th>\n",
       "      <td>AUDI</td>\n",
       "      <td>252.318008</td>\n",
       "    </tr>\n",
       "    <tr>\n",
       "      <th>4</th>\n",
       "      <td>BENTLEY</td>\n",
       "      <td>367.914286</td>\n",
       "    </tr>\n",
       "    <tr>\n",
       "      <th>5</th>\n",
       "      <td>BMW</td>\n",
       "      <td>252.736419</td>\n",
       "    </tr>\n",
       "    <tr>\n",
       "      <th>6</th>\n",
       "      <td>BUGATTI</td>\n",
       "      <td>522.000000</td>\n",
       "    </tr>\n",
       "    <tr>\n",
       "      <th>7</th>\n",
       "      <td>BUICK</td>\n",
       "      <td>233.750000</td>\n",
       "    </tr>\n",
       "    <tr>\n",
       "      <th>8</th>\n",
       "      <td>CADILLAC</td>\n",
       "      <td>266.366906</td>\n",
       "    </tr>\n",
       "    <tr>\n",
       "      <th>9</th>\n",
       "      <td>CHEVROLET</td>\n",
       "      <td>264.477670</td>\n",
       "    </tr>\n",
       "    <tr>\n",
       "      <th>10</th>\n",
       "      <td>CHRYSLER</td>\n",
       "      <td>244.046875</td>\n",
       "    </tr>\n",
       "    <tr>\n",
       "      <th>11</th>\n",
       "      <td>DODGE</td>\n",
       "      <td>277.088889</td>\n",
       "    </tr>\n",
       "    <tr>\n",
       "      <th>12</th>\n",
       "      <td>FIAT</td>\n",
       "      <td>192.285714</td>\n",
       "    </tr>\n",
       "    <tr>\n",
       "      <th>13</th>\n",
       "      <td>FORD</td>\n",
       "      <td>261.285962</td>\n",
       "    </tr>\n",
       "    <tr>\n",
       "      <th>14</th>\n",
       "      <td>GENESIS</td>\n",
       "      <td>282.571429</td>\n",
       "    </tr>\n",
       "    <tr>\n",
       "      <th>15</th>\n",
       "      <td>GMC</td>\n",
       "      <td>300.529412</td>\n",
       "    </tr>\n",
       "    <tr>\n",
       "      <th>16</th>\n",
       "      <td>HONDA</td>\n",
       "      <td>191.262195</td>\n",
       "    </tr>\n",
       "    <tr>\n",
       "      <th>17</th>\n",
       "      <td>HYUNDAI</td>\n",
       "      <td>208.316940</td>\n",
       "    </tr>\n",
       "    <tr>\n",
       "      <th>18</th>\n",
       "      <td>INFINITI</td>\n",
       "      <td>254.011494</td>\n",
       "    </tr>\n",
       "    <tr>\n",
       "      <th>19</th>\n",
       "      <td>JAGUAR</td>\n",
       "      <td>272.743590</td>\n",
       "    </tr>\n",
       "    <tr>\n",
       "      <th>20</th>\n",
       "      <td>JEEP</td>\n",
       "      <td>250.795000</td>\n",
       "    </tr>\n",
       "    <tr>\n",
       "      <th>21</th>\n",
       "      <td>KIA</td>\n",
       "      <td>213.796875</td>\n",
       "    </tr>\n",
       "    <tr>\n",
       "      <th>22</th>\n",
       "      <td>LAMBORGHINI</td>\n",
       "      <td>402.270270</td>\n",
       "    </tr>\n",
       "    <tr>\n",
       "      <th>23</th>\n",
       "      <td>LAND ROVER</td>\n",
       "      <td>288.078947</td>\n",
       "    </tr>\n",
       "    <tr>\n",
       "      <th>24</th>\n",
       "      <td>LEXUS</td>\n",
       "      <td>242.124031</td>\n",
       "    </tr>\n",
       "    <tr>\n",
       "      <th>25</th>\n",
       "      <td>LINCOLN</td>\n",
       "      <td>265.814815</td>\n",
       "    </tr>\n",
       "    <tr>\n",
       "      <th>26</th>\n",
       "      <td>MASERATI</td>\n",
       "      <td>318.134615</td>\n",
       "    </tr>\n",
       "    <tr>\n",
       "      <th>27</th>\n",
       "      <td>MAZDA</td>\n",
       "      <td>192.755906</td>\n",
       "    </tr>\n",
       "    <tr>\n",
       "      <th>28</th>\n",
       "      <td>MERCEDES-BENZ</td>\n",
       "      <td>278.623626</td>\n",
       "    </tr>\n",
       "    <tr>\n",
       "      <th>29</th>\n",
       "      <td>MINI</td>\n",
       "      <td>196.570000</td>\n",
       "    </tr>\n",
       "    <tr>\n",
       "      <th>30</th>\n",
       "      <td>MITSUBISHI</td>\n",
       "      <td>200.095890</td>\n",
       "    </tr>\n",
       "    <tr>\n",
       "      <th>31</th>\n",
       "      <td>NISSAN</td>\n",
       "      <td>237.375587</td>\n",
       "    </tr>\n",
       "    <tr>\n",
       "      <th>32</th>\n",
       "      <td>PORSCHE</td>\n",
       "      <td>259.192568</td>\n",
       "    </tr>\n",
       "    <tr>\n",
       "      <th>33</th>\n",
       "      <td>RAM</td>\n",
       "      <td>294.180556</td>\n",
       "    </tr>\n",
       "    <tr>\n",
       "      <th>34</th>\n",
       "      <td>ROLLS-ROYCE</td>\n",
       "      <td>388.750000</td>\n",
       "    </tr>\n",
       "    <tr>\n",
       "      <th>35</th>\n",
       "      <td>SCION</td>\n",
       "      <td>200.809524</td>\n",
       "    </tr>\n",
       "    <tr>\n",
       "      <th>36</th>\n",
       "      <td>SMART</td>\n",
       "      <td>152.125000</td>\n",
       "    </tr>\n",
       "    <tr>\n",
       "      <th>37</th>\n",
       "      <td>SRT</td>\n",
       "      <td>389.000000</td>\n",
       "    </tr>\n",
       "    <tr>\n",
       "      <th>38</th>\n",
       "      <td>SUBARU</td>\n",
       "      <td>218.117647</td>\n",
       "    </tr>\n",
       "    <tr>\n",
       "      <th>39</th>\n",
       "      <td>TOYOTA</td>\n",
       "      <td>223.931159</td>\n",
       "    </tr>\n",
       "    <tr>\n",
       "      <th>40</th>\n",
       "      <td>VOLKSWAGEN</td>\n",
       "      <td>209.844920</td>\n",
       "    </tr>\n",
       "    <tr>\n",
       "      <th>41</th>\n",
       "      <td>VOLVO</td>\n",
       "      <td>229.949153</td>\n",
       "    </tr>\n",
       "  </tbody>\n",
       "</table>\n",
       "</div>"
      ],
      "text/plain": [
       "             Make  CO2 Emissions(g/km)\n",
       "0           ACURA           221.260000\n",
       "1      ALFA ROMEO           231.315789\n",
       "2    ASTON MARTIN           344.282051\n",
       "3            AUDI           252.318008\n",
       "4         BENTLEY           367.914286\n",
       "5             BMW           252.736419\n",
       "6         BUGATTI           522.000000\n",
       "7           BUICK           233.750000\n",
       "8        CADILLAC           266.366906\n",
       "9       CHEVROLET           264.477670\n",
       "10       CHRYSLER           244.046875\n",
       "11          DODGE           277.088889\n",
       "12           FIAT           192.285714\n",
       "13           FORD           261.285962\n",
       "14        GENESIS           282.571429\n",
       "15            GMC           300.529412\n",
       "16          HONDA           191.262195\n",
       "17        HYUNDAI           208.316940\n",
       "18       INFINITI           254.011494\n",
       "19         JAGUAR           272.743590\n",
       "20           JEEP           250.795000\n",
       "21            KIA           213.796875\n",
       "22    LAMBORGHINI           402.270270\n",
       "23     LAND ROVER           288.078947\n",
       "24          LEXUS           242.124031\n",
       "25        LINCOLN           265.814815\n",
       "26       MASERATI           318.134615\n",
       "27          MAZDA           192.755906\n",
       "28  MERCEDES-BENZ           278.623626\n",
       "29           MINI           196.570000\n",
       "30     MITSUBISHI           200.095890\n",
       "31         NISSAN           237.375587\n",
       "32        PORSCHE           259.192568\n",
       "33            RAM           294.180556\n",
       "34    ROLLS-ROYCE           388.750000\n",
       "35          SCION           200.809524\n",
       "36          SMART           152.125000\n",
       "37            SRT           389.000000\n",
       "38         SUBARU           218.117647\n",
       "39         TOYOTA           223.931159\n",
       "40     VOLKSWAGEN           209.844920\n",
       "41          VOLVO           229.949153"
      ]
     },
     "execution_count": 32,
     "metadata": {},
     "output_type": "execute_result"
    }
   ],
   "source": [
    "df.groupby(by='Make', as_index=False)['CO2 Emissions(g/km)'].mean()"
   ]
  },
  {
   "cell_type": "markdown",
   "id": "f65298ba",
   "metadata": {
    "ExecuteTime": {
     "end_time": "2022-07-14T03:12:39.731405Z",
     "start_time": "2022-07-14T03:12:39.712093Z"
    }
   },
   "source": [
    "#### g) Encuentre la emisión media de C02 por continente"
   ]
  },
  {
   "cell_type": "code",
   "execution_count": 33,
   "id": "33b0152c",
   "metadata": {
    "ExecuteTime": {
     "end_time": "2022-07-29T04:07:42.257149Z",
     "start_time": "2022-07-29T04:07:42.236591Z"
    }
   },
   "outputs": [
    {
     "data": {
      "text/html": [
       "<div>\n",
       "<style scoped>\n",
       "    .dataframe tbody tr th:only-of-type {\n",
       "        vertical-align: middle;\n",
       "    }\n",
       "\n",
       "    .dataframe tbody tr th {\n",
       "        vertical-align: top;\n",
       "    }\n",
       "\n",
       "    .dataframe thead th {\n",
       "        text-align: right;\n",
       "    }\n",
       "</style>\n",
       "<table border=\"1\" class=\"dataframe\">\n",
       "  <thead>\n",
       "    <tr style=\"text-align: right;\">\n",
       "      <th></th>\n",
       "      <th>Continent</th>\n",
       "      <th>CO2 Emissions(g/km)</th>\n",
       "    </tr>\n",
       "  </thead>\n",
       "  <tbody>\n",
       "    <tr>\n",
       "      <th>0</th>\n",
       "      <td>America</td>\n",
       "      <td>266.135902</td>\n",
       "    </tr>\n",
       "    <tr>\n",
       "      <th>1</th>\n",
       "      <td>Asia</td>\n",
       "      <td>216.030728</td>\n",
       "    </tr>\n",
       "    <tr>\n",
       "      <th>2</th>\n",
       "      <td>Europe</td>\n",
       "      <td>258.256219</td>\n",
       "    </tr>\n",
       "  </tbody>\n",
       "</table>\n",
       "</div>"
      ],
      "text/plain": [
       "  Continent  CO2 Emissions(g/km)\n",
       "0   America           266.135902\n",
       "1      Asia           216.030728\n",
       "2    Europe           258.256219"
      ]
     },
     "execution_count": 33,
     "metadata": {},
     "output_type": "execute_result"
    }
   ],
   "source": [
    "df.groupby(by='Continent', as_index=False)['CO2 Emissions(g/km)'].mean()"
   ]
  },
  {
   "cell_type": "code",
   "execution_count": 34,
   "id": "92490ca5",
   "metadata": {
    "ExecuteTime": {
     "end_time": "2022-07-29T04:07:42.281737Z",
     "start_time": "2022-07-29T04:07:42.260421Z"
    }
   },
   "outputs": [
    {
     "data": {
      "text/html": [
       "<div>\n",
       "<style scoped>\n",
       "    .dataframe tbody tr th:only-of-type {\n",
       "        vertical-align: middle;\n",
       "    }\n",
       "\n",
       "    .dataframe tbody tr th {\n",
       "        vertical-align: top;\n",
       "    }\n",
       "\n",
       "    .dataframe thead th {\n",
       "        text-align: right;\n",
       "    }\n",
       "</style>\n",
       "<table border=\"1\" class=\"dataframe\">\n",
       "  <thead>\n",
       "    <tr style=\"text-align: right;\">\n",
       "      <th></th>\n",
       "      <th>Country</th>\n",
       "      <th>CO2 Emissions(g/km)</th>\n",
       "    </tr>\n",
       "  </thead>\n",
       "  <tbody>\n",
       "    <tr>\n",
       "      <th>4</th>\n",
       "      <td>Korea</td>\n",
       "      <td>211.122667</td>\n",
       "    </tr>\n",
       "    <tr>\n",
       "      <th>3</th>\n",
       "      <td>Japan</td>\n",
       "      <td>217.671123</td>\n",
       "    </tr>\n",
       "    <tr>\n",
       "      <th>5</th>\n",
       "      <td>Sweden</td>\n",
       "      <td>229.949153</td>\n",
       "    </tr>\n",
       "    <tr>\n",
       "      <th>0</th>\n",
       "      <td>Germany</td>\n",
       "      <td>254.223807</td>\n",
       "    </tr>\n",
       "    <tr>\n",
       "      <th>6</th>\n",
       "      <td>USA</td>\n",
       "      <td>266.135902</td>\n",
       "    </tr>\n",
       "    <tr>\n",
       "      <th>1</th>\n",
       "      <td>Great Britain</td>\n",
       "      <td>268.122330</td>\n",
       "    </tr>\n",
       "    <tr>\n",
       "      <th>2</th>\n",
       "      <td>Italy</td>\n",
       "      <td>286.951807</td>\n",
       "    </tr>\n",
       "  </tbody>\n",
       "</table>\n",
       "</div>"
      ],
      "text/plain": [
       "         Country  CO2 Emissions(g/km)\n",
       "4          Korea           211.122667\n",
       "3          Japan           217.671123\n",
       "5         Sweden           229.949153\n",
       "0        Germany           254.223807\n",
       "6            USA           266.135902\n",
       "1  Great Britain           268.122330\n",
       "2          Italy           286.951807"
      ]
     },
     "execution_count": 34,
     "metadata": {},
     "output_type": "execute_result"
    }
   ],
   "source": [
    "(df.groupby(by='Country', as_index=False)\n",
    " ['CO2 Emissions(g/km)'].mean()\n",
    " .sort_values(by='CO2 Emissions(g/km)'))"
   ]
  },
  {
   "cell_type": "markdown",
   "id": "63f50876",
   "metadata": {},
   "source": [
    "## 4. Trazado"
   ]
  },
  {
   "cell_type": "code",
   "execution_count": 35,
   "id": "311798cc",
   "metadata": {
    "ExecuteTime": {
     "end_time": "2022-07-29T04:07:43.381461Z",
     "start_time": "2022-07-29T04:07:42.283862Z"
    }
   },
   "outputs": [],
   "source": [
    "\n",
    "import matplotlib\n",
    "import matplotlib.pyplot as plt\n",
    "font = {'size'   : 16, 'family':'STIXGeneral'}\n",
    "axislabelfontsize='large'\n",
    "matplotlib.rc('font', **font)\n",
    "#matplotlib.mathtext.rcParams['legend.fontsize']='medium'\n",
    "plt.rcParams[\"figure.figsize\"] = [8.0,6.0]\n"
   ]
  },
  {
   "cell_type": "code",
   "execution_count": 36,
   "id": "0a0a9ca8",
   "metadata": {
    "ExecuteTime": {
     "end_time": "2022-07-29T04:07:43.415189Z",
     "start_time": "2022-07-29T04:07:43.384461Z"
    }
   },
   "outputs": [
    {
     "data": {
      "text/html": [
       "<div>\n",
       "<style scoped>\n",
       "    .dataframe tbody tr th:only-of-type {\n",
       "        vertical-align: middle;\n",
       "    }\n",
       "\n",
       "    .dataframe tbody tr th {\n",
       "        vertical-align: top;\n",
       "    }\n",
       "\n",
       "    .dataframe thead th {\n",
       "        text-align: right;\n",
       "    }\n",
       "</style>\n",
       "<table border=\"1\" class=\"dataframe\">\n",
       "  <thead>\n",
       "    <tr style=\"text-align: right;\">\n",
       "      <th></th>\n",
       "      <th>Make</th>\n",
       "      <th>Model</th>\n",
       "      <th>Vehicle Class</th>\n",
       "      <th>Engine Size(L)</th>\n",
       "      <th>Cylinders</th>\n",
       "      <th>Transmission</th>\n",
       "      <th>Fuel Type</th>\n",
       "      <th>Fuel Consumption City (L/100 km)</th>\n",
       "      <th>Fuel Consumption Hwy (L/100 km)</th>\n",
       "      <th>Fuel Consumption Comb (L/100 km)</th>\n",
       "      <th>Fuel Consumption Comb (mpg)</th>\n",
       "      <th>CO2 Emissions(g/km)</th>\n",
       "      <th>Country</th>\n",
       "      <th>Continent</th>\n",
       "      <th>Automatic/Manual</th>\n",
       "      <th>A/M digital</th>\n",
       "    </tr>\n",
       "  </thead>\n",
       "  <tbody>\n",
       "    <tr>\n",
       "      <th>0</th>\n",
       "      <td>ACURA</td>\n",
       "      <td>ILX</td>\n",
       "      <td>COMPACT</td>\n",
       "      <td>2.0</td>\n",
       "      <td>4.0</td>\n",
       "      <td>AS5</td>\n",
       "      <td>premium gasoline</td>\n",
       "      <td>9.9</td>\n",
       "      <td>6.7</td>\n",
       "      <td>8.5</td>\n",
       "      <td>33.0</td>\n",
       "      <td>196.0</td>\n",
       "      <td>USA</td>\n",
       "      <td>America</td>\n",
       "      <td>A</td>\n",
       "      <td>0</td>\n",
       "    </tr>\n",
       "    <tr>\n",
       "      <th>1</th>\n",
       "      <td>ACURA</td>\n",
       "      <td>ILX</td>\n",
       "      <td>COMPACT</td>\n",
       "      <td>2.4</td>\n",
       "      <td>4.0</td>\n",
       "      <td>M6</td>\n",
       "      <td>premium gasoline</td>\n",
       "      <td>11.2</td>\n",
       "      <td>7.7</td>\n",
       "      <td>9.6</td>\n",
       "      <td>29.0</td>\n",
       "      <td>221.0</td>\n",
       "      <td>USA</td>\n",
       "      <td>America</td>\n",
       "      <td>M</td>\n",
       "      <td>1</td>\n",
       "    </tr>\n",
       "    <tr>\n",
       "      <th>2</th>\n",
       "      <td>ACURA</td>\n",
       "      <td>ILX HYBRID</td>\n",
       "      <td>COMPACT</td>\n",
       "      <td>1.5</td>\n",
       "      <td>4.0</td>\n",
       "      <td>AV7</td>\n",
       "      <td>premium gasoline</td>\n",
       "      <td>6.0</td>\n",
       "      <td>5.8</td>\n",
       "      <td>5.9</td>\n",
       "      <td>48.0</td>\n",
       "      <td>136.0</td>\n",
       "      <td>USA</td>\n",
       "      <td>America</td>\n",
       "      <td>A</td>\n",
       "      <td>0</td>\n",
       "    </tr>\n",
       "    <tr>\n",
       "      <th>3</th>\n",
       "      <td>ACURA</td>\n",
       "      <td>MDX 4WD</td>\n",
       "      <td>SUV - SMALL</td>\n",
       "      <td>3.5</td>\n",
       "      <td>6.0</td>\n",
       "      <td>AS6</td>\n",
       "      <td>premium gasoline</td>\n",
       "      <td>12.7</td>\n",
       "      <td>9.1</td>\n",
       "      <td>11.1</td>\n",
       "      <td>25.0</td>\n",
       "      <td>255.0</td>\n",
       "      <td>USA</td>\n",
       "      <td>America</td>\n",
       "      <td>A</td>\n",
       "      <td>0</td>\n",
       "    </tr>\n",
       "    <tr>\n",
       "      <th>4</th>\n",
       "      <td>ACURA</td>\n",
       "      <td>RDX AWD</td>\n",
       "      <td>SUV - SMALL</td>\n",
       "      <td>3.5</td>\n",
       "      <td>6.0</td>\n",
       "      <td>AS6</td>\n",
       "      <td>premium gasoline</td>\n",
       "      <td>12.1</td>\n",
       "      <td>8.7</td>\n",
       "      <td>10.6</td>\n",
       "      <td>27.0</td>\n",
       "      <td>244.0</td>\n",
       "      <td>USA</td>\n",
       "      <td>America</td>\n",
       "      <td>A</td>\n",
       "      <td>0</td>\n",
       "    </tr>\n",
       "  </tbody>\n",
       "</table>\n",
       "</div>"
      ],
      "text/plain": [
       "    Make       Model Vehicle Class Engine Size(L)  Cylinders Transmission  \\\n",
       "0  ACURA         ILX       COMPACT            2.0        4.0          AS5   \n",
       "1  ACURA         ILX       COMPACT            2.4        4.0           M6   \n",
       "2  ACURA  ILX HYBRID       COMPACT            1.5        4.0          AV7   \n",
       "3  ACURA     MDX 4WD   SUV - SMALL            3.5        6.0          AS6   \n",
       "4  ACURA     RDX AWD   SUV - SMALL            3.5        6.0          AS6   \n",
       "\n",
       "          Fuel Type  Fuel Consumption City (L/100 km)  \\\n",
       "0  premium gasoline                               9.9   \n",
       "1  premium gasoline                              11.2   \n",
       "2  premium gasoline                               6.0   \n",
       "3  premium gasoline                              12.7   \n",
       "4  premium gasoline                              12.1   \n",
       "\n",
       "   Fuel Consumption Hwy (L/100 km)  Fuel Consumption Comb (L/100 km)  \\\n",
       "0                              6.7                               8.5   \n",
       "1                              7.7                               9.6   \n",
       "2                              5.8                               5.9   \n",
       "3                              9.1                              11.1   \n",
       "4                              8.7                              10.6   \n",
       "\n",
       "   Fuel Consumption Comb (mpg)  CO2 Emissions(g/km) Country Continent  \\\n",
       "0                         33.0                196.0     USA   America   \n",
       "1                         29.0                221.0     USA   America   \n",
       "2                         48.0                136.0     USA   America   \n",
       "3                         25.0                255.0     USA   America   \n",
       "4                         27.0                244.0     USA   America   \n",
       "\n",
       "  Automatic/Manual  A/M digital  \n",
       "0                A            0  \n",
       "1                M            1  \n",
       "2                A            0  \n",
       "3                A            0  \n",
       "4                A            0  "
      ]
     },
     "execution_count": 36,
     "metadata": {},
     "output_type": "execute_result"
    }
   ],
   "source": [
    "df.head()"
   ]
  },
  {
   "cell_type": "code",
   "execution_count": 37,
   "id": "b7059a24",
   "metadata": {
    "ExecuteTime": {
     "end_time": "2022-07-29T04:07:44.143781Z",
     "start_time": "2022-07-29T04:07:43.417771Z"
    }
   },
   "outputs": [],
   "source": [
    "import seaborn as sns"
   ]
  },
  {
   "cell_type": "markdown",
   "id": "5c1e146f",
   "metadata": {},
   "source": [
    "#### a) Realice un 'boxplot' (diagrama de caja) comparando la emisión de los carros por continentes: América, Europa, Asia (añadir línea media para comparación)."
   ]
  },
  {
   "cell_type": "code",
   "execution_count": 38,
   "id": "8cf2b16c",
   "metadata": {
    "ExecuteTime": {
     "end_time": "2022-07-29T04:07:44.158756Z",
     "start_time": "2022-07-29T04:07:44.147038Z"
    }
   },
   "outputs": [
    {
     "data": {
      "text/plain": [
       "251.14415563705947"
      ]
     },
     "execution_count": 38,
     "metadata": {},
     "output_type": "execute_result"
    }
   ],
   "source": [
    "df['CO2 Emissions(g/km)'].mean()"
   ]
  },
  {
   "cell_type": "code",
   "execution_count": 39,
   "id": "c8ada282",
   "metadata": {
    "ExecuteTime": {
     "end_time": "2022-07-29T04:07:44.180441Z",
     "start_time": "2022-07-29T04:07:44.161765Z"
    }
   },
   "outputs": [
    {
     "data": {
      "text/plain": [
       "246.80761626884637"
      ]
     },
     "execution_count": 39,
     "metadata": {},
     "output_type": "execute_result"
    }
   ],
   "source": [
    "C02meanByContinent=df.groupby(by='Continent').mean()['CO2 Emissions(g/km)'].mean()\n",
    "C02meanByContinent"
   ]
  },
  {
   "cell_type": "code",
   "execution_count": 40,
   "id": "41ff6c8f",
   "metadata": {
    "ExecuteTime": {
     "end_time": "2022-07-29T04:07:44.494673Z",
     "start_time": "2022-07-29T04:07:44.183688Z"
    }
   },
   "outputs": [
    {
     "data": {
      "text/plain": [
       "<matplotlib.legend.Legend at 0x26be1720be0>"
      ]
     },
     "execution_count": 40,
     "metadata": {},
     "output_type": "execute_result"
    },
    {
     "data": {
      "image/png": "[encoded data removed]",
      "text/plain": [
       "<Figure size 576x432 with 1 Axes>"
      ]
     },
     "metadata": {
      "needs_background": "light"
     },
     "output_type": "display_data"
    }
   ],
   "source": [
    "sns.boxplot(x='Continent',y='CO2 Emissions(g/km)',data=df)\n",
    "plt.axhline(y=C02meanByContinent, color='#ff0534', label='mean value')\n",
    "plt.minorticks_on()\n",
    "plt.legend()"
   ]
  },
  {
   "cell_type": "markdown",
   "id": "fcfa5b2b",
   "metadata": {},
   "source": [
    "En America se tiende a tener valores mayor de emisión de C02.\n",
    "\n",
    "El ancho de las cajas es muy similar de tal manera que poseen desviaciones estándares similares\n",
    "\n",
    "El valor de los outliers es mayor en Europa, lo que indica que ese continente posee los automóviles más contaminantes\n",
    "\n",
    "La distribución de valores de Asía es positiva lo que indica que tienden a tener automóviles con menor cantidad de emisiones en comparación a Ameria y Europa cuya distribuciones son más normales\n",
    "\n",
    "El 75% de los autos asiáticos están por debajo del valor medio de emisión\n",
    "\n",
    "El 50% de los autos europeos están por debajo del valor medio de emisión\n",
    "\n",
    "El 32% de los autos americanos están por debajo del valor medio de emisión\n",
    "\n"
   ]
  },
  {
   "cell_type": "markdown",
   "id": "0337b2bd",
   "metadata": {},
   "source": [
    "#### b) Realice un 'boxplot' (diagrama de caja) comparando la emisión de los carros por transmisión (dos grupos: manual y automática. Añadir línea media para comparación)."
   ]
  },
  {
   "cell_type": "code",
   "execution_count": 41,
   "id": "f662cbca",
   "metadata": {
    "ExecuteTime": {
     "end_time": "2022-07-29T04:07:44.517901Z",
     "start_time": "2022-07-29T04:07:44.498348Z"
    }
   },
   "outputs": [
    {
     "data": {
      "text/plain": [
       "241.95730595083364"
      ]
     },
     "execution_count": 41,
     "metadata": {},
     "output_type": "execute_result"
    }
   ],
   "source": [
    "C02meanByTransmision=df.groupby(by='Automatic/Manual').mean()['CO2 Emissions(g/km)'].mean()\n",
    "C02meanByTransmision"
   ]
  },
  {
   "cell_type": "code",
   "execution_count": 42,
   "id": "183ffd66",
   "metadata": {
    "ExecuteTime": {
     "end_time": "2022-07-29T04:07:44.790736Z",
     "start_time": "2022-07-29T04:07:44.520896Z"
    }
   },
   "outputs": [
    {
     "data": {
      "text/plain": [
       "<matplotlib.legend.Legend at 0x26be16ba040>"
      ]
     },
     "execution_count": 42,
     "metadata": {},
     "output_type": "execute_result"
    },
    {
     "data": {
      "image/png": "[encoded data removed]",
      "text/plain": [
       "<Figure size 576x432 with 1 Axes>"
      ]
     },
     "metadata": {
      "needs_background": "light"
     },
     "output_type": "display_data"
    }
   ],
   "source": [
    "sns.boxplot(x='Automatic/Manual',y='CO2 Emissions(g/km)',data=df)\n",
    "plt.minorticks_on()\n",
    "plt.axhline(y=C02meanByTransmision, color='#ff0534', label='mean value')\n",
    "plt.legend()"
   ]
  },
  {
   "cell_type": "markdown",
   "id": "858e7f7f",
   "metadata": {},
   "source": [
    "Los carros con transmisión automática  en general poseen mayor emisión de C02.\n",
    "\n",
    "Los automóviles más contaminantes son de transmisión automática. sin embargo, los carros menos contaminantes también son de transmisión automática\n",
    "\n",
    "La distribución de automáticos es bastante noraml en comparación a los manuales que poseen una asimetría positiva i.e tienden a valores de emisión de C02 menores\n",
    "\n",
    "Más del 50% de los autos automáticos están por encima de la media "
   ]
  },
  {
   "cell_type": "markdown",
   "id": "a797b8bb",
   "metadata": {},
   "source": [
    "#### c) Realice un 'boxplot' (diagrama de caja) comparando la emisión de los carros por tipo de combustible (añadir línea media para comparación).\n",
    "\n"
   ]
  },
  {
   "cell_type": "code",
   "execution_count": 43,
   "id": "3f41e16e",
   "metadata": {
    "ExecuteTime": {
     "end_time": "2022-07-29T04:07:44.814965Z",
     "start_time": "2022-07-29T04:07:44.794436Z"
    }
   },
   "outputs": [
    {
     "data": {
      "text/plain": [
       "245.197665985274"
      ]
     },
     "execution_count": 43,
     "metadata": {},
     "output_type": "execute_result"
    }
   ],
   "source": [
    "C02meanByFuelType=df.groupby(by='Fuel Type').mean()['CO2 Emissions(g/km)'].mean()\n",
    "C02meanByFuelType"
   ]
  },
  {
   "cell_type": "code",
   "execution_count": 44,
   "id": "6b476ac6",
   "metadata": {
    "ExecuteTime": {
     "end_time": "2022-07-29T04:07:45.177959Z",
     "start_time": "2022-07-29T04:07:44.818432Z"
    }
   },
   "outputs": [
    {
     "data": {
      "text/plain": [
       "<matplotlib.legend.Legend at 0x26be28a1370>"
      ]
     },
     "execution_count": 44,
     "metadata": {},
     "output_type": "execute_result"
    },
    {
     "data": {
      "image/png": "[encoded data removed]",
      "text/plain": [
       "<Figure size 576x432 with 1 Axes>"
      ]
     },
     "metadata": {
      "needs_background": "light"
     },
     "output_type": "display_data"
    }
   ],
   "source": [
    "sns.boxplot(x='Fuel Type',y='CO2 Emissions(g/km)',data=df)\n",
    "plt.minorticks_on()\n",
    "plt.axhline(y=C02meanByFuelType, color='#ff0534', label='mean value')\n",
    "plt.legend()"
   ]
  },
  {
   "cell_type": "markdown",
   "id": "80a4baa1",
   "metadata": {},
   "source": [
    "Los automóviles más contaminantes son los que usan Ethanol mientras que los automóviles que usan gas natural son los que menos (por obvias razones) emiten C02\n",
    "\n",
    "\n",
    "Los automóviles que usan Ethanol y Diesel tienden a realizar grandes emisiones de C02 debido a su asimetría negativa.\n",
    "\n",
    "más del 75% de los automóviles que usan etanol están por encima del valor medio de emisión\n",
    "\n"
   ]
  },
  {
   "cell_type": "markdown",
   "id": "0560bd75",
   "metadata": {},
   "source": [
    "#### d) Realice un 'countplot' de conteo de automóviles con transmisión manual y automática (solo dos grupos).\n",
    "\n"
   ]
  },
  {
   "cell_type": "code",
   "execution_count": 45,
   "id": "a8a92c7c",
   "metadata": {
    "ExecuteTime": {
     "end_time": "2022-07-29T04:07:45.392547Z",
     "start_time": "2022-07-29T04:07:45.181385Z"
    }
   },
   "outputs": [
    {
     "data": {
      "image/png": "[encoded data removed]",
      "text/plain": [
       "<Figure size 576x432 with 1 Axes>"
      ]
     },
     "metadata": {
      "needs_background": "light"
     },
     "output_type": "display_data"
    }
   ],
   "source": [
    "ax=sns.countplot (x='Automatic/Manual',data=df)\n",
    "ax.bar_label(ax.containers[0])\n",
    "plt.minorticks_on()"
   ]
  },
  {
   "cell_type": "markdown",
   "id": "4be30189",
   "metadata": {},
   "source": [
    "#### e) Realice un 'barplot' de una emisión promedio de CO2 por marca de automóvil (de menor a mayor)."
   ]
  },
  {
   "cell_type": "code",
   "execution_count": 46,
   "id": "4e080396",
   "metadata": {
    "ExecuteTime": {
     "end_time": "2022-07-29T04:07:46.172542Z",
     "start_time": "2022-07-29T04:07:45.396482Z"
    }
   },
   "outputs": [
    {
     "data": {
      "image/png": "[encoded data removed]",
      "text/plain": [
       "<Figure size 1440x432 with 1 Axes>"
      ]
     },
     "metadata": {
      "needs_background": "light"
     },
     "output_type": "display_data"
    }
   ],
   "source": [
    "dfMake=df.groupby(by='Make', as_index=False)['CO2 Emissions(g/km)'].mean()\n",
    "\n",
    "plt.figure(figsize=(20,6))\n",
    "ax=sns.barplot (x='Make',y='CO2 Emissions(g/km)', data=dfMake.sort_values(by='CO2 Emissions(g/km)'))\n",
    "ax.bar_label(ax.containers[0],fmt='%.0f')\n",
    "ax.set_title(\"Average C02 emissions\")\n",
    "plt.tick_params(axis='x', rotation=90)"
   ]
  },
  {
   "cell_type": "markdown",
   "id": "e7103047",
   "metadata": {},
   "source": [
    "De lejos el automovil más contaminante son los Buggatti, seguidos de Lamborghini.\n",
    "\n",
    "Los automóviles de gama alta son los que más contaminan (expecto BMW, AUDI, Lexus, Alfa romeo) puesto que el Buggati contamina más de dos veces más en comparación a los autos de marca Ford"
   ]
  },
  {
   "cell_type": "markdown",
   "id": "15df3c9f",
   "metadata": {},
   "source": [
    "## Ejercicio 2: Conjunto de datos históricos sobre los Juegos Olímpicos modernos, incluidos todos los Juegos desde Atenas 1896 hasta Río 2016."
   ]
  },
  {
   "cell_type": "code",
   "execution_count": 47,
   "id": "8ec4223c",
   "metadata": {
    "ExecuteTime": {
     "end_time": "2022-07-29T04:07:52.755493Z",
     "start_time": "2022-07-29T04:07:46.175216Z"
    }
   },
   "outputs": [],
   "source": [
    "df=pd.read_csv(\"https://raw.githubusercontent.com/mhemmg/datasets/master/sport/athlete_events.csv\")"
   ]
  },
  {
   "cell_type": "code",
   "execution_count": 48,
   "id": "0f7c53dd",
   "metadata": {
    "ExecuteTime": {
     "end_time": "2022-07-29T04:07:52.780310Z",
     "start_time": "2022-07-29T04:07:52.759470Z"
    }
   },
   "outputs": [
    {
     "data": {
      "text/html": [
       "<div>\n",
       "<style scoped>\n",
       "    .dataframe tbody tr th:only-of-type {\n",
       "        vertical-align: middle;\n",
       "    }\n",
       "\n",
       "    .dataframe tbody tr th {\n",
       "        vertical-align: top;\n",
       "    }\n",
       "\n",
       "    .dataframe thead th {\n",
       "        text-align: right;\n",
       "    }\n",
       "</style>\n",
       "<table border=\"1\" class=\"dataframe\">\n",
       "  <thead>\n",
       "    <tr style=\"text-align: right;\">\n",
       "      <th></th>\n",
       "      <th>ID</th>\n",
       "      <th>Name</th>\n",
       "      <th>Sex</th>\n",
       "      <th>Age</th>\n",
       "      <th>Height</th>\n",
       "      <th>Weight</th>\n",
       "      <th>Team</th>\n",
       "      <th>NOC</th>\n",
       "      <th>Games</th>\n",
       "      <th>Year</th>\n",
       "      <th>Season</th>\n",
       "      <th>City</th>\n",
       "      <th>Sport</th>\n",
       "      <th>Event</th>\n",
       "      <th>Medal</th>\n",
       "    </tr>\n",
       "  </thead>\n",
       "  <tbody>\n",
       "    <tr>\n",
       "      <th>0</th>\n",
       "      <td>1</td>\n",
       "      <td>A Dijiang</td>\n",
       "      <td>M</td>\n",
       "      <td>24.0</td>\n",
       "      <td>180.0</td>\n",
       "      <td>80.0</td>\n",
       "      <td>China</td>\n",
       "      <td>CHN</td>\n",
       "      <td>1992 Summer</td>\n",
       "      <td>1992</td>\n",
       "      <td>Summer</td>\n",
       "      <td>Barcelona</td>\n",
       "      <td>Basketball</td>\n",
       "      <td>Basketball Men's Basketball</td>\n",
       "      <td>NaN</td>\n",
       "    </tr>\n",
       "    <tr>\n",
       "      <th>1</th>\n",
       "      <td>2</td>\n",
       "      <td>A Lamusi</td>\n",
       "      <td>M</td>\n",
       "      <td>23.0</td>\n",
       "      <td>170.0</td>\n",
       "      <td>60.0</td>\n",
       "      <td>China</td>\n",
       "      <td>CHN</td>\n",
       "      <td>2012 Summer</td>\n",
       "      <td>2012</td>\n",
       "      <td>Summer</td>\n",
       "      <td>London</td>\n",
       "      <td>Judo</td>\n",
       "      <td>Judo Men's Extra-Lightweight</td>\n",
       "      <td>NaN</td>\n",
       "    </tr>\n",
       "    <tr>\n",
       "      <th>2</th>\n",
       "      <td>3</td>\n",
       "      <td>Gunnar Nielsen Aaby</td>\n",
       "      <td>M</td>\n",
       "      <td>24.0</td>\n",
       "      <td>NaN</td>\n",
       "      <td>NaN</td>\n",
       "      <td>Denmark</td>\n",
       "      <td>DEN</td>\n",
       "      <td>1920 Summer</td>\n",
       "      <td>1920</td>\n",
       "      <td>Summer</td>\n",
       "      <td>Antwerpen</td>\n",
       "      <td>Football</td>\n",
       "      <td>Football Men's Football</td>\n",
       "      <td>NaN</td>\n",
       "    </tr>\n",
       "    <tr>\n",
       "      <th>3</th>\n",
       "      <td>4</td>\n",
       "      <td>Edgar Lindenau Aabye</td>\n",
       "      <td>M</td>\n",
       "      <td>34.0</td>\n",
       "      <td>NaN</td>\n",
       "      <td>NaN</td>\n",
       "      <td>Denmark/Sweden</td>\n",
       "      <td>DEN</td>\n",
       "      <td>1900 Summer</td>\n",
       "      <td>1900</td>\n",
       "      <td>Summer</td>\n",
       "      <td>Paris</td>\n",
       "      <td>Tug-Of-War</td>\n",
       "      <td>Tug-Of-War Men's Tug-Of-War</td>\n",
       "      <td>Gold</td>\n",
       "    </tr>\n",
       "    <tr>\n",
       "      <th>4</th>\n",
       "      <td>5</td>\n",
       "      <td>Christine Jacoba Aaftink</td>\n",
       "      <td>F</td>\n",
       "      <td>21.0</td>\n",
       "      <td>185.0</td>\n",
       "      <td>82.0</td>\n",
       "      <td>Netherlands</td>\n",
       "      <td>NED</td>\n",
       "      <td>1988 Winter</td>\n",
       "      <td>1988</td>\n",
       "      <td>Winter</td>\n",
       "      <td>Calgary</td>\n",
       "      <td>Speed Skating</td>\n",
       "      <td>Speed Skating Women's 500 metres</td>\n",
       "      <td>NaN</td>\n",
       "    </tr>\n",
       "  </tbody>\n",
       "</table>\n",
       "</div>"
      ],
      "text/plain": [
       "   ID                      Name Sex   Age  Height  Weight            Team  \\\n",
       "0   1                 A Dijiang   M  24.0   180.0    80.0           China   \n",
       "1   2                  A Lamusi   M  23.0   170.0    60.0           China   \n",
       "2   3       Gunnar Nielsen Aaby   M  24.0     NaN     NaN         Denmark   \n",
       "3   4      Edgar Lindenau Aabye   M  34.0     NaN     NaN  Denmark/Sweden   \n",
       "4   5  Christine Jacoba Aaftink   F  21.0   185.0    82.0     Netherlands   \n",
       "\n",
       "   NOC        Games  Year  Season       City          Sport  \\\n",
       "0  CHN  1992 Summer  1992  Summer  Barcelona     Basketball   \n",
       "1  CHN  2012 Summer  2012  Summer     London           Judo   \n",
       "2  DEN  1920 Summer  1920  Summer  Antwerpen       Football   \n",
       "3  DEN  1900 Summer  1900  Summer      Paris     Tug-Of-War   \n",
       "4  NED  1988 Winter  1988  Winter    Calgary  Speed Skating   \n",
       "\n",
       "                              Event Medal  \n",
       "0       Basketball Men's Basketball   NaN  \n",
       "1      Judo Men's Extra-Lightweight   NaN  \n",
       "2           Football Men's Football   NaN  \n",
       "3       Tug-Of-War Men's Tug-Of-War  Gold  \n",
       "4  Speed Skating Women's 500 metres   NaN  "
      ]
     },
     "execution_count": 48,
     "metadata": {},
     "output_type": "execute_result"
    }
   ],
   "source": [
    "df.head()"
   ]
  },
  {
   "cell_type": "code",
   "execution_count": 49,
   "id": "f4e263b4",
   "metadata": {
    "ExecuteTime": {
     "end_time": "2022-07-29T04:07:52.811041Z",
     "start_time": "2022-07-29T04:07:52.784205Z"
    }
   },
   "outputs": [
    {
     "data": {
      "text/plain": [
       "(271116, 15)"
      ]
     },
     "execution_count": 49,
     "metadata": {},
     "output_type": "execute_result"
    }
   ],
   "source": [
    "df.shape"
   ]
  },
  {
   "cell_type": "code",
   "execution_count": 50,
   "id": "35cc1512",
   "metadata": {
    "ExecuteTime": {
     "end_time": "2022-07-29T04:07:52.831108Z",
     "start_time": "2022-07-29T04:07:52.814101Z"
    }
   },
   "outputs": [
    {
     "data": {
      "text/plain": [
       "(97.0, 226.0)"
      ]
     },
     "execution_count": 50,
     "metadata": {},
     "output_type": "execute_result"
    }
   ],
   "source": [
    "df['Age'].max(),df['Height'].max() "
   ]
  },
  {
   "cell_type": "markdown",
   "id": "f3637742",
   "metadata": {},
   "source": [
    "Existen algunos valores muy atípiocos como una deportista olímpica con 97 años"
   ]
  },
  {
   "cell_type": "code",
   "execution_count": 51,
   "id": "9e98e930",
   "metadata": {
    "ExecuteTime": {
     "end_time": "2022-07-29T04:07:52.873654Z",
     "start_time": "2022-07-29T04:07:52.835337Z"
    }
   },
   "outputs": [
    {
     "data": {
      "text/plain": [
       "array(['Basketball', 'Judo', 'Football', 'Tug-Of-War', 'Speed Skating',\n",
       "       'Cross Country Skiing', 'Athletics', 'Ice Hockey', 'Swimming',\n",
       "       'Badminton', 'Sailing', 'Biathlon', 'Gymnastics',\n",
       "       'Art Competitions', 'Alpine Skiing', 'Handball', 'Weightlifting',\n",
       "       'Wrestling', 'Luge', 'Water Polo', 'Hockey', 'Rowing', 'Bobsleigh',\n",
       "       'Fencing', 'Equestrianism', 'Shooting', 'Boxing', 'Taekwondo',\n",
       "       'Cycling', 'Diving', 'Canoeing', 'Tennis', 'Modern Pentathlon',\n",
       "       'Figure Skating', 'Golf', 'Softball', 'Archery', 'Volleyball',\n",
       "       'Synchronized Swimming', 'Table Tennis', 'Nordic Combined',\n",
       "       'Baseball', 'Rhythmic Gymnastics', 'Freestyle Skiing',\n",
       "       'Rugby Sevens', 'Trampolining', 'Beach Volleyball', 'Triathlon',\n",
       "       'Ski Jumping', 'Curling', 'Snowboarding', 'Rugby',\n",
       "       'Short Track Speed Skating', 'Skeleton', 'Lacrosse', 'Polo',\n",
       "       'Cricket', 'Racquets', 'Motorboating', 'Military Ski Patrol',\n",
       "       'Croquet', 'Jeu De Paume', 'Roque', 'Alpinism', 'Basque Pelota',\n",
       "       'Aeronautics'], dtype=object)"
      ]
     },
     "execution_count": 51,
     "metadata": {},
     "output_type": "execute_result"
    }
   ],
   "source": [
    "df['Sport'].unique()"
   ]
  },
  {
   "cell_type": "code",
   "execution_count": 52,
   "id": "23029158",
   "metadata": {
    "ExecuteTime": {
     "end_time": "2022-07-29T04:07:52.920298Z",
     "start_time": "2022-07-29T04:07:52.877763Z"
    }
   },
   "outputs": [],
   "source": [
    "dfRowing=df[df['Sport']=='Rowing']"
   ]
  },
  {
   "cell_type": "code",
   "execution_count": 53,
   "id": "2e5b5397",
   "metadata": {
    "ExecuteTime": {
     "end_time": "2022-07-29T04:07:52.956800Z",
     "start_time": "2022-07-29T04:07:52.924187Z"
    }
   },
   "outputs": [
    {
     "data": {
      "text/html": [
       "<div>\n",
       "<style scoped>\n",
       "    .dataframe tbody tr th:only-of-type {\n",
       "        vertical-align: middle;\n",
       "    }\n",
       "\n",
       "    .dataframe tbody tr th {\n",
       "        vertical-align: top;\n",
       "    }\n",
       "\n",
       "    .dataframe thead th {\n",
       "        text-align: right;\n",
       "    }\n",
       "</style>\n",
       "<table border=\"1\" class=\"dataframe\">\n",
       "  <thead>\n",
       "    <tr style=\"text-align: right;\">\n",
       "      <th></th>\n",
       "      <th>ID</th>\n",
       "      <th>Name</th>\n",
       "      <th>Sex</th>\n",
       "      <th>Age</th>\n",
       "      <th>Height</th>\n",
       "      <th>Weight</th>\n",
       "      <th>Team</th>\n",
       "      <th>NOC</th>\n",
       "      <th>Games</th>\n",
       "      <th>Year</th>\n",
       "      <th>Season</th>\n",
       "      <th>City</th>\n",
       "      <th>Sport</th>\n",
       "      <th>Event</th>\n",
       "      <th>Medal</th>\n",
       "    </tr>\n",
       "  </thead>\n",
       "  <tbody>\n",
       "    <tr>\n",
       "      <th>92</th>\n",
       "      <td>30</td>\n",
       "      <td>Pepijn Aardewijn</td>\n",
       "      <td>M</td>\n",
       "      <td>26.0</td>\n",
       "      <td>189.0</td>\n",
       "      <td>72.0</td>\n",
       "      <td>Netherlands</td>\n",
       "      <td>NED</td>\n",
       "      <td>1996 Summer</td>\n",
       "      <td>1996</td>\n",
       "      <td>Summer</td>\n",
       "      <td>Atlanta</td>\n",
       "      <td>Rowing</td>\n",
       "      <td>Rowing Men's Lightweight Double Sculls</td>\n",
       "      <td>Silver</td>\n",
       "    </tr>\n",
       "    <tr>\n",
       "      <th>93</th>\n",
       "      <td>30</td>\n",
       "      <td>Pepijn Aardewijn</td>\n",
       "      <td>M</td>\n",
       "      <td>30.0</td>\n",
       "      <td>189.0</td>\n",
       "      <td>72.0</td>\n",
       "      <td>Netherlands</td>\n",
       "      <td>NED</td>\n",
       "      <td>2000 Summer</td>\n",
       "      <td>2000</td>\n",
       "      <td>Summer</td>\n",
       "      <td>Sydney</td>\n",
       "      <td>Rowing</td>\n",
       "      <td>Rowing Men's Lightweight Double Sculls</td>\n",
       "      <td>NaN</td>\n",
       "    </tr>\n",
       "    <tr>\n",
       "      <th>158</th>\n",
       "      <td>62</td>\n",
       "      <td>Giovanni Abagnale</td>\n",
       "      <td>M</td>\n",
       "      <td>21.0</td>\n",
       "      <td>198.0</td>\n",
       "      <td>90.0</td>\n",
       "      <td>Italy</td>\n",
       "      <td>ITA</td>\n",
       "      <td>2016 Summer</td>\n",
       "      <td>2016</td>\n",
       "      <td>Summer</td>\n",
       "      <td>Rio de Janeiro</td>\n",
       "      <td>Rowing</td>\n",
       "      <td>Rowing Men's Coxless Pairs</td>\n",
       "      <td>Bronze</td>\n",
       "    </tr>\n",
       "    <tr>\n",
       "      <th>176</th>\n",
       "      <td>74</td>\n",
       "      <td>Mara Laura Abalo</td>\n",
       "      <td>F</td>\n",
       "      <td>30.0</td>\n",
       "      <td>182.0</td>\n",
       "      <td>73.0</td>\n",
       "      <td>Argentina</td>\n",
       "      <td>ARG</td>\n",
       "      <td>2012 Summer</td>\n",
       "      <td>2012</td>\n",
       "      <td>Summer</td>\n",
       "      <td>London</td>\n",
       "      <td>Rowing</td>\n",
       "      <td>Rowing Women's Coxless Pairs</td>\n",
       "      <td>NaN</td>\n",
       "    </tr>\n",
       "    <tr>\n",
       "      <th>194</th>\n",
       "      <td>89</td>\n",
       "      <td>Rodrigo Abasolo</td>\n",
       "      <td>M</td>\n",
       "      <td>21.0</td>\n",
       "      <td>NaN</td>\n",
       "      <td>NaN</td>\n",
       "      <td>Chile</td>\n",
       "      <td>CHI</td>\n",
       "      <td>1984 Summer</td>\n",
       "      <td>1984</td>\n",
       "      <td>Summer</td>\n",
       "      <td>Los Angeles</td>\n",
       "      <td>Rowing</td>\n",
       "      <td>Rowing Men's Coxed Eights</td>\n",
       "      <td>NaN</td>\n",
       "    </tr>\n",
       "  </tbody>\n",
       "</table>\n",
       "</div>"
      ],
      "text/plain": [
       "     ID               Name Sex   Age  Height  Weight         Team  NOC  \\\n",
       "92   30   Pepijn Aardewijn   M  26.0   189.0    72.0  Netherlands  NED   \n",
       "93   30   Pepijn Aardewijn   M  30.0   189.0    72.0  Netherlands  NED   \n",
       "158  62  Giovanni Abagnale   M  21.0   198.0    90.0        Italy  ITA   \n",
       "176  74   Mara Laura Abalo   F  30.0   182.0    73.0    Argentina  ARG   \n",
       "194  89    Rodrigo Abasolo   M  21.0     NaN     NaN        Chile  CHI   \n",
       "\n",
       "           Games  Year  Season            City   Sport  \\\n",
       "92   1996 Summer  1996  Summer         Atlanta  Rowing   \n",
       "93   2000 Summer  2000  Summer          Sydney  Rowing   \n",
       "158  2016 Summer  2016  Summer  Rio de Janeiro  Rowing   \n",
       "176  2012 Summer  2012  Summer          London  Rowing   \n",
       "194  1984 Summer  1984  Summer     Los Angeles  Rowing   \n",
       "\n",
       "                                      Event   Medal  \n",
       "92   Rowing Men's Lightweight Double Sculls  Silver  \n",
       "93   Rowing Men's Lightweight Double Sculls     NaN  \n",
       "158              Rowing Men's Coxless Pairs  Bronze  \n",
       "176            Rowing Women's Coxless Pairs     NaN  \n",
       "194               Rowing Men's Coxed Eights     NaN  "
      ]
     },
     "execution_count": 53,
     "metadata": {},
     "output_type": "execute_result"
    }
   ],
   "source": [
    "dfRowing.head()"
   ]
  },
  {
   "cell_type": "code",
   "execution_count": 54,
   "id": "53cf953f",
   "metadata": {
    "ExecuteTime": {
     "end_time": "2022-07-29T04:07:53.671650Z",
     "start_time": "2022-07-29T04:07:52.961723Z"
    }
   },
   "outputs": [
    {
     "name": "stderr",
     "output_type": "stream",
     "text": [
      "C:\\Users\\nico0\\AppData\\Local\\Temp\\ipykernel_22740\\819496226.py:1: SettingWithCopyWarning: \n",
      "A value is trying to be set on a copy of a slice from a DataFrame.\n",
      "Try using .loc[row_indexer,col_indexer] = value instead\n",
      "\n",
      "See the caveats in the documentation: https://pandas.pydata.org/pandas-docs/stable/user_guide/indexing.html#returning-a-view-versus-a-copy\n",
      "  dfRowing['GameYear']=dfRowing['Games'].str.extract(r'(\\d*)')\n"
     ]
    }
   ],
   "source": [
    "dfRowing['GameYear']=dfRowing['Games'].str.extract(r'(\\d*)')"
   ]
  },
  {
   "cell_type": "code",
   "execution_count": 55,
   "id": "0ccf808f",
   "metadata": {
    "ExecuteTime": {
     "end_time": "2022-07-29T04:07:53.697666Z",
     "start_time": "2022-07-29T04:07:53.675081Z"
    }
   },
   "outputs": [],
   "source": [
    "dfAgePerYear=dfRowing.groupby(by=['GameYear','Sex'],as_index=False)['Age'].mean()"
   ]
  },
  {
   "cell_type": "code",
   "execution_count": 56,
   "id": "e173f769",
   "metadata": {
    "ExecuteTime": {
     "end_time": "2022-07-29T04:07:53.712954Z",
     "start_time": "2022-07-29T04:07:53.701391Z"
    }
   },
   "outputs": [
    {
     "data": {
      "text/html": [
       "<div>\n",
       "<style scoped>\n",
       "    .dataframe tbody tr th:only-of-type {\n",
       "        vertical-align: middle;\n",
       "    }\n",
       "\n",
       "    .dataframe tbody tr th {\n",
       "        vertical-align: top;\n",
       "    }\n",
       "\n",
       "    .dataframe thead th {\n",
       "        text-align: right;\n",
       "    }\n",
       "</style>\n",
       "<table border=\"1\" class=\"dataframe\">\n",
       "  <thead>\n",
       "    <tr style=\"text-align: right;\">\n",
       "      <th></th>\n",
       "      <th>GameYear</th>\n",
       "      <th>Sex</th>\n",
       "      <th>Age</th>\n",
       "    </tr>\n",
       "  </thead>\n",
       "  <tbody>\n",
       "    <tr>\n",
       "      <th>0</th>\n",
       "      <td>1900</td>\n",
       "      <td>M</td>\n",
       "      <td>23.969388</td>\n",
       "    </tr>\n",
       "    <tr>\n",
       "      <th>1</th>\n",
       "      <td>1904</td>\n",
       "      <td>M</td>\n",
       "      <td>27.000000</td>\n",
       "    </tr>\n",
       "    <tr>\n",
       "      <th>2</th>\n",
       "      <td>1906</td>\n",
       "      <td>M</td>\n",
       "      <td>24.725490</td>\n",
       "    </tr>\n",
       "    <tr>\n",
       "      <th>3</th>\n",
       "      <td>1908</td>\n",
       "      <td>M</td>\n",
       "      <td>24.328947</td>\n",
       "    </tr>\n",
       "    <tr>\n",
       "      <th>4</th>\n",
       "      <td>1912</td>\n",
       "      <td>M</td>\n",
       "      <td>25.066327</td>\n",
       "    </tr>\n",
       "  </tbody>\n",
       "</table>\n",
       "</div>"
      ],
      "text/plain": [
       "  GameYear Sex        Age\n",
       "0     1900   M  23.969388\n",
       "1     1904   M  27.000000\n",
       "2     1906   M  24.725490\n",
       "3     1908   M  24.328947\n",
       "4     1912   M  25.066327"
      ]
     },
     "execution_count": 56,
     "metadata": {},
     "output_type": "execute_result"
    }
   ],
   "source": [
    "dfAgePerYear.head()"
   ]
  },
  {
   "cell_type": "code",
   "execution_count": 57,
   "id": "d70672bd",
   "metadata": {
    "ExecuteTime": {
     "end_time": "2022-07-29T04:07:54.018621Z",
     "start_time": "2022-07-29T04:07:53.716243Z"
    }
   },
   "outputs": [
    {
     "data": {
      "image/png": "[encoded data removed]",
      "text/plain": [
       "<Figure size 1008x432 with 1 Axes>"
      ]
     },
     "metadata": {
      "needs_background": "light"
     },
     "output_type": "display_data"
    }
   ],
   "source": [
    "plt.figure(figsize=(14,6))\n",
    "sns.lineplot(x='GameYear',y='Age', hue='Sex',data=dfAgePerYear)\n",
    "plt.tick_params(axis='x', rotation=90)\n",
    "plt.grid()"
   ]
  },
  {
   "cell_type": "markdown",
   "id": "0efd8365",
   "metadata": {},
   "source": [
    "Se observa que la edad de las mujeres ha venido aumentando desde 1976 hasta alcanzar un valor promedio de 27 años, esto mismo ha sucedido con los hombres, lo cual puede deberse a que cada vez se requiere más años de entrenamiento para participar en los juegos olímpicos debido al perfeccionamiento de la técnica"
   ]
  },
  {
   "cell_type": "markdown",
   "id": "44e21ac0",
   "metadata": {},
   "source": [
    "## 2 )"
   ]
  },
  {
   "cell_type": "code",
   "execution_count": null,
   "id": "23c95404",
   "metadata": {
    "hide_input": true
   },
   "outputs": [],
   "source": []
  },
  {
   "cell_type": "code",
   "execution_count": 58,
   "id": "6cdfd2c7",
   "metadata": {
    "ExecuteTime": {
     "end_time": "2022-07-29T04:07:54.440318Z",
     "start_time": "2022-07-29T04:07:54.023150Z"
    }
   },
   "outputs": [
    {
     "data": {
      "text/plain": [
       "<AxesSubplot:xlabel='Medal', ylabel='Age'>"
      ]
     },
     "execution_count": 58,
     "metadata": {},
     "output_type": "execute_result"
    },
    {
     "data": {
      "image/png": "[encoded data removed]",
      "text/plain": [
       "<Figure size 576x432 with 1 Axes>"
      ]
     },
     "metadata": {
      "needs_background": "light"
     },
     "output_type": "display_data"
    }
   ],
   "source": [
    "sns.boxplot(x='Medal',y='Age', hue='Sex',data=df)"
   ]
  },
  {
   "cell_type": "markdown",
   "id": "ec431faa",
   "metadata": {},
   "source": [
    "Se observa:\n",
    "\n",
    "Los hombres ganan las medallas olímpicas a mayor edad en comparación con las mujeres.\n",
    "\n",
    "No hay distinción entre la edad a la hora de ganar una determinada medalla pues sin importar cual sea, el 75% de las personas  que las obtienen entre los 22 y 28 años\n",
    "\n"
   ]
  },
  {
   "cell_type": "code",
   "execution_count": 59,
   "id": "779e314b",
   "metadata": {
    "ExecuteTime": {
     "end_time": "2022-07-29T04:07:54.867836Z",
     "start_time": "2022-07-29T04:07:54.442321Z"
    }
   },
   "outputs": [
    {
     "data": {
      "text/plain": [
       "<AxesSubplot:xlabel='Medal', ylabel='Height'>"
      ]
     },
     "execution_count": 59,
     "metadata": {},
     "output_type": "execute_result"
    },
    {
     "data": {
      "image/png": "[encoded data removed]",
      "text/plain": [
       "<Figure size 576x432 with 1 Axes>"
      ]
     },
     "metadata": {
      "needs_background": "light"
     },
     "output_type": "display_data"
    }
   ],
   "source": [
    "sns.boxplot(x='Medal',y='Height', hue='Sex',data=df)"
   ]
  },
  {
   "cell_type": "markdown",
   "id": "1937850f",
   "metadata": {},
   "source": [
    "Los hombres que ganan Medallas olímpicas son más altos en comparación a las mujeres que ganan estas.\n",
    "\n",
    "La mediana sin importar la medalla es de 182 cm para los hombres y 175 cm para las mujeres de tal manera que existe mayor probabilidad de ganar una medalla olímpica si se es alto.\n",
    "\n"
   ]
  },
  {
   "cell_type": "code",
   "execution_count": 60,
   "id": "975650a9",
   "metadata": {
    "ExecuteTime": {
     "end_time": "2022-07-29T04:07:55.251654Z",
     "start_time": "2022-07-29T04:07:54.872082Z"
    }
   },
   "outputs": [
    {
     "data": {
      "text/plain": [
       "<AxesSubplot:title={'center':'Cantidad de personas Colombias por deporte'}>"
      ]
     },
     "execution_count": 60,
     "metadata": {},
     "output_type": "execute_result"
    },
    {
     "data": {
      "image/png": "[encoded data removed]",
      "text/plain": [
       "<Figure size 720x432 with 1 Axes>"
      ]
     },
     "metadata": {
      "needs_background": "light"
     },
     "output_type": "display_data"
    }
   ],
   "source": [
    "(df[df['Team']=='Colombia']['Sport'].value_counts()\n",
    " .plot(kind='bar',figsize=(10,6),title='Cantidad de personas Colombias por deporte'))"
   ]
  },
  {
   "cell_type": "markdown",
   "id": "b801e0eb",
   "metadata": {},
   "source": [
    "El deporte en el que mayormente participa Colombia es Atletismo y luego de eso Ciclismo"
   ]
  }
 ],
 "metadata": {
  "kernelspec": {
   "display_name": "Python 3",
   "language": "python",
   "name": "python3"
  },
  "language_info": {
   "codemirror_mode": {
    "name": "ipython",
    "version": 3
   },
   "file_extension": ".py",
   "mimetype": "text/x-python",
   "name": "python",
   "nbconvert_exporter": "python",
   "pygments_lexer": "ipython3",
   "version": "3.7.2"
  },
  "varInspector": {
   "cols": {
    "lenName": 16,
    "lenType": 16,
    "lenVar": 40
   },
   "kernels_config": {
    "python": {
     "delete_cmd_postfix": "",
     "delete_cmd_prefix": "del ",
     "library": "var_list.py",
     "varRefreshCmd": "print(var_dic_list())"
    },
    "r": {
     "delete_cmd_postfix": ") ",
     "delete_cmd_prefix": "rm(",
     "library": "var_list.r",
     "varRefreshCmd": "cat(var_dic_list()) "
    }
   },
   "position": {
    "height": "315.844px",
    "left": "910px",
    "right": "20px",
    "top": "120px",
    "width": "350px"
   },
   "types_to_exclude": [
    "module",
    "function",
    "builtin_function_or_method",
    "instance",
    "_Feature"
   ],
   "window_display": false
  }
 },
 "nbformat": 4,
 "nbformat_minor": 5
}
