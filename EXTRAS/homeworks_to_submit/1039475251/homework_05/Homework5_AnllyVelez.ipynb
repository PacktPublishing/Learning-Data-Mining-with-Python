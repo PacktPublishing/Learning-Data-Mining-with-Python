{
 "cells": [
  {
   "cell_type": "code",
   "execution_count": 48,
   "id": "cb0ecc99",
   "metadata": {},
   "outputs": [
    {
     "name": "stderr",
     "output_type": "stream",
     "text": [
      "[nltk_data] Downloading package punkt to /home/anlly/nltk_data...\n",
      "[nltk_data]   Unzipping tokenizers/punkt.zip.\n",
      "[nltk_data] Downloading package stopwords to /home/anlly/nltk_data...\n",
      "[nltk_data]   Package stopwords is already up-to-date!\n"
     ]
    },
    {
     "data": {
      "text/plain": [
       "True"
      ]
     },
     "execution_count": 48,
     "metadata": {},
     "output_type": "execute_result"
    }
   ],
   "source": [
    "import pandas as pd\n",
    "import re\n",
    "import seaborn as sns\n",
    "from tqdm import tqdm\n",
    "from textblob import TextBlob\n",
    "from textblob.classifiers import NaiveBayesClassifier,DecisionTreeClassifier \n",
    "nltk.download('punkt')\n",
    "from sklearn.feature_extraction.text import TfidfVectorizer\n",
    "from sklearn.model_selection import train_test_split\n",
    "from sklearn.metrics import accuracy_score\n",
    "from nltk.corpus import stopwords\n",
    "\n",
    "import nltk\n",
    "nltk.download('stopwords')"
   ]
  },
  {
   "cell_type": "markdown",
   "id": "9c959936",
   "metadata": {},
   "source": [
    "#     <center> HOMEWORK 5   </center>"
   ]
  },
  {
   "cell_type": "markdown",
   "id": "f6e513a0",
   "metadata": {},
   "source": [
    " ### I. Take the airline opinion dataset (airline_tweets.csv) that was the subject of the Class 12 \n",
    " ### II. Divide the dataset into Train/Test: 80/20 percent fix the randomness! \n",
    " ### III. Compare the different Methods:\n",
    "\n",
    "TextBlob\n",
    "Microsoft Azure!!!\n",
    "a train your own model with Sklearn algorithm, compare on the same subset!"
   ]
  },
  {
   "cell_type": "code",
   "execution_count": 7,
   "id": "446c740f",
   "metadata": {},
   "outputs": [
    {
     "data": {
      "text/html": [
       "<div>\n",
       "<style scoped>\n",
       "    .dataframe tbody tr th:only-of-type {\n",
       "        vertical-align: middle;\n",
       "    }\n",
       "\n",
       "    .dataframe tbody tr th {\n",
       "        vertical-align: top;\n",
       "    }\n",
       "\n",
       "    .dataframe thead th {\n",
       "        text-align: right;\n",
       "    }\n",
       "</style>\n",
       "<table border=\"1\" class=\"dataframe\">\n",
       "  <thead>\n",
       "    <tr style=\"text-align: right;\">\n",
       "      <th></th>\n",
       "      <th>tweet_id</th>\n",
       "      <th>airline_sentiment</th>\n",
       "      <th>airline_sentiment_confidence</th>\n",
       "      <th>negativereason</th>\n",
       "      <th>negativereason_confidence</th>\n",
       "      <th>airline</th>\n",
       "      <th>airline_sentiment_gold</th>\n",
       "      <th>name</th>\n",
       "      <th>negativereason_gold</th>\n",
       "      <th>retweet_count</th>\n",
       "      <th>text</th>\n",
       "      <th>tweet_coord</th>\n",
       "      <th>tweet_created</th>\n",
       "      <th>tweet_location</th>\n",
       "      <th>user_timezone</th>\n",
       "    </tr>\n",
       "  </thead>\n",
       "  <tbody>\n",
       "    <tr>\n",
       "      <th>0</th>\n",
       "      <td>570306133677760513</td>\n",
       "      <td>neutral</td>\n",
       "      <td>1.0000</td>\n",
       "      <td>NaN</td>\n",
       "      <td>NaN</td>\n",
       "      <td>Virgin America</td>\n",
       "      <td>NaN</td>\n",
       "      <td>cairdin</td>\n",
       "      <td>NaN</td>\n",
       "      <td>0</td>\n",
       "      <td>@VirginAmerica What @dhepburn said.</td>\n",
       "      <td>NaN</td>\n",
       "      <td>2015-02-24 11:35:52 -0800</td>\n",
       "      <td>NaN</td>\n",
       "      <td>Eastern Time (US &amp; Canada)</td>\n",
       "    </tr>\n",
       "    <tr>\n",
       "      <th>1</th>\n",
       "      <td>570301130888122368</td>\n",
       "      <td>positive</td>\n",
       "      <td>0.3486</td>\n",
       "      <td>NaN</td>\n",
       "      <td>0.0</td>\n",
       "      <td>Virgin America</td>\n",
       "      <td>NaN</td>\n",
       "      <td>jnardino</td>\n",
       "      <td>NaN</td>\n",
       "      <td>0</td>\n",
       "      <td>@VirginAmerica plus you've added commercials t...</td>\n",
       "      <td>NaN</td>\n",
       "      <td>2015-02-24 11:15:59 -0800</td>\n",
       "      <td>NaN</td>\n",
       "      <td>Pacific Time (US &amp; Canada)</td>\n",
       "    </tr>\n",
       "  </tbody>\n",
       "</table>\n",
       "</div>"
      ],
      "text/plain": [
       "             tweet_id airline_sentiment  airline_sentiment_confidence  \\\n",
       "0  570306133677760513           neutral                        1.0000   \n",
       "1  570301130888122368          positive                        0.3486   \n",
       "\n",
       "  negativereason  negativereason_confidence         airline  \\\n",
       "0            NaN                        NaN  Virgin America   \n",
       "1            NaN                        0.0  Virgin America   \n",
       "\n",
       "  airline_sentiment_gold      name negativereason_gold  retweet_count  \\\n",
       "0                    NaN   cairdin                 NaN              0   \n",
       "1                    NaN  jnardino                 NaN              0   \n",
       "\n",
       "                                                text tweet_coord  \\\n",
       "0                @VirginAmerica What @dhepburn said.         NaN   \n",
       "1  @VirginAmerica plus you've added commercials t...         NaN   \n",
       "\n",
       "               tweet_created tweet_location               user_timezone  \n",
       "0  2015-02-24 11:35:52 -0800            NaN  Eastern Time (US & Canada)  \n",
       "1  2015-02-24 11:15:59 -0800            NaN  Pacific Time (US & Canada)  "
      ]
     },
     "execution_count": 7,
     "metadata": {},
     "output_type": "execute_result"
    }
   ],
   "source": [
    "URL = \"https://raw.githubusercontent.com/mhemmg/datasets/master/nlp/airline_tweets.csv\"\n",
    "\n",
    "airline_tweets = pd.read_csv(URL)\n",
    "airline_tweets2=airline_tweets[['airline_sentiment','text']]\n",
    "airline_tweets2.to_csv('full.csv',index=False)\n",
    "airline_tweets.head(2)"
   ]
  },
  {
   "cell_type": "code",
   "execution_count": 42,
   "id": "26dd76fe",
   "metadata": {},
   "outputs": [
    {
     "data": {
      "text/plain": [
       "<matplotlib.axes._subplots.AxesSubplot at 0x7fd21d7db940>"
      ]
     },
     "execution_count": 42,
     "metadata": {},
     "output_type": "execute_result"
    },
    {
     "data": {
      "image/png": "[encoded data removed]",
      "text/plain": [
       "<Figure size 432x288 with 1 Axes>"
      ]
     },
     "metadata": {
      "needs_background": "light"
     },
     "output_type": "display_data"
    }
   ],
   "source": [
    "airline_sentiment = airline_tweets.groupby(['airline', 'airline_sentiment']).airline_sentiment.count().unstack()\n",
    "airline_sentiment.plot(kind='bar')"
   ]
  },
  {
   "cell_type": "code",
   "execution_count": 34,
   "id": "20c86555",
   "metadata": {},
   "outputs": [],
   "source": [
    "clean_tweets = airline_tweets[['airline_sentiment']].copy()"
   ]
  },
  {
   "cell_type": "code",
   "execution_count": 35,
   "id": "4e79547c",
   "metadata": {},
   "outputs": [],
   "source": [
    "texto = airline_tweets['text'].values\n",
    "labels = airline_tweets['airline_sentiment'].values"
   ]
  },
  {
   "cell_type": "code",
   "execution_count": 36,
   "id": "cd925bf2",
   "metadata": {},
   "outputs": [],
   "source": [
    "##Limpiando el texto de los tweets\n",
    "clean_text = []\n",
    "\n",
    "for i in range(0, len(texto)):\n",
    "    \n",
    "    processed_texto = re.sub(r'@\\w+', ' ', str(texto[i]))\n",
    "    processed_texto = re.sub(r'rt @\\w+:', ' ', processed_texto)\n",
    "    processed_texto = re.sub(\"\\d+\", ' ', processed_texto)\n",
    "    processed_texto = re.sub(r'http\\S+', ' ', processed_texto)\n",
    "    processed_texto = re.sub(r'\\W', ' ', processed_texto)\n",
    "    processed_texto= re.sub(r'\\s+[a-zA-Z]\\s+', ' ', processed_texto)\n",
    "    processed_texto = re.sub(r'\\^[a-zA-Z]\\s+', ' ', processed_texto) \n",
    "    processed_texto = re.sub(r'\\s+', ' ', processed_texto, flags=re.I)\n",
    "    \n",
    "    processed_texto = processed_texto.lower()\n",
    "    clean_text.append(processed_texto)\n",
    "\n",
    "clean_tweets['features']=clean_text"
   ]
  },
  {
   "cell_type": "code",
   "execution_count": 37,
   "id": "2bdadba5",
   "metadata": {},
   "outputs": [
    {
     "data": {
      "text/html": [
       "<div>\n",
       "<style scoped>\n",
       "    .dataframe tbody tr th:only-of-type {\n",
       "        vertical-align: middle;\n",
       "    }\n",
       "\n",
       "    .dataframe tbody tr th {\n",
       "        vertical-align: top;\n",
       "    }\n",
       "\n",
       "    .dataframe thead th {\n",
       "        text-align: right;\n",
       "    }\n",
       "</style>\n",
       "<table border=\"1\" class=\"dataframe\">\n",
       "  <thead>\n",
       "    <tr style=\"text-align: right;\">\n",
       "      <th></th>\n",
       "      <th>airline_sentiment</th>\n",
       "      <th>features</th>\n",
       "    </tr>\n",
       "  </thead>\n",
       "  <tbody>\n",
       "    <tr>\n",
       "      <th>0</th>\n",
       "      <td>neutral</td>\n",
       "      <td>what said</td>\n",
       "    </tr>\n",
       "    <tr>\n",
       "      <th>1</th>\n",
       "      <td>positive</td>\n",
       "      <td>plus you ve added commercials to the experien...</td>\n",
       "    </tr>\n",
       "    <tr>\n",
       "      <th>2</th>\n",
       "      <td>neutral</td>\n",
       "      <td>didn today must mean need to take another trip</td>\n",
       "    </tr>\n",
       "  </tbody>\n",
       "</table>\n",
       "</div>"
      ],
      "text/plain": [
       "  airline_sentiment                                           features\n",
       "0           neutral                                         what said \n",
       "1          positive   plus you ve added commercials to the experien...\n",
       "2           neutral    didn today must mean need to take another trip "
      ]
     },
     "execution_count": 37,
     "metadata": {},
     "output_type": "execute_result"
    }
   ],
   "source": [
    "clean_tweets.head(3)"
   ]
  },
  {
   "cell_type": "code",
   "execution_count": 41,
   "id": "123800b5",
   "metadata": {},
   "outputs": [
    {
     "data": {
      "text/plain": [
       "<matplotlib.axes._subplots.AxesSubplot at 0x7fd21d7b8dc0>"
      ]
     },
     "execution_count": 41,
     "metadata": {},
     "output_type": "execute_result"
    },
    {
     "data": {
      "image/png": "[encoded data removed]",
      "text/plain": [
       "<Figure size 432x288 with 1 Axes>"
      ]
     },
     "metadata": {},
     "output_type": "display_data"
    }
   ],
   "source": [
    "clean_tweets['airline_sentiment'].value_counts().plot(kind='pie', autopct='%1.0f%%')"
   ]
  },
  {
   "cell_type": "markdown",
   "id": "a4e7d6c3",
   "metadata": {},
   "source": [
    "Para optimizar el entrenamiento es necesario descartar algunos comentarios que en su mayoría son negativos "
   ]
  },
  {
   "cell_type": "code",
   "execution_count": 45,
   "id": "302529da",
   "metadata": {},
   "outputs": [],
   "source": [
    "df_tw = clean_tweets.copy()\n",
    "\n",
    "filter_tw = clean_tweets[clean_tweets['airline_sentiment']=='negative'].index[:6100]\n",
    "df_tw.drop(index=filter_tw,inplace=True)"
   ]
  },
  {
   "cell_type": "code",
   "execution_count": 49,
   "id": "60831620",
   "metadata": {},
   "outputs": [],
   "source": [
    "X_train, X_test, y_train, y_test = train_test_split(df_tw['features'], df_tw['airline_sentiment'], test_size=0.2, random_state=0)"
   ]
  },
  {
   "cell_type": "code",
   "execution_count": 53,
   "id": "4aaf9dc2",
   "metadata": {},
   "outputs": [
    {
     "name": "stdout",
     "output_type": "stream",
     "text": [
      "The training set is size 6832 and was fractioned into 30 sets of size 227\n"
     ]
    }
   ],
   "source": [
    "def new_format(X,Y):  #we need to transform the training and test set to fit the classifier format \n",
    "    return [(x,y) for x,y in zip(X,Y)]\n",
    "\n",
    "def divide(data,n):  #the training set is way too large, we need to split it into smaller sets\n",
    "    m = int(len(data)/n)\n",
    "    return [data[i*m:(i+1)*m] for i in range(n)]\n",
    "\n",
    "n_sets = 30\n",
    "sets = divide(new_format(X_train,y_train),n_sets) \n",
    "print('The training set is size {} and was fractioned into {} sets of size {}'.format(len(X_train),n_sets,len(sets[0])))"
   ]
  },
  {
   "cell_type": "code",
   "execution_count": 52,
   "id": "c7cbe12c",
   "metadata": {},
   "outputs": [
    {
     "name": "stderr",
     "output_type": "stream",
     "text": [
      " 90%|███████████████████████████████████████▌    | 9/10 [02:12<00:14, 14.74s/it]\n"
     ]
    },
    {
     "name": "stdout",
     "output_type": "stream",
     "text": [
      "Acuracy \t: 0.7195550351288056\n",
      "CPU times: user 2min 50s, sys: 3 s, total: 2min 53s\n",
      "Wall time: 3min\n"
     ]
    }
   ],
   "source": [
    "%%time\n",
    "cl = NaiveBayesClassifier(sets[0])\n",
    "for i,j in zip(range(10),tqdm(range(10))): #using 15 of the 30 sets for ram memory usage issues when using all sets\n",
    "  cl.update(sets[i+1])\n",
    "\n",
    "TB_acc = cl.accuracy(new_format(X_test,y_test))\n",
    "print('Acuracy \\t:',TB_acc)"
   ]
  },
  {
   "cell_type": "markdown",
   "id": "616f0d10",
   "metadata": {},
   "source": [
    "### Sklearn algorithm"
   ]
  },
  {
   "cell_type": "code",
   "execution_count": 59,
   "id": "a3a58c55",
   "metadata": {},
   "outputs": [],
   "source": [
    "vectorizer = TfidfVectorizer (max_features=2500, min_df=7, max_df=0.8, stop_words=stopwords.words('english'))\n",
    "processed_features_vec = vectorizer.fit_transform(clean_text).toarray()"
   ]
  },
  {
   "cell_type": "code",
   "execution_count": 64,
   "id": "48260cf3",
   "metadata": {},
   "outputs": [],
   "source": [
    "X_train, X_test, y_train, y_test = train_test_split(processed_features_vec, labels, test_size=0.2, random_state=0)"
   ]
  },
  {
   "cell_type": "code",
   "execution_count": 63,
   "id": "701dfc5c",
   "metadata": {},
   "outputs": [
    {
     "name": "stdout",
     "output_type": "stream",
     "text": [
      "Acuracy \t: 0.7377049180327869\n",
      "CPU times: user 3min 21s, sys: 4.45 s, total: 3min 25s\n",
      "Wall time: 2min 24s\n"
     ]
    }
   ],
   "source": [
    "%%time\n",
    "## Multi Layer Perceptron classifier\n",
    "\n",
    "from sklearn.neural_network import MLPClassifier\n",
    "MLP_classifier = MLPClassifier(hidden_layer_sizes=(100,), activation='relu', solver='adam', alpha=0.0001 )\n",
    "MLP_classifier.fit(X_train, y_train)\n",
    "\n",
    "MLP_predictions = MLP_classifier.predict(X_test)\n",
    "MLP_acc = accuracy_score(y_test, MLP_predictions)\n",
    "\n",
    "print('Acuracy \\t:',MLP_acc)"
   ]
  },
  {
   "cell_type": "code",
   "execution_count": 67,
   "id": "6ce65b01",
   "metadata": {},
   "outputs": [
    {
     "name": "stdout",
     "output_type": "stream",
     "text": [
      "Acuracy \t: 0.757172131147541\n",
      "CPU times: user 1min 44s, sys: 193 ms, total: 1min 44s\n",
      "Wall time: 1min 47s\n"
     ]
    }
   ],
   "source": [
    "%%time\n",
    "## random forest\n",
    "\n",
    "from sklearn.ensemble import RandomForestClassifier\n",
    "RF_classifier = RandomForestClassifier(n_estimators=200, random_state=0)\n",
    "RF_classifier.fit(X_train, y_train)\n",
    "\n",
    "RF_predictions = RF_classifier.predict(X_test)\n",
    "RF_acc =accuracy_score(y_test, RF_predictions)\n",
    "\n",
    "print('Acuracy \\t:',RF_acc)"
   ]
  },
  {
   "cell_type": "code",
   "execution_count": 69,
   "id": "404241a2",
   "metadata": {},
   "outputs": [
    {
     "name": "stdout",
     "output_type": "stream",
     "text": [
      "Acuracy \t: 0.7739071038251366\n",
      "CPU times: user 439 ms, sys: 16.5 ms, total: 455 ms\n",
      "Wall time: 1.72 s\n"
     ]
    }
   ],
   "source": [
    "%%time\n",
    "##Linear SVC\n",
    "from sklearn.svm import LinearSVC\n",
    "\n",
    "LSVC_classifier = LinearSVC(random_state=0, tol=1e-6)\n",
    "LSVC_classifier.fit(X_train, y_train)\n",
    "LSVCpredictions = LSVC_classifier.predict(X_test)\n",
    "LSVC_acc =accuracy_score(y_test, LSVCpredictions)\n",
    "print('Acuracy \\t:',LSVC_acc)"
   ]
  },
  {
   "cell_type": "code",
   "execution_count": 76,
   "id": "4b1acf6e",
   "metadata": {},
   "outputs": [],
   "source": [
    "texts = [['it wasnt as bad at all'], \n",
    "         ['I had real bad trip'],\n",
    "         ['was a happy trip']]\n",
    "predictors = [ RF_classifier,\n",
    "              LSVC_classifier,\n",
    "              MLP_classifier]\n",
    "predictors_names = ['Random Forest \\t\\t\\t\\t',\n",
    "                    'Multi Layer Perceptron classifier \\t',\n",
    "                    'Linear support vector classifier \\t',\n",
    "                    'TextBlob Naive Bayes classifier \\t']\n",
    "\n",
    "accuracies = [RF_acc, LSVC_acc, MLP_acc, TB_acc]"
   ]
  },
  {
   "cell_type": "code",
   "execution_count": 77,
   "id": "903995d2",
   "metadata": {
    "scrolled": true
   },
   "outputs": [
    {
     "name": "stdout",
     "output_type": "stream",
     "text": [
      "\t\n",
      "\t For Text: it wasnt as bad at all \n",
      "\n",
      "Random Forest \t\t\t\t ...: neutral\n",
      "Multi Layer Perceptron classifier \t ...: negative\n",
      "Linear support vector classifier \t ...: negative\n",
      "TextBlob Naive Bayes classifier \t ...: neutral \n",
      "\n",
      "\t\n",
      "\t For Text: I had real bad trip \n",
      "\n",
      "Random Forest \t\t\t\t ...: negative\n",
      "Multi Layer Perceptron classifier \t ...: negative\n",
      "Linear support vector classifier \t ...: negative\n",
      "TextBlob Naive Bayes classifier \t ...: neutral \n",
      "\n",
      "\t\n",
      "\t For Text: was a happy trip \n",
      "\n",
      "Random Forest \t\t\t\t ...: negative\n",
      "Multi Layer Perceptron classifier \t ...: positive\n",
      "Linear support vector classifier \t ...: positive\n",
      "TextBlob Naive Bayes classifier \t ...: neutral \n",
      "\n",
      "Random Forest \t\t\t\t \t accuracy: 0.757172131147541\n",
      "Multi Layer Perceptron classifier \t \t accuracy: 0.7739071038251366\n",
      "Linear support vector classifier \t \t accuracy: 0.7377049180327869\n",
      "TextBlob Naive Bayes classifier \t \t accuracy: 0.7195550351288056\n"
     ]
    }
   ],
   "source": [
    "for text in texts:\n",
    "  print('\\t')\n",
    "  print('\\t For Text: %s \\n' %text[0]) \n",
    "  text_v = vectorizer.transform(text).toarray()\n",
    "\n",
    "  for predictor, name in zip( predictors, predictors_names[:-1]):\n",
    "    print(name, '...:',predictor.predict(text_v)[0])\n",
    "  print(predictors_names[-1],'...:',cl.classify(text),'\\n')\n",
    "\n",
    "for acc,name in zip(accuracies,predictors_names):\n",
    "  print(name,'\\t accuracy:' ,acc)"
   ]
  },
  {
   "cell_type": "markdown",
   "id": "68a9be53",
   "metadata": {},
   "source": [
    "Se puede notar que todos los metodos arrojan resultados cercanos, sin embargo, parece que se debe calibrar mejor. Esto se puede hacer variando el set de train y cambiando los parametros de los modelos para obtener un mejor resultado."
   ]
  },
  {
   "cell_type": "code",
   "execution_count": null,
   "id": "3fbdfd11",
   "metadata": {},
   "outputs": [],
   "source": []
  }
 ],
 "metadata": {
  "kernelspec": {
   "display_name": "Python 3 (ipykernel)",
   "language": "python",
   "name": "python3"
  },
  "language_info": {
   "codemirror_mode": {
    "name": "ipython",
    "version": 3
   },
   "file_extension": ".py",
   "mimetype": "text/x-python",
   "name": "python",
   "nbconvert_exporter": "python",
   "pygments_lexer": "ipython3",
   "version": "3.8.3"
  }
 },
 "nbformat": 4,
 "nbformat_minor": 5
}
