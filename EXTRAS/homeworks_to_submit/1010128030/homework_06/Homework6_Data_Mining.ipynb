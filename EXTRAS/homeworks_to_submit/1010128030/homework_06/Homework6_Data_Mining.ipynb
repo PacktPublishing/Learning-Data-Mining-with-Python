{
 "cells": [
  {
   "cell_type": "code",
   "execution_count": 1,
   "metadata": {
    "colab": {
     "base_uri": "https://localhost:8080/"
    },
    "id": "rXri7hL6bUbH",
    "outputId": "be3d8e27-bb26-471a-b3c4-7efd8c2ea9c1"
   },
   "outputs": [
    {
     "name": "stdout",
     "output_type": "stream",
     "text": [
      "--2022-11-25 13:57:55--  https://datahub.io/core/country-list/r/data.json\n",
      "Resolviendo datahub.io (datahub.io)... 104.21.40.221, 172.67.157.38, 2606:4700:3030::ac43:9d26, ...\n",
      "Conectando con datahub.io (datahub.io)[104.21.40.221]:443... conectado.\n",
      "Petición HTTP enviada, esperando respuesta... 302 Found\n",
      "Ubicación: https://pkgstore.datahub.io/core/country-list/data_json/data/8c458f2d15d9f2119654b29ede6e45b8/data_json.json [siguiente]\n",
      "--2022-11-25 13:57:56--  https://pkgstore.datahub.io/core/country-list/data_json/data/8c458f2d15d9f2119654b29ede6e45b8/data_json.json\n",
      "Resolviendo pkgstore.datahub.io (pkgstore.datahub.io)... 172.67.157.38, 104.21.40.221, 2606:4700:3033::6815:28dd, ...\n",
      "Conectando con pkgstore.datahub.io (pkgstore.datahub.io)[172.67.157.38]:443... conectado.\n",
      "Petición HTTP enviada, esperando respuesta... 200 OK\n",
      "Longitud: 9576 (9,4K) [text/plain]\n",
      "Guardando como: “data.json”\n",
      "\n",
      "data.json           100%[===================>]   9,35K  --.-KB/s    en 0s      \n",
      "\n",
      "2022-11-25 13:57:57 (30,0 MB/s) - “data.json” guardado [9576/9576]\n",
      "\n"
     ]
    }
   ],
   "source": [
    "#Import country list\n",
    "!wget 'https://datahub.io/core/country-list/r/data.json'"
   ]
  },
  {
   "cell_type": "code",
   "execution_count": 3,
   "metadata": {
    "id": "_wGiAq92bjhV"
   },
   "outputs": [],
   "source": [
    "import json\n",
    "  \n",
    "# Opening JSON file\n",
    "f = open('data.json')\n",
    "  \n",
    "# returns JSON object as \n",
    "# a dictionary\n",
    "data = json.load(f)"
   ]
  },
  {
   "cell_type": "code",
   "execution_count": 4,
   "metadata": {
    "id": "oVLw7AfBbr9K"
   },
   "outputs": [],
   "source": [
    "import random\n",
    "import requests\n",
    "\n",
    "#Europe countries to filter\n",
    "Europa = ['Austria', 'Belgium', 'Bulgaria', 'Croatia', 'Cyprus', 'Czechia', 'Denmark',\\\n",
    " 'Estonia', 'Finland', 'France', 'Germany', 'Greece', 'Hungary', 'Ireland',\\\n",
    "  'Italy', 'Latvia', 'Lithuania', 'Luxembourg', 'Malta', 'Netherlands',\\\n",
    "  'Poland', 'Portugal', 'Romania', 'Slovakia', 'Slovenia', 'Spain', 'Sweden']\n"
   ]
  },
  {
   "cell_type": "code",
   "execution_count": 5,
   "metadata": {
    "id": "dvrpTwdlb_D3"
   },
   "outputs": [],
   "source": [
    "#While loop to randomly choose a country and find the first institution with more than 0 papers\n",
    "a = True\n",
    "while a:\n",
    "  pais = data[random.randint(0, len(data))]\n",
    "  if pais['Name'] in Europa:\n",
    "    c = pais['Name']\n",
    "    institution_link=requests.get('https://inspirehep.net/api/institutions?q=' + c)\n",
    "    papers = [institution.get('metadata').get('number_of_papers') for institution in institution_link.json().get('hits').get('hits')]\n",
    "\n",
    "    for i in range(len(papers)):\n",
    "      if papers[i] > 0:\n",
    "        z = i\n",
    "        a = False\n",
    "        break\n",
    "      else:\n",
    "        pass\n",
    "  else:\n",
    "    pass"
   ]
  },
  {
   "cell_type": "code",
   "execution_count": 6,
   "metadata": {
    "colab": {
     "base_uri": "https://localhost:8080/"
    },
    "id": "E5ym9f8Kkpgk",
    "outputId": "659db433-6411-4d89-8dd4-75d86d3c66c9"
   },
   "outputs": [
    {
     "name": "stdout",
     "output_type": "stream",
     "text": [
      "The country is: Romania\n"
     ]
    }
   ],
   "source": [
    "print('The country is: ' + c)"
   ]
  },
  {
   "cell_type": "code",
   "execution_count": 7,
   "metadata": {
    "id": "RkhLFS4her-b"
   },
   "outputs": [],
   "source": [
    "#Using requests to get the json information of the institution selected and choose an article with 0 to 10 authors\n",
    "institution_2 = [d.get('metadata').get('legacy_ICN') for d in institution_link.json().get('hits').get('hits')][z]\n",
    "institution_3 = institution_2.replace(' ','+')\n",
    "articles = requests.get('https://inspirehep.net/api/literature?sort=mostrecent&page=1&q=aff+' + institution_3 + '+and+ac+5->+10')"
   ]
  },
  {
   "cell_type": "code",
   "execution_count": 8,
   "metadata": {
    "colab": {
     "base_uri": "https://localhost:8080/"
    },
    "id": "M-ROo_Nunvto",
    "outputId": "354e6635-77ad-4932-ccc1-6b8ef24c8967"
   },
   "outputs": [
    {
     "name": "stdout",
     "output_type": "stream",
     "text": [
      "The title of the article is: Multiparticle quantum walk in the strongly interacting $SU(3)$ Su-Schrieffer-Heeger-Hubbard topological model\n"
     ]
    }
   ],
   "source": [
    "print('The title of the article is: ' + articles.json().get('hits').get('hits')[0].get('metadata').get('titles')[0].get('title'))"
   ]
  },
  {
   "cell_type": "code",
   "execution_count": 9,
   "metadata": {
    "id": "p0_ODvsjlQrb"
   },
   "outputs": [],
   "source": [
    "#Lists to create the Data Table\n",
    "name = []\n",
    "email = []\n",
    "institution = []\n",
    "rank = []\n",
    "start = []\n",
    "end = []\n",
    "\n",
    "\n",
    "#for loop to fill the lists\n",
    "for author in articles.json().get('hits').get('hits')[0].get('metadata').get('authors'):\n",
    "  if author.get('record') != None:\n",
    "    person = requests.get(author.get('record').get('$ref'))\n",
    "    try:\n",
    "      name.append(person.json().get('metadata').get('name')['value'])\n",
    "    except:\n",
    "      name.append(None)\n",
    "    try:\n",
    "      email.append(person.json().get('metadata').get('email_addresses')[0]['value'])\n",
    "    except:\n",
    "      email.append(None)\n",
    "    try:\n",
    "      institution.append(person.json().get('metadata').get('positions')[0].get('institution'))\n",
    "    except:\n",
    "      institution.append(None)\n",
    "    try:\n",
    "      rank.append(person.json().get('metadata').get('positions')[0].get('rank'))\n",
    "    except:\n",
    "      rank.append(None)\n",
    "    try:\n",
    "      start.append(person.json().get('metadata').get('positions')[0].get('start_date'))\n",
    "    except:\n",
    "      start.append(None)\n",
    "    try:\n",
    "      if person.json().get('metadata').get('positions')[0].get('current') == True:\n",
    "        end.append('Current')\n",
    "      else:\n",
    "        end.append(person.json().get('metadata').get('positions')[0].get('end_date'))\n",
    "    except:\n",
    "      end.append(None)\n"
   ]
  },
  {
   "cell_type": "code",
   "execution_count": null,
   "metadata": {
    "colab": {
     "base_uri": "https://localhost:8080/",
     "height": 300
    },
    "id": "_SJso_rfh_54",
    "outputId": "cedbd2a9-29bb-452e-801e-7278269fedf8"
   },
   "outputs": [],
   "source": [
    "import pandas as pd\n",
    "\n",
    "#creation of the table\n",
    "df = pd.DataFrame(list(zip(name, email, institution,rank,start,end)), columns =['Name', 'Email', 'Institution', 'Rank', 'Start Date', 'End Date'])\n",
    "df"
   ]
  }
 ],
 "metadata": {
  "colab": {
   "collapsed_sections": [],
   "provenance": []
  },
  "kernelspec": {
   "display_name": "Python 3",
   "language": "python",
   "name": "python3"
  },
  "language_info": {
   "codemirror_mode": {
    "name": "ipython",
    "version": 3
   },
   "file_extension": ".py",
   "mimetype": "text/x-python",
   "name": "python",
   "nbconvert_exporter": "python",
   "pygments_lexer": "ipython3",
   "version": "3.7.2"
  }
 },
 "nbformat": 4,
 "nbformat_minor": 1
}
