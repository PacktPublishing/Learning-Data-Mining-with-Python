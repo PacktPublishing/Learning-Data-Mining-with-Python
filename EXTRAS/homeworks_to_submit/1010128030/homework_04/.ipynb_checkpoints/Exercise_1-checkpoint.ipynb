{
 "cells": [
  {
   "cell_type": "markdown",
   "id": "55280934",
   "metadata": {},
   "source": [
    "# Exercise 1\n",
    "\n",
    "Se utiliza la libreria BeautifulSoup para extraer la información de los primeros 50 libros de la página https://books.toscrape.com/. Para esto primero se importan las librerias necesarias"
   ]
  },
  {
   "cell_type": "code",
   "execution_count": 1,
   "id": "cb5ef1ad",
   "metadata": {},
   "outputs": [],
   "source": [
    "from bs4 import BeautifulSoup\n",
    "import requests\n",
    "import csv"
   ]
  },
  {
   "cell_type": "markdown",
   "id": "dfc0fdc9",
   "metadata": {},
   "source": [
    "Luego, dado que la información se encuentra en tres páginas distintas, se utiliza un ciclo for para obtener la información deseada"
   ]
  },
  {
   "cell_type": "code",
   "execution_count": 2,
   "id": "ffdaa1c0",
   "metadata": {},
   "outputs": [],
   "source": [
    "books = []\n",
    "for i in ['1', '2', '3']:\n",
    "    \n",
    "    #Patrón de URL de las páginas deseadas\n",
    "    url = 'https://books.toscrape.com/catalogue/page-' + i + '.html'\n",
    "    \n",
    "    #Obtención de l página y lectura con BeautifulSoup\n",
    "    page = requests.get(url)\n",
    "    soup = BeautifulSoup(page.content, \"html.parser\")\n",
    "    \n",
    "    #Obtención de titulos y precios\n",
    "    title = [a.attrs.get('title') for a in soup.select('li a[title]')]\n",
    "    price = soup.select('p.price_color')\n",
    "\n",
    "    #Ciclo en que se crea diccionario con los valores previamente obtenidos\n",
    "    for j in range(len(title)):\n",
    "        data = {\"title\": title[j],\n",
    "            \"price\": price[j].get_text()}\n",
    "        books.append(data)\n",
    "    \n",
    "#Filtro para tener solo los primeros 50 libros\n",
    "books = books[0:50]"
   ]
  },
  {
   "cell_type": "markdown",
   "id": "f0c44f5c",
   "metadata": {},
   "source": [
    "Observemos los datos recolectados"
   ]
  },
  {
   "cell_type": "code",
   "execution_count": 3,
   "id": "7f8c4ffb",
   "metadata": {},
   "outputs": [
    {
     "name": "stdout",
     "output_type": "stream",
     "text": [
      "1 - A Light in the Attic - £51.77\n",
      "2 - Tipping the Velvet - £53.74\n",
      "3 - Soumission - £50.10\n",
      "4 - Sharp Objects - £47.82\n",
      "5 - Sapiens: A Brief History of Humankind - £54.23\n",
      "6 - The Requiem Red - £22.65\n",
      "7 - The Dirty Little Secrets of Getting Your Dream Job - £33.34\n",
      "8 - The Coming Woman: A Novel Based on the Life of the Infamous Feminist, Victoria Woodhull - £17.93\n",
      "9 - The Boys in the Boat: Nine Americans and Their Epic Quest for Gold at the 1936 Berlin Olympics - £22.60\n",
      "10 - The Black Maria - £52.15\n",
      "11 - Starving Hearts (Triangular Trade Trilogy, #1) - £13.99\n",
      "12 - Shakespeare's Sonnets - £20.66\n",
      "13 - Set Me Free - £17.46\n",
      "14 - Scott Pilgrim's Precious Little Life (Scott Pilgrim #1) - £52.29\n",
      "15 - Rip it Up and Start Again - £35.02\n",
      "16 - Our Band Could Be Your Life: Scenes from the American Indie Underground, 1981-1991 - £57.25\n",
      "17 - Olio - £23.88\n",
      "18 - Mesaerion: The Best Science Fiction Stories 1800-1849 - £37.59\n",
      "19 - Libertarianism for Beginners - £51.33\n",
      "20 - It's Only the Himalayas - £45.17\n",
      "21 - In Her Wake - £12.84\n",
      "22 - How Music Works - £37.32\n",
      "23 - Foolproof Preserving: A Guide to Small Batch Jams, Jellies, Pickles, Condiments, and More: A Foolproof Guide to Making Small Batch Jams, Jellies, Pickles, Condiments, and More - £30.52\n",
      "24 - Chase Me (Paris Nights #2) - £25.27\n",
      "25 - Black Dust - £34.53\n",
      "26 - Birdsong: A Story in Pictures - £54.64\n",
      "27 - America's Cradle of Quarterbacks: Western Pennsylvania's Football Factory from Johnny Unitas to Joe Montana - £22.50\n",
      "28 - Aladdin and His Wonderful Lamp - £53.13\n",
      "29 - Worlds Elsewhere: Journeys Around Shakespeare’s Globe - £40.30\n",
      "30 - Wall and Piece - £44.18\n",
      "31 - The Four Agreements: A Practical Guide to Personal Freedom - £17.66\n",
      "32 - The Five Love Languages: How to Express Heartfelt Commitment to Your Mate - £31.05\n",
      "33 - The Elephant Tree - £23.82\n",
      "34 - The Bear and the Piano - £36.89\n",
      "35 - Sophie's World - £15.94\n",
      "36 - Penny Maybe - £33.29\n",
      "37 - Maude (1883-1993):She Grew Up with the country - £18.02\n",
      "38 - In a Dark, Dark Wood - £19.63\n",
      "39 - Behind Closed Doors - £52.22\n",
      "40 - You can't bury them all: Poems - £33.63\n",
      "41 - Slow States of Collapse: Poems - £57.31\n",
      "42 - Reasons to Stay Alive - £26.41\n",
      "43 - Private Paris (Private #10) - £47.61\n",
      "44 - #HigherSelfie: Wake Up Your Life. Free Your Soul. Find Your Tribe. - £23.11\n",
      "45 - Without Borders (Wanderlove #1) - £45.07\n",
      "46 - When We Collided - £31.77\n",
      "47 - We Love You, Charlie Freeman - £50.27\n",
      "48 - Untitled Collection: Sabbath Poems 2014 - £14.27\n",
      "49 - Unseen City: The Majesty of Pigeons, the Discreet Charm of Snails & Other Wonders of the Urban Wilderness - £44.18\n",
      "50 - Unicorn Tracks - £18.78\n"
     ]
    }
   ],
   "source": [
    "n = 0\n",
    "for item in books:\n",
    "    n = n+1\n",
    "    print(n, '-', item['title'], '-', item['price'])"
   ]
  },
  {
   "cell_type": "markdown",
   "id": "16bc6f7f",
   "metadata": {},
   "source": [
    "Creemos un archivo csv con la información"
   ]
  },
  {
   "cell_type": "code",
   "execution_count": 5,
   "id": "c5497387",
   "metadata": {},
   "outputs": [
    {
     "ename": "UnicodeEncodeError",
     "evalue": "'latin-1' codec can't encode character '\\u2019' in position 45: ordinal not in range(256)",
     "output_type": "error",
     "traceback": [
      "\u001b[0;31m---------------------------------------------------------------------------\u001b[0m",
      "\u001b[0;31mUnicodeEncodeError\u001b[0m                        Traceback (most recent call last)",
      "\u001b[0;32m<ipython-input-5-64d22b042124>\u001b[0m in \u001b[0;36m<module>\u001b[0;34m\u001b[0m\n\u001b[1;32m      2\u001b[0m     \u001b[0mwriter\u001b[0m \u001b[0;34m=\u001b[0m \u001b[0mcsv\u001b[0m\u001b[0;34m.\u001b[0m\u001b[0mDictWriter\u001b[0m\u001b[0;34m(\u001b[0m\u001b[0mcsvfile\u001b[0m\u001b[0;34m,\u001b[0m \u001b[0mfieldnames\u001b[0m \u001b[0;34m=\u001b[0m \u001b[0;34m[\u001b[0m\u001b[0;34m'title'\u001b[0m\u001b[0;34m,\u001b[0m \u001b[0;34m'price'\u001b[0m\u001b[0;34m]\u001b[0m\u001b[0;34m)\u001b[0m\u001b[0;34m\u001b[0m\u001b[0;34m\u001b[0m\u001b[0m\n\u001b[1;32m      3\u001b[0m     \u001b[0mwriter\u001b[0m\u001b[0;34m.\u001b[0m\u001b[0mwriteheader\u001b[0m\u001b[0;34m(\u001b[0m\u001b[0;34m)\u001b[0m\u001b[0;34m\u001b[0m\u001b[0;34m\u001b[0m\u001b[0m\n\u001b[0;32m----> 4\u001b[0;31m     \u001b[0mwriter\u001b[0m\u001b[0;34m.\u001b[0m\u001b[0mwriterows\u001b[0m\u001b[0;34m(\u001b[0m\u001b[0mbooks\u001b[0m\u001b[0;34m)\u001b[0m\u001b[0;34m\u001b[0m\u001b[0;34m\u001b[0m\u001b[0m\n\u001b[0m",
      "\u001b[0;32m/usr/lib64/python3.7/csv.py\u001b[0m in \u001b[0;36mwriterows\u001b[0;34m(self, rowdicts)\u001b[0m\n\u001b[1;32m    156\u001b[0m \u001b[0;34m\u001b[0m\u001b[0m\n\u001b[1;32m    157\u001b[0m     \u001b[0;32mdef\u001b[0m \u001b[0mwriterows\u001b[0m\u001b[0;34m(\u001b[0m\u001b[0mself\u001b[0m\u001b[0;34m,\u001b[0m \u001b[0mrowdicts\u001b[0m\u001b[0;34m)\u001b[0m\u001b[0;34m:\u001b[0m\u001b[0;34m\u001b[0m\u001b[0;34m\u001b[0m\u001b[0m\n\u001b[0;32m--> 158\u001b[0;31m         \u001b[0;32mreturn\u001b[0m \u001b[0mself\u001b[0m\u001b[0;34m.\u001b[0m\u001b[0mwriter\u001b[0m\u001b[0;34m.\u001b[0m\u001b[0mwriterows\u001b[0m\u001b[0;34m(\u001b[0m\u001b[0mmap\u001b[0m\u001b[0;34m(\u001b[0m\u001b[0mself\u001b[0m\u001b[0;34m.\u001b[0m\u001b[0m_dict_to_list\u001b[0m\u001b[0;34m,\u001b[0m \u001b[0mrowdicts\u001b[0m\u001b[0;34m)\u001b[0m\u001b[0;34m)\u001b[0m\u001b[0;34m\u001b[0m\u001b[0;34m\u001b[0m\u001b[0m\n\u001b[0m\u001b[1;32m    159\u001b[0m \u001b[0;34m\u001b[0m\u001b[0m\n\u001b[1;32m    160\u001b[0m \u001b[0;31m# Guard Sniffer's type checking against builds that exclude complex()\u001b[0m\u001b[0;34m\u001b[0m\u001b[0;34m\u001b[0m\u001b[0;34m\u001b[0m\u001b[0m\n",
      "\u001b[0;31mUnicodeEncodeError\u001b[0m: 'latin-1' codec can't encode character '\\u2019' in position 45: ordinal not in range(256)"
     ]
    }
   ],
   "source": [
    "with open('books.csv', 'w') as csvfile:\n",
    "    writer = csv.DictWriter(csvfile, fieldnames = ['title', 'price'])\n",
    "    writer.writeheader()\n",
    "    writer.writerows(books)"
   ]
  },
  {
   "cell_type": "code",
   "execution_count": null,
   "id": "soviet-immigration",
   "metadata": {},
   "outputs": [],
   "source": []
  }
 ],
 "metadata": {
  "kernelspec": {
   "display_name": "Python 3",
   "language": "python",
   "name": "python3"
  },
  "language_info": {
   "codemirror_mode": {
    "name": "ipython",
    "version": 3
   },
   "file_extension": ".py",
   "mimetype": "text/x-python",
   "name": "python",
   "nbconvert_exporter": "python",
   "pygments_lexer": "ipython3",
   "version": "3.7.2"
  }
 },
 "nbformat": 4,
 "nbformat_minor": 5
}
