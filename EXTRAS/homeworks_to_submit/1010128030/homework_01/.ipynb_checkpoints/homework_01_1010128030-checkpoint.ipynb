{
 "cells": [
  {
   "cell_type": "markdown",
   "id": "e59c4ae8",
   "metadata": {},
   "source": [
    "### My solution to homework_01\n",
    "\n",
    "The first step is to import the book Adventures of Huckleberry Finn, by Mark Twain with the next code"
   ]
  },
  {
   "cell_type": "code",
   "execution_count": 1,
   "id": "e415049e",
   "metadata": {},
   "outputs": [],
   "source": [
    "from urllib.request import urlopen\n",
    "contents = urlopen(\"https://www.gutenberg.org/files/76/76-0.txt\").read().decode('utf-8')"
   ]
  },
  {
   "cell_type": "markdown",
   "id": "2874e8ae",
   "metadata": {},
   "source": [
    "We proceed to replace all the punctuation signs with spaces using the propertie \"translate\""
   ]
  },
  {
   "cell_type": "code",
   "execution_count": 2,
   "id": "0cb3106a",
   "metadata": {},
   "outputs": [],
   "source": [
    "punctuation = '!\"#$%&\\'()*+,--./:”;“<=>?@[\\\\]^_`{|}~'\n",
    "P_contents = contents.translate(str.maketrans(' ',' ',punctuation))"
   ]
  },
  {
   "cell_type": "markdown",
   "id": "0276aca3",
   "metadata": {},
   "source": [
    "Next thing to do is to lowercase all the text"
   ]
  },
  {
   "cell_type": "code",
   "execution_count": 3,
   "id": "70137561",
   "metadata": {},
   "outputs": [],
   "source": [
    "p_contents = P_contents.lower()"
   ]
  },
  {
   "cell_type": "markdown",
   "id": "dbb2ff90",
   "metadata": {},
   "source": [
    "Now, we create a list that has all chapter indicators and use it to create a dictionary that containes the individual chapters, with a proper indicator. "
   ]
  },
  {
   "cell_type": "code",
   "execution_count": 4,
   "id": "62726220",
   "metadata": {},
   "outputs": [],
   "source": [
    "chapters = ['chapter i\\r', 'chapter ii\\r', 'chapter iii\\r','chapter iv\\r','chapter v\\r','chapter vi\\r','chapter vii\\r','chapter viii\\r','chapter ix\\r','chapter x\\r','chapter xi\\r','chapter xii\\r','chapter xiii\\r','chapter xiv\\r','chapter xv\\r','chapter xvi\\r','chapter xvii\\r','chapter xviii\\r','chapter xix\\r','chapter xx\\r','chapter xxi\\r','chapter xxii\\r','chapter xxiii\\r','chapter xxiv\\r','chapter xxv\\r','chapter xxvi\\r','chapter xxvii\\r','chapter xxviii\\r','chapter xxix\\r','chapter xxx\\r','chapter xxxi\\r','chapter xxxii\\r','chapter xxxiii\\r','chapter xxxiv\\r','chapter xxxv\\r','chapter xxxvi\\r','chapter xxxvii\\r','chapter xxxviii\\r','chapter xxxix\\r','chapter xl\\r','chapter xli\\r','chapter xlii\\r','chapter the last\\r', '\\n end' ]"
   ]
  },
  {
   "cell_type": "code",
   "execution_count": 5,
   "id": "7ba9cdac",
   "metadata": {},
   "outputs": [],
   "source": [
    "d = {}\n",
    "\n",
    "for i in range(len(chapters)-1):\n",
    "    d['chapter{0}'.format(i)] = p_contents[p_contents.find(chapters[i])+len(chapters[i]):p_contents.rfind(chapters[i+1])]"
   ]
  },
  {
   "cell_type": "markdown",
   "id": "244c55ec",
   "metadata": {},
   "source": [
    "We modify the dictionary to replace all the line breaks with spaces"
   ]
  },
  {
   "cell_type": "code",
   "execution_count": 6,
   "id": "a9b13982",
   "metadata": {},
   "outputs": [],
   "source": [
    "q = {}\n",
    "\n",
    "for i in range(len(chapters)-1):\n",
    "    q['chapter{0}'.format(i)] = d['chapter{0}'.format(i)].replace('\\r',' ')\n",
    "    q['chapter{0}'.format(i)] = q['chapter{0}'.format(i)].replace('\\n',' ')"
   ]
  },
  {
   "cell_type": "markdown",
   "id": "f7d69b1c",
   "metadata": {},
   "source": [
    "Empty lists are created that then are filled with the appearances of the characters in each chapter, these appearances are obtained by the use of the property count."
   ]
  },
  {
   "cell_type": "code",
   "execution_count": 7,
   "id": "648decc2",
   "metadata": {},
   "outputs": [],
   "source": [
    "jim, tom, huck = [], [], []\n",
    "\n",
    "for i in range(len(chapters)-1):\n",
    "    jim.append(q['chapter{0}'.format(i)].count(' jim '))\n",
    "    tom.append(q['chapter{0}'.format(i)].count(' tom '))\n",
    "    huck.append(q['chapter{0}'.format(i)].count(' huck '))"
   ]
  },
  {
   "cell_type": "markdown",
   "id": "f41c8678",
   "metadata": {},
   "source": [
    "We create a pandas DataFrame with the desired structure "
   ]
  },
  {
   "cell_type": "code",
   "execution_count": 8,
   "id": "ee2ae4b9",
   "metadata": {},
   "outputs": [],
   "source": [
    "import pandas as pd\n",
    "\n",
    "count = pd.DataFrame()\n",
    "\n",
    "count['Jim'] = jim\n",
    "count['Tom'] = tom\n",
    "count['Huck'] = huck\n",
    "\n",
    "count = count.T"
   ]
  },
  {
   "cell_type": "code",
   "execution_count": 9,
   "id": "f1583b13",
   "metadata": {},
   "outputs": [],
   "source": [
    "header = ['chapter i', 'chapter ii', 'chapter iii','chapter iv','chapter v','chapter vi','chapter vii','chapter viii','chapter ix','chapter x','chapter xi','chapter xii','chapter xiii','chapter xiv','chapter xv','chapter xvi','chapter xvii','chapter xviii','chapter xix','chapter xx','chapter xxi','chapter xxii','chapter xxiii','chapter xxiv','chapter xxv','chapter xxvi','chapter xxvii','chapter xxviii','chapter xxix','chapter xxx','chapter xxxi','chapter xxxii','chapter xxxiii','chapter xxxiv','chapter xxxv','chapter xxxvi','chapter xxxvii','chapter xxxviii','chapter xxxix','chapter xl','chapter xli','chapter xlii','chapter the last']\n",
    "count.columns = header"
   ]
  },
  {
   "cell_type": "code",
   "execution_count": 10,
   "id": "732ac6f9",
   "metadata": {},
   "outputs": [
    {
     "data": {
      "text/html": [
       "<div>\n",
       "<style scoped>\n",
       "    .dataframe tbody tr th:only-of-type {\n",
       "        vertical-align: middle;\n",
       "    }\n",
       "\n",
       "    .dataframe tbody tr th {\n",
       "        vertical-align: top;\n",
       "    }\n",
       "\n",
       "    .dataframe thead th {\n",
       "        text-align: right;\n",
       "    }\n",
       "</style>\n",
       "<table border=\"1\" class=\"dataframe\">\n",
       "  <thead>\n",
       "    <tr style=\"text-align: right;\">\n",
       "      <th></th>\n",
       "      <th>chapter i</th>\n",
       "      <th>chapter ii</th>\n",
       "      <th>chapter iii</th>\n",
       "      <th>chapter iv</th>\n",
       "      <th>chapter v</th>\n",
       "      <th>chapter vi</th>\n",
       "      <th>chapter vii</th>\n",
       "      <th>chapter viii</th>\n",
       "      <th>chapter ix</th>\n",
       "      <th>chapter x</th>\n",
       "      <th>...</th>\n",
       "      <th>chapter xxxiv</th>\n",
       "      <th>chapter xxxv</th>\n",
       "      <th>chapter xxxvi</th>\n",
       "      <th>chapter xxxvii</th>\n",
       "      <th>chapter xxxviii</th>\n",
       "      <th>chapter xxxix</th>\n",
       "      <th>chapter xl</th>\n",
       "      <th>chapter xli</th>\n",
       "      <th>chapter xlii</th>\n",
       "      <th>chapter the last</th>\n",
       "    </tr>\n",
       "  </thead>\n",
       "  <tbody>\n",
       "    <tr>\n",
       "      <th>Jim</th>\n",
       "      <td>0</td>\n",
       "      <td>15</td>\n",
       "      <td>0</td>\n",
       "      <td>8</td>\n",
       "      <td>0</td>\n",
       "      <td>0</td>\n",
       "      <td>0</td>\n",
       "      <td>22</td>\n",
       "      <td>11</td>\n",
       "      <td>18</td>\n",
       "      <td>...</td>\n",
       "      <td>14</td>\n",
       "      <td>13</td>\n",
       "      <td>17</td>\n",
       "      <td>3</td>\n",
       "      <td>23</td>\n",
       "      <td>7</td>\n",
       "      <td>11</td>\n",
       "      <td>0</td>\n",
       "      <td>12</td>\n",
       "      <td>6</td>\n",
       "    </tr>\n",
       "    <tr>\n",
       "      <th>Tom</th>\n",
       "      <td>5</td>\n",
       "      <td>23</td>\n",
       "      <td>5</td>\n",
       "      <td>0</td>\n",
       "      <td>0</td>\n",
       "      <td>0</td>\n",
       "      <td>2</td>\n",
       "      <td>2</td>\n",
       "      <td>0</td>\n",
       "      <td>0</td>\n",
       "      <td>...</td>\n",
       "      <td>15</td>\n",
       "      <td>14</td>\n",
       "      <td>18</td>\n",
       "      <td>9</td>\n",
       "      <td>30</td>\n",
       "      <td>11</td>\n",
       "      <td>9</td>\n",
       "      <td>6</td>\n",
       "      <td>26</td>\n",
       "      <td>5</td>\n",
       "    </tr>\n",
       "    <tr>\n",
       "      <th>Huck</th>\n",
       "      <td>0</td>\n",
       "      <td>2</td>\n",
       "      <td>2</td>\n",
       "      <td>0</td>\n",
       "      <td>0</td>\n",
       "      <td>2</td>\n",
       "      <td>0</td>\n",
       "      <td>5</td>\n",
       "      <td>1</td>\n",
       "      <td>0</td>\n",
       "      <td>...</td>\n",
       "      <td>4</td>\n",
       "      <td>8</td>\n",
       "      <td>1</td>\n",
       "      <td>0</td>\n",
       "      <td>2</td>\n",
       "      <td>0</td>\n",
       "      <td>3</td>\n",
       "      <td>0</td>\n",
       "      <td>2</td>\n",
       "      <td>3</td>\n",
       "    </tr>\n",
       "  </tbody>\n",
       "</table>\n",
       "<p>3 rows × 43 columns</p>\n",
       "</div>"
      ],
      "text/plain": [
       "      chapter i  chapter ii  chapter iii  chapter iv  chapter v  chapter vi  \\\n",
       "Jim           0          15            0           8          0           0   \n",
       "Tom           5          23            5           0          0           0   \n",
       "Huck          0           2            2           0          0           2   \n",
       "\n",
       "      chapter vii  chapter viii  chapter ix  chapter x  ...  chapter xxxiv  \\\n",
       "Jim             0            22          11         18  ...             14   \n",
       "Tom             2             2           0          0  ...             15   \n",
       "Huck            0             5           1          0  ...              4   \n",
       "\n",
       "      chapter xxxv  chapter xxxvi  chapter xxxvii  chapter xxxviii  \\\n",
       "Jim             13             17               3               23   \n",
       "Tom             14             18               9               30   \n",
       "Huck             8              1               0                2   \n",
       "\n",
       "      chapter xxxix  chapter xl  chapter xli  chapter xlii  chapter the last  \n",
       "Jim               7          11            0            12                 6  \n",
       "Tom              11           9            6            26                 5  \n",
       "Huck              0           3            0             2                 3  \n",
       "\n",
       "[3 rows x 43 columns]"
      ]
     },
     "metadata": {},
     "output_type": "display_data"
    }
   ],
   "source": [
    "display(count)"
   ]
  },
  {
   "cell_type": "markdown",
   "id": "142e8e3c",
   "metadata": {},
   "source": [
    "We then save the DataFrame to a CSV file, and import that file to a new DataFrame"
   ]
  },
  {
   "cell_type": "code",
   "execution_count": 11,
   "id": "b6a83f0e",
   "metadata": {},
   "outputs": [],
   "source": [
    "count.to_csv('Names.csv')"
   ]
  },
  {
   "cell_type": "code",
   "execution_count": 12,
   "id": "a0bff1d8",
   "metadata": {},
   "outputs": [],
   "source": [
    "df = pd.read_csv('Names.csv',index_col=0)"
   ]
  },
  {
   "cell_type": "code",
   "execution_count": 13,
   "id": "3ff4e03c",
   "metadata": {},
   "outputs": [
    {
     "data": {
      "text/html": [
       "<div>\n",
       "<style scoped>\n",
       "    .dataframe tbody tr th:only-of-type {\n",
       "        vertical-align: middle;\n",
       "    }\n",
       "\n",
       "    .dataframe tbody tr th {\n",
       "        vertical-align: top;\n",
       "    }\n",
       "\n",
       "    .dataframe thead th {\n",
       "        text-align: right;\n",
       "    }\n",
       "</style>\n",
       "<table border=\"1\" class=\"dataframe\">\n",
       "  <thead>\n",
       "    <tr style=\"text-align: right;\">\n",
       "      <th></th>\n",
       "      <th>chapter i</th>\n",
       "      <th>chapter ii</th>\n",
       "      <th>chapter iii</th>\n",
       "      <th>chapter iv</th>\n",
       "      <th>chapter v</th>\n",
       "      <th>chapter vi</th>\n",
       "      <th>chapter vii</th>\n",
       "      <th>chapter viii</th>\n",
       "      <th>chapter ix</th>\n",
       "      <th>chapter x</th>\n",
       "      <th>...</th>\n",
       "      <th>chapter xxxiv</th>\n",
       "      <th>chapter xxxv</th>\n",
       "      <th>chapter xxxvi</th>\n",
       "      <th>chapter xxxvii</th>\n",
       "      <th>chapter xxxviii</th>\n",
       "      <th>chapter xxxix</th>\n",
       "      <th>chapter xl</th>\n",
       "      <th>chapter xli</th>\n",
       "      <th>chapter xlii</th>\n",
       "      <th>chapter the last</th>\n",
       "    </tr>\n",
       "  </thead>\n",
       "  <tbody>\n",
       "    <tr>\n",
       "      <th>Jim</th>\n",
       "      <td>0</td>\n",
       "      <td>15</td>\n",
       "      <td>0</td>\n",
       "      <td>8</td>\n",
       "      <td>0</td>\n",
       "      <td>0</td>\n",
       "      <td>0</td>\n",
       "      <td>22</td>\n",
       "      <td>11</td>\n",
       "      <td>18</td>\n",
       "      <td>...</td>\n",
       "      <td>14</td>\n",
       "      <td>13</td>\n",
       "      <td>17</td>\n",
       "      <td>3</td>\n",
       "      <td>23</td>\n",
       "      <td>7</td>\n",
       "      <td>11</td>\n",
       "      <td>0</td>\n",
       "      <td>12</td>\n",
       "      <td>6</td>\n",
       "    </tr>\n",
       "    <tr>\n",
       "      <th>Tom</th>\n",
       "      <td>5</td>\n",
       "      <td>23</td>\n",
       "      <td>5</td>\n",
       "      <td>0</td>\n",
       "      <td>0</td>\n",
       "      <td>0</td>\n",
       "      <td>2</td>\n",
       "      <td>2</td>\n",
       "      <td>0</td>\n",
       "      <td>0</td>\n",
       "      <td>...</td>\n",
       "      <td>15</td>\n",
       "      <td>14</td>\n",
       "      <td>18</td>\n",
       "      <td>9</td>\n",
       "      <td>30</td>\n",
       "      <td>11</td>\n",
       "      <td>9</td>\n",
       "      <td>6</td>\n",
       "      <td>26</td>\n",
       "      <td>5</td>\n",
       "    </tr>\n",
       "    <tr>\n",
       "      <th>Huck</th>\n",
       "      <td>0</td>\n",
       "      <td>2</td>\n",
       "      <td>2</td>\n",
       "      <td>0</td>\n",
       "      <td>0</td>\n",
       "      <td>2</td>\n",
       "      <td>0</td>\n",
       "      <td>5</td>\n",
       "      <td>1</td>\n",
       "      <td>0</td>\n",
       "      <td>...</td>\n",
       "      <td>4</td>\n",
       "      <td>8</td>\n",
       "      <td>1</td>\n",
       "      <td>0</td>\n",
       "      <td>2</td>\n",
       "      <td>0</td>\n",
       "      <td>3</td>\n",
       "      <td>0</td>\n",
       "      <td>2</td>\n",
       "      <td>3</td>\n",
       "    </tr>\n",
       "  </tbody>\n",
       "</table>\n",
       "<p>3 rows × 43 columns</p>\n",
       "</div>"
      ],
      "text/plain": [
       "      chapter i  chapter ii  chapter iii  chapter iv  chapter v  chapter vi  \\\n",
       "Jim           0          15            0           8          0           0   \n",
       "Tom           5          23            5           0          0           0   \n",
       "Huck          0           2            2           0          0           2   \n",
       "\n",
       "      chapter vii  chapter viii  chapter ix  chapter x  ...  chapter xxxiv  \\\n",
       "Jim             0            22          11         18  ...             14   \n",
       "Tom             2             2           0          0  ...             15   \n",
       "Huck            0             5           1          0  ...              4   \n",
       "\n",
       "      chapter xxxv  chapter xxxvi  chapter xxxvii  chapter xxxviii  \\\n",
       "Jim             13             17               3               23   \n",
       "Tom             14             18               9               30   \n",
       "Huck             8              1               0                2   \n",
       "\n",
       "      chapter xxxix  chapter xl  chapter xli  chapter xlii  chapter the last  \n",
       "Jim               7          11            0            12                 6  \n",
       "Tom              11           9            6            26                 5  \n",
       "Huck              0           3            0             2                 3  \n",
       "\n",
       "[3 rows x 43 columns]"
      ]
     },
     "metadata": {},
     "output_type": "display_data"
    }
   ],
   "source": [
    "display(df)"
   ]
  },
  {
   "cell_type": "markdown",
   "id": "a2bd3710",
   "metadata": {},
   "source": [
    "We extract the appearances to lists, and then obtain the accumulated sum, the way is suggested in the homework"
   ]
  },
  {
   "cell_type": "code",
   "execution_count": 14,
   "id": "c42f462a",
   "metadata": {},
   "outputs": [],
   "source": [
    "Jim2 = df.loc['Jim'].values.tolist()\n",
    "Tom2 = df.loc['Tom'].values.tolist()\n",
    "Huck2 = df.loc['Huck'].values.tolist()\n"
   ]
  },
  {
   "cell_type": "code",
   "execution_count": 15,
   "id": "034c603a",
   "metadata": {},
   "outputs": [],
   "source": [
    "import numpy as np\n",
    "\n",
    "Jim_cumsum=np.cumsum(np.array(Jim2))\n",
    "Tom_cumsum=np.cumsum(np.array(Tom2))\n",
    "Huck_cumsum=np.cumsum(np.array(Huck2))"
   ]
  },
  {
   "cell_type": "markdown",
   "id": "1b0dc0a3",
   "metadata": {},
   "source": [
    "Finally, we show a plot that shows how is the evolution in the appearance of the characters"
   ]
  },
  {
   "cell_type": "code",
   "execution_count": 16,
   "id": "9d45471d",
   "metadata": {},
   "outputs": [
    {
     "data": {
      "image/png": "[encoded data removed]",
      "text/plain": [
       "<Figure size 1080x720 with 1 Axes>"
      ]
     },
     "metadata": {
      "needs_background": "light"
     },
     "output_type": "display_data"
    }
   ],
   "source": [
    "import matplotlib.pyplot as plt\n",
    "\n",
    "plt.figure(figsize=(15, 10))\n",
    "plt.plot(header, Jim_cumsum, '.',label = 'Jim')\n",
    "plt.plot(header, Tom_cumsum, '.',label = 'Tom')\n",
    "plt.plot(header, Huck_cumsum, '.',label = 'Huck')\n",
    "plt.xticks(rotation=80)\n",
    "plt.title('Character appearances')\n",
    "plt.legend()\n",
    "plt.show()"
   ]
  }
 ],
 "metadata": {
  "kernelspec": {
   "display_name": "Python 3",
   "language": "python",
   "name": "python3"
  },
  "language_info": {
   "codemirror_mode": {
    "name": "ipython",
    "version": 3
   },
   "file_extension": ".py",
   "mimetype": "text/x-python",
   "name": "python",
   "nbconvert_exporter": "python",
   "pygments_lexer": "ipython3",
   "version": "3.7.2"
  }
 },
 "nbformat": 4,
 "nbformat_minor": 5
}
