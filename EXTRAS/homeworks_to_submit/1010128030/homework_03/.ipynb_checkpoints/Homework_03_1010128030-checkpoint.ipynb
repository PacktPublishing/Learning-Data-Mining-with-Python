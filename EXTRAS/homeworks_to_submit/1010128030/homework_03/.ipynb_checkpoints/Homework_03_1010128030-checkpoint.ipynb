{
 "cells": [
  {
   "cell_type": "markdown",
   "id": "c915eb60",
   "metadata": {},
   "source": [
    "En primer lugar se importan las librerias necesarias para realizar el trabajo. Tras esto se leen los datasets y se convierten en archivos de pandas"
   ]
  },
  {
   "cell_type": "code",
   "execution_count": 1,
   "id": "dff3bb4f",
   "metadata": {},
   "outputs": [],
   "source": [
    "import pandas as pd\n",
    "import numpy as np\n",
    "import re\n",
    "import seaborn as sns\n",
    "\n",
    "url_1=\"https://raw.githubusercontent.com/mhemmg/datasets/master/car_emission/cars_CO2_emissions_D.csv\"\n",
    "url_2=\"https://raw.githubusercontent.com/mhemmg/datasets/master/car_emission/car_brands_countries.csv\"\n",
    "parameters=pd.read_csv(url_1)\n",
    "countries=pd.read_csv(url_2)"
   ]
  },
  {
   "cell_type": "markdown",
   "id": "3ea69401",
   "metadata": {},
   "source": [
    "## 1.1\n",
    "\n",
    "Dado que el dato importante es el continente, se elimina la columna que habla de el país donde se fabricó el auto."
   ]
  },
  {
   "cell_type": "code",
   "execution_count": 2,
   "id": "a93ef520",
   "metadata": {},
   "outputs": [],
   "source": [
    "countries.drop(columns='Country',inplace=True)"
   ]
  },
  {
   "cell_type": "markdown",
   "id": "3aca1796",
   "metadata": {},
   "source": [
    "Se convierten las columnas de texto a mayusculas, esto para tener mejor control de las filas repetidas"
   ]
  },
  {
   "cell_type": "code",
   "execution_count": 3,
   "id": "ba2534f6",
   "metadata": {},
   "outputs": [],
   "source": [
    "parameters['Make'] = parameters['Make'].str.upper()\n",
    "parameters['Model'] = parameters['Model'].str.upper()\n",
    "parameters['Vehicle Class'] = parameters['Vehicle Class'].str.upper()\n",
    "parameters['Transmission'] = parameters['Transmission'].str.upper()"
   ]
  },
  {
   "cell_type": "markdown",
   "id": "5ae12295",
   "metadata": {},
   "source": [
    "El dataset de los continentes se convierte en un diccionario para, con el uso de un mapeo, incluir una nueva columna al dataset original que hable del continente dependiendo del fabricante"
   ]
  },
  {
   "cell_type": "code",
   "execution_count": 4,
   "id": "62ba60ac",
   "metadata": {},
   "outputs": [],
   "source": [
    "dictionary = countries.set_index('Make').T.to_dict('records')"
   ]
  },
  {
   "cell_type": "code",
   "execution_count": 5,
   "id": "753125a6",
   "metadata": {},
   "outputs": [],
   "source": [
    "parameters['Continent'] = parameters['Make'].map(dictionary[0])"
   ]
  },
  {
   "cell_type": "code",
   "execution_count": 6,
   "id": "3eb94688",
   "metadata": {},
   "outputs": [
    {
     "data": {
      "text/html": [
       "<div>\n",
       "<style scoped>\n",
       "    .dataframe tbody tr th:only-of-type {\n",
       "        vertical-align: middle;\n",
       "    }\n",
       "\n",
       "    .dataframe tbody tr th {\n",
       "        vertical-align: top;\n",
       "    }\n",
       "\n",
       "    .dataframe thead th {\n",
       "        text-align: right;\n",
       "    }\n",
       "</style>\n",
       "<table border=\"1\" class=\"dataframe\">\n",
       "  <thead>\n",
       "    <tr style=\"text-align: right;\">\n",
       "      <th></th>\n",
       "      <th>Make</th>\n",
       "      <th>Model</th>\n",
       "      <th>Vehicle Class</th>\n",
       "      <th>Engine Size(L)</th>\n",
       "      <th>Cylinders</th>\n",
       "      <th>Transmission</th>\n",
       "      <th>Fuel Type</th>\n",
       "      <th>Fuel Consumption City (L/100 km)</th>\n",
       "      <th>Fuel Consumption Hwy (L/100 km)</th>\n",
       "      <th>Fuel Consumption Comb (L/100 km)</th>\n",
       "      <th>Fuel Consumption Comb (mpg)</th>\n",
       "      <th>CO2 Emissions(g/km)</th>\n",
       "      <th>Continent</th>\n",
       "    </tr>\n",
       "  </thead>\n",
       "  <tbody>\n",
       "    <tr>\n",
       "      <th>0</th>\n",
       "      <td>ACURA</td>\n",
       "      <td>ILX</td>\n",
       "      <td>COMPACT</td>\n",
       "      <td>2.0</td>\n",
       "      <td>4.0</td>\n",
       "      <td>AS5</td>\n",
       "      <td>premium gasoline</td>\n",
       "      <td>9.9</td>\n",
       "      <td>6.7</td>\n",
       "      <td>8.5</td>\n",
       "      <td>33.0</td>\n",
       "      <td>196.0</td>\n",
       "      <td>America</td>\n",
       "    </tr>\n",
       "    <tr>\n",
       "      <th>1</th>\n",
       "      <td>ACURA</td>\n",
       "      <td>ILX</td>\n",
       "      <td>COMPACT</td>\n",
       "      <td>2.4</td>\n",
       "      <td>4.0</td>\n",
       "      <td>M6</td>\n",
       "      <td>premium gasoline</td>\n",
       "      <td>11.2</td>\n",
       "      <td>7.7</td>\n",
       "      <td>9.6</td>\n",
       "      <td>29.0</td>\n",
       "      <td>221.0</td>\n",
       "      <td>America</td>\n",
       "    </tr>\n",
       "    <tr>\n",
       "      <th>2</th>\n",
       "      <td>ACURA</td>\n",
       "      <td>ILX HYBRID</td>\n",
       "      <td>COMPACT</td>\n",
       "      <td>1.5</td>\n",
       "      <td>4.0</td>\n",
       "      <td>AV7</td>\n",
       "      <td>premium gasoline</td>\n",
       "      <td>6.0</td>\n",
       "      <td>5.8</td>\n",
       "      <td>5.9</td>\n",
       "      <td>48.0</td>\n",
       "      <td>136.0</td>\n",
       "      <td>America</td>\n",
       "    </tr>\n",
       "    <tr>\n",
       "      <th>3</th>\n",
       "      <td>ACURA</td>\n",
       "      <td>MDX 4WD</td>\n",
       "      <td>SUV - SMALL</td>\n",
       "      <td>3.5</td>\n",
       "      <td>6.0</td>\n",
       "      <td>AS6</td>\n",
       "      <td>premium gasoline</td>\n",
       "      <td>12.7</td>\n",
       "      <td>9.1</td>\n",
       "      <td>11.1</td>\n",
       "      <td>25.0</td>\n",
       "      <td>255.0</td>\n",
       "      <td>America</td>\n",
       "    </tr>\n",
       "    <tr>\n",
       "      <th>4</th>\n",
       "      <td>ACURA</td>\n",
       "      <td>RDX AWD</td>\n",
       "      <td>SUV - SMALL</td>\n",
       "      <td>3.5</td>\n",
       "      <td>6.0</td>\n",
       "      <td>AS6</td>\n",
       "      <td>premium gasoline</td>\n",
       "      <td>12.1</td>\n",
       "      <td>8.7</td>\n",
       "      <td>10.6</td>\n",
       "      <td>27.0</td>\n",
       "      <td>244.0</td>\n",
       "      <td>America</td>\n",
       "    </tr>\n",
       "    <tr>\n",
       "      <th>5</th>\n",
       "      <td>ACURA</td>\n",
       "      <td>RLX</td>\n",
       "      <td>MID-SIZE</td>\n",
       "      <td>3.5</td>\n",
       "      <td>6.0</td>\n",
       "      <td>AS6</td>\n",
       "      <td>premium gasoline</td>\n",
       "      <td>11.9</td>\n",
       "      <td>7.7</td>\n",
       "      <td>10.0</td>\n",
       "      <td>28.0</td>\n",
       "      <td>230.0</td>\n",
       "      <td>America</td>\n",
       "    </tr>\n",
       "    <tr>\n",
       "      <th>6</th>\n",
       "      <td>ACURA</td>\n",
       "      <td>TL</td>\n",
       "      <td>MID-SIZE</td>\n",
       "      <td>3.5</td>\n",
       "      <td>6.0</td>\n",
       "      <td>AS6</td>\n",
       "      <td>premium gasoline</td>\n",
       "      <td>11.8</td>\n",
       "      <td>8.1</td>\n",
       "      <td>10.1</td>\n",
       "      <td>28.0</td>\n",
       "      <td>232.0</td>\n",
       "      <td>America</td>\n",
       "    </tr>\n",
       "    <tr>\n",
       "      <th>7</th>\n",
       "      <td>ACURA</td>\n",
       "      <td>TL AWD</td>\n",
       "      <td>MID-SIZE</td>\n",
       "      <td>3.7</td>\n",
       "      <td>6.0</td>\n",
       "      <td>AS6</td>\n",
       "      <td>premium gasoline</td>\n",
       "      <td>12.8</td>\n",
       "      <td>9.0</td>\n",
       "      <td>11.1</td>\n",
       "      <td>25.0</td>\n",
       "      <td>255.0</td>\n",
       "      <td>America</td>\n",
       "    </tr>\n",
       "    <tr>\n",
       "      <th>8</th>\n",
       "      <td>ACURA</td>\n",
       "      <td>TL AWD</td>\n",
       "      <td>MID-SIZE</td>\n",
       "      <td>3.7</td>\n",
       "      <td>6.0</td>\n",
       "      <td>M6</td>\n",
       "      <td>premium gasoline</td>\n",
       "      <td>13.4</td>\n",
       "      <td>9.5</td>\n",
       "      <td>11.6</td>\n",
       "      <td>24.0</td>\n",
       "      <td>267.0</td>\n",
       "      <td>America</td>\n",
       "    </tr>\n",
       "    <tr>\n",
       "      <th>9</th>\n",
       "      <td>ACURA</td>\n",
       "      <td>TSX</td>\n",
       "      <td>COMPACT</td>\n",
       "      <td>2.4</td>\n",
       "      <td>4.0</td>\n",
       "      <td>AS5</td>\n",
       "      <td>premium gasoline</td>\n",
       "      <td>10.6</td>\n",
       "      <td>7.5</td>\n",
       "      <td>9.2</td>\n",
       "      <td>31.0</td>\n",
       "      <td>212.0</td>\n",
       "      <td>America</td>\n",
       "    </tr>\n",
       "  </tbody>\n",
       "</table>\n",
       "</div>"
      ],
      "text/plain": [
       "    Make       Model Vehicle Class Engine Size(L)  Cylinders Transmission  \\\n",
       "0  ACURA         ILX       COMPACT            2.0        4.0          AS5   \n",
       "1  ACURA         ILX       COMPACT            2.4        4.0           M6   \n",
       "2  ACURA  ILX HYBRID       COMPACT            1.5        4.0          AV7   \n",
       "3  ACURA     MDX 4WD   SUV - SMALL            3.5        6.0          AS6   \n",
       "4  ACURA     RDX AWD   SUV - SMALL            3.5        6.0          AS6   \n",
       "5  ACURA         RLX      MID-SIZE            3.5        6.0          AS6   \n",
       "6  ACURA          TL      MID-SIZE            3.5        6.0          AS6   \n",
       "7  ACURA      TL AWD      MID-SIZE            3.7        6.0          AS6   \n",
       "8  ACURA      TL AWD      MID-SIZE            3.7        6.0           M6   \n",
       "9  ACURA         TSX       COMPACT            2.4        4.0          AS5   \n",
       "\n",
       "          Fuel Type  Fuel Consumption City (L/100 km)  \\\n",
       "0  premium gasoline                               9.9   \n",
       "1  premium gasoline                              11.2   \n",
       "2  premium gasoline                               6.0   \n",
       "3  premium gasoline                              12.7   \n",
       "4  premium gasoline                              12.1   \n",
       "5  premium gasoline                              11.9   \n",
       "6  premium gasoline                              11.8   \n",
       "7  premium gasoline                              12.8   \n",
       "8  premium gasoline                              13.4   \n",
       "9  premium gasoline                              10.6   \n",
       "\n",
       "   Fuel Consumption Hwy (L/100 km)  Fuel Consumption Comb (L/100 km)  \\\n",
       "0                              6.7                               8.5   \n",
       "1                              7.7                               9.6   \n",
       "2                              5.8                               5.9   \n",
       "3                              9.1                              11.1   \n",
       "4                              8.7                              10.6   \n",
       "5                              7.7                              10.0   \n",
       "6                              8.1                              10.1   \n",
       "7                              9.0                              11.1   \n",
       "8                              9.5                              11.6   \n",
       "9                              7.5                               9.2   \n",
       "\n",
       "   Fuel Consumption Comb (mpg)  CO2 Emissions(g/km) Continent  \n",
       "0                         33.0                196.0   America  \n",
       "1                         29.0                221.0   America  \n",
       "2                         48.0                136.0   America  \n",
       "3                         25.0                255.0   America  \n",
       "4                         27.0                244.0   America  \n",
       "5                         28.0                230.0   America  \n",
       "6                         28.0                232.0   America  \n",
       "7                         25.0                255.0   America  \n",
       "8                         24.0                267.0   America  \n",
       "9                         31.0                212.0   America  "
      ]
     },
     "execution_count": 6,
     "metadata": {},
     "output_type": "execute_result"
    }
   ],
   "source": [
    "parameters[:10]"
   ]
  },
  {
   "cell_type": "code",
   "execution_count": 7,
   "id": "2d7a9afb",
   "metadata": {},
   "outputs": [
    {
     "data": {
      "text/html": [
       "<div>\n",
       "<style scoped>\n",
       "    .dataframe tbody tr th:only-of-type {\n",
       "        vertical-align: middle;\n",
       "    }\n",
       "\n",
       "    .dataframe tbody tr th {\n",
       "        vertical-align: top;\n",
       "    }\n",
       "\n",
       "    .dataframe thead th {\n",
       "        text-align: right;\n",
       "    }\n",
       "</style>\n",
       "<table border=\"1\" class=\"dataframe\">\n",
       "  <thead>\n",
       "    <tr style=\"text-align: right;\">\n",
       "      <th></th>\n",
       "      <th>Make</th>\n",
       "      <th>Model</th>\n",
       "      <th>Vehicle Class</th>\n",
       "      <th>Engine Size(L)</th>\n",
       "      <th>Cylinders</th>\n",
       "      <th>Transmission</th>\n",
       "      <th>Fuel Type</th>\n",
       "      <th>Fuel Consumption City (L/100 km)</th>\n",
       "      <th>Fuel Consumption Hwy (L/100 km)</th>\n",
       "      <th>Fuel Consumption Comb (L/100 km)</th>\n",
       "      <th>Fuel Consumption Comb (mpg)</th>\n",
       "      <th>CO2 Emissions(g/km)</th>\n",
       "      <th>Continent</th>\n",
       "    </tr>\n",
       "  </thead>\n",
       "  <tbody>\n",
       "    <tr>\n",
       "      <th>6267</th>\n",
       "      <td>VOLVO</td>\n",
       "      <td>V60 T5</td>\n",
       "      <td>STATION WAGON - SMALL</td>\n",
       "      <td>2.0</td>\n",
       "      <td>4.0</td>\n",
       "      <td>AS8</td>\n",
       "      <td>premium gasoline</td>\n",
       "      <td>10.5</td>\n",
       "      <td>7.1</td>\n",
       "      <td>8.9</td>\n",
       "      <td>32.0</td>\n",
       "      <td>208.0</td>\n",
       "      <td>Europe</td>\n",
       "    </tr>\n",
       "    <tr>\n",
       "      <th>6268</th>\n",
       "      <td>VOLVO</td>\n",
       "      <td>V60 T6 AWD</td>\n",
       "      <td>STATION WAGON - SMALL</td>\n",
       "      <td>2.0</td>\n",
       "      <td>4.0</td>\n",
       "      <td>AS8</td>\n",
       "      <td>premium gasoline</td>\n",
       "      <td>11.0</td>\n",
       "      <td>7.4</td>\n",
       "      <td>9.4</td>\n",
       "      <td>30.0</td>\n",
       "      <td>219.0</td>\n",
       "      <td>Europe</td>\n",
       "    </tr>\n",
       "    <tr>\n",
       "      <th>6269</th>\n",
       "      <td>VOLVO</td>\n",
       "      <td>V60 CC T5 AWD</td>\n",
       "      <td>STATION WAGON - SMALL</td>\n",
       "      <td>2.0</td>\n",
       "      <td>4.0</td>\n",
       "      <td>AS8</td>\n",
       "      <td>premium gasoline</td>\n",
       "      <td>10.8</td>\n",
       "      <td>7.7</td>\n",
       "      <td>9.4</td>\n",
       "      <td>30.0</td>\n",
       "      <td>220.0</td>\n",
       "      <td>Europe</td>\n",
       "    </tr>\n",
       "    <tr>\n",
       "      <th>6270</th>\n",
       "      <td>VOLVO</td>\n",
       "      <td>XC40 T4 AWD</td>\n",
       "      <td>SUV - SMALL</td>\n",
       "      <td>2.0</td>\n",
       "      <td>4.0</td>\n",
       "      <td>AS8</td>\n",
       "      <td>regular gasoline</td>\n",
       "      <td>10.2</td>\n",
       "      <td>7.5</td>\n",
       "      <td>9.0</td>\n",
       "      <td>31.0</td>\n",
       "      <td>210.0</td>\n",
       "      <td>Europe</td>\n",
       "    </tr>\n",
       "    <tr>\n",
       "      <th>6271</th>\n",
       "      <td>VOLVO</td>\n",
       "      <td>XC40 T5 AWD</td>\n",
       "      <td>SUV - SMALL</td>\n",
       "      <td>2.0</td>\n",
       "      <td>4.0</td>\n",
       "      <td>AS8</td>\n",
       "      <td>premium gasoline</td>\n",
       "      <td>10.7</td>\n",
       "      <td>7.7</td>\n",
       "      <td>9.4</td>\n",
       "      <td>30.0</td>\n",
       "      <td>219.0</td>\n",
       "      <td>Europe</td>\n",
       "    </tr>\n",
       "    <tr>\n",
       "      <th>6272</th>\n",
       "      <td>VOLVO</td>\n",
       "      <td>XC60 T5 AWD</td>\n",
       "      <td>SUV - SMALL</td>\n",
       "      <td>2.0</td>\n",
       "      <td>4.0</td>\n",
       "      <td>AS8</td>\n",
       "      <td>premium gasoline</td>\n",
       "      <td>11.2</td>\n",
       "      <td>8.3</td>\n",
       "      <td>9.9</td>\n",
       "      <td>29.0</td>\n",
       "      <td>232.0</td>\n",
       "      <td>Europe</td>\n",
       "    </tr>\n",
       "    <tr>\n",
       "      <th>6273</th>\n",
       "      <td>VOLVO</td>\n",
       "      <td>XC60 T6 AWD</td>\n",
       "      <td>SUV - SMALL</td>\n",
       "      <td>2.0</td>\n",
       "      <td>4.0</td>\n",
       "      <td>AS8</td>\n",
       "      <td>premium gasoline</td>\n",
       "      <td>11.7</td>\n",
       "      <td>8.6</td>\n",
       "      <td>10.3</td>\n",
       "      <td>27.0</td>\n",
       "      <td>240.0</td>\n",
       "      <td>Europe</td>\n",
       "    </tr>\n",
       "    <tr>\n",
       "      <th>6274</th>\n",
       "      <td>VOLVO</td>\n",
       "      <td>XC90 T5 AWD</td>\n",
       "      <td>SUV - STANDARD</td>\n",
       "      <td>2.0</td>\n",
       "      <td>4.0</td>\n",
       "      <td>AS8</td>\n",
       "      <td>premium gasoline</td>\n",
       "      <td>11.2</td>\n",
       "      <td>8.3</td>\n",
       "      <td>9.9</td>\n",
       "      <td>29.0</td>\n",
       "      <td>232.0</td>\n",
       "      <td>Europe</td>\n",
       "    </tr>\n",
       "    <tr>\n",
       "      <th>6275</th>\n",
       "      <td>VOLVO</td>\n",
       "      <td>XC90 T6 AWD</td>\n",
       "      <td>SUV - STANDARD</td>\n",
       "      <td>2.0</td>\n",
       "      <td>4.0</td>\n",
       "      <td>AS8</td>\n",
       "      <td>premium gasoline</td>\n",
       "      <td>12.2</td>\n",
       "      <td>8.7</td>\n",
       "      <td>10.7</td>\n",
       "      <td>26.0</td>\n",
       "      <td>248.0</td>\n",
       "      <td>Europe</td>\n",
       "    </tr>\n",
       "    <tr>\n",
       "      <th>6276</th>\n",
       "      <td>SMART</td>\n",
       "      <td>FORTWO CABRIOLET</td>\n",
       "      <td>TWO-SEATER</td>\n",
       "      <td>0.9</td>\n",
       "      <td>12.0</td>\n",
       "      <td>AM6</td>\n",
       "      <td>premium gasoline</td>\n",
       "      <td>7.5</td>\n",
       "      <td>6.1</td>\n",
       "      <td>6.9</td>\n",
       "      <td>41.0</td>\n",
       "      <td>157.0</td>\n",
       "      <td>Europe</td>\n",
       "    </tr>\n",
       "  </tbody>\n",
       "</table>\n",
       "</div>"
      ],
      "text/plain": [
       "       Make             Model          Vehicle Class Engine Size(L)  \\\n",
       "6267  VOLVO            V60 T5  STATION WAGON - SMALL            2.0   \n",
       "6268  VOLVO        V60 T6 AWD  STATION WAGON - SMALL            2.0   \n",
       "6269  VOLVO     V60 CC T5 AWD  STATION WAGON - SMALL            2.0   \n",
       "6270  VOLVO       XC40 T4 AWD            SUV - SMALL            2.0   \n",
       "6271  VOLVO       XC40 T5 AWD            SUV - SMALL            2.0   \n",
       "6272  VOLVO       XC60 T5 AWD            SUV - SMALL            2.0   \n",
       "6273  VOLVO       XC60 T6 AWD            SUV - SMALL            2.0   \n",
       "6274  VOLVO       XC90 T5 AWD         SUV - STANDARD            2.0   \n",
       "6275  VOLVO       XC90 T6 AWD         SUV - STANDARD            2.0   \n",
       "6276  SMART  FORTWO CABRIOLET             TWO-SEATER            0.9   \n",
       "\n",
       "      Cylinders Transmission         Fuel Type  \\\n",
       "6267        4.0          AS8  premium gasoline   \n",
       "6268        4.0          AS8  premium gasoline   \n",
       "6269        4.0          AS8  premium gasoline   \n",
       "6270        4.0          AS8  regular gasoline   \n",
       "6271        4.0          AS8  premium gasoline   \n",
       "6272        4.0          AS8  premium gasoline   \n",
       "6273        4.0          AS8  premium gasoline   \n",
       "6274        4.0          AS8  premium gasoline   \n",
       "6275        4.0          AS8  premium gasoline   \n",
       "6276       12.0          AM6  premium gasoline   \n",
       "\n",
       "      Fuel Consumption City (L/100 km)  Fuel Consumption Hwy (L/100 km)  \\\n",
       "6267                              10.5                              7.1   \n",
       "6268                              11.0                              7.4   \n",
       "6269                              10.8                              7.7   \n",
       "6270                              10.2                              7.5   \n",
       "6271                              10.7                              7.7   \n",
       "6272                              11.2                              8.3   \n",
       "6273                              11.7                              8.6   \n",
       "6274                              11.2                              8.3   \n",
       "6275                              12.2                              8.7   \n",
       "6276                               7.5                              6.1   \n",
       "\n",
       "      Fuel Consumption Comb (L/100 km)  Fuel Consumption Comb (mpg)  \\\n",
       "6267                               8.9                         32.0   \n",
       "6268                               9.4                         30.0   \n",
       "6269                               9.4                         30.0   \n",
       "6270                               9.0                         31.0   \n",
       "6271                               9.4                         30.0   \n",
       "6272                               9.9                         29.0   \n",
       "6273                              10.3                         27.0   \n",
       "6274                               9.9                         29.0   \n",
       "6275                              10.7                         26.0   \n",
       "6276                               6.9                         41.0   \n",
       "\n",
       "      CO2 Emissions(g/km) Continent  \n",
       "6267                208.0    Europe  \n",
       "6268                219.0    Europe  \n",
       "6269                220.0    Europe  \n",
       "6270                210.0    Europe  \n",
       "6271                219.0    Europe  \n",
       "6272                232.0    Europe  \n",
       "6273                240.0    Europe  \n",
       "6274                232.0    Europe  \n",
       "6275                248.0    Europe  \n",
       "6276                157.0    Europe  "
      ]
     },
     "execution_count": 7,
     "metadata": {},
     "output_type": "execute_result"
    }
   ],
   "source": [
    "parameters[-10:]"
   ]
  },
  {
   "cell_type": "markdown",
   "id": "401d5b44",
   "metadata": {},
   "source": [
    "Se usa el método \"columns\" para tener presentes los nombres de las columnas del conjunto de datos"
   ]
  },
  {
   "cell_type": "code",
   "execution_count": 8,
   "id": "faaf6bb0",
   "metadata": {},
   "outputs": [
    {
     "data": {
      "text/plain": [
       "Index(['Make', 'Model', 'Vehicle Class', 'Engine Size(L)', 'Cylinders',\n",
       "       'Transmission', 'Fuel Type', 'Fuel Consumption City (L/100 km)',\n",
       "       'Fuel Consumption Hwy (L/100 km)', 'Fuel Consumption Comb (L/100 km)',\n",
       "       'Fuel Consumption Comb (mpg)', 'CO2 Emissions(g/km)', 'Continent'],\n",
       "      dtype='object')"
      ]
     },
     "execution_count": 8,
     "metadata": {},
     "output_type": "execute_result"
    }
   ],
   "source": [
    "parameters.columns"
   ]
  },
  {
   "cell_type": "markdown",
   "id": "8993c21a",
   "metadata": {},
   "source": [
    "Se usa el método \"shape\" para conocer el número de filas y columnas en el dataset, el formato es (filas, columnas)"
   ]
  },
  {
   "cell_type": "code",
   "execution_count": 9,
   "id": "08214ad6",
   "metadata": {},
   "outputs": [
    {
     "data": {
      "text/plain": [
       "(6277, 13)"
      ]
     },
     "execution_count": 9,
     "metadata": {},
     "output_type": "execute_result"
    }
   ],
   "source": [
    "parameters.shape"
   ]
  },
  {
   "cell_type": "markdown",
   "id": "ab94a71d",
   "metadata": {},
   "source": [
    "Se reemplazan todos los valores de columna que contengan \"?\" o valores vacíos con valores NaN de numpy."
   ]
  },
  {
   "cell_type": "code",
   "execution_count": 10,
   "id": "0cb0497d",
   "metadata": {},
   "outputs": [],
   "source": [
    "parameters = parameters.replace('?',np.nan)\n",
    "parameters = parameters.replace(r'^\\s*$',np.nan,regex=True)"
   ]
  },
  {
   "cell_type": "markdown",
   "id": "02674caf",
   "metadata": {},
   "source": [
    "Con la ayuda de pandas se muestran cuantos valores NaN hay en cada columna, para posteriormente eliminar estas columnas del conjunto de datos"
   ]
  },
  {
   "cell_type": "code",
   "execution_count": 11,
   "id": "6d19e03d",
   "metadata": {},
   "outputs": [
    {
     "data": {
      "text/plain": [
       "Make                                0\n",
       "Model                               0\n",
       "Vehicle Class                       0\n",
       "Engine Size(L)                      1\n",
       "Cylinders                           0\n",
       "Transmission                        2\n",
       "Fuel Type                           0\n",
       "Fuel Consumption City (L/100 km)    1\n",
       "Fuel Consumption Hwy (L/100 km)     2\n",
       "Fuel Consumption Comb (L/100 km)    0\n",
       "Fuel Consumption Comb (mpg)         0\n",
       "CO2 Emissions(g/km)                 0\n",
       "Continent                           0\n",
       "dtype: int64"
      ]
     },
     "execution_count": 11,
     "metadata": {},
     "output_type": "execute_result"
    }
   ],
   "source": [
    "parameters.isnull().sum()"
   ]
  },
  {
   "cell_type": "code",
   "execution_count": 12,
   "id": "39824da3",
   "metadata": {},
   "outputs": [],
   "source": [
    "parameters = parameters.dropna()"
   ]
  },
  {
   "cell_type": "markdown",
   "id": "fc032365",
   "metadata": {},
   "source": [
    "Se hace lo mismo con las filas repetidas"
   ]
  },
  {
   "cell_type": "code",
   "execution_count": 13,
   "id": "6aadf666",
   "metadata": {},
   "outputs": [
    {
     "data": {
      "text/plain": [
       "291"
      ]
     },
     "execution_count": 13,
     "metadata": {},
     "output_type": "execute_result"
    }
   ],
   "source": [
    "parameters.duplicated().sum()"
   ]
  },
  {
   "cell_type": "code",
   "execution_count": 14,
   "id": "05c3afa8",
   "metadata": {},
   "outputs": [],
   "source": [
    "parameters = parameters.drop_duplicates()"
   ]
  },
  {
   "cell_type": "markdown",
   "id": "41cd3f43",
   "metadata": {},
   "source": [
    "## 1.2"
   ]
  },
  {
   "cell_type": "markdown",
   "id": "6175282f",
   "metadata": {},
   "source": [
    "En primer lugar se quiere conocer qué tipos de gasolina hay en el conjunto de datos, para luego realizar un mapeo y cambiar los nombres exactos por los deseados en el ejercicio"
   ]
  },
  {
   "cell_type": "code",
   "execution_count": 15,
   "id": "933fc923",
   "metadata": {
    "scrolled": true
   },
   "outputs": [
    {
     "data": {
      "text/plain": [
       "regular gasoline    2875\n",
       "premium gasoline    2633\n",
       "ethanol              325\n",
       "diesel               146\n",
       "natural gas            1\n",
       "Name: Fuel Type, dtype: int64"
      ]
     },
     "execution_count": 15,
     "metadata": {},
     "output_type": "execute_result"
    }
   ],
   "source": [
    "parameters['Fuel Type'].value_counts()"
   ]
  },
  {
   "cell_type": "code",
   "execution_count": 16,
   "id": "167af011",
   "metadata": {},
   "outputs": [],
   "source": [
    "dict_map = {'regular gasoline': 'X', 'premium gasoline': 'Z', 'diesel' : 'D', 'ethanol' : 'E', 'natural gas' : 'N'}\n",
    "parameters['Fuel Type'] = parameters['Fuel Type'].map(dict_map)"
   ]
  },
  {
   "cell_type": "markdown",
   "id": "9bef1706",
   "metadata": {},
   "source": [
    "Con la ayuda de RegEx se crea una nueva lista que, por cada valor encontrado en la columna \"Transmission\" crea un nuevo indicador si es transimisión automática (A) o manual (M)"
   ]
  },
  {
   "cell_type": "code",
   "execution_count": 17,
   "id": "0ed1ebce",
   "metadata": {},
   "outputs": [],
   "source": [
    "x = []\n",
    "for i in parameters['Transmission']:\n",
    "    if re.findall(r\"A\\w+\", i):\n",
    "        x.append('A')\n",
    "    else:\n",
    "        x.append('M')"
   ]
  },
  {
   "cell_type": "markdown",
   "id": "0a757152",
   "metadata": {},
   "source": [
    "Se añade la lista al dataset original como una nueva columna, y con un mapeo se crea otra columna con indicadores binarios para transmisión automática (1) o manual (0)"
   ]
  },
  {
   "cell_type": "code",
   "execution_count": 18,
   "id": "8c943ad5",
   "metadata": {},
   "outputs": [],
   "source": [
    "parameters['Automatic / Manual'] = x"
   ]
  },
  {
   "cell_type": "code",
   "execution_count": 19,
   "id": "03a0a3b5",
   "metadata": {},
   "outputs": [],
   "source": [
    "parameters['A / M digital'] = parameters['Automatic / Manual'].map({'A': 1, 'M': 0})"
   ]
  },
  {
   "cell_type": "markdown",
   "id": "52177e30",
   "metadata": {},
   "source": [
    "## 1.3"
   ]
  },
  {
   "cell_type": "markdown",
   "id": "aae6aa4f",
   "metadata": {},
   "source": [
    "Se utiliza la función len() para contar la cantidad de marcas de automoviles que hay en el conjunto de datos, luego se muestran las 10 más populares y las 10 menos, con el total de carros por cada uno."
   ]
  },
  {
   "cell_type": "code",
   "execution_count": 20,
   "id": "01de6531",
   "metadata": {},
   "outputs": [
    {
     "data": {
      "text/plain": [
       "42"
      ]
     },
     "execution_count": 20,
     "metadata": {},
     "output_type": "execute_result"
    }
   ],
   "source": [
    "len(parameters['Make'].unique())"
   ]
  },
  {
   "cell_type": "code",
   "execution_count": 21,
   "id": "8330b558",
   "metadata": {},
   "outputs": [
    {
     "data": {
      "text/plain": [
       "FORD             563\n",
       "CHEVROLET        503\n",
       "BMW              488\n",
       "MERCEDES-BENZ    362\n",
       "GMC              278\n",
       "AUDI             261\n",
       "PORSCHE          257\n",
       "TOYOTA           252\n",
       "NISSAN           192\n",
       "JEEP             188\n",
       "Name: Make, dtype: int64"
      ]
     },
     "execution_count": 21,
     "metadata": {},
     "output_type": "execute_result"
    }
   ],
   "source": [
    "parameters['Make'].value_counts()[:10]"
   ]
  },
  {
   "cell_type": "code",
   "execution_count": 22,
   "id": "71d2aed3",
   "metadata": {},
   "outputs": [
    {
     "data": {
      "text/plain": [
       "ROLLS-ROYCE     44\n",
       "ASTON MARTIN    39\n",
       "LAMBORGHINI     37\n",
       "BENTLEY         35\n",
       "SCION           21\n",
       "GENESIS         14\n",
       "ALFA ROMEO      13\n",
       "SMART            8\n",
       "SRT              2\n",
       "BUGATTI          1\n",
       "Name: Make, dtype: int64"
      ]
     },
     "execution_count": 22,
     "metadata": {},
     "output_type": "execute_result"
    }
   ],
   "source": [
    "parameters['Make'].value_counts()[-10:]"
   ]
  },
  {
   "cell_type": "markdown",
   "id": "f45c4004",
   "metadata": {},
   "source": [
    "con el método loc se muestran la fila con menor emisión de CO2 y la fila con mayor"
   ]
  },
  {
   "cell_type": "code",
   "execution_count": 23,
   "id": "7a1cac76",
   "metadata": {},
   "outputs": [
    {
     "data": {
      "text/html": [
       "<div>\n",
       "<style scoped>\n",
       "    .dataframe tbody tr th:only-of-type {\n",
       "        vertical-align: middle;\n",
       "    }\n",
       "\n",
       "    .dataframe tbody tr th {\n",
       "        vertical-align: top;\n",
       "    }\n",
       "\n",
       "    .dataframe thead th {\n",
       "        text-align: right;\n",
       "    }\n",
       "</style>\n",
       "<table border=\"1\" class=\"dataframe\">\n",
       "  <thead>\n",
       "    <tr style=\"text-align: right;\">\n",
       "      <th></th>\n",
       "      <th>Make</th>\n",
       "      <th>Model</th>\n",
       "      <th>Vehicle Class</th>\n",
       "      <th>Engine Size(L)</th>\n",
       "      <th>Cylinders</th>\n",
       "      <th>Transmission</th>\n",
       "      <th>Fuel Type</th>\n",
       "      <th>Fuel Consumption City (L/100 km)</th>\n",
       "      <th>Fuel Consumption Hwy (L/100 km)</th>\n",
       "      <th>Fuel Consumption Comb (L/100 km)</th>\n",
       "      <th>Fuel Consumption Comb (mpg)</th>\n",
       "      <th>CO2 Emissions(g/km)</th>\n",
       "      <th>Continent</th>\n",
       "      <th>Automatic / Manual</th>\n",
       "      <th>A / M digital</th>\n",
       "    </tr>\n",
       "  </thead>\n",
       "  <tbody>\n",
       "    <tr>\n",
       "      <th>3578</th>\n",
       "      <td>HYUNDAI</td>\n",
       "      <td>IONIQ BLUE</td>\n",
       "      <td>FULL-SIZE</td>\n",
       "      <td>1.6</td>\n",
       "      <td>4.0</td>\n",
       "      <td>AM6</td>\n",
       "      <td>X</td>\n",
       "      <td>4.2</td>\n",
       "      <td>4.0</td>\n",
       "      <td>4.1</td>\n",
       "      <td>69.0</td>\n",
       "      <td>96.0</td>\n",
       "      <td>Asia</td>\n",
       "      <td>A</td>\n",
       "      <td>1</td>\n",
       "    </tr>\n",
       "  </tbody>\n",
       "</table>\n",
       "</div>"
      ],
      "text/plain": [
       "         Make       Model Vehicle Class Engine Size(L)  Cylinders  \\\n",
       "3578  HYUNDAI  IONIQ BLUE     FULL-SIZE            1.6        4.0   \n",
       "\n",
       "     Transmission Fuel Type  Fuel Consumption City (L/100 km)  \\\n",
       "3578          AM6         X                               4.2   \n",
       "\n",
       "      Fuel Consumption Hwy (L/100 km)  Fuel Consumption Comb (L/100 km)  \\\n",
       "3578                              4.0                               4.1   \n",
       "\n",
       "      Fuel Consumption Comb (mpg)  CO2 Emissions(g/km) Continent  \\\n",
       "3578                         69.0                 96.0      Asia   \n",
       "\n",
       "     Automatic / Manual  A / M digital  \n",
       "3578                  A              1  "
      ]
     },
     "execution_count": 23,
     "metadata": {},
     "output_type": "execute_result"
    }
   ],
   "source": [
    "parameters.loc[parameters['CO2 Emissions(g/km)'] == parameters['CO2 Emissions(g/km)'].min()]"
   ]
  },
  {
   "cell_type": "code",
   "execution_count": 24,
   "id": "a24abfa3",
   "metadata": {},
   "outputs": [
    {
     "data": {
      "text/html": [
       "<div>\n",
       "<style scoped>\n",
       "    .dataframe tbody tr th:only-of-type {\n",
       "        vertical-align: middle;\n",
       "    }\n",
       "\n",
       "    .dataframe tbody tr th {\n",
       "        vertical-align: top;\n",
       "    }\n",
       "\n",
       "    .dataframe thead th {\n",
       "        text-align: right;\n",
       "    }\n",
       "</style>\n",
       "<table border=\"1\" class=\"dataframe\">\n",
       "  <thead>\n",
       "    <tr style=\"text-align: right;\">\n",
       "      <th></th>\n",
       "      <th>Make</th>\n",
       "      <th>Model</th>\n",
       "      <th>Vehicle Class</th>\n",
       "      <th>Engine Size(L)</th>\n",
       "      <th>Cylinders</th>\n",
       "      <th>Transmission</th>\n",
       "      <th>Fuel Type</th>\n",
       "      <th>Fuel Consumption City (L/100 km)</th>\n",
       "      <th>Fuel Consumption Hwy (L/100 km)</th>\n",
       "      <th>Fuel Consumption Comb (L/100 km)</th>\n",
       "      <th>Fuel Consumption Comb (mpg)</th>\n",
       "      <th>CO2 Emissions(g/km)</th>\n",
       "      <th>Continent</th>\n",
       "      <th>Automatic / Manual</th>\n",
       "      <th>A / M digital</th>\n",
       "    </tr>\n",
       "  </thead>\n",
       "  <tbody>\n",
       "    <tr>\n",
       "      <th>4193</th>\n",
       "      <td>BUGATTI</td>\n",
       "      <td>CHIRON</td>\n",
       "      <td>TWO-SEATER</td>\n",
       "      <td>8.0</td>\n",
       "      <td>16.0</td>\n",
       "      <td>AM7</td>\n",
       "      <td>Z</td>\n",
       "      <td>26.8</td>\n",
       "      <td>16.6</td>\n",
       "      <td>22.2</td>\n",
       "      <td>13.0</td>\n",
       "      <td>522.0</td>\n",
       "      <td>Europe</td>\n",
       "      <td>A</td>\n",
       "      <td>1</td>\n",
       "    </tr>\n",
       "  </tbody>\n",
       "</table>\n",
       "</div>"
      ],
      "text/plain": [
       "         Make   Model Vehicle Class Engine Size(L)  Cylinders Transmission  \\\n",
       "4193  BUGATTI  CHIRON    TWO-SEATER            8.0       16.0          AM7   \n",
       "\n",
       "     Fuel Type  Fuel Consumption City (L/100 km)  \\\n",
       "4193         Z                              26.8   \n",
       "\n",
       "      Fuel Consumption Hwy (L/100 km)  Fuel Consumption Comb (L/100 km)  \\\n",
       "4193                             16.6                              22.2   \n",
       "\n",
       "      Fuel Consumption Comb (mpg)  CO2 Emissions(g/km) Continent  \\\n",
       "4193                         13.0                522.0    Europe   \n",
       "\n",
       "     Automatic / Manual  A / M digital  \n",
       "4193                  A              1  "
      ]
     },
     "execution_count": 24,
     "metadata": {},
     "output_type": "execute_result"
    }
   ],
   "source": [
    "parameters.loc[parameters['CO2 Emissions(g/km)'] == parameters['CO2 Emissions(g/km)'].max()]"
   ]
  },
  {
   "cell_type": "markdown",
   "id": "b3a533d6",
   "metadata": {},
   "source": [
    "Utilizando una combinación del método groupby y el metodo mean, se muestran la emisión media de C02 por marca y continente."
   ]
  },
  {
   "cell_type": "code",
   "execution_count": 25,
   "id": "ff35c738",
   "metadata": {},
   "outputs": [
    {
     "data": {
      "text/plain": [
       "Make\n",
       "ACURA            222.020833\n",
       "ALFA ROMEO       236.384615\n",
       "ASTON MARTIN     344.282051\n",
       "AUDI             252.318008\n",
       "BENTLEY          367.914286\n",
       "BMW              252.709016\n",
       "BUGATTI          522.000000\n",
       "BUICK            233.747253\n",
       "CADILLAC         266.366906\n",
       "CHEVROLET        264.669980\n",
       "CHRYSLER         243.725806\n",
       "DODGE            275.562914\n",
       "FIAT             192.518519\n",
       "FORD             261.591474\n",
       "GENESIS          282.571429\n",
       "GMC              301.910072\n",
       "HONDA            190.923611\n",
       "HYUNDAI          210.549708\n",
       "INFINITI         253.953488\n",
       "JAGUAR           273.138614\n",
       "JEEP             249.627660\n",
       "KIA              215.445055\n",
       "LAMBORGHINI      402.270270\n",
       "LAND ROVER       290.301370\n",
       "LEXUS            242.124031\n",
       "LINCOLN          266.974359\n",
       "MASERATI         319.612245\n",
       "MAZDA            192.680000\n",
       "MERCEDES-BENZ    278.729282\n",
       "MINI             196.165775\n",
       "MITSUBISHI       199.704225\n",
       "NISSAN           237.104167\n",
       "PORSCHE          261.482490\n",
       "RAM              295.056338\n",
       "ROLLS-ROYCE      388.204545\n",
       "SCION            200.809524\n",
       "SMART            152.125000\n",
       "SRT              389.000000\n",
       "SUBARU           218.544643\n",
       "TOYOTA           223.035714\n",
       "VOLKSWAGEN       209.933333\n",
       "VOLVO            229.949153\n",
       "Name: CO2 Emissions(g/km), dtype: float64"
      ]
     },
     "execution_count": 25,
     "metadata": {},
     "output_type": "execute_result"
    }
   ],
   "source": [
    "parameters.groupby(['Make']).mean()['CO2 Emissions(g/km)']"
   ]
  },
  {
   "cell_type": "code",
   "execution_count": 26,
   "id": "36a25dc4",
   "metadata": {},
   "outputs": [
    {
     "data": {
      "text/plain": [
       "Continent\n",
       "America    266.177221\n",
       "Asia       216.318084\n",
       "Europe     258.690941\n",
       "Name: CO2 Emissions(g/km), dtype: float64"
      ]
     },
     "execution_count": 26,
     "metadata": {},
     "output_type": "execute_result"
    }
   ],
   "source": [
    "parameters.groupby(['Continent']).mean()['CO2 Emissions(g/km)']"
   ]
  },
  {
   "cell_type": "markdown",
   "id": "f9e4c772",
   "metadata": {},
   "source": [
    "## 1.4\n",
    "\n",
    "Se realizan las gráficas solicitadas, en cada bloque de código se explica cuál se imprime"
   ]
  },
  {
   "cell_type": "code",
   "execution_count": 27,
   "id": "1af0fd39",
   "metadata": {},
   "outputs": [
    {
     "data": {
      "text/plain": [
       "<AxesSubplot:xlabel='Continent', ylabel='CO2 Emissions(g/km)'>"
      ]
     },
     "execution_count": 27,
     "metadata": {},
     "output_type": "execute_result"
    },
    {
     "data": {
      "image/png": "[encoded data removed]",
      "text/plain": [
       "<Figure size 1080x720 with 1 Axes>"
      ]
     },
     "metadata": {},
     "output_type": "display_data"
    }
   ],
   "source": [
    "sns.set(rc={'figure.figsize':(15,10)})\n",
    "\n",
    "#Emisión de los carros por continentes\n",
    "sns.boxplot(x=\"Continent\", y=\"CO2 Emissions(g/km)\", data=parameters)"
   ]
  },
  {
   "cell_type": "code",
   "execution_count": 28,
   "id": "333fc399",
   "metadata": {},
   "outputs": [
    {
     "data": {
      "text/plain": [
       "<AxesSubplot:xlabel='Automatic / Manual', ylabel='CO2 Emissions(g/km)'>"
      ]
     },
     "execution_count": 28,
     "metadata": {},
     "output_type": "execute_result"
    },
    {
     "data": {
      "image/png": "[encoded data removed]",
      "text/plain": [
       "<Figure size 1080x720 with 1 Axes>"
      ]
     },
     "metadata": {},
     "output_type": "display_data"
    }
   ],
   "source": [
    "#Emisión de los carros por transmisión\n",
    "sns.boxplot(x=\"Automatic / Manual\", y=\"CO2 Emissions(g/km)\", data=parameters)"
   ]
  },
  {
   "cell_type": "code",
   "execution_count": 29,
   "id": "700e8491",
   "metadata": {},
   "outputs": [
    {
     "data": {
      "text/plain": [
       "<AxesSubplot:xlabel='Fuel Type', ylabel='CO2 Emissions(g/km)'>"
      ]
     },
     "execution_count": 29,
     "metadata": {},
     "output_type": "execute_result"
    },
    {
     "data": {
      "image/png": "[encoded data removed]",
      "text/plain": [
       "<Figure size 1080x720 with 1 Axes>"
      ]
     },
     "metadata": {},
     "output_type": "display_data"
    }
   ],
   "source": [
    "#Emisión de los carros por tipo de combustible\n",
    "sns.boxplot(x=\"Fuel Type\", y=\"CO2 Emissions(g/km)\", data=parameters)"
   ]
  },
  {
   "cell_type": "code",
   "execution_count": 30,
   "id": "eb4187e7",
   "metadata": {},
   "outputs": [
    {
     "data": {
      "text/plain": [
       "<AxesSubplot:xlabel='Automatic / Manual', ylabel='count'>"
      ]
     },
     "execution_count": 30,
     "metadata": {},
     "output_type": "execute_result"
    },
    {
     "data": {
      "image/png": "[encoded data removed]",
      "text/plain": [
       "<Figure size 1080x720 with 1 Axes>"
      ]
     },
     "metadata": {},
     "output_type": "display_data"
    }
   ],
   "source": [
    "#Conteo de automóviles con transmisión manual y automática\n",
    "sns.countplot(x=\"Automatic / Manual\", data=parameters)"
   ]
  },
  {
   "cell_type": "code",
   "execution_count": 31,
   "id": "1c686abf",
   "metadata": {},
   "outputs": [
    {
     "data": {
      "text/plain": [
       "<AxesSubplot:xlabel='CO2 Emissions(g/km)', ylabel='Make'>"
      ]
     },
     "execution_count": 31,
     "metadata": {},
     "output_type": "execute_result"
    },
    {
     "data": {
      "image/png": "[encoded data removed]",
      "text/plain": [
       "<Figure size 1080x720 with 1 Axes>"
      ]
     },
     "metadata": {},
     "output_type": "display_data"
    }
   ],
   "source": [
    "#Emisión promedio de CO2 por marca de automóvil\n",
    "#Se utiliza la el mismo método que se utilizó para encontrar la emisión media de C02 por marca \n",
    "#y el método sort_value para darle orden\n",
    "sns.barplot(y=\"Make\", x=\"CO2 Emissions(g/km)\", data=parameters, order=parameters.groupby(['Make']).mean().sort_values('CO2 Emissions(g/km)').index)"
   ]
  },
  {
   "cell_type": "markdown",
   "id": "b7d173d0",
   "metadata": {},
   "source": [
    "Finalmente se crea un nuevo dataframe basado en el original, donde los automoviles están organizados de forma descendente por su emisión de CO2, este nuevo dataframe se guarda en un archivo CSV"
   ]
  },
  {
   "cell_type": "code",
   "execution_count": 32,
   "id": "abb10061",
   "metadata": {},
   "outputs": [],
   "source": [
    "df = parameters.sort_values(by = 'CO2 Emissions(g/km)', ascending = False, kind = 'mergesort').reset_index()\n",
    "\n",
    "df.drop(columns='index', inplace=True)"
   ]
  },
  {
   "cell_type": "code",
   "execution_count": 33,
   "id": "77587987",
   "metadata": {},
   "outputs": [],
   "source": [
    "df.to_csv('out.csv',index=False)"
   ]
  },
  {
   "cell_type": "markdown",
   "id": "b0319ee5",
   "metadata": {},
   "source": [
    "## 2.1\n",
    "\n",
    "En primer lugar se llama el dataset y se convierte a formato de pandas"
   ]
  },
  {
   "cell_type": "code",
   "execution_count": 34,
   "id": "5fc7bb8d",
   "metadata": {},
   "outputs": [],
   "source": [
    "url_3='https://raw.githubusercontent.com/mhemmg/datasets/master/sport/athlete_events.csv'\n",
    "olimpics=pd.read_csv(url_3)"
   ]
  },
  {
   "cell_type": "markdown",
   "id": "a99b458a",
   "metadata": {},
   "source": [
    "Se eliminan las columans con valores NaN y se observa el dataset para saber cómo proceder"
   ]
  },
  {
   "cell_type": "code",
   "execution_count": 35,
   "id": "6dde6882",
   "metadata": {},
   "outputs": [],
   "source": [
    "olimpics = olimpics.dropna()"
   ]
  },
  {
   "cell_type": "code",
   "execution_count": 36,
   "id": "26c98e3e",
   "metadata": {},
   "outputs": [
    {
     "data": {
      "text/html": [
       "<div>\n",
       "<style scoped>\n",
       "    .dataframe tbody tr th:only-of-type {\n",
       "        vertical-align: middle;\n",
       "    }\n",
       "\n",
       "    .dataframe tbody tr th {\n",
       "        vertical-align: top;\n",
       "    }\n",
       "\n",
       "    .dataframe thead th {\n",
       "        text-align: right;\n",
       "    }\n",
       "</style>\n",
       "<table border=\"1\" class=\"dataframe\">\n",
       "  <thead>\n",
       "    <tr style=\"text-align: right;\">\n",
       "      <th></th>\n",
       "      <th>ID</th>\n",
       "      <th>Name</th>\n",
       "      <th>Sex</th>\n",
       "      <th>Age</th>\n",
       "      <th>Height</th>\n",
       "      <th>Weight</th>\n",
       "      <th>Team</th>\n",
       "      <th>NOC</th>\n",
       "      <th>Games</th>\n",
       "      <th>Year</th>\n",
       "      <th>Season</th>\n",
       "      <th>City</th>\n",
       "      <th>Sport</th>\n",
       "      <th>Event</th>\n",
       "      <th>Medal</th>\n",
       "    </tr>\n",
       "  </thead>\n",
       "  <tbody>\n",
       "    <tr>\n",
       "      <th>40</th>\n",
       "      <td>16</td>\n",
       "      <td>Juhamatti Tapio Aaltonen</td>\n",
       "      <td>M</td>\n",
       "      <td>28.0</td>\n",
       "      <td>184.0</td>\n",
       "      <td>85.0</td>\n",
       "      <td>Finland</td>\n",
       "      <td>FIN</td>\n",
       "      <td>2014 Winter</td>\n",
       "      <td>2014</td>\n",
       "      <td>Winter</td>\n",
       "      <td>Sochi</td>\n",
       "      <td>Ice Hockey</td>\n",
       "      <td>Ice Hockey Men's Ice Hockey</td>\n",
       "      <td>Bronze</td>\n",
       "    </tr>\n",
       "    <tr>\n",
       "      <th>41</th>\n",
       "      <td>17</td>\n",
       "      <td>Paavo Johannes Aaltonen</td>\n",
       "      <td>M</td>\n",
       "      <td>28.0</td>\n",
       "      <td>175.0</td>\n",
       "      <td>64.0</td>\n",
       "      <td>Finland</td>\n",
       "      <td>FIN</td>\n",
       "      <td>1948 Summer</td>\n",
       "      <td>1948</td>\n",
       "      <td>Summer</td>\n",
       "      <td>London</td>\n",
       "      <td>Gymnastics</td>\n",
       "      <td>Gymnastics Men's Individual All-Around</td>\n",
       "      <td>Bronze</td>\n",
       "    </tr>\n",
       "    <tr>\n",
       "      <th>42</th>\n",
       "      <td>17</td>\n",
       "      <td>Paavo Johannes Aaltonen</td>\n",
       "      <td>M</td>\n",
       "      <td>28.0</td>\n",
       "      <td>175.0</td>\n",
       "      <td>64.0</td>\n",
       "      <td>Finland</td>\n",
       "      <td>FIN</td>\n",
       "      <td>1948 Summer</td>\n",
       "      <td>1948</td>\n",
       "      <td>Summer</td>\n",
       "      <td>London</td>\n",
       "      <td>Gymnastics</td>\n",
       "      <td>Gymnastics Men's Team All-Around</td>\n",
       "      <td>Gold</td>\n",
       "    </tr>\n",
       "    <tr>\n",
       "      <th>44</th>\n",
       "      <td>17</td>\n",
       "      <td>Paavo Johannes Aaltonen</td>\n",
       "      <td>M</td>\n",
       "      <td>28.0</td>\n",
       "      <td>175.0</td>\n",
       "      <td>64.0</td>\n",
       "      <td>Finland</td>\n",
       "      <td>FIN</td>\n",
       "      <td>1948 Summer</td>\n",
       "      <td>1948</td>\n",
       "      <td>Summer</td>\n",
       "      <td>London</td>\n",
       "      <td>Gymnastics</td>\n",
       "      <td>Gymnastics Men's Horse Vault</td>\n",
       "      <td>Gold</td>\n",
       "    </tr>\n",
       "    <tr>\n",
       "      <th>48</th>\n",
       "      <td>17</td>\n",
       "      <td>Paavo Johannes Aaltonen</td>\n",
       "      <td>M</td>\n",
       "      <td>28.0</td>\n",
       "      <td>175.0</td>\n",
       "      <td>64.0</td>\n",
       "      <td>Finland</td>\n",
       "      <td>FIN</td>\n",
       "      <td>1948 Summer</td>\n",
       "      <td>1948</td>\n",
       "      <td>Summer</td>\n",
       "      <td>London</td>\n",
       "      <td>Gymnastics</td>\n",
       "      <td>Gymnastics Men's Pommelled Horse</td>\n",
       "      <td>Gold</td>\n",
       "    </tr>\n",
       "    <tr>\n",
       "      <th>...</th>\n",
       "      <td>...</td>\n",
       "      <td>...</td>\n",
       "      <td>...</td>\n",
       "      <td>...</td>\n",
       "      <td>...</td>\n",
       "      <td>...</td>\n",
       "      <td>...</td>\n",
       "      <td>...</td>\n",
       "      <td>...</td>\n",
       "      <td>...</td>\n",
       "      <td>...</td>\n",
       "      <td>...</td>\n",
       "      <td>...</td>\n",
       "      <td>...</td>\n",
       "      <td>...</td>\n",
       "    </tr>\n",
       "    <tr>\n",
       "      <th>271078</th>\n",
       "      <td>135553</td>\n",
       "      <td>Galina Ivanovna Zybina (-Fyodorova)</td>\n",
       "      <td>F</td>\n",
       "      <td>25.0</td>\n",
       "      <td>168.0</td>\n",
       "      <td>80.0</td>\n",
       "      <td>Soviet Union</td>\n",
       "      <td>URS</td>\n",
       "      <td>1956 Summer</td>\n",
       "      <td>1956</td>\n",
       "      <td>Summer</td>\n",
       "      <td>Melbourne</td>\n",
       "      <td>Athletics</td>\n",
       "      <td>Athletics Women's Shot Put</td>\n",
       "      <td>Silver</td>\n",
       "    </tr>\n",
       "    <tr>\n",
       "      <th>271080</th>\n",
       "      <td>135553</td>\n",
       "      <td>Galina Ivanovna Zybina (-Fyodorova)</td>\n",
       "      <td>F</td>\n",
       "      <td>33.0</td>\n",
       "      <td>168.0</td>\n",
       "      <td>80.0</td>\n",
       "      <td>Soviet Union</td>\n",
       "      <td>URS</td>\n",
       "      <td>1964 Summer</td>\n",
       "      <td>1964</td>\n",
       "      <td>Summer</td>\n",
       "      <td>Tokyo</td>\n",
       "      <td>Athletics</td>\n",
       "      <td>Athletics Women's Shot Put</td>\n",
       "      <td>Bronze</td>\n",
       "    </tr>\n",
       "    <tr>\n",
       "      <th>271082</th>\n",
       "      <td>135554</td>\n",
       "      <td>Bogusaw Zych</td>\n",
       "      <td>M</td>\n",
       "      <td>28.0</td>\n",
       "      <td>182.0</td>\n",
       "      <td>82.0</td>\n",
       "      <td>Poland</td>\n",
       "      <td>POL</td>\n",
       "      <td>1980 Summer</td>\n",
       "      <td>1980</td>\n",
       "      <td>Summer</td>\n",
       "      <td>Moskva</td>\n",
       "      <td>Fencing</td>\n",
       "      <td>Fencing Men's Foil, Team</td>\n",
       "      <td>Bronze</td>\n",
       "    </tr>\n",
       "    <tr>\n",
       "      <th>271102</th>\n",
       "      <td>135563</td>\n",
       "      <td>Olesya Nikolayevna Zykina</td>\n",
       "      <td>F</td>\n",
       "      <td>19.0</td>\n",
       "      <td>171.0</td>\n",
       "      <td>64.0</td>\n",
       "      <td>Russia</td>\n",
       "      <td>RUS</td>\n",
       "      <td>2000 Summer</td>\n",
       "      <td>2000</td>\n",
       "      <td>Summer</td>\n",
       "      <td>Sydney</td>\n",
       "      <td>Athletics</td>\n",
       "      <td>Athletics Women's 4 x 400 metres Relay</td>\n",
       "      <td>Bronze</td>\n",
       "    </tr>\n",
       "    <tr>\n",
       "      <th>271103</th>\n",
       "      <td>135563</td>\n",
       "      <td>Olesya Nikolayevna Zykina</td>\n",
       "      <td>F</td>\n",
       "      <td>23.0</td>\n",
       "      <td>171.0</td>\n",
       "      <td>64.0</td>\n",
       "      <td>Russia</td>\n",
       "      <td>RUS</td>\n",
       "      <td>2004 Summer</td>\n",
       "      <td>2004</td>\n",
       "      <td>Summer</td>\n",
       "      <td>Athina</td>\n",
       "      <td>Athletics</td>\n",
       "      <td>Athletics Women's 4 x 400 metres Relay</td>\n",
       "      <td>Silver</td>\n",
       "    </tr>\n",
       "  </tbody>\n",
       "</table>\n",
       "<p>30181 rows × 15 columns</p>\n",
       "</div>"
      ],
      "text/plain": [
       "            ID                                 Name Sex   Age  Height  Weight  \\\n",
       "40          16             Juhamatti Tapio Aaltonen   M  28.0   184.0    85.0   \n",
       "41          17              Paavo Johannes Aaltonen   M  28.0   175.0    64.0   \n",
       "42          17              Paavo Johannes Aaltonen   M  28.0   175.0    64.0   \n",
       "44          17              Paavo Johannes Aaltonen   M  28.0   175.0    64.0   \n",
       "48          17              Paavo Johannes Aaltonen   M  28.0   175.0    64.0   \n",
       "...        ...                                  ...  ..   ...     ...     ...   \n",
       "271078  135553  Galina Ivanovna Zybina (-Fyodorova)   F  25.0   168.0    80.0   \n",
       "271080  135553  Galina Ivanovna Zybina (-Fyodorova)   F  33.0   168.0    80.0   \n",
       "271082  135554                         Bogusaw Zych   M  28.0   182.0    82.0   \n",
       "271102  135563            Olesya Nikolayevna Zykina   F  19.0   171.0    64.0   \n",
       "271103  135563            Olesya Nikolayevna Zykina   F  23.0   171.0    64.0   \n",
       "\n",
       "                Team  NOC        Games  Year  Season       City       Sport  \\\n",
       "40           Finland  FIN  2014 Winter  2014  Winter      Sochi  Ice Hockey   \n",
       "41           Finland  FIN  1948 Summer  1948  Summer     London  Gymnastics   \n",
       "42           Finland  FIN  1948 Summer  1948  Summer     London  Gymnastics   \n",
       "44           Finland  FIN  1948 Summer  1948  Summer     London  Gymnastics   \n",
       "48           Finland  FIN  1948 Summer  1948  Summer     London  Gymnastics   \n",
       "...              ...  ...          ...   ...     ...        ...         ...   \n",
       "271078  Soviet Union  URS  1956 Summer  1956  Summer  Melbourne   Athletics   \n",
       "271080  Soviet Union  URS  1964 Summer  1964  Summer      Tokyo   Athletics   \n",
       "271082        Poland  POL  1980 Summer  1980  Summer     Moskva     Fencing   \n",
       "271102        Russia  RUS  2000 Summer  2000  Summer     Sydney   Athletics   \n",
       "271103        Russia  RUS  2004 Summer  2004  Summer     Athina   Athletics   \n",
       "\n",
       "                                         Event   Medal  \n",
       "40                 Ice Hockey Men's Ice Hockey  Bronze  \n",
       "41      Gymnastics Men's Individual All-Around  Bronze  \n",
       "42            Gymnastics Men's Team All-Around    Gold  \n",
       "44                Gymnastics Men's Horse Vault    Gold  \n",
       "48            Gymnastics Men's Pommelled Horse    Gold  \n",
       "...                                        ...     ...  \n",
       "271078              Athletics Women's Shot Put  Silver  \n",
       "271080              Athletics Women's Shot Put  Bronze  \n",
       "271082                Fencing Men's Foil, Team  Bronze  \n",
       "271102  Athletics Women's 4 x 400 metres Relay  Bronze  \n",
       "271103  Athletics Women's 4 x 400 metres Relay  Silver  \n",
       "\n",
       "[30181 rows x 15 columns]"
      ]
     },
     "execution_count": 36,
     "metadata": {},
     "output_type": "execute_result"
    }
   ],
   "source": [
    "olimpics"
   ]
  },
  {
   "cell_type": "markdown",
   "id": "fd6dcaab",
   "metadata": {},
   "source": [
    "usando el método loc, se crea un nuevo dataset, para finalmente quedar solo con las medallistas de oro femeninas en remo"
   ]
  },
  {
   "cell_type": "code",
   "execution_count": 37,
   "id": "96b724f8",
   "metadata": {},
   "outputs": [],
   "source": [
    "row = olimpics.loc[olimpics['Medal'] == 'Gold']"
   ]
  },
  {
   "cell_type": "code",
   "execution_count": 38,
   "id": "81ba5fd5",
   "metadata": {},
   "outputs": [],
   "source": [
    "row = row.loc[row['Sex'] == 'F']"
   ]
  },
  {
   "cell_type": "code",
   "execution_count": 39,
   "id": "39e94624",
   "metadata": {},
   "outputs": [],
   "source": [
    "row = row.loc[row['Sport'] == 'Rowing']"
   ]
  },
  {
   "cell_type": "markdown",
   "id": "1ef49212",
   "metadata": {},
   "source": [
    "Se organiza el dataset por año y se realiza un regplot de seaborn donde se observa claramente la tendencia ascendente de la edad de las deportistas"
   ]
  },
  {
   "cell_type": "code",
   "execution_count": 40,
   "id": "fbfffdcd",
   "metadata": {},
   "outputs": [],
   "source": [
    "row = row.sort_values(by = 'Year', ascending = True, kind = 'mergesort')"
   ]
  },
  {
   "cell_type": "code",
   "execution_count": 41,
   "id": "cef784b1",
   "metadata": {},
   "outputs": [
    {
     "data": {
      "text/plain": [
       "<AxesSubplot:xlabel='Year', ylabel='Age'>"
      ]
     },
     "execution_count": 41,
     "metadata": {},
     "output_type": "execute_result"
    },
    {
     "data": {
      "image/png": "[encoded data removed]",
      "text/plain": [
       "<Figure size 1080x720 with 1 Axes>"
      ]
     },
     "metadata": {},
     "output_type": "display_data"
    }
   ],
   "source": [
    "sns.regplot(data=row, x=\"Year\", y=\"Age\", marker=\"+\",x_jitter=.1)\n"
   ]
  },
  {
   "cell_type": "markdown",
   "id": "f3aec680",
   "metadata": {},
   "source": [
    "## 2.2\n",
    "\n",
    "Se desean saber los dies paises con más y menos medallas en la historia por tipologia (oro, plata o bronce)\n",
    "\n",
    "Primero para el oro, se ve que el país con más medallas es Estados Unidos, y entre los que menos se encuentran Puerto Ricom Ecuador y Egipto"
   ]
  },
  {
   "cell_type": "code",
   "execution_count": 42,
   "id": "5b19e9c4",
   "metadata": {},
   "outputs": [],
   "source": [
    "gold = olimpics.loc[olimpics['Medal'] == 'Gold'].groupby(['Team']).count()['Medal'].sort_values()"
   ]
  },
  {
   "cell_type": "code",
   "execution_count": 43,
   "id": "de89c865",
   "metadata": {},
   "outputs": [
    {
     "data": {
      "text/plain": [
       "Team\n",
       "Satchmo                                    1\n",
       "Slaghoken II                               1\n",
       "Singapore                                  1\n",
       "Jordan                                     1\n",
       "Ecuador                                    1\n",
       "Egypt                                      1\n",
       "Elvis Va                                   1\n",
       "England-1                                  1\n",
       "Puerto Rico                                1\n",
       "Philadelphia Turngemeinde, Philadelphia    1\n",
       "Name: Medal, dtype: int64"
      ]
     },
     "execution_count": 43,
     "metadata": {},
     "output_type": "execute_result"
    }
   ],
   "source": [
    "gold[:10]"
   ]
  },
  {
   "cell_type": "code",
   "execution_count": 44,
   "id": "e3cdfe68",
   "metadata": {},
   "outputs": [
    {
     "data": {
      "text/plain": [
       "Team\n",
       "Italy             302\n",
       "China             308\n",
       "Australia         313\n",
       "Great Britain     321\n",
       "Canada            350\n",
       "Russia            356\n",
       "East Germany      368\n",
       "Germany           508\n",
       "Soviet Union      961\n",
       "United States    2075\n",
       "Name: Medal, dtype: int64"
      ]
     },
     "execution_count": 44,
     "metadata": {},
     "output_type": "execute_result"
    }
   ],
   "source": [
    "gold[-10:]"
   ]
  },
  {
   "cell_type": "markdown",
   "id": "15051b52",
   "metadata": {},
   "source": [
    "Ahora, para la plata, se puede ver que el equipo con más medallas es Estados Unidos, y entre los que menos tienen se encuentran Ghana, Sudan y Costa Rica"
   ]
  },
  {
   "cell_type": "code",
   "execution_count": 45,
   "id": "484a28c7",
   "metadata": {},
   "outputs": [],
   "source": [
    "silver = olimpics.loc[olimpics['Medal'] == 'Silver'].groupby(['Team']).count()['Medal'].sort_values()"
   ]
  },
  {
   "cell_type": "code",
   "execution_count": 46,
   "id": "7f6ef07b",
   "metadata": {},
   "outputs": [
    {
     "data": {
      "text/plain": [
       "Team\n",
       "Djinn            1\n",
       "Falcon IV        1\n",
       "Sunrise          1\n",
       "Sudan            1\n",
       "Sri Lanka        1\n",
       "Costa Rica       1\n",
       "Cote d'Ivoire    1\n",
       "Cyprus           1\n",
       "Ghana            1\n",
       "Nadine           1\n",
       "Name: Medal, dtype: int64"
      ]
     },
     "execution_count": 46,
     "metadata": {},
     "output_type": "execute_result"
    }
   ],
   "source": [
    "silver[:10]"
   ]
  },
  {
   "cell_type": "code",
   "execution_count": 47,
   "id": "c04436ed",
   "metadata": {},
   "outputs": [
    {
     "data": {
      "text/plain": [
       "Team\n",
       "France            320\n",
       "China             323\n",
       "Canada            336\n",
       "Italy             340\n",
       "Great Britain     343\n",
       "Russia            343\n",
       "Australia         412\n",
       "Germany           470\n",
       "Soviet Union      629\n",
       "United States    1260\n",
       "Name: Medal, dtype: int64"
      ]
     },
     "execution_count": 47,
     "metadata": {},
     "output_type": "execute_result"
    }
   ],
   "source": [
    "silver[-10:]"
   ]
  },
  {
   "cell_type": "markdown",
   "id": "9e4a6a5f",
   "metadata": {},
   "source": [
    "Finalmente, para el bronce, se ve que el equipo con más medallas es Estados Unidos y entre los que menos se encuentran Guyana, Hong Kong y Macedonia."
   ]
  },
  {
   "cell_type": "code",
   "execution_count": 48,
   "id": "7320bba6",
   "metadata": {},
   "outputs": [],
   "source": [
    "bronze = olimpics.loc[olimpics['Medal'] == 'Bronze'].groupby(['Team']).count()['Medal'].sort_values()"
   ]
  },
  {
   "cell_type": "code",
   "execution_count": 49,
   "id": "e211b303",
   "metadata": {},
   "outputs": [
    {
     "data": {
      "text/plain": [
       "Team\n",
       "Zimbabwe              1\n",
       "Digby                 1\n",
       "Macedonia             1\n",
       "Buraddoo              1\n",
       "Cameroon              1\n",
       "Libellule de Paris    1\n",
       "Lebanon               1\n",
       "Mozambique            1\n",
       "Hong Kong             1\n",
       "Guyana                1\n",
       "Name: Medal, dtype: int64"
      ]
     },
     "execution_count": 49,
     "metadata": {},
     "output_type": "execute_result"
    }
   ],
   "source": [
    "bronze[:10]"
   ]
  },
  {
   "cell_type": "code",
   "execution_count": 50,
   "id": "13d9b77f",
   "metadata": {},
   "outputs": [
    {
     "data": {
      "text/plain": [
       "Team\n",
       "Canada           338\n",
       "Japan            345\n",
       "Great Britain    346\n",
       "France           366\n",
       "Italy            366\n",
       "Russia           392\n",
       "Australia        471\n",
       "Germany          540\n",
       "Soviet Union     613\n",
       "United States    938\n",
       "Name: Medal, dtype: int64"
      ]
     },
     "execution_count": 50,
     "metadata": {},
     "output_type": "execute_result"
    }
   ],
   "source": [
    "bronze[-10:]"
   ]
  }
 ],
 "metadata": {
  "kernelspec": {
   "display_name": "Python 3",
   "language": "python",
   "name": "python3"
  },
  "language_info": {
   "codemirror_mode": {
    "name": "ipython",
    "version": 3
   },
   "file_extension": ".py",
   "mimetype": "text/x-python",
   "name": "python",
   "nbconvert_exporter": "python",
   "pygments_lexer": "ipython3",
   "version": "3.7.2"
  }
 },
 "nbformat": 4,
 "nbformat_minor": 5
}
