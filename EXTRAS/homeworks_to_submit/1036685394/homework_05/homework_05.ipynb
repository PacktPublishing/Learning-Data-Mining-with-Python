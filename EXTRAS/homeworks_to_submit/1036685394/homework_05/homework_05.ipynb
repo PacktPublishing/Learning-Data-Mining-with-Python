{
 "cells": [
  {
   "cell_type": "code",
   "execution_count": 2,
   "id": "abbda650",
   "metadata": {},
   "outputs": [],
   "source": [
    "import json\n",
    "import requests\n",
    "import numpy as np\n",
    "import pandas as pd"
   ]
  },
  {
   "cell_type": "markdown",
   "id": "f128c410",
   "metadata": {},
   "source": [
    "#### Random country choice"
   ]
  },
  {
   "cell_type": "code",
   "execution_count": 189,
   "id": "1b29766a",
   "metadata": {
    "scrolled": true
   },
   "outputs": [
    {
     "data": {
      "text/plain": [
       "'Finland'"
      ]
     },
     "execution_count": 189,
     "metadata": {},
     "output_type": "execute_result"
    }
   ],
   "source": [
    "data = open('data.json')\n",
    "countries_list = json.load(data)\n",
    "country_chosen = 'Finland' #np.random.choice(countries_list)['Name']\n",
    "country_chosen"
   ]
  },
  {
   "cell_type": "markdown",
   "id": "30c0122d",
   "metadata": {},
   "source": [
    "#### List of institutions in the country"
   ]
  },
  {
   "cell_type": "code",
   "execution_count": 190,
   "id": "432594cf",
   "metadata": {},
   "outputs": [
    {
     "data": {
      "text/plain": [
       "['Helsinki, Academy of Finland',\n",
       " 'UEF, Kuopio',\n",
       " 'Unlisted, FI',\n",
       " 'VALMET Automation, Tampere',\n",
       " 'Nevanlinna Inst., Helsinki',\n",
       " 'IVO Intl., Helsinki',\n",
       " 'VTT Electronics, Espoo',\n",
       " 'Espoo, Tech. Research Ctr.',\n",
       " 'Picker Nordstar, Helsinki',\n",
       " 'Amateur Astron. Assoc., Seulaset']"
      ]
     },
     "execution_count": 190,
     "metadata": {},
     "output_type": "execute_result"
    }
   ],
   "source": [
    "URL = \"https://inspirehep.net/api/institutions?q={}\".format(country_chosen)\n",
    "institution_link = requests.get(URL)\n",
    "\n",
    "legacy_ICN = []\n",
    "for institution in institution_link.json().get('hits').get('hits'):\n",
    "    legacy = institution.get('metadata').get('legacy_ICN')\n",
    "    number_of_papers =institution.get('metadata').get('number_of_papers')\n",
    "\n",
    "    if number_of_papers>0:\n",
    "        legacy_ICN.append(legacy)\n",
    "\n",
    "legacy_ICN"
   ]
  },
  {
   "cell_type": "markdown",
   "id": "f4e91785",
   "metadata": {},
   "source": [
    "#### Getting articles with less than 10 authors for first institution found"
   ]
  },
  {
   "cell_type": "code",
   "execution_count": 191,
   "id": "673f1a9c",
   "metadata": {},
   "outputs": [
    {
     "data": {
      "text/plain": [
       "10"
      ]
     },
     "execution_count": 191,
     "metadata": {},
     "output_type": "execute_result"
    }
   ],
   "source": [
    "literature_link =\"https://inspirehep.net/api/literature?sort=mostrecent&page=1&q=aff+{}+and+ac+1->+10\".format(legacy_ICN[0].replace(' ','+'))\n",
    "literature_link = requests.get(literature_link)\n",
    "\n",
    "articles = [article.get('metadata') for article in literature_link.json().get('hits').get('hits')]\n",
    "len(articles)"
   ]
  },
  {
   "cell_type": "markdown",
   "id": "f0a5d1ad",
   "metadata": {},
   "source": [
    "#### Getting  authors profile from  first article found"
   ]
  },
  {
   "cell_type": "code",
   "execution_count": 192,
   "id": "8aa171c3",
   "metadata": {},
   "outputs": [
    {
     "data": {
      "text/plain": [
       "'Bayesian inference of the fluctuating proton shape in DIS and hadronic collisions'"
      ]
     },
     "execution_count": 192,
     "metadata": {},
     "output_type": "execute_result"
    }
   ],
   "source": [
    "articles[0].get('titles')[0]['title'] #name of the article"
   ]
  },
  {
   "cell_type": "code",
   "execution_count": 193,
   "id": "31bda90b",
   "metadata": {},
   "outputs": [
    {
     "data": {
      "text/plain": [
       "['https://inspirehep.net/api/authors/1074574',\n",
       " 'https://inspirehep.net/api/authors/1027900',\n",
       " 'https://inspirehep.net/api/authors/1279546',\n",
       " 'https://inspirehep.net/api/authors/1616462']"
      ]
     },
     "execution_count": 193,
     "metadata": {},
     "output_type": "execute_result"
    }
   ],
   "source": [
    "#extracting authors for first article\n",
    "authors_profile = [author.get('record').get('$ref') for author in articles[0].get('authors')]\n",
    "authors_profile"
   ]
  },
  {
   "cell_type": "code",
   "execution_count": 196,
   "id": "6aafe14a",
   "metadata": {},
   "outputs": [],
   "source": [
    "def get_info(URL):\n",
    "    info = requests.get(URL).json().get('metadata')\n",
    "\n",
    "    name = info.get('name').get('value')\n",
    "\n",
    "    email = info.get('email_addresses')[0].get('value') #first valid email adress\n",
    "\n",
    "    last_position = info.get('positions')[0].get('rank') #last position\n",
    "\n",
    "    intitution = info.get('positions')[0].get('institution') #institution where they  had their last position\n",
    "\n",
    "    start = info.get('positions')[0].get('start_date')\n",
    "\n",
    "    end = info.get('positions')[0].get('end_date')\n",
    "    \n",
    "    return(name , email, last_position,intitution,start,end)"
   ]
  },
  {
   "cell_type": "code",
   "execution_count": 197,
   "id": "a2ff2d5e",
   "metadata": {},
   "outputs": [],
   "source": [
    "_name = []\n",
    "_email= []\n",
    "_last_position= []\n",
    "_intitution= []\n",
    "_start= []\n",
    "_end= []\n",
    "for author in authors_profile:\n",
    "    name, email, last_position,intitution,start,end = get_info(author)\n",
    "    _name.append(name )\n",
    "    _email.append(email)\n",
    "    _last_position.append(last_position)\n",
    "    _intitution.append(intitution)\n",
    "    _start.append(start)\n",
    "    _end.append(end)"
   ]
  },
  {
   "cell_type": "code",
   "execution_count": 204,
   "id": "f4d6c560",
   "metadata": {},
   "outputs": [],
   "source": [
    "info = {'name ': _name ,\n",
    "        'email': _email,\n",
    "        'last_position': _last_position,\n",
    "        'intitution': _intitution,\n",
    "        'start': _start,\n",
    "        'end': _end}\n"
   ]
  },
  {
   "cell_type": "code",
   "execution_count": 205,
   "id": "5adee141",
   "metadata": {},
   "outputs": [
    {
     "data": {
      "text/html": [
       "<div>\n",
       "<style scoped>\n",
       "    .dataframe tbody tr th:only-of-type {\n",
       "        vertical-align: middle;\n",
       "    }\n",
       "\n",
       "    .dataframe tbody tr th {\n",
       "        vertical-align: top;\n",
       "    }\n",
       "\n",
       "    .dataframe thead th {\n",
       "        text-align: right;\n",
       "    }\n",
       "</style>\n",
       "<table border=\"1\" class=\"dataframe\">\n",
       "  <thead>\n",
       "    <tr style=\"text-align: right;\">\n",
       "      <th></th>\n",
       "      <th>name</th>\n",
       "      <th>email</th>\n",
       "      <th>last_position</th>\n",
       "      <th>intitution</th>\n",
       "      <th>start</th>\n",
       "      <th>end</th>\n",
       "    </tr>\n",
       "  </thead>\n",
       "  <tbody>\n",
       "    <tr>\n",
       "      <th>0</th>\n",
       "      <td>Mäntysaari, Heikki</td>\n",
       "      <td>heikki.mantysaari@jyu.fi</td>\n",
       "      <td>JUNIOR</td>\n",
       "      <td>Jyvaskyla U.</td>\n",
       "      <td>2021</td>\n",
       "      <td>None</td>\n",
       "    </tr>\n",
       "    <tr>\n",
       "      <th>1</th>\n",
       "      <td>Schenke, Björn Peter</td>\n",
       "      <td>bschenke@bnl.gov</td>\n",
       "      <td>SENIOR</td>\n",
       "      <td>Brookhaven</td>\n",
       "      <td>2017</td>\n",
       "      <td>None</td>\n",
       "    </tr>\n",
       "    <tr>\n",
       "      <th>2</th>\n",
       "      <td>Shen, Chun</td>\n",
       "      <td>chunshen@wayne.edu</td>\n",
       "      <td>JUNIOR</td>\n",
       "      <td>Wayne State U.</td>\n",
       "      <td>2018</td>\n",
       "      <td>None</td>\n",
       "    </tr>\n",
       "    <tr>\n",
       "      <th>3</th>\n",
       "      <td>Zhao, Wenbin</td>\n",
       "      <td>1501110084@pku.edu.cn</td>\n",
       "      <td>None</td>\n",
       "      <td>Hua-Zhong Normal U.</td>\n",
       "      <td>2020</td>\n",
       "      <td>2021</td>\n",
       "    </tr>\n",
       "  </tbody>\n",
       "</table>\n",
       "</div>"
      ],
      "text/plain": [
       "                  name                      email last_position  \\\n",
       "0    Mäntysaari, Heikki  heikki.mantysaari@jyu.fi        JUNIOR   \n",
       "1  Schenke, Björn Peter          bschenke@bnl.gov        SENIOR   \n",
       "2            Shen, Chun        chunshen@wayne.edu        JUNIOR   \n",
       "3          Zhao, Wenbin     1501110084@pku.edu.cn          None   \n",
       "\n",
       "            intitution start   end  \n",
       "0         Jyvaskyla U.  2021  None  \n",
       "1           Brookhaven  2017  None  \n",
       "2       Wayne State U.  2018  None  \n",
       "3  Hua-Zhong Normal U.  2020  2021  "
      ]
     },
     "execution_count": 205,
     "metadata": {},
     "output_type": "execute_result"
    }
   ],
   "source": [
    "pd.DataFrame(info)"
   ]
  },
  {
   "cell_type": "code",
   "execution_count": null,
   "id": "26ae61e8",
   "metadata": {},
   "outputs": [],
   "source": []
  }
 ],
 "metadata": {
  "kernelspec": {
   "display_name": "Python 3 (ipykernel)",
   "language": "python",
   "name": "python3"
  },
  "language_info": {
   "codemirror_mode": {
    "name": "ipython",
    "version": 3
   },
   "file_extension": ".py",
   "mimetype": "text/x-python",
   "name": "python",
   "nbconvert_exporter": "python",
   "pygments_lexer": "ipython3",
   "version": "3.10.6"
  }
 },
 "nbformat": 4,
 "nbformat_minor": 5
}
