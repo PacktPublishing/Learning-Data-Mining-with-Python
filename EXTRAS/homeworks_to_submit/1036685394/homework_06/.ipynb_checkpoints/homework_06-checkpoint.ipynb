{
 "cells": [
  {
   "cell_type": "code",
   "execution_count": 1,
   "id": "956d387d",
   "metadata": {
    "colab": {
     "base_uri": "https://localhost:8080/"
    },
    "id": "956d387d",
    "outputId": "38744da6-1b85-4031-e2c7-b416cfe11f4a"
   },
   "outputs": [
    {
     "name": "stdout",
     "output_type": "stream",
     "text": [
      "Looking in indexes: https://pypi.org/simple, https://us-python.pkg.dev/colab-wheels/public/simple/\n",
      "Requirement already satisfied: tqdm in /usr/local/lib/python3.7/dist-packages (4.64.1)\n"
     ]
    }
   ],
   "source": [
    "import pandas as pd\n",
    "import re\n",
    "import seaborn as sns\n",
    "!pip install tqdm\n",
    "from tqdm import tqdm"
   ]
  },
  {
   "cell_type": "markdown",
   "id": "1_ZeKWJUYkwu",
   "metadata": {
    "id": "1_ZeKWJUYkwu"
   },
   "source": [
    "# Prepearing the data"
   ]
  },
  {
   "cell_type": "code",
   "execution_count": 2,
   "id": "f300e4fa",
   "metadata": {
    "id": "f300e4fa"
   },
   "outputs": [],
   "source": [
    "URL = \"https://raw.githubusercontent.com/mhemmg/datasets/master/nlp/airline_tweets.csv\"\n",
    "\n",
    "tweets = pd.read_csv(URL)\n",
    "tweets_sentiment = tweets[['airline_sentiment','text']].copy()"
   ]
  },
  {
   "cell_type": "code",
   "execution_count": 3,
   "id": "482b3aa7",
   "metadata": {
    "id": "482b3aa7"
   },
   "outputs": [],
   "source": [
    "features = tweets['text'].values\n",
    "labels = tweets['airline_sentiment'].values"
   ]
  },
  {
   "cell_type": "code",
   "execution_count": 4,
   "id": "65061565",
   "metadata": {
    "id": "65061565"
   },
   "outputs": [],
   "source": [
    "processed_features = []\n",
    "\n",
    "for i in range(0, len(features)):\n",
    "    \n",
    "    # remowing tweet\n",
    "    processed_feature = re.sub(r'@\\w+', ' ', str(features[i]))\n",
    "\n",
    "    # remowing retweet\n",
    "    processed_feature = re.sub(r'rt @\\w+:', ' ', processed_feature)\n",
    "\n",
    "    # EliminaciÃƒÂ³n de nÃƒÂºmeros\n",
    "    processed_feature = re.sub(\"\\d+\", ' ', processed_feature)\n",
    "\n",
    "    # Removing links\n",
    "    processed_feature = re.sub(r'http\\S+', ' ', processed_feature)\n",
    "\n",
    "    # Remove all the special characters\n",
    "    processed_feature = re.sub(r'\\W', ' ', processed_feature)\n",
    "\n",
    "    # remove all single characters\n",
    "    processed_feature= re.sub(r'\\s+[a-zA-Z]\\s+', ' ', processed_feature)\n",
    "\n",
    "    # Remove single characters from the start\n",
    "    processed_feature = re.sub(r'\\^[a-zA-Z]\\s+', ' ', processed_feature) \n",
    "\n",
    "    # Substituting multiple spaces with single space\n",
    "    processed_feature = re.sub(r'\\s+', ' ', processed_feature, flags=re.I)\n",
    "\n",
    "    # Removing prefixed 'b'\n",
    "#    processed_feature = re.sub(r'^b\\s+', '', processed_feature)\n",
    "    \n",
    "    # Converting to Lowercase\n",
    "    processed_feature = processed_feature.lower()\n",
    "\n",
    "    processed_features.append(processed_feature)"
   ]
  },
  {
   "cell_type": "code",
   "execution_count": 5,
   "id": "dc7ff09d",
   "metadata": {
    "id": "dc7ff09d"
   },
   "outputs": [],
   "source": [
    "tweets_sentiment['processed_text']=processed_features"
   ]
  },
  {
   "cell_type": "code",
   "execution_count": 6,
   "id": "a7e89beb",
   "metadata": {
    "colab": {
     "base_uri": "https://localhost:8080/",
     "height": 423
    },
    "id": "a7e89beb",
    "outputId": "faacf115-3f5c-49ea-cecf-4989bd279422"
   },
   "outputs": [
    {
     "data": {
      "text/html": [
       "\n",
       "  <div id=\"df-71c5ea7a-b895-4e95-bfcd-944c69c1c0ad\">\n",
       "    <div class=\"colab-df-container\">\n",
       "      <div>\n",
       "<style scoped>\n",
       "    .dataframe tbody tr th:only-of-type {\n",
       "        vertical-align: middle;\n",
       "    }\n",
       "\n",
       "    .dataframe tbody tr th {\n",
       "        vertical-align: top;\n",
       "    }\n",
       "\n",
       "    .dataframe thead th {\n",
       "        text-align: right;\n",
       "    }\n",
       "</style>\n",
       "<table border=\"1\" class=\"dataframe\">\n",
       "  <thead>\n",
       "    <tr style=\"text-align: right;\">\n",
       "      <th></th>\n",
       "      <th>airline_sentiment</th>\n",
       "      <th>text</th>\n",
       "      <th>processed_text</th>\n",
       "    </tr>\n",
       "  </thead>\n",
       "  <tbody>\n",
       "    <tr>\n",
       "      <th>0</th>\n",
       "      <td>neutral</td>\n",
       "      <td>@VirginAmerica What @dhepburn said.</td>\n",
       "      <td>what said</td>\n",
       "    </tr>\n",
       "    <tr>\n",
       "      <th>1</th>\n",
       "      <td>positive</td>\n",
       "      <td>@VirginAmerica plus you've added commercials t...</td>\n",
       "      <td>plus you ve added commercials to the experien...</td>\n",
       "    </tr>\n",
       "    <tr>\n",
       "      <th>2</th>\n",
       "      <td>neutral</td>\n",
       "      <td>@VirginAmerica I didn't today... Must mean I n...</td>\n",
       "      <td>didn today must mean need to take another trip</td>\n",
       "    </tr>\n",
       "    <tr>\n",
       "      <th>3</th>\n",
       "      <td>negative</td>\n",
       "      <td>@VirginAmerica it's really aggressive to blast...</td>\n",
       "      <td>it really aggressive to blast obnoxious enter...</td>\n",
       "    </tr>\n",
       "    <tr>\n",
       "      <th>4</th>\n",
       "      <td>negative</td>\n",
       "      <td>@VirginAmerica and it's a really big bad thing...</td>\n",
       "      <td>and it a really big bad thing about it</td>\n",
       "    </tr>\n",
       "    <tr>\n",
       "      <th>...</th>\n",
       "      <td>...</td>\n",
       "      <td>...</td>\n",
       "      <td>...</td>\n",
       "    </tr>\n",
       "    <tr>\n",
       "      <th>14635</th>\n",
       "      <td>positive</td>\n",
       "      <td>@AmericanAir thank you we got on a different f...</td>\n",
       "      <td>thank you we got on different flight to chicago</td>\n",
       "    </tr>\n",
       "    <tr>\n",
       "      <th>14636</th>\n",
       "      <td>negative</td>\n",
       "      <td>@AmericanAir leaving over 20 minutes Late Flig...</td>\n",
       "      <td>leaving over minutes late flight no warnings ...</td>\n",
       "    </tr>\n",
       "    <tr>\n",
       "      <th>14637</th>\n",
       "      <td>neutral</td>\n",
       "      <td>@AmericanAir Please bring American Airlines to...</td>\n",
       "      <td>please bring american airlines to blackberry</td>\n",
       "    </tr>\n",
       "    <tr>\n",
       "      <th>14638</th>\n",
       "      <td>negative</td>\n",
       "      <td>@AmericanAir you have my money, you change my ...</td>\n",
       "      <td>you have my money you change my flight and do...</td>\n",
       "    </tr>\n",
       "    <tr>\n",
       "      <th>14639</th>\n",
       "      <td>neutral</td>\n",
       "      <td>@AmericanAir we have 8 ppl so we need 2 know h...</td>\n",
       "      <td>we have ppl so we need know how many seats ar...</td>\n",
       "    </tr>\n",
       "  </tbody>\n",
       "</table>\n",
       "<p>14640 rows × 3 columns</p>\n",
       "</div>\n",
       "      <button class=\"colab-df-convert\" onclick=\"convertToInteractive('df-71c5ea7a-b895-4e95-bfcd-944c69c1c0ad')\"\n",
       "              title=\"Convert this dataframe to an interactive table.\"\n",
       "              style=\"display:none;\">\n",
       "        \n",
       "  <svg xmlns=\"http://www.w3.org/2000/svg\" height=\"24px\"viewBox=\"0 0 24 24\"\n",
       "       width=\"24px\">\n",
       "    <path d=\"M0 0h24v24H0V0z\" fill=\"none\"/>\n",
       "    <path d=\"M18.56 5.44l.94 2.06.94-2.06 2.06-.94-2.06-.94-.94-2.06-.94 2.06-2.06.94zm-11 1L8.5 8.5l.94-2.06 2.06-.94-2.06-.94L8.5 2.5l-.94 2.06-2.06.94zm10 10l.94 2.06.94-2.06 2.06-.94-2.06-.94-.94-2.06-.94 2.06-2.06.94z\"/><path d=\"M17.41 7.96l-1.37-1.37c-.4-.4-.92-.59-1.43-.59-.52 0-1.04.2-1.43.59L10.3 9.45l-7.72 7.72c-.78.78-.78 2.05 0 2.83L4 21.41c.39.39.9.59 1.41.59.51 0 1.02-.2 1.41-.59l7.78-7.78 2.81-2.81c.8-.78.8-2.07 0-2.86zM5.41 20L4 18.59l7.72-7.72 1.47 1.35L5.41 20z\"/>\n",
       "  </svg>\n",
       "      </button>\n",
       "      \n",
       "  <style>\n",
       "    .colab-df-container {\n",
       "      display:flex;\n",
       "      flex-wrap:wrap;\n",
       "      gap: 12px;\n",
       "    }\n",
       "\n",
       "    .colab-df-convert {\n",
       "      background-color: #E8F0FE;\n",
       "      border: none;\n",
       "      border-radius: 50%;\n",
       "      cursor: pointer;\n",
       "      display: none;\n",
       "      fill: #1967D2;\n",
       "      height: 32px;\n",
       "      padding: 0 0 0 0;\n",
       "      width: 32px;\n",
       "    }\n",
       "\n",
       "    .colab-df-convert:hover {\n",
       "      background-color: #E2EBFA;\n",
       "      box-shadow: 0px 1px 2px rgba(60, 64, 67, 0.3), 0px 1px 3px 1px rgba(60, 64, 67, 0.15);\n",
       "      fill: #174EA6;\n",
       "    }\n",
       "\n",
       "    [theme=dark] .colab-df-convert {\n",
       "      background-color: #3B4455;\n",
       "      fill: #D2E3FC;\n",
       "    }\n",
       "\n",
       "    [theme=dark] .colab-df-convert:hover {\n",
       "      background-color: #434B5C;\n",
       "      box-shadow: 0px 1px 3px 1px rgba(0, 0, 0, 0.15);\n",
       "      filter: drop-shadow(0px 1px 2px rgba(0, 0, 0, 0.3));\n",
       "      fill: #FFFFFF;\n",
       "    }\n",
       "  </style>\n",
       "\n",
       "      <script>\n",
       "        const buttonEl =\n",
       "          document.querySelector('#df-71c5ea7a-b895-4e95-bfcd-944c69c1c0ad button.colab-df-convert');\n",
       "        buttonEl.style.display =\n",
       "          google.colab.kernel.accessAllowed ? 'block' : 'none';\n",
       "\n",
       "        async function convertToInteractive(key) {\n",
       "          const element = document.querySelector('#df-71c5ea7a-b895-4e95-bfcd-944c69c1c0ad');\n",
       "          const dataTable =\n",
       "            await google.colab.kernel.invokeFunction('convertToInteractive',\n",
       "                                                     [key], {});\n",
       "          if (!dataTable) return;\n",
       "\n",
       "          const docLinkHtml = 'Like what you see? Visit the ' +\n",
       "            '<a target=\"_blank\" href=https://colab.research.google.com/notebooks/data_table.ipynb>data table notebook</a>'\n",
       "            + ' to learn more about interactive tables.';\n",
       "          element.innerHTML = '';\n",
       "          dataTable['output_type'] = 'display_data';\n",
       "          await google.colab.output.renderOutput(dataTable, element);\n",
       "          const docLink = document.createElement('div');\n",
       "          docLink.innerHTML = docLinkHtml;\n",
       "          element.appendChild(docLink);\n",
       "        }\n",
       "      </script>\n",
       "    </div>\n",
       "  </div>\n",
       "  "
      ],
      "text/plain": [
       "      airline_sentiment                                               text  \\\n",
       "0               neutral                @VirginAmerica What @dhepburn said.   \n",
       "1              positive  @VirginAmerica plus you've added commercials t...   \n",
       "2               neutral  @VirginAmerica I didn't today... Must mean I n...   \n",
       "3              negative  @VirginAmerica it's really aggressive to blast...   \n",
       "4              negative  @VirginAmerica and it's a really big bad thing...   \n",
       "...                 ...                                                ...   \n",
       "14635          positive  @AmericanAir thank you we got on a different f...   \n",
       "14636          negative  @AmericanAir leaving over 20 minutes Late Flig...   \n",
       "14637           neutral  @AmericanAir Please bring American Airlines to...   \n",
       "14638          negative  @AmericanAir you have my money, you change my ...   \n",
       "14639           neutral  @AmericanAir we have 8 ppl so we need 2 know h...   \n",
       "\n",
       "                                          processed_text  \n",
       "0                                             what said   \n",
       "1       plus you ve added commercials to the experien...  \n",
       "2        didn today must mean need to take another trip   \n",
       "3       it really aggressive to blast obnoxious enter...  \n",
       "4                 and it a really big bad thing about it  \n",
       "...                                                  ...  \n",
       "14635   thank you we got on different flight to chicago   \n",
       "14636   leaving over minutes late flight no warnings ...  \n",
       "14637      please bring american airlines to blackberry   \n",
       "14638   you have my money you change my flight and do...  \n",
       "14639   we have ppl so we need know how many seats ar...  \n",
       "\n",
       "[14640 rows x 3 columns]"
      ]
     },
     "execution_count": 6,
     "metadata": {},
     "output_type": "execute_result"
    }
   ],
   "source": [
    "tweets_sentiment"
   ]
  },
  {
   "cell_type": "markdown",
   "id": "40f2801b",
   "metadata": {
    "id": "40f2801b"
   },
   "source": [
    "\n",
    "# Using Sklearn Classifiers"
   ]
  },
  {
   "cell_type": "code",
   "execution_count": 7,
   "id": "f5634d13",
   "metadata": {
    "colab": {
     "base_uri": "https://localhost:8080/"
    },
    "id": "f5634d13",
    "outputId": "1b96f0a0-6fa5-4eb6-fa10-0c4b9311467b"
   },
   "outputs": [
    {
     "name": "stderr",
     "output_type": "stream",
     "text": [
      "[nltk_data] Downloading package stopwords to /root/nltk_data...\n",
      "[nltk_data]   Package stopwords is already up-to-date!\n"
     ]
    },
    {
     "data": {
      "text/plain": [
       "True"
      ]
     },
     "execution_count": 7,
     "metadata": {},
     "output_type": "execute_result"
    }
   ],
   "source": [
    "from sklearn.feature_extraction.text import TfidfVectorizer\n",
    "from sklearn.model_selection import train_test_split\n",
    "from sklearn.metrics import accuracy_score\n",
    "from nltk.corpus import stopwords\n",
    "\n",
    "import nltk\n",
    "nltk.download('stopwords')"
   ]
  },
  {
   "cell_type": "code",
   "execution_count": 8,
   "id": "5059e2c0",
   "metadata": {
    "id": "5059e2c0"
   },
   "outputs": [],
   "source": [
    "vectorizer = TfidfVectorizer (max_features=2500, min_df=7, max_df=0.8, stop_words=stopwords.words('english'))\n",
    "processed_features_vec = vectorizer.fit_transform(processed_features).toarray()"
   ]
  },
  {
   "cell_type": "code",
   "execution_count": 9,
   "id": "481a39bf",
   "metadata": {
    "id": "481a39bf"
   },
   "outputs": [],
   "source": [
    "X_train, X_test, y_train, y_test = train_test_split(processed_features_vec, labels, test_size=0.2, random_state=0)"
   ]
  },
  {
   "cell_type": "markdown",
   "id": "OjXZ3EBMXLJH",
   "metadata": {
    "id": "OjXZ3EBMXLJH"
   },
   "source": [
    "### random forest"
   ]
  },
  {
   "cell_type": "code",
   "execution_count": 10,
   "id": "c2c6765f",
   "metadata": {
    "colab": {
     "base_uri": "https://localhost:8080/"
    },
    "id": "c2c6765f",
    "outputId": "88d87c25-6670-44b0-c20f-44582a17c6d3"
   },
   "outputs": [
    {
     "name": "stdout",
     "output_type": "stream",
     "text": [
      "Acuracy \t: 0.757172131147541\n",
      "CPU times: user 1min 21s, sys: 323 ms, total: 1min 21s\n",
      "Wall time: 1min 32s\n"
     ]
    }
   ],
   "source": [
    "%%time\n",
    "from sklearn.ensemble import RandomForestClassifier\n",
    "RF_classifier = RandomForestClassifier(n_estimators=200, random_state=0)\n",
    "RF_classifier.fit(X_train, y_train)\n",
    "\n",
    "RF_predictions = RF_classifier.predict(X_test)\n",
    "RF_acc =accuracy_score(y_test, RF_predictions)\n",
    "\n",
    "print('Acuracy \\t:',RF_acc)"
   ]
  },
  {
   "cell_type": "markdown",
   "id": "MSLPnyTBXRYi",
   "metadata": {
    "id": "MSLPnyTBXRYi"
   },
   "source": [
    "### Linear support vector classifier"
   ]
  },
  {
   "cell_type": "code",
   "execution_count": 11,
   "id": "da5990bb",
   "metadata": {
    "colab": {
     "base_uri": "https://localhost:8080/"
    },
    "id": "da5990bb",
    "outputId": "0aea0e3f-f128-480c-8be4-f85a7b1f7745"
   },
   "outputs": [
    {
     "name": "stdout",
     "output_type": "stream",
     "text": [
      "Acuracy \t: 0.7739071038251366\n",
      "CPU times: user 327 ms, sys: 15 ms, total: 342 ms\n",
      "Wall time: 322 ms\n"
     ]
    }
   ],
   "source": [
    "%%time\n",
    "from sklearn.svm import LinearSVC\n",
    "LSVC_classifier = LinearSVC(random_state=0, tol=1e-6)\n",
    "LSVC_classifier.fit(X_train, y_train)\n",
    "\n",
    "LSVC_predictions = LSVC_classifier.predict(X_test)\n",
    "LSVC_acc = accuracy_score(y_test, LSVC_predictions)\n",
    "\n",
    "print('Acuracy \\t:',LSVC_acc)"
   ]
  },
  {
   "cell_type": "markdown",
   "id": "P8ONYOKeXiDT",
   "metadata": {
    "id": "P8ONYOKeXiDT"
   },
   "source": [
    "### Multi Layer Perceptron classifier"
   ]
  },
  {
   "cell_type": "code",
   "execution_count": 12,
   "id": "6829d92d",
   "metadata": {
    "colab": {
     "base_uri": "https://localhost:8080/"
    },
    "id": "6829d92d",
    "outputId": "b83ea601-83f5-4eb1-db71-0a797263c10d"
   },
   "outputs": [
    {
     "name": "stdout",
     "output_type": "stream",
     "text": [
      "Acuracy \t: 0.7383879781420765\n",
      "CPU times: user 3min 54s, sys: 1min 28s, total: 5min 22s\n",
      "Wall time: 2min 50s\n"
     ]
    }
   ],
   "source": [
    "%%time\n",
    "from sklearn.neural_network import MLPClassifier\n",
    "MLP_classifier = MLPClassifier(hidden_layer_sizes=(100,), activation='relu', solver='adam', alpha=0.0001 )\n",
    "MLP_classifier.fit(X_train, y_train)\n",
    "\n",
    "MLP_predictions = MLP_classifier.predict(X_test)\n",
    "MLP_acc = accuracy_score(y_test, MLP_predictions)\n",
    "\n",
    "print('Acuracy \\t:',MLP_acc)"
   ]
  },
  {
   "cell_type": "markdown",
   "id": "2bba80b1",
   "metadata": {
    "id": "2bba80b1"
   },
   "source": [
    "# Using TextBlob Naive Bayes classifier"
   ]
  },
  {
   "cell_type": "code",
   "execution_count": 13,
   "id": "c4a4932d",
   "metadata": {
    "colab": {
     "base_uri": "https://localhost:8080/"
    },
    "id": "c4a4932d",
    "outputId": "e6c84ad0-6d6a-4a2e-cfa3-0975e37758b1"
   },
   "outputs": [
    {
     "name": "stderr",
     "output_type": "stream",
     "text": [
      "[nltk_data] Downloading package punkt to /root/nltk_data...\n",
      "[nltk_data]   Package punkt is already up-to-date!\n"
     ]
    },
    {
     "data": {
      "text/plain": [
       "True"
      ]
     },
     "execution_count": 13,
     "metadata": {},
     "output_type": "execute_result"
    }
   ],
   "source": [
    "from textblob import TextBlob\n",
    "from textblob.classifiers import NaiveBayesClassifier,DecisionTreeClassifier\n",
    "nltk.download('punkt')"
   ]
  },
  {
   "cell_type": "markdown",
   "id": "JhseavzrZ8f8",
   "metadata": {
    "id": "JhseavzrZ8f8"
   },
   "source": [
    "\n",
    "### Balancing data set\n",
    "\n",
    "(removing some negative comments to optimize the training)"
   ]
  },
  {
   "cell_type": "code",
   "execution_count": 14,
   "id": "HzeZVVxj6_YE",
   "metadata": {
    "colab": {
     "base_uri": "https://localhost:8080/",
     "height": 266
    },
    "id": "HzeZVVxj6_YE",
    "outputId": "760c0bbf-b9f8-425a-a2b8-19c1fd95661f"
   },
   "outputs": [
    {
     "data": {
      "text/plain": [
       "<matplotlib.axes._subplots.AxesSubplot at 0x7f98e7c5f1d0>"
      ]
     },
     "execution_count": 14,
     "metadata": {},
     "output_type": "execute_result"
    },
    {
     "data": {
      "image/png": "[encoded data removed]",
      "text/plain": [
       "<Figure size 432x288 with 1 Axes>"
      ]
     },
     "metadata": {},
     "output_type": "display_data"
    }
   ],
   "source": [
    "tweets_sentiment['airline_sentiment'].value_counts().plot(kind='pie', autopct='%1.0f%%')"
   ]
  },
  {
   "cell_type": "code",
   "execution_count": 15,
   "id": "4Y4iSP9z80lq",
   "metadata": {
    "id": "4Y4iSP9z80lq"
   },
   "outputs": [],
   "source": [
    "tweets_to_remove = tweets_sentiment[tweets_sentiment['airline_sentiment']=='negative'].index[:6100]\n",
    "\n",
    "tweets_sentiment_c = tweets_sentiment.copy()\n",
    "tweets_sentiment_c.drop(index=tweets_to_remove,inplace=True)"
   ]
  },
  {
   "cell_type": "code",
   "execution_count": 16,
   "id": "C3lXDCrT-_kB",
   "metadata": {
    "colab": {
     "base_uri": "https://localhost:8080/",
     "height": 266
    },
    "id": "C3lXDCrT-_kB",
    "outputId": "cccd8b10-3ee3-49d1-c5a9-12dd0a692128"
   },
   "outputs": [
    {
     "data": {
      "text/plain": [
       "<matplotlib.axes._subplots.AxesSubplot at 0x7f98e7b90510>"
      ]
     },
     "execution_count": 16,
     "metadata": {},
     "output_type": "execute_result"
    },
    {
     "data": {
      "image/png": "[encoded data removed]",
      "text/plain": [
       "<Figure size 432x288 with 1 Axes>"
      ]
     },
     "metadata": {},
     "output_type": "display_data"
    }
   ],
   "source": [
    "tweets_sentiment_c['airline_sentiment'].value_counts().plot(kind='pie', autopct='%1.0f%%')"
   ]
  },
  {
   "cell_type": "code",
   "execution_count": 17,
   "id": "9c39b08a",
   "metadata": {
    "id": "9c39b08a"
   },
   "outputs": [],
   "source": [
    "X_train, X_test, y_train, y_test = train_test_split(tweets_sentiment_c['processed_text'], tweets_sentiment_c['airline_sentiment'], test_size=0.2, random_state=0)"
   ]
  },
  {
   "cell_type": "code",
   "execution_count": 18,
   "id": "7e0bc70d",
   "metadata": {
    "id": "7e0bc70d"
   },
   "outputs": [],
   "source": [
    "def new_format(X,Y):  #we need to transform the training and test set to fit the classifier format \n",
    "    return [(x,y) for x,y in zip(X,Y)]\n",
    "\n",
    "def divide(data,n):  #the training set is way too large, we need to split it into smaller sets\n",
    "    m = int(len(data)/n)\n",
    "    return [data[i*m:(i+1)*m] for i in range(n)]\n",
    "\n",
    "n_sets = 30\n",
    "sets = divide(new_format(X_train,y_train),n_sets) "
   ]
  },
  {
   "cell_type": "code",
   "execution_count": 19,
   "id": "joP62_y5c4Pr",
   "metadata": {
    "colab": {
     "base_uri": "https://localhost:8080/"
    },
    "id": "joP62_y5c4Pr",
    "outputId": "5680baac-46f9-4be6-d039-beffe315a6e6"
   },
   "outputs": [
    {
     "name": "stdout",
     "output_type": "stream",
     "text": [
      "The training set is size 6832 and was fractioned into 30 sets of size 227\n"
     ]
    }
   ],
   "source": [
    "print('The training set is size {} and was fractioned into {} sets of size {}'.format(len(X_train),n_sets,len(sets[0])))"
   ]
  },
  {
   "cell_type": "code",
   "execution_count": 20,
   "id": "5535fa69",
   "metadata": {
    "colab": {
     "base_uri": "https://localhost:8080/"
    },
    "id": "5535fa69",
    "outputId": "7851a3c5-4399-4427-c9d2-b9b881787231"
   },
   "outputs": [
    {
     "name": "stderr",
     "output_type": "stream",
     "text": [
      " 90%|█████████ | 9/10 [02:10<00:14, 14.51s/it]\n"
     ]
    },
    {
     "name": "stdout",
     "output_type": "stream",
     "text": [
      "Acuracy \t: 0.7195550351288056\n",
      "CPU times: user 2min 54s, sys: 6.27 s, total: 3min\n",
      "Wall time: 3min 1s\n"
     ]
    }
   ],
   "source": [
    "%%time\n",
    "cl = NaiveBayesClassifier(sets[0])\n",
    "for i,j in zip(range(10),tqdm(range(10))): #using 15 of the 30 sets for ram memory usage issues when using all sets\n",
    "  cl.update(sets[i+1])\n",
    "\n",
    "TB_acc = cl.accuracy(new_format(X_test,y_test))\n",
    "print('Acuracy \\t:',TB_acc)"
   ]
  },
  {
   "cell_type": "markdown",
   "id": "5mS0-nlFvMuc",
   "metadata": {
    "id": "5mS0-nlFvMuc"
   },
   "source": [
    "# Testing the predictions"
   ]
  },
  {
   "cell_type": "code",
   "execution_count": 23,
   "id": "o3yGs7YsWiig",
   "metadata": {
    "id": "o3yGs7YsWiig"
   },
   "outputs": [],
   "source": [
    "texts = [['it wasnt as bad at all'], \n",
    "         ['it was the best thing that couldve happened'],\n",
    "         ['it was absolutely awful']]\n",
    "predictors = [ RF_classifier,\n",
    "              LSVC_classifier,\n",
    "              MLP_classifier]\n",
    "predictors_names = ['Random Forest \\t\\t\\t\\t',\n",
    "                    'Multi Layer Perceptron classifier \\t',\n",
    "                    'Linear support vector classifier \\t',\n",
    "                    'TextBlob Naive Bayes classifier \\t']\n",
    "\n",
    "accuracies = [RF_acc, LSVC_acc, MLP_acc, TB_acc]"
   ]
  },
  {
   "cell_type": "code",
   "execution_count": 24,
   "id": "eVLNM7BcdnD2",
   "metadata": {
    "colab": {
     "base_uri": "https://localhost:8080/"
    },
    "id": "eVLNM7BcdnD2",
    "outputId": "37bd571b-d16e-4ebb-c9ba-92a75a22577d"
   },
   "outputs": [
    {
     "name": "stdout",
     "output_type": "stream",
     "text": [
      "\t\n",
      "\t For Text: it wasnt as bad at all \n",
      "\n",
      "Random Forest \t\t\t\t ...: neutral\n",
      "Multi Layer Perceptron classifier \t ...: negative\n",
      "Linear support vector classifier \t ...: negative\n",
      "TextBlob Naive Bayes classifier \t ...: neutral \n",
      "\n",
      "\t\n",
      "\t For Text: it was the best thing that couldve happened \n",
      "\n",
      "Random Forest \t\t\t\t ...: positive\n",
      "Multi Layer Perceptron classifier \t ...: positive\n",
      "Linear support vector classifier \t ...: neutral\n",
      "TextBlob Naive Bayes classifier \t ...: neutral \n",
      "\n",
      "\t\n",
      "\t For Text: it was absolutely awful \n",
      "\n",
      "Random Forest \t\t\t\t ...: neutral\n",
      "Multi Layer Perceptron classifier \t ...: negative\n",
      "Linear support vector classifier \t ...: negative\n",
      "TextBlob Naive Bayes classifier \t ...: neutral \n",
      "\n",
      "Random Forest \t\t\t\t \t accuracy: 0.757172131147541\n",
      "Multi Layer Perceptron classifier \t \t accuracy: 0.7739071038251366\n",
      "Linear support vector classifier \t \t accuracy: 0.7383879781420765\n",
      "TextBlob Naive Bayes classifier \t \t accuracy: 0.7195550351288056\n"
     ]
    }
   ],
   "source": [
    "for text in texts:\n",
    "  print('\\t')\n",
    "  print('\\t For Text: %s \\n' %text[0]) \n",
    "  text_v = vectorizer.transform(text).toarray()\n",
    "\n",
    "  for predictor, name in zip( predictors, predictors_names[:-1]):\n",
    "    print(name, '...:',predictor.predict(text_v)[0])\n",
    "  print(predictors_names[-1],'...:',cl.classify(text),'\\n')\n",
    "\n",
    "for acc,name in zip(accuracies,predictors_names):\n",
    "  print(name,'\\t accuracy:' ,acc)"
   ]
  },
  {
   "cell_type": "markdown",
   "id": "3PfQn_anh6G9",
   "metadata": {
    "id": "3PfQn_anh6G9"
   },
   "source": [
    "# Conclussion\n",
    "\n",
    "Overall, the Multi Layer Perceptron classifier (MLP) performs the best amongst the other classifiers tested here. TextBlob, and RandomForest show the need for better tunning as shown when classifying the sentences above. \n"
   ]
  },
  {
   "cell_type": "code",
   "execution_count": null,
   "id": "WSpGaRdr49Wd",
   "metadata": {
    "id": "WSpGaRdr49Wd"
   },
   "outputs": [],
   "source": []
  }
 ],
 "metadata": {
  "colab": {
   "collapsed_sections": [
    "40f2801b",
    "2bba80b1"
   ],
   "provenance": []
  },
  "kernelspec": {
   "display_name": "Python 3",
   "language": "python",
   "name": "python3"
  },
  "language_info": {
   "codemirror_mode": {
    "name": "ipython",
    "version": 3
   },
   "file_extension": ".py",
   "mimetype": "text/x-python",
   "name": "python",
   "nbconvert_exporter": "python",
   "pygments_lexer": "ipython3",
   "version": "3.7.2"
  }
 },
 "nbformat": 4,
 "nbformat_minor": 5
}
