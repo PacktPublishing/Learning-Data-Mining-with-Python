{
 "cells": [
  {
   "cell_type": "markdown",
   "id": "posted-heavy",
   "metadata": {
    "cell_id": "0a3adf0d-9726-4f5b-9391-90885ce6075f",
    "deepnote_cell_height": 160.23333740234375,
    "deepnote_cell_type": "markdown"
   },
   "source": [
    "#  Análisis exploratorio de datos\n",
    "# Ejercicio I:"
   ]
  },
  {
   "cell_type": "markdown",
   "id": "respiratory-nation",
   "metadata": {
    "cell_id": "00001-33dc8fde-e701-4272-9238-9b981332b881",
    "deepnote_cell_height": 119.83332824707031,
    "deepnote_cell_type": "markdown"
   },
   "source": [
    "Imagine que una nueva compañía de automóviles quiere producir su primer automóvil, es importante que el carro sea ecológico y económico, pero también fuerte y cómodo. La compañía quiere predecir qué emisión de CO2 y consumo de combustible pueden esperarse para un automóvil con un tamaño de motor dado, número de cilindros, transmisión, entre otros parámetros."
   ]
  },
  {
   "cell_type": "markdown",
   "id": "equivalent-congo",
   "metadata": {
    "cell_id": "00002-0a8dd18b-4923-43d4-abb4-797fa6dea305",
    "deepnote_cell_height": 75.03334045410156,
    "deepnote_cell_type": "markdown"
   },
   "source": [
    "Antes de aplicar la regresión, los gerentes quieren ver el informe sobre los datos que se utilizarán para entrenar el algoritmo de aprendizaje automático; además, quieren saber qué tecnología utilizar (americana, europea o asiática). "
   ]
  },
  {
   "cell_type": "markdown",
   "id": "found-department",
   "metadata": {
    "cell_id": "00003-1161388b-36a3-4397-a10f-3e28a67fb579",
    "deepnote_cell_height": 133.8333282470703,
    "deepnote_cell_type": "markdown"
   },
   "source": [
    "Recuerde, ¡el elemento más importante de la ciencia de datos es... PENSAR! \n",
    "\n",
    "Este ejercicio debe permitirle sentirse cómodo con la herramienta de manipulación de datos: Pandas. Luego PIENSE, qué otra información sería interesante extraer del conjunto de datos, qué otros datos desea tener para que el análisis sea más completo."
   ]
  },
  {
   "cell_type": "markdown",
   "id": "willing-baseball",
   "metadata": {
    "cell_id": "00004-46a646d4-00ec-4d3d-94f0-ec97fa50f696",
    "deepnote_cell_height": 140.96665954589844,
    "deepnote_cell_type": "markdown"
   },
   "source": [
    "* https://raw.githubusercontent.com/mhemmg/datasets/master/car_emission/cars_CO2_emissions_D.csv - contiene las marcas y parámetros del automóvil.\n",
    "* https://raw.githubusercontent.com/mhemmg/datasets/master/car_emission/car_brands_countries.csv - contiene las marcas de automóviles y el coutry (continente) de origen."
   ]
  },
  {
   "cell_type": "markdown",
   "id": "formal-liabilities",
   "metadata": {
    "cell_id": "57078c99caac4d0b85f72f47bb1f060c",
    "deepnote_cell_height": 874.2333374023438,
    "deepnote_cell_type": "markdown",
    "tags": []
   },
   "source": [
    "#### Detalles del conjunto de datos\n",
    "\n",
    "Este conjunto de datos captura los detalles de cómo las emisiones de CO2 de un vehículo pueden variar con las diferentes características. El conjunto de datos se tomó del sitio web oficial de datos abiertos del gobierno de Canadá, esta es una versión compilada y contiene datos de un período de 7 años.\n",
    "\n",
    "Hay un total de 7385 filas y 12 columnas, además se han utilizado pocas abreviaturas para describir las características. A continuación se enumeran; no obstante, la misma información se encuentra en la hoja de Descripción de Datos.\n",
    "\n",
    "```\n",
    "\n",
    "1. Model :\n",
    "4WD/4X4 = Four-wheel drive\n",
    "AWD = All-wheel drive\n",
    "FFV = Flexible-fuel vehicle\n",
    "SWB = Short wheelbase\n",
    "LWB = Long wheelbase\n",
    "EWB = Extended wheelbase\n",
    "\n",
    "2. Transmission :\n",
    "A = automatic\n",
    "AM = automated manual\n",
    "AS = automatic with select shift\n",
    "AV = continuously variable\n",
    "M = manual\n",
    "3-10 = number of gears\n",
    "\n",
    "3. Fuel type :\n",
    "X = regular gasoline\n",
    "Z = premium gasoline\n",
    "D = diesel\n",
    "E = ethanol (E85)\n",
    "N = natural gas\n",
    "\n",
    "4. Fuel consumption :\n",
    "City and highway fuel consumption ratings are shown in litres per 100 kilometres (L/100 km) - the combined rating (55% city, 45% hwy) is shown in L/100 km and in miles per imperial gallon (mpg)\n",
    "\n",
    "5. Estimated tailpipe carbon dioxide emission in grams/km\n",
    "```\n",
    "\n",
    "Los datos han sido tomados y compilados de este enlace oficial del Gobierno de Canadá:\n",
    "https://open.canada.ca/data/en/dataset/98f1a129-f628-4ce4-b24d-6f16bf24dd64#wb-auto-6"
   ]
  },
  {
   "cell_type": "markdown",
   "id": "f6bdb635",
   "metadata": {
    "cell_id": "00005-de253c9a-9e73-4192-a578-b3437d134f58",
    "deepnote_cell_height": 327.0333251953125,
    "deepnote_cell_type": "markdown"
   },
   "source": [
    "## 1. Carga y limpieza de los datos\n",
    "\n",
    "a) Complete el conjunto de datos de la emisión de CO2 del automóvil con los datos sobre el origen de las marcas."
   ]
  },
  {
   "cell_type": "code",
   "execution_count": 1,
   "id": "5fd6a8e7",
   "metadata": {},
   "outputs": [],
   "source": [
    "import pandas as pd"
   ]
  },
  {
   "cell_type": "code",
   "execution_count": 2,
   "id": "9907bd0d",
   "metadata": {},
   "outputs": [],
   "source": [
    "data_brands = pd.read_csv(\"car_brands_countries.csv\")\n",
    "data_C02 = pd.read_csv(\"cars_CO2_emissions_D.csv\")"
   ]
  },
  {
   "cell_type": "code",
   "execution_count": 3,
   "id": "036cdd26",
   "metadata": {},
   "outputs": [],
   "source": [
    "data_combined = pd.merge(data_C02,data_brands)"
   ]
  },
  {
   "cell_type": "markdown",
   "id": "a9e3879c",
   "metadata": {
    "cell_id": "00005-de253c9a-9e73-4192-a578-b3437d134f58",
    "deepnote_cell_height": 327.0333251953125,
    "deepnote_cell_type": "markdown"
   },
   "source": [
    "b) Del conjunto de datos dado imprima las primeras y las últimas diez filas.  "
   ]
  },
  {
   "cell_type": "code",
   "execution_count": 4,
   "id": "6e591199",
   "metadata": {},
   "outputs": [
    {
     "data": {
      "text/html": [
       "<div>\n",
       "<style scoped>\n",
       "    .dataframe tbody tr th:only-of-type {\n",
       "        vertical-align: middle;\n",
       "    }\n",
       "\n",
       "    .dataframe tbody tr th {\n",
       "        vertical-align: top;\n",
       "    }\n",
       "\n",
       "    .dataframe thead th {\n",
       "        text-align: right;\n",
       "    }\n",
       "</style>\n",
       "<table border=\"1\" class=\"dataframe\">\n",
       "  <thead>\n",
       "    <tr style=\"text-align: right;\">\n",
       "      <th></th>\n",
       "      <th>Make</th>\n",
       "      <th>Model</th>\n",
       "      <th>Vehicle Class</th>\n",
       "      <th>Engine Size(L)</th>\n",
       "      <th>Cylinders</th>\n",
       "      <th>Transmission</th>\n",
       "      <th>Fuel Type</th>\n",
       "      <th>Fuel Consumption City (L/100 km)</th>\n",
       "      <th>Fuel Consumption Hwy (L/100 km)</th>\n",
       "      <th>Fuel Consumption Comb (L/100 km)</th>\n",
       "      <th>Fuel Consumption Comb (mpg)</th>\n",
       "      <th>CO2 Emissions(g/km)</th>\n",
       "      <th>Country</th>\n",
       "      <th>Continent</th>\n",
       "    </tr>\n",
       "  </thead>\n",
       "  <tbody>\n",
       "    <tr>\n",
       "      <th>0</th>\n",
       "      <td>ACURA</td>\n",
       "      <td>ILX</td>\n",
       "      <td>COMPACT</td>\n",
       "      <td>2.0</td>\n",
       "      <td>4.0</td>\n",
       "      <td>AS5</td>\n",
       "      <td>premium gasoline</td>\n",
       "      <td>9.9</td>\n",
       "      <td>6.7</td>\n",
       "      <td>8.5</td>\n",
       "      <td>33.0</td>\n",
       "      <td>196.0</td>\n",
       "      <td>USA</td>\n",
       "      <td>America</td>\n",
       "    </tr>\n",
       "    <tr>\n",
       "      <th>1</th>\n",
       "      <td>ACURA</td>\n",
       "      <td>ILX</td>\n",
       "      <td>COMPACT</td>\n",
       "      <td>2.4</td>\n",
       "      <td>4.0</td>\n",
       "      <td>M6</td>\n",
       "      <td>premium gasoline</td>\n",
       "      <td>11.2</td>\n",
       "      <td>7.7</td>\n",
       "      <td>9.6</td>\n",
       "      <td>29.0</td>\n",
       "      <td>221.0</td>\n",
       "      <td>USA</td>\n",
       "      <td>America</td>\n",
       "    </tr>\n",
       "    <tr>\n",
       "      <th>2</th>\n",
       "      <td>ACURA</td>\n",
       "      <td>ILX HYBRID</td>\n",
       "      <td>COMPACT</td>\n",
       "      <td>1.5</td>\n",
       "      <td>4.0</td>\n",
       "      <td>AV7</td>\n",
       "      <td>premium gasoline</td>\n",
       "      <td>6.0</td>\n",
       "      <td>5.8</td>\n",
       "      <td>5.9</td>\n",
       "      <td>48.0</td>\n",
       "      <td>136.0</td>\n",
       "      <td>USA</td>\n",
       "      <td>America</td>\n",
       "    </tr>\n",
       "    <tr>\n",
       "      <th>3</th>\n",
       "      <td>ACURA</td>\n",
       "      <td>MDX 4WD</td>\n",
       "      <td>SUV - SMALL</td>\n",
       "      <td>3.5</td>\n",
       "      <td>6.0</td>\n",
       "      <td>AS6</td>\n",
       "      <td>premium gasoline</td>\n",
       "      <td>12.7</td>\n",
       "      <td>9.1</td>\n",
       "      <td>11.1</td>\n",
       "      <td>25.0</td>\n",
       "      <td>255.0</td>\n",
       "      <td>USA</td>\n",
       "      <td>America</td>\n",
       "    </tr>\n",
       "    <tr>\n",
       "      <th>4</th>\n",
       "      <td>ACURA</td>\n",
       "      <td>RDX AWD</td>\n",
       "      <td>SUV - SMALL</td>\n",
       "      <td>3.5</td>\n",
       "      <td>6.0</td>\n",
       "      <td>AS6</td>\n",
       "      <td>premium gasoline</td>\n",
       "      <td>12.1</td>\n",
       "      <td>8.7</td>\n",
       "      <td>10.6</td>\n",
       "      <td>27.0</td>\n",
       "      <td>244.0</td>\n",
       "      <td>USA</td>\n",
       "      <td>America</td>\n",
       "    </tr>\n",
       "    <tr>\n",
       "      <th>5</th>\n",
       "      <td>ACURA</td>\n",
       "      <td>RLX</td>\n",
       "      <td>MID-SIZE</td>\n",
       "      <td>3.5</td>\n",
       "      <td>6.0</td>\n",
       "      <td>AS6</td>\n",
       "      <td>premium gasoline</td>\n",
       "      <td>11.9</td>\n",
       "      <td>7.7</td>\n",
       "      <td>10.0</td>\n",
       "      <td>28.0</td>\n",
       "      <td>230.0</td>\n",
       "      <td>USA</td>\n",
       "      <td>America</td>\n",
       "    </tr>\n",
       "    <tr>\n",
       "      <th>6</th>\n",
       "      <td>ACURA</td>\n",
       "      <td>TL</td>\n",
       "      <td>MID-SIZE</td>\n",
       "      <td>3.5</td>\n",
       "      <td>6.0</td>\n",
       "      <td>AS6</td>\n",
       "      <td>premium gasoline</td>\n",
       "      <td>11.8</td>\n",
       "      <td>8.1</td>\n",
       "      <td>10.1</td>\n",
       "      <td>28.0</td>\n",
       "      <td>232.0</td>\n",
       "      <td>USA</td>\n",
       "      <td>America</td>\n",
       "    </tr>\n",
       "    <tr>\n",
       "      <th>7</th>\n",
       "      <td>ACURA</td>\n",
       "      <td>TL AWD</td>\n",
       "      <td>MID-SIZE</td>\n",
       "      <td>3.7</td>\n",
       "      <td>6.0</td>\n",
       "      <td>AS6</td>\n",
       "      <td>premium gasoline</td>\n",
       "      <td>12.8</td>\n",
       "      <td>9.0</td>\n",
       "      <td>11.1</td>\n",
       "      <td>25.0</td>\n",
       "      <td>255.0</td>\n",
       "      <td>USA</td>\n",
       "      <td>America</td>\n",
       "    </tr>\n",
       "    <tr>\n",
       "      <th>8</th>\n",
       "      <td>ACURA</td>\n",
       "      <td>TL AWD</td>\n",
       "      <td>MID-SIZE</td>\n",
       "      <td>3.7</td>\n",
       "      <td>6.0</td>\n",
       "      <td>M6</td>\n",
       "      <td>premium gasoline</td>\n",
       "      <td>13.4</td>\n",
       "      <td>9.5</td>\n",
       "      <td>11.6</td>\n",
       "      <td>24.0</td>\n",
       "      <td>267.0</td>\n",
       "      <td>USA</td>\n",
       "      <td>America</td>\n",
       "    </tr>\n",
       "    <tr>\n",
       "      <th>9</th>\n",
       "      <td>ACURA</td>\n",
       "      <td>TSX</td>\n",
       "      <td>COMPACT</td>\n",
       "      <td>2.4</td>\n",
       "      <td>4.0</td>\n",
       "      <td>AS5</td>\n",
       "      <td>premium gasoline</td>\n",
       "      <td>10.6</td>\n",
       "      <td>7.5</td>\n",
       "      <td>9.2</td>\n",
       "      <td>31.0</td>\n",
       "      <td>212.0</td>\n",
       "      <td>USA</td>\n",
       "      <td>America</td>\n",
       "    </tr>\n",
       "  </tbody>\n",
       "</table>\n",
       "</div>"
      ],
      "text/plain": [
       "    Make       Model Vehicle Class Engine Size(L)  Cylinders Transmission  \\\n",
       "0  ACURA         ILX       COMPACT            2.0        4.0          AS5   \n",
       "1  ACURA         ILX       COMPACT            2.4        4.0           M6   \n",
       "2  ACURA  ILX HYBRID       COMPACT            1.5        4.0          AV7   \n",
       "3  ACURA     MDX 4WD   SUV - SMALL            3.5        6.0          AS6   \n",
       "4  ACURA     RDX AWD   SUV - SMALL            3.5        6.0          AS6   \n",
       "5  ACURA         RLX      MID-SIZE            3.5        6.0          AS6   \n",
       "6  ACURA          TL      MID-SIZE            3.5        6.0          AS6   \n",
       "7  ACURA      TL AWD      MID-SIZE            3.7        6.0          AS6   \n",
       "8  ACURA      TL AWD      MID-SIZE            3.7        6.0           M6   \n",
       "9  ACURA         TSX       COMPACT            2.4        4.0          AS5   \n",
       "\n",
       "          Fuel Type  Fuel Consumption City (L/100 km)  \\\n",
       "0  premium gasoline                               9.9   \n",
       "1  premium gasoline                              11.2   \n",
       "2  premium gasoline                               6.0   \n",
       "3  premium gasoline                              12.7   \n",
       "4  premium gasoline                              12.1   \n",
       "5  premium gasoline                              11.9   \n",
       "6  premium gasoline                              11.8   \n",
       "7  premium gasoline                              12.8   \n",
       "8  premium gasoline                              13.4   \n",
       "9  premium gasoline                              10.6   \n",
       "\n",
       "   Fuel Consumption Hwy (L/100 km)  Fuel Consumption Comb (L/100 km)  \\\n",
       "0                              6.7                               8.5   \n",
       "1                              7.7                               9.6   \n",
       "2                              5.8                               5.9   \n",
       "3                              9.1                              11.1   \n",
       "4                              8.7                              10.6   \n",
       "5                              7.7                              10.0   \n",
       "6                              8.1                              10.1   \n",
       "7                              9.0                              11.1   \n",
       "8                              9.5                              11.6   \n",
       "9                              7.5                               9.2   \n",
       "\n",
       "   Fuel Consumption Comb (mpg)  CO2 Emissions(g/km) Country Continent  \n",
       "0                         33.0                196.0     USA   America  \n",
       "1                         29.0                221.0     USA   America  \n",
       "2                         48.0                136.0     USA   America  \n",
       "3                         25.0                255.0     USA   America  \n",
       "4                         27.0                244.0     USA   America  \n",
       "5                         28.0                230.0     USA   America  \n",
       "6                         28.0                232.0     USA   America  \n",
       "7                         25.0                255.0     USA   America  \n",
       "8                         24.0                267.0     USA   America  \n",
       "9                         31.0                212.0     USA   America  "
      ]
     },
     "execution_count": 4,
     "metadata": {},
     "output_type": "execute_result"
    }
   ],
   "source": [
    "data_combined.head(10)"
   ]
  },
  {
   "cell_type": "code",
   "execution_count": 5,
   "id": "2a23d333",
   "metadata": {},
   "outputs": [
    {
     "data": {
      "text/html": [
       "<div>\n",
       "<style scoped>\n",
       "    .dataframe tbody tr th:only-of-type {\n",
       "        vertical-align: middle;\n",
       "    }\n",
       "\n",
       "    .dataframe tbody tr th {\n",
       "        vertical-align: top;\n",
       "    }\n",
       "\n",
       "    .dataframe thead th {\n",
       "        text-align: right;\n",
       "    }\n",
       "</style>\n",
       "<table border=\"1\" class=\"dataframe\">\n",
       "  <thead>\n",
       "    <tr style=\"text-align: right;\">\n",
       "      <th></th>\n",
       "      <th>Make</th>\n",
       "      <th>Model</th>\n",
       "      <th>Vehicle Class</th>\n",
       "      <th>Engine Size(L)</th>\n",
       "      <th>Cylinders</th>\n",
       "      <th>Transmission</th>\n",
       "      <th>Fuel Type</th>\n",
       "      <th>Fuel Consumption City (L/100 km)</th>\n",
       "      <th>Fuel Consumption Hwy (L/100 km)</th>\n",
       "      <th>Fuel Consumption Comb (L/100 km)</th>\n",
       "      <th>Fuel Consumption Comb (mpg)</th>\n",
       "      <th>CO2 Emissions(g/km)</th>\n",
       "      <th>Country</th>\n",
       "      <th>Continent</th>\n",
       "    </tr>\n",
       "  </thead>\n",
       "  <tbody>\n",
       "    <tr>\n",
       "      <th>6267</th>\n",
       "      <td>GENESIS</td>\n",
       "      <td>G80 AWD</td>\n",
       "      <td>FULL-SIZE</td>\n",
       "      <td>5.0</td>\n",
       "      <td>8.0</td>\n",
       "      <td>AS8</td>\n",
       "      <td>premium gasoline</td>\n",
       "      <td>15.6</td>\n",
       "      <td>10.4</td>\n",
       "      <td>13.2</td>\n",
       "      <td>21.0</td>\n",
       "      <td>312.0</td>\n",
       "      <td>USA</td>\n",
       "      <td>America</td>\n",
       "    </tr>\n",
       "    <tr>\n",
       "      <th>6268</th>\n",
       "      <td>GENESIS</td>\n",
       "      <td>G70</td>\n",
       "      <td>COMPACT</td>\n",
       "      <td>2.0</td>\n",
       "      <td>4.0</td>\n",
       "      <td>M6</td>\n",
       "      <td>premium gasoline</td>\n",
       "      <td>12.8</td>\n",
       "      <td>8.5</td>\n",
       "      <td>10.9</td>\n",
       "      <td>26.0</td>\n",
       "      <td>255.0</td>\n",
       "      <td>USA</td>\n",
       "      <td>America</td>\n",
       "    </tr>\n",
       "    <tr>\n",
       "      <th>6269</th>\n",
       "      <td>GENESIS</td>\n",
       "      <td>G70 AWD</td>\n",
       "      <td>COMPACT</td>\n",
       "      <td>2.0</td>\n",
       "      <td>4.0</td>\n",
       "      <td>AS8</td>\n",
       "      <td>premium gasoline</td>\n",
       "      <td>11.5</td>\n",
       "      <td>8.7</td>\n",
       "      <td>10.3</td>\n",
       "      <td>27.0</td>\n",
       "      <td>241.0</td>\n",
       "      <td>USA</td>\n",
       "      <td>America</td>\n",
       "    </tr>\n",
       "    <tr>\n",
       "      <th>6270</th>\n",
       "      <td>GENESIS</td>\n",
       "      <td>G70 AWD</td>\n",
       "      <td>COMPACT</td>\n",
       "      <td>3.3</td>\n",
       "      <td>6.0</td>\n",
       "      <td>AS8</td>\n",
       "      <td>premium gasoline</td>\n",
       "      <td>13.3</td>\n",
       "      <td>9.5</td>\n",
       "      <td>11.6</td>\n",
       "      <td>24.0</td>\n",
       "      <td>274.0</td>\n",
       "      <td>USA</td>\n",
       "      <td>America</td>\n",
       "    </tr>\n",
       "    <tr>\n",
       "      <th>6271</th>\n",
       "      <td>GENESIS</td>\n",
       "      <td>G70 AWD</td>\n",
       "      <td>COMPACT</td>\n",
       "      <td>2.0</td>\n",
       "      <td>4.0</td>\n",
       "      <td>AS8</td>\n",
       "      <td>premium gasoline</td>\n",
       "      <td>11.4</td>\n",
       "      <td>8.6</td>\n",
       "      <td>10.2</td>\n",
       "      <td>28.0</td>\n",
       "      <td>238.0</td>\n",
       "      <td>USA</td>\n",
       "      <td>America</td>\n",
       "    </tr>\n",
       "    <tr>\n",
       "      <th>6272</th>\n",
       "      <td>GENESIS</td>\n",
       "      <td>G70 AWD</td>\n",
       "      <td>COMPACT</td>\n",
       "      <td>3.3</td>\n",
       "      <td>6.0</td>\n",
       "      <td>AS8</td>\n",
       "      <td>premium gasoline</td>\n",
       "      <td>14.1</td>\n",
       "      <td>9.5</td>\n",
       "      <td>12.0</td>\n",
       "      <td>24.0</td>\n",
       "      <td>284.0</td>\n",
       "      <td>USA</td>\n",
       "      <td>America</td>\n",
       "    </tr>\n",
       "    <tr>\n",
       "      <th>6273</th>\n",
       "      <td>GENESIS</td>\n",
       "      <td>G90 AWD</td>\n",
       "      <td>FULL-SIZE</td>\n",
       "      <td>3.3</td>\n",
       "      <td>6.0</td>\n",
       "      <td>AS8</td>\n",
       "      <td>premium gasoline</td>\n",
       "      <td>13.6</td>\n",
       "      <td>9.5</td>\n",
       "      <td>11.8</td>\n",
       "      <td>24.0</td>\n",
       "      <td>280.0</td>\n",
       "      <td>USA</td>\n",
       "      <td>America</td>\n",
       "    </tr>\n",
       "    <tr>\n",
       "      <th>6274</th>\n",
       "      <td>GENESIS</td>\n",
       "      <td>G90 AWD</td>\n",
       "      <td>FULL-SIZE</td>\n",
       "      <td>5.0</td>\n",
       "      <td>8.0</td>\n",
       "      <td>AS8</td>\n",
       "      <td>premium gasoline</td>\n",
       "      <td>15.4</td>\n",
       "      <td>10.2</td>\n",
       "      <td>13.1</td>\n",
       "      <td>22.0</td>\n",
       "      <td>311.0</td>\n",
       "      <td>USA</td>\n",
       "      <td>America</td>\n",
       "    </tr>\n",
       "    <tr>\n",
       "      <th>6275</th>\n",
       "      <td>BUGATTI</td>\n",
       "      <td>CHIRON</td>\n",
       "      <td>TWO-SEATER</td>\n",
       "      <td>8.0</td>\n",
       "      <td>16.0</td>\n",
       "      <td>AM7</td>\n",
       "      <td>premium gasoline</td>\n",
       "      <td>26.8</td>\n",
       "      <td>16.6</td>\n",
       "      <td>22.2</td>\n",
       "      <td>13.0</td>\n",
       "      <td>522.0</td>\n",
       "      <td>Italy</td>\n",
       "      <td>Europe</td>\n",
       "    </tr>\n",
       "    <tr>\n",
       "      <th>6276</th>\n",
       "      <td>BUGATTI</td>\n",
       "      <td>Chiron</td>\n",
       "      <td>TWO-SEATER</td>\n",
       "      <td>8.0</td>\n",
       "      <td>16.0</td>\n",
       "      <td>AM7</td>\n",
       "      <td>premium gasoline</td>\n",
       "      <td>26.8</td>\n",
       "      <td>16.6</td>\n",
       "      <td>22.2</td>\n",
       "      <td>13.0</td>\n",
       "      <td>522.0</td>\n",
       "      <td>Italy</td>\n",
       "      <td>Europe</td>\n",
       "    </tr>\n",
       "  </tbody>\n",
       "</table>\n",
       "</div>"
      ],
      "text/plain": [
       "         Make    Model Vehicle Class Engine Size(L)  Cylinders Transmission  \\\n",
       "6267  GENESIS  G80 AWD     FULL-SIZE            5.0        8.0          AS8   \n",
       "6268  GENESIS      G70       COMPACT            2.0        4.0           M6   \n",
       "6269  GENESIS  G70 AWD       COMPACT            2.0        4.0          AS8   \n",
       "6270  GENESIS  G70 AWD       COMPACT            3.3        6.0          AS8   \n",
       "6271  GENESIS  G70 AWD       COMPACT            2.0        4.0          AS8   \n",
       "6272  GENESIS  G70 AWD       COMPACT            3.3        6.0          AS8   \n",
       "6273  GENESIS  G90 AWD     FULL-SIZE            3.3        6.0          AS8   \n",
       "6274  GENESIS  G90 AWD     FULL-SIZE            5.0        8.0          AS8   \n",
       "6275  BUGATTI   CHIRON    TWO-SEATER            8.0       16.0          AM7   \n",
       "6276  BUGATTI   Chiron    TWO-SEATER            8.0       16.0          AM7   \n",
       "\n",
       "             Fuel Type  Fuel Consumption City (L/100 km)  \\\n",
       "6267  premium gasoline                              15.6   \n",
       "6268  premium gasoline                              12.8   \n",
       "6269  premium gasoline                              11.5   \n",
       "6270  premium gasoline                              13.3   \n",
       "6271  premium gasoline                              11.4   \n",
       "6272  premium gasoline                              14.1   \n",
       "6273  premium gasoline                              13.6   \n",
       "6274  premium gasoline                              15.4   \n",
       "6275  premium gasoline                              26.8   \n",
       "6276  premium gasoline                              26.8   \n",
       "\n",
       "      Fuel Consumption Hwy (L/100 km)  Fuel Consumption Comb (L/100 km)  \\\n",
       "6267                             10.4                              13.2   \n",
       "6268                              8.5                              10.9   \n",
       "6269                              8.7                              10.3   \n",
       "6270                              9.5                              11.6   \n",
       "6271                              8.6                              10.2   \n",
       "6272                              9.5                              12.0   \n",
       "6273                              9.5                              11.8   \n",
       "6274                             10.2                              13.1   \n",
       "6275                             16.6                              22.2   \n",
       "6276                             16.6                              22.2   \n",
       "\n",
       "      Fuel Consumption Comb (mpg)  CO2 Emissions(g/km) Country Continent  \n",
       "6267                         21.0                312.0     USA   America  \n",
       "6268                         26.0                255.0     USA   America  \n",
       "6269                         27.0                241.0     USA   America  \n",
       "6270                         24.0                274.0     USA   America  \n",
       "6271                         28.0                238.0     USA   America  \n",
       "6272                         24.0                284.0     USA   America  \n",
       "6273                         24.0                280.0     USA   America  \n",
       "6274                         22.0                311.0     USA   America  \n",
       "6275                         13.0                522.0   Italy    Europe  \n",
       "6276                         13.0                522.0   Italy    Europe  "
      ]
     },
     "execution_count": 5,
     "metadata": {},
     "output_type": "execute_result"
    }
   ],
   "source": [
    "data_combined.tail(10)"
   ]
  },
  {
   "cell_type": "markdown",
   "id": "201b6276",
   "metadata": {
    "cell_id": "00005-de253c9a-9e73-4192-a578-b3437d134f58",
    "deepnote_cell_height": 327.0333251953125,
    "deepnote_cell_type": "markdown"
   },
   "source": [
    "c) Muestre todos los nombres de las columnas del conjunto de datos."
   ]
  },
  {
   "cell_type": "code",
   "execution_count": 6,
   "id": "d47d6de2",
   "metadata": {},
   "outputs": [
    {
     "data": {
      "text/plain": [
       "Index(['Make', 'Model', 'Vehicle Class', 'Engine Size(L)', 'Cylinders',\n",
       "       'Transmission', 'Fuel Type', 'Fuel Consumption City (L/100 km)',\n",
       "       'Fuel Consumption Hwy (L/100 km)', 'Fuel Consumption Comb (L/100 km)',\n",
       "       'Fuel Consumption Comb (mpg)', 'CO2 Emissions(g/km)', 'Country',\n",
       "       'Continent'],\n",
       "      dtype='object')"
      ]
     },
     "execution_count": 6,
     "metadata": {},
     "output_type": "execute_result"
    }
   ],
   "source": [
    "data_combined.keys()"
   ]
  },
  {
   "cell_type": "markdown",
   "id": "d01b1643",
   "metadata": {
    "cell_id": "00005-de253c9a-9e73-4192-a578-b3437d134f58",
    "deepnote_cell_height": 327.0333251953125,
    "deepnote_cell_type": "markdown"
   },
   "source": [
    "d) Cuente el número de columnas y el número de filas.  "
   ]
  },
  {
   "cell_type": "code",
   "execution_count": 7,
   "id": "07806d76",
   "metadata": {},
   "outputs": [
    {
     "data": {
      "text/plain": [
       "(6277, 14)"
      ]
     },
     "execution_count": 7,
     "metadata": {},
     "output_type": "execute_result"
    }
   ],
   "source": [
    "data_combined.shape"
   ]
  },
  {
   "cell_type": "markdown",
   "id": "2d27a43c",
   "metadata": {
    "cell_id": "00005-de253c9a-9e73-4192-a578-b3437d134f58",
    "deepnote_cell_height": 327.0333251953125,
    "deepnote_cell_type": "markdown"
   },
   "source": [
    "e) Reemplace todos los valores de columna que contengan \"?\" o valores vacíos con valores NaN."
   ]
  },
  {
   "cell_type": "code",
   "execution_count": 8,
   "id": "c25f918a",
   "metadata": {
    "scrolled": true
   },
   "outputs": [],
   "source": [
    "data_combined = data_combined.replace(to_replace={'?':'NaN',' ':'NaN'})"
   ]
  },
  {
   "cell_type": "markdown",
   "id": "a558da3d",
   "metadata": {
    "cell_id": "00005-de253c9a-9e73-4192-a578-b3437d134f58",
    "deepnote_cell_height": 327.0333251953125,
    "deepnote_cell_type": "markdown"
   },
   "source": [
    "f) Cuente las entradas de valores NaN y elimine las filas con NaN."
   ]
  },
  {
   "cell_type": "code",
   "execution_count": 9,
   "id": "287caa81",
   "metadata": {},
   "outputs": [
    {
     "name": "stdout",
     "output_type": "stream",
     "text": [
      " Se botan 3 filas\n"
     ]
    }
   ],
   "source": [
    "mask1 = data_combined[data_combined == 'NaN'].any(axis=1)\n",
    "rows_to_drop = data_combined[mask1]\n",
    "\n",
    "print(\" Se botan %d filas\" %len(rows_to_drop)) "
   ]
  },
  {
   "cell_type": "code",
   "execution_count": 10,
   "id": "8077493b",
   "metadata": {},
   "outputs": [],
   "source": [
    "data_sin_NaN = data_combined.drop(rows_to_drop.index.values,axis=0) #botando filas con NaN"
   ]
  },
  {
   "cell_type": "markdown",
   "id": "virgin-seating",
   "metadata": {
    "cell_id": "00005-de253c9a-9e73-4192-a578-b3437d134f58",
    "deepnote_cell_height": 327.0333251953125,
    "deepnote_cell_type": "markdown"
   },
   "source": [
    "g) Cuente las filas repetidas y elimínelas."
   ]
  },
  {
   "cell_type": "code",
   "execution_count": 11,
   "id": "eb087504",
   "metadata": {
    "scrolled": true
   },
   "outputs": [
    {
     "data": {
      "text/html": [
       "<div>\n",
       "<style scoped>\n",
       "    .dataframe tbody tr th:only-of-type {\n",
       "        vertical-align: middle;\n",
       "    }\n",
       "\n",
       "    .dataframe tbody tr th {\n",
       "        vertical-align: top;\n",
       "    }\n",
       "\n",
       "    .dataframe thead th {\n",
       "        text-align: right;\n",
       "    }\n",
       "</style>\n",
       "<table border=\"1\" class=\"dataframe\">\n",
       "  <thead>\n",
       "    <tr style=\"text-align: right;\">\n",
       "      <th></th>\n",
       "      <th>Make</th>\n",
       "      <th>Model</th>\n",
       "      <th>Vehicle Class</th>\n",
       "      <th>Engine Size(L)</th>\n",
       "      <th>Cylinders</th>\n",
       "      <th>Transmission</th>\n",
       "      <th>Fuel Type</th>\n",
       "      <th>Fuel Consumption City (L/100 km)</th>\n",
       "      <th>Fuel Consumption Hwy (L/100 km)</th>\n",
       "      <th>Fuel Consumption Comb (L/100 km)</th>\n",
       "      <th>Fuel Consumption Comb (mpg)</th>\n",
       "      <th>CO2 Emissions(g/km)</th>\n",
       "      <th>Country</th>\n",
       "      <th>Continent</th>\n",
       "    </tr>\n",
       "  </thead>\n",
       "  <tbody>\n",
       "  </tbody>\n",
       "</table>\n",
       "</div>"
      ],
      "text/plain": [
       "Empty DataFrame\n",
       "Columns: [Make, Model, Vehicle Class, Engine Size(L), Cylinders, Transmission, Fuel Type, Fuel Consumption City (L/100 km), Fuel Consumption Hwy (L/100 km), Fuel Consumption Comb (L/100 km), Fuel Consumption Comb (mpg), CO2 Emissions(g/km), Country, Continent]\n",
       "Index: []"
      ]
     },
     "execution_count": 11,
     "metadata": {},
     "output_type": "execute_result"
    }
   ],
   "source": [
    "mask2 = data_sin_NaN.duplicated()\n",
    "\n",
    "data_sin_NaN[mask2]"
   ]
  },
  {
   "cell_type": "markdown",
   "id": "c2c4d070",
   "metadata": {},
   "source": [
    "No hay filas repetidas"
   ]
  },
  {
   "cell_type": "markdown",
   "id": "0552513b",
   "metadata": {
    "cell_id": "00006-292a7ef0-2cba-47eb-8a2d-c42a65a366d9",
    "deepnote_cell_height": 293.433349609375,
    "deepnote_cell_type": "markdown"
   },
   "source": [
    "## 2. Adición y cambio de las características \n",
    "\n",
    "a) Cambie los nombres de la gasolina ('Fuel Type') a nombres más significativos (X = gasolina regular, Z = gasolina premium, D = diesel, E = etanol (E85), N = gas natural)."
   ]
  },
  {
   "cell_type": "code",
   "execution_count": 12,
   "id": "fadd2c44",
   "metadata": {},
   "outputs": [],
   "source": [
    "data = data_sin_NaN "
   ]
  },
  {
   "cell_type": "code",
   "execution_count": 13,
   "id": "b8b1a766",
   "metadata": {},
   "outputs": [],
   "source": [
    "data = data.replace(to_replace={'premium gasoline':'Z','regular gasoline':'X', 'diesel':'D', 'ethanol':'E','natural gas':'N'})"
   ]
  },
  {
   "cell_type": "markdown",
   "id": "5703ab97",
   "metadata": {
    "cell_id": "00006-292a7ef0-2cba-47eb-8a2d-c42a65a366d9",
    "deepnote_cell_height": 293.433349609375,
    "deepnote_cell_type": "markdown"
   },
   "source": [
    "b) Cree una nueva columna llamada 'Automatic / Manual' donde solo aparecerán valores de cadenas: A y M (extraiga dichos valores de la columna 'Transmission')."
   ]
  },
  {
   "cell_type": "code",
   "execution_count": 14,
   "id": "a48b533c",
   "metadata": {},
   "outputs": [],
   "source": [
    "import re"
   ]
  },
  {
   "cell_type": "code",
   "execution_count": 15,
   "id": "22aff98a",
   "metadata": {},
   "outputs": [],
   "source": [
    "AM = []\n",
    "for i in data['Transmission']:\n",
    "    AM.append(re.findall(r'\\b[A-Z]',i)[0])"
   ]
  },
  {
   "cell_type": "code",
   "execution_count": 16,
   "id": "389945ac",
   "metadata": {},
   "outputs": [],
   "source": [
    "data['Automatic/Manual'] = AM"
   ]
  },
  {
   "cell_type": "markdown",
   "id": "direct-organ",
   "metadata": {
    "cell_id": "00006-292a7ef0-2cba-47eb-8a2d-c42a65a366d9",
    "deepnote_cell_height": 293.433349609375,
    "deepnote_cell_type": "markdown"
   },
   "source": [
    "c) Cree una nueva columna llamada ' A / M digital' donde solo aparecerán valores numéricos: 1 / 0. Los valores enteros 1 y 0 serán valores correspondientes al carro con transmision automática o manual (tener una columna con el valor digital de la transmisión puede ser útil al realizar la regresión, porque la regresión usando scikit-learn funciona solo con valores numéricos)."
   ]
  },
  {
   "cell_type": "code",
   "execution_count": 17,
   "id": "9082e2c1",
   "metadata": {},
   "outputs": [
    {
     "data": {
      "text/html": [
       "<div>\n",
       "<style scoped>\n",
       "    .dataframe tbody tr th:only-of-type {\n",
       "        vertical-align: middle;\n",
       "    }\n",
       "\n",
       "    .dataframe tbody tr th {\n",
       "        vertical-align: top;\n",
       "    }\n",
       "\n",
       "    .dataframe thead th {\n",
       "        text-align: right;\n",
       "    }\n",
       "</style>\n",
       "<table border=\"1\" class=\"dataframe\">\n",
       "  <thead>\n",
       "    <tr style=\"text-align: right;\">\n",
       "      <th></th>\n",
       "      <th>Make</th>\n",
       "      <th>Model</th>\n",
       "      <th>Vehicle Class</th>\n",
       "      <th>Engine Size(L)</th>\n",
       "      <th>Cylinders</th>\n",
       "      <th>Transmission</th>\n",
       "      <th>Fuel Type</th>\n",
       "      <th>Fuel Consumption City (L/100 km)</th>\n",
       "      <th>Fuel Consumption Hwy (L/100 km)</th>\n",
       "      <th>Fuel Consumption Comb (L/100 km)</th>\n",
       "      <th>Fuel Consumption Comb (mpg)</th>\n",
       "      <th>CO2 Emissions(g/km)</th>\n",
       "      <th>Country</th>\n",
       "      <th>Continent</th>\n",
       "      <th>Automatic/Manual</th>\n",
       "      <th>A/M digital</th>\n",
       "    </tr>\n",
       "  </thead>\n",
       "  <tbody>\n",
       "    <tr>\n",
       "      <th>0</th>\n",
       "      <td>ACURA</td>\n",
       "      <td>ILX</td>\n",
       "      <td>COMPACT</td>\n",
       "      <td>2.0</td>\n",
       "      <td>4.0</td>\n",
       "      <td>AS5</td>\n",
       "      <td>Z</td>\n",
       "      <td>9.9</td>\n",
       "      <td>6.7</td>\n",
       "      <td>8.5</td>\n",
       "      <td>33.0</td>\n",
       "      <td>196.0</td>\n",
       "      <td>USA</td>\n",
       "      <td>America</td>\n",
       "      <td>A</td>\n",
       "      <td>1</td>\n",
       "    </tr>\n",
       "    <tr>\n",
       "      <th>1</th>\n",
       "      <td>ACURA</td>\n",
       "      <td>ILX</td>\n",
       "      <td>COMPACT</td>\n",
       "      <td>2.4</td>\n",
       "      <td>4.0</td>\n",
       "      <td>M6</td>\n",
       "      <td>Z</td>\n",
       "      <td>11.2</td>\n",
       "      <td>7.7</td>\n",
       "      <td>9.6</td>\n",
       "      <td>29.0</td>\n",
       "      <td>221.0</td>\n",
       "      <td>USA</td>\n",
       "      <td>America</td>\n",
       "      <td>M</td>\n",
       "      <td>0</td>\n",
       "    </tr>\n",
       "    <tr>\n",
       "      <th>2</th>\n",
       "      <td>ACURA</td>\n",
       "      <td>ILX HYBRID</td>\n",
       "      <td>COMPACT</td>\n",
       "      <td>1.5</td>\n",
       "      <td>4.0</td>\n",
       "      <td>AV7</td>\n",
       "      <td>Z</td>\n",
       "      <td>6.0</td>\n",
       "      <td>5.8</td>\n",
       "      <td>5.9</td>\n",
       "      <td>48.0</td>\n",
       "      <td>136.0</td>\n",
       "      <td>USA</td>\n",
       "      <td>America</td>\n",
       "      <td>A</td>\n",
       "      <td>1</td>\n",
       "    </tr>\n",
       "    <tr>\n",
       "      <th>3</th>\n",
       "      <td>ACURA</td>\n",
       "      <td>MDX 4WD</td>\n",
       "      <td>SUV - SMALL</td>\n",
       "      <td>3.5</td>\n",
       "      <td>6.0</td>\n",
       "      <td>AS6</td>\n",
       "      <td>Z</td>\n",
       "      <td>12.7</td>\n",
       "      <td>9.1</td>\n",
       "      <td>11.1</td>\n",
       "      <td>25.0</td>\n",
       "      <td>255.0</td>\n",
       "      <td>USA</td>\n",
       "      <td>America</td>\n",
       "      <td>A</td>\n",
       "      <td>1</td>\n",
       "    </tr>\n",
       "    <tr>\n",
       "      <th>4</th>\n",
       "      <td>ACURA</td>\n",
       "      <td>RDX AWD</td>\n",
       "      <td>SUV - SMALL</td>\n",
       "      <td>3.5</td>\n",
       "      <td>6.0</td>\n",
       "      <td>AS6</td>\n",
       "      <td>Z</td>\n",
       "      <td>12.1</td>\n",
       "      <td>8.7</td>\n",
       "      <td>10.6</td>\n",
       "      <td>27.0</td>\n",
       "      <td>244.0</td>\n",
       "      <td>USA</td>\n",
       "      <td>America</td>\n",
       "      <td>A</td>\n",
       "      <td>1</td>\n",
       "    </tr>\n",
       "    <tr>\n",
       "      <th>...</th>\n",
       "      <td>...</td>\n",
       "      <td>...</td>\n",
       "      <td>...</td>\n",
       "      <td>...</td>\n",
       "      <td>...</td>\n",
       "      <td>...</td>\n",
       "      <td>...</td>\n",
       "      <td>...</td>\n",
       "      <td>...</td>\n",
       "      <td>...</td>\n",
       "      <td>...</td>\n",
       "      <td>...</td>\n",
       "      <td>...</td>\n",
       "      <td>...</td>\n",
       "      <td>...</td>\n",
       "      <td>...</td>\n",
       "    </tr>\n",
       "    <tr>\n",
       "      <th>6272</th>\n",
       "      <td>GENESIS</td>\n",
       "      <td>G70 AWD</td>\n",
       "      <td>COMPACT</td>\n",
       "      <td>3.3</td>\n",
       "      <td>6.0</td>\n",
       "      <td>AS8</td>\n",
       "      <td>Z</td>\n",
       "      <td>14.1</td>\n",
       "      <td>9.5</td>\n",
       "      <td>12.0</td>\n",
       "      <td>24.0</td>\n",
       "      <td>284.0</td>\n",
       "      <td>USA</td>\n",
       "      <td>America</td>\n",
       "      <td>A</td>\n",
       "      <td>1</td>\n",
       "    </tr>\n",
       "    <tr>\n",
       "      <th>6273</th>\n",
       "      <td>GENESIS</td>\n",
       "      <td>G90 AWD</td>\n",
       "      <td>FULL-SIZE</td>\n",
       "      <td>3.3</td>\n",
       "      <td>6.0</td>\n",
       "      <td>AS8</td>\n",
       "      <td>Z</td>\n",
       "      <td>13.6</td>\n",
       "      <td>9.5</td>\n",
       "      <td>11.8</td>\n",
       "      <td>24.0</td>\n",
       "      <td>280.0</td>\n",
       "      <td>USA</td>\n",
       "      <td>America</td>\n",
       "      <td>A</td>\n",
       "      <td>1</td>\n",
       "    </tr>\n",
       "    <tr>\n",
       "      <th>6274</th>\n",
       "      <td>GENESIS</td>\n",
       "      <td>G90 AWD</td>\n",
       "      <td>FULL-SIZE</td>\n",
       "      <td>5.0</td>\n",
       "      <td>8.0</td>\n",
       "      <td>AS8</td>\n",
       "      <td>Z</td>\n",
       "      <td>15.4</td>\n",
       "      <td>10.2</td>\n",
       "      <td>13.1</td>\n",
       "      <td>22.0</td>\n",
       "      <td>311.0</td>\n",
       "      <td>USA</td>\n",
       "      <td>America</td>\n",
       "      <td>A</td>\n",
       "      <td>1</td>\n",
       "    </tr>\n",
       "    <tr>\n",
       "      <th>6275</th>\n",
       "      <td>BUGATTI</td>\n",
       "      <td>CHIRON</td>\n",
       "      <td>TWO-SEATER</td>\n",
       "      <td>8.0</td>\n",
       "      <td>16.0</td>\n",
       "      <td>AM7</td>\n",
       "      <td>Z</td>\n",
       "      <td>26.8</td>\n",
       "      <td>16.6</td>\n",
       "      <td>22.2</td>\n",
       "      <td>13.0</td>\n",
       "      <td>522.0</td>\n",
       "      <td>Italy</td>\n",
       "      <td>Europe</td>\n",
       "      <td>A</td>\n",
       "      <td>1</td>\n",
       "    </tr>\n",
       "    <tr>\n",
       "      <th>6276</th>\n",
       "      <td>BUGATTI</td>\n",
       "      <td>Chiron</td>\n",
       "      <td>TWO-SEATER</td>\n",
       "      <td>8.0</td>\n",
       "      <td>16.0</td>\n",
       "      <td>AM7</td>\n",
       "      <td>Z</td>\n",
       "      <td>26.8</td>\n",
       "      <td>16.6</td>\n",
       "      <td>22.2</td>\n",
       "      <td>13.0</td>\n",
       "      <td>522.0</td>\n",
       "      <td>Italy</td>\n",
       "      <td>Europe</td>\n",
       "      <td>A</td>\n",
       "      <td>1</td>\n",
       "    </tr>\n",
       "  </tbody>\n",
       "</table>\n",
       "<p>6274 rows × 16 columns</p>\n",
       "</div>"
      ],
      "text/plain": [
       "         Make       Model Vehicle Class Engine Size(L)  Cylinders  \\\n",
       "0       ACURA         ILX       COMPACT            2.0        4.0   \n",
       "1       ACURA         ILX       COMPACT            2.4        4.0   \n",
       "2       ACURA  ILX HYBRID       COMPACT            1.5        4.0   \n",
       "3       ACURA     MDX 4WD   SUV - SMALL            3.5        6.0   \n",
       "4       ACURA     RDX AWD   SUV - SMALL            3.5        6.0   \n",
       "...       ...         ...           ...            ...        ...   \n",
       "6272  GENESIS     G70 AWD       COMPACT            3.3        6.0   \n",
       "6273  GENESIS     G90 AWD     FULL-SIZE            3.3        6.0   \n",
       "6274  GENESIS     G90 AWD     FULL-SIZE            5.0        8.0   \n",
       "6275  BUGATTI      CHIRON    TWO-SEATER            8.0       16.0   \n",
       "6276  BUGATTI      Chiron    TWO-SEATER            8.0       16.0   \n",
       "\n",
       "     Transmission Fuel Type  Fuel Consumption City (L/100 km)  \\\n",
       "0             AS5         Z                               9.9   \n",
       "1              M6         Z                              11.2   \n",
       "2             AV7         Z                               6.0   \n",
       "3             AS6         Z                              12.7   \n",
       "4             AS6         Z                              12.1   \n",
       "...           ...       ...                               ...   \n",
       "6272          AS8         Z                              14.1   \n",
       "6273          AS8         Z                              13.6   \n",
       "6274          AS8         Z                              15.4   \n",
       "6275          AM7         Z                              26.8   \n",
       "6276          AM7         Z                              26.8   \n",
       "\n",
       "      Fuel Consumption Hwy (L/100 km)  Fuel Consumption Comb (L/100 km)  \\\n",
       "0                                 6.7                               8.5   \n",
       "1                                 7.7                               9.6   \n",
       "2                                 5.8                               5.9   \n",
       "3                                 9.1                              11.1   \n",
       "4                                 8.7                              10.6   \n",
       "...                               ...                               ...   \n",
       "6272                              9.5                              12.0   \n",
       "6273                              9.5                              11.8   \n",
       "6274                             10.2                              13.1   \n",
       "6275                             16.6                              22.2   \n",
       "6276                             16.6                              22.2   \n",
       "\n",
       "      Fuel Consumption Comb (mpg)  CO2 Emissions(g/km) Country Continent  \\\n",
       "0                            33.0                196.0     USA   America   \n",
       "1                            29.0                221.0     USA   America   \n",
       "2                            48.0                136.0     USA   America   \n",
       "3                            25.0                255.0     USA   America   \n",
       "4                            27.0                244.0     USA   America   \n",
       "...                           ...                  ...     ...       ...   \n",
       "6272                         24.0                284.0     USA   America   \n",
       "6273                         24.0                280.0     USA   America   \n",
       "6274                         22.0                311.0     USA   America   \n",
       "6275                         13.0                522.0   Italy    Europe   \n",
       "6276                         13.0                522.0   Italy    Europe   \n",
       "\n",
       "     Automatic/Manual  A/M digital  \n",
       "0                   A            1  \n",
       "1                   M            0  \n",
       "2                   A            1  \n",
       "3                   A            1  \n",
       "4                   A            1  \n",
       "...               ...          ...  \n",
       "6272                A            1  \n",
       "6273                A            1  \n",
       "6274                A            1  \n",
       "6275                A            1  \n",
       "6276                A            1  \n",
       "\n",
       "[6274 rows x 16 columns]"
      ]
     },
     "execution_count": 17,
     "metadata": {},
     "output_type": "execute_result"
    }
   ],
   "source": [
    "data['A/M digital'] = data['Automatic/Manual'].replace(to_replace={'A':1,'M':0})\n",
    "data"
   ]
  },
  {
   "cell_type": "markdown",
   "id": "e6cc275d",
   "metadata": {
    "cell_id": "00007-6f44023b-4806-48a2-bcef-e5dbbd63114d",
    "deepnote_cell_height": 327.0333251953125,
    "deepnote_cell_type": "markdown",
    "owner_user_id": "10217cb7-e807-45af-be75-488a79b03a41"
   },
   "source": [
    "## 3. Extracción de información\n",
    "\n",
    "a) Cuente cuántas marcas de automóviles (\"Make\") están en el conjunto de datos.   "
   ]
  },
  {
   "cell_type": "code",
   "execution_count": 18,
   "id": "e400e43a",
   "metadata": {},
   "outputs": [
    {
     "data": {
      "text/plain": [
       "42"
      ]
     },
     "execution_count": 18,
     "metadata": {},
     "output_type": "execute_result"
    }
   ],
   "source": [
    "len(data.groupby('Make'))"
   ]
  },
  {
   "cell_type": "markdown",
   "id": "f43fb9da",
   "metadata": {
    "cell_id": "00007-6f44023b-4806-48a2-bcef-e5dbbd63114d",
    "deepnote_cell_height": 327.0333251953125,
    "deepnote_cell_type": "markdown",
    "owner_user_id": "10217cb7-e807-45af-be75-488a79b03a41"
   },
   "source": [
    "b) Cuente el total de carros por marca y muestre las primeras diez marcas más comunes.  "
   ]
  },
  {
   "cell_type": "code",
   "execution_count": 19,
   "id": "09219564",
   "metadata": {},
   "outputs": [],
   "source": [
    "cars_by_brand = data.groupby('Make')['Make'].count()"
   ]
  },
  {
   "cell_type": "code",
   "execution_count": 20,
   "id": "6eee40d5",
   "metadata": {},
   "outputs": [
    {
     "data": {
      "text/plain": [
       "Make\n",
       "FORD             577\n",
       "CHEVROLET        515\n",
       "BMW              499\n",
       "MERCEDES-BENZ    364\n",
       "PORSCHE          296\n",
       "GMC              289\n",
       "TOYOTA           276\n",
       "AUDI             262\n",
       "NISSAN           213\n",
       "JEEP             200\n",
       "Name: Make, dtype: int64"
      ]
     },
     "execution_count": 20,
     "metadata": {},
     "output_type": "execute_result"
    }
   ],
   "source": [
    "cars_by_brand.nlargest(10)"
   ]
  },
  {
   "cell_type": "markdown",
   "id": "b7ed257f",
   "metadata": {
    "cell_id": "00007-6f44023b-4806-48a2-bcef-e5dbbd63114d",
    "deepnote_cell_height": 327.0333251953125,
    "deepnote_cell_type": "markdown",
    "owner_user_id": "10217cb7-e807-45af-be75-488a79b03a41"
   },
   "source": [
    "c) Cuente el total de carros por marca y muestre las primeras diez marcas menos comunes.  "
   ]
  },
  {
   "cell_type": "code",
   "execution_count": 21,
   "id": "871bd174",
   "metadata": {},
   "outputs": [
    {
     "data": {
      "text/plain": [
       "Make\n",
       "BUGATTI          2\n",
       "SRT              2\n",
       "SMART            8\n",
       "GENESIS         14\n",
       "ALFA ROMEO      19\n",
       "SCION           21\n",
       "BENTLEY         35\n",
       "LAMBORGHINI     37\n",
       "ASTON MARTIN    39\n",
       "ROLLS-ROYCE     48\n",
       "Name: Make, dtype: int64"
      ]
     },
     "execution_count": 21,
     "metadata": {},
     "output_type": "execute_result"
    }
   ],
   "source": [
    "cars_by_brand.nsmallest(10)"
   ]
  },
  {
   "cell_type": "markdown",
   "id": "390d8260",
   "metadata": {
    "cell_id": "00007-6f44023b-4806-48a2-bcef-e5dbbd63114d",
    "deepnote_cell_height": 327.0333251953125,
    "deepnote_cell_type": "markdown",
    "owner_user_id": "10217cb7-e807-45af-be75-488a79b03a41"
   },
   "source": [
    "d) Muestre la fila entera para un coche con la menor emisión de CO2.  "
   ]
  },
  {
   "cell_type": "code",
   "execution_count": 22,
   "id": "fa9a26d6",
   "metadata": {},
   "outputs": [
    {
     "data": {
      "text/html": [
       "<div>\n",
       "<style scoped>\n",
       "    .dataframe tbody tr th:only-of-type {\n",
       "        vertical-align: middle;\n",
       "    }\n",
       "\n",
       "    .dataframe tbody tr th {\n",
       "        vertical-align: top;\n",
       "    }\n",
       "\n",
       "    .dataframe thead th {\n",
       "        text-align: right;\n",
       "    }\n",
       "</style>\n",
       "<table border=\"1\" class=\"dataframe\">\n",
       "  <thead>\n",
       "    <tr style=\"text-align: right;\">\n",
       "      <th></th>\n",
       "      <th>Make</th>\n",
       "      <th>Model</th>\n",
       "      <th>Vehicle Class</th>\n",
       "      <th>Engine Size(L)</th>\n",
       "      <th>Cylinders</th>\n",
       "      <th>Transmission</th>\n",
       "      <th>Fuel Type</th>\n",
       "      <th>Fuel Consumption City (L/100 km)</th>\n",
       "      <th>Fuel Consumption Hwy (L/100 km)</th>\n",
       "      <th>Fuel Consumption Comb (L/100 km)</th>\n",
       "      <th>Fuel Consumption Comb (mpg)</th>\n",
       "      <th>CO2 Emissions(g/km)</th>\n",
       "      <th>Country</th>\n",
       "      <th>Continent</th>\n",
       "      <th>Automatic/Manual</th>\n",
       "      <th>A/M digital</th>\n",
       "    </tr>\n",
       "  </thead>\n",
       "  <tbody>\n",
       "    <tr>\n",
       "      <th>3078</th>\n",
       "      <td>HYUNDAI</td>\n",
       "      <td>IONIQ BLUE</td>\n",
       "      <td>FULL-SIZE</td>\n",
       "      <td>1.6</td>\n",
       "      <td>4.0</td>\n",
       "      <td>AM6</td>\n",
       "      <td>X</td>\n",
       "      <td>4.2</td>\n",
       "      <td>4.0</td>\n",
       "      <td>4.1</td>\n",
       "      <td>69.0</td>\n",
       "      <td>96.0</td>\n",
       "      <td>Korea</td>\n",
       "      <td>Asia</td>\n",
       "      <td>A</td>\n",
       "      <td>1</td>\n",
       "    </tr>\n",
       "  </tbody>\n",
       "</table>\n",
       "</div>"
      ],
      "text/plain": [
       "         Make       Model Vehicle Class Engine Size(L)  Cylinders  \\\n",
       "3078  HYUNDAI  IONIQ BLUE     FULL-SIZE            1.6        4.0   \n",
       "\n",
       "     Transmission Fuel Type  Fuel Consumption City (L/100 km)  \\\n",
       "3078          AM6         X                               4.2   \n",
       "\n",
       "      Fuel Consumption Hwy (L/100 km)  Fuel Consumption Comb (L/100 km)  \\\n",
       "3078                              4.0                               4.1   \n",
       "\n",
       "      Fuel Consumption Comb (mpg)  CO2 Emissions(g/km) Country Continent  \\\n",
       "3078                         69.0                 96.0   Korea      Asia   \n",
       "\n",
       "     Automatic/Manual  A/M digital  \n",
       "3078                A            1  "
      ]
     },
     "execution_count": 22,
     "metadata": {},
     "output_type": "execute_result"
    }
   ],
   "source": [
    "data.nsmallest(1,columns='CO2 Emissions(g/km)')"
   ]
  },
  {
   "cell_type": "markdown",
   "id": "e1bdbc3d",
   "metadata": {
    "cell_id": "00007-6f44023b-4806-48a2-bcef-e5dbbd63114d",
    "deepnote_cell_height": 327.0333251953125,
    "deepnote_cell_type": "markdown",
    "owner_user_id": "10217cb7-e807-45af-be75-488a79b03a41"
   },
   "source": [
    "e) Muestre la fila entera para un coche con la mayor emisión de CO2.  "
   ]
  },
  {
   "cell_type": "code",
   "execution_count": 23,
   "id": "050936f7",
   "metadata": {},
   "outputs": [
    {
     "data": {
      "text/html": [
       "<div>\n",
       "<style scoped>\n",
       "    .dataframe tbody tr th:only-of-type {\n",
       "        vertical-align: middle;\n",
       "    }\n",
       "\n",
       "    .dataframe tbody tr th {\n",
       "        vertical-align: top;\n",
       "    }\n",
       "\n",
       "    .dataframe thead th {\n",
       "        text-align: right;\n",
       "    }\n",
       "</style>\n",
       "<table border=\"1\" class=\"dataframe\">\n",
       "  <thead>\n",
       "    <tr style=\"text-align: right;\">\n",
       "      <th></th>\n",
       "      <th>Make</th>\n",
       "      <th>Model</th>\n",
       "      <th>Vehicle Class</th>\n",
       "      <th>Engine Size(L)</th>\n",
       "      <th>Cylinders</th>\n",
       "      <th>Transmission</th>\n",
       "      <th>Fuel Type</th>\n",
       "      <th>Fuel Consumption City (L/100 km)</th>\n",
       "      <th>Fuel Consumption Hwy (L/100 km)</th>\n",
       "      <th>Fuel Consumption Comb (L/100 km)</th>\n",
       "      <th>Fuel Consumption Comb (mpg)</th>\n",
       "      <th>CO2 Emissions(g/km)</th>\n",
       "      <th>Country</th>\n",
       "      <th>Continent</th>\n",
       "      <th>Automatic/Manual</th>\n",
       "      <th>A/M digital</th>\n",
       "    </tr>\n",
       "  </thead>\n",
       "  <tbody>\n",
       "    <tr>\n",
       "      <th>6275</th>\n",
       "      <td>BUGATTI</td>\n",
       "      <td>CHIRON</td>\n",
       "      <td>TWO-SEATER</td>\n",
       "      <td>8.0</td>\n",
       "      <td>16.0</td>\n",
       "      <td>AM7</td>\n",
       "      <td>Z</td>\n",
       "      <td>26.8</td>\n",
       "      <td>16.6</td>\n",
       "      <td>22.2</td>\n",
       "      <td>13.0</td>\n",
       "      <td>522.0</td>\n",
       "      <td>Italy</td>\n",
       "      <td>Europe</td>\n",
       "      <td>A</td>\n",
       "      <td>1</td>\n",
       "    </tr>\n",
       "  </tbody>\n",
       "</table>\n",
       "</div>"
      ],
      "text/plain": [
       "         Make   Model Vehicle Class Engine Size(L)  Cylinders Transmission  \\\n",
       "6275  BUGATTI  CHIRON    TWO-SEATER            8.0       16.0          AM7   \n",
       "\n",
       "     Fuel Type  Fuel Consumption City (L/100 km)  \\\n",
       "6275         Z                              26.8   \n",
       "\n",
       "      Fuel Consumption Hwy (L/100 km)  Fuel Consumption Comb (L/100 km)  \\\n",
       "6275                             16.6                              22.2   \n",
       "\n",
       "      Fuel Consumption Comb (mpg)  CO2 Emissions(g/km) Country Continent  \\\n",
       "6275                         13.0                522.0   Italy    Europe   \n",
       "\n",
       "     Automatic/Manual  A/M digital  \n",
       "6275                A            1  "
      ]
     },
     "execution_count": 23,
     "metadata": {},
     "output_type": "execute_result"
    }
   ],
   "source": [
    "data.nlargest(1,columns='CO2 Emissions(g/km)')"
   ]
  },
  {
   "cell_type": "markdown",
   "id": "57bbc1da",
   "metadata": {
    "cell_id": "00007-6f44023b-4806-48a2-bcef-e5dbbd63114d",
    "deepnote_cell_height": 327.0333251953125,
    "deepnote_cell_type": "markdown",
    "owner_user_id": "10217cb7-e807-45af-be75-488a79b03a41"
   },
   "source": [
    "f) Encuentre la emisión media de C02 por marca.  "
   ]
  },
  {
   "cell_type": "code",
   "execution_count": 24,
   "id": "212e8be1",
   "metadata": {},
   "outputs": [
    {
     "data": {
      "text/plain": [
       "Make\n",
       "ACURA            221.260000\n",
       "ALFA ROMEO       231.315789\n",
       "ASTON MARTIN     344.282051\n",
       "AUDI             252.522901\n",
       "BENTLEY          367.914286\n",
       "BMW              252.601202\n",
       "BUGATTI          522.000000\n",
       "BUICK            233.750000\n",
       "CADILLAC         266.366906\n",
       "CHEVROLET        264.477670\n",
       "CHRYSLER         244.046875\n",
       "DODGE            277.088889\n",
       "FIAT             192.285714\n",
       "FORD             261.285962\n",
       "GENESIS          282.571429\n",
       "GMC              300.529412\n",
       "HONDA            191.262195\n",
       "HYUNDAI          208.316940\n",
       "INFINITI         254.011494\n",
       "JAGUAR           272.743590\n",
       "JEEP             250.795000\n",
       "KIA              213.796875\n",
       "LAMBORGHINI      402.270270\n",
       "LAND ROVER       288.078947\n",
       "LEXUS            242.124031\n",
       "LINCOLN          265.814815\n",
       "MASERATI         318.134615\n",
       "MAZDA            192.755906\n",
       "MERCEDES-BENZ    278.623626\n",
       "MINI             196.570000\n",
       "MITSUBISHI       200.095890\n",
       "NISSAN           237.375587\n",
       "PORSCHE          259.192568\n",
       "RAM              294.180556\n",
       "ROLLS-ROYCE      388.750000\n",
       "SCION            200.809524\n",
       "SMART            152.125000\n",
       "SRT              389.000000\n",
       "SUBARU           218.117647\n",
       "TOYOTA           223.931159\n",
       "VOLKSWAGEN       209.844920\n",
       "VOLVO            229.949153\n",
       "Name: CO2 Emissions(g/km), dtype: float64"
      ]
     },
     "execution_count": 24,
     "metadata": {},
     "output_type": "execute_result"
    }
   ],
   "source": [
    "brand_mean_emission = data.groupby('Make')['CO2 Emissions(g/km)'].mean()\n",
    "brand_mean_emission"
   ]
  },
  {
   "cell_type": "markdown",
   "id": "visible-nickname",
   "metadata": {
    "cell_id": "00007-6f44023b-4806-48a2-bcef-e5dbbd63114d",
    "deepnote_cell_height": 327.0333251953125,
    "deepnote_cell_type": "markdown",
    "owner_user_id": "10217cb7-e807-45af-be75-488a79b03a41"
   },
   "source": [
    "g) Encuentre la emisión media de C02 por continente.  "
   ]
  },
  {
   "cell_type": "code",
   "execution_count": 25,
   "id": "8f086c02",
   "metadata": {},
   "outputs": [
    {
     "data": {
      "text/plain": [
       "Continent\n",
       "America    266.135902\n",
       "Asia       216.030728\n",
       "Europe     258.243478\n",
       "Name: CO2 Emissions(g/km), dtype: float64"
      ]
     },
     "execution_count": 25,
     "metadata": {},
     "output_type": "execute_result"
    }
   ],
   "source": [
    "continent_mean_emission = data.groupby('Continent')['CO2 Emissions(g/km)'].mean()\n",
    "continent_mean_emission"
   ]
  },
  {
   "cell_type": "markdown",
   "id": "0bd3c76d",
   "metadata": {
    "cell_id": "00008-2c5e3a5e-c203-4565-8e49-310479fd606f",
    "deepnote_cell_height": 380.23333740234375,
    "deepnote_cell_type": "markdown"
   },
   "source": [
    "## 4. Trazado\n",
    "a) Realice un 'boxplot' (diagrama de caja) comparando la emisión de los carros por continentes: América, Europa, Asia (añadir línea media para comparación).   "
   ]
  },
  {
   "cell_type": "code",
   "execution_count": 26,
   "id": "71e55103",
   "metadata": {
    "scrolled": true
   },
   "outputs": [
    {
     "data": {
      "text/plain": [
       "<AxesSubplot:title={'center':'CO2 Emissions(g/km)'}, xlabel='[Continent]'>"
      ]
     },
     "execution_count": 26,
     "metadata": {},
     "output_type": "execute_result"
    },
    {
     "data": {
      "image/png": "[encoded data removed]",
      "text/plain": [
       "<Figure size 576x360 with 1 Axes>"
      ]
     },
     "metadata": {
      "needs_background": "light"
     },
     "output_type": "display_data"
    }
   ],
   "source": [
    "data.boxplot(column='CO2 Emissions(g/km)',by = ['Continent'],figsize =(8,5))"
   ]
  },
  {
   "cell_type": "markdown",
   "id": "c74a6bd0",
   "metadata": {
    "cell_id": "00008-2c5e3a5e-c203-4565-8e49-310479fd606f",
    "deepnote_cell_height": 380.23333740234375,
    "deepnote_cell_type": "markdown"
   },
   "source": [
    "b) Realice  un 'boxplot' (diagrama de caja) comparando la emisión de los carros por transmisión (dos grupos: manual y automática. Añadir línea media para comparación).  "
   ]
  },
  {
   "cell_type": "code",
   "execution_count": 27,
   "id": "1d2f2fe8",
   "metadata": {},
   "outputs": [
    {
     "data": {
      "text/plain": [
       "<AxesSubplot:title={'center':'CO2 Emissions(g/km)'}, xlabel='[Automatic/Manual]'>"
      ]
     },
     "execution_count": 27,
     "metadata": {},
     "output_type": "execute_result"
    },
    {
     "data": {
      "image/png": "[encoded data removed]",
      "text/plain": [
       "<Figure size 576x360 with 1 Axes>"
      ]
     },
     "metadata": {
      "needs_background": "light"
     },
     "output_type": "display_data"
    }
   ],
   "source": [
    "data.boxplot(column='CO2 Emissions(g/km)', by = ['Automatic/Manual'],figsize =(8,5))"
   ]
  },
  {
   "cell_type": "markdown",
   "id": "15595722",
   "metadata": {
    "cell_id": "00008-2c5e3a5e-c203-4565-8e49-310479fd606f",
    "deepnote_cell_height": 380.23333740234375,
    "deepnote_cell_type": "markdown"
   },
   "source": [
    "c) Realice un 'boxplot' (diagrama de caja) comparando la emisión de los carros por tipo de combustible (añadir línea media para comparación).  "
   ]
  },
  {
   "cell_type": "code",
   "execution_count": 28,
   "id": "bc492600",
   "metadata": {},
   "outputs": [
    {
     "data": {
      "text/plain": [
       "<AxesSubplot:title={'center':'CO2 Emissions(g/km)'}, xlabel='[Fuel Type]'>"
      ]
     },
     "execution_count": 28,
     "metadata": {},
     "output_type": "execute_result"
    },
    {
     "data": {
      "image/png": "[encoded data removed]",
      "text/plain": [
       "<Figure size 576x360 with 1 Axes>"
      ]
     },
     "metadata": {
      "needs_background": "light"
     },
     "output_type": "display_data"
    }
   ],
   "source": [
    "data.boxplot(column='CO2 Emissions(g/km)',by = ['Fuel Type'],figsize =(8,5))"
   ]
  },
  {
   "cell_type": "markdown",
   "id": "704fa40f",
   "metadata": {
    "cell_id": "00008-2c5e3a5e-c203-4565-8e49-310479fd606f",
    "deepnote_cell_height": 380.23333740234375,
    "deepnote_cell_type": "markdown"
   },
   "source": [
    "d) Realice  un 'countplot' de conteo de automóviles con transmisión manual y automática (solo dos grupos). "
   ]
  },
  {
   "cell_type": "code",
   "execution_count": 29,
   "id": "1f483a38",
   "metadata": {},
   "outputs": [
    {
     "data": {
      "text/plain": [
       "<AxesSubplot:xlabel='A/M digital'>"
      ]
     },
     "execution_count": 29,
     "metadata": {},
     "output_type": "execute_result"
    },
    {
     "data": {
      "image/png": "[encoded data removed]",
      "text/plain": [
       "<Figure size 432x288 with 1 Axes>"
      ]
     },
     "metadata": {
      "needs_background": "light"
     },
     "output_type": "display_data"
    }
   ],
   "source": [
    "data.value_counts('A/M digital').plot(kind = 'bar')"
   ]
  },
  {
   "cell_type": "markdown",
   "id": "268695b6",
   "metadata": {
    "cell_id": "00008-2c5e3a5e-c203-4565-8e49-310479fd606f",
    "deepnote_cell_height": 380.23333740234375,
    "deepnote_cell_type": "markdown"
   },
   "source": [
    "e) Realice un 'barplot' de una emisión promedio de CO2 por marca de automóvil (de menor a mayor). "
   ]
  },
  {
   "cell_type": "code",
   "execution_count": 30,
   "id": "56648454",
   "metadata": {},
   "outputs": [
    {
     "data": {
      "text/plain": [
       "<AxesSubplot:xlabel='Make'>"
      ]
     },
     "execution_count": 30,
     "metadata": {},
     "output_type": "execute_result"
    },
    {
     "data": {
      "image/png": "[encoded data removed]",
      "text/plain": [
       "<Figure size 720x360 with 1 Axes>"
      ]
     },
     "metadata": {
      "needs_background": "light"
     },
     "output_type": "display_data"
    }
   ],
   "source": [
    "brand_mean_emission.sort_values().plot.bar(figsize=(10,5))"
   ]
  },
  {
   "cell_type": "markdown",
   "id": "systematic-junior",
   "metadata": {
    "cell_id": "00008-2c5e3a5e-c203-4565-8e49-310479fd606f",
    "deepnote_cell_height": 380.23333740234375,
    "deepnote_cell_type": "markdown"
   },
   "source": [
    "f) Ordene el conjunto de datos por marca y emisión de CO2 y guárdelo en el archivo CSV (preferiblemente sin guardar el número de índice)."
   ]
  },
  {
   "cell_type": "code",
   "execution_count": 31,
   "id": "fa2bff40",
   "metadata": {},
   "outputs": [],
   "source": [
    "brand_mean_emission.sort_values().to_csv('Brand_CO2_Emission.csv', index=False)"
   ]
  },
  {
   "cell_type": "markdown",
   "id": "associate-jewel",
   "metadata": {
    "cell_id": "aa163fab5397453b857f6a68d2a5611f",
    "deepnote_cell_height": 380.23333740234375,
    "deepnote_cell_type": "markdown",
    "tags": []
   },
   "source": [
    "# Ejercicio II: utilice este gran conjunto de datos históricos sobre los Juegos Olímpicos modernos, incluidos todos los Juegos desde Atenas 1896 hasta Río 2016.\n",
    " \n",
    "https://raw.githubusercontent.com/mhemmg/datasets/master/sport/athlete_events.csv \n",
    "\n",
    "## 1. Mirando un deporte particular: remo - rowing, ver si la edad de las medallistas de oro femeninas está aumentando o disminuyendo a través de los tiempos. Realize un plot para muestrar la tendencia (si hay una)\n"
   ]
  },
  {
   "cell_type": "code",
   "execution_count": 32,
   "id": "d73af5aa",
   "metadata": {},
   "outputs": [
    {
     "data": {
      "text/html": [
       "<div>\n",
       "<style scoped>\n",
       "    .dataframe tbody tr th:only-of-type {\n",
       "        vertical-align: middle;\n",
       "    }\n",
       "\n",
       "    .dataframe tbody tr th {\n",
       "        vertical-align: top;\n",
       "    }\n",
       "\n",
       "    .dataframe thead th {\n",
       "        text-align: right;\n",
       "    }\n",
       "</style>\n",
       "<table border=\"1\" class=\"dataframe\">\n",
       "  <thead>\n",
       "    <tr style=\"text-align: right;\">\n",
       "      <th></th>\n",
       "      <th>ID</th>\n",
       "      <th>Name</th>\n",
       "      <th>Sex</th>\n",
       "      <th>Age</th>\n",
       "      <th>Height</th>\n",
       "      <th>Weight</th>\n",
       "      <th>Team</th>\n",
       "      <th>NOC</th>\n",
       "      <th>Games</th>\n",
       "      <th>Year</th>\n",
       "      <th>Season</th>\n",
       "      <th>City</th>\n",
       "      <th>Sport</th>\n",
       "      <th>Event</th>\n",
       "      <th>Medal</th>\n",
       "    </tr>\n",
       "  </thead>\n",
       "  <tbody>\n",
       "    <tr>\n",
       "      <th>0</th>\n",
       "      <td>1</td>\n",
       "      <td>A Dijiang</td>\n",
       "      <td>M</td>\n",
       "      <td>24.0</td>\n",
       "      <td>180.0</td>\n",
       "      <td>80.0</td>\n",
       "      <td>China</td>\n",
       "      <td>CHN</td>\n",
       "      <td>1992 Summer</td>\n",
       "      <td>1992</td>\n",
       "      <td>Summer</td>\n",
       "      <td>Barcelona</td>\n",
       "      <td>Basketball</td>\n",
       "      <td>Basketball Men's Basketball</td>\n",
       "      <td>NaN</td>\n",
       "    </tr>\n",
       "    <tr>\n",
       "      <th>1</th>\n",
       "      <td>2</td>\n",
       "      <td>A Lamusi</td>\n",
       "      <td>M</td>\n",
       "      <td>23.0</td>\n",
       "      <td>170.0</td>\n",
       "      <td>60.0</td>\n",
       "      <td>China</td>\n",
       "      <td>CHN</td>\n",
       "      <td>2012 Summer</td>\n",
       "      <td>2012</td>\n",
       "      <td>Summer</td>\n",
       "      <td>London</td>\n",
       "      <td>Judo</td>\n",
       "      <td>Judo Men's Extra-Lightweight</td>\n",
       "      <td>NaN</td>\n",
       "    </tr>\n",
       "  </tbody>\n",
       "</table>\n",
       "</div>"
      ],
      "text/plain": [
       "   ID       Name Sex   Age  Height  Weight   Team  NOC        Games  Year  \\\n",
       "0   1  A Dijiang   M  24.0   180.0    80.0  China  CHN  1992 Summer  1992   \n",
       "1   2   A Lamusi   M  23.0   170.0    60.0  China  CHN  2012 Summer  2012   \n",
       "\n",
       "   Season       City       Sport                         Event Medal  \n",
       "0  Summer  Barcelona  Basketball   Basketball Men's Basketball   NaN  \n",
       "1  Summer     London        Judo  Judo Men's Extra-Lightweight   NaN  "
      ]
     },
     "execution_count": 32,
     "metadata": {},
     "output_type": "execute_result"
    }
   ],
   "source": [
    "remo = pd.read_csv('athlete_events.csv')\n",
    "remo.head(2)"
   ]
  },
  {
   "cell_type": "code",
   "execution_count": 38,
   "id": "b19b627f",
   "metadata": {},
   "outputs": [
    {
     "data": {
      "text/plain": [
       "<AxesSubplot:xlabel='Year'>"
      ]
     },
     "execution_count": 38,
     "metadata": {},
     "output_type": "execute_result"
    },
    {
     "data": {
      "image/png": "[encoded data removed]",
      "text/plain": [
       "<Figure size 432x288 with 1 Axes>"
      ]
     },
     "metadata": {
      "needs_background": "light"
     },
     "output_type": "display_data"
    }
   ],
   "source": [
    "female_mean_age = remo[remo['Sex']=='F'].groupby('Year')['Age'].mean()\n",
    "female_mean_age.plot()"
   ]
  },
  {
   "cell_type": "markdown",
   "id": "1b58e140",
   "metadata": {},
   "source": [
    "Efectivamente la edad promedio de las mujeres en los olimpicos cae con el tiempo"
   ]
  },
  {
   "cell_type": "markdown",
   "id": "illegal-prototype",
   "metadata": {},
   "source": [
    "## 2. Sea creativo y extrae algunas informaciones interesantes de este conjunto."
   ]
  },
  {
   "cell_type": "markdown",
   "id": "5f86cf20",
   "metadata": {},
   "source": [
    "Extrayendo el número de mujeres por pais que han participado en los olímpicos comparado al número de hombres"
   ]
  },
  {
   "cell_type": "code",
   "execution_count": 45,
   "id": "b7dade53",
   "metadata": {},
   "outputs": [],
   "source": [
    "females_per_team = remo[remo['Sex']=='F'].groupby('Team')['Sex'].count()\n",
    "males_per_team   = remo[remo['Sex']=='M'].groupby('Team')['Sex'].count()"
   ]
  },
  {
   "cell_type": "code",
   "execution_count": 46,
   "id": "9486fda3",
   "metadata": {},
   "outputs": [],
   "source": [
    "dic = {'F':females_per_team,'M':males_per_team}\n",
    "dic_df = pd.DataFrame(dic)"
   ]
  },
  {
   "cell_type": "code",
   "execution_count": 60,
   "id": "0144b2bc",
   "metadata": {},
   "outputs": [
    {
     "data": {
      "text/plain": [
       "<AxesSubplot:xlabel='Team'>"
      ]
     },
     "execution_count": 60,
     "metadata": {},
     "output_type": "execute_result"
    },
    {
     "data": {
      "image/png": "[encoded data removed]",
      "text/plain": [
       "<Figure size 1080x360 with 1 Axes>"
      ]
     },
     "metadata": {
      "needs_background": "light"
     },
     "output_type": "display_data"
    }
   ],
   "source": [
    "dic_df.nlargest(n=90,columns='M').plot.bar(figsize=(15,5))"
   ]
  },
  {
   "cell_type": "markdown",
   "id": "7fa7dd49",
   "metadata": {},
   "source": [
    "La participacón femenina en la mayoría de los paises es mucho menor a la mitad de la participación masculina. Solo supera la mitad de la participación femenina."
   ]
  },
  {
   "cell_type": "code",
   "execution_count": null,
   "id": "135e3b6a",
   "metadata": {},
   "outputs": [],
   "source": []
  }
 ],
 "metadata": {
  "deepnote": {},
  "deepnote_execution_queue": [],
  "deepnote_notebook_id": "9ecd336a-a79d-4c92-a45c-a500d4928441",
  "kernelspec": {
   "display_name": "Python 3 (ipykernel)",
   "language": "python",
   "name": "python3"
  },
  "language_info": {
   "codemirror_mode": {
    "name": "ipython",
    "version": 3
   },
   "file_extension": ".py",
   "mimetype": "text/x-python",
   "name": "python",
   "nbconvert_exporter": "python",
   "pygments_lexer": "ipython3",
   "version": "3.10.4"
  }
 },
 "nbformat": 4,
 "nbformat_minor": 5
}
