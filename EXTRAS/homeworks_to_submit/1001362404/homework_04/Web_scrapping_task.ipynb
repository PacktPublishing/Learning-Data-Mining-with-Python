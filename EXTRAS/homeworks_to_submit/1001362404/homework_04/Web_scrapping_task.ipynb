{
 "cells": [
  {
   "cell_type": "code",
   "execution_count": 1,
   "id": "6cbead99",
   "metadata": {},
   "outputs": [],
   "source": [
    "from bs4 import BeautifulSoup\n",
    "import re\n",
    "from requests import get\n",
    "import time\n",
    "from pandas import DataFrame"
   ]
  },
  {
   "cell_type": "code",
   "execution_count": 2,
   "id": "feac7a19",
   "metadata": {},
   "outputs": [],
   "source": [
    "def extract_data(url_='https://books.toscrape.com/catalogue/page-1.html'):\n",
    "    page = get(url_)\n",
    "    soup = BeautifulSoup(page.content, 'html.parser')\n",
    "\n",
    "#using Regex:\n",
    "    #pattern = re.compile('(?i)<h3>.+title=\"(.+)\"')\n",
    "    #titles = re.findall(pattern, str(soup))\n",
    "    #pattern = re.compile('(?i)<p class=\"price_color\">£(.+)</p>')\n",
    "    #prices = re.findall(pattern, str(soup))\n",
    "    \n",
    "#Using BeautifulSoup:\n",
    "    Titles = [line.a[\"title\"] for line in soup.select('div h3')]\n",
    "    Prices = [line.text.strip()[1:] for line in soup.select('p.price_color')]\n",
    "    \n",
    "    return Titles, Prices\n"
   ]
  },
  {
   "cell_type": "code",
   "execution_count": 3,
   "id": "49e57962",
   "metadata": {},
   "outputs": [
    {
     "name": "stdout",
     "output_type": "stream",
     "text": [
      "CPU times: user 3.08 s, sys: 39 ms, total: 3.12 s\n",
      "Wall time: 1min 15s\n"
     ]
    }
   ],
   "source": [
    "%%time\n",
    "Titles, Prices = [[],[]]\n",
    "for page_number in range(1,50+1):\n",
    "    url = f'https://books.toscrape.com/catalogue/page-{page_number}.html'\n",
    "    titles, prices = extract_data(url)\n",
    "    Titles += titles\n",
    "    Prices += prices"
   ]
  },
  {
   "cell_type": "code",
   "execution_count": 4,
   "id": "e52d581a",
   "metadata": {},
   "outputs": [],
   "source": [
    "column_names = ['Title', 'Price(£)']\n",
    "dictionary = dict(zip(column_names, [Titles,Prices]))\n",
    "DataFrame(dictionary).to_csv('file.csv', index=False)"
   ]
  },
  {
   "cell_type": "code",
   "execution_count": null,
   "id": "15c50e17",
   "metadata": {},
   "outputs": [],
   "source": []
  }
 ],
 "metadata": {
  "kernelspec": {
   "display_name": "Python 3",
   "language": "python",
   "name": "python3"
  },
  "language_info": {
   "codemirror_mode": {
    "name": "ipython",
    "version": 3
   },
   "file_extension": ".py",
   "mimetype": "text/x-python",
   "name": "python",
   "nbconvert_exporter": "python",
   "pygments_lexer": "ipython3",
   "version": "3.7.2"
  }
 },
 "nbformat": 4,
 "nbformat_minor": 5
}
