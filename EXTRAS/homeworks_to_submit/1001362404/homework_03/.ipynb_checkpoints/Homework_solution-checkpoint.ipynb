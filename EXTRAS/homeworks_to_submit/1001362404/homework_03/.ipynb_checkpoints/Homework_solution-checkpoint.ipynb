{
 "cells": [
  {
   "cell_type": "markdown",
   "id": "06e832c0",
   "metadata": {},
   "source": [
    "# Homework 3: Exploratory analysis of data using Pandas Python library\n",
    "\n",
    "Elaborated by Joseph Nicolay Ruiz Alvarez¹ for Data mining course \n",
    "\n",
    "Teacher: Michal Hemmerling\n",
    "\n",
    "¹Institute of Physics of University of Antioquia, 2022"
   ]
  },
  {
   "cell_type": "code",
   "execution_count": 1,
   "id": "4aaea157",
   "metadata": {},
   "outputs": [
    {
     "data": {
      "text/html": [
       "<script>\n",
       "code_show=true; \n",
       "function code_toggle() {\n",
       " if (code_show){\n",
       " $('div.input').hide();\n",
       " } else {\n",
       " $('div.input').show();\n",
       " }\n",
       " code_show = !code_show\n",
       "} \n",
       "$( document ).ready(code_toggle);\n",
       "</script>\n",
       "<form action=\"javascript:code_toggle()\"><input type=\"submit\" value=\"Click here to toggle on/off the raw code.\"></form>"
      ],
      "text/plain": [
       "<IPython.core.display.HTML object>"
      ]
     },
     "execution_count": 1,
     "metadata": {},
     "output_type": "execute_result"
    }
   ],
   "source": [
    "import pandas as pd\n",
    "import numpy as np\n",
    "import seaborn as sns\n",
    "import matplotlib.pyplot as plt\n",
    "import time\n",
    "from IPython.display import HTML\n",
    "\n",
    "HTML('''<script>\n",
    "code_show=true; \n",
    "function code_toggle() {\n",
    " if (code_show){\n",
    " $('div.input').hide();\n",
    " } else {\n",
    " $('div.input').show();\n",
    " }\n",
    " code_show = !code_show\n",
    "} \n",
    "$( document ).ready(code_toggle);\n",
    "</script>\n",
    "<form action=\"javascript:code_toggle()\"><input type=\"submit\" value=\"Click here to toggle on/off the raw code.\"></form>''')"
   ]
  },
  {
   "cell_type": "markdown",
   "id": "e1a7f442",
   "metadata": {},
   "source": [
    "# Exercise: CO2 Emissions "
   ]
  },
  {
   "cell_type": "markdown",
   "id": "5ed6ecf3",
   "metadata": {},
   "source": [
    "Let's load the datasets as follow"
   ]
  },
  {
   "cell_type": "code",
   "execution_count": 2,
   "id": "e84d1dcc",
   "metadata": {},
   "outputs": [],
   "source": [
    "data_1 = pd.read_csv('https://raw.githubusercontent.com/mhemmg/datasets/master/car_emission/cars_CO2_emissions_D.csv', sep=',')\n",
    "data_2 = pd.read_csv('https://raw.githubusercontent.com/mhemmg/datasets/master/car_emission/car_brands_countries.csv', sep=',')"
   ]
  },
  {
   "cell_type": "code",
   "execution_count": 3,
   "id": "d5e71947",
   "metadata": {},
   "outputs": [
    {
     "name": "stdout",
     "output_type": "stream",
     "text": [
      "for first data: Index(['Make', 'Model', 'Vehicle Class', 'Engine Size(L)', 'Cylinders',\n",
      "       'Transmission', 'Fuel Type', 'Fuel Consumption City (L/100 km)',\n",
      "       'Fuel Consumption Hwy (L/100 km)', 'Fuel Consumption Comb (L/100 km)',\n",
      "       'Fuel Consumption Comb (mpg)', 'CO2 Emissions(g/km)'],\n",
      "      dtype='object') \n",
      "\n",
      "for second data: Index(['Make', 'Country', 'Continent'], dtype='object')\n"
     ]
    }
   ],
   "source": [
    "print(f'for first data: {data_1.columns}',\n",
    "      f'\\n\\nfor second data: {data_2.columns}')"
   ]
  },
  {
   "cell_type": "markdown",
   "id": "dd173d30",
   "metadata": {},
   "source": [
    "## 1. Loading and cleaning of data\n",
    "\n",
    "### a) Merge the datasets"
   ]
  },
  {
   "cell_type": "markdown",
   "id": "7ccdc5d4",
   "metadata": {},
   "source": [
    "So, we have a number of car brands equal to"
   ]
  },
  {
   "cell_type": "code",
   "execution_count": 4,
   "id": "e559d2d8",
   "metadata": {},
   "outputs": [
    {
     "data": {
      "text/plain": [
       "42"
      ]
     },
     "execution_count": 4,
     "metadata": {},
     "output_type": "execute_result"
    }
   ],
   "source": [
    "data_2.Make.unique().shape[0]"
   ]
  },
  {
   "cell_type": "markdown",
   "id": "81a526b5",
   "metadata": {},
   "source": [
    "from a number of different countries equal to"
   ]
  },
  {
   "cell_type": "code",
   "execution_count": 5,
   "id": "7793602a",
   "metadata": {},
   "outputs": [
    {
     "data": {
      "text/plain": [
       "7"
      ]
     },
     "execution_count": 5,
     "metadata": {},
     "output_type": "execute_result"
    }
   ],
   "source": [
    "data_2.Country.unique().shape[0]"
   ]
  },
  {
   "cell_type": "code",
   "execution_count": 6,
   "id": "f172c644",
   "metadata": {},
   "outputs": [],
   "source": [
    "data_CO2_emission = pd.merge(data_1, data_2)"
   ]
  },
  {
   "cell_type": "markdown",
   "id": "017b66c2",
   "metadata": {},
   "source": [
    "### b) print the ten first and last rows of data"
   ]
  },
  {
   "cell_type": "code",
   "execution_count": 7,
   "id": "19a52a56",
   "metadata": {},
   "outputs": [
    {
     "data": {
      "text/html": [
       "<div>\n",
       "<style scoped>\n",
       "    .dataframe tbody tr th:only-of-type {\n",
       "        vertical-align: middle;\n",
       "    }\n",
       "\n",
       "    .dataframe tbody tr th {\n",
       "        vertical-align: top;\n",
       "    }\n",
       "\n",
       "    .dataframe thead th {\n",
       "        text-align: right;\n",
       "    }\n",
       "</style>\n",
       "<table border=\"1\" class=\"dataframe\">\n",
       "  <thead>\n",
       "    <tr style=\"text-align: right;\">\n",
       "      <th></th>\n",
       "      <th>Make</th>\n",
       "      <th>Model</th>\n",
       "      <th>Vehicle Class</th>\n",
       "      <th>Engine Size(L)</th>\n",
       "      <th>Cylinders</th>\n",
       "      <th>Transmission</th>\n",
       "      <th>Fuel Type</th>\n",
       "      <th>Fuel Consumption City (L/100 km)</th>\n",
       "      <th>Fuel Consumption Hwy (L/100 km)</th>\n",
       "      <th>Fuel Consumption Comb (L/100 km)</th>\n",
       "      <th>Fuel Consumption Comb (mpg)</th>\n",
       "      <th>CO2 Emissions(g/km)</th>\n",
       "      <th>Country</th>\n",
       "      <th>Continent</th>\n",
       "    </tr>\n",
       "  </thead>\n",
       "  <tbody>\n",
       "    <tr>\n",
       "      <th>0</th>\n",
       "      <td>ACURA</td>\n",
       "      <td>ILX</td>\n",
       "      <td>COMPACT</td>\n",
       "      <td>2.0</td>\n",
       "      <td>4.0</td>\n",
       "      <td>AS5</td>\n",
       "      <td>premium gasoline</td>\n",
       "      <td>9.9</td>\n",
       "      <td>6.7</td>\n",
       "      <td>8.5</td>\n",
       "      <td>33.0</td>\n",
       "      <td>196.0</td>\n",
       "      <td>USA</td>\n",
       "      <td>America</td>\n",
       "    </tr>\n",
       "    <tr>\n",
       "      <th>1</th>\n",
       "      <td>ACURA</td>\n",
       "      <td>ILX</td>\n",
       "      <td>COMPACT</td>\n",
       "      <td>2.4</td>\n",
       "      <td>4.0</td>\n",
       "      <td>M6</td>\n",
       "      <td>premium gasoline</td>\n",
       "      <td>11.2</td>\n",
       "      <td>7.7</td>\n",
       "      <td>9.6</td>\n",
       "      <td>29.0</td>\n",
       "      <td>221.0</td>\n",
       "      <td>USA</td>\n",
       "      <td>America</td>\n",
       "    </tr>\n",
       "    <tr>\n",
       "      <th>2</th>\n",
       "      <td>ACURA</td>\n",
       "      <td>ILX HYBRID</td>\n",
       "      <td>COMPACT</td>\n",
       "      <td>1.5</td>\n",
       "      <td>4.0</td>\n",
       "      <td>AV7</td>\n",
       "      <td>premium gasoline</td>\n",
       "      <td>6.0</td>\n",
       "      <td>5.8</td>\n",
       "      <td>5.9</td>\n",
       "      <td>48.0</td>\n",
       "      <td>136.0</td>\n",
       "      <td>USA</td>\n",
       "      <td>America</td>\n",
       "    </tr>\n",
       "    <tr>\n",
       "      <th>3</th>\n",
       "      <td>ACURA</td>\n",
       "      <td>MDX 4WD</td>\n",
       "      <td>SUV - SMALL</td>\n",
       "      <td>3.5</td>\n",
       "      <td>6.0</td>\n",
       "      <td>AS6</td>\n",
       "      <td>premium gasoline</td>\n",
       "      <td>12.7</td>\n",
       "      <td>9.1</td>\n",
       "      <td>11.1</td>\n",
       "      <td>25.0</td>\n",
       "      <td>255.0</td>\n",
       "      <td>USA</td>\n",
       "      <td>America</td>\n",
       "    </tr>\n",
       "    <tr>\n",
       "      <th>4</th>\n",
       "      <td>ACURA</td>\n",
       "      <td>RDX AWD</td>\n",
       "      <td>SUV - SMALL</td>\n",
       "      <td>3.5</td>\n",
       "      <td>6.0</td>\n",
       "      <td>AS6</td>\n",
       "      <td>premium gasoline</td>\n",
       "      <td>12.1</td>\n",
       "      <td>8.7</td>\n",
       "      <td>10.6</td>\n",
       "      <td>27.0</td>\n",
       "      <td>244.0</td>\n",
       "      <td>USA</td>\n",
       "      <td>America</td>\n",
       "    </tr>\n",
       "    <tr>\n",
       "      <th>5</th>\n",
       "      <td>ACURA</td>\n",
       "      <td>RLX</td>\n",
       "      <td>MID-SIZE</td>\n",
       "      <td>3.5</td>\n",
       "      <td>6.0</td>\n",
       "      <td>AS6</td>\n",
       "      <td>premium gasoline</td>\n",
       "      <td>11.9</td>\n",
       "      <td>7.7</td>\n",
       "      <td>10.0</td>\n",
       "      <td>28.0</td>\n",
       "      <td>230.0</td>\n",
       "      <td>USA</td>\n",
       "      <td>America</td>\n",
       "    </tr>\n",
       "    <tr>\n",
       "      <th>6</th>\n",
       "      <td>ACURA</td>\n",
       "      <td>TL</td>\n",
       "      <td>MID-SIZE</td>\n",
       "      <td>3.5</td>\n",
       "      <td>6.0</td>\n",
       "      <td>AS6</td>\n",
       "      <td>premium gasoline</td>\n",
       "      <td>11.8</td>\n",
       "      <td>8.1</td>\n",
       "      <td>10.1</td>\n",
       "      <td>28.0</td>\n",
       "      <td>232.0</td>\n",
       "      <td>USA</td>\n",
       "      <td>America</td>\n",
       "    </tr>\n",
       "    <tr>\n",
       "      <th>7</th>\n",
       "      <td>ACURA</td>\n",
       "      <td>TL AWD</td>\n",
       "      <td>MID-SIZE</td>\n",
       "      <td>3.7</td>\n",
       "      <td>6.0</td>\n",
       "      <td>AS6</td>\n",
       "      <td>premium gasoline</td>\n",
       "      <td>12.8</td>\n",
       "      <td>9.0</td>\n",
       "      <td>11.1</td>\n",
       "      <td>25.0</td>\n",
       "      <td>255.0</td>\n",
       "      <td>USA</td>\n",
       "      <td>America</td>\n",
       "    </tr>\n",
       "    <tr>\n",
       "      <th>8</th>\n",
       "      <td>ACURA</td>\n",
       "      <td>TL AWD</td>\n",
       "      <td>MID-SIZE</td>\n",
       "      <td>3.7</td>\n",
       "      <td>6.0</td>\n",
       "      <td>M6</td>\n",
       "      <td>premium gasoline</td>\n",
       "      <td>13.4</td>\n",
       "      <td>9.5</td>\n",
       "      <td>11.6</td>\n",
       "      <td>24.0</td>\n",
       "      <td>267.0</td>\n",
       "      <td>USA</td>\n",
       "      <td>America</td>\n",
       "    </tr>\n",
       "    <tr>\n",
       "      <th>9</th>\n",
       "      <td>ACURA</td>\n",
       "      <td>TSX</td>\n",
       "      <td>COMPACT</td>\n",
       "      <td>2.4</td>\n",
       "      <td>4.0</td>\n",
       "      <td>AS5</td>\n",
       "      <td>premium gasoline</td>\n",
       "      <td>10.6</td>\n",
       "      <td>7.5</td>\n",
       "      <td>9.2</td>\n",
       "      <td>31.0</td>\n",
       "      <td>212.0</td>\n",
       "      <td>USA</td>\n",
       "      <td>America</td>\n",
       "    </tr>\n",
       "  </tbody>\n",
       "</table>\n",
       "</div>"
      ],
      "text/plain": [
       "    Make       Model Vehicle Class Engine Size(L)  Cylinders Transmission  \\\n",
       "0  ACURA         ILX       COMPACT            2.0        4.0          AS5   \n",
       "1  ACURA         ILX       COMPACT            2.4        4.0           M6   \n",
       "2  ACURA  ILX HYBRID       COMPACT            1.5        4.0          AV7   \n",
       "3  ACURA     MDX 4WD   SUV - SMALL            3.5        6.0          AS6   \n",
       "4  ACURA     RDX AWD   SUV - SMALL            3.5        6.0          AS6   \n",
       "5  ACURA         RLX      MID-SIZE            3.5        6.0          AS6   \n",
       "6  ACURA          TL      MID-SIZE            3.5        6.0          AS6   \n",
       "7  ACURA      TL AWD      MID-SIZE            3.7        6.0          AS6   \n",
       "8  ACURA      TL AWD      MID-SIZE            3.7        6.0           M6   \n",
       "9  ACURA         TSX       COMPACT            2.4        4.0          AS5   \n",
       "\n",
       "          Fuel Type  Fuel Consumption City (L/100 km)  \\\n",
       "0  premium gasoline                               9.9   \n",
       "1  premium gasoline                              11.2   \n",
       "2  premium gasoline                               6.0   \n",
       "3  premium gasoline                              12.7   \n",
       "4  premium gasoline                              12.1   \n",
       "5  premium gasoline                              11.9   \n",
       "6  premium gasoline                              11.8   \n",
       "7  premium gasoline                              12.8   \n",
       "8  premium gasoline                              13.4   \n",
       "9  premium gasoline                              10.6   \n",
       "\n",
       "   Fuel Consumption Hwy (L/100 km)  Fuel Consumption Comb (L/100 km)  \\\n",
       "0                              6.7                               8.5   \n",
       "1                              7.7                               9.6   \n",
       "2                              5.8                               5.9   \n",
       "3                              9.1                              11.1   \n",
       "4                              8.7                              10.6   \n",
       "5                              7.7                              10.0   \n",
       "6                              8.1                              10.1   \n",
       "7                              9.0                              11.1   \n",
       "8                              9.5                              11.6   \n",
       "9                              7.5                               9.2   \n",
       "\n",
       "   Fuel Consumption Comb (mpg)  CO2 Emissions(g/km) Country Continent  \n",
       "0                         33.0                196.0     USA   America  \n",
       "1                         29.0                221.0     USA   America  \n",
       "2                         48.0                136.0     USA   America  \n",
       "3                         25.0                255.0     USA   America  \n",
       "4                         27.0                244.0     USA   America  \n",
       "5                         28.0                230.0     USA   America  \n",
       "6                         28.0                232.0     USA   America  \n",
       "7                         25.0                255.0     USA   America  \n",
       "8                         24.0                267.0     USA   America  \n",
       "9                         31.0                212.0     USA   America  "
      ]
     },
     "execution_count": 7,
     "metadata": {},
     "output_type": "execute_result"
    }
   ],
   "source": [
    "data_CO2_emission.head(10)"
   ]
  },
  {
   "cell_type": "code",
   "execution_count": 8,
   "id": "10d0ea9b",
   "metadata": {},
   "outputs": [
    {
     "data": {
      "text/html": [
       "<div>\n",
       "<style scoped>\n",
       "    .dataframe tbody tr th:only-of-type {\n",
       "        vertical-align: middle;\n",
       "    }\n",
       "\n",
       "    .dataframe tbody tr th {\n",
       "        vertical-align: top;\n",
       "    }\n",
       "\n",
       "    .dataframe thead th {\n",
       "        text-align: right;\n",
       "    }\n",
       "</style>\n",
       "<table border=\"1\" class=\"dataframe\">\n",
       "  <thead>\n",
       "    <tr style=\"text-align: right;\">\n",
       "      <th></th>\n",
       "      <th>Make</th>\n",
       "      <th>Model</th>\n",
       "      <th>Vehicle Class</th>\n",
       "      <th>Engine Size(L)</th>\n",
       "      <th>Cylinders</th>\n",
       "      <th>Transmission</th>\n",
       "      <th>Fuel Type</th>\n",
       "      <th>Fuel Consumption City (L/100 km)</th>\n",
       "      <th>Fuel Consumption Hwy (L/100 km)</th>\n",
       "      <th>Fuel Consumption Comb (L/100 km)</th>\n",
       "      <th>Fuel Consumption Comb (mpg)</th>\n",
       "      <th>CO2 Emissions(g/km)</th>\n",
       "      <th>Country</th>\n",
       "      <th>Continent</th>\n",
       "    </tr>\n",
       "  </thead>\n",
       "  <tbody>\n",
       "    <tr>\n",
       "      <th>6267</th>\n",
       "      <td>GENESIS</td>\n",
       "      <td>G80 AWD</td>\n",
       "      <td>FULL-SIZE</td>\n",
       "      <td>5.0</td>\n",
       "      <td>8.0</td>\n",
       "      <td>AS8</td>\n",
       "      <td>premium gasoline</td>\n",
       "      <td>15.6</td>\n",
       "      <td>10.4</td>\n",
       "      <td>13.2</td>\n",
       "      <td>21.0</td>\n",
       "      <td>312.0</td>\n",
       "      <td>USA</td>\n",
       "      <td>America</td>\n",
       "    </tr>\n",
       "    <tr>\n",
       "      <th>6268</th>\n",
       "      <td>GENESIS</td>\n",
       "      <td>G70</td>\n",
       "      <td>COMPACT</td>\n",
       "      <td>2.0</td>\n",
       "      <td>4.0</td>\n",
       "      <td>M6</td>\n",
       "      <td>premium gasoline</td>\n",
       "      <td>12.8</td>\n",
       "      <td>8.5</td>\n",
       "      <td>10.9</td>\n",
       "      <td>26.0</td>\n",
       "      <td>255.0</td>\n",
       "      <td>USA</td>\n",
       "      <td>America</td>\n",
       "    </tr>\n",
       "    <tr>\n",
       "      <th>6269</th>\n",
       "      <td>GENESIS</td>\n",
       "      <td>G70 AWD</td>\n",
       "      <td>COMPACT</td>\n",
       "      <td>2.0</td>\n",
       "      <td>4.0</td>\n",
       "      <td>AS8</td>\n",
       "      <td>premium gasoline</td>\n",
       "      <td>11.5</td>\n",
       "      <td>8.7</td>\n",
       "      <td>10.3</td>\n",
       "      <td>27.0</td>\n",
       "      <td>241.0</td>\n",
       "      <td>USA</td>\n",
       "      <td>America</td>\n",
       "    </tr>\n",
       "    <tr>\n",
       "      <th>6270</th>\n",
       "      <td>GENESIS</td>\n",
       "      <td>G70 AWD</td>\n",
       "      <td>COMPACT</td>\n",
       "      <td>3.3</td>\n",
       "      <td>6.0</td>\n",
       "      <td>AS8</td>\n",
       "      <td>premium gasoline</td>\n",
       "      <td>13.3</td>\n",
       "      <td>9.5</td>\n",
       "      <td>11.6</td>\n",
       "      <td>24.0</td>\n",
       "      <td>274.0</td>\n",
       "      <td>USA</td>\n",
       "      <td>America</td>\n",
       "    </tr>\n",
       "    <tr>\n",
       "      <th>6271</th>\n",
       "      <td>GENESIS</td>\n",
       "      <td>G70 AWD</td>\n",
       "      <td>COMPACT</td>\n",
       "      <td>2.0</td>\n",
       "      <td>4.0</td>\n",
       "      <td>AS8</td>\n",
       "      <td>premium gasoline</td>\n",
       "      <td>11.4</td>\n",
       "      <td>8.6</td>\n",
       "      <td>10.2</td>\n",
       "      <td>28.0</td>\n",
       "      <td>238.0</td>\n",
       "      <td>USA</td>\n",
       "      <td>America</td>\n",
       "    </tr>\n",
       "    <tr>\n",
       "      <th>6272</th>\n",
       "      <td>GENESIS</td>\n",
       "      <td>G70 AWD</td>\n",
       "      <td>COMPACT</td>\n",
       "      <td>3.3</td>\n",
       "      <td>6.0</td>\n",
       "      <td>AS8</td>\n",
       "      <td>premium gasoline</td>\n",
       "      <td>14.1</td>\n",
       "      <td>9.5</td>\n",
       "      <td>12.0</td>\n",
       "      <td>24.0</td>\n",
       "      <td>284.0</td>\n",
       "      <td>USA</td>\n",
       "      <td>America</td>\n",
       "    </tr>\n",
       "    <tr>\n",
       "      <th>6273</th>\n",
       "      <td>GENESIS</td>\n",
       "      <td>G90 AWD</td>\n",
       "      <td>FULL-SIZE</td>\n",
       "      <td>3.3</td>\n",
       "      <td>6.0</td>\n",
       "      <td>AS8</td>\n",
       "      <td>premium gasoline</td>\n",
       "      <td>13.6</td>\n",
       "      <td>9.5</td>\n",
       "      <td>11.8</td>\n",
       "      <td>24.0</td>\n",
       "      <td>280.0</td>\n",
       "      <td>USA</td>\n",
       "      <td>America</td>\n",
       "    </tr>\n",
       "    <tr>\n",
       "      <th>6274</th>\n",
       "      <td>GENESIS</td>\n",
       "      <td>G90 AWD</td>\n",
       "      <td>FULL-SIZE</td>\n",
       "      <td>5.0</td>\n",
       "      <td>8.0</td>\n",
       "      <td>AS8</td>\n",
       "      <td>premium gasoline</td>\n",
       "      <td>15.4</td>\n",
       "      <td>10.2</td>\n",
       "      <td>13.1</td>\n",
       "      <td>22.0</td>\n",
       "      <td>311.0</td>\n",
       "      <td>USA</td>\n",
       "      <td>America</td>\n",
       "    </tr>\n",
       "    <tr>\n",
       "      <th>6275</th>\n",
       "      <td>BUGATTI</td>\n",
       "      <td>CHIRON</td>\n",
       "      <td>TWO-SEATER</td>\n",
       "      <td>8.0</td>\n",
       "      <td>16.0</td>\n",
       "      <td>AM7</td>\n",
       "      <td>premium gasoline</td>\n",
       "      <td>26.8</td>\n",
       "      <td>16.6</td>\n",
       "      <td>22.2</td>\n",
       "      <td>13.0</td>\n",
       "      <td>522.0</td>\n",
       "      <td>Italy</td>\n",
       "      <td>Europe</td>\n",
       "    </tr>\n",
       "    <tr>\n",
       "      <th>6276</th>\n",
       "      <td>BUGATTI</td>\n",
       "      <td>Chiron</td>\n",
       "      <td>TWO-SEATER</td>\n",
       "      <td>8.0</td>\n",
       "      <td>16.0</td>\n",
       "      <td>AM7</td>\n",
       "      <td>premium gasoline</td>\n",
       "      <td>26.8</td>\n",
       "      <td>16.6</td>\n",
       "      <td>22.2</td>\n",
       "      <td>13.0</td>\n",
       "      <td>522.0</td>\n",
       "      <td>Italy</td>\n",
       "      <td>Europe</td>\n",
       "    </tr>\n",
       "  </tbody>\n",
       "</table>\n",
       "</div>"
      ],
      "text/plain": [
       "         Make    Model Vehicle Class Engine Size(L)  Cylinders Transmission  \\\n",
       "6267  GENESIS  G80 AWD     FULL-SIZE            5.0        8.0          AS8   \n",
       "6268  GENESIS      G70       COMPACT            2.0        4.0           M6   \n",
       "6269  GENESIS  G70 AWD       COMPACT            2.0        4.0          AS8   \n",
       "6270  GENESIS  G70 AWD       COMPACT            3.3        6.0          AS8   \n",
       "6271  GENESIS  G70 AWD       COMPACT            2.0        4.0          AS8   \n",
       "6272  GENESIS  G70 AWD       COMPACT            3.3        6.0          AS8   \n",
       "6273  GENESIS  G90 AWD     FULL-SIZE            3.3        6.0          AS8   \n",
       "6274  GENESIS  G90 AWD     FULL-SIZE            5.0        8.0          AS8   \n",
       "6275  BUGATTI   CHIRON    TWO-SEATER            8.0       16.0          AM7   \n",
       "6276  BUGATTI   Chiron    TWO-SEATER            8.0       16.0          AM7   \n",
       "\n",
       "             Fuel Type  Fuel Consumption City (L/100 km)  \\\n",
       "6267  premium gasoline                              15.6   \n",
       "6268  premium gasoline                              12.8   \n",
       "6269  premium gasoline                              11.5   \n",
       "6270  premium gasoline                              13.3   \n",
       "6271  premium gasoline                              11.4   \n",
       "6272  premium gasoline                              14.1   \n",
       "6273  premium gasoline                              13.6   \n",
       "6274  premium gasoline                              15.4   \n",
       "6275  premium gasoline                              26.8   \n",
       "6276  premium gasoline                              26.8   \n",
       "\n",
       "      Fuel Consumption Hwy (L/100 km)  Fuel Consumption Comb (L/100 km)  \\\n",
       "6267                             10.4                              13.2   \n",
       "6268                              8.5                              10.9   \n",
       "6269                              8.7                              10.3   \n",
       "6270                              9.5                              11.6   \n",
       "6271                              8.6                              10.2   \n",
       "6272                              9.5                              12.0   \n",
       "6273                              9.5                              11.8   \n",
       "6274                             10.2                              13.1   \n",
       "6275                             16.6                              22.2   \n",
       "6276                             16.6                              22.2   \n",
       "\n",
       "      Fuel Consumption Comb (mpg)  CO2 Emissions(g/km) Country Continent  \n",
       "6267                         21.0                312.0     USA   America  \n",
       "6268                         26.0                255.0     USA   America  \n",
       "6269                         27.0                241.0     USA   America  \n",
       "6270                         24.0                274.0     USA   America  \n",
       "6271                         28.0                238.0     USA   America  \n",
       "6272                         24.0                284.0     USA   America  \n",
       "6273                         24.0                280.0     USA   America  \n",
       "6274                         22.0                311.0     USA   America  \n",
       "6275                         13.0                522.0   Italy    Europe  \n",
       "6276                         13.0                522.0   Italy    Europe  "
      ]
     },
     "execution_count": 8,
     "metadata": {},
     "output_type": "execute_result"
    }
   ],
   "source": [
    "data_CO2_emission.tail(10)"
   ]
  },
  {
   "cell_type": "markdown",
   "id": "0c15a3c0",
   "metadata": {},
   "source": [
    "### c) & d) Info of data frame "
   ]
  },
  {
   "cell_type": "code",
   "execution_count": 9,
   "id": "29a305bf",
   "metadata": {},
   "outputs": [
    {
     "name": "stdout",
     "output_type": "stream",
     "text": [
      "<class 'pandas.core.frame.DataFrame'>\n",
      "Int64Index: 6277 entries, 0 to 6276\n",
      "Data columns (total 14 columns):\n",
      " #   Column                            Non-Null Count  Dtype  \n",
      "---  ------                            --------------  -----  \n",
      " 0   Make                              6277 non-null   object \n",
      " 1   Model                             6277 non-null   object \n",
      " 2   Vehicle Class                     6277 non-null   object \n",
      " 3   Engine Size(L)                    6277 non-null   object \n",
      " 4   Cylinders                         6277 non-null   float64\n",
      " 5   Transmission                      6277 non-null   object \n",
      " 6   Fuel Type                         6277 non-null   object \n",
      " 7   Fuel Consumption City (L/100 km)  6276 non-null   float64\n",
      " 8   Fuel Consumption Hwy (L/100 km)   6275 non-null   float64\n",
      " 9   Fuel Consumption Comb (L/100 km)  6277 non-null   float64\n",
      " 10  Fuel Consumption Comb (mpg)       6277 non-null   float64\n",
      " 11  CO2 Emissions(g/km)               6277 non-null   float64\n",
      " 12  Country                           6277 non-null   object \n",
      " 13  Continent                         6277 non-null   object \n",
      "dtypes: float64(6), object(8)\n",
      "memory usage: 735.6+ KB\n"
     ]
    }
   ],
   "source": [
    "data_CO2_emission.info()"
   ]
  },
  {
   "cell_type": "markdown",
   "id": "7d43675c",
   "metadata": {},
   "source": [
    "### e) Filling blank spaces with Nan values"
   ]
  },
  {
   "cell_type": "code",
   "execution_count": 10,
   "id": "e3b4c6da",
   "metadata": {},
   "outputs": [],
   "source": [
    "data_CO2_emission =  data_CO2_emission.replace(r'(^\\s*|\\?)$', np.nan, regex=True)"
   ]
  },
  {
   "cell_type": "markdown",
   "id": "059041da",
   "metadata": {},
   "source": [
    "### f) Analyzing Nan values in data and eliminate them"
   ]
  },
  {
   "cell_type": "markdown",
   "id": "1bae95f5",
   "metadata": {},
   "source": [
    "We have a quantity of Nan values equal to:"
   ]
  },
  {
   "cell_type": "code",
   "execution_count": 11,
   "id": "96ffd78b",
   "metadata": {},
   "outputs": [
    {
     "data": {
      "text/plain": [
       "6"
      ]
     },
     "execution_count": 11,
     "metadata": {},
     "output_type": "execute_result"
    }
   ],
   "source": [
    "data_CO2_emission.isna().sum().sum()"
   ]
  },
  {
   "cell_type": "markdown",
   "id": "c59d85ee",
   "metadata": {},
   "source": [
    "After elimination, we have: "
   ]
  },
  {
   "cell_type": "code",
   "execution_count": 12,
   "id": "52c4971c",
   "metadata": {},
   "outputs": [
    {
     "data": {
      "text/plain": [
       "0"
      ]
     },
     "execution_count": 12,
     "metadata": {},
     "output_type": "execute_result"
    }
   ],
   "source": [
    "data_CO2_emission = data_CO2_emission.dropna()\n",
    "data_CO2_emission.isna().sum().sum()"
   ]
  },
  {
   "cell_type": "markdown",
   "id": "da3af164",
   "metadata": {},
   "source": [
    "### g) Eliminate duplicate rows in data frame"
   ]
  },
  {
   "cell_type": "code",
   "execution_count": 13,
   "id": "f783c9b9",
   "metadata": {},
   "outputs": [],
   "source": [
    "data_CO2_emission = data_CO2_emission.apply(lambda x: x.astype(str).str.upper()).drop_duplicates()"
   ]
  },
  {
   "cell_type": "markdown",
   "id": "1a7e1fcd",
   "metadata": {},
   "source": [
    "## 2. Addition and changes of characteristics\n",
    "\n",
    "### a) rename the values of 'fuel type'"
   ]
  },
  {
   "cell_type": "code",
   "execution_count": 14,
   "id": "4b63e810",
   "metadata": {},
   "outputs": [
    {
     "name": "stdout",
     "output_type": "stream",
     "text": [
      "['PREMIUM GASOLINE' 'DIESEL' 'REGULAR GASOLINE' 'ETHANOL' 'NATURAL GAS']\n"
     ]
    }
   ],
   "source": [
    "list_val_old = data_CO2_emission['Fuel Type'].unique()\n",
    "print(list_val_old)\n",
    "list_val_new = ['Z','D','X','E','N']"
   ]
  },
  {
   "cell_type": "code",
   "execution_count": 15,
   "id": "c187e474",
   "metadata": {},
   "outputs": [
    {
     "data": {
      "text/html": [
       "<div>\n",
       "<style scoped>\n",
       "    .dataframe tbody tr th:only-of-type {\n",
       "        vertical-align: middle;\n",
       "    }\n",
       "\n",
       "    .dataframe tbody tr th {\n",
       "        vertical-align: top;\n",
       "    }\n",
       "\n",
       "    .dataframe thead th {\n",
       "        text-align: right;\n",
       "    }\n",
       "</style>\n",
       "<table border=\"1\" class=\"dataframe\">\n",
       "  <thead>\n",
       "    <tr style=\"text-align: right;\">\n",
       "      <th></th>\n",
       "      <th>Make</th>\n",
       "      <th>Model</th>\n",
       "      <th>Vehicle Class</th>\n",
       "      <th>Engine Size(L)</th>\n",
       "      <th>Cylinders</th>\n",
       "      <th>Transmission</th>\n",
       "      <th>Fuel Type</th>\n",
       "      <th>Fuel Consumption City (L/100 km)</th>\n",
       "      <th>Fuel Consumption Hwy (L/100 km)</th>\n",
       "      <th>Fuel Consumption Comb (L/100 km)</th>\n",
       "      <th>Fuel Consumption Comb (mpg)</th>\n",
       "      <th>CO2 Emissions(g/km)</th>\n",
       "      <th>Country</th>\n",
       "      <th>Continent</th>\n",
       "    </tr>\n",
       "  </thead>\n",
       "  <tbody>\n",
       "    <tr>\n",
       "      <th>0</th>\n",
       "      <td>ACURA</td>\n",
       "      <td>ILX</td>\n",
       "      <td>COMPACT</td>\n",
       "      <td>2.0</td>\n",
       "      <td>4.0</td>\n",
       "      <td>AS5</td>\n",
       "      <td>Z</td>\n",
       "      <td>9.9</td>\n",
       "      <td>6.7</td>\n",
       "      <td>8.5</td>\n",
       "      <td>33.0</td>\n",
       "      <td>196.0</td>\n",
       "      <td>USA</td>\n",
       "      <td>AMERICA</td>\n",
       "    </tr>\n",
       "    <tr>\n",
       "      <th>1</th>\n",
       "      <td>ACURA</td>\n",
       "      <td>ILX</td>\n",
       "      <td>COMPACT</td>\n",
       "      <td>2.4</td>\n",
       "      <td>4.0</td>\n",
       "      <td>M6</td>\n",
       "      <td>Z</td>\n",
       "      <td>11.2</td>\n",
       "      <td>7.7</td>\n",
       "      <td>9.6</td>\n",
       "      <td>29.0</td>\n",
       "      <td>221.0</td>\n",
       "      <td>USA</td>\n",
       "      <td>AMERICA</td>\n",
       "    </tr>\n",
       "    <tr>\n",
       "      <th>2</th>\n",
       "      <td>ACURA</td>\n",
       "      <td>ILX HYBRID</td>\n",
       "      <td>COMPACT</td>\n",
       "      <td>1.5</td>\n",
       "      <td>4.0</td>\n",
       "      <td>AV7</td>\n",
       "      <td>Z</td>\n",
       "      <td>6.0</td>\n",
       "      <td>5.8</td>\n",
       "      <td>5.9</td>\n",
       "      <td>48.0</td>\n",
       "      <td>136.0</td>\n",
       "      <td>USA</td>\n",
       "      <td>AMERICA</td>\n",
       "    </tr>\n",
       "    <tr>\n",
       "      <th>3</th>\n",
       "      <td>ACURA</td>\n",
       "      <td>MDX 4WD</td>\n",
       "      <td>SUV - SMALL</td>\n",
       "      <td>3.5</td>\n",
       "      <td>6.0</td>\n",
       "      <td>AS6</td>\n",
       "      <td>Z</td>\n",
       "      <td>12.7</td>\n",
       "      <td>9.1</td>\n",
       "      <td>11.1</td>\n",
       "      <td>25.0</td>\n",
       "      <td>255.0</td>\n",
       "      <td>USA</td>\n",
       "      <td>AMERICA</td>\n",
       "    </tr>\n",
       "    <tr>\n",
       "      <th>4</th>\n",
       "      <td>ACURA</td>\n",
       "      <td>RDX AWD</td>\n",
       "      <td>SUV - SMALL</td>\n",
       "      <td>3.5</td>\n",
       "      <td>6.0</td>\n",
       "      <td>AS6</td>\n",
       "      <td>Z</td>\n",
       "      <td>12.1</td>\n",
       "      <td>8.7</td>\n",
       "      <td>10.6</td>\n",
       "      <td>27.0</td>\n",
       "      <td>244.0</td>\n",
       "      <td>USA</td>\n",
       "      <td>AMERICA</td>\n",
       "    </tr>\n",
       "    <tr>\n",
       "      <th>...</th>\n",
       "      <td>...</td>\n",
       "      <td>...</td>\n",
       "      <td>...</td>\n",
       "      <td>...</td>\n",
       "      <td>...</td>\n",
       "      <td>...</td>\n",
       "      <td>...</td>\n",
       "      <td>...</td>\n",
       "      <td>...</td>\n",
       "      <td>...</td>\n",
       "      <td>...</td>\n",
       "      <td>...</td>\n",
       "      <td>...</td>\n",
       "      <td>...</td>\n",
       "    </tr>\n",
       "    <tr>\n",
       "      <th>6271</th>\n",
       "      <td>GENESIS</td>\n",
       "      <td>G70 AWD</td>\n",
       "      <td>COMPACT</td>\n",
       "      <td>2.0</td>\n",
       "      <td>4.0</td>\n",
       "      <td>AS8</td>\n",
       "      <td>Z</td>\n",
       "      <td>11.4</td>\n",
       "      <td>8.6</td>\n",
       "      <td>10.2</td>\n",
       "      <td>28.0</td>\n",
       "      <td>238.0</td>\n",
       "      <td>USA</td>\n",
       "      <td>AMERICA</td>\n",
       "    </tr>\n",
       "    <tr>\n",
       "      <th>6272</th>\n",
       "      <td>GENESIS</td>\n",
       "      <td>G70 AWD</td>\n",
       "      <td>COMPACT</td>\n",
       "      <td>3.3</td>\n",
       "      <td>6.0</td>\n",
       "      <td>AS8</td>\n",
       "      <td>Z</td>\n",
       "      <td>14.1</td>\n",
       "      <td>9.5</td>\n",
       "      <td>12.0</td>\n",
       "      <td>24.0</td>\n",
       "      <td>284.0</td>\n",
       "      <td>USA</td>\n",
       "      <td>AMERICA</td>\n",
       "    </tr>\n",
       "    <tr>\n",
       "      <th>6273</th>\n",
       "      <td>GENESIS</td>\n",
       "      <td>G90 AWD</td>\n",
       "      <td>FULL-SIZE</td>\n",
       "      <td>3.3</td>\n",
       "      <td>6.0</td>\n",
       "      <td>AS8</td>\n",
       "      <td>Z</td>\n",
       "      <td>13.6</td>\n",
       "      <td>9.5</td>\n",
       "      <td>11.8</td>\n",
       "      <td>24.0</td>\n",
       "      <td>280.0</td>\n",
       "      <td>USA</td>\n",
       "      <td>AMERICA</td>\n",
       "    </tr>\n",
       "    <tr>\n",
       "      <th>6274</th>\n",
       "      <td>GENESIS</td>\n",
       "      <td>G90 AWD</td>\n",
       "      <td>FULL-SIZE</td>\n",
       "      <td>5.0</td>\n",
       "      <td>8.0</td>\n",
       "      <td>AS8</td>\n",
       "      <td>Z</td>\n",
       "      <td>15.4</td>\n",
       "      <td>10.2</td>\n",
       "      <td>13.1</td>\n",
       "      <td>22.0</td>\n",
       "      <td>311.0</td>\n",
       "      <td>USA</td>\n",
       "      <td>AMERICA</td>\n",
       "    </tr>\n",
       "    <tr>\n",
       "      <th>6275</th>\n",
       "      <td>BUGATTI</td>\n",
       "      <td>CHIRON</td>\n",
       "      <td>TWO-SEATER</td>\n",
       "      <td>8.0</td>\n",
       "      <td>16.0</td>\n",
       "      <td>AM7</td>\n",
       "      <td>Z</td>\n",
       "      <td>26.8</td>\n",
       "      <td>16.6</td>\n",
       "      <td>22.2</td>\n",
       "      <td>13.0</td>\n",
       "      <td>522.0</td>\n",
       "      <td>ITALY</td>\n",
       "      <td>EUROPE</td>\n",
       "    </tr>\n",
       "  </tbody>\n",
       "</table>\n",
       "<p>5980 rows × 14 columns</p>\n",
       "</div>"
      ],
      "text/plain": [
       "         Make       Model Vehicle Class Engine Size(L) Cylinders Transmission  \\\n",
       "0       ACURA         ILX       COMPACT            2.0       4.0          AS5   \n",
       "1       ACURA         ILX       COMPACT            2.4       4.0           M6   \n",
       "2       ACURA  ILX HYBRID       COMPACT            1.5       4.0          AV7   \n",
       "3       ACURA     MDX 4WD   SUV - SMALL            3.5       6.0          AS6   \n",
       "4       ACURA     RDX AWD   SUV - SMALL            3.5       6.0          AS6   \n",
       "...       ...         ...           ...            ...       ...          ...   \n",
       "6271  GENESIS     G70 AWD       COMPACT            2.0       4.0          AS8   \n",
       "6272  GENESIS     G70 AWD       COMPACT            3.3       6.0          AS8   \n",
       "6273  GENESIS     G90 AWD     FULL-SIZE            3.3       6.0          AS8   \n",
       "6274  GENESIS     G90 AWD     FULL-SIZE            5.0       8.0          AS8   \n",
       "6275  BUGATTI      CHIRON    TWO-SEATER            8.0      16.0          AM7   \n",
       "\n",
       "     Fuel Type Fuel Consumption City (L/100 km)  \\\n",
       "0            Z                              9.9   \n",
       "1            Z                             11.2   \n",
       "2            Z                              6.0   \n",
       "3            Z                             12.7   \n",
       "4            Z                             12.1   \n",
       "...        ...                              ...   \n",
       "6271         Z                             11.4   \n",
       "6272         Z                             14.1   \n",
       "6273         Z                             13.6   \n",
       "6274         Z                             15.4   \n",
       "6275         Z                             26.8   \n",
       "\n",
       "     Fuel Consumption Hwy (L/100 km) Fuel Consumption Comb (L/100 km)  \\\n",
       "0                                6.7                              8.5   \n",
       "1                                7.7                              9.6   \n",
       "2                                5.8                              5.9   \n",
       "3                                9.1                             11.1   \n",
       "4                                8.7                             10.6   \n",
       "...                              ...                              ...   \n",
       "6271                             8.6                             10.2   \n",
       "6272                             9.5                             12.0   \n",
       "6273                             9.5                             11.8   \n",
       "6274                            10.2                             13.1   \n",
       "6275                            16.6                             22.2   \n",
       "\n",
       "     Fuel Consumption Comb (mpg) CO2 Emissions(g/km) Country Continent  \n",
       "0                           33.0               196.0     USA   AMERICA  \n",
       "1                           29.0               221.0     USA   AMERICA  \n",
       "2                           48.0               136.0     USA   AMERICA  \n",
       "3                           25.0               255.0     USA   AMERICA  \n",
       "4                           27.0               244.0     USA   AMERICA  \n",
       "...                          ...                 ...     ...       ...  \n",
       "6271                        28.0               238.0     USA   AMERICA  \n",
       "6272                        24.0               284.0     USA   AMERICA  \n",
       "6273                        24.0               280.0     USA   AMERICA  \n",
       "6274                        22.0               311.0     USA   AMERICA  \n",
       "6275                        13.0               522.0   ITALY    EUROPE  \n",
       "\n",
       "[5980 rows x 14 columns]"
      ]
     },
     "execution_count": 15,
     "metadata": {},
     "output_type": "execute_result"
    }
   ],
   "source": [
    "data_CO2_emission['Fuel Type'] = data_CO2_emission['Fuel Type'].replace(list_val_old,list_val_new)\n",
    "data_CO2_emission"
   ]
  },
  {
   "cell_type": "markdown",
   "id": "f3b975e3",
   "metadata": {},
   "source": [
    "### b) Create a column called 'Automatic / Manual': A and M from 'Transmission' column."
   ]
  },
  {
   "cell_type": "code",
   "execution_count": 16,
   "id": "a7a5baef",
   "metadata": {},
   "outputs": [
    {
     "data": {
      "text/plain": [
       "0       A\n",
       "1       M\n",
       "2       A\n",
       "3       A\n",
       "4       A\n",
       "       ..\n",
       "6271    A\n",
       "6272    A\n",
       "6273    A\n",
       "6274    A\n",
       "6275    A\n",
       "Name: Automatic / Manual, Length: 5980, dtype: object"
      ]
     },
     "execution_count": 16,
     "metadata": {},
     "output_type": "execute_result"
    }
   ],
   "source": [
    "data_CO2_emission['Automatic / Manual'] = data_CO2_emission.Transmission.str.extract(r'(^\\w{1})')\n",
    "data_CO2_emission['Automatic / Manual']"
   ]
  },
  {
   "cell_type": "markdown",
   "id": "723e0a5d",
   "metadata": {},
   "source": [
    "### c) Create a new column called ' A / M digital', where hot-encoding before column: 1 / 0"
   ]
  },
  {
   "cell_type": "code",
   "execution_count": 17,
   "id": "604cdeb8",
   "metadata": {},
   "outputs": [],
   "source": [
    "data_CO2_emission['A / M digital'] = pd.get_dummies(data_CO2_emission['Automatic / Manual'])['M']"
   ]
  },
  {
   "cell_type": "markdown",
   "id": "5c46d447",
   "metadata": {},
   "source": [
    "## 3 "
   ]
  },
  {
   "cell_type": "markdown",
   "id": "30e2ec5b",
   "metadata": {},
   "source": [
    "### a) amount of car brands"
   ]
  },
  {
   "cell_type": "markdown",
   "id": "ed11883c",
   "metadata": {},
   "source": [
    "So, we have a number of car brands equal to"
   ]
  },
  {
   "cell_type": "code",
   "execution_count": 18,
   "id": "56ebbd0f",
   "metadata": {},
   "outputs": [
    {
     "data": {
      "text/plain": [
       "42"
      ]
     },
     "execution_count": 18,
     "metadata": {},
     "output_type": "execute_result"
    }
   ],
   "source": [
    "data_2.Make.unique().shape[0]"
   ]
  },
  {
   "cell_type": "markdown",
   "id": "0bc7b75f",
   "metadata": {},
   "source": [
    "from a number of different countries equal to"
   ]
  },
  {
   "cell_type": "code",
   "execution_count": 19,
   "id": "1ffbd5b5",
   "metadata": {},
   "outputs": [
    {
     "data": {
      "text/plain": [
       "7"
      ]
     },
     "execution_count": 19,
     "metadata": {},
     "output_type": "execute_result"
    }
   ],
   "source": [
    "data_2.Country.unique().shape[0]"
   ]
  },
  {
   "cell_type": "markdown",
   "id": "5b6b902e",
   "metadata": {},
   "source": [
    "### b) the most popular car brands according to data"
   ]
  },
  {
   "cell_type": "markdown",
   "id": "b072c659",
   "metadata": {},
   "source": [
    "These are the total car brand present in data set."
   ]
  },
  {
   "cell_type": "code",
   "execution_count": 20,
   "id": "24c772ae",
   "metadata": {},
   "outputs": [],
   "source": [
    "Car_brands = data_CO2_emission.Make.value_counts()"
   ]
  },
  {
   "cell_type": "markdown",
   "id": "5d76113c",
   "metadata": {},
   "source": [
    "And these are the most popular brands listed in sort:"
   ]
  },
  {
   "cell_type": "code",
   "execution_count": 21,
   "id": "3d5d51ee",
   "metadata": {},
   "outputs": [
    {
     "data": {
      "text/plain": [
       "FORD             563\n",
       "CHEVROLET        503\n",
       "BMW              488\n",
       "MERCEDES-BENZ    362\n",
       "GMC              278\n",
       "AUDI             261\n",
       "PORSCHE          257\n",
       "TOYOTA           252\n",
       "NISSAN           192\n",
       "JEEP             188\n",
       "Name: Make, dtype: int64"
      ]
     },
     "execution_count": 21,
     "metadata": {},
     "output_type": "execute_result"
    }
   ],
   "source": [
    "Car_brands.head(10)"
   ]
  },
  {
   "cell_type": "markdown",
   "id": "ef715daa",
   "metadata": {},
   "source": [
    "### c) the less popular car brands according to data"
   ]
  },
  {
   "cell_type": "markdown",
   "id": "5de76aab",
   "metadata": {},
   "source": [
    "And these are the less popular brands listed in sort:"
   ]
  },
  {
   "cell_type": "code",
   "execution_count": 22,
   "id": "4f924382",
   "metadata": {},
   "outputs": [
    {
     "data": {
      "text/plain": [
       "BUGATTI          1\n",
       "SRT              2\n",
       "SMART            8\n",
       "ALFA ROMEO      13\n",
       "GENESIS         14\n",
       "SCION           21\n",
       "BENTLEY         35\n",
       "LAMBORGHINI     37\n",
       "ASTON MARTIN    39\n",
       "ROLLS-ROYCE     44\n",
       "Name: Make, dtype: int64"
      ]
     },
     "execution_count": 22,
     "metadata": {},
     "output_type": "execute_result"
    }
   ],
   "source": [
    "Car_brands.tail(10)[::-1]"
   ]
  },
  {
   "cell_type": "markdown",
   "id": "c2cf2e34",
   "metadata": {},
   "source": [
    "### d) the car with minor CO2 emission"
   ]
  },
  {
   "cell_type": "code",
   "execution_count": 23,
   "id": "5d5cb548",
   "metadata": {},
   "outputs": [
    {
     "data": {
      "text/html": [
       "<div>\n",
       "<style scoped>\n",
       "    .dataframe tbody tr th:only-of-type {\n",
       "        vertical-align: middle;\n",
       "    }\n",
       "\n",
       "    .dataframe tbody tr th {\n",
       "        vertical-align: top;\n",
       "    }\n",
       "\n",
       "    .dataframe thead th {\n",
       "        text-align: right;\n",
       "    }\n",
       "</style>\n",
       "<table border=\"1\" class=\"dataframe\">\n",
       "  <thead>\n",
       "    <tr style=\"text-align: right;\">\n",
       "      <th></th>\n",
       "      <th>Make</th>\n",
       "      <th>Model</th>\n",
       "      <th>Vehicle Class</th>\n",
       "      <th>Engine Size(L)</th>\n",
       "      <th>Cylinders</th>\n",
       "      <th>Transmission</th>\n",
       "      <th>Fuel Type</th>\n",
       "      <th>Fuel Consumption City (L/100 km)</th>\n",
       "      <th>Fuel Consumption Hwy (L/100 km)</th>\n",
       "      <th>Fuel Consumption Comb (L/100 km)</th>\n",
       "      <th>Fuel Consumption Comb (mpg)</th>\n",
       "      <th>CO2 Emissions(g/km)</th>\n",
       "      <th>Country</th>\n",
       "      <th>Continent</th>\n",
       "      <th>Automatic / Manual</th>\n",
       "      <th>A / M digital</th>\n",
       "    </tr>\n",
       "  </thead>\n",
       "  <tbody>\n",
       "    <tr>\n",
       "      <th>3078</th>\n",
       "      <td>HYUNDAI</td>\n",
       "      <td>IONIQ BLUE</td>\n",
       "      <td>FULL-SIZE</td>\n",
       "      <td>1.6</td>\n",
       "      <td>4.0</td>\n",
       "      <td>AM6</td>\n",
       "      <td>X</td>\n",
       "      <td>4.2</td>\n",
       "      <td>4.0</td>\n",
       "      <td>4.1</td>\n",
       "      <td>69.0</td>\n",
       "      <td>96.0</td>\n",
       "      <td>KOREA</td>\n",
       "      <td>ASIA</td>\n",
       "      <td>A</td>\n",
       "      <td>0</td>\n",
       "    </tr>\n",
       "  </tbody>\n",
       "</table>\n",
       "</div>"
      ],
      "text/plain": [
       "         Make       Model Vehicle Class Engine Size(L) Cylinders Transmission  \\\n",
       "3078  HYUNDAI  IONIQ BLUE     FULL-SIZE            1.6       4.0          AM6   \n",
       "\n",
       "     Fuel Type Fuel Consumption City (L/100 km)  \\\n",
       "3078         X                              4.2   \n",
       "\n",
       "     Fuel Consumption Hwy (L/100 km) Fuel Consumption Comb (L/100 km)  \\\n",
       "3078                             4.0                              4.1   \n",
       "\n",
       "     Fuel Consumption Comb (mpg) CO2 Emissions(g/km) Country Continent  \\\n",
       "3078                        69.0                96.0   KOREA      ASIA   \n",
       "\n",
       "     Automatic / Manual  A / M digital  \n",
       "3078                  A              0  "
      ]
     },
     "execution_count": 23,
     "metadata": {},
     "output_type": "execute_result"
    }
   ],
   "source": [
    "emissions = data_CO2_emission['CO2 Emissions(g/km)'].astype(float)\n",
    "mask =  emissions ==  emissions.min()\n",
    "data_CO2_emission[mask]"
   ]
  },
  {
   "cell_type": "markdown",
   "id": "377fd5fc",
   "metadata": {},
   "source": [
    "### e) the car with major CO2 emission"
   ]
  },
  {
   "cell_type": "code",
   "execution_count": 24,
   "id": "8d2b6f72",
   "metadata": {},
   "outputs": [
    {
     "data": {
      "text/html": [
       "<div>\n",
       "<style scoped>\n",
       "    .dataframe tbody tr th:only-of-type {\n",
       "        vertical-align: middle;\n",
       "    }\n",
       "\n",
       "    .dataframe tbody tr th {\n",
       "        vertical-align: top;\n",
       "    }\n",
       "\n",
       "    .dataframe thead th {\n",
       "        text-align: right;\n",
       "    }\n",
       "</style>\n",
       "<table border=\"1\" class=\"dataframe\">\n",
       "  <thead>\n",
       "    <tr style=\"text-align: right;\">\n",
       "      <th></th>\n",
       "      <th>Make</th>\n",
       "      <th>Model</th>\n",
       "      <th>Vehicle Class</th>\n",
       "      <th>Engine Size(L)</th>\n",
       "      <th>Cylinders</th>\n",
       "      <th>Transmission</th>\n",
       "      <th>Fuel Type</th>\n",
       "      <th>Fuel Consumption City (L/100 km)</th>\n",
       "      <th>Fuel Consumption Hwy (L/100 km)</th>\n",
       "      <th>Fuel Consumption Comb (L/100 km)</th>\n",
       "      <th>Fuel Consumption Comb (mpg)</th>\n",
       "      <th>CO2 Emissions(g/km)</th>\n",
       "      <th>Country</th>\n",
       "      <th>Continent</th>\n",
       "      <th>Automatic / Manual</th>\n",
       "      <th>A / M digital</th>\n",
       "    </tr>\n",
       "  </thead>\n",
       "  <tbody>\n",
       "    <tr>\n",
       "      <th>6275</th>\n",
       "      <td>BUGATTI</td>\n",
       "      <td>CHIRON</td>\n",
       "      <td>TWO-SEATER</td>\n",
       "      <td>8.0</td>\n",
       "      <td>16.0</td>\n",
       "      <td>AM7</td>\n",
       "      <td>Z</td>\n",
       "      <td>26.8</td>\n",
       "      <td>16.6</td>\n",
       "      <td>22.2</td>\n",
       "      <td>13.0</td>\n",
       "      <td>522.0</td>\n",
       "      <td>ITALY</td>\n",
       "      <td>EUROPE</td>\n",
       "      <td>A</td>\n",
       "      <td>0</td>\n",
       "    </tr>\n",
       "  </tbody>\n",
       "</table>\n",
       "</div>"
      ],
      "text/plain": [
       "         Make   Model Vehicle Class Engine Size(L) Cylinders Transmission  \\\n",
       "6275  BUGATTI  CHIRON    TWO-SEATER            8.0      16.0          AM7   \n",
       "\n",
       "     Fuel Type Fuel Consumption City (L/100 km)  \\\n",
       "6275         Z                             26.8   \n",
       "\n",
       "     Fuel Consumption Hwy (L/100 km) Fuel Consumption Comb (L/100 km)  \\\n",
       "6275                            16.6                             22.2   \n",
       "\n",
       "     Fuel Consumption Comb (mpg) CO2 Emissions(g/km) Country Continent  \\\n",
       "6275                        13.0               522.0   ITALY    EUROPE   \n",
       "\n",
       "     Automatic / Manual  A / M digital  \n",
       "6275                  A              0  "
      ]
     },
     "execution_count": 24,
     "metadata": {},
     "output_type": "execute_result"
    }
   ],
   "source": [
    "emissions = data_CO2_emission['CO2 Emissions(g/km)'].astype(float)\n",
    "mask =  emissions ==  emissions.max()\n",
    "data_CO2_emission[mask]"
   ]
  },
  {
   "cell_type": "markdown",
   "id": "ee740c34",
   "metadata": {},
   "source": [
    "### e) Average emission by brand car"
   ]
  },
  {
   "cell_type": "code",
   "execution_count": 25,
   "id": "7627d423",
   "metadata": {},
   "outputs": [
    {
     "data": {
      "text/plain": [
       "Make\n",
       "ACURA            222.020833\n",
       "ALFA ROMEO       236.384615\n",
       "ASTON MARTIN     344.282051\n",
       "AUDI             252.318008\n",
       "BENTLEY          367.914286\n",
       "BMW              252.709016\n",
       "BUGATTI          522.000000\n",
       "BUICK            233.747253\n",
       "CADILLAC         266.366906\n",
       "CHEVROLET        264.669980\n",
       "CHRYSLER         243.725806\n",
       "DODGE            275.562914\n",
       "FIAT             192.518519\n",
       "FORD             261.591474\n",
       "GENESIS          282.571429\n",
       "GMC              301.910072\n",
       "HONDA            190.923611\n",
       "HYUNDAI          210.549708\n",
       "INFINITI         253.953488\n",
       "JAGUAR           273.138614\n",
       "JEEP             249.627660\n",
       "KIA              215.445055\n",
       "LAMBORGHINI      402.270270\n",
       "LAND ROVER       290.301370\n",
       "LEXUS            242.124031\n",
       "LINCOLN          266.974359\n",
       "MASERATI         319.612245\n",
       "MAZDA            192.680000\n",
       "MERCEDES-BENZ    278.729282\n",
       "MINI             196.165775\n",
       "MITSUBISHI       199.704225\n",
       "NISSAN           237.104167\n",
       "PORSCHE          261.482490\n",
       "RAM              295.056338\n",
       "ROLLS-ROYCE      388.204545\n",
       "SCION            200.809524\n",
       "SMART            152.125000\n",
       "SRT              389.000000\n",
       "SUBARU           218.544643\n",
       "TOYOTA           223.035714\n",
       "VOLKSWAGEN       209.933333\n",
       "VOLVO            229.949153\n",
       "Name: CO2 Emissions(g/km), dtype: float64"
      ]
     },
     "execution_count": 25,
     "metadata": {},
     "output_type": "execute_result"
    }
   ],
   "source": [
    "data_CO2_emission['CO2 Emissions(g/km)'] = data_CO2_emission['CO2 Emissions(g/km)'].astype(float)\n",
    "Car_brands = data_CO2_emission.groupby('Make')\n",
    "Car_brands['CO2 Emissions(g/km)'].mean()"
   ]
  },
  {
   "cell_type": "markdown",
   "id": "99405328",
   "metadata": {},
   "source": [
    "### e) Average emission by continent"
   ]
  },
  {
   "cell_type": "code",
   "execution_count": 26,
   "id": "43d05238",
   "metadata": {},
   "outputs": [
    {
     "data": {
      "text/plain": [
       "Continent\n",
       "AMERICA    266.177221\n",
       "ASIA       216.318084\n",
       "EUROPE     258.690941\n",
       "Name: CO2 Emissions(g/km), dtype: float64"
      ]
     },
     "execution_count": 26,
     "metadata": {},
     "output_type": "execute_result"
    }
   ],
   "source": [
    "Continents = data_CO2_emission.groupby('Continent')\n",
    "Continents['CO2 Emissions(g/km)'].mean()"
   ]
  },
  {
   "cell_type": "markdown",
   "id": "f2ee5fbc",
   "metadata": {},
   "source": [
    "## 4\n",
    "### a) "
   ]
  },
  {
   "cell_type": "code",
   "execution_count": 27,
   "id": "4753f5b2",
   "metadata": {},
   "outputs": [
    {
     "data": {
      "text/plain": [
       "<matplotlib.lines.Line2D at 0x7f2e2cde8ee0>"
      ]
     },
     "execution_count": 27,
     "metadata": {},
     "output_type": "execute_result"
    },
    {
     "data": {
      "image/png": "[encoded data removed]",
      "text/plain": [
       "<Figure size 432x288 with 1 Axes>"
      ]
     },
     "metadata": {
      "needs_background": "light"
     },
     "output_type": "display_data"
    }
   ],
   "source": [
    "average_emission = data_CO2_emission['CO2 Emissions(g/km)'].mean()\n",
    "ax = sns.boxplot(data=data_CO2_emission, x='Continent', y='CO2 Emissions(g/km)')\n",
    "ax.axhline(average_emission, color='r',linestyle='dashed',linewidth=2)"
   ]
  },
  {
   "cell_type": "markdown",
   "id": "61e2179d",
   "metadata": {},
   "source": [
    "### b)"
   ]
  },
  {
   "cell_type": "code",
   "execution_count": 28,
   "id": "54709c46",
   "metadata": {},
   "outputs": [
    {
     "data": {
      "text/plain": [
       "<matplotlib.lines.Line2D at 0x7f2e2d277100>"
      ]
     },
     "execution_count": 28,
     "metadata": {},
     "output_type": "execute_result"
    },
    {
     "data": {
      "image/png": "[encoded data removed]",
      "text/plain": [
       "<Figure size 432x288 with 1 Axes>"
      ]
     },
     "metadata": {
      "needs_background": "light"
     },
     "output_type": "display_data"
    }
   ],
   "source": [
    "average_emission = data_CO2_emission['CO2 Emissions(g/km)'].mean()\n",
    "ax = sns.boxplot(data=data_CO2_emission, x='A / M digital', y='CO2 Emissions(g/km)')\n",
    "ax.axhline(average_emission, color='r',linestyle='dashed',linewidth=2)"
   ]
  },
  {
   "cell_type": "markdown",
   "id": "34d76783",
   "metadata": {},
   "source": [
    "Zero for Automatic, and One for Manual transmission "
   ]
  },
  {
   "cell_type": "markdown",
   "id": "efd7cd65",
   "metadata": {},
   "source": [
    "### c)"
   ]
  },
  {
   "cell_type": "code",
   "execution_count": 29,
   "id": "8b5a1901",
   "metadata": {},
   "outputs": [
    {
     "data": {
      "text/plain": [
       "<matplotlib.lines.Line2D at 0x7f2e2cecef40>"
      ]
     },
     "execution_count": 29,
     "metadata": {},
     "output_type": "execute_result"
    },
    {
     "data": {
      "image/png": "[encoded data removed]",
      "text/plain": [
       "<Figure size 432x288 with 1 Axes>"
      ]
     },
     "metadata": {
      "needs_background": "light"
     },
     "output_type": "display_data"
    }
   ],
   "source": [
    "average_emission = data_CO2_emission['CO2 Emissions(g/km)'].mean()\n",
    "ax = sns.boxplot(data=data_CO2_emission, x='Fuel Type', y='CO2 Emissions(g/km)')\n",
    "ax.axhline(average_emission, color='r',linestyle='dashed',linewidth=2)"
   ]
  },
  {
   "cell_type": "markdown",
   "id": "477c82f1",
   "metadata": {},
   "source": [
    "X = gasolina regular, Z = gasolina premium, D = diesel, E = etanol (E85), N = gas natural"
   ]
  },
  {
   "cell_type": "markdown",
   "id": "fc1abcd5",
   "metadata": {},
   "source": [
    "### d) "
   ]
  },
  {
   "cell_type": "code",
   "execution_count": 30,
   "id": "0486402d",
   "metadata": {},
   "outputs": [
    {
     "data": {
      "text/plain": [
       "[Text(0, 0, '5025 (84.0%)'), Text(0, 0, '955 (16.0%)')]"
      ]
     },
     "execution_count": 30,
     "metadata": {},
     "output_type": "execute_result"
    },
    {
     "data": {
      "image/png": "[encoded data removed]",
      "text/plain": [
       "<Figure size 432x288 with 1 Axes>"
      ]
     },
     "metadata": {
      "needs_background": "light"
     },
     "output_type": "display_data"
    }
   ],
   "source": [
    "ax = sns.countplot(data=data_CO2_emission, x='A / M digital')\n",
    "abs_values = data_CO2_emission['A / M digital'].value_counts(ascending=False).values\n",
    "rel_values = data_CO2_emission['A / M digital'].value_counts(ascending=False, normalize=True).values * 100\n",
    "lbls = [f'{p[0]} ({p[1]:.1f}%)' for p in zip(abs_values, rel_values)]\n",
    "\n",
    "ax.bar_label(container=ax.containers[0], labels=lbls)\n"
   ]
  },
  {
   "cell_type": "markdown",
   "id": "dae44e28",
   "metadata": {},
   "source": [
    "### e) emission per car brand "
   ]
  },
  {
   "cell_type": "code",
   "execution_count": 31,
   "id": "bca7a178",
   "metadata": {},
   "outputs": [
    {
     "data": {
      "image/png": "[encoded data removed]",
      "text/plain": [
       "<Figure size 792x432 with 1 Axes>"
      ]
     },
     "metadata": {},
     "output_type": "display_data"
    }
   ],
   "source": [
    "sns.set(rc={'figure.figsize':(11,6)})\n",
    "df = data_CO2_emission.groupby('Make').mean().sort_values('CO2 Emissions(g/km)')\n",
    "ax = sns.barplot(data=df, x=df.index, y='CO2 Emissions(g/km)')                 \n",
    "ax.tick_params(axis='x', rotation=90)"
   ]
  },
  {
   "cell_type": "markdown",
   "id": "39ed78d2",
   "metadata": {},
   "source": [
    "### f) save data of average emission per car brand "
   ]
  },
  {
   "cell_type": "code",
   "execution_count": 32,
   "id": "1a513619",
   "metadata": {},
   "outputs": [],
   "source": [
    "df.drop(columns='A / M digital').to_csv('BrandEmission.csv')"
   ]
  },
  {
   "cell_type": "markdown",
   "id": "8c51b64f",
   "metadata": {},
   "source": [
    "## 2. Exercise\n"
   ]
  },
  {
   "cell_type": "code",
   "execution_count": 33,
   "id": "e5b25079",
   "metadata": {},
   "outputs": [
    {
     "name": "stdout",
     "output_type": "stream",
     "text": [
      "CPU times: user 974 ms, sys: 439 ms, total: 1.41 s\n",
      "Wall time: 10.5 s\n"
     ]
    }
   ],
   "source": [
    "%%time\n",
    "data_olympics = pd.read_csv('https://raw.githubusercontent.com/mhemmg/datasets/master/sport/athlete_events.csv')"
   ]
  },
  {
   "cell_type": "code",
   "execution_count": 34,
   "id": "4c935c2e",
   "metadata": {},
   "outputs": [
    {
     "name": "stdout",
     "output_type": "stream",
     "text": [
      "<class 'pandas.core.frame.DataFrame'>\n",
      "RangeIndex: 271116 entries, 0 to 271115\n",
      "Data columns (total 15 columns):\n",
      " #   Column  Non-Null Count   Dtype  \n",
      "---  ------  --------------   -----  \n",
      " 0   ID      271116 non-null  int64  \n",
      " 1   Name    271116 non-null  object \n",
      " 2   Sex     271116 non-null  object \n",
      " 3   Age     261642 non-null  float64\n",
      " 4   Height  210945 non-null  float64\n",
      " 5   Weight  208241 non-null  float64\n",
      " 6   Team    271116 non-null  object \n",
      " 7   NOC     271116 non-null  object \n",
      " 8   Games   271116 non-null  object \n",
      " 9   Year    271116 non-null  int64  \n",
      " 10  Season  271116 non-null  object \n",
      " 11  City    271116 non-null  object \n",
      " 12  Sport   271116 non-null  object \n",
      " 13  Event   271116 non-null  object \n",
      " 14  Medal   39783 non-null   object \n",
      "dtypes: float64(3), int64(2), object(10)\n",
      "memory usage: 31.0+ MB\n"
     ]
    }
   ],
   "source": [
    "data_olympics.info()"
   ]
  },
  {
   "cell_type": "markdown",
   "id": "4136a53a",
   "metadata": {},
   "source": [
    "We don't need some colums here, these are irrelevants: \n",
    "* ID\n",
    "* NOC\n",
    "* Games\n",
    "\n",
    "For hence, We drop them"
   ]
  },
  {
   "cell_type": "code",
   "execution_count": 35,
   "id": "edb0fa7d",
   "metadata": {},
   "outputs": [],
   "source": [
    "data_olympics = data_olympics.drop(columns=['ID', 'NOC', 'Games'])"
   ]
  },
  {
   "cell_type": "markdown",
   "id": "0859c249",
   "metadata": {},
   "source": [
    "Let's eliminate duplicate registers "
   ]
  },
  {
   "cell_type": "code",
   "execution_count": 36,
   "id": "4fd94013",
   "metadata": {},
   "outputs": [],
   "source": [
    "data_olympics = data_olympics.drop_duplicates()"
   ]
  },
  {
   "cell_type": "code",
   "execution_count": 37,
   "id": "d1fa93e5",
   "metadata": {},
   "outputs": [
    {
     "data": {
      "text/html": [
       "<div>\n",
       "<style scoped>\n",
       "    .dataframe tbody tr th:only-of-type {\n",
       "        vertical-align: middle;\n",
       "    }\n",
       "\n",
       "    .dataframe tbody tr th {\n",
       "        vertical-align: top;\n",
       "    }\n",
       "\n",
       "    .dataframe thead th {\n",
       "        text-align: right;\n",
       "    }\n",
       "</style>\n",
       "<table border=\"1\" class=\"dataframe\">\n",
       "  <thead>\n",
       "    <tr style=\"text-align: right;\">\n",
       "      <th></th>\n",
       "      <th>Name</th>\n",
       "      <th>Sex</th>\n",
       "      <th>Age</th>\n",
       "      <th>Height</th>\n",
       "      <th>Weight</th>\n",
       "      <th>Team</th>\n",
       "      <th>Year</th>\n",
       "      <th>Season</th>\n",
       "      <th>City</th>\n",
       "      <th>Sport</th>\n",
       "      <th>Event</th>\n",
       "      <th>Medal</th>\n",
       "    </tr>\n",
       "  </thead>\n",
       "  <tbody>\n",
       "    <tr>\n",
       "      <th>0</th>\n",
       "      <td>A Dijiang</td>\n",
       "      <td>M</td>\n",
       "      <td>24.0</td>\n",
       "      <td>180.0</td>\n",
       "      <td>80.0</td>\n",
       "      <td>China</td>\n",
       "      <td>1992</td>\n",
       "      <td>Summer</td>\n",
       "      <td>Barcelona</td>\n",
       "      <td>Basketball</td>\n",
       "      <td>Basketball Men's Basketball</td>\n",
       "      <td>NaN</td>\n",
       "    </tr>\n",
       "    <tr>\n",
       "      <th>1</th>\n",
       "      <td>A Lamusi</td>\n",
       "      <td>M</td>\n",
       "      <td>23.0</td>\n",
       "      <td>170.0</td>\n",
       "      <td>60.0</td>\n",
       "      <td>China</td>\n",
       "      <td>2012</td>\n",
       "      <td>Summer</td>\n",
       "      <td>London</td>\n",
       "      <td>Judo</td>\n",
       "      <td>Judo Men's Extra-Lightweight</td>\n",
       "      <td>NaN</td>\n",
       "    </tr>\n",
       "    <tr>\n",
       "      <th>2</th>\n",
       "      <td>Gunnar Nielsen Aaby</td>\n",
       "      <td>M</td>\n",
       "      <td>24.0</td>\n",
       "      <td>NaN</td>\n",
       "      <td>NaN</td>\n",
       "      <td>Denmark</td>\n",
       "      <td>1920</td>\n",
       "      <td>Summer</td>\n",
       "      <td>Antwerpen</td>\n",
       "      <td>Football</td>\n",
       "      <td>Football Men's Football</td>\n",
       "      <td>NaN</td>\n",
       "    </tr>\n",
       "    <tr>\n",
       "      <th>3</th>\n",
       "      <td>Edgar Lindenau Aabye</td>\n",
       "      <td>M</td>\n",
       "      <td>34.0</td>\n",
       "      <td>NaN</td>\n",
       "      <td>NaN</td>\n",
       "      <td>Denmark/Sweden</td>\n",
       "      <td>1900</td>\n",
       "      <td>Summer</td>\n",
       "      <td>Paris</td>\n",
       "      <td>Tug-Of-War</td>\n",
       "      <td>Tug-Of-War Men's Tug-Of-War</td>\n",
       "      <td>Gold</td>\n",
       "    </tr>\n",
       "    <tr>\n",
       "      <th>4</th>\n",
       "      <td>Christine Jacoba Aaftink</td>\n",
       "      <td>F</td>\n",
       "      <td>21.0</td>\n",
       "      <td>185.0</td>\n",
       "      <td>82.0</td>\n",
       "      <td>Netherlands</td>\n",
       "      <td>1988</td>\n",
       "      <td>Winter</td>\n",
       "      <td>Calgary</td>\n",
       "      <td>Speed Skating</td>\n",
       "      <td>Speed Skating Women's 500 metres</td>\n",
       "      <td>NaN</td>\n",
       "    </tr>\n",
       "    <tr>\n",
       "      <th>5</th>\n",
       "      <td>Christine Jacoba Aaftink</td>\n",
       "      <td>F</td>\n",
       "      <td>21.0</td>\n",
       "      <td>185.0</td>\n",
       "      <td>82.0</td>\n",
       "      <td>Netherlands</td>\n",
       "      <td>1988</td>\n",
       "      <td>Winter</td>\n",
       "      <td>Calgary</td>\n",
       "      <td>Speed Skating</td>\n",
       "      <td>Speed Skating Women's 1,000 metres</td>\n",
       "      <td>NaN</td>\n",
       "    </tr>\n",
       "    <tr>\n",
       "      <th>6</th>\n",
       "      <td>Christine Jacoba Aaftink</td>\n",
       "      <td>F</td>\n",
       "      <td>25.0</td>\n",
       "      <td>185.0</td>\n",
       "      <td>82.0</td>\n",
       "      <td>Netherlands</td>\n",
       "      <td>1992</td>\n",
       "      <td>Winter</td>\n",
       "      <td>Albertville</td>\n",
       "      <td>Speed Skating</td>\n",
       "      <td>Speed Skating Women's 500 metres</td>\n",
       "      <td>NaN</td>\n",
       "    </tr>\n",
       "    <tr>\n",
       "      <th>7</th>\n",
       "      <td>Christine Jacoba Aaftink</td>\n",
       "      <td>F</td>\n",
       "      <td>25.0</td>\n",
       "      <td>185.0</td>\n",
       "      <td>82.0</td>\n",
       "      <td>Netherlands</td>\n",
       "      <td>1992</td>\n",
       "      <td>Winter</td>\n",
       "      <td>Albertville</td>\n",
       "      <td>Speed Skating</td>\n",
       "      <td>Speed Skating Women's 1,000 metres</td>\n",
       "      <td>NaN</td>\n",
       "    </tr>\n",
       "    <tr>\n",
       "      <th>8</th>\n",
       "      <td>Christine Jacoba Aaftink</td>\n",
       "      <td>F</td>\n",
       "      <td>27.0</td>\n",
       "      <td>185.0</td>\n",
       "      <td>82.0</td>\n",
       "      <td>Netherlands</td>\n",
       "      <td>1994</td>\n",
       "      <td>Winter</td>\n",
       "      <td>Lillehammer</td>\n",
       "      <td>Speed Skating</td>\n",
       "      <td>Speed Skating Women's 500 metres</td>\n",
       "      <td>NaN</td>\n",
       "    </tr>\n",
       "    <tr>\n",
       "      <th>9</th>\n",
       "      <td>Christine Jacoba Aaftink</td>\n",
       "      <td>F</td>\n",
       "      <td>27.0</td>\n",
       "      <td>185.0</td>\n",
       "      <td>82.0</td>\n",
       "      <td>Netherlands</td>\n",
       "      <td>1994</td>\n",
       "      <td>Winter</td>\n",
       "      <td>Lillehammer</td>\n",
       "      <td>Speed Skating</td>\n",
       "      <td>Speed Skating Women's 1,000 metres</td>\n",
       "      <td>NaN</td>\n",
       "    </tr>\n",
       "  </tbody>\n",
       "</table>\n",
       "</div>"
      ],
      "text/plain": [
       "                       Name Sex   Age  Height  Weight            Team  Year  \\\n",
       "0                 A Dijiang   M  24.0   180.0    80.0           China  1992   \n",
       "1                  A Lamusi   M  23.0   170.0    60.0           China  2012   \n",
       "2       Gunnar Nielsen Aaby   M  24.0     NaN     NaN         Denmark  1920   \n",
       "3      Edgar Lindenau Aabye   M  34.0     NaN     NaN  Denmark/Sweden  1900   \n",
       "4  Christine Jacoba Aaftink   F  21.0   185.0    82.0     Netherlands  1988   \n",
       "5  Christine Jacoba Aaftink   F  21.0   185.0    82.0     Netherlands  1988   \n",
       "6  Christine Jacoba Aaftink   F  25.0   185.0    82.0     Netherlands  1992   \n",
       "7  Christine Jacoba Aaftink   F  25.0   185.0    82.0     Netherlands  1992   \n",
       "8  Christine Jacoba Aaftink   F  27.0   185.0    82.0     Netherlands  1994   \n",
       "9  Christine Jacoba Aaftink   F  27.0   185.0    82.0     Netherlands  1994   \n",
       "\n",
       "   Season         City          Sport                               Event  \\\n",
       "0  Summer    Barcelona     Basketball         Basketball Men's Basketball   \n",
       "1  Summer       London           Judo        Judo Men's Extra-Lightweight   \n",
       "2  Summer    Antwerpen       Football             Football Men's Football   \n",
       "3  Summer        Paris     Tug-Of-War         Tug-Of-War Men's Tug-Of-War   \n",
       "4  Winter      Calgary  Speed Skating    Speed Skating Women's 500 metres   \n",
       "5  Winter      Calgary  Speed Skating  Speed Skating Women's 1,000 metres   \n",
       "6  Winter  Albertville  Speed Skating    Speed Skating Women's 500 metres   \n",
       "7  Winter  Albertville  Speed Skating  Speed Skating Women's 1,000 metres   \n",
       "8  Winter  Lillehammer  Speed Skating    Speed Skating Women's 500 metres   \n",
       "9  Winter  Lillehammer  Speed Skating  Speed Skating Women's 1,000 metres   \n",
       "\n",
       "  Medal  \n",
       "0   NaN  \n",
       "1   NaN  \n",
       "2   NaN  \n",
       "3  Gold  \n",
       "4   NaN  \n",
       "5   NaN  \n",
       "6   NaN  \n",
       "7   NaN  \n",
       "8   NaN  \n",
       "9   NaN  "
      ]
     },
     "execution_count": 37,
     "metadata": {},
     "output_type": "execute_result"
    }
   ],
   "source": [
    "data_olympics.head(10)"
   ]
  },
  {
   "cell_type": "markdown",
   "id": "37fa5798",
   "metadata": {},
   "source": [
    "Now, let's see how many Females (F) and Males (M) were registered:"
   ]
  },
  {
   "cell_type": "code",
   "execution_count": 38,
   "id": "0d9a2585",
   "metadata": {},
   "outputs": [
    {
     "data": {
      "text/plain": [
       "M    195353\n",
       "F     74378\n",
       "Name: Sex, dtype: int64"
      ]
     },
     "execution_count": 38,
     "metadata": {},
     "output_type": "execute_result"
    }
   ],
   "source": [
    "data_olympics.Sex.value_counts()"
   ]
  },
  {
   "cell_type": "markdown",
   "id": "09378f46",
   "metadata": {},
   "source": [
    "Separate the data set according to their Sex"
   ]
  },
  {
   "cell_type": "code",
   "execution_count": 39,
   "id": "3db64478",
   "metadata": {},
   "outputs": [],
   "source": [
    "women, men = [x for _, x in data_olympics.groupby(data_olympics.Sex == 'M')]"
   ]
  },
  {
   "cell_type": "markdown",
   "id": "5ff072c4",
   "metadata": {},
   "source": [
    "### a) Analyzing the tendency of champions through time "
   ]
  },
  {
   "cell_type": "markdown",
   "id": "7a9dfbb6",
   "metadata": {},
   "source": [
    "For Women:"
   ]
  },
  {
   "cell_type": "code",
   "execution_count": 40,
   "id": "687035b4",
   "metadata": {},
   "outputs": [],
   "source": [
    "F_winners = women.dropna().reset_index(drop=True)\n",
    "F_gold = F_winners[F_winners.Medal == 'Gold'].reset_index(drop=True)"
   ]
  },
  {
   "cell_type": "code",
   "execution_count": 41,
   "id": "6350b2a9",
   "metadata": {},
   "outputs": [
    {
     "data": {
      "text/plain": [
       "<AxesSubplot:>"
      ]
     },
     "execution_count": 41,
     "metadata": {},
     "output_type": "execute_result"
    },
    {
     "data": {
      "image/png": "[encoded data removed]",
      "text/plain": [
       "<Figure size 1008x432 with 1 Axes>"
      ]
     },
     "metadata": {},
     "output_type": "display_data"
    }
   ],
   "source": [
    "sns.set(rc={'figure.figsize':(14,6)})\n",
    "df = F_gold.Year.value_counts().sort_index()\n",
    "ax = sns.barplot(x=df.index, y=df.values)                 \n",
    "ax.tick_params(axis='x', rotation=90)\n",
    "abs_values = df.values\n",
    "lbls = [f'{p[0]}' for p in zip(abs_values)]\n",
    "ax.bar_label(container=ax.containers[0], labels=lbls)\n",
    "ax"
   ]
  },
  {
   "cell_type": "markdown",
   "id": "b9355cb2",
   "metadata": {},
   "source": [
    "For men:"
   ]
  },
  {
   "cell_type": "code",
   "execution_count": 42,
   "id": "09146520",
   "metadata": {},
   "outputs": [],
   "source": [
    "M_winners = men.dropna().reset_index(drop=True)\n",
    "M_gold = M_winners[M_winners.Medal == 'Gold'].reset_index(drop=True)"
   ]
  },
  {
   "cell_type": "code",
   "execution_count": 43,
   "id": "693e96ca",
   "metadata": {},
   "outputs": [
    {
     "data": {
      "text/plain": [
       "<AxesSubplot:>"
      ]
     },
     "execution_count": 43,
     "metadata": {},
     "output_type": "execute_result"
    },
    {
     "data": {
      "image/png": "[encoded data removed]",
      "text/plain": [
       "<Figure size 1008x432 with 1 Axes>"
      ]
     },
     "metadata": {},
     "output_type": "display_data"
    }
   ],
   "source": [
    "sns.set(rc={'figure.figsize':(14,6)})\n",
    "df = M_gold.Year.value_counts().sort_index()\n",
    "ax = sns.barplot(x=df.index, y=df.values)                 \n",
    "ax.tick_params(axis='x', rotation=90)\n",
    "abs_values = df.values\n",
    "lbls = [f'{p[0]}' for p in zip(abs_values)]\n",
    "ax.bar_label(container=ax.containers[0], labels=lbls)\n",
    "ax"
   ]
  },
  {
   "cell_type": "markdown",
   "id": "6ddf7d5c",
   "metadata": {},
   "source": [
    "Focus in a specific sport, and look this tendency. Starting with women, we have the following results:"
   ]
  },
  {
   "cell_type": "markdown",
   "id": "49f954bd",
   "metadata": {},
   "source": [
    "Let's see which sports we have in data:\n"
   ]
  },
  {
   "cell_type": "code",
   "execution_count": 44,
   "id": "71414415",
   "metadata": {},
   "outputs": [
    {
     "name": "stdout",
     "output_type": "stream",
     "text": [
      "['Basketball' 'Judo' 'Football' 'Tug-Of-War' 'Speed Skating'\n",
      " 'Cross Country Skiing' 'Athletics' 'Ice Hockey' 'Swimming' 'Badminton'\n",
      " 'Sailing' 'Biathlon' 'Gymnastics' 'Art Competitions' 'Alpine Skiing'\n",
      " 'Handball' 'Weightlifting' 'Wrestling' 'Luge' 'Water Polo' 'Hockey'\n",
      " 'Rowing' 'Bobsleigh' 'Fencing' 'Equestrianism' 'Shooting' 'Boxing'\n",
      " 'Taekwondo' 'Cycling' 'Diving' 'Canoeing' 'Tennis' 'Modern Pentathlon'\n",
      " 'Figure Skating' 'Golf' 'Softball' 'Archery' 'Volleyball'\n",
      " 'Synchronized Swimming' 'Table Tennis' 'Nordic Combined' 'Baseball'\n",
      " 'Rhythmic Gymnastics' 'Freestyle Skiing' 'Rugby Sevens' 'Trampolining'\n",
      " 'Beach Volleyball' 'Triathlon' 'Ski Jumping' 'Curling' 'Snowboarding'\n",
      " 'Rugby' 'Short Track Speed Skating' 'Skeleton' 'Lacrosse' 'Polo'\n",
      " 'Cricket' 'Racquets' 'Motorboating' 'Military Ski Patrol' 'Croquet'\n",
      " 'Jeu De Paume' 'Roque' 'Alpinism' 'Basque Pelota' 'Aeronautics'] \n",
      "Total = 66\n"
     ]
    }
   ],
   "source": [
    "print(data_olympics.Sport.unique(), f'\\nTotal = {data_olympics.Sport.nunique()}')"
   ]
  },
  {
   "cell_type": "markdown",
   "id": "6f5e8bee",
   "metadata": {},
   "source": [
    "For example, choose Rowing and analyze the Age throughout time."
   ]
  },
  {
   "cell_type": "code",
   "execution_count": 45,
   "id": "0626c814",
   "metadata": {},
   "outputs": [
    {
     "data": {
      "text/plain": [
       "<AxesSubplot:xlabel='Year', ylabel='Age'>"
      ]
     },
     "execution_count": 45,
     "metadata": {},
     "output_type": "execute_result"
    },
    {
     "data": {
      "image/png": "[encoded data removed]",
      "text/plain": [
       "<Figure size 1008x432 with 2 Axes>"
      ]
     },
     "metadata": {},
     "output_type": "display_data"
    }
   ],
   "source": [
    "F_rowing = F_gold[F_gold.Sport == 'Rowing']\n",
    "fig, ax = plt.subplots(1,2)\n",
    "sns.boxplot(data=F_rowing, x='Year', y='Age', ax=ax[0])\n",
    "sns.regplot(data=F_rowing, x='Year', y='Age',ax=ax[1], scatter=False)"
   ]
  },
  {
   "cell_type": "markdown",
   "id": "ee2c762c",
   "metadata": {},
   "source": [
    "And the average Age of gold winner women for each category is show bellow:"
   ]
  },
  {
   "cell_type": "code",
   "execution_count": 46,
   "id": "c092be68",
   "metadata": {},
   "outputs": [
    {
     "data": {
      "image/png": "[encoded data removed]",
      "text/plain": [
       "<Figure size 1008x432 with 1 Axes>"
      ]
     },
     "metadata": {},
     "output_type": "display_data"
    }
   ],
   "source": [
    "F_rowing_events = F_rowing.sort_values('Year').groupby('Event')\n",
    "ax = F_rowing_events.boxplot('Year','Age', showmeans=True)\n",
    "ax.tick_params(axis='x', rotation=90)"
   ]
  },
  {
   "cell_type": "markdown",
   "id": "459fbe55",
   "metadata": {},
   "source": [
    "Compare the above results for Men"
   ]
  },
  {
   "cell_type": "code",
   "execution_count": 47,
   "id": "5009e4b2",
   "metadata": {},
   "outputs": [
    {
     "data": {
      "text/plain": [
       "<AxesSubplot:xlabel='Year', ylabel='Age'>"
      ]
     },
     "execution_count": 47,
     "metadata": {},
     "output_type": "execute_result"
    },
    {
     "data": {
      "image/png": "[encoded data removed]",
      "text/plain": [
       "<Figure size 1008x432 with 2 Axes>"
      ]
     },
     "metadata": {},
     "output_type": "display_data"
    }
   ],
   "source": [
    "M_rowing = M_gold[M_gold.Sport == 'Rowing']\n",
    "fig, ax = plt.subplots(1,2)\n",
    "sns.boxplot(data=M_rowing, x='Year', y='Age', ax=ax[0])\n",
    "ax[0].tick_params(axis='x', rotation=90)\n",
    "sns.regplot(data=M_rowing, x='Year', y='Age',ax=ax[1], scatter=False)"
   ]
  },
  {
   "cell_type": "markdown",
   "id": "911693fd",
   "metadata": {},
   "source": [
    "And the average Age of gold winner men for each category is show bellow:"
   ]
  },
  {
   "cell_type": "code",
   "execution_count": 48,
   "id": "cab9a6f7",
   "metadata": {},
   "outputs": [
    {
     "data": {
      "image/png": "[encoded data removed]",
      "text/plain": [
       "<Figure size 1008x432 with 1 Axes>"
      ]
     },
     "metadata": {},
     "output_type": "display_data"
    }
   ],
   "source": [
    "M_rowing_events = M_rowing.sort_values('Year').groupby('Event')\n",
    "ax = M_rowing_events.boxplot('Year','Age', showmeans=True)\n",
    "ax.tick_params(axis='x', rotation=90)"
   ]
  },
  {
   "cell_type": "markdown",
   "id": "f77fa25e",
   "metadata": {},
   "source": [
    "### b) Let's find additional information from data set"
   ]
  },
  {
   "cell_type": "markdown",
   "id": "447202c8",
   "metadata": {},
   "source": [
    "We can also see how many champions there has been in Male Boxing.\n",
    "According each category:"
   ]
  },
  {
   "cell_type": "code",
   "execution_count": 49,
   "id": "d042a1da",
   "metadata": {},
   "outputs": [
    {
     "data": {
      "text/plain": [
       "Boxing Men's Welterweight          19\n",
       "Boxing Men's Heavyweight           18\n",
       "Boxing Men's Flyweight             17\n",
       "Boxing Men's Middleweight          17\n",
       "Boxing Men's Light-Welterweight    16\n",
       "Boxing Men's Light-Heavyweight     16\n",
       "Boxing Men's Bantamweight          16\n",
       "Boxing Men's Lightweight           16\n",
       "Boxing Men's Featherweight         16\n",
       "Boxing Men's Light-Flyweight       13\n",
       "Boxing Men's Light-Middleweight    11\n",
       "Boxing Men's Super-Heavyweight      8\n",
       "Name: Event, dtype: int64"
      ]
     },
     "execution_count": 49,
     "metadata": {},
     "output_type": "execute_result"
    }
   ],
   "source": [
    "M_gold[M_gold.Sport=='Boxing'].Event.value_counts()"
   ]
  },
  {
   "cell_type": "markdown",
   "id": "6462747b",
   "metadata": {},
   "source": [
    "The athletes with most medals in each category/event:"
   ]
  },
  {
   "cell_type": "code",
   "execution_count": 54,
   "id": "6c48771a",
   "metadata": {},
   "outputs": [
    {
     "data": {
      "text/plain": [
       "Event                            Name                      \n",
       "Boxing Men's Heavyweight         Flix Savn Fabr                3\n",
       "                                 Tefilo Stevenson Laurence     3\n",
       "Boxing Men's Bantamweight        Guillermo Rigondeaux Ortz     2\n",
       "Boxing Men's Middleweight        Ariel Hernndez Azcuy          2\n",
       "Boxing Men's Light-Middleweight  Boris Nikolayevich Lagutin    2\n",
       "Boxing Men's Light-Flyweight     Zou Shiming                   2\n",
       "Boxing Men's Lightweight         Mario Csar Kindeln Mesa       2\n",
       "Boxing Men's Welterweight        Oleg Elekpayevich Saitov      2\n",
       "Boxing Men's Light-Welterweight  Hctor Vinent Chron            2\n",
       "                                 Jerzy Zdzisaw Kulej           2\n",
       "Name: Name, dtype: int64"
      ]
     },
     "execution_count": 54,
     "metadata": {},
     "output_type": "execute_result"
    }
   ],
   "source": [
    "M_gold[M_gold.Sport=='Boxing'].groupby('Event').Name.value_counts().sort_values(ascending=False).head(10)"
   ]
  },
  {
   "cell_type": "markdown",
   "id": "abdc5abd",
   "metadata": {},
   "source": [
    "We can find who has been the man and woman with the most accumulated medals\n",
    "\n",
    "For men:"
   ]
  },
  {
   "cell_type": "code",
   "execution_count": 97,
   "id": "25b43edf",
   "metadata": {},
   "outputs": [
    {
     "data": {
      "text/plain": [
       "Michael Fred Phelps, II    28\n",
       "Name: Name, dtype: int64"
      ]
     },
     "execution_count": 97,
     "metadata": {},
     "output_type": "execute_result"
    }
   ],
   "source": [
    "M_winners[M_winners.Name == M_winners.Name.mode()[0]].Name.value_counts()"
   ]
  },
  {
   "cell_type": "markdown",
   "id": "eb1e526f",
   "metadata": {},
   "source": [
    "For women:"
   ]
  },
  {
   "cell_type": "code",
   "execution_count": 99,
   "id": "81532bcc",
   "metadata": {},
   "outputs": [
    {
     "data": {
      "text/plain": [
       "Larysa Semenivna Latynina (Diriy-)    18\n",
       "Name: Name, dtype: int64"
      ]
     },
     "execution_count": 99,
     "metadata": {},
     "output_type": "execute_result"
    }
   ],
   "source": [
    "F_winners[F_winners.Name == F_winners.Name.mode()[0]].Name.value_counts()"
   ]
  },
  {
   "cell_type": "markdown",
   "id": "30d545ea",
   "metadata": {},
   "source": [
    "Additionally, the oldest and youngest athlete:"
   ]
  },
  {
   "cell_type": "code",
   "execution_count": 93,
   "id": "d8d561bc",
   "metadata": {},
   "outputs": [
    {
     "name": "stdout",
     "output_type": "stream",
     "text": [
      "Name                           John Quincy Adams Ward\n",
      "Sex                                                 M\n",
      "Age                                              97.0\n",
      "Height                                            NaN\n",
      "Weight                                            NaN\n",
      "Team                                    United States\n",
      "Year                                             1928\n",
      "Season                                         Summer\n",
      "City                                        Amsterdam\n",
      "Sport                                Art Competitions\n",
      "Event     Art Competitions Mixed Sculpturing, Statues\n",
      "Medal                                             NaN\n",
      "Name: 257054, dtype: object\n",
      "-------------------------\n",
      "Name                         Dimitrios Loundras\n",
      "Sex                                           M\n",
      "Age                                        10.0\n",
      "Height                                      NaN\n",
      "Weight                                      NaN\n",
      "Team              Ethnikos Gymnastikos Syllogos\n",
      "Year                                       1896\n",
      "Season                                   Summer\n",
      "City                                     Athina\n",
      "Sport                                Gymnastics\n",
      "Event     Gymnastics Men's Parallel Bars, Teams\n",
      "Medal                                    Bronze\n",
      "Name: 142882, dtype: object\n"
     ]
    }
   ],
   "source": [
    "print(data_olympics.loc[data_olympics.Age.idxmax()])\n",
    "print('-------------------------')\n",
    "print(data_olympics.loc[data_olympics.Age.idxmin()])"
   ]
  },
  {
   "cell_type": "markdown",
   "id": "fc9ba7b9",
   "metadata": {},
   "source": [
    "The tallest and shortest athete:"
   ]
  },
  {
   "cell_type": "code",
   "execution_count": 79,
   "id": "f816d67d",
   "metadata": {},
   "outputs": [
    {
     "name": "stdout",
     "output_type": "stream",
     "text": [
      "Name                         Yao Ming\n",
      "Sex                                 M\n",
      "Age                              20.0\n",
      "Height                          226.0\n",
      "Weight                          141.0\n",
      "Team                            China\n",
      "Year                             2000\n",
      "Season                         Summer\n",
      "City                           Sydney\n",
      "Sport                      Basketball\n",
      "Event     Basketball Men's Basketball\n",
      "Medal                             NaN\n",
      "Name: 265040, dtype: object\n",
      "-------------------------\n",
      "Name                               Rosario Briones\n",
      "Sex                                              F\n",
      "Age                                           15.0\n",
      "Height                                       127.0\n",
      "Weight                                        42.0\n",
      "Team                                        Mexico\n",
      "Year                                          1968\n",
      "Season                                      Summer\n",
      "City                                   Mexico City\n",
      "Sport                                   Gymnastics\n",
      "Event     Gymnastics Women's Individual All-Around\n",
      "Medal                                          NaN\n",
      "Name: 29333, dtype: object\n"
     ]
    }
   ],
   "source": [
    "print(data_olympics.loc[data_olympics.Height.idxmax()])\n",
    "print('-------------------------')\n",
    "print(data_olympics.loc[data_olympics.Height.idxmin()])"
   ]
  },
  {
   "cell_type": "markdown",
   "id": "ace43e85",
   "metadata": {},
   "source": [
    "The heaviest and lightest athlete:"
   ]
  },
  {
   "cell_type": "code",
   "execution_count": 80,
   "id": "2541f9e8",
   "metadata": {},
   "outputs": [
    {
     "name": "stdout",
     "output_type": "stream",
     "text": [
      "Name           Ricardo Blas, Jr.\n",
      "Sex                            M\n",
      "Age                         21.0\n",
      "Height                     183.0\n",
      "Weight                     214.0\n",
      "Team                        Guam\n",
      "Year                        2008\n",
      "Season                    Summer\n",
      "City                     Beijing\n",
      "Sport                       Judo\n",
      "Event     Judo Men's Heavyweight\n",
      "Medal                        NaN\n",
      "Name: 23155, dtype: object\n",
      "-------------------------\n",
      "Name                                Choi Myong-Hui\n",
      "Sex                                              F\n",
      "Age                                           14.0\n",
      "Height                                       135.0\n",
      "Weight                                        25.0\n",
      "Team                                   North Korea\n",
      "Year                                          1980\n",
      "Season                                      Summer\n",
      "City                                        Moskva\n",
      "Sport                                   Gymnastics\n",
      "Event     Gymnastics Women's Individual All-Around\n",
      "Medal                                          NaN\n",
      "Name: 40849, dtype: object\n"
     ]
    }
   ],
   "source": [
    "print(data_olympics.loc[data_olympics.Weight.idxmax()])\n",
    "print('-------------------------')\n",
    "print(data_olympics.loc[data_olympics.Weight.idxmin()])"
   ]
  },
  {
   "cell_type": "markdown",
   "id": "2da57222",
   "metadata": {},
   "source": [
    "Finally, we can find interesting information like:"
   ]
  },
  {
   "cell_type": "code",
   "execution_count": 121,
   "id": "fd565c85",
   "metadata": {},
   "outputs": [
    {
     "name": "stdout",
     "output_type": "stream",
     "text": [
      "The athlete with most participation throughout history of olympic games is Heikki Ilmari Savolainen \n",
      "Who participated from 1928 to 1952, during 24 years \n",
      "Started at age of 20 years old, until 44 years old\n"
     ]
    }
   ],
   "source": [
    "Most_freq = data_olympics[data_olympics.Name == data_olympics.Name.mode()[0]]\n",
    "minAge = Most_freq.min(numeric_only=True).loc['Age']\n",
    "maxAge = Most_freq.max(numeric_only=True).loc['Age']\n",
    "minYear = Most_freq.min(numeric_only=True).loc['Year']\n",
    "maxYear = Most_freq.max(numeric_only=True).loc['Year']\n",
    "\n",
    "print(f'The athlete with most participation throughout history of olympic games is {Most_freq.Name.unique()[0]}', \n",
    "      f'\\nWho participated from {int(minYear)} to {int(maxYear)}, during {int(maxYear-minYear)} years',\n",
    "      f'\\nStarted at age of {int(minAge)} years old, until {int(maxAge)} years old')"
   ]
  },
  {
   "cell_type": "markdown",
   "id": "d1d39a0c",
   "metadata": {},
   "source": [
    "The most popular sports according to Sex. \n",
    "\n",
    "For men we have: "
   ]
  },
  {
   "cell_type": "code",
   "execution_count": 150,
   "id": "493cc0b2",
   "metadata": {},
   "outputs": [
    {
     "data": {
      "image/png": "[encoded data removed]",
      "text/plain": [
       "<Figure size 1008x432 with 1 Axes>"
      ]
     },
     "metadata": {},
     "output_type": "display_data"
    }
   ],
   "source": [
    "pop_men = men.Sport.value_counts().head(20)\n",
    "ax = sns.barplot(x=pop_men.index, y=pop_men.values)\n",
    "ax.tick_params(axis='x', rotation=90)"
   ]
  },
  {
   "cell_type": "markdown",
   "id": "a2b00ec8",
   "metadata": {},
   "source": [
    "For women we have:"
   ]
  },
  {
   "cell_type": "code",
   "execution_count": 149,
   "id": "819b40d1",
   "metadata": {},
   "outputs": [
    {
     "data": {
      "image/png": "[encoded data removed]",
      "text/plain": [
       "<Figure size 1008x432 with 1 Axes>"
      ]
     },
     "metadata": {},
     "output_type": "display_data"
    }
   ],
   "source": [
    "pop_women = women.Sport.value_counts().head(20)\n",
    "ax = sns.barplot(x=pop_women.index, y=pop_women.values)\n",
    "ax.tick_params(axis='x', rotation=90)"
   ]
  },
  {
   "cell_type": "code",
   "execution_count": null,
   "id": "4dc92d51",
   "metadata": {},
   "outputs": [],
   "source": []
  }
 ],
 "metadata": {
  "kernelspec": {
   "display_name": "Python 3 (ipykernel)",
   "language": "python",
   "name": "python3"
  },
  "language_info": {
   "codemirror_mode": {
    "name": "ipython",
    "version": 3
   },
   "file_extension": ".py",
   "mimetype": "text/x-python",
   "name": "python",
   "nbconvert_exporter": "python",
   "pygments_lexer": "ipython3",
   "version": "3.8.10"
  }
 },
 "nbformat": 4,
 "nbformat_minor": 5
}
