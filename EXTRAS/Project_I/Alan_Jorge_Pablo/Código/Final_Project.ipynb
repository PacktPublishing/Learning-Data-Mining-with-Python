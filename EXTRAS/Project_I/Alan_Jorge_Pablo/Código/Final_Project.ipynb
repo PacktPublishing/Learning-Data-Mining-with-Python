{
  "nbformat": 4,
  "nbformat_minor": 0,
  "metadata": {
    "colab": {
      "provenance": []
    },
    "kernelspec": {
      "name": "python3",
      "display_name": "Python 3"
    },
    "language_info": {
      "name": "python"
    }
  },
  "cells": [
    {
      "cell_type": "markdown",
      "source": [
        "<h1><center>Predictive Alarms for Refrigerators in UK</h1>"
      ],
      "metadata": {
        "id": "IpR4q5egp0mz"
      }
    },
    {
      "cell_type": "markdown",
      "source": [
        "## Authors:\n",
        "- Alan Stiven Camacho Restrepo\n",
        "- Jorge Luis David Mesa\n",
        "- Juan Pablo Ortiz Gil\n",
        "\n"
      ],
      "metadata": {
        "id": "4NqkHFUvpdyB"
      }
    },
    {
      "cell_type": "code",
      "execution_count": null,
      "metadata": {
        "id": "OceNEBUAldrH"
      },
      "outputs": [],
      "source": [
        "import pandas as pd\n",
        "import numpy as np\n",
        "import seaborn as sns\n",
        "import matplotlib.pyplot as plt"
      ]
    },
    {
      "cell_type": "code",
      "source": [
        "# Reading the data set\n",
        "df = pd.read_csv(\"CPT_PREDICTIVE_PPM.csv\", encoding='windows-1252')"
      ],
      "metadata": {
        "id": "cvW7pHVnlfcY",
        "colab": {
          "base_uri": "https://localhost:8080/"
        },
        "outputId": "f7da5939-afc9-4d88-ec4f-b04a4aa7b3ad"
      },
      "execution_count": null,
      "outputs": [
        {
          "output_type": "stream",
          "name": "stderr",
          "text": [
            "/usr/local/lib/python3.7/dist-packages/IPython/core/interactiveshell.py:3326: DtypeWarning: Columns (9,12,17,18,19) have mixed types.Specify dtype option on import or set low_memory=False.\n",
            "  exec(code_obj, self.user_global_ns, self.user_ns)\n"
          ]
        }
      ]
    },
    {
      "cell_type": "markdown",
      "source": [
        "<h2><b>1. Data visualization</b></h2>"
      ],
      "metadata": {
        "id": "4Yf5dCgqJr2q"
      }
    },
    {
      "cell_type": "code",
      "source": [
        "from geopy.geocoders import Nominatim\n",
        "import folium\n",
        "from folium.plugins import HeatMap"
      ],
      "metadata": {
        "id": "3-m5lTqaJ8B2"
      },
      "execution_count": null,
      "outputs": []
    },
    {
      "cell_type": "code",
      "source": [
        "# This code make a heat visualization of alarmas in UK, THIS CODE TAKES A LONG TIME OF RUNNING AND EVEN CAN MAKE COLAB COLLAPSE. \n",
        "# PLEASE DO NOT RUN THIS PART OF THE CODE. IF YOU WANT TO SEE THE RESULTS PLEASE REFER TO DOCUMENT map.html."
      ],
      "metadata": {
        "id": "zCu_LtFoQMvw"
      },
      "execution_count": null,
      "outputs": []
    },
    {
      "cell_type": "code",
      "source": [
        "geolocator = Nominatim(user_agent=\"specify_your_app_name_here\")"
      ],
      "metadata": {
        "id": "UmE02-d8J8HT"
      },
      "execution_count": null,
      "outputs": []
    },
    {
      "cell_type": "code",
      "source": [
        "n = len(df[\"Site Zipcode\"])"
      ],
      "metadata": {
        "id": "F2lU3ciBLha6"
      },
      "execution_count": null,
      "outputs": []
    },
    {
      "cell_type": "code",
      "source": [
        "def f(s):\n",
        "  if geolocator.geocode({\"postalcode\":s}) == None:\n",
        "    return (0,0)\n",
        "  else :\n",
        "    return geolocator.geocode({\"postalcode\":s})[1] "
      ],
      "metadata": {
        "id": "X4Mt9Mj5KAS6"
      },
      "execution_count": null,
      "outputs": []
    },
    {
      "cell_type": "code",
      "source": [
        "Z = df[\"Site Zipcode\"]\n",
        "M= df.groupby(\"Site Zipcode\")[\"Site Zipcode\"].count()\n",
        "N = np.array(M)\n",
        "Z = np.sort(Z.unique())"
      ],
      "metadata": {
        "id": "dNe_hkJNKAW_"
      },
      "execution_count": null,
      "outputs": []
    },
    {
      "cell_type": "code",
      "source": [
        "L = [f(i) for i in Z]"
      ],
      "metadata": {
        "id": "vdaXYqX3MLL4"
      },
      "execution_count": null,
      "outputs": []
    },
    {
      "cell_type": "code",
      "source": [
        "df1 = pd.DataFrame({\"Coordinates\":list(L)})\n",
        "df1[\"Porcentage\"] = list(N/n)"
      ],
      "metadata": {
        "id": "Sp9WvKYeLX3-"
      },
      "execution_count": null,
      "outputs": []
    },
    {
      "cell_type": "code",
      "source": [
        "np.savetxt('datos2.txt', L)"
      ],
      "metadata": {
        "id": "HvZl1TRXKDb3"
      },
      "execution_count": null,
      "outputs": []
    },
    {
      "cell_type": "code",
      "source": [
        "L1 = np.loadtxt(\"datos2.txt\")\n",
        "L1"
      ],
      "metadata": {
        "id": "iS-RJv5DKDeg"
      },
      "execution_count": null,
      "outputs": []
    },
    {
      "cell_type": "code",
      "source": [
        "# extracting longitude and latitude values to separate lists\n",
        "longs = [L1[i][1] for i in range(len(L1))]\n",
        "lats = [L1[i][0] for i in range(len(L1))]\n",
        "# calculating mean longitude and latitude values\n",
        "import statistics\n",
        "meanLong = statistics.mean(longs)\n",
        "meanLat = statistics.mean(lats)\n",
        "# create base map object using Map()\n",
        "mapObj = folium.Map(location=[meanLat, meanLong], zoom_start = 14.5)\n",
        "# create heatmap layer\n",
        "heatmap = HeatMap( list(zip(lats, longs, df1[\"Porcentage\"])),\n",
        "                   min_opacity=0.2,\n",
        "                   max_val=df1[\"Porcentage\"].max(),\n",
        "                   radius=50, blur=50, \n",
        "                   max_zoom=1)\n",
        "# add heatmap layer to base map\n",
        "heatmap.add_to(mapObj)\n",
        "mapObj"
      ],
      "metadata": {
        "id": "EeWTKLG_KL1w"
      },
      "execution_count": null,
      "outputs": []
    },
    {
      "cell_type": "code",
      "source": [
        "mapObj.save(outfile= \"map.html\")"
      ],
      "metadata": {
        "id": "B75ONTPqKL4x"
      },
      "execution_count": null,
      "outputs": []
    },
    {
      "cell_type": "markdown",
      "source": [
        "<h2><b>2. Data inspection</b></h2>"
      ],
      "metadata": {
        "id": "Gz7OZlsNpci9"
      }
    },
    {
      "cell_type": "code",
      "source": [
        "# Shape of the DataFrame\n",
        "print('Number of rows:', df.shape[0])\n",
        "print('Number of columns:', df.shape[1])"
      ],
      "metadata": {
        "colab": {
          "base_uri": "https://localhost:8080/"
        },
        "id": "sSjCIJkwo6dI",
        "outputId": "d3d49a09-55c4-4b74-c473-2a2652c8e757"
      },
      "execution_count": null,
      "outputs": [
        {
          "output_type": "stream",
          "name": "stdout",
          "text": [
            "Number of rows: 609989\n",
            "Number of columns: 20\n"
          ]
        }
      ]
    },
    {
      "cell_type": "code",
      "source": [
        "# Columns' names\n",
        "print(df.columns)"
      ],
      "metadata": {
        "colab": {
          "base_uri": "https://localhost:8080/"
        },
        "id": "-CPNud0Jpywb",
        "outputId": "f60dc4bb-f694-4f29-87df-b7a742f9e2ab"
      },
      "execution_count": null,
      "outputs": [
        {
          "output_type": "stream",
          "name": "stdout",
          "text": [
            "Index(['Work Order Number', 'Site Number', 'Site Type', 'Date Created',\n",
            "       'Date Completed', 'Provider Name', 'WO Current Status',\n",
            "       'Asset Category', 'Problem Type Name', 'Requested By', 'WO Priority',\n",
            "       'Manufacturer', 'Asset In-Service Date', 'Level 1 Organization Name',\n",
            "       'Site Zipcode', 'Sales Sq. Ft.', 'Asset Barcode', 'Client Product Name',\n",
            "       'Asset Type', 'Asset Status'],\n",
            "      dtype='object')\n"
          ]
        }
      ]
    },
    {
      "cell_type": "code",
      "source": [
        "df['Problem Type Name'].unique()"
      ],
      "metadata": {
        "colab": {
          "base_uri": "https://localhost:8080/"
        },
        "id": "U26J0-78VrNc",
        "outputId": "c901801a-2a33-4317-d5c4-663264727586"
      },
      "execution_count": null,
      "outputs": [
        {
          "output_type": "execute_result",
          "data": {
            "text/plain": [
              "array(['Fixture Critical Over Temperature Alarm',\n",
              "       'Fixture Critical Under Temperature Alarm',\n",
              "       'Fixture Critical Alarm', ...,\n",
              "       'KB - Case Maintenance - Period 8 - Contractual Diligence Visit 4',\n",
              "       'KB - Case Maintenance - Period 8 - Contractual Diligence Visit 5',\n",
              "       'Refrigeration Leak Detection Devices'], dtype=object)"
            ]
          },
          "metadata": {},
          "execution_count": 5
        }
      ]
    },
    {
      "cell_type": "code",
      "source": [
        "df.head()"
      ],
      "metadata": {
        "colab": {
          "base_uri": "https://localhost:8080/",
          "height": 582
        },
        "id": "U7zZy1XarRNZ",
        "outputId": "f78156d3-f2bb-4b21-b12c-7e21ef3d8b8e"
      },
      "execution_count": null,
      "outputs": [
        {
          "output_type": "execute_result",
          "data": {
            "text/plain": [
              "   Work Order Number Site Number    Site Type      Date Created  \\\n",
              "0           12904684       A0892  SUPERMARKET  01/02/2012 03:05   \n",
              "1           12904685       A0892  SUPERMARKET  01/02/2012 03:05   \n",
              "2           12904853       A0892  SUPERMARKET  01/02/2012 05:10   \n",
              "3           12927899       A0416  SUPERMARKET  01/02/2012 08:40   \n",
              "4           12932231       A0003  SUPERMARKET  01/02/2012 13:33   \n",
              "\n",
              "     Date Completed                   Provider Name WO Current Status  \\\n",
              "0  01/02/2012 10:00  Space Engineering services LTD               EOL   \n",
              "1  01/02/2012 09:59  Space Engineering services LTD               EOL   \n",
              "2  01/02/2012 10:01  Space Engineering services LTD               EOL   \n",
              "3  02/02/2012 13:03           CMS Solutions Limited               EOL   \n",
              "4  08/02/2012 19:39           CMS Solutions Limited               EOL   \n",
              "\n",
              "  Asset Category                        Problem Type Name  \\\n",
              "0  REFRIGERATION  Fixture Critical Over Temperature Alarm   \n",
              "1  REFRIGERATION  Fixture Critical Over Temperature Alarm   \n",
              "2  REFRIGERATION  Fixture Critical Over Temperature Alarm   \n",
              "3  REFRIGERATION  Fixture Critical Over Temperature Alarm   \n",
              "4  REFRIGERATION  Fixture Critical Over Temperature Alarm   \n",
              "\n",
              "                 Requested By   WO Priority            Manufacturer  \\\n",
              "0  Urgent Refrigeration Alarm  Standard SLA                  CARTER   \n",
              "1  Urgent Refrigeration Alarm  Standard SLA                  CARTER   \n",
              "2  Urgent Refrigeration Alarm  Standard SLA                  CARTER   \n",
              "3  Urgent Refrigeration Alarm  Standard SLA                   LINDE   \n",
              "4  Urgent Refrigeration Alarm  Standard SLA  RADFORD RETAIL SYSTEMS   \n",
              "\n",
              "  Asset In-Service Date Level 1 Organization Name Site Zipcode  Sales Sq. Ft.  \\\n",
              "0      01/06/2011 15:19                Region N10     DN31 1UF        42639.0   \n",
              "1      01/06/2011 15:19                Region N10     DN31 1UF        42639.0   \n",
              "2      01/06/2011 15:19                Region N10     DN31 1UF        42639.0   \n",
              "3      01/08/2002 05:00                Region S01      BR4 0PU        13423.0   \n",
              "4      15/03/2009 04:00                Region S02     DA11 8JH        37870.0   \n",
              "\n",
              "  Asset Barcode                  Client Product Name              Asset Type  \\\n",
              "0   SSL00567391           Frozen Food (-18C or less)  HALF GLASS DOOR & WELL   \n",
              "1   SSL00567398           Frozen Food (-18C or less)         FULL GLASS DOOR   \n",
              "2   SSL00567399           Frozen Food (-18C or less)         FULL GLASS DOOR   \n",
              "3   SSL00225160  Meat, Fish and Poultry (3C or less)        REMOTE MULTIDECK   \n",
              "4   SSL00583503                                  NaN         FULL GLASS DOOR   \n",
              "\n",
              "  Asset Status  \n",
              "0   In Service  \n",
              "1   In Service  \n",
              "2   In Service  \n",
              "3   In Service  \n",
              "4     Scrapped  "
            ],
            "text/html": [
              "\n",
              "  <div id=\"df-af333076-874c-4721-ac07-53ac218d4588\">\n",
              "    <div class=\"colab-df-container\">\n",
              "      <div>\n",
              "<style scoped>\n",
              "    .dataframe tbody tr th:only-of-type {\n",
              "        vertical-align: middle;\n",
              "    }\n",
              "\n",
              "    .dataframe tbody tr th {\n",
              "        vertical-align: top;\n",
              "    }\n",
              "\n",
              "    .dataframe thead th {\n",
              "        text-align: right;\n",
              "    }\n",
              "</style>\n",
              "<table border=\"1\" class=\"dataframe\">\n",
              "  <thead>\n",
              "    <tr style=\"text-align: right;\">\n",
              "      <th></th>\n",
              "      <th>Work Order Number</th>\n",
              "      <th>Site Number</th>\n",
              "      <th>Site Type</th>\n",
              "      <th>Date Created</th>\n",
              "      <th>Date Completed</th>\n",
              "      <th>Provider Name</th>\n",
              "      <th>WO Current Status</th>\n",
              "      <th>Asset Category</th>\n",
              "      <th>Problem Type Name</th>\n",
              "      <th>Requested By</th>\n",
              "      <th>WO Priority</th>\n",
              "      <th>Manufacturer</th>\n",
              "      <th>Asset In-Service Date</th>\n",
              "      <th>Level 1 Organization Name</th>\n",
              "      <th>Site Zipcode</th>\n",
              "      <th>Sales Sq. Ft.</th>\n",
              "      <th>Asset Barcode</th>\n",
              "      <th>Client Product Name</th>\n",
              "      <th>Asset Type</th>\n",
              "      <th>Asset Status</th>\n",
              "    </tr>\n",
              "  </thead>\n",
              "  <tbody>\n",
              "    <tr>\n",
              "      <th>0</th>\n",
              "      <td>12904684</td>\n",
              "      <td>A0892</td>\n",
              "      <td>SUPERMARKET</td>\n",
              "      <td>01/02/2012 03:05</td>\n",
              "      <td>01/02/2012 10:00</td>\n",
              "      <td>Space Engineering services LTD</td>\n",
              "      <td>EOL</td>\n",
              "      <td>REFRIGERATION</td>\n",
              "      <td>Fixture Critical Over Temperature Alarm</td>\n",
              "      <td>Urgent Refrigeration Alarm</td>\n",
              "      <td>Standard SLA</td>\n",
              "      <td>CARTER</td>\n",
              "      <td>01/06/2011 15:19</td>\n",
              "      <td>Region N10</td>\n",
              "      <td>DN31 1UF</td>\n",
              "      <td>42639.0</td>\n",
              "      <td>SSL00567391</td>\n",
              "      <td>Frozen Food (-18C or less)</td>\n",
              "      <td>HALF GLASS DOOR &amp; WELL</td>\n",
              "      <td>In Service</td>\n",
              "    </tr>\n",
              "    <tr>\n",
              "      <th>1</th>\n",
              "      <td>12904685</td>\n",
              "      <td>A0892</td>\n",
              "      <td>SUPERMARKET</td>\n",
              "      <td>01/02/2012 03:05</td>\n",
              "      <td>01/02/2012 09:59</td>\n",
              "      <td>Space Engineering services LTD</td>\n",
              "      <td>EOL</td>\n",
              "      <td>REFRIGERATION</td>\n",
              "      <td>Fixture Critical Over Temperature Alarm</td>\n",
              "      <td>Urgent Refrigeration Alarm</td>\n",
              "      <td>Standard SLA</td>\n",
              "      <td>CARTER</td>\n",
              "      <td>01/06/2011 15:19</td>\n",
              "      <td>Region N10</td>\n",
              "      <td>DN31 1UF</td>\n",
              "      <td>42639.0</td>\n",
              "      <td>SSL00567398</td>\n",
              "      <td>Frozen Food (-18C or less)</td>\n",
              "      <td>FULL GLASS DOOR</td>\n",
              "      <td>In Service</td>\n",
              "    </tr>\n",
              "    <tr>\n",
              "      <th>2</th>\n",
              "      <td>12904853</td>\n",
              "      <td>A0892</td>\n",
              "      <td>SUPERMARKET</td>\n",
              "      <td>01/02/2012 05:10</td>\n",
              "      <td>01/02/2012 10:01</td>\n",
              "      <td>Space Engineering services LTD</td>\n",
              "      <td>EOL</td>\n",
              "      <td>REFRIGERATION</td>\n",
              "      <td>Fixture Critical Over Temperature Alarm</td>\n",
              "      <td>Urgent Refrigeration Alarm</td>\n",
              "      <td>Standard SLA</td>\n",
              "      <td>CARTER</td>\n",
              "      <td>01/06/2011 15:19</td>\n",
              "      <td>Region N10</td>\n",
              "      <td>DN31 1UF</td>\n",
              "      <td>42639.0</td>\n",
              "      <td>SSL00567399</td>\n",
              "      <td>Frozen Food (-18C or less)</td>\n",
              "      <td>FULL GLASS DOOR</td>\n",
              "      <td>In Service</td>\n",
              "    </tr>\n",
              "    <tr>\n",
              "      <th>3</th>\n",
              "      <td>12927899</td>\n",
              "      <td>A0416</td>\n",
              "      <td>SUPERMARKET</td>\n",
              "      <td>01/02/2012 08:40</td>\n",
              "      <td>02/02/2012 13:03</td>\n",
              "      <td>CMS Solutions Limited</td>\n",
              "      <td>EOL</td>\n",
              "      <td>REFRIGERATION</td>\n",
              "      <td>Fixture Critical Over Temperature Alarm</td>\n",
              "      <td>Urgent Refrigeration Alarm</td>\n",
              "      <td>Standard SLA</td>\n",
              "      <td>LINDE</td>\n",
              "      <td>01/08/2002 05:00</td>\n",
              "      <td>Region S01</td>\n",
              "      <td>BR4 0PU</td>\n",
              "      <td>13423.0</td>\n",
              "      <td>SSL00225160</td>\n",
              "      <td>Meat, Fish and Poultry (3C or less)</td>\n",
              "      <td>REMOTE MULTIDECK</td>\n",
              "      <td>In Service</td>\n",
              "    </tr>\n",
              "    <tr>\n",
              "      <th>4</th>\n",
              "      <td>12932231</td>\n",
              "      <td>A0003</td>\n",
              "      <td>SUPERMARKET</td>\n",
              "      <td>01/02/2012 13:33</td>\n",
              "      <td>08/02/2012 19:39</td>\n",
              "      <td>CMS Solutions Limited</td>\n",
              "      <td>EOL</td>\n",
              "      <td>REFRIGERATION</td>\n",
              "      <td>Fixture Critical Over Temperature Alarm</td>\n",
              "      <td>Urgent Refrigeration Alarm</td>\n",
              "      <td>Standard SLA</td>\n",
              "      <td>RADFORD RETAIL SYSTEMS</td>\n",
              "      <td>15/03/2009 04:00</td>\n",
              "      <td>Region S02</td>\n",
              "      <td>DA11 8JH</td>\n",
              "      <td>37870.0</td>\n",
              "      <td>SSL00583503</td>\n",
              "      <td>NaN</td>\n",
              "      <td>FULL GLASS DOOR</td>\n",
              "      <td>Scrapped</td>\n",
              "    </tr>\n",
              "  </tbody>\n",
              "</table>\n",
              "</div>\n",
              "      <button class=\"colab-df-convert\" onclick=\"convertToInteractive('df-af333076-874c-4721-ac07-53ac218d4588')\"\n",
              "              title=\"Convert this dataframe to an interactive table.\"\n",
              "              style=\"display:none;\">\n",
              "        \n",
              "  <svg xmlns=\"http://www.w3.org/2000/svg\" height=\"24px\"viewBox=\"0 0 24 24\"\n",
              "       width=\"24px\">\n",
              "    <path d=\"M0 0h24v24H0V0z\" fill=\"none\"/>\n",
              "    <path d=\"M18.56 5.44l.94 2.06.94-2.06 2.06-.94-2.06-.94-.94-2.06-.94 2.06-2.06.94zm-11 1L8.5 8.5l.94-2.06 2.06-.94-2.06-.94L8.5 2.5l-.94 2.06-2.06.94zm10 10l.94 2.06.94-2.06 2.06-.94-2.06-.94-.94-2.06-.94 2.06-2.06.94z\"/><path d=\"M17.41 7.96l-1.37-1.37c-.4-.4-.92-.59-1.43-.59-.52 0-1.04.2-1.43.59L10.3 9.45l-7.72 7.72c-.78.78-.78 2.05 0 2.83L4 21.41c.39.39.9.59 1.41.59.51 0 1.02-.2 1.41-.59l7.78-7.78 2.81-2.81c.8-.78.8-2.07 0-2.86zM5.41 20L4 18.59l7.72-7.72 1.47 1.35L5.41 20z\"/>\n",
              "  </svg>\n",
              "      </button>\n",
              "      \n",
              "  <style>\n",
              "    .colab-df-container {\n",
              "      display:flex;\n",
              "      flex-wrap:wrap;\n",
              "      gap: 12px;\n",
              "    }\n",
              "\n",
              "    .colab-df-convert {\n",
              "      background-color: #E8F0FE;\n",
              "      border: none;\n",
              "      border-radius: 50%;\n",
              "      cursor: pointer;\n",
              "      display: none;\n",
              "      fill: #1967D2;\n",
              "      height: 32px;\n",
              "      padding: 0 0 0 0;\n",
              "      width: 32px;\n",
              "    }\n",
              "\n",
              "    .colab-df-convert:hover {\n",
              "      background-color: #E2EBFA;\n",
              "      box-shadow: 0px 1px 2px rgba(60, 64, 67, 0.3), 0px 1px 3px 1px rgba(60, 64, 67, 0.15);\n",
              "      fill: #174EA6;\n",
              "    }\n",
              "\n",
              "    [theme=dark] .colab-df-convert {\n",
              "      background-color: #3B4455;\n",
              "      fill: #D2E3FC;\n",
              "    }\n",
              "\n",
              "    [theme=dark] .colab-df-convert:hover {\n",
              "      background-color: #434B5C;\n",
              "      box-shadow: 0px 1px 3px 1px rgba(0, 0, 0, 0.15);\n",
              "      filter: drop-shadow(0px 1px 2px rgba(0, 0, 0, 0.3));\n",
              "      fill: #FFFFFF;\n",
              "    }\n",
              "  </style>\n",
              "\n",
              "      <script>\n",
              "        const buttonEl =\n",
              "          document.querySelector('#df-af333076-874c-4721-ac07-53ac218d4588 button.colab-df-convert');\n",
              "        buttonEl.style.display =\n",
              "          google.colab.kernel.accessAllowed ? 'block' : 'none';\n",
              "\n",
              "        async function convertToInteractive(key) {\n",
              "          const element = document.querySelector('#df-af333076-874c-4721-ac07-53ac218d4588');\n",
              "          const dataTable =\n",
              "            await google.colab.kernel.invokeFunction('convertToInteractive',\n",
              "                                                     [key], {});\n",
              "          if (!dataTable) return;\n",
              "\n",
              "          const docLinkHtml = 'Like what you see? Visit the ' +\n",
              "            '<a target=\"_blank\" href=https://colab.research.google.com/notebooks/data_table.ipynb>data table notebook</a>'\n",
              "            + ' to learn more about interactive tables.';\n",
              "          element.innerHTML = '';\n",
              "          dataTable['output_type'] = 'display_data';\n",
              "          await google.colab.output.renderOutput(dataTable, element);\n",
              "          const docLink = document.createElement('div');\n",
              "          docLink.innerHTML = docLinkHtml;\n",
              "          element.appendChild(docLink);\n",
              "        }\n",
              "      </script>\n",
              "    </div>\n",
              "  </div>\n",
              "  "
            ]
          },
          "metadata": {},
          "execution_count": 6
        }
      ]
    },
    {
      "cell_type": "markdown",
      "source": [
        "# Description of each feature"
      ],
      "metadata": {
        "id": "AXHp95iD9Jm2"
      }
    },
    {
      "cell_type": "markdown",
      "source": [
        "* \"Work Order Number\": número de identifiación de la operación\n",
        "* \"Site Number\": número de identifiación del supermercado\n",
        "* \"Site Type\": Tipo de tienda o compañia; Supermarket(big) - Convenience(small)\n",
        "* \"Date Created\": Fecha y hora en que la alarma se disparó\n",
        "* \"Date Completed\": Fecha y hora en que la alarma se silenció\n",
        "* \"Provider Name\": Nombre de la compañia de mantenimiento\n",
        "* \"WO Current Status\": \n",
        "* \"Asset Category\": Tipo de activo (Refrigerador, aire acondicionado, luz, etc)\n",
        "* \"Problem Type Name\": Tipo de alarma (Por qué se prendió la alarma)\n",
        "* \"Requested By\": Compañia quién solicita la ayuda\n",
        "* \"WO Priority\": \n",
        "* \"Manufacturer\": Fabricante\n",
        "* \"Asset In-Service Date\": Fecha y hora cuando se conectó por primera vez el activo\n",
        "* \"Level 1 Organization Name\": Región en la cual fue dividida\n",
        "* \"Site Zipcode\": Código postal de la tienda\n",
        "* \"Sales Sq. Ft.\": Tamaño de la tienda en pies cuadrados\n",
        "* \"Asset Barcode\": Código de barras del activo\n",
        "* \"Client Product Name\": Nombre del producto del cliente\n",
        "* \"Asset Type\": Tipo de activo\n",
        "* \"Asset Status\": Estado del activo. Inactivo o Activo - hora de generar el conjunto de datos\n"
      ],
      "metadata": {
        "id": "OH6Mk5kgqP_6"
      }
    },
    {
      "cell_type": "code",
      "source": [
        "# Types of the elements of each column, nulls and the memory usage\n",
        "df.info()"
      ],
      "metadata": {
        "colab": {
          "base_uri": "https://localhost:8080/"
        },
        "id": "yUi18e7z1BZm",
        "outputId": "ed0b13c6-8ce5-49bd-979c-4db70318ca2e"
      },
      "execution_count": null,
      "outputs": [
        {
          "output_type": "stream",
          "name": "stdout",
          "text": [
            "<class 'pandas.core.frame.DataFrame'>\n",
            "RangeIndex: 609989 entries, 0 to 609988\n",
            "Data columns (total 20 columns):\n",
            " #   Column                     Non-Null Count   Dtype  \n",
            "---  ------                     --------------   -----  \n",
            " 0   Work Order Number          609989 non-null  int64  \n",
            " 1   Site Number                609989 non-null  object \n",
            " 2   Site Type                  609989 non-null  object \n",
            " 3   Date Created               609989 non-null  object \n",
            " 4   Date Completed             577602 non-null  object \n",
            " 5   Provider Name              609989 non-null  object \n",
            " 6   WO Current Status          609989 non-null  object \n",
            " 7   Asset Category             609989 non-null  object \n",
            " 8   Problem Type Name          609989 non-null  object \n",
            " 9   Requested By               527644 non-null  object \n",
            " 10  WO Priority                609989 non-null  object \n",
            " 11  Manufacturer               609989 non-null  object \n",
            " 12  Asset In-Service Date      506751 non-null  object \n",
            " 13  Level 1 Organization Name  609989 non-null  object \n",
            " 14  Site Zipcode               609989 non-null  object \n",
            " 15  Sales Sq. Ft.              480451 non-null  float64\n",
            " 16  Asset Barcode              609989 non-null  object \n",
            " 17  Client Product Name        467909 non-null  object \n",
            " 18  Asset Type                 527644 non-null  object \n",
            " 19  Asset Status               526005 non-null  object \n",
            "dtypes: float64(1), int64(1), object(18)\n",
            "memory usage: 93.1+ MB\n"
          ]
        }
      ]
    },
    {
      "cell_type": "code",
      "source": [
        "# Lower case for strings in the DataFrame \n",
        "for col in df.columns:\n",
        "    try:\n",
        "        df[col] = df[col].str.lower()\n",
        "    except:\n",
        "        pass"
      ],
      "metadata": {
        "id": "Ns9x1LrergkV"
      },
      "execution_count": null,
      "outputs": []
    },
    {
      "cell_type": "code",
      "source": [
        "df.head()"
      ],
      "metadata": {
        "colab": {
          "base_uri": "https://localhost:8080/",
          "height": 582
        },
        "id": "RzthydL-1ZIS",
        "outputId": "1f28b542-a6c6-4415-af1b-8e0e77db8cc9"
      },
      "execution_count": null,
      "outputs": [
        {
          "output_type": "execute_result",
          "data": {
            "text/plain": [
              "   Work Order Number Site Number    Site Type      Date Created  \\\n",
              "0           12904684       a0892  supermarket  01/02/2012 03:05   \n",
              "1           12904685       a0892  supermarket  01/02/2012 03:05   \n",
              "2           12904853       a0892  supermarket  01/02/2012 05:10   \n",
              "3           12927899       a0416  supermarket  01/02/2012 08:40   \n",
              "4           12932231       a0003  supermarket  01/02/2012 13:33   \n",
              "\n",
              "     Date Completed                   Provider Name WO Current Status  \\\n",
              "0  01/02/2012 10:00  space engineering services ltd               eol   \n",
              "1  01/02/2012 09:59  space engineering services ltd               eol   \n",
              "2  01/02/2012 10:01  space engineering services ltd               eol   \n",
              "3  02/02/2012 13:03           cms solutions limited               eol   \n",
              "4  08/02/2012 19:39           cms solutions limited               eol   \n",
              "\n",
              "  Asset Category                        Problem Type Name  \\\n",
              "0  refrigeration  fixture critical over temperature alarm   \n",
              "1  refrigeration  fixture critical over temperature alarm   \n",
              "2  refrigeration  fixture critical over temperature alarm   \n",
              "3  refrigeration  fixture critical over temperature alarm   \n",
              "4  refrigeration  fixture critical over temperature alarm   \n",
              "\n",
              "                 Requested By   WO Priority            Manufacturer  \\\n",
              "0  urgent refrigeration alarm  standard sla                  carter   \n",
              "1  urgent refrigeration alarm  standard sla                  carter   \n",
              "2  urgent refrigeration alarm  standard sla                  carter   \n",
              "3  urgent refrigeration alarm  standard sla                   linde   \n",
              "4  urgent refrigeration alarm  standard sla  radford retail systems   \n",
              "\n",
              "  Asset In-Service Date Level 1 Organization Name Site Zipcode  Sales Sq. Ft.  \\\n",
              "0      01/06/2011 15:19                region n10     dn31 1uf        42639.0   \n",
              "1      01/06/2011 15:19                region n10     dn31 1uf        42639.0   \n",
              "2      01/06/2011 15:19                region n10     dn31 1uf        42639.0   \n",
              "3      01/08/2002 05:00                region s01      br4 0pu        13423.0   \n",
              "4      15/03/2009 04:00                region s02     da11 8jh        37870.0   \n",
              "\n",
              "  Asset Barcode                  Client Product Name              Asset Type  \\\n",
              "0   ssl00567391           frozen food (-18c or less)  half glass door & well   \n",
              "1   ssl00567398           frozen food (-18c or less)         full glass door   \n",
              "2   ssl00567399           frozen food (-18c or less)         full glass door   \n",
              "3   ssl00225160  meat, fish and poultry (3c or less)        remote multideck   \n",
              "4   ssl00583503                                  NaN         full glass door   \n",
              "\n",
              "  Asset Status  \n",
              "0   in service  \n",
              "1   in service  \n",
              "2   in service  \n",
              "3   in service  \n",
              "4     scrapped  "
            ],
            "text/html": [
              "\n",
              "  <div id=\"df-7b5e86c7-e204-4f79-97c4-aada0d6a5312\">\n",
              "    <div class=\"colab-df-container\">\n",
              "      <div>\n",
              "<style scoped>\n",
              "    .dataframe tbody tr th:only-of-type {\n",
              "        vertical-align: middle;\n",
              "    }\n",
              "\n",
              "    .dataframe tbody tr th {\n",
              "        vertical-align: top;\n",
              "    }\n",
              "\n",
              "    .dataframe thead th {\n",
              "        text-align: right;\n",
              "    }\n",
              "</style>\n",
              "<table border=\"1\" class=\"dataframe\">\n",
              "  <thead>\n",
              "    <tr style=\"text-align: right;\">\n",
              "      <th></th>\n",
              "      <th>Work Order Number</th>\n",
              "      <th>Site Number</th>\n",
              "      <th>Site Type</th>\n",
              "      <th>Date Created</th>\n",
              "      <th>Date Completed</th>\n",
              "      <th>Provider Name</th>\n",
              "      <th>WO Current Status</th>\n",
              "      <th>Asset Category</th>\n",
              "      <th>Problem Type Name</th>\n",
              "      <th>Requested By</th>\n",
              "      <th>WO Priority</th>\n",
              "      <th>Manufacturer</th>\n",
              "      <th>Asset In-Service Date</th>\n",
              "      <th>Level 1 Organization Name</th>\n",
              "      <th>Site Zipcode</th>\n",
              "      <th>Sales Sq. Ft.</th>\n",
              "      <th>Asset Barcode</th>\n",
              "      <th>Client Product Name</th>\n",
              "      <th>Asset Type</th>\n",
              "      <th>Asset Status</th>\n",
              "    </tr>\n",
              "  </thead>\n",
              "  <tbody>\n",
              "    <tr>\n",
              "      <th>0</th>\n",
              "      <td>12904684</td>\n",
              "      <td>a0892</td>\n",
              "      <td>supermarket</td>\n",
              "      <td>01/02/2012 03:05</td>\n",
              "      <td>01/02/2012 10:00</td>\n",
              "      <td>space engineering services ltd</td>\n",
              "      <td>eol</td>\n",
              "      <td>refrigeration</td>\n",
              "      <td>fixture critical over temperature alarm</td>\n",
              "      <td>urgent refrigeration alarm</td>\n",
              "      <td>standard sla</td>\n",
              "      <td>carter</td>\n",
              "      <td>01/06/2011 15:19</td>\n",
              "      <td>region n10</td>\n",
              "      <td>dn31 1uf</td>\n",
              "      <td>42639.0</td>\n",
              "      <td>ssl00567391</td>\n",
              "      <td>frozen food (-18c or less)</td>\n",
              "      <td>half glass door &amp; well</td>\n",
              "      <td>in service</td>\n",
              "    </tr>\n",
              "    <tr>\n",
              "      <th>1</th>\n",
              "      <td>12904685</td>\n",
              "      <td>a0892</td>\n",
              "      <td>supermarket</td>\n",
              "      <td>01/02/2012 03:05</td>\n",
              "      <td>01/02/2012 09:59</td>\n",
              "      <td>space engineering services ltd</td>\n",
              "      <td>eol</td>\n",
              "      <td>refrigeration</td>\n",
              "      <td>fixture critical over temperature alarm</td>\n",
              "      <td>urgent refrigeration alarm</td>\n",
              "      <td>standard sla</td>\n",
              "      <td>carter</td>\n",
              "      <td>01/06/2011 15:19</td>\n",
              "      <td>region n10</td>\n",
              "      <td>dn31 1uf</td>\n",
              "      <td>42639.0</td>\n",
              "      <td>ssl00567398</td>\n",
              "      <td>frozen food (-18c or less)</td>\n",
              "      <td>full glass door</td>\n",
              "      <td>in service</td>\n",
              "    </tr>\n",
              "    <tr>\n",
              "      <th>2</th>\n",
              "      <td>12904853</td>\n",
              "      <td>a0892</td>\n",
              "      <td>supermarket</td>\n",
              "      <td>01/02/2012 05:10</td>\n",
              "      <td>01/02/2012 10:01</td>\n",
              "      <td>space engineering services ltd</td>\n",
              "      <td>eol</td>\n",
              "      <td>refrigeration</td>\n",
              "      <td>fixture critical over temperature alarm</td>\n",
              "      <td>urgent refrigeration alarm</td>\n",
              "      <td>standard sla</td>\n",
              "      <td>carter</td>\n",
              "      <td>01/06/2011 15:19</td>\n",
              "      <td>region n10</td>\n",
              "      <td>dn31 1uf</td>\n",
              "      <td>42639.0</td>\n",
              "      <td>ssl00567399</td>\n",
              "      <td>frozen food (-18c or less)</td>\n",
              "      <td>full glass door</td>\n",
              "      <td>in service</td>\n",
              "    </tr>\n",
              "    <tr>\n",
              "      <th>3</th>\n",
              "      <td>12927899</td>\n",
              "      <td>a0416</td>\n",
              "      <td>supermarket</td>\n",
              "      <td>01/02/2012 08:40</td>\n",
              "      <td>02/02/2012 13:03</td>\n",
              "      <td>cms solutions limited</td>\n",
              "      <td>eol</td>\n",
              "      <td>refrigeration</td>\n",
              "      <td>fixture critical over temperature alarm</td>\n",
              "      <td>urgent refrigeration alarm</td>\n",
              "      <td>standard sla</td>\n",
              "      <td>linde</td>\n",
              "      <td>01/08/2002 05:00</td>\n",
              "      <td>region s01</td>\n",
              "      <td>br4 0pu</td>\n",
              "      <td>13423.0</td>\n",
              "      <td>ssl00225160</td>\n",
              "      <td>meat, fish and poultry (3c or less)</td>\n",
              "      <td>remote multideck</td>\n",
              "      <td>in service</td>\n",
              "    </tr>\n",
              "    <tr>\n",
              "      <th>4</th>\n",
              "      <td>12932231</td>\n",
              "      <td>a0003</td>\n",
              "      <td>supermarket</td>\n",
              "      <td>01/02/2012 13:33</td>\n",
              "      <td>08/02/2012 19:39</td>\n",
              "      <td>cms solutions limited</td>\n",
              "      <td>eol</td>\n",
              "      <td>refrigeration</td>\n",
              "      <td>fixture critical over temperature alarm</td>\n",
              "      <td>urgent refrigeration alarm</td>\n",
              "      <td>standard sla</td>\n",
              "      <td>radford retail systems</td>\n",
              "      <td>15/03/2009 04:00</td>\n",
              "      <td>region s02</td>\n",
              "      <td>da11 8jh</td>\n",
              "      <td>37870.0</td>\n",
              "      <td>ssl00583503</td>\n",
              "      <td>NaN</td>\n",
              "      <td>full glass door</td>\n",
              "      <td>scrapped</td>\n",
              "    </tr>\n",
              "  </tbody>\n",
              "</table>\n",
              "</div>\n",
              "      <button class=\"colab-df-convert\" onclick=\"convertToInteractive('df-7b5e86c7-e204-4f79-97c4-aada0d6a5312')\"\n",
              "              title=\"Convert this dataframe to an interactive table.\"\n",
              "              style=\"display:none;\">\n",
              "        \n",
              "  <svg xmlns=\"http://www.w3.org/2000/svg\" height=\"24px\"viewBox=\"0 0 24 24\"\n",
              "       width=\"24px\">\n",
              "    <path d=\"M0 0h24v24H0V0z\" fill=\"none\"/>\n",
              "    <path d=\"M18.56 5.44l.94 2.06.94-2.06 2.06-.94-2.06-.94-.94-2.06-.94 2.06-2.06.94zm-11 1L8.5 8.5l.94-2.06 2.06-.94-2.06-.94L8.5 2.5l-.94 2.06-2.06.94zm10 10l.94 2.06.94-2.06 2.06-.94-2.06-.94-.94-2.06-.94 2.06-2.06.94z\"/><path d=\"M17.41 7.96l-1.37-1.37c-.4-.4-.92-.59-1.43-.59-.52 0-1.04.2-1.43.59L10.3 9.45l-7.72 7.72c-.78.78-.78 2.05 0 2.83L4 21.41c.39.39.9.59 1.41.59.51 0 1.02-.2 1.41-.59l7.78-7.78 2.81-2.81c.8-.78.8-2.07 0-2.86zM5.41 20L4 18.59l7.72-7.72 1.47 1.35L5.41 20z\"/>\n",
              "  </svg>\n",
              "      </button>\n",
              "      \n",
              "  <style>\n",
              "    .colab-df-container {\n",
              "      display:flex;\n",
              "      flex-wrap:wrap;\n",
              "      gap: 12px;\n",
              "    }\n",
              "\n",
              "    .colab-df-convert {\n",
              "      background-color: #E8F0FE;\n",
              "      border: none;\n",
              "      border-radius: 50%;\n",
              "      cursor: pointer;\n",
              "      display: none;\n",
              "      fill: #1967D2;\n",
              "      height: 32px;\n",
              "      padding: 0 0 0 0;\n",
              "      width: 32px;\n",
              "    }\n",
              "\n",
              "    .colab-df-convert:hover {\n",
              "      background-color: #E2EBFA;\n",
              "      box-shadow: 0px 1px 2px rgba(60, 64, 67, 0.3), 0px 1px 3px 1px rgba(60, 64, 67, 0.15);\n",
              "      fill: #174EA6;\n",
              "    }\n",
              "\n",
              "    [theme=dark] .colab-df-convert {\n",
              "      background-color: #3B4455;\n",
              "      fill: #D2E3FC;\n",
              "    }\n",
              "\n",
              "    [theme=dark] .colab-df-convert:hover {\n",
              "      background-color: #434B5C;\n",
              "      box-shadow: 0px 1px 3px 1px rgba(0, 0, 0, 0.15);\n",
              "      filter: drop-shadow(0px 1px 2px rgba(0, 0, 0, 0.3));\n",
              "      fill: #FFFFFF;\n",
              "    }\n",
              "  </style>\n",
              "\n",
              "      <script>\n",
              "        const buttonEl =\n",
              "          document.querySelector('#df-7b5e86c7-e204-4f79-97c4-aada0d6a5312 button.colab-df-convert');\n",
              "        buttonEl.style.display =\n",
              "          google.colab.kernel.accessAllowed ? 'block' : 'none';\n",
              "\n",
              "        async function convertToInteractive(key) {\n",
              "          const element = document.querySelector('#df-7b5e86c7-e204-4f79-97c4-aada0d6a5312');\n",
              "          const dataTable =\n",
              "            await google.colab.kernel.invokeFunction('convertToInteractive',\n",
              "                                                     [key], {});\n",
              "          if (!dataTable) return;\n",
              "\n",
              "          const docLinkHtml = 'Like what you see? Visit the ' +\n",
              "            '<a target=\"_blank\" href=https://colab.research.google.com/notebooks/data_table.ipynb>data table notebook</a>'\n",
              "            + ' to learn more about interactive tables.';\n",
              "          element.innerHTML = '';\n",
              "          dataTable['output_type'] = 'display_data';\n",
              "          await google.colab.output.renderOutput(dataTable, element);\n",
              "          const docLink = document.createElement('div');\n",
              "          docLink.innerHTML = docLinkHtml;\n",
              "          element.appendChild(docLink);\n",
              "        }\n",
              "      </script>\n",
              "    </div>\n",
              "  </div>\n",
              "  "
            ]
          },
          "metadata": {},
          "execution_count": 9
        }
      ]
    },
    {
      "cell_type": "code",
      "source": [
        "# There aren't duplicate rows\n",
        "df[df.duplicated(keep=False)]"
      ],
      "metadata": {
        "colab": {
          "base_uri": "https://localhost:8080/",
          "height": 165
        },
        "id": "7foW1bWK1cPv",
        "outputId": "0b8db712-54e2-4f65-9265-2d088cd9487b"
      },
      "execution_count": null,
      "outputs": [
        {
          "output_type": "execute_result",
          "data": {
            "text/plain": [
              "Empty DataFrame\n",
              "Columns: [Work Order Number, Site Number, Site Type, Date Created, Date Completed, Provider Name, WO Current Status, Asset Category, Problem Type Name, Requested By, WO Priority, Manufacturer, Asset In-Service Date, Level 1 Organization Name, Site Zipcode, Sales Sq. Ft., Asset Barcode, Client Product Name, Asset Type, Asset Status]\n",
              "Index: []"
            ],
            "text/html": [
              "\n",
              "  <div id=\"df-1c86cccd-0ccc-4cb7-a3fc-f8ce51ae6a08\">\n",
              "    <div class=\"colab-df-container\">\n",
              "      <div>\n",
              "<style scoped>\n",
              "    .dataframe tbody tr th:only-of-type {\n",
              "        vertical-align: middle;\n",
              "    }\n",
              "\n",
              "    .dataframe tbody tr th {\n",
              "        vertical-align: top;\n",
              "    }\n",
              "\n",
              "    .dataframe thead th {\n",
              "        text-align: right;\n",
              "    }\n",
              "</style>\n",
              "<table border=\"1\" class=\"dataframe\">\n",
              "  <thead>\n",
              "    <tr style=\"text-align: right;\">\n",
              "      <th></th>\n",
              "      <th>Work Order Number</th>\n",
              "      <th>Site Number</th>\n",
              "      <th>Site Type</th>\n",
              "      <th>Date Created</th>\n",
              "      <th>Date Completed</th>\n",
              "      <th>Provider Name</th>\n",
              "      <th>WO Current Status</th>\n",
              "      <th>Asset Category</th>\n",
              "      <th>Problem Type Name</th>\n",
              "      <th>Requested By</th>\n",
              "      <th>WO Priority</th>\n",
              "      <th>Manufacturer</th>\n",
              "      <th>Asset In-Service Date</th>\n",
              "      <th>Level 1 Organization Name</th>\n",
              "      <th>Site Zipcode</th>\n",
              "      <th>Sales Sq. Ft.</th>\n",
              "      <th>Asset Barcode</th>\n",
              "      <th>Client Product Name</th>\n",
              "      <th>Asset Type</th>\n",
              "      <th>Asset Status</th>\n",
              "    </tr>\n",
              "  </thead>\n",
              "  <tbody>\n",
              "  </tbody>\n",
              "</table>\n",
              "</div>\n",
              "      <button class=\"colab-df-convert\" onclick=\"convertToInteractive('df-1c86cccd-0ccc-4cb7-a3fc-f8ce51ae6a08')\"\n",
              "              title=\"Convert this dataframe to an interactive table.\"\n",
              "              style=\"display:none;\">\n",
              "        \n",
              "  <svg xmlns=\"http://www.w3.org/2000/svg\" height=\"24px\"viewBox=\"0 0 24 24\"\n",
              "       width=\"24px\">\n",
              "    <path d=\"M0 0h24v24H0V0z\" fill=\"none\"/>\n",
              "    <path d=\"M18.56 5.44l.94 2.06.94-2.06 2.06-.94-2.06-.94-.94-2.06-.94 2.06-2.06.94zm-11 1L8.5 8.5l.94-2.06 2.06-.94-2.06-.94L8.5 2.5l-.94 2.06-2.06.94zm10 10l.94 2.06.94-2.06 2.06-.94-2.06-.94-.94-2.06-.94 2.06-2.06.94z\"/><path d=\"M17.41 7.96l-1.37-1.37c-.4-.4-.92-.59-1.43-.59-.52 0-1.04.2-1.43.59L10.3 9.45l-7.72 7.72c-.78.78-.78 2.05 0 2.83L4 21.41c.39.39.9.59 1.41.59.51 0 1.02-.2 1.41-.59l7.78-7.78 2.81-2.81c.8-.78.8-2.07 0-2.86zM5.41 20L4 18.59l7.72-7.72 1.47 1.35L5.41 20z\"/>\n",
              "  </svg>\n",
              "      </button>\n",
              "      \n",
              "  <style>\n",
              "    .colab-df-container {\n",
              "      display:flex;\n",
              "      flex-wrap:wrap;\n",
              "      gap: 12px;\n",
              "    }\n",
              "\n",
              "    .colab-df-convert {\n",
              "      background-color: #E8F0FE;\n",
              "      border: none;\n",
              "      border-radius: 50%;\n",
              "      cursor: pointer;\n",
              "      display: none;\n",
              "      fill: #1967D2;\n",
              "      height: 32px;\n",
              "      padding: 0 0 0 0;\n",
              "      width: 32px;\n",
              "    }\n",
              "\n",
              "    .colab-df-convert:hover {\n",
              "      background-color: #E2EBFA;\n",
              "      box-shadow: 0px 1px 2px rgba(60, 64, 67, 0.3), 0px 1px 3px 1px rgba(60, 64, 67, 0.15);\n",
              "      fill: #174EA6;\n",
              "    }\n",
              "\n",
              "    [theme=dark] .colab-df-convert {\n",
              "      background-color: #3B4455;\n",
              "      fill: #D2E3FC;\n",
              "    }\n",
              "\n",
              "    [theme=dark] .colab-df-convert:hover {\n",
              "      background-color: #434B5C;\n",
              "      box-shadow: 0px 1px 3px 1px rgba(0, 0, 0, 0.15);\n",
              "      filter: drop-shadow(0px 1px 2px rgba(0, 0, 0, 0.3));\n",
              "      fill: #FFFFFF;\n",
              "    }\n",
              "  </style>\n",
              "\n",
              "      <script>\n",
              "        const buttonEl =\n",
              "          document.querySelector('#df-1c86cccd-0ccc-4cb7-a3fc-f8ce51ae6a08 button.colab-df-convert');\n",
              "        buttonEl.style.display =\n",
              "          google.colab.kernel.accessAllowed ? 'block' : 'none';\n",
              "\n",
              "        async function convertToInteractive(key) {\n",
              "          const element = document.querySelector('#df-1c86cccd-0ccc-4cb7-a3fc-f8ce51ae6a08');\n",
              "          const dataTable =\n",
              "            await google.colab.kernel.invokeFunction('convertToInteractive',\n",
              "                                                     [key], {});\n",
              "          if (!dataTable) return;\n",
              "\n",
              "          const docLinkHtml = 'Like what you see? Visit the ' +\n",
              "            '<a target=\"_blank\" href=https://colab.research.google.com/notebooks/data_table.ipynb>data table notebook</a>'\n",
              "            + ' to learn more about interactive tables.';\n",
              "          element.innerHTML = '';\n",
              "          dataTable['output_type'] = 'display_data';\n",
              "          await google.colab.output.renderOutput(dataTable, element);\n",
              "          const docLink = document.createElement('div');\n",
              "          docLink.innerHTML = docLinkHtml;\n",
              "          element.appendChild(docLink);\n",
              "        }\n",
              "      </script>\n",
              "    </div>\n",
              "  </div>\n",
              "  "
            ]
          },
          "metadata": {},
          "execution_count": 10
        }
      ]
    },
    {
      "cell_type": "code",
      "source": [
        "# There aren't duplicated columns\n",
        "df.columns.duplicated()"
      ],
      "metadata": {
        "colab": {
          "base_uri": "https://localhost:8080/"
        },
        "id": "aeE7FxcUCTt7",
        "outputId": "5f0c2649-dd44-4bdb-b781-9d26c3def292"
      },
      "execution_count": null,
      "outputs": [
        {
          "output_type": "execute_result",
          "data": {
            "text/plain": [
              "array([False, False, False, False, False, False, False, False, False,\n",
              "       False, False, False, False, False, False, False, False, False,\n",
              "       False, False])"
            ]
          },
          "metadata": {},
          "execution_count": 11
        }
      ]
    },
    {
      "cell_type": "code",
      "source": [
        "# Replacing with NaN values if there are any of the symbols \"?\" and \"\" \n",
        "df = df.replace(r\"?\", np.nan)\n",
        "df = df.replace(r\"\", np.nan)"
      ],
      "metadata": {
        "id": "bllEDKxp7QVA"
      },
      "execution_count": null,
      "outputs": []
    },
    {
      "cell_type": "code",
      "source": [
        "# Number of nulls for each column\n",
        "df.isnull().sum()"
      ],
      "metadata": {
        "colab": {
          "base_uri": "https://localhost:8080/"
        },
        "id": "MoKHeL1j7pA0",
        "outputId": "5f4827eb-f484-4d87-df63-78b982146300"
      },
      "execution_count": null,
      "outputs": [
        {
          "output_type": "execute_result",
          "data": {
            "text/plain": [
              "Work Order Number                 0\n",
              "Site Number                       0\n",
              "Site Type                         0\n",
              "Date Created                      0\n",
              "Date Completed                32387\n",
              "Provider Name                     0\n",
              "WO Current Status                 0\n",
              "Asset Category                    0\n",
              "Problem Type Name                 0\n",
              "Requested By                  82345\n",
              "WO Priority                       0\n",
              "Manufacturer                      0\n",
              "Asset In-Service Date        103238\n",
              "Level 1 Organization Name         0\n",
              "Site Zipcode                      0\n",
              "Sales Sq. Ft.                129538\n",
              "Asset Barcode                     0\n",
              "Client Product Name          142080\n",
              "Asset Type                    82345\n",
              "Asset Status                  83984\n",
              "dtype: int64"
            ]
          },
          "metadata": {},
          "execution_count": 13
        }
      ]
    },
    {
      "cell_type": "code",
      "source": [
        "# Total number of nulls or NaN values in the DataFrame\n",
        "df.isnull().sum().sum()"
      ],
      "metadata": {
        "colab": {
          "base_uri": "https://localhost:8080/"
        },
        "id": "qa_De3Mj6_o7",
        "outputId": "d9ac539f-6a80-4204-8065-d6add30263dc"
      },
      "execution_count": null,
      "outputs": [
        {
          "output_type": "execute_result",
          "data": {
            "text/plain": [
              "655917"
            ]
          },
          "metadata": {},
          "execution_count": 14
        }
      ]
    },
    {
      "cell_type": "code",
      "source": [
        "# There are just two columns with continue (numerical) variables  \n",
        "df.describe()"
      ],
      "metadata": {
        "colab": {
          "base_uri": "https://localhost:8080/",
          "height": 300
        },
        "id": "ZuNDrhjW_AN3",
        "outputId": "dd8d530d-ceb3-43c6-b3b5-b623a7d649b9"
      },
      "execution_count": null,
      "outputs": [
        {
          "output_type": "execute_result",
          "data": {
            "text/plain": [
              "       Work Order Number  Sales Sq. Ft.\n",
              "count       6.099890e+05  480451.000000\n",
              "mean        2.258053e+07   33424.599678\n",
              "std         5.329274e+06   17510.817320\n",
              "min         1.290468e+07     868.000000\n",
              "25%         1.889841e+07   21863.000000\n",
              "50%         2.214566e+07   35011.000000\n",
              "75%         2.693373e+07   45570.000000\n",
              "max         3.270445e+07   87176.000000"
            ],
            "text/html": [
              "\n",
              "  <div id=\"df-10306c67-7e40-4b9b-aff7-6e55164f70f0\">\n",
              "    <div class=\"colab-df-container\">\n",
              "      <div>\n",
              "<style scoped>\n",
              "    .dataframe tbody tr th:only-of-type {\n",
              "        vertical-align: middle;\n",
              "    }\n",
              "\n",
              "    .dataframe tbody tr th {\n",
              "        vertical-align: top;\n",
              "    }\n",
              "\n",
              "    .dataframe thead th {\n",
              "        text-align: right;\n",
              "    }\n",
              "</style>\n",
              "<table border=\"1\" class=\"dataframe\">\n",
              "  <thead>\n",
              "    <tr style=\"text-align: right;\">\n",
              "      <th></th>\n",
              "      <th>Work Order Number</th>\n",
              "      <th>Sales Sq. Ft.</th>\n",
              "    </tr>\n",
              "  </thead>\n",
              "  <tbody>\n",
              "    <tr>\n",
              "      <th>count</th>\n",
              "      <td>6.099890e+05</td>\n",
              "      <td>480451.000000</td>\n",
              "    </tr>\n",
              "    <tr>\n",
              "      <th>mean</th>\n",
              "      <td>2.258053e+07</td>\n",
              "      <td>33424.599678</td>\n",
              "    </tr>\n",
              "    <tr>\n",
              "      <th>std</th>\n",
              "      <td>5.329274e+06</td>\n",
              "      <td>17510.817320</td>\n",
              "    </tr>\n",
              "    <tr>\n",
              "      <th>min</th>\n",
              "      <td>1.290468e+07</td>\n",
              "      <td>868.000000</td>\n",
              "    </tr>\n",
              "    <tr>\n",
              "      <th>25%</th>\n",
              "      <td>1.889841e+07</td>\n",
              "      <td>21863.000000</td>\n",
              "    </tr>\n",
              "    <tr>\n",
              "      <th>50%</th>\n",
              "      <td>2.214566e+07</td>\n",
              "      <td>35011.000000</td>\n",
              "    </tr>\n",
              "    <tr>\n",
              "      <th>75%</th>\n",
              "      <td>2.693373e+07</td>\n",
              "      <td>45570.000000</td>\n",
              "    </tr>\n",
              "    <tr>\n",
              "      <th>max</th>\n",
              "      <td>3.270445e+07</td>\n",
              "      <td>87176.000000</td>\n",
              "    </tr>\n",
              "  </tbody>\n",
              "</table>\n",
              "</div>\n",
              "      <button class=\"colab-df-convert\" onclick=\"convertToInteractive('df-10306c67-7e40-4b9b-aff7-6e55164f70f0')\"\n",
              "              title=\"Convert this dataframe to an interactive table.\"\n",
              "              style=\"display:none;\">\n",
              "        \n",
              "  <svg xmlns=\"http://www.w3.org/2000/svg\" height=\"24px\"viewBox=\"0 0 24 24\"\n",
              "       width=\"24px\">\n",
              "    <path d=\"M0 0h24v24H0V0z\" fill=\"none\"/>\n",
              "    <path d=\"M18.56 5.44l.94 2.06.94-2.06 2.06-.94-2.06-.94-.94-2.06-.94 2.06-2.06.94zm-11 1L8.5 8.5l.94-2.06 2.06-.94-2.06-.94L8.5 2.5l-.94 2.06-2.06.94zm10 10l.94 2.06.94-2.06 2.06-.94-2.06-.94-.94-2.06-.94 2.06-2.06.94z\"/><path d=\"M17.41 7.96l-1.37-1.37c-.4-.4-.92-.59-1.43-.59-.52 0-1.04.2-1.43.59L10.3 9.45l-7.72 7.72c-.78.78-.78 2.05 0 2.83L4 21.41c.39.39.9.59 1.41.59.51 0 1.02-.2 1.41-.59l7.78-7.78 2.81-2.81c.8-.78.8-2.07 0-2.86zM5.41 20L4 18.59l7.72-7.72 1.47 1.35L5.41 20z\"/>\n",
              "  </svg>\n",
              "      </button>\n",
              "      \n",
              "  <style>\n",
              "    .colab-df-container {\n",
              "      display:flex;\n",
              "      flex-wrap:wrap;\n",
              "      gap: 12px;\n",
              "    }\n",
              "\n",
              "    .colab-df-convert {\n",
              "      background-color: #E8F0FE;\n",
              "      border: none;\n",
              "      border-radius: 50%;\n",
              "      cursor: pointer;\n",
              "      display: none;\n",
              "      fill: #1967D2;\n",
              "      height: 32px;\n",
              "      padding: 0 0 0 0;\n",
              "      width: 32px;\n",
              "    }\n",
              "\n",
              "    .colab-df-convert:hover {\n",
              "      background-color: #E2EBFA;\n",
              "      box-shadow: 0px 1px 2px rgba(60, 64, 67, 0.3), 0px 1px 3px 1px rgba(60, 64, 67, 0.15);\n",
              "      fill: #174EA6;\n",
              "    }\n",
              "\n",
              "    [theme=dark] .colab-df-convert {\n",
              "      background-color: #3B4455;\n",
              "      fill: #D2E3FC;\n",
              "    }\n",
              "\n",
              "    [theme=dark] .colab-df-convert:hover {\n",
              "      background-color: #434B5C;\n",
              "      box-shadow: 0px 1px 3px 1px rgba(0, 0, 0, 0.15);\n",
              "      filter: drop-shadow(0px 1px 2px rgba(0, 0, 0, 0.3));\n",
              "      fill: #FFFFFF;\n",
              "    }\n",
              "  </style>\n",
              "\n",
              "      <script>\n",
              "        const buttonEl =\n",
              "          document.querySelector('#df-10306c67-7e40-4b9b-aff7-6e55164f70f0 button.colab-df-convert');\n",
              "        buttonEl.style.display =\n",
              "          google.colab.kernel.accessAllowed ? 'block' : 'none';\n",
              "\n",
              "        async function convertToInteractive(key) {\n",
              "          const element = document.querySelector('#df-10306c67-7e40-4b9b-aff7-6e55164f70f0');\n",
              "          const dataTable =\n",
              "            await google.colab.kernel.invokeFunction('convertToInteractive',\n",
              "                                                     [key], {});\n",
              "          if (!dataTable) return;\n",
              "\n",
              "          const docLinkHtml = 'Like what you see? Visit the ' +\n",
              "            '<a target=\"_blank\" href=https://colab.research.google.com/notebooks/data_table.ipynb>data table notebook</a>'\n",
              "            + ' to learn more about interactive tables.';\n",
              "          element.innerHTML = '';\n",
              "          dataTable['output_type'] = 'display_data';\n",
              "          await google.colab.output.renderOutput(dataTable, element);\n",
              "          const docLink = document.createElement('div');\n",
              "          docLink.innerHTML = docLinkHtml;\n",
              "          element.appendChild(docLink);\n",
              "        }\n",
              "      </script>\n",
              "    </div>\n",
              "  </div>\n",
              "  "
            ]
          },
          "metadata": {},
          "execution_count": 15
        }
      ]
    },
    {
      "cell_type": "code",
      "source": [
        "# Converting the datatimes columns to a pandas datetime object\n",
        "times_columns = ['Date Created', 'Date Completed', 'Asset In-Service Date']\n",
        "for column in times_columns:\n",
        "  df[column] = pd.to_datetime(df[column], format='%d/%m/%Y %H:%M')\n"
      ],
      "metadata": {
        "id": "H0FjIw_bFkrV"
      },
      "execution_count": null,
      "outputs": []
    },
    {
      "cell_type": "code",
      "source": [
        "df.info()"
      ],
      "metadata": {
        "colab": {
          "base_uri": "https://localhost:8080/"
        },
        "id": "XkCDPlxaOQri",
        "outputId": "c4aa457d-3323-4a58-87c9-6591448e0834"
      },
      "execution_count": null,
      "outputs": [
        {
          "output_type": "stream",
          "name": "stdout",
          "text": [
            "<class 'pandas.core.frame.DataFrame'>\n",
            "RangeIndex: 609989 entries, 0 to 609988\n",
            "Data columns (total 20 columns):\n",
            " #   Column                     Non-Null Count   Dtype         \n",
            "---  ------                     --------------   -----         \n",
            " 0   Work Order Number          609989 non-null  int64         \n",
            " 1   Site Number                609989 non-null  object        \n",
            " 2   Site Type                  609989 non-null  object        \n",
            " 3   Date Created               609989 non-null  datetime64[ns]\n",
            " 4   Date Completed             577602 non-null  datetime64[ns]\n",
            " 5   Provider Name              609989 non-null  object        \n",
            " 6   WO Current Status          609989 non-null  object        \n",
            " 7   Asset Category             609989 non-null  object        \n",
            " 8   Problem Type Name          609989 non-null  object        \n",
            " 9   Requested By               527644 non-null  object        \n",
            " 10  WO Priority                609989 non-null  object        \n",
            " 11  Manufacturer               609989 non-null  object        \n",
            " 12  Asset In-Service Date      506751 non-null  datetime64[ns]\n",
            " 13  Level 1 Organization Name  609989 non-null  object        \n",
            " 14  Site Zipcode               609989 non-null  object        \n",
            " 15  Sales Sq. Ft.              480451 non-null  float64       \n",
            " 16  Asset Barcode              609989 non-null  object        \n",
            " 17  Client Product Name        467909 non-null  object        \n",
            " 18  Asset Type                 527644 non-null  object        \n",
            " 19  Asset Status               526005 non-null  object        \n",
            "dtypes: datetime64[ns](3), float64(1), int64(1), object(15)\n",
            "memory usage: 93.1+ MB\n"
          ]
        }
      ]
    },
    {
      "cell_type": "markdown",
      "source": [
        "## Regression analisys"
      ],
      "metadata": {
        "id": "37wJO0oMg96x"
      }
    },
    {
      "cell_type": "code",
      "source": [
        "dff = df.copy()"
      ],
      "metadata": {
        "id": "xNaameoQe_qn"
      },
      "execution_count": null,
      "outputs": []
    },
    {
      "cell_type": "code",
      "source": [
        "# Dropping non-contributing features to regression\n",
        "dff = dff.drop(['Work Order Number', 'Date Completed', 'WO Current Status', 'Asset Category', 'Problem Type Name', 'Requested By', 'WO Priority',  \\\n",
        "                   'Manufacturer', 'Asset In-Service Date', 'Level 1 Organization Name', 'Asset Barcode', 'Client Product Name', \\\n",
        "                   'Asset Type', 'Asset Status'], axis=1)"
      ],
      "metadata": {
        "id": "AcaCDjTDghRC"
      },
      "execution_count": null,
      "outputs": []
    },
    {
      "cell_type": "code",
      "source": [
        "# Getting year and month in new columns\n",
        "dff['year'] = dff['Date Created'].apply(lambda t: t.year)\n",
        "dff['month'] = dff['Date Created'].apply(lambda t: t.month)\n",
        "\n",
        "# Drop Data created column\n",
        "dff = dff.drop(['Date Created'], axis=1)"
      ],
      "metadata": {
        "id": "_J9IqZaRgto3"
      },
      "execution_count": null,
      "outputs": []
    },
    {
      "cell_type": "code",
      "source": [
        "dff"
      ],
      "metadata": {
        "colab": {
          "base_uri": "https://localhost:8080/",
          "height": 424
        },
        "id": "WcGoSSaog-_2",
        "outputId": "ef07822c-3a3d-4afb-a12f-e0c09c3f3176"
      },
      "execution_count": null,
      "outputs": [
        {
          "output_type": "execute_result",
          "data": {
            "text/plain": [
              "       Site Number          Site Type                   Provider Name  \\\n",
              "0            a0892        supermarket  space engineering services ltd   \n",
              "1            a0892        supermarket  space engineering services ltd   \n",
              "2            a0892        supermarket  space engineering services ltd   \n",
              "3            a0416        supermarket           cms solutions limited   \n",
              "4            a0003        supermarket           cms solutions limited   \n",
              "...            ...                ...                             ...   \n",
              "609984       a4994  convenience store  space engineering services ltd   \n",
              "609985       a4542  convenience store  space engineering services ltd   \n",
              "609986       a4357  convenience store  space engineering services ltd   \n",
              "609987       a4719  convenience store            carter refrigeration   \n",
              "609988       d0147              depot    closed circuit cooling (3cl)   \n",
              "\n",
              "       Site Zipcode  Sales Sq. Ft.  year  month  \n",
              "0          dn31 1uf        42639.0  2012      2  \n",
              "1          dn31 1uf        42639.0  2012      2  \n",
              "2          dn31 1uf        42639.0  2012      2  \n",
              "3           br4 0pu        13423.0  2012      2  \n",
              "4          da11 8jh        37870.0  2012      2  \n",
              "...             ...            ...   ...    ...  \n",
              "609984     cv22 5ez            NaN  2015      9  \n",
              "609985     bs21 7ph            NaN  2015      9  \n",
              "609986      wv3 9qz            NaN  2015      9  \n",
              "609987     ls25 1ds         1547.0  2015      9  \n",
              "609988      se7 7sh            NaN  2015      9  \n",
              "\n",
              "[609989 rows x 7 columns]"
            ],
            "text/html": [
              "\n",
              "  <div id=\"df-d28b7dfe-df52-4aea-b26e-819203ac6f98\">\n",
              "    <div class=\"colab-df-container\">\n",
              "      <div>\n",
              "<style scoped>\n",
              "    .dataframe tbody tr th:only-of-type {\n",
              "        vertical-align: middle;\n",
              "    }\n",
              "\n",
              "    .dataframe tbody tr th {\n",
              "        vertical-align: top;\n",
              "    }\n",
              "\n",
              "    .dataframe thead th {\n",
              "        text-align: right;\n",
              "    }\n",
              "</style>\n",
              "<table border=\"1\" class=\"dataframe\">\n",
              "  <thead>\n",
              "    <tr style=\"text-align: right;\">\n",
              "      <th></th>\n",
              "      <th>Site Number</th>\n",
              "      <th>Site Type</th>\n",
              "      <th>Provider Name</th>\n",
              "      <th>Site Zipcode</th>\n",
              "      <th>Sales Sq. Ft.</th>\n",
              "      <th>year</th>\n",
              "      <th>month</th>\n",
              "    </tr>\n",
              "  </thead>\n",
              "  <tbody>\n",
              "    <tr>\n",
              "      <th>0</th>\n",
              "      <td>a0892</td>\n",
              "      <td>supermarket</td>\n",
              "      <td>space engineering services ltd</td>\n",
              "      <td>dn31 1uf</td>\n",
              "      <td>42639.0</td>\n",
              "      <td>2012</td>\n",
              "      <td>2</td>\n",
              "    </tr>\n",
              "    <tr>\n",
              "      <th>1</th>\n",
              "      <td>a0892</td>\n",
              "      <td>supermarket</td>\n",
              "      <td>space engineering services ltd</td>\n",
              "      <td>dn31 1uf</td>\n",
              "      <td>42639.0</td>\n",
              "      <td>2012</td>\n",
              "      <td>2</td>\n",
              "    </tr>\n",
              "    <tr>\n",
              "      <th>2</th>\n",
              "      <td>a0892</td>\n",
              "      <td>supermarket</td>\n",
              "      <td>space engineering services ltd</td>\n",
              "      <td>dn31 1uf</td>\n",
              "      <td>42639.0</td>\n",
              "      <td>2012</td>\n",
              "      <td>2</td>\n",
              "    </tr>\n",
              "    <tr>\n",
              "      <th>3</th>\n",
              "      <td>a0416</td>\n",
              "      <td>supermarket</td>\n",
              "      <td>cms solutions limited</td>\n",
              "      <td>br4 0pu</td>\n",
              "      <td>13423.0</td>\n",
              "      <td>2012</td>\n",
              "      <td>2</td>\n",
              "    </tr>\n",
              "    <tr>\n",
              "      <th>4</th>\n",
              "      <td>a0003</td>\n",
              "      <td>supermarket</td>\n",
              "      <td>cms solutions limited</td>\n",
              "      <td>da11 8jh</td>\n",
              "      <td>37870.0</td>\n",
              "      <td>2012</td>\n",
              "      <td>2</td>\n",
              "    </tr>\n",
              "    <tr>\n",
              "      <th>...</th>\n",
              "      <td>...</td>\n",
              "      <td>...</td>\n",
              "      <td>...</td>\n",
              "      <td>...</td>\n",
              "      <td>...</td>\n",
              "      <td>...</td>\n",
              "      <td>...</td>\n",
              "    </tr>\n",
              "    <tr>\n",
              "      <th>609984</th>\n",
              "      <td>a4994</td>\n",
              "      <td>convenience store</td>\n",
              "      <td>space engineering services ltd</td>\n",
              "      <td>cv22 5ez</td>\n",
              "      <td>NaN</td>\n",
              "      <td>2015</td>\n",
              "      <td>9</td>\n",
              "    </tr>\n",
              "    <tr>\n",
              "      <th>609985</th>\n",
              "      <td>a4542</td>\n",
              "      <td>convenience store</td>\n",
              "      <td>space engineering services ltd</td>\n",
              "      <td>bs21 7ph</td>\n",
              "      <td>NaN</td>\n",
              "      <td>2015</td>\n",
              "      <td>9</td>\n",
              "    </tr>\n",
              "    <tr>\n",
              "      <th>609986</th>\n",
              "      <td>a4357</td>\n",
              "      <td>convenience store</td>\n",
              "      <td>space engineering services ltd</td>\n",
              "      <td>wv3 9qz</td>\n",
              "      <td>NaN</td>\n",
              "      <td>2015</td>\n",
              "      <td>9</td>\n",
              "    </tr>\n",
              "    <tr>\n",
              "      <th>609987</th>\n",
              "      <td>a4719</td>\n",
              "      <td>convenience store</td>\n",
              "      <td>carter refrigeration</td>\n",
              "      <td>ls25 1ds</td>\n",
              "      <td>1547.0</td>\n",
              "      <td>2015</td>\n",
              "      <td>9</td>\n",
              "    </tr>\n",
              "    <tr>\n",
              "      <th>609988</th>\n",
              "      <td>d0147</td>\n",
              "      <td>depot</td>\n",
              "      <td>closed circuit cooling (3cl)</td>\n",
              "      <td>se7 7sh</td>\n",
              "      <td>NaN</td>\n",
              "      <td>2015</td>\n",
              "      <td>9</td>\n",
              "    </tr>\n",
              "  </tbody>\n",
              "</table>\n",
              "<p>609989 rows × 7 columns</p>\n",
              "</div>\n",
              "      <button class=\"colab-df-convert\" onclick=\"convertToInteractive('df-d28b7dfe-df52-4aea-b26e-819203ac6f98')\"\n",
              "              title=\"Convert this dataframe to an interactive table.\"\n",
              "              style=\"display:none;\">\n",
              "        \n",
              "  <svg xmlns=\"http://www.w3.org/2000/svg\" height=\"24px\"viewBox=\"0 0 24 24\"\n",
              "       width=\"24px\">\n",
              "    <path d=\"M0 0h24v24H0V0z\" fill=\"none\"/>\n",
              "    <path d=\"M18.56 5.44l.94 2.06.94-2.06 2.06-.94-2.06-.94-.94-2.06-.94 2.06-2.06.94zm-11 1L8.5 8.5l.94-2.06 2.06-.94-2.06-.94L8.5 2.5l-.94 2.06-2.06.94zm10 10l.94 2.06.94-2.06 2.06-.94-2.06-.94-.94-2.06-.94 2.06-2.06.94z\"/><path d=\"M17.41 7.96l-1.37-1.37c-.4-.4-.92-.59-1.43-.59-.52 0-1.04.2-1.43.59L10.3 9.45l-7.72 7.72c-.78.78-.78 2.05 0 2.83L4 21.41c.39.39.9.59 1.41.59.51 0 1.02-.2 1.41-.59l7.78-7.78 2.81-2.81c.8-.78.8-2.07 0-2.86zM5.41 20L4 18.59l7.72-7.72 1.47 1.35L5.41 20z\"/>\n",
              "  </svg>\n",
              "      </button>\n",
              "      \n",
              "  <style>\n",
              "    .colab-df-container {\n",
              "      display:flex;\n",
              "      flex-wrap:wrap;\n",
              "      gap: 12px;\n",
              "    }\n",
              "\n",
              "    .colab-df-convert {\n",
              "      background-color: #E8F0FE;\n",
              "      border: none;\n",
              "      border-radius: 50%;\n",
              "      cursor: pointer;\n",
              "      display: none;\n",
              "      fill: #1967D2;\n",
              "      height: 32px;\n",
              "      padding: 0 0 0 0;\n",
              "      width: 32px;\n",
              "    }\n",
              "\n",
              "    .colab-df-convert:hover {\n",
              "      background-color: #E2EBFA;\n",
              "      box-shadow: 0px 1px 2px rgba(60, 64, 67, 0.3), 0px 1px 3px 1px rgba(60, 64, 67, 0.15);\n",
              "      fill: #174EA6;\n",
              "    }\n",
              "\n",
              "    [theme=dark] .colab-df-convert {\n",
              "      background-color: #3B4455;\n",
              "      fill: #D2E3FC;\n",
              "    }\n",
              "\n",
              "    [theme=dark] .colab-df-convert:hover {\n",
              "      background-color: #434B5C;\n",
              "      box-shadow: 0px 1px 3px 1px rgba(0, 0, 0, 0.15);\n",
              "      filter: drop-shadow(0px 1px 2px rgba(0, 0, 0, 0.3));\n",
              "      fill: #FFFFFF;\n",
              "    }\n",
              "  </style>\n",
              "\n",
              "      <script>\n",
              "        const buttonEl =\n",
              "          document.querySelector('#df-d28b7dfe-df52-4aea-b26e-819203ac6f98 button.colab-df-convert');\n",
              "        buttonEl.style.display =\n",
              "          google.colab.kernel.accessAllowed ? 'block' : 'none';\n",
              "\n",
              "        async function convertToInteractive(key) {\n",
              "          const element = document.querySelector('#df-d28b7dfe-df52-4aea-b26e-819203ac6f98');\n",
              "          const dataTable =\n",
              "            await google.colab.kernel.invokeFunction('convertToInteractive',\n",
              "                                                     [key], {});\n",
              "          if (!dataTable) return;\n",
              "\n",
              "          const docLinkHtml = 'Like what you see? Visit the ' +\n",
              "            '<a target=\"_blank\" href=https://colab.research.google.com/notebooks/data_table.ipynb>data table notebook</a>'\n",
              "            + ' to learn more about interactive tables.';\n",
              "          element.innerHTML = '';\n",
              "          dataTable['output_type'] = 'display_data';\n",
              "          await google.colab.output.renderOutput(dataTable, element);\n",
              "          const docLink = document.createElement('div');\n",
              "          docLink.innerHTML = docLinkHtml;\n",
              "          element.appendChild(docLink);\n",
              "        }\n",
              "      </script>\n",
              "    </div>\n",
              "  </div>\n",
              "  "
            ]
          },
          "metadata": {},
          "execution_count": 21
        }
      ]
    },
    {
      "cell_type": "code",
      "source": [
        "# All nulls belong to Sales Sq. Ft. column\n",
        "dff.isna().sum()"
      ],
      "metadata": {
        "colab": {
          "base_uri": "https://localhost:8080/"
        },
        "id": "8vBMoQWOg_Cc",
        "outputId": "effa1b0b-56ae-4f01-f9dc-975abe1eba8f"
      },
      "execution_count": null,
      "outputs": [
        {
          "output_type": "execute_result",
          "data": {
            "text/plain": [
              "Site Number           0\n",
              "Site Type             0\n",
              "Provider Name         0\n",
              "Site Zipcode          0\n",
              "Sales Sq. Ft.    129538\n",
              "year                  0\n",
              "month                 0\n",
              "dtype: int64"
            ]
          },
          "metadata": {},
          "execution_count": 22
        }
      ]
    },
    {
      "cell_type": "code",
      "source": [
        "dff = dff.fillna(0)\n",
        "dff"
      ],
      "metadata": {
        "colab": {
          "base_uri": "https://localhost:8080/",
          "height": 424
        },
        "id": "Zqfk4Iy9hHbv",
        "outputId": "0b441e5e-d980-42a5-ee88-d749bd46b401"
      },
      "execution_count": null,
      "outputs": [
        {
          "output_type": "execute_result",
          "data": {
            "text/plain": [
              "       Site Number          Site Type                   Provider Name  \\\n",
              "0            a0892        supermarket  space engineering services ltd   \n",
              "1            a0892        supermarket  space engineering services ltd   \n",
              "2            a0892        supermarket  space engineering services ltd   \n",
              "3            a0416        supermarket           cms solutions limited   \n",
              "4            a0003        supermarket           cms solutions limited   \n",
              "...            ...                ...                             ...   \n",
              "609984       a4994  convenience store  space engineering services ltd   \n",
              "609985       a4542  convenience store  space engineering services ltd   \n",
              "609986       a4357  convenience store  space engineering services ltd   \n",
              "609987       a4719  convenience store            carter refrigeration   \n",
              "609988       d0147              depot    closed circuit cooling (3cl)   \n",
              "\n",
              "       Site Zipcode  Sales Sq. Ft.  year  month  \n",
              "0          dn31 1uf        42639.0  2012      2  \n",
              "1          dn31 1uf        42639.0  2012      2  \n",
              "2          dn31 1uf        42639.0  2012      2  \n",
              "3           br4 0pu        13423.0  2012      2  \n",
              "4          da11 8jh        37870.0  2012      2  \n",
              "...             ...            ...   ...    ...  \n",
              "609984     cv22 5ez            0.0  2015      9  \n",
              "609985     bs21 7ph            0.0  2015      9  \n",
              "609986      wv3 9qz            0.0  2015      9  \n",
              "609987     ls25 1ds         1547.0  2015      9  \n",
              "609988      se7 7sh            0.0  2015      9  \n",
              "\n",
              "[609989 rows x 7 columns]"
            ],
            "text/html": [
              "\n",
              "  <div id=\"df-e5a997d6-4d8d-450b-acac-43a4b286738a\">\n",
              "    <div class=\"colab-df-container\">\n",
              "      <div>\n",
              "<style scoped>\n",
              "    .dataframe tbody tr th:only-of-type {\n",
              "        vertical-align: middle;\n",
              "    }\n",
              "\n",
              "    .dataframe tbody tr th {\n",
              "        vertical-align: top;\n",
              "    }\n",
              "\n",
              "    .dataframe thead th {\n",
              "        text-align: right;\n",
              "    }\n",
              "</style>\n",
              "<table border=\"1\" class=\"dataframe\">\n",
              "  <thead>\n",
              "    <tr style=\"text-align: right;\">\n",
              "      <th></th>\n",
              "      <th>Site Number</th>\n",
              "      <th>Site Type</th>\n",
              "      <th>Provider Name</th>\n",
              "      <th>Site Zipcode</th>\n",
              "      <th>Sales Sq. Ft.</th>\n",
              "      <th>year</th>\n",
              "      <th>month</th>\n",
              "    </tr>\n",
              "  </thead>\n",
              "  <tbody>\n",
              "    <tr>\n",
              "      <th>0</th>\n",
              "      <td>a0892</td>\n",
              "      <td>supermarket</td>\n",
              "      <td>space engineering services ltd</td>\n",
              "      <td>dn31 1uf</td>\n",
              "      <td>42639.0</td>\n",
              "      <td>2012</td>\n",
              "      <td>2</td>\n",
              "    </tr>\n",
              "    <tr>\n",
              "      <th>1</th>\n",
              "      <td>a0892</td>\n",
              "      <td>supermarket</td>\n",
              "      <td>space engineering services ltd</td>\n",
              "      <td>dn31 1uf</td>\n",
              "      <td>42639.0</td>\n",
              "      <td>2012</td>\n",
              "      <td>2</td>\n",
              "    </tr>\n",
              "    <tr>\n",
              "      <th>2</th>\n",
              "      <td>a0892</td>\n",
              "      <td>supermarket</td>\n",
              "      <td>space engineering services ltd</td>\n",
              "      <td>dn31 1uf</td>\n",
              "      <td>42639.0</td>\n",
              "      <td>2012</td>\n",
              "      <td>2</td>\n",
              "    </tr>\n",
              "    <tr>\n",
              "      <th>3</th>\n",
              "      <td>a0416</td>\n",
              "      <td>supermarket</td>\n",
              "      <td>cms solutions limited</td>\n",
              "      <td>br4 0pu</td>\n",
              "      <td>13423.0</td>\n",
              "      <td>2012</td>\n",
              "      <td>2</td>\n",
              "    </tr>\n",
              "    <tr>\n",
              "      <th>4</th>\n",
              "      <td>a0003</td>\n",
              "      <td>supermarket</td>\n",
              "      <td>cms solutions limited</td>\n",
              "      <td>da11 8jh</td>\n",
              "      <td>37870.0</td>\n",
              "      <td>2012</td>\n",
              "      <td>2</td>\n",
              "    </tr>\n",
              "    <tr>\n",
              "      <th>...</th>\n",
              "      <td>...</td>\n",
              "      <td>...</td>\n",
              "      <td>...</td>\n",
              "      <td>...</td>\n",
              "      <td>...</td>\n",
              "      <td>...</td>\n",
              "      <td>...</td>\n",
              "    </tr>\n",
              "    <tr>\n",
              "      <th>609984</th>\n",
              "      <td>a4994</td>\n",
              "      <td>convenience store</td>\n",
              "      <td>space engineering services ltd</td>\n",
              "      <td>cv22 5ez</td>\n",
              "      <td>0.0</td>\n",
              "      <td>2015</td>\n",
              "      <td>9</td>\n",
              "    </tr>\n",
              "    <tr>\n",
              "      <th>609985</th>\n",
              "      <td>a4542</td>\n",
              "      <td>convenience store</td>\n",
              "      <td>space engineering services ltd</td>\n",
              "      <td>bs21 7ph</td>\n",
              "      <td>0.0</td>\n",
              "      <td>2015</td>\n",
              "      <td>9</td>\n",
              "    </tr>\n",
              "    <tr>\n",
              "      <th>609986</th>\n",
              "      <td>a4357</td>\n",
              "      <td>convenience store</td>\n",
              "      <td>space engineering services ltd</td>\n",
              "      <td>wv3 9qz</td>\n",
              "      <td>0.0</td>\n",
              "      <td>2015</td>\n",
              "      <td>9</td>\n",
              "    </tr>\n",
              "    <tr>\n",
              "      <th>609987</th>\n",
              "      <td>a4719</td>\n",
              "      <td>convenience store</td>\n",
              "      <td>carter refrigeration</td>\n",
              "      <td>ls25 1ds</td>\n",
              "      <td>1547.0</td>\n",
              "      <td>2015</td>\n",
              "      <td>9</td>\n",
              "    </tr>\n",
              "    <tr>\n",
              "      <th>609988</th>\n",
              "      <td>d0147</td>\n",
              "      <td>depot</td>\n",
              "      <td>closed circuit cooling (3cl)</td>\n",
              "      <td>se7 7sh</td>\n",
              "      <td>0.0</td>\n",
              "      <td>2015</td>\n",
              "      <td>9</td>\n",
              "    </tr>\n",
              "  </tbody>\n",
              "</table>\n",
              "<p>609989 rows × 7 columns</p>\n",
              "</div>\n",
              "      <button class=\"colab-df-convert\" onclick=\"convertToInteractive('df-e5a997d6-4d8d-450b-acac-43a4b286738a')\"\n",
              "              title=\"Convert this dataframe to an interactive table.\"\n",
              "              style=\"display:none;\">\n",
              "        \n",
              "  <svg xmlns=\"http://www.w3.org/2000/svg\" height=\"24px\"viewBox=\"0 0 24 24\"\n",
              "       width=\"24px\">\n",
              "    <path d=\"M0 0h24v24H0V0z\" fill=\"none\"/>\n",
              "    <path d=\"M18.56 5.44l.94 2.06.94-2.06 2.06-.94-2.06-.94-.94-2.06-.94 2.06-2.06.94zm-11 1L8.5 8.5l.94-2.06 2.06-.94-2.06-.94L8.5 2.5l-.94 2.06-2.06.94zm10 10l.94 2.06.94-2.06 2.06-.94-2.06-.94-.94-2.06-.94 2.06-2.06.94z\"/><path d=\"M17.41 7.96l-1.37-1.37c-.4-.4-.92-.59-1.43-.59-.52 0-1.04.2-1.43.59L10.3 9.45l-7.72 7.72c-.78.78-.78 2.05 0 2.83L4 21.41c.39.39.9.59 1.41.59.51 0 1.02-.2 1.41-.59l7.78-7.78 2.81-2.81c.8-.78.8-2.07 0-2.86zM5.41 20L4 18.59l7.72-7.72 1.47 1.35L5.41 20z\"/>\n",
              "  </svg>\n",
              "      </button>\n",
              "      \n",
              "  <style>\n",
              "    .colab-df-container {\n",
              "      display:flex;\n",
              "      flex-wrap:wrap;\n",
              "      gap: 12px;\n",
              "    }\n",
              "\n",
              "    .colab-df-convert {\n",
              "      background-color: #E8F0FE;\n",
              "      border: none;\n",
              "      border-radius: 50%;\n",
              "      cursor: pointer;\n",
              "      display: none;\n",
              "      fill: #1967D2;\n",
              "      height: 32px;\n",
              "      padding: 0 0 0 0;\n",
              "      width: 32px;\n",
              "    }\n",
              "\n",
              "    .colab-df-convert:hover {\n",
              "      background-color: #E2EBFA;\n",
              "      box-shadow: 0px 1px 2px rgba(60, 64, 67, 0.3), 0px 1px 3px 1px rgba(60, 64, 67, 0.15);\n",
              "      fill: #174EA6;\n",
              "    }\n",
              "\n",
              "    [theme=dark] .colab-df-convert {\n",
              "      background-color: #3B4455;\n",
              "      fill: #D2E3FC;\n",
              "    }\n",
              "\n",
              "    [theme=dark] .colab-df-convert:hover {\n",
              "      background-color: #434B5C;\n",
              "      box-shadow: 0px 1px 3px 1px rgba(0, 0, 0, 0.15);\n",
              "      filter: drop-shadow(0px 1px 2px rgba(0, 0, 0, 0.3));\n",
              "      fill: #FFFFFF;\n",
              "    }\n",
              "  </style>\n",
              "\n",
              "      <script>\n",
              "        const buttonEl =\n",
              "          document.querySelector('#df-e5a997d6-4d8d-450b-acac-43a4b286738a button.colab-df-convert');\n",
              "        buttonEl.style.display =\n",
              "          google.colab.kernel.accessAllowed ? 'block' : 'none';\n",
              "\n",
              "        async function convertToInteractive(key) {\n",
              "          const element = document.querySelector('#df-e5a997d6-4d8d-450b-acac-43a4b286738a');\n",
              "          const dataTable =\n",
              "            await google.colab.kernel.invokeFunction('convertToInteractive',\n",
              "                                                     [key], {});\n",
              "          if (!dataTable) return;\n",
              "\n",
              "          const docLinkHtml = 'Like what you see? Visit the ' +\n",
              "            '<a target=\"_blank\" href=https://colab.research.google.com/notebooks/data_table.ipynb>data table notebook</a>'\n",
              "            + ' to learn more about interactive tables.';\n",
              "          element.innerHTML = '';\n",
              "          dataTable['output_type'] = 'display_data';\n",
              "          await google.colab.output.renderOutput(dataTable, element);\n",
              "          const docLink = document.createElement('div');\n",
              "          docLink.innerHTML = docLinkHtml;\n",
              "          element.appendChild(docLink);\n",
              "        }\n",
              "      </script>\n",
              "    </div>\n",
              "  </div>\n",
              "  "
            ]
          },
          "metadata": {},
          "execution_count": 23
        }
      ]
    },
    {
      "cell_type": "code",
      "source": [
        "# Grouping number of alarms for every feature\n",
        "d = dff.groupby(['Site Number','Site Zipcode','Sales Sq. Ft.','Site Type','year', 'month', 'Provider Name']).year.count()\n",
        "d"
      ],
      "metadata": {
        "id": "g13n0WdshHhA",
        "colab": {
          "base_uri": "https://localhost:8080/"
        },
        "outputId": "d1513789-6909-4677-c24c-5e0d34133f24"
      },
      "execution_count": null,
      "outputs": [
        {
          "output_type": "execute_result",
          "data": {
            "text/plain": [
              "Site Number  Site Zipcode  Sales Sq. Ft.  Site Type    year  month  Provider Name        \n",
              "a0002        e15 1xe       11846.0        supermarket  2012  2      cms solutions limited     7\n",
              "                                                             3      cms solutions limited     8\n",
              "                                                             4      cms solutions limited    12\n",
              "                                                             5      cms solutions limited     7\n",
              "                                                             6      cms solutions limited    10\n",
              "                                                                                             ..\n",
              "p2835        bl3 6dh       0.0            pfs          2014  8      cbes                      5\n",
              "                                                             9      cbes                      1\n",
              "                                                             10     cbes                      3\n",
              "                                                             11     cbes                      1\n",
              "                                                       2015  4      cbes                      3\n",
              "Name: year, Length: 57663, dtype: int64"
            ]
          },
          "metadata": {},
          "execution_count": 24
        }
      ]
    },
    {
      "cell_type": "code",
      "source": [
        "# Create lists with the feature plus number of alarms\n",
        "myList = []\n",
        "for i in range(len(d)):\n",
        "  a = list(d.index[i])\n",
        "  a.append(d[i])\n",
        "  myList.append(a)"
      ],
      "metadata": {
        "id": "Y_FbefQdhHor"
      },
      "execution_count": null,
      "outputs": []
    },
    {
      "cell_type": "code",
      "source": [
        "# Create the DataFrame with number of alarms\n",
        "df_alarms = pd.DataFrame(myList, columns = ['Site Number', 'Site Zipcode', 'Sales Sq. Ft.','Site Type','Year','Month', 'Provider Name', 'Number of Alarms'])"
      ],
      "metadata": {
        "id": "0ZJ3vy6ah1kz"
      },
      "execution_count": null,
      "outputs": []
    },
    {
      "cell_type": "code",
      "source": [
        "df_alarms"
      ],
      "metadata": {
        "colab": {
          "base_uri": "https://localhost:8080/",
          "height": 424
        },
        "id": "9nQPG9xfh1nm",
        "outputId": "da34f552-6138-4c4a-b2f7-93b1ed4c7eee"
      },
      "execution_count": null,
      "outputs": [
        {
          "output_type": "execute_result",
          "data": {
            "text/plain": [
              "      Site Number Site Zipcode  Sales Sq. Ft.    Site Type  Year  Month  \\\n",
              "0           a0002      e15 1xe        11846.0  supermarket  2012      2   \n",
              "1           a0002      e15 1xe        11846.0  supermarket  2012      3   \n",
              "2           a0002      e15 1xe        11846.0  supermarket  2012      4   \n",
              "3           a0002      e15 1xe        11846.0  supermarket  2012      5   \n",
              "4           a0002      e15 1xe        11846.0  supermarket  2012      6   \n",
              "...           ...          ...            ...          ...   ...    ...   \n",
              "57658       p2835      bl3 6dh            0.0          pfs  2014      8   \n",
              "57659       p2835      bl3 6dh            0.0          pfs  2014      9   \n",
              "57660       p2835      bl3 6dh            0.0          pfs  2014     10   \n",
              "57661       p2835      bl3 6dh            0.0          pfs  2014     11   \n",
              "57662       p2835      bl3 6dh            0.0          pfs  2015      4   \n",
              "\n",
              "               Provider Name  Number of Alarms  \n",
              "0      cms solutions limited                 7  \n",
              "1      cms solutions limited                 8  \n",
              "2      cms solutions limited                12  \n",
              "3      cms solutions limited                 7  \n",
              "4      cms solutions limited                10  \n",
              "...                      ...               ...  \n",
              "57658                   cbes                 5  \n",
              "57659                   cbes                 1  \n",
              "57660                   cbes                 3  \n",
              "57661                   cbes                 1  \n",
              "57662                   cbes                 3  \n",
              "\n",
              "[57663 rows x 8 columns]"
            ],
            "text/html": [
              "\n",
              "  <div id=\"df-4a099be3-f64a-4863-9e45-119aa8649cac\">\n",
              "    <div class=\"colab-df-container\">\n",
              "      <div>\n",
              "<style scoped>\n",
              "    .dataframe tbody tr th:only-of-type {\n",
              "        vertical-align: middle;\n",
              "    }\n",
              "\n",
              "    .dataframe tbody tr th {\n",
              "        vertical-align: top;\n",
              "    }\n",
              "\n",
              "    .dataframe thead th {\n",
              "        text-align: right;\n",
              "    }\n",
              "</style>\n",
              "<table border=\"1\" class=\"dataframe\">\n",
              "  <thead>\n",
              "    <tr style=\"text-align: right;\">\n",
              "      <th></th>\n",
              "      <th>Site Number</th>\n",
              "      <th>Site Zipcode</th>\n",
              "      <th>Sales Sq. Ft.</th>\n",
              "      <th>Site Type</th>\n",
              "      <th>Year</th>\n",
              "      <th>Month</th>\n",
              "      <th>Provider Name</th>\n",
              "      <th>Number of Alarms</th>\n",
              "    </tr>\n",
              "  </thead>\n",
              "  <tbody>\n",
              "    <tr>\n",
              "      <th>0</th>\n",
              "      <td>a0002</td>\n",
              "      <td>e15 1xe</td>\n",
              "      <td>11846.0</td>\n",
              "      <td>supermarket</td>\n",
              "      <td>2012</td>\n",
              "      <td>2</td>\n",
              "      <td>cms solutions limited</td>\n",
              "      <td>7</td>\n",
              "    </tr>\n",
              "    <tr>\n",
              "      <th>1</th>\n",
              "      <td>a0002</td>\n",
              "      <td>e15 1xe</td>\n",
              "      <td>11846.0</td>\n",
              "      <td>supermarket</td>\n",
              "      <td>2012</td>\n",
              "      <td>3</td>\n",
              "      <td>cms solutions limited</td>\n",
              "      <td>8</td>\n",
              "    </tr>\n",
              "    <tr>\n",
              "      <th>2</th>\n",
              "      <td>a0002</td>\n",
              "      <td>e15 1xe</td>\n",
              "      <td>11846.0</td>\n",
              "      <td>supermarket</td>\n",
              "      <td>2012</td>\n",
              "      <td>4</td>\n",
              "      <td>cms solutions limited</td>\n",
              "      <td>12</td>\n",
              "    </tr>\n",
              "    <tr>\n",
              "      <th>3</th>\n",
              "      <td>a0002</td>\n",
              "      <td>e15 1xe</td>\n",
              "      <td>11846.0</td>\n",
              "      <td>supermarket</td>\n",
              "      <td>2012</td>\n",
              "      <td>5</td>\n",
              "      <td>cms solutions limited</td>\n",
              "      <td>7</td>\n",
              "    </tr>\n",
              "    <tr>\n",
              "      <th>4</th>\n",
              "      <td>a0002</td>\n",
              "      <td>e15 1xe</td>\n",
              "      <td>11846.0</td>\n",
              "      <td>supermarket</td>\n",
              "      <td>2012</td>\n",
              "      <td>6</td>\n",
              "      <td>cms solutions limited</td>\n",
              "      <td>10</td>\n",
              "    </tr>\n",
              "    <tr>\n",
              "      <th>...</th>\n",
              "      <td>...</td>\n",
              "      <td>...</td>\n",
              "      <td>...</td>\n",
              "      <td>...</td>\n",
              "      <td>...</td>\n",
              "      <td>...</td>\n",
              "      <td>...</td>\n",
              "      <td>...</td>\n",
              "    </tr>\n",
              "    <tr>\n",
              "      <th>57658</th>\n",
              "      <td>p2835</td>\n",
              "      <td>bl3 6dh</td>\n",
              "      <td>0.0</td>\n",
              "      <td>pfs</td>\n",
              "      <td>2014</td>\n",
              "      <td>8</td>\n",
              "      <td>cbes</td>\n",
              "      <td>5</td>\n",
              "    </tr>\n",
              "    <tr>\n",
              "      <th>57659</th>\n",
              "      <td>p2835</td>\n",
              "      <td>bl3 6dh</td>\n",
              "      <td>0.0</td>\n",
              "      <td>pfs</td>\n",
              "      <td>2014</td>\n",
              "      <td>9</td>\n",
              "      <td>cbes</td>\n",
              "      <td>1</td>\n",
              "    </tr>\n",
              "    <tr>\n",
              "      <th>57660</th>\n",
              "      <td>p2835</td>\n",
              "      <td>bl3 6dh</td>\n",
              "      <td>0.0</td>\n",
              "      <td>pfs</td>\n",
              "      <td>2014</td>\n",
              "      <td>10</td>\n",
              "      <td>cbes</td>\n",
              "      <td>3</td>\n",
              "    </tr>\n",
              "    <tr>\n",
              "      <th>57661</th>\n",
              "      <td>p2835</td>\n",
              "      <td>bl3 6dh</td>\n",
              "      <td>0.0</td>\n",
              "      <td>pfs</td>\n",
              "      <td>2014</td>\n",
              "      <td>11</td>\n",
              "      <td>cbes</td>\n",
              "      <td>1</td>\n",
              "    </tr>\n",
              "    <tr>\n",
              "      <th>57662</th>\n",
              "      <td>p2835</td>\n",
              "      <td>bl3 6dh</td>\n",
              "      <td>0.0</td>\n",
              "      <td>pfs</td>\n",
              "      <td>2015</td>\n",
              "      <td>4</td>\n",
              "      <td>cbes</td>\n",
              "      <td>3</td>\n",
              "    </tr>\n",
              "  </tbody>\n",
              "</table>\n",
              "<p>57663 rows × 8 columns</p>\n",
              "</div>\n",
              "      <button class=\"colab-df-convert\" onclick=\"convertToInteractive('df-4a099be3-f64a-4863-9e45-119aa8649cac')\"\n",
              "              title=\"Convert this dataframe to an interactive table.\"\n",
              "              style=\"display:none;\">\n",
              "        \n",
              "  <svg xmlns=\"http://www.w3.org/2000/svg\" height=\"24px\"viewBox=\"0 0 24 24\"\n",
              "       width=\"24px\">\n",
              "    <path d=\"M0 0h24v24H0V0z\" fill=\"none\"/>\n",
              "    <path d=\"M18.56 5.44l.94 2.06.94-2.06 2.06-.94-2.06-.94-.94-2.06-.94 2.06-2.06.94zm-11 1L8.5 8.5l.94-2.06 2.06-.94-2.06-.94L8.5 2.5l-.94 2.06-2.06.94zm10 10l.94 2.06.94-2.06 2.06-.94-2.06-.94-.94-2.06-.94 2.06-2.06.94z\"/><path d=\"M17.41 7.96l-1.37-1.37c-.4-.4-.92-.59-1.43-.59-.52 0-1.04.2-1.43.59L10.3 9.45l-7.72 7.72c-.78.78-.78 2.05 0 2.83L4 21.41c.39.39.9.59 1.41.59.51 0 1.02-.2 1.41-.59l7.78-7.78 2.81-2.81c.8-.78.8-2.07 0-2.86zM5.41 20L4 18.59l7.72-7.72 1.47 1.35L5.41 20z\"/>\n",
              "  </svg>\n",
              "      </button>\n",
              "      \n",
              "  <style>\n",
              "    .colab-df-container {\n",
              "      display:flex;\n",
              "      flex-wrap:wrap;\n",
              "      gap: 12px;\n",
              "    }\n",
              "\n",
              "    .colab-df-convert {\n",
              "      background-color: #E8F0FE;\n",
              "      border: none;\n",
              "      border-radius: 50%;\n",
              "      cursor: pointer;\n",
              "      display: none;\n",
              "      fill: #1967D2;\n",
              "      height: 32px;\n",
              "      padding: 0 0 0 0;\n",
              "      width: 32px;\n",
              "    }\n",
              "\n",
              "    .colab-df-convert:hover {\n",
              "      background-color: #E2EBFA;\n",
              "      box-shadow: 0px 1px 2px rgba(60, 64, 67, 0.3), 0px 1px 3px 1px rgba(60, 64, 67, 0.15);\n",
              "      fill: #174EA6;\n",
              "    }\n",
              "\n",
              "    [theme=dark] .colab-df-convert {\n",
              "      background-color: #3B4455;\n",
              "      fill: #D2E3FC;\n",
              "    }\n",
              "\n",
              "    [theme=dark] .colab-df-convert:hover {\n",
              "      background-color: #434B5C;\n",
              "      box-shadow: 0px 1px 3px 1px rgba(0, 0, 0, 0.15);\n",
              "      filter: drop-shadow(0px 1px 2px rgba(0, 0, 0, 0.3));\n",
              "      fill: #FFFFFF;\n",
              "    }\n",
              "  </style>\n",
              "\n",
              "      <script>\n",
              "        const buttonEl =\n",
              "          document.querySelector('#df-4a099be3-f64a-4863-9e45-119aa8649cac button.colab-df-convert');\n",
              "        buttonEl.style.display =\n",
              "          google.colab.kernel.accessAllowed ? 'block' : 'none';\n",
              "\n",
              "        async function convertToInteractive(key) {\n",
              "          const element = document.querySelector('#df-4a099be3-f64a-4863-9e45-119aa8649cac');\n",
              "          const dataTable =\n",
              "            await google.colab.kernel.invokeFunction('convertToInteractive',\n",
              "                                                     [key], {});\n",
              "          if (!dataTable) return;\n",
              "\n",
              "          const docLinkHtml = 'Like what you see? Visit the ' +\n",
              "            '<a target=\"_blank\" href=https://colab.research.google.com/notebooks/data_table.ipynb>data table notebook</a>'\n",
              "            + ' to learn more about interactive tables.';\n",
              "          element.innerHTML = '';\n",
              "          dataTable['output_type'] = 'display_data';\n",
              "          await google.colab.output.renderOutput(dataTable, element);\n",
              "          const docLink = document.createElement('div');\n",
              "          docLink.innerHTML = docLinkHtml;\n",
              "          element.appendChild(docLink);\n",
              "        }\n",
              "      </script>\n",
              "    </div>\n",
              "  </div>\n",
              "  "
            ]
          },
          "metadata": {},
          "execution_count": 27
        }
      ]
    },
    {
      "cell_type": "markdown",
      "source": [
        "# First model with the filtered data"
      ],
      "metadata": {
        "id": "AnyogKzMR7RX"
      }
    },
    {
      "cell_type": "code",
      "source": [
        "from sklearn.utils import shuffle\n",
        "df_alarms = shuffle(df_alarms)"
      ],
      "metadata": {
        "id": "I8isiEz8SAzt"
      },
      "execution_count": null,
      "outputs": []
    },
    {
      "cell_type": "code",
      "source": [
        "# Features matrix\n",
        "X = df_alarms.drop(columns=['Number of Alarms'])\n",
        "\n",
        "# Target values\n",
        "y = df_alarms[['Number of Alarms']]"
      ],
      "metadata": {
        "id": "cP4wgT6SSA2O"
      },
      "execution_count": null,
      "outputs": []
    },
    {
      "cell_type": "code",
      "source": [
        "from sklearn.pipeline import make_pipeline\n",
        "from sklearn.preprocessing import StandardScaler\n",
        "from sklearn.impute import SimpleImputer\n",
        "from sklearn.preprocessing import OneHotEncoder\n",
        "\n",
        "# Treatment for categorical and numerical variables\n",
        "num_imputer = SimpleImputer()\n",
        "scale = StandardScaler()\n",
        "cat_imputer = SimpleImputer(strategy='most_frequent')\n",
        "ohe = OneHotEncoder(sparse=False,handle_unknown='ignore')\n",
        "\n",
        "num_tra = make_pipeline(num_imputer, scale)\n",
        "num_n_tra = make_pipeline(num_imputer)\n",
        "cat_tra = make_pipeline(cat_imputer,ohe)\n",
        "cat_n_tra = make_pipeline(cat_imputer)"
      ],
      "metadata": {
        "id": "eEf5JPJzSA4r"
      },
      "execution_count": null,
      "outputs": []
    },
    {
      "cell_type": "code",
      "source": [
        "from sklearn.compose import make_column_transformer\n",
        "\n",
        "# Preprocessing of features\n",
        "num_cols = ['Sales Sq. Ft.']\n",
        "num_n_cols = ['Year', 'Month']\n",
        "cat_cols = ['Site Number','Site Zipcode', 'Site Type','Provider Name']\n",
        "cat_n_cols = []\n",
        "\n",
        "preprocessor = make_column_transformer((num_tra, num_cols),\n",
        "                                       (cat_tra, cat_cols),\n",
        "                                       (num_n_tra, num_n_cols),\n",
        "                                       (cat_n_tra, cat_n_cols))"
      ],
      "metadata": {
        "id": "HuL_6gY9SA7H"
      },
      "execution_count": null,
      "outputs": []
    },
    {
      "cell_type": "code",
      "source": [
        "X_trans = preprocessor.fit_transform(X)"
      ],
      "metadata": {
        "id": "xF3EhlXdSA9O"
      },
      "execution_count": null,
      "outputs": []
    },
    {
      "cell_type": "code",
      "source": [
        "from sklearn.linear_model import Ridge\n",
        "# Load the ridge (lineal) model\n",
        "clf = Ridge(alpha=1)"
      ],
      "metadata": {
        "id": "k-IdfTHzS9WQ"
      },
      "execution_count": null,
      "outputs": []
    },
    {
      "cell_type": "code",
      "source": [
        "from sklearn.model_selection import train_test_split\n",
        "\n",
        "# Split the data\n",
        "X_train, X_test, y_train, y_test = train_test_split(X_trans ,y ,test_size = 0.25, random_state= 42 )\n",
        "\n",
        "clf.fit(X_train, y_train)"
      ],
      "metadata": {
        "colab": {
          "base_uri": "https://localhost:8080/"
        },
        "id": "Yg-fZ0UZS9Y8",
        "outputId": "97a8af3b-4c62-4b54-84f4-483d8b87bad6"
      },
      "execution_count": null,
      "outputs": [
        {
          "output_type": "execute_result",
          "data": {
            "text/plain": [
              "Ridge(alpha=1)"
            ]
          },
          "metadata": {},
          "execution_count": 34
        }
      ]
    },
    {
      "cell_type": "code",
      "source": [
        "clf.score(X_train,y_train)"
      ],
      "metadata": {
        "colab": {
          "base_uri": "https://localhost:8080/"
        },
        "id": "uY3_qQG_VgtD",
        "outputId": "da670f2b-f5b1-47bc-f2b8-675677916dbc"
      },
      "execution_count": null,
      "outputs": [
        {
          "output_type": "execute_result",
          "data": {
            "text/plain": [
              "0.35654558140453174"
            ]
          },
          "metadata": {},
          "execution_count": 35
        }
      ]
    },
    {
      "cell_type": "code",
      "source": [
        "clf.score(X_test,y_test)"
      ],
      "metadata": {
        "colab": {
          "base_uri": "https://localhost:8080/"
        },
        "id": "en-sCa07S9bB",
        "outputId": "8641e448-ec2b-4b81-ba1b-73fd7be3cb1e"
      },
      "execution_count": null,
      "outputs": [
        {
          "output_type": "execute_result",
          "data": {
            "text/plain": [
              "0.3248512502692297"
            ]
          },
          "metadata": {},
          "execution_count": 36
        }
      ]
    },
    {
      "cell_type": "code",
      "source": [
        "from sklearn.model_selection import GridSearchCV, RepeatedKFold\n",
        "# Alpha parameters optimization with GridSearch\n",
        "model = Ridge()\n",
        "grid = dict()\n",
        "grid['alpha'] = np.arange(0.9,1.01,0.01)\n",
        "search = GridSearchCV(model,grid,scoring='neg_mean_absolute_error', n_jobs=None)\n",
        "results = search.fit(X_train, y_train)\n",
        "print('Config: %s' % results.best_params_)"
      ],
      "metadata": {
        "id": "yQraaOdnS9ds"
      },
      "execution_count": null,
      "outputs": []
    },
    {
      "cell_type": "markdown",
      "source": [
        "# Second model"
      ],
      "metadata": {
        "id": "4eVciQ6fVSxt"
      }
    },
    {
      "cell_type": "code",
      "source": [
        "months = [1, 2, 3, 4, 5, 6, 7, 8, 9, 10, 11, 12]\n",
        "years = [2012, 2013, 2014, 2015]"
      ],
      "metadata": {
        "id": "rAb7CdIzToAe"
      },
      "execution_count": null,
      "outputs": []
    },
    {
      "cell_type": "code",
      "source": [
        "TOTAL = df_alarms.copy()"
      ],
      "metadata": {
        "id": "Fhxb5qqQUJo7"
      },
      "execution_count": null,
      "outputs": []
    },
    {
      "cell_type": "code",
      "source": [
        "# Llenando los datos faltantes del numero de alarmas entre los años 2012-2015 (años y meses)\n",
        "\n",
        "for col in df_alarms['Site Number'].unique():\n",
        "  df1 = df_alarms[df_alarms['Site Number'] == col]\n",
        "  df1_ref = df1.drop(['Year', 'Month', 'Number of Alarms'], axis=1)\n",
        "  dic = {col_name: df1[col_name].unique()[0] for col_name in df1_ref.columns}\n",
        "\n",
        "  for year in years:\n",
        "    if year not in df1['Year'].unique():\n",
        "      dic['Year'] = [year]\n",
        "      dic['Month'] = [1]\n",
        "      dic['Number of Alarms'] = [0]\n",
        "      df_ = pd.DataFrame(dic)\n",
        "      TOTAL = pd.concat([TOTAL, df_])\n",
        "\n",
        "    for month in months:\n",
        "      if month not in df1[df1['Year'] == year]['Month'].unique():\n",
        "        dic['Year'] = [year]\n",
        "        dic['Month'] = [month]\n",
        "        dic['Number of Alarms'] = [0]\n",
        "        df_ = pd.DataFrame(dic)\n",
        "        TOTAL = pd.concat([TOTAL, df_])\n",
        "    "
      ],
      "metadata": {
        "id": "zpOzavOfJbI1"
      },
      "execution_count": null,
      "outputs": []
    },
    {
      "cell_type": "code",
      "source": [
        "TOTAL.shape"
      ],
      "metadata": {
        "colab": {
          "base_uri": "https://localhost:8080/"
        },
        "id": "hhJMQnfUl8gi",
        "outputId": "7d9902b3-570c-4259-a723-ffc7d4e34777"
      },
      "execution_count": null,
      "outputs": [
        {
          "output_type": "execute_result",
          "data": {
            "text/plain": [
              "(88312, 8)"
            ]
          },
          "metadata": {},
          "execution_count": 40
        }
      ]
    },
    {
      "cell_type": "code",
      "source": [
        "Tot = TOTAL[~((TOTAL['Year']==2012) & (TOTAL['Month'] == 1))]"
      ],
      "metadata": {
        "id": "LpfL0RPTW6L9"
      },
      "execution_count": null,
      "outputs": []
    },
    {
      "cell_type": "code",
      "source": [
        "df2_alarms = Tot[~((Tot['Year']==2015) & (Tot['Month'] > 11))]"
      ],
      "metadata": {
        "id": "yCQHEjAdXPG5"
      },
      "execution_count": null,
      "outputs": []
    },
    {
      "cell_type": "code",
      "source": [
        "df2_alarms.shape"
      ],
      "metadata": {
        "colab": {
          "base_uri": "https://localhost:8080/"
        },
        "id": "0kzbfjzdZhKc",
        "outputId": "de4a7585-eeca-45ee-d29e-50aba1b77f19"
      },
      "execution_count": null,
      "outputs": [
        {
          "output_type": "execute_result",
          "data": {
            "text/plain": [
              "(84697, 8)"
            ]
          },
          "metadata": {},
          "execution_count": 43
        }
      ]
    },
    {
      "cell_type": "code",
      "source": [
        "df_regr1 = df2_alarms.reset_index(drop=True)"
      ],
      "metadata": {
        "id": "nUXTgfOLLMzi"
      },
      "execution_count": null,
      "outputs": []
    },
    {
      "cell_type": "markdown",
      "source": [
        "# Standarization and ONE HOT ENCODING"
      ],
      "metadata": {
        "id": "DzAbQyu1wSxJ"
      }
    },
    {
      "cell_type": "code",
      "source": [
        "# Resample randomly the dataframe registers\n",
        "from sklearn.utils import shuffle\n",
        "df_regr1 = shuffle(df_regr1)"
      ],
      "metadata": {
        "id": "_T402_VfLUa5"
      },
      "execution_count": null,
      "outputs": []
    },
    {
      "cell_type": "code",
      "source": [
        "# Features matrix\n",
        "X = df_regr1.drop(columns=['Number of Alarms'])\n",
        "# Target column\n",
        "y = df_regr1[['Number of Alarms']]"
      ],
      "metadata": {
        "id": "4K7_vghUeltG"
      },
      "execution_count": null,
      "outputs": []
    },
    {
      "cell_type": "code",
      "source": [
        "from sklearn.pipeline import make_pipeline\n",
        "from sklearn.preprocessing import StandardScaler\n",
        "from sklearn.impute import SimpleImputer\n",
        "from sklearn.preprocessing import OneHotEncoder\n",
        "\n",
        "num_imputer = SimpleImputer()\n",
        "scale = StandardScaler()\n",
        "cat_imputer = SimpleImputer(strategy='most_frequent')\n",
        "ohe = OneHotEncoder(sparse=False,handle_unknown='ignore')\n",
        "\n",
        "num_tra = make_pipeline(num_imputer, scale)\n",
        "num_n_tra = make_pipeline(num_imputer)\n",
        "cat_tra = make_pipeline(cat_imputer,ohe)\n",
        "cat_n_tra = make_pipeline(cat_imputer)"
      ],
      "metadata": {
        "id": "Z1KvEAQzelvl"
      },
      "execution_count": null,
      "outputs": []
    },
    {
      "cell_type": "code",
      "source": [
        "from sklearn.compose import make_column_transformer\n",
        "num_cols = ['Sales Sq. Ft.']\n",
        "num_n_cols = ['Year', 'Month']\n",
        "cat_cols = ['Site Number','Site Zipcode', 'Site Type','Provider Name']\n",
        "cat_n_cols = []\n",
        "\n",
        "preprocessor = make_column_transformer((num_tra, num_cols),\n",
        "                                       (cat_tra, cat_cols),\n",
        "                                       (num_n_tra, num_n_cols),\n",
        "                                       (cat_n_tra, cat_n_cols))"
      ],
      "metadata": {
        "id": "bI3LjIhZel5i"
      },
      "execution_count": null,
      "outputs": []
    },
    {
      "cell_type": "code",
      "source": [
        "X_trans = preprocessor.fit_transform(X)"
      ],
      "metadata": {
        "id": "n7xS5VSXjHX8"
      },
      "execution_count": null,
      "outputs": []
    },
    {
      "cell_type": "code",
      "source": [
        "from sklearn.model_selection import train_test_split\n",
        "\n",
        "X_train, X_test, y_train, y_test = train_test_split(X_trans ,y ,test_size = 0.25, random_state= 42 )"
      ],
      "metadata": {
        "id": "OjUYXEz2jPFu"
      },
      "execution_count": null,
      "outputs": []
    },
    {
      "cell_type": "code",
      "source": [
        "from sklearn.linear_model import LinearRegression\n",
        "from sklearn.linear_model import Ridge\n",
        "\n",
        "LR = LinearRegression()\n",
        "clf = Ridge(alpha=1)"
      ],
      "metadata": {
        "id": "q9jSySDhjHfl"
      },
      "execution_count": null,
      "outputs": []
    },
    {
      "cell_type": "code",
      "source": [
        "clf.fit(X_train, y_train)"
      ],
      "metadata": {
        "colab": {
          "base_uri": "https://localhost:8080/"
        },
        "id": "mHZjK5blob_Q",
        "outputId": "fadf23f5-e47f-4d61-e22c-c50e0e5da6a4"
      },
      "execution_count": null,
      "outputs": [
        {
          "output_type": "execute_result",
          "data": {
            "text/plain": [
              "Ridge(alpha=1)"
            ]
          },
          "metadata": {},
          "execution_count": 52
        }
      ]
    },
    {
      "cell_type": "code",
      "source": [
        "print(f\"Train data score: {clf.score(X_train, y_train)} y test data score: {clf.score(X_test, y_test)}\")"
      ],
      "metadata": {
        "colab": {
          "base_uri": "https://localhost:8080/"
        },
        "id": "mNe6LqjMoowZ",
        "outputId": "440a9958-3dad-449d-939a-a9737e0b75f7"
      },
      "execution_count": null,
      "outputs": [
        {
          "output_type": "stream",
          "name": "stdout",
          "text": [
            "Train data score: 0.4040408998484233 y test data score: 0.36190816601724063\n"
          ]
        }
      ]
    },
    {
      "cell_type": "markdown",
      "source": [
        "# Third model"
      ],
      "metadata": {
        "id": "aH9WQA_yr9UZ"
      }
    },
    {
      "cell_type": "code",
      "source": [
        "from sklearn.ensemble import RandomForestClassifier\n",
        "from sklearn.metrics import accuracy_score"
      ],
      "metadata": {
        "id": "nfqaK4VUlB8K"
      },
      "execution_count": null,
      "outputs": []
    },
    {
      "cell_type": "code",
      "source": [
        "# Create the classifier\n",
        "clf = RandomForestClassifier(n_estimators=40)\n",
        "\n",
        "# Training the model\n",
        "clf.fit(X_train, y_train)"
      ],
      "metadata": {
        "colab": {
          "base_uri": "https://localhost:8080/"
        },
        "id": "OFnnORPgk08f",
        "outputId": "a8fc6b21-b077-4b5c-d3bb-674d9ee727a9"
      },
      "execution_count": null,
      "outputs": [
        {
          "output_type": "stream",
          "name": "stderr",
          "text": [
            "/usr/local/lib/python3.7/dist-packages/ipykernel_launcher.py:5: DataConversionWarning: A column-vector y was passed when a 1d array was expected. Please change the shape of y to (n_samples,), for example using ravel().\n",
            "  \"\"\"\n"
          ]
        },
        {
          "output_type": "execute_result",
          "data": {
            "text/plain": [
              "RandomForestClassifier(n_estimators=40)"
            ]
          },
          "metadata": {},
          "execution_count": 55
        }
      ]
    },
    {
      "cell_type": "code",
      "source": [
        "y_pred = clf.predict(X_test)"
      ],
      "metadata": {
        "id": "2TakJVUEb7g0"
      },
      "execution_count": null,
      "outputs": []
    },
    {
      "cell_type": "code",
      "source": [
        "print(\"Testing accuracy =\", accuracy_score(y_test, y_pred))"
      ],
      "metadata": {
        "colab": {
          "base_uri": "https://localhost:8080/"
        },
        "id": "7qK4fJTPlaEW",
        "outputId": "fb3abf76-9c36-458d-ca37-b7fccead76a9"
      },
      "execution_count": null,
      "outputs": [
        {
          "output_type": "stream",
          "name": "stdout",
          "text": [
            "Testing accuracy = 0.4068004722550177\n"
          ]
        }
      ]
    },
    {
      "cell_type": "code",
      "source": [
        "clf.score(X_train, y_train)"
      ],
      "metadata": {
        "colab": {
          "base_uri": "https://localhost:8080/"
        },
        "id": "Z1jjcKbfk1BL",
        "outputId": "53179e5d-0eb8-40d9-a904-0d6a67669e92"
      },
      "execution_count": null,
      "outputs": [
        {
          "output_type": "execute_result",
          "data": {
            "text/plain": [
              "0.9991499008217626"
            ]
          },
          "metadata": {},
          "execution_count": 58
        }
      ]
    },
    {
      "cell_type": "code",
      "source": [
        "clf.score(X_test, y_test)"
      ],
      "metadata": {
        "colab": {
          "base_uri": "https://localhost:8080/"
        },
        "id": "hf0Tz6Klk1EO",
        "outputId": "5606d6b5-5ad8-47d1-9a44-7de055a34991"
      },
      "execution_count": null,
      "outputs": [
        {
          "output_type": "execute_result",
          "data": {
            "text/plain": [
              "0.4068004722550177"
            ]
          },
          "metadata": {},
          "execution_count": 59
        }
      ]
    },
    {
      "cell_type": "markdown",
      "source": [
        "# One prediction"
      ],
      "metadata": {
        "id": "yHxYhtjbfciM"
      }
    },
    {
      "cell_type": "code",
      "source": [
        "df2_alarms[(df2_alarms['Year']==2015) & (df2_alarms['Month'] == 10)]"
      ],
      "metadata": {
        "colab": {
          "base_uri": "https://localhost:8080/",
          "height": 424
        },
        "id": "U84vks8-fb66",
        "outputId": "3a386b9a-3164-45fd-8ceb-47f1fc70528b"
      },
      "execution_count": null,
      "outputs": [
        {
          "output_type": "execute_result",
          "data": {
            "text/plain": [
              "      Site Number Site Zipcode  Sales Sq. Ft.          Site Type  Year  Month  \\\n",
              "32334       a2274     cf37 4da            0.0        supermarket  2015     10   \n",
              "44807       a4542     bs21 7ph            0.0  convenience store  2015     10   \n",
              "2952        a0069     sw18 4ad        41020.0        supermarket  2015     10   \n",
              "6264        a0500       n1 0rw        30695.0        supermarket  2015     10   \n",
              "14520       a0735      s80 3at        42206.0        supermarket  2015     10   \n",
              "...           ...          ...            ...                ...   ...    ...   \n",
              "0           a4575      hd9 3ay            0.0  convenience store  2015     10   \n",
              "0           a4225     de11 7nd            0.0  convenience store  2015     10   \n",
              "0           p0801      tq4 7pe            0.0                pfs  2015     10   \n",
              "0           p2059     de24 8eb            0.0                pfs  2015     10   \n",
              "0           d0461     mk43 9aa            0.0              depot  2015     10   \n",
              "\n",
              "                        Provider Name  Number of Alarms  \n",
              "32334  space engineering services ltd                19  \n",
              "44807  space engineering services ltd                 2  \n",
              "2952            cms solutions limited                46  \n",
              "6264            cms solutions limited                 5  \n",
              "14520  space engineering services ltd                 9  \n",
              "...                               ...               ...  \n",
              "0      space engineering services ltd                 0  \n",
              "0               airkool contracts ltd                 0  \n",
              "0      space engineering services ltd                 0  \n",
              "0      space engineering services ltd                 0  \n",
              "0               crown fire protection                 0  \n",
              "\n",
              "[1641 rows x 8 columns]"
            ],
            "text/html": [
              "\n",
              "  <div id=\"df-6a149c5b-c02c-4bc9-af02-a03a37ad595a\">\n",
              "    <div class=\"colab-df-container\">\n",
              "      <div>\n",
              "<style scoped>\n",
              "    .dataframe tbody tr th:only-of-type {\n",
              "        vertical-align: middle;\n",
              "    }\n",
              "\n",
              "    .dataframe tbody tr th {\n",
              "        vertical-align: top;\n",
              "    }\n",
              "\n",
              "    .dataframe thead th {\n",
              "        text-align: right;\n",
              "    }\n",
              "</style>\n",
              "<table border=\"1\" class=\"dataframe\">\n",
              "  <thead>\n",
              "    <tr style=\"text-align: right;\">\n",
              "      <th></th>\n",
              "      <th>Site Number</th>\n",
              "      <th>Site Zipcode</th>\n",
              "      <th>Sales Sq. Ft.</th>\n",
              "      <th>Site Type</th>\n",
              "      <th>Year</th>\n",
              "      <th>Month</th>\n",
              "      <th>Provider Name</th>\n",
              "      <th>Number of Alarms</th>\n",
              "    </tr>\n",
              "  </thead>\n",
              "  <tbody>\n",
              "    <tr>\n",
              "      <th>32334</th>\n",
              "      <td>a2274</td>\n",
              "      <td>cf37 4da</td>\n",
              "      <td>0.0</td>\n",
              "      <td>supermarket</td>\n",
              "      <td>2015</td>\n",
              "      <td>10</td>\n",
              "      <td>space engineering services ltd</td>\n",
              "      <td>19</td>\n",
              "    </tr>\n",
              "    <tr>\n",
              "      <th>44807</th>\n",
              "      <td>a4542</td>\n",
              "      <td>bs21 7ph</td>\n",
              "      <td>0.0</td>\n",
              "      <td>convenience store</td>\n",
              "      <td>2015</td>\n",
              "      <td>10</td>\n",
              "      <td>space engineering services ltd</td>\n",
              "      <td>2</td>\n",
              "    </tr>\n",
              "    <tr>\n",
              "      <th>2952</th>\n",
              "      <td>a0069</td>\n",
              "      <td>sw18 4ad</td>\n",
              "      <td>41020.0</td>\n",
              "      <td>supermarket</td>\n",
              "      <td>2015</td>\n",
              "      <td>10</td>\n",
              "      <td>cms solutions limited</td>\n",
              "      <td>46</td>\n",
              "    </tr>\n",
              "    <tr>\n",
              "      <th>6264</th>\n",
              "      <td>a0500</td>\n",
              "      <td>n1 0rw</td>\n",
              "      <td>30695.0</td>\n",
              "      <td>supermarket</td>\n",
              "      <td>2015</td>\n",
              "      <td>10</td>\n",
              "      <td>cms solutions limited</td>\n",
              "      <td>5</td>\n",
              "    </tr>\n",
              "    <tr>\n",
              "      <th>14520</th>\n",
              "      <td>a0735</td>\n",
              "      <td>s80 3at</td>\n",
              "      <td>42206.0</td>\n",
              "      <td>supermarket</td>\n",
              "      <td>2015</td>\n",
              "      <td>10</td>\n",
              "      <td>space engineering services ltd</td>\n",
              "      <td>9</td>\n",
              "    </tr>\n",
              "    <tr>\n",
              "      <th>...</th>\n",
              "      <td>...</td>\n",
              "      <td>...</td>\n",
              "      <td>...</td>\n",
              "      <td>...</td>\n",
              "      <td>...</td>\n",
              "      <td>...</td>\n",
              "      <td>...</td>\n",
              "      <td>...</td>\n",
              "    </tr>\n",
              "    <tr>\n",
              "      <th>0</th>\n",
              "      <td>a4575</td>\n",
              "      <td>hd9 3ay</td>\n",
              "      <td>0.0</td>\n",
              "      <td>convenience store</td>\n",
              "      <td>2015</td>\n",
              "      <td>10</td>\n",
              "      <td>space engineering services ltd</td>\n",
              "      <td>0</td>\n",
              "    </tr>\n",
              "    <tr>\n",
              "      <th>0</th>\n",
              "      <td>a4225</td>\n",
              "      <td>de11 7nd</td>\n",
              "      <td>0.0</td>\n",
              "      <td>convenience store</td>\n",
              "      <td>2015</td>\n",
              "      <td>10</td>\n",
              "      <td>airkool contracts ltd</td>\n",
              "      <td>0</td>\n",
              "    </tr>\n",
              "    <tr>\n",
              "      <th>0</th>\n",
              "      <td>p0801</td>\n",
              "      <td>tq4 7pe</td>\n",
              "      <td>0.0</td>\n",
              "      <td>pfs</td>\n",
              "      <td>2015</td>\n",
              "      <td>10</td>\n",
              "      <td>space engineering services ltd</td>\n",
              "      <td>0</td>\n",
              "    </tr>\n",
              "    <tr>\n",
              "      <th>0</th>\n",
              "      <td>p2059</td>\n",
              "      <td>de24 8eb</td>\n",
              "      <td>0.0</td>\n",
              "      <td>pfs</td>\n",
              "      <td>2015</td>\n",
              "      <td>10</td>\n",
              "      <td>space engineering services ltd</td>\n",
              "      <td>0</td>\n",
              "    </tr>\n",
              "    <tr>\n",
              "      <th>0</th>\n",
              "      <td>d0461</td>\n",
              "      <td>mk43 9aa</td>\n",
              "      <td>0.0</td>\n",
              "      <td>depot</td>\n",
              "      <td>2015</td>\n",
              "      <td>10</td>\n",
              "      <td>crown fire protection</td>\n",
              "      <td>0</td>\n",
              "    </tr>\n",
              "  </tbody>\n",
              "</table>\n",
              "<p>1641 rows × 8 columns</p>\n",
              "</div>\n",
              "      <button class=\"colab-df-convert\" onclick=\"convertToInteractive('df-6a149c5b-c02c-4bc9-af02-a03a37ad595a')\"\n",
              "              title=\"Convert this dataframe to an interactive table.\"\n",
              "              style=\"display:none;\">\n",
              "        \n",
              "  <svg xmlns=\"http://www.w3.org/2000/svg\" height=\"24px\"viewBox=\"0 0 24 24\"\n",
              "       width=\"24px\">\n",
              "    <path d=\"M0 0h24v24H0V0z\" fill=\"none\"/>\n",
              "    <path d=\"M18.56 5.44l.94 2.06.94-2.06 2.06-.94-2.06-.94-.94-2.06-.94 2.06-2.06.94zm-11 1L8.5 8.5l.94-2.06 2.06-.94-2.06-.94L8.5 2.5l-.94 2.06-2.06.94zm10 10l.94 2.06.94-2.06 2.06-.94-2.06-.94-.94-2.06-.94 2.06-2.06.94z\"/><path d=\"M17.41 7.96l-1.37-1.37c-.4-.4-.92-.59-1.43-.59-.52 0-1.04.2-1.43.59L10.3 9.45l-7.72 7.72c-.78.78-.78 2.05 0 2.83L4 21.41c.39.39.9.59 1.41.59.51 0 1.02-.2 1.41-.59l7.78-7.78 2.81-2.81c.8-.78.8-2.07 0-2.86zM5.41 20L4 18.59l7.72-7.72 1.47 1.35L5.41 20z\"/>\n",
              "  </svg>\n",
              "      </button>\n",
              "      \n",
              "  <style>\n",
              "    .colab-df-container {\n",
              "      display:flex;\n",
              "      flex-wrap:wrap;\n",
              "      gap: 12px;\n",
              "    }\n",
              "\n",
              "    .colab-df-convert {\n",
              "      background-color: #E8F0FE;\n",
              "      border: none;\n",
              "      border-radius: 50%;\n",
              "      cursor: pointer;\n",
              "      display: none;\n",
              "      fill: #1967D2;\n",
              "      height: 32px;\n",
              "      padding: 0 0 0 0;\n",
              "      width: 32px;\n",
              "    }\n",
              "\n",
              "    .colab-df-convert:hover {\n",
              "      background-color: #E2EBFA;\n",
              "      box-shadow: 0px 1px 2px rgba(60, 64, 67, 0.3), 0px 1px 3px 1px rgba(60, 64, 67, 0.15);\n",
              "      fill: #174EA6;\n",
              "    }\n",
              "\n",
              "    [theme=dark] .colab-df-convert {\n",
              "      background-color: #3B4455;\n",
              "      fill: #D2E3FC;\n",
              "    }\n",
              "\n",
              "    [theme=dark] .colab-df-convert:hover {\n",
              "      background-color: #434B5C;\n",
              "      box-shadow: 0px 1px 3px 1px rgba(0, 0, 0, 0.15);\n",
              "      filter: drop-shadow(0px 1px 2px rgba(0, 0, 0, 0.3));\n",
              "      fill: #FFFFFF;\n",
              "    }\n",
              "  </style>\n",
              "\n",
              "      <script>\n",
              "        const buttonEl =\n",
              "          document.querySelector('#df-6a149c5b-c02c-4bc9-af02-a03a37ad595a button.colab-df-convert');\n",
              "        buttonEl.style.display =\n",
              "          google.colab.kernel.accessAllowed ? 'block' : 'none';\n",
              "\n",
              "        async function convertToInteractive(key) {\n",
              "          const element = document.querySelector('#df-6a149c5b-c02c-4bc9-af02-a03a37ad595a');\n",
              "          const dataTable =\n",
              "            await google.colab.kernel.invokeFunction('convertToInteractive',\n",
              "                                                     [key], {});\n",
              "          if (!dataTable) return;\n",
              "\n",
              "          const docLinkHtml = 'Like what you see? Visit the ' +\n",
              "            '<a target=\"_blank\" href=https://colab.research.google.com/notebooks/data_table.ipynb>data table notebook</a>'\n",
              "            + ' to learn more about interactive tables.';\n",
              "          element.innerHTML = '';\n",
              "          dataTable['output_type'] = 'display_data';\n",
              "          await google.colab.output.renderOutput(dataTable, element);\n",
              "          const docLink = document.createElement('div');\n",
              "          docLink.innerHTML = docLinkHtml;\n",
              "          element.appendChild(docLink);\n",
              "        }\n",
              "      </script>\n",
              "    </div>\n",
              "  </div>\n",
              "  "
            ]
          },
          "metadata": {},
          "execution_count": 60
        }
      ]
    },
    {
      "cell_type": "code",
      "source": [
        "dicc_pred = {\n",
        "    'Site Number': ['a0069']*12,\n",
        "    'Site Zipcode': ['sw18 4ad']*12,\n",
        "    'Sales Sq. Ft.': [41020.0]*12,\n",
        "    'Site Type': ['supermarket']*12,\n",
        "    'Year': [2016]*12,\n",
        "    'Month': [1, 2, 3, 4, 5, 6, 7, 8, 9, 10, 11 ,12],\n",
        "    'Provider Name': ['cms solutions limited']*12\n",
        "}"
      ],
      "metadata": {
        "id": "2SBcYoTFgG3a"
      },
      "execution_count": null,
      "outputs": []
    },
    {
      "cell_type": "code",
      "source": [
        "df_pred = pd.DataFrame(dicc_pred)\n",
        "df_pred"
      ],
      "metadata": {
        "colab": {
          "base_uri": "https://localhost:8080/",
          "height": 426
        },
        "id": "eQ2tDyGcmeAq",
        "outputId": "f90fd2e7-a3a9-4570-819c-ab2fb1096c27"
      },
      "execution_count": null,
      "outputs": [
        {
          "output_type": "execute_result",
          "data": {
            "text/plain": [
              "   Site Number Site Zipcode  Sales Sq. Ft.    Site Type  Year  Month  \\\n",
              "0        a0069     sw18 4ad        41020.0  supermarket  2016      1   \n",
              "1        a0069     sw18 4ad        41020.0  supermarket  2016      2   \n",
              "2        a0069     sw18 4ad        41020.0  supermarket  2016      3   \n",
              "3        a0069     sw18 4ad        41020.0  supermarket  2016      4   \n",
              "4        a0069     sw18 4ad        41020.0  supermarket  2016      5   \n",
              "5        a0069     sw18 4ad        41020.0  supermarket  2016      6   \n",
              "6        a0069     sw18 4ad        41020.0  supermarket  2016      7   \n",
              "7        a0069     sw18 4ad        41020.0  supermarket  2016      8   \n",
              "8        a0069     sw18 4ad        41020.0  supermarket  2016      9   \n",
              "9        a0069     sw18 4ad        41020.0  supermarket  2016     10   \n",
              "10       a0069     sw18 4ad        41020.0  supermarket  2016     11   \n",
              "11       a0069     sw18 4ad        41020.0  supermarket  2016     12   \n",
              "\n",
              "            Provider Name  \n",
              "0   cms solutions limited  \n",
              "1   cms solutions limited  \n",
              "2   cms solutions limited  \n",
              "3   cms solutions limited  \n",
              "4   cms solutions limited  \n",
              "5   cms solutions limited  \n",
              "6   cms solutions limited  \n",
              "7   cms solutions limited  \n",
              "8   cms solutions limited  \n",
              "9   cms solutions limited  \n",
              "10  cms solutions limited  \n",
              "11  cms solutions limited  "
            ],
            "text/html": [
              "\n",
              "  <div id=\"df-64536bfb-830e-4353-a1cf-7aaf117c9e56\">\n",
              "    <div class=\"colab-df-container\">\n",
              "      <div>\n",
              "<style scoped>\n",
              "    .dataframe tbody tr th:only-of-type {\n",
              "        vertical-align: middle;\n",
              "    }\n",
              "\n",
              "    .dataframe tbody tr th {\n",
              "        vertical-align: top;\n",
              "    }\n",
              "\n",
              "    .dataframe thead th {\n",
              "        text-align: right;\n",
              "    }\n",
              "</style>\n",
              "<table border=\"1\" class=\"dataframe\">\n",
              "  <thead>\n",
              "    <tr style=\"text-align: right;\">\n",
              "      <th></th>\n",
              "      <th>Site Number</th>\n",
              "      <th>Site Zipcode</th>\n",
              "      <th>Sales Sq. Ft.</th>\n",
              "      <th>Site Type</th>\n",
              "      <th>Year</th>\n",
              "      <th>Month</th>\n",
              "      <th>Provider Name</th>\n",
              "    </tr>\n",
              "  </thead>\n",
              "  <tbody>\n",
              "    <tr>\n",
              "      <th>0</th>\n",
              "      <td>a0069</td>\n",
              "      <td>sw18 4ad</td>\n",
              "      <td>41020.0</td>\n",
              "      <td>supermarket</td>\n",
              "      <td>2016</td>\n",
              "      <td>1</td>\n",
              "      <td>cms solutions limited</td>\n",
              "    </tr>\n",
              "    <tr>\n",
              "      <th>1</th>\n",
              "      <td>a0069</td>\n",
              "      <td>sw18 4ad</td>\n",
              "      <td>41020.0</td>\n",
              "      <td>supermarket</td>\n",
              "      <td>2016</td>\n",
              "      <td>2</td>\n",
              "      <td>cms solutions limited</td>\n",
              "    </tr>\n",
              "    <tr>\n",
              "      <th>2</th>\n",
              "      <td>a0069</td>\n",
              "      <td>sw18 4ad</td>\n",
              "      <td>41020.0</td>\n",
              "      <td>supermarket</td>\n",
              "      <td>2016</td>\n",
              "      <td>3</td>\n",
              "      <td>cms solutions limited</td>\n",
              "    </tr>\n",
              "    <tr>\n",
              "      <th>3</th>\n",
              "      <td>a0069</td>\n",
              "      <td>sw18 4ad</td>\n",
              "      <td>41020.0</td>\n",
              "      <td>supermarket</td>\n",
              "      <td>2016</td>\n",
              "      <td>4</td>\n",
              "      <td>cms solutions limited</td>\n",
              "    </tr>\n",
              "    <tr>\n",
              "      <th>4</th>\n",
              "      <td>a0069</td>\n",
              "      <td>sw18 4ad</td>\n",
              "      <td>41020.0</td>\n",
              "      <td>supermarket</td>\n",
              "      <td>2016</td>\n",
              "      <td>5</td>\n",
              "      <td>cms solutions limited</td>\n",
              "    </tr>\n",
              "    <tr>\n",
              "      <th>5</th>\n",
              "      <td>a0069</td>\n",
              "      <td>sw18 4ad</td>\n",
              "      <td>41020.0</td>\n",
              "      <td>supermarket</td>\n",
              "      <td>2016</td>\n",
              "      <td>6</td>\n",
              "      <td>cms solutions limited</td>\n",
              "    </tr>\n",
              "    <tr>\n",
              "      <th>6</th>\n",
              "      <td>a0069</td>\n",
              "      <td>sw18 4ad</td>\n",
              "      <td>41020.0</td>\n",
              "      <td>supermarket</td>\n",
              "      <td>2016</td>\n",
              "      <td>7</td>\n",
              "      <td>cms solutions limited</td>\n",
              "    </tr>\n",
              "    <tr>\n",
              "      <th>7</th>\n",
              "      <td>a0069</td>\n",
              "      <td>sw18 4ad</td>\n",
              "      <td>41020.0</td>\n",
              "      <td>supermarket</td>\n",
              "      <td>2016</td>\n",
              "      <td>8</td>\n",
              "      <td>cms solutions limited</td>\n",
              "    </tr>\n",
              "    <tr>\n",
              "      <th>8</th>\n",
              "      <td>a0069</td>\n",
              "      <td>sw18 4ad</td>\n",
              "      <td>41020.0</td>\n",
              "      <td>supermarket</td>\n",
              "      <td>2016</td>\n",
              "      <td>9</td>\n",
              "      <td>cms solutions limited</td>\n",
              "    </tr>\n",
              "    <tr>\n",
              "      <th>9</th>\n",
              "      <td>a0069</td>\n",
              "      <td>sw18 4ad</td>\n",
              "      <td>41020.0</td>\n",
              "      <td>supermarket</td>\n",
              "      <td>2016</td>\n",
              "      <td>10</td>\n",
              "      <td>cms solutions limited</td>\n",
              "    </tr>\n",
              "    <tr>\n",
              "      <th>10</th>\n",
              "      <td>a0069</td>\n",
              "      <td>sw18 4ad</td>\n",
              "      <td>41020.0</td>\n",
              "      <td>supermarket</td>\n",
              "      <td>2016</td>\n",
              "      <td>11</td>\n",
              "      <td>cms solutions limited</td>\n",
              "    </tr>\n",
              "    <tr>\n",
              "      <th>11</th>\n",
              "      <td>a0069</td>\n",
              "      <td>sw18 4ad</td>\n",
              "      <td>41020.0</td>\n",
              "      <td>supermarket</td>\n",
              "      <td>2016</td>\n",
              "      <td>12</td>\n",
              "      <td>cms solutions limited</td>\n",
              "    </tr>\n",
              "  </tbody>\n",
              "</table>\n",
              "</div>\n",
              "      <button class=\"colab-df-convert\" onclick=\"convertToInteractive('df-64536bfb-830e-4353-a1cf-7aaf117c9e56')\"\n",
              "              title=\"Convert this dataframe to an interactive table.\"\n",
              "              style=\"display:none;\">\n",
              "        \n",
              "  <svg xmlns=\"http://www.w3.org/2000/svg\" height=\"24px\"viewBox=\"0 0 24 24\"\n",
              "       width=\"24px\">\n",
              "    <path d=\"M0 0h24v24H0V0z\" fill=\"none\"/>\n",
              "    <path d=\"M18.56 5.44l.94 2.06.94-2.06 2.06-.94-2.06-.94-.94-2.06-.94 2.06-2.06.94zm-11 1L8.5 8.5l.94-2.06 2.06-.94-2.06-.94L8.5 2.5l-.94 2.06-2.06.94zm10 10l.94 2.06.94-2.06 2.06-.94-2.06-.94-.94-2.06-.94 2.06-2.06.94z\"/><path d=\"M17.41 7.96l-1.37-1.37c-.4-.4-.92-.59-1.43-.59-.52 0-1.04.2-1.43.59L10.3 9.45l-7.72 7.72c-.78.78-.78 2.05 0 2.83L4 21.41c.39.39.9.59 1.41.59.51 0 1.02-.2 1.41-.59l7.78-7.78 2.81-2.81c.8-.78.8-2.07 0-2.86zM5.41 20L4 18.59l7.72-7.72 1.47 1.35L5.41 20z\"/>\n",
              "  </svg>\n",
              "      </button>\n",
              "      \n",
              "  <style>\n",
              "    .colab-df-container {\n",
              "      display:flex;\n",
              "      flex-wrap:wrap;\n",
              "      gap: 12px;\n",
              "    }\n",
              "\n",
              "    .colab-df-convert {\n",
              "      background-color: #E8F0FE;\n",
              "      border: none;\n",
              "      border-radius: 50%;\n",
              "      cursor: pointer;\n",
              "      display: none;\n",
              "      fill: #1967D2;\n",
              "      height: 32px;\n",
              "      padding: 0 0 0 0;\n",
              "      width: 32px;\n",
              "    }\n",
              "\n",
              "    .colab-df-convert:hover {\n",
              "      background-color: #E2EBFA;\n",
              "      box-shadow: 0px 1px 2px rgba(60, 64, 67, 0.3), 0px 1px 3px 1px rgba(60, 64, 67, 0.15);\n",
              "      fill: #174EA6;\n",
              "    }\n",
              "\n",
              "    [theme=dark] .colab-df-convert {\n",
              "      background-color: #3B4455;\n",
              "      fill: #D2E3FC;\n",
              "    }\n",
              "\n",
              "    [theme=dark] .colab-df-convert:hover {\n",
              "      background-color: #434B5C;\n",
              "      box-shadow: 0px 1px 3px 1px rgba(0, 0, 0, 0.15);\n",
              "      filter: drop-shadow(0px 1px 2px rgba(0, 0, 0, 0.3));\n",
              "      fill: #FFFFFF;\n",
              "    }\n",
              "  </style>\n",
              "\n",
              "      <script>\n",
              "        const buttonEl =\n",
              "          document.querySelector('#df-64536bfb-830e-4353-a1cf-7aaf117c9e56 button.colab-df-convert');\n",
              "        buttonEl.style.display =\n",
              "          google.colab.kernel.accessAllowed ? 'block' : 'none';\n",
              "\n",
              "        async function convertToInteractive(key) {\n",
              "          const element = document.querySelector('#df-64536bfb-830e-4353-a1cf-7aaf117c9e56');\n",
              "          const dataTable =\n",
              "            await google.colab.kernel.invokeFunction('convertToInteractive',\n",
              "                                                     [key], {});\n",
              "          if (!dataTable) return;\n",
              "\n",
              "          const docLinkHtml = 'Like what you see? Visit the ' +\n",
              "            '<a target=\"_blank\" href=https://colab.research.google.com/notebooks/data_table.ipynb>data table notebook</a>'\n",
              "            + ' to learn more about interactive tables.';\n",
              "          element.innerHTML = '';\n",
              "          dataTable['output_type'] = 'display_data';\n",
              "          await google.colab.output.renderOutput(dataTable, element);\n",
              "          const docLink = document.createElement('div');\n",
              "          docLink.innerHTML = docLinkHtml;\n",
              "          element.appendChild(docLink);\n",
              "        }\n",
              "      </script>\n",
              "    </div>\n",
              "  </div>\n",
              "  "
            ]
          },
          "metadata": {},
          "execution_count": 64
        }
      ]
    },
    {
      "cell_type": "code",
      "source": [
        "X_pred = preprocessor.transform(df_pred)"
      ],
      "metadata": {
        "id": "Tn9Kb-NafcAI"
      },
      "execution_count": null,
      "outputs": []
    },
    {
      "cell_type": "code",
      "source": [
        "clf.predict(X_pred)"
      ],
      "metadata": {
        "colab": {
          "base_uri": "https://localhost:8080/"
        },
        "id": "tKCFhbA6mzZM",
        "outputId": "7a448f96-d22f-4cdf-d482-60316af98614"
      },
      "execution_count": null,
      "outputs": [
        {
          "output_type": "execute_result",
          "data": {
            "text/plain": [
              "array([39, 25, 52, 52, 58, 63, 88, 88, 83, 46,  0,  0])"
            ]
          },
          "metadata": {},
          "execution_count": 66
        }
      ]
    },
    {
      "cell_type": "markdown",
      "source": [
        "# Conclutions"
      ],
      "metadata": {
        "id": "LDqHyxRZcpPF"
      }
    },
    {
      "cell_type": "markdown",
      "source": [
        "$\\bullet$ Out of the three models, the one with the best performance was RandomForestClassifier but it's memorizing the patterns of the training set, i.e it presents overfitting.\n",
        "\n",
        "$\\bullet$ Several Linear Regressions were tested, the one with the best results was the Ridge regression, despite this it's concluded that linear regressions are not the best models for this particular problem.\n",
        "\n",
        "$\\bullet$ We could obtain better results if the supermarkets were more persistent completing the data.\n",
        "\n",
        "$\\bullet$ Most of the fridge problems occur in the most populated areas of the country.\n"
      ],
      "metadata": {
        "id": "7zI4U-Emcwbh"
      }
    },
    {
      "cell_type": "code",
      "source": [
        "df__ = df.copy()\n",
        "\n",
        "df__['fixtime'] = df__['Date Completed'] - df__['Date Created']\n",
        "\n",
        "df__['fixtime'] = pd.to_timedelta(df__.fixtime).dt.total_seconds()"
      ],
      "metadata": {
        "id": "jtC2J_7VVV_N"
      },
      "execution_count": null,
      "outputs": []
    },
    {
      "cell_type": "code",
      "source": [
        "import seaborn as sns\n",
        "import matplotlib.pyplot as plt\n",
        "\n",
        "plt.figure(figsize=(15,7))\n",
        "sns.barplot(y='Provider Name', x='fixtime', data=df__)"
      ],
      "metadata": {
        "id": "GZjjPSKDGVsC",
        "colab": {
          "base_uri": "https://localhost:8080/",
          "height": 459
        },
        "outputId": "4dbd4ca3-e647-4185-d65c-1c8c5495b180"
      },
      "execution_count": null,
      "outputs": [
        {
          "output_type": "execute_result",
          "data": {
            "text/plain": [
              "<matplotlib.axes._subplots.AxesSubplot at 0x7f3a345be310>"
            ]
          },
          "metadata": {},
          "execution_count": 68
        },
        {
          "output_type": "display_data",
          "data": {
            "text/plain": [
              "<Figure size 1080x504 with 1 Axes>"
            ],
            "image/png": "[encoded data removed]"
          },
          "metadata": {
            "needs_background": "light"
          }
        }
      ]
    },
    {
      "cell_type": "code",
      "source": [
        "df_sna = df_alarms[df_alarms['Sales Sq. Ft.']!=0]"
      ],
      "metadata": {
        "id": "rUEsBY7mVHpV"
      },
      "execution_count": null,
      "outputs": []
    },
    {
      "cell_type": "code",
      "source": [
        "sns.pairplot(data=df_sna, hue='Year', palette='dark')"
      ],
      "metadata": {
        "colab": {
          "base_uri": "https://localhost:8080/",
          "height": 567
        },
        "id": "gXxKiNFCnvYr",
        "outputId": "7a452a21-3af5-4a1a-84ba-df5f7e007a47"
      },
      "execution_count": null,
      "outputs": [
        {
          "output_type": "execute_result",
          "data": {
            "text/plain": [
              "<seaborn.axisgrid.PairGrid at 0x7f3a339f1690>"
            ]
          },
          "metadata": {},
          "execution_count": 72
        },
        {
          "output_type": "display_data",
          "data": {
            "text/plain": [
              "<Figure size 601.375x540 with 12 Axes>"
            ],
            "image/png": "[encoded data removed]"
          },
          "metadata": {
            "needs_background": "light"
          }
        }
      ]
    },
    {
      "cell_type": "code",
      "source": [
        "df_try = df_sna[['Sales Sq. Ft.', 'Number of Alarms']]"
      ],
      "metadata": {
        "id": "heyBXTTfn7vG"
      },
      "execution_count": null,
      "outputs": []
    },
    {
      "cell_type": "code",
      "source": [
        "total_alarms_per_size = df_try.groupby('Sales Sq. Ft.').count()['Number of Alarms'].to_numpy()\n",
        "stores_size = df_try['Sales Sq. Ft.'].unique()\n",
        "stores_size.sort()\n",
        "\n",
        "plt.figure(figsize=(15, 6))\n",
        "plt.scatter(stores_size, total_alarms_per_size)\n",
        "plt.title('Numero de alarmas durante 2012-13-14-15')\n",
        "plt.ylabel('Número de alarmas')\n",
        "plt.xlabel('Sales Sq. Ft.')\n",
        "plt.show()"
      ],
      "metadata": {
        "colab": {
          "base_uri": "https://localhost:8080/",
          "height": 404
        },
        "id": "GENNqyQloebo",
        "outputId": "5dc8e540-284f-48d3-b5c1-17b6e097d8a0"
      },
      "execution_count": null,
      "outputs": [
        {
          "output_type": "display_data",
          "data": {
            "text/plain": [
              "<Figure size 1080x432 with 1 Axes>"
            ],
            "image/png": "[encoded data removed]"
          },
          "metadata": {
            "needs_background": "light"
          }
        }
      ]
    },
    {
      "cell_type": "code",
      "source": [
        "sns.scatterplot(data=df_sna, y='Number of Alarms', x='Sales Sq. Ft.', hue='Year', palette='dark')"
      ],
      "metadata": {
        "colab": {
          "base_uri": "https://localhost:8080/",
          "height": 296
        },
        "id": "Lttzca1johHR",
        "outputId": "11d901c3-1a9c-4002-c99f-f25c3d7a72e4"
      },
      "execution_count": null,
      "outputs": [
        {
          "output_type": "execute_result",
          "data": {
            "text/plain": [
              "<matplotlib.axes._subplots.AxesSubplot at 0x7f3a31b75c10>"
            ]
          },
          "metadata": {},
          "execution_count": 78
        },
        {
          "output_type": "display_data",
          "data": {
            "text/plain": [
              "<Figure size 432x288 with 1 Axes>"
            ],
            "image/png": "[encoded data removed]"
          },
          "metadata": {
            "needs_background": "light"
          }
        }
      ]
    },
    {
      "cell_type": "code",
      "source": [],
      "metadata": {
        "id": "oeQwG2dRpHH9"
      },
      "execution_count": null,
      "outputs": []
    }
  ]
}