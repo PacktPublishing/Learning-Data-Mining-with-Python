{
 "cells": [
  {
   "cell_type": "markdown",
   "id": "strategic-utility",
   "metadata": {},
   "source": [
    "# Exercise 1\n",
    "### Using web-scrapping technique, save to a csv file all the names and prices of the books from the following website (1-50):\n",
    "https://books.toscrape.com/\n",
    "\n",
    "(use jupyter)"
   ]
  },
  {
   "cell_type": "markdown",
   "id": "caring-tattoo",
   "metadata": {},
   "source": [
    "# Exercise 2\n",
    "### Make a live plot (refreshed every 1 second) of the growth of the world population using web-scrapping technique\n",
    "#### https://countrymeters.info/en/World (or from any other website that uses a similar counter)\n",
    "(use command line and terminal)\n",
    "#### python3 plot_population.py --current_population "
   ]
  }
 ],
 "metadata": {
  "kernelspec": {
   "display_name": "Python 3 (ipykernel)",
   "language": "python",
   "name": "python3"
  },
  "language_info": {
   "codemirror_mode": {
    "name": "ipython",
    "version": 3
   },
   "file_extension": ".py",
   "mimetype": "text/x-python",
   "name": "python",
   "nbconvert_exporter": "python",
   "pygments_lexer": "ipython3",
   "version": "3.8.10"
  }
 },
 "nbformat": 4,
 "nbformat_minor": 5
}
