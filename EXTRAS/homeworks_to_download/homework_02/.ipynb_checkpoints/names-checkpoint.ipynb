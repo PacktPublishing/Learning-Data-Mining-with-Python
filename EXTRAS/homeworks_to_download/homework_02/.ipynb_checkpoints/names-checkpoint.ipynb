{
 "cells": [
  {
   "cell_type": "markdown",
   "id": "played-ideal",
   "metadata": {},
   "source": [
    "# Exercise #2\n",
    "\n",
    "## Offline HTML Scrapping (https://www.ssa.gov/OACT/babynames/)\n",
    "\n",
    "The Social Security administration has this neat data by year of what names are most popular for babies born that year in the USA (see http://www.socialsecurity.gov/OACT/babynames/).\n",
    "\n",
    "The files are in the \"babynames\" directory. Add your code in babynames.py. The files baby1990.html baby1992.html ... contain raw html, similar to what you get visiting the above social security site. Take a look at the html and think about how you might scrape the data out of it."
   ]
  },
  {
   "cell_type": "markdown",
   "id": "stylish-circular",
   "metadata": {},
   "source": [
    "\n",
    "## Part A\n",
    "\n",
    "In the `babynames.py` file, implement the `extract_names(filename)` function which takes the filename of a baby1990.html file and returns the data from the file as a single list -- the year string at the start of the list followed by the name-rank strings in alphabetical order. ['2006', 'Aaliyah 91', 'Abagail 895', 'Aaron 57', ...]. Modify main() so it calls your extract_names() function and prints what it returns (main already has the code for the command line argument parsing). If you get stuck working out the regular expressions for the year and each name, solution regular expression patterns are shown at the end of this document. Note that for parsing webpages in general, regular expressions don't do a good job, but these webpages have a simple and consistent format.\n",
    "\n",
    "Rather than treat the boy and girl names separately, we'll just lump them all together. In some years, a name appears more than once in the html, but we'll just use one number per name. Optional: make the algorithm smart about this case and choose whichever number is smaller.\n",
    "\n",
    "Build the program as a series of small milestones, getting each step to run/print something before trying the next step. This is the pattern used by experienced programmers -- build a series of incremental milestones, each with some output to check, rather than building the whole program in one huge step.\n",
    "\n",
    "Printing the data you have at the end of one milestone helps you think about how to re-structure that data for the next milestone. Python is well suited to this style of incremental development. For example, first get it to the point where it extracts and prints the year and calls sys.exit(0). Here are some suggested milestones:\n",
    "\n",
    " *   Extract all the text from the file and print it\n",
    " *   Find and extract the year and print it\n",
    " *   Extract the names and rank numbers and print them\n",
    " *   Get the names data into a dict and print it\n",
    " *   Build the [year, 'name rank', ... ] list and print it\n",
    " *   Fix main() to use the ExtractNames list \n",
    "\n",
    "Earlier we have had functions just print to standard out. It's more re-usable to have the function *return* the extracted data, so then the caller has the choice to print it or do something else with it. (You can still print directly from inside your functions for your little experiments during development.)\n",
    "\n",
    "Have main() call extract_names() for each command line arg and print a text summary. To make the list into a reasonable looking summary text, here's a clever use of join: `text = '\\n'.join(mylist) + '\\n'`\n",
    "\n",
    "The summary text should look like this for each file:\n",
    "\n",
    "2006\n",
    "Aaliyah 91\n",
    "Aaron 57\n",
    "Abagail 895\n",
    "Abbey 695\n",
    "Abbie 650\n",
    "...\n",
    "\n"
   ]
  },
  {
   "cell_type": "markdown",
   "id": "anonymous-istanbul",
   "metadata": {},
   "source": [
    "## Part B\n",
    "\n",
    "Suppose instead of printing the text to standard out, we want to write files containing the text. If the flag --summaryfile is present, do the following: for each input file 'foo.html', instead of printing to standard output, write a new file 'foo.html.summary' that contains the summary text for that file.\n",
    "\n",
    "Once the --summaryfile feature is working, run the program on all the files using * like this: \"./babynames.py --summaryfile baby*.html\". This generates all the summaries in one step. (The standard behavior of the shell is that it expands the \"baby*.html\" pattern into the list of matching filenames, and then the shell runs babynames.py, passing in all those filenames in the sys.argv list.)\n",
    "\n",
    "With the data organized into summary files, you can see patterns over time with shell commands, like this:\n",
    "```\n",
    "$ grep 'Trinity ' *.summary\n",
    "$ grep 'Nick ' *.summary\n",
    "$ grep 'Miguel ' *.summary\n",
    "$ grep 'Emily ' *.summary\n",
    "```"
   ]
  }
 ],
 "metadata": {
  "kernelspec": {
   "display_name": "Python 3",
   "language": "python",
   "name": "python3"
  },
  "language_info": {
   "codemirror_mode": {
    "name": "ipython",
    "version": 3
   },
   "file_extension": ".py",
   "mimetype": "text/x-python",
   "name": "python",
   "nbconvert_exporter": "python",
   "pygments_lexer": "ipython3",
   "version": "3.7.2"
  }
 },
 "nbformat": 4,
 "nbformat_minor": 5
}
