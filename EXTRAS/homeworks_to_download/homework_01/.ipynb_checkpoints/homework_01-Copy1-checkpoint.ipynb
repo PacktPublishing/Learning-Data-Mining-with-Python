{
 "cells": [
  {
   "cell_type": "markdown",
   "id": "mexican-research",
   "metadata": {
    "cell_id": "06205b76fb43436884971742351770df",
    "deepnote_cell_height": 70,
    "deepnote_cell_type": "markdown",
    "tags": []
   },
   "source": [
    "## Ejercicio:"
   ]
  },
  {
   "cell_type": "markdown",
   "id": "massive-membership",
   "metadata": {
    "cell_id": "69fd5a36-7dac-4867-a95a-bb6de515b2d6",
    "deepnote_cell_height": 74.80000305175781,
    "deepnote_cell_type": "markdown"
   },
   "source": [
    "Desde esta web (https://www.gutenberg.org/browse/scores/top) descarga el libro de Adventures of Huckleberry Finn, by Mark Twain (en formato TXT)"
   ]
  },
  {
   "cell_type": "markdown",
   "id": "olympic-young",
   "metadata": {},
   "source": [
    "Ejemplot de descargar un libro:"
   ]
  },
  {
   "cell_type": "code",
   "execution_count": 1,
   "id": "coral-crazy",
   "metadata": {},
   "outputs": [
    {
     "name": "stdout",
     "output_type": "stream",
     "text": [
      "<class 'str'>\n"
     ]
    }
   ],
   "source": [
    "from urllib.request import urlopen\n",
    "contents = urlopen(\"https://www.gutenberg.org/files/11/11-0.txt\").read().decode('utf-8')\n",
    "print(type(contents))"
   ]
  },
  {
   "cell_type": "markdown",
   "id": "statutory-bruce",
   "metadata": {
    "cell_id": "e6ffd77e8b7c42e28f4c8495d417c53e",
    "deepnote_cell_height": 74.80000305175781,
    "deepnote_cell_type": "markdown",
    "tags": []
   },
   "source": [
    "a) Analice el libro contando la aparición de tres nombres de personajes principales: Jim, Tom, Huck a través de los capítulos del libro."
   ]
  },
  {
   "cell_type": "markdown",
   "id": "pharmaceutical-optimum",
   "metadata": {
    "cell_id": "00001-9f51208c-2390-4562-b4e4-fad9f42485bc",
    "deepnote_cell_height": 74.80000305175781,
    "deepnote_cell_type": "markdown"
   },
   "source": [
    "b) Guarde sus resultados en un formato Pandas DataFrame para que se vea de la siguiente manera:"
   ]
  },
  {
   "cell_type": "code",
   "execution_count": null,
   "id": "qualified-gardening",
   "metadata": {
    "cell_id": "b09705910af34adfaed15c86c50917fe",
    "deepnote_cell_height": 292,
    "deepnote_cell_type": "code",
    "deepnote_output_heights": [
     141
    ],
    "deepnote_to_be_reexecuted": false,
    "execution_millis": 3153,
    "execution_start": 1653942075885,
    "owner_user_id": "10217cb7-e807-45af-be75-488a79b03a41",
    "source_hash": "2f830a89",
    "tags": []
   },
   "outputs": [
    {
     "data": {
      "image/png": "[encoded data removed]",
      "text/plain": [
       "<Figure size 720x720 with 1 Axes>"
      ]
     },
     "metadata": {
      "image/png": {
       "height": 139,
       "width": 572
      },
      "needs_background": "light"
     },
     "output_type": "display_data"
    }
   ],
   "source": [
    "import matplotlib.pyplot as plt\n",
    "fig,ax=plt.subplots(1,1,figsize=(10,10))\n",
    "ax.imshow(plt.imread('imgs/characters_table.png'))\n",
    "ax.set_axis_off()"
   ]
  },
  {
   "cell_type": "markdown",
   "id": "entire-flood",
   "metadata": {
    "cell_id": "00002-5994f64f-3480-41c8-b355-e876f1a6c1e3",
    "deepnote_cell_height": 52.399993896484375,
    "deepnote_cell_type": "markdown"
   },
   "source": [
    "c) Exporte la tabla a un archivo CSV."
   ]
  },
  {
   "cell_type": "markdown",
   "id": "second-going",
   "metadata": {
    "cell_id": "00003-186a884d-066e-47b1-9225-b1c361e03d01",
    "deepnote_cell_height": 74.80000305175781,
    "deepnote_cell_type": "markdown"
   },
   "source": [
    "d) Importe el archivo CSV guardado usando Pandas y haga un gráfico de la ocurrencia acumulada (cumsum) de los caracteres."
   ]
  },
  {
   "cell_type": "markdown",
   "id": "reserved-extra",
   "metadata": {
    "cell_id": "8837e2b77e294562845397ea75f73d6d",
    "deepnote_cell_height": 296.1000061035156,
    "deepnote_cell_type": "markdown",
    "tags": []
   },
   "source": [
    "#### Pistas:\n",
    "\n",
    "* para obtener la suma acumulada a través de los capítulos, puede usar `np.cumsum()` por ejemplo: \n",
    "\n"
   ]
  },
  {
   "cell_type": "code",
   "execution_count": null,
   "id": "forty-legend",
   "metadata": {
    "cell_id": "fe386e50a40c40748090875c08a8069d",
    "deepnote_cell_height": 135,
    "deepnote_cell_type": "code",
    "deepnote_to_be_reexecuted": false,
    "execution_millis": 13,
    "execution_start": 1653942078945,
    "source_hash": "8221f0e9",
    "tags": []
   },
   "outputs": [],
   "source": [
    "tom_capitulos_lista=[15,12,14,17,19]\n",
    "import numpy as np\n",
    "tom_capitulos_numpy=np.array(tom_capitulos_lista)\n",
    "tom_capitulos_cumsum=np.cumsum(tom_capitulos_numpy)"
   ]
  },
  {
   "cell_type": "code",
   "execution_count": null,
   "id": "composite-howard",
   "metadata": {
    "cell_id": "938659c75c5246eda688f40dc4c9453e",
    "deepnote_cell_height": 150.39999389648438,
    "deepnote_cell_type": "code",
    "deepnote_to_be_reexecuted": false,
    "execution_millis": 80,
    "execution_start": 1653942078974,
    "source_hash": "2414421f",
    "tags": []
   },
   "outputs": [
    {
     "name": "stdout",
     "output_type": "stream",
     "text": [
      "[15, 12, 14, 17, 19]\n",
      "[15 27 41 58 77]\n"
     ]
    }
   ],
   "source": [
    "print(tom_capitulos_lista)\n",
    "print(tom_capitulos_cumsum)"
   ]
  },
  {
   "cell_type": "markdown",
   "id": "painful-contents",
   "metadata": {
    "cell_id": "9c32998e385d40a2aaced12c7e90df2a",
    "deepnote_cell_height": 133.1999969482422,
    "deepnote_cell_type": "markdown",
    "tags": []
   },
   "source": [
    "#### Comentario:\n",
    "\n",
    "En este ejercicio no es importante encontrar el número exacto de ocurrencias de los personajes a traves de los capitulos. Lo importante es practicar un buen análisis del problema, guardar y cargar los resultados a través de CSV y visualizar los resultados mediante gráficos.\n"
   ]
  }
 ],
 "metadata": {
  "deepnote": {},
  "deepnote_execution_queue": [],
  "deepnote_notebook_id": "18a1e7e8-b514-460f-8688-fbdd1bc586ac",
  "kernelspec": {
   "display_name": "Python 3",
   "language": "python",
   "name": "python3"
  },
  "language_info": {
   "codemirror_mode": {
    "name": "ipython",
    "version": 3
   },
   "file_extension": ".py",
   "mimetype": "text/x-python",
   "name": "python",
   "nbconvert_exporter": "python",
   "pygments_lexer": "ipython3",
   "version": "3.7.2"
  }
 },
 "nbformat": 4,
 "nbformat_minor": 5
}
