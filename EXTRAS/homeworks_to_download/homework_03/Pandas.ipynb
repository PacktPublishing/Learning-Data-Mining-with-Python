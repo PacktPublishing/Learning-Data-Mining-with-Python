{
 "cells": [
  {
   "cell_type": "markdown",
   "id": "posted-heavy",
   "metadata": {
    "cell_id": "0a3adf0d-9726-4f5b-9391-90885ce6075f",
    "deepnote_cell_height": 160.23333740234375,
    "deepnote_cell_type": "markdown"
   },
   "source": [
    "#  Análisis exploratorio de datos\n",
    "# Ejercicio I:"
   ]
  },
  {
   "cell_type": "markdown",
   "id": "respiratory-nation",
   "metadata": {
    "cell_id": "00001-33dc8fde-e701-4272-9238-9b981332b881",
    "deepnote_cell_height": 119.83332824707031,
    "deepnote_cell_type": "markdown"
   },
   "source": [
    "Imagine que una nueva compañía de automóviles quiere producir su primer automóvil, es importante que el carro sea ecológico y económico, pero también fuerte y cómodo. La compañía quiere predecir qué emisión de CO2 y consumo de combustible pueden esperarse para un automóvil con un tamaño de motor dado, número de cilindros, transmisión, entre otros parámetros."
   ]
  },
  {
   "cell_type": "markdown",
   "id": "equivalent-congo",
   "metadata": {
    "cell_id": "00002-0a8dd18b-4923-43d4-abb4-797fa6dea305",
    "deepnote_cell_height": 75.03334045410156,
    "deepnote_cell_type": "markdown"
   },
   "source": [
    "Antes de aplicar la regresión, los gerentes quieren ver el informe sobre los datos que se utilizarán para entrenar el algoritmo de aprendizaje automático; además, quieren saber qué tecnología utilizar (americana, europea o asiática). "
   ]
  },
  {
   "cell_type": "markdown",
   "id": "found-department",
   "metadata": {
    "cell_id": "00003-1161388b-36a3-4397-a10f-3e28a67fb579",
    "deepnote_cell_height": 133.8333282470703,
    "deepnote_cell_type": "markdown"
   },
   "source": [
    "Recuerde, ¡el elemento más importante de la ciencia de datos es... PENSAR! \n",
    "\n",
    "Este ejercicio debe permitirle sentirse cómodo con la herramienta de manipulación de datos: Pandas. Luego PIENSE, qué otra información sería interesante extraer del conjunto de datos, qué otros datos desea tener para que el análisis sea más completo."
   ]
  },
  {
   "cell_type": "markdown",
   "id": "willing-baseball",
   "metadata": {
    "cell_id": "00004-46a646d4-00ec-4d3d-94f0-ec97fa50f696",
    "deepnote_cell_height": 140.96665954589844,
    "deepnote_cell_type": "markdown"
   },
   "source": [
    "* https://raw.githubusercontent.com/mhemmg/datasets/master/car_emission/cars_CO2_emissions_D.csv - contiene las marcas y parámetros del automóvil.\n",
    "* https://raw.githubusercontent.com/mhemmg/datasets/master/car_emission/car_brands_countries.csv - contiene las marcas de automóviles y el coutry (continente) de origen."
   ]
  },
  {
   "cell_type": "markdown",
   "id": "formal-liabilities",
   "metadata": {
    "cell_id": "57078c99caac4d0b85f72f47bb1f060c",
    "deepnote_cell_height": 874.2333374023438,
    "deepnote_cell_type": "markdown",
    "tags": []
   },
   "source": [
    "#### Detalles del conjunto de datos\n",
    "\n",
    "Este conjunto de datos captura los detalles de cómo las emisiones de CO2 de un vehículo pueden variar con las diferentes características. El conjunto de datos se tomó del sitio web oficial de datos abiertos del gobierno de Canadá, esta es una versión compilada y contiene datos de un período de 7 años.\n",
    "\n",
    "Hay un total de 7385 filas y 12 columnas, además se han utilizado pocas abreviaturas para describir las características. A continuación se enumeran; no obstante, la misma información se encuentra en la hoja de Descripción de Datos.\n",
    "\n",
    "```\n",
    "\n",
    "1. Model :\n",
    "4WD/4X4 = Four-wheel drive\n",
    "AWD = All-wheel drive\n",
    "FFV = Flexible-fuel vehicle\n",
    "SWB = Short wheelbase\n",
    "LWB = Long wheelbase\n",
    "EWB = Extended wheelbase\n",
    "\n",
    "2. Transmission :\n",
    "A = automatic\n",
    "AM = automated manual\n",
    "AS = automatic with select shift\n",
    "AV = continuously variable\n",
    "M = manual\n",
    "3-10 = number of gears\n",
    "\n",
    "3. Fuel type :\n",
    "X = regular gasoline\n",
    "Z = premium gasoline\n",
    "D = diesel\n",
    "E = ethanol (E85)\n",
    "N = natural gas\n",
    "\n",
    "4. Fuel consumption :\n",
    "City and highway fuel consumption ratings are shown in litres per 100 kilometres (L/100 km) - the combined rating (55% city, 45% hwy) is shown in L/100 km and in miles per imperial gallon (mpg)\n",
    "\n",
    "5. Estimated tailpipe carbon dioxide emission in grams/km\n",
    "```\n",
    "\n",
    "Los datos han sido tomados y compilados de este enlace oficial del Gobierno de Canadá:\n",
    "https://open.canada.ca/data/en/dataset/98f1a129-f628-4ce4-b24d-6f16bf24dd64#wb-auto-6"
   ]
  },
  {
   "cell_type": "markdown",
   "id": "virgin-seating",
   "metadata": {
    "cell_id": "00005-de253c9a-9e73-4192-a578-b3437d134f58",
    "deepnote_cell_height": 327.0333251953125,
    "deepnote_cell_type": "markdown"
   },
   "source": [
    "## 1. Carga y limpieza de los datos\n",
    "\n",
    "a) Complete el conjunto de datos de la emisión de CO2 del automóvil con los datos sobre el origen de las marcas.\n",
    "\n",
    "b) Del conjunto de datos dado imprima las primeras y las últimas diez filas.  \n",
    "\n",
    "c) Muestre todos los nombres de las columnas del conjunto de datos.\n",
    "\n",
    "d) Cuente el número de columnas y el número de filas.  \n",
    "\n",
    "e) Reemplace todos los valores de columna que contengan \"?\" o valores vacíos con valores NaN.\n",
    "\n",
    "f) Cuente las entradas de valores NaN y elimine las filas con NaN.\n",
    "\n",
    "g) Cuente las filas repetidas y elimínelas."
   ]
  },
  {
   "cell_type": "markdown",
   "id": "direct-organ",
   "metadata": {
    "cell_id": "00006-292a7ef0-2cba-47eb-8a2d-c42a65a366d9",
    "deepnote_cell_height": 293.433349609375,
    "deepnote_cell_type": "markdown"
   },
   "source": [
    "## 2. Adición y cambio de las características \n",
    "\n",
    "a) Cambie los nombres de la gasolina ('Fuel Type') a nombres más significativos (X = gasolina regular, Z = gasolina premium, D = diesel, E = etanol (E85), N = gas natural).\n",
    "\n",
    "b) Cree una nueva columna llamada 'Automatic / Manual' donde solo aparecerán valores de cadenas: A y M (extraiga dichos valores de la columna 'Transmission').\n",
    "\n",
    "c) Cree una nueva columna llamada ' A / M digital' donde solo aparecerán valores numéricos: 1 / 0. Los valores enteros 1 y 0 serán valores correspondientes al carro con transmision automática o manual (tener una columna con el valor digital de la transmisión puede ser útil al realizar la regresión, porque la regresión usando scikit-learn funciona solo con valores numéricos)."
   ]
  },
  {
   "cell_type": "markdown",
   "id": "visible-nickname",
   "metadata": {
    "cell_id": "00007-6f44023b-4806-48a2-bcef-e5dbbd63114d",
    "deepnote_cell_height": 327.0333251953125,
    "deepnote_cell_type": "markdown",
    "owner_user_id": "10217cb7-e807-45af-be75-488a79b03a41"
   },
   "source": [
    "## 3. Extracción de información\n",
    "\n",
    "a) Cuente cuántas marcas de automóviles (\"Make\") están en el conjunto de datos.   \n",
    "\n",
    "b) Cuente el total de carros por marca y muestre las primeras diez marcas más comunes.  \n",
    "\n",
    "c) Cuente el total de carros por marca y muestre las primeras diez marcas menos comunes.  \n",
    "\n",
    "d) Muestre la fila entera para un coche con la menor emisión de CO2.  \n",
    "\n",
    "e) Muestre la fila entera para un coche con la mayor emisión de CO2.  \n",
    "\n",
    "f) Encuentre la emisión media de C02 por marca.  \n",
    "\n",
    "g) Encuentre la emisión media de C02 por continente.  "
   ]
  },
  {
   "cell_type": "markdown",
   "id": "systematic-junior",
   "metadata": {
    "cell_id": "00008-2c5e3a5e-c203-4565-8e49-310479fd606f",
    "deepnote_cell_height": 380.23333740234375,
    "deepnote_cell_type": "markdown"
   },
   "source": [
    "## 4. Trazado\n",
    "a) Realice un 'boxplot' (diagrama de caja) comparando la emisión de los carros por continentes: América, Europa, Asia (añadir línea media para comparación).   \n",
    "\n",
    "b) Realice  un 'boxplot' (diagrama de caja) comparando la emisión de los carros por transmisión (dos grupos: manual y automática. Añadir línea media para comparación).  \n",
    "\n",
    "c) Realice un 'boxplot' (diagrama de caja) comparando la emisión de los carros por tipo de combustible (añadir línea media para comparación).  \n",
    "\n",
    "d) Realice  un 'countplot' de conteo de automóviles con transmisión manual y automática (solo dos grupos). \n",
    "\n",
    "e) Realice un 'barplot' de una emisión promedio de CO2 por marca de automóvil (de menor a mayor). \n",
    "\n",
    "f) Ordene el conjunto de datos por marca y emisión de CO2 y guárdelo en el archivo CSV (preferiblemente sin guardar el número de índice)."
   ]
  },
  {
   "cell_type": "markdown",
   "id": "associate-jewel",
   "metadata": {
    "cell_id": "aa163fab5397453b857f6a68d2a5611f",
    "deepnote_cell_height": 380.23333740234375,
    "deepnote_cell_type": "markdown",
    "tags": []
   },
   "source": [
    "# Ejercicio II: utilice este gran conjunto de datos históricos sobre los Juegos Olímpicos modernos, incluidos todos los Juegos desde Atenas 1896 hasta Río 2016.\n",
    " \n",
    "https://raw.githubusercontent.com/mhemmg/datasets/master/sport/athlete_events.csv \n",
    "\n",
    "## 1. Mirando un deporte particular: remo - rowing, ver si la edad de las medallistas de oro femeninas está aumentando o disminuyendo a través de los tiempos. Realize un plot para muestrar la tendencia (si hay una)\n"
   ]
  },
  {
   "cell_type": "markdown",
   "id": "illegal-prototype",
   "metadata": {},
   "source": [
    "## 2. Sea creativo y extrae algunas informaciones interesantes de este conjunto."
   ]
  }
 ],
 "metadata": {
  "deepnote": {},
  "deepnote_execution_queue": [],
  "deepnote_notebook_id": "9ecd336a-a79d-4c92-a45c-a500d4928441",
  "kernelspec": {
   "display_name": "Python 3 (ipykernel)",
   "language": "python",
   "name": "python3"
  },
  "language_info": {
   "codemirror_mode": {
    "name": "ipython",
    "version": 3
   },
   "file_extension": ".py",
   "mimetype": "text/x-python",
   "name": "python",
   "nbconvert_exporter": "python",
   "pygments_lexer": "ipython3",
   "version": "3.8.10"
  }
 },
 "nbformat": 4,
 "nbformat_minor": 5
}
