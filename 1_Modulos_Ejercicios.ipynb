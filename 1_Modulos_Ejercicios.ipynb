{
 "cells": [
  {
   "cell_type": "markdown",
   "id": "norwegian-standard",
   "metadata": {},
   "source": [
    "# Ejercicios sobre Modulos\n",
    "\n",
    "Utilizando documentación de libreria `datetime` (https://docs.python.org/3/library/datetime.html) construir una función `name_day(yyyy,mm,dd)` que para dado ano, mes y dia (formato: yyyy,mm,dd) devuelve una cadena con el nombre del dia de la semana.\n",
    "\n",
    "*pista: para devolver el nombre de la semana en español, uno puede usar la condición \"if\" múltiple o, más elegantemente, crear dos listas con nombres de la semana en inglés y español y usar metodo `find` con indexacion."
   ]
  },
  {
   "cell_type": "markdown",
   "id": "advance-humidity",
   "metadata": {},
   "source": [
    "#### Por ejemplo:\n",
    "`name_day(1969,1,30)` tiene que devolver: `Jueves`\n",
    "\n",
    "`name_day(2023,10,20)` tiene que devolver: `Viernes`"
   ]
  },
  {
   "cell_type": "markdown",
   "id": "laden-fighter",
   "metadata": {},
   "source": [
    "# Reto\n",
    "Utilizando documentación de libreria `datetime` (https://docs.python.org/3/library/datetime.html) construir una función `name_day2(fecha)` que recibe una cadena con fecha en formato: `fecha='yyyy-mm-dd'` y devuelve una cadena con nombre del dia (en Espanol) que corresponde a esa fecha. "
   ]
  },
  {
   "cell_type": "markdown",
   "id": "general-airfare",
   "metadata": {},
   "source": [
    "#### Por ejemplo:\n",
    "`fecha='1969-01-30'`  \n",
    "`name_day2(fecha)` tiene que devolver: `Jueves`\n",
    "\n",
    "`fecha='2023-10-20'`  \n",
    "`name_day2(fecha)` tiene que devolver: `Viernes`"
   ]
  }
 ],
 "metadata": {
  "kernelspec": {
   "display_name": "Python 3",
   "language": "python",
   "name": "python3"
  },
  "language_info": {
   "codemirror_mode": {
    "name": "ipython",
    "version": 3
   },
   "file_extension": ".py",
   "mimetype": "text/x-python",
   "name": "python",
   "nbconvert_exporter": "python",
   "pygments_lexer": "ipython3",
   "version": "3.7.2"
  }
 },
 "nbformat": 4,
 "nbformat_minor": 5
}
